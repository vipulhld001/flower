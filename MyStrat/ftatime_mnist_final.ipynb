{
  "cells": [
    {
      "cell_type": "code",
      "execution_count": null,
      "metadata": {
        "colab": {
          "base_uri": "https://localhost:8080/"
        },
        "id": "OZdR1WXDEGxY",
        "outputId": "34c4f998-2ca0-4252-e4f7-424c286a9224"
      },
      "outputs": [],
      "source": [
        "!pip install -U flwr[\"simulation\"]==1.9.0 torch torchvision GPUtil"
      ]
    },
    {
      "cell_type": "code",
      "execution_count": 1,
      "metadata": {
        "colab": {
          "base_uri": "https://localhost:8080/"
        },
        "id": "obhFyleoEM9F",
        "outputId": "99c58edc-bb25-469f-b692-769941f695ce"
      },
      "outputs": [
        {
          "name": "stdout",
          "output_type": "stream",
          "text": [
            "Training on cuda using PyTorch 2.3.1 and Flower 1.9.0\n"
          ]
        }
      ],
      "source": [
        "from collections import OrderedDict\n",
        "from typing import Dict, List, Optional, Tuple, NamedTuple\n",
        "\n",
        "import numpy as np\n",
        "import torch\n",
        "import torch.nn as nn\n",
        "import torch.nn.functional as F\n",
        "import torchvision.transforms as transforms\n",
        "from torch.utils.data import DataLoader, random_split\n",
        "from torchvision.datasets import MNIST\n",
        "import time\n",
        "import flwr as fl\n",
        "from scipy import stats as st\n",
        "import json\n",
        "\n",
        "DEVICE = torch.device(\"cuda\")  # Try \"cuda\" to train on GPU\n",
        "print(\n",
        "    f\"Training on {DEVICE} using PyTorch {torch.__version__} and Flower {fl.__version__}\"\n",
        ")"
      ]
    },
    {
      "cell_type": "code",
      "execution_count": 2,
      "metadata": {},
      "outputs": [],
      "source": [
        "from logging import INFO, DEBUG\n",
        "from flwr.common.logger import log"
      ]
    },
    {
      "cell_type": "code",
      "execution_count": 3,
      "metadata": {},
      "outputs": [
        {
          "name": "stdout",
          "output_type": "stream",
          "text": [
            "Gen RAM Free: 118.8 GB  | Proc size: 514.5 MB\n",
            "GPU RAM Free: 15364MB | Used: 806MB | Util   5% | Total 16376MB\n"
          ]
        }
      ],
      "source": [
        "import psutil\n",
        "import humanize\n",
        "import os\n",
        "import GPUtil as GPU\n",
        "GPUs = GPU.getGPUs()\n",
        "# XXX: only one GPU on Colab and isn’t guaranteed\n",
        "gpu = GPUs[0]\n",
        "def printm():\n",
        "   process = psutil.Process(os.getpid())\n",
        "   print(\"Gen RAM Free: \" + humanize.naturalsize( psutil.virtual_memory().available ), \" | Proc size: \" + humanize.naturalsize( process.memory_info().rss))\n",
        "   print(\"GPU RAM Free: {0:.0f}MB | Used: {1:.0f}MB | Util {2:3.0f}% | Total {3:.0f}MB\".format(gpu.memoryFree, gpu.memoryUsed, gpu.memoryUtil*100, gpu.memoryTotal))\n",
        "printm()"
      ]
    },
    {
      "cell_type": "code",
      "execution_count": 4,
      "metadata": {
        "colab": {
          "base_uri": "https://localhost:8080/"
        },
        "id": "T2L0M1hDEQ54",
        "outputId": "d7c63f7f-13e7-4f97-ff2d-97443878fa29"
      },
      "outputs": [],
      "source": [
        "NUM_CLIENTS = 10\n",
        "\n",
        "\n",
        "def load_datasets(num_clients: int):\n",
        "    # Download and transform CIFAR-10 (train and test)\n",
        "    transform = transforms.Compose(\n",
        "        [transforms.ToTensor(), transforms.Normalize((0.5,), (0.5, ))]\n",
        "    )\n",
        "    trainset = MNIST(\"./dataset\", train=True, download=True, transform=transform)\n",
        "    testset = MNIST(\"./dataset\", train=False, download=True, transform=transform)\n",
        "\n",
        "    # Split training set into `num_clients` partitions to simulate different local datasets\n",
        "    partition_size = len(trainset) // num_clients\n",
        "    lengths = [partition_size] * num_clients\n",
        "    datasets = random_split(trainset, lengths, torch.Generator().manual_seed(42))\n",
        "\n",
        "    # Split each partition into train/val and create DataLoader\n",
        "    trainloaders = []\n",
        "    valloaders = []\n",
        "    for ds in datasets:\n",
        "        len_val = len(ds) // 10  # 10 % validation set\n",
        "        len_train = len(ds) - len_val\n",
        "        lengths = [len_train, len_val]\n",
        "        ds_train, ds_val = random_split(ds, lengths, torch.Generator().manual_seed(42))\n",
        "        trainloaders.append(DataLoader(ds_train, batch_size=32, shuffle=True))\n",
        "        valloaders.append(DataLoader(ds_val, batch_size=32))\n",
        "    testloader = DataLoader(testset, batch_size=32)\n",
        "    return trainloaders, valloaders, testloader\n",
        "\n",
        "\n",
        "trainloaders, valloaders, testloader = load_datasets(NUM_CLIENTS)"
      ]
    },
    {
      "cell_type": "code",
      "execution_count": 12,
      "metadata": {
        "id": "4q9gZPKEEVZ0"
      },
      "outputs": [],
      "source": [
        "class Net(nn.Module):\n",
        "    def __init__(self) -> None:\n",
        "        super(Net, self).__init__()\n",
        "        self.conv1 = nn.Conv2d(1, 6, 5)\n",
        "        self.pool = nn.MaxPool2d(2, 2)\n",
        "        self.conv2 = nn.Conv2d(6, 16, 5)\n",
        "        self.fc1 = nn.Linear(16 * 4 * 4, 120)\n",
        "        self.fc2 = nn.Linear(120, 84)\n",
        "        self.fc3 = nn.Linear(84, 10)\n",
        "\n",
        "    def forward(self, x: torch.Tensor) -> torch.Tensor:\n",
        "        x = self.pool(F.relu(self.conv1(x)))\n",
        "        x = self.pool(F.relu(self.conv2(x)))\n",
        "        x = x.view(-1, 16 * 4 * 4)\n",
        "        x = F.relu(self.fc1(x))\n",
        "        x = F.relu(self.fc2(x))\n",
        "        x = self.fc3(x)\n",
        "        return x\n",
        "\n",
        "\n",
        "def get_parameters(net) -> List[np.ndarray]:\n",
        "    return [val.cpu().numpy() for _, val in net.state_dict().items()]\n",
        "\n",
        "\n",
        "def set_parameters(net, parameters: List[np.ndarray]):\n",
        "    params_dict = zip(net.state_dict().keys(), parameters)\n",
        "    state_dict = OrderedDict({k: torch.Tensor(v) for k, v in params_dict})\n",
        "    net.load_state_dict(state_dict, strict=True)\n",
        "\n",
        "\n",
        "class ClientMetrics(NamedTuple):\n",
        "    epoch: int\n",
        "    loss: float\n",
        "    accuracy: float\n",
        "    round: int = 0\n",
        "    cid: int = 0\n",
        "\n",
        "def train(net, trainloader, epochs: int):\n",
        "    \"\"\"Train the network on the training set.\"\"\"\n",
        "    criterion = torch.nn.CrossEntropyLoss()\n",
        "    optimizer = torch.optim.Adam(net.parameters())\n",
        "    net.train()\n",
        "    metrics = []\n",
        "    for epoch in range(epochs):  # Use the passed 'epochs' variable here\n",
        "        correct, total, epoch_loss = 0, 0, 0.0\n",
        "        for images, labels in trainloader:\n",
        "            images, labels = images.to(DEVICE), labels.to(DEVICE)\n",
        "            optimizer.zero_grad()\n",
        "            outputs = net(images)\n",
        "            loss = criterion(outputs, labels)\n",
        "            loss.backward()\n",
        "            optimizer.step()\n",
        "            # Metrics\n",
        "            epoch_loss += loss.item()  # Make sure to call .item() to get the scalar value\n",
        "            total += labels.size(0)\n",
        "            correct += (torch.max(outputs.data, 1)[1] == labels).sum().item()\n",
        "        epoch_loss /= len(trainloader.dataset)\n",
        "        epoch_acc = correct / total\n",
        "        metrics.append(ClientMetrics(epoch, epoch_loss, epoch_acc))\n",
        "        print(f\"Epoch {epoch}: train loss {epoch_loss:.6f}, accuracy {epoch_acc:.6f}\")\n",
        "    return metrics\n",
        "\n",
        "\n",
        "def test(net, testloader):\n",
        "    \"\"\"Evaluate the network on the entire test set.\"\"\"\n",
        "    criterion = torch.nn.CrossEntropyLoss()\n",
        "    correct, total, loss = 0, 0, 0.0\n",
        "    net.eval()\n",
        "    with torch.no_grad():\n",
        "        for images, labels in testloader:\n",
        "            images, labels = images.to(DEVICE), labels.to(DEVICE)\n",
        "            outputs = net(images)\n",
        "            loss += criterion(outputs, labels).item()\n",
        "            _, predicted = torch.max(outputs.data, 1)\n",
        "            total += labels.size(0)\n",
        "            correct += (predicted == labels).sum().item()\n",
        "    loss /= len(testloader.dataset)\n",
        "    accuracy = correct / total\n",
        "    return loss, accuracy"
      ]
    },
    {
      "cell_type": "code",
      "execution_count": 13,
      "metadata": {
        "id": "DpDR8IdSEX0E"
      },
      "outputs": [],
      "source": [
        "class FlowerClient(fl.client.NumPyClient):\n",
        "    def __init__(self, cid, net, trainloader, valloader):\n",
        "        self.cid = cid\n",
        "        self.net = net\n",
        "        self.trainloader = trainloader\n",
        "        self.valloader = valloader\n",
        "\n",
        "    def get_parameters(self):\n",
        "        print(f\"[Client {self.cid}] get_parameters\")\n",
        "        return get_parameters(self.net)\n",
        "\n",
        "    def fit(self, parameters, config):\n",
        "        print(f\"[Client {self.cid}] fit, config: {config}\")\n",
        "        set_parameters(self.net, parameters)\n",
        "        epochs = config.get(\"epochs\", 1)\n",
        "        start_time = time.time()  # Start time measurement\n",
        "        metrics = train(self.net, self.trainloader, epochs)\n",
        "        training_time = time.time() - start_time  # Calculate duration\n",
        "        print(f\"Training time for Client {self.cid}: {training_time:.2f} seconds\")\n",
        "        \n",
        "        return get_parameters(self.net), len(self.trainloader), {\"training_time\": training_time, \"metrics\": json.dumps(metrics)}\n",
        "\n",
        "\n",
        "\n",
        "    def evaluate(self, parameters, config):\n",
        "        print(f\"[Client {self.cid}] evaluate, config: {config}\")\n",
        "        set_parameters(self.net, parameters)\n",
        "        loss, accuracy = test(self.net, self.valloader)\n",
        "        return float(loss), len(self.valloader), {\"accuracy\": float(accuracy)}\n",
        "\n",
        "\n",
        "def client_fn(cid) -> FlowerClient:\n",
        "    net = Net().to(DEVICE)\n",
        "    trainloader = trainloaders[int(cid)]\n",
        "    valloader = valloaders[int(cid)]\n",
        "    return FlowerClient(cid, net, trainloader, valloader).to_client()"
      ]
    },
    {
      "cell_type": "code",
      "execution_count": 14,
      "metadata": {
        "id": "mSYL7mrZE21l"
      },
      "outputs": [],
      "source": [
        "from typing import Callable, Union\n",
        "\n",
        "from flwr.common import (\n",
        "    EvaluateIns,\n",
        "    EvaluateRes,\n",
        "    FitIns,\n",
        "    FitRes,\n",
        "    MetricsAggregationFn,\n",
        "    NDArrays,\n",
        "    Parameters,\n",
        "    Scalar,\n",
        "    ndarrays_to_parameters,\n",
        "    parameters_to_ndarrays,\n",
        ")\n",
        "from flwr.server.client_manager import ClientManager\n",
        "from flwr.server.client_proxy import ClientProxy\n",
        "from flwr.server.strategy.aggregate import aggregate, weighted_loss_avg\n",
        "\n",
        "\n",
        "class FedCustom(fl.server.strategy.Strategy):\n",
        "    def __init__(\n",
        "        self,\n",
        "        fraction_fit: float = 1.0,\n",
        "        fraction_evaluate: float = 1.0,\n",
        "        min_fit_clients: int = 2,\n",
        "        min_evaluate_clients: int = 2,\n",
        "        min_available_clients: int = 2,\n",
        "    ) -> None:\n",
        "        super().__init__()\n",
        "        self.fraction_fit = fraction_fit\n",
        "        self.fraction_evaluate = fraction_evaluate\n",
        "        self.min_fit_clients = min_fit_clients\n",
        "        self.min_evaluate_clients = min_evaluate_clients\n",
        "        self.min_available_clients = min_available_clients\n",
        "        self.client_training_times: Dict[int, List[float]] = {}\n",
        "        self.client_metrics: Dict[int, List[ClientMetrics]] = {}\n",
        "        self.loss_extreme: Dict[int, Tuple[int, float, float]] = {}\n",
        "        self.accuracy_extreme: Dict[int, Tuple[int, float, float]] = {}\n",
        "    def __repr__(self) -> str:\n",
        "        return \"FedCustom\"\n",
        "\n",
        "    def initialize_parameters(\n",
        "        self, client_manager: ClientManager\n",
        "    ) -> Optional[Parameters]:\n",
        "        \"\"\"Initialize global model parameters.\"\"\"\n",
        "        net = Net()\n",
        "        ndarrays = get_parameters(net)\n",
        "        return fl.common.ndarrays_to_parameters(ndarrays)\n",
        "\n",
        "    def configure_fit(self, server_round: int, parameters: Parameters, client_manager: ClientManager):\n",
        "        sample_size, min_num_clients = self.num_fit_clients(client_manager.num_available())\n",
        "        clients = client_manager.sample(num_clients=sample_size, min_num_clients=min_num_clients)\n",
        "        epochs_sc = 10\n",
        "        \n",
        "\n",
        "        standard_config = {\"lr\": 0.001, \"epochs\": epochs_sc}\n",
        "        \n",
        "        fit_configurations = []\n",
        "        mode_time = []\n",
        "        \n",
        "        for client in clients:\n",
        "            last_time = self.client_training_times.get(client.cid, [0,])[-1] # Default to 0 if no time recorded # Yash has changed this as we now save last time of all epochs as key: value - cid: list of times\n",
        "            print(f\"This is ths last time not a fantasy {last_time}and {client.cid}habhhahah\")\n",
        "            \n",
        "            \n",
        "            mode_time.append(round(last_time,2))\n",
        "            print(f\"this is tehb mode time {mode_time}\")\n",
        "           \n",
        "\n",
        "        modest_value = st.mode(np.array(mode_time))\n",
        "        print(f\"Yeh h modest valueueueueu{modest_value}\")\n",
        "        print(f\"yeh h server round {server_round}\")\n",
        "        min_value, max_value= np.min(modest_value),np.max(modest_value)\n",
        "        print(f\"this is the min value {min_value} and this is the max value {max_value}\")\n",
        "      \n",
        "        \n",
        "        if min_value == max_value:\n",
        "            epochs_hl = epochs_sc   \n",
        "        else:\n",
        "            epochs_hl = int(np.floor((max_value-min_value)/max_value * epochs_sc)) \n",
        "\n",
        "        higher_lr_config = {\"lr\": 0.0001, \"epochs\": epochs_hl}\n",
        "        print(f\"The epochs for the higher lr is {epochs_hl} and the epochs for the standard lr is {epochs_sc}\")\n",
        "\n",
        "\n",
        "\n",
        "\n",
        "        for client in clients:\n",
        "            # Choose config based on the previous training time\n",
        "            last_time = self.client_training_times.get(client.cid, [0,])[-1]  # Default to 0 if no time recorded # Yash has changed this as we now save last time of all epochs as key: value - cid: list of times\n",
        "            print(f\"This is the last time {last_time}\")\n",
        "            \n",
        "\n",
        "\n",
        "            config_to_use = standard_config if last_time < modest_value.mode else higher_lr_config\n",
        "            fit_configurations.append((client, FitIns(parameters, config_to_use)))\n",
        "\n",
        "        return fit_configurations\n",
        "    \n",
        "    def parse_metrics(self, cid: int, server_round: int, metrics: str): # this function has been added to parse the metrics from the client\n",
        "        client_data: List[ClientMetrics] = json.loads(metrics)\n",
        "        data_store: List[ClientMetrics] = self.client_metrics.setdefault(cid, [])\n",
        "        last_epoch: int = len(data_store)\n",
        "        for data in client_data:\n",
        "            data_store.append(ClientMetrics(last_epoch, data[1], data[2], round=server_round, cid=cid))\n",
        "            last_epoch += 1\n",
        "\n",
        "    def aggregate_fit(\n",
        "        self,\n",
        "        server_round: int,\n",
        "        results: List[Tuple[ClientProxy, FitRes]],\n",
        "        failures: List[Union[Tuple[ClientProxy, FitRes], BaseException]],\n",
        "    ) -> Tuple[Optional[Parameters], Dict[str, Scalar]]:\n",
        "        \"\"\"Aggregate fit results using weighted average.\"\"\"\n",
        "        for client, fit_res in results:\n",
        "            # Update training times for each client\n",
        "            self.client_training_times.setdefault(client.cid, []).append(fit_res.metrics.get(\"training_time\", 0)) # Yash has changed this as we now save last time of all epochs as key: value - cid: list of times\n",
        "            self.parse_metrics(client.cid,server_round, fit_res.metrics.get(\"metrics\", None))\n",
        "        weights_results = [\n",
        "            (parameters_to_ndarrays(fit_res.parameters), fit_res.num_examples)\n",
        "            for _, fit_res in results\n",
        "        ]\n",
        "        parameters_aggregated = ndarrays_to_parameters(aggregate(weights_results))\n",
        "        metrics_aggregated = {}\n",
        "        return parameters_aggregated, metrics_aggregated\n",
        "\n",
        "\n",
        "    def configure_evaluate(\n",
        "        self, server_round: int, parameters: Parameters, client_manager: ClientManager\n",
        "    ) -> List[Tuple[ClientProxy, EvaluateIns]]:\n",
        "        \"\"\"Configure the next round of evaluation.\"\"\"\n",
        "        if self.fraction_evaluate == 0.0:\n",
        "            return []\n",
        "        config = {}\n",
        "        evaluate_ins = EvaluateIns(parameters, config)\n",
        "\n",
        "        # Sample clients\n",
        "        sample_size, min_num_clients = self.num_evaluation_clients(\n",
        "            client_manager.num_available()\n",
        "        )\n",
        "        clients = client_manager.sample(\n",
        "            num_clients=sample_size, min_num_clients=min_num_clients\n",
        "        )\n",
        "\n",
        "        # Return client/config pairs\n",
        "        return [(client, evaluate_ins) for client in clients]\n",
        "\n",
        "    def aggregate_evaluate(\n",
        "        self,\n",
        "        server_round: int,\n",
        "        results: List[Tuple[ClientProxy, EvaluateRes]],\n",
        "        failures: List[Union[Tuple[ClientProxy, EvaluateRes], BaseException]],\n",
        "    ) -> Tuple[Optional[float], Dict[str, Scalar]]:\n",
        "        \"\"\"Aggregate evaluation losses using weighted average.\"\"\"\n",
        "\n",
        "        if not results:\n",
        "            return None, {}\n",
        "\n",
        "        loss_aggregated = weighted_loss_avg(\n",
        "            [\n",
        "                (evaluate_res.num_examples, evaluate_res.loss)\n",
        "                for _, evaluate_res in results\n",
        "            ]\n",
        "        )\n",
        "        metrics_aggregated = {}\n",
        "        return loss_aggregated, metrics_aggregated\n",
        "\n",
        "    def evaluate(\n",
        "        self, server_round: int, parameters: Parameters\n",
        "    ) -> Optional[Tuple[float, Dict[str, Scalar]]]:\n",
        "        \"\"\"Evaluate global model parameters using an evalua\n",
        "        tion function.\"\"\"\n",
        "\n",
        "        # Let's assume we won't perform the global model evaluation on the server side.\n",
        "        \n",
        "        return None\n",
        "\n",
        "    def num_fit_clients(self, num_available_clients: int) -> Tuple[int, int]:\n",
        "        \"\"\"Return sample size and required number of clients.\"\"\"\n",
        "        num_clients = int(num_available_clients * self.fraction_fit)\n",
        "        return max(num_clients, self.min_fit_clients), self.min_available_clients\n",
        "\n",
        "    def num_evaluation_clients(self, num_available_clients: int) -> Tuple[int, int]:\n",
        "        \"\"\"Use a fraction of available clients for evaluation.\"\"\"\n",
        "        num_clients = int(num_available_clients * self.fraction_evaluate)\n",
        "        return max(num_clients, self.min_evaluate_clients), self.min_available_clients"
      ]
    },
    {
      "cell_type": "code",
      "execution_count": 15,
      "metadata": {},
      "outputs": [],
      "source": [
        "if DEVICE.type == \"cuda\":\n",
        "    # Use a single client to train the global model\n",
        "    client_resources = {\"num_gpus\": .125, \"num_cpus\": 1} "
      ]
    },
    {
      "cell_type": "code",
      "execution_count": 16,
      "metadata": {
        "colab": {
          "base_uri": "https://localhost:8080/"
        },
        "id": "FvJM3bH4HDth",
        "outputId": "a273cb4a-ef0a-40e3-f789-e8f1f37366ce"
      },
      "outputs": [
        {
          "name": "stderr",
          "output_type": "stream",
          "text": [
            "\u001b[92mINFO \u001b[0m:      Starting Flower simulation, config: num_rounds=10, no round_timeout\n",
            "2024-07-25 17:27:57,991\tINFO worker.py:1771 -- Started a local Ray instance.\n",
            "\u001b[92mINFO \u001b[0m:      Flower VCE: Ray initialized with resources: {'node:__internal_head__': 1.0, 'CPU': 32.0, 'memory': 72806533735.0, 'node:127.0.0.1': 1.0, 'object_store_memory': 35488514457.0, 'GPU': 1.0, 'accelerator_type:RTX': 1.0}\n",
            "\u001b[92mINFO \u001b[0m:      Optimize your simulation with Flower VCE: https://flower.ai/docs/framework/how-to-run-simulations.html\n",
            "\u001b[92mINFO \u001b[0m:      Flower VCE: Resources for each Virtual Client: {'num_gpus': 0.125, 'num_cpus': 1}\n",
            "\u001b[92mINFO \u001b[0m:      Flower VCE: Creating VirtualClientEngineActorPool with 8 actors\n",
            "\u001b[92mINFO \u001b[0m:      [INIT]\n",
            "\u001b[92mINFO \u001b[0m:      Using initial global parameters provided by strategy\n",
            "\u001b[92mINFO \u001b[0m:      Evaluating initial global parameters\n",
            "\u001b[92mINFO \u001b[0m:      \n",
            "\u001b[92mINFO \u001b[0m:      [ROUND 1]\n",
            "\u001b[92mINFO \u001b[0m:      configure_fit: strategy sampled 10 clients (out of 10)\n"
          ]
        },
        {
          "name": "stdout",
          "output_type": "stream",
          "text": [
            "This is ths last time not a fantasy 0and 7habhhahah\n",
            "this is tehb mode time [0]\n",
            "This is ths last time not a fantasy 0and 9habhhahah\n",
            "this is tehb mode time [0, 0]\n",
            "This is ths last time not a fantasy 0and 3habhhahah\n",
            "this is tehb mode time [0, 0, 0]\n",
            "This is ths last time not a fantasy 0and 1habhhahah\n",
            "this is tehb mode time [0, 0, 0, 0]\n",
            "This is ths last time not a fantasy 0and 8habhhahah\n",
            "this is tehb mode time [0, 0, 0, 0, 0]\n",
            "This is ths last time not a fantasy 0and 5habhhahah\n",
            "this is tehb mode time [0, 0, 0, 0, 0, 0]\n",
            "This is ths last time not a fantasy 0and 4habhhahah\n",
            "this is tehb mode time [0, 0, 0, 0, 0, 0, 0]\n",
            "This is ths last time not a fantasy 0and 6habhhahah\n",
            "this is tehb mode time [0, 0, 0, 0, 0, 0, 0, 0]\n",
            "This is ths last time not a fantasy 0and 0habhhahah\n",
            "this is tehb mode time [0, 0, 0, 0, 0, 0, 0, 0, 0]\n",
            "This is ths last time not a fantasy 0and 2habhhahah\n",
            "this is tehb mode time [0, 0, 0, 0, 0, 0, 0, 0, 0, 0]\n",
            "Yeh h modest valueueueueuModeResult(mode=0, count=10)\n",
            "yeh h server round 1\n",
            "this is the min value 0 and this is the max value 10\n",
            "The epochs for the higher lr is 10 and the epochs for the standard lr is 10\n",
            "This is the last time 0\n",
            "This is the last time 0\n",
            "This is the last time 0\n",
            "This is the last time 0\n",
            "This is the last time 0\n",
            "This is the last time 0\n",
            "This is the last time 0\n",
            "This is the last time 0\n",
            "This is the last time 0\n",
            "This is the last time 0\n",
            "\u001b[36m(ClientAppActor pid=9116)\u001b[0m [Client 4] fit, config: {'lr': 0.0001, 'epochs': 10}\n",
            "\u001b[36m(ClientAppActor pid=9116)\u001b[0m Epoch 0: train loss 0.028980, accuracy 0.705370\n",
            "\u001b[36m(ClientAppActor pid=37796)\u001b[0m [Client 9] fit, config: {'lr': 0.0001, 'epochs': 10}\u001b[32m [repeated 7x across cluster]\u001b[0m\n",
            "\u001b[36m(ClientAppActor pid=36496)\u001b[0m Epoch 2: train loss 0.005615, accuracy 0.940926\u001b[32m [repeated 17x across cluster]\u001b[0m\n",
            "\u001b[36m(ClientAppActor pid=40336)\u001b[0m Epoch 4: train loss 0.003077, accuracy 0.970926\u001b[32m [repeated 17x across cluster]\u001b[0m\n",
            "\u001b[36m(ClientAppActor pid=37796)\u001b[0m Epoch 6: train loss 0.002096, accuracy 0.979815\u001b[32m [repeated 17x across cluster]\u001b[0m\n",
            "\u001b[36m(ClientAppActor pid=25920)\u001b[0m Epoch 8: train loss 0.001100, accuracy 0.989074\u001b[32m [repeated 18x across cluster]\u001b[0m\n",
            "\u001b[36m(ClientAppActor pid=9116)\u001b[0m Training time for Client 4: 25.46 seconds\n",
            "\u001b[36m(ClientAppActor pid=9116)\u001b[0m [Client 0] fit, config: {'lr': 0.0001, 'epochs': 10}\n",
            "\u001b[36m(ClientAppActor pid=40336)\u001b[0m Epoch 0: train loss 0.029379, accuracy 0.699630\u001b[32m [repeated 12x across cluster]\u001b[0m\n",
            "\u001b[36m(ClientAppActor pid=22836)\u001b[0m Training time for Client 3: 25.79 seconds\u001b[32m [repeated 7x across cluster]\u001b[0m\n",
            "\u001b[36m(ClientAppActor pid=40336)\u001b[0m [Client 2] fit, config: {'lr': 0.0001, 'epochs': 10}\n",
            "\u001b[36m(ClientAppActor pid=9116)\u001b[0m Epoch 2: train loss 0.005749, accuracy 0.942222\u001b[32m [repeated 3x across cluster]\u001b[0m\n",
            "\u001b[36m(ClientAppActor pid=9116)\u001b[0m Epoch 4: train loss 0.003320, accuracy 0.966852\u001b[32m [repeated 4x across cluster]\u001b[0m\n",
            "\u001b[36m(ClientAppActor pid=9116)\u001b[0m Epoch 6: train loss 0.001938, accuracy 0.977593\u001b[32m [repeated 4x across cluster]\u001b[0m\n",
            "\u001b[36m(ClientAppActor pid=9116)\u001b[0m Epoch 8: train loss 0.001183, accuracy 0.986852\u001b[32m [repeated 4x across cluster]\u001b[0m\n"
          ]
        },
        {
          "name": "stderr",
          "output_type": "stream",
          "text": [
            "\u001b[92mINFO \u001b[0m:      aggregate_fit: received 10 results and 0 failures\n",
            "\u001b[92mINFO \u001b[0m:      configure_evaluate: strategy sampled 10 clients (out of 10)\n"
          ]
        },
        {
          "name": "stdout",
          "output_type": "stream",
          "text": [
            "\u001b[36m(ClientAppActor pid=9116)\u001b[0m Training time for Client 0: 28.06 seconds\n",
            "\u001b[36m(ClientAppActor pid=40336)\u001b[0m [Client 9] evaluate, config: {}\n"
          ]
        },
        {
          "name": "stderr",
          "output_type": "stream",
          "text": [
            "\u001b[92mINFO \u001b[0m:      aggregate_evaluate: received 10 results and 0 failures\n",
            "\u001b[92mINFO \u001b[0m:      \n",
            "\u001b[92mINFO \u001b[0m:      [ROUND 2]\n",
            "\u001b[92mINFO \u001b[0m:      configure_fit: strategy sampled 10 clients (out of 10)\n"
          ]
        },
        {
          "name": "stdout",
          "output_type": "stream",
          "text": [
            "This is ths last time not a fantasy 27.969368934631348and 2habhhahah\n",
            "this is tehb mode time [27.97]\n",
            "This is ths last time not a fantasy 25.757352352142334and 6habhhahah\n",
            "this is tehb mode time [27.97, 25.76]\n",
            "This is ths last time not a fantasy 25.890352964401245and 1habhhahah\n",
            "this is tehb mode time [27.97, 25.76, 25.89]\n",
            "This is ths last time not a fantasy 25.563352346420288and 5habhhahah\n",
            "this is tehb mode time [27.97, 25.76, 25.89, 25.56]\n",
            "This is ths last time not a fantasy 25.336349964141846and 9habhhahah\n",
            "this is tehb mode time [27.97, 25.76, 25.89, 25.56, 25.34]\n",
            "This is ths last time not a fantasy 25.482350826263428and 7habhhahah\n",
            "this is tehb mode time [27.97, 25.76, 25.89, 25.56, 25.34, 25.48]\n",
            "This is ths last time not a fantasy 25.594351530075073and 8habhhahah\n",
            "this is tehb mode time [27.97, 25.76, 25.89, 25.56, 25.34, 25.48, 25.59]\n",
            "This is ths last time not a fantasy 28.064367294311523and 0habhhahah\n",
            "this is tehb mode time [27.97, 25.76, 25.89, 25.56, 25.34, 25.48, 25.59, 28.06]\n",
            "This is ths last time not a fantasy 25.794353008270264and 3habhhahah\n",
            "this is tehb mode time [27.97, 25.76, 25.89, 25.56, 25.34, 25.48, 25.59, 28.06, 25.79]\n",
            "This is ths last time not a fantasy 25.46435236930847and 4habhhahah\n",
            "this is tehb mode time [27.97, 25.76, 25.89, 25.56, 25.34, 25.48, 25.59, 28.06, 25.79, 25.46]\n",
            "Yeh h modest valueueueueuModeResult(mode=25.34, count=1)\n",
            "yeh h server round 2\n",
            "this is the min value 1.0 and this is the max value 25.34\n",
            "The epochs for the higher lr is 9 and the epochs for the standard lr is 10\n",
            "This is the last time 27.969368934631348\n",
            "This is the last time 25.757352352142334\n",
            "This is the last time 25.890352964401245\n",
            "This is the last time 25.563352346420288\n",
            "This is the last time 25.336349964141846\n",
            "This is the last time 25.482350826263428\n",
            "This is the last time 25.594351530075073\n",
            "This is the last time 28.064367294311523\n",
            "This is the last time 25.794353008270264\n",
            "This is the last time 25.46435236930847\n",
            "\u001b[36m(ClientAppActor pid=22836)\u001b[0m [Client 2] fit, config: {'lr': 0.0001, 'epochs': 9}\n",
            "\u001b[36m(ClientAppActor pid=40336)\u001b[0m Epoch 9: train loss 0.000880, accuracy 0.990556\u001b[32m [repeated 3x across cluster]\u001b[0m\n",
            "\u001b[36m(ClientAppActor pid=40336)\u001b[0m Training time for Client 2: 27.97 seconds\n",
            "\u001b[36m(ClientAppActor pid=22836)\u001b[0m [Client 8] evaluate, config: {}\u001b[32m [repeated 9x across cluster]\u001b[0m\n",
            "\u001b[36m(ClientAppActor pid=9116)\u001b[0m [Client 0] fit, config: {'lr': 0.0001, 'epochs': 9}\u001b[32m [repeated 7x across cluster]\u001b[0m\n",
            "\u001b[36m(ClientAppActor pid=32752)\u001b[0m Epoch 1: train loss 0.002395, accuracy 0.975926\u001b[32m [repeated 13x across cluster]\u001b[0m\n",
            "\u001b[36m(ClientAppActor pid=9116)\u001b[0m Epoch 3: train loss 0.001267, accuracy 0.985556\u001b[32m [repeated 17x across cluster]\u001b[0m\n",
            "\u001b[36m(ClientAppActor pid=34888)\u001b[0m Epoch 5: train loss 0.000711, accuracy 0.991852\u001b[32m [repeated 17x across cluster]\u001b[0m\n",
            "\u001b[36m(ClientAppActor pid=34888)\u001b[0m Epoch 7: train loss 0.000386, accuracy 0.995926\u001b[32m [repeated 17x across cluster]\u001b[0m\n",
            "\u001b[36m(ClientAppActor pid=22836)\u001b[0m Training time for Client 2: 22.65 seconds\n",
            "\u001b[36m(ClientAppActor pid=22836)\u001b[0m [Client 3] fit, config: {'lr': 0.0001, 'epochs': 9}\n",
            "\u001b[36m(ClientAppActor pid=22836)\u001b[0m Epoch 1: train loss 0.002390, accuracy 0.976481\u001b[32m [repeated 12x across cluster]\u001b[0m\n",
            "\u001b[36m(ClientAppActor pid=32752)\u001b[0m Training time for Client 9: 25.30 seconds\u001b[32m [repeated 7x across cluster]\u001b[0m\n",
            "\u001b[36m(ClientAppActor pid=40336)\u001b[0m [Client 4] fit, config: {'lr': 0.0001, 'epochs': 9}\n",
            "\u001b[36m(ClientAppActor pid=22836)\u001b[0m Epoch 3: train loss 0.001252, accuracy 0.987778\u001b[32m [repeated 4x across cluster]\u001b[0m\n",
            "\u001b[36m(ClientAppActor pid=22836)\u001b[0m Epoch 5: train loss 0.000617, accuracy 0.993889\u001b[32m [repeated 4x across cluster]\u001b[0m\n",
            "\u001b[36m(ClientAppActor pid=22836)\u001b[0m Epoch 7: train loss 0.000684, accuracy 0.993704\u001b[32m [repeated 4x across cluster]\u001b[0m\n"
          ]
        },
        {
          "name": "stderr",
          "output_type": "stream",
          "text": [
            "\u001b[92mINFO \u001b[0m:      aggregate_fit: received 10 results and 0 failures\n"
          ]
        },
        {
          "name": "stdout",
          "output_type": "stream",
          "text": [
            "\u001b[36m(ClientAppActor pid=22836)\u001b[0m Training time for Client 3: 24.50 seconds\n"
          ]
        },
        {
          "name": "stderr",
          "output_type": "stream",
          "text": [
            "\u001b[92mINFO \u001b[0m:      configure_evaluate: strategy sampled 10 clients (out of 10)\n"
          ]
        },
        {
          "name": "stdout",
          "output_type": "stream",
          "text": [
            "\u001b[36m(ClientAppActor pid=40336)\u001b[0m [Client 1] evaluate, config: {}\n"
          ]
        },
        {
          "name": "stderr",
          "output_type": "stream",
          "text": [
            "\u001b[92mINFO \u001b[0m:      aggregate_evaluate: received 10 results and 0 failures\n",
            "\u001b[92mINFO \u001b[0m:      \n",
            "\u001b[92mINFO \u001b[0m:      [ROUND 3]\n",
            "\u001b[92mINFO \u001b[0m:      configure_fit: strategy sampled 10 clients (out of 10)\n"
          ]
        },
        {
          "name": "stdout",
          "output_type": "stream",
          "text": [
            "This is ths last time not a fantasy 22.622629404067993and 5habhhahah\n",
            "this is tehb mode time [22.62]\n",
            "This is ths last time not a fantasy 22.672629833221436and 6habhhahah\n",
            "this is tehb mode time [22.62, 22.67]\n",
            "This is ths last time not a fantasy 22.609928607940674and 0habhhahah\n",
            "this is tehb mode time [22.62, 22.67, 22.61]\n",
            "This is ths last time not a fantasy 22.982863664627075and 8habhhahah\n",
            "this is tehb mode time [22.62, 22.67, 22.61, 22.98]\n",
            "This is ths last time not a fantasy 22.917430639266968and 1habhhahah\n",
            "this is tehb mode time [22.62, 22.67, 22.61, 22.98, 22.92]\n",
            "This is ths last time not a fantasy 22.66170310974121and 7habhhahah\n",
            "this is tehb mode time [22.62, 22.67, 22.61, 22.98, 22.92, 22.66]\n",
            "This is ths last time not a fantasy 25.30442786216736and 9habhhahah\n",
            "this is tehb mode time [22.62, 22.67, 22.61, 22.98, 22.92, 22.66, 25.3]\n",
            "This is ths last time not a fantasy 24.625023365020752and 4habhhahah\n",
            "this is tehb mode time [22.62, 22.67, 22.61, 22.98, 22.92, 22.66, 25.3, 24.63]\n",
            "This is ths last time not a fantasy 22.646626472473145and 2habhhahah\n",
            "this is tehb mode time [22.62, 22.67, 22.61, 22.98, 22.92, 22.66, 25.3, 24.63, 22.65]\n",
            "This is ths last time not a fantasy 24.49701428413391and 3habhhahah\n",
            "this is tehb mode time [22.62, 22.67, 22.61, 22.98, 22.92, 22.66, 25.3, 24.63, 22.65, 24.5]\n",
            "Yeh h modest valueueueueuModeResult(mode=22.61, count=1)\n",
            "yeh h server round 3\n",
            "this is the min value 1.0 and this is the max value 22.61\n",
            "The epochs for the higher lr is 9 and the epochs for the standard lr is 10\n",
            "This is the last time 22.622629404067993\n",
            "This is the last time 22.672629833221436\n",
            "This is the last time 22.609928607940674\n",
            "This is the last time 22.982863664627075\n",
            "This is the last time 22.917430639266968\n",
            "This is the last time 22.66170310974121\n",
            "This is the last time 25.30442786216736\n",
            "This is the last time 24.625023365020752\n",
            "This is the last time 22.646626472473145\n",
            "This is the last time 24.49701428413391\n",
            "\u001b[36m(ClientAppActor pid=40336)\u001b[0m [Client 6] fit, config: {'lr': 0.0001, 'epochs': 9}\n",
            "\u001b[36m(ClientAppActor pid=40336)\u001b[0m Epoch 8: train loss 0.000256, accuracy 0.996667\u001b[32m [repeated 3x across cluster]\u001b[0m\n",
            "\u001b[36m(ClientAppActor pid=40336)\u001b[0m Training time for Client 4: 24.63 seconds\n",
            "\u001b[36m(ClientAppActor pid=22836)\u001b[0m [Client 0] evaluate, config: {}\u001b[32m [repeated 9x across cluster]\u001b[0m\n",
            "\u001b[36m(ClientAppActor pid=32752)\u001b[0m [Client 4] fit, config: {'lr': 0.0001, 'epochs': 9}\u001b[32m [repeated 7x across cluster]\u001b[0m\n",
            "\u001b[36m(ClientAppActor pid=22836)\u001b[0m Epoch 2: train loss 0.000976, accuracy 0.988889\u001b[32m [repeated 17x across cluster]\u001b[0m\n",
            "\u001b[36m(ClientAppActor pid=22836)\u001b[0m Epoch 4: train loss 0.000507, accuracy 0.995000\u001b[32m [repeated 16x across cluster]\u001b[0m\n",
            "\u001b[36m(ClientAppActor pid=40336)\u001b[0m Epoch 6: train loss 0.000338, accuracy 0.996667\u001b[32m [repeated 17x across cluster]\u001b[0m\n",
            "\u001b[36m(ClientAppActor pid=22836)\u001b[0m Training time for Client 5: 22.70 seconds\n",
            "\u001b[36m(ClientAppActor pid=40336)\u001b[0m Epoch 8: train loss 0.000143, accuracy 0.998519\u001b[32m [repeated 16x across cluster]\u001b[0m\n",
            "\u001b[36m(ClientAppActor pid=40336)\u001b[0m [Client 3] fit, config: {'lr': 0.0001, 'epochs': 9}\n",
            "\u001b[36m(ClientAppActor pid=36496)\u001b[0m Training time for Client 0: 25.26 seconds\u001b[32m [repeated 7x across cluster]\u001b[0m\n",
            "\u001b[36m(ClientAppActor pid=40336)\u001b[0m Epoch 1: train loss 0.001233, accuracy 0.988333\u001b[32m [repeated 10x across cluster]\u001b[0m\n",
            "\u001b[36m(ClientAppActor pid=22836)\u001b[0m [Client 2] fit, config: {'lr': 0.0001, 'epochs': 9}\n",
            "\u001b[36m(ClientAppActor pid=40336)\u001b[0m Epoch 3: train loss 0.000656, accuracy 0.994815\u001b[32m [repeated 4x across cluster]\u001b[0m\n",
            "\u001b[36m(ClientAppActor pid=40336)\u001b[0m Epoch 5: train loss 0.000363, accuracy 0.996481\u001b[32m [repeated 4x across cluster]\u001b[0m\n",
            "\u001b[36m(ClientAppActor pid=40336)\u001b[0m Epoch 7: train loss 0.000498, accuracy 0.995370\u001b[32m [repeated 4x across cluster]\u001b[0m\n",
            "\u001b[36m(ClientAppActor pid=40336)\u001b[0m Training time for Client 3: 24.46 seconds\n"
          ]
        },
        {
          "name": "stderr",
          "output_type": "stream",
          "text": [
            "\u001b[92mINFO \u001b[0m:      aggregate_fit: received 10 results and 0 failures\n",
            "\u001b[92mINFO \u001b[0m:      configure_evaluate: strategy sampled 10 clients (out of 10)\n"
          ]
        },
        {
          "name": "stdout",
          "output_type": "stream",
          "text": [
            "\u001b[36m(ClientAppActor pid=22836)\u001b[0m [Client 5] evaluate, config: {}\n"
          ]
        },
        {
          "name": "stderr",
          "output_type": "stream",
          "text": [
            "\u001b[92mINFO \u001b[0m:      aggregate_evaluate: received 10 results and 0 failures\n",
            "\u001b[92mINFO \u001b[0m:      \n",
            "\u001b[92mINFO \u001b[0m:      [ROUND 4]\n",
            "\u001b[92mINFO \u001b[0m:      configure_fit: strategy sampled 10 clients (out of 10)\n"
          ]
        },
        {
          "name": "stdout",
          "output_type": "stream",
          "text": [
            "This is ths last time not a fantasy 25.26405096054077and 0habhhahah\n",
            "this is tehb mode time [25.26]\n",
            "This is ths last time not a fantasy 24.4584858417511and 3habhhahah\n",
            "this is tehb mode time [25.26, 24.46]\n",
            "This is ths last time not a fantasy 23.003981828689575and 8habhhahah\n",
            "this is tehb mode time [25.26, 24.46, 23.0]\n",
            "This is ths last time not a fantasy 22.32645034790039and 4habhhahah\n",
            "this is tehb mode time [25.26, 24.46, 23.0, 22.33]\n",
            "This is ths last time not a fantasy 22.750795125961304and 1habhhahah\n",
            "this is tehb mode time [25.26, 24.46, 23.0, 22.33, 22.75]\n",
            "This is ths last time not a fantasy 23.631981372833252and 7habhhahah\n",
            "this is tehb mode time [25.26, 24.46, 23.0, 22.33, 22.75, 23.63]\n",
            "This is ths last time not a fantasy 25.117820739746094and 2habhhahah\n",
            "this is tehb mode time [25.26, 24.46, 23.0, 22.33, 22.75, 23.63, 25.12]\n",
            "This is ths last time not a fantasy 22.95698046684265and 9habhhahah\n",
            "this is tehb mode time [25.26, 24.46, 23.0, 22.33, 22.75, 23.63, 25.12, 22.96]\n",
            "This is ths last time not a fantasy 22.662453651428223and 6habhhahah\n",
            "this is tehb mode time [25.26, 24.46, 23.0, 22.33, 22.75, 23.63, 25.12, 22.96, 22.66]\n",
            "This is ths last time not a fantasy 22.698440074920654and 5habhhahah\n",
            "this is tehb mode time [25.26, 24.46, 23.0, 22.33, 22.75, 23.63, 25.12, 22.96, 22.66, 22.7]\n",
            "Yeh h modest valueueueueuModeResult(mode=22.33, count=1)\n",
            "yeh h server round 4\n",
            "this is the min value 1.0 and this is the max value 22.33\n",
            "The epochs for the higher lr is 9 and the epochs for the standard lr is 10\n",
            "This is the last time 25.26405096054077\n",
            "This is the last time 24.4584858417511\n",
            "This is the last time 23.003981828689575\n",
            "This is the last time 22.32645034790039\n",
            "This is the last time 22.750795125961304\n",
            "This is the last time 23.631981372833252\n",
            "This is the last time 25.117820739746094\n",
            "This is the last time 22.95698046684265\n",
            "This is the last time 22.662453651428223\n",
            "This is the last time 22.698440074920654\n",
            "\u001b[36m(ClientAppActor pid=40336)\u001b[0m [Client 0] fit, config: {'lr': 0.0001, 'epochs': 9}\n",
            "\u001b[36m(ClientAppActor pid=22836)\u001b[0m Epoch 8: train loss 0.000131, accuracy 0.999259\u001b[32m [repeated 3x across cluster]\u001b[0m\n",
            "\u001b[36m(ClientAppActor pid=22836)\u001b[0m Training time for Client 2: 25.12 seconds\n",
            "\u001b[36m(ClientAppActor pid=22836)\u001b[0m [Client 3] evaluate, config: {}\u001b[32m [repeated 9x across cluster]\u001b[0m\n",
            "\u001b[36m(ClientAppActor pid=36496)\u001b[0m [Client 9] fit, config: {'lr': 0.0001, 'epochs': 9}\u001b[32m [repeated 7x across cluster]\u001b[0m\n",
            "\u001b[36m(ClientAppActor pid=32752)\u001b[0m Epoch 1: train loss 0.000911, accuracy 0.990370\u001b[32m [repeated 10x across cluster]\u001b[0m\n",
            "\u001b[36m(ClientAppActor pid=22836)\u001b[0m Epoch 3: train loss 0.000453, accuracy 0.995926\u001b[32m [repeated 17x across cluster]\u001b[0m\n",
            "\u001b[36m(ClientAppActor pid=25920)\u001b[0m Epoch 5: train loss 0.000165, accuracy 0.998148\u001b[32m [repeated 17x across cluster]\u001b[0m\n",
            "\u001b[36m(ClientAppActor pid=9116)\u001b[0m Epoch 7: train loss 0.000293, accuracy 0.997222\u001b[32m [repeated 16x across cluster]\u001b[0m\n",
            "\u001b[36m(ClientAppActor pid=40336)\u001b[0m Training time for Client 0: 22.80 seconds\n",
            "\u001b[36m(ClientAppActor pid=40336)\u001b[0m [Client 6] fit, config: {'lr': 0.0001, 'epochs': 9}\n",
            "\u001b[36m(ClientAppActor pid=22836)\u001b[0m Epoch 0: train loss 0.001926, accuracy 0.982407\u001b[32m [repeated 14x across cluster]\u001b[0m\n",
            "\u001b[36m(ClientAppActor pid=37796)\u001b[0m Training time for Client 4: 25.95 seconds\u001b[32m [repeated 7x across cluster]\u001b[0m\n",
            "\u001b[36m(ClientAppActor pid=22836)\u001b[0m [Client 5] fit, config: {'lr': 0.0001, 'epochs': 9}\n",
            "\u001b[36m(ClientAppActor pid=40336)\u001b[0m Epoch 2: train loss 0.000477, accuracy 0.994259\u001b[32m [repeated 4x across cluster]\u001b[0m\n",
            "\u001b[36m(ClientAppActor pid=40336)\u001b[0m Epoch 4: train loss 0.000547, accuracy 0.993148\u001b[32m [repeated 4x across cluster]\u001b[0m\n",
            "\u001b[36m(ClientAppActor pid=40336)\u001b[0m Epoch 6: train loss 0.000301, accuracy 0.996481\u001b[32m [repeated 4x across cluster]\u001b[0m\n"
          ]
        },
        {
          "name": "stderr",
          "output_type": "stream",
          "text": [
            "\u001b[92mINFO \u001b[0m:      aggregate_fit: received 10 results and 0 failures\n",
            "\u001b[92mINFO \u001b[0m:      configure_evaluate: strategy sampled 10 clients (out of 10)\n"
          ]
        },
        {
          "name": "stdout",
          "output_type": "stream",
          "text": [
            "\u001b[36m(ClientAppActor pid=40336)\u001b[0m Training time for Client 6: 24.83 seconds\n",
            "\u001b[36m(ClientAppActor pid=40336)\u001b[0m Epoch 8: train loss 0.000528, accuracy 0.994815\u001b[32m [repeated 4x across cluster]\u001b[0m\n",
            "\u001b[36m(ClientAppActor pid=22836)\u001b[0m [Client 6] evaluate, config: {}\n"
          ]
        },
        {
          "name": "stderr",
          "output_type": "stream",
          "text": [
            "\u001b[92mINFO \u001b[0m:      aggregate_evaluate: received 10 results and 0 failures\n",
            "\u001b[92mINFO \u001b[0m:      \n",
            "\u001b[92mINFO \u001b[0m:      [ROUND 5]\n",
            "\u001b[92mINFO \u001b[0m:      configure_fit: strategy sampled 10 clients (out of 10)\n"
          ]
        },
        {
          "name": "stdout",
          "output_type": "stream",
          "text": [
            "This is ths last time not a fantasy 22.736541271209717and 1habhhahah\n",
            "this is tehb mode time [22.74]\n",
            "This is ths last time not a fantasy 22.79654097557068and 7habhhahah\n",
            "this is tehb mode time [22.74, 22.8]\n",
            "This is ths last time not a fantasy 22.77753973007202and 8habhhahah\n",
            "this is tehb mode time [22.74, 22.8, 22.78]\n",
            "This is ths last time not a fantasy 22.772541046142578and 3habhhahah\n",
            "this is tehb mode time [22.74, 22.8, 22.78, 22.77]\n",
            "This is ths last time not a fantasy 25.94704508781433and 4habhhahah\n",
            "this is tehb mode time [22.74, 22.8, 22.78, 22.77, 25.95]\n",
            "This is ths last time not a fantasy 22.79916214942932and 0habhhahah\n",
            "this is tehb mode time [22.74, 22.8, 22.78, 22.77, 25.95, 22.8]\n",
            "This is ths last time not a fantasy 24.909648656845093and 5habhhahah\n",
            "this is tehb mode time [22.74, 22.8, 22.78, 22.77, 25.95, 22.8, 24.91]\n",
            "This is ths last time not a fantasy 22.6708824634552and 2habhhahah\n",
            "this is tehb mode time [22.74, 22.8, 22.78, 22.77, 25.95, 22.8, 24.91, 22.67]\n",
            "This is ths last time not a fantasy 22.78918194770813and 9habhhahah\n",
            "this is tehb mode time [22.74, 22.8, 22.78, 22.77, 25.95, 22.8, 24.91, 22.67, 22.79]\n",
            "This is ths last time not a fantasy 24.82964515686035and 6habhhahah\n",
            "this is tehb mode time [22.74, 22.8, 22.78, 22.77, 25.95, 22.8, 24.91, 22.67, 22.79, 24.83]\n",
            "Yeh h modest valueueueueuModeResult(mode=22.8, count=2)\n",
            "yeh h server round 5\n",
            "this is the min value 2.0 and this is the max value 22.8\n",
            "The epochs for the higher lr is 9 and the epochs for the standard lr is 10\n",
            "This is the last time 22.736541271209717\n",
            "This is the last time 22.79654097557068\n",
            "This is the last time 22.77753973007202\n",
            "This is the last time 22.772541046142578\n",
            "This is the last time 25.94704508781433\n",
            "This is the last time 22.79916214942932\n",
            "This is the last time 24.909648656845093\n",
            "This is the last time 22.6708824634552\n",
            "This is the last time 22.78918194770813\n",
            "This is the last time 24.82964515686035\n",
            "\u001b[36m(ClientAppActor pid=22836)\u001b[0m [Client 1] fit, config: {'lr': 0.001, 'epochs': 10}\n",
            "\u001b[36m(ClientAppActor pid=22836)\u001b[0m Training time for Client 5: 24.91 seconds\n",
            "\u001b[36m(ClientAppActor pid=22836)\u001b[0m Epoch 1: train loss 0.000496, accuracy 0.994444\u001b[32m [repeated 10x across cluster]\u001b[0m\n",
            "\u001b[36m(ClientAppActor pid=22836)\u001b[0m [Client 0] evaluate, config: {}\u001b[32m [repeated 9x across cluster]\u001b[0m\n",
            "\u001b[36m(ClientAppActor pid=34888)\u001b[0m [Client 5] fit, config: {'lr': 0.0001, 'epochs': 9}\u001b[32m [repeated 7x across cluster]\u001b[0m\n",
            "\u001b[36m(ClientAppActor pid=32752)\u001b[0m Epoch 3: train loss 0.000124, accuracy 0.999074\u001b[32m [repeated 16x across cluster]\u001b[0m\n",
            "\u001b[36m(ClientAppActor pid=22836)\u001b[0m Epoch 5: train loss 0.000090, accuracy 0.999444\u001b[32m [repeated 16x across cluster]\u001b[0m\n",
            "\u001b[36m(ClientAppActor pid=32752)\u001b[0m Epoch 7: train loss 0.000005, accuracy 1.000000\u001b[32m [repeated 16x across cluster]\u001b[0m\n",
            "\u001b[36m(ClientAppActor pid=37796)\u001b[0m Training time for Client 4: 22.65 seconds\n",
            "\u001b[36m(ClientAppActor pid=37796)\u001b[0m [Client 9] fit, config: {'lr': 0.001, 'epochs': 10}\n",
            "\u001b[36m(ClientAppActor pid=32752)\u001b[0m Epoch 9: train loss 0.000003, accuracy 1.000000\u001b[32m [repeated 16x across cluster]\u001b[0m\n",
            "\u001b[36m(ClientAppActor pid=25920)\u001b[0m Training time for Client 8: 26.22 seconds\u001b[32m [repeated 7x across cluster]\u001b[0m\n",
            "\u001b[36m(ClientAppActor pid=34888)\u001b[0m [Client 6] fit, config: {'lr': 0.0001, 'epochs': 9}\n",
            "\u001b[36m(ClientAppActor pid=37796)\u001b[0m Epoch 2: train loss 0.000251, accuracy 0.997963\u001b[32m [repeated 10x across cluster]\u001b[0m\n",
            "\u001b[36m(ClientAppActor pid=37796)\u001b[0m Epoch 4: train loss 0.000618, accuracy 0.993148\u001b[32m [repeated 4x across cluster]\u001b[0m\n",
            "\u001b[36m(ClientAppActor pid=37796)\u001b[0m Epoch 6: train loss 0.000364, accuracy 0.996296\u001b[32m [repeated 4x across cluster]\u001b[0m\n",
            "\u001b[36m(ClientAppActor pid=37796)\u001b[0m Epoch 8: train loss 0.000199, accuracy 0.998333\u001b[32m [repeated 4x across cluster]\u001b[0m\n",
            "\u001b[36m(ClientAppActor pid=34888)\u001b[0m Training time for Client 6: 25.83 seconds\n"
          ]
        },
        {
          "name": "stderr",
          "output_type": "stream",
          "text": [
            "\u001b[92mINFO \u001b[0m:      aggregate_fit: received 10 results and 0 failures\n",
            "\u001b[92mINFO \u001b[0m:      configure_evaluate: strategy sampled 10 clients (out of 10)\n"
          ]
        },
        {
          "name": "stdout",
          "output_type": "stream",
          "text": [
            "\u001b[36m(ClientAppActor pid=37796)\u001b[0m [Client 4] evaluate, config: {}\n"
          ]
        },
        {
          "name": "stderr",
          "output_type": "stream",
          "text": [
            "\u001b[92mINFO \u001b[0m:      aggregate_evaluate: received 10 results and 0 failures\n",
            "\u001b[92mINFO \u001b[0m:      \n",
            "\u001b[92mINFO \u001b[0m:      [ROUND 6]\n",
            "\u001b[92mINFO \u001b[0m:      configure_fit: strategy sampled 10 clients (out of 10)\n"
          ]
        },
        {
          "name": "stdout",
          "output_type": "stream",
          "text": [
            "This is ths last time not a fantasy 24.963178157806396and 2habhhahah\n",
            "this is tehb mode time [24.96]\n",
            "This is ths last time not a fantasy 25.27638077735901and 3habhhahah\n",
            "this is tehb mode time [24.96, 25.28]\n",
            "This is ths last time not a fantasy 25.74272584915161and 1habhhahah\n",
            "this is tehb mode time [24.96, 25.28, 25.74]\n",
            "This is ths last time not a fantasy 25.156176328659058and 0habhhahah\n",
            "this is tehb mode time [24.96, 25.28, 25.74, 25.16]\n",
            "This is ths last time not a fantasy 22.653522491455078and 4habhhahah\n",
            "this is tehb mode time [24.96, 25.28, 25.74, 25.16, 22.65]\n",
            "This is ths last time not a fantasy 25.32372236251831and 7habhhahah\n",
            "this is tehb mode time [24.96, 25.28, 25.74, 25.16, 22.65, 25.32]\n",
            "This is ths last time not a fantasy 25.825483798980713and 6habhhahah\n",
            "this is tehb mode time [24.96, 25.28, 25.74, 25.16, 22.65, 25.32, 25.83]\n",
            "This is ths last time not a fantasy 26.218379020690918and 8habhhahah\n",
            "this is tehb mode time [24.96, 25.28, 25.74, 25.16, 22.65, 25.32, 25.83, 26.22]\n",
            "This is ths last time not a fantasy 28.135484218597412and 9habhhahah\n",
            "this is tehb mode time [24.96, 25.28, 25.74, 25.16, 22.65, 25.32, 25.83, 26.22, 28.14]\n",
            "This is ths last time not a fantasy 23.251521587371826and 5habhhahah\n",
            "this is tehb mode time [24.96, 25.28, 25.74, 25.16, 22.65, 25.32, 25.83, 26.22, 28.14, 23.25]\n",
            "Yeh h modest valueueueueuModeResult(mode=22.65, count=1)\n",
            "yeh h server round 6\n",
            "this is the min value 1.0 and this is the max value 22.65\n",
            "The epochs for the higher lr is 9 and the epochs for the standard lr is 10\n",
            "This is the last time 24.963178157806396\n",
            "This is the last time 25.27638077735901\n",
            "This is the last time 25.74272584915161\n",
            "This is the last time 25.156176328659058\n",
            "This is the last time 22.653522491455078\n",
            "This is the last time 25.32372236251831\n",
            "This is the last time 25.825483798980713\n",
            "This is the last time 26.218379020690918\n",
            "This is the last time 28.135484218597412\n",
            "This is the last time 23.251521587371826\n",
            "\u001b[36m(ClientAppActor pid=34888)\u001b[0m [Client 2] fit, config: {'lr': 0.0001, 'epochs': 9}\n",
            "\u001b[36m(ClientAppActor pid=34888)\u001b[0m Epoch 0: train loss 0.001494, accuracy 0.990370\u001b[32m [repeated 3x across cluster]\u001b[0m\n",
            "\u001b[36m(ClientAppActor pid=37796)\u001b[0m Training time for Client 9: 28.14 seconds\n",
            "\u001b[36m(ClientAppActor pid=34888)\u001b[0m [Client 5] evaluate, config: {}\u001b[32m [repeated 9x across cluster]\u001b[0m\n",
            "\u001b[36m(ClientAppActor pid=32752)\u001b[0m [Client 8] fit, config: {'lr': 0.0001, 'epochs': 9}\u001b[32m [repeated 7x across cluster]\u001b[0m\n",
            "\u001b[36m(ClientAppActor pid=34888)\u001b[0m Epoch 2: train loss 0.000195, accuracy 0.998148\u001b[32m [repeated 16x across cluster]\u001b[0m\n",
            "\u001b[36m(ClientAppActor pid=40336)\u001b[0m Epoch 4: train loss 0.000154, accuracy 0.998519\u001b[32m [repeated 17x across cluster]\u001b[0m\n",
            "\u001b[36m(ClientAppActor pid=40336)\u001b[0m Epoch 6: train loss 0.000339, accuracy 0.996852\u001b[32m [repeated 16x across cluster]\u001b[0m\n",
            "\u001b[36m(ClientAppActor pid=34888)\u001b[0m Training time for Client 2: 22.65 seconds\n",
            "\u001b[36m(ClientAppActor pid=34888)\u001b[0m [Client 9] fit, config: {'lr': 0.0001, 'epochs': 9}\n",
            "\u001b[36m(ClientAppActor pid=40336)\u001b[0m Epoch 8: train loss 0.000352, accuracy 0.997037\u001b[32m [repeated 16x across cluster]\u001b[0m\n",
            "\u001b[36m(ClientAppActor pid=32752)\u001b[0m Training time for Client 8: 23.17 seconds\u001b[32m [repeated 7x across cluster]\u001b[0m\n",
            "\u001b[36m(ClientAppActor pid=40336)\u001b[0m [Client 5] fit, config: {'lr': 0.0001, 'epochs': 9}\n",
            "\u001b[36m(ClientAppActor pid=34888)\u001b[0m Epoch 1: train loss 0.000472, accuracy 0.995556\u001b[32m [repeated 9x across cluster]\u001b[0m\n",
            "\u001b[36m(ClientAppActor pid=34888)\u001b[0m Epoch 3: train loss 0.000087, accuracy 0.999074\u001b[32m [repeated 4x across cluster]\u001b[0m\n",
            "\u001b[36m(ClientAppActor pid=34888)\u001b[0m Epoch 5: train loss 0.000011, accuracy 1.000000\u001b[32m [repeated 4x across cluster]\u001b[0m\n",
            "\u001b[36m(ClientAppActor pid=34888)\u001b[0m Epoch 7: train loss 0.000963, accuracy 0.991111\u001b[32m [repeated 4x across cluster]\u001b[0m\n",
            "\u001b[36m(ClientAppActor pid=34888)\u001b[0m Training time for Client 9: 24.85 seconds\n"
          ]
        },
        {
          "name": "stderr",
          "output_type": "stream",
          "text": [
            "\u001b[92mINFO \u001b[0m:      aggregate_fit: received 10 results and 0 failures\n",
            "\u001b[92mINFO \u001b[0m:      configure_evaluate: strategy sampled 10 clients (out of 10)\n"
          ]
        },
        {
          "name": "stdout",
          "output_type": "stream",
          "text": [
            "\u001b[36m(ClientAppActor pid=40336)\u001b[0m [Client 9] evaluate, config: {}\n"
          ]
        },
        {
          "name": "stderr",
          "output_type": "stream",
          "text": [
            "\u001b[92mINFO \u001b[0m:      aggregate_evaluate: received 10 results and 0 failures\n",
            "\u001b[92mINFO \u001b[0m:      \n",
            "\u001b[92mINFO \u001b[0m:      [ROUND 7]\n",
            "\u001b[92mINFO \u001b[0m:      configure_fit: strategy sampled 10 clients (out of 10)\n"
          ]
        },
        {
          "name": "stdout",
          "output_type": "stream",
          "text": [
            "This is ths last time not a fantasy 22.796396255493164and 7habhhahah\n",
            "this is tehb mode time [22.8]\n",
            "This is ths last time not a fantasy 24.849296808242798and 9habhhahah\n",
            "this is tehb mode time [22.8, 24.85]\n",
            "This is ths last time not a fantasy 23.1683988571167and 8habhhahah\n",
            "this is tehb mode time [22.8, 24.85, 23.17]\n",
            "This is ths last time not a fantasy 22.776397466659546and 0habhhahah\n",
            "this is tehb mode time [22.8, 24.85, 23.17, 22.78]\n",
            "This is ths last time not a fantasy 22.65265154838562and 2habhhahah\n",
            "this is tehb mode time [22.8, 24.85, 23.17, 22.78, 22.65]\n",
            "This is ths last time not a fantasy 23.0603985786438and 6habhhahah\n",
            "this is tehb mode time [22.8, 24.85, 23.17, 22.78, 22.65, 23.06]\n",
            "This is ths last time not a fantasy 22.58539915084839and 4habhhahah\n",
            "this is tehb mode time [22.8, 24.85, 23.17, 22.78, 22.65, 23.06, 22.59]\n",
            "This is ths last time not a fantasy 24.884528636932373and 5habhhahah\n",
            "this is tehb mode time [22.8, 24.85, 23.17, 22.78, 22.65, 23.06, 22.59, 24.88]\n",
            "This is ths last time not a fantasy 22.721311330795288and 1habhhahah\n",
            "this is tehb mode time [22.8, 24.85, 23.17, 22.78, 22.65, 23.06, 22.59, 24.88, 22.72]\n",
            "This is ths last time not a fantasy 22.85128378868103and 3habhhahah\n",
            "this is tehb mode time [22.8, 24.85, 23.17, 22.78, 22.65, 23.06, 22.59, 24.88, 22.72, 22.85]\n",
            "Yeh h modest valueueueueuModeResult(mode=22.59, count=1)\n",
            "yeh h server round 7\n",
            "this is the min value 1.0 and this is the max value 22.59\n",
            "The epochs for the higher lr is 9 and the epochs for the standard lr is 10\n",
            "This is the last time 22.796396255493164\n",
            "This is the last time 24.849296808242798\n",
            "This is the last time 23.1683988571167\n",
            "This is the last time 22.776397466659546\n",
            "This is the last time 22.65265154838562\n",
            "This is the last time 23.0603985786438\n",
            "This is the last time 22.58539915084839\n",
            "This is the last time 24.884528636932373\n",
            "This is the last time 22.721311330795288\n",
            "This is the last time 22.85128378868103\n",
            "\u001b[36m(ClientAppActor pid=34888)\u001b[0m [Client 7] fit, config: {'lr': 0.0001, 'epochs': 9}\n",
            "\u001b[36m(ClientAppActor pid=40336)\u001b[0m Epoch 8: train loss 0.000004, accuracy 1.000000\u001b[32m [repeated 3x across cluster]\u001b[0m\n",
            "\u001b[36m(ClientAppActor pid=40336)\u001b[0m Training time for Client 5: 24.88 seconds\n",
            "\u001b[36m(ClientAppActor pid=34888)\u001b[0m [Client 7] evaluate, config: {}\u001b[32m [repeated 9x across cluster]\u001b[0m\n",
            "\u001b[36m(ClientAppActor pid=37796)\u001b[0m [Client 4] fit, config: {'lr': 0.001, 'epochs': 10}\u001b[32m [repeated 7x across cluster]\u001b[0m\n",
            "\u001b[36m(ClientAppActor pid=22836)\u001b[0m Epoch 1: train loss 0.000500, accuracy 0.996111\u001b[32m [repeated 14x across cluster]\u001b[0m\n",
            "\u001b[36m(ClientAppActor pid=40336)\u001b[0m Epoch 3: train loss 0.000263, accuracy 0.997593\u001b[32m [repeated 16x across cluster]\u001b[0m\n",
            "\u001b[36m(ClientAppActor pid=32752)\u001b[0m Epoch 5: train loss 0.000082, accuracy 0.999074\u001b[32m [repeated 18x across cluster]\u001b[0m\n",
            "\u001b[36m(ClientAppActor pid=32752)\u001b[0m Epoch 7: train loss 0.000005, accuracy 1.000000\u001b[32m [repeated 16x across cluster]\u001b[0m\n",
            "\u001b[36m(ClientAppActor pid=34888)\u001b[0m Training time for Client 7: 23.14 seconds\n",
            "\u001b[36m(ClientAppActor pid=36496)\u001b[0m [Client 1] fit, config: {'lr': 0.0001, 'epochs': 9}\n",
            "\u001b[36m(ClientAppActor pid=9116)\u001b[0m Epoch 1: train loss 0.000466, accuracy 0.995556\u001b[32m [repeated 12x across cluster]\u001b[0m\n",
            "\u001b[36m(ClientAppActor pid=37796)\u001b[0m Training time for Client 4: 25.18 seconds\u001b[32m [repeated 7x across cluster]\u001b[0m\n",
            "\u001b[36m(ClientAppActor pid=9116)\u001b[0m [Client 3] fit, config: {'lr': 0.0001, 'epochs': 9}\n",
            "\u001b[36m(ClientAppActor pid=9116)\u001b[0m Epoch 3: train loss 0.000086, accuracy 0.999444\u001b[32m [repeated 4x across cluster]\u001b[0m\n",
            "\u001b[36m(ClientAppActor pid=9116)\u001b[0m Epoch 5: train loss 0.000425, accuracy 0.995926\u001b[32m [repeated 4x across cluster]\u001b[0m\n",
            "\u001b[36m(ClientAppActor pid=36496)\u001b[0m Epoch 7: train loss 0.000002, accuracy 1.000000\u001b[32m [repeated 4x across cluster]\u001b[0m\n",
            "\u001b[36m(ClientAppActor pid=36496)\u001b[0m Training time for Client 1: 24.94 seconds\n"
          ]
        },
        {
          "name": "stderr",
          "output_type": "stream",
          "text": [
            "\u001b[92mINFO \u001b[0m:      aggregate_fit: received 10 results and 0 failures\n",
            "\u001b[92mINFO \u001b[0m:      configure_evaluate: strategy sampled 10 clients (out of 10)\n"
          ]
        },
        {
          "name": "stdout",
          "output_type": "stream",
          "text": [
            "\u001b[36m(ClientAppActor pid=9116)\u001b[0m [Client 1] evaluate, config: {}\n"
          ]
        },
        {
          "name": "stderr",
          "output_type": "stream",
          "text": [
            "\u001b[92mINFO \u001b[0m:      aggregate_evaluate: received 10 results and 0 failures\n",
            "\u001b[92mINFO \u001b[0m:      \n",
            "\u001b[92mINFO \u001b[0m:      [ROUND 8]\n",
            "\u001b[92mINFO \u001b[0m:      configure_fit: strategy sampled 10 clients (out of 10)\n"
          ]
        },
        {
          "name": "stdout",
          "output_type": "stream",
          "text": [
            "This is ths last time not a fantasy 23.030314922332764and 9habhhahah\n",
            "this is tehb mode time [23.03]\n",
            "This is ths last time not a fantasy 25.04211401939392and 3habhhahah\n",
            "this is tehb mode time [23.03, 25.04]\n",
            "This is ths last time not a fantasy 23.138853311538696and 7habhhahah\n",
            "this is tehb mode time [23.03, 25.04, 23.14]\n",
            "This is ths last time not a fantasy 23.293312788009644and 2habhhahah\n",
            "this is tehb mode time [23.03, 25.04, 23.14, 23.29]\n",
            "This is ths last time not a fantasy 25.18019390106201and 4habhhahah\n",
            "this is tehb mode time [23.03, 25.04, 23.14, 23.29, 25.18]\n",
            "This is ths last time not a fantasy 24.935112476348877and 1habhhahah\n",
            "this is tehb mode time [23.03, 25.04, 23.14, 23.29, 25.18, 24.94]\n",
            "This is ths last time not a fantasy 23.220303058624268and 8habhhahah\n",
            "this is tehb mode time [23.03, 25.04, 23.14, 23.29, 25.18, 24.94, 23.22]\n",
            "This is ths last time not a fantasy 22.47531008720398and 6habhhahah\n",
            "this is tehb mode time [23.03, 25.04, 23.14, 23.29, 25.18, 24.94, 23.22, 22.48]\n",
            "This is ths last time not a fantasy 22.552195072174072and 5habhhahah\n",
            "this is tehb mode time [23.03, 25.04, 23.14, 23.29, 25.18, 24.94, 23.22, 22.48, 22.55]\n",
            "This is ths last time not a fantasy 22.72830033302307and 0habhhahah\n",
            "this is tehb mode time [23.03, 25.04, 23.14, 23.29, 25.18, 24.94, 23.22, 22.48, 22.55, 22.73]\n",
            "Yeh h modest valueueueueuModeResult(mode=22.48, count=1)\n",
            "yeh h server round 8\n",
            "this is the min value 1.0 and this is the max value 22.48\n",
            "The epochs for the higher lr is 9 and the epochs for the standard lr is 10\n",
            "This is the last time 23.030314922332764\n",
            "This is the last time 25.04211401939392\n",
            "This is the last time 23.138853311538696\n",
            "This is the last time 23.293312788009644\n",
            "This is the last time 25.18019390106201\n",
            "This is the last time 24.935112476348877\n",
            "This is the last time 23.220303058624268\n",
            "This is the last time 22.47531008720398\n",
            "This is the last time 22.552195072174072\n",
            "This is the last time 22.72830033302307\n",
            "\u001b[36m(ClientAppActor pid=34888)\u001b[0m [Client 9] fit, config: {'lr': 0.0001, 'epochs': 9}\n",
            "\u001b[36m(ClientAppActor pid=9116)\u001b[0m Epoch 8: train loss 0.000025, accuracy 0.999815\u001b[32m [repeated 3x across cluster]\u001b[0m\n",
            "\u001b[36m(ClientAppActor pid=9116)\u001b[0m Training time for Client 3: 25.04 seconds\n",
            "\u001b[36m(ClientAppActor pid=34888)\u001b[0m [Client 8] evaluate, config: {}\u001b[32m [repeated 9x across cluster]\u001b[0m\n",
            "\u001b[36m(ClientAppActor pid=37796)\u001b[0m [Client 6] fit, config: {'lr': 0.001, 'epochs': 10}\u001b[32m [repeated 7x across cluster]\u001b[0m\n",
            "\u001b[36m(ClientAppActor pid=25920)\u001b[0m Epoch 1: train loss 0.000305, accuracy 0.996667\u001b[32m [repeated 12x across cluster]\u001b[0m\n",
            "\u001b[36m(ClientAppActor pid=25920)\u001b[0m Epoch 3: train loss 0.000085, accuracy 0.999444\u001b[32m [repeated 17x across cluster]\u001b[0m\n",
            "\u001b[36m(ClientAppActor pid=25920)\u001b[0m Epoch 5: train loss 0.000007, accuracy 1.000000\u001b[32m [repeated 16x across cluster]\u001b[0m\n",
            "\u001b[36m(ClientAppActor pid=34888)\u001b[0m Epoch 7: train loss 0.000002, accuracy 1.000000\u001b[32m [repeated 16x across cluster]\u001b[0m\n",
            "\u001b[36m(ClientAppActor pid=40336)\u001b[0m Training time for Client 3: 22.57 seconds\n",
            "\u001b[36m(ClientAppActor pid=40336)\u001b[0m [Client 5] fit, config: {'lr': 0.0001, 'epochs': 9}\n",
            "\u001b[36m(ClientAppActor pid=37796)\u001b[0m Epoch 9: train loss 0.000002, accuracy 1.000000\u001b[32m [repeated 14x across cluster]\u001b[0m\n",
            "\u001b[36m(ClientAppActor pid=37796)\u001b[0m Training time for Client 6: 25.31 seconds\u001b[32m [repeated 7x across cluster]\u001b[0m\n",
            "\u001b[36m(ClientAppActor pid=36496)\u001b[0m [Client 0] fit, config: {'lr': 0.0001, 'epochs': 9}\n",
            "\u001b[36m(ClientAppActor pid=40336)\u001b[0m Epoch 3: train loss 0.000255, accuracy 0.997778\u001b[32m [repeated 5x across cluster]\u001b[0m\n",
            "\u001b[36m(ClientAppActor pid=40336)\u001b[0m Epoch 5: train loss 0.000207, accuracy 0.997222\u001b[32m [repeated 4x across cluster]\u001b[0m\n",
            "\u001b[36m(ClientAppActor pid=36496)\u001b[0m Epoch 7: train loss 0.000370, accuracy 0.996852\u001b[32m [repeated 4x across cluster]\u001b[0m\n"
          ]
        },
        {
          "name": "stderr",
          "output_type": "stream",
          "text": [
            "\u001b[92mINFO \u001b[0m:      aggregate_fit: received 10 results and 0 failures\n",
            "\u001b[92mINFO \u001b[0m:      configure_evaluate: strategy sampled 10 clients (out of 10)\n"
          ]
        },
        {
          "name": "stdout",
          "output_type": "stream",
          "text": [
            "\u001b[36m(ClientAppActor pid=36496)\u001b[0m Training time for Client 0: 24.88 seconds\n",
            "\u001b[36m(ClientAppActor pid=40336)\u001b[0m [Client 7] evaluate, config: {}\n"
          ]
        },
        {
          "name": "stderr",
          "output_type": "stream",
          "text": [
            "\u001b[92mINFO \u001b[0m:      aggregate_evaluate: received 10 results and 0 failures\n",
            "\u001b[92mINFO \u001b[0m:      \n",
            "\u001b[92mINFO \u001b[0m:      [ROUND 9]\n",
            "\u001b[92mINFO \u001b[0m:      configure_fit: strategy sampled 10 clients (out of 10)\n"
          ]
        },
        {
          "name": "stdout",
          "output_type": "stream",
          "text": [
            "This is ths last time not a fantasy 22.53969931602478and 8habhhahah\n",
            "this is tehb mode time [22.54]\n",
            "This is ths last time not a fantasy 22.56867742538452and 3habhhahah\n",
            "this is tehb mode time [22.54, 22.57]\n",
            "This is ths last time not a fantasy 25.313578844070435and 6habhhahah\n",
            "this is tehb mode time [22.54, 22.57, 25.31]\n",
            "This is ths last time not a fantasy 24.8819100856781and 0habhhahah\n",
            "this is tehb mode time [22.54, 22.57, 25.31, 24.88]\n",
            "This is ths last time not a fantasy 22.296696662902832and 2habhhahah\n",
            "this is tehb mode time [22.54, 22.57, 25.31, 24.88, 22.3]\n",
            "This is ths last time not a fantasy 23.266701459884644and 7habhhahah\n",
            "this is tehb mode time [22.54, 22.57, 25.31, 24.88, 22.3, 23.27]\n",
            "This is ths last time not a fantasy 25.128949642181396and 5habhhahah\n",
            "this is tehb mode time [22.54, 22.57, 25.31, 24.88, 22.3, 23.27, 25.13]\n",
            "This is ths last time not a fantasy 23.182077407836914and 9habhhahah\n",
            "this is tehb mode time [22.54, 22.57, 25.31, 24.88, 22.3, 23.27, 25.13, 23.18]\n",
            "This is ths last time not a fantasy 23.269697666168213and 4habhhahah\n",
            "this is tehb mode time [22.54, 22.57, 25.31, 24.88, 22.3, 23.27, 25.13, 23.18, 23.27]\n",
            "This is ths last time not a fantasy 22.61368727684021and 1habhhahah\n",
            "this is tehb mode time [22.54, 22.57, 25.31, 24.88, 22.3, 23.27, 25.13, 23.18, 23.27, 22.61]\n",
            "Yeh h modest valueueueueuModeResult(mode=23.27, count=2)\n",
            "yeh h server round 9\n",
            "this is the min value 2.0 and this is the max value 23.27\n",
            "The epochs for the higher lr is 9 and the epochs for the standard lr is 10\n",
            "This is the last time 22.53969931602478\n",
            "This is the last time 22.56867742538452\n",
            "This is the last time 25.313578844070435\n",
            "This is the last time 24.8819100856781\n",
            "This is the last time 22.296696662902832\n",
            "This is the last time 23.266701459884644\n",
            "This is the last time 25.128949642181396\n",
            "This is the last time 23.182077407836914\n",
            "This is the last time 23.269697666168213\n",
            "This is the last time 22.61368727684021\n",
            "\u001b[36m(ClientAppActor pid=32752)\u001b[0m [Client 8] fit, config: {'lr': 0.001, 'epochs': 10}\n",
            "\u001b[36m(ClientAppActor pid=40336)\u001b[0m Epoch 8: train loss 0.000004, accuracy 1.000000\u001b[32m [repeated 3x across cluster]\u001b[0m\n",
            "\u001b[36m(ClientAppActor pid=40336)\u001b[0m Training time for Client 5: 25.13 seconds\n",
            "\u001b[36m(ClientAppActor pid=32752)\u001b[0m [Client 2] evaluate, config: {}\u001b[32m [repeated 9x across cluster]\u001b[0m\n",
            "\u001b[36m(ClientAppActor pid=37796)\u001b[0m [Client 9] fit, config: {'lr': 0.001, 'epochs': 10}\u001b[32m [repeated 7x across cluster]\u001b[0m\n",
            "\u001b[36m(ClientAppActor pid=22836)\u001b[0m Epoch 1: train loss 0.000449, accuracy 0.995370\u001b[32m [repeated 14x across cluster]\u001b[0m\n",
            "\u001b[36m(ClientAppActor pid=37796)\u001b[0m Epoch 3: train loss 0.000089, accuracy 0.999259\u001b[32m [repeated 17x across cluster]\u001b[0m\n",
            "\u001b[36m(ClientAppActor pid=22836)\u001b[0m Epoch 5: train loss 0.000441, accuracy 0.995741\u001b[32m [repeated 17x across cluster]\u001b[0m\n",
            "\u001b[36m(ClientAppActor pid=22836)\u001b[0m Epoch 7: train loss 0.000527, accuracy 0.995556\u001b[32m [repeated 16x across cluster]\u001b[0m\n",
            "\u001b[36m(ClientAppActor pid=25920)\u001b[0m Training time for Client 0: 22.65 seconds\n",
            "\u001b[36m(ClientAppActor pid=25920)\u001b[0m [Client 4] fit, config: {'lr': 0.001, 'epochs': 10}\n",
            "\u001b[36m(ClientAppActor pid=25920)\u001b[0m Epoch 1: train loss 0.000202, accuracy 0.997963\u001b[32m [repeated 16x across cluster]\u001b[0m\n",
            "\u001b[36m(ClientAppActor pid=37796)\u001b[0m Training time for Client 9: 25.23 seconds\u001b[32m [repeated 7x across cluster]\u001b[0m\n",
            "\u001b[36m(ClientAppActor pid=9116)\u001b[0m [Client 1] fit, config: {'lr': 0.001, 'epochs': 10}\n",
            "\u001b[36m(ClientAppActor pid=25920)\u001b[0m Epoch 3: train loss 0.000051, accuracy 0.999444\u001b[32m [repeated 4x across cluster]\u001b[0m\n",
            "\u001b[36m(ClientAppActor pid=25920)\u001b[0m Epoch 5: train loss 0.000220, accuracy 0.997407\u001b[32m [repeated 4x across cluster]\u001b[0m\n",
            "\u001b[36m(ClientAppActor pid=25920)\u001b[0m Epoch 7: train loss 0.000570, accuracy 0.994444\u001b[32m [repeated 4x across cluster]\u001b[0m\n"
          ]
        },
        {
          "name": "stderr",
          "output_type": "stream",
          "text": [
            "\u001b[92mINFO \u001b[0m:      aggregate_fit: received 10 results and 0 failures\n",
            "\u001b[92mINFO \u001b[0m:      configure_evaluate: strategy sampled 10 clients (out of 10)\n"
          ]
        },
        {
          "name": "stdout",
          "output_type": "stream",
          "text": [
            "\u001b[36m(ClientAppActor pid=25920)\u001b[0m Training time for Client 4: 28.48 seconds\n",
            "\u001b[36m(ClientAppActor pid=25920)\u001b[0m Epoch 9: train loss 0.000043, accuracy 0.999815\u001b[32m [repeated 4x across cluster]\u001b[0m\n",
            "\u001b[36m(ClientAppActor pid=9116)\u001b[0m [Client 0] evaluate, config: {}\n"
          ]
        },
        {
          "name": "stderr",
          "output_type": "stream",
          "text": [
            "\u001b[92mINFO \u001b[0m:      aggregate_evaluate: received 10 results and 0 failures\n",
            "\u001b[92mINFO \u001b[0m:      \n",
            "\u001b[92mINFO \u001b[0m:      [ROUND 10]\n",
            "\u001b[92mINFO \u001b[0m:      configure_fit: strategy sampled 10 clients (out of 10)\n"
          ]
        },
        {
          "name": "stdout",
          "output_type": "stream",
          "text": [
            "This is ths last time not a fantasy 22.651198387145996and 0habhhahah\n",
            "this is tehb mode time [22.65]\n",
            "This is ths last time not a fantasy 25.739448308944702and 8habhhahah\n",
            "this is tehb mode time [22.65, 25.74]\n",
            "This is ths last time not a fantasy 25.184452533721924and 2habhhahah\n",
            "this is tehb mode time [22.65, 25.74, 25.18]\n",
            "This is ths last time not a fantasy 23.30620050430298and 5habhhahah\n",
            "this is tehb mode time [22.65, 25.74, 25.18, 23.31]\n",
            "This is ths last time not a fantasy 28.481743812561035and 4habhhahah\n",
            "this is tehb mode time [22.65, 25.74, 25.18, 23.31, 28.48]\n",
            "This is ths last time not a fantasy 25.226454257965088and 9habhhahah\n",
            "this is tehb mode time [22.65, 25.74, 25.18, 23.31, 28.48, 25.23]\n",
            "This is ths last time not a fantasy 25.1224582195282and 7habhhahah\n",
            "this is tehb mode time [22.65, 25.74, 25.18, 23.31, 28.48, 25.23, 25.12]\n",
            "This is ths last time not a fantasy 28.137738943099976and 1habhhahah\n",
            "this is tehb mode time [22.65, 25.74, 25.18, 23.31, 28.48, 25.23, 25.12, 28.14]\n",
            "This is ths last time not a fantasy 25.25645112991333and 3habhhahah\n",
            "this is tehb mode time [22.65, 25.74, 25.18, 23.31, 28.48, 25.23, 25.12, 28.14, 25.26]\n",
            "This is ths last time not a fantasy 23.246200799942017and 6habhhahah\n",
            "this is tehb mode time [22.65, 25.74, 25.18, 23.31, 28.48, 25.23, 25.12, 28.14, 25.26, 23.25]\n",
            "Yeh h modest valueueueueuModeResult(mode=22.65, count=1)\n",
            "yeh h server round 10\n",
            "this is the min value 1.0 and this is the max value 22.65\n",
            "The epochs for the higher lr is 9 and the epochs for the standard lr is 10\n",
            "This is the last time 22.651198387145996\n",
            "This is the last time 25.739448308944702\n",
            "This is the last time 25.184452533721924\n",
            "This is the last time 23.30620050430298\n",
            "This is the last time 28.481743812561035\n",
            "This is the last time 25.226454257965088\n",
            "This is the last time 25.1224582195282\n",
            "This is the last time 28.137738943099976\n",
            "This is the last time 25.25645112991333\n",
            "This is the last time 23.246200799942017\n",
            "\u001b[36m(ClientAppActor pid=9116)\u001b[0m [Client 0] fit, config: {'lr': 0.0001, 'epochs': 9}\n",
            "\u001b[36m(ClientAppActor pid=9116)\u001b[0m Training time for Client 1: 28.14 seconds\n",
            "\u001b[36m(ClientAppActor pid=9116)\u001b[0m Epoch 1: train loss 0.000462, accuracy 0.995556\u001b[32m [repeated 10x across cluster]\u001b[0m\n",
            "\u001b[36m(ClientAppActor pid=9116)\u001b[0m [Client 9] evaluate, config: {}\u001b[32m [repeated 9x across cluster]\u001b[0m\n",
            "\u001b[36m(ClientAppActor pid=34888)\u001b[0m [Client 7] fit, config: {'lr': 0.0001, 'epochs': 9}\u001b[32m [repeated 7x across cluster]\u001b[0m\n",
            "\u001b[36m(ClientAppActor pid=22836)\u001b[0m Epoch 3: train loss 0.000132, accuracy 0.998333\u001b[32m [repeated 17x across cluster]\u001b[0m\n",
            "\u001b[36m(ClientAppActor pid=32752)\u001b[0m Epoch 5: train loss 0.000010, accuracy 1.000000\u001b[32m [repeated 17x across cluster]\u001b[0m\n",
            "\u001b[36m(ClientAppActor pid=40336)\u001b[0m Epoch 7: train loss 0.000176, accuracy 0.998519\u001b[32m [repeated 17x across cluster]\u001b[0m\n",
            "\u001b[36m(ClientAppActor pid=9116)\u001b[0m Training time for Client 0: 22.59 seconds\n",
            "\u001b[36m(ClientAppActor pid=9116)\u001b[0m [Client 3] fit, config: {'lr': 0.0001, 'epochs': 9}\n",
            "\u001b[36m(ClientAppActor pid=9116)\u001b[0m Epoch 1: train loss 0.000172, accuracy 0.998519\u001b[32m [repeated 15x across cluster]\u001b[0m\n",
            "\u001b[36m(ClientAppActor pid=34888)\u001b[0m Training time for Client 7: 22.99 seconds\u001b[32m [repeated 7x across cluster]\u001b[0m\n",
            "\u001b[36m(ClientAppActor pid=22836)\u001b[0m [Client 6] fit, config: {'lr': 0.0001, 'epochs': 9}\n",
            "\u001b[36m(ClientAppActor pid=22836)\u001b[0m Epoch 3: train loss 0.000363, accuracy 0.995185\u001b[32m [repeated 4x across cluster]\u001b[0m\n",
            "\u001b[36m(ClientAppActor pid=9116)\u001b[0m Epoch 5: train loss 0.000016, accuracy 0.999815\u001b[32m [repeated 4x across cluster]\u001b[0m\n",
            "\u001b[36m(ClientAppActor pid=9116)\u001b[0m Epoch 7: train loss 0.000834, accuracy 0.992778\u001b[32m [repeated 4x across cluster]\u001b[0m\n"
          ]
        },
        {
          "name": "stderr",
          "output_type": "stream",
          "text": [
            "\u001b[92mINFO \u001b[0m:      aggregate_fit: received 10 results and 0 failures\n",
            "\u001b[92mINFO \u001b[0m:      configure_evaluate: strategy sampled 10 clients (out of 10)\n"
          ]
        },
        {
          "name": "stdout",
          "output_type": "stream",
          "text": [
            "\u001b[36m(ClientAppActor pid=9116)\u001b[0m Training time for Client 3: 25.01 seconds\n",
            "\u001b[36m(ClientAppActor pid=22836)\u001b[0m [Client 4] evaluate, config: {}\n"
          ]
        },
        {
          "name": "stderr",
          "output_type": "stream",
          "text": [
            "\u001b[92mINFO \u001b[0m:      aggregate_evaluate: received 10 results and 0 failures\n",
            "\u001b[92mINFO \u001b[0m:      \n",
            "\u001b[92mINFO \u001b[0m:      [SUMMARY]\n",
            "\u001b[92mINFO \u001b[0m:      Run finished 10 round(s) in 515.33s\n",
            "\u001b[92mINFO \u001b[0m:      \tHistory (loss, distributed):\n",
            "\u001b[92mINFO \u001b[0m:      \t\tround 1: 0.003260608266262958\n",
            "\u001b[92mINFO \u001b[0m:      \t\tround 2: 0.0020279643287509923\n",
            "\u001b[92mINFO \u001b[0m:      \t\tround 3: 0.0018249472413371752\n",
            "\u001b[92mINFO \u001b[0m:      \t\tround 4: 0.001663201157604097\n",
            "\u001b[92mINFO \u001b[0m:      \t\tround 5: 0.0016092006796343413\n",
            "\u001b[92mINFO \u001b[0m:      \t\tround 6: 0.0014723131566662176\n",
            "\u001b[92mINFO \u001b[0m:      \t\tround 7: 0.0015191912929108846\n",
            "\u001b[92mINFO \u001b[0m:      \t\tround 8: 0.001545771204566885\n",
            "\u001b[92mINFO \u001b[0m:      \t\tround 9: 0.001489973638295538\n",
            "\u001b[92mINFO \u001b[0m:      \t\tround 10: 0.001512004874465551\n",
            "\u001b[92mINFO \u001b[0m:      \n"
          ]
        },
        {
          "data": {
            "text/plain": [
              "History (loss, distributed):\n",
              "\tround 1: 0.003260608266262958\n",
              "\tround 2: 0.0020279643287509923\n",
              "\tround 3: 0.0018249472413371752\n",
              "\tround 4: 0.001663201157604097\n",
              "\tround 5: 0.0016092006796343413\n",
              "\tround 6: 0.0014723131566662176\n",
              "\tround 7: 0.0015191912929108846\n",
              "\tround 8: 0.001545771204566885\n",
              "\tround 9: 0.001489973638295538\n",
              "\tround 10: 0.001512004874465551"
            ]
          },
          "execution_count": 16,
          "metadata": {},
          "output_type": "execute_result"
        }
      ],
      "source": [
        "strategy = FedCustom()\n",
        "#fl.common.logger.configure(identifier=\"myflExpMY\", filename=\"FLLOG_my.txt\")\n",
        "history = fl.simulation.start_simulation(client_fn=client_fn,\n",
        "                                         num_clients=10,\n",
        "                                         config=fl.server.ServerConfig(num_rounds=10),\n",
        "                                         strategy=strategy,  # <-- pass the new strategy here\n",
        "                                         client_resources=client_resources,\n",
        "\n",
        ")\n",
        "history\n"
      ]
    },
    {
      "cell_type": "code",
      "execution_count": null,
      "metadata": {},
      "outputs": [],
      "source": []
    },
    {
      "cell_type": "code",
      "execution_count": 17,
      "metadata": {},
      "outputs": [
        {
          "data": {
            "image/png": "[encoded data removed]",
            "text/plain": [
              "<Figure size 1500x500 with 2 Axes>"
            ]
          },
          "metadata": {},
          "output_type": "display_data"
        }
      ],
      "source": [
        "import matplotlib.pyplot as plt\n",
        "\n",
        "\n",
        "def plot_metrics(client_metrics, rounds: int = 10):\n",
        "    # client_metrics = strategy.client_metrics\n",
        "    client_ids = list(client_metrics.keys())\n",
        "\n",
        "    fig, axs = plt.subplots(1, 2, figsize=(15, 5))\n",
        "\n",
        "    round_max_losses: List[Tuple[int, float]] = []\n",
        "    round_max_accuracy: List[Tuple[int, float]] = []\n",
        "    round_min_losses: List[Tuple[int, float]] = []\n",
        "    round_min_accuracy: List[Tuple[int, float]] = []\n",
        "\n",
        "    for round in range(1, rounds+1):\n",
        "        metrics_round = [(metrics.epoch, metrics.loss, metrics.accuracy) for metrics_list in client_metrics.values()\n",
        "                       for metrics in metrics_list if metrics.round == round]\n",
        "        if metrics_round:\n",
        "            min_loss = min(metrics_round, key=lambda x: x[1])\n",
        "            max_loss = max(metrics_round, key=lambda x: x[1])\n",
        "            round_max_losses.append(max_loss)\n",
        "            round_min_losses.append(min_loss)\n",
        "            min_accuracy = min(metrics_round, key=lambda x: x[2])\n",
        "            max_accuracy = max(metrics_round, key=lambda x: x[2])\n",
        "            round_max_accuracy.append(max_accuracy)\n",
        "            round_min_accuracy.append(min_accuracy)\n",
        "\n",
        "    for cid in client_ids:\n",
        "        epochs = [metric.epoch for metric in client_metrics[cid]]\n",
        "        losses = [metric.loss for metric in client_metrics[cid]]\n",
        "        axs[0].plot(epochs, losses, label=f\"Client {cid}\")\n",
        "\n",
        "    max_epochs = [round_max[0] for round_max in round_max_losses]\n",
        "    max_losses = [round_max[1] for round_max in round_max_losses]\n",
        "    min_epochs = [round_min[0] for round_min in round_min_losses]\n",
        "    min_losses = [round_min[1] for round_min in round_min_losses]\n",
        "    axs[0].plot(max_epochs, max_losses, linestyle='dashed')\n",
        "    axs[0].plot(min_epochs, min_losses, linestyle='dashed')\n",
        "\n",
        "    axs[0].set_xlabel(\"Epoch\")\n",
        "    axs[0].set_ylabel(\"Loss\")\n",
        "    axs[0].legend()\n",
        "    axs[0].grid()\n",
        "\n",
        "\n",
        "    for cid in client_ids:\n",
        "        epochs = [metric.epoch for metric in client_metrics[cid]]\n",
        "        accuracies = [metric.accuracy for metric in client_metrics[cid]]\n",
        "        axs[1].plot(epochs, accuracies, label=f\"Client {cid}\")\n",
        "\n",
        "    max_epochs = [round_max[0] for round_max in round_max_accuracy]\n",
        "    max_accuracies = [round_max[2] for round_max in round_max_accuracy]\n",
        "    min_epochs = [round_min[0] for round_min in round_min_accuracy]\n",
        "    min_accuracies = [round_min[2] for round_min in round_min_accuracy]\n",
        "    axs[1].plot(max_epochs, max_accuracies, linestyle='dashed')\n",
        "    axs[1].plot(min_epochs, min_accuracies, linestyle='dashed')\n",
        "\n",
        "    axs[1].set_xlabel(\"Epoch\")\n",
        "    axs[1].set_ylabel(\"Accuracy\")\n",
        "    axs[1].legend()\n",
        "    axs[1].grid()\n",
        "\n",
        "    plt.show()\n",
        "\n",
        "plot_metrics(strategy.client_metrics)"
      ]
    },
    {
      "cell_type": "code",
      "execution_count": 18,
      "metadata": {},
      "outputs": [
        {
          "data": {
            "image/png": "[encoded data removed]",
            "text/plain": [
              "<Figure size 1200x800 with 1 Axes>"
            ]
          },
          "metadata": {},
          "output_type": "display_data"
        }
      ],
      "source": [
        "def plot_times(client_training_times):\n",
        "    client_ids = list(client_training_times.keys())\n",
        "    num_rounds = len(client_training_times[client_ids[0]])\n",
        "\n",
        "    x = np.arange(num_rounds)  # Positions of the bars\n",
        "    bar_width = 0.05 # Width of bars\n",
        "    fig, ax = plt.subplots(figsize=(12, 8))\n",
        "\n",
        "    for i, client_id in enumerate(client_ids):\n",
        "        times = client_training_times[client_id]\n",
        "        ax.bar(x + i * bar_width, times, bar_width, label=client_id)\n",
        "\n",
        "    ax.set_xlabel(\"Round\")\n",
        "    ax.set_ylabel(\"Time (seconds)\")\n",
        "    ax.set_title(\"Client Training Times\")\n",
        "    ax.set_xticks(x + bar_width * round(len(client_ids) / 2))\n",
        "    ax.set_xticklabels(np.arange(1, num_rounds + 1))\n",
        "    ax.legend()\n",
        "\n",
        "    plt.show()\n",
        "\n",
        "plot_times(strategy.client_training_times)"
      ]
    },
    {
      "cell_type": "code",
      "execution_count": 19,
      "metadata": {},
      "outputs": [
        {
          "name": "stdout",
          "output_type": "stream",
          "text": [
            "Client 8 metrics: 93\n",
            "Client 5 metrics: 91\n",
            "Client 0 metrics: 93\n",
            "Client 1 metrics: 93\n",
            "Client 3 metrics: 93\n",
            "Client 9 metrics: 94\n",
            "Client 6 metrics: 92\n",
            "Client 2 metrics: 93\n",
            "Client 4 metrics: 94\n",
            "Client 7 metrics: 93\n"
          ]
        }
      ],
      "source": [
        "for a in strategy.client_metrics:\n",
        "    print(f\"Client {a} metrics: {len(strategy.client_metrics[a])}\")"
      ]
    },
    {
      "cell_type": "code",
      "execution_count": 20,
      "metadata": {},
      "outputs": [],
      "source": [
        "class FlowerClient(fl.client.NumPyClient):\n",
        "    def __init__(self, cid, net, trainloader, valloader):\n",
        "        self.cid = cid\n",
        "        self.net = net\n",
        "        self.trainloader = trainloader\n",
        "        self.valloader = valloader\n",
        "\n",
        "    def get_parameters(self, config):\n",
        "        print(f\"[Client {self.cid}] get_parameters\")\n",
        "        return get_parameters(self.net)\n",
        "\n",
        "    def fit(self, parameters, config):\n",
        "        print(f\"[Client {self.cid}] fit, config: {config}\")\n",
        "        set_parameters(self.net, parameters)\n",
        "        start_time = time.time()  # Start time measurement\n",
        "        metrics = train(self.net, self.trainloader, epochs=10)\n",
        "        training_time = time.time() - start_time  # Calculate duration\n",
        "        return get_parameters(self.net), len(self.trainloader), {\"training_time\": training_time, \"metrics\": json.dumps(metrics)}\n",
        "\n",
        "    def evaluate(self, parameters, config):\n",
        "        print(f\"[Client {self.cid}] evaluate, config: {config}\")\n",
        "        set_parameters(self.net, parameters)\n",
        "        loss, accuracy = test(self.net, self.valloader)\n",
        "        print(f\"Client {self.cid} loss {loss}\")\n",
        "        print(f\"Client {self.cid} accuracy {accuracy}\")\n",
        "        return float(loss), len(self.valloader), {\"accuracy\": float(accuracy)}\n",
        "\n",
        "\n",
        "def client_fn(cid) -> FlowerClient:\n",
        "    net = Net().to(DEVICE) #Load Model from here\n",
        "    trainloader = trainloaders[int(cid)]\n",
        "    valloader = valloaders[int(cid)]\n",
        "    return FlowerClient(cid, net, trainloader, valloader).to_client()"
      ]
    },
    {
      "cell_type": "code",
      "execution_count": 21,
      "metadata": {},
      "outputs": [],
      "source": [
        "class FedAvgCustom(fl.server.strategy.FedAvg):\n",
        "    def __init__(\n",
        "        self,\n",
        "        fraction_fit = 1.0,\n",
        "        fraction_evaluate = 1.0,\n",
        "        min_fit_clients = 2,\n",
        "        min_evaluate_clients = 2,\n",
        "        min_available_clients = 2,\n",
        "    ):\n",
        "        super().__init__(fraction_fit = fraction_fit, fraction_evaluate = fraction_evaluate, min_fit_clients = min_fit_clients, min_evaluate_clients = min_evaluate_clients, min_available_clients = min_available_clients)\n",
        "        self.client_training_times: Dict[int, List[float]] = {}\n",
        "        self.client_metrics: Dict[int, List[ClientMetrics]] = {}\n",
        "        self.loss_extreme: Dict[int, Tuple[int, float, float]] = {}\n",
        "        self.accuracy_extreme: Dict[int, Tuple[int, float, float]] = {}\n",
        "\n",
        "    def parse_metrics(self, cid: int, server_round: int, metrics: str):\n",
        "        client_data: List[ClientMetrics] = json.loads(metrics)\n",
        "        data_store: List[ClientMetrics] = self.client_metrics.setdefault(cid, [])\n",
        "        last_epoch: int = len(data_store)\n",
        "        for data in client_data:\n",
        "            data_store.append(ClientMetrics(last_epoch, data[1], data[2], round=server_round, cid=cid))\n",
        "            last_epoch += 1\n",
        "\n",
        "    def aggregate_fit(\n",
        "        self,\n",
        "        server_round: int,\n",
        "        results: List[Tuple[ClientProxy, FitRes]],\n",
        "        failures: List[Union[Tuple[ClientProxy, FitRes], BaseException]],\n",
        "    ) -> Tuple[Optional[Parameters], Dict[str, Scalar]]:\n",
        "        \"\"\"Aggregate fit results using weighted average.\"\"\"\n",
        "        for client, fit_res in results:\n",
        "            self.client_training_times.setdefault(client.cid, []).append(fit_res.metrics.get(\"training_time\", 0))\n",
        "            self.parse_metrics(client.cid, server_round, fit_res.metrics.get(\"metrics\", None))\n",
        "        weights_results = [\n",
        "            (parameters_to_ndarrays(fit_res.parameters), fit_res.num_examples)\n",
        "            for _, fit_res in results\n",
        "        ]\n",
        "        parameters_aggregated = ndarrays_to_parameters(aggregate(weights_results))\n",
        "        metrics_aggregated = {}\n",
        "        return parameters_aggregated, metrics_aggregated\n",
        "\n"
      ]
    },
    {
      "cell_type": "code",
      "execution_count": 22,
      "metadata": {},
      "outputs": [
        {
          "name": "stderr",
          "output_type": "stream",
          "text": [
            "\u001b[92mINFO \u001b[0m:      Starting Flower simulation, config: num_rounds=10, no round_timeout\n",
            "2024-07-25 17:36:44,936\tINFO worker.py:1771 -- Started a local Ray instance.\n",
            "\u001b[92mINFO \u001b[0m:      Flower VCE: Ray initialized with resources: {'node:__internal_head__': 1.0, 'CPU': 32.0, 'memory': 72908921447.0, 'node:127.0.0.1': 1.0, 'object_store_memory': 35532394905.0, 'GPU': 1.0, 'accelerator_type:RTX': 1.0}\n",
            "\u001b[92mINFO \u001b[0m:      Optimize your simulation with Flower VCE: https://flower.ai/docs/framework/how-to-run-simulations.html\n",
            "\u001b[92mINFO \u001b[0m:      Flower VCE: Resources for each Virtual Client: {'num_gpus': 0.125, 'num_cpus': 1}\n",
            "\u001b[92mINFO \u001b[0m:      Flower VCE: Creating VirtualClientEngineActorPool with 8 actors\n",
            "\u001b[92mINFO \u001b[0m:      [INIT]\n",
            "\u001b[92mINFO \u001b[0m:      Requesting initial parameters from one random client\n",
            "\u001b[92mINFO \u001b[0m:      Received initial parameters from one random client\n",
            "\u001b[92mINFO \u001b[0m:      Evaluating initial global parameters\n",
            "\u001b[92mINFO \u001b[0m:      \n",
            "\u001b[92mINFO \u001b[0m:      [ROUND 1]\n",
            "\u001b[92mINFO \u001b[0m:      configure_fit: strategy sampled 10 clients (out of 10)\n"
          ]
        },
        {
          "name": "stdout",
          "output_type": "stream",
          "text": [
            "\u001b[36m(ClientAppActor pid=8464)\u001b[0m [Client 6] get_parameters\n",
            "\u001b[36m(ClientAppActor pid=8464)\u001b[0m [Client 9] fit, config: {}\n",
            "\u001b[36m(ClientAppActor pid=8464)\u001b[0m Epoch 0: train loss 0.027569, accuracy 0.730370\n",
            "\u001b[36m(ClientAppActor pid=24956)\u001b[0m [Client 4] fit, config: {}\n",
            "\u001b[36m(ClientAppActor pid=20812)\u001b[0m [Client 2] fit, config: {}\n",
            "\u001b[36m(ClientAppActor pid=8464)\u001b[0m Epoch 1: train loss 0.006504, accuracy 0.937407\n",
            "\u001b[36m(ClientAppActor pid=38804)\u001b[0m Epoch 0: train loss 0.027804, accuracy 0.707963\u001b[32m [repeated 3x across cluster]\u001b[0m\n",
            "\u001b[36m(ClientAppActor pid=26384)\u001b[0m [Client 5] fit, config: {}\u001b[32m [repeated 5x across cluster]\u001b[0m\n",
            "\u001b[36m(ClientAppActor pid=22656)\u001b[0m Epoch 2: train loss 0.004584, accuracy 0.954815\u001b[32m [repeated 16x across cluster]\u001b[0m\n",
            "\u001b[36m(ClientAppActor pid=22656)\u001b[0m Epoch 4: train loss 0.002704, accuracy 0.970370\u001b[32m [repeated 17x across cluster]\u001b[0m\n",
            "\u001b[36m(ClientAppActor pid=22656)\u001b[0m Epoch 6: train loss 0.001683, accuracy 0.982778\u001b[32m [repeated 16x across cluster]\u001b[0m\n",
            "\u001b[36m(ClientAppActor pid=8464)\u001b[0m [Client 3] fit, config: {}\n",
            "\u001b[36m(ClientAppActor pid=22656)\u001b[0m Epoch 8: train loss 0.001200, accuracy 0.986667\u001b[32m [repeated 16x across cluster]\u001b[0m\n",
            "\u001b[36m(ClientAppActor pid=20812)\u001b[0m [Client 8] fit, config: {}\n",
            "\u001b[36m(ClientAppActor pid=8464)\u001b[0m Epoch 3: train loss 0.003343, accuracy 0.967778\u001b[32m [repeated 15x across cluster]\u001b[0m\n",
            "\u001b[36m(ClientAppActor pid=8464)\u001b[0m Epoch 5: train loss 0.002083, accuracy 0.978333\u001b[32m [repeated 4x across cluster]\u001b[0m\n",
            "\u001b[36m(ClientAppActor pid=8464)\u001b[0m Epoch 7: train loss 0.001696, accuracy 0.983148\u001b[32m [repeated 4x across cluster]\u001b[0m\n",
            "\u001b[36m(ClientAppActor pid=8464)\u001b[0m Epoch 9: train loss 0.000912, accuracy 0.991667\u001b[32m [repeated 4x across cluster]\u001b[0m\n"
          ]
        },
        {
          "name": "stderr",
          "output_type": "stream",
          "text": [
            "\u001b[92mINFO \u001b[0m:      aggregate_fit: received 10 results and 0 failures\n",
            "\u001b[92mINFO \u001b[0m:      configure_evaluate: strategy sampled 10 clients (out of 10)\n"
          ]
        },
        {
          "name": "stdout",
          "output_type": "stream",
          "text": [
            "\u001b[36m(ClientAppActor pid=20812)\u001b[0m Epoch 9: train loss 0.001026, accuracy 0.989074\u001b[32m [repeated 3x across cluster]\u001b[0m\n",
            "\u001b[36m(ClientAppActor pid=20812)\u001b[0m [Client 4] evaluate, config: {}\n",
            "\u001b[36m(ClientAppActor pid=20812)\u001b[0m Client 4 loss 0.0034552832785993814\n",
            "\u001b[36m(ClientAppActor pid=20812)\u001b[0m Client 4 accuracy 0.9683333333333334\n"
          ]
        },
        {
          "name": "stderr",
          "output_type": "stream",
          "text": [
            "\u001b[92mINFO \u001b[0m:      aggregate_evaluate: received 10 results and 0 failures\n",
            "\u001b[93mWARNING \u001b[0m:   No evaluate_metrics_aggregation_fn provided\n",
            "\u001b[92mINFO \u001b[0m:      \n",
            "\u001b[92mINFO \u001b[0m:      [ROUND 2]\n",
            "\u001b[92mINFO \u001b[0m:      configure_fit: strategy sampled 10 clients (out of 10)\n"
          ]
        },
        {
          "name": "stdout",
          "output_type": "stream",
          "text": [
            "\u001b[36m(ClientAppActor pid=8464)\u001b[0m [Client 3] fit, config: {}\n",
            "\u001b[36m(ClientAppActor pid=8464)\u001b[0m Epoch 1: train loss 0.001837, accuracy 0.982222\u001b[32m [repeated 9x across cluster]\u001b[0m\n",
            "\u001b[36m(ClientAppActor pid=8464)\u001b[0m [Client 1] evaluate, config: {}\u001b[32m [repeated 9x across cluster]\u001b[0m\n",
            "\u001b[36m(ClientAppActor pid=8464)\u001b[0m Client 1 loss 0.0029665217098469535\u001b[32m [repeated 9x across cluster]\u001b[0m\n",
            "\u001b[36m(ClientAppActor pid=8464)\u001b[0m Client 1 accuracy 0.9716666666666667\u001b[32m [repeated 9x across cluster]\u001b[0m\n",
            "\u001b[36m(ClientAppActor pid=26384)\u001b[0m [Client 6] fit, config: {}\u001b[32m [repeated 7x across cluster]\u001b[0m\n",
            "\u001b[36m(ClientAppActor pid=22656)\u001b[0m Epoch 3: train loss 0.001230, accuracy 0.987593\u001b[32m [repeated 16x across cluster]\u001b[0m\n",
            "\u001b[36m(ClientAppActor pid=22656)\u001b[0m Epoch 5: train loss 0.000686, accuracy 0.994074\u001b[32m [repeated 16x across cluster]\u001b[0m\n",
            "\u001b[36m(ClientAppActor pid=22656)\u001b[0m Epoch 7: train loss 0.000537, accuracy 0.994815\u001b[32m [repeated 16x across cluster]\u001b[0m\n",
            "\u001b[36m(ClientAppActor pid=20812)\u001b[0m [Client 4] fit, config: {}\n",
            "\u001b[36m(ClientAppActor pid=20812)\u001b[0m Epoch 9: train loss 0.000035, accuracy 1.000000\u001b[32m [repeated 17x across cluster]\u001b[0m\n",
            "\u001b[36m(ClientAppActor pid=22656)\u001b[0m [Client 8] fit, config: {}\n",
            "\u001b[36m(ClientAppActor pid=20812)\u001b[0m Epoch 1: train loss 0.001875, accuracy 0.980000\u001b[32m [repeated 9x across cluster]\u001b[0m\n",
            "\u001b[36m(ClientAppActor pid=20812)\u001b[0m Epoch 3: train loss 0.001206, accuracy 0.986852\u001b[32m [repeated 4x across cluster]\u001b[0m\n",
            "\u001b[36m(ClientAppActor pid=22656)\u001b[0m Epoch 5: train loss 0.000595, accuracy 0.994259\u001b[32m [repeated 4x across cluster]\u001b[0m\n",
            "\u001b[36m(ClientAppActor pid=22656)\u001b[0m Epoch 7: train loss 0.000620, accuracy 0.992963\u001b[32m [repeated 4x across cluster]\u001b[0m\n",
            "\u001b[36m(ClientAppActor pid=22656)\u001b[0m Epoch 9: train loss 0.000186, accuracy 0.997963\u001b[32m [repeated 4x across cluster]\u001b[0m\n"
          ]
        },
        {
          "name": "stderr",
          "output_type": "stream",
          "text": [
            "\u001b[92mINFO \u001b[0m:      aggregate_fit: received 10 results and 0 failures\n",
            "\u001b[92mINFO \u001b[0m:      configure_evaluate: strategy sampled 10 clients (out of 10)\n"
          ]
        },
        {
          "name": "stdout",
          "output_type": "stream",
          "text": [
            "\u001b[36m(ClientAppActor pid=20812)\u001b[0m [Client 6] evaluate, config: {}\n",
            "\u001b[36m(ClientAppActor pid=20812)\u001b[0m Client 6 loss 0.0014569754267480068\n",
            "\u001b[36m(ClientAppActor pid=20812)\u001b[0m Client 6 accuracy 0.9883333333333333\n"
          ]
        },
        {
          "name": "stderr",
          "output_type": "stream",
          "text": [
            "\u001b[92mINFO \u001b[0m:      aggregate_evaluate: received 10 results and 0 failures\n",
            "\u001b[92mINFO \u001b[0m:      \n",
            "\u001b[92mINFO \u001b[0m:      [ROUND 3]\n",
            "\u001b[92mINFO \u001b[0m:      configure_fit: strategy sampled 10 clients (out of 10)\n"
          ]
        },
        {
          "name": "stdout",
          "output_type": "stream",
          "text": [
            "\u001b[36m(ClientAppActor pid=38804)\u001b[0m [Client 6] fit, config: {}\n",
            "\u001b[36m(ClientAppActor pid=38804)\u001b[0m Epoch 0: train loss 0.001970, accuracy 0.981296\u001b[32m [repeated 2x across cluster]\u001b[0m\n",
            "\u001b[36m(ClientAppActor pid=38804)\u001b[0m [Client 7] evaluate, config: {}\u001b[32m [repeated 9x across cluster]\u001b[0m\n",
            "\u001b[36m(ClientAppActor pid=38804)\u001b[0m Client 7 loss 0.0015181118463927607\u001b[32m [repeated 9x across cluster]\u001b[0m\n",
            "\u001b[36m(ClientAppActor pid=38804)\u001b[0m Client 7 accuracy 0.99\u001b[32m [repeated 9x across cluster]\u001b[0m\n",
            "\u001b[36m(ClientAppActor pid=6040)\u001b[0m [Client 9] fit, config: {}\u001b[32m [repeated 7x across cluster]\u001b[0m\n",
            "\u001b[36m(ClientAppActor pid=38804)\u001b[0m Epoch 2: train loss 0.000739, accuracy 0.993148\u001b[32m [repeated 17x across cluster]\u001b[0m\n",
            "\u001b[36m(ClientAppActor pid=22656)\u001b[0m Epoch 4: train loss 0.000476, accuracy 0.995370\u001b[32m [repeated 16x across cluster]\u001b[0m\n",
            "\u001b[36m(ClientAppActor pid=38804)\u001b[0m Epoch 6: train loss 0.000434, accuracy 0.996481\u001b[32m [repeated 17x across cluster]\u001b[0m\n",
            "\u001b[36m(ClientAppActor pid=6040)\u001b[0m Epoch 8: train loss 0.000130, accuracy 0.998704\u001b[32m [repeated 17x across cluster]\u001b[0m\n",
            "\u001b[36m(ClientAppActor pid=8464)\u001b[0m [Client 7] fit, config: {}\n",
            "\u001b[36m(ClientAppActor pid=20812)\u001b[0m Epoch 0: train loss 0.001741, accuracy 0.982778\u001b[32m [repeated 14x across cluster]\u001b[0m\n",
            "\u001b[36m(ClientAppActor pid=20812)\u001b[0m [Client 1] fit, config: {}\n",
            "\u001b[36m(ClientAppActor pid=8464)\u001b[0m Epoch 2: train loss 0.000414, accuracy 0.996481\u001b[32m [repeated 3x across cluster]\u001b[0m\n",
            "\u001b[36m(ClientAppActor pid=20812)\u001b[0m Epoch 4: train loss 0.000473, accuracy 0.995741\u001b[32m [repeated 4x across cluster]\u001b[0m\n",
            "\u001b[36m(ClientAppActor pid=8464)\u001b[0m Epoch 6: train loss 0.000139, accuracy 0.998519\u001b[32m [repeated 4x across cluster]\u001b[0m\n",
            "\u001b[36m(ClientAppActor pid=8464)\u001b[0m Epoch 8: train loss 0.000763, accuracy 0.992778\u001b[32m [repeated 4x across cluster]\u001b[0m\n"
          ]
        },
        {
          "name": "stderr",
          "output_type": "stream",
          "text": [
            "\u001b[92mINFO \u001b[0m:      aggregate_fit: received 10 results and 0 failures\n",
            "\u001b[92mINFO \u001b[0m:      configure_evaluate: strategy sampled 10 clients (out of 10)\n"
          ]
        },
        {
          "name": "stdout",
          "output_type": "stream",
          "text": [
            "\u001b[36m(ClientAppActor pid=20812)\u001b[0m [Client 8] evaluate, config: {}\n",
            "\u001b[36m(ClientAppActor pid=20812)\u001b[0m Client 8 loss 0.000746435475157341\n",
            "\u001b[36m(ClientAppActor pid=20812)\u001b[0m Client 8 accuracy 0.9933333333333333\n"
          ]
        },
        {
          "name": "stderr",
          "output_type": "stream",
          "text": [
            "\u001b[92mINFO \u001b[0m:      aggregate_evaluate: received 10 results and 0 failures\n",
            "\u001b[92mINFO \u001b[0m:      \n",
            "\u001b[92mINFO \u001b[0m:      [ROUND 4]\n",
            "\u001b[92mINFO \u001b[0m:      configure_fit: strategy sampled 10 clients (out of 10)\n"
          ]
        },
        {
          "name": "stdout",
          "output_type": "stream",
          "text": [
            "\u001b[36m(ClientAppActor pid=8464)\u001b[0m [Client 4] fit, config: {}\n",
            "\u001b[36m(ClientAppActor pid=20812)\u001b[0m Epoch 9: train loss 0.000142, accuracy 0.998889\u001b[32m [repeated 3x across cluster]\u001b[0m\n",
            "\u001b[36m(ClientAppActor pid=8464)\u001b[0m [Client 0] evaluate, config: {}\u001b[32m [repeated 9x across cluster]\u001b[0m\n",
            "\u001b[36m(ClientAppActor pid=8464)\u001b[0m Client 0 loss 0.0024626835107149723\u001b[32m [repeated 9x across cluster]\u001b[0m\n",
            "\u001b[36m(ClientAppActor pid=8464)\u001b[0m Client 0 accuracy 0.9866666666666667\u001b[32m [repeated 9x across cluster]\u001b[0m\n",
            "\u001b[36m(ClientAppActor pid=26384)\u001b[0m [Client 6] fit, config: {}\u001b[32m [repeated 7x across cluster]\u001b[0m\n",
            "\u001b[36m(ClientAppActor pid=24956)\u001b[0m Epoch 1: train loss 0.000455, accuracy 0.994074\u001b[32m [repeated 13x across cluster]\u001b[0m\n",
            "\u001b[36m(ClientAppActor pid=6040)\u001b[0m Epoch 3: train loss 0.000500, accuracy 0.993519\u001b[32m [repeated 18x across cluster]\u001b[0m\n",
            "\u001b[36m(ClientAppActor pid=6040)\u001b[0m Epoch 5: train loss 0.000337, accuracy 0.996667\u001b[32m [repeated 16x across cluster]\u001b[0m\n",
            "\u001b[36m(ClientAppActor pid=19680)\u001b[0m Epoch 7: train loss 0.000031, accuracy 1.000000\u001b[32m [repeated 17x across cluster]\u001b[0m\n",
            "\u001b[36m(ClientAppActor pid=6040)\u001b[0m [Client 8] fit, config: {}\n",
            "\u001b[36m(ClientAppActor pid=24956)\u001b[0m Epoch 0: train loss 0.001765, accuracy 0.983333\u001b[32m [repeated 17x across cluster]\u001b[0m\n",
            "\u001b[36m(ClientAppActor pid=24956)\u001b[0m [Client 5] fit, config: {}\n",
            "\u001b[36m(ClientAppActor pid=24956)\u001b[0m Epoch 2: train loss 0.000422, accuracy 0.996667\u001b[32m [repeated 4x across cluster]\u001b[0m\n",
            "\u001b[36m(ClientAppActor pid=24956)\u001b[0m Epoch 4: train loss 0.000111, accuracy 0.999259\u001b[32m [repeated 4x across cluster]\u001b[0m\n",
            "\u001b[36m(ClientAppActor pid=24956)\u001b[0m Epoch 6: train loss 0.000821, accuracy 0.991667\u001b[32m [repeated 4x across cluster]\u001b[0m\n",
            "\u001b[36m(ClientAppActor pid=24956)\u001b[0m Epoch 8: train loss 0.000276, accuracy 0.997778\u001b[32m [repeated 4x across cluster]\u001b[0m\n"
          ]
        },
        {
          "name": "stderr",
          "output_type": "stream",
          "text": [
            "\u001b[92mINFO \u001b[0m:      aggregate_fit: received 10 results and 0 failures\n",
            "\u001b[92mINFO \u001b[0m:      configure_evaluate: strategy sampled 10 clients (out of 10)\n"
          ]
        },
        {
          "name": "stdout",
          "output_type": "stream",
          "text": [
            "\u001b[36m(ClientAppActor pid=6040)\u001b[0m [Client 9] evaluate, config: {}\n",
            "\u001b[36m(ClientAppActor pid=6040)\u001b[0m Client 9 loss 0.001271299520200652\n",
            "\u001b[36m(ClientAppActor pid=6040)\u001b[0m Client 9 accuracy 0.9916666666666667\n"
          ]
        },
        {
          "name": "stderr",
          "output_type": "stream",
          "text": [
            "\u001b[92mINFO \u001b[0m:      aggregate_evaluate: received 10 results and 0 failures\n",
            "\u001b[92mINFO \u001b[0m:      \n",
            "\u001b[92mINFO \u001b[0m:      [ROUND 5]\n",
            "\u001b[92mINFO \u001b[0m:      configure_fit: strategy sampled 10 clients (out of 10)\n"
          ]
        },
        {
          "name": "stdout",
          "output_type": "stream",
          "text": [
            "\u001b[36m(ClientAppActor pid=19680)\u001b[0m [Client 8] fit, config: {}\n",
            "\u001b[36m(ClientAppActor pid=6040)\u001b[0m Epoch 9: train loss 0.000004, accuracy 1.000000\u001b[32m [repeated 3x across cluster]\u001b[0m\n",
            "\u001b[36m(ClientAppActor pid=19680)\u001b[0m [Client 3] evaluate, config: {}\u001b[32m [repeated 9x across cluster]\u001b[0m\n",
            "\u001b[36m(ClientAppActor pid=19680)\u001b[0m Client 3 loss 0.002794803991844219\u001b[32m [repeated 9x across cluster]\u001b[0m\n",
            "\u001b[36m(ClientAppActor pid=19680)\u001b[0m Client 3 accuracy 0.9833333333333333\u001b[32m [repeated 9x across cluster]\u001b[0m\n",
            "\u001b[36m(ClientAppActor pid=20812)\u001b[0m [Client 4] fit, config: {}\u001b[32m [repeated 7x across cluster]\u001b[0m\n",
            "\u001b[36m(ClientAppActor pid=19680)\u001b[0m Epoch 1: train loss 0.000511, accuracy 0.995000\u001b[32m [repeated 10x across cluster]\u001b[0m\n",
            "\u001b[36m(ClientAppActor pid=20812)\u001b[0m Epoch 3: train loss 0.000226, accuracy 0.998333\u001b[32m [repeated 16x across cluster]\u001b[0m\n",
            "\u001b[36m(ClientAppActor pid=22656)\u001b[0m Epoch 5: train loss 0.000682, accuracy 0.994074\u001b[32m [repeated 17x across cluster]\u001b[0m\n",
            "\u001b[36m(ClientAppActor pid=38804)\u001b[0m Epoch 7: train loss 0.000025, accuracy 0.999815\u001b[32m [repeated 17x across cluster]\u001b[0m\n",
            "\u001b[36m(ClientAppActor pid=6040)\u001b[0m [Client 0] fit, config: {}\n",
            "\u001b[36m(ClientAppActor pid=38804)\u001b[0m Epoch 9: train loss 0.000312, accuracy 0.997222\u001b[32m [repeated 17x across cluster]\u001b[0m\n",
            "\u001b[36m(ClientAppActor pid=20812)\u001b[0m [Client 6] fit, config: {}\n",
            "\u001b[36m(ClientAppActor pid=20812)\u001b[0m Epoch 1: train loss 0.000483, accuracy 0.994259\u001b[32m [repeated 7x across cluster]\u001b[0m\n",
            "\u001b[36m(ClientAppActor pid=20812)\u001b[0m Epoch 3: train loss 0.000181, accuracy 0.998148\u001b[32m [repeated 4x across cluster]\u001b[0m\n",
            "\u001b[36m(ClientAppActor pid=20812)\u001b[0m Epoch 5: train loss 0.000077, accuracy 0.999630\u001b[32m [repeated 4x across cluster]\u001b[0m\n",
            "\u001b[36m(ClientAppActor pid=20812)\u001b[0m Epoch 7: train loss 0.000004, accuracy 1.000000\u001b[32m [repeated 4x across cluster]\u001b[0m\n"
          ]
        },
        {
          "name": "stderr",
          "output_type": "stream",
          "text": [
            "\u001b[92mINFO \u001b[0m:      aggregate_fit: received 10 results and 0 failures\n",
            "\u001b[92mINFO \u001b[0m:      configure_evaluate: strategy sampled 10 clients (out of 10)\n"
          ]
        },
        {
          "name": "stdout",
          "output_type": "stream",
          "text": [
            "\u001b[36m(ClientAppActor pid=20812)\u001b[0m Epoch 9: train loss 0.000003, accuracy 1.000000\u001b[32m [repeated 4x across cluster]\u001b[0m\n",
            "\u001b[36m(ClientAppActor pid=20812)\u001b[0m [Client 2] evaluate, config: {}\n",
            "\u001b[36m(ClientAppActor pid=6040)\u001b[0m Client 0 loss 0.0025497271985036227\n",
            "\u001b[36m(ClientAppActor pid=6040)\u001b[0m Client 0 accuracy 0.985\n"
          ]
        },
        {
          "name": "stderr",
          "output_type": "stream",
          "text": [
            "\u001b[92mINFO \u001b[0m:      aggregate_evaluate: received 10 results and 0 failures\n",
            "\u001b[92mINFO \u001b[0m:      \n",
            "\u001b[92mINFO \u001b[0m:      [ROUND 6]\n",
            "\u001b[92mINFO \u001b[0m:      configure_fit: strategy sampled 10 clients (out of 10)\n"
          ]
        },
        {
          "name": "stdout",
          "output_type": "stream",
          "text": [
            "\u001b[36m(ClientAppActor pid=6040)\u001b[0m [Client 0] fit, config: {}\n",
            "\u001b[36m(ClientAppActor pid=6040)\u001b[0m Epoch 1: train loss 0.000474, accuracy 0.995370\u001b[32m [repeated 9x across cluster]\u001b[0m\n",
            "\u001b[36m(ClientAppActor pid=6040)\u001b[0m [Client 6] evaluate, config: {}\u001b[32m [repeated 9x across cluster]\u001b[0m\n",
            "\u001b[36m(ClientAppActor pid=6040)\u001b[0m Client 6 loss 0.0013625098838095557\u001b[32m [repeated 9x across cluster]\u001b[0m\n",
            "\u001b[36m(ClientAppActor pid=6040)\u001b[0m Client 6 accuracy 0.99\u001b[32m [repeated 9x across cluster]\u001b[0m\n",
            "\u001b[36m(ClientAppActor pid=19680)\u001b[0m [Client 1] fit, config: {}\u001b[32m [repeated 7x across cluster]\u001b[0m\n",
            "\u001b[36m(ClientAppActor pid=24956)\u001b[0m Epoch 3: train loss 0.000186, accuracy 0.998889\u001b[32m [repeated 17x across cluster]\u001b[0m\n",
            "\u001b[36m(ClientAppActor pid=22656)\u001b[0m Epoch 5: train loss 0.000010, accuracy 1.000000\u001b[32m [repeated 17x across cluster]\u001b[0m\n",
            "\u001b[36m(ClientAppActor pid=24956)\u001b[0m Epoch 7: train loss 0.000792, accuracy 0.993519\u001b[32m [repeated 17x across cluster]\u001b[0m\n",
            "\u001b[36m(ClientAppActor pid=20812)\u001b[0m [Client 5] fit, config: {}\n",
            "\u001b[36m(ClientAppActor pid=22656)\u001b[0m Epoch 9: train loss 0.000002, accuracy 1.000000\u001b[32m [repeated 14x across cluster]\u001b[0m\n",
            "\u001b[36m(ClientAppActor pid=22656)\u001b[0m [Client 9] fit, config: {}\n",
            "\u001b[36m(ClientAppActor pid=22656)\u001b[0m Epoch 1: train loss 0.000362, accuracy 0.996111\u001b[32m [repeated 10x across cluster]\u001b[0m\n",
            "\u001b[36m(ClientAppActor pid=20812)\u001b[0m Epoch 3: train loss 0.000063, accuracy 0.999815\u001b[32m [repeated 3x across cluster]\u001b[0m\n",
            "\u001b[36m(ClientAppActor pid=20812)\u001b[0m Epoch 5: train loss 0.000039, accuracy 0.999630\u001b[32m [repeated 4x across cluster]\u001b[0m\n",
            "\u001b[36m(ClientAppActor pid=20812)\u001b[0m Epoch 7: train loss 0.000043, accuracy 0.999630\u001b[32m [repeated 4x across cluster]\u001b[0m\n"
          ]
        },
        {
          "name": "stderr",
          "output_type": "stream",
          "text": [
            "\u001b[92mINFO \u001b[0m:      aggregate_fit: received 10 results and 0 failures\n"
          ]
        },
        {
          "name": "stdout",
          "output_type": "stream",
          "text": [
            "\u001b[36m(ClientAppActor pid=20812)\u001b[0m Epoch 9: train loss 0.000776, accuracy 0.993148\u001b[32m [repeated 4x across cluster]\u001b[0m\n"
          ]
        },
        {
          "name": "stderr",
          "output_type": "stream",
          "text": [
            "\u001b[92mINFO \u001b[0m:      configure_evaluate: strategy sampled 10 clients (out of 10)\n"
          ]
        },
        {
          "name": "stdout",
          "output_type": "stream",
          "text": [
            "\u001b[36m(ClientAppActor pid=22656)\u001b[0m [Client 7] evaluate, config: {}\n",
            "\u001b[36m(ClientAppActor pid=22656)\u001b[0m Client 7 loss 0.0005842528126944065\n",
            "\u001b[36m(ClientAppActor pid=22656)\u001b[0m Client 7 accuracy 0.9933333333333333\n"
          ]
        },
        {
          "name": "stderr",
          "output_type": "stream",
          "text": [
            "\u001b[92mINFO \u001b[0m:      aggregate_evaluate: received 10 results and 0 failures\n",
            "\u001b[92mINFO \u001b[0m:      \n",
            "\u001b[92mINFO \u001b[0m:      [ROUND 7]\n",
            "\u001b[92mINFO \u001b[0m:      configure_fit: strategy sampled 10 clients (out of 10)\n"
          ]
        },
        {
          "name": "stdout",
          "output_type": "stream",
          "text": [
            "\u001b[36m(ClientAppActor pid=6040)\u001b[0m [Client 0] fit, config: {}\n",
            "\u001b[36m(ClientAppActor pid=22656)\u001b[0m Epoch 1: train loss 0.000410, accuracy 0.995370\u001b[32m [repeated 10x across cluster]\u001b[0m\n",
            "\u001b[36m(ClientAppActor pid=6040)\u001b[0m [Client 1] evaluate, config: {}\u001b[32m [repeated 9x across cluster]\u001b[0m\n",
            "\u001b[36m(ClientAppActor pid=6040)\u001b[0m Client 1 loss 0.0022856327590805373\u001b[32m [repeated 9x across cluster]\u001b[0m\n",
            "\u001b[36m(ClientAppActor pid=6040)\u001b[0m Client 1 accuracy 0.985\u001b[32m [repeated 9x across cluster]\u001b[0m\n",
            "\u001b[36m(ClientAppActor pid=20812)\u001b[0m [Client 8] fit, config: {}\u001b[32m [repeated 7x across cluster]\u001b[0m\n",
            "\u001b[36m(ClientAppActor pid=26384)\u001b[0m Epoch 3: train loss 0.000145, accuracy 0.998148\u001b[32m [repeated 16x across cluster]\u001b[0m\n",
            "\u001b[36m(ClientAppActor pid=22656)\u001b[0m Epoch 5: train loss 0.000004, accuracy 1.000000\u001b[32m [repeated 17x across cluster]\u001b[0m\n",
            "\u001b[36m(ClientAppActor pid=22656)\u001b[0m Epoch 7: train loss 0.000002, accuracy 1.000000\u001b[32m [repeated 15x across cluster]\u001b[0m\n",
            "\u001b[36m(ClientAppActor pid=22656)\u001b[0m [Client 3] fit, config: {}\n",
            "\u001b[36m(ClientAppActor pid=22656)\u001b[0m Epoch 9: train loss 0.000002, accuracy 1.000000\u001b[32m [repeated 16x across cluster]\u001b[0m\n",
            "\u001b[36m(ClientAppActor pid=26384)\u001b[0m [Client 5] fit, config: {}\n",
            "\u001b[36m(ClientAppActor pid=22656)\u001b[0m Epoch 1: train loss 0.000329, accuracy 0.997593\u001b[32m [repeated 10x across cluster]\u001b[0m\n",
            "\u001b[36m(ClientAppActor pid=22656)\u001b[0m Epoch 3: train loss 0.000217, accuracy 0.997963\u001b[32m [repeated 4x across cluster]\u001b[0m\n",
            "\u001b[36m(ClientAppActor pid=22656)\u001b[0m Epoch 5: train loss 0.000037, accuracy 0.999815\u001b[32m [repeated 4x across cluster]\u001b[0m\n",
            "\u001b[36m(ClientAppActor pid=22656)\u001b[0m Epoch 7: train loss 0.000016, accuracy 1.000000\u001b[32m [repeated 4x across cluster]\u001b[0m\n"
          ]
        },
        {
          "name": "stderr",
          "output_type": "stream",
          "text": [
            "\u001b[92mINFO \u001b[0m:      aggregate_fit: received 10 results and 0 failures\n",
            "\u001b[92mINFO \u001b[0m:      configure_evaluate: strategy sampled 10 clients (out of 10)\n"
          ]
        },
        {
          "name": "stdout",
          "output_type": "stream",
          "text": [
            "\u001b[36m(ClientAppActor pid=22656)\u001b[0m Epoch 9: train loss 0.000459, accuracy 0.995926\u001b[32m [repeated 4x across cluster]\u001b[0m\n",
            "\u001b[36m(ClientAppActor pid=26384)\u001b[0m [Client 8] evaluate, config: {}\n",
            "\u001b[36m(ClientAppActor pid=26384)\u001b[0m Client 8 loss 0.0007876260372900863\n",
            "\u001b[36m(ClientAppActor pid=26384)\u001b[0m Client 8 accuracy 0.995\n"
          ]
        },
        {
          "name": "stderr",
          "output_type": "stream",
          "text": [
            "\u001b[92mINFO \u001b[0m:      aggregate_evaluate: received 10 results and 0 failures\n",
            "\u001b[92mINFO \u001b[0m:      \n",
            "\u001b[92mINFO \u001b[0m:      [ROUND 8]\n",
            "\u001b[92mINFO \u001b[0m:      configure_fit: strategy sampled 10 clients (out of 10)\n"
          ]
        },
        {
          "name": "stdout",
          "output_type": "stream",
          "text": [
            "\u001b[36m(ClientAppActor pid=38804)\u001b[0m [Client 7] fit, config: {}\n",
            "\u001b[36m(ClientAppActor pid=38804)\u001b[0m Epoch 1: train loss 0.000351, accuracy 0.995370\u001b[32m [repeated 10x across cluster]\u001b[0m\n",
            "\u001b[36m(ClientAppActor pid=38804)\u001b[0m [Client 0] evaluate, config: {}\u001b[32m [repeated 9x across cluster]\u001b[0m\n",
            "\u001b[36m(ClientAppActor pid=38804)\u001b[0m Client 0 loss 0.0029651782631109095\u001b[32m [repeated 9x across cluster]\u001b[0m\n",
            "\u001b[36m(ClientAppActor pid=38804)\u001b[0m Client 0 accuracy 0.9866666666666667\u001b[32m [repeated 9x across cluster]\u001b[0m\n",
            "\u001b[36m(ClientAppActor pid=22656)\u001b[0m [Client 8] fit, config: {}\u001b[32m [repeated 7x across cluster]\u001b[0m\n",
            "\u001b[36m(ClientAppActor pid=38804)\u001b[0m Epoch 3: train loss 0.000040, accuracy 0.999630\u001b[32m [repeated 16x across cluster]\u001b[0m\n",
            "\u001b[36m(ClientAppActor pid=8464)\u001b[0m Epoch 5: train loss 0.000005, accuracy 1.000000\u001b[32m [repeated 16x across cluster]\u001b[0m\n",
            "\u001b[36m(ClientAppActor pid=8464)\u001b[0m Epoch 7: train loss 0.000002, accuracy 1.000000\u001b[32m [repeated 16x across cluster]\u001b[0m\n",
            "\u001b[36m(ClientAppActor pid=22656)\u001b[0m Epoch 9: train loss 0.000001, accuracy 1.000000\u001b[32m [repeated 16x across cluster]\u001b[0m\n",
            "\u001b[36m(ClientAppActor pid=26384)\u001b[0m [Client 3] fit, config: {}\n",
            "\u001b[36m(ClientAppActor pid=26384)\u001b[0m Epoch 1: train loss 0.000346, accuracy 0.996481\u001b[32m [repeated 10x across cluster]\u001b[0m\n",
            "\u001b[36m(ClientAppActor pid=22656)\u001b[0m [Client 5] fit, config: {}\n",
            "\u001b[36m(ClientAppActor pid=22656)\u001b[0m Epoch 3: train loss 0.000054, accuracy 0.999630\u001b[32m [repeated 4x across cluster]\u001b[0m\n",
            "\u001b[36m(ClientAppActor pid=22656)\u001b[0m Epoch 5: train loss 0.000011, accuracy 1.000000\u001b[32m [repeated 4x across cluster]\u001b[0m\n",
            "\u001b[36m(ClientAppActor pid=22656)\u001b[0m Epoch 7: train loss 0.000003, accuracy 1.000000\u001b[32m [repeated 4x across cluster]\u001b[0m\n"
          ]
        },
        {
          "name": "stderr",
          "output_type": "stream",
          "text": [
            "\u001b[92mINFO \u001b[0m:      aggregate_fit: received 10 results and 0 failures\n",
            "\u001b[92mINFO \u001b[0m:      configure_evaluate: strategy sampled 10 clients (out of 10)\n"
          ]
        },
        {
          "name": "stdout",
          "output_type": "stream",
          "text": [
            "\u001b[36m(ClientAppActor pid=22656)\u001b[0m Epoch 9: train loss 0.000002, accuracy 1.000000\u001b[32m [repeated 4x across cluster]\u001b[0m\n",
            "\u001b[36m(ClientAppActor pid=26384)\u001b[0m [Client 3] evaluate, config: {}\n",
            "\u001b[36m(ClientAppActor pid=26384)\u001b[0m Client 3 loss 0.0024304794358313113\n",
            "\u001b[36m(ClientAppActor pid=26384)\u001b[0m Client 3 accuracy 0.9833333333333333\n"
          ]
        },
        {
          "name": "stderr",
          "output_type": "stream",
          "text": [
            "\u001b[92mINFO \u001b[0m:      aggregate_evaluate: received 10 results and 0 failures\n",
            "\u001b[92mINFO \u001b[0m:      \n",
            "\u001b[92mINFO \u001b[0m:      [ROUND 9]\n",
            "\u001b[92mINFO \u001b[0m:      configure_fit: strategy sampled 10 clients (out of 10)\n"
          ]
        },
        {
          "name": "stdout",
          "output_type": "stream",
          "text": [
            "\u001b[36m(ClientAppActor pid=20812)\u001b[0m [Client 0] fit, config: {}\n",
            "\u001b[36m(ClientAppActor pid=20812)\u001b[0m Epoch 1: train loss 0.000146, accuracy 0.998889\u001b[32m [repeated 10x across cluster]\u001b[0m\n",
            "\u001b[36m(ClientAppActor pid=20812)\u001b[0m [Client 2] evaluate, config: {}\u001b[32m [repeated 9x across cluster]\u001b[0m\n",
            "\u001b[36m(ClientAppActor pid=20812)\u001b[0m Client 2 loss 0.0015997064232279002\u001b[32m [repeated 9x across cluster]\u001b[0m\n",
            "\u001b[36m(ClientAppActor pid=20812)\u001b[0m Client 2 accuracy 0.9866666666666667\u001b[32m [repeated 9x across cluster]\u001b[0m\n",
            "\u001b[36m(ClientAppActor pid=38804)\u001b[0m [Client 4] fit, config: {}\u001b[32m [repeated 7x across cluster]\u001b[0m\n",
            "\u001b[36m(ClientAppActor pid=24956)\u001b[0m Epoch 3: train loss 0.000088, accuracy 0.999259\u001b[32m [repeated 17x across cluster]\u001b[0m\n",
            "\u001b[36m(ClientAppActor pid=26384)\u001b[0m Epoch 5: train loss 0.000146, accuracy 0.998519\u001b[32m [repeated 16x across cluster]\u001b[0m\n",
            "\u001b[36m(ClientAppActor pid=8464)\u001b[0m Epoch 7: train loss 0.000002, accuracy 1.000000\u001b[32m [repeated 17x across cluster]\u001b[0m\n",
            "\u001b[36m(ClientAppActor pid=26384)\u001b[0m [Client 9] fit, config: {}\n",
            "\u001b[36m(ClientAppActor pid=24956)\u001b[0m Epoch 9: train loss 0.000001, accuracy 1.000000\u001b[32m [repeated 17x across cluster]\u001b[0m\n",
            "\u001b[36m(ClientAppActor pid=20812)\u001b[0m [Client 8] fit, config: {}\n",
            "\u001b[36m(ClientAppActor pid=26384)\u001b[0m Epoch 1: train loss 0.000260, accuracy 0.997963\u001b[32m [repeated 7x across cluster]\u001b[0m\n",
            "\u001b[36m(ClientAppActor pid=26384)\u001b[0m Epoch 3: train loss 0.000024, accuracy 0.999815\u001b[32m [repeated 4x across cluster]\u001b[0m\n",
            "\u001b[36m(ClientAppActor pid=26384)\u001b[0m Epoch 5: train loss 0.000003, accuracy 1.000000\u001b[32m [repeated 4x across cluster]\u001b[0m\n",
            "\u001b[36m(ClientAppActor pid=26384)\u001b[0m Epoch 7: train loss 0.000001, accuracy 1.000000\u001b[32m [repeated 4x across cluster]\u001b[0m\n",
            "\u001b[36m(ClientAppActor pid=26384)\u001b[0m Epoch 9: train loss 0.000001, accuracy 1.000000\u001b[32m [repeated 4x across cluster]\u001b[0m\n"
          ]
        },
        {
          "name": "stderr",
          "output_type": "stream",
          "text": [
            "\u001b[92mINFO \u001b[0m:      aggregate_fit: received 10 results and 0 failures\n",
            "\u001b[92mINFO \u001b[0m:      configure_evaluate: strategy sampled 10 clients (out of 10)\n"
          ]
        },
        {
          "name": "stdout",
          "output_type": "stream",
          "text": [
            "\u001b[36m(ClientAppActor pid=20812)\u001b[0m [Client 0] evaluate, config: {}\n",
            "\u001b[36m(ClientAppActor pid=26384)\u001b[0m Client 7 loss 0.00046462354787365714\n",
            "\u001b[36m(ClientAppActor pid=26384)\u001b[0m Client 7 accuracy 0.9933333333333333\n"
          ]
        },
        {
          "name": "stderr",
          "output_type": "stream",
          "text": [
            "\u001b[92mINFO \u001b[0m:      aggregate_evaluate: received 10 results and 0 failures\n",
            "\u001b[92mINFO \u001b[0m:      \n",
            "\u001b[92mINFO \u001b[0m:      [ROUND 10]\n",
            "\u001b[92mINFO \u001b[0m:      configure_fit: strategy sampled 10 clients (out of 10)\n"
          ]
        },
        {
          "name": "stdout",
          "output_type": "stream",
          "text": [
            "\u001b[36m(ClientAppActor pid=26384)\u001b[0m [Client 1] fit, config: {}\n",
            "\u001b[36m(ClientAppActor pid=19680)\u001b[0m Epoch 0: train loss 0.000658, accuracy 0.995000\u001b[32m [repeated 6x across cluster]\u001b[0m\n",
            "\u001b[36m(ClientAppActor pid=26384)\u001b[0m [Client 8] evaluate, config: {}\u001b[32m [repeated 9x across cluster]\u001b[0m\n",
            "\u001b[36m(ClientAppActor pid=26384)\u001b[0m Client 8 loss 0.000487224048272689\u001b[32m [repeated 9x across cluster]\u001b[0m\n",
            "\u001b[36m(ClientAppActor pid=26384)\u001b[0m Client 8 accuracy 0.995\u001b[32m [repeated 9x across cluster]\u001b[0m\n",
            "\u001b[36m(ClientAppActor pid=38804)\u001b[0m [Client 6] fit, config: {}\u001b[32m [repeated 7x across cluster]\u001b[0m\n",
            "\u001b[36m(ClientAppActor pid=6040)\u001b[0m Epoch 2: train loss 0.000103, accuracy 0.999074\u001b[32m [repeated 15x across cluster]\u001b[0m\n",
            "\u001b[36m(ClientAppActor pid=20812)\u001b[0m Epoch 4: train loss 0.000084, accuracy 0.999630\u001b[32m [repeated 16x across cluster]\u001b[0m\n",
            "\u001b[36m(ClientAppActor pid=20812)\u001b[0m Epoch 6: train loss 0.000559, accuracy 0.995556\u001b[32m [repeated 16x across cluster]\u001b[0m\n",
            "\u001b[36m(ClientAppActor pid=6040)\u001b[0m Epoch 8: train loss 0.000002, accuracy 1.000000\u001b[32m [repeated 16x across cluster]\u001b[0m\n",
            "\u001b[36m(ClientAppActor pid=8464)\u001b[0m [Client 9] fit, config: {}\n",
            "\u001b[36m(ClientAppActor pid=8464)\u001b[0m Epoch 0: train loss 0.001116, accuracy 0.992037\u001b[32m [repeated 13x across cluster]\u001b[0m\n",
            "\u001b[36m(ClientAppActor pid=26384)\u001b[0m [Client 3] fit, config: {}\n",
            "\u001b[36m(ClientAppActor pid=26384)\u001b[0m Epoch 2: train loss 0.000151, accuracy 0.998333\u001b[32m [repeated 4x across cluster]\u001b[0m\n",
            "\u001b[36m(ClientAppActor pid=26384)\u001b[0m Epoch 4: train loss 0.000351, accuracy 0.996111\u001b[32m [repeated 4x across cluster]\u001b[0m\n",
            "\u001b[36m(ClientAppActor pid=26384)\u001b[0m Epoch 6: train loss 0.000100, accuracy 0.998889\u001b[32m [repeated 4x across cluster]\u001b[0m\n",
            "\u001b[36m(ClientAppActor pid=26384)\u001b[0m Epoch 8: train loss 0.000011, accuracy 1.000000\u001b[32m [repeated 4x across cluster]\u001b[0m\n"
          ]
        },
        {
          "name": "stderr",
          "output_type": "stream",
          "text": [
            "\u001b[92mINFO \u001b[0m:      aggregate_fit: received 10 results and 0 failures\n",
            "\u001b[92mINFO \u001b[0m:      configure_evaluate: strategy sampled 10 clients (out of 10)\n"
          ]
        },
        {
          "name": "stdout",
          "output_type": "stream",
          "text": [
            "\u001b[36m(ClientAppActor pid=8464)\u001b[0m [Client 6] evaluate, config: {}\n",
            "\u001b[36m(ClientAppActor pid=8464)\u001b[0m Client 6 loss 0.0020465941375376437\n",
            "\u001b[36m(ClientAppActor pid=8464)\u001b[0m Client 6 accuracy 0.9933333333333333\n"
          ]
        },
        {
          "name": "stderr",
          "output_type": "stream",
          "text": [
            "\u001b[92mINFO \u001b[0m:      aggregate_evaluate: received 10 results and 0 failures\n",
            "\u001b[92mINFO \u001b[0m:      \n",
            "\u001b[92mINFO \u001b[0m:      [SUMMARY]\n",
            "\u001b[92mINFO \u001b[0m:      Run finished 10 round(s) in 558.82s\n",
            "\u001b[92mINFO \u001b[0m:      \tHistory (loss, distributed):\n",
            "\u001b[92mINFO \u001b[0m:      \t\tround 1: 0.003330679993455609\n",
            "\u001b[92mINFO \u001b[0m:      \t\tround 2: 0.001780827835906166\n",
            "\u001b[92mINFO \u001b[0m:      \t\tround 3: 0.0016469445301050124\n",
            "\u001b[92mINFO \u001b[0m:      \t\tround 4: 0.001748289471201057\n",
            "\u001b[92mINFO \u001b[0m:      \t\tround 5: 0.0015146020075476941\n",
            "\u001b[92mINFO \u001b[0m:      \t\tround 6: 0.001528518316414614\n",
            "\u001b[92mINFO \u001b[0m:      \t\tround 7: 0.00169149734970198\n",
            "\u001b[92mINFO \u001b[0m:      \t\tround 8: 0.001658100503898427\n",
            "\u001b[92mINFO \u001b[0m:      \t\tround 9: 0.0015367278811592988\n",
            "\u001b[92mINFO \u001b[0m:      \t\tround 10: 0.0016877898514150217\n",
            "\u001b[92mINFO \u001b[0m:      \n"
          ]
        },
        {
          "data": {
            "text/plain": [
              "History (loss, distributed):\n",
              "\tround 1: 0.003330679993455609\n",
              "\tround 2: 0.001780827835906166\n",
              "\tround 3: 0.0016469445301050124\n",
              "\tround 4: 0.001748289471201057\n",
              "\tround 5: 0.0015146020075476941\n",
              "\tround 6: 0.001528518316414614\n",
              "\tround 7: 0.00169149734970198\n",
              "\tround 8: 0.001658100503898427\n",
              "\tround 9: 0.0015367278811592988\n",
              "\tround 10: 0.0016877898514150217"
            ]
          },
          "execution_count": 22,
          "metadata": {},
          "output_type": "execute_result"
        }
      ],
      "source": [
        "strategy_fed_avg = FedAvgCustom()\n",
        "\n",
        "fl.simulation.start_simulation(\n",
        "    client_fn=client_fn,\n",
        "    num_clients=10,\n",
        "    config=fl.server.ServerConfig(num_rounds=10),\n",
        "    client_resources=client_resources,\n",
        "    strategy=strategy_fed_avg,\n",
        ")"
      ]
    },
    {
      "cell_type": "code",
      "execution_count": 23,
      "metadata": {},
      "outputs": [
        {
          "name": "stdout",
          "output_type": "stream",
          "text": [
            "\u001b[36m(ClientAppActor pid=26384)\u001b[0m Client 0 loss 0.002967246457714493\n",
            "\u001b[36m(ClientAppActor pid=26384)\u001b[0m Client 0 accuracy 0.9866666666666667\n"
          ]
        },
        {
          "data": {
            "image/png": "[encoded data removed]",
            "text/plain": [
              "<Figure size 1500x500 with 2 Axes>"
            ]
          },
          "metadata": {},
          "output_type": "display_data"
        }
      ],
      "source": [
        "plot_metrics(strategy_fed_avg.client_metrics)"
      ]
    },
    {
      "cell_type": "code",
      "execution_count": 24,
      "metadata": {},
      "outputs": [
        {
          "data": {
            "image/png": "[encoded data removed]",
            "text/plain": [
              "<Figure size 1200x800 with 1 Axes>"
            ]
          },
          "metadata": {},
          "output_type": "display_data"
        }
      ],
      "source": [
        "plot_times(strategy_fed_avg.client_training_times)"
      ]
    },
    {
      "cell_type": "code",
      "execution_count": null,
      "metadata": {},
      "outputs": [],
      "source": []
    },
    {
      "cell_type": "code",
      "execution_count": null,
      "metadata": {},
      "outputs": [],
      "source": []
    },
    {
      "cell_type": "code",
      "execution_count": null,
      "metadata": {},
      "outputs": [],
      "source": []
    },
    {
      "cell_type": "code",
      "execution_count": null,
      "metadata": {},
      "outputs": [],
      "source": []
    },
    {
      "cell_type": "code",
      "execution_count": null,
      "metadata": {},
      "outputs": [],
      "source": []
    },
    {
      "cell_type": "code",
      "execution_count": null,
      "metadata": {},
      "outputs": [],
      "source": []
    }
  ],
  "metadata": {
    "colab": {
      "provenance": []
    },
    "kernelspec": {
      "display_name": "Python 3",
      "name": "python3"
    },
    "language_info": {
      "codemirror_mode": {
        "name": "ipython",
        "version": 3
      },
      "file_extension": ".py",
      "mimetype": "text/x-python",
      "name": "python",
      "nbconvert_exporter": "python",
      "pygments_lexer": "ipython3",
      "version": "3.12.4"
    }
  },
  "nbformat": 4,
  "nbformat_minor": 0
}
