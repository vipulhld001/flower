{
 "cells": [
  {
   "cell_type": "code",
   "execution_count": 1,
   "metadata": {
    "colab": {
     "base_uri": "https://localhost:8080/"
    },
    "id": "OZdR1WXDEGxY",
    "outputId": "34c4f998-2ca0-4252-e4f7-424c286a9224"
   },
   "outputs": [],
   "source": [
    "#!pip install -U flwr[\"simulation\"]==1.9.0 torch torchvision GPUtil"
   ]
  },
  {
   "cell_type": "code",
   "execution_count": 2,
   "metadata": {
    "colab": {
     "base_uri": "https://localhost:8080/"
    },
    "id": "obhFyleoEM9F",
    "outputId": "99c58edc-bb25-469f-b692-769941f695ce"
   },
   "outputs": [
    {
     "name": "stdout",
     "output_type": "stream",
     "text": [
      "Training on cuda using PyTorch 2.3.1 and Flower 1.9.0\n"
     ]
    }
   ],
   "source": [
    "from collections import OrderedDict\n",
    "from typing import Dict, List, Optional, Tuple, NamedTuple\n",
    "\n",
    "import numpy as np\n",
    "import torch\n",
    "import torch.nn as nn\n",
    "import torch.nn.functional as F\n",
    "import torchvision.transforms as transforms\n",
    "from torch.utils.data import DataLoader, random_split\n",
    "from torchvision.datasets import MNIST\n",
    "import time\n",
    "import flwr as fl\n",
    "from scipy import stats as st\n",
    "import json\n",
    "\n",
    "DEVICE = torch.device(\"cuda\")  # Try \"cuda\" to train on GPU\n",
    "print(\n",
    "    f\"Training on {DEVICE} using PyTorch {torch.__version__} and Flower {fl.__version__}\"\n",
    ")"
   ]
  },
  {
   "cell_type": "code",
   "execution_count": 3,
   "metadata": {},
   "outputs": [],
   "source": [
    "from logging import INFO, DEBUG\n",
    "from flwr.common.logger import log"
   ]
  },
  {
   "cell_type": "code",
   "execution_count": 4,
   "metadata": {},
   "outputs": [
    {
     "name": "stdout",
     "output_type": "stream",
     "text": [
      "Gen RAM Free: 120.1 GB  | Proc size: 515.2 MB\n",
      "GPU RAM Free: 15269MB | Used: 901MB | Util   6% | Total 16376MB\n"
     ]
    }
   ],
   "source": [
    "import psutil\n",
    "import humanize\n",
    "import os\n",
    "import GPUtil as GPU\n",
    "GPUs = GPU.getGPUs()\n",
    "# XXX: only one GPU on Colab and isn’t guaranteed\n",
    "gpu = GPUs[0]\n",
    "def printm():\n",
    "   process = psutil.Process(os.getpid())\n",
    "   print(\"Gen RAM Free: \" + humanize.naturalsize( psutil.virtual_memory().available ), \" | Proc size: \" + humanize.naturalsize( process.memory_info().rss))\n",
    "   print(\"GPU RAM Free: {0:.0f}MB | Used: {1:.0f}MB | Util {2:3.0f}% | Total {3:.0f}MB\".format(gpu.memoryFree, gpu.memoryUsed, gpu.memoryUtil*100, gpu.memoryTotal))\n",
    "printm()"
   ]
  },
  {
   "cell_type": "code",
   "execution_count": 5,
   "metadata": {
    "colab": {
     "base_uri": "https://localhost:8080/"
    },
    "id": "T2L0M1hDEQ54",
    "outputId": "d7c63f7f-13e7-4f97-ff2d-97443878fa29"
   },
   "outputs": [],
   "source": [
    "NUM_CLIENTS = 10\n",
    "\n",
    "\n",
    "def load_datasets(num_clients: int):\n",
    "    # Download and transform CIFAR-10 (train and test)\n",
    "    transform = transforms.Compose(\n",
    "        [transforms.ToTensor(), transforms.Normalize((0.5,), (0.5, ))]\n",
    "    )\n",
    "    trainset = MNIST(\"./dataset\", train=True, download=True, transform=transform)\n",
    "    testset = MNIST(\"./dataset\", train=False, download=True, transform=transform)\n",
    "\n",
    "    # Split training set into `num_clients` partitions to simulate different local datasets\n",
    "    partition_size = len(trainset) // num_clients\n",
    "    lengths = [partition_size] * num_clients\n",
    "    datasets = random_split(trainset, lengths, torch.Generator().manual_seed(42))\n",
    "\n",
    "    # Split each partition into train/val and create DataLoader\n",
    "    trainloaders = []\n",
    "    valloaders = []\n",
    "    for ds in datasets:\n",
    "        len_val = len(ds) // 10  # 10 % validation set\n",
    "        len_train = len(ds) - len_val\n",
    "        lengths = [len_train, len_val]\n",
    "        ds_train, ds_val = random_split(ds, lengths, torch.Generator().manual_seed(42))\n",
    "        trainloaders.append(DataLoader(ds_train, batch_size=32, shuffle=True))\n",
    "        valloaders.append(DataLoader(ds_val, batch_size=32))\n",
    "    testloader = DataLoader(testset, batch_size=32)\n",
    "    return trainloaders, valloaders, testloader\n",
    "\n",
    "\n",
    "trainloaders, valloaders, testloader = load_datasets(NUM_CLIENTS)"
   ]
  },
  {
   "cell_type": "code",
   "execution_count": 6,
   "metadata": {
    "id": "4q9gZPKEEVZ0"
   },
   "outputs": [],
   "source": [
    "class Net(nn.Module):\n",
    "    def __init__(self) -> None:\n",
    "        super(Net, self).__init__()\n",
    "        self.conv1 = nn.Conv2d(1, 6, 5)\n",
    "        self.pool = nn.MaxPool2d(2, 2)\n",
    "        self.conv2 = nn.Conv2d(6, 16, 5)\n",
    "        self.fc1 = nn.Linear(16 * 4 * 4, 120)\n",
    "        self.fc2 = nn.Linear(120, 84)\n",
    "        self.fc3 = nn.Linear(84, 10)\n",
    "\n",
    "    def forward(self, x: torch.Tensor) -> torch.Tensor:\n",
    "        x = self.pool(F.relu(self.conv1(x)))\n",
    "        x = self.pool(F.relu(self.conv2(x)))\n",
    "        x = x.view(-1, 16 * 4 * 4)\n",
    "        x = F.relu(self.fc1(x))\n",
    "        x = F.relu(self.fc2(x))\n",
    "        x = self.fc3(x)\n",
    "        return x\n",
    "\n",
    "\n",
    "def get_parameters(net) -> List[np.ndarray]:\n",
    "    return [val.cpu().numpy() for _, val in net.state_dict().items()]\n",
    "\n",
    "\n",
    "def set_parameters(net, parameters: List[np.ndarray]):\n",
    "    params_dict = zip(net.state_dict().keys(), parameters)\n",
    "    state_dict = OrderedDict({k: torch.Tensor(v) for k, v in params_dict})\n",
    "    net.load_state_dict(state_dict, strict=True)\n",
    "\n",
    "\n",
    "class ClientMetrics(NamedTuple):\n",
    "    epoch: int\n",
    "    loss: float\n",
    "    accuracy: float\n",
    "    round: int = 0\n",
    "    cid: int = 0\n",
    "\n",
    "def train(net, trainloader, epochs: int):\n",
    "    \"\"\"Train the network on the training set.\"\"\"\n",
    "    criterion = torch.nn.CrossEntropyLoss()\n",
    "    optimizer = torch.optim.Adam(net.parameters())\n",
    "    net.train()\n",
    "    metrics = []\n",
    "    for epoch in range(epochs):  # Use the passed 'epochs' variable here\n",
    "        correct, total, epoch_loss = 0, 0, 0.0\n",
    "        for images, labels in trainloader:\n",
    "            images, labels = images.to(DEVICE), labels.to(DEVICE)\n",
    "            optimizer.zero_grad()\n",
    "            outputs = net(images)\n",
    "            loss = criterion(outputs, labels)\n",
    "            loss.backward()\n",
    "            optimizer.step()\n",
    "            # Metrics\n",
    "            epoch_loss += loss.item()  # Make sure to call .item() to get the scalar value\n",
    "            total += labels.size(0)\n",
    "            correct += (torch.max(outputs.data, 1)[1] == labels).sum().item()\n",
    "        epoch_loss /= len(trainloader.dataset)\n",
    "        epoch_acc = correct / total\n",
    "        metrics.append(ClientMetrics(epoch, epoch_loss, epoch_acc))\n",
    "        print(f\"Epoch {epoch}: train loss {epoch_loss:.6f}, accuracy {epoch_acc:.6f}\")\n",
    "    return metrics\n",
    "\n",
    "\n",
    "def test(net, testloader):\n",
    "    \"\"\"Evaluate the network on the entire test set.\"\"\"\n",
    "    criterion = torch.nn.CrossEntropyLoss()\n",
    "    correct, total, loss = 0, 0, 0.0\n",
    "    net.eval()\n",
    "    with torch.no_grad():\n",
    "        for images, labels in testloader:\n",
    "            images, labels = images.to(DEVICE), labels.to(DEVICE)\n",
    "            outputs = net(images)\n",
    "            loss += criterion(outputs, labels).item()\n",
    "            _, predicted = torch.max(outputs.data, 1)\n",
    "            total += labels.size(0)\n",
    "            correct += (predicted == labels).sum().item()\n",
    "    loss /= len(testloader.dataset)\n",
    "    accuracy = correct / total\n",
    "    return loss, accuracy"
   ]
  },
  {
   "cell_type": "code",
   "execution_count": 7,
   "metadata": {
    "id": "DpDR8IdSEX0E"
   },
   "outputs": [],
   "source": [
    "class FlowerClient(fl.client.NumPyClient):\n",
    "    def __init__(self, cid, net, trainloader, valloader):\n",
    "        self.cid = cid\n",
    "        self.net = net\n",
    "        self.trainloader = trainloader\n",
    "        self.valloader = valloader\n",
    "\n",
    "    def get_parameters(self):\n",
    "        print(f\"[Client {self.cid}] get_parameters\")\n",
    "        return get_parameters(self.net)\n",
    "\n",
    "    def fit(self, parameters, config):\n",
    "        print(f\"[Client {self.cid}] fit, config: {config}\")\n",
    "        set_parameters(self.net, parameters)\n",
    "        epochs = config.get(\"epochs\", 1)\n",
    "        start_time = time.time()  # Start time measurement\n",
    "        metrics = train(self.net, self.trainloader, epochs)\n",
    "        training_time = time.time() - start_time  # Calculate duration\n",
    "        print(f\"Training time for Client {self.cid}: {training_time:.2f} seconds\")\n",
    "        \n",
    "        return get_parameters(self.net), len(self.trainloader), {\"training_time\": training_time, \"metrics\": json.dumps(metrics)}\n",
    "\n",
    "\n",
    "\n",
    "    def evaluate(self, parameters, config):\n",
    "        print(f\"[Client {self.cid}] evaluate, config: {config}\")\n",
    "        set_parameters(self.net, parameters)\n",
    "        loss, accuracy = test(self.net, self.valloader)\n",
    "        return float(loss), len(self.valloader), {\"accuracy\": float(accuracy)}\n",
    "\n",
    "\n",
    "def client_fn(cid) -> FlowerClient:\n",
    "    net = Net().to(DEVICE)\n",
    "    trainloader = trainloaders[int(cid)]\n",
    "    valloader = valloaders[int(cid)]\n",
    "    return FlowerClient(cid, net, trainloader, valloader).to_client()"
   ]
  },
  {
   "cell_type": "code",
   "execution_count": 8,
   "metadata": {
    "id": "mSYL7mrZE21l"
   },
   "outputs": [],
   "source": [
    "from typing import Callable, Union\n",
    "\n",
    "from flwr.common import (\n",
    "    EvaluateIns,\n",
    "    EvaluateRes,\n",
    "    FitIns,\n",
    "    FitRes,\n",
    "    MetricsAggregationFn,\n",
    "    NDArrays,\n",
    "    Parameters,\n",
    "    Scalar,\n",
    "    ndarrays_to_parameters,\n",
    "    parameters_to_ndarrays,\n",
    ")\n",
    "from flwr.server.client_manager import ClientManager\n",
    "from flwr.server.client_proxy import ClientProxy\n",
    "from flwr.server.strategy.aggregate import aggregate, weighted_loss_avg\n",
    "\n",
    "\n",
    "class FedCustom(fl.server.strategy.Strategy):\n",
    "    def __init__(\n",
    "        self,\n",
    "        fraction_fit: float = 1.0,\n",
    "        fraction_evaluate: float = 1.0,\n",
    "        min_fit_clients: int = 2,\n",
    "        min_evaluate_clients: int = 2,\n",
    "        min_available_clients: int = 2,\n",
    "    ) -> None:\n",
    "        super().__init__()\n",
    "        self.fraction_fit = fraction_fit\n",
    "        self.fraction_evaluate = fraction_evaluate\n",
    "        self.min_fit_clients = min_fit_clients\n",
    "        self.min_evaluate_clients = min_evaluate_clients\n",
    "        self.min_available_clients = min_available_clients\n",
    "        self.client_training_times: Dict[int, List[float]] = {}\n",
    "        self.client_metrics: Dict[int, List[ClientMetrics]] = {}\n",
    "        self.loss_extreme: Dict[int, Tuple[int, float, float]] = {}\n",
    "        self.accuracy_extreme: Dict[int, Tuple[int, float, float]] = {}\n",
    "    def __repr__(self) -> str:\n",
    "        return \"FedCustom\"\n",
    "\n",
    "    def initialize_parameters(\n",
    "        self, client_manager: ClientManager\n",
    "    ) -> Optional[Parameters]:\n",
    "        \"\"\"Initialize global model parameters.\"\"\"\n",
    "        net = Net()\n",
    "        ndarrays = get_parameters(net)\n",
    "        return fl.common.ndarrays_to_parameters(ndarrays)\n",
    "\n",
    "    def configure_fit(self, server_round: int, parameters: Parameters, client_manager: ClientManager):\n",
    "        sample_size, min_num_clients = self.num_fit_clients(client_manager.num_available())\n",
    "        clients = client_manager.sample(num_clients=sample_size, min_num_clients=min_num_clients)\n",
    "        epochs_sc = 10\n",
    "        \n",
    "\n",
    "        standard_config = {\"lr\": 0.001, \"epochs\": epochs_sc}\n",
    "        \n",
    "        fit_configurations = []\n",
    "        mode_time = []\n",
    "        \n",
    "        for client in clients:\n",
    "            last_time = self.client_training_times.get(client.cid, [0,])[-1] # Default to 0 if no time recorded # Yash has changed this as we now save last time of all epochs as key: value - cid: list of times\n",
    "            print(f\"This is ths last time not a fantasy {last_time}and {client.cid}habhhahah\")\n",
    "            \n",
    "            \n",
    "            mode_time.append(round(last_time,2))\n",
    "            print(f\"this is tehb mode time {mode_time}\")\n",
    "           \n",
    "\n",
    "        modest_value = st.mode(np.array(mode_time))\n",
    "        print(f\"Yeh h modest valueueueueu{modest_value}\")\n",
    "        print(f\"yeh h server round {server_round}\")\n",
    "        min_value, max_value= np.min(modest_value),np.max(modest_value)\n",
    "        print(f\"this is the min value {min_value} and this is the max value {max_value}\")\n",
    "      \n",
    "        \n",
    "        if min_value == max_value:\n",
    "            epochs_hl = epochs_sc   \n",
    "        else:\n",
    "            epochs_hl = int(np.floor((max_value-min_value)/max_value * epochs_sc)) \n",
    "\n",
    "        higher_lr_config = {\"lr\": 0.0001, \"epochs\": epochs_hl}\n",
    "        print(f\"The epochs for the higher lr is {epochs_hl} and the epochs for the standard lr is {epochs_sc}\")\n",
    "\n",
    "\n",
    "\n",
    "\n",
    "        for client in clients:\n",
    "            # Choose config based on the previous training time\n",
    "            last_time = self.client_training_times.get(client.cid, [0,])[-1]  # Default to 0 if no time recorded # Yash has changed this as we now save last time of all epochs as key: value - cid: list of times\n",
    "            print(f\"This is the last time {last_time}\")\n",
    "            \n",
    "\n",
    "\n",
    "            config_to_use = standard_config if last_time < modest_value.mode else higher_lr_config\n",
    "            fit_configurations.append((client, FitIns(parameters, config_to_use)))\n",
    "\n",
    "        return fit_configurations\n",
    "    \n",
    "    def parse_metrics(self, cid: int, server_round: int, metrics: str): # this function has been added to parse the metrics from the client\n",
    "        client_data: List[ClientMetrics] = json.loads(metrics)\n",
    "        data_store: List[ClientMetrics] = self.client_metrics.setdefault(cid, [])\n",
    "        last_epoch: int = len(data_store)\n",
    "        for data in client_data:\n",
    "            data_store.append(ClientMetrics(last_epoch, data[1], data[2], round=server_round, cid=cid))\n",
    "            last_epoch += 1\n",
    "\n",
    "    def aggregate_fit(\n",
    "        self,\n",
    "        server_round: int,\n",
    "        results: List[Tuple[ClientProxy, FitRes]],\n",
    "        failures: List[Union[Tuple[ClientProxy, FitRes], BaseException]],\n",
    "    ) -> Tuple[Optional[Parameters], Dict[str, Scalar]]:\n",
    "        \"\"\"Aggregate fit results using weighted average.\"\"\"\n",
    "        for client, fit_res in results:\n",
    "            # Update training times for each client\n",
    "            self.client_training_times.setdefault(client.cid, []).append(fit_res.metrics.get(\"training_time\", 0)) # Yash has changed this as we now save last time of all epochs as key: value - cid: list of times\n",
    "            self.parse_metrics(client.cid,server_round, fit_res.metrics.get(\"metrics\", None))\n",
    "        weights_results = [\n",
    "            (parameters_to_ndarrays(fit_res.parameters), fit_res.num_examples)\n",
    "            for _, fit_res in results\n",
    "        ]\n",
    "        parameters_aggregated = ndarrays_to_parameters(aggregate(weights_results))\n",
    "        metrics_aggregated = {}\n",
    "        return parameters_aggregated, metrics_aggregated\n",
    "\n",
    "\n",
    "    def configure_evaluate(\n",
    "        self, server_round: int, parameters: Parameters, client_manager: ClientManager\n",
    "    ) -> List[Tuple[ClientProxy, EvaluateIns]]:\n",
    "        \"\"\"Configure the next round of evaluation.\"\"\"\n",
    "        if self.fraction_evaluate == 0.0:\n",
    "            return []\n",
    "        config = {}\n",
    "        evaluate_ins = EvaluateIns(parameters, config)\n",
    "\n",
    "        # Sample clients\n",
    "        sample_size, min_num_clients = self.num_evaluation_clients(\n",
    "            client_manager.num_available()\n",
    "        )\n",
    "        clients = client_manager.sample(\n",
    "            num_clients=sample_size, min_num_clients=min_num_clients\n",
    "        )\n",
    "\n",
    "        # Return client/config pairs\n",
    "        return [(client, evaluate_ins) for client in clients]\n",
    "\n",
    "    def aggregate_evaluate(\n",
    "        self,\n",
    "        server_round: int,\n",
    "        results: List[Tuple[ClientProxy, EvaluateRes]],\n",
    "        failures: List[Union[Tuple[ClientProxy, EvaluateRes], BaseException]],\n",
    "    ) -> Tuple[Optional[float], Dict[str, Scalar]]:\n",
    "        \"\"\"Aggregate evaluation losses using weighted average.\"\"\"\n",
    "\n",
    "        if not results:\n",
    "            return None, {}\n",
    "\n",
    "        loss_aggregated = weighted_loss_avg(\n",
    "            [\n",
    "                (evaluate_res.num_examples, evaluate_res.loss)\n",
    "                for _, evaluate_res in results\n",
    "            ]\n",
    "        )\n",
    "        metrics_aggregated = {}\n",
    "        return loss_aggregated, metrics_aggregated\n",
    "\n",
    "    def evaluate(\n",
    "        self, server_round: int, parameters: Parameters\n",
    "    ) -> Optional[Tuple[float, Dict[str, Scalar]]]:\n",
    "        \"\"\"Evaluate global model parameters using an evalua\n",
    "        tion function.\"\"\"\n",
    "\n",
    "        # Let's assume we won't perform the global model evaluation on the server side.\n",
    "        \n",
    "        return None\n",
    "\n",
    "    def num_fit_clients(self, num_available_clients: int) -> Tuple[int, int]:\n",
    "        \"\"\"Return sample size and required number of clients.\"\"\"\n",
    "        num_clients = int(num_available_clients * self.fraction_fit)\n",
    "        return max(num_clients, self.min_fit_clients), self.min_available_clients\n",
    "\n",
    "    def num_evaluation_clients(self, num_available_clients: int) -> Tuple[int, int]:\n",
    "        \"\"\"Use a fraction of available clients for evaluation.\"\"\"\n",
    "        num_clients = int(num_available_clients * self.fraction_evaluate)\n",
    "        return max(num_clients, self.min_evaluate_clients), self.min_available_clients"
   ]
  },
  {
   "cell_type": "code",
   "execution_count": 9,
   "metadata": {},
   "outputs": [],
   "source": [
    "if DEVICE.type == \"cuda\":\n",
    "    # Use a single client to train the global model\n",
    "    client_resources = {\"num_gpus\": .125, \"num_cpus\": 1} "
   ]
  },
  {
   "cell_type": "code",
   "execution_count": 10,
   "metadata": {
    "colab": {
     "base_uri": "https://localhost:8080/"
    },
    "id": "FvJM3bH4HDth",
    "outputId": "a273cb4a-ef0a-40e3-f789-e8f1f37366ce"
   },
   "outputs": [
    {
     "name": "stderr",
     "output_type": "stream",
     "text": [
      "\u001b[92mINFO \u001b[0m:      Starting Flower simulation, config: num_rounds=10, no round_timeout\n",
      "2024-07-29 10:48:35,704\tINFO worker.py:1771 -- Started a local Ray instance.\n",
      "\u001b[92mINFO \u001b[0m:      Flower VCE: Ray initialized with resources: {'node:__internal_head__': 1.0, 'CPU': 32.0, 'memory': 73891138151.0, 'accelerator_type:RTX': 1.0, 'object_store_memory': 35953344921.0, 'GPU': 1.0, 'node:127.0.0.1': 1.0}\n",
      "\u001b[92mINFO \u001b[0m:      Optimize your simulation with Flower VCE: https://flower.ai/docs/framework/how-to-run-simulations.html\n",
      "\u001b[92mINFO \u001b[0m:      Flower VCE: Resources for each Virtual Client: {'num_gpus': 0.125, 'num_cpus': 1}\n",
      "\u001b[92mINFO \u001b[0m:      Flower VCE: Creating VirtualClientEngineActorPool with 8 actors\n",
      "\u001b[92mINFO \u001b[0m:      [INIT]\n",
      "\u001b[92mINFO \u001b[0m:      Using initial global parameters provided by strategy\n",
      "\u001b[92mINFO \u001b[0m:      Evaluating initial global parameters\n",
      "\u001b[92mINFO \u001b[0m:      \n",
      "\u001b[92mINFO \u001b[0m:      [ROUND 1]\n",
      "\u001b[92mINFO \u001b[0m:      configure_fit: strategy sampled 10 clients (out of 10)\n"
     ]
    },
    {
     "name": "stdout",
     "output_type": "stream",
     "text": [
      "This is ths last time not a fantasy 0and 5habhhahah\n",
      "this is tehb mode time [0]\n",
      "This is ths last time not a fantasy 0and 1habhhahah\n",
      "this is tehb mode time [0, 0]\n",
      "This is ths last time not a fantasy 0and 3habhhahah\n",
      "this is tehb mode time [0, 0, 0]\n",
      "This is ths last time not a fantasy 0and 7habhhahah\n",
      "this is tehb mode time [0, 0, 0, 0]\n",
      "This is ths last time not a fantasy 0and 2habhhahah\n",
      "this is tehb mode time [0, 0, 0, 0, 0]\n",
      "This is ths last time not a fantasy 0and 0habhhahah\n",
      "this is tehb mode time [0, 0, 0, 0, 0, 0]\n",
      "This is ths last time not a fantasy 0and 4habhhahah\n",
      "this is tehb mode time [0, 0, 0, 0, 0, 0, 0]\n",
      "This is ths last time not a fantasy 0and 8habhhahah\n",
      "this is tehb mode time [0, 0, 0, 0, 0, 0, 0, 0]\n",
      "This is ths last time not a fantasy 0and 9habhhahah\n",
      "this is tehb mode time [0, 0, 0, 0, 0, 0, 0, 0, 0]\n",
      "This is ths last time not a fantasy 0and 6habhhahah\n",
      "this is tehb mode time [0, 0, 0, 0, 0, 0, 0, 0, 0, 0]\n",
      "Yeh h modest valueueueueuModeResult(mode=0, count=10)\n",
      "yeh h server round 1\n",
      "this is the min value 0 and this is the max value 10\n",
      "The epochs for the higher lr is 10 and the epochs for the standard lr is 10\n",
      "This is the last time 0\n",
      "This is the last time 0\n",
      "This is the last time 0\n",
      "This is the last time 0\n",
      "This is the last time 0\n",
      "This is the last time 0\n",
      "This is the last time 0\n",
      "This is the last time 0\n",
      "This is the last time 0\n",
      "This is the last time 0\n",
      "\u001b[36m(ClientAppActor pid=43456)\u001b[0m [Client 0] fit, config: {'lr': 0.0001, 'epochs': 10}\n",
      "\u001b[36m(ClientAppActor pid=43456)\u001b[0m Epoch 0: train loss 0.030394, accuracy 0.699444\n",
      "\u001b[36m(ClientAppActor pid=33392)\u001b[0m [Client 1] fit, config: {'lr': 0.0001, 'epochs': 10}\u001b[32m [repeated 7x across cluster] (Ray deduplicates logs by default. Set RAY_DEDUP_LOGS=0 to disable log deduplication, or see https://docs.ray.io/en/master/ray-observability/user-guides/configure-logging.html#log-deduplication for more options.)\u001b[0m\n",
      "\u001b[36m(ClientAppActor pid=17732)\u001b[0m Epoch 2: train loss 0.006242, accuracy 0.940000\u001b[32m [repeated 17x across cluster]\u001b[0m\n",
      "\u001b[36m(ClientAppActor pid=29028)\u001b[0m Epoch 4: train loss 0.003342, accuracy 0.966111\u001b[32m [repeated 18x across cluster]\u001b[0m\n",
      "\u001b[36m(ClientAppActor pid=21144)\u001b[0m Epoch 6: train loss 0.002313, accuracy 0.977407\u001b[32m [repeated 16x across cluster]\u001b[0m\n",
      "\u001b[36m(ClientAppActor pid=33392)\u001b[0m Epoch 8: train loss 0.001357, accuracy 0.986852\u001b[32m [repeated 16x across cluster]\u001b[0m\n",
      "\u001b[36m(ClientAppActor pid=43456)\u001b[0m Training time for Client 0: 25.63 seconds\n",
      "\u001b[36m(ClientAppActor pid=34744)\u001b[0m [Client 9] fit, config: {'lr': 0.0001, 'epochs': 10}\n",
      "\u001b[36m(ClientAppActor pid=43456)\u001b[0m Epoch 0: train loss 0.029467, accuracy 0.706481\u001b[32m [repeated 13x across cluster]\u001b[0m\n",
      "\u001b[36m(ClientAppActor pid=40700)\u001b[0m Training time for Client 3: 26.11 seconds\u001b[32m [repeated 7x across cluster]\u001b[0m\n",
      "\u001b[36m(ClientAppActor pid=43456)\u001b[0m [Client 6] fit, config: {'lr': 0.0001, 'epochs': 10}\n",
      "\u001b[36m(ClientAppActor pid=43456)\u001b[0m Epoch 2: train loss 0.006019, accuracy 0.942778\u001b[32m [repeated 4x across cluster]\u001b[0m\n",
      "\u001b[36m(ClientAppActor pid=34744)\u001b[0m Epoch 4: train loss 0.003500, accuracy 0.965556\u001b[32m [repeated 4x across cluster]\u001b[0m\n",
      "\u001b[36m(ClientAppActor pid=43456)\u001b[0m Epoch 6: train loss 0.002188, accuracy 0.978333\u001b[32m [repeated 4x across cluster]\u001b[0m\n",
      "\u001b[36m(ClientAppActor pid=43456)\u001b[0m Epoch 8: train loss 0.001576, accuracy 0.982222\u001b[32m [repeated 4x across cluster]\u001b[0m\n"
     ]
    },
    {
     "name": "stderr",
     "output_type": "stream",
     "text": [
      "\u001b[92mINFO \u001b[0m:      aggregate_fit: received 10 results and 0 failures\n",
      "\u001b[92mINFO \u001b[0m:      configure_evaluate: strategy sampled 10 clients (out of 10)\n"
     ]
    },
    {
     "name": "stdout",
     "output_type": "stream",
     "text": [
      "\u001b[36m(ClientAppActor pid=34744)\u001b[0m Training time for Client 9: 28.48 seconds\n",
      "\u001b[36m(ClientAppActor pid=43456)\u001b[0m [Client 5] evaluate, config: {}\n"
     ]
    },
    {
     "name": "stderr",
     "output_type": "stream",
     "text": [
      "\u001b[92mINFO \u001b[0m:      aggregate_evaluate: received 10 results and 0 failures\n",
      "\u001b[92mINFO \u001b[0m:      \n",
      "\u001b[92mINFO \u001b[0m:      [ROUND 2]\n",
      "\u001b[92mINFO \u001b[0m:      configure_fit: strategy sampled 10 clients (out of 10)\n"
     ]
    },
    {
     "name": "stdout",
     "output_type": "stream",
     "text": [
      "This is ths last time not a fantasy 25.5011625289917and 4habhhahah\n",
      "this is tehb mode time [25.5]\n",
      "This is ths last time not a fantasy 26.064676523208618and 2habhhahah\n",
      "this is tehb mode time [25.5, 26.06]\n",
      "This is ths last time not a fantasy 25.293161153793335and 5habhhahah\n",
      "this is tehb mode time [25.5, 26.06, 25.29]\n",
      "This is ths last time not a fantasy 25.997162103652954and 8habhhahah\n",
      "this is tehb mode time [25.5, 26.06, 25.29, 26.0]\n",
      "This is ths last time not a fantasy 26.109829664230347and 3habhhahah\n",
      "this is tehb mode time [25.5, 26.06, 25.29, 26.0, 26.11]\n",
      "This is ths last time not a fantasy 26.03682541847229and 7habhhahah\n",
      "this is tehb mode time [25.5, 26.06, 25.29, 26.0, 26.11, 26.04]\n",
      "This is ths last time not a fantasy 25.774160146713257and 1habhhahah\n",
      "this is tehb mode time [25.5, 26.06, 25.29, 26.0, 26.11, 26.04, 25.77]\n",
      "This is ths last time not a fantasy 28.41117262840271and 6habhhahah\n",
      "this is tehb mode time [25.5, 26.06, 25.29, 26.0, 26.11, 26.04, 25.77, 28.41]\n",
      "This is ths last time not a fantasy 28.482172966003418and 9habhhahah\n",
      "this is tehb mode time [25.5, 26.06, 25.29, 26.0, 26.11, 26.04, 25.77, 28.41, 28.48]\n",
      "This is ths last time not a fantasy 25.63453722000122and 0habhhahah\n",
      "this is tehb mode time [25.5, 26.06, 25.29, 26.0, 26.11, 26.04, 25.77, 28.41, 28.48, 25.63]\n",
      "Yeh h modest valueueueueuModeResult(mode=25.29, count=1)\n",
      "yeh h server round 2\n",
      "this is the min value 1.0 and this is the max value 25.29\n",
      "The epochs for the higher lr is 9 and the epochs for the standard lr is 10\n",
      "This is the last time 25.5011625289917\n",
      "This is the last time 26.064676523208618\n",
      "This is the last time 25.293161153793335\n",
      "This is the last time 25.997162103652954\n",
      "This is the last time 26.109829664230347\n",
      "This is the last time 26.03682541847229\n",
      "This is the last time 25.774160146713257\n",
      "This is the last time 28.41117262840271\n",
      "This is the last time 28.482172966003418\n",
      "This is the last time 25.63453722000122\n",
      "\u001b[36m(ClientAppActor pid=34744)\u001b[0m [Client 4] fit, config: {'lr': 0.0001, 'epochs': 9}\n",
      "\u001b[36m(ClientAppActor pid=43456)\u001b[0m Epoch 9: train loss 0.001240, accuracy 0.986852\u001b[32m [repeated 3x across cluster]\u001b[0m\n",
      "\u001b[36m(ClientAppActor pid=43456)\u001b[0m Training time for Client 6: 28.41 seconds\n",
      "\u001b[36m(ClientAppActor pid=34744)\u001b[0m [Client 6] evaluate, config: {}\u001b[32m [repeated 9x across cluster]\u001b[0m\n",
      "\u001b[36m(ClientAppActor pid=33392)\u001b[0m [Client 6] fit, config: {'lr': 0.0001, 'epochs': 9}\u001b[32m [repeated 7x across cluster]\u001b[0m\n",
      "\u001b[36m(ClientAppActor pid=30200)\u001b[0m Epoch 1: train loss 0.002519, accuracy 0.974259\u001b[32m [repeated 14x across cluster]\u001b[0m\n",
      "\u001b[36m(ClientAppActor pid=40700)\u001b[0m Epoch 3: train loss 0.001451, accuracy 0.985741\u001b[32m [repeated 17x across cluster]\u001b[0m\n",
      "\u001b[36m(ClientAppActor pid=33392)\u001b[0m Epoch 5: train loss 0.000897, accuracy 0.991667\u001b[32m [repeated 16x across cluster]\u001b[0m\n",
      "\u001b[36m(ClientAppActor pid=34744)\u001b[0m Epoch 7: train loss 0.000625, accuracy 0.993519\u001b[32m [repeated 15x across cluster]\u001b[0m\n",
      "\u001b[36m(ClientAppActor pid=17732)\u001b[0m Training time for Client 5: 22.71 seconds\n",
      "\u001b[36m(ClientAppActor pid=17732)\u001b[0m [Client 0] fit, config: {'lr': 0.0001, 'epochs': 9}\n",
      "\u001b[36m(ClientAppActor pid=43456)\u001b[0m Epoch 1: train loss 0.002663, accuracy 0.972222\u001b[32m [repeated 13x across cluster]\u001b[0m\n",
      "\u001b[36m(ClientAppActor pid=33392)\u001b[0m Training time for Client 6: 23.25 seconds\u001b[32m [repeated 7x across cluster]\u001b[0m\n",
      "\u001b[36m(ClientAppActor pid=43456)\u001b[0m [Client 9] fit, config: {'lr': 0.0001, 'epochs': 9}\n",
      "\u001b[36m(ClientAppActor pid=17732)\u001b[0m Epoch 3: train loss 0.001292, accuracy 0.986111\u001b[32m [repeated 4x across cluster]\u001b[0m\n",
      "\u001b[36m(ClientAppActor pid=43456)\u001b[0m Epoch 5: train loss 0.001097, accuracy 0.989259\u001b[32m [repeated 4x across cluster]\u001b[0m\n",
      "\u001b[36m(ClientAppActor pid=43456)\u001b[0m Epoch 7: train loss 0.000683, accuracy 0.992037\u001b[32m [repeated 4x across cluster]\u001b[0m\n",
      "\u001b[36m(ClientAppActor pid=43456)\u001b[0m Training time for Client 9: 25.32 seconds\n"
     ]
    },
    {
     "name": "stderr",
     "output_type": "stream",
     "text": [
      "\u001b[92mINFO \u001b[0m:      aggregate_fit: received 10 results and 0 failures\n",
      "\u001b[92mINFO \u001b[0m:      configure_evaluate: strategy sampled 10 clients (out of 10)\n"
     ]
    },
    {
     "name": "stdout",
     "output_type": "stream",
     "text": [
      "\u001b[36m(ClientAppActor pid=17732)\u001b[0m [Client 0] evaluate, config: {}\n"
     ]
    },
    {
     "name": "stderr",
     "output_type": "stream",
     "text": [
      "\u001b[92mINFO \u001b[0m:      aggregate_evaluate: received 10 results and 0 failures\n",
      "\u001b[92mINFO \u001b[0m:      \n",
      "\u001b[92mINFO \u001b[0m:      [ROUND 3]\n",
      "\u001b[92mINFO \u001b[0m:      configure_fit: strategy sampled 10 clients (out of 10)\n"
     ]
    },
    {
     "name": "stdout",
     "output_type": "stream",
     "text": [
      "This is ths last time not a fantasy 23.194056272506714and 1habhhahah\n",
      "this is tehb mode time [23.19]\n",
      "This is ths last time not a fantasy 23.2466402053833and 6habhhahah\n",
      "this is tehb mode time [23.19, 23.25]\n",
      "This is ths last time not a fantasy 23.75404405593872and 4habhhahah\n",
      "this is tehb mode time [23.19, 23.25, 23.75]\n",
      "This is ths last time not a fantasy 22.710057258605957and 7habhhahah\n",
      "this is tehb mode time [23.19, 23.25, 23.75, 22.71]\n",
      "This is ths last time not a fantasy 22.71204972267151and 8habhhahah\n",
      "this is tehb mode time [23.19, 23.25, 23.75, 22.71, 22.71]\n",
      "This is ths last time not a fantasy 25.315701007843018and 9habhhahah\n",
      "this is tehb mode time [23.19, 23.25, 23.75, 22.71, 22.71, 25.32]\n",
      "This is ths last time not a fantasy 22.714053869247437and 5habhhahah\n",
      "this is tehb mode time [23.19, 23.25, 23.75, 22.71, 22.71, 25.32, 22.71]\n",
      "This is ths last time not a fantasy 22.72105360031128and 2habhhahah\n",
      "this is tehb mode time [23.19, 23.25, 23.75, 22.71, 22.71, 25.32, 22.71, 22.72]\n",
      "This is ths last time not a fantasy 22.675056219100952and 3habhhahah\n",
      "this is tehb mode time [23.19, 23.25, 23.75, 22.71, 22.71, 25.32, 22.71, 22.72, 22.68]\n",
      "This is ths last time not a fantasy 25.721448183059692and 0habhhahah\n",
      "this is tehb mode time [23.19, 23.25, 23.75, 22.71, 22.71, 25.32, 22.71, 22.72, 22.68, 25.72]\n",
      "Yeh h modest valueueueueuModeResult(mode=22.71, count=3)\n",
      "yeh h server round 3\n",
      "this is the min value 3.0 and this is the max value 22.71\n",
      "The epochs for the higher lr is 8 and the epochs for the standard lr is 10\n",
      "This is the last time 23.194056272506714\n",
      "This is the last time 23.2466402053833\n",
      "This is the last time 23.75404405593872\n",
      "This is the last time 22.710057258605957\n",
      "This is the last time 22.71204972267151\n",
      "This is the last time 25.315701007843018\n",
      "This is the last time 22.714053869247437\n",
      "This is the last time 22.72105360031128\n",
      "This is the last time 22.675056219100952\n",
      "This is the last time 25.721448183059692\n",
      "\u001b[36m(ClientAppActor pid=33392)\u001b[0m [Client 1] fit, config: {'lr': 0.0001, 'epochs': 8}\n",
      "\u001b[36m(ClientAppActor pid=17732)\u001b[0m Epoch 8: train loss 0.000502, accuracy 0.993333\u001b[32m [repeated 3x across cluster]\u001b[0m\n",
      "\u001b[36m(ClientAppActor pid=17732)\u001b[0m Training time for Client 0: 25.72 seconds\n",
      "\u001b[36m(ClientAppActor pid=33392)\u001b[0m [Client 5] evaluate, config: {}\u001b[32m [repeated 9x across cluster]\u001b[0m\n",
      "\u001b[36m(ClientAppActor pid=40700)\u001b[0m [Client 5] fit, config: {'lr': 0.0001, 'epochs': 8}\u001b[32m [repeated 7x across cluster]\u001b[0m\n",
      "\u001b[36m(ClientAppActor pid=17732)\u001b[0m Epoch 1: train loss 0.001448, accuracy 0.986481\u001b[32m [repeated 9x across cluster]\u001b[0m\n",
      "\u001b[36m(ClientAppActor pid=30200)\u001b[0m Epoch 3: train loss 0.000557, accuracy 0.995185\u001b[32m [repeated 16x across cluster]\u001b[0m\n",
      "\u001b[36m(ClientAppActor pid=17732)\u001b[0m Epoch 5: train loss 0.000652, accuracy 0.992222\u001b[32m [repeated 17x across cluster]\u001b[0m\n",
      "\u001b[36m(ClientAppActor pid=33392)\u001b[0m Training time for Client 1: 20.04 seconds\n",
      "\u001b[36m(ClientAppActor pid=33392)\u001b[0m [Client 3] fit, config: {'lr': 0.001, 'epochs': 10}\n",
      "\u001b[36m(ClientAppActor pid=29028)\u001b[0m Epoch 7: train loss 0.000153, accuracy 0.998333\u001b[32m [repeated 16x across cluster]\u001b[0m\n",
      "\u001b[36m(ClientAppActor pid=21144)\u001b[0m Training time for Client 4: 20.60 seconds\u001b[32m [repeated 7x across cluster]\u001b[0m\n",
      "\u001b[36m(ClientAppActor pid=29028)\u001b[0m [Client 0] fit, config: {'lr': 0.0001, 'epochs': 8}\n",
      "\u001b[36m(ClientAppActor pid=33392)\u001b[0m Epoch 1: train loss 0.001509, accuracy 0.985185\u001b[32m [repeated 9x across cluster]\u001b[0m\n",
      "\u001b[36m(ClientAppActor pid=33392)\u001b[0m Epoch 3: train loss 0.000642, accuracy 0.993889\u001b[32m [repeated 4x across cluster]\u001b[0m\n",
      "\u001b[36m(ClientAppActor pid=33392)\u001b[0m Epoch 5: train loss 0.000530, accuracy 0.995000\u001b[32m [repeated 4x across cluster]\u001b[0m\n",
      "\u001b[36m(ClientAppActor pid=33392)\u001b[0m Epoch 7: train loss 0.000611, accuracy 0.994074\u001b[32m [repeated 4x across cluster]\u001b[0m\n",
      "\u001b[36m(ClientAppActor pid=29028)\u001b[0m Training time for Client 0: 23.15 seconds\n"
     ]
    },
    {
     "name": "stderr",
     "output_type": "stream",
     "text": [
      "\u001b[92mINFO \u001b[0m:      aggregate_fit: received 10 results and 0 failures\n",
      "\u001b[92mINFO \u001b[0m:      configure_evaluate: strategy sampled 10 clients (out of 10)\n"
     ]
    },
    {
     "name": "stdout",
     "output_type": "stream",
     "text": [
      "\u001b[36m(ClientAppActor pid=33392)\u001b[0m Epoch 9: train loss 0.000338, accuracy 0.995926\u001b[32m [repeated 3x across cluster]\u001b[0m\n",
      "\u001b[36m(ClientAppActor pid=33392)\u001b[0m [Client 6] evaluate, config: {}\n",
      "\u001b[36m(ClientAppActor pid=33392)\u001b[0m Training time for Client 3: 28.38 seconds\n"
     ]
    },
    {
     "name": "stderr",
     "output_type": "stream",
     "text": [
      "\u001b[92mINFO \u001b[0m:      aggregate_evaluate: received 10 results and 0 failures\n",
      "\u001b[92mINFO \u001b[0m:      \n",
      "\u001b[92mINFO \u001b[0m:      [ROUND 4]\n",
      "\u001b[92mINFO \u001b[0m:      configure_fit: strategy sampled 10 clients (out of 10)\n"
     ]
    },
    {
     "name": "stdout",
     "output_type": "stream",
     "text": [
      "This is ths last time not a fantasy 28.383780002593994and 3habhhahah\n",
      "this is tehb mode time [28.38]\n",
      "This is ths last time not a fantasy 20.17520833015442and 9habhhahah\n",
      "this is tehb mode time [28.38, 20.18]\n",
      "This is ths last time not a fantasy 20.075974702835083and 5habhhahah\n",
      "this is tehb mode time [28.38, 20.18, 20.08]\n",
      "This is ths last time not a fantasy 20.595659732818604and 4habhhahah\n",
      "this is tehb mode time [28.38, 20.18, 20.08, 20.6]\n",
      "This is ths last time not a fantasy 20.096977710723877and 2habhhahah\n",
      "this is tehb mode time [28.38, 20.18, 20.08, 20.6, 20.1]\n",
      "This is ths last time not a fantasy 20.387661457061768and 8habhhahah\n",
      "this is tehb mode time [28.38, 20.18, 20.08, 20.6, 20.1, 20.39]\n",
      "This is ths last time not a fantasy 20.04086661338806and 1habhhahah\n",
      "this is tehb mode time [28.38, 20.18, 20.08, 20.6, 20.1, 20.39, 20.04]\n",
      "This is ths last time not a fantasy 20.30766463279724and 7habhhahah\n",
      "this is tehb mode time [28.38, 20.18, 20.08, 20.6, 20.1, 20.39, 20.04, 20.31]\n",
      "This is ths last time not a fantasy 20.584657907485962and 6habhhahah\n",
      "this is tehb mode time [28.38, 20.18, 20.08, 20.6, 20.1, 20.39, 20.04, 20.31, 20.58]\n",
      "This is ths last time not a fantasy 23.14568567276001and 0habhhahah\n",
      "this is tehb mode time [28.38, 20.18, 20.08, 20.6, 20.1, 20.39, 20.04, 20.31, 20.58, 23.15]\n",
      "Yeh h modest valueueueueuModeResult(mode=20.04, count=1)\n",
      "yeh h server round 4\n",
      "this is the min value 1.0 and this is the max value 20.04\n",
      "The epochs for the higher lr is 9 and the epochs for the standard lr is 10\n",
      "This is the last time 28.383780002593994\n",
      "This is the last time 20.17520833015442\n",
      "This is the last time 20.075974702835083\n",
      "This is the last time 20.595659732818604\n",
      "This is the last time 20.096977710723877\n",
      "This is the last time 20.387661457061768\n",
      "This is the last time 20.04086661338806\n",
      "This is the last time 20.30766463279724\n",
      "This is the last time 20.584657907485962\n",
      "This is the last time 23.14568567276001\n",
      "\u001b[36m(ClientAppActor pid=29028)\u001b[0m [Client 3] fit, config: {'lr': 0.0001, 'epochs': 9}\n",
      "\u001b[36m(ClientAppActor pid=29028)\u001b[0m Epoch 1: train loss 0.000886, accuracy 0.991296\u001b[32m [repeated 9x across cluster]\u001b[0m\n",
      "\u001b[36m(ClientAppActor pid=29028)\u001b[0m [Client 9] evaluate, config: {}\u001b[32m [repeated 9x across cluster]\u001b[0m\n",
      "\u001b[36m(ClientAppActor pid=40700)\u001b[0m [Client 7] fit, config: {'lr': 0.0001, 'epochs': 9}\u001b[32m [repeated 7x across cluster]\u001b[0m\n",
      "\u001b[36m(ClientAppActor pid=17732)\u001b[0m Epoch 3: train loss 0.000392, accuracy 0.995370\u001b[32m [repeated 16x across cluster]\u001b[0m\n",
      "\u001b[36m(ClientAppActor pid=17732)\u001b[0m Epoch 5: train loss 0.000492, accuracy 0.995000\u001b[32m [repeated 17x across cluster]\u001b[0m\n",
      "\u001b[36m(ClientAppActor pid=34744)\u001b[0m Epoch 7: train loss 0.000074, accuracy 0.999259\u001b[32m [repeated 16x across cluster]\u001b[0m\n",
      "\u001b[36m(ClientAppActor pid=17732)\u001b[0m Training time for Client 4: 22.63 seconds\n",
      "\u001b[36m(ClientAppActor pid=17732)\u001b[0m [Client 6] fit, config: {'lr': 0.0001, 'epochs': 9}\n",
      "\u001b[36m(ClientAppActor pid=17732)\u001b[0m Epoch 0: train loss 0.001961, accuracy 0.981667\u001b[32m [repeated 15x across cluster]\u001b[0m\n",
      "\u001b[36m(ClientAppActor pid=40700)\u001b[0m Training time for Client 7: 23.20 seconds\u001b[32m [repeated 7x across cluster]\u001b[0m\n",
      "\u001b[36m(ClientAppActor pid=34744)\u001b[0m [Client 0] fit, config: {'lr': 0.0001, 'epochs': 9}\n",
      "\u001b[36m(ClientAppActor pid=17732)\u001b[0m Epoch 2: train loss 0.000580, accuracy 0.995000\u001b[32m [repeated 4x across cluster]\u001b[0m\n",
      "\u001b[36m(ClientAppActor pid=17732)\u001b[0m Epoch 4: train loss 0.000407, accuracy 0.996852\u001b[32m [repeated 4x across cluster]\u001b[0m\n",
      "\u001b[36m(ClientAppActor pid=34744)\u001b[0m Epoch 6: train loss 0.000425, accuracy 0.996481\u001b[32m [repeated 4x across cluster]\u001b[0m\n"
     ]
    },
    {
     "name": "stderr",
     "output_type": "stream",
     "text": [
      "\u001b[92mINFO \u001b[0m:      aggregate_fit: received 10 results and 0 failures\n",
      "\u001b[92mINFO \u001b[0m:      configure_evaluate: strategy sampled 10 clients (out of 10)\n"
     ]
    },
    {
     "name": "stdout",
     "output_type": "stream",
     "text": [
      "\u001b[36m(ClientAppActor pid=17732)\u001b[0m Training time for Client 6: 25.06 seconds\n",
      "\u001b[36m(ClientAppActor pid=17732)\u001b[0m Epoch 8: train loss 0.000463, accuracy 0.994444\u001b[32m [repeated 4x across cluster]\u001b[0m\n",
      "\u001b[36m(ClientAppActor pid=17732)\u001b[0m [Client 9] evaluate, config: {}\n"
     ]
    },
    {
     "name": "stderr",
     "output_type": "stream",
     "text": [
      "\u001b[92mINFO \u001b[0m:      aggregate_evaluate: received 10 results and 0 failures\n",
      "\u001b[92mINFO \u001b[0m:      \n",
      "\u001b[92mINFO \u001b[0m:      [ROUND 5]\n",
      "\u001b[92mINFO \u001b[0m:      configure_fit: strategy sampled 10 clients (out of 10)\n"
     ]
    },
    {
     "name": "stdout",
     "output_type": "stream",
     "text": [
      "This is ths last time not a fantasy 22.65444564819336and 1habhhahah\n",
      "this is tehb mode time [22.65]\n",
      "This is ths last time not a fantasy 23.199369192123413and 7habhhahah\n",
      "this is tehb mode time [22.65, 23.2]\n",
      "This is ths last time not a fantasy 22.630444765090942and 4habhhahah\n",
      "this is tehb mode time [22.65, 23.2, 22.63]\n",
      "This is ths last time not a fantasy 23.239444732666016and 3habhhahah\n",
      "this is tehb mode time [22.65, 23.2, 22.63, 23.24]\n",
      "This is ths last time not a fantasy 22.734440088272095and 2habhhahah\n",
      "this is tehb mode time [22.65, 23.2, 22.63, 23.24, 22.73]\n",
      "This is ths last time not a fantasy 23.229438066482544and 9habhhahah\n",
      "this is tehb mode time [22.65, 23.2, 22.63, 23.24, 22.73, 23.23]\n",
      "This is ths last time not a fantasy 22.566444158554077and 8habhhahah\n",
      "this is tehb mode time [22.65, 23.2, 22.63, 23.24, 22.73, 23.23, 22.57]\n",
      "This is ths last time not a fantasy 25.063640117645264and 6habhhahah\n",
      "this is tehb mode time [22.65, 23.2, 22.63, 23.24, 22.73, 23.23, 22.57, 25.06]\n",
      "This is ths last time not a fantasy 22.803433895111084and 5habhhahah\n",
      "this is tehb mode time [22.65, 23.2, 22.63, 23.24, 22.73, 23.23, 22.57, 25.06, 22.8]\n",
      "This is ths last time not a fantasy 24.94764256477356and 0habhhahah\n",
      "this is tehb mode time [22.65, 23.2, 22.63, 23.24, 22.73, 23.23, 22.57, 25.06, 22.8, 24.95]\n",
      "Yeh h modest valueueueueuModeResult(mode=22.57, count=1)\n",
      "yeh h server round 5\n",
      "this is the min value 1.0 and this is the max value 22.57\n",
      "The epochs for the higher lr is 9 and the epochs for the standard lr is 10\n",
      "This is the last time 22.65444564819336\n",
      "This is the last time 23.199369192123413\n",
      "This is the last time 22.630444765090942\n",
      "This is the last time 23.239444732666016\n",
      "This is the last time 22.734440088272095\n",
      "This is the last time 23.229438066482544\n",
      "This is the last time 22.566444158554077\n",
      "This is the last time 25.063640117645264\n",
      "This is the last time 22.803433895111084\n",
      "This is the last time 24.94764256477356\n",
      "\u001b[36m(ClientAppActor pid=17732)\u001b[0m [Client 1] fit, config: {'lr': 0.0001, 'epochs': 9}\n",
      "\u001b[36m(ClientAppActor pid=34744)\u001b[0m Training time for Client 0: 24.95 seconds\n",
      "\u001b[36m(ClientAppActor pid=30200)\u001b[0m Epoch 1: train loss 0.000616, accuracy 0.993704\u001b[32m [repeated 10x across cluster]\u001b[0m\n",
      "\u001b[36m(ClientAppActor pid=17732)\u001b[0m [Client 1] evaluate, config: {}\u001b[32m [repeated 9x across cluster]\u001b[0m\n",
      "\u001b[36m(ClientAppActor pid=40700)\u001b[0m [Client 6] fit, config: {'lr': 0.0001, 'epochs': 9}\u001b[32m [repeated 7x across cluster]\u001b[0m\n",
      "\u001b[36m(ClientAppActor pid=21144)\u001b[0m Epoch 3: train loss 0.000419, accuracy 0.996481\u001b[32m [repeated 16x across cluster]\u001b[0m\n",
      "\u001b[36m(ClientAppActor pid=30200)\u001b[0m Epoch 5: train loss 0.000222, accuracy 0.996852\u001b[32m [repeated 17x across cluster]\u001b[0m\n",
      "\u001b[36m(ClientAppActor pid=30200)\u001b[0m Epoch 7: train loss 0.000314, accuracy 0.997778\u001b[32m [repeated 17x across cluster]\u001b[0m\n",
      "\u001b[36m(ClientAppActor pid=29028)\u001b[0m Training time for Client 3: 22.32 seconds\n",
      "\u001b[36m(ClientAppActor pid=29028)\u001b[0m [Client 5] fit, config: {'lr': 0.0001, 'epochs': 9}\n",
      "\u001b[36m(ClientAppActor pid=43456)\u001b[0m Epoch 9: train loss 0.000054, accuracy 0.999815\u001b[32m [repeated 15x across cluster]\u001b[0m\n",
      "\u001b[36m(ClientAppActor pid=43456)\u001b[0m Training time for Client 8: 25.26 seconds\u001b[32m [repeated 7x across cluster]\u001b[0m\n",
      "\u001b[36m(ClientAppActor pid=21144)\u001b[0m [Client 0] fit, config: {'lr': 0.0001, 'epochs': 9}\n",
      "\u001b[36m(ClientAppActor pid=29028)\u001b[0m Epoch 2: train loss 0.000314, accuracy 0.997407\u001b[32m [repeated 4x across cluster]\u001b[0m\n",
      "\u001b[36m(ClientAppActor pid=29028)\u001b[0m Epoch 4: train loss 0.000311, accuracy 0.996667\u001b[32m [repeated 4x across cluster]\u001b[0m\n",
      "\u001b[36m(ClientAppActor pid=29028)\u001b[0m Epoch 6: train loss 0.000407, accuracy 0.996296\u001b[32m [repeated 4x across cluster]\u001b[0m\n",
      "\u001b[36m(ClientAppActor pid=29028)\u001b[0m Training time for Client 5: 24.55 seconds\n",
      "\u001b[36m(ClientAppActor pid=29028)\u001b[0m Epoch 8: train loss 0.000250, accuracy 0.997407\u001b[32m [repeated 4x across cluster]\u001b[0m\n"
     ]
    },
    {
     "name": "stderr",
     "output_type": "stream",
     "text": [
      "\u001b[92mINFO \u001b[0m:      aggregate_fit: received 10 results and 0 failures\n",
      "\u001b[92mINFO \u001b[0m:      configure_evaluate: strategy sampled 10 clients (out of 10)\n"
     ]
    },
    {
     "name": "stdout",
     "output_type": "stream",
     "text": [
      "\u001b[36m(ClientAppActor pid=21144)\u001b[0m [Client 6] evaluate, config: {}\n"
     ]
    },
    {
     "name": "stderr",
     "output_type": "stream",
     "text": [
      "\u001b[92mINFO \u001b[0m:      aggregate_evaluate: received 10 results and 0 failures\n",
      "\u001b[92mINFO \u001b[0m:      \n",
      "\u001b[92mINFO \u001b[0m:      [ROUND 6]\n",
      "\u001b[92mINFO \u001b[0m:      configure_fit: strategy sampled 10 clients (out of 10)\n"
     ]
    },
    {
     "name": "stdout",
     "output_type": "stream",
     "text": [
      "This is ths last time not a fantasy 22.869813442230225and 7habhhahah\n",
      "this is tehb mode time [22.87]\n",
      "This is ths last time not a fantasy 22.637819290161133and 2habhhahah\n",
      "this is tehb mode time [22.87, 22.64]\n",
      "This is ths last time not a fantasy 22.320703983306885and 3habhhahah\n",
      "this is tehb mode time [22.87, 22.64, 22.32]\n",
      "This is ths last time not a fantasy 24.551533460617065and 5habhhahah\n",
      "this is tehb mode time [22.87, 22.64, 22.32, 24.55]\n",
      "This is ths last time not a fantasy 23.13781714439392and 9habhhahah\n",
      "this is tehb mode time [22.87, 22.64, 22.32, 24.55, 23.14]\n",
      "This is ths last time not a fantasy 23.476540565490723and 6habhhahah\n",
      "this is tehb mode time [22.87, 22.64, 22.32, 24.55, 23.14, 23.48]\n",
      "This is ths last time not a fantasy 25.084792137145996and 0habhhahah\n",
      "this is tehb mode time [22.87, 22.64, 22.32, 24.55, 23.14, 23.48, 25.08]\n",
      "This is ths last time not a fantasy 25.259634733200073and 8habhhahah\n",
      "this is tehb mode time [22.87, 22.64, 22.32, 24.55, 23.14, 23.48, 25.08, 25.26]\n",
      "This is ths last time not a fantasy 23.329813480377197and 1habhhahah\n",
      "this is tehb mode time [22.87, 22.64, 22.32, 24.55, 23.14, 23.48, 25.08, 25.26, 23.33]\n",
      "This is ths last time not a fantasy 22.849820613861084and 4habhhahah\n",
      "this is tehb mode time [22.87, 22.64, 22.32, 24.55, 23.14, 23.48, 25.08, 25.26, 23.33, 22.85]\n",
      "Yeh h modest valueueueueuModeResult(mode=22.32, count=1)\n",
      "yeh h server round 6\n",
      "this is the min value 1.0 and this is the max value 22.32\n",
      "The epochs for the higher lr is 9 and the epochs for the standard lr is 10\n",
      "This is the last time 22.869813442230225\n",
      "This is the last time 22.637819290161133\n",
      "This is the last time 22.320703983306885\n",
      "This is the last time 24.551533460617065\n",
      "This is the last time 23.13781714439392\n",
      "This is the last time 23.476540565490723\n",
      "This is the last time 25.084792137145996\n",
      "This is the last time 25.259634733200073\n",
      "This is the last time 23.329813480377197\n",
      "This is the last time 22.849820613861084\n",
      "\u001b[36m(ClientAppActor pid=43456)\u001b[0m [Client 7] fit, config: {'lr': 0.0001, 'epochs': 9}\n",
      "\u001b[36m(ClientAppActor pid=21144)\u001b[0m Training time for Client 0: 25.08 seconds\n",
      "\u001b[36m(ClientAppActor pid=21144)\u001b[0m Epoch 0: train loss 0.001375, accuracy 0.988704\u001b[32m [repeated 3x across cluster]\u001b[0m\n",
      "\u001b[36m(ClientAppActor pid=43456)\u001b[0m [Client 2] evaluate, config: {}\u001b[32m [repeated 9x across cluster]\u001b[0m\n",
      "\u001b[36m(ClientAppActor pid=34744)\u001b[0m [Client 8] fit, config: {'lr': 0.0001, 'epochs': 9}\u001b[32m [repeated 7x across cluster]\u001b[0m\n",
      "\u001b[36m(ClientAppActor pid=34744)\u001b[0m Epoch 2: train loss 0.000228, accuracy 0.997593\u001b[32m [repeated 17x across cluster]\u001b[0m\n",
      "\u001b[36m(ClientAppActor pid=34744)\u001b[0m Epoch 4: train loss 0.000269, accuracy 0.998148\u001b[32m [repeated 17x across cluster]\u001b[0m\n",
      "\u001b[36m(ClientAppActor pid=34744)\u001b[0m Epoch 6: train loss 0.000005, accuracy 1.000000\u001b[32m [repeated 16x across cluster]\u001b[0m\n",
      "\u001b[36m(ClientAppActor pid=21144)\u001b[0m Training time for Client 2: 22.31 seconds\n",
      "\u001b[36m(ClientAppActor pid=21144)\u001b[0m [Client 1] fit, config: {'lr': 0.0001, 'epochs': 9}\n",
      "\u001b[36m(ClientAppActor pid=34744)\u001b[0m Epoch 8: train loss 0.000002, accuracy 1.000000\u001b[32m [repeated 15x across cluster]\u001b[0m\n",
      "\u001b[36m(ClientAppActor pid=29028)\u001b[0m Training time for Client 0: 23.14 seconds\u001b[32m [repeated 7x across cluster]\u001b[0m\n",
      "\u001b[36m(ClientAppActor pid=43456)\u001b[0m [Client 4] fit, config: {'lr': 0.0001, 'epochs': 9}\n",
      "\u001b[36m(ClientAppActor pid=43456)\u001b[0m Epoch 1: train loss 0.000532, accuracy 0.993889\u001b[32m [repeated 9x across cluster]\u001b[0m\n",
      "\u001b[36m(ClientAppActor pid=43456)\u001b[0m Epoch 3: train loss 0.000347, accuracy 0.996667\u001b[32m [repeated 4x across cluster]\u001b[0m\n",
      "\u001b[36m(ClientAppActor pid=43456)\u001b[0m Epoch 5: train loss 0.000221, accuracy 0.997963\u001b[32m [repeated 4x across cluster]\u001b[0m\n",
      "\u001b[36m(ClientAppActor pid=43456)\u001b[0m Epoch 7: train loss 0.000161, accuracy 0.998519\u001b[32m [repeated 4x across cluster]\u001b[0m\n",
      "\u001b[36m(ClientAppActor pid=21144)\u001b[0m Training time for Client 1: 24.49 seconds\n"
     ]
    },
    {
     "name": "stderr",
     "output_type": "stream",
     "text": [
      "\u001b[92mINFO \u001b[0m:      aggregate_fit: received 10 results and 0 failures\n",
      "\u001b[92mINFO \u001b[0m:      configure_evaluate: strategy sampled 10 clients (out of 10)\n"
     ]
    },
    {
     "name": "stdout",
     "output_type": "stream",
     "text": [
      "\u001b[36m(ClientAppActor pid=43456)\u001b[0m [Client 4] evaluate, config: {}\n"
     ]
    },
    {
     "name": "stderr",
     "output_type": "stream",
     "text": [
      "\u001b[92mINFO \u001b[0m:      aggregate_evaluate: received 10 results and 0 failures\n",
      "\u001b[92mINFO \u001b[0m:      \n",
      "\u001b[92mINFO \u001b[0m:      [ROUND 7]\n",
      "\u001b[92mINFO \u001b[0m:      configure_fit: strategy sampled 10 clients (out of 10)\n"
     ]
    },
    {
     "name": "stdout",
     "output_type": "stream",
     "text": [
      "This is ths last time not a fantasy 22.918940782546997and 7habhhahah\n",
      "this is tehb mode time [22.92]\n",
      "This is ths last time not a fantasy 23.185500621795654and 3habhhahah\n",
      "this is tehb mode time [22.92, 23.19]\n",
      "This is ths last time not a fantasy 24.487531661987305and 1habhhahah\n",
      "this is tehb mode time [22.92, 23.19, 24.49]\n",
      "This is ths last time not a fantasy 22.96449565887451and 9habhhahah\n",
      "this is tehb mode time [22.92, 23.19, 24.49, 22.96]\n",
      "This is ths last time not a fantasy 22.911502361297607and 6habhhahah\n",
      "this is tehb mode time [22.92, 23.19, 24.49, 22.96, 22.91]\n",
      "This is ths last time not a fantasy 23.211501836776733and 5habhhahah\n",
      "this is tehb mode time [22.92, 23.19, 24.49, 22.96, 22.91, 23.21]\n",
      "This is ths last time not a fantasy 22.51550531387329and 8habhhahah\n",
      "this is tehb mode time [22.92, 23.19, 24.49, 22.96, 22.91, 23.21, 22.52]\n",
      "This is ths last time not a fantasy 23.138502597808838and 0habhhahah\n",
      "this is tehb mode time [22.92, 23.19, 24.49, 22.96, 22.91, 23.21, 22.52, 23.14]\n",
      "This is ths last time not a fantasy 24.660531997680664and 4habhhahah\n",
      "this is tehb mode time [22.92, 23.19, 24.49, 22.96, 22.91, 23.21, 22.52, 23.14, 24.66]\n",
      "This is ths last time not a fantasy 22.313499927520752and 2habhhahah\n",
      "this is tehb mode time [22.92, 23.19, 24.49, 22.96, 22.91, 23.21, 22.52, 23.14, 24.66, 22.31]\n",
      "Yeh h modest valueueueueuModeResult(mode=22.31, count=1)\n",
      "yeh h server round 7\n",
      "this is the min value 1.0 and this is the max value 22.31\n",
      "The epochs for the higher lr is 9 and the epochs for the standard lr is 10\n",
      "This is the last time 22.918940782546997\n",
      "This is the last time 23.185500621795654\n",
      "This is the last time 24.487531661987305\n",
      "This is the last time 22.96449565887451\n",
      "This is the last time 22.911502361297607\n",
      "This is the last time 23.211501836776733\n",
      "This is the last time 22.51550531387329\n",
      "This is the last time 23.138502597808838\n",
      "This is the last time 24.660531997680664\n",
      "This is the last time 22.313499927520752\n",
      "\u001b[36m(ClientAppActor pid=21144)\u001b[0m [Client 7] fit, config: {'lr': 0.0001, 'epochs': 9}\n",
      "\u001b[36m(ClientAppActor pid=21144)\u001b[0m Epoch 0: train loss 0.001142, accuracy 0.990926\u001b[32m [repeated 3x across cluster]\u001b[0m\n",
      "\u001b[36m(ClientAppActor pid=43456)\u001b[0m Training time for Client 4: 24.66 seconds\n",
      "\u001b[36m(ClientAppActor pid=21144)\u001b[0m [Client 9] evaluate, config: {}\u001b[32m [repeated 9x across cluster]\u001b[0m\n",
      "\u001b[36m(ClientAppActor pid=29028)\u001b[0m [Client 0] fit, config: {'lr': 0.0001, 'epochs': 9}\u001b[32m [repeated 7x across cluster]\u001b[0m\n",
      "\u001b[36m(ClientAppActor pid=21144)\u001b[0m Epoch 2: train loss 0.000360, accuracy 0.996667\u001b[32m [repeated 16x across cluster]\u001b[0m\n",
      "\u001b[36m(ClientAppActor pid=40700)\u001b[0m Epoch 4: train loss 0.000063, accuracy 0.999630\u001b[32m [repeated 16x across cluster]\u001b[0m\n",
      "\u001b[36m(ClientAppActor pid=30200)\u001b[0m Epoch 6: train loss 0.000374, accuracy 0.995741\u001b[32m [repeated 16x across cluster]\u001b[0m\n",
      "\u001b[36m(ClientAppActor pid=40700)\u001b[0m Training time for Client 1: 22.49 seconds\n",
      "\u001b[36m(ClientAppActor pid=34744)\u001b[0m Epoch 8: train loss 0.000011, accuracy 1.000000\u001b[32m [repeated 17x across cluster]\u001b[0m\n",
      "\u001b[36m(ClientAppActor pid=40700)\u001b[0m [Client 4] fit, config: {'lr': 0.0001, 'epochs': 9}\n",
      "\u001b[36m(ClientAppActor pid=43456)\u001b[0m Training time for Client 6: 22.98 seconds\u001b[32m [repeated 7x across cluster]\u001b[0m\n",
      "\u001b[36m(ClientAppActor pid=21144)\u001b[0m Epoch 1: train loss 0.000362, accuracy 0.995741\u001b[32m [repeated 9x across cluster]\u001b[0m\n",
      "\u001b[36m(ClientAppActor pid=21144)\u001b[0m [Client 2] fit, config: {'lr': 0.0001, 'epochs': 9}\n",
      "\u001b[36m(ClientAppActor pid=21144)\u001b[0m Epoch 3: train loss 0.000622, accuracy 0.993148\u001b[32m [repeated 4x across cluster]\u001b[0m\n",
      "\u001b[36m(ClientAppActor pid=40700)\u001b[0m Epoch 5: train loss 0.000034, accuracy 0.999444\u001b[32m [repeated 4x across cluster]\u001b[0m\n",
      "\u001b[36m(ClientAppActor pid=21144)\u001b[0m Epoch 7: train loss 0.000064, accuracy 0.999444\u001b[32m [repeated 4x across cluster]\u001b[0m\n"
     ]
    },
    {
     "name": "stderr",
     "output_type": "stream",
     "text": [
      "\u001b[92mINFO \u001b[0m:      aggregate_fit: received 10 results and 0 failures\n",
      "\u001b[92mINFO \u001b[0m:      configure_evaluate: strategy sampled 10 clients (out of 10)\n"
     ]
    },
    {
     "name": "stdout",
     "output_type": "stream",
     "text": [
      "\u001b[36m(ClientAppActor pid=21144)\u001b[0m Training time for Client 2: 24.70 seconds\n",
      "\u001b[36m(ClientAppActor pid=40700)\u001b[0m [Client 5] evaluate, config: {}\n"
     ]
    },
    {
     "name": "stderr",
     "output_type": "stream",
     "text": [
      "\u001b[92mINFO \u001b[0m:      aggregate_evaluate: received 10 results and 0 failures\n",
      "\u001b[92mINFO \u001b[0m:      \n",
      "\u001b[92mINFO \u001b[0m:      [ROUND 8]\n",
      "\u001b[92mINFO \u001b[0m:      configure_fit: strategy sampled 10 clients (out of 10)\n"
     ]
    },
    {
     "name": "stdout",
     "output_type": "stream",
     "text": [
      "This is ths last time not a fantasy 22.77121591567993and 8habhhahah\n",
      "this is tehb mode time [22.77]\n",
      "This is ths last time not a fantasy 24.70260787010193and 2habhhahah\n",
      "this is tehb mode time [22.77, 24.7]\n",
      "This is ths last time not a fantasy 24.955615997314453and 4habhhahah\n",
      "this is tehb mode time [22.77, 24.7, 24.96]\n",
      "This is ths last time not a fantasy 22.448217153549194and 5habhhahah\n",
      "this is tehb mode time [22.77, 24.7, 24.96, 22.45]\n",
      "This is ths last time not a fantasy 22.864210605621338and 7habhhahah\n",
      "this is tehb mode time [22.77, 24.7, 24.96, 22.45, 22.86]\n",
      "This is ths last time not a fantasy 22.485215663909912and 1habhhahah\n",
      "this is tehb mode time [22.77, 24.7, 24.96, 22.45, 22.86, 22.49]\n",
      "This is ths last time not a fantasy 22.977216958999634and 6habhhahah\n",
      "this is tehb mode time [22.77, 24.7, 24.96, 22.45, 22.86, 22.49, 22.98]\n",
      "This is ths last time not a fantasy 22.840208292007446and 3habhhahah\n",
      "this is tehb mode time [22.77, 24.7, 24.96, 22.45, 22.86, 22.49, 22.98, 22.84]\n",
      "This is ths last time not a fantasy 22.75921607017517and 9habhhahah\n",
      "this is tehb mode time [22.77, 24.7, 24.96, 22.45, 22.86, 22.49, 22.98, 22.84, 22.76]\n",
      "This is ths last time not a fantasy 22.601216077804565and 0habhhahah\n",
      "this is tehb mode time [22.77, 24.7, 24.96, 22.45, 22.86, 22.49, 22.98, 22.84, 22.76, 22.6]\n",
      "Yeh h modest valueueueueuModeResult(mode=22.45, count=1)\n",
      "yeh h server round 8\n",
      "this is the min value 1.0 and this is the max value 22.45\n",
      "The epochs for the higher lr is 9 and the epochs for the standard lr is 10\n",
      "This is the last time 22.77121591567993\n",
      "This is the last time 24.70260787010193\n",
      "This is the last time 24.955615997314453\n",
      "This is the last time 22.448217153549194\n",
      "This is the last time 22.864210605621338\n",
      "This is the last time 22.485215663909912\n",
      "This is the last time 22.977216958999634\n",
      "This is the last time 22.840208292007446\n",
      "This is the last time 22.75921607017517\n",
      "This is the last time 22.601216077804565\n",
      "\u001b[36m(ClientAppActor pid=17732)\u001b[0m [Client 8] fit, config: {'lr': 0.0001, 'epochs': 9}\n",
      "\u001b[36m(ClientAppActor pid=40700)\u001b[0m Epoch 8: train loss 0.000002, accuracy 1.000000\u001b[32m [repeated 3x across cluster]\u001b[0m\n",
      "\u001b[36m(ClientAppActor pid=40700)\u001b[0m Training time for Client 4: 24.96 seconds\n",
      "\u001b[36m(ClientAppActor pid=17732)\u001b[0m [Client 8] evaluate, config: {}\u001b[32m [repeated 9x across cluster]\u001b[0m\n",
      "\u001b[36m(ClientAppActor pid=29028)\u001b[0m [Client 3] fit, config: {'lr': 0.0001, 'epochs': 9}\u001b[32m [repeated 7x across cluster]\u001b[0m\n",
      "\u001b[36m(ClientAppActor pid=43456)\u001b[0m Epoch 1: train loss 0.000386, accuracy 0.995000\u001b[32m [repeated 16x across cluster]\u001b[0m\n",
      "\u001b[36m(ClientAppActor pid=21144)\u001b[0m Epoch 3: train loss 0.000032, accuracy 1.000000\u001b[32m [repeated 16x across cluster]\u001b[0m\n",
      "\u001b[36m(ClientAppActor pid=17732)\u001b[0m Epoch 6: train loss 0.000042, accuracy 0.999630\u001b[32m [repeated 17x across cluster]\u001b[0m\n",
      "\u001b[36m(ClientAppActor pid=40700)\u001b[0m Training time for Client 2: 22.51 seconds\n",
      "\u001b[36m(ClientAppActor pid=30200)\u001b[0m Epoch 8: train loss 0.000451, accuracy 0.995370\u001b[32m [repeated 17x across cluster]\u001b[0m\n",
      "\u001b[36m(ClientAppActor pid=40700)\u001b[0m [Client 9] fit, config: {'lr': 0.0001, 'epochs': 9}\n",
      "\u001b[36m(ClientAppActor pid=30200)\u001b[0m Training time for Client 5: 25.09 seconds\u001b[32m [repeated 7x across cluster]\u001b[0m\n",
      "\u001b[36m(ClientAppActor pid=40700)\u001b[0m Epoch 1: train loss 0.000361, accuracy 0.995741\u001b[32m [repeated 10x across cluster]\u001b[0m\n",
      "\u001b[36m(ClientAppActor pid=17732)\u001b[0m [Client 0] fit, config: {'lr': 0.0001, 'epochs': 9}\n",
      "\u001b[36m(ClientAppActor pid=40700)\u001b[0m Epoch 3: train loss 0.000204, accuracy 0.997222\u001b[32m [repeated 4x across cluster]\u001b[0m\n",
      "\u001b[36m(ClientAppActor pid=40700)\u001b[0m Epoch 5: train loss 0.000276, accuracy 0.996852\u001b[32m [repeated 4x across cluster]\u001b[0m\n",
      "\u001b[36m(ClientAppActor pid=40700)\u001b[0m Epoch 7: train loss 0.000848, accuracy 0.993704\u001b[32m [repeated 4x across cluster]\u001b[0m\n",
      "\u001b[36m(ClientAppActor pid=40700)\u001b[0m Training time for Client 9: 24.61 seconds\n"
     ]
    },
    {
     "name": "stderr",
     "output_type": "stream",
     "text": [
      "\u001b[92mINFO \u001b[0m:      aggregate_fit: received 10 results and 0 failures\n",
      "\u001b[92mINFO \u001b[0m:      configure_evaluate: strategy sampled 10 clients (out of 10)\n"
     ]
    },
    {
     "name": "stdout",
     "output_type": "stream",
     "text": [
      "\u001b[36m(ClientAppActor pid=17732)\u001b[0m [Client 3] evaluate, config: {}\n"
     ]
    },
    {
     "name": "stderr",
     "output_type": "stream",
     "text": [
      "\u001b[92mINFO \u001b[0m:      aggregate_evaluate: received 10 results and 0 failures\n",
      "\u001b[92mINFO \u001b[0m:      \n",
      "\u001b[92mINFO \u001b[0m:      [ROUND 9]\n",
      "\u001b[92mINFO \u001b[0m:      configure_fit: strategy sampled 10 clients (out of 10)\n"
     ]
    },
    {
     "name": "stdout",
     "output_type": "stream",
     "text": [
      "This is ths last time not a fantasy 22.65354895591736and 6habhhahah\n",
      "this is tehb mode time [22.65]\n",
      "This is ths last time not a fantasy 23.67883610725403and 4habhhahah\n",
      "this is tehb mode time [22.65, 23.68]\n",
      "This is ths last time not a fantasy 25.086836099624634and 5habhhahah\n",
      "this is tehb mode time [22.65, 23.68, 25.09]\n",
      "This is ths last time not a fantasy 24.607122659683228and 9habhhahah\n",
      "this is tehb mode time [22.65, 23.68, 25.09, 24.61]\n",
      "This is ths last time not a fantasy 23.0619854927063and 7habhhahah\n",
      "this is tehb mode time [22.65, 23.68, 25.09, 24.61, 23.06]\n",
      "This is ths last time not a fantasy 22.512531518936157and 2habhhahah\n",
      "this is tehb mode time [22.65, 23.68, 25.09, 24.61, 23.06, 22.51]\n",
      "This is ths last time not a fantasy 24.790128469467163and 0habhhahah\n",
      "this is tehb mode time [22.65, 23.68, 25.09, 24.61, 23.06, 22.51, 24.79]\n",
      "This is ths last time not a fantasy 22.44055199623108and 3habhhahah\n",
      "this is tehb mode time [22.65, 23.68, 25.09, 24.61, 23.06, 22.51, 24.79, 22.44]\n",
      "This is ths last time not a fantasy 22.80254578590393and 8habhhahah\n",
      "this is tehb mode time [22.65, 23.68, 25.09, 24.61, 23.06, 22.51, 24.79, 22.44, 22.8]\n",
      "This is ths last time not a fantasy 22.604551553726196and 1habhhahah\n",
      "this is tehb mode time [22.65, 23.68, 25.09, 24.61, 23.06, 22.51, 24.79, 22.44, 22.8, 22.6]\n",
      "Yeh h modest valueueueueuModeResult(mode=22.44, count=1)\n",
      "yeh h server round 9\n",
      "this is the min value 1.0 and this is the max value 22.44\n",
      "The epochs for the higher lr is 9 and the epochs for the standard lr is 10\n",
      "This is the last time 22.65354895591736\n",
      "This is the last time 23.67883610725403\n",
      "This is the last time 25.086836099624634\n",
      "This is the last time 24.607122659683228\n",
      "This is the last time 23.0619854927063\n",
      "This is the last time 22.512531518936157\n",
      "This is the last time 24.790128469467163\n",
      "This is the last time 22.44055199623108\n",
      "This is the last time 22.80254578590393\n",
      "This is the last time 22.604551553726196\n",
      "\u001b[36m(ClientAppActor pid=17732)\u001b[0m [Client 4] fit, config: {'lr': 0.0001, 'epochs': 9}\n",
      "\u001b[36m(ClientAppActor pid=17732)\u001b[0m Epoch 8: train loss 0.000002, accuracy 1.000000\u001b[32m [repeated 3x across cluster]\u001b[0m\n",
      "\u001b[36m(ClientAppActor pid=17732)\u001b[0m Training time for Client 0: 24.79 seconds\n",
      "\u001b[36m(ClientAppActor pid=34744)\u001b[0m [Client 8] evaluate, config: {}\u001b[32m [repeated 9x across cluster]\u001b[0m\n",
      "\u001b[36m(ClientAppActor pid=30200)\u001b[0m [Client 3] fit, config: {'lr': 0.0001, 'epochs': 9}\u001b[32m [repeated 7x across cluster]\u001b[0m\n",
      "\u001b[36m(ClientAppActor pid=30200)\u001b[0m Epoch 1: train loss 0.000346, accuracy 0.996111\u001b[32m [repeated 15x across cluster]\u001b[0m\n",
      "\u001b[36m(ClientAppActor pid=30200)\u001b[0m Epoch 3: train loss 0.000101, accuracy 0.999815\u001b[32m [repeated 16x across cluster]\u001b[0m\n",
      "\u001b[36m(ClientAppActor pid=33392)\u001b[0m Epoch 5: train loss 0.000338, accuracy 0.997222\u001b[32m [repeated 16x across cluster]\u001b[0m\n",
      "\u001b[36m(ClientAppActor pid=33392)\u001b[0m Epoch 7: train loss 0.000476, accuracy 0.994815\u001b[32m [repeated 16x across cluster]\u001b[0m\n",
      "\u001b[36m(ClientAppActor pid=34744)\u001b[0m Training time for Client 6: 22.69 seconds\n",
      "\u001b[36m(ClientAppActor pid=34744)\u001b[0m [Client 1] fit, config: {'lr': 0.0001, 'epochs': 9}\n",
      "\u001b[36m(ClientAppActor pid=29028)\u001b[0m Epoch 1: train loss 0.000183, accuracy 0.998333\u001b[32m [repeated 12x across cluster]\u001b[0m\n",
      "\u001b[36m(ClientAppActor pid=30200)\u001b[0m Training time for Client 3: 23.30 seconds\u001b[32m [repeated 7x across cluster]\u001b[0m\n",
      "\u001b[36m(ClientAppActor pid=29028)\u001b[0m [Client 8] fit, config: {'lr': 0.0001, 'epochs': 9}\n",
      "\u001b[36m(ClientAppActor pid=29028)\u001b[0m Epoch 3: train loss 0.000233, accuracy 0.997037\u001b[32m [repeated 4x across cluster]\u001b[0m\n",
      "\u001b[36m(ClientAppActor pid=29028)\u001b[0m Epoch 5: train loss 0.000508, accuracy 0.995370\u001b[32m [repeated 4x across cluster]\u001b[0m\n",
      "\u001b[36m(ClientAppActor pid=29028)\u001b[0m Epoch 7: train loss 0.000052, accuracy 0.999815\u001b[32m [repeated 4x across cluster]\u001b[0m\n"
     ]
    },
    {
     "name": "stderr",
     "output_type": "stream",
     "text": [
      "\u001b[92mINFO \u001b[0m:      aggregate_fit: received 10 results and 0 failures\n",
      "\u001b[92mINFO \u001b[0m:      configure_evaluate: strategy sampled 10 clients (out of 10)\n"
     ]
    },
    {
     "name": "stdout",
     "output_type": "stream",
     "text": [
      "\u001b[36m(ClientAppActor pid=29028)\u001b[0m Training time for Client 8: 25.33 seconds\n",
      "\u001b[36m(ClientAppActor pid=34744)\u001b[0m [Client 0] evaluate, config: {}\n"
     ]
    },
    {
     "name": "stderr",
     "output_type": "stream",
     "text": [
      "\u001b[92mINFO \u001b[0m:      aggregate_evaluate: received 10 results and 0 failures\n",
      "\u001b[92mINFO \u001b[0m:      \n",
      "\u001b[92mINFO \u001b[0m:      [ROUND 10]\n",
      "\u001b[92mINFO \u001b[0m:      configure_fit: strategy sampled 10 clients (out of 10)\n"
     ]
    },
    {
     "name": "stdout",
     "output_type": "stream",
     "text": [
      "This is ths last time not a fantasy 22.737571954727173and 4habhhahah\n",
      "this is tehb mode time [22.74]\n",
      "This is ths last time not a fantasy 22.821062326431274and 2habhhahah\n",
      "this is tehb mode time [22.74, 22.82]\n",
      "This is ths last time not a fantasy 22.459577322006226and 5habhhahah\n",
      "this is tehb mode time [22.74, 22.82, 22.46]\n",
      "This is ths last time not a fantasy 25.325672149658203and 8habhhahah\n",
      "this is tehb mode time [22.74, 22.82, 22.46, 25.33]\n",
      "This is ths last time not a fantasy 23.30206561088562and 3habhhahah\n",
      "this is tehb mode time [22.74, 22.82, 22.46, 25.33, 23.3]\n",
      "This is ths last time not a fantasy 23.034061431884766and 0habhhahah\n",
      "this is tehb mode time [22.74, 22.82, 22.46, 25.33, 23.3, 23.03]\n",
      "This is ths last time not a fantasy 25.329671144485474and 1habhhahah\n",
      "this is tehb mode time [22.74, 22.82, 22.46, 25.33, 23.3, 23.03, 25.33]\n",
      "This is ths last time not a fantasy 22.929056882858276and 9habhhahah\n",
      "this is tehb mode time [22.74, 22.82, 22.46, 25.33, 23.3, 23.03, 25.33, 22.93]\n",
      "This is ths last time not a fantasy 22.883055210113525and 7habhhahah\n",
      "this is tehb mode time [22.74, 22.82, 22.46, 25.33, 23.3, 23.03, 25.33, 22.93, 22.88]\n",
      "This is ths last time not a fantasy 22.691570281982422and 6habhhahah\n",
      "this is tehb mode time [22.74, 22.82, 22.46, 25.33, 23.3, 23.03, 25.33, 22.93, 22.88, 22.69]\n",
      "Yeh h modest valueueueueuModeResult(mode=25.33, count=2)\n",
      "yeh h server round 10\n",
      "this is the min value 2.0 and this is the max value 25.33\n",
      "The epochs for the higher lr is 9 and the epochs for the standard lr is 10\n",
      "This is the last time 22.737571954727173\n",
      "This is the last time 22.821062326431274\n",
      "This is the last time 22.459577322006226\n",
      "This is the last time 25.325672149658203\n",
      "This is the last time 23.30206561088562\n",
      "This is the last time 23.034061431884766\n",
      "This is the last time 25.329671144485474\n",
      "This is the last time 22.929056882858276\n",
      "This is the last time 22.883055210113525\n",
      "This is the last time 22.691570281982422\n",
      "\u001b[36m(ClientAppActor pid=21144)\u001b[0m [Client 4] fit, config: {'lr': 0.001, 'epochs': 10}\n",
      "\u001b[36m(ClientAppActor pid=34744)\u001b[0m Epoch 8: train loss 0.000369, accuracy 0.997037\u001b[32m [repeated 3x across cluster]\u001b[0m\n",
      "\u001b[36m(ClientAppActor pid=34744)\u001b[0m Training time for Client 1: 25.33 seconds\n",
      "\u001b[36m(ClientAppActor pid=21144)\u001b[0m [Client 5] evaluate, config: {}\u001b[32m [repeated 9x across cluster]\u001b[0m\n",
      "\u001b[36m(ClientAppActor pid=29028)\u001b[0m [Client 1] fit, config: {'lr': 0.001, 'epochs': 10}\u001b[32m [repeated 7x across cluster]\u001b[0m\n",
      "\u001b[36m(ClientAppActor pid=29028)\u001b[0m Epoch 1: train loss 0.000283, accuracy 0.996111\u001b[32m [repeated 16x across cluster]\u001b[0m\n",
      "\u001b[36m(ClientAppActor pid=43456)\u001b[0m Epoch 4: train loss 0.000006, accuracy 1.000000\u001b[32m [repeated 17x across cluster]\u001b[0m\n",
      "\u001b[36m(ClientAppActor pid=43456)\u001b[0m Epoch 6: train loss 0.000002, accuracy 1.000000\u001b[32m [repeated 16x across cluster]\u001b[0m\n",
      "\u001b[36m(ClientAppActor pid=43456)\u001b[0m Epoch 8: train loss 0.000001, accuracy 1.000000\u001b[32m [repeated 16x across cluster]\u001b[0m\n",
      "\u001b[36m(ClientAppActor pid=40700)\u001b[0m Training time for Client 3: 24.98 seconds\n",
      "\u001b[36m(ClientAppActor pid=40700)\u001b[0m [Client 7] fit, config: {'lr': 0.001, 'epochs': 10}\n",
      "\u001b[36m(ClientAppActor pid=40700)\u001b[0m Epoch 0: train loss 0.001016, accuracy 0.991667\u001b[32m [repeated 16x across cluster]\u001b[0m\n",
      "\u001b[36m(ClientAppActor pid=29028)\u001b[0m Training time for Client 1: 25.30 seconds\u001b[32m [repeated 7x across cluster]\u001b[0m\n",
      "\u001b[36m(ClientAppActor pid=43456)\u001b[0m [Client 6] fit, config: {'lr': 0.001, 'epochs': 10}\n",
      "\u001b[36m(ClientAppActor pid=40700)\u001b[0m Epoch 2: train loss 0.000077, accuracy 0.999259\u001b[32m [repeated 4x across cluster]\u001b[0m\n",
      "\u001b[36m(ClientAppActor pid=43456)\u001b[0m Epoch 4: train loss 0.000027, accuracy 0.999815\u001b[32m [repeated 4x across cluster]\u001b[0m\n",
      "\u001b[36m(ClientAppActor pid=43456)\u001b[0m Epoch 6: train loss 0.000025, accuracy 1.000000\u001b[32m [repeated 4x across cluster]\u001b[0m\n",
      "\u001b[36m(ClientAppActor pid=43456)\u001b[0m Epoch 8: train loss 0.000002, accuracy 1.000000\u001b[32m [repeated 4x across cluster]\u001b[0m\n"
     ]
    },
    {
     "name": "stderr",
     "output_type": "stream",
     "text": [
      "\u001b[92mINFO \u001b[0m:      aggregate_fit: received 10 results and 0 failures\n",
      "\u001b[92mINFO \u001b[0m:      configure_evaluate: strategy sampled 10 clients (out of 10)\n"
     ]
    },
    {
     "name": "stdout",
     "output_type": "stream",
     "text": [
      "\u001b[36m(ClientAppActor pid=40700)\u001b[0m Training time for Client 7: 28.29 seconds\n",
      "\u001b[36m(ClientAppActor pid=43456)\u001b[0m [Client 6] evaluate, config: {}\n"
     ]
    },
    {
     "name": "stderr",
     "output_type": "stream",
     "text": [
      "\u001b[92mINFO \u001b[0m:      aggregate_evaluate: received 10 results and 0 failures\n",
      "\u001b[92mINFO \u001b[0m:      \n",
      "\u001b[92mINFO \u001b[0m:      [SUMMARY]\n",
      "\u001b[92mINFO \u001b[0m:      Run finished 10 round(s) in 515.81s\n",
      "\u001b[92mINFO \u001b[0m:      \tHistory (loss, distributed):\n",
      "\u001b[92mINFO \u001b[0m:      \t\tround 1: 0.00423820442520082\n",
      "\u001b[92mINFO \u001b[0m:      \t\tround 2: 0.0019631345797770337\n",
      "\u001b[92mINFO \u001b[0m:      \t\tround 3: 0.0017082679927781707\n",
      "\u001b[92mINFO \u001b[0m:      \t\tround 4: 0.001764323030422929\n",
      "\u001b[92mINFO \u001b[0m:      \t\tround 5: 0.0016878005876084974\n",
      "\u001b[92mINFO \u001b[0m:      \t\tround 6: 0.0015258534586008732\n",
      "\u001b[92mINFO \u001b[0m:      \t\tround 7: 0.0016635817807900536\n",
      "\u001b[92mINFO \u001b[0m:      \t\tround 8: 0.0016113101656014994\n",
      "\u001b[92mINFO \u001b[0m:      \t\tround 9: 0.0015441081825507818\n",
      "\u001b[92mINFO \u001b[0m:      \t\tround 10: 0.0016371453930109207\n",
      "\u001b[92mINFO \u001b[0m:      \n"
     ]
    },
    {
     "data": {
      "text/plain": [
       "History (loss, distributed):\n",
       "\tround 1: 0.00423820442520082\n",
       "\tround 2: 0.0019631345797770337\n",
       "\tround 3: 0.0017082679927781707\n",
       "\tround 4: 0.001764323030422929\n",
       "\tround 5: 0.0016878005876084974\n",
       "\tround 6: 0.0015258534586008732\n",
       "\tround 7: 0.0016635817807900536\n",
       "\tround 8: 0.0016113101656014994\n",
       "\tround 9: 0.0015441081825507818\n",
       "\tround 10: 0.0016371453930109207"
      ]
     },
     "execution_count": 10,
     "metadata": {},
     "output_type": "execute_result"
    }
   ],
   "source": [
    "strategy = FedCustom()\n",
    "#fl.common.logger.configure(identifier=\"myflExpMY\", filename=\"FLLOG_my.txt\")\n",
    "history = fl.simulation.start_simulation(client_fn=client_fn,\n",
    "                                         num_clients=10,\n",
    "                                         config=fl.server.ServerConfig(num_rounds=10),\n",
    "                                         strategy=strategy,  # <-- pass the new strategy here\n",
    "                                         client_resources=client_resources,\n",
    "\n",
    ")\n",
    "history\n"
   ]
  },
  {
   "cell_type": "code",
   "execution_count": null,
   "metadata": {},
   "outputs": [],
   "source": []
  },
  {
   "cell_type": "code",
   "execution_count": 11,
   "metadata": {},
   "outputs": [
    {
     "data": {
      "image/png": "[encoded data removed]",
      "text/plain": [
       "<Figure size 1500x500 with 2 Axes>"
      ]
     },
     "metadata": {},
     "output_type": "display_data"
    }
   ],
   "source": [
    "import matplotlib.pyplot as plt\n",
    "\n",
    "\n",
    "def plot_metrics(client_metrics, rounds: int = 10):\n",
    "    # client_metrics = strategy.client_metrics\n",
    "    client_ids = list(client_metrics.keys())\n",
    "    client_ids.sort()\n",
    "\n",
    "    fig, axs = plt.subplots(1, 2, figsize=(15, 5))\n",
    "\n",
    "    round_max_losses: List[Tuple[int, float]] = []\n",
    "    round_max_accuracy: List[Tuple[int, float]] = []\n",
    "    round_min_losses: List[Tuple[int, float]] = []\n",
    "    round_min_accuracy: List[Tuple[int, float]] = []\n",
    "\n",
    "    for round in range(1, rounds+1):\n",
    "        metrics_round = [(metrics.epoch, metrics.loss, metrics.accuracy) for metrics_list in client_metrics.values()\n",
    "                       for metrics in metrics_list if metrics.round == round]\n",
    "        if metrics_round:\n",
    "            min_loss = min(metrics_round, key=lambda x: x[1])\n",
    "            max_loss = max(metrics_round, key=lambda x: x[1])\n",
    "            round_max_losses.append(max_loss)\n",
    "            round_min_losses.append(min_loss)\n",
    "            min_accuracy = min(metrics_round, key=lambda x: x[2])\n",
    "            max_accuracy = max(metrics_round, key=lambda x: x[2])\n",
    "            round_max_accuracy.append(max_accuracy)\n",
    "            round_min_accuracy.append(min_accuracy)\n",
    "\n",
    "    for cid in client_ids:\n",
    "        epochs = [metric.epoch for metric in client_metrics[cid]]\n",
    "        losses = [metric.loss for metric in client_metrics[cid]]\n",
    "        axs[0].plot(epochs, losses,label=f\"Client {cid}: {len(strategy.client_metrics[cid])}\")\n",
    "\n",
    "    max_epochs = [round_max[0] for round_max in round_max_losses]\n",
    "    max_losses = [round_max[1] for round_max in round_max_losses]\n",
    "    min_epochs = [round_min[0] for round_min in round_min_losses]\n",
    "    min_losses = [round_min[1] for round_min in round_min_losses]\n",
    "    axs[0].plot(max_epochs, max_losses, linestyle='dashed')\n",
    "    axs[0].plot(min_epochs, min_losses, linestyle='dashed')\n",
    "    axs[0].set_title(\"Individual Clients Losses\")\n",
    "    axs[0].set_xlabel(\"Epochs\")\n",
    "    axs[0].set_ylabel(\"Loss\")\n",
    "    axs[0].legend(loc='upper right', fontsize='x-small', shadow=True,)\n",
    "    axs[0].grid()\n",
    "    \n",
    "\n",
    "\n",
    "    for cid in client_ids:\n",
    "        epochs = [metric.epoch for metric in client_metrics[cid]]\n",
    "        accuracies = [metric.accuracy for metric in client_metrics[cid]]\n",
    "        axs[1].plot(epochs, accuracies, label=f\"Client {cid}: {len(client_metrics[cid])}\")\n",
    "\n",
    "    max_epochs = [round_max[0] for round_max in round_max_accuracy]\n",
    "    max_accuracies = [round_max[2] for round_max in round_max_accuracy]\n",
    "    min_epochs = [round_min[0] for round_min in round_min_accuracy]\n",
    "    min_accuracies = [round_min[2] for round_min in round_min_accuracy]\n",
    "    axs[1].plot(max_epochs, max_accuracies, linestyle='dashed')\n",
    "    axs[1].plot(min_epochs, min_accuracies, linestyle='dashed')\n",
    "    axs[1].set_title(\"Individual Clients Accuracies\")\n",
    "\n",
    "    axs[1].set_xlabel(\"Epochs\")\n",
    "    axs[1].set_ylabel(\"Accuracy\")\n",
    "    axs[1].legend(loc='lower right',fontsize='x-small', shadow=True,)\n",
    "    axs[1].grid()\n",
    "\n",
    "    plt.show()\n",
    "\n",
    "plot_metrics(strategy.client_metrics)"
   ]
  },
  {
   "cell_type": "code",
   "execution_count": 12,
   "metadata": {},
   "outputs": [
    {
     "data": {
      "image/png": "[encoded data removed]",
      "text/plain": [
       "<Figure size 1400x800 with 1 Axes>"
      ]
     },
     "metadata": {},
     "output_type": "display_data"
    }
   ],
   "source": [
    "def plot_times(client_training_times):\n",
    "    client_ids = list(client_training_times.keys())\n",
    "    client_ids.sort()\n",
    "    num_rounds = len(client_training_times[client_ids[0]])\n",
    "\n",
    "    x = np.arange(num_rounds)  # Positions of the bars\n",
    "    bar_width = 0.05 # Width of bars\n",
    "    fig, ax = plt.subplots(figsize=(14, 8))\n",
    "\n",
    "    for i, client_id in enumerate(client_ids):\n",
    "        times = client_training_times[client_id]\n",
    "        ax.bar(x + i * bar_width, times, bar_width, label=client_id)\n",
    "\n",
    "    ax.set_xlabel(\"Rounds\")\n",
    "    ax.set_ylabel(\"Time (seconds)\")\n",
    "    ax.set_title(\"Individual Client Training Times\")\n",
    "    ax.set_xticks(x + bar_width * round(len(client_ids) / 2))\n",
    "    ax.set_xticklabels(np.arange(1, num_rounds + 1))\n",
    "    ax.legend(loc='upper right', fontsize='x-small', shadow=True, ncol=len(client_ids))\n",
    "\n",
    "    plt.show()\n",
    "\n",
    "plot_times(strategy.client_training_times)"
   ]
  },
  {
   "cell_type": "code",
   "execution_count": 13,
   "metadata": {},
   "outputs": [
    {
     "name": "stdout",
     "output_type": "stream",
     "text": [
      "Client 0 metrics: 91\n",
      "Client 5 metrics: 92\n",
      "Client 7 metrics: 91\n",
      "Client 4 metrics: 91\n",
      "Client 2 metrics: 91\n",
      "Client 3 metrics: 93\n",
      "Client 9 metrics: 91\n",
      "Client 8 metrics: 92\n",
      "Client 6 metrics: 91\n",
      "Client 1 metrics: 91\n"
     ]
    }
   ],
   "source": [
    "for a in strategy.client_metrics:\n",
    "    print(f\"Client {a} metrics: {len(strategy.client_metrics[a])}\")"
   ]
  },
  {
   "cell_type": "code",
   "execution_count": 14,
   "metadata": {},
   "outputs": [],
   "source": [
    "class FlowerClient(fl.client.NumPyClient):\n",
    "    def __init__(self, cid, net, trainloader, valloader):\n",
    "        self.cid = cid\n",
    "        self.net = net\n",
    "        self.trainloader = trainloader\n",
    "        self.valloader = valloader\n",
    "\n",
    "    def get_parameters(self, config):\n",
    "        print(f\"[Client {self.cid}] get_parameters\")\n",
    "        return get_parameters(self.net)\n",
    "\n",
    "    def fit(self, parameters, config):\n",
    "        print(f\"[Client {self.cid}] fit, config: {config}\")\n",
    "        set_parameters(self.net, parameters)\n",
    "        start_time = time.time()  # Start time measurement\n",
    "        metrics = train(self.net, self.trainloader, epochs=10)\n",
    "        training_time = time.time() - start_time  # Calculate duration\n",
    "        return get_parameters(self.net), len(self.trainloader), {\"training_time\": training_time, \"metrics\": json.dumps(metrics)}\n",
    "\n",
    "    def evaluate(self, parameters, config):\n",
    "        print(f\"[Client {self.cid}] evaluate, config: {config}\")\n",
    "        set_parameters(self.net, parameters)\n",
    "        loss, accuracy = test(self.net, self.valloader)\n",
    "        print(f\"Client {self.cid} loss {loss}\")\n",
    "        print(f\"Client {self.cid} accuracy {accuracy}\")\n",
    "        return float(loss), len(self.valloader), {\"accuracy\": float(accuracy)}\n",
    "\n",
    "\n",
    "def client_fn(cid) -> FlowerClient:\n",
    "    net = Net().to(DEVICE) #Load Model from here\n",
    "    trainloader = trainloaders[int(cid)]\n",
    "    valloader = valloaders[int(cid)]\n",
    "    return FlowerClient(cid, net, trainloader, valloader).to_client()"
   ]
  },
  {
   "cell_type": "code",
   "execution_count": 15,
   "metadata": {},
   "outputs": [],
   "source": [
    "class FedAvgCustom(fl.server.strategy.FedAvg):\n",
    "    def __init__(\n",
    "        self,\n",
    "        fraction_fit = 1.0,\n",
    "        fraction_evaluate = 1.0,\n",
    "        min_fit_clients = 2,\n",
    "        min_evaluate_clients = 2,\n",
    "        min_available_clients = 2,\n",
    "    ):\n",
    "        super().__init__(fraction_fit = fraction_fit, fraction_evaluate = fraction_evaluate, min_fit_clients = min_fit_clients, min_evaluate_clients = min_evaluate_clients, min_available_clients = min_available_clients)\n",
    "        self.client_training_times: Dict[int, List[float]] = {}\n",
    "        self.client_metrics: Dict[int, List[ClientMetrics]] = {}\n",
    "        self.loss_extreme: Dict[int, Tuple[int, float, float]] = {}\n",
    "        self.accuracy_extreme: Dict[int, Tuple[int, float, float]] = {}\n",
    "\n",
    "    def parse_metrics(self, cid: int, server_round: int, metrics: str):\n",
    "        client_data: List[ClientMetrics] = json.loads(metrics)\n",
    "        data_store: List[ClientMetrics] = self.client_metrics.setdefault(cid, [])\n",
    "        last_epoch: int = len(data_store)\n",
    "        for data in client_data:\n",
    "            data_store.append(ClientMetrics(last_epoch, data[1], data[2], round=server_round, cid=cid))\n",
    "            last_epoch += 1\n",
    "\n",
    "    def aggregate_fit(\n",
    "        self,\n",
    "        server_round: int,\n",
    "        results: List[Tuple[ClientProxy, FitRes]],\n",
    "        failures: List[Union[Tuple[ClientProxy, FitRes], BaseException]],\n",
    "    ) -> Tuple[Optional[Parameters], Dict[str, Scalar]]:\n",
    "        \"\"\"Aggregate fit results using weighted average.\"\"\"\n",
    "        for client, fit_res in results:\n",
    "            self.client_training_times.setdefault(client.cid, []).append(fit_res.metrics.get(\"training_time\", 0))\n",
    "            self.parse_metrics(client.cid, server_round, fit_res.metrics.get(\"metrics\", None))\n",
    "        weights_results = [\n",
    "            (parameters_to_ndarrays(fit_res.parameters), fit_res.num_examples)\n",
    "            for _, fit_res in results\n",
    "        ]\n",
    "        parameters_aggregated = ndarrays_to_parameters(aggregate(weights_results))\n",
    "        metrics_aggregated = {}\n",
    "        return parameters_aggregated, metrics_aggregated\n",
    "\n"
   ]
  },
  {
   "cell_type": "code",
   "execution_count": 16,
   "metadata": {},
   "outputs": [
    {
     "name": "stderr",
     "output_type": "stream",
     "text": [
      "\u001b[92mINFO \u001b[0m:      Starting Flower simulation, config: num_rounds=10, no round_timeout\n",
      "2024-07-29 10:57:22,969\tINFO worker.py:1771 -- Started a local Ray instance.\n",
      "\u001b[92mINFO \u001b[0m:      Flower VCE: Ray initialized with resources: {'node:__internal_head__': 1.0, 'CPU': 32.0, 'object_store_memory': 35992973721.0, 'node:127.0.0.1': 1.0, 'memory': 73983605351.0, 'GPU': 1.0, 'accelerator_type:RTX': 1.0}\n",
      "\u001b[92mINFO \u001b[0m:      Optimize your simulation with Flower VCE: https://flower.ai/docs/framework/how-to-run-simulations.html\n",
      "\u001b[92mINFO \u001b[0m:      Flower VCE: Resources for each Virtual Client: {'num_gpus': 0.125, 'num_cpus': 1}\n",
      "\u001b[92mINFO \u001b[0m:      Flower VCE: Creating VirtualClientEngineActorPool with 8 actors\n",
      "\u001b[92mINFO \u001b[0m:      [INIT]\n",
      "\u001b[92mINFO \u001b[0m:      Requesting initial parameters from one random client\n",
      "\u001b[92mINFO \u001b[0m:      Received initial parameters from one random client\n",
      "\u001b[92mINFO \u001b[0m:      Evaluating initial global parameters\n",
      "\u001b[92mINFO \u001b[0m:      \n",
      "\u001b[92mINFO \u001b[0m:      [ROUND 1]\n",
      "\u001b[92mINFO \u001b[0m:      configure_fit: strategy sampled 10 clients (out of 10)\n"
     ]
    },
    {
     "name": "stdout",
     "output_type": "stream",
     "text": [
      "\u001b[36m(ClientAppActor pid=33196)\u001b[0m [Client 9] get_parameters\n",
      "\u001b[36m(ClientAppActor pid=33196)\u001b[0m [Client 7] fit, config: {}\n",
      "\u001b[36m(ClientAppActor pid=33196)\u001b[0m Epoch 0: train loss 0.031451, accuracy 0.668889\n",
      "\u001b[36m(ClientAppActor pid=38552)\u001b[0m [Client 4] fit, config: {}\u001b[32m [repeated 3x across cluster]\u001b[0m\n",
      "\u001b[36m(ClientAppActor pid=33196)\u001b[0m Epoch 1: train loss 0.007802, accuracy 0.923519\n",
      "\u001b[36m(ClientAppActor pid=33196)\u001b[0m Epoch 2: train loss 0.005026, accuracy 0.948889\n",
      "\u001b[36m(ClientAppActor pid=36072)\u001b[0m Epoch 0: train loss 0.029949, accuracy 0.692222\n",
      "\u001b[36m(ClientAppActor pid=41204)\u001b[0m [Client 3] fit, config: {}\u001b[32m [repeated 4x across cluster]\u001b[0m\n",
      "\u001b[36m(ClientAppActor pid=2116)\u001b[0m Epoch 2: train loss 0.005672, accuracy 0.945556\u001b[32m [repeated 17x across cluster]\u001b[0m\n",
      "\u001b[36m(ClientAppActor pid=8084)\u001b[0m Epoch 4: train loss 0.003253, accuracy 0.967593\u001b[32m [repeated 17x across cluster]\u001b[0m\n",
      "\u001b[36m(ClientAppActor pid=36072)\u001b[0m Epoch 6: train loss 0.001849, accuracy 0.982963\u001b[32m [repeated 15x across cluster]\u001b[0m\n",
      "\u001b[36m(ClientAppActor pid=33196)\u001b[0m [Client 6] fit, config: {}\n",
      "\u001b[36m(ClientAppActor pid=41204)\u001b[0m Epoch 8: train loss 0.001448, accuracy 0.983889\u001b[32m [repeated 15x across cluster]\u001b[0m\n",
      "\u001b[36m(ClientAppActor pid=2116)\u001b[0m [Client 5] fit, config: {}\n",
      "\u001b[36m(ClientAppActor pid=2116)\u001b[0m Epoch 0: train loss 0.030639, accuracy 0.681852\u001b[32m [repeated 15x across cluster]\u001b[0m\n",
      "\u001b[36m(ClientAppActor pid=2116)\u001b[0m Epoch 2: train loss 0.005389, accuracy 0.948333\u001b[32m [repeated 4x across cluster]\u001b[0m\n",
      "\u001b[36m(ClientAppActor pid=2116)\u001b[0m Epoch 4: train loss 0.003243, accuracy 0.968333\u001b[32m [repeated 4x across cluster]\u001b[0m\n",
      "\u001b[36m(ClientAppActor pid=33196)\u001b[0m Epoch 8: train loss 0.001424, accuracy 0.985370\u001b[32m [repeated 4x across cluster]\u001b[0m\n",
      "\u001b[36m(ClientAppActor pid=2116)\u001b[0m Epoch 8: train loss 0.001059, accuracy 0.990185\u001b[32m [repeated 4x across cluster]\u001b[0m\n"
     ]
    },
    {
     "name": "stderr",
     "output_type": "stream",
     "text": [
      "\u001b[92mINFO \u001b[0m:      aggregate_fit: received 10 results and 0 failures\n",
      "\u001b[92mINFO \u001b[0m:      configure_evaluate: strategy sampled 10 clients (out of 10)\n"
     ]
    },
    {
     "name": "stdout",
     "output_type": "stream",
     "text": [
      "\u001b[36m(ClientAppActor pid=2116)\u001b[0m [Client 0] evaluate, config: {}\n",
      "\u001b[36m(ClientAppActor pid=2116)\u001b[0m Client 0 loss 0.004322027349844575\n",
      "\u001b[36m(ClientAppActor pid=2116)\u001b[0m Client 0 accuracy 0.9683333333333334\n"
     ]
    },
    {
     "name": "stderr",
     "output_type": "stream",
     "text": [
      "\u001b[92mINFO \u001b[0m:      aggregate_evaluate: received 10 results and 0 failures\n",
      "\u001b[93mWARNING \u001b[0m:   No evaluate_metrics_aggregation_fn provided\n",
      "\u001b[92mINFO \u001b[0m:      \n",
      "\u001b[92mINFO \u001b[0m:      [ROUND 2]\n",
      "\u001b[92mINFO \u001b[0m:      configure_fit: strategy sampled 10 clients (out of 10)\n"
     ]
    },
    {
     "name": "stdout",
     "output_type": "stream",
     "text": [
      "\u001b[36m(ClientAppActor pid=41928)\u001b[0m [Client 6] fit, config: {}\n",
      "\u001b[36m(ClientAppActor pid=2116)\u001b[0m Epoch 9: train loss 0.000762, accuracy 0.993148\n",
      "\u001b[36m(ClientAppActor pid=41928)\u001b[0m Epoch 0: train loss 0.003690, accuracy 0.962778\n",
      "\u001b[36m(ClientAppActor pid=2116)\u001b[0m [Client 8] evaluate, config: {}\u001b[32m [repeated 9x across cluster]\u001b[0m\n",
      "\u001b[36m(ClientAppActor pid=41928)\u001b[0m Client 2 loss 0.003427664606521527\u001b[32m [repeated 9x across cluster]\u001b[0m\n",
      "\u001b[36m(ClientAppActor pid=41928)\u001b[0m Client 2 accuracy 0.97\u001b[32m [repeated 9x across cluster]\u001b[0m\n",
      "\u001b[36m(ClientAppActor pid=41204)\u001b[0m [Client 0] fit, config: {}\u001b[32m [repeated 7x across cluster]\u001b[0m\n",
      "\u001b[36m(ClientAppActor pid=41928)\u001b[0m Epoch 2: train loss 0.001656, accuracy 0.982778\u001b[32m [repeated 16x across cluster]\u001b[0m\n",
      "\u001b[36m(ClientAppActor pid=36072)\u001b[0m Epoch 4: train loss 0.001001, accuracy 0.988889\u001b[32m [repeated 16x across cluster]\u001b[0m\n",
      "\u001b[36m(ClientAppActor pid=36072)\u001b[0m Epoch 6: train loss 0.000678, accuracy 0.991296\u001b[32m [repeated 16x across cluster]\u001b[0m\n",
      "\u001b[36m(ClientAppActor pid=36072)\u001b[0m Epoch 8: train loss 0.000512, accuracy 0.994074\u001b[32m [repeated 16x across cluster]\u001b[0m\n",
      "\u001b[36m(ClientAppActor pid=36072)\u001b[0m [Client 4] fit, config: {}\n",
      "\u001b[36m(ClientAppActor pid=36072)\u001b[0m Epoch 0: train loss 0.003375, accuracy 0.966852\u001b[32m [repeated 16x across cluster]\u001b[0m\n",
      "\u001b[36m(ClientAppActor pid=38552)\u001b[0m [Client 5] fit, config: {}\n",
      "\u001b[36m(ClientAppActor pid=36072)\u001b[0m Epoch 2: train loss 0.001516, accuracy 0.985185\u001b[32m [repeated 4x across cluster]\u001b[0m\n",
      "\u001b[36m(ClientAppActor pid=36072)\u001b[0m Epoch 4: train loss 0.001009, accuracy 0.989444\u001b[32m [repeated 4x across cluster]\u001b[0m\n",
      "\u001b[36m(ClientAppActor pid=38552)\u001b[0m Epoch 6: train loss 0.000461, accuracy 0.996296\u001b[32m [repeated 4x across cluster]\u001b[0m\n",
      "\u001b[36m(ClientAppActor pid=38552)\u001b[0m Epoch 8: train loss 0.000501, accuracy 0.994259\u001b[32m [repeated 4x across cluster]\u001b[0m\n"
     ]
    },
    {
     "name": "stderr",
     "output_type": "stream",
     "text": [
      "\u001b[92mINFO \u001b[0m:      aggregate_fit: received 10 results and 0 failures\n",
      "\u001b[92mINFO \u001b[0m:      configure_evaluate: strategy sampled 10 clients (out of 10)\n"
     ]
    },
    {
     "name": "stdout",
     "output_type": "stream",
     "text": [
      "\u001b[36m(ClientAppActor pid=36072)\u001b[0m [Client 0] evaluate, config: {}\n",
      "\u001b[36m(ClientAppActor pid=36072)\u001b[0m Client 0 loss 0.002971610712399221\n",
      "\u001b[36m(ClientAppActor pid=36072)\u001b[0m Client 0 accuracy 0.9816666666666667\n"
     ]
    },
    {
     "name": "stderr",
     "output_type": "stream",
     "text": [
      "\u001b[92mINFO \u001b[0m:      aggregate_evaluate: received 10 results and 0 failures\n",
      "\u001b[92mINFO \u001b[0m:      \n",
      "\u001b[92mINFO \u001b[0m:      [ROUND 3]\n",
      "\u001b[92mINFO \u001b[0m:      configure_fit: strategy sampled 10 clients (out of 10)\n"
     ]
    },
    {
     "name": "stdout",
     "output_type": "stream",
     "text": [
      "\u001b[36m(ClientAppActor pid=36072)\u001b[0m [Client 1] fit, config: {}\n",
      "\u001b[36m(ClientAppActor pid=36072)\u001b[0m Epoch 9: train loss 0.000260, accuracy 0.996852\u001b[32m [repeated 3x across cluster]\u001b[0m\n",
      "\u001b[36m(ClientAppActor pid=38552)\u001b[0m [Client 7] evaluate, config: {}\u001b[32m [repeated 9x across cluster]\u001b[0m\n",
      "\u001b[36m(ClientAppActor pid=38552)\u001b[0m Client 7 loss 0.001462898263404592\u001b[32m [repeated 9x across cluster]\u001b[0m\n",
      "\u001b[36m(ClientAppActor pid=38552)\u001b[0m Client 7 accuracy 0.9883333333333333\u001b[32m [repeated 9x across cluster]\u001b[0m\n",
      "\u001b[36m(ClientAppActor pid=33196)\u001b[0m [Client 8] fit, config: {}\u001b[32m [repeated 7x across cluster]\u001b[0m\n",
      "\u001b[36m(ClientAppActor pid=41204)\u001b[0m Epoch 1: train loss 0.001139, accuracy 0.987222\u001b[32m [repeated 12x across cluster]\u001b[0m\n",
      "\u001b[36m(ClientAppActor pid=36072)\u001b[0m Epoch 3: train loss 0.000320, accuracy 0.997222\u001b[32m [repeated 13x across cluster]\u001b[0m\n",
      "\u001b[36m(ClientAppActor pid=36072)\u001b[0m Epoch 5: train loss 0.000400, accuracy 0.995370\u001b[32m [repeated 17x across cluster]\u001b[0m\n",
      "\u001b[36m(ClientAppActor pid=8084)\u001b[0m Epoch 7: train loss 0.000357, accuracy 0.996481\u001b[32m [repeated 15x across cluster]\u001b[0m\n",
      "\u001b[36m(ClientAppActor pid=36072)\u001b[0m Epoch 9: train loss 0.000184, accuracy 0.997593\u001b[32m [repeated 16x across cluster]\u001b[0m\n",
      "\u001b[36m(ClientAppActor pid=36072)\u001b[0m [Client 5] fit, config: {}\n",
      "\u001b[36m(ClientAppActor pid=36072)\u001b[0m Epoch 1: train loss 0.000961, accuracy 0.990926\u001b[32m [repeated 10x across cluster]\u001b[0m\n",
      "\u001b[36m(ClientAppActor pid=38552)\u001b[0m [Client 3] fit, config: {}\n",
      "\u001b[36m(ClientAppActor pid=36072)\u001b[0m Epoch 3: train loss 0.000653, accuracy 0.993519\u001b[32m [repeated 4x across cluster]\u001b[0m\n",
      "\u001b[36m(ClientAppActor pid=36072)\u001b[0m Epoch 5: train loss 0.000369, accuracy 0.995926\u001b[32m [repeated 4x across cluster]\u001b[0m\n",
      "\u001b[36m(ClientAppActor pid=36072)\u001b[0m Epoch 7: train loss 0.000595, accuracy 0.994259\u001b[32m [repeated 4x across cluster]\u001b[0m\n"
     ]
    },
    {
     "name": "stderr",
     "output_type": "stream",
     "text": [
      "\u001b[92mINFO \u001b[0m:      aggregate_fit: received 10 results and 0 failures\n",
      "\u001b[92mINFO \u001b[0m:      configure_evaluate: strategy sampled 10 clients (out of 10)\n"
     ]
    },
    {
     "name": "stdout",
     "output_type": "stream",
     "text": [
      "\u001b[36m(ClientAppActor pid=36072)\u001b[0m Epoch 9: train loss 0.000200, accuracy 0.997593\u001b[32m [repeated 4x across cluster]\u001b[0m\n",
      "\u001b[36m(ClientAppActor pid=38552)\u001b[0m [Client 5] evaluate, config: {}\n",
      "\u001b[36m(ClientAppActor pid=38552)\u001b[0m Client 5 loss 0.0027004805079074382\n",
      "\u001b[36m(ClientAppActor pid=38552)\u001b[0m Client 5 accuracy 0.9816666666666667\n"
     ]
    },
    {
     "name": "stderr",
     "output_type": "stream",
     "text": [
      "\u001b[92mINFO \u001b[0m:      aggregate_evaluate: received 10 results and 0 failures\n",
      "\u001b[92mINFO \u001b[0m:      \n",
      "\u001b[92mINFO \u001b[0m:      [ROUND 4]\n",
      "\u001b[92mINFO \u001b[0m:      configure_fit: strategy sampled 10 clients (out of 10)\n"
     ]
    },
    {
     "name": "stdout",
     "output_type": "stream",
     "text": [
      "\u001b[36m(ClientAppActor pid=32108)\u001b[0m [Client 8] fit, config: {}\n",
      "\u001b[36m(ClientAppActor pid=32108)\u001b[0m Epoch 1: train loss 0.000648, accuracy 0.993148\u001b[32m [repeated 10x across cluster]\u001b[0m\n",
      "\u001b[36m(ClientAppActor pid=38552)\u001b[0m [Client 9] evaluate, config: {}\u001b[32m [repeated 9x across cluster]\u001b[0m\n",
      "\u001b[36m(ClientAppActor pid=32108)\u001b[0m Client 6 loss 0.0017681386490858131\u001b[32m [repeated 9x across cluster]\u001b[0m\n",
      "\u001b[36m(ClientAppActor pid=32108)\u001b[0m Client 6 accuracy 0.9833333333333333\u001b[32m [repeated 9x across cluster]\u001b[0m\n",
      "\u001b[36m(ClientAppActor pid=2116)\u001b[0m [Client 0] fit, config: {}\u001b[32m [repeated 7x across cluster]\u001b[0m\n",
      "\u001b[36m(ClientAppActor pid=8084)\u001b[0m Epoch 3: train loss 0.000453, accuracy 0.993889\u001b[32m [repeated 17x across cluster]\u001b[0m\n",
      "\u001b[36m(ClientAppActor pid=38552)\u001b[0m Epoch 5: train loss 0.000657, accuracy 0.993889\u001b[32m [repeated 17x across cluster]\u001b[0m\n",
      "\u001b[36m(ClientAppActor pid=41928)\u001b[0m Epoch 7: train loss 0.000606, accuracy 0.994074\u001b[32m [repeated 16x across cluster]\u001b[0m\n",
      "\u001b[36m(ClientAppActor pid=32108)\u001b[0m [Client 2] fit, config: {}\n",
      "\u001b[36m(ClientAppActor pid=33196)\u001b[0m Epoch 9: train loss 0.000009, accuracy 1.000000\u001b[32m [repeated 16x across cluster]\u001b[0m\n",
      "\u001b[36m(ClientAppActor pid=33196)\u001b[0m [Client 5] fit, config: {}\n",
      "\u001b[36m(ClientAppActor pid=32108)\u001b[0m Epoch 1: train loss 0.000767, accuracy 0.992593\u001b[32m [repeated 8x across cluster]\u001b[0m\n",
      "\u001b[36m(ClientAppActor pid=32108)\u001b[0m Epoch 3: train loss 0.000170, accuracy 0.998889\u001b[32m [repeated 4x across cluster]\u001b[0m\n",
      "\u001b[36m(ClientAppActor pid=32108)\u001b[0m Epoch 5: train loss 0.000335, accuracy 0.997407\u001b[32m [repeated 4x across cluster]\u001b[0m\n",
      "\u001b[36m(ClientAppActor pid=32108)\u001b[0m Epoch 7: train loss 0.000119, accuracy 0.998889\u001b[32m [repeated 4x across cluster]\u001b[0m\n",
      "\u001b[36m(ClientAppActor pid=32108)\u001b[0m Epoch 9: train loss 0.000392, accuracy 0.996111\u001b[32m [repeated 4x across cluster]\u001b[0m\n"
     ]
    },
    {
     "name": "stderr",
     "output_type": "stream",
     "text": [
      "\u001b[92mINFO \u001b[0m:      aggregate_fit: received 10 results and 0 failures\n",
      "\u001b[92mINFO \u001b[0m:      configure_evaluate: strategy sampled 10 clients (out of 10)\n"
     ]
    },
    {
     "name": "stdout",
     "output_type": "stream",
     "text": [
      "\u001b[36m(ClientAppActor pid=33196)\u001b[0m [Client 0] evaluate, config: {}\n",
      "\u001b[36m(ClientAppActor pid=33196)\u001b[0m Client 0 loss 0.0025785141452081464\n",
      "\u001b[36m(ClientAppActor pid=33196)\u001b[0m Client 0 accuracy 0.9866666666666667\n"
     ]
    },
    {
     "name": "stderr",
     "output_type": "stream",
     "text": [
      "\u001b[92mINFO \u001b[0m:      aggregate_evaluate: received 10 results and 0 failures\n",
      "\u001b[92mINFO \u001b[0m:      \n",
      "\u001b[92mINFO \u001b[0m:      [ROUND 5]\n",
      "\u001b[92mINFO \u001b[0m:      configure_fit: strategy sampled 10 clients (out of 10)\n"
     ]
    },
    {
     "name": "stdout",
     "output_type": "stream",
     "text": [
      "\u001b[36m(ClientAppActor pid=32108)\u001b[0m [Client 6] fit, config: {}\n",
      "\u001b[36m(ClientAppActor pid=36072)\u001b[0m Epoch 0: train loss 0.001495, accuracy 0.985370\u001b[32m [repeated 9x across cluster]\u001b[0m\n",
      "\u001b[36m(ClientAppActor pid=32108)\u001b[0m [Client 6] evaluate, config: {}\u001b[32m [repeated 9x across cluster]\u001b[0m\n",
      "\u001b[36m(ClientAppActor pid=32108)\u001b[0m Client 6 loss 0.001405587430972446\u001b[32m [repeated 9x across cluster]\u001b[0m\n",
      "\u001b[36m(ClientAppActor pid=32108)\u001b[0m Client 6 accuracy 0.9916666666666667\u001b[32m [repeated 9x across cluster]\u001b[0m\n",
      "\u001b[36m(ClientAppActor pid=36072)\u001b[0m [Client 4] fit, config: {}\u001b[32m [repeated 7x across cluster]\u001b[0m\n",
      "\u001b[36m(ClientAppActor pid=41204)\u001b[0m Epoch 2: train loss 0.000225, accuracy 0.997593\u001b[32m [repeated 16x across cluster]\u001b[0m\n",
      "\u001b[36m(ClientAppActor pid=41204)\u001b[0m Epoch 4: train loss 0.000243, accuracy 0.996852\u001b[32m [repeated 16x across cluster]\u001b[0m\n",
      "\u001b[36m(ClientAppActor pid=41928)\u001b[0m Epoch 6: train loss 0.000494, accuracy 0.995185\u001b[32m [repeated 16x across cluster]\u001b[0m\n",
      "\u001b[36m(ClientAppActor pid=8084)\u001b[0m Epoch 9: train loss 0.000271, accuracy 0.996296\u001b[32m [repeated 17x across cluster]\u001b[0m\n",
      "\u001b[36m(ClientAppActor pid=8084)\u001b[0m [Client 0] fit, config: {}\n",
      "\u001b[36m(ClientAppActor pid=8084)\u001b[0m Epoch 1: train loss 0.000620, accuracy 0.993333\u001b[32m [repeated 10x across cluster]\u001b[0m\n",
      "\u001b[36m(ClientAppActor pid=32108)\u001b[0m [Client 5] fit, config: {}\n",
      "\u001b[36m(ClientAppActor pid=8084)\u001b[0m Epoch 3: train loss 0.000156, accuracy 0.998704\u001b[32m [repeated 4x across cluster]\u001b[0m\n",
      "\u001b[36m(ClientAppActor pid=8084)\u001b[0m Epoch 5: train loss 0.000120, accuracy 0.998519\u001b[32m [repeated 4x across cluster]\u001b[0m\n",
      "\u001b[36m(ClientAppActor pid=8084)\u001b[0m Epoch 7: train loss 0.000008, accuracy 1.000000\u001b[32m [repeated 4x across cluster]\u001b[0m\n",
      "\u001b[36m(ClientAppActor pid=8084)\u001b[0m Epoch 9: train loss 0.000003, accuracy 1.000000\u001b[32m [repeated 4x across cluster]\u001b[0m\n"
     ]
    },
    {
     "name": "stderr",
     "output_type": "stream",
     "text": [
      "\u001b[92mINFO \u001b[0m:      aggregate_fit: received 10 results and 0 failures\n",
      "\u001b[92mINFO \u001b[0m:      configure_evaluate: strategy sampled 10 clients (out of 10)\n"
     ]
    },
    {
     "name": "stdout",
     "output_type": "stream",
     "text": [
      "\u001b[36m(ClientAppActor pid=32108)\u001b[0m [Client 6] evaluate, config: {}\n",
      "\u001b[36m(ClientAppActor pid=32108)\u001b[0m Client 6 loss 0.001384280313597325\n",
      "\u001b[36m(ClientAppActor pid=32108)\u001b[0m Client 6 accuracy 0.9933333333333333\n"
     ]
    },
    {
     "name": "stderr",
     "output_type": "stream",
     "text": [
      "\u001b[92mINFO \u001b[0m:      aggregate_evaluate: received 10 results and 0 failures\n",
      "\u001b[92mINFO \u001b[0m:      \n",
      "\u001b[92mINFO \u001b[0m:      [ROUND 6]\n",
      "\u001b[92mINFO \u001b[0m:      configure_fit: strategy sampled 10 clients (out of 10)\n"
     ]
    },
    {
     "name": "stdout",
     "output_type": "stream",
     "text": [
      "\u001b[36m(ClientAppActor pid=32108)\u001b[0m [Client 2] fit, config: {}\n",
      "\u001b[36m(ClientAppActor pid=38552)\u001b[0m Epoch 0: train loss 0.001278, accuracy 0.988333\u001b[32m [repeated 4x across cluster]\u001b[0m\n",
      "\u001b[36m(ClientAppActor pid=8084)\u001b[0m [Client 5] evaluate, config: {}\u001b[32m [repeated 9x across cluster]\u001b[0m\n",
      "\u001b[36m(ClientAppActor pid=8084)\u001b[0m Client 5 loss 0.00282500802074253\u001b[32m [repeated 9x across cluster]\u001b[0m\n",
      "\u001b[36m(ClientAppActor pid=8084)\u001b[0m Client 5 accuracy 0.9833333333333333\u001b[32m [repeated 9x across cluster]\u001b[0m\n",
      "\u001b[36m(ClientAppActor pid=41204)\u001b[0m [Client 3] fit, config: {}\u001b[32m [repeated 7x across cluster]\u001b[0m\n",
      "\u001b[36m(ClientAppActor pid=36072)\u001b[0m Epoch 2: train loss 0.000518, accuracy 0.994630\u001b[32m [repeated 16x across cluster]\u001b[0m\n",
      "\u001b[36m(ClientAppActor pid=38552)\u001b[0m Epoch 4: train loss 0.000114, accuracy 0.998519\u001b[32m [repeated 17x across cluster]\u001b[0m\n",
      "\u001b[36m(ClientAppActor pid=38552)\u001b[0m Epoch 6: train loss 0.000005, accuracy 1.000000\u001b[32m [repeated 17x across cluster]\u001b[0m\n",
      "\u001b[36m(ClientAppActor pid=36072)\u001b[0m Epoch 8: train loss 0.000003, accuracy 1.000000\u001b[32m [repeated 14x across cluster]\u001b[0m\n",
      "\u001b[36m(ClientAppActor pid=8084)\u001b[0m [Client 9] fit, config: {}\n",
      "\u001b[36m(ClientAppActor pid=32108)\u001b[0m Epoch 0: train loss 0.001365, accuracy 0.987778\u001b[32m [repeated 15x across cluster]\u001b[0m\n",
      "\u001b[36m(ClientAppActor pid=32108)\u001b[0m [Client 5] fit, config: {}\n",
      "\u001b[36m(ClientAppActor pid=8084)\u001b[0m Epoch 2: train loss 0.000194, accuracy 0.997963\u001b[32m [repeated 3x across cluster]\u001b[0m\n",
      "\u001b[36m(ClientAppActor pid=8084)\u001b[0m Epoch 4: train loss 0.000237, accuracy 0.998148\u001b[32m [repeated 4x across cluster]\u001b[0m\n",
      "\u001b[36m(ClientAppActor pid=8084)\u001b[0m Epoch 6: train loss 0.000309, accuracy 0.995926\u001b[32m [repeated 4x across cluster]\u001b[0m\n",
      "\u001b[36m(ClientAppActor pid=8084)\u001b[0m Epoch 8: train loss 0.000271, accuracy 0.997407\u001b[32m [repeated 4x across cluster]\u001b[0m\n"
     ]
    },
    {
     "name": "stderr",
     "output_type": "stream",
     "text": [
      "\u001b[92mINFO \u001b[0m:      aggregate_fit: received 10 results and 0 failures\n",
      "\u001b[92mINFO \u001b[0m:      configure_evaluate: strategy sampled 10 clients (out of 10)\n"
     ]
    },
    {
     "name": "stdout",
     "output_type": "stream",
     "text": [
      "\u001b[36m(ClientAppActor pid=32108)\u001b[0m [Client 6] evaluate, config: {}\n",
      "\u001b[36m(ClientAppActor pid=32108)\u001b[0m Client 6 loss 0.0012595482804135826\n",
      "\u001b[36m(ClientAppActor pid=32108)\u001b[0m Client 6 accuracy 0.995\n"
     ]
    },
    {
     "name": "stderr",
     "output_type": "stream",
     "text": [
      "\u001b[92mINFO \u001b[0m:      aggregate_evaluate: received 10 results and 0 failures\n",
      "\u001b[92mINFO \u001b[0m:      \n",
      "\u001b[92mINFO \u001b[0m:      [ROUND 7]\n",
      "\u001b[92mINFO \u001b[0m:      configure_fit: strategy sampled 10 clients (out of 10)\n"
     ]
    },
    {
     "name": "stdout",
     "output_type": "stream",
     "text": [
      "\u001b[36m(ClientAppActor pid=38552)\u001b[0m [Client 7] fit, config: {}\n",
      "\u001b[36m(ClientAppActor pid=32108)\u001b[0m Epoch 9: train loss 0.000547, accuracy 0.995000\u001b[32m [repeated 3x across cluster]\u001b[0m\n",
      "\u001b[36m(ClientAppActor pid=38552)\u001b[0m [Client 4] evaluate, config: {}\u001b[32m [repeated 9x across cluster]\u001b[0m\n",
      "\u001b[36m(ClientAppActor pid=38552)\u001b[0m Client 4 loss 0.00170825326156006\u001b[32m [repeated 9x across cluster]\u001b[0m\n",
      "\u001b[36m(ClientAppActor pid=38552)\u001b[0m Client 4 accuracy 0.99\u001b[32m [repeated 9x across cluster]\u001b[0m\n",
      "\u001b[36m(ClientAppActor pid=41204)\u001b[0m [Client 2] fit, config: {}\u001b[32m [repeated 7x across cluster]\u001b[0m\n",
      "\u001b[36m(ClientAppActor pid=8084)\u001b[0m Epoch 1: train loss 0.000287, accuracy 0.996852\u001b[32m [repeated 15x across cluster]\u001b[0m\n",
      "\u001b[36m(ClientAppActor pid=41204)\u001b[0m Epoch 3: train loss 0.000022, accuracy 1.000000\u001b[32m [repeated 17x across cluster]\u001b[0m\n",
      "\u001b[36m(ClientAppActor pid=41204)\u001b[0m Epoch 5: train loss 0.000005, accuracy 1.000000\u001b[32m [repeated 16x across cluster]\u001b[0m\n",
      "\u001b[36m(ClientAppActor pid=41204)\u001b[0m Epoch 7: train loss 0.000002, accuracy 1.000000\u001b[32m [repeated 16x across cluster]\u001b[0m\n",
      "\u001b[36m(ClientAppActor pid=2116)\u001b[0m [Client 3] fit, config: {}\n",
      "\u001b[36m(ClientAppActor pid=2116)\u001b[0m Epoch 0: train loss 0.001233, accuracy 0.989630\u001b[32m [repeated 17x across cluster]\u001b[0m\n",
      "\u001b[36m(ClientAppActor pid=38552)\u001b[0m [Client 0] fit, config: {}\n",
      "\u001b[36m(ClientAppActor pid=2116)\u001b[0m Epoch 2: train loss 0.000172, accuracy 0.998148\u001b[32m [repeated 4x across cluster]\u001b[0m\n",
      "\u001b[36m(ClientAppActor pid=2116)\u001b[0m Epoch 4: train loss 0.000116, accuracy 0.998889\u001b[32m [repeated 4x across cluster]\u001b[0m\n",
      "\u001b[36m(ClientAppActor pid=2116)\u001b[0m Epoch 6: train loss 0.000327, accuracy 0.996667\u001b[32m [repeated 4x across cluster]\u001b[0m\n",
      "\u001b[36m(ClientAppActor pid=2116)\u001b[0m Epoch 8: train loss 0.000259, accuracy 0.997778\u001b[32m [repeated 4x across cluster]\u001b[0m\n"
     ]
    },
    {
     "name": "stderr",
     "output_type": "stream",
     "text": [
      "\u001b[92mINFO \u001b[0m:      aggregate_fit: received 10 results and 0 failures\n",
      "\u001b[92mINFO \u001b[0m:      configure_evaluate: strategy sampled 10 clients (out of 10)\n"
     ]
    },
    {
     "name": "stdout",
     "output_type": "stream",
     "text": [
      "\u001b[36m(ClientAppActor pid=38552)\u001b[0m [Client 5] evaluate, config: {}\n",
      "\u001b[36m(ClientAppActor pid=38552)\u001b[0m Client 5 loss 0.0029099406561586723\n",
      "\u001b[36m(ClientAppActor pid=38552)\u001b[0m Client 5 accuracy 0.9866666666666667\n"
     ]
    },
    {
     "name": "stderr",
     "output_type": "stream",
     "text": [
      "\u001b[92mINFO \u001b[0m:      aggregate_evaluate: received 10 results and 0 failures\n",
      "\u001b[92mINFO \u001b[0m:      \n",
      "\u001b[92mINFO \u001b[0m:      [ROUND 8]\n",
      "\u001b[92mINFO \u001b[0m:      configure_fit: strategy sampled 10 clients (out of 10)\n"
     ]
    },
    {
     "name": "stdout",
     "output_type": "stream",
     "text": [
      "\u001b[36m(ClientAppActor pid=2116)\u001b[0m [Client 1] fit, config: {}\n",
      "\u001b[36m(ClientAppActor pid=38552)\u001b[0m Epoch 9: train loss 0.000195, accuracy 0.998148\u001b[32m [repeated 3x across cluster]\u001b[0m\n",
      "\u001b[36m(ClientAppActor pid=2116)\u001b[0m [Client 2] evaluate, config: {}\u001b[32m [repeated 9x across cluster]\u001b[0m\n",
      "\u001b[36m(ClientAppActor pid=2116)\u001b[0m Client 2 loss 0.0010850152081667375\u001b[32m [repeated 9x across cluster]\u001b[0m\n",
      "\u001b[36m(ClientAppActor pid=2116)\u001b[0m Client 2 accuracy 0.9916666666666667\u001b[32m [repeated 9x across cluster]\u001b[0m\n",
      "\u001b[36m(ClientAppActor pid=8084)\u001b[0m [Client 5] fit, config: {}\u001b[32m [repeated 7x across cluster]\u001b[0m\n",
      "\u001b[36m(ClientAppActor pid=33196)\u001b[0m Epoch 1: train loss 0.000267, accuracy 0.997222\u001b[32m [repeated 15x across cluster]\u001b[0m\n",
      "\u001b[36m(ClientAppActor pid=36072)\u001b[0m Epoch 3: train loss 0.000008, accuracy 1.000000\u001b[32m [repeated 15x across cluster]\u001b[0m\n",
      "\u001b[36m(ClientAppActor pid=8084)\u001b[0m Epoch 5: train loss 0.000004, accuracy 1.000000\u001b[32m [repeated 17x across cluster]\u001b[0m\n",
      "\u001b[36m(ClientAppActor pid=32108)\u001b[0m Epoch 8: train loss 0.000002, accuracy 1.000000\u001b[32m [repeated 18x across cluster]\u001b[0m\n",
      "\u001b[36m(ClientAppActor pid=32108)\u001b[0m [Client 7] fit, config: {}\n",
      "\u001b[36m(ClientAppActor pid=32108)\u001b[0m Epoch 0: train loss 0.001351, accuracy 0.990556\u001b[32m [repeated 16x across cluster]\u001b[0m\n",
      "\u001b[36m(ClientAppActor pid=2116)\u001b[0m [Client 8] fit, config: {}\n",
      "\u001b[36m(ClientAppActor pid=32108)\u001b[0m Epoch 2: train loss 0.000224, accuracy 0.998333\u001b[32m [repeated 4x across cluster]\u001b[0m\n",
      "\u001b[36m(ClientAppActor pid=32108)\u001b[0m Epoch 4: train loss 0.000298, accuracy 0.997037\u001b[32m [repeated 4x across cluster]\u001b[0m\n",
      "\u001b[36m(ClientAppActor pid=32108)\u001b[0m Epoch 6: train loss 0.000122, accuracy 0.998889\u001b[32m [repeated 4x across cluster]\u001b[0m\n",
      "\u001b[36m(ClientAppActor pid=32108)\u001b[0m Epoch 8: train loss 0.000390, accuracy 0.996111\u001b[32m [repeated 4x across cluster]\u001b[0m\n"
     ]
    },
    {
     "name": "stderr",
     "output_type": "stream",
     "text": [
      "\u001b[92mINFO \u001b[0m:      aggregate_fit: received 10 results and 0 failures\n",
      "\u001b[92mINFO \u001b[0m:      configure_evaluate: strategy sampled 10 clients (out of 10)\n"
     ]
    },
    {
     "name": "stdout",
     "output_type": "stream",
     "text": [
      "\u001b[36m(ClientAppActor pid=32108)\u001b[0m [Client 8] evaluate, config: {}\n",
      "\u001b[36m(ClientAppActor pid=2116)\u001b[0m Client 0 loss 0.0030509553876931256\n",
      "\u001b[36m(ClientAppActor pid=2116)\u001b[0m Client 0 accuracy 0.99\n"
     ]
    },
    {
     "name": "stderr",
     "output_type": "stream",
     "text": [
      "\u001b[92mINFO \u001b[0m:      aggregate_evaluate: received 10 results and 0 failures\n",
      "\u001b[92mINFO \u001b[0m:      \n",
      "\u001b[92mINFO \u001b[0m:      [ROUND 9]\n",
      "\u001b[92mINFO \u001b[0m:      configure_fit: strategy sampled 10 clients (out of 10)\n"
     ]
    },
    {
     "name": "stdout",
     "output_type": "stream",
     "text": [
      "\u001b[36m(ClientAppActor pid=36072)\u001b[0m [Client 4] fit, config: {}\n",
      "\u001b[36m(ClientAppActor pid=2116)\u001b[0m Epoch 9: train loss 0.000001, accuracy 1.000000\u001b[32m [repeated 3x across cluster]\u001b[0m\n",
      "\u001b[36m(ClientAppActor pid=36072)\u001b[0m [Client 9] evaluate, config: {}\u001b[32m [repeated 9x across cluster]\u001b[0m\n",
      "\u001b[36m(ClientAppActor pid=36072)\u001b[0m Client 9 loss 0.0018910613893846555\u001b[32m [repeated 9x across cluster]\u001b[0m\n",
      "\u001b[36m(ClientAppActor pid=36072)\u001b[0m Client 9 accuracy 0.9866666666666667\u001b[32m [repeated 9x across cluster]\u001b[0m\n",
      "\u001b[36m(ClientAppActor pid=41928)\u001b[0m [Client 0] fit, config: {}\u001b[32m [repeated 7x across cluster]\u001b[0m\n",
      "\u001b[36m(ClientAppActor pid=36072)\u001b[0m Epoch 2: train loss 0.000161, accuracy 0.998704\u001b[32m [repeated 17x across cluster]\u001b[0m\n",
      "\u001b[36m(ClientAppActor pid=33196)\u001b[0m Epoch 4: train loss 0.000313, accuracy 0.996296\u001b[32m [repeated 17x across cluster]\u001b[0m\n",
      "\u001b[36m(ClientAppActor pid=41928)\u001b[0m Epoch 6: train loss 0.000002, accuracy 1.000000\u001b[32m [repeated 18x across cluster]\u001b[0m\n",
      "\u001b[36m(ClientAppActor pid=41928)\u001b[0m Epoch 8: train loss 0.000001, accuracy 1.000000\u001b[32m [repeated 17x across cluster]\u001b[0m\n",
      "\u001b[36m(ClientAppActor pid=36072)\u001b[0m [Client 8] fit, config: {}\n",
      "\u001b[36m(ClientAppActor pid=36072)\u001b[0m Epoch 1: train loss 0.000324, accuracy 0.997222\u001b[32m [repeated 14x across cluster]\u001b[0m\n",
      "\u001b[36m(ClientAppActor pid=2116)\u001b[0m [Client 1] fit, config: {}\n",
      "\u001b[36m(ClientAppActor pid=36072)\u001b[0m Epoch 3: train loss 0.000651, accuracy 0.992593\u001b[32m [repeated 4x across cluster]\u001b[0m\n",
      "\u001b[36m(ClientAppActor pid=36072)\u001b[0m Epoch 5: train loss 0.000121, accuracy 0.999074\u001b[32m [repeated 4x across cluster]\u001b[0m\n",
      "\u001b[36m(ClientAppActor pid=36072)\u001b[0m Epoch 7: train loss 0.000007, accuracy 1.000000\u001b[32m [repeated 4x across cluster]\u001b[0m\n"
     ]
    },
    {
     "name": "stderr",
     "output_type": "stream",
     "text": [
      "\u001b[92mINFO \u001b[0m:      aggregate_fit: received 10 results and 0 failures\n",
      "\u001b[92mINFO \u001b[0m:      configure_evaluate: strategy sampled 10 clients (out of 10)\n"
     ]
    },
    {
     "name": "stdout",
     "output_type": "stream",
     "text": [
      "\u001b[36m(ClientAppActor pid=36072)\u001b[0m Epoch 9: train loss 0.000002, accuracy 1.000000\u001b[32m [repeated 4x across cluster]\u001b[0m\n",
      "\u001b[36m(ClientAppActor pid=2116)\u001b[0m [Client 0] evaluate, config: {}\n",
      "\u001b[36m(ClientAppActor pid=36072)\u001b[0m Client 9 loss 0.001932273791891627\n",
      "\u001b[36m(ClientAppActor pid=36072)\u001b[0m Client 9 accuracy 0.9866666666666667\n"
     ]
    },
    {
     "name": "stderr",
     "output_type": "stream",
     "text": [
      "\u001b[92mINFO \u001b[0m:      aggregate_evaluate: received 10 results and 0 failures\n",
      "\u001b[92mINFO \u001b[0m:      \n",
      "\u001b[92mINFO \u001b[0m:      [ROUND 10]\n",
      "\u001b[92mINFO \u001b[0m:      configure_fit: strategy sampled 10 clients (out of 10)\n"
     ]
    },
    {
     "name": "stdout",
     "output_type": "stream",
     "text": [
      "\u001b[36m(ClientAppActor pid=36072)\u001b[0m [Client 7] fit, config: {}\n",
      "\u001b[36m(ClientAppActor pid=36072)\u001b[0m Epoch 1: train loss 0.000236, accuracy 0.997037\u001b[32m [repeated 10x across cluster]\u001b[0m\n",
      "\u001b[36m(ClientAppActor pid=36072)\u001b[0m [Client 4] evaluate, config: {}\u001b[32m [repeated 9x across cluster]\u001b[0m\n",
      "\u001b[36m(ClientAppActor pid=36072)\u001b[0m Client 4 loss 0.0015350307858350476\u001b[32m [repeated 9x across cluster]\u001b[0m\n",
      "\u001b[36m(ClientAppActor pid=36072)\u001b[0m Client 4 accuracy 0.99\u001b[32m [repeated 9x across cluster]\u001b[0m\n",
      "\u001b[36m(ClientAppActor pid=38552)\u001b[0m [Client 2] fit, config: {}\u001b[32m [repeated 7x across cluster]\u001b[0m\n",
      "\u001b[36m(ClientAppActor pid=36072)\u001b[0m Epoch 3: train loss 0.000015, accuracy 0.999815\u001b[32m [repeated 16x across cluster]\u001b[0m\n",
      "\u001b[36m(ClientAppActor pid=33196)\u001b[0m Epoch 5: train loss 0.000147, accuracy 0.998519\u001b[32m [repeated 17x across cluster]\u001b[0m\n",
      "\u001b[36m(ClientAppActor pid=2116)\u001b[0m Epoch 7: train loss 0.000135, accuracy 0.998148\u001b[32m [repeated 17x across cluster]\u001b[0m\n",
      "\u001b[36m(ClientAppActor pid=32108)\u001b[0m Epoch 9: train loss 0.000001, accuracy 1.000000\u001b[32m [repeated 15x across cluster]\u001b[0m\n",
      "\u001b[36m(ClientAppActor pid=33196)\u001b[0m [Client 4] fit, config: {}\n",
      "\u001b[36m(ClientAppActor pid=33196)\u001b[0m Epoch 1: train loss 0.000211, accuracy 0.998333\u001b[32m [repeated 9x across cluster]\u001b[0m\n",
      "\u001b[36m(ClientAppActor pid=36072)\u001b[0m [Client 9] fit, config: {}\n",
      "\u001b[36m(ClientAppActor pid=33196)\u001b[0m Epoch 3: train loss 0.000231, accuracy 0.997407\u001b[32m [repeated 4x across cluster]\u001b[0m\n",
      "\u001b[36m(ClientAppActor pid=33196)\u001b[0m Epoch 5: train loss 0.000082, accuracy 0.999074\u001b[32m [repeated 4x across cluster]\u001b[0m\n",
      "\u001b[36m(ClientAppActor pid=33196)\u001b[0m Epoch 7: train loss 0.000716, accuracy 0.993333\u001b[32m [repeated 4x across cluster]\u001b[0m\n"
     ]
    },
    {
     "name": "stderr",
     "output_type": "stream",
     "text": [
      "\u001b[92mINFO \u001b[0m:      aggregate_fit: received 10 results and 0 failures\n",
      "\u001b[92mINFO \u001b[0m:      configure_evaluate: strategy sampled 10 clients (out of 10)\n"
     ]
    },
    {
     "name": "stdout",
     "output_type": "stream",
     "text": [
      "\u001b[36m(ClientAppActor pid=33196)\u001b[0m Epoch 9: train loss 0.000008, accuracy 1.000000\u001b[32m [repeated 4x across cluster]\u001b[0m\n",
      "\u001b[36m(ClientAppActor pid=36072)\u001b[0m [Client 3] evaluate, config: {}\n",
      "\u001b[36m(ClientAppActor pid=36072)\u001b[0m Client 3 loss 0.0017925083683343246\n",
      "\u001b[36m(ClientAppActor pid=36072)\u001b[0m Client 3 accuracy 0.9833333333333333\n"
     ]
    },
    {
     "name": "stderr",
     "output_type": "stream",
     "text": [
      "\u001b[92mINFO \u001b[0m:      aggregate_evaluate: received 10 results and 0 failures\n",
      "\u001b[92mINFO \u001b[0m:      \n",
      "\u001b[92mINFO \u001b[0m:      [SUMMARY]\n",
      "\u001b[92mINFO \u001b[0m:      Run finished 10 round(s) in 562.51s\n",
      "\u001b[92mINFO \u001b[0m:      \tHistory (loss, distributed):\n",
      "\u001b[92mINFO \u001b[0m:      \t\tround 1: 0.003671557237083713\n",
      "\u001b[92mINFO \u001b[0m:      \t\tround 2: 0.0020223464265385093\n",
      "\u001b[92mINFO \u001b[0m:      \t\tround 3: 0.0018298981660535294\n",
      "\u001b[92mINFO \u001b[0m:      \t\tround 4: 0.0016390730571220237\n",
      "\u001b[92mINFO \u001b[0m:      \t\tround 5: 0.001694062296258688\n",
      "\u001b[92mINFO \u001b[0m:      \t\tround 6: 0.0016608820935158732\n",
      "\u001b[92mINFO \u001b[0m:      \t\tround 7: 0.0017031444837359874\n",
      "\u001b[92mINFO \u001b[0m:      \t\tround 8: 0.001774304253405032\n",
      "\u001b[92mINFO \u001b[0m:      \t\tround 9: 0.0017902552141671544\n",
      "\u001b[92mINFO \u001b[0m:      \t\tround 10: 0.0017014346994442735\n",
      "\u001b[92mINFO \u001b[0m:      \n"
     ]
    },
    {
     "data": {
      "text/plain": [
       "History (loss, distributed):\n",
       "\tround 1: 0.003671557237083713\n",
       "\tround 2: 0.0020223464265385093\n",
       "\tround 3: 0.0018298981660535294\n",
       "\tround 4: 0.0016390730571220237\n",
       "\tround 5: 0.001694062296258688\n",
       "\tround 6: 0.0016608820935158732\n",
       "\tround 7: 0.0017031444837359874\n",
       "\tround 8: 0.001774304253405032\n",
       "\tround 9: 0.0017902552141671544\n",
       "\tround 10: 0.0017014346994442735"
      ]
     },
     "execution_count": 16,
     "metadata": {},
     "output_type": "execute_result"
    }
   ],
   "source": [
    "strategy_fed_avg = FedAvgCustom()\n",
    "\n",
    "fl.simulation.start_simulation(\n",
    "    client_fn=client_fn,\n",
    "    num_clients=10,\n",
    "    config=fl.server.ServerConfig(num_rounds=10),\n",
    "    client_resources=client_resources,\n",
    "    strategy=strategy_fed_avg,\n",
    ")"
   ]
  },
  {
   "cell_type": "code",
   "execution_count": 17,
   "metadata": {},
   "outputs": [],
   "source": [
    "import matplotlib.pyplot as plt\n",
    "\n",
    "\n",
    "def plot_metricss(client_metrics, rounds: int = 10):\n",
    "    # client_metrics = strategy.client_metrics\n",
    "    client_ids = list(client_metrics.keys())\n",
    "    client_ids.sort()\n",
    "\n",
    "    fig, axs = plt.subplots(1, 2, figsize=(15, 5))\n",
    "\n",
    "    round_max_losses: List[Tuple[int, float]] = []\n",
    "    round_max_accuracy: List[Tuple[int, float]] = []\n",
    "    round_min_losses: List[Tuple[int, float]] = []\n",
    "    round_min_accuracy: List[Tuple[int, float]] = []\n",
    "\n",
    "    for round in range(1, rounds+1):\n",
    "        metrics_round = [(metrics.epoch, metrics.loss, metrics.accuracy) for metrics_list in client_metrics.values()\n",
    "                       for metrics in metrics_list if metrics.round == round]\n",
    "        if metrics_round:\n",
    "            min_loss = min(metrics_round, key=lambda x: x[1])\n",
    "            max_loss = max(metrics_round, key=lambda x: x[1])\n",
    "            round_max_losses.append(max_loss)\n",
    "            round_min_losses.append(min_loss)\n",
    "            min_accuracy = min(metrics_round, key=lambda x: x[2])\n",
    "            max_accuracy = max(metrics_round, key=lambda x: x[2])\n",
    "            round_max_accuracy.append(max_accuracy)\n",
    "            round_min_accuracy.append(min_accuracy)\n",
    "\n",
    "    for cid in client_ids:\n",
    "        epochs = [metric.epoch for metric in client_metrics[cid]]\n",
    "        losses = [metric.loss for metric in client_metrics[cid]]\n",
    "        axs[0].plot(epochs, losses,label=f\"Client {cid}: {len(strategy_fed_avg.client_metrics[cid])}\")\n",
    "\n",
    "    max_epochs = [round_max[0] for round_max in round_max_losses]\n",
    "    max_losses = [round_max[1] for round_max in round_max_losses]\n",
    "    min_epochs = [round_min[0] for round_min in round_min_losses]\n",
    "    min_losses = [round_min[1] for round_min in round_min_losses]\n",
    "    axs[0].plot(max_epochs, max_losses, linestyle='dashed')\n",
    "    axs[0].plot(min_epochs, min_losses, linestyle='dashed')\n",
    "    axs[0].set_title(\"Individual Clients Losses\")\n",
    "    axs[0].set_xlabel(\"Epochs\")\n",
    "    axs[0].set_ylabel(\"Loss\")\n",
    "    axs[0].legend(loc='upper right', fontsize='x-small', shadow=True,)\n",
    "    axs[0].grid()\n",
    "    \n",
    "\n",
    "\n",
    "    for cid in client_ids:\n",
    "        epochs = [metric.epoch for metric in client_metrics[cid]]\n",
    "        accuracies = [metric.accuracy for metric in client_metrics[cid]]\n",
    "        axs[1].plot(epochs, accuracies, label=f\"Client {cid}: {len(client_metrics[cid])}\")\n",
    "\n",
    "    max_epochs = [round_max[0] for round_max in round_max_accuracy]\n",
    "    max_accuracies = [round_max[2] for round_max in round_max_accuracy]\n",
    "    min_epochs = [round_min[0] for round_min in round_min_accuracy]\n",
    "    min_accuracies = [round_min[2] for round_min in round_min_accuracy]\n",
    "    axs[1].plot(max_epochs, max_accuracies, linestyle='dashed')\n",
    "    axs[1].plot(min_epochs, min_accuracies, linestyle='dashed')\n",
    "    axs[1].set_title(\"Individual Clients Accuracies\")\n",
    "\n",
    "    axs[1].set_xlabel(\"Epochs\")\n",
    "    axs[1].set_ylabel(\"Accuracy\")\n",
    "    axs[1].legend(loc='lower right',fontsize='x-small', shadow=True,)\n",
    "    axs[1].grid()\n",
    "\n",
    "    plt.show()\n",
    "\n",
    "#plot_metrics(strategy.client_metrics)"
   ]
  },
  {
   "cell_type": "code",
   "execution_count": 18,
   "metadata": {},
   "outputs": [
    {
     "name": "stdout",
     "output_type": "stream",
     "text": [
      "\u001b[36m(ClientAppActor pid=33196)\u001b[0m Client 6 loss 0.0011725038351629753\n",
      "\u001b[36m(ClientAppActor pid=33196)\u001b[0m Client 6 accuracy 0.9966666666666667\n"
     ]
    },
    {
     "data": {
      "image/png": "[encoded data removed]",
      "text/plain": [
       "<Figure size 1500x500 with 2 Axes>"
      ]
     },
     "metadata": {},
     "output_type": "display_data"
    }
   ],
   "source": [
    "plot_metricss(strategy_fed_avg.client_metrics)"
   ]
  },
  {
   "cell_type": "code",
   "execution_count": 19,
   "metadata": {},
   "outputs": [
    {
     "data": {
      "image/png": "[encoded data removed]",
      "text/plain": [
       "<Figure size 1400x800 with 1 Axes>"
      ]
     },
     "metadata": {},
     "output_type": "display_data"
    }
   ],
   "source": [
    "plot_times(strategy_fed_avg.client_training_times)"
   ]
  },
  {
   "cell_type": "code",
   "execution_count": null,
   "metadata": {},
   "outputs": [],
   "source": []
  },
  {
   "cell_type": "code",
   "execution_count": null,
   "metadata": {},
   "outputs": [],
   "source": []
  },
  {
   "cell_type": "code",
   "execution_count": null,
   "metadata": {},
   "outputs": [],
   "source": []
  },
  {
   "cell_type": "code",
   "execution_count": null,
   "metadata": {},
   "outputs": [],
   "source": []
  },
  {
   "cell_type": "code",
   "execution_count": null,
   "metadata": {},
   "outputs": [],
   "source": []
  },
  {
   "cell_type": "code",
   "execution_count": null,
   "metadata": {},
   "outputs": [],
   "source": []
  }
 ],
 "metadata": {
  "colab": {
   "provenance": []
  },
  "kernelspec": {
   "display_name": "newflwr",
   "language": "python",
   "name": "python3"
  },
  "language_info": {
   "codemirror_mode": {
    "name": "ipython",
    "version": 3
   },
   "file_extension": ".py",
   "mimetype": "text/x-python",
   "name": "python",
   "nbconvert_exporter": "python",
   "pygments_lexer": "ipython3",
   "version": "3.12.4"
  }
 },
 "nbformat": 4,
 "nbformat_minor": 0
}
