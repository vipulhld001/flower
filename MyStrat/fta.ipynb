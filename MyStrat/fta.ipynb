{
  "cells": [
    {
      "cell_type": "code",
      "execution_count": 3,
      "metadata": {
        "id": "OZdR1WXDEGxY"
      },
      "outputs": [],
      "source": [
        "!pip install -q flwr[simulation] torch torchvision"
      ]
    },
    {
      "cell_type": "code",
      "execution_count": 1,
      "metadata": {
        "colab": {
          "base_uri": "https://localhost:8080/"
        },
        "id": "obhFyleoEM9F",
        "outputId": "32eb72bb-b201-45d1-9441-e7f959c7099c"
      },
      "outputs": [
        {
          "name": "stdout",
          "output_type": "stream",
          "text": [
            "Training on cuda using PyTorch 1.13.1 and Flower 1.4.0\n"
          ]
        }
      ],
      "source": [
        "from collections import OrderedDict\n",
        "from typing import Dict, List, Optional, Tuple\n",
        "\n",
        "import numpy as np\n",
        "import torch\n",
        "import torch.nn as nn\n",
        "import torch.nn.functional as F\n",
        "import torchvision.transforms as transforms\n",
        "from torch.utils.data import DataLoader, random_split\n",
        "from torchvision.datasets import CIFAR10\n",
        "import time\n",
        "import flwr as fl\n",
        "\n",
        "DEVICE = torch.device(\"cuda\")  # Try \"cuda\" to train on GPU\n",
        "print(\n",
        "    f\"Training on {DEVICE} using PyTorch {torch.__version__} and Flower {fl.__version__}\"\n",
        ")"
      ]
    },
    {
      "cell_type": "code",
      "execution_count": 2,
      "metadata": {
        "colab": {
          "base_uri": "https://localhost:8080/"
        },
        "id": "T2L0M1hDEQ54",
        "outputId": "2167fb23-a8bb-48cd-99a7-ce7b2ac5f9d9"
      },
      "outputs": [
        {
          "name": "stdout",
          "output_type": "stream",
          "text": [
            "Files already downloaded and verified\n",
            "Files already downloaded and verified\n"
          ]
        }
      ],
      "source": [
        "NUM_CLIENTS = 10\n",
        "\n",
        "\n",
        "def load_datasets(num_clients: int):\n",
        "    # Download and transform CIFAR-10 (train and test)\n",
        "    transform = transforms.Compose(\n",
        "        [transforms.ToTensor(), transforms.Normalize((0.5, 0.5, 0.5), (0.5, 0.5, 0.5))]\n",
        "    )\n",
        "    trainset = CIFAR10(\"./dataset\", train=True, download=True, transform=transform)\n",
        "    testset = CIFAR10(\"./dataset\", train=False, download=True, transform=transform)\n",
        "\n",
        "    # Split training set into `num_clients` partitions to simulate different local datasets\n",
        "    partition_size = len(trainset) // num_clients\n",
        "    lengths = [partition_size] * num_clients\n",
        "    datasets = random_split(trainset, lengths, torch.Generator().manual_seed(42))\n",
        "\n",
        "    # Split each partition into train/val and create DataLoader\n",
        "    trainloaders = []\n",
        "    valloaders = []\n",
        "    for ds in datasets:\n",
        "        len_val = len(ds) // 10  # 10 % validation set\n",
        "        len_train = len(ds) - len_val\n",
        "        lengths = [len_train, len_val]\n",
        "        ds_train, ds_val = random_split(ds, lengths, torch.Generator().manual_seed(42))\n",
        "        trainloaders.append(DataLoader(ds_train, batch_size=32, shuffle=True))\n",
        "        valloaders.append(DataLoader(ds_val, batch_size=32))\n",
        "    testloader = DataLoader(testset, batch_size=32)\n",
        "    return trainloaders, valloaders, testloader\n",
        "\n",
        "\n",
        "trainloaders, valloaders, testloader = load_datasets(NUM_CLIENTS)"
      ]
    },
    {
      "cell_type": "code",
      "execution_count": 3,
      "metadata": {
        "id": "4q9gZPKEEVZ0"
      },
      "outputs": [],
      "source": [
        "class Net(nn.Module):\n",
        "    def __init__(self) -> None:\n",
        "        super(Net, self).__init__()\n",
        "        self.conv1 = nn.Conv2d(3, 6, 5)\n",
        "        self.pool = nn.MaxPool2d(2, 2)\n",
        "        self.conv2 = nn.Conv2d(6, 16, 5)\n",
        "        self.fc1 = nn.Linear(16 * 5 * 5, 120)\n",
        "        self.fc2 = nn.Linear(120, 84)\n",
        "        self.fc3 = nn.Linear(84, 10)\n",
        "\n",
        "    def forward(self, x: torch.Tensor) -> torch.Tensor:\n",
        "        x = self.pool(F.relu(self.conv1(x)))\n",
        "        x = self.pool(F.relu(self.conv2(x)))\n",
        "        x = x.view(-1, 16 * 5 * 5)\n",
        "        x = F.relu(self.fc1(x))\n",
        "        x = F.relu(self.fc2(x))\n",
        "        x = self.fc3(x)\n",
        "        return x\n",
        "\n",
        "\n",
        "def get_parameters(net) -> List[np.ndarray]:\n",
        "    return [val.cpu().numpy() for _, val in net.state_dict().items()]\n",
        "\n",
        "\n",
        "def set_parameters(net, parameters: List[np.ndarray]):\n",
        "    params_dict = zip(net.state_dict().keys(), parameters)\n",
        "    state_dict = OrderedDict({k: torch.Tensor(v) for k, v in params_dict})\n",
        "    net.load_state_dict(state_dict, strict=True)\n",
        "\n",
        "\n",
        "def train(net, trainloader, epochs: int):\n",
        "    \"\"\"Train the network on the training set.\"\"\"\n",
        "    criterion = torch.nn.CrossEntropyLoss()\n",
        "    optimizer = torch.optim.Adam(net.parameters())\n",
        "    net.train()\n",
        "    for epoch in range(epochs):  # Use the passed 'epochs' variable here\n",
        "        correct, total, epoch_loss = 0, 0, 0.0\n",
        "        for images, labels in trainloader:\n",
        "            images, labels = images.to(DEVICE), labels.to(DEVICE)\n",
        "            optimizer.zero_grad()\n",
        "            outputs = net(images)\n",
        "            loss = criterion(outputs, labels)\n",
        "            loss.backward()\n",
        "            optimizer.step()\n",
        "            # Metrics\n",
        "            epoch_loss += loss.item()  # Make sure to call .item() to get the scalar value\n",
        "            total += labels.size(0)\n",
        "            correct += (torch.max(outputs.data, 1)[1] == labels).sum().item()\n",
        "        epoch_loss /= len(trainloader.dataset)\n",
        "        epoch_acc = correct / total\n",
        "        print(f\"Epoch {epoch}: train loss {epoch_loss:.6f}, accuracy {epoch_acc:.6f}\")\n",
        "\n",
        "\n",
        "\n",
        "def test(net, testloader):\n",
        "    \"\"\"Evaluate the network on the entire test set.\"\"\"\n",
        "    criterion = torch.nn.CrossEntropyLoss()\n",
        "    correct, total, loss = 0, 0, 0.0\n",
        "    net.eval()\n",
        "    with torch.no_grad():\n",
        "        for images, labels in testloader:\n",
        "            images, labels = images.to(DEVICE), labels.to(DEVICE)\n",
        "            outputs = net(images)\n",
        "            loss += criterion(outputs, labels).item()\n",
        "            _, predicted = torch.max(outputs.data, 1)\n",
        "            total += labels.size(0)\n",
        "            correct += (predicted == labels).sum().item()\n",
        "    loss /= len(testloader.dataset)\n",
        "    accuracy = correct / total\n",
        "    return loss, accuracy"
      ]
    },
    {
      "cell_type": "code",
      "execution_count": 10,
      "metadata": {
        "id": "DpDR8IdSEX0E"
      },
      "outputs": [],
      "source": [
        "class FlowerClient(fl.client.NumPyClient):\n",
        "    def __init__(self, cid, net, trainloader, valloader):\n",
        "        self.cid = cid\n",
        "        self.net = net\n",
        "        self.trainloader = trainloader\n",
        "        self.valloader = valloader\n",
        "        self.runtime = 0.0\n",
        "\n",
        "    def get_parameters(self, config):\n",
        "        print(f\"[Client {self.cid}] get_parameters\")\n",
        "        return get_parameters(self.net)\n",
        "\n",
        "    def fit(self, parameters, config):\n",
        "        global runtime\n",
        "        print(f\"[Client {self.cid}] fit, config: {config}\")\n",
        "        set_parameters(self.net, parameters)\n",
        "        # Use the 'epochs' value from the config dictionary, defaulting to 1 if it's not specified\n",
        "        epochs = config.get(\"epochs\", 1)\n",
        "        training_start = time.time()\n",
        "        train(self.net, self.trainloader, epochs)\n",
        "        \n",
        "        self.runtime = time.time() - training_start\n",
        "        print(f\"Training Finished in {self.runtime}\")\n",
        "\n",
        "        return get_parameters(self.net), len(self.trainloader), {}\n",
        "\n",
        "    def evaluate(self, parameters, config):\n",
        "        print(f\"[Client {self.cid}] evaluate, config: {config}\")\n",
        "        set_parameters(self.net, parameters)\n",
        "        loss, accuracy = test(self.net, self.valloader)\n",
        "        print(f\"Client {self.cid} loss {loss}\")\n",
        "        print(f\"Client {self.cid} accuracy {accuracy}\")\n",
        "        \n",
        "        return float(loss), len(self.valloader), {\"accuracy\": float(accuracy)}\n",
        "\n",
        "\n",
        "def client_fn(cid) -> FlowerClient:\n",
        "    net = Net().to(DEVICE)\n",
        "    trainloader = trainloaders[int(cid)]\n",
        "    valloader = valloaders[int(cid)]\n",
        "    return FlowerClient(cid, net, trainloader, valloader)"
      ]
    },
    {
      "cell_type": "code",
      "execution_count": null,
      "metadata": {},
      "outputs": [],
      "source": []
    },
    {
      "cell_type": "code",
      "execution_count": 8,
      "metadata": {
        "id": "mSYL7mrZE21l"
      },
      "outputs": [],
      "source": [
        "from typing import Callable, Union\n",
        "\n",
        "from flwr.common import (\n",
        "    EvaluateIns,\n",
        "    EvaluateRes,\n",
        "    FitIns,\n",
        "    FitRes,\n",
        "    MetricsAggregationFn,\n",
        "    NDArrays,\n",
        "    Parameters,\n",
        "    Scalar,\n",
        "    ndarrays_to_parameters,\n",
        "    parameters_to_ndarrays,\n",
        ")\n",
        "from flwr.server.client_manager import ClientManager\n",
        "from flwr.server.client_proxy import ClientProxy\n",
        "from flwr.server.strategy.aggregate import aggregate, weighted_loss_avg\n",
        "\n",
        "\n",
        "class FedCustom(fl.server.strategy.Strategy):\n",
        "    def __init__(\n",
        "        self,\n",
        "        fraction_fit: float = 1.0,\n",
        "        fraction_evaluate: float = 1.0,\n",
        "        min_fit_clients: int = 2,\n",
        "        min_evaluate_clients: int = 2,\n",
        "        min_available_clients: int = 2,\n",
        "    ) -> None:\n",
        "        super().__init__()\n",
        "        self.fraction_fit = fraction_fit\n",
        "        self.fraction_evaluate = fraction_evaluate\n",
        "        self.min_fit_clients = min_fit_clients\n",
        "        self.min_evaluate_clients = min_evaluate_clients\n",
        "        self.min_available_clients = min_available_clients\n",
        "        self.runtime = 0.0  # Variable to store the training runtime\n",
        "\n",
        "    def __repr__(self) -> str:\n",
        "        return \"FedCustom\"\n",
        "\n",
        "    def initialize_parameters(\n",
        "        self, client_manager: ClientManager\n",
        "    ) -> Optional[Parameters]:\n",
        "        \"\"\"Initialize global model parameters.\"\"\"\n",
        "        net = Net()\n",
        "        ndarrays = get_parameters(net)\n",
        "        return fl.common.ndarrays_to_parameters(ndarrays)\n",
        "\n",
        "    def configure_fit(\n",
        "        self, server_round: int, parameters: Parameters, client_manager: ClientManager\n",
        "    ) -> List[Tuple[ClientProxy, FitIns]]:\n",
        "        \"\"\"Configure the next round of training.\"\"\"\n",
        "\n",
        "        # Sample clients\n",
        "        sample_size, min_num_clients = self.num_fit_clients(\n",
        "            client_manager.num_available()\n",
        "        )\n",
        "        clients = client_manager.sample(\n",
        "            num_clients=sample_size, min_num_clients=min_num_clients\n",
        "        )\n",
        "        \n",
        "        # Create custom configs\n",
        "        n_clients = len(clients)\n",
        "        half_clients = n_clients // 2\n",
        "        standard_config = {\"lr\": 0.001, \"epochs\": 3}\n",
        "        higher_lr_config = {\"lr\": 0.003, \"epochs\": 5}\n",
        "        fit_configurations = []\n",
        "\n",
        "        for idx, client in enumerate(clients):\n",
        "            if idx < half_clients:\n",
        "                fit_configurations.append((client, FitIns(parameters, standard_config)))\n",
        "            else:\n",
        "                fit_configurations.append(\n",
        "                    (client, FitIns(parameters, higher_lr_config))\n",
        "                )\n",
        "        return fit_configurations\n",
        "\n",
        "    def aggregate_fit(\n",
        "        self,\n",
        "        server_round: int,\n",
        "        results: List[Tuple[ClientProxy, FitRes]],\n",
        "        failures: List[Union[Tuple[ClientProxy, FitRes], BaseException]],\n",
        "    ) -> Tuple[Optional[Parameters], Dict[str, Scalar]]:\n",
        "        \"\"\"Aggregate fit results using weighted average.\"\"\"\n",
        "\n",
        "        weights_results = [\n",
        "            (parameters_to_ndarrays(fit_res.parameters), fit_res.num_examples)\n",
        "            for _, fit_res in results\n",
        "        ]\n",
        "        parameters_aggregated = ndarrays_to_parameters(aggregate(weights_results))\n",
        "        metrics_aggregated = {}\n",
        "        return parameters_aggregated, metrics_aggregated\n",
        "\n",
        "    def configure_evaluate(\n",
        "        self, server_round: int, parameters: Parameters, client_manager: ClientManager\n",
        "    ) -> List[Tuple[ClientProxy, EvaluateIns]]:\n",
        "        \"\"\"Configure the next round of evaluation.\"\"\"\n",
        "        if self.fraction_evaluate == 0.0:\n",
        "            return []\n",
        "        config = {}\n",
        "        evaluate_ins = EvaluateIns(parameters, config)\n",
        "\n",
        "        # Sample clients\n",
        "        sample_size, min_num_clients = self.num_evaluation_clients(\n",
        "            client_manager.num_available()\n",
        "        )\n",
        "        clients = client_manager.sample(\n",
        "            num_clients=sample_size, min_num_clients=min_num_clients\n",
        "        )\n",
        "\n",
        "        # Return client/config pairs\n",
        "        return [(client, evaluate_ins) for client in clients]\n",
        "\n",
        "    def aggregate_evaluate(\n",
        "        self,\n",
        "        server_round: int,\n",
        "        results: List[Tuple[ClientProxy, EvaluateRes]],\n",
        "        failures: List[Union[Tuple[ClientProxy, EvaluateRes], BaseException]],\n",
        "    ) -> Tuple[Optional[float], Dict[str, Scalar]]:\n",
        "        \"\"\"Aggregate evaluation losses using weighted average.\"\"\"\n",
        "\n",
        "        if not results:\n",
        "            return None, {}\n",
        "\n",
        "        loss_aggregated = weighted_loss_avg(\n",
        "            [\n",
        "                (evaluate_res.num_examples, evaluate_res.loss)\n",
        "                for _, evaluate_res in results\n",
        "            ]\n",
        "        )\n",
        "        metrics_aggregated = {}\n",
        "        return loss_aggregated, metrics_aggregated\n",
        "\n",
        "    def evaluate(\n",
        "        self, server_round: int, parameters: Parameters\n",
        "    ) -> Optional[Tuple[float, Dict[str, Scalar]]]:\n",
        "        \"\"\"Evaluate global model parameters using an evaluation function.\"\"\"\n",
        "\n",
        "        # Let's assume we won't perform the global model evaluation on the server side.\n",
        "        return None\n",
        "\n",
        "    def num_fit_clients(self, num_available_clients: int) -> Tuple[int, int]:\n",
        "        \"\"\"Return sample size and required number of clients.\"\"\"\n",
        "        num_clients = int(num_available_clients * self.fraction_fit)\n",
        "        return max(num_clients, self.min_fit_clients), self.min_available_clients\n",
        "\n",
        "    def num_evaluation_clients(self, num_available_clients: int) -> Tuple[int, int]:\n",
        "        \"\"\"Use a fraction of available clients for evaluation.\"\"\"\n",
        "        num_clients = int(num_available_clients * self.fraction_evaluate)\n",
        "        return max(num_clients, self.min_evaluate_clients), self.min_available_clients\n"
      ]
    },
    {
      "cell_type": "code",
      "execution_count": 9,
      "metadata": {
        "colab": {
          "base_uri": "https://localhost:8080/"
        },
        "id": "FvJM3bH4HDth",
        "outputId": "662947f8-586a-4b49-94c2-7101c6395303"
      },
      "outputs": [
        {
          "name": "stderr",
          "output_type": "stream",
          "text": [
            "INFO flwr 2024-05-02 17:22:55,597 | app.py:146 | Starting Flower simulation, config: ServerConfig(num_rounds=10, round_timeout=None)\n"
          ]
        },
        {
          "name": "stderr",
          "output_type": "stream",
          "text": [
            "INFO flwr 2024-05-02 17:23:01,008 | app.py:180 | Flower VCE: Ray initialized with resources: {'node:127.0.0.1': 1.0, 'object_store_memory': 36687611904.0, 'memory': 75604427776.0, 'GPU': 1.0, 'CPU': 32.0}\n",
            "INFO flwr 2024-05-02 17:23:01,011 | server.py:86 | Initializing global parameters\n",
            "INFO flwr 2024-05-02 17:23:01,022 | server.py:269 | Using initial parameters provided by strategy\n",
            "INFO flwr 2024-05-02 17:23:01,024 | server.py:88 | Evaluating initial parameters\n",
            "INFO flwr 2024-05-02 17:23:01,026 | server.py:101 | FL starting\n",
            "DEBUG flwr 2024-05-02 17:23:01,028 | server.py:218 | fit_round 1: strategy sampled 5 clients (out of 5)\n"
          ]
        },
        {
          "name": "stdout",
          "output_type": "stream",
          "text": [
            " pid=26224)\u001b[0m [Client 2] fit, config: {'lr': 0.001, 'epochs': 3}\n",
            " pid=26224)\u001b[0m Epoch 0: train loss 0.065225, accuracy 0.214444\n",
            " pid=26224)\u001b[0m Epoch 1: train loss 0.057076, accuracy 0.316222\n",
            " pid=26224)\u001b[0m Epoch 2: train loss 0.052112, accuracy 0.391556\n",
            " pid=26224)\u001b[0m Training Finished in  19.601341724395752\n",
            " pid=26224)\u001b[0m [Client 1] fit, config: {'lr': 0.003, 'epochs': 5}\n",
            " pid=26224)\u001b[0m Epoch 0: train loss 0.064412, accuracy 0.230222\n",
            " pid=26224)\u001b[0m Epoch 1: train loss 0.055319, accuracy 0.351556\n",
            " pid=26224)\u001b[0m Epoch 2: train loss 0.051261, accuracy 0.401556\n",
            " pid=26224)\u001b[0m Epoch 3: train loss 0.048549, accuracy 0.434444\n",
            " pid=26224)\u001b[0m Epoch 4: train loss 0.046451, accuracy 0.461333\n",
            " pid=26224)\u001b[0m Training Finished in  13.312281608581543\n",
            " pid=26224)\u001b[0m [Client 0] fit, config: {'lr': 0.003, 'epochs': 5}\n",
            " pid=26224)\u001b[0m Epoch 0: train loss 0.065064, accuracy 0.236000\n",
            " pid=26224)\u001b[0m Epoch 1: train loss 0.056888, accuracy 0.329778\n",
            " pid=26224)\u001b[0m Epoch 2: train loss 0.051560, accuracy 0.395556\n",
            " pid=26224)\u001b[0m Epoch 3: train loss 0.049039, accuracy 0.431333\n",
            " pid=26224)\u001b[0m Epoch 4: train loss 0.046202, accuracy 0.456222\n",
            " pid=26224)\u001b[0m Training Finished in  13.250811576843262\n",
            " pid=26224)\u001b[0m [Client 4] fit, config: {'lr': 0.003, 'epochs': 5}\n",
            " pid=26224)\u001b[0m Epoch 0: train loss 0.064197, accuracy 0.238889\n",
            " pid=26224)\u001b[0m Epoch 1: train loss 0.054278, accuracy 0.363556\n",
            " pid=26224)\u001b[0m Epoch 2: train loss 0.049932, accuracy 0.413778\n",
            " pid=26224)\u001b[0m Epoch 3: train loss 0.048227, accuracy 0.437556\n",
            " pid=26224)\u001b[0m Epoch 4: train loss 0.046410, accuracy 0.460667\n",
            " pid=26224)\u001b[0m Training Finished in  13.627089023590088\n",
            " pid=26224)\u001b[0m [Client 3] fit, config: {'lr': 0.001, 'epochs': 3}\n",
            " pid=26224)\u001b[0m Epoch 0: train loss 0.064382, accuracy 0.239556\n",
            " pid=26224)\u001b[0m Epoch 1: train loss 0.056063, accuracy 0.337111\n"
          ]
        },
        {
          "name": "stderr",
          "output_type": "stream",
          "text": [
            "DEBUG flwr 2024-05-02 17:24:18,755 | server.py:232 | fit_round 1 received 5 results and 0 failures\n",
            "DEBUG flwr 2024-05-02 17:24:18,777 | server.py:168 | evaluate_round 1: strategy sampled 5 clients (out of 5)\n"
          ]
        },
        {
          "name": "stdout",
          "output_type": "stream",
          "text": [
            " pid=26224)\u001b[0m Epoch 2: train loss 0.051427, accuracy 0.390889\n",
            " pid=26224)\u001b[0m Training Finished in  8.002503633499146\n",
            " pid=26224)\u001b[0m [Client 0] evaluate, config: {}\n",
            " pid=26224)\u001b[0m Client 0 loss 0.055161301136016846\n",
            " pid=26224)\u001b[0m Client 0 accuracy 0.37\n",
            " pid=26224)\u001b[0m [Client 1] evaluate, config: {}\n",
            " pid=26224)\u001b[0m Client 1 loss 0.05531983661651611\n",
            " pid=26224)\u001b[0m Client 1 accuracy 0.402\n",
            " pid=26224)\u001b[0m [Client 3] evaluate, config: {}\n",
            " pid=26224)\u001b[0m Client 3 loss 0.05547668504714966\n",
            " pid=26224)\u001b[0m Client 3 accuracy 0.392\n",
            " pid=26224)\u001b[0m [Client 2] evaluate, config: {}\n"
          ]
        },
        {
          "name": "stderr",
          "output_type": "stream",
          "text": [
            "DEBUG flwr 2024-05-02 17:24:26,812 | server.py:182 | evaluate_round 1 received 5 results and 0 failures\n",
            "DEBUG flwr 2024-05-02 17:24:26,814 | server.py:218 | fit_round 2: strategy sampled 5 clients (out of 5)\n"
          ]
        },
        {
          "name": "stdout",
          "output_type": "stream",
          "text": [
            " pid=26224)\u001b[0m Client 2 loss 0.05577077841758728\n",
            " pid=26224)\u001b[0m Client 2 accuracy 0.384\n",
            " pid=26224)\u001b[0m [Client 4] evaluate, config: {}\n",
            " pid=26224)\u001b[0m Client 4 loss 0.0547201566696167\n",
            " pid=26224)\u001b[0m Client 4 accuracy 0.396\n",
            " pid=26224)\u001b[0m [Client 1] fit, config: {'lr': 0.003, 'epochs': 5}\n",
            " pid=26224)\u001b[0m Epoch 0: train loss 0.049001, accuracy 0.423778\n",
            " pid=26224)\u001b[0m Epoch 1: train loss 0.045894, accuracy 0.467778\n",
            " pid=26224)\u001b[0m Epoch 2: train loss 0.044477, accuracy 0.484667\n",
            " pid=26224)\u001b[0m Epoch 3: train loss 0.042083, accuracy 0.518889\n",
            " pid=26224)\u001b[0m Epoch 4: train loss 0.040195, accuracy 0.538889\n",
            " pid=26224)\u001b[0m Training Finished in  13.623268842697144\n",
            " pid=26224)\u001b[0m [Client 2] fit, config: {'lr': 0.001, 'epochs': 3}\n",
            " pid=26224)\u001b[0m Epoch 0: train loss 0.050177, accuracy 0.416222\n",
            " pid=26224)\u001b[0m Epoch 1: train loss 0.047472, accuracy 0.446000\n",
            " pid=26224)\u001b[0m Epoch 2: train loss 0.045734, accuracy 0.455111\n",
            " pid=26224)\u001b[0m Training Finished in  7.791779279708862\n",
            " pid=26224)\u001b[0m [Client 0] fit, config: {'lr': 0.003, 'epochs': 5}\n",
            " pid=26224)\u001b[0m Epoch 0: train loss 0.049630, accuracy 0.413778\n",
            " pid=26224)\u001b[0m Epoch 1: train loss 0.046893, accuracy 0.446444\n",
            " pid=26224)\u001b[0m Epoch 2: train loss 0.044442, accuracy 0.485111\n",
            " pid=26224)\u001b[0m Epoch 3: train loss 0.042382, accuracy 0.508000\n",
            " pid=26224)\u001b[0m Epoch 4: train loss 0.040921, accuracy 0.526667\n",
            " pid=26224)\u001b[0m Training Finished in  13.159340620040894\n",
            " pid=26224)\u001b[0m [Client 3] fit, config: {'lr': 0.001, 'epochs': 3}\n",
            " pid=26224)\u001b[0m Epoch 0: train loss 0.050625, accuracy 0.402667\n",
            " pid=26224)\u001b[0m Epoch 1: train loss 0.047684, accuracy 0.445111\n",
            " pid=26224)\u001b[0m Epoch 2: train loss 0.045777, accuracy 0.469556\n",
            " pid=26224)\u001b[0m Training Finished in  7.990255355834961\n",
            " pid=26224)\u001b[0m [Client 4] fit, config: {'lr': 0.003, 'epochs': 5}\n",
            " pid=26224)\u001b[0m Epoch 0: train loss 0.049504, accuracy 0.422444\n",
            " pid=26224)\u001b[0m Epoch 1: train loss 0.046724, accuracy 0.461333\n",
            " pid=26224)\u001b[0m Epoch 2: train loss 0.044678, accuracy 0.483778\n",
            " pid=26224)\u001b[0m Epoch 3: train loss 0.042858, accuracy 0.500444\n"
          ]
        },
        {
          "name": "stderr",
          "output_type": "stream",
          "text": [
            "DEBUG flwr 2024-05-02 17:25:29,838 | server.py:232 | fit_round 2 received 5 results and 0 failures\n",
            "DEBUG flwr 2024-05-02 17:25:29,857 | server.py:168 | evaluate_round 2: strategy sampled 5 clients (out of 5)\n"
          ]
        },
        {
          "name": "stdout",
          "output_type": "stream",
          "text": [
            " pid=26224)\u001b[0m Epoch 4: train loss 0.041341, accuracy 0.522667\n",
            " pid=26224)\u001b[0m Training Finished in  13.438421726226807\n",
            " pid=26224)\u001b[0m [Client 3] evaluate, config: {}\n",
            " pid=26224)\u001b[0m Client 3 loss 0.04513736295700073\n",
            " pid=26224)\u001b[0m Client 3 accuracy 0.49\n",
            " pid=26224)\u001b[0m [Client 1] evaluate, config: {}\n",
            " pid=26224)\u001b[0m Client 1 loss 0.04573907327651978\n",
            " pid=26224)\u001b[0m Client 1 accuracy 0.468\n",
            " pid=26224)\u001b[0m [Client 0] evaluate, config: {}\n",
            " pid=26224)\u001b[0m Client 0 loss 0.046497599124908445\n",
            " pid=26224)\u001b[0m Client 0 accuracy 0.47\n",
            " pid=26224)\u001b[0m [Client 4] evaluate, config: {}\n",
            " pid=26224)\u001b[0m Client 4 loss 0.0448452639579773\n",
            " pid=26224)\u001b[0m Client 4 accuracy 0.456\n",
            " pid=26224)\u001b[0m [Client 2] evaluate, config: {}\n"
          ]
        },
        {
          "name": "stderr",
          "output_type": "stream",
          "text": [
            "DEBUG flwr 2024-05-02 17:25:38,153 | server.py:182 | evaluate_round 2 received 5 results and 0 failures\n",
            "DEBUG flwr 2024-05-02 17:25:38,154 | server.py:218 | fit_round 3: strategy sampled 5 clients (out of 5)\n"
          ]
        },
        {
          "name": "stdout",
          "output_type": "stream",
          "text": [
            " pid=26224)\u001b[0m Client 2 loss 0.047570642232894894\n",
            " pid=26224)\u001b[0m Client 2 accuracy 0.456\n",
            " pid=26224)\u001b[0m [Client 0] fit, config: {'lr': 0.001, 'epochs': 3}\n",
            " pid=26224)\u001b[0m Epoch 0: train loss 0.044083, accuracy 0.481111\n",
            " pid=26224)\u001b[0m Epoch 1: train loss 0.041161, accuracy 0.522444\n",
            " pid=26224)\u001b[0m Epoch 2: train loss 0.039063, accuracy 0.549333\n",
            " pid=26224)\u001b[0m Training Finished in  8.024178981781006\n",
            " pid=26224)\u001b[0m [Client 2] fit, config: {'lr': 0.001, 'epochs': 3}\n",
            " pid=26224)\u001b[0m Epoch 0: train loss 0.045112, accuracy 0.470667\n",
            " pid=26224)\u001b[0m Epoch 1: train loss 0.042584, accuracy 0.500667\n",
            " pid=26224)\u001b[0m Epoch 2: train loss 0.040952, accuracy 0.520444\n",
            " pid=26224)\u001b[0m Training Finished in  8.159671306610107\n",
            " pid=26224)\u001b[0m [Client 3] fit, config: {'lr': 0.003, 'epochs': 5}\n",
            " pid=26224)\u001b[0m Epoch 0: train loss 0.045404, accuracy 0.480222\n",
            " pid=26224)\u001b[0m Epoch 1: train loss 0.043109, accuracy 0.504222\n",
            " pid=26224)\u001b[0m Epoch 2: train loss 0.040939, accuracy 0.521556\n",
            " pid=26224)\u001b[0m Epoch 3: train loss 0.039090, accuracy 0.554444\n",
            " pid=26224)\u001b[0m Epoch 4: train loss 0.036746, accuracy 0.571111\n",
            " pid=26224)\u001b[0m Training Finished in  13.93189525604248\n",
            " pid=26224)\u001b[0m [Client 1] fit, config: {'lr': 0.003, 'epochs': 5}\n",
            " pid=26224)\u001b[0m Epoch 0: train loss 0.043193, accuracy 0.502000\n",
            " pid=26224)\u001b[0m Epoch 1: train loss 0.040323, accuracy 0.539111\n",
            " pid=26224)\u001b[0m Epoch 2: train loss 0.038416, accuracy 0.563333\n",
            " pid=26224)\u001b[0m Epoch 3: train loss 0.036487, accuracy 0.588222\n",
            " pid=26224)\u001b[0m Epoch 4: train loss 0.034670, accuracy 0.599778\n",
            " pid=26224)\u001b[0m Training Finished in  13.885833740234375\n",
            " pid=26224)\u001b[0m [Client 4] fit, config: {'lr': 0.003, 'epochs': 5}\n",
            " pid=26224)\u001b[0m Epoch 0: train loss 0.043923, accuracy 0.506889\n",
            " pid=26224)\u001b[0m Epoch 1: train loss 0.041894, accuracy 0.519333\n",
            " pid=26224)\u001b[0m Epoch 2: train loss 0.039759, accuracy 0.542667\n",
            " pid=26224)\u001b[0m Epoch 3: train loss 0.037764, accuracy 0.561111\n"
          ]
        },
        {
          "name": "stderr",
          "output_type": "stream",
          "text": [
            "DEBUG flwr 2024-05-02 17:26:40,444 | server.py:232 | fit_round 3 received 5 results and 0 failures\n",
            "DEBUG flwr 2024-05-02 17:26:40,464 | server.py:168 | evaluate_round 3: strategy sampled 5 clients (out of 5)\n"
          ]
        },
        {
          "name": "stdout",
          "output_type": "stream",
          "text": [
            " pid=26224)\u001b[0m Epoch 4: train loss 0.035956, accuracy 0.593111\n",
            " pid=26224)\u001b[0m Training Finished in  13.683154821395874\n",
            " pid=26224)\u001b[0m [Client 2] evaluate, config: {}\n",
            " pid=26224)\u001b[0m Client 2 loss 0.04461341917514801\n",
            " pid=26224)\u001b[0m Client 2 accuracy 0.496\n",
            " pid=26224)\u001b[0m [Client 3] evaluate, config: {}\n",
            " pid=26224)\u001b[0m Client 3 loss 0.04206998312473297\n",
            " pid=26224)\u001b[0m Client 3 accuracy 0.544\n",
            " pid=26224)\u001b[0m [Client 4] evaluate, config: {}\n",
            " pid=26224)\u001b[0m Client 4 loss 0.04198957324028015\n",
            " pid=26224)\u001b[0m Client 4 accuracy 0.5\n",
            " pid=26224)\u001b[0m [Client 0] evaluate, config: {}\n",
            " pid=26224)\u001b[0m Client 0 loss 0.04327214741706848\n",
            " pid=26224)\u001b[0m Client 0 accuracy 0.504\n"
          ]
        },
        {
          "name": "stderr",
          "output_type": "stream",
          "text": [
            "DEBUG flwr 2024-05-02 17:26:47,828 | server.py:182 | evaluate_round 3 received 5 results and 0 failures\n",
            "DEBUG flwr 2024-05-02 17:26:47,831 | server.py:218 | fit_round 4: strategy sampled 5 clients (out of 5)\n"
          ]
        },
        {
          "name": "stdout",
          "output_type": "stream",
          "text": [
            " pid=26224)\u001b[0m [Client 1] evaluate, config: {}\n",
            " pid=26224)\u001b[0m Client 1 loss 0.04237670826911926\n",
            " pid=26224)\u001b[0m Client 1 accuracy 0.502\n",
            " pid=26224)\u001b[0m [Client 3] fit, config: {'lr': 0.001, 'epochs': 3}\n",
            " pid=26224)\u001b[0m Epoch 0: train loss 0.041341, accuracy 0.531556\n",
            " pid=26224)\u001b[0m Epoch 1: train loss 0.038413, accuracy 0.554444\n",
            " pid=26224)\u001b[0m Epoch 2: train loss 0.035817, accuracy 0.582000\n",
            " pid=26224)\u001b[0m Training Finished in  8.020364046096802\n",
            " pid=26224)\u001b[0m [Client 4] fit, config: {'lr': 0.003, 'epochs': 5}\n",
            " pid=26224)\u001b[0m Epoch 0: train loss 0.040081, accuracy 0.546222\n",
            " pid=26224)\u001b[0m Epoch 1: train loss 0.037423, accuracy 0.567556\n",
            " pid=26224)\u001b[0m Epoch 2: train loss 0.035097, accuracy 0.595111\n",
            " pid=26224)\u001b[0m Epoch 3: train loss 0.033145, accuracy 0.612889\n",
            " pid=26224)\u001b[0m Epoch 4: train loss 0.030090, accuracy 0.660667\n",
            " pid=26224)\u001b[0m Training Finished in  13.51014256477356\n",
            " pid=26224)\u001b[0m [Client 2] fit, config: {'lr': 0.001, 'epochs': 3}\n",
            " pid=26224)\u001b[0m Epoch 0: train loss 0.041947, accuracy 0.517333\n",
            " pid=26224)\u001b[0m Epoch 1: train loss 0.038692, accuracy 0.550000\n",
            " pid=26224)\u001b[0m Epoch 2: train loss 0.036204, accuracy 0.587111\n",
            " pid=26224)\u001b[0m Training Finished in  8.307897090911865\n",
            " pid=26224)\u001b[0m [Client 1] fit, config: {'lr': 0.003, 'epochs': 5}\n",
            " pid=26224)\u001b[0m Epoch 0: train loss 0.038807, accuracy 0.555556\n",
            " pid=26224)\u001b[0m Epoch 1: train loss 0.036149, accuracy 0.580222\n",
            " pid=26224)\u001b[0m Epoch 2: train loss 0.034083, accuracy 0.609111\n",
            " pid=26224)\u001b[0m Epoch 3: train loss 0.031565, accuracy 0.637333\n",
            " pid=26224)\u001b[0m Epoch 4: train loss 0.029385, accuracy 0.663333\n",
            " pid=26224)\u001b[0m Training Finished in  13.826807737350464\n",
            " pid=26224)\u001b[0m [Client 0] fit, config: {'lr': 0.003, 'epochs': 5}\n",
            " pid=26224)\u001b[0m Epoch 0: train loss 0.040537, accuracy 0.530000\n",
            " pid=26224)\u001b[0m Epoch 1: train loss 0.037299, accuracy 0.566000\n",
            " pid=26224)\u001b[0m Epoch 2: train loss 0.035059, accuracy 0.598444\n",
            " pid=26224)\u001b[0m Epoch 3: train loss 0.032275, accuracy 0.629778\n"
          ]
        },
        {
          "name": "stderr",
          "output_type": "stream",
          "text": [
            "DEBUG flwr 2024-05-02 17:27:49,574 | server.py:232 | fit_round 4 received 5 results and 0 failures\n",
            "DEBUG flwr 2024-05-02 17:27:49,593 | server.py:168 | evaluate_round 4: strategy sampled 5 clients (out of 5)\n"
          ]
        },
        {
          "name": "stdout",
          "output_type": "stream",
          "text": [
            " pid=26224)\u001b[0m Epoch 4: train loss 0.030172, accuracy 0.657333\n",
            " pid=26224)\u001b[0m Training Finished in  13.533035516738892\n",
            " pid=26224)\u001b[0m [Client 2] evaluate, config: {}\n",
            " pid=26224)\u001b[0m Client 2 loss 0.043267887115478514\n",
            " pid=26224)\u001b[0m Client 2 accuracy 0.522\n",
            " pid=26224)\u001b[0m [Client 4] evaluate, config: {}\n",
            " pid=26224)\u001b[0m Client 4 loss 0.039944215774536135\n",
            " pid=26224)\u001b[0m Client 4 accuracy 0.542\n",
            " pid=26224)\u001b[0m [Client 1] evaluate, config: {}\n",
            " pid=26224)\u001b[0m Client 1 loss 0.040457139611244204\n",
            " pid=26224)\u001b[0m Client 1 accuracy 0.56\n",
            " pid=26224)\u001b[0m [Client 0] evaluate, config: {}\n",
            " pid=26224)\u001b[0m Client 0 loss 0.0411153154373169\n",
            " pid=26224)\u001b[0m Client 0 accuracy 0.536\n",
            " pid=26224)\u001b[0m [Client 3] evaluate, config: {}\n"
          ]
        },
        {
          "name": "stderr",
          "output_type": "stream",
          "text": [
            "DEBUG flwr 2024-05-02 17:27:57,050 | server.py:182 | evaluate_round 4 received 5 results and 0 failures\n",
            "DEBUG flwr 2024-05-02 17:27:57,052 | server.py:218 | fit_round 5: strategy sampled 5 clients (out of 5)\n"
          ]
        },
        {
          "name": "stdout",
          "output_type": "stream",
          "text": [
            " pid=26224)\u001b[0m Client 3 loss 0.04000162208080292\n",
            " pid=26224)\u001b[0m Client 3 accuracy 0.57\n",
            " pid=26224)\u001b[0m [Client 0] fit, config: {'lr': 0.001, 'epochs': 3}\n",
            " pid=26224)\u001b[0m Epoch 0: train loss 0.036879, accuracy 0.570222\n",
            " pid=26224)\u001b[0m Epoch 1: train loss 0.033543, accuracy 0.613333\n",
            " pid=26224)\u001b[0m Epoch 2: train loss 0.030516, accuracy 0.654000\n",
            " pid=26224)\u001b[0m Training Finished in  8.107095718383789\n",
            " pid=26224)\u001b[0m [Client 4] fit, config: {'lr': 0.003, 'epochs': 5}\n",
            " pid=26224)\u001b[0m Epoch 0: train loss 0.036745, accuracy 0.579111\n",
            " pid=26224)\u001b[0m Epoch 1: train loss 0.033255, accuracy 0.615778\n",
            " pid=26224)\u001b[0m Epoch 2: train loss 0.030565, accuracy 0.650444\n",
            " pid=26224)\u001b[0m Epoch 3: train loss 0.027989, accuracy 0.682667\n",
            " pid=26224)\u001b[0m Epoch 4: train loss 0.025049, accuracy 0.722667\n",
            " pid=26224)\u001b[0m Training Finished in  13.700770139694214\n",
            " pid=26224)\u001b[0m [Client 1] fit, config: {'lr': 0.001, 'epochs': 3}\n",
            " pid=26224)\u001b[0m Epoch 0: train loss 0.035997, accuracy 0.585333\n",
            " pid=26224)\u001b[0m Epoch 1: train loss 0.031875, accuracy 0.633778\n",
            " pid=26224)\u001b[0m Epoch 2: train loss 0.029654, accuracy 0.660889\n",
            " pid=26224)\u001b[0m Training Finished in  8.404003858566284\n",
            " pid=26224)\u001b[0m [Client 2] fit, config: {'lr': 0.003, 'epochs': 5}\n",
            " pid=26224)\u001b[0m Epoch 0: train loss 0.038581, accuracy 0.556667\n",
            " pid=26224)\u001b[0m Epoch 1: train loss 0.034943, accuracy 0.604222\n",
            " pid=26224)\u001b[0m Epoch 2: train loss 0.032194, accuracy 0.631111\n",
            " pid=26224)\u001b[0m Epoch 3: train loss 0.029861, accuracy 0.665778\n",
            " pid=26224)\u001b[0m Epoch 4: train loss 0.026881, accuracy 0.694000\n",
            " pid=26224)\u001b[0m Training Finished in  13.521465539932251\n",
            " pid=26224)\u001b[0m [Client 3] fit, config: {'lr': 0.003, 'epochs': 5}\n",
            " pid=26224)\u001b[0m Epoch 0: train loss 0.038464, accuracy 0.566000\n",
            " pid=26224)\u001b[0m Epoch 1: train loss 0.035453, accuracy 0.594444\n",
            " pid=26224)\u001b[0m Epoch 2: train loss 0.031867, accuracy 0.631778\n",
            " pid=26224)\u001b[0m Epoch 3: train loss 0.029800, accuracy 0.667556\n"
          ]
        },
        {
          "name": "stderr",
          "output_type": "stream",
          "text": [
            "DEBUG flwr 2024-05-02 17:28:57,937 | server.py:232 | fit_round 5 received 5 results and 0 failures\n",
            "DEBUG flwr 2024-05-02 17:28:57,955 | server.py:168 | evaluate_round 5: strategy sampled 5 clients (out of 5)\n"
          ]
        },
        {
          "name": "stdout",
          "output_type": "stream",
          "text": [
            " pid=26224)\u001b[0m Epoch 4: train loss 0.026890, accuracy 0.691556\n",
            " pid=26224)\u001b[0m Training Finished in  13.886320352554321\n",
            " pid=26224)\u001b[0m [Client 3] evaluate, config: {}\n",
            " pid=26224)\u001b[0m Client 3 loss 0.03977670323848724\n",
            " pid=26224)\u001b[0m Client 3 accuracy 0.576\n",
            " pid=26224)\u001b[0m [Client 0] evaluate, config: {}\n",
            " pid=26224)\u001b[0m Client 0 loss 0.040999207258224486\n",
            " pid=26224)\u001b[0m Client 0 accuracy 0.556\n",
            " pid=26224)\u001b[0m [Client 2] evaluate, config: {}\n",
            " pid=26224)\u001b[0m Client 2 loss 0.04185611712932587\n",
            " pid=26224)\u001b[0m Client 2 accuracy 0.534\n",
            " pid=26224)\u001b[0m [Client 1] evaluate, config: {}\n",
            " pid=26224)\u001b[0m Client 1 loss 0.040602928161621095\n",
            " pid=26224)\u001b[0m Client 1 accuracy 0.548\n"
          ]
        },
        {
          "name": "stderr",
          "output_type": "stream",
          "text": [
            "DEBUG flwr 2024-05-02 17:29:05,854 | server.py:182 | evaluate_round 5 received 5 results and 0 failures\n",
            "DEBUG flwr 2024-05-02 17:29:05,855 | server.py:218 | fit_round 6: strategy sampled 5 clients (out of 5)\n"
          ]
        },
        {
          "name": "stdout",
          "output_type": "stream",
          "text": [
            " pid=26224)\u001b[0m [Client 4] evaluate, config: {}\n",
            " pid=26224)\u001b[0m Client 4 loss 0.03933788967132568\n",
            " pid=26224)\u001b[0m Client 4 accuracy 0.564\n",
            " pid=26224)\u001b[0m [Client 3] fit, config: {'lr': 0.001, 'epochs': 3}\n",
            " pid=26224)\u001b[0m Epoch 0: train loss 0.035122, accuracy 0.598000\n",
            " pid=26224)\u001b[0m Epoch 1: train loss 0.031132, accuracy 0.645333\n",
            " pid=26224)\u001b[0m Epoch 2: train loss 0.027950, accuracy 0.681778\n",
            " pid=26224)\u001b[0m Training Finished in  8.421159029006958\n",
            " pid=26224)\u001b[0m [Client 2] fit, config: {'lr': 0.001, 'epochs': 3}\n",
            " pid=26224)\u001b[0m Epoch 0: train loss 0.035117, accuracy 0.599556\n",
            " pid=26224)\u001b[0m Epoch 1: train loss 0.030525, accuracy 0.651778\n",
            " pid=26224)\u001b[0m Epoch 2: train loss 0.027795, accuracy 0.689778\n",
            " pid=26224)\u001b[0m Training Finished in  8.256335496902466\n",
            " pid=26224)\u001b[0m [Client 0] fit, config: {'lr': 0.003, 'epochs': 5}\n",
            " pid=26224)\u001b[0m Epoch 0: train loss 0.034491, accuracy 0.600889\n",
            " pid=26224)\u001b[0m Epoch 1: train loss 0.030491, accuracy 0.649556\n",
            " pid=26224)\u001b[0m Epoch 2: train loss 0.027390, accuracy 0.692000\n",
            " pid=26224)\u001b[0m Epoch 3: train loss 0.024944, accuracy 0.720444\n",
            " pid=26224)\u001b[0m Epoch 4: train loss 0.021949, accuracy 0.756444\n",
            " pid=26224)\u001b[0m Training Finished in  14.10977578163147\n",
            " pid=26224)\u001b[0m [Client 4] fit, config: {'lr': 0.003, 'epochs': 5}\n",
            " pid=26224)\u001b[0m Epoch 0: train loss 0.034284, accuracy 0.614000\n",
            " pid=26224)\u001b[0m Epoch 1: train loss 0.029497, accuracy 0.664000\n",
            " pid=26224)\u001b[0m Epoch 2: train loss 0.026134, accuracy 0.708222\n",
            " pid=26224)\u001b[0m Epoch 3: train loss 0.023333, accuracy 0.748222\n",
            " pid=26224)\u001b[0m Epoch 4: train loss 0.019976, accuracy 0.784222\n",
            " pid=26224)\u001b[0m Training Finished in  13.58554744720459\n",
            " pid=26224)\u001b[0m [Client 1] fit, config: {'lr': 0.003, 'epochs': 5}\n",
            " pid=26224)\u001b[0m Epoch 0: train loss 0.034204, accuracy 0.607111\n",
            " pid=26224)\u001b[0m Epoch 1: train loss 0.030087, accuracy 0.656000\n",
            " pid=26224)\u001b[0m Epoch 2: train loss 0.026732, accuracy 0.694222\n",
            " pid=26224)\u001b[0m Epoch 3: train loss 0.024442, accuracy 0.720000\n"
          ]
        },
        {
          "name": "stderr",
          "output_type": "stream",
          "text": [
            "DEBUG flwr 2024-05-02 17:30:09,352 | server.py:232 | fit_round 6 received 5 results and 0 failures\n",
            "DEBUG flwr 2024-05-02 17:30:09,369 | server.py:168 | evaluate_round 6: strategy sampled 5 clients (out of 5)\n"
          ]
        },
        {
          "name": "stdout",
          "output_type": "stream",
          "text": [
            " pid=26224)\u001b[0m Epoch 4: train loss 0.021497, accuracy 0.754667\n",
            " pid=26224)\u001b[0m Training Finished in  13.397539615631104\n",
            " pid=26224)\u001b[0m [Client 2] evaluate, config: {}\n",
            " pid=26224)\u001b[0m Client 2 loss 0.043234950065612794\n",
            " pid=26224)\u001b[0m Client 2 accuracy 0.53\n",
            " pid=26224)\u001b[0m [Client 0] evaluate, config: {}\n",
            " pid=26224)\u001b[0m Client 0 loss 0.04175446975231171\n",
            " pid=26224)\u001b[0m Client 0 accuracy 0.548\n",
            " pid=26224)\u001b[0m [Client 3] evaluate, config: {}\n",
            " pid=26224)\u001b[0m Client 3 loss 0.04099134433269501\n",
            " pid=26224)\u001b[0m Client 3 accuracy 0.56\n",
            " pid=26224)\u001b[0m [Client 4] evaluate, config: {}\n"
          ]
        },
        {
          "name": "stderr",
          "output_type": "stream",
          "text": [
            "DEBUG flwr 2024-05-02 17:30:16,855 | server.py:182 | evaluate_round 6 received 5 results and 0 failures\n",
            "DEBUG flwr 2024-05-02 17:30:16,857 | server.py:218 | fit_round 7: strategy sampled 5 clients (out of 5)\n"
          ]
        },
        {
          "name": "stdout",
          "output_type": "stream",
          "text": [
            " pid=26224)\u001b[0m Client 4 loss 0.040629515171051026\n",
            " pid=26224)\u001b[0m Client 4 accuracy 0.56\n",
            " pid=26224)\u001b[0m [Client 1] evaluate, config: {}\n",
            " pid=26224)\u001b[0m Client 1 loss 0.04121889591217041\n",
            " pid=26224)\u001b[0m Client 1 accuracy 0.556\n",
            " pid=26224)\u001b[0m [Client 4] fit, config: {'lr': 0.001, 'epochs': 3}\n",
            " pid=26224)\u001b[0m Epoch 0: train loss 0.030880, accuracy 0.646667\n",
            " pid=26224)\u001b[0m Epoch 1: train loss 0.025990, accuracy 0.700222\n",
            " pid=26224)\u001b[0m Epoch 2: train loss 0.021760, accuracy 0.761778\n",
            " pid=26224)\u001b[0m Training Finished in  8.349044561386108\n",
            " pid=26224)\u001b[0m [Client 3] fit, config: {'lr': 0.001, 'epochs': 3}\n",
            " pid=26224)\u001b[0m Epoch 0: train loss 0.033596, accuracy 0.619111\n",
            " pid=26224)\u001b[0m Epoch 1: train loss 0.028619, accuracy 0.672667\n",
            " pid=26224)\u001b[0m Epoch 2: train loss 0.025157, accuracy 0.719778\n",
            " pid=26224)\u001b[0m Training Finished in  8.336825370788574\n",
            " pid=26224)\u001b[0m [Client 0] fit, config: {'lr': 0.003, 'epochs': 5}\n",
            " pid=26224)\u001b[0m Epoch 0: train loss 0.031761, accuracy 0.632667\n",
            " pid=26224)\u001b[0m Epoch 1: train loss 0.027260, accuracy 0.687111\n",
            " pid=26224)\u001b[0m Epoch 2: train loss 0.023514, accuracy 0.741333\n",
            " pid=26224)\u001b[0m Epoch 3: train loss 0.021040, accuracy 0.765556\n",
            " pid=26224)\u001b[0m Epoch 4: train loss 0.018152, accuracy 0.798000\n",
            " pid=26224)\u001b[0m Training Finished in  13.780640602111816\n",
            " pid=26224)\u001b[0m [Client 1] fit, config: {'lr': 0.003, 'epochs': 5}\n",
            " pid=26224)\u001b[0m Epoch 0: train loss 0.031338, accuracy 0.640222\n",
            " pid=26224)\u001b[0m Epoch 1: train loss 0.025951, accuracy 0.699333\n",
            " pid=26224)\u001b[0m Epoch 2: train loss 0.023369, accuracy 0.733333\n",
            " pid=26224)\u001b[0m Epoch 3: train loss 0.020401, accuracy 0.766889\n",
            " pid=26224)\u001b[0m Epoch 4: train loss 0.017303, accuracy 0.799333\n",
            " pid=26224)\u001b[0m Training Finished in  13.770048141479492\n",
            " pid=26224)\u001b[0m [Client 2] fit, config: {'lr': 0.003, 'epochs': 5}\n",
            " pid=26224)\u001b[0m Epoch 0: train loss 0.033140, accuracy 0.624667\n",
            " pid=26224)\u001b[0m Epoch 1: train loss 0.028115, accuracy 0.682000\n",
            " pid=26224)\u001b[0m Epoch 2: train loss 0.024822, accuracy 0.718889\n",
            " pid=26224)\u001b[0m Epoch 3: train loss 0.021664, accuracy 0.758889\n"
          ]
        },
        {
          "name": "stderr",
          "output_type": "stream",
          "text": [
            "DEBUG flwr 2024-05-02 17:31:21,516 | server.py:232 | fit_round 7 received 5 results and 0 failures\n",
            "DEBUG flwr 2024-05-02 17:31:21,535 | server.py:168 | evaluate_round 7: strategy sampled 5 clients (out of 5)\n"
          ]
        },
        {
          "name": "stdout",
          "output_type": "stream",
          "text": [
            " pid=26224)\u001b[0m Epoch 4: train loss 0.018069, accuracy 0.806667\n",
            " pid=26224)\u001b[0m Training Finished in  13.485605239868164\n",
            " pid=26224)\u001b[0m [Client 3] evaluate, config: {}\n",
            " pid=26224)\u001b[0m Client 3 loss 0.04156091856956482\n",
            " pid=26224)\u001b[0m Client 3 accuracy 0.584\n",
            " pid=26224)\u001b[0m [Client 0] evaluate, config: {}\n",
            " pid=26224)\u001b[0m Client 0 loss 0.04318172371387482\n",
            " pid=26224)\u001b[0m Client 0 accuracy 0.546\n",
            " pid=26224)\u001b[0m [Client 1] evaluate, config: {}\n",
            " pid=26224)\u001b[0m Client 1 loss 0.04249537229537964\n",
            " pid=26224)\u001b[0m Client 1 accuracy 0.568\n",
            " pid=26224)\u001b[0m [Client 4] evaluate, config: {}\n",
            " pid=26224)\u001b[0m Client 4 loss 0.04112496733665466\n",
            " pid=26224)\u001b[0m Client 4 accuracy 0.572\n",
            " pid=26224)\u001b[0m [Client 2] evaluate, config: {}\n"
          ]
        },
        {
          "name": "stderr",
          "output_type": "stream",
          "text": [
            "DEBUG flwr 2024-05-02 17:31:29,834 | server.py:182 | evaluate_round 7 received 5 results and 0 failures\n",
            "DEBUG flwr 2024-05-02 17:31:29,837 | server.py:218 | fit_round 8: strategy sampled 5 clients (out of 5)\n"
          ]
        },
        {
          "name": "stdout",
          "output_type": "stream",
          "text": [
            " pid=26224)\u001b[0m Client 2 loss 0.04494469034671784\n",
            " pid=26224)\u001b[0m Client 2 accuracy 0.526\n",
            " pid=26224)\u001b[0m [Client 0] fit, config: {'lr': 0.001, 'epochs': 3}\n",
            " pid=26224)\u001b[0m Epoch 0: train loss 0.029202, accuracy 0.662889\n",
            " pid=26224)\u001b[0m Epoch 1: train loss 0.023531, accuracy 0.740444\n",
            " pid=26224)\u001b[0m Epoch 2: train loss 0.019858, accuracy 0.775556\n",
            " pid=26224)\u001b[0m Training Finished in  8.337406158447266\n",
            " pid=26224)\u001b[0m [Client 4] fit, config: {'lr': 0.001, 'epochs': 3}\n",
            " pid=26224)\u001b[0m Epoch 0: train loss 0.029393, accuracy 0.671333\n",
            " pid=26224)\u001b[0m Epoch 1: train loss 0.023976, accuracy 0.736444\n",
            " pid=26224)\u001b[0m Epoch 2: train loss 0.020103, accuracy 0.784889\n",
            " pid=26224)\u001b[0m Training Finished in  8.18524169921875\n",
            " pid=26224)\u001b[0m [Client 2] fit, config: {'lr': 0.003, 'epochs': 5}\n",
            " pid=26224)\u001b[0m Epoch 0: train loss 0.030358, accuracy 0.668667\n",
            " pid=26224)\u001b[0m Epoch 1: train loss 0.024135, accuracy 0.731556\n",
            " pid=26224)\u001b[0m Epoch 2: train loss 0.020493, accuracy 0.774222\n",
            " pid=26224)\u001b[0m Epoch 3: train loss 0.017116, accuracy 0.811778\n",
            " pid=26224)\u001b[0m Epoch 4: train loss 0.014252, accuracy 0.850444\n",
            " pid=26224)\u001b[0m Training Finished in  13.524060010910034\n",
            " pid=26224)\u001b[0m [Client 3] fit, config: {'lr': 0.003, 'epochs': 5}\n",
            " pid=26224)\u001b[0m Epoch 0: train loss 0.032187, accuracy 0.640000\n",
            " pid=26224)\u001b[0m Epoch 1: train loss 0.026713, accuracy 0.692667\n",
            " pid=26224)\u001b[0m Epoch 2: train loss 0.022865, accuracy 0.745111\n",
            " pid=26224)\u001b[0m Epoch 3: train loss 0.019978, accuracy 0.778444\n",
            " pid=26224)\u001b[0m Epoch 4: train loss 0.015983, accuracy 0.823778\n",
            " pid=26224)\u001b[0m Training Finished in  13.204858541488647\n",
            " pid=26224)\u001b[0m [Client 1] fit, config: {'lr': 0.003, 'epochs': 5}\n",
            " pid=26224)\u001b[0m Epoch 0: train loss 0.029093, accuracy 0.660444\n",
            " pid=26224)\u001b[0m Epoch 1: train loss 0.022937, accuracy 0.736889\n",
            " pid=26224)\u001b[0m Epoch 2: train loss 0.019376, accuracy 0.775111\n",
            " pid=26224)\u001b[0m Epoch 3: train loss 0.016086, accuracy 0.815111\n"
          ]
        },
        {
          "name": "stderr",
          "output_type": "stream",
          "text": [
            "DEBUG flwr 2024-05-02 17:32:29,299 | server.py:232 | fit_round 8 received 5 results and 0 failures\n",
            "DEBUG flwr 2024-05-02 17:32:29,342 | server.py:168 | evaluate_round 8: strategy sampled 5 clients (out of 5)\n"
          ]
        },
        {
          "name": "stdout",
          "output_type": "stream",
          "text": [
            " pid=26224)\u001b[0m Epoch 4: train loss 0.014205, accuracy 0.840667\n",
            " pid=26224)\u001b[0m Training Finished in  13.051822900772095\n",
            " pid=26224)\u001b[0m [Client 1] evaluate, config: {}\n",
            " pid=26224)\u001b[0m Client 1 loss 0.04517427039146423\n",
            " pid=26224)\u001b[0m Client 1 accuracy 0.568\n",
            " pid=26224)\u001b[0m [Client 0] evaluate, config: {}\n",
            " pid=26224)\u001b[0m Client 0 loss 0.043610284447669984\n",
            " pid=26224)\u001b[0m Client 0 accuracy 0.542\n",
            " pid=26224)\u001b[0m [Client 4] evaluate, config: {}\n",
            " pid=26224)\u001b[0m Client 4 loss 0.04137553536891937\n",
            " pid=26224)\u001b[0m Client 4 accuracy 0.56\n",
            " pid=26224)\u001b[0m [Client 3] evaluate, config: {}\n"
          ]
        },
        {
          "name": "stderr",
          "output_type": "stream",
          "text": [
            "DEBUG flwr 2024-05-02 17:32:37,459 | server.py:182 | evaluate_round 8 received 5 results and 0 failures\n",
            "DEBUG flwr 2024-05-02 17:32:37,461 | server.py:218 | fit_round 9: strategy sampled 5 clients (out of 5)\n"
          ]
        },
        {
          "name": "stdout",
          "output_type": "stream",
          "text": [
            " pid=26224)\u001b[0m Client 3 loss 0.043986631631851195\n",
            " pid=26224)\u001b[0m Client 3 accuracy 0.578\n",
            " pid=26224)\u001b[0m [Client 2] evaluate, config: {}\n",
            " pid=26224)\u001b[0m Client 2 loss 0.04580631566047669\n",
            " pid=26224)\u001b[0m Client 2 accuracy 0.542\n",
            " pid=26224)\u001b[0m [Client 3] fit, config: {'lr': 0.003, 'epochs': 5}\n",
            " pid=26224)\u001b[0m Epoch 0: train loss 0.029789, accuracy 0.655333\n",
            " pid=26224)\u001b[0m Epoch 1: train loss 0.023276, accuracy 0.734000\n",
            " pid=26224)\u001b[0m Epoch 2: train loss 0.018992, accuracy 0.781333\n",
            " pid=26224)\u001b[0m Epoch 3: train loss 0.015738, accuracy 0.823556\n",
            " pid=26224)\u001b[0m Epoch 4: train loss 0.012783, accuracy 0.856222\n",
            " pid=26224)\u001b[0m Training Finished in  13.306055784225464\n",
            " pid=26224)\u001b[0m [Client 0] fit, config: {'lr': 0.003, 'epochs': 5}\n",
            " pid=26224)\u001b[0m Epoch 0: train loss 0.027882, accuracy 0.677778\n",
            " pid=26224)\u001b[0m Epoch 1: train loss 0.021780, accuracy 0.757778\n",
            " pid=26224)\u001b[0m Epoch 2: train loss 0.018261, accuracy 0.795111\n",
            " pid=26224)\u001b[0m Epoch 3: train loss 0.015066, accuracy 0.834667\n",
            " pid=26224)\u001b[0m Epoch 4: train loss 0.012304, accuracy 0.870222\n",
            " pid=26224)\u001b[0m Training Finished in  13.357958555221558\n",
            " pid=26224)\u001b[0m [Client 2] fit, config: {'lr': 0.003, 'epochs': 5}\n",
            " pid=26224)\u001b[0m Epoch 0: train loss 0.027912, accuracy 0.680667\n",
            " pid=26224)\u001b[0m Epoch 1: train loss 0.020762, accuracy 0.762667\n",
            " pid=26224)\u001b[0m Epoch 2: train loss 0.016816, accuracy 0.824222\n",
            " pid=26224)\u001b[0m Epoch 3: train loss 0.014220, accuracy 0.852444\n",
            " pid=26224)\u001b[0m Epoch 4: train loss 0.011229, accuracy 0.883556\n",
            " pid=26224)\u001b[0m Training Finished in  13.801010131835938\n",
            " pid=26224)\u001b[0m [Client 4] fit, config: {'lr': 0.001, 'epochs': 3}\n",
            " pid=26224)\u001b[0m Epoch 0: train loss 0.028719, accuracy 0.679778\n",
            " pid=26224)\u001b[0m Epoch 1: train loss 0.021924, accuracy 0.757333\n",
            " pid=26224)\u001b[0m Epoch 2: train loss 0.018169, accuracy 0.804889\n",
            " pid=26224)\u001b[0m Training Finished in  8.42033576965332\n",
            " pid=26224)\u001b[0m [Client 1] fit, config: {'lr': 0.001, 'epochs': 3}\n",
            " pid=26224)\u001b[0m Epoch 0: train loss 0.026419, accuracy 0.694444\n",
            " pid=26224)\u001b[0m Epoch 1: train loss 0.020233, accuracy 0.767556\n"
          ]
        },
        {
          "name": "stderr",
          "output_type": "stream",
          "text": [
            "DEBUG flwr 2024-05-02 17:33:41,998 | server.py:232 | fit_round 9 received 5 results and 0 failures\n",
            "DEBUG flwr 2024-05-02 17:33:42,016 | server.py:168 | evaluate_round 9: strategy sampled 5 clients (out of 5)\n"
          ]
        },
        {
          "name": "stdout",
          "output_type": "stream",
          "text": [
            " pid=26224)\u001b[0m Epoch 2: train loss 0.016603, accuracy 0.810222\n",
            " pid=26224)\u001b[0m Training Finished in  8.077998876571655\n",
            " pid=26224)\u001b[0m [Client 3] evaluate, config: {}\n",
            " pid=26224)\u001b[0m Client 3 loss 0.047335542678833005\n",
            " pid=26224)\u001b[0m Client 3 accuracy 0.568\n",
            " pid=26224)\u001b[0m [Client 0] evaluate, config: {}\n",
            " pid=26224)\u001b[0m Client 0 loss 0.04579395830631256\n",
            " pid=26224)\u001b[0m Client 0 accuracy 0.554\n",
            " pid=26224)\u001b[0m [Client 1] evaluate, config: {}\n",
            " pid=26224)\u001b[0m Client 1 loss 0.048186328649520875\n",
            " pid=26224)\u001b[0m Client 1 accuracy 0.578\n",
            " pid=26224)\u001b[0m [Client 2] evaluate, config: {}\n",
            " pid=26224)\u001b[0m Client 2 loss 0.048357024908065795\n",
            " pid=26224)\u001b[0m Client 2 accuracy 0.556\n",
            " pid=26224)\u001b[0m [Client 4] evaluate, config: {}\n"
          ]
        },
        {
          "name": "stderr",
          "output_type": "stream",
          "text": [
            "DEBUG flwr 2024-05-02 17:33:49,657 | server.py:182 | evaluate_round 9 received 5 results and 0 failures\n",
            "DEBUG flwr 2024-05-02 17:33:49,659 | server.py:218 | fit_round 10: strategy sampled 5 clients (out of 5)\n"
          ]
        },
        {
          "name": "stdout",
          "output_type": "stream",
          "text": [
            " pid=26224)\u001b[0m Client 4 loss 0.04400055193901062\n",
            " pid=26224)\u001b[0m Client 4 accuracy 0.554\n",
            " pid=26224)\u001b[0m [Client 4] fit, config: {'lr': 0.001, 'epochs': 3}\n",
            " pid=26224)\u001b[0m Epoch 0: train loss 0.027154, accuracy 0.702667\n",
            " pid=26224)\u001b[0m Epoch 1: train loss 0.019953, accuracy 0.778667\n",
            " pid=26224)\u001b[0m Epoch 2: train loss 0.016033, accuracy 0.832222\n",
            " pid=26224)\u001b[0m Training Finished in  7.957631587982178\n",
            " pid=26224)\u001b[0m [Client 1] fit, config: {'lr': 0.001, 'epochs': 3}\n",
            " pid=26224)\u001b[0m Epoch 0: train loss 0.026135, accuracy 0.697333\n",
            " pid=26224)\u001b[0m Epoch 1: train loss 0.018479, accuracy 0.781556\n",
            " pid=26224)\u001b[0m Epoch 2: train loss 0.014728, accuracy 0.836889\n",
            " pid=26224)\u001b[0m Training Finished in  8.276000499725342\n",
            " pid=26224)\u001b[0m [Client 0] fit, config: {'lr': 0.003, 'epochs': 5}\n",
            " pid=26224)\u001b[0m Epoch 0: train loss 0.026456, accuracy 0.697778\n",
            " pid=26224)\u001b[0m Epoch 1: train loss 0.018770, accuracy 0.788222\n",
            " pid=26224)\u001b[0m Epoch 2: train loss 0.015117, accuracy 0.837111\n",
            " pid=26224)\u001b[0m Epoch 3: train loss 0.011830, accuracy 0.873556\n",
            " pid=26224)\u001b[0m Epoch 4: train loss 0.009430, accuracy 0.901111\n",
            " pid=26224)\u001b[0m Training Finished in  13.784946918487549\n",
            " pid=26224)\u001b[0m [Client 3] fit, config: {'lr': 0.003, 'epochs': 5}\n",
            " pid=26224)\u001b[0m Epoch 0: train loss 0.027009, accuracy 0.696222\n",
            " pid=26224)\u001b[0m Epoch 1: train loss 0.019954, accuracy 0.770444\n",
            " pid=26224)\u001b[0m Epoch 2: train loss 0.015575, accuracy 0.824667\n",
            " pid=26224)\u001b[0m Epoch 3: train loss 0.012367, accuracy 0.871778\n",
            " pid=26224)\u001b[0m Epoch 4: train loss 0.010780, accuracy 0.880667\n",
            " pid=26224)\u001b[0m Training Finished in  13.68460988998413\n",
            " pid=26224)\u001b[0m [Client 2] fit, config: {'lr': 0.003, 'epochs': 5}\n",
            " pid=26224)\u001b[0m Epoch 0: train loss 0.025762, accuracy 0.706444\n",
            " pid=26224)\u001b[0m Epoch 1: train loss 0.017757, accuracy 0.804222\n",
            " pid=26224)\u001b[0m Epoch 2: train loss 0.014140, accuracy 0.849778\n",
            " pid=26224)\u001b[0m Epoch 3: train loss 0.011095, accuracy 0.893111\n"
          ]
        },
        {
          "name": "stderr",
          "output_type": "stream",
          "text": [
            "DEBUG flwr 2024-05-02 17:34:52,620 | server.py:232 | fit_round 10 received 5 results and 0 failures\n",
            "DEBUG flwr 2024-05-02 17:34:52,642 | server.py:168 | evaluate_round 10: strategy sampled 5 clients (out of 5)\n"
          ]
        },
        {
          "name": "stdout",
          "output_type": "stream",
          "text": [
            " pid=26224)\u001b[0m Epoch 4: train loss 0.009123, accuracy 0.909111\n",
            " pid=26224)\u001b[0m Training Finished in  13.424917697906494\n",
            " pid=26224)\u001b[0m [Client 2] evaluate, config: {}\n",
            " pid=26224)\u001b[0m Client 2 loss 0.051071773290634156\n",
            " pid=26224)\u001b[0m Client 2 accuracy 0.558\n",
            " pid=26224)\u001b[0m [Client 0] evaluate, config: {}\n",
            " pid=26224)\u001b[0m Client 0 loss 0.049999896883964536\n",
            " pid=26224)\u001b[0m Client 0 accuracy 0.534\n",
            " pid=26224)\u001b[0m [Client 1] evaluate, config: {}\n",
            " pid=26224)\u001b[0m Client 1 loss 0.051228297114372254\n",
            " pid=26224)\u001b[0m Client 1 accuracy 0.572\n",
            " pid=26224)\u001b[0m [Client 4] evaluate, config: {}\n",
            " pid=26224)\u001b[0m Client 4 loss 0.04735017490386963\n",
            " pid=26224)\u001b[0m Client 4 accuracy 0.546\n",
            " pid=26224)\u001b[0m [Client 3] evaluate, config: {}\n"
          ]
        },
        {
          "name": "stderr",
          "output_type": "stream",
          "text": [
            "DEBUG flwr 2024-05-02 17:35:00,685 | server.py:182 | evaluate_round 10 received 5 results and 0 failures\n",
            "INFO flwr 2024-05-02 17:35:00,687 | server.py:147 | FL finished in 719.6606386999999\n",
            "INFO flwr 2024-05-02 17:35:00,688 | app.py:218 | app_fit: losses_distributed [(1, 0.055289751577377325), (2, 0.045957988309860226), (3, 0.04286436624526977), (4, 0.04095723600387573), (5, 0.04051456909179687), (6, 0.04156583504676818), (7, 0.04266153445243835), (8, 0.043990607500076294), (9, 0.04673468129634857), (10, 0.04998565466403961)]\n",
            "INFO flwr 2024-05-02 17:35:00,689 | app.py:219 | app_fit: metrics_distributed_fit {}\n",
            "INFO flwr 2024-05-02 17:35:00,691 | app.py:220 | app_fit: metrics_distributed {}\n",
            "INFO flwr 2024-05-02 17:35:00,692 | app.py:221 | app_fit: losses_centralized []\n",
            "INFO flwr 2024-05-02 17:35:00,693 | app.py:222 | app_fit: metrics_centralized {}\n"
          ]
        },
        {
          "data": {
            "text/plain": [
              "History (loss, distributed):\n",
              "\tround 1: 0.055289751577377325\n",
              "\tround 2: 0.045957988309860226\n",
              "\tround 3: 0.04286436624526977\n",
              "\tround 4: 0.04095723600387573\n",
              "\tround 5: 0.04051456909179687\n",
              "\tround 6: 0.04156583504676818\n",
              "\tround 7: 0.04266153445243835\n",
              "\tround 8: 0.043990607500076294\n",
              "\tround 9: 0.04673468129634857\n",
              "\tround 10: 0.04998565466403961"
            ]
          },
          "execution_count": 9,
          "metadata": {},
          "output_type": "execute_result"
        },
        {
          "name": "stdout",
          "output_type": "stream",
          "text": [
            " pid=26224)\u001b[0m Client 3 loss 0.05027813112735748\n",
            " pid=26224)\u001b[0m Client 3 accuracy 0.576\n"
          ]
        }
      ],
      "source": [
        "# Specify client resources if you need GPU (defaults to 1 CPU and 0 GPU)\n",
        "client_resources = None\n",
        "if DEVICE.type == \"cuda\":\n",
        "    client_resources = {\"num_gpus\": 1}\n",
        "\n",
        "fl.simulation.start_simulation(\n",
        "    client_fn=client_fn,\n",
        "    num_clients=5,\n",
        "    config=fl.server.ServerConfig(num_rounds=10),\n",
        "    strategy=FedCustom(),  # <-- pass the new strategy here\n",
        "    client_resources=client_resources,\n",
        ")"
      ]
    },
    {
      "cell_type": "code",
      "execution_count": 29,
      "metadata": {
        "colab": {
          "base_uri": "https://localhost:8080/"
        },
        "id": "PoIryFWsM3tj",
        "outputId": "483326c0-0ce4-47ac-ae64-c6e94633b291"
      },
      "outputs": [
        {
          "name": "stderr",
          "output_type": "stream",
          "text": [
            "/usr/local/lib/python3.10/dist-packages/ipykernel/ipkernel.py:283: DeprecationWarning: `should_run_async` will not call `transform_cell` automatically in the future. Please pass the result to `transformed_cell` argument and any exception that happen during thetransform in `preprocessing_exc_tuple` in IPython 7.17 and above.\n",
            "  and should_run_async(code)\n"
          ]
        },
        {
          "name": "stdout",
          "output_type": "stream",
          "text": [
            "\u001b[2m\u001b[36m(ClientAppActor pid=10645)\u001b[0m [Client 1] evaluate, config: {}\n"
          ]
        },
        {
          "name": "stderr",
          "output_type": "stream",
          "text": [
            "\u001b[2m\u001b[36m(ClientAppActor pid=10645)\u001b[0m \u001b[93mWARNING \u001b[0m:   Deprecation Warning: The `client_fn` function must return an instance of `Client`, but an instance of `NumpyClient` was returned. Please use `NumPyClient.to_client()` method to convert it to `Client`.\n"
          ]
        }
      ],
      "source": []
    }
  ],
  "metadata": {
    "colab": {
      "provenance": []
    },
    "kernelspec": {
      "display_name": "Python 3",
      "name": "python3"
    },
    "language_info": {
      "codemirror_mode": {
        "name": "ipython",
        "version": 3
      },
      "file_extension": ".py",
      "mimetype": "text/x-python",
      "name": "python",
      "nbconvert_exporter": "python",
      "pygments_lexer": "ipython3",
      "version": "3.8.18"
    }
  },
  "nbformat": 4,
  "nbformat_minor": 0
}
