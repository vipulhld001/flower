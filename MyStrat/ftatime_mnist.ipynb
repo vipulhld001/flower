{
  "cells": [
    {
      "cell_type": "code",
      "execution_count": null,
      "metadata": {
        "colab": {
          "base_uri": "https://localhost:8080/"
        },
        "id": "OZdR1WXDEGxY",
        "outputId": "34c4f998-2ca0-4252-e4f7-424c286a9224"
      },
      "outputs": [],
      "source": []
    },
    {
      "cell_type": "code",
      "execution_count": 10,
      "metadata": {
        "colab": {
          "base_uri": "https://localhost:8080/"
        },
        "id": "obhFyleoEM9F",
        "outputId": "99c58edc-bb25-469f-b692-769941f695ce"
      },
      "outputs": [
        {
          "name": "stdout",
          "output_type": "stream",
          "text": [
            "Training on cuda using PyTorch 2.3.1 and Flower 1.9.0\n"
          ]
        }
      ],
      "source": [
        "from collections import OrderedDict\n",
        "from typing import Dict, List, Optional, Tuple, NamedTuple\n",
        "\n",
        "import numpy as np\n",
        "import torch\n",
        "import torch.nn as nn\n",
        "import torch.nn.functional as F\n",
        "import torchvision.transforms as transforms\n",
        "from torch.utils.data import DataLoader, random_split\n",
        "from torchvision.datasets import MNIST\n",
        "import time\n",
        "import flwr as fl\n",
        "from scipy import stats as st\n",
        "import json\n",
        "\n",
        "DEVICE = torch.device(\"cuda\")  # Try \"cuda\" to train on GPU\n",
        "print(\n",
        "    f\"Training on {DEVICE} using PyTorch {torch.__version__} and Flower {fl.__version__}\"\n",
        ")"
      ]
    },
    {
      "cell_type": "code",
      "execution_count": 11,
      "metadata": {},
      "outputs": [
        {
          "name": "stdout",
          "output_type": "stream",
          "text": [
            "Gen RAM Free: 104.7 GB  | Proc size: 634.9 MB\n",
            "GPU RAM Free: 14884MB | Used: 1284MB | Util   8% | Total 16376MB\n"
          ]
        }
      ],
      "source": [
        "import psutil\n",
        "import humanize\n",
        "import os\n",
        "import GPUtil as GPU\n",
        "GPUs = GPU.getGPUs()\n",
        "# XXX: only one GPU on Colab and isn’t guaranteed\n",
        "gpu = GPUs[0]\n",
        "def printm():\n",
        "   process = psutil.Process(os.getpid())\n",
        "   print(\"Gen RAM Free: \" + humanize.naturalsize( psutil.virtual_memory().available ), \" | Proc size: \" + humanize.naturalsize( process.memory_info().rss))\n",
        "   print(\"GPU RAM Free: {0:.0f}MB | Used: {1:.0f}MB | Util {2:3.0f}% | Total {3:.0f}MB\".format(gpu.memoryFree, gpu.memoryUsed, gpu.memoryUtil*100, gpu.memoryTotal))\n",
        "printm()"
      ]
    },
    {
      "cell_type": "code",
      "execution_count": 12,
      "metadata": {
        "colab": {
          "base_uri": "https://localhost:8080/"
        },
        "id": "T2L0M1hDEQ54",
        "outputId": "d7c63f7f-13e7-4f97-ff2d-97443878fa29"
      },
      "outputs": [],
      "source": [
        "NUM_CLIENTS = 10\n",
        "\n",
        "\n",
        "def load_datasets(num_clients: int):\n",
        "    # Download and transform CIFAR-10 (train and test)\n",
        "    transform = transforms.Compose(\n",
        "        [transforms.ToTensor(), transforms.Normalize((0.5,), (0.5, ))]\n",
        "    )\n",
        "    trainset = MNIST(\"./dataset\", train=True, download=True, transform=transform)\n",
        "    testset = MNIST(\"./dataset\", train=False, download=True, transform=transform)\n",
        "\n",
        "    # Split training set into `num_clients` partitions to simulate different local datasets\n",
        "    partition_size = len(trainset) // num_clients\n",
        "    lengths = [partition_size] * num_clients\n",
        "    datasets = random_split(trainset, lengths, torch.Generator().manual_seed(42))\n",
        "\n",
        "    # Split each partition into train/val and create DataLoader\n",
        "    trainloaders = []\n",
        "    valloaders = []\n",
        "    for ds in datasets:\n",
        "        len_val = len(ds) // 10  # 10 % validation set\n",
        "        len_train = len(ds) - len_val\n",
        "        lengths = [len_train, len_val]\n",
        "        ds_train, ds_val = random_split(ds, lengths, torch.Generator().manual_seed(42))\n",
        "        trainloaders.append(DataLoader(ds_train, batch_size=32, shuffle=True))\n",
        "        valloaders.append(DataLoader(ds_val, batch_size=32))\n",
        "    testloader = DataLoader(testset, batch_size=32)\n",
        "    return trainloaders, valloaders, testloader\n",
        "\n",
        "\n",
        "trainloaders, valloaders, testloader = load_datasets(NUM_CLIENTS)"
      ]
    },
    {
      "cell_type": "code",
      "execution_count": 13,
      "metadata": {
        "id": "4q9gZPKEEVZ0"
      },
      "outputs": [],
      "source": [
        "class Net(nn.Module):\n",
        "    def __init__(self) -> None:\n",
        "        super(Net, self).__init__()\n",
        "        self.conv1 = nn.Conv2d(1, 6, 5)\n",
        "        self.pool = nn.MaxPool2d(2, 2)\n",
        "        self.conv2 = nn.Conv2d(6, 16, 5)\n",
        "        self.fc1 = nn.Linear(16 * 4 * 4, 120)\n",
        "        self.fc2 = nn.Linear(120, 84)\n",
        "        self.fc3 = nn.Linear(84, 10)\n",
        "\n",
        "    def forward(self, x: torch.Tensor) -> torch.Tensor:\n",
        "        x = self.pool(F.relu(self.conv1(x)))\n",
        "        x = self.pool(F.relu(self.conv2(x)))\n",
        "        x = x.view(-1, 16 * 4 * 4)\n",
        "        x = F.relu(self.fc1(x))\n",
        "        x = F.relu(self.fc2(x))\n",
        "        x = self.fc3(x)\n",
        "        return x\n",
        "\n",
        "\n",
        "def get_parameters(net) -> List[np.ndarray]:\n",
        "    return [val.cpu().numpy() for _, val in net.state_dict().items()]\n",
        "\n",
        "\n",
        "def set_parameters(net, parameters: List[np.ndarray]):\n",
        "    params_dict = zip(net.state_dict().keys(), parameters)\n",
        "    state_dict = OrderedDict({k: torch.Tensor(v) for k, v in params_dict})\n",
        "    net.load_state_dict(state_dict, strict=True)\n",
        "\n",
        "\n",
        "class ClientMetrics(NamedTuple):\n",
        "    epoch: int\n",
        "    loss: float\n",
        "    accuracy: float\n",
        "\n",
        "def train(net, trainloader, epochs: int):\n",
        "    \"\"\"Train the network on the training set.\"\"\"\n",
        "    criterion = torch.nn.CrossEntropyLoss()\n",
        "    optimizer = torch.optim.Adam(net.parameters())\n",
        "    net.train()\n",
        "    metrics = []\n",
        "    for epoch in range(epochs):  # Use the passed 'epochs' variable here\n",
        "        correct, total, epoch_loss = 0, 0, 0.0\n",
        "        for images, labels in trainloader:\n",
        "            images, labels = images.to(DEVICE), labels.to(DEVICE)\n",
        "            optimizer.zero_grad()\n",
        "            outputs = net(images)\n",
        "            loss = criterion(outputs, labels)\n",
        "            loss.backward()\n",
        "            optimizer.step()\n",
        "            # Metrics\n",
        "            epoch_loss += loss.item()  # Make sure to call .item() to get the scalar value\n",
        "            total += labels.size(0)\n",
        "            correct += (torch.max(outputs.data, 1)[1] == labels).sum().item()\n",
        "        epoch_loss /= len(trainloader.dataset)\n",
        "        epoch_acc = correct / total\n",
        "        metrics.append(ClientMetrics(epoch, epoch_loss, epoch_acc))\n",
        "        print(f\"Epoch {epoch}: train loss {epoch_loss:.6f}, accuracy {epoch_acc:.6f}\")\n",
        "    return metrics\n",
        "\n",
        "\n",
        "def test(net, testloader):\n",
        "    \"\"\"Evaluate the network on the entire test set.\"\"\"\n",
        "    criterion = torch.nn.CrossEntropyLoss()\n",
        "    correct, total, loss = 0, 0, 0.0\n",
        "    net.eval()\n",
        "    with torch.no_grad():\n",
        "        for images, labels in testloader:\n",
        "            images, labels = images.to(DEVICE), labels.to(DEVICE)\n",
        "            outputs = net(images)\n",
        "            loss += criterion(outputs, labels).item()\n",
        "            _, predicted = torch.max(outputs.data, 1)\n",
        "            total += labels.size(0)\n",
        "            correct += (predicted == labels).sum().item()\n",
        "    loss /= len(testloader.dataset)\n",
        "    accuracy = correct / total\n",
        "    return loss, accuracy"
      ]
    },
    {
      "cell_type": "code",
      "execution_count": 14,
      "metadata": {
        "id": "DpDR8IdSEX0E"
      },
      "outputs": [],
      "source": [
        "class FlowerClient(fl.client.NumPyClient):\n",
        "    def __init__(self, cid, net, trainloader, valloader):\n",
        "        self.cid = cid\n",
        "        self.net = net\n",
        "        self.trainloader = trainloader\n",
        "        self.valloader = valloader\n",
        "\n",
        "    def get_parameters(self):\n",
        "        print(f\"[Client {self.cid}] get_parameters\")\n",
        "        return get_parameters(self.net)\n",
        "\n",
        "    def fit(self, parameters, config):\n",
        "        print(f\"[Client {self.cid}] fit, config: {config}\")\n",
        "        set_parameters(self.net, parameters)\n",
        "        epochs = config.get(\"epochs\", 1)\n",
        "        start_time = time.time()  # Start time measurement\n",
        "        metrics = train(self.net, self.trainloader, epochs)\n",
        "        training_time = time.time() - start_time  # Calculate duration\n",
        "        print(f\"Training time for Client {self.cid}: {training_time:.2f} seconds\")\n",
        "        return get_parameters(self.net), len(self.trainloader), {\"training_time\": training_time, \"metrics\": json.dumps(metrics)}\n",
        "\n",
        "\n",
        "\n",
        "    def evaluate(self, parameters, config):\n",
        "        print(f\"[Client {self.cid}] evaluate, config: {config}\")\n",
        "        set_parameters(self.net, parameters)\n",
        "        loss, accuracy = test(self.net, self.valloader)\n",
        "        return float(loss), len(self.valloader), {\"accuracy\": float(accuracy)}\n",
        "\n",
        "\n",
        "def client_fn(cid) -> FlowerClient:\n",
        "    net = Net().to(DEVICE)\n",
        "    trainloader = trainloaders[int(cid)]\n",
        "    valloader = valloaders[int(cid)]\n",
        "    return FlowerClient(cid, net, trainloader, valloader).to_client()"
      ]
    },
    {
      "cell_type": "code",
      "execution_count": 15,
      "metadata": {
        "id": "mSYL7mrZE21l"
      },
      "outputs": [],
      "source": [
        "from typing import Callable, Union\n",
        "\n",
        "from flwr.common import (\n",
        "    EvaluateIns,\n",
        "    EvaluateRes,\n",
        "    FitIns,\n",
        "    FitRes,\n",
        "    MetricsAggregationFn,\n",
        "    NDArrays,\n",
        "    Parameters,\n",
        "    Scalar,\n",
        "    ndarrays_to_parameters,\n",
        "    parameters_to_ndarrays,\n",
        ")\n",
        "from flwr.server.client_manager import ClientManager\n",
        "from flwr.server.client_proxy import ClientProxy\n",
        "from flwr.server.strategy.aggregate import aggregate, weighted_loss_avg\n",
        "\n",
        "\n",
        "class FedCustom(fl.server.strategy.Strategy):\n",
        "    def __init__(\n",
        "        self,\n",
        "        fraction_fit: float = 1.0,\n",
        "        fraction_evaluate: float = 1.0,\n",
        "        min_fit_clients: int = 2,\n",
        "        min_evaluate_clients: int = 2,\n",
        "        min_available_clients: int = 2,\n",
        "    ) -> None:\n",
        "        super().__init__()\n",
        "        self.fraction_fit = fraction_fit\n",
        "        self.fraction_evaluate = fraction_evaluate\n",
        "        self.min_fit_clients = min_fit_clients\n",
        "        self.min_evaluate_clients = min_evaluate_clients\n",
        "        self.min_available_clients = min_available_clients\n",
        "        self.client_training_times = {}\n",
        "        self.client_metrics = {}\n",
        "    def __repr__(self) -> str:\n",
        "        return \"FedCustom\"\n",
        "\n",
        "    def initialize_parameters(\n",
        "        self, client_manager: ClientManager\n",
        "    ) -> Optional[Parameters]:\n",
        "        \"\"\"Initialize global model parameters.\"\"\"\n",
        "        net = Net()\n",
        "        ndarrays = get_parameters(net)\n",
        "        return fl.common.ndarrays_to_parameters(ndarrays)\n",
        "\n",
        "    def configure_fit(self, server_round: int, parameters: Parameters, client_manager: ClientManager):\n",
        "        sample_size, min_num_clients = self.num_fit_clients(client_manager.num_available())\n",
        "        clients = client_manager.sample(num_clients=sample_size, min_num_clients=min_num_clients)\n",
        "        epochs_sc = 10\n",
        "        \n",
        "\n",
        "        standard_config = {\"lr\": 0.001, \"epochs\": epochs_sc}\n",
        "        \n",
        "        fit_configurations = []\n",
        "        mode_time = []\n",
        "        \n",
        "        for client in clients:\n",
        "            last_time = self.client_training_times.get(client.cid, [0,])[-1] # Default to 0 if no time recorded # Yash has changed this as we now save last time of all epochs as key: value - cid: list of times\n",
        "            print(f\"This is ths last time not a fantasy {last_time}and {client.cid}habhhahah\")\n",
        "            \n",
        "            mode_time.append(round(last_time,2))\n",
        "            print(f\"this is tehb mode time {mode_time}\")\n",
        "\n",
        "        modest_value = st.mode(np.array(mode_time))\n",
        "        print(f\"Yeh h modest valueueueueu{modest_value}\")\n",
        "        print(f\"yeh h server round {server_round}\")\n",
        "        min_value, max_value= np.min(modest_value),np.max(modest_value)\n",
        "        print(f\"this is the min value {min_value} and this is the max value {max_value}\")\n",
        "        \n",
        "        if min_value == max_value:\n",
        "            epochs_hl = epochs_sc   \n",
        "        else:\n",
        "            epochs_hl = int(np.floor((max_value-min_value)/max_value * epochs_sc)) \n",
        "\n",
        "        higher_lr_config = {\"lr\": 0.0001, \"epochs\": epochs_hl}\n",
        "        print(f\"The epochs for the higher lr is {epochs_hl} and the epochs for the standard lr is {epochs_sc}\")\n",
        "\n",
        "\n",
        "\n",
        "\n",
        "        for client in clients:\n",
        "            # Choose config based on the previous training time\n",
        "            last_time = self.client_training_times.get(client.cid, [0,])[-1]  # Default to 0 if no time recorded # Yash has changed this as we now save last time of all epochs as key: value - cid: list of times\n",
        "            print(f\"This is the last time {last_time}\")\n",
        "            \n",
        "\n",
        "\n",
        "            config_to_use = standard_config if last_time < modest_value.mode else higher_lr_config\n",
        "            fit_configurations.append((client, FitIns(parameters, config_to_use)))\n",
        "\n",
        "        return fit_configurations\n",
        "    \n",
        "    def parse_metrics(self, cid, metrics: str): # this function has been added to parse the metrics from the client\n",
        "        client_data: List[ClientMetrics] = json.loads(metrics)\n",
        "        data_store = self.client_metrics.setdefault(cid, [])\n",
        "        last_epoch = len(data_store)\n",
        "        for data in client_data:\n",
        "            data_store.append(ClientMetrics(last_epoch, data[1], data[2]))\n",
        "            last_epoch += 1\n",
        "\n",
        "    def aggregate_fit(\n",
        "        self,\n",
        "        server_round: int,\n",
        "        results: List[Tuple[ClientProxy, FitRes]],\n",
        "        failures: List[Union[Tuple[ClientProxy, FitRes], BaseException]],\n",
        "    ) -> Tuple[Optional[Parameters], Dict[str, Scalar]]:\n",
        "        \"\"\"Aggregate fit results using weighted average.\"\"\"\n",
        "        for client, fit_res in results:\n",
        "            # Update training times for each client\n",
        "            self.client_training_times.setdefault(client.cid, []).append(fit_res.metrics.get(\"training_time\", 0)) # Yash has changed this as we now save last time of all epochs as key: value - cid: list of times\n",
        "            self.parse_metrics(client.cid, fit_res.metrics.get(\"metrics\", None))\n",
        "        weights_results = [\n",
        "            (parameters_to_ndarrays(fit_res.parameters), fit_res.num_examples)\n",
        "            for _, fit_res in results\n",
        "        ]\n",
        "        parameters_aggregated = ndarrays_to_parameters(aggregate(weights_results))\n",
        "        metrics_aggregated = {}\n",
        "        return parameters_aggregated, metrics_aggregated\n",
        "\n",
        "\n",
        "    def configure_evaluate(\n",
        "        self, server_round: int, parameters: Parameters, client_manager: ClientManager\n",
        "    ) -> List[Tuple[ClientProxy, EvaluateIns]]:\n",
        "        \"\"\"Configure the next round of evaluation.\"\"\"\n",
        "        if self.fraction_evaluate == 0.0:\n",
        "            return []\n",
        "        config = {}\n",
        "        evaluate_ins = EvaluateIns(parameters, config)\n",
        "\n",
        "        # Sample clients\n",
        "        sample_size, min_num_clients = self.num_evaluation_clients(\n",
        "            client_manager.num_available()\n",
        "        )\n",
        "        clients = client_manager.sample(\n",
        "            num_clients=sample_size, min_num_clients=min_num_clients\n",
        "        )\n",
        "\n",
        "        # Return client/config pairs\n",
        "        return [(client, evaluate_ins) for client in clients]\n",
        "\n",
        "    def aggregate_evaluate(\n",
        "        self,\n",
        "        server_round: int,\n",
        "        results: List[Tuple[ClientProxy, EvaluateRes]],\n",
        "        failures: List[Union[Tuple[ClientProxy, EvaluateRes], BaseException]],\n",
        "    ) -> Tuple[Optional[float], Dict[str, Scalar]]:\n",
        "        \"\"\"Aggregate evaluation losses using weighted average.\"\"\"\n",
        "\n",
        "        if not results:\n",
        "            return None, {}\n",
        "\n",
        "        loss_aggregated = weighted_loss_avg(\n",
        "            [\n",
        "                (evaluate_res.num_examples, evaluate_res.loss)\n",
        "                for _, evaluate_res in results\n",
        "            ]\n",
        "        )\n",
        "        metrics_aggregated = {}\n",
        "        return loss_aggregated, metrics_aggregated\n",
        "\n",
        "    def evaluate(\n",
        "        self, server_round: int, parameters: Parameters\n",
        "    ) -> Optional[Tuple[float, Dict[str, Scalar]]]:\n",
        "        \"\"\"Evaluate global model parameters using an evalua\n",
        "        tion function.\"\"\"\n",
        "\n",
        "        # Let's assume we won't perform the global model evaluation on the server side.\n",
        "        return None\n",
        "\n",
        "    def num_fit_clients(self, num_available_clients: int) -> Tuple[int, int]:\n",
        "        \"\"\"Return sample size and required number of clients.\"\"\"\n",
        "        num_clients = int(num_available_clients * self.fraction_fit)\n",
        "        return max(num_clients, self.min_fit_clients), self.min_available_clients\n",
        "\n",
        "    def num_evaluation_clients(self, num_available_clients: int) -> Tuple[int, int]:\n",
        "        \"\"\"Use a fraction of available clients for evaluation.\"\"\"\n",
        "        num_clients = int(num_available_clients * self.fraction_evaluate)\n",
        "        return max(num_clients, self.min_evaluate_clients), self.min_available_clients"
      ]
    },
    {
      "cell_type": "code",
      "execution_count": 16,
      "metadata": {},
      "outputs": [],
      "source": [
        "# if DEVICE.type == \"cuda\":\n",
        "#     # Use a single client to train the global model\n",
        "#     client_resources = { \"num_cpus\": 2} \n",
        "# client_resources = { \"num_cpus\": 2} "
      ]
    },
    {
      "cell_type": "code",
      "execution_count": 17,
      "metadata": {},
      "outputs": [],
      "source": [
        "if DEVICE.type == \"cuda\":\n",
        "    # Use a single client to train the global model\n",
        "    client_resources = {\"num_gpus\": .125, \"num_cpus\": 1} "
      ]
    },
    {
      "cell_type": "code",
      "execution_count": 19,
      "metadata": {
        "colab": {
          "base_uri": "https://localhost:8080/"
        },
        "id": "FvJM3bH4HDth",
        "outputId": "a273cb4a-ef0a-40e3-f789-e8f1f37366ce"
      },
      "outputs": [
        {
          "name": "stderr",
          "output_type": "stream",
          "text": [
            "\u001b[92mINFO \u001b[0m:      Starting Flower simulation, config: num_rounds=10, no round_timeout\n",
            "\u001b[33m(raylet)\u001b[0m unknown\u001b[32m [repeated 7x across cluster] (Ray deduplicates logs by default. Set RAY_DEDUP_LOGS=0 to disable log deduplication, or see https://docs.ray.io/en/master/ray-observability/user-guides/configure-logging.html#log-deduplication for more options.)\u001b[0m\n",
            "2024-07-16 10:43:42,961\tINFO worker.py:1771 -- Started a local Ray instance.\n",
            "\u001b[92mINFO \u001b[0m:      Flower VCE: Ray initialized with resources: {'node:__internal_head__': 1.0, 'CPU': 32.0, 'memory': 62921182208.0, 'accelerator_type:RTX': 1.0, 'node:127.0.0.1': 1.0, 'GPU': 1.0, 'object_store_memory': 31251935232.0}\n",
            "\u001b[92mINFO \u001b[0m:      Optimize your simulation with Flower VCE: https://flower.ai/docs/framework/how-to-run-simulations.html\n",
            "\u001b[92mINFO \u001b[0m:      Flower VCE: Resources for each Virtual Client: {'num_gpus': 0.125, 'num_cpus': 1}\n",
            "\u001b[92mINFO \u001b[0m:      Flower VCE: Creating VirtualClientEngineActorPool with 8 actors\n",
            "\u001b[92mINFO \u001b[0m:      [INIT]\n",
            "\u001b[92mINFO \u001b[0m:      Using initial global parameters provided by strategy\n",
            "\u001b[92mINFO \u001b[0m:      Evaluating initial global parameters\n",
            "\u001b[92mINFO \u001b[0m:      \n",
            "\u001b[92mINFO \u001b[0m:      [ROUND 1]\n",
            "\u001b[92mINFO \u001b[0m:      configure_fit: strategy sampled 10 clients (out of 10)\n"
          ]
        },
        {
          "name": "stdout",
          "output_type": "stream",
          "text": [
            "This is ths last time not a fantasy 0and 4habhhahah\n",
            "this is tehb mode time [0]\n",
            "This is ths last time not a fantasy 0and 3habhhahah\n",
            "this is tehb mode time [0, 0]\n",
            "This is ths last time not a fantasy 0and 6habhhahah\n",
            "this is tehb mode time [0, 0, 0]\n",
            "This is ths last time not a fantasy 0and 0habhhahah\n",
            "this is tehb mode time [0, 0, 0, 0]\n",
            "This is ths last time not a fantasy 0and 7habhhahah\n",
            "this is tehb mode time [0, 0, 0, 0, 0]\n",
            "This is ths last time not a fantasy 0and 8habhhahah\n",
            "this is tehb mode time [0, 0, 0, 0, 0, 0]\n",
            "This is ths last time not a fantasy 0and 2habhhahah\n",
            "this is tehb mode time [0, 0, 0, 0, 0, 0, 0]\n",
            "This is ths last time not a fantasy 0and 5habhhahah\n",
            "this is tehb mode time [0, 0, 0, 0, 0, 0, 0, 0]\n",
            "This is ths last time not a fantasy 0and 1habhhahah\n",
            "this is tehb mode time [0, 0, 0, 0, 0, 0, 0, 0, 0]\n",
            "This is ths last time not a fantasy 0and 9habhhahah\n",
            "this is tehb mode time [0, 0, 0, 0, 0, 0, 0, 0, 0, 0]\n",
            "Yeh h modest valueueueueuModeResult(mode=0, count=10)\n",
            "yeh h server round 1\n",
            "this is the min value 0 and this is the max value 10\n",
            "The epochs for the higher lr is 10 and the epochs for the standard lr is 10\n",
            "This is the last time 0\n",
            "This is the last time 0\n",
            "This is the last time 0\n",
            "This is the last time 0\n",
            "This is the last time 0\n",
            "This is the last time 0\n",
            "This is the last time 0\n",
            "This is the last time 0\n",
            "This is the last time 0\n",
            "This is the last time 0\n",
            "\u001b[36m(ClientAppActor pid=48296)\u001b[0m [Client 6] fit, config: {'lr': 0.0001, 'epochs': 10}\n",
            "\u001b[36m(ClientAppActor pid=48296)\u001b[0m Epoch 0: train loss 0.028709, accuracy 0.712963\n",
            "\u001b[36m(ClientAppActor pid=17132)\u001b[0m [Client 3] fit, config: {'lr': 0.0001, 'epochs': 10}\u001b[32m [repeated 7x across cluster]\u001b[0m\n",
            "\u001b[36m(ClientAppActor pid=46776)\u001b[0m Epoch 2: train loss 0.004846, accuracy 0.951481\u001b[32m [repeated 18x across cluster]\u001b[0m\n",
            "\u001b[36m(ClientAppActor pid=39072)\u001b[0m Epoch 4: train loss 0.003428, accuracy 0.967407\u001b[32m [repeated 19x across cluster]\u001b[0m\n",
            "\u001b[36m(ClientAppActor pid=48296)\u001b[0m Epoch 7: train loss 0.001749, accuracy 0.981296\u001b[32m [repeated 19x across cluster]\u001b[0m\n",
            "\u001b[36m(ClientAppActor pid=48296)\u001b[0m Training time for Client 6: 24.81 seconds\n",
            "\u001b[36m(ClientAppActor pid=35596)\u001b[0m [Client 1] fit, config: {'lr': 0.0001, 'epochs': 10}\n",
            "\u001b[36m(ClientAppActor pid=55460)\u001b[0m Epoch 9: train loss 0.001025, accuracy 0.990185\u001b[32m [repeated 19x across cluster]\u001b[0m\n",
            "\u001b[36m(ClientAppActor pid=17132)\u001b[0m Training time for Client 3: 24.92 seconds\u001b[32m [repeated 7x across cluster]\u001b[0m\n",
            "\u001b[36m(ClientAppActor pid=48296)\u001b[0m [Client 9] fit, config: {'lr': 0.0001, 'epochs': 10}\n",
            "\u001b[36m(ClientAppActor pid=35596)\u001b[0m Epoch 1: train loss 0.007230, accuracy 0.929074\u001b[32m [repeated 7x across cluster]\u001b[0m\n",
            "\u001b[36m(ClientAppActor pid=35596)\u001b[0m Epoch 3: train loss 0.003711, accuracy 0.963889\u001b[32m [repeated 4x across cluster]\u001b[0m\n",
            "\u001b[36m(ClientAppActor pid=48296)\u001b[0m Epoch 5: train loss 0.002434, accuracy 0.979074\u001b[32m [repeated 4x across cluster]\u001b[0m\n",
            "\u001b[36m(ClientAppActor pid=48296)\u001b[0m Epoch 7: train loss 0.001576, accuracy 0.985926\u001b[32m [repeated 4x across cluster]\u001b[0m\n"
          ]
        },
        {
          "name": "stderr",
          "output_type": "stream",
          "text": [
            "\u001b[92mINFO \u001b[0m:      aggregate_fit: received 10 results and 0 failures\n",
            "\u001b[92mINFO \u001b[0m:      configure_evaluate: strategy sampled 10 clients (out of 10)\n"
          ]
        },
        {
          "name": "stdout",
          "output_type": "stream",
          "text": [
            "\u001b[36m(ClientAppActor pid=48296)\u001b[0m Training time for Client 9: 27.11 seconds\n",
            "\u001b[36m(ClientAppActor pid=48296)\u001b[0m Epoch 9: train loss 0.001291, accuracy 0.987222\u001b[32m [repeated 4x across cluster]\u001b[0m\n",
            "\u001b[36m(ClientAppActor pid=35596)\u001b[0m [Client 9] evaluate, config: {}\n"
          ]
        },
        {
          "name": "stderr",
          "output_type": "stream",
          "text": [
            "\u001b[92mINFO \u001b[0m:      aggregate_evaluate: received 10 results and 0 failures\n",
            "\u001b[92mINFO \u001b[0m:      \n",
            "\u001b[92mINFO \u001b[0m:      [ROUND 2]\n",
            "\u001b[92mINFO \u001b[0m:      configure_fit: strategy sampled 10 clients (out of 10)\n"
          ]
        },
        {
          "name": "stdout",
          "output_type": "stream",
          "text": [
            "This is ths last time not a fantasy 25.053230047225952and 8habhhahah\n",
            "this is tehb mode time [25.05]\n",
            "This is ths last time not a fantasy 24.920217037200928and 3habhhahah\n",
            "this is tehb mode time [25.05, 24.92]\n",
            "This is ths last time not a fantasy 25.20403480529785and 7habhhahah\n",
            "this is tehb mode time [25.05, 24.92, 25.2]\n",
            "This is ths last time not a fantasy 24.46231484413147and 2habhhahah\n",
            "this is tehb mode time [25.05, 24.92, 25.2, 24.46]\n",
            "This is ths last time not a fantasy 24.81388831138611and 6habhhahah\n",
            "this is tehb mode time [25.05, 24.92, 25.2, 24.46, 24.81]\n",
            "This is ths last time not a fantasy 24.601338863372803and 4habhhahah\n",
            "this is tehb mode time [25.05, 24.92, 25.2, 24.46, 24.81, 24.6]\n",
            "This is ths last time not a fantasy 24.935222864151and 5habhhahah\n",
            "this is tehb mode time [25.05, 24.92, 25.2, 24.46, 24.81, 24.6, 24.94]\n",
            "This is ths last time not a fantasy 27.239190101623535and 1habhhahah\n",
            "this is tehb mode time [25.05, 24.92, 25.2, 24.46, 24.81, 24.6, 24.94, 27.24]\n",
            "This is ths last time not a fantasy 27.106184005737305and 9habhhahah\n",
            "this is tehb mode time [25.05, 24.92, 25.2, 24.46, 24.81, 24.6, 24.94, 27.24, 27.11]\n",
            "This is ths last time not a fantasy 24.984224557876587and 0habhhahah\n",
            "this is tehb mode time [25.05, 24.92, 25.2, 24.46, 24.81, 24.6, 24.94, 27.24, 27.11, 24.98]\n",
            "Yeh h modest valueueueueuModeResult(mode=24.46, count=1)\n",
            "yeh h server round 2\n",
            "this is the min value 1.0 and this is the max value 24.46\n",
            "The epochs for the higher lr is 9 and the epochs for the standard lr is 10\n",
            "This is the last time 25.053230047225952\n",
            "This is the last time 24.920217037200928\n",
            "This is the last time 25.20403480529785\n",
            "This is the last time 24.46231484413147\n",
            "This is the last time 24.81388831138611\n",
            "This is the last time 24.601338863372803\n",
            "This is the last time 24.935222864151\n",
            "This is the last time 27.239190101623535\n",
            "This is the last time 27.106184005737305\n",
            "This is the last time 24.984224557876587\n",
            "\u001b[36m(ClientAppActor pid=48296)\u001b[0m [Client 8] fit, config: {'lr': 0.0001, 'epochs': 9}\n",
            "\u001b[36m(ClientAppActor pid=35596)\u001b[0m Training time for Client 1: 27.24 seconds\n",
            "\u001b[36m(ClientAppActor pid=48296)\u001b[0m Epoch 1: train loss 0.002195, accuracy 0.976852\u001b[32m [repeated 10x across cluster]\u001b[0m\n",
            "\u001b[36m(ClientAppActor pid=48296)\u001b[0m [Client 8] evaluate, config: {}\u001b[32m [repeated 9x across cluster]\u001b[0m\n",
            "\u001b[36m(ClientAppActor pid=46776)\u001b[0m [Client 1] fit, config: {'lr': 0.0001, 'epochs': 9}\u001b[32m [repeated 7x across cluster]\u001b[0m\n",
            "\u001b[36m(ClientAppActor pid=17072)\u001b[0m Epoch 3: train loss 0.001329, accuracy 0.987778\u001b[32m [repeated 19x across cluster]\u001b[0m\n",
            "\u001b[36m(ClientAppActor pid=46776)\u001b[0m Epoch 5: train loss 0.000895, accuracy 0.989444\u001b[32m [repeated 19x across cluster]\u001b[0m\n",
            "\u001b[36m(ClientAppActor pid=35596)\u001b[0m Epoch 7: train loss 0.000457, accuracy 0.995926\u001b[32m [repeated 17x across cluster]\u001b[0m\n",
            "\u001b[36m(ClientAppActor pid=48296)\u001b[0m Training time for Client 8: 21.81 seconds\n",
            "\u001b[36m(ClientAppActor pid=48296)\u001b[0m [Client 9] fit, config: {'lr': 0.0001, 'epochs': 9}\n",
            "\u001b[36m(ClientAppActor pid=48296)\u001b[0m Epoch 1: train loss 0.002479, accuracy 0.977037\u001b[32m [repeated 11x across cluster]\u001b[0m\n",
            "\u001b[36m(ClientAppActor pid=35596)\u001b[0m Training time for Client 7: 22.63 seconds\u001b[32m [repeated 7x across cluster]\u001b[0m\n",
            "\u001b[36m(ClientAppActor pid=55460)\u001b[0m [Client 0] fit, config: {'lr': 0.0001, 'epochs': 9}\n",
            "\u001b[36m(ClientAppActor pid=48296)\u001b[0m Epoch 3: train loss 0.001212, accuracy 0.988889\u001b[32m [repeated 4x across cluster]\u001b[0m\n",
            "\u001b[36m(ClientAppActor pid=55460)\u001b[0m Epoch 5: train loss 0.000913, accuracy 0.990185\u001b[32m [repeated 4x across cluster]\u001b[0m\n",
            "\u001b[36m(ClientAppActor pid=55460)\u001b[0m Epoch 7: train loss 0.000134, accuracy 0.999259\u001b[32m [repeated 4x across cluster]\u001b[0m\n"
          ]
        },
        {
          "name": "stderr",
          "output_type": "stream",
          "text": [
            "\u001b[92mINFO \u001b[0m:      aggregate_fit: received 10 results and 0 failures\n",
            "\u001b[92mINFO \u001b[0m:      configure_evaluate: strategy sampled 10 clients (out of 10)\n"
          ]
        },
        {
          "name": "stdout",
          "output_type": "stream",
          "text": [
            "\u001b[36m(ClientAppActor pid=55460)\u001b[0m Training time for Client 0: 23.70 seconds\n",
            "\u001b[36m(ClientAppActor pid=48296)\u001b[0m [Client 8] evaluate, config: {}\n"
          ]
        },
        {
          "name": "stderr",
          "output_type": "stream",
          "text": [
            "\u001b[92mINFO \u001b[0m:      aggregate_evaluate: received 10 results and 0 failures\n",
            "\u001b[92mINFO \u001b[0m:      \n",
            "\u001b[92mINFO \u001b[0m:      [ROUND 3]\n",
            "\u001b[92mINFO \u001b[0m:      configure_fit: strategy sampled 10 clients (out of 10)\n"
          ]
        },
        {
          "name": "stdout",
          "output_type": "stream",
          "text": [
            "This is ths last time not a fantasy 22.036330699920654and 6habhhahah\n",
            "this is tehb mode time [22.04]\n",
            "This is ths last time not a fantasy 23.938721895217896and 9habhhahah\n",
            "this is tehb mode time [22.04, 23.94]\n",
            "This is ths last time not a fantasy 22.627832651138306and 7habhhahah\n",
            "this is tehb mode time [22.04, 23.94, 22.63]\n",
            "This is ths last time not a fantasy 21.539668798446655and 5habhhahah\n",
            "this is tehb mode time [22.04, 23.94, 22.63, 21.54]\n",
            "This is ths last time not a fantasy 21.613659381866455and 1habhhahah\n",
            "this is tehb mode time [22.04, 23.94, 22.63, 21.54, 21.61]\n",
            "This is ths last time not a fantasy 21.81064510345459and 8habhhahah\n",
            "this is tehb mode time [22.04, 23.94, 22.63, 21.54, 21.61, 21.81]\n",
            "This is ths last time not a fantasy 23.696176528930664and 0habhhahah\n",
            "this is tehb mode time [22.04, 23.94, 22.63, 21.54, 21.61, 21.81, 23.7]\n",
            "This is ths last time not a fantasy 22.213086366653442and 3habhhahah\n",
            "this is tehb mode time [22.04, 23.94, 22.63, 21.54, 21.61, 21.81, 23.7, 22.21]\n",
            "This is ths last time not a fantasy 21.489500999450684and 2habhhahah\n",
            "this is tehb mode time [22.04, 23.94, 22.63, 21.54, 21.61, 21.81, 23.7, 22.21, 21.49]\n",
            "This is ths last time not a fantasy 21.529677152633667and 4habhhahah\n",
            "this is tehb mode time [22.04, 23.94, 22.63, 21.54, 21.61, 21.81, 23.7, 22.21, 21.49, 21.53]\n",
            "Yeh h modest valueueueueuModeResult(mode=21.49, count=1)\n",
            "yeh h server round 3\n",
            "this is the min value 1.0 and this is the max value 21.49\n",
            "The epochs for the higher lr is 9 and the epochs for the standard lr is 10\n",
            "This is the last time 22.036330699920654\n",
            "This is the last time 23.938721895217896\n",
            "This is the last time 22.627832651138306\n",
            "This is the last time 21.539668798446655\n",
            "This is the last time 21.613659381866455\n",
            "This is the last time 21.81064510345459\n",
            "This is the last time 23.696176528930664\n",
            "This is the last time 22.213086366653442\n",
            "This is the last time 21.489500999450684\n",
            "This is the last time 21.529677152633667\n",
            "\u001b[36m(ClientAppActor pid=48296)\u001b[0m [Client 6] fit, config: {'lr': 0.0001, 'epochs': 9}\n",
            "\u001b[36m(ClientAppActor pid=48296)\u001b[0m Epoch 0: train loss 0.002255, accuracy 0.977963\u001b[32m [repeated 4x across cluster]\u001b[0m\n",
            "\u001b[36m(ClientAppActor pid=48296)\u001b[0m Training time for Client 9: 23.94 seconds\n",
            "\u001b[36m(ClientAppActor pid=55460)\u001b[0m [Client 7] evaluate, config: {}\u001b[32m [repeated 9x across cluster]\u001b[0m\n",
            "\u001b[36m(ClientAppActor pid=35596)\u001b[0m [Client 3] fit, config: {'lr': 0.0001, 'epochs': 9}\u001b[32m [repeated 7x across cluster]\u001b[0m\n",
            "\u001b[36m(ClientAppActor pid=17072)\u001b[0m Epoch 2: train loss 0.000809, accuracy 0.991667\u001b[32m [repeated 17x across cluster]\u001b[0m\n",
            "\u001b[36m(ClientAppActor pid=46776)\u001b[0m Epoch 4: train loss 0.000497, accuracy 0.995185\u001b[32m [repeated 20x across cluster]\u001b[0m\n",
            "\u001b[36m(ClientAppActor pid=35596)\u001b[0m Epoch 6: train loss 0.000566, accuracy 0.993704\u001b[32m [repeated 18x across cluster]\u001b[0m\n",
            "\u001b[36m(ClientAppActor pid=17132)\u001b[0m Training time for Client 7: 21.36 seconds\n",
            "\u001b[36m(ClientAppActor pid=17132)\u001b[0m [Client 2] fit, config: {'lr': 0.001, 'epochs': 10}\n",
            "\u001b[36m(ClientAppActor pid=17132)\u001b[0m Epoch 0: train loss 0.002171, accuracy 0.981111\u001b[32m [repeated 17x across cluster]\u001b[0m\n",
            "\u001b[36m(ClientAppActor pid=35596)\u001b[0m Training time for Client 3: 21.97 seconds\u001b[32m [repeated 7x across cluster]\u001b[0m\n",
            "\u001b[36m(ClientAppActor pid=55460)\u001b[0m [Client 4] fit, config: {'lr': 0.0001, 'epochs': 9}\n",
            "\u001b[36m(ClientAppActor pid=17132)\u001b[0m Epoch 2: train loss 0.000757, accuracy 0.993148\u001b[32m [repeated 4x across cluster]\u001b[0m\n",
            "\u001b[36m(ClientAppActor pid=17132)\u001b[0m Epoch 4: train loss 0.000624, accuracy 0.992778\u001b[32m [repeated 4x across cluster]\u001b[0m\n",
            "\u001b[36m(ClientAppActor pid=17132)\u001b[0m Epoch 6: train loss 0.000440, accuracy 0.994630\u001b[32m [repeated 4x across cluster]\u001b[0m\n",
            "\u001b[36m(ClientAppActor pid=17132)\u001b[0m Epoch 8: train loss 0.000397, accuracy 0.995926\u001b[32m [repeated 4x across cluster]\u001b[0m\n",
            "\u001b[36m(ClientAppActor pid=55460)\u001b[0m Training time for Client 4: 24.35 seconds\n"
          ]
        },
        {
          "name": "stderr",
          "output_type": "stream",
          "text": [
            "\u001b[92mINFO \u001b[0m:      aggregate_fit: received 10 results and 0 failures\n",
            "\u001b[92mINFO \u001b[0m:      configure_evaluate: strategy sampled 10 clients (out of 10)\n"
          ]
        },
        {
          "name": "stdout",
          "output_type": "stream",
          "text": [
            "\u001b[36m(ClientAppActor pid=17132)\u001b[0m [Client 7] evaluate, config: {}\n"
          ]
        },
        {
          "name": "stderr",
          "output_type": "stream",
          "text": [
            "\u001b[92mINFO \u001b[0m:      aggregate_evaluate: received 10 results and 0 failures\n",
            "\u001b[92mINFO \u001b[0m:      \n",
            "\u001b[92mINFO \u001b[0m:      [ROUND 4]\n",
            "\u001b[92mINFO \u001b[0m:      configure_fit: strategy sampled 10 clients (out of 10)\n"
          ]
        },
        {
          "name": "stdout",
          "output_type": "stream",
          "text": [
            "This is ths last time not a fantasy 21.968544483184814and 3habhhahah\n",
            "this is tehb mode time [21.97]\n",
            "This is ths last time not a fantasy 24.34505319595337and 4habhhahah\n",
            "this is tehb mode time [21.97, 24.35]\n",
            "This is ths last time not a fantasy 22.025962352752686and 6habhhahah\n",
            "this is tehb mode time [21.97, 24.35, 22.03]\n",
            "This is ths last time not a fantasy 21.595277786254883and 8habhhahah\n",
            "this is tehb mode time [21.97, 24.35, 22.03, 21.6]\n",
            "This is ths last time not a fantasy 21.5461585521698and 0habhhahah\n",
            "this is tehb mode time [21.97, 24.35, 22.03, 21.6, 21.55]\n",
            "This is ths last time not a fantasy 21.98477554321289and 5habhhahah\n",
            "this is tehb mode time [21.97, 24.35, 22.03, 21.6, 21.55, 21.98]\n",
            "This is ths last time not a fantasy 21.797775506973267and 1habhhahah\n",
            "this is tehb mode time [21.97, 24.35, 22.03, 21.6, 21.55, 21.98, 21.8]\n",
            "This is ths last time not a fantasy 21.36226749420166and 7habhhahah\n",
            "this is tehb mode time [21.97, 24.35, 22.03, 21.6, 21.55, 21.98, 21.8, 21.36]\n",
            "This is ths last time not a fantasy 21.728957653045654and 9habhhahah\n",
            "this is tehb mode time [21.97, 24.35, 22.03, 21.6, 21.55, 21.98, 21.8, 21.36, 21.73]\n",
            "This is ths last time not a fantasy 26.476112604141235and 2habhhahah\n",
            "this is tehb mode time [21.97, 24.35, 22.03, 21.6, 21.55, 21.98, 21.8, 21.36, 21.73, 26.48]\n",
            "Yeh h modest valueueueueuModeResult(mode=21.36, count=1)\n",
            "yeh h server round 4\n",
            "this is the min value 1.0 and this is the max value 21.36\n",
            "The epochs for the higher lr is 9 and the epochs for the standard lr is 10\n",
            "This is the last time 21.968544483184814\n",
            "This is the last time 24.34505319595337\n",
            "This is the last time 22.025962352752686\n",
            "This is the last time 21.595277786254883\n",
            "This is the last time 21.5461585521698\n",
            "This is the last time 21.98477554321289\n",
            "This is the last time 21.797775506973267\n",
            "This is the last time 21.36226749420166\n",
            "This is the last time 21.728957653045654\n",
            "This is the last time 26.476112604141235\n",
            "\u001b[36m(ClientAppActor pid=55460)\u001b[0m [Client 3] fit, config: {'lr': 0.0001, 'epochs': 9}\n",
            "\u001b[36m(ClientAppActor pid=55460)\u001b[0m Epoch 0: train loss 0.001962, accuracy 0.982407\u001b[32m [repeated 3x across cluster]\u001b[0m\n",
            "\u001b[36m(ClientAppActor pid=17132)\u001b[0m Training time for Client 2: 26.48 seconds\n",
            "\u001b[36m(ClientAppActor pid=55460)\u001b[0m [Client 6] evaluate, config: {}\u001b[32m [repeated 9x across cluster]\u001b[0m\n",
            "\u001b[36m(ClientAppActor pid=35596)\u001b[0m [Client 7] fit, config: {'lr': 0.0001, 'epochs': 9}\u001b[32m [repeated 7x across cluster]\u001b[0m\n",
            "\u001b[36m(ClientAppActor pid=17072)\u001b[0m Epoch 2: train loss 0.000338, accuracy 0.996296\u001b[32m [repeated 18x across cluster]\u001b[0m\n",
            "\u001b[36m(ClientAppActor pid=48296)\u001b[0m Epoch 4: train loss 0.000460, accuracy 0.995741\u001b[32m [repeated 19x across cluster]\u001b[0m\n",
            "\u001b[36m(ClientAppActor pid=48296)\u001b[0m Epoch 6: train loss 0.000309, accuracy 0.997407\u001b[32m [repeated 16x across cluster]\u001b[0m\n",
            "\u001b[36m(ClientAppActor pid=55460)\u001b[0m Training time for Client 3: 21.89 seconds\n",
            "\u001b[36m(ClientAppActor pid=17132)\u001b[0m [Client 9] fit, config: {'lr': 0.0001, 'epochs': 9}\n",
            "\u001b[36m(ClientAppActor pid=46776)\u001b[0m Epoch 8: train loss 0.000428, accuracy 0.995000\u001b[32m [repeated 18x across cluster]\u001b[0m\n",
            "\u001b[36m(ClientAppActor pid=46776)\u001b[0m Training time for Client 1: 21.95 seconds\u001b[32m [repeated 7x across cluster]\u001b[0m\n",
            "\u001b[36m(ClientAppActor pid=55460)\u001b[0m [Client 2] fit, config: {'lr': 0.0001, 'epochs': 9}\n",
            "\u001b[36m(ClientAppActor pid=55460)\u001b[0m Epoch 2: train loss 0.000482, accuracy 0.995370\u001b[32m [repeated 5x across cluster]\u001b[0m\n",
            "\u001b[36m(ClientAppActor pid=17132)\u001b[0m Epoch 4: train loss 0.000237, accuracy 0.998333\u001b[32m [repeated 4x across cluster]\u001b[0m\n",
            "\u001b[36m(ClientAppActor pid=17132)\u001b[0m Epoch 6: train loss 0.000141, accuracy 0.998889\u001b[32m [repeated 4x across cluster]\u001b[0m\n",
            "\u001b[36m(ClientAppActor pid=17132)\u001b[0m Training time for Client 9: 23.67 seconds\n",
            "\u001b[36m(ClientAppActor pid=17132)\u001b[0m Epoch 8: train loss 0.000009, accuracy 1.000000\u001b[32m [repeated 4x across cluster]\u001b[0m\n"
          ]
        },
        {
          "name": "stderr",
          "output_type": "stream",
          "text": [
            "\u001b[92mINFO \u001b[0m:      aggregate_fit: received 10 results and 0 failures\n",
            "\u001b[92mINFO \u001b[0m:      configure_evaluate: strategy sampled 10 clients (out of 10)\n"
          ]
        },
        {
          "name": "stdout",
          "output_type": "stream",
          "text": [
            "\u001b[36m(ClientAppActor pid=55460)\u001b[0m [Client 6] evaluate, config: {}\n"
          ]
        },
        {
          "name": "stderr",
          "output_type": "stream",
          "text": [
            "\u001b[92mINFO \u001b[0m:      aggregate_evaluate: received 10 results and 0 failures\n",
            "\u001b[92mINFO \u001b[0m:      \n",
            "\u001b[92mINFO \u001b[0m:      [ROUND 5]\n",
            "\u001b[92mINFO \u001b[0m:      configure_fit: strategy sampled 10 clients (out of 10)\n"
          ]
        },
        {
          "name": "stdout",
          "output_type": "stream",
          "text": [
            "This is ths last time not a fantasy 21.679848670959473and 4habhhahah\n",
            "this is tehb mode time [21.68]\n",
            "This is ths last time not a fantasy 23.670470237731934and 9habhhahah\n",
            "this is tehb mode time [21.68, 23.67]\n",
            "This is ths last time not a fantasy 21.947325229644775and 1habhhahah\n",
            "this is tehb mode time [21.68, 23.67, 21.95]\n",
            "This is ths last time not a fantasy 22.169298887252808and 6habhhahah\n",
            "this is tehb mode time [21.68, 23.67, 21.95, 22.17]\n",
            "This is ths last time not a fantasy 21.416990995407104and 5habhhahah\n",
            "this is tehb mode time [21.68, 23.67, 21.95, 22.17, 21.42]\n",
            "This is ths last time not a fantasy 21.62773609161377and 7habhhahah\n",
            "this is tehb mode time [21.68, 23.67, 21.95, 22.17, 21.42, 21.63]\n",
            "This is ths last time not a fantasy 21.88986825942993and 3habhhahah\n",
            "this is tehb mode time [21.68, 23.67, 21.95, 22.17, 21.42, 21.63, 21.89]\n",
            "This is ths last time not a fantasy 21.703096866607666and 8habhhahah\n",
            "this is tehb mode time [21.68, 23.67, 21.95, 22.17, 21.42, 21.63, 21.89, 21.7]\n",
            "This is ths last time not a fantasy 24.114009618759155and 2habhhahah\n",
            "this is tehb mode time [21.68, 23.67, 21.95, 22.17, 21.42, 21.63, 21.89, 21.7, 24.11]\n",
            "This is ths last time not a fantasy 21.790497064590454and 0habhhahah\n",
            "this is tehb mode time [21.68, 23.67, 21.95, 22.17, 21.42, 21.63, 21.89, 21.7, 24.11, 21.79]\n",
            "Yeh h modest valueueueueuModeResult(mode=21.42, count=1)\n",
            "yeh h server round 5\n",
            "this is the min value 1.0 and this is the max value 21.42\n",
            "The epochs for the higher lr is 9 and the epochs for the standard lr is 10\n",
            "This is the last time 21.679848670959473\n",
            "This is the last time 23.670470237731934\n",
            "This is the last time 21.947325229644775\n",
            "This is the last time 22.169298887252808\n",
            "This is the last time 21.416990995407104\n",
            "This is the last time 21.62773609161377\n",
            "This is the last time 21.88986825942993\n",
            "This is the last time 21.703096866607666\n",
            "This is the last time 24.114009618759155\n",
            "This is the last time 21.790497064590454\n",
            "\u001b[36m(ClientAppActor pid=17132)\u001b[0m [Client 4] fit, config: {'lr': 0.0001, 'epochs': 9}\n",
            "\u001b[36m(ClientAppActor pid=55460)\u001b[0m Training time for Client 2: 24.11 seconds\n",
            "\u001b[36m(ClientAppActor pid=48296)\u001b[0m Epoch 0: train loss 0.001456, accuracy 0.987037\u001b[32m [repeated 7x across cluster]\u001b[0m\n",
            "\u001b[36m(ClientAppActor pid=17132)\u001b[0m [Client 4] evaluate, config: {}\u001b[32m [repeated 9x across cluster]\u001b[0m\n",
            "\u001b[36m(ClientAppActor pid=46776)\u001b[0m [Client 8] fit, config: {'lr': 0.0001, 'epochs': 9}\u001b[32m [repeated 7x across cluster]\u001b[0m\n",
            "\u001b[36m(ClientAppActor pid=46776)\u001b[0m Epoch 2: train loss 0.000214, accuracy 0.997963\u001b[32m [repeated 18x across cluster]\u001b[0m\n",
            "\u001b[36m(ClientAppActor pid=55460)\u001b[0m Epoch 5: train loss 0.000100, accuracy 0.999259\u001b[32m [repeated 17x across cluster]\u001b[0m\n",
            "\u001b[36m(ClientAppActor pid=39072)\u001b[0m Epoch 7: train loss 0.000445, accuracy 0.995370\u001b[32m [repeated 18x across cluster]\u001b[0m\n",
            "\u001b[36m(ClientAppActor pid=17132)\u001b[0m Training time for Client 4: 21.52 seconds\n",
            "\u001b[36m(ClientAppActor pid=17132)\u001b[0m [Client 2] fit, config: {'lr': 0.0001, 'epochs': 9}\n",
            "\u001b[36m(ClientAppActor pid=17072)\u001b[0m Epoch 9: train loss 0.000007, accuracy 1.000000\u001b[32m [repeated 16x across cluster]\u001b[0m\n",
            "\u001b[36m(ClientAppActor pid=17072)\u001b[0m Training time for Client 5: 24.35 seconds\u001b[32m [repeated 7x across cluster]\u001b[0m\n",
            "\u001b[36m(ClientAppActor pid=55460)\u001b[0m [Client 0] fit, config: {'lr': 0.0001, 'epochs': 9}\n",
            "\u001b[36m(ClientAppActor pid=17132)\u001b[0m Epoch 3: train loss 0.000213, accuracy 0.998519\u001b[32m [repeated 5x across cluster]\u001b[0m\n",
            "\u001b[36m(ClientAppActor pid=17132)\u001b[0m Epoch 5: train loss 0.000199, accuracy 0.998519\u001b[32m [repeated 4x across cluster]\u001b[0m\n",
            "\u001b[36m(ClientAppActor pid=17132)\u001b[0m Epoch 7: train loss 0.000433, accuracy 0.996111\u001b[32m [repeated 4x across cluster]\u001b[0m\n"
          ]
        },
        {
          "name": "stderr",
          "output_type": "stream",
          "text": [
            "\u001b[92mINFO \u001b[0m:      aggregate_fit: received 10 results and 0 failures\n"
          ]
        },
        {
          "name": "stdout",
          "output_type": "stream",
          "text": [
            "\u001b[36m(ClientAppActor pid=17132)\u001b[0m Training time for Client 2: 23.70 seconds\n"
          ]
        },
        {
          "name": "stderr",
          "output_type": "stream",
          "text": [
            "\u001b[92mINFO \u001b[0m:      configure_evaluate: strategy sampled 10 clients (out of 10)\n"
          ]
        },
        {
          "name": "stdout",
          "output_type": "stream",
          "text": [
            "\u001b[36m(ClientAppActor pid=55460)\u001b[0m [Client 5] evaluate, config: {}\n"
          ]
        },
        {
          "name": "stderr",
          "output_type": "stream",
          "text": [
            "\u001b[92mINFO \u001b[0m:      aggregate_evaluate: received 10 results and 0 failures\n",
            "\u001b[92mINFO \u001b[0m:      \n",
            "\u001b[92mINFO \u001b[0m:      [ROUND 6]\n",
            "\u001b[92mINFO \u001b[0m:      configure_fit: strategy sampled 10 clients (out of 10)\n"
          ]
        },
        {
          "name": "stdout",
          "output_type": "stream",
          "text": [
            "This is ths last time not a fantasy 21.640974521636963and 3habhhahah\n",
            "this is tehb mode time [21.64]\n",
            "This is ths last time not a fantasy 24.345658779144287and 5habhhahah\n",
            "this is tehb mode time [21.64, 24.35]\n",
            "This is ths last time not a fantasy 21.592890977859497and 9habhhahah\n",
            "this is tehb mode time [21.64, 24.35, 21.59]\n",
            "This is ths last time not a fantasy 21.890350818634033and 8habhhahah\n",
            "this is tehb mode time [21.64, 24.35, 21.59, 21.89]\n",
            "This is ths last time not a fantasy 21.729777574539185and 6habhhahah\n",
            "this is tehb mode time [21.64, 24.35, 21.59, 21.89, 21.73]\n",
            "This is ths last time not a fantasy 21.522324323654175and 4habhhahah\n",
            "this is tehb mode time [21.64, 24.35, 21.59, 21.89, 21.73, 21.52]\n",
            "This is ths last time not a fantasy 21.985349416732788and 1habhhahah\n",
            "this is tehb mode time [21.64, 24.35, 21.59, 21.89, 21.73, 21.52, 21.99]\n",
            "This is ths last time not a fantasy 23.806355476379395and 0habhhahah\n",
            "this is tehb mode time [21.64, 24.35, 21.59, 21.89, 21.73, 21.52, 21.99, 23.81]\n",
            "This is ths last time not a fantasy 23.69754934310913and 2habhhahah\n",
            "this is tehb mode time [21.64, 24.35, 21.59, 21.89, 21.73, 21.52, 21.99, 23.81, 23.7]\n",
            "This is ths last time not a fantasy 21.570882081985474and 7habhhahah\n",
            "this is tehb mode time [21.64, 24.35, 21.59, 21.89, 21.73, 21.52, 21.99, 23.81, 23.7, 21.57]\n",
            "Yeh h modest valueueueueuModeResult(mode=21.52, count=1)\n",
            "yeh h server round 6\n",
            "this is the min value 1.0 and this is the max value 21.52\n",
            "The epochs for the higher lr is 9 and the epochs for the standard lr is 10\n",
            "This is the last time 21.640974521636963\n",
            "This is the last time 24.345658779144287\n",
            "This is the last time 21.592890977859497\n",
            "This is the last time 21.890350818634033\n",
            "This is the last time 21.729777574539185\n",
            "This is the last time 21.522324323654175\n",
            "This is the last time 21.985349416732788\n",
            "This is the last time 23.806355476379395\n",
            "This is the last time 23.69754934310913\n",
            "This is the last time 21.570882081985474\n",
            "\u001b[36m(ClientAppActor pid=17132)\u001b[0m [Client 3] fit, config: {'lr': 0.0001, 'epochs': 9}\n",
            "\u001b[36m(ClientAppActor pid=55460)\u001b[0m Epoch 8: train loss 0.000019, accuracy 0.999815\u001b[32m [repeated 3x across cluster]\u001b[0m\n",
            "\u001b[36m(ClientAppActor pid=55460)\u001b[0m Training time for Client 0: 23.81 seconds\n",
            "\u001b[36m(ClientAppActor pid=17132)\u001b[0m [Client 6] evaluate, config: {}\u001b[32m [repeated 9x across cluster]\u001b[0m\n",
            "\u001b[36m(ClientAppActor pid=17072)\u001b[0m [Client 0] fit, config: {'lr': 0.0001, 'epochs': 9}\u001b[32m [repeated 7x across cluster]\u001b[0m\n",
            "\u001b[36m(ClientAppActor pid=17132)\u001b[0m Epoch 2: train loss 0.000136, accuracy 0.998889\u001b[32m [repeated 17x across cluster]\u001b[0m\n",
            "\u001b[36m(ClientAppActor pid=14124)\u001b[0m Epoch 4: train loss 0.000151, accuracy 0.997778\u001b[32m [repeated 18x across cluster]\u001b[0m\n",
            "\u001b[36m(ClientAppActor pid=48296)\u001b[0m Epoch 6: train loss 0.000004, accuracy 1.000000\u001b[32m [repeated 18x across cluster]\u001b[0m\n",
            "\u001b[36m(ClientAppActor pid=55460)\u001b[0m Training time for Client 5: 21.66 seconds\n",
            "\u001b[36m(ClientAppActor pid=55460)\u001b[0m [Client 2] fit, config: {'lr': 0.0001, 'epochs': 9}\n",
            "\u001b[36m(ClientAppActor pid=17072)\u001b[0m Epoch 8: train loss 0.000329, accuracy 0.996111\u001b[32m [repeated 19x across cluster]\u001b[0m\n",
            "\u001b[36m(ClientAppActor pid=17072)\u001b[0m Training time for Client 0: 21.81 seconds\u001b[32m [repeated 7x across cluster]\u001b[0m\n",
            "\u001b[36m(ClientAppActor pid=17132)\u001b[0m [Client 7] fit, config: {'lr': 0.0001, 'epochs': 9}\n",
            "\u001b[36m(ClientAppActor pid=55460)\u001b[0m Epoch 2: train loss 0.000385, accuracy 0.996296\u001b[32m [repeated 5x across cluster]\u001b[0m\n",
            "\u001b[36m(ClientAppActor pid=55460)\u001b[0m Epoch 4: train loss 0.000024, accuracy 1.000000\u001b[32m [repeated 4x across cluster]\u001b[0m\n",
            "\u001b[36m(ClientAppActor pid=55460)\u001b[0m Epoch 6: train loss 0.000006, accuracy 1.000000\u001b[32m [repeated 4x across cluster]\u001b[0m\n"
          ]
        },
        {
          "name": "stderr",
          "output_type": "stream",
          "text": [
            "\u001b[92mINFO \u001b[0m:      aggregate_fit: received 10 results and 0 failures\n",
            "\u001b[92mINFO \u001b[0m:      configure_evaluate: strategy sampled 10 clients (out of 10)\n"
          ]
        },
        {
          "name": "stdout",
          "output_type": "stream",
          "text": [
            "\u001b[36m(ClientAppActor pid=55460)\u001b[0m Training time for Client 2: 23.43 seconds\n",
            "\u001b[36m(ClientAppActor pid=55460)\u001b[0m Epoch 8: train loss 0.000005, accuracy 1.000000\u001b[32m [repeated 4x across cluster]\u001b[0m\n",
            "\u001b[36m(ClientAppActor pid=17132)\u001b[0m [Client 9] evaluate, config: {}\n"
          ]
        },
        {
          "name": "stderr",
          "output_type": "stream",
          "text": [
            "\u001b[92mINFO \u001b[0m:      aggregate_evaluate: received 10 results and 0 failures\n",
            "\u001b[92mINFO \u001b[0m:      \n",
            "\u001b[92mINFO \u001b[0m:      [ROUND 7]\n",
            "\u001b[92mINFO \u001b[0m:      configure_fit: strategy sampled 10 clients (out of 10)\n"
          ]
        },
        {
          "name": "stdout",
          "output_type": "stream",
          "text": [
            "This is ths last time not a fantasy 21.667766332626343and 1habhhahah\n",
            "this is tehb mode time [21.67]\n",
            "This is ths last time not a fantasy 23.44009804725647and 7habhhahah\n",
            "this is tehb mode time [21.67, 23.44]\n",
            "This is ths last time not a fantasy 21.81783103942871and 3habhhahah\n",
            "this is tehb mode time [21.67, 23.44, 21.82]\n",
            "This is ths last time not a fantasy 21.76784634590149and 4habhhahah\n",
            "this is tehb mode time [21.67, 23.44, 21.82, 21.77]\n",
            "This is ths last time not a fantasy 21.71305513381958and 8habhhahah\n",
            "this is tehb mode time [21.67, 23.44, 21.82, 21.77, 21.71]\n",
            "This is ths last time not a fantasy 22.08194923400879and 9habhhahah\n",
            "this is tehb mode time [21.67, 23.44, 21.82, 21.77, 21.71, 22.08]\n",
            "This is ths last time not a fantasy 21.496780395507812and 6habhhahah\n",
            "this is tehb mode time [21.67, 23.44, 21.82, 21.77, 21.71, 22.08, 21.5]\n",
            "This is ths last time not a fantasy 23.43348503112793and 2habhhahah\n",
            "this is tehb mode time [21.67, 23.44, 21.82, 21.77, 21.71, 22.08, 21.5, 23.43]\n",
            "This is ths last time not a fantasy 21.81335210800171and 0habhhahah\n",
            "this is tehb mode time [21.67, 23.44, 21.82, 21.77, 21.71, 22.08, 21.5, 23.43, 21.81]\n",
            "This is ths last time not a fantasy 21.664960145950317and 5habhhahah\n",
            "this is tehb mode time [21.67, 23.44, 21.82, 21.77, 21.71, 22.08, 21.5, 23.43, 21.81, 21.66]\n",
            "Yeh h modest valueueueueuModeResult(mode=21.5, count=1)\n",
            "yeh h server round 7\n",
            "this is the min value 1.0 and this is the max value 21.5\n",
            "The epochs for the higher lr is 9 and the epochs for the standard lr is 10\n",
            "This is the last time 21.667766332626343\n",
            "This is the last time 23.44009804725647\n",
            "This is the last time 21.81783103942871\n",
            "This is the last time 21.76784634590149\n",
            "This is the last time 21.71305513381958\n",
            "This is the last time 22.08194923400879\n",
            "This is the last time 21.496780395507812\n",
            "This is the last time 23.43348503112793\n",
            "This is the last time 21.81335210800171\n",
            "This is the last time 21.664960145950317\n",
            "\u001b[36m(ClientAppActor pid=17132)\u001b[0m [Client 1] fit, config: {'lr': 0.0001, 'epochs': 9}\n",
            "\u001b[36m(ClientAppActor pid=17132)\u001b[0m Training time for Client 7: 23.44 seconds\n",
            "\u001b[36m(ClientAppActor pid=17132)\u001b[0m Epoch 1: train loss 0.000481, accuracy 0.995556\u001b[32m [repeated 10x across cluster]\u001b[0m\n",
            "\u001b[36m(ClientAppActor pid=17132)\u001b[0m [Client 3] evaluate, config: {}\u001b[32m [repeated 9x across cluster]\u001b[0m\n",
            "\u001b[36m(ClientAppActor pid=46776)\u001b[0m [Client 2] fit, config: {'lr': 0.0001, 'epochs': 9}\u001b[32m [repeated 7x across cluster]\u001b[0m\n",
            "\u001b[36m(ClientAppActor pid=39072)\u001b[0m Epoch 3: train loss 0.000125, accuracy 0.999074\u001b[32m [repeated 17x across cluster]\u001b[0m\n",
            "\u001b[36m(ClientAppActor pid=46776)\u001b[0m Epoch 5: train loss 0.000381, accuracy 0.996667\u001b[32m [repeated 18x across cluster]\u001b[0m\n",
            "\u001b[36m(ClientAppActor pid=17132)\u001b[0m Training time for Client 1: 21.53 seconds\n",
            "\u001b[36m(ClientAppActor pid=17132)\u001b[0m Epoch 8: train loss 0.000295, accuracy 0.997037\u001b[32m [repeated 21x across cluster]\u001b[0m\n",
            "\u001b[36m(ClientAppActor pid=55460)\u001b[0m [Client 5] fit, config: {'lr': 0.0001, 'epochs': 9}\n",
            "\u001b[36m(ClientAppActor pid=17072)\u001b[0m Training time for Client 6: 24.33 seconds\u001b[32m [repeated 7x across cluster]\u001b[0m\n",
            "\u001b[36m(ClientAppActor pid=17132)\u001b[0m Epoch 1: train loss 0.000372, accuracy 0.995370\u001b[32m [repeated 11x across cluster]\u001b[0m\n",
            "\u001b[36m(ClientAppActor pid=17132)\u001b[0m [Client 0] fit, config: {'lr': 0.0001, 'epochs': 9}\n",
            "\u001b[36m(ClientAppActor pid=17132)\u001b[0m Epoch 3: train loss 0.000118, accuracy 0.998704\u001b[32m [repeated 4x across cluster]\u001b[0m\n",
            "\u001b[36m(ClientAppActor pid=17132)\u001b[0m Epoch 5: train loss 0.000357, accuracy 0.996481\u001b[32m [repeated 4x across cluster]\u001b[0m\n",
            "\u001b[36m(ClientAppActor pid=17132)\u001b[0m Epoch 7: train loss 0.000465, accuracy 0.994444\u001b[32m [repeated 4x across cluster]\u001b[0m\n"
          ]
        },
        {
          "name": "stderr",
          "output_type": "stream",
          "text": [
            "\u001b[92mINFO \u001b[0m:      aggregate_fit: received 10 results and 0 failures\n",
            "\u001b[92mINFO \u001b[0m:      configure_evaluate: strategy sampled 10 clients (out of 10)\n"
          ]
        },
        {
          "name": "stdout",
          "output_type": "stream",
          "text": [
            "\u001b[36m(ClientAppActor pid=17132)\u001b[0m Training time for Client 0: 23.03 seconds\n",
            "\u001b[36m(ClientAppActor pid=55460)\u001b[0m [Client 7] evaluate, config: {}\n"
          ]
        },
        {
          "name": "stderr",
          "output_type": "stream",
          "text": [
            "\u001b[92mINFO \u001b[0m:      aggregate_evaluate: received 10 results and 0 failures\n",
            "\u001b[92mINFO \u001b[0m:      \n",
            "\u001b[92mINFO \u001b[0m:      [ROUND 8]\n",
            "\u001b[92mINFO \u001b[0m:      configure_fit: strategy sampled 10 clients (out of 10)\n"
          ]
        },
        {
          "name": "stdout",
          "output_type": "stream",
          "text": [
            "This is ths last time not a fantasy 21.534811973571777and 1habhhahah\n",
            "this is tehb mode time [21.53]\n",
            "This is ths last time not a fantasy 22.003129243850708and 8habhhahah\n",
            "this is tehb mode time [21.53, 22.0]\n",
            "This is ths last time not a fantasy 21.33879828453064and 3habhhahah\n",
            "this is tehb mode time [21.53, 22.0, 21.34]\n",
            "This is ths last time not a fantasy 21.9541335105896and 4habhhahah\n",
            "this is tehb mode time [21.53, 22.0, 21.34, 21.95]\n",
            "This is ths last time not a fantasy 24.329416513442993and 6habhhahah\n",
            "this is tehb mode time [21.53, 22.0, 21.34, 21.95, 24.33]\n",
            "This is ths last time not a fantasy 21.55490231513977and 2habhhahah\n",
            "this is tehb mode time [21.53, 22.0, 21.34, 21.95, 24.33, 21.55]\n",
            "This is ths last time not a fantasy 23.099246501922607and 5habhhahah\n",
            "this is tehb mode time [21.53, 22.0, 21.34, 21.95, 24.33, 21.55, 23.1]\n",
            "This is ths last time not a fantasy 21.65986180305481and 9habhhahah\n",
            "this is tehb mode time [21.53, 22.0, 21.34, 21.95, 24.33, 21.55, 23.1, 21.66]\n",
            "This is ths last time not a fantasy 23.02608823776245and 0habhhahah\n",
            "this is tehb mode time [21.53, 22.0, 21.34, 21.95, 24.33, 21.55, 23.1, 21.66, 23.03]\n",
            "This is ths last time not a fantasy 21.63080406188965and 7habhhahah\n",
            "this is tehb mode time [21.53, 22.0, 21.34, 21.95, 24.33, 21.55, 23.1, 21.66, 23.03, 21.63]\n",
            "Yeh h modest valueueueueuModeResult(mode=21.34, count=1)\n",
            "yeh h server round 8\n",
            "this is the min value 1.0 and this is the max value 21.34\n",
            "The epochs for the higher lr is 9 and the epochs for the standard lr is 10\n",
            "This is the last time 21.534811973571777\n",
            "This is the last time 22.003129243850708\n",
            "This is the last time 21.33879828453064\n",
            "This is the last time 21.9541335105896\n",
            "This is the last time 24.329416513442993\n",
            "This is the last time 21.55490231513977\n",
            "This is the last time 23.099246501922607\n",
            "This is the last time 21.65986180305481\n",
            "This is the last time 23.02608823776245\n",
            "This is the last time 21.63080406188965\n",
            "\u001b[36m(ClientAppActor pid=55460)\u001b[0m [Client 8] fit, config: {'lr': 0.0001, 'epochs': 9}\n",
            "\u001b[36m(ClientAppActor pid=55460)\u001b[0m Epoch 0: train loss 0.001052, accuracy 0.991296\u001b[32m [repeated 4x across cluster]\u001b[0m\n",
            "\u001b[36m(ClientAppActor pid=55460)\u001b[0m Training time for Client 5: 23.10 seconds\n",
            "\u001b[36m(ClientAppActor pid=17132)\u001b[0m [Client 8] evaluate, config: {}\u001b[32m [repeated 9x across cluster]\u001b[0m\n",
            "\u001b[36m(ClientAppActor pid=17072)\u001b[0m [Client 9] fit, config: {'lr': 0.0001, 'epochs': 9}\u001b[32m [repeated 7x across cluster]\u001b[0m\n",
            "\u001b[36m(ClientAppActor pid=48296)\u001b[0m Epoch 2: train loss 0.000096, accuracy 0.998519\u001b[32m [repeated 19x across cluster]\u001b[0m\n",
            "\u001b[36m(ClientAppActor pid=17072)\u001b[0m Epoch 4: train loss 0.000055, accuracy 0.999259\u001b[32m [repeated 20x across cluster]\u001b[0m\n",
            "\u001b[36m(ClientAppActor pid=17132)\u001b[0m Epoch 7: train loss 0.000001, accuracy 1.000000\u001b[32m [repeated 17x across cluster]\u001b[0m\n",
            "\u001b[36m(ClientAppActor pid=17132)\u001b[0m Training time for Client 1: 21.69 seconds\n",
            "\u001b[36m(ClientAppActor pid=17132)\u001b[0m [Client 0] fit, config: {'lr': 0.0001, 'epochs': 9}\n",
            "\u001b[36m(ClientAppActor pid=17132)\u001b[0m Epoch 0: train loss 0.001046, accuracy 0.991481\u001b[32m [repeated 16x across cluster]\u001b[0m\n",
            "\u001b[36m(ClientAppActor pid=35596)\u001b[0m Training time for Client 3: 24.62 seconds\u001b[32m [repeated 7x across cluster]\u001b[0m\n",
            "\u001b[36m(ClientAppActor pid=55460)\u001b[0m [Client 7] fit, config: {'lr': 0.0001, 'epochs': 9}\n",
            "\u001b[36m(ClientAppActor pid=55460)\u001b[0m Epoch 2: train loss 0.000359, accuracy 0.995556\u001b[32m [repeated 5x across cluster]\u001b[0m\n",
            "\u001b[36m(ClientAppActor pid=55460)\u001b[0m Epoch 4: train loss 0.000025, accuracy 0.999815\u001b[32m [repeated 4x across cluster]\u001b[0m\n",
            "\u001b[36m(ClientAppActor pid=55460)\u001b[0m Epoch 6: train loss 0.000003, accuracy 1.000000\u001b[32m [repeated 4x across cluster]\u001b[0m\n",
            "\u001b[36m(ClientAppActor pid=55460)\u001b[0m Training time for Client 7: 23.52 seconds\n",
            "\u001b[36m(ClientAppActor pid=55460)\u001b[0m Epoch 8: train loss 0.000002, accuracy 1.000000\u001b[32m [repeated 4x across cluster]\u001b[0m\n"
          ]
        },
        {
          "name": "stderr",
          "output_type": "stream",
          "text": [
            "\u001b[92mINFO \u001b[0m:      aggregate_fit: received 10 results and 0 failures\n",
            "\u001b[92mINFO \u001b[0m:      configure_evaluate: strategy sampled 10 clients (out of 10)\n"
          ]
        },
        {
          "name": "stdout",
          "output_type": "stream",
          "text": [
            "\u001b[36m(ClientAppActor pid=17132)\u001b[0m [Client 4] evaluate, config: {}\n"
          ]
        },
        {
          "name": "stderr",
          "output_type": "stream",
          "text": [
            "\u001b[92mINFO \u001b[0m:      aggregate_evaluate: received 10 results and 0 failures\n",
            "\u001b[92mINFO \u001b[0m:      \n",
            "\u001b[92mINFO \u001b[0m:      [ROUND 9]\n",
            "\u001b[92mINFO \u001b[0m:      configure_fit: strategy sampled 10 clients (out of 10)\n"
          ]
        },
        {
          "name": "stdout",
          "output_type": "stream",
          "text": [
            "This is ths last time not a fantasy 21.687100887298584and 1habhhahah\n",
            "this is tehb mode time [21.69]\n",
            "This is ths last time not a fantasy 24.61510181427002and 3habhhahah\n",
            "this is tehb mode time [21.69, 24.62]\n",
            "This is ths last time not a fantasy 21.619046688079834and 2habhhahah\n",
            "this is tehb mode time [21.69, 24.62, 21.62]\n",
            "This is ths last time not a fantasy 23.51845669746399and 7habhhahah\n",
            "this is tehb mode time [21.69, 24.62, 21.62, 23.52]\n",
            "This is ths last time not a fantasy 21.65908932685852and 4habhhahah\n",
            "this is tehb mode time [21.69, 24.62, 21.62, 23.52, 21.66]\n",
            "This is ths last time not a fantasy 21.8396315574646and 6habhhahah\n",
            "this is tehb mode time [21.69, 24.62, 21.62, 23.52, 21.66, 21.84]\n",
            "This is ths last time not a fantasy 21.800997257232666and 8habhhahah\n",
            "this is tehb mode time [21.69, 24.62, 21.62, 23.52, 21.66, 21.84, 21.8]\n",
            "This is ths last time not a fantasy 21.956535816192627and 9habhhahah\n",
            "this is tehb mode time [21.69, 24.62, 21.62, 23.52, 21.66, 21.84, 21.8, 21.96]\n",
            "This is ths last time not a fantasy 21.51290988922119and 5habhhahah\n",
            "this is tehb mode time [21.69, 24.62, 21.62, 23.52, 21.66, 21.84, 21.8, 21.96, 21.51]\n",
            "This is ths last time not a fantasy 23.854151248931885and 0habhhahah\n",
            "this is tehb mode time [21.69, 24.62, 21.62, 23.52, 21.66, 21.84, 21.8, 21.96, 21.51, 23.85]\n",
            "Yeh h modest valueueueueuModeResult(mode=21.51, count=1)\n",
            "yeh h server round 9\n",
            "this is the min value 1.0 and this is the max value 21.51\n",
            "The epochs for the higher lr is 9 and the epochs for the standard lr is 10\n",
            "This is the last time 21.687100887298584\n",
            "This is the last time 24.61510181427002\n",
            "This is the last time 21.619046688079834\n",
            "This is the last time 23.51845669746399\n",
            "This is the last time 21.65908932685852\n",
            "This is the last time 21.8396315574646\n",
            "This is the last time 21.800997257232666\n",
            "This is the last time 21.956535816192627\n",
            "This is the last time 21.51290988922119\n",
            "This is the last time 23.854151248931885\n",
            "\u001b[36m(ClientAppActor pid=55460)\u001b[0m [Client 1] fit, config: {'lr': 0.0001, 'epochs': 9}\n",
            "\u001b[36m(ClientAppActor pid=17132)\u001b[0m Training time for Client 0: 23.85 seconds\n",
            "\u001b[36m(ClientAppActor pid=39072)\u001b[0m Epoch 1: train loss 0.000206, accuracy 0.997037\u001b[32m [repeated 10x across cluster]\u001b[0m\n",
            "\u001b[36m(ClientAppActor pid=55460)\u001b[0m [Client 0] evaluate, config: {}\u001b[32m [repeated 9x across cluster]\u001b[0m\n",
            "\u001b[36m(ClientAppActor pid=17072)\u001b[0m [Client 9] fit, config: {'lr': 0.0001, 'epochs': 9}\u001b[32m [repeated 7x across cluster]\u001b[0m\n",
            "\u001b[36m(ClientAppActor pid=14124)\u001b[0m Epoch 3: train loss 0.000481, accuracy 0.996111\u001b[32m [repeated 21x across cluster]\u001b[0m\n",
            "\u001b[36m(ClientAppActor pid=48296)\u001b[0m Epoch 5: train loss 0.000723, accuracy 0.993333\u001b[32m [repeated 18x across cluster]\u001b[0m\n",
            "\u001b[36m(ClientAppActor pid=55460)\u001b[0m Training time for Client 1: 21.44 seconds\n",
            "\u001b[36m(ClientAppActor pid=55460)\u001b[0m Epoch 8: train loss 0.000002, accuracy 1.000000\u001b[32m [repeated 17x across cluster]\u001b[0m\n",
            "\u001b[36m(ClientAppActor pid=55460)\u001b[0m [Client 5] fit, config: {'lr': 0.0001, 'epochs': 9}\n",
            "\u001b[36m(ClientAppActor pid=48296)\u001b[0m Training time for Client 8: 21.79 seconds\u001b[32m [repeated 7x across cluster]\u001b[0m\n",
            "\u001b[36m(ClientAppActor pid=55460)\u001b[0m Epoch 1: train loss 0.000432, accuracy 0.996852\u001b[32m [repeated 10x across cluster]\u001b[0m\n",
            "\u001b[36m(ClientAppActor pid=39072)\u001b[0m [Client 0] fit, config: {'lr': 0.0001, 'epochs': 9}\n",
            "\u001b[36m(ClientAppActor pid=55460)\u001b[0m Epoch 3: train loss 0.000045, accuracy 0.999630\u001b[32m [repeated 4x across cluster]\u001b[0m\n",
            "\u001b[36m(ClientAppActor pid=39072)\u001b[0m Epoch 5: train loss 0.000261, accuracy 0.997593\u001b[32m [repeated 4x across cluster]\u001b[0m\n",
            "\u001b[36m(ClientAppActor pid=39072)\u001b[0m Epoch 7: train loss 0.000259, accuracy 0.997778\u001b[32m [repeated 4x across cluster]\u001b[0m\n"
          ]
        },
        {
          "name": "stderr",
          "output_type": "stream",
          "text": [
            "\u001b[92mINFO \u001b[0m:      aggregate_fit: received 10 results and 0 failures\n",
            "\u001b[92mINFO \u001b[0m:      configure_evaluate: strategy sampled 10 clients (out of 10)\n"
          ]
        },
        {
          "name": "stdout",
          "output_type": "stream",
          "text": [
            "\u001b[36m(ClientAppActor pid=39072)\u001b[0m Training time for Client 0: 23.78 seconds\n",
            "\u001b[36m(ClientAppActor pid=55460)\u001b[0m [Client 4] evaluate, config: {}\n"
          ]
        },
        {
          "name": "stderr",
          "output_type": "stream",
          "text": [
            "\u001b[92mINFO \u001b[0m:      aggregate_evaluate: received 10 results and 0 failures\n",
            "\u001b[92mINFO \u001b[0m:      \n",
            "\u001b[92mINFO \u001b[0m:      [ROUND 10]\n",
            "\u001b[92mINFO \u001b[0m:      configure_fit: strategy sampled 10 clients (out of 10)\n"
          ]
        },
        {
          "name": "stdout",
          "output_type": "stream",
          "text": [
            "This is ths last time not a fantasy 23.78054666519165and 0habhhahah\n",
            "this is tehb mode time [23.78]\n",
            "This is ths last time not a fantasy 24.08534264564514and 5habhhahah\n",
            "this is tehb mode time [23.78, 24.09]\n",
            "This is ths last time not a fantasy 21.192559003829956and 9habhhahah\n",
            "this is tehb mode time [23.78, 24.09, 21.19]\n",
            "This is ths last time not a fantasy 21.764148235321045and 7habhhahah\n",
            "this is tehb mode time [23.78, 24.09, 21.19, 21.76]\n",
            "This is ths last time not a fantasy 21.551324367523193and 6habhhahah\n",
            "this is tehb mode time [23.78, 24.09, 21.19, 21.76, 21.55]\n",
            "This is ths last time not a fantasy 21.7855327129364and 8habhhahah\n",
            "this is tehb mode time [23.78, 24.09, 21.19, 21.76, 21.55, 21.79]\n",
            "This is ths last time not a fantasy 21.444472789764404and 1habhhahah\n",
            "this is tehb mode time [23.78, 24.09, 21.19, 21.76, 21.55, 21.79, 21.44]\n",
            "This is ths last time not a fantasy 21.87493085861206and 3habhhahah\n",
            "this is tehb mode time [23.78, 24.09, 21.19, 21.76, 21.55, 21.79, 21.44, 21.87]\n",
            "This is ths last time not a fantasy 21.643282413482666and 4habhhahah\n",
            "this is tehb mode time [23.78, 24.09, 21.19, 21.76, 21.55, 21.79, 21.44, 21.87, 21.64]\n",
            "This is ths last time not a fantasy 21.525379180908203and 2habhhahah\n",
            "this is tehb mode time [23.78, 24.09, 21.19, 21.76, 21.55, 21.79, 21.44, 21.87, 21.64, 21.53]\n",
            "Yeh h modest valueueueueuModeResult(mode=21.19, count=1)\n",
            "yeh h server round 10\n",
            "this is the min value 1.0 and this is the max value 21.19\n",
            "The epochs for the higher lr is 9 and the epochs for the standard lr is 10\n",
            "This is the last time 23.78054666519165\n",
            "This is the last time 24.08534264564514\n",
            "This is the last time 21.192559003829956\n",
            "This is the last time 21.764148235321045\n",
            "This is the last time 21.551324367523193\n",
            "This is the last time 21.7855327129364\n",
            "This is the last time 21.444472789764404\n",
            "This is the last time 21.87493085861206\n",
            "This is the last time 21.643282413482666\n",
            "This is the last time 21.525379180908203\n",
            "\u001b[36m(ClientAppActor pid=55460)\u001b[0m [Client 0] fit, config: {'lr': 0.0001, 'epochs': 9}\n",
            "\u001b[36m(ClientAppActor pid=55460)\u001b[0m Epoch 0: train loss 0.000917, accuracy 0.992407\u001b[32m [repeated 4x across cluster]\u001b[0m\n",
            "\u001b[36m(ClientAppActor pid=55460)\u001b[0m Training time for Client 5: 24.09 seconds\n",
            "\u001b[36m(ClientAppActor pid=55460)\u001b[0m [Client 8] evaluate, config: {}\u001b[32m [repeated 9x across cluster]\u001b[0m\n",
            "\u001b[36m(ClientAppActor pid=14124)\u001b[0m [Client 3] fit, config: {'lr': 0.0001, 'epochs': 9}\u001b[32m [repeated 7x across cluster]\u001b[0m\n",
            "\u001b[36m(ClientAppActor pid=35596)\u001b[0m Epoch 2: train loss 0.000044, accuracy 0.999815\u001b[32m [repeated 19x across cluster]\u001b[0m\n",
            "\u001b[36m(ClientAppActor pid=39072)\u001b[0m Epoch 4: train loss 0.000079, accuracy 0.999259\u001b[32m [repeated 17x across cluster]\u001b[0m\n",
            "\u001b[36m(ClientAppActor pid=55460)\u001b[0m Epoch 7: train loss 0.000004, accuracy 1.000000\u001b[32m [repeated 20x across cluster]\u001b[0m\n",
            "\u001b[36m(ClientAppActor pid=55460)\u001b[0m Training time for Client 0: 21.50 seconds\n",
            "\u001b[36m(ClientAppActor pid=55460)\u001b[0m [Client 4] fit, config: {'lr': 0.0001, 'epochs': 9}\n",
            "\u001b[36m(ClientAppActor pid=55460)\u001b[0m Epoch 0: train loss 0.000742, accuracy 0.994444\u001b[32m [repeated 16x across cluster]\u001b[0m\n",
            "\u001b[36m(ClientAppActor pid=17132)\u001b[0m Training time for Client 8: 22.16 seconds\u001b[32m [repeated 7x across cluster]\u001b[0m\n",
            "\u001b[36m(ClientAppActor pid=17072)\u001b[0m [Client 2] fit, config: {'lr': 0.0001, 'epochs': 9}\n",
            "\u001b[36m(ClientAppActor pid=55460)\u001b[0m Epoch 2: train loss 0.000055, accuracy 0.999630\u001b[32m [repeated 4x across cluster]\u001b[0m\n",
            "\u001b[36m(ClientAppActor pid=55460)\u001b[0m Epoch 4: train loss 0.000089, accuracy 0.998889\u001b[32m [repeated 4x across cluster]\u001b[0m\n",
            "\u001b[36m(ClientAppActor pid=55460)\u001b[0m Epoch 6: train loss 0.000003, accuracy 1.000000\u001b[32m [repeated 4x across cluster]\u001b[0m\n"
          ]
        },
        {
          "name": "stderr",
          "output_type": "stream",
          "text": [
            "\u001b[92mINFO \u001b[0m:      aggregate_fit: received 10 results and 0 failures\n",
            "\u001b[92mINFO \u001b[0m:      configure_evaluate: strategy sampled 10 clients (out of 10)\n"
          ]
        },
        {
          "name": "stdout",
          "output_type": "stream",
          "text": [
            "\u001b[36m(ClientAppActor pid=55460)\u001b[0m Training time for Client 4: 24.11 seconds\n",
            "\u001b[36m(ClientAppActor pid=55460)\u001b[0m Epoch 8: train loss 0.000001, accuracy 1.000000\u001b[32m [repeated 4x across cluster]\u001b[0m\n",
            "\u001b[36m(ClientAppActor pid=17072)\u001b[0m [Client 6] evaluate, config: {}\n"
          ]
        },
        {
          "name": "stderr",
          "output_type": "stream",
          "text": [
            "\u001b[92mINFO \u001b[0m:      aggregate_evaluate: received 10 results and 0 failures\n",
            "\u001b[92mINFO \u001b[0m:      \n",
            "\u001b[92mINFO \u001b[0m:      [SUMMARY]\n",
            "\u001b[92mINFO \u001b[0m:      Run finished 10 round(s) in 487.88s\n",
            "\u001b[92mINFO \u001b[0m:      \tHistory (loss, distributed):\n",
            "\u001b[92mINFO \u001b[0m:      \t\tround 1: 0.00398203548695892\n",
            "\u001b[92mINFO \u001b[0m:      \t\tround 2: 0.002046365634501247\n",
            "\u001b[92mINFO \u001b[0m:      \t\tround 3: 0.0018880891952490705\n",
            "\u001b[92mINFO \u001b[0m:      \t\tround 4: 0.0018500372764104515\n",
            "\u001b[92mINFO \u001b[0m:      \t\tround 5: 0.0017038915489320156\n",
            "\u001b[92mINFO \u001b[0m:      \t\tround 6: 0.001756305018630921\n",
            "\u001b[92mINFO \u001b[0m:      \t\tround 7: 0.0017776384257885858\n",
            "\u001b[92mINFO \u001b[0m:      \t\tround 8: 0.0017756026610872909\n",
            "\u001b[92mINFO \u001b[0m:      \t\tround 9: 0.0017641431047832824\n",
            "\u001b[92mINFO \u001b[0m:      \t\tround 10: 0.0018342645712480176\n",
            "\u001b[92mINFO \u001b[0m:      \n"
          ]
        },
        {
          "data": {
            "text/plain": [
              "History (loss, distributed):\n",
              "\tround 1: 0.00398203548695892\n",
              "\tround 2: 0.002046365634501247\n",
              "\tround 3: 0.0018880891952490705\n",
              "\tround 4: 0.0018500372764104515\n",
              "\tround 5: 0.0017038915489320156\n",
              "\tround 6: 0.001756305018630921\n",
              "\tround 7: 0.0017776384257885858\n",
              "\tround 8: 0.0017756026610872909\n",
              "\tround 9: 0.0017641431047832824\n",
              "\tround 10: 0.0018342645712480176"
            ]
          },
          "execution_count": 19,
          "metadata": {},
          "output_type": "execute_result"
        }
      ],
      "source": [
        "strategy = FedCustom()\n",
        "\n",
        "fl.simulation.start_simulation(\n",
        "    client_fn=client_fn,\n",
        "    num_clients=10,\n",
        "    config=fl.server.ServerConfig(num_rounds=10),\n",
        "    strategy=strategy,  # <-- pass the new strategy here\n",
        "    client_resources=client_resources,\n",
        "\n",
        ")"
      ]
    },
    {
      "cell_type": "code",
      "execution_count": 20,
      "metadata": {},
      "outputs": [
        {
          "data": {
            "image/png": "[encoded data removed]",
            "text/plain": [
              "<Figure size 1500x500 with 2 Axes>"
            ]
          },
          "metadata": {},
          "output_type": "display_data"
        }
      ],
      "source": [
        "import matplotlib.pyplot as plt\n",
        "\n",
        "\n",
        "def plot_metrics(client_metrics):\n",
        "    # client_metrics = strategy.client_metrics\n",
        "    client_ids = list(client_metrics.keys())\n",
        "\n",
        "    fig, axs = plt.subplots(1, 2, figsize=(15, 5))\n",
        "\n",
        "    for cid in client_ids:\n",
        "        epochs = [metric.epoch for metric in client_metrics[cid]]\n",
        "        losses = [metric.loss for metric in client_metrics[cid]]\n",
        "        axs[0].plot(epochs, losses, label=f\"Client {cid}\")\n",
        "\n",
        "    axs[0].set_xlabel(\"Epoch\")\n",
        "    axs[0].set_ylabel(\"Loss\")\n",
        "    axs[0].legend()\n",
        "\n",
        "    for cid in client_ids:\n",
        "        epochs = [metric.epoch for metric in client_metrics[cid]]\n",
        "        accuracies = [metric.accuracy for metric in client_metrics[cid]]\n",
        "        axs[1].plot(epochs, accuracies, label=f\"Client {cid}\")\n",
        "\n",
        "    axs[1].set_xlabel(\"Epoch\")\n",
        "    axs[1].set_ylabel(\"Accuracy\")\n",
        "    axs[1].legend()\n",
        "\n",
        "    plt.show()\n",
        "\n",
        "plot_metrics(strategy.client_metrics)"
      ]
    },
    {
      "cell_type": "code",
      "execution_count": 21,
      "metadata": {},
      "outputs": [
        {
          "data": {
            "image/png": "[encoded data removed]",
            "text/plain": [
              "<Figure size 1200x800 with 1 Axes>"
            ]
          },
          "metadata": {},
          "output_type": "display_data"
        }
      ],
      "source": [
        "def plot_times(client_training_times):\n",
        "    client_ids = list(client_training_times.keys())\n",
        "    num_rounds = len(client_training_times[client_ids[0]])\n",
        "\n",
        "    x = np.arange(num_rounds)  # Positions of the bars\n",
        "    bar_width = 0.05 # Width of bars\n",
        "    fig, ax = plt.subplots(figsize=(12, 8))\n",
        "\n",
        "    for i, client_id in enumerate(client_ids):\n",
        "        times = client_training_times[client_id]\n",
        "        ax.bar(x + i * bar_width, times, bar_width, label=client_id)\n",
        "\n",
        "    ax.set_xlabel(\"Round\")\n",
        "    ax.set_ylabel(\"Time (seconds)\")\n",
        "    ax.set_title(\"Client Training Times\")\n",
        "    ax.set_xticks(x + bar_width * round(len(client_ids) / 2))\n",
        "    ax.set_xticklabels(np.arange(1, num_rounds + 1))\n",
        "    ax.legend()\n",
        "\n",
        "    plt.show()\n",
        "\n",
        "plot_times(strategy.client_training_times)"
      ]
    },
    {
      "cell_type": "code",
      "execution_count": 22,
      "metadata": {},
      "outputs": [
        {
          "name": "stdout",
          "output_type": "stream",
          "text": [
            "Client 6 metrics: 92\n",
            "Client 7 metrics: 91\n",
            "Client 3 metrics: 92\n",
            "Client 2 metrics: 92\n",
            "Client 9 metrics: 91\n",
            "Client 1 metrics: 91\n",
            "Client 0 metrics: 91\n",
            "Client 8 metrics: 91\n",
            "Client 5 metrics: 92\n",
            "Client 4 metrics: 91\n"
          ]
        }
      ],
      "source": [
        "for a in strategy.client_metrics:\n",
        "    print(f\"Client {a} metrics: {len(strategy.client_metrics[a])}\")"
      ]
    },
    {
      "cell_type": "code",
      "execution_count": 23,
      "metadata": {},
      "outputs": [],
      "source": [
        "class FlowerClient(fl.client.NumPyClient):\n",
        "    def __init__(self, cid, net, trainloader, valloader):\n",
        "        self.cid = cid\n",
        "        self.net = net\n",
        "        self.trainloader = trainloader\n",
        "        self.valloader = valloader\n",
        "\n",
        "    def get_parameters(self, config):\n",
        "        print(f\"[Client {self.cid}] get_parameters\")\n",
        "        return get_parameters(self.net)\n",
        "\n",
        "    def fit(self, parameters, config):\n",
        "        print(f\"[Client {self.cid}] fit, config: {config}\")\n",
        "        set_parameters(self.net, parameters)\n",
        "        start_time = time.time()  # Start time measurement\n",
        "        metrics = train(self.net, self.trainloader, epochs=10)\n",
        "        training_time = time.time() - start_time  # Calculate duration\n",
        "        return get_parameters(self.net), len(self.trainloader), {\"training_time\": training_time, \"metrics\": json.dumps(metrics)}\n",
        "\n",
        "    def evaluate(self, parameters, config):\n",
        "        print(f\"[Client {self.cid}] evaluate, config: {config}\")\n",
        "        set_parameters(self.net, parameters)\n",
        "        loss, accuracy = test(self.net, self.valloader)\n",
        "        print(f\"Client {self.cid} loss {loss}\")\n",
        "        print(f\"Client {self.cid} accuracy {accuracy}\")\n",
        "        \n",
        "        return float(loss), len(self.valloader), {\"accuracy\": float(accuracy)}\n",
        "\n",
        "\n",
        "def client_fn(cid) -> FlowerClient:\n",
        "    net = Net().to(DEVICE) #Load Model from here\n",
        "    trainloader = trainloaders[int(cid)]\n",
        "    valloader = valloaders[int(cid)]\n",
        "    return FlowerClient(cid, net, trainloader, valloader).to_client()"
      ]
    },
    {
      "cell_type": "code",
      "execution_count": 24,
      "metadata": {},
      "outputs": [],
      "source": [
        "class FedAvgCustom(fl.server.strategy.FedAvg):\n",
        "    def __init__(\n",
        "        self,\n",
        "        fraction_fit = 1.0,\n",
        "        fraction_evaluate = 1.0,\n",
        "        min_fit_clients = 2,\n",
        "        min_evaluate_clients = 2,\n",
        "        min_available_clients = 2,\n",
        "    ):\n",
        "        super().__init__(fraction_fit = fraction_fit, fraction_evaluate = fraction_evaluate, min_fit_clients = min_fit_clients, min_evaluate_clients = min_evaluate_clients, min_available_clients = min_available_clients)\n",
        "        self.client_training_times = {}\n",
        "        self.client_metrics = {}\n",
        "\n",
        "    def parse_metrics(self, cid, metrics: str):\n",
        "        client_data: List[ClientMetrics] = json.loads(metrics)\n",
        "        data_store = self.client_metrics.setdefault(cid, [])\n",
        "        last_epoch = len(data_store)\n",
        "        for data in client_data:\n",
        "            data_store.append(ClientMetrics(last_epoch, data[1], data[2]))\n",
        "            last_epoch += 1\n",
        "\n",
        "    def aggregate_fit(\n",
        "        self,\n",
        "        server_round: int,\n",
        "        results: List[Tuple[ClientProxy, FitRes]],\n",
        "        failures: List[Union[Tuple[ClientProxy, FitRes], BaseException]],\n",
        "    ) -> Tuple[Optional[Parameters], Dict[str, Scalar]]:\n",
        "        \"\"\"Aggregate fit results using weighted average.\"\"\"\n",
        "        for client, fit_res in results:\n",
        "            self.client_training_times.setdefault(client.cid, []).append(fit_res.metrics.get(\"training_time\", 0))\n",
        "            self.parse_metrics(client.cid, fit_res.metrics.get(\"metrics\", None))\n",
        "        weights_results = [\n",
        "            (parameters_to_ndarrays(fit_res.parameters), fit_res.num_examples)\n",
        "            for _, fit_res in results\n",
        "        ]\n",
        "        parameters_aggregated = ndarrays_to_parameters(aggregate(weights_results))\n",
        "        metrics_aggregated = {}\n",
        "        return parameters_aggregated, metrics_aggregated\n",
        "\n",
        "# fl.simulation.start_simulation(\n",
        "#     client_fn=client_fn,\n",
        "#     num_clients=10,\n",
        "#     config=fl.server.ServerConfig(num_rounds=10),\n",
        "#     client_resources=client_resources,\n",
        "# )"
      ]
    },
    {
      "cell_type": "code",
      "execution_count": 25,
      "metadata": {},
      "outputs": [
        {
          "name": "stderr",
          "output_type": "stream",
          "text": [
            "\u001b[92mINFO \u001b[0m:      Starting Flower simulation, config: num_rounds=10, no round_timeout\n",
            "2024-07-16 11:19:33,198\tINFO worker.py:1771 -- Started a local Ray instance.\n",
            "\u001b[92mINFO \u001b[0m:      Flower VCE: Ray initialized with resources: {'node:__internal_head__': 1.0, 'CPU': 32.0, 'object_store_memory': 31186078924.0, 'node:127.0.0.1': 1.0, 'memory': 62767517492.0, 'GPU': 1.0, 'accelerator_type:RTX': 1.0}\n",
            "\u001b[92mINFO \u001b[0m:      Optimize your simulation with Flower VCE: https://flower.ai/docs/framework/how-to-run-simulations.html\n",
            "\u001b[92mINFO \u001b[0m:      Flower VCE: Resources for each Virtual Client: {'num_gpus': 0.125, 'num_cpus': 1}\n",
            "\u001b[92mINFO \u001b[0m:      Flower VCE: Creating VirtualClientEngineActorPool with 8 actors\n",
            "\u001b[92mINFO \u001b[0m:      [INIT]\n",
            "\u001b[92mINFO \u001b[0m:      Requesting initial parameters from one random client\n",
            "\u001b[92mINFO \u001b[0m:      Received initial parameters from one random client\n",
            "\u001b[92mINFO \u001b[0m:      Evaluating initial global parameters\n",
            "\u001b[92mINFO \u001b[0m:      \n",
            "\u001b[92mINFO \u001b[0m:      [ROUND 1]\n",
            "\u001b[92mINFO \u001b[0m:      configure_fit: strategy sampled 10 clients (out of 10)\n"
          ]
        },
        {
          "name": "stdout",
          "output_type": "stream",
          "text": [
            "\u001b[36m(ClientAppActor pid=51940)\u001b[0m [Client 1] get_parameters\n",
            "\u001b[36m(ClientAppActor pid=51940)\u001b[0m [Client 5] fit, config: {}\n",
            "\u001b[36m(ClientAppActor pid=51940)\u001b[0m Epoch 0: train loss 0.029290, accuracy 0.698704\n",
            "\u001b[36m(ClientAppActor pid=46828)\u001b[0m [Client 0] fit, config: {}\u001b[32m [repeated 4x across cluster]\u001b[0m\n",
            "\u001b[36m(ClientAppActor pid=51940)\u001b[0m Epoch 1: train loss 0.008288, accuracy 0.922407\n",
            "\u001b[36m(ClientAppActor pid=51940)\u001b[0m Epoch 2: train loss 0.005695, accuracy 0.941852\n",
            "\u001b[36m(ClientAppActor pid=46828)\u001b[0m Epoch 0: train loss 0.027693, accuracy 0.723148\u001b[32m [repeated 4x across cluster]\u001b[0m\n",
            "\u001b[36m(ClientAppActor pid=55284)\u001b[0m [Client 2] fit, config: {}\u001b[32m [repeated 3x across cluster]\u001b[0m\n",
            "\u001b[36m(ClientAppActor pid=48396)\u001b[0m Epoch 2: train loss 0.005420, accuracy 0.946481\u001b[32m [repeated 18x across cluster]\u001b[0m\n",
            "\u001b[36m(ClientAppActor pid=55284)\u001b[0m Epoch 4: train loss 0.002946, accuracy 0.967963\u001b[32m [repeated 17x across cluster]\u001b[0m\n",
            "\u001b[36m(ClientAppActor pid=4868)\u001b[0m Epoch 7: train loss 0.001284, accuracy 0.985741\u001b[32m [repeated 17x across cluster]\u001b[0m\n",
            "\u001b[36m(ClientAppActor pid=51940)\u001b[0m [Client 8] fit, config: {}\n",
            "\u001b[36m(ClientAppActor pid=4868)\u001b[0m Epoch 9: train loss 0.000792, accuracy 0.991111\u001b[32m [repeated 16x across cluster]\u001b[0m\n",
            "\u001b[36m(ClientAppActor pid=4868)\u001b[0m [Client 9] fit, config: {}\n",
            "\u001b[36m(ClientAppActor pid=4868)\u001b[0m Epoch 1: train loss 0.008718, accuracy 0.916481\u001b[32m [repeated 10x across cluster]\u001b[0m\n",
            "\u001b[36m(ClientAppActor pid=4868)\u001b[0m Epoch 3: train loss 0.004170, accuracy 0.960000\u001b[32m [repeated 4x across cluster]\u001b[0m\n",
            "\u001b[36m(ClientAppActor pid=4868)\u001b[0m Epoch 5: train loss 0.002506, accuracy 0.972778\u001b[32m [repeated 4x across cluster]\u001b[0m\n",
            "\u001b[36m(ClientAppActor pid=4868)\u001b[0m Epoch 7: train loss 0.001708, accuracy 0.981667\u001b[32m [repeated 4x across cluster]\u001b[0m\n"
          ]
        },
        {
          "name": "stderr",
          "output_type": "stream",
          "text": [
            "\u001b[92mINFO \u001b[0m:      aggregate_fit: received 10 results and 0 failures\n",
            "\u001b[92mINFO \u001b[0m:      configure_evaluate: strategy sampled 10 clients (out of 10)\n"
          ]
        },
        {
          "name": "stdout",
          "output_type": "stream",
          "text": [
            "\u001b[36m(ClientAppActor pid=4868)\u001b[0m Epoch 9: train loss 0.001057, accuracy 0.988519\u001b[32m [repeated 3x across cluster]\u001b[0m\n",
            "\u001b[36m(ClientAppActor pid=51940)\u001b[0m [Client 9] evaluate, config: {}\n",
            "\u001b[36m(ClientAppActor pid=4868)\u001b[0m Client 1 loss 0.003462101292485992\n",
            "\u001b[36m(ClientAppActor pid=4868)\u001b[0m Client 1 accuracy 0.9683333333333334\n"
          ]
        },
        {
          "name": "stderr",
          "output_type": "stream",
          "text": [
            "\u001b[92mINFO \u001b[0m:      aggregate_evaluate: received 10 results and 0 failures\n",
            "\u001b[93mWARNING \u001b[0m:   No evaluate_metrics_aggregation_fn provided\n",
            "\u001b[92mINFO \u001b[0m:      \n",
            "\u001b[92mINFO \u001b[0m:      [ROUND 2]\n",
            "\u001b[92mINFO \u001b[0m:      configure_fit: strategy sampled 10 clients (out of 10)\n"
          ]
        },
        {
          "name": "stdout",
          "output_type": "stream",
          "text": [
            "\u001b[36m(ClientAppActor pid=46828)\u001b[0m [Client 4] fit, config: {}\n",
            "\u001b[36m(ClientAppActor pid=46828)\u001b[0m Epoch 1: train loss 0.002013, accuracy 0.978519\u001b[32m [repeated 9x across cluster]\u001b[0m\n",
            "\u001b[36m(ClientAppActor pid=46828)\u001b[0m [Client 4] evaluate, config: {}\u001b[32m [repeated 9x across cluster]\u001b[0m\n",
            "\u001b[36m(ClientAppActor pid=46828)\u001b[0m Client 4 loss 0.0036291405589630207\u001b[32m [repeated 9x across cluster]\u001b[0m\n",
            "\u001b[36m(ClientAppActor pid=46828)\u001b[0m Client 4 accuracy 0.9616666666666667\u001b[32m [repeated 9x across cluster]\u001b[0m\n",
            "\u001b[36m(ClientAppActor pid=48396)\u001b[0m [Client 8] fit, config: {}\u001b[32m [repeated 7x across cluster]\u001b[0m\n",
            "\u001b[36m(ClientAppActor pid=45828)\u001b[0m Epoch 3: train loss 0.001005, accuracy 0.988704\u001b[32m [repeated 20x across cluster]\u001b[0m\n",
            "\u001b[36m(ClientAppActor pid=51940)\u001b[0m Epoch 5: train loss 0.000541, accuracy 0.995000\u001b[32m [repeated 18x across cluster]\u001b[0m\n",
            "\u001b[36m(ClientAppActor pid=45828)\u001b[0m \n",
            "\u001b[36m(ClientAppActor pid=57700)\u001b[0m Epoch 8: train loss 0.000446, accuracy 0.995556\u001b[32m [repeated 18x across cluster]\u001b[0m\n",
            "\u001b[36m(ClientAppActor pid=57700)\u001b[0m [Client 6] fit, config: {}\n",
            "\u001b[36m(ClientAppActor pid=46828)\u001b[0m Epoch 0: train loss 0.003189, accuracy 0.966852\u001b[32m [repeated 17x across cluster]\u001b[0m\n",
            "\u001b[36m(ClientAppActor pid=46828)\u001b[0m [Client 3] fit, config: {}\n",
            "\u001b[36m(ClientAppActor pid=46828)\u001b[0m Epoch 2: train loss 0.001643, accuracy 0.982778\u001b[32m [repeated 4x across cluster]\u001b[0m\n",
            "\u001b[36m(ClientAppActor pid=46828)\u001b[0m Epoch 4: train loss 0.000738, accuracy 0.993333\u001b[32m [repeated 4x across cluster]\u001b[0m\n",
            "\u001b[36m(ClientAppActor pid=46828)\u001b[0m Epoch 6: train loss 0.000385, accuracy 0.996296\u001b[32m [repeated 4x across cluster]\u001b[0m\n",
            "\u001b[36m(ClientAppActor pid=46828)\u001b[0m Epoch 8: train loss 0.000347, accuracy 0.996111\u001b[32m [repeated 4x across cluster]\u001b[0m\n"
          ]
        },
        {
          "name": "stderr",
          "output_type": "stream",
          "text": [
            "\u001b[92mINFO \u001b[0m:      aggregate_fit: received 10 results and 0 failures\n",
            "\u001b[92mINFO \u001b[0m:      configure_evaluate: strategy sampled 10 clients (out of 10)\n"
          ]
        },
        {
          "name": "stdout",
          "output_type": "stream",
          "text": [
            "\u001b[36m(ClientAppActor pid=46828)\u001b[0m [Client 0] evaluate, config: {}\n",
            "\u001b[36m(ClientAppActor pid=46828)\u001b[0m Client 0 loss 0.0028075452375196618\n",
            "\u001b[36m(ClientAppActor pid=46828)\u001b[0m Client 0 accuracy 0.98\n"
          ]
        },
        {
          "name": "stderr",
          "output_type": "stream",
          "text": [
            "\u001b[92mINFO \u001b[0m:      aggregate_evaluate: received 10 results and 0 failures\n",
            "\u001b[92mINFO \u001b[0m:      \n",
            "\u001b[92mINFO \u001b[0m:      [ROUND 3]\n",
            "\u001b[92mINFO \u001b[0m:      configure_fit: strategy sampled 10 clients (out of 10)\n"
          ]
        },
        {
          "name": "stdout",
          "output_type": "stream",
          "text": [
            "\u001b[36m(ClientAppActor pid=57700)\u001b[0m [Client 4] fit, config: {}\n",
            "\u001b[36m(ClientAppActor pid=57700)\u001b[0m Epoch 0: train loss 0.002011, accuracy 0.978704\u001b[32m [repeated 3x across cluster]\u001b[0m\n",
            "\u001b[36m(ClientAppActor pid=57700)\u001b[0m [Client 2] evaluate, config: {}\u001b[32m [repeated 9x across cluster]\u001b[0m\n",
            "\u001b[36m(ClientAppActor pid=57700)\u001b[0m Client 2 loss 0.001425739280578758\u001b[32m [repeated 9x across cluster]\u001b[0m\n",
            "\u001b[36m(ClientAppActor pid=57700)\u001b[0m Client 2 accuracy 0.9816666666666667\u001b[32m [repeated 9x across cluster]\u001b[0m\n",
            "\u001b[36m(ClientAppActor pid=48396)\u001b[0m [Client 6] fit, config: {}\u001b[32m [repeated 7x across cluster]\u001b[0m\n",
            "\u001b[36m(ClientAppActor pid=55284)\u001b[0m Epoch 2: train loss 0.000748, accuracy 0.992593\u001b[32m [repeated 18x across cluster]\u001b[0m\n",
            "\u001b[36m(ClientAppActor pid=45828)\u001b[0m Epoch 4: train loss 0.000370, accuracy 0.996481\u001b[32m [repeated 19x across cluster]\u001b[0m\n",
            "\u001b[36m(ClientAppActor pid=56380)\u001b[0m Epoch 6: train loss 0.000361, accuracy 0.996852\u001b[32m [repeated 18x across cluster]\u001b[0m\n",
            "\u001b[36m(ClientAppActor pid=57700)\u001b[0m Epoch 9: train loss 0.000010, accuracy 1.000000\u001b[32m [repeated 17x across cluster]\u001b[0m\n",
            "\u001b[36m(ClientAppActor pid=57700)\u001b[0m [Client 1] fit, config: {}\n",
            "\u001b[36m(ClientAppActor pid=46828)\u001b[0m Epoch 1: train loss 0.001073, accuracy 0.989259\u001b[32m [repeated 10x across cluster]\u001b[0m\n",
            "\u001b[36m(ClientAppActor pid=46828)\u001b[0m [Client 5] fit, config: {}\n",
            "\u001b[36m(ClientAppActor pid=46828)\u001b[0m Epoch 3: train loss 0.000685, accuracy 0.992222\u001b[32m [repeated 4x across cluster]\u001b[0m\n",
            "\u001b[36m(ClientAppActor pid=46828)\u001b[0m Epoch 5: train loss 0.000477, accuracy 0.994815\u001b[32m [repeated 4x across cluster]\u001b[0m\n",
            "\u001b[36m(ClientAppActor pid=57700)\u001b[0m Epoch 7: train loss 0.000224, accuracy 0.997778\u001b[32m [repeated 4x across cluster]\u001b[0m\n"
          ]
        },
        {
          "name": "stderr",
          "output_type": "stream",
          "text": [
            "\u001b[92mINFO \u001b[0m:      aggregate_fit: received 10 results and 0 failures\n",
            "\u001b[92mINFO \u001b[0m:      configure_evaluate: strategy sampled 10 clients (out of 10)\n"
          ]
        },
        {
          "name": "stdout",
          "output_type": "stream",
          "text": [
            "\u001b[36m(ClientAppActor pid=57700)\u001b[0m Epoch 9: train loss 0.000020, accuracy 1.000000\u001b[32m [repeated 4x across cluster]\u001b[0m\n",
            "\u001b[36m(ClientAppActor pid=46828)\u001b[0m [Client 6] evaluate, config: {}\n",
            "\u001b[36m(ClientAppActor pid=46828)\u001b[0m Client 6 loss 0.0017494213328124412\n",
            "\u001b[36m(ClientAppActor pid=46828)\u001b[0m Client 6 accuracy 0.985\n"
          ]
        },
        {
          "name": "stderr",
          "output_type": "stream",
          "text": [
            "\u001b[92mINFO \u001b[0m:      aggregate_evaluate: received 10 results and 0 failures\n",
            "\u001b[92mINFO \u001b[0m:      \n",
            "\u001b[92mINFO \u001b[0m:      [ROUND 4]\n",
            "\u001b[92mINFO \u001b[0m:      configure_fit: strategy sampled 10 clients (out of 10)\n"
          ]
        },
        {
          "name": "stdout",
          "output_type": "stream",
          "text": [
            "\u001b[36m(ClientAppActor pid=57700)\u001b[0m [Client 9] fit, config: {}\n",
            "\u001b[36m(ClientAppActor pid=57700)\u001b[0m Epoch 1: train loss 0.000777, accuracy 0.991481\u001b[32m [repeated 10x across cluster]\u001b[0m\n",
            "\u001b[36m(ClientAppActor pid=57700)\u001b[0m [Client 2] evaluate, config: {}\u001b[32m [repeated 9x across cluster]\u001b[0m\n",
            "\u001b[36m(ClientAppActor pid=57700)\u001b[0m Client 2 loss 0.0011659677470621924\u001b[32m [repeated 9x across cluster]\u001b[0m\n",
            "\u001b[36m(ClientAppActor pid=57700)\u001b[0m Client 2 accuracy 0.9883333333333333\u001b[32m [repeated 9x across cluster]\u001b[0m\n",
            "\u001b[36m(ClientAppActor pid=4868)\u001b[0m [Client 2] fit, config: {}\u001b[32m [repeated 7x across cluster]\u001b[0m\n",
            "\u001b[36m(ClientAppActor pid=55284)\u001b[0m Epoch 3: train loss 0.000193, accuracy 0.997778\u001b[32m [repeated 18x across cluster]\u001b[0m\n",
            "\u001b[36m(ClientAppActor pid=45828)\u001b[0m Epoch 5: train loss 0.000282, accuracy 0.997778\u001b[32m [repeated 19x across cluster]\u001b[0m\n",
            "\u001b[36m(ClientAppActor pid=4868)\u001b[0m Epoch 7: train loss 0.000167, accuracy 0.998519\u001b[32m [repeated 18x across cluster]\u001b[0m\n",
            "\u001b[36m(ClientAppActor pid=48396)\u001b[0m [Client 4] fit, config: {}\n",
            "\u001b[36m(ClientAppActor pid=4868)\u001b[0m Epoch 9: train loss 0.000036, accuracy 0.999444\u001b[32m [repeated 16x across cluster]\u001b[0m\n",
            "\u001b[36m(ClientAppActor pid=55284)\u001b[0m [Client 8] fit, config: {}\n",
            "\u001b[36m(ClientAppActor pid=48396)\u001b[0m Epoch 2: train loss 0.000600, accuracy 0.994074\u001b[32m [repeated 5x across cluster]\u001b[0m\n",
            "\u001b[36m(ClientAppActor pid=48396)\u001b[0m Epoch 4: train loss 0.000132, accuracy 0.998704\u001b[32m [repeated 4x across cluster]\u001b[0m\n",
            "\u001b[36m(ClientAppActor pid=48396)\u001b[0m Epoch 6: train loss 0.000007, accuracy 1.000000\u001b[32m [repeated 4x across cluster]\u001b[0m\n",
            "\u001b[36m(ClientAppActor pid=48396)\u001b[0m Epoch 8: train loss 0.000004, accuracy 1.000000\u001b[32m [repeated 4x across cluster]\u001b[0m\n"
          ]
        },
        {
          "name": "stderr",
          "output_type": "stream",
          "text": [
            "\u001b[92mINFO \u001b[0m:      aggregate_fit: received 10 results and 0 failures\n",
            "\u001b[92mINFO \u001b[0m:      configure_evaluate: strategy sampled 10 clients (out of 10)\n"
          ]
        },
        {
          "name": "stdout",
          "output_type": "stream",
          "text": [
            "\u001b[36m(ClientAppActor pid=55284)\u001b[0m [Client 7] evaluate, config: {}\n",
            "\u001b[36m(ClientAppActor pid=55284)\u001b[0m Client 7 loss 0.0018988640087373673\n",
            "\u001b[36m(ClientAppActor pid=55284)\u001b[0m Client 7 accuracy 0.9866666666666667\n"
          ]
        },
        {
          "name": "stderr",
          "output_type": "stream",
          "text": [
            "\u001b[92mINFO \u001b[0m:      aggregate_evaluate: received 10 results and 0 failures\n",
            "\u001b[92mINFO \u001b[0m:      \n",
            "\u001b[92mINFO \u001b[0m:      [ROUND 5]\n",
            "\u001b[92mINFO \u001b[0m:      configure_fit: strategy sampled 10 clients (out of 10)\n"
          ]
        },
        {
          "name": "stdout",
          "output_type": "stream",
          "text": [
            "\u001b[36m(ClientAppActor pid=55284)\u001b[0m [Client 8] fit, config: {}\n",
            "\u001b[36m(ClientAppActor pid=55284)\u001b[0m Epoch 9: train loss 0.000003, accuracy 1.000000\u001b[32m [repeated 3x across cluster]\u001b[0m\n",
            "\u001b[36m(ClientAppActor pid=55284)\u001b[0m [Client 6] evaluate, config: {}\u001b[32m [repeated 9x across cluster]\u001b[0m\n",
            "\u001b[36m(ClientAppActor pid=45828)\u001b[0m Client 2 loss 0.001075083669234118\u001b[32m [repeated 9x across cluster]\u001b[0m\n",
            "\u001b[36m(ClientAppActor pid=45828)\u001b[0m Client 2 accuracy 0.99\u001b[32m [repeated 9x across cluster]\u001b[0m\n",
            "\u001b[36m(ClientAppActor pid=4868)\u001b[0m [Client 1] fit, config: {}\u001b[32m [repeated 7x across cluster]\u001b[0m\n",
            "\u001b[36m(ClientAppActor pid=46828)\u001b[0m Epoch 2: train loss 0.000468, accuracy 0.995741\u001b[32m [repeated 17x across cluster]\u001b[0m\n",
            "\u001b[36m(ClientAppActor pid=55284)\u001b[0m Epoch 4: train loss 0.000143, accuracy 0.998333\u001b[32m [repeated 20x across cluster]\u001b[0m\n",
            "\u001b[36m(ClientAppActor pid=4868)\u001b[0m Epoch 6: train loss 0.000360, accuracy 0.996111\u001b[32m [repeated 19x across cluster]\u001b[0m\n",
            "\u001b[36m(ClientAppActor pid=46828)\u001b[0m Epoch 9: train loss 0.000003, accuracy 1.000000\u001b[32m [repeated 17x across cluster]\u001b[0m\n",
            "\u001b[36m(ClientAppActor pid=46828)\u001b[0m [Client 3] fit, config: {}\n",
            "\u001b[36m(ClientAppActor pid=51940)\u001b[0m Epoch 1: train loss 0.000558, accuracy 0.994815\u001b[32m [repeated 10x across cluster]\u001b[0m\n",
            "\u001b[36m(ClientAppActor pid=51940)\u001b[0m [Client 2] fit, config: {}\n",
            "\u001b[36m(ClientAppActor pid=51940)\u001b[0m Epoch 3: train loss 0.000234, accuracy 0.997593\u001b[32m [repeated 4x across cluster]\u001b[0m\n",
            "\u001b[36m(ClientAppActor pid=51940)\u001b[0m Epoch 5: train loss 0.000493, accuracy 0.995000\u001b[32m [repeated 4x across cluster]\u001b[0m\n",
            "\u001b[36m(ClientAppActor pid=51940)\u001b[0m Epoch 7: train loss 0.000276, accuracy 0.996481\u001b[32m [repeated 4x across cluster]\u001b[0m\n"
          ]
        },
        {
          "name": "stderr",
          "output_type": "stream",
          "text": [
            "\u001b[92mINFO \u001b[0m:      aggregate_fit: received 10 results and 0 failures\n",
            "\u001b[92mINFO \u001b[0m:      configure_evaluate: strategy sampled 10 clients (out of 10)\n"
          ]
        },
        {
          "name": "stdout",
          "output_type": "stream",
          "text": [
            "\u001b[36m(ClientAppActor pid=51940)\u001b[0m Epoch 9: train loss 0.000657, accuracy 0.992963\u001b[32m [repeated 4x across cluster]\u001b[0m\n",
            "\u001b[36m(ClientAppActor pid=51940)\u001b[0m [Client 6] evaluate, config: {}\n",
            "\u001b[36m(ClientAppActor pid=46828)\u001b[0m Client 4 loss 0.0012616506321262476\n",
            "\u001b[36m(ClientAppActor pid=46828)\u001b[0m Client 4 accuracy 0.9866666666666667\n"
          ]
        },
        {
          "name": "stderr",
          "output_type": "stream",
          "text": [
            "\u001b[92mINFO \u001b[0m:      aggregate_evaluate: received 10 results and 0 failures\n",
            "\u001b[92mINFO \u001b[0m:      \n",
            "\u001b[92mINFO \u001b[0m:      [ROUND 6]\n",
            "\u001b[92mINFO \u001b[0m:      configure_fit: strategy sampled 10 clients (out of 10)\n"
          ]
        },
        {
          "name": "stdout",
          "output_type": "stream",
          "text": [
            "\u001b[36m(ClientAppActor pid=46828)\u001b[0m [Client 0] fit, config: {}\n",
            "\u001b[36m(ClientAppActor pid=46828)\u001b[0m Epoch 1: train loss 0.000363, accuracy 0.996667\u001b[32m [repeated 10x across cluster]\u001b[0m\n",
            "\u001b[36m(ClientAppActor pid=57700)\u001b[0m [Client 9] evaluate, config: {}\u001b[32m [repeated 9x across cluster]\u001b[0m\n",
            "\u001b[36m(ClientAppActor pid=57700)\u001b[0m Client 9 loss 0.0008617936400196414\u001b[32m [repeated 9x across cluster]\u001b[0m\n",
            "\u001b[36m(ClientAppActor pid=57700)\u001b[0m Client 9 accuracy 0.9916666666666667\u001b[32m [repeated 9x across cluster]\u001b[0m\n",
            "\u001b[36m(ClientAppActor pid=4868)\u001b[0m [Client 8] fit, config: {}\u001b[32m [repeated 7x across cluster]\u001b[0m\n",
            "\u001b[36m(ClientAppActor pid=51940)\u001b[0m Epoch 3: train loss 0.000134, accuracy 0.998704\u001b[32m [repeated 20x across cluster]\u001b[0m\n",
            "\u001b[36m(ClientAppActor pid=45828)\u001b[0m Epoch 5: train loss 0.000026, accuracy 0.999630\u001b[32m [repeated 17x across cluster]\u001b[0m\n",
            "\u001b[36m(ClientAppActor pid=55284)\u001b[0m Epoch 7: train loss 0.000693, accuracy 0.993704\u001b[32m [repeated 18x across cluster]\u001b[0m\n",
            "\u001b[36m(ClientAppActor pid=57700)\u001b[0m [Client 6] fit, config: {}\n",
            "\u001b[36m(ClientAppActor pid=57700)\u001b[0m Epoch 0: train loss 0.001095, accuracy 0.990370\u001b[32m [repeated 17x across cluster]\u001b[0m\n",
            "\u001b[36m(ClientAppActor pid=46828)\u001b[0m [Client 9] fit, config: {}\n",
            "\u001b[36m(ClientAppActor pid=57700)\u001b[0m Epoch 2: train loss 0.000213, accuracy 0.997963\u001b[32m [repeated 4x across cluster]\u001b[0m\n",
            "\u001b[36m(ClientAppActor pid=57700)\u001b[0m Epoch 4: train loss 0.000180, accuracy 0.998704\u001b[32m [repeated 4x across cluster]\u001b[0m\n",
            "\u001b[36m(ClientAppActor pid=57700)\u001b[0m Epoch 6: train loss 0.000134, accuracy 0.998889\u001b[32m [repeated 4x across cluster]\u001b[0m\n",
            "\u001b[36m(ClientAppActor pid=57700)\u001b[0m Epoch 8: train loss 0.000263, accuracy 0.996852\u001b[32m [repeated 4x across cluster]\u001b[0m\n"
          ]
        },
        {
          "name": "stderr",
          "output_type": "stream",
          "text": [
            "\u001b[92mINFO \u001b[0m:      aggregate_fit: received 10 results and 0 failures\n",
            "\u001b[92mINFO \u001b[0m:      configure_evaluate: strategy sampled 10 clients (out of 10)\n"
          ]
        },
        {
          "name": "stdout",
          "output_type": "stream",
          "text": [
            "\u001b[36m(ClientAppActor pid=46828)\u001b[0m [Client 7] evaluate, config: {}\n",
            "\u001b[36m(ClientAppActor pid=46828)\u001b[0m Client 7 loss 0.0015179469194163174\n",
            "\u001b[36m(ClientAppActor pid=46828)\u001b[0m Client 7 accuracy 0.9883333333333333\n"
          ]
        },
        {
          "name": "stderr",
          "output_type": "stream",
          "text": [
            "\u001b[92mINFO \u001b[0m:      aggregate_evaluate: received 10 results and 0 failures\n",
            "\u001b[92mINFO \u001b[0m:      \n",
            "\u001b[92mINFO \u001b[0m:      [ROUND 7]\n",
            "\u001b[92mINFO \u001b[0m:      configure_fit: strategy sampled 10 clients (out of 10)\n"
          ]
        },
        {
          "name": "stdout",
          "output_type": "stream",
          "text": [
            "\u001b[36m(ClientAppActor pid=46828)\u001b[0m Epoch 9: train loss 0.000128, accuracy 0.998889\u001b[32m [repeated 3x across cluster]\u001b[0m\n",
            "\u001b[36m(ClientAppActor pid=57700)\u001b[0m [Client 4] fit, config: {}\n",
            "\u001b[36m(ClientAppActor pid=57700)\u001b[0m [Client 4] evaluate, config: {}\u001b[32m [repeated 9x across cluster]\u001b[0m\n",
            "\u001b[36m(ClientAppActor pid=57700)\u001b[0m Client 4 loss 0.0013021866745491668\u001b[32m [repeated 9x across cluster]\u001b[0m\n",
            "\u001b[36m(ClientAppActor pid=57700)\u001b[0m Client 4 accuracy 0.99\u001b[32m [repeated 9x across cluster]\u001b[0m\n",
            "\u001b[36m(ClientAppActor pid=57700)\u001b[0m Epoch 1: train loss 0.000328, accuracy 0.996296\u001b[32m [repeated 10x across cluster]\u001b[0m\n",
            "\u001b[36m(ClientAppActor pid=45828)\u001b[0m [Client 7] fit, config: {}\u001b[32m [repeated 7x across cluster]\u001b[0m\n",
            "\u001b[36m(ClientAppActor pid=48396)\u001b[0m Epoch 3: train loss 0.000126, accuracy 0.998704\u001b[32m [repeated 19x across cluster]\u001b[0m\n",
            "\u001b[36m(ClientAppActor pid=55284)\u001b[0m Epoch 5: train loss 0.000022, accuracy 0.999815\u001b[32m [repeated 18x across cluster]\u001b[0m\n",
            "\u001b[36m(ClientAppActor pid=46828)\u001b[0m Epoch 8: train loss 0.000067, accuracy 0.999444\u001b[32m [repeated 18x across cluster]\u001b[0m\n",
            "\u001b[36m(ClientAppActor pid=46828)\u001b[0m [Client 6] fit, config: {}\n",
            "\u001b[36m(ClientAppActor pid=46828)\u001b[0m Epoch 0: train loss 0.001079, accuracy 0.990370\u001b[32m [repeated 16x across cluster]\u001b[0m\n",
            "\u001b[36m(ClientAppActor pid=4868)\u001b[0m [Client 9] fit, config: {}\n",
            "\u001b[36m(ClientAppActor pid=4868)\u001b[0m Epoch 2: train loss 0.000187, accuracy 0.998519\u001b[32m [repeated 5x across cluster]\u001b[0m\n",
            "\u001b[36m(ClientAppActor pid=4868)\u001b[0m Epoch 4: train loss 0.000020, accuracy 1.000000\u001b[32m [repeated 4x across cluster]\u001b[0m\n",
            "\u001b[36m(ClientAppActor pid=4868)\u001b[0m Epoch 6: train loss 0.000464, accuracy 0.995000\u001b[32m [repeated 4x across cluster]\u001b[0m\n",
            "\u001b[36m(ClientAppActor pid=4868)\u001b[0m Epoch 8: train loss 0.000247, accuracy 0.997037\u001b[32m [repeated 4x across cluster]\u001b[0m\n"
          ]
        },
        {
          "name": "stderr",
          "output_type": "stream",
          "text": [
            "\u001b[92mINFO \u001b[0m:      aggregate_fit: received 10 results and 0 failures\n",
            "\u001b[92mINFO \u001b[0m:      configure_evaluate: strategy sampled 10 clients (out of 10)\n"
          ]
        },
        {
          "name": "stdout",
          "output_type": "stream",
          "text": [
            "\u001b[36m(ClientAppActor pid=4868)\u001b[0m [Client 9] evaluate, config: {}\n",
            "\u001b[36m(ClientAppActor pid=4868)\u001b[0m Client 9 loss 0.0005901486090325155\n",
            "\u001b[36m(ClientAppActor pid=4868)\u001b[0m Client 9 accuracy 0.9966666666666667\n"
          ]
        },
        {
          "name": "stderr",
          "output_type": "stream",
          "text": [
            "\u001b[92mINFO \u001b[0m:      aggregate_evaluate: received 10 results and 0 failures\n",
            "\u001b[92mINFO \u001b[0m:      \n",
            "\u001b[92mINFO \u001b[0m:      [ROUND 8]\n",
            "\u001b[92mINFO \u001b[0m:      configure_fit: strategy sampled 10 clients (out of 10)\n"
          ]
        },
        {
          "name": "stdout",
          "output_type": "stream",
          "text": [
            "\u001b[36m(ClientAppActor pid=46828)\u001b[0m [Client 4] fit, config: {}\n",
            "\u001b[36m(ClientAppActor pid=46828)\u001b[0m Epoch 0: train loss 0.000978, accuracy 0.990926\u001b[32m [repeated 3x across cluster]\u001b[0m\n",
            "\u001b[36m(ClientAppActor pid=46828)\u001b[0m [Client 8] evaluate, config: {}\u001b[32m [repeated 9x across cluster]\u001b[0m\n",
            "\u001b[36m(ClientAppActor pid=46828)\u001b[0m Client 8 loss 0.0007229478646382858\u001b[32m [repeated 9x across cluster]\u001b[0m\n",
            "\u001b[36m(ClientAppActor pid=46828)\u001b[0m Client 8 accuracy 0.9933333333333333\u001b[32m [repeated 9x across cluster]\u001b[0m\n",
            "\u001b[36m(ClientAppActor pid=51940)\u001b[0m [Client 8] fit, config: {}\u001b[32m [repeated 7x across cluster]\u001b[0m\n",
            "\u001b[36m(ClientAppActor pid=48396)\u001b[0m Epoch 2: train loss 0.000190, accuracy 0.997778\u001b[32m [repeated 17x across cluster]\u001b[0m\n",
            "\u001b[36m(ClientAppActor pid=56380)\u001b[0m Epoch 4: train loss 0.000028, accuracy 0.999815\u001b[32m [repeated 20x across cluster]\u001b[0m\n",
            "\u001b[36m(ClientAppActor pid=46828)\u001b[0m Epoch 7: train loss 0.000002, accuracy 1.000000\u001b[32m [repeated 19x across cluster]\u001b[0m\n",
            "\u001b[36m(ClientAppActor pid=46828)\u001b[0m [Client 7] fit, config: {}\n",
            "\u001b[36m(ClientAppActor pid=56380)\u001b[0m Epoch 9: train loss 0.000441, accuracy 0.995370\u001b[32m [repeated 17x across cluster]\u001b[0m\n",
            "\u001b[36m(ClientAppActor pid=56380)\u001b[0m [Client 0] fit, config: {}\n",
            "\u001b[36m(ClientAppActor pid=56380)\u001b[0m Epoch 1: train loss 0.000189, accuracy 0.997963\u001b[32m [repeated 10x across cluster]\u001b[0m\n",
            "\u001b[36m(ClientAppActor pid=46828)\u001b[0m Epoch 4: train loss 0.000009, accuracy 0.999815\u001b[32m [repeated 5x across cluster]\u001b[0m\n",
            "\u001b[36m(ClientAppActor pid=46828)\u001b[0m Epoch 6: train loss 0.000002, accuracy 1.000000\u001b[32m [repeated 4x across cluster]\u001b[0m\n",
            "\u001b[36m(ClientAppActor pid=56380)\u001b[0m Epoch 8: train loss 0.000211, accuracy 0.998148\u001b[32m [repeated 5x across cluster]\u001b[0m\n"
          ]
        },
        {
          "name": "stderr",
          "output_type": "stream",
          "text": [
            "\u001b[92mINFO \u001b[0m:      aggregate_fit: received 10 results and 0 failures\n",
            "\u001b[92mINFO \u001b[0m:      configure_evaluate: strategy sampled 10 clients (out of 10)\n"
          ]
        },
        {
          "name": "stdout",
          "output_type": "stream",
          "text": [
            "\u001b[36m(ClientAppActor pid=56380)\u001b[0m [Client 5] evaluate, config: {}\n",
            "\u001b[36m(ClientAppActor pid=56380)\u001b[0m Client 5 loss 0.001954544698043795\n",
            "\u001b[36m(ClientAppActor pid=56380)\u001b[0m Client 5 accuracy 0.99\n"
          ]
        },
        {
          "name": "stderr",
          "output_type": "stream",
          "text": [
            "\u001b[92mINFO \u001b[0m:      aggregate_evaluate: received 10 results and 0 failures\n",
            "\u001b[92mINFO \u001b[0m:      \n",
            "\u001b[92mINFO \u001b[0m:      [ROUND 9]\n",
            "\u001b[92mINFO \u001b[0m:      configure_fit: strategy sampled 10 clients (out of 10)\n"
          ]
        },
        {
          "name": "stdout",
          "output_type": "stream",
          "text": [
            "\u001b[36m(ClientAppActor pid=55284)\u001b[0m [Client 0] fit, config: {}\n",
            "\u001b[36m(ClientAppActor pid=55284)\u001b[0m Epoch 0: train loss 0.001169, accuracy 0.991111\u001b[32m [repeated 3x across cluster]\u001b[0m\n",
            "\u001b[36m(ClientAppActor pid=55284)\u001b[0m [Client 3] evaluate, config: {}\u001b[32m [repeated 9x across cluster]\u001b[0m\n",
            "\u001b[36m(ClientAppActor pid=55284)\u001b[0m Client 3 loss 0.0026119992428442628\u001b[32m [repeated 9x across cluster]\u001b[0m\n",
            "\u001b[36m(ClientAppActor pid=55284)\u001b[0m Client 3 accuracy 0.9816666666666667\u001b[32m [repeated 9x across cluster]\u001b[0m\n",
            "\u001b[36m(ClientAppActor pid=46828)\u001b[0m [Client 6] fit, config: {}\u001b[32m [repeated 7x across cluster]\u001b[0m\n",
            "\u001b[36m(ClientAppActor pid=46828)\u001b[0m Epoch 2: train loss 0.000119, accuracy 0.998889\u001b[32m [repeated 19x across cluster]\u001b[0m\n",
            "\u001b[36m(ClientAppActor pid=45828)\u001b[0m Epoch 4: train loss 0.000066, accuracy 0.999444\u001b[32m [repeated 18x across cluster]\u001b[0m\n",
            "\u001b[36m(ClientAppActor pid=48396)\u001b[0m Epoch 6: train loss 0.000002, accuracy 1.000000\u001b[32m [repeated 18x across cluster]\u001b[0m\n",
            "\u001b[36m(ClientAppActor pid=56380)\u001b[0m Epoch 9: train loss 0.000001, accuracy 1.000000\u001b[32m [repeated 17x across cluster]\u001b[0m\n",
            "\u001b[36m(ClientAppActor pid=56380)\u001b[0m [Client 1] fit, config: {}\n",
            "\u001b[36m(ClientAppActor pid=56380)\u001b[0m Epoch 1: train loss 0.000215, accuracy 0.997593\u001b[32m [repeated 10x across cluster]\u001b[0m\n",
            "\u001b[36m(ClientAppActor pid=55284)\u001b[0m [Client 2] fit, config: {}\n",
            "\u001b[36m(ClientAppActor pid=56380)\u001b[0m Epoch 3: train loss 0.000182, accuracy 0.998889\u001b[32m [repeated 4x across cluster]\u001b[0m\n",
            "\u001b[36m(ClientAppActor pid=56380)\u001b[0m Epoch 5: train loss 0.000129, accuracy 0.998704\u001b[32m [repeated 4x across cluster]\u001b[0m\n",
            "\u001b[36m(ClientAppActor pid=56380)\u001b[0m Epoch 7: train loss 0.000013, accuracy 1.000000\u001b[32m [repeated 4x across cluster]\u001b[0m\n",
            "\u001b[36m(ClientAppActor pid=56380)\u001b[0m Epoch 9: train loss 0.000001, accuracy 1.000000\u001b[32m [repeated 4x across cluster]\u001b[0m\n"
          ]
        },
        {
          "name": "stderr",
          "output_type": "stream",
          "text": [
            "\u001b[92mINFO \u001b[0m:      aggregate_fit: received 10 results and 0 failures\n",
            "\u001b[92mINFO \u001b[0m:      configure_evaluate: strategy sampled 10 clients (out of 10)\n"
          ]
        },
        {
          "name": "stdout",
          "output_type": "stream",
          "text": [
            "\u001b[36m(ClientAppActor pid=55284)\u001b[0m [Client 8] evaluate, config: {}\n",
            "\u001b[36m(ClientAppActor pid=55284)\u001b[0m Client 8 loss 0.0008452698635549775\n",
            "\u001b[36m(ClientAppActor pid=55284)\u001b[0m Client 8 accuracy 0.995\n"
          ]
        },
        {
          "name": "stderr",
          "output_type": "stream",
          "text": [
            "\u001b[92mINFO \u001b[0m:      aggregate_evaluate: received 10 results and 0 failures\n",
            "\u001b[92mINFO \u001b[0m:      \n",
            "\u001b[92mINFO \u001b[0m:      [ROUND 10]\n",
            "\u001b[92mINFO \u001b[0m:      configure_fit: strategy sampled 10 clients (out of 10)\n"
          ]
        },
        {
          "name": "stdout",
          "output_type": "stream",
          "text": [
            "\u001b[36m(ClientAppActor pid=56380)\u001b[0m [Client 9] fit, config: {}\n",
            "\u001b[36m(ClientAppActor pid=55284)\u001b[0m Epoch 1: train loss 0.000305, accuracy 0.996296\u001b[32m [repeated 10x across cluster]\u001b[0m\n",
            "\u001b[36m(ClientAppActor pid=56380)\u001b[0m [Client 0] evaluate, config: {}\u001b[32m [repeated 9x across cluster]\u001b[0m\n",
            "\u001b[36m(ClientAppActor pid=56380)\u001b[0m Client 0 loss 0.0032609756023350596\u001b[32m [repeated 9x across cluster]\u001b[0m\n",
            "\u001b[36m(ClientAppActor pid=56380)\u001b[0m Client 0 accuracy 0.9833333333333333\u001b[32m [repeated 9x across cluster]\u001b[0m\n",
            "\u001b[36m(ClientAppActor pid=57700)\u001b[0m [Client 3] fit, config: {}\u001b[32m [repeated 7x across cluster]\u001b[0m\n",
            "\u001b[36m(ClientAppActor pid=51940)\u001b[0m Epoch 3: train loss 0.000039, accuracy 0.999815\u001b[32m [repeated 18x across cluster]\u001b[0m\n",
            "\u001b[36m(ClientAppActor pid=46828)\u001b[0m Epoch 5: train loss 0.000121, accuracy 0.998889\u001b[32m [repeated 20x across cluster]\u001b[0m\n",
            "\u001b[36m(ClientAppActor pid=55284)\u001b[0m Epoch 7: train loss 0.000117, accuracy 0.998704\u001b[32m [repeated 17x across cluster]\u001b[0m\n",
            "\u001b[36m(ClientAppActor pid=51940)\u001b[0m [Client 2] fit, config: {}\n",
            "\u001b[36m(ClientAppActor pid=51940)\u001b[0m Epoch 0: train loss 0.001256, accuracy 0.991111\u001b[32m [repeated 17x across cluster]\u001b[0m\n",
            "\u001b[36m(ClientAppActor pid=45828)\u001b[0m [Client 1] fit, config: {}\n",
            "\u001b[36m(ClientAppActor pid=51940)\u001b[0m Epoch 2: train loss 0.000131, accuracy 0.998889\u001b[32m [repeated 4x across cluster]\u001b[0m\n",
            "\u001b[36m(ClientAppActor pid=45828)\u001b[0m Epoch 4: train loss 0.000006, accuracy 1.000000\u001b[32m [repeated 4x across cluster]\u001b[0m\n",
            "\u001b[36m(ClientAppActor pid=51940)\u001b[0m Epoch 6: train loss 0.000003, accuracy 1.000000\u001b[32m [repeated 4x across cluster]\u001b[0m\n",
            "\u001b[36m(ClientAppActor pid=51940)\u001b[0m Epoch 8: train loss 0.000002, accuracy 1.000000\u001b[32m [repeated 4x across cluster]\u001b[0m\n"
          ]
        },
        {
          "name": "stderr",
          "output_type": "stream",
          "text": [
            "\u001b[92mINFO \u001b[0m:      aggregate_fit: received 10 results and 0 failures\n",
            "\u001b[92mINFO \u001b[0m:      configure_evaluate: strategy sampled 10 clients (out of 10)\n"
          ]
        },
        {
          "name": "stdout",
          "output_type": "stream",
          "text": [
            "\u001b[36m(ClientAppActor pid=45828)\u001b[0m [Client 5] evaluate, config: {}\n",
            "\u001b[36m(ClientAppActor pid=45828)\u001b[0m Client 5 loss 0.002440537388323302\n",
            "\u001b[36m(ClientAppActor pid=45828)\u001b[0m Client 5 accuracy 0.99\n"
          ]
        },
        {
          "name": "stderr",
          "output_type": "stream",
          "text": [
            "\u001b[92mINFO \u001b[0m:      aggregate_evaluate: received 10 results and 0 failures\n",
            "\u001b[92mINFO \u001b[0m:      \n",
            "\u001b[92mINFO \u001b[0m:      [SUMMARY]\n",
            "\u001b[92mINFO \u001b[0m:      Run finished 10 round(s) in 525.00s\n",
            "\u001b[92mINFO \u001b[0m:      \tHistory (loss, distributed):\n",
            "\u001b[92mINFO \u001b[0m:      \t\tround 1: 0.0036222374315063154\n",
            "\u001b[92mINFO \u001b[0m:      \t\tround 2: 0.0019793802565642787\n",
            "\u001b[92mINFO \u001b[0m:      \t\tround 3: 0.0019538444073120523\n",
            "\u001b[92mINFO \u001b[0m:      \t\tround 4: 0.0019344791223141443\n",
            "\u001b[92mINFO \u001b[0m:      \t\tround 5: 0.0019032931652087466\n",
            "\u001b[92mINFO \u001b[0m:      \t\tround 6: 0.001782252038516494\n",
            "\u001b[92mINFO \u001b[0m:      \t\tround 7: 0.0017490617420595786\n",
            "\u001b[92mINFO \u001b[0m:      \t\tround 8: 0.0018109325330709063\n",
            "\u001b[92mINFO \u001b[0m:      \t\tround 9: 0.001757214188742724\n",
            "\u001b[92mINFO \u001b[0m:      \t\tround 10: 0.0017818321818540092\n",
            "\u001b[92mINFO \u001b[0m:      \n"
          ]
        },
        {
          "data": {
            "text/plain": [
              "History (loss, distributed):\n",
              "\tround 1: 0.0036222374315063154\n",
              "\tround 2: 0.0019793802565642787\n",
              "\tround 3: 0.0019538444073120523\n",
              "\tround 4: 0.0019344791223141443\n",
              "\tround 5: 0.0019032931652087466\n",
              "\tround 6: 0.001782252038516494\n",
              "\tround 7: 0.0017490617420595786\n",
              "\tround 8: 0.0018109325330709063\n",
              "\tround 9: 0.001757214188742724\n",
              "\tround 10: 0.0017818321818540092"
            ]
          },
          "execution_count": 25,
          "metadata": {},
          "output_type": "execute_result"
        }
      ],
      "source": [
        "strategy_fed_avg = FedAvgCustom()\n",
        "\n",
        "fl.simulation.start_simulation(\n",
        "    client_fn=client_fn,\n",
        "    num_clients=10,\n",
        "    config=fl.server.ServerConfig(num_rounds=10),\n",
        "    client_resources=client_resources,\n",
        "    strategy=strategy_fed_avg,\n",
        ")"
      ]
    },
    {
      "cell_type": "code",
      "execution_count": 26,
      "metadata": {},
      "outputs": [
        {
          "name": "stdout",
          "output_type": "stream",
          "text": [
            "\u001b[36m(ClientAppActor pid=57700)\u001b[0m Client 8 loss 0.0011366552068903957\n",
            "\u001b[36m(ClientAppActor pid=57700)\u001b[0m Client 8 accuracy 0.9916666666666667\n"
          ]
        },
        {
          "data": {
            "image/png": "[encoded data removed]",
            "text/plain": [
              "<Figure size 1500x500 with 2 Axes>"
            ]
          },
          "metadata": {},
          "output_type": "display_data"
        }
      ],
      "source": [
        "plot_metrics(strategy_fed_avg.client_metrics)"
      ]
    },
    {
      "cell_type": "code",
      "execution_count": 27,
      "metadata": {},
      "outputs": [
        {
          "data": {
            "image/png": "[encoded data removed]",
            "text/plain": [
              "<Figure size 1200x800 with 1 Axes>"
            ]
          },
          "metadata": {},
          "output_type": "display_data"
        }
      ],
      "source": [
        "plot_times(strategy_fed_avg.client_training_times)"
      ]
    },
    {
      "cell_type": "code",
      "execution_count": null,
      "metadata": {},
      "outputs": [],
      "source": []
    }
  ],
  "metadata": {
    "colab": {
      "provenance": []
    },
    "kernelspec": {
      "display_name": "Python 3",
      "name": "python3"
    },
    "language_info": {
      "codemirror_mode": {
        "name": "ipython",
        "version": 3
      },
      "file_extension": ".py",
      "mimetype": "text/x-python",
      "name": "python",
      "nbconvert_exporter": "python",
      "pygments_lexer": "ipython3",
      "version": "3.12.4"
    }
  },
  "nbformat": 4,
  "nbformat_minor": 0
}
