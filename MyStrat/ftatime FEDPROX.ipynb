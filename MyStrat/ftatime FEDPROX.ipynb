{
 "cells": [
  {
   "cell_type": "code",
   "execution_count": 1,
   "metadata": {
    "colab": {
     "base_uri": "https://localhost:8080/"
    },
    "id": "OZdR1WXDEGxY",
    "outputId": "34c4f998-2ca0-4252-e4f7-424c286a9224"
   },
   "outputs": [],
   "source": [
    "#!pip install -U flwr[\"simulation\"]==1.9.0 torch torchvision GPUtil"
   ]
  },
  {
   "cell_type": "code",
   "execution_count": 1,
   "metadata": {
    "colab": {
     "base_uri": "https://localhost:8080/"
    },
    "id": "obhFyleoEM9F",
    "outputId": "99c58edc-bb25-469f-b692-769941f695ce"
   },
   "outputs": [
    {
     "name": "stdout",
     "output_type": "stream",
     "text": [
      "Training on cuda using PyTorch 2.3.1 and Flower 1.9.0\n"
     ]
    }
   ],
   "source": [
    "from collections import OrderedDict\n",
    "from typing import Dict, List, Optional, Tuple, NamedTuple\n",
    "\n",
    "import numpy as np\n",
    "import torch\n",
    "import torch.nn as nn\n",
    "import torch.nn.functional as F\n",
    "import torchvision.transforms as transforms\n",
    "from torch.utils.data import DataLoader, random_split\n",
    "from torchvision.datasets import CIFAR10\n",
    "import time\n",
    "import flwr as fl\n",
    "from scipy import stats as st\n",
    "import json\n",
    "\n",
    "DEVICE = torch.device(\"cuda\")  # Try \"cuda\" to train on GPU\n",
    "print(\n",
    "    f\"Training on {DEVICE} using PyTorch {torch.__version__} and Flower {fl.__version__}\"\n",
    ")"
   ]
  },
  {
   "cell_type": "code",
   "execution_count": 2,
   "metadata": {},
   "outputs": [],
   "source": [
    "from logging import INFO, DEBUG\n",
    "from flwr.common.logger import log"
   ]
  },
  {
   "cell_type": "code",
   "execution_count": 3,
   "metadata": {},
   "outputs": [
    {
     "name": "stdout",
     "output_type": "stream",
     "text": [
      "Gen RAM Free: 111.8 GB  | Proc size: 510.5 MB\n",
      "GPU RAM Free: 13367MB | Used: 2803MB | Util  17% | Total 16376MB\n"
     ]
    }
   ],
   "source": [
    "import psutil\n",
    "import humanize\n",
    "import os\n",
    "import GPUtil as GPU\n",
    "GPUs = GPU.getGPUs()\n",
    "# XXX: only one GPU on Colab and isn’t guaranteed\n",
    "gpu = GPUs[0]\n",
    "def printm():\n",
    "   process = psutil.Process(os.getpid())\n",
    "   print(\"Gen RAM Free: \" + humanize.naturalsize( psutil.virtual_memory().available ), \" | Proc size: \" + humanize.naturalsize( process.memory_info().rss))\n",
    "   print(\"GPU RAM Free: {0:.0f}MB | Used: {1:.0f}MB | Util {2:3.0f}% | Total {3:.0f}MB\".format(gpu.memoryFree, gpu.memoryUsed, gpu.memoryUtil*100, gpu.memoryTotal))\n",
    "printm()"
   ]
  },
  {
   "cell_type": "code",
   "execution_count": 4,
   "metadata": {
    "colab": {
     "base_uri": "https://localhost:8080/"
    },
    "id": "T2L0M1hDEQ54",
    "outputId": "d7c63f7f-13e7-4f97-ff2d-97443878fa29"
   },
   "outputs": [
    {
     "name": "stdout",
     "output_type": "stream",
     "text": [
      "Files already downloaded and verified\n",
      "Files already downloaded and verified\n"
     ]
    }
   ],
   "source": [
    "NUM_CLIENTS = 10\n",
    "\n",
    "\n",
    "def load_datasets(num_clients: int):\n",
    "    # Download and transform CIFAR-10 (train and test)\n",
    "    transform = transforms.Compose(\n",
    "        [transforms.ToTensor(), transforms.Normalize((0.5, 0.5, 0.5), (0.5, 0.5, 0.5))]\n",
    "    )\n",
    "    trainset = CIFAR10(\"./dataset\", train=True, download=True, transform=transform)\n",
    "    testset = CIFAR10(\"./dataset\", train=False, download=True, transform=transform)\n",
    "\n",
    "    # Split training set into `num_clients` partitions to simulate different local datasets\n",
    "    partition_size = len(trainset) // num_clients\n",
    "    lengths = [partition_size] * num_clients\n",
    "    datasets = random_split(trainset, lengths, torch.Generator().manual_seed(42))\n",
    "\n",
    "    # Split each partition into train/val and create DataLoader\n",
    "    trainloaders = []\n",
    "    valloaders = []\n",
    "    for ds in datasets:\n",
    "        len_val = len(ds) // 10  # 10 % validation set\n",
    "        len_train = len(ds) - len_val\n",
    "        lengths = [len_train, len_val]\n",
    "        ds_train, ds_val = random_split(ds, lengths, torch.Generator().manual_seed(42))\n",
    "        trainloaders.append(DataLoader(ds_train, batch_size=32, shuffle=True))\n",
    "        valloaders.append(DataLoader(ds_val, batch_size=32))\n",
    "    testloader = DataLoader(testset, batch_size=32)\n",
    "    return trainloaders, valloaders, testloader\n",
    "\n",
    "\n",
    "trainloaders, valloaders, testloader = load_datasets(NUM_CLIENTS)"
   ]
  },
  {
   "cell_type": "code",
   "execution_count": 5,
   "metadata": {
    "id": "4q9gZPKEEVZ0"
   },
   "outputs": [],
   "source": [
    "class Net(nn.Module):\n",
    "    def __init__(self) -> None:\n",
    "        super(Net, self).__init__()\n",
    "        self.conv1 = nn.Conv2d(3, 6, 5)\n",
    "        self.pool = nn.MaxPool2d(2, 2)\n",
    "        self.conv2 = nn.Conv2d(6, 16, 5)\n",
    "        self.fc1 = nn.Linear(16 * 5 * 5, 120)\n",
    "        self.fc2 = nn.Linear(120, 84)\n",
    "        self.fc3 = nn.Linear(84, 10)\n",
    "\n",
    "    def forward(self, x: torch.Tensor) -> torch.Tensor:\n",
    "        x = self.pool(F.relu(self.conv1(x)))\n",
    "        x = self.pool(F.relu(self.conv2(x)))\n",
    "        x = x.view(-1, 16 * 5 * 5)\n",
    "        x = F.relu(self.fc1(x))\n",
    "        x = F.relu(self.fc2(x))\n",
    "        x = self.fc3(x)\n",
    "        return x\n",
    "\n",
    "\n",
    "def get_parameters(net) -> List[np.ndarray]:\n",
    "    return [val.cpu().numpy() for _, val in net.state_dict().items()]\n",
    "\n",
    "\n",
    "def set_parameters(net, parameters: List[np.ndarray]):\n",
    "    params_dict = zip(net.state_dict().keys(), parameters)\n",
    "    state_dict = OrderedDict({k: torch.Tensor(v) for k, v in params_dict})\n",
    "    net.load_state_dict(state_dict, strict=True)\n",
    "\n",
    "class ClientMetrics(NamedTuple):\n",
    "    epoch: int\n",
    "    loss: float\n",
    "    accuracy: float\n",
    "    round: int = 0\n",
    "    cid: int = 0\n",
    "\n",
    "def train(net, trainloader, epochs: int):\n",
    "    \"\"\"Train the network on the training set.\"\"\"\n",
    "    criterion = torch.nn.CrossEntropyLoss()\n",
    "    optimizer = torch.optim.Adam(net.parameters())\n",
    "    net.train()\n",
    "    metrics = []\n",
    "    for epoch in range(epochs):  # Use the passed 'epochs' variable here\n",
    "        correct, total, epoch_loss = 0, 0, 0.0\n",
    "        for images, labels in trainloader:\n",
    "            images, labels = images.to(DEVICE), labels.to(DEVICE)\n",
    "            optimizer.zero_grad()\n",
    "            outputs = net(images)\n",
    "            loss = criterion(outputs, labels)\n",
    "            loss.backward()\n",
    "            optimizer.step()\n",
    "            # Metrics\n",
    "            epoch_loss += loss.item()  # Make sure to call .item() to get the scalar value\n",
    "            total += labels.size(0)\n",
    "            correct += (torch.max(outputs.data, 1)[1] == labels).sum().item()\n",
    "        epoch_loss /= len(trainloader.dataset)\n",
    "        epoch_acc = correct / total\n",
    "        metrics.append(ClientMetrics(epoch, epoch_loss, epoch_acc))\n",
    "        print(f\"Epoch {epoch}: train loss {epoch_loss:.6f}, accuracy {epoch_acc:.6f}\")\n",
    "        \n",
    "    return metrics\n",
    "\n",
    "\n",
    "def test(net, testloader):\n",
    "    \"\"\"Evaluate the network on the entire test set.\"\"\"\n",
    "    criterion = torch.nn.CrossEntropyLoss()\n",
    "    correct, total, loss = 0, 0, 0.0\n",
    "    net.eval()\n",
    "    with torch.no_grad():\n",
    "        for images, labels in testloader:\n",
    "            images, labels = images.to(DEVICE), labels.to(DEVICE)\n",
    "            outputs = net(images)\n",
    "            loss += criterion(outputs, labels).item()\n",
    "            _, predicted = torch.max(outputs.data, 1)\n",
    "            total += labels.size(0)\n",
    "            correct += (predicted == labels).sum().item()\n",
    "    loss /= len(testloader.dataset)\n",
    "    accuracy = correct / total\n",
    "    return loss, accuracy"
   ]
  },
  {
   "cell_type": "code",
   "execution_count": 7,
   "metadata": {
    "id": "DpDR8IdSEX0E"
   },
   "outputs": [],
   "source": [
    "class FlowerClient(fl.client.NumPyClient):\n",
    "    def __init__(self, cid, net, trainloader, valloader):\n",
    "        self.cid = cid\n",
    "        self.net = net\n",
    "        self.trainloader = trainloader\n",
    "        self.valloader = valloader\n",
    "\n",
    "    def get_parameters(self):\n",
    "        print(f\"[Client {self.cid}] get_parameters\")\n",
    "        return get_parameters(self.net)\n",
    "\n",
    "    def fit(self, parameters, config):\n",
    "        print(f\"[Client {self.cid}] fit, config: {config}\")\n",
    "        set_parameters(self.net, parameters)\n",
    "        epochs = config.get(\"epochs\", 1)\n",
    "        start_time = time.time()  # Start time measurement\n",
    "        metrics = train(self.net, self.trainloader, epochs)\n",
    "        training_time = time.time() - start_time  # Calculate duration\n",
    "        print(f\"Training time for Client {self.cid}: {training_time:.2f} seconds\")\n",
    "        \n",
    "        return get_parameters(self.net), len(self.trainloader), {\"training_time\": training_time, \"metrics\": json.dumps(metrics)}\n",
    "\n",
    "\n",
    "\n",
    "    def evaluate(self, parameters, config):\n",
    "        print(f\"[Client {self.cid}] evaluate, config: {config}\")\n",
    "        set_parameters(self.net, parameters)\n",
    "        loss, accuracy = test(self.net, self.valloader)\n",
    "        return float(loss), len(self.valloader), {\"accuracy\": float(accuracy)}\n",
    "\n",
    "\n",
    "def client_fn(cid) -> FlowerClient:\n",
    "    net = Net().to(DEVICE)\n",
    "    trainloader = trainloaders[int(cid)]\n",
    "    valloader = valloaders[int(cid)]\n",
    "    return FlowerClient(cid, net, trainloader, valloader).to_client()"
   ]
  },
  {
   "cell_type": "code",
   "execution_count": 6,
   "metadata": {
    "id": "mSYL7mrZE21l"
   },
   "outputs": [],
   "source": [
    "from typing import Callable, Union\n",
    "\n",
    "from flwr.common import (\n",
    "    EvaluateIns,\n",
    "    EvaluateRes,\n",
    "    FitIns,\n",
    "    FitRes,\n",
    "    MetricsAggregationFn,\n",
    "    NDArrays,\n",
    "    Parameters,\n",
    "    Scalar,\n",
    "    ndarrays_to_parameters,\n",
    "    parameters_to_ndarrays,\n",
    ")\n",
    "from flwr.server.client_manager import ClientManager\n",
    "from flwr.server.client_proxy import ClientProxy\n",
    "from flwr.server.strategy.aggregate import aggregate, weighted_loss_avg\n",
    "\n",
    "\n",
    "class FedCustom(fl.server.strategy.Strategy):\n",
    "    def __init__(\n",
    "        self,\n",
    "        fraction_fit: float = 1.0,\n",
    "        fraction_evaluate: float = 1.0,\n",
    "        min_fit_clients: int = 2,\n",
    "        min_evaluate_clients: int = 2,\n",
    "        min_available_clients: int = 2,\n",
    "    ) -> None:\n",
    "        super().__init__()\n",
    "        self.fraction_fit = fraction_fit\n",
    "        self.fraction_evaluate = fraction_evaluate\n",
    "        self.min_fit_clients = min_fit_clients\n",
    "        self.min_evaluate_clients = min_evaluate_clients\n",
    "        self.min_available_clients = min_available_clients\n",
    "        self.client_training_times: Dict[int, List[float]] = {}\n",
    "        self.client_metrics: Dict[int, List[ClientMetrics]] = {}\n",
    "        self.loss_extreme: Dict[int, Tuple[int, float, float]] = {}\n",
    "        self.accuracy_extreme: Dict[int, Tuple[int, float, float]] = {}\n",
    "    def __repr__(self) -> str:\n",
    "        return \"FedCustom\"\n",
    "\n",
    "    def initialize_parameters(\n",
    "        self, client_manager: ClientManager\n",
    "    ) -> Optional[Parameters]:\n",
    "        \"\"\"Initialize global model parameters.\"\"\"\n",
    "        net = Net()\n",
    "        ndarrays = get_parameters(net)\n",
    "        return fl.common.ndarrays_to_parameters(ndarrays)\n",
    "\n",
    "    def configure_fit(self, server_round: int, parameters: Parameters, client_manager: ClientManager):\n",
    "        sample_size, min_num_clients = self.num_fit_clients(client_manager.num_available())\n",
    "        clients = client_manager.sample(num_clients=sample_size, min_num_clients=min_num_clients)\n",
    "        epochs_sc = 10\n",
    "        \n",
    "\n",
    "        standard_config = {\"lr\": 0.001, \"epochs\": epochs_sc}\n",
    "        \n",
    "        fit_configurations = []\n",
    "        mode_time = []\n",
    "        \n",
    "        for client in clients:\n",
    "            last_time = self.client_training_times.get(client.cid, [0,])[-1] # Default to 0 if no time recorded # Yash has changed this as we now save last time of all epochs as key: value - cid: list of times\n",
    "            print(f\"This is ths last time not a fantasy {last_time}and {client.cid}habhhahah\")\n",
    "            \n",
    "            \n",
    "            mode_time.append(round(last_time,2))\n",
    "            print(f\"this is tehb mode time {mode_time}\")\n",
    "           \n",
    "\n",
    "        modest_value = st.mode(np.array(mode_time))\n",
    "        print(f\"Yeh h modest valueueueueu{modest_value}\")\n",
    "        print(f\"yeh h server round {server_round}\")\n",
    "        min_value, max_value= np.min(modest_value),np.max(modest_value)\n",
    "        print(f\"this is the min value {min_value} and this is the max value {max_value}\")\n",
    "      \n",
    "        \n",
    "        if min_value == max_value:\n",
    "            epochs_hl = epochs_sc   \n",
    "        else:\n",
    "            epochs_hl = int(np.floor((max_value-min_value)/max_value * epochs_sc)) \n",
    "\n",
    "        higher_lr_config = {\"lr\": 0.0001, \"epochs\": epochs_hl}\n",
    "        print(f\"The epochs for the higher lr is {epochs_hl} and the epochs for the standard lr is {epochs_sc}\")\n",
    "\n",
    "\n",
    "\n",
    "\n",
    "        for client in clients:\n",
    "            # Choose config based on the previous training time\n",
    "            last_time = self.client_training_times.get(client.cid, [0,])[-1]  # Default to 0 if no time recorded # Yash has changed this as we now save last time of all epochs as key: value - cid: list of times\n",
    "            print(f\"This is the last time {last_time}\")\n",
    "            \n",
    "\n",
    "\n",
    "            config_to_use = standard_config if last_time < modest_value.mode else higher_lr_config\n",
    "            fit_configurations.append((client, FitIns(parameters, config_to_use)))\n",
    "\n",
    "        return fit_configurations\n",
    "    \n",
    "    def parse_metrics(self, cid: int, server_round: int, metrics: str): # this function has been added to parse the metrics from the client\n",
    "        client_data: List[ClientMetrics] = json.loads(metrics)\n",
    "        data_store: List[ClientMetrics] = self.client_metrics.setdefault(cid, [])\n",
    "        last_epoch: int = len(data_store)\n",
    "        for data in client_data:\n",
    "            data_store.append(ClientMetrics(last_epoch, data[1], data[2], round=server_round, cid=cid))\n",
    "            last_epoch += 1\n",
    "\n",
    "    def aggregate_fit(\n",
    "        self,\n",
    "        server_round: int,\n",
    "        results: List[Tuple[ClientProxy, FitRes]],\n",
    "        failures: List[Union[Tuple[ClientProxy, FitRes], BaseException]],\n",
    "    ) -> Tuple[Optional[Parameters], Dict[str, Scalar]]:\n",
    "        \"\"\"Aggregate fit results using weighted average.\"\"\"\n",
    "        for client, fit_res in results:\n",
    "            # Update training times for each client\n",
    "            self.client_training_times.setdefault(client.cid, []).append(fit_res.metrics.get(\"training_time\", 0)) # Yash has changed this as we now save last time of all epochs as key: value - cid: list of times\n",
    "            self.parse_metrics(client.cid,server_round, fit_res.metrics.get(\"metrics\", None))\n",
    "        weights_results = [\n",
    "            (parameters_to_ndarrays(fit_res.parameters), fit_res.num_examples)\n",
    "            for _, fit_res in results\n",
    "        ]\n",
    "        parameters_aggregated = ndarrays_to_parameters(aggregate(weights_results))\n",
    "        metrics_aggregated = {}\n",
    "        return parameters_aggregated, metrics_aggregated\n",
    "\n",
    "\n",
    "    def configure_evaluate(\n",
    "        self, server_round: int, parameters: Parameters, client_manager: ClientManager\n",
    "    ) -> List[Tuple[ClientProxy, EvaluateIns]]:\n",
    "        \"\"\"Configure the next round of evaluation.\"\"\"\n",
    "        if self.fraction_evaluate == 0.0:\n",
    "            return []\n",
    "        config = {}\n",
    "        evaluate_ins = EvaluateIns(parameters, config)\n",
    "\n",
    "        # Sample clients\n",
    "        sample_size, min_num_clients = self.num_evaluation_clients(\n",
    "            client_manager.num_available()\n",
    "        )\n",
    "        clients = client_manager.sample(\n",
    "            num_clients=sample_size, min_num_clients=min_num_clients\n",
    "        )\n",
    "\n",
    "        # Return client/config pairs\n",
    "        return [(client, evaluate_ins) for client in clients]\n",
    "\n",
    "    def aggregate_evaluate(\n",
    "        self,\n",
    "        server_round: int,\n",
    "        results: List[Tuple[ClientProxy, EvaluateRes]],\n",
    "        failures: List[Union[Tuple[ClientProxy, EvaluateRes], BaseException]],\n",
    "    ) -> Tuple[Optional[float], Dict[str, Scalar]]:\n",
    "        \"\"\"Aggregate evaluation losses using weighted average.\"\"\"\n",
    "\n",
    "        if not results:\n",
    "            return None, {}\n",
    "\n",
    "        loss_aggregated = weighted_loss_avg(\n",
    "            [\n",
    "                (evaluate_res.num_examples, evaluate_res.loss)\n",
    "                for _, evaluate_res in results\n",
    "            ]\n",
    "        )\n",
    "        metrics_aggregated = {}\n",
    "        return loss_aggregated, metrics_aggregated\n",
    "\n",
    "    def evaluate(\n",
    "        self, server_round: int, parameters: Parameters\n",
    "    ) -> Optional[Tuple[float, Dict[str, Scalar]]]:\n",
    "        \"\"\"Evaluate global model parameters using an evalua\n",
    "        tion function.\"\"\"\n",
    "\n",
    "        # Let's assume we won't perform the global model evaluation on the server side.\n",
    "        \n",
    "        return None\n",
    "\n",
    "    def num_fit_clients(self, num_available_clients: int) -> Tuple[int, int]:\n",
    "        \"\"\"Return sample size and required number of clients.\"\"\"\n",
    "        num_clients = int(num_available_clients * self.fraction_fit)\n",
    "        return max(num_clients, self.min_fit_clients), self.min_available_clients\n",
    "\n",
    "    def num_evaluation_clients(self, num_available_clients: int) -> Tuple[int, int]:\n",
    "        \"\"\"Use a fraction of available clients for evaluation.\"\"\"\n",
    "        num_clients = int(num_available_clients * self.fraction_evaluate)\n",
    "        return max(num_clients, self.min_evaluate_clients), self.min_available_clients"
   ]
  },
  {
   "cell_type": "code",
   "execution_count": 7,
   "metadata": {},
   "outputs": [],
   "source": [
    "if DEVICE.type == \"cuda\":\n",
    "    # Use a single client to train the global model\n",
    "    client_resources = {\"num_gpus\": .125, \"num_cpus\": 1} "
   ]
  },
  {
   "cell_type": "code",
   "execution_count": 10,
   "metadata": {
    "colab": {
     "base_uri": "https://localhost:8080/"
    },
    "id": "FvJM3bH4HDth",
    "outputId": "a273cb4a-ef0a-40e3-f789-e8f1f37366ce"
   },
   "outputs": [
    {
     "name": "stderr",
     "output_type": "stream",
     "text": [
      "\u001b[92mINFO \u001b[0m:      Starting Flower simulation, config: num_rounds=10, no round_timeout\n",
      "2024-07-29 10:07:15,809\tINFO worker.py:1771 -- Started a local Ray instance.\n",
      "\u001b[92mINFO \u001b[0m:      Flower VCE: Ray initialized with resources: {'node:__internal_head__': 1.0, 'CPU': 32.0, 'memory': 74253956506.0, 'node:127.0.0.1': 1.0, 'accelerator_type:RTX': 1.0, 'GPU': 1.0, 'object_store_memory': 36108838502.0}\n",
      "\u001b[92mINFO \u001b[0m:      Optimize your simulation with Flower VCE: https://flower.ai/docs/framework/how-to-run-simulations.html\n",
      "\u001b[92mINFO \u001b[0m:      Flower VCE: Resources for each Virtual Client: {'num_gpus': 0.125, 'num_cpus': 1}\n",
      "\u001b[92mINFO \u001b[0m:      Flower VCE: Creating VirtualClientEngineActorPool with 8 actors\n",
      "\u001b[92mINFO \u001b[0m:      [INIT]\n",
      "\u001b[92mINFO \u001b[0m:      Using initial global parameters provided by strategy\n",
      "\u001b[92mINFO \u001b[0m:      Evaluating initial global parameters\n",
      "\u001b[92mINFO \u001b[0m:      \n",
      "\u001b[92mINFO \u001b[0m:      [ROUND 1]\n",
      "\u001b[92mINFO \u001b[0m:      configure_fit: strategy sampled 10 clients (out of 10)\n"
     ]
    },
    {
     "name": "stdout",
     "output_type": "stream",
     "text": [
      "This is ths last time not a fantasy 0and 4habhhahah\n",
      "this is tehb mode time [0]\n",
      "This is ths last time not a fantasy 0and 7habhhahah\n",
      "this is tehb mode time [0, 0]\n",
      "This is ths last time not a fantasy 0and 6habhhahah\n",
      "this is tehb mode time [0, 0, 0]\n",
      "This is ths last time not a fantasy 0and 3habhhahah\n",
      "this is tehb mode time [0, 0, 0, 0]\n",
      "This is ths last time not a fantasy 0and 0habhhahah\n",
      "this is tehb mode time [0, 0, 0, 0, 0]\n",
      "This is ths last time not a fantasy 0and 9habhhahah\n",
      "this is tehb mode time [0, 0, 0, 0, 0, 0]\n",
      "This is ths last time not a fantasy 0and 2habhhahah\n",
      "this is tehb mode time [0, 0, 0, 0, 0, 0, 0]\n",
      "This is ths last time not a fantasy 0and 5habhhahah\n",
      "this is tehb mode time [0, 0, 0, 0, 0, 0, 0, 0]\n",
      "This is ths last time not a fantasy 0and 1habhhahah\n",
      "this is tehb mode time [0, 0, 0, 0, 0, 0, 0, 0, 0]\n",
      "This is ths last time not a fantasy 0and 8habhhahah\n",
      "this is tehb mode time [0, 0, 0, 0, 0, 0, 0, 0, 0, 0]\n",
      "Yeh h modest valueueueueuModeResult(mode=0, count=10)\n",
      "yeh h server round 1\n",
      "this is the min value 0 and this is the max value 10\n",
      "The epochs for the higher lr is 10 and the epochs for the standard lr is 10\n",
      "This is the last time 0\n",
      "This is the last time 0\n",
      "This is the last time 0\n",
      "This is the last time 0\n",
      "This is the last time 0\n",
      "This is the last time 0\n",
      "This is the last time 0\n",
      "This is the last time 0\n",
      "This is the last time 0\n",
      "This is the last time 0\n",
      "\u001b[36m(ClientAppActor pid=26892)\u001b[0m [Client 4] fit, config: {'lr': 0.0001, 'epochs': 10}\n",
      "\u001b[36m(ClientAppActor pid=26892)\u001b[0m Epoch 0: train loss 0.064014, accuracy 0.232667\n",
      "\u001b[36m(ClientAppActor pid=13852)\u001b[0m [Client 0] fit, config: {'lr': 0.0001, 'epochs': 10}\u001b[32m [repeated 4x across cluster] (Ray deduplicates logs by default. Set RAY_DEDUP_LOGS=0 to disable log deduplication, or see https://docs.ray.io/en/master/ray-observability/user-guides/configure-logging.html#log-deduplication for more options.)\u001b[0m\n",
      "\u001b[36m(ClientAppActor pid=19292)\u001b[0m Epoch 1: train loss 0.055704, accuracy 0.342000\u001b[32m [repeated 10x across cluster]\u001b[0m\n",
      "\u001b[36m(ClientAppActor pid=26532)\u001b[0m [Client 5] fit, config: {'lr': 0.0001, 'epochs': 10}\u001b[32m [repeated 3x across cluster]\u001b[0m\n",
      "\u001b[36m(ClientAppActor pid=20448)\u001b[0m Epoch 4: train loss 0.048831, accuracy 0.425556\u001b[32m [repeated 18x across cluster]\u001b[0m\n",
      "\u001b[36m(ClientAppActor pid=36268)\u001b[0m Epoch 7: train loss 0.041670, accuracy 0.523111\u001b[32m [repeated 20x across cluster]\u001b[0m\n",
      "\u001b[36m(ClientAppActor pid=26892)\u001b[0m Training time for Client 4: 21.94 seconds\n",
      "\u001b[36m(ClientAppActor pid=19292)\u001b[0m Epoch 8: train loss 0.041663, accuracy 0.520000\u001b[32m [repeated 17x across cluster]\u001b[0m\n",
      "\u001b[36m(ClientAppActor pid=26892)\u001b[0m [Client 1] fit, config: {'lr': 0.0001, 'epochs': 10}\n",
      "\u001b[36m(ClientAppActor pid=13852)\u001b[0m Training time for Client 0: 22.36 seconds\u001b[32m [repeated 4x across cluster]\u001b[0m\n",
      "\u001b[36m(ClientAppActor pid=26892)\u001b[0m Epoch 2: train loss 0.052102, accuracy 0.392000\u001b[32m [repeated 18x across cluster]\u001b[0m\n",
      "\u001b[36m(ClientAppActor pid=36268)\u001b[0m [Client 8] fit, config: {'lr': 0.0001, 'epochs': 10}\n",
      "\u001b[36m(ClientAppActor pid=26532)\u001b[0m Training time for Client 5: 22.55 seconds\u001b[32m [repeated 3x across cluster]\u001b[0m\n",
      "\u001b[36m(ClientAppActor pid=36268)\u001b[0m Epoch 4: train loss 0.045899, accuracy 0.468444\u001b[32m [repeated 6x across cluster]\u001b[0m\n",
      "\u001b[36m(ClientAppActor pid=26892)\u001b[0m Epoch 7: train loss 0.041116, accuracy 0.527333\u001b[32m [repeated 5x across cluster]\u001b[0m\n",
      "\u001b[36m(ClientAppActor pid=26892)\u001b[0m Training time for Client 1: 23.61 seconds\n"
     ]
    },
    {
     "name": "stderr",
     "output_type": "stream",
     "text": [
      "\u001b[92mINFO \u001b[0m:      aggregate_fit: received 10 results and 0 failures\n",
      "\u001b[92mINFO \u001b[0m:      configure_evaluate: strategy sampled 10 clients (out of 10)\n"
     ]
    },
    {
     "name": "stdout",
     "output_type": "stream",
     "text": [
      "\u001b[36m(ClientAppActor pid=36268)\u001b[0m Epoch 9: train loss 0.036810, accuracy 0.568889\u001b[32m [repeated 5x across cluster]\u001b[0m\n",
      "\u001b[36m(ClientAppActor pid=36268)\u001b[0m [Client 5] evaluate, config: {}\n",
      "\u001b[36m(ClientAppActor pid=36268)\u001b[0m Training time for Client 8: 23.16 seconds\n",
      "\u001b[36m(ClientAppActor pid=36268)\u001b[0m [Client 8] evaluate, config: {}\u001b[32m [repeated 5x across cluster]\u001b[0m\n"
     ]
    },
    {
     "name": "stderr",
     "output_type": "stream",
     "text": [
      "\u001b[92mINFO \u001b[0m:      aggregate_evaluate: received 10 results and 0 failures\n",
      "\u001b[92mINFO \u001b[0m:      \n",
      "\u001b[92mINFO \u001b[0m:      [ROUND 2]\n",
      "\u001b[92mINFO \u001b[0m:      configure_fit: strategy sampled 10 clients (out of 10)\n"
     ]
    },
    {
     "name": "stdout",
     "output_type": "stream",
     "text": [
      "This is ths last time not a fantasy 21.94222664833069and 4habhhahah\n",
      "this is tehb mode time [21.94]\n",
      "This is ths last time not a fantasy 22.3122980594635and 2habhhahah\n",
      "this is tehb mode time [21.94, 22.31]\n",
      "This is ths last time not a fantasy 22.497130393981934and 7habhhahah\n",
      "this is tehb mode time [21.94, 22.31, 22.5]\n",
      "This is ths last time not a fantasy 22.549426794052124and 5habhhahah\n",
      "this is tehb mode time [21.94, 22.31, 22.5, 22.55]\n",
      "This is ths last time not a fantasy 22.557677268981934and 6habhhahah\n",
      "this is tehb mode time [21.94, 22.31, 22.5, 22.55, 22.56]\n",
      "This is ths last time not a fantasy 23.16368842124939and 8habhhahah\n",
      "this is tehb mode time [21.94, 22.31, 22.5, 22.55, 22.56, 23.16]\n",
      "This is ths last time not a fantasy 22.509782791137695and 3habhhahah\n",
      "this is tehb mode time [21.94, 22.31, 22.5, 22.55, 22.56, 23.16, 22.51]\n",
      "This is ths last time not a fantasy 23.607501745224and 1habhhahah\n",
      "this is tehb mode time [21.94, 22.31, 22.5, 22.55, 22.56, 23.16, 22.51, 23.61]\n",
      "This is ths last time not a fantasy 22.831300735473633and 9habhhahah\n",
      "this is tehb mode time [21.94, 22.31, 22.5, 22.55, 22.56, 23.16, 22.51, 23.61, 22.83]\n",
      "This is ths last time not a fantasy 22.363783836364746and 0habhhahah\n",
      "this is tehb mode time [21.94, 22.31, 22.5, 22.55, 22.56, 23.16, 22.51, 23.61, 22.83, 22.36]\n",
      "Yeh h modest valueueueueuModeResult(mode=21.94, count=1)\n",
      "yeh h server round 2\n",
      "this is the min value 1.0 and this is the max value 21.94\n",
      "The epochs for the higher lr is 9 and the epochs for the standard lr is 10\n",
      "This is the last time 21.94222664833069\n",
      "This is the last time 22.3122980594635\n",
      "This is the last time 22.497130393981934\n",
      "This is the last time 22.549426794052124\n",
      "This is the last time 22.557677268981934\n",
      "This is the last time 23.16368842124939\n",
      "This is the last time 22.509782791137695\n",
      "This is the last time 23.607501745224\n",
      "This is the last time 22.831300735473633\n",
      "This is the last time 22.363783836364746\n",
      "\u001b[36m(ClientAppActor pid=26892)\u001b[0m [Client 4] fit, config: {'lr': 0.0001, 'epochs': 9}\n",
      "\u001b[36m(ClientAppActor pid=26892)\u001b[0m [Client 3] evaluate, config: {}\u001b[32m [repeated 4x across cluster]\u001b[0m\n",
      "\u001b[36m(ClientAppActor pid=26892)\u001b[0m Epoch 0: train loss 0.047409, accuracy 0.450444\n",
      "\u001b[36m(ClientAppActor pid=19292)\u001b[0m [Client 6] fit, config: {'lr': 0.0001, 'epochs': 9}\u001b[32m [repeated 4x across cluster]\u001b[0m\n",
      "\u001b[36m(ClientAppActor pid=13852)\u001b[0m Epoch 2: train loss 0.041394, accuracy 0.524000\u001b[32m [repeated 11x across cluster]\u001b[0m\n",
      "\u001b[36m(ClientAppActor pid=4016)\u001b[0m [Client 1] fit, config: {'lr': 0.0001, 'epochs': 9}\u001b[32m [repeated 3x across cluster]\u001b[0m\n",
      "\u001b[36m(ClientAppActor pid=19292)\u001b[0m Epoch 3: train loss 0.039958, accuracy 0.541111\u001b[32m [repeated 19x across cluster]\u001b[0m\n",
      "\u001b[36m(ClientAppActor pid=20448)\u001b[0m Epoch 6: train loss 0.032331, accuracy 0.631111\u001b[32m [repeated 18x across cluster]\u001b[0m\n",
      "\u001b[36m(ClientAppActor pid=26892)\u001b[0m Training time for Client 4: 19.94 seconds\n",
      "\u001b[36m(ClientAppActor pid=26892)\u001b[0m [Client 9] fit, config: {'lr': 0.0001, 'epochs': 9}\n",
      "\u001b[36m(ClientAppActor pid=4016)\u001b[0m Epoch 6: train loss 0.031673, accuracy 0.648667\u001b[32m [repeated 18x across cluster]\u001b[0m\n",
      "\u001b[36m(ClientAppActor pid=36268)\u001b[0m Training time for Client 8: 19.74 seconds\u001b[32m [repeated 5x across cluster]\u001b[0m\n",
      "\u001b[36m(ClientAppActor pid=13852)\u001b[0m [Client 0] fit, config: {'lr': 0.0001, 'epochs': 9}\n",
      "\u001b[36m(ClientAppActor pid=13852)\u001b[0m Epoch 2: train loss 0.041558, accuracy 0.524889\u001b[32m [repeated 11x across cluster]\u001b[0m\n",
      "\u001b[36m(ClientAppActor pid=4016)\u001b[0m Training time for Client 1: 20.13 seconds\u001b[32m [repeated 2x across cluster]\u001b[0m\n",
      "\u001b[36m(ClientAppActor pid=26892)\u001b[0m Epoch 5: train loss 0.034423, accuracy 0.607111\u001b[32m [repeated 5x across cluster]\u001b[0m\n",
      "\u001b[36m(ClientAppActor pid=13852)\u001b[0m Epoch 7: train loss 0.029116, accuracy 0.672889\u001b[32m [repeated 5x across cluster]\u001b[0m\n",
      "\u001b[36m(ClientAppActor pid=26892)\u001b[0m Training time for Client 9: 20.82 seconds\n"
     ]
    },
    {
     "name": "stderr",
     "output_type": "stream",
     "text": [
      "\u001b[92mINFO \u001b[0m:      aggregate_fit: received 10 results and 0 failures\n",
      "\u001b[92mINFO \u001b[0m:      configure_evaluate: strategy sampled 10 clients (out of 10)\n"
     ]
    },
    {
     "name": "stdout",
     "output_type": "stream",
     "text": [
      "\u001b[36m(ClientAppActor pid=13852)\u001b[0m [Client 8] evaluate, config: {}\n",
      "\u001b[36m(ClientAppActor pid=13852)\u001b[0m Epoch 8: train loss 0.026368, accuracy 0.705111\u001b[32m [repeated 2x across cluster]\u001b[0m\n",
      "\u001b[36m(ClientAppActor pid=13852)\u001b[0m Training time for Client 0: 20.78 seconds\n",
      "\u001b[36m(ClientAppActor pid=19292)\u001b[0m [Client 3] evaluate, config: {}\u001b[32m [repeated 5x across cluster]\u001b[0m\n"
     ]
    },
    {
     "name": "stderr",
     "output_type": "stream",
     "text": [
      "\u001b[92mINFO \u001b[0m:      aggregate_evaluate: received 10 results and 0 failures\n",
      "\u001b[92mINFO \u001b[0m:      \n",
      "\u001b[92mINFO \u001b[0m:      [ROUND 3]\n",
      "\u001b[92mINFO \u001b[0m:      configure_fit: strategy sampled 10 clients (out of 10)\n"
     ]
    },
    {
     "name": "stdout",
     "output_type": "stream",
     "text": [
      "This is ths last time not a fantasy 19.7057523727417and 5habhhahah\n",
      "this is tehb mode time [19.71]\n",
      "This is ths last time not a fantasy 20.815473556518555and 9habhhahah\n",
      "this is tehb mode time [19.71, 20.82]\n",
      "This is ths last time not a fantasy 19.609206199645996and 7habhhahah\n",
      "this is tehb mode time [19.71, 20.82, 19.61]\n",
      "This is ths last time not a fantasy 20.776824474334717and 0habhhahah\n",
      "this is tehb mode time [19.71, 20.82, 19.61, 20.78]\n",
      "This is ths last time not a fantasy 19.936753034591675and 4habhhahah\n",
      "this is tehb mode time [19.71, 20.82, 19.61, 20.78, 19.94]\n",
      "This is ths last time not a fantasy 19.74629020690918and 3habhhahah\n",
      "this is tehb mode time [19.71, 20.82, 19.61, 20.78, 19.94, 19.75]\n",
      "This is ths last time not a fantasy 20.13460659980774and 1habhhahah\n",
      "this is tehb mode time [19.71, 20.82, 19.61, 20.78, 19.94, 19.75, 20.13]\n",
      "This is ths last time not a fantasy 20.40073585510254and 2habhhahah\n",
      "this is tehb mode time [19.71, 20.82, 19.61, 20.78, 19.94, 19.75, 20.13, 20.4]\n",
      "This is ths last time not a fantasy 19.79433035850525and 6habhhahah\n",
      "this is tehb mode time [19.71, 20.82, 19.61, 20.78, 19.94, 19.75, 20.13, 20.4, 19.79]\n",
      "This is ths last time not a fantasy 19.74036169052124and 8habhhahah\n",
      "this is tehb mode time [19.71, 20.82, 19.61, 20.78, 19.94, 19.75, 20.13, 20.4, 19.79, 19.74]\n",
      "Yeh h modest valueueueueuModeResult(mode=19.61, count=1)\n",
      "yeh h server round 3\n",
      "this is the min value 1.0 and this is the max value 19.61\n",
      "The epochs for the higher lr is 9 and the epochs for the standard lr is 10\n",
      "This is the last time 19.7057523727417\n",
      "This is the last time 20.815473556518555\n",
      "This is the last time 19.609206199645996\n",
      "This is the last time 20.776824474334717\n",
      "This is the last time 19.936753034591675\n",
      "This is the last time 19.74629020690918\n",
      "This is the last time 20.13460659980774\n",
      "This is the last time 20.40073585510254\n",
      "This is the last time 19.79433035850525\n",
      "This is the last time 19.74036169052124\n",
      "\u001b[36m(ClientAppActor pid=26892)\u001b[0m [Client 5] fit, config: {'lr': 0.0001, 'epochs': 9}\n",
      "\u001b[36m(ClientAppActor pid=26892)\u001b[0m [Client 7] evaluate, config: {}\u001b[32m [repeated 4x across cluster]\u001b[0m\n",
      "\u001b[36m(ClientAppActor pid=26892)\u001b[0m Epoch 0: train loss 0.040609, accuracy 0.544667\n",
      "\u001b[36m(ClientAppActor pid=20448)\u001b[0m [Client 4] fit, config: {'lr': 0.0001, 'epochs': 9}\u001b[32m [repeated 4x across cluster]\u001b[0m\n",
      "\u001b[36m(ClientAppActor pid=36268)\u001b[0m Epoch 1: train loss 0.035857, accuracy 0.592444\u001b[32m [repeated 11x across cluster]\u001b[0m\n",
      "\u001b[36m(ClientAppActor pid=20512)\u001b[0m [Client 2] fit, config: {'lr': 0.0001, 'epochs': 9}\u001b[32m [repeated 3x across cluster]\u001b[0m\n",
      "\u001b[36m(ClientAppActor pid=26532)\u001b[0m Epoch 4: train loss 0.026989, accuracy 0.696222\u001b[32m [repeated 17x across cluster]\u001b[0m\n",
      "\u001b[36m(ClientAppActor pid=13852)\u001b[0m Epoch 7: train loss 0.017023, accuracy 0.810222\u001b[32m [repeated 20x across cluster]\u001b[0m\n",
      "\u001b[36m(ClientAppActor pid=26892)\u001b[0m Training time for Client 5: 20.62 seconds\n",
      "\u001b[36m(ClientAppActor pid=26892)\u001b[0m [Client 6] fit, config: {'lr': 0.0001, 'epochs': 9}\n",
      "\u001b[36m(ClientAppActor pid=19292)\u001b[0m Epoch 7: train loss 0.017819, accuracy 0.806222\u001b[32m [repeated 17x across cluster]\u001b[0m\n",
      "\u001b[36m(ClientAppActor pid=4016)\u001b[0m Training time for Client 1: 19.95 seconds\u001b[32m [repeated 6x across cluster]\u001b[0m\n",
      "\u001b[36m(ClientAppActor pid=13852)\u001b[0m [Client 8] fit, config: {'lr': 0.0001, 'epochs': 9}\n",
      "\u001b[36m(ClientAppActor pid=13852)\u001b[0m Epoch 2: train loss 0.032346, accuracy 0.633556\u001b[32m [repeated 13x across cluster]\u001b[0m\n",
      "\u001b[36m(ClientAppActor pid=20512)\u001b[0m Training time for Client 2: 19.55 seconds\n",
      "\u001b[36m(ClientAppActor pid=26892)\u001b[0m Epoch 5: train loss 0.024844, accuracy 0.720444\u001b[32m [repeated 5x across cluster]\u001b[0m\n",
      "\u001b[36m(ClientAppActor pid=13852)\u001b[0m Epoch 7: train loss 0.016558, accuracy 0.812667\u001b[32m [repeated 5x across cluster]\u001b[0m\n",
      "\u001b[36m(ClientAppActor pid=26892)\u001b[0m Training time for Client 6: 20.94 seconds\n"
     ]
    },
    {
     "name": "stderr",
     "output_type": "stream",
     "text": [
      "\u001b[92mINFO \u001b[0m:      aggregate_fit: received 10 results and 0 failures\n",
      "\u001b[92mINFO \u001b[0m:      configure_evaluate: strategy sampled 10 clients (out of 10)\n"
     ]
    },
    {
     "name": "stdout",
     "output_type": "stream",
     "text": [
      "\u001b[36m(ClientAppActor pid=13852)\u001b[0m [Client 8] evaluate, config: {}\n",
      "\u001b[36m(ClientAppActor pid=13852)\u001b[0m Epoch 8: train loss 0.014378, accuracy 0.840000\u001b[32m [repeated 2x across cluster]\u001b[0m\n",
      "\u001b[36m(ClientAppActor pid=13852)\u001b[0m Training time for Client 8: 21.03 seconds\n",
      "\u001b[36m(ClientAppActor pid=20448)\u001b[0m [Client 4] evaluate, config: {}\u001b[32m [repeated 5x across cluster]\u001b[0m\n"
     ]
    },
    {
     "name": "stderr",
     "output_type": "stream",
     "text": [
      "\u001b[92mINFO \u001b[0m:      aggregate_evaluate: received 10 results and 0 failures\n",
      "\u001b[92mINFO \u001b[0m:      \n",
      "\u001b[92mINFO \u001b[0m:      [ROUND 4]\n",
      "\u001b[92mINFO \u001b[0m:      configure_fit: strategy sampled 10 clients (out of 10)\n"
     ]
    },
    {
     "name": "stdout",
     "output_type": "stream",
     "text": [
      "This is ths last time not a fantasy 19.954402923583984and 1habhhahah\n",
      "this is tehb mode time [19.95]\n",
      "This is ths last time not a fantasy 20.16603446006775and 3habhhahah\n",
      "this is tehb mode time [19.95, 20.17]\n",
      "This is ths last time not a fantasy 20.936359405517578and 6habhhahah\n",
      "this is tehb mode time [19.95, 20.17, 20.94]\n",
      "This is ths last time not a fantasy 20.61971640586853and 5habhhahah\n",
      "this is tehb mode time [19.95, 20.17, 20.94, 20.62]\n",
      "This is ths last time not a fantasy 22.18703532218933and 7habhhahah\n",
      "this is tehb mode time [19.95, 20.17, 20.94, 20.62, 22.19]\n",
      "This is ths last time not a fantasy 20.19159770011902and 0habhhahah\n",
      "this is tehb mode time [19.95, 20.17, 20.94, 20.62, 22.19, 20.19]\n",
      "This is ths last time not a fantasy 19.55391836166382and 2habhhahah\n",
      "this is tehb mode time [19.95, 20.17, 20.94, 20.62, 22.19, 20.19, 19.55]\n",
      "This is ths last time not a fantasy 20.115633726119995and 9habhhahah\n",
      "this is tehb mode time [19.95, 20.17, 20.94, 20.62, 22.19, 20.19, 19.55, 20.12]\n",
      "This is ths last time not a fantasy 20.23081064224243and 4habhhahah\n",
      "this is tehb mode time [19.95, 20.17, 20.94, 20.62, 22.19, 20.19, 19.55, 20.12, 20.23]\n",
      "This is ths last time not a fantasy 21.02518916130066and 8habhhahah\n",
      "this is tehb mode time [19.95, 20.17, 20.94, 20.62, 22.19, 20.19, 19.55, 20.12, 20.23, 21.03]\n",
      "Yeh h modest valueueueueuModeResult(mode=19.55, count=1)\n",
      "yeh h server round 4\n",
      "this is the min value 1.0 and this is the max value 19.55\n",
      "The epochs for the higher lr is 9 and the epochs for the standard lr is 10\n",
      "This is the last time 19.954402923583984\n",
      "This is the last time 20.16603446006775\n",
      "This is the last time 20.936359405517578\n",
      "This is the last time 20.61971640586853\n",
      "This is the last time 22.18703532218933\n",
      "This is the last time 20.19159770011902\n",
      "This is the last time 19.55391836166382\n",
      "This is the last time 20.115633726119995\n",
      "This is the last time 20.23081064224243\n",
      "This is the last time 21.02518916130066\n",
      "\u001b[36m(ClientAppActor pid=26892)\u001b[0m [Client 1] fit, config: {'lr': 0.0001, 'epochs': 9}\n",
      "\u001b[36m(ClientAppActor pid=26892)\u001b[0m [Client 9] evaluate, config: {}\u001b[32m [repeated 4x across cluster]\u001b[0m\n",
      "\u001b[36m(ClientAppActor pid=26892)\u001b[0m Epoch 0: train loss 0.036964, accuracy 0.597778\n",
      "\u001b[36m(ClientAppActor pid=4016)\u001b[0m [Client 7] fit, config: {'lr': 0.0001, 'epochs': 9}\u001b[32m [repeated 4x across cluster]\u001b[0m\n",
      "\u001b[36m(ClientAppActor pid=19292)\u001b[0m Epoch 2: train loss 0.026684, accuracy 0.708667\u001b[32m [repeated 11x across cluster]\u001b[0m\n",
      "\u001b[36m(ClientAppActor pid=20512)\u001b[0m [Client 9] fit, config: {'lr': 0.0001, 'epochs': 9}\u001b[32m [repeated 3x across cluster]\u001b[0m\n",
      "\u001b[36m(ClientAppActor pid=20448)\u001b[0m Epoch 2: train loss 0.025776, accuracy 0.711778\u001b[32m [repeated 18x across cluster]\u001b[0m\n",
      "\u001b[36m(ClientAppActor pid=13852)\u001b[0m Epoch 5: train loss 0.015283, accuracy 0.837778\u001b[32m [repeated 19x across cluster]\u001b[0m\n",
      "\u001b[36m(ClientAppActor pid=26892)\u001b[0m Training time for Client 1: 20.36 seconds\n",
      "\u001b[36m(ClientAppActor pid=26892)\u001b[0m [Client 4] fit, config: {'lr': 0.0001, 'epochs': 9}\n",
      "\u001b[36m(ClientAppActor pid=26892)\u001b[0m Epoch 0: train loss 0.037413, accuracy 0.582222\u001b[32m [repeated 18x across cluster]\u001b[0m\n",
      "\u001b[36m(ClientAppActor pid=20448)\u001b[0m Training time for Client 2: 19.65 seconds\u001b[32m [repeated 6x across cluster]\u001b[0m\n",
      "\u001b[36m(ClientAppActor pid=19292)\u001b[0m [Client 8] fit, config: {'lr': 0.0001, 'epochs': 9}\n",
      "\u001b[36m(ClientAppActor pid=19292)\u001b[0m Epoch 2: train loss 0.025064, accuracy 0.726667\u001b[32m [repeated 11x across cluster]\u001b[0m\n",
      "\u001b[36m(ClientAppActor pid=20512)\u001b[0m Training time for Client 9: 19.45 seconds\n",
      "\u001b[36m(ClientAppActor pid=26892)\u001b[0m Epoch 5: train loss 0.014945, accuracy 0.837778\u001b[32m [repeated 5x across cluster]\u001b[0m\n",
      "\u001b[36m(ClientAppActor pid=19292)\u001b[0m Epoch 7: train loss 0.008193, accuracy 0.920889\u001b[32m [repeated 5x across cluster]\u001b[0m\n",
      "\u001b[36m(ClientAppActor pid=26892)\u001b[0m Training time for Client 4: 20.73 seconds\n"
     ]
    },
    {
     "name": "stderr",
     "output_type": "stream",
     "text": [
      "\u001b[92mINFO \u001b[0m:      aggregate_fit: received 10 results and 0 failures\n",
      "\u001b[92mINFO \u001b[0m:      configure_evaluate: strategy sampled 10 clients (out of 10)\n"
     ]
    },
    {
     "name": "stdout",
     "output_type": "stream",
     "text": [
      "\u001b[36m(ClientAppActor pid=19292)\u001b[0m [Client 9] evaluate, config: {}\n",
      "\u001b[36m(ClientAppActor pid=19292)\u001b[0m Epoch 8: train loss 0.006742, accuracy 0.932222\u001b[32m [repeated 2x across cluster]\u001b[0m\n",
      "\u001b[36m(ClientAppActor pid=19292)\u001b[0m Training time for Client 8: 20.93 seconds\n",
      "\u001b[36m(ClientAppActor pid=13852)\u001b[0m [Client 8] evaluate, config: {}\u001b[32m [repeated 5x across cluster]\u001b[0m\n"
     ]
    },
    {
     "name": "stderr",
     "output_type": "stream",
     "text": [
      "\u001b[92mINFO \u001b[0m:      aggregate_evaluate: received 10 results and 0 failures\n",
      "\u001b[92mINFO \u001b[0m:      \n",
      "\u001b[92mINFO \u001b[0m:      [ROUND 5]\n",
      "\u001b[92mINFO \u001b[0m:      configure_fit: strategy sampled 10 clients (out of 10)\n"
     ]
    },
    {
     "name": "stdout",
     "output_type": "stream",
     "text": [
      "This is ths last time not a fantasy 19.6811203956604and 6habhhahah\n",
      "this is tehb mode time [19.68]\n",
      "This is ths last time not a fantasy 20.315114498138428and 3habhhahah\n",
      "this is tehb mode time [19.68, 20.32]\n",
      "This is ths last time not a fantasy 19.596726655960083and 0habhhahah\n",
      "this is tehb mode time [19.68, 20.32, 19.6]\n",
      "This is ths last time not a fantasy 19.445284843444824and 9habhhahah\n",
      "this is tehb mode time [19.68, 20.32, 19.6, 19.45]\n",
      "This is ths last time not a fantasy 20.30324912071228and 7habhhahah\n",
      "this is tehb mode time [19.68, 20.32, 19.6, 19.45, 20.3]\n",
      "This is ths last time not a fantasy 20.08194351196289and 5habhhahah\n",
      "this is tehb mode time [19.68, 20.32, 19.6, 19.45, 20.3, 20.08]\n",
      "This is ths last time not a fantasy 20.927738904953003and 8habhhahah\n",
      "this is tehb mode time [19.68, 20.32, 19.6, 19.45, 20.3, 20.08, 20.93]\n",
      "This is ths last time not a fantasy 20.734645128250122and 4habhhahah\n",
      "this is tehb mode time [19.68, 20.32, 19.6, 19.45, 20.3, 20.08, 20.93, 20.73]\n",
      "This is ths last time not a fantasy 20.35671877861023and 1habhhahah\n",
      "this is tehb mode time [19.68, 20.32, 19.6, 19.45, 20.3, 20.08, 20.93, 20.73, 20.36]\n",
      "This is ths last time not a fantasy 19.646727085113525and 2habhhahah\n",
      "this is tehb mode time [19.68, 20.32, 19.6, 19.45, 20.3, 20.08, 20.93, 20.73, 20.36, 19.65]\n",
      "Yeh h modest valueueueueuModeResult(mode=19.45, count=1)\n",
      "yeh h server round 5\n",
      "this is the min value 1.0 and this is the max value 19.45\n",
      "The epochs for the higher lr is 9 and the epochs for the standard lr is 10\n",
      "This is the last time 19.6811203956604\n",
      "This is the last time 20.315114498138428\n",
      "This is the last time 19.596726655960083\n",
      "This is the last time 19.445284843444824\n",
      "This is the last time 20.30324912071228\n",
      "This is the last time 20.08194351196289\n",
      "This is the last time 20.927738904953003\n",
      "This is the last time 20.734645128250122\n",
      "This is the last time 20.35671877861023\n",
      "This is the last time 19.646727085113525\n",
      "\u001b[36m(ClientAppActor pid=26892)\u001b[0m [Client 6] fit, config: {'lr': 0.0001, 'epochs': 9}\n",
      "\u001b[36m(ClientAppActor pid=26892)\u001b[0m [Client 0] evaluate, config: {}\u001b[32m [repeated 4x across cluster]\u001b[0m\n",
      "\u001b[36m(ClientAppActor pid=26892)\u001b[0m Epoch 0: train loss 0.037404, accuracy 0.595556\n",
      "\u001b[36m(ClientAppActor pid=19292)\u001b[0m [Client 5] fit, config: {'lr': 0.0001, 'epochs': 9}\u001b[32m [repeated 5x across cluster]\u001b[0m\n",
      "\u001b[36m(ClientAppActor pid=26892)\u001b[0m Epoch 3: train loss 0.017852, accuracy 0.804889\u001b[32m [repeated 12x across cluster]\u001b[0m\n",
      "\u001b[36m(ClientAppActor pid=36268)\u001b[0m [Client 4] fit, config: {'lr': 0.0001, 'epochs': 9}\u001b[32m [repeated 2x across cluster]\u001b[0m\n",
      "\u001b[36m(ClientAppActor pid=20448)\u001b[0m Epoch 2: train loss 0.020129, accuracy 0.775333\u001b[32m [repeated 19x across cluster]\u001b[0m\n",
      "\u001b[36m(ClientAppActor pid=26532)\u001b[0m Epoch 6: train loss 0.007519, accuracy 0.928889\u001b[32m [repeated 19x across cluster]\u001b[0m\n",
      "\u001b[36m(ClientAppActor pid=26892)\u001b[0m Training time for Client 6: 20.12 seconds\n",
      "\u001b[36m(ClientAppActor pid=26892)\u001b[0m [Client 1] fit, config: {'lr': 0.0001, 'epochs': 9}\n",
      "\u001b[36m(ClientAppActor pid=20512)\u001b[0m Epoch 0: train loss 0.035888, accuracy 0.610000\u001b[32m [repeated 17x across cluster]\u001b[0m\n",
      "\u001b[36m(ClientAppActor pid=4016)\u001b[0m Training time for Client 0: 20.47 seconds\u001b[32m [repeated 2x across cluster]\u001b[0m\n",
      "\u001b[36m(ClientAppActor pid=20512)\u001b[0m [Client 2] fit, config: {'lr': 0.0001, 'epochs': 9}\n",
      "\u001b[36m(ClientAppActor pid=26892)\u001b[0m Epoch 3: train loss 0.016614, accuracy 0.816000\u001b[32m [repeated 12x across cluster]\u001b[0m\n",
      "\u001b[36m(ClientAppActor pid=36268)\u001b[0m Training time for Client 4: 20.45 seconds\u001b[32m [repeated 5x across cluster]\u001b[0m\n",
      "\u001b[36m(ClientAppActor pid=20512)\u001b[0m Epoch 5: train loss 0.009325, accuracy 0.901556\u001b[32m [repeated 5x across cluster]\u001b[0m\n",
      "\u001b[36m(ClientAppActor pid=26892)\u001b[0m Training time for Client 1: 21.24 seconds\n",
      "\u001b[36m(ClientAppActor pid=26892)\u001b[0m Epoch 8: train loss 0.004418, accuracy 0.964222\u001b[32m [repeated 5x across cluster]\u001b[0m\n"
     ]
    },
    {
     "name": "stderr",
     "output_type": "stream",
     "text": [
      "\u001b[92mINFO \u001b[0m:      aggregate_fit: received 10 results and 0 failures\n",
      "\u001b[92mINFO \u001b[0m:      configure_evaluate: strategy sampled 10 clients (out of 10)\n"
     ]
    },
    {
     "name": "stdout",
     "output_type": "stream",
     "text": [
      "\u001b[36m(ClientAppActor pid=20512)\u001b[0m [Client 3] evaluate, config: {}\n",
      "\u001b[36m(ClientAppActor pid=20512)\u001b[0m Training time for Client 2: 21.41 seconds\n",
      "\u001b[36m(ClientAppActor pid=20512)\u001b[0m Epoch 8: train loss 0.003643, accuracy 0.971111\n",
      "\u001b[36m(ClientAppActor pid=20512)\u001b[0m [Client 5] evaluate, config: {}\u001b[32m [repeated 5x across cluster]\u001b[0m\n"
     ]
    },
    {
     "name": "stderr",
     "output_type": "stream",
     "text": [
      "\u001b[92mINFO \u001b[0m:      aggregate_evaluate: received 10 results and 0 failures\n",
      "\u001b[92mINFO \u001b[0m:      \n",
      "\u001b[92mINFO \u001b[0m:      [ROUND 6]\n",
      "\u001b[92mINFO \u001b[0m:      configure_fit: strategy sampled 10 clients (out of 10)\n"
     ]
    },
    {
     "name": "stdout",
     "output_type": "stream",
     "text": [
      "This is ths last time not a fantasy 20.610188722610474and 7habhhahah\n",
      "this is tehb mode time [20.61]\n",
      "This is ths last time not a fantasy 19.7183256149292and 5habhhahah\n",
      "this is tehb mode time [20.61, 19.72]\n",
      "This is ths last time not a fantasy 20.446873903274536and 4habhhahah\n",
      "this is tehb mode time [20.61, 19.72, 20.45]\n",
      "This is ths last time not a fantasy 19.963398694992065and 3habhhahah\n",
      "this is tehb mode time [20.61, 19.72, 20.45, 19.96]\n",
      "This is ths last time not a fantasy 20.118391036987305and 6habhhahah\n",
      "this is tehb mode time [20.61, 19.72, 20.45, 19.96, 20.12]\n",
      "This is ths last time not a fantasy 21.24259090423584and 1habhhahah\n",
      "this is tehb mode time [20.61, 19.72, 20.45, 19.96, 20.12, 21.24]\n",
      "This is ths last time not a fantasy 21.411941289901733and 2habhhahah\n",
      "this is tehb mode time [20.61, 19.72, 20.45, 19.96, 20.12, 21.24, 21.41]\n",
      "This is ths last time not a fantasy 20.465471744537354and 0habhhahah\n",
      "this is tehb mode time [20.61, 19.72, 20.45, 19.96, 20.12, 21.24, 21.41, 20.47]\n",
      "This is ths last time not a fantasy 22.7924063205719and 9habhhahah\n",
      "this is tehb mode time [20.61, 19.72, 20.45, 19.96, 20.12, 21.24, 21.41, 20.47, 22.79]\n",
      "This is ths last time not a fantasy 20.239484071731567and 8habhhahah\n",
      "this is tehb mode time [20.61, 19.72, 20.45, 19.96, 20.12, 21.24, 21.41, 20.47, 22.79, 20.24]\n",
      "Yeh h modest valueueueueuModeResult(mode=19.72, count=1)\n",
      "yeh h server round 6\n",
      "this is the min value 1.0 and this is the max value 19.72\n",
      "The epochs for the higher lr is 9 and the epochs for the standard lr is 10\n",
      "This is the last time 20.610188722610474\n",
      "This is the last time 19.7183256149292\n",
      "This is the last time 20.446873903274536\n",
      "This is the last time 19.963398694992065\n",
      "This is the last time 20.118391036987305\n",
      "This is the last time 21.24259090423584\n",
      "This is the last time 21.411941289901733\n",
      "This is the last time 20.465471744537354\n",
      "This is the last time 22.7924063205719\n",
      "This is the last time 20.239484071731567\n",
      "\u001b[36m(ClientAppActor pid=26892)\u001b[0m [Client 7] fit, config: {'lr': 0.0001, 'epochs': 9}\n",
      "\u001b[36m(ClientAppActor pid=26892)\u001b[0m [Client 6] evaluate, config: {}\u001b[32m [repeated 4x across cluster]\u001b[0m\n",
      "\u001b[36m(ClientAppActor pid=26892)\u001b[0m Epoch 0: train loss 0.035621, accuracy 0.618667\n",
      "\u001b[36m(ClientAppActor pid=20448)\u001b[0m [Client 6] fit, config: {'lr': 0.0001, 'epochs': 9}\u001b[32m [repeated 4x across cluster]\u001b[0m\n",
      "\u001b[36m(ClientAppActor pid=20512)\u001b[0m Epoch 0: train loss 0.037320, accuracy 0.621111\u001b[32m [repeated 11x across cluster]\u001b[0m\n",
      "\u001b[36m(ClientAppActor pid=4016)\u001b[0m [Client 0] fit, config: {'lr': 0.0001, 'epochs': 9}\u001b[32m [repeated 3x across cluster]\u001b[0m\n",
      "\u001b[36m(ClientAppActor pid=13852)\u001b[0m Epoch 4: train loss 0.008976, accuracy 0.908000\u001b[32m [repeated 17x across cluster]\u001b[0m\n",
      "\u001b[36m(ClientAppActor pid=19292)\u001b[0m Epoch 6: train loss 0.004726, accuracy 0.961111\u001b[32m [repeated 20x across cluster]\u001b[0m\n",
      "\u001b[36m(ClientAppActor pid=26892)\u001b[0m Training time for Client 7: 21.00 seconds\n",
      "\u001b[36m(ClientAppActor pid=26892)\u001b[0m [Client 9] fit, config: {'lr': 0.0001, 'epochs': 9}\n",
      "\u001b[36m(ClientAppActor pid=26892)\u001b[0m Epoch 0: train loss 0.037174, accuracy 0.612222\u001b[32m [repeated 18x across cluster]\u001b[0m\n",
      "\u001b[36m(ClientAppActor pid=26532)\u001b[0m Training time for Client 2: 19.83 seconds\u001b[32m [repeated 6x across cluster]\u001b[0m\n",
      "\u001b[36m(ClientAppActor pid=13852)\u001b[0m [Client 8] fit, config: {'lr': 0.0001, 'epochs': 9}\n",
      "\u001b[36m(ClientAppActor pid=13852)\u001b[0m Epoch 2: train loss 0.017303, accuracy 0.808222\u001b[32m [repeated 12x across cluster]\u001b[0m\n",
      "\u001b[36m(ClientAppActor pid=4016)\u001b[0m Training time for Client 0: 20.59 seconds\n",
      "\u001b[36m(ClientAppActor pid=26892)\u001b[0m Epoch 5: train loss 0.005750, accuracy 0.948667\u001b[32m [repeated 5x across cluster]\u001b[0m\n",
      "\u001b[36m(ClientAppActor pid=13852)\u001b[0m Epoch 7: train loss 0.003728, accuracy 0.968000\u001b[32m [repeated 5x across cluster]\u001b[0m\n",
      "\u001b[36m(ClientAppActor pid=26892)\u001b[0m Training time for Client 9: 20.90 seconds\n"
     ]
    },
    {
     "name": "stderr",
     "output_type": "stream",
     "text": [
      "\u001b[92mINFO \u001b[0m:      aggregate_fit: received 10 results and 0 failures\n",
      "\u001b[92mINFO \u001b[0m:      configure_evaluate: strategy sampled 10 clients (out of 10)\n"
     ]
    },
    {
     "name": "stdout",
     "output_type": "stream",
     "text": [
      "\u001b[36m(ClientAppActor pid=13852)\u001b[0m [Client 3] evaluate, config: {}\n",
      "\u001b[36m(ClientAppActor pid=13852)\u001b[0m Epoch 8: train loss 0.003875, accuracy 0.962667\u001b[32m [repeated 2x across cluster]\u001b[0m\n",
      "\u001b[36m(ClientAppActor pid=13852)\u001b[0m Training time for Client 8: 21.09 seconds\n",
      "\u001b[36m(ClientAppActor pid=26532)\u001b[0m [Client 2] evaluate, config: {}\u001b[32m [repeated 5x across cluster]\u001b[0m\n"
     ]
    },
    {
     "name": "stderr",
     "output_type": "stream",
     "text": [
      "\u001b[92mINFO \u001b[0m:      aggregate_evaluate: received 10 results and 0 failures\n",
      "\u001b[92mINFO \u001b[0m:      \n",
      "\u001b[92mINFO \u001b[0m:      [ROUND 7]\n",
      "\u001b[92mINFO \u001b[0m:      configure_fit: strategy sampled 10 clients (out of 10)\n"
     ]
    },
    {
     "name": "stdout",
     "output_type": "stream",
     "text": [
      "This is ths last time not a fantasy 20.215144872665405and 6habhhahah\n",
      "this is tehb mode time [20.22]\n",
      "This is ths last time not a fantasy 19.82829213142395and 2habhhahah\n",
      "this is tehb mode time [20.22, 19.83]\n",
      "This is ths last time not a fantasy 20.590498685836792and 0habhhahah\n",
      "this is tehb mode time [20.22, 19.83, 20.59]\n",
      "This is ths last time not a fantasy 20.12330150604248and 1habhhahah\n",
      "this is tehb mode time [20.22, 19.83, 20.59, 20.12]\n",
      "This is ths last time not a fantasy 20.90249729156494and 9habhhahah\n",
      "this is tehb mode time [20.22, 19.83, 20.59, 20.12, 20.9]\n",
      "This is ths last time not a fantasy 22.931498050689697and 5habhhahah\n",
      "this is tehb mode time [20.22, 19.83, 20.59, 20.12, 20.9, 22.93]\n",
      "This is ths last time not a fantasy 20.223010301589966and 4habhhahah\n",
      "this is tehb mode time [20.22, 19.83, 20.59, 20.12, 20.9, 22.93, 20.22]\n",
      "This is ths last time not a fantasy 20.998979806900024and 7habhhahah\n",
      "this is tehb mode time [20.22, 19.83, 20.59, 20.12, 20.9, 22.93, 20.22, 21.0]\n",
      "This is ths last time not a fantasy 21.09223985671997and 8habhhahah\n",
      "this is tehb mode time [20.22, 19.83, 20.59, 20.12, 20.9, 22.93, 20.22, 21.0, 21.09]\n",
      "This is ths last time not a fantasy 20.006008863449097and 3habhhahah\n",
      "this is tehb mode time [20.22, 19.83, 20.59, 20.12, 20.9, 22.93, 20.22, 21.0, 21.09, 20.01]\n",
      "Yeh h modest valueueueueuModeResult(mode=20.22, count=2)\n",
      "yeh h server round 7\n",
      "this is the min value 2.0 and this is the max value 20.22\n",
      "The epochs for the higher lr is 9 and the epochs for the standard lr is 10\n",
      "This is the last time 20.215144872665405\n",
      "This is the last time 19.82829213142395\n",
      "This is the last time 20.590498685836792\n",
      "This is the last time 20.12330150604248\n",
      "This is the last time 20.90249729156494\n",
      "This is the last time 22.931498050689697\n",
      "This is the last time 20.223010301589966\n",
      "This is the last time 20.998979806900024\n",
      "This is the last time 21.09223985671997\n",
      "This is the last time 20.006008863449097\n",
      "\u001b[36m(ClientAppActor pid=26892)\u001b[0m [Client 6] fit, config: {'lr': 0.001, 'epochs': 10}\n",
      "\u001b[36m(ClientAppActor pid=26892)\u001b[0m [Client 5] evaluate, config: {}\u001b[32m [repeated 4x across cluster]\u001b[0m\n",
      "\u001b[36m(ClientAppActor pid=26892)\u001b[0m Epoch 0: train loss 0.036979, accuracy 0.624444\n",
      "\u001b[36m(ClientAppActor pid=13852)\u001b[0m [Client 1] fit, config: {'lr': 0.001, 'epochs': 10}\u001b[32m [repeated 3x across cluster]\u001b[0m\n",
      "\u001b[36m(ClientAppActor pid=20512)\u001b[0m Epoch 1: train loss 0.021374, accuracy 0.760444\u001b[32m [repeated 7x across cluster]\u001b[0m\n",
      "\u001b[36m(ClientAppActor pid=19292)\u001b[0m [Client 7] fit, config: {'lr': 0.0001, 'epochs': 9}\u001b[32m [repeated 4x across cluster]\u001b[0m\n",
      "\u001b[36m(ClientAppActor pid=20512)\u001b[0m Epoch 4: train loss 0.006532, accuracy 0.936444\u001b[32m [repeated 21x across cluster]\u001b[0m\n",
      "\u001b[36m(ClientAppActor pid=4016)\u001b[0m Epoch 7: train loss 0.001640, accuracy 0.991778\u001b[32m [repeated 20x across cluster]\u001b[0m\n",
      "\u001b[36m(ClientAppActor pid=20512)\u001b[0m Training time for Client 0: 20.13 seconds\n",
      "\u001b[36m(ClientAppActor pid=20512)\u001b[0m [Client 8] fit, config: {'lr': 0.0001, 'epochs': 9}\n",
      "\u001b[36m(ClientAppActor pid=13852)\u001b[0m Epoch 8: train loss 0.001579, accuracy 0.990444\u001b[32m [repeated 17x across cluster]\u001b[0m\n",
      "\u001b[36m(ClientAppActor pid=19292)\u001b[0m Training time for Client 7: 20.42 seconds\u001b[32m [repeated 7x across cluster]\u001b[0m\n",
      "\u001b[36m(ClientAppActor pid=26892)\u001b[0m [Client 3] fit, config: {'lr': 0.001, 'epochs': 10}\n",
      "\u001b[36m(ClientAppActor pid=26892)\u001b[0m Epoch 1: train loss 0.022174, accuracy 0.758222\u001b[32m [repeated 13x across cluster]\u001b[0m\n",
      "\u001b[36m(ClientAppActor pid=20512)\u001b[0m Epoch 4: train loss 0.006064, accuracy 0.943333\u001b[32m [repeated 5x across cluster]\u001b[0m\n",
      "\u001b[36m(ClientAppActor pid=26892)\u001b[0m Epoch 6: train loss 0.003049, accuracy 0.976889\u001b[32m [repeated 5x across cluster]\u001b[0m\n",
      "\u001b[36m(ClientAppActor pid=20512)\u001b[0m Training time for Client 8: 21.68 seconds\n"
     ]
    },
    {
     "name": "stderr",
     "output_type": "stream",
     "text": [
      "\u001b[92mINFO \u001b[0m:      aggregate_fit: received 10 results and 0 failures\n",
      "\u001b[92mINFO \u001b[0m:      configure_evaluate: strategy sampled 10 clients (out of 10)\n"
     ]
    },
    {
     "name": "stdout",
     "output_type": "stream",
     "text": [
      "\u001b[36m(ClientAppActor pid=26892)\u001b[0m Epoch 9: train loss 0.003098, accuracy 0.973556\u001b[32m [repeated 5x across cluster]\u001b[0m\n",
      "\u001b[36m(ClientAppActor pid=26892)\u001b[0m [Client 1] evaluate, config: {}\n",
      "\u001b[36m(ClientAppActor pid=26892)\u001b[0m Training time for Client 3: 23.98 seconds\n",
      "\u001b[36m(ClientAppActor pid=13852)\u001b[0m [Client 9] evaluate, config: {}\u001b[32m [repeated 5x across cluster]\u001b[0m\n"
     ]
    },
    {
     "name": "stderr",
     "output_type": "stream",
     "text": [
      "\u001b[92mINFO \u001b[0m:      aggregate_evaluate: received 10 results and 0 failures\n",
      "\u001b[92mINFO \u001b[0m:      \n",
      "\u001b[92mINFO \u001b[0m:      [ROUND 8]\n",
      "\u001b[92mINFO \u001b[0m:      configure_fit: strategy sampled 10 clients (out of 10)\n"
     ]
    },
    {
     "name": "stdout",
     "output_type": "stream",
     "text": [
      "This is ths last time not a fantasy 20.267523527145386and 5habhhahah\n",
      "this is tehb mode time [20.27]\n",
      "This is ths last time not a fantasy 20.4159893989563and 7habhhahah\n",
      "this is tehb mode time [20.27, 20.42]\n",
      "This is ths last time not a fantasy 21.675060272216797and 8habhhahah\n",
      "this is tehb mode time [20.27, 20.42, 21.68]\n",
      "This is ths last time not a fantasy 20.056414365768433and 9habhhahah\n",
      "this is tehb mode time [20.27, 20.42, 21.68, 20.06]\n",
      "This is ths last time not a fantasy 22.144381999969482and 2habhhahah\n",
      "this is tehb mode time [20.27, 20.42, 21.68, 20.06, 22.14]\n",
      "This is ths last time not a fantasy 20.14652109146118and 4habhhahah\n",
      "this is tehb mode time [20.27, 20.42, 21.68, 20.06, 22.14, 20.15]\n",
      "This is ths last time not a fantasy 22.24926996231079and 1habhhahah\n",
      "this is tehb mode time [20.27, 20.42, 21.68, 20.06, 22.14, 20.15, 22.25]\n",
      "This is ths last time not a fantasy 20.126712799072266and 0habhhahah\n",
      "this is tehb mode time [20.27, 20.42, 21.68, 20.06, 22.14, 20.15, 22.25, 20.13]\n",
      "This is ths last time not a fantasy 23.030384302139282and 6habhhahah\n",
      "this is tehb mode time [20.27, 20.42, 21.68, 20.06, 22.14, 20.15, 22.25, 20.13, 23.03]\n",
      "This is ths last time not a fantasy 23.983829975128174and 3habhhahah\n",
      "this is tehb mode time [20.27, 20.42, 21.68, 20.06, 22.14, 20.15, 22.25, 20.13, 23.03, 23.98]\n",
      "Yeh h modest valueueueueuModeResult(mode=20.06, count=1)\n",
      "yeh h server round 8\n",
      "this is the min value 1.0 and this is the max value 20.06\n",
      "The epochs for the higher lr is 9 and the epochs for the standard lr is 10\n",
      "This is the last time 20.267523527145386\n",
      "This is the last time 20.4159893989563\n",
      "This is the last time 21.675060272216797\n",
      "This is the last time 20.056414365768433\n",
      "This is the last time 22.144381999969482\n",
      "This is the last time 20.14652109146118\n",
      "This is the last time 22.24926996231079\n",
      "This is the last time 20.126712799072266\n",
      "This is the last time 23.030384302139282\n",
      "This is the last time 23.983829975128174\n",
      "\u001b[36m(ClientAppActor pid=19292)\u001b[0m [Client 5] fit, config: {'lr': 0.0001, 'epochs': 9}\n",
      "\u001b[36m(ClientAppActor pid=19292)\u001b[0m [Client 3] evaluate, config: {}\u001b[32m [repeated 4x across cluster]\u001b[0m\n",
      "\u001b[36m(ClientAppActor pid=19292)\u001b[0m Epoch 0: train loss 0.035765, accuracy 0.642667\n",
      "\u001b[36m(ClientAppActor pid=4016)\u001b[0m [Client 2] fit, config: {'lr': 0.0001, 'epochs': 9}\u001b[32m [repeated 4x across cluster]\u001b[0m\n",
      "\u001b[36m(ClientAppActor pid=4016)\u001b[0m Epoch 0: train loss 0.035637, accuracy 0.644444\u001b[32m [repeated 8x across cluster]\u001b[0m\n",
      "\u001b[36m(ClientAppActor pid=20448)\u001b[0m [Client 0] fit, config: {'lr': 0.0001, 'epochs': 9}\u001b[32m [repeated 3x across cluster]\u001b[0m\n",
      "\u001b[36m(ClientAppActor pid=4016)\u001b[0m Epoch 3: train loss 0.006932, accuracy 0.933778\u001b[32m [repeated 21x across cluster]\u001b[0m\n",
      "\u001b[36m(ClientAppActor pid=26892)\u001b[0m Epoch 7: train loss 0.002400, accuracy 0.980222\u001b[32m [repeated 19x across cluster]\u001b[0m\n",
      "\u001b[36m(ClientAppActor pid=19292)\u001b[0m Training time for Client 5: 19.90 seconds\n",
      "\u001b[36m(ClientAppActor pid=19292)\u001b[0m [Client 6] fit, config: {'lr': 0.0001, 'epochs': 9}\n",
      "\u001b[36m(ClientAppActor pid=4016)\u001b[0m Epoch 8: train loss 0.004818, accuracy 0.947556\u001b[32m [repeated 18x across cluster]\u001b[0m\n",
      "\u001b[36m(ClientAppActor pid=36268)\u001b[0m Training time for Client 4: 19.84 seconds\u001b[32m [repeated 5x across cluster]\u001b[0m\n",
      "\u001b[36m(ClientAppActor pid=26892)\u001b[0m [Client 3] fit, config: {'lr': 0.0001, 'epochs': 9}\n",
      "\u001b[36m(ClientAppActor pid=26892)\u001b[0m Epoch 2: train loss 0.012379, accuracy 0.870000\u001b[32m [repeated 12x across cluster]\u001b[0m\n",
      "\u001b[36m(ClientAppActor pid=20448)\u001b[0m Training time for Client 0: 19.98 seconds\u001b[32m [repeated 2x across cluster]\u001b[0m\n",
      "\u001b[36m(ClientAppActor pid=19292)\u001b[0m Epoch 5: train loss 0.002660, accuracy 0.984222\u001b[32m [repeated 5x across cluster]\u001b[0m\n",
      "\u001b[36m(ClientAppActor pid=26892)\u001b[0m Epoch 7: train loss 0.001981, accuracy 0.984667\u001b[32m [repeated 5x across cluster]\u001b[0m\n",
      "\u001b[36m(ClientAppActor pid=19292)\u001b[0m Training time for Client 6: 20.29 seconds\n"
     ]
    },
    {
     "name": "stderr",
     "output_type": "stream",
     "text": [
      "\u001b[92mINFO \u001b[0m:      aggregate_fit: received 10 results and 0 failures\n",
      "\u001b[92mINFO \u001b[0m:      configure_evaluate: strategy sampled 10 clients (out of 10)\n"
     ]
    },
    {
     "name": "stdout",
     "output_type": "stream",
     "text": [
      "\u001b[36m(ClientAppActor pid=26892)\u001b[0m [Client 9] evaluate, config: {}\n",
      "\u001b[36m(ClientAppActor pid=26892)\u001b[0m Epoch 8: train loss 0.002809, accuracy 0.972889\u001b[32m [repeated 2x across cluster]\u001b[0m\n",
      "\u001b[36m(ClientAppActor pid=26892)\u001b[0m Training time for Client 3: 20.63 seconds\n",
      "\u001b[36m(ClientAppActor pid=36268)\u001b[0m [Client 1] evaluate, config: {}\u001b[32m [repeated 5x across cluster]\u001b[0m\n"
     ]
    },
    {
     "name": "stderr",
     "output_type": "stream",
     "text": [
      "\u001b[92mINFO \u001b[0m:      aggregate_evaluate: received 10 results and 0 failures\n",
      "\u001b[92mINFO \u001b[0m:      \n",
      "\u001b[92mINFO \u001b[0m:      [ROUND 9]\n",
      "\u001b[92mINFO \u001b[0m:      configure_fit: strategy sampled 10 clients (out of 10)\n"
     ]
    },
    {
     "name": "stdout",
     "output_type": "stream",
     "text": [
      "This is ths last time not a fantasy 19.928953170776367and 7habhhahah\n",
      "this is tehb mode time [19.93]\n",
      "This is ths last time not a fantasy 21.960375547409058and 9habhhahah\n",
      "this is tehb mode time [19.93, 21.96]\n",
      "This is ths last time not a fantasy 19.17721700668335and 2habhhahah\n",
      "this is tehb mode time [19.93, 21.96, 19.18]\n",
      "This is ths last time not a fantasy 19.835459232330322and 4habhhahah\n",
      "this is tehb mode time [19.93, 21.96, 19.18, 19.84]\n",
      "This is ths last time not a fantasy 20.1494619846344and 1habhhahah\n",
      "this is tehb mode time [19.93, 21.96, 19.18, 19.84, 20.15]\n",
      "This is ths last time not a fantasy 20.29205846786499and 6habhhahah\n",
      "this is tehb mode time [19.93, 21.96, 19.18, 19.84, 20.15, 20.29]\n",
      "This is ths last time not a fantasy 20.256851196289062and 8habhhahah\n",
      "this is tehb mode time [19.93, 21.96, 19.18, 19.84, 20.15, 20.29, 20.26]\n",
      "This is ths last time not a fantasy 19.984837770462036and 0habhhahah\n",
      "this is tehb mode time [19.93, 21.96, 19.18, 19.84, 20.15, 20.29, 20.26, 19.98]\n",
      "This is ths last time not a fantasy 20.63193964958191and 3habhhahah\n",
      "this is tehb mode time [19.93, 21.96, 19.18, 19.84, 20.15, 20.29, 20.26, 19.98, 20.63]\n",
      "This is ths last time not a fantasy 19.90195631980896and 5habhhahah\n",
      "this is tehb mode time [19.93, 21.96, 19.18, 19.84, 20.15, 20.29, 20.26, 19.98, 20.63, 19.9]\n",
      "Yeh h modest valueueueueuModeResult(mode=19.18, count=1)\n",
      "yeh h server round 9\n",
      "this is the min value 1.0 and this is the max value 19.18\n",
      "The epochs for the higher lr is 9 and the epochs for the standard lr is 10\n",
      "This is the last time 19.928953170776367\n",
      "This is the last time 21.960375547409058\n",
      "This is the last time 19.17721700668335\n",
      "This is the last time 19.835459232330322\n",
      "This is the last time 20.1494619846344\n",
      "This is the last time 20.29205846786499\n",
      "This is the last time 20.256851196289062\n",
      "This is the last time 19.984837770462036\n",
      "This is the last time 20.63193964958191\n",
      "This is the last time 19.90195631980896\n",
      "\u001b[36m(ClientAppActor pid=26892)\u001b[0m [Client 7] fit, config: {'lr': 0.0001, 'epochs': 9}\n",
      "\u001b[36m(ClientAppActor pid=26892)\u001b[0m [Client 5] evaluate, config: {}\u001b[32m [repeated 4x across cluster]\u001b[0m\n",
      "\u001b[36m(ClientAppActor pid=26892)\u001b[0m Epoch 0: train loss 0.034055, accuracy 0.670667\n",
      "\u001b[36m(ClientAppActor pid=20512)\u001b[0m [Client 6] fit, config: {'lr': 0.0001, 'epochs': 9}\u001b[32m [repeated 5x across cluster]\u001b[0m\n",
      "\u001b[36m(ClientAppActor pid=4016)\u001b[0m Epoch 1: train loss 0.018496, accuracy 0.794667\u001b[32m [repeated 10x across cluster]\u001b[0m\n",
      "\u001b[36m(ClientAppActor pid=26532)\u001b[0m [Client 0] fit, config: {'lr': 0.0001, 'epochs': 9}\u001b[32m [repeated 2x across cluster]\u001b[0m\n",
      "\u001b[36m(ClientAppActor pid=20448)\u001b[0m Epoch 2: train loss 0.009932, accuracy 0.892889\u001b[32m [repeated 20x across cluster]\u001b[0m\n",
      "\u001b[36m(ClientAppActor pid=20512)\u001b[0m Epoch 5: train loss 0.002051, accuracy 0.988444\u001b[32m [repeated 18x across cluster]\u001b[0m\n",
      "\u001b[36m(ClientAppActor pid=26892)\u001b[0m Training time for Client 7: 19.99 seconds\n",
      "\u001b[36m(ClientAppActor pid=26892)\u001b[0m [Client 3] fit, config: {'lr': 0.0001, 'epochs': 9}\n",
      "\u001b[36m(ClientAppActor pid=26532)\u001b[0m Epoch 6: train loss 0.001092, accuracy 0.997111\u001b[32m [repeated 18x across cluster]\u001b[0m\n",
      "\u001b[36m(ClientAppActor pid=20512)\u001b[0m Training time for Client 6: 19.75 seconds\u001b[32m [repeated 5x across cluster]\u001b[0m\n",
      "\u001b[36m(ClientAppActor pid=36268)\u001b[0m [Client 5] fit, config: {'lr': 0.0001, 'epochs': 9}\n",
      "\u001b[36m(ClientAppActor pid=36268)\u001b[0m Epoch 2: train loss 0.010529, accuracy 0.887778\u001b[32m [repeated 12x across cluster]\u001b[0m\n",
      "\u001b[36m(ClientAppActor pid=26532)\u001b[0m Training time for Client 0: 20.53 seconds\u001b[32m [repeated 2x across cluster]\u001b[0m\n",
      "\u001b[36m(ClientAppActor pid=36268)\u001b[0m Epoch 5: train loss 0.001970, accuracy 0.988222\u001b[32m [repeated 6x across cluster]\u001b[0m\n",
      "\u001b[36m(ClientAppActor pid=26892)\u001b[0m Training time for Client 3: 20.22 seconds\n",
      "\u001b[36m(ClientAppActor pid=26892)\u001b[0m Epoch 8: train loss 0.001493, accuracy 0.988444\u001b[32m [repeated 5x across cluster]\u001b[0m\n"
     ]
    },
    {
     "name": "stderr",
     "output_type": "stream",
     "text": [
      "\u001b[92mINFO \u001b[0m:      aggregate_fit: received 10 results and 0 failures\n",
      "\u001b[92mINFO \u001b[0m:      configure_evaluate: strategy sampled 10 clients (out of 10)\n"
     ]
    },
    {
     "name": "stdout",
     "output_type": "stream",
     "text": [
      "\u001b[36m(ClientAppActor pid=36268)\u001b[0m [Client 1] evaluate, config: {}\n",
      "\u001b[36m(ClientAppActor pid=36268)\u001b[0m Training time for Client 5: 20.39 seconds\n",
      "\u001b[36m(ClientAppActor pid=36268)\u001b[0m Epoch 8: train loss 0.000444, accuracy 0.999778\n",
      "\u001b[36m(ClientAppActor pid=19292)\u001b[0m [Client 7] evaluate, config: {}\u001b[32m [repeated 5x across cluster]\u001b[0m\n"
     ]
    },
    {
     "name": "stderr",
     "output_type": "stream",
     "text": [
      "\u001b[92mINFO \u001b[0m:      aggregate_evaluate: received 10 results and 0 failures\n",
      "\u001b[92mINFO \u001b[0m:      \n",
      "\u001b[92mINFO \u001b[0m:      [ROUND 10]\n",
      "\u001b[92mINFO \u001b[0m:      configure_fit: strategy sampled 10 clients (out of 10)\n"
     ]
    },
    {
     "name": "stdout",
     "output_type": "stream",
     "text": [
      "This is ths last time not a fantasy 20.39993381500244and 9habhhahah\n",
      "this is tehb mode time [20.4]\n",
      "This is ths last time not a fantasy 19.98620319366455and 7habhhahah\n",
      "this is tehb mode time [20.4, 19.99]\n",
      "This is ths last time not a fantasy 22.06397771835327and 2habhhahah\n",
      "this is tehb mode time [20.4, 19.99, 22.06]\n",
      "This is ths last time not a fantasy 20.221181869506836and 3habhhahah\n",
      "this is tehb mode time [20.4, 19.99, 22.06, 20.22]\n",
      "This is ths last time not a fantasy 20.45430088043213and 4habhhahah\n",
      "this is tehb mode time [20.4, 19.99, 22.06, 20.22, 20.45]\n",
      "This is ths last time not a fantasy 20.53438949584961and 0habhhahah\n",
      "this is tehb mode time [20.4, 19.99, 22.06, 20.22, 20.45, 20.53]\n",
      "This is ths last time not a fantasy 20.104477882385254and 1habhhahah\n",
      "this is tehb mode time [20.4, 19.99, 22.06, 20.22, 20.45, 20.53, 20.1]\n",
      "This is ths last time not a fantasy 19.71949863433838and 8habhhahah\n",
      "this is tehb mode time [20.4, 19.99, 22.06, 20.22, 20.45, 20.53, 20.1, 19.72]\n",
      "This is ths last time not a fantasy 20.39436388015747and 5habhhahah\n",
      "this is tehb mode time [20.4, 19.99, 22.06, 20.22, 20.45, 20.53, 20.1, 19.72, 20.39]\n",
      "This is ths last time not a fantasy 19.752750873565674and 6habhhahah\n",
      "this is tehb mode time [20.4, 19.99, 22.06, 20.22, 20.45, 20.53, 20.1, 19.72, 20.39, 19.75]\n",
      "Yeh h modest valueueueueuModeResult(mode=19.72, count=1)\n",
      "yeh h server round 10\n",
      "this is the min value 1.0 and this is the max value 19.72\n",
      "The epochs for the higher lr is 9 and the epochs for the standard lr is 10\n",
      "This is the last time 20.39993381500244\n",
      "This is the last time 19.98620319366455\n",
      "This is the last time 22.06397771835327\n",
      "This is the last time 20.221181869506836\n",
      "This is the last time 20.45430088043213\n",
      "This is the last time 20.53438949584961\n",
      "This is the last time 20.104477882385254\n",
      "This is the last time 19.71949863433838\n",
      "This is the last time 20.39436388015747\n",
      "This is the last time 19.752750873565674\n",
      "\u001b[36m(ClientAppActor pid=26892)\u001b[0m [Client 9] fit, config: {'lr': 0.0001, 'epochs': 9}\n",
      "\u001b[36m(ClientAppActor pid=26892)\u001b[0m [Client 9] evaluate, config: {}\u001b[32m [repeated 4x across cluster]\u001b[0m\n",
      "\u001b[36m(ClientAppActor pid=26892)\u001b[0m Epoch 0: train loss 0.035259, accuracy 0.663556\n",
      "\u001b[36m(ClientAppActor pid=13852)\u001b[0m [Client 4] fit, config: {'lr': 0.0001, 'epochs': 9}\u001b[32m [repeated 4x across cluster]\u001b[0m\n",
      "\u001b[36m(ClientAppActor pid=19292)\u001b[0m Epoch 2: train loss 0.008151, accuracy 0.917333\u001b[32m [repeated 10x across cluster]\u001b[0m\n",
      "\u001b[36m(ClientAppActor pid=20512)\u001b[0m [Client 8] fit, config: {'lr': 0.001, 'epochs': 10}\u001b[32m [repeated 3x across cluster]\u001b[0m\n",
      "\u001b[36m(ClientAppActor pid=26892)\u001b[0m Epoch 5: train loss 0.001740, accuracy 0.989556\u001b[32m [repeated 19x across cluster]\u001b[0m\n",
      "\u001b[36m(ClientAppActor pid=36268)\u001b[0m Epoch 6: train loss 0.001565, accuracy 0.988444\u001b[32m [repeated 19x across cluster]\u001b[0m\n",
      "\u001b[36m(ClientAppActor pid=26892)\u001b[0m Training time for Client 9: 20.36 seconds\n",
      "\u001b[36m(ClientAppActor pid=26892)\u001b[0m [Client 5] fit, config: {'lr': 0.0001, 'epochs': 9}\n",
      "\u001b[36m(ClientAppActor pid=26892)\u001b[0m Epoch 0: train loss 0.035507, accuracy 0.652889\u001b[32m [repeated 16x across cluster]\u001b[0m\n",
      "\u001b[36m(ClientAppActor pid=20448)\u001b[0m Training time for Client 1: 19.57 seconds\u001b[32m [repeated 6x across cluster]\u001b[0m\n",
      "\u001b[36m(ClientAppActor pid=19292)\u001b[0m [Client 6] fit, config: {'lr': 0.0001, 'epochs': 9}\n",
      "\u001b[36m(ClientAppActor pid=19292)\u001b[0m Epoch 2: train loss 0.009529, accuracy 0.900667\u001b[32m [repeated 13x across cluster]\u001b[0m\n",
      "\u001b[36m(ClientAppActor pid=20512)\u001b[0m Training time for Client 8: 22.29 seconds\n",
      "\u001b[36m(ClientAppActor pid=26892)\u001b[0m Epoch 5: train loss 0.002075, accuracy 0.987333\u001b[32m [repeated 6x across cluster]\u001b[0m\n",
      "\u001b[36m(ClientAppActor pid=19292)\u001b[0m Epoch 7: train loss 0.003652, accuracy 0.962667\u001b[32m [repeated 5x across cluster]\u001b[0m\n",
      "\u001b[36m(ClientAppActor pid=26892)\u001b[0m Training time for Client 5: 20.29 seconds\n"
     ]
    },
    {
     "name": "stderr",
     "output_type": "stream",
     "text": [
      "\u001b[92mINFO \u001b[0m:      aggregate_fit: received 10 results and 0 failures\n",
      "\u001b[92mINFO \u001b[0m:      configure_evaluate: strategy sampled 10 clients (out of 10)\n"
     ]
    },
    {
     "name": "stdout",
     "output_type": "stream",
     "text": [
      "\u001b[36m(ClientAppActor pid=19292)\u001b[0m [Client 6] evaluate, config: {}\n",
      "\u001b[36m(ClientAppActor pid=19292)\u001b[0m Epoch 8: train loss 0.006805, accuracy 0.927333\u001b[32m [repeated 2x across cluster]\u001b[0m\n",
      "\u001b[36m(ClientAppActor pid=19292)\u001b[0m Training time for Client 6: 20.40 seconds\n",
      "\u001b[36m(ClientAppActor pid=13852)\u001b[0m [Client 0] evaluate, config: {}\u001b[32m [repeated 5x across cluster]\u001b[0m\n"
     ]
    },
    {
     "name": "stderr",
     "output_type": "stream",
     "text": [
      "\u001b[92mINFO \u001b[0m:      aggregate_evaluate: received 10 results and 0 failures\n",
      "\u001b[92mINFO \u001b[0m:      \n",
      "\u001b[92mINFO \u001b[0m:      [SUMMARY]\n",
      "\u001b[92mINFO \u001b[0m:      Run finished 10 round(s) in 589.74s\n",
      "\u001b[92mINFO \u001b[0m:      \tHistory (loss, distributed):\n",
      "\u001b[92mINFO \u001b[0m:      \t\tround 1: 0.055380082559585576\n",
      "\u001b[92mINFO \u001b[0m:      \t\tround 2: 0.04292244457006454\n",
      "\u001b[92mINFO \u001b[0m:      \t\tround 3: 0.04645359140634537\n",
      "\u001b[92mINFO \u001b[0m:      \t\tround 4: 0.05351695886850357\n",
      "\u001b[92mINFO \u001b[0m:      \t\tround 5: 0.060426591074466705\n",
      "\u001b[92mINFO \u001b[0m:      \t\tround 6: 0.06714729952812196\n",
      "\u001b[92mINFO \u001b[0m:      \t\tround 7: 0.0695942828655243\n",
      "\u001b[92mINFO \u001b[0m:      \t\tround 8: 0.0722857114315033\n",
      "\u001b[92mINFO \u001b[0m:      \t\tround 9: 0.07900095813274384\n",
      "\u001b[92mINFO \u001b[0m:      \t\tround 10: 0.07770004682540894\n",
      "\u001b[92mINFO \u001b[0m:      \n"
     ]
    },
    {
     "data": {
      "text/plain": [
       "History (loss, distributed):\n",
       "\tround 1: 0.055380082559585576\n",
       "\tround 2: 0.04292244457006454\n",
       "\tround 3: 0.04645359140634537\n",
       "\tround 4: 0.05351695886850357\n",
       "\tround 5: 0.060426591074466705\n",
       "\tround 6: 0.06714729952812196\n",
       "\tround 7: 0.0695942828655243\n",
       "\tround 8: 0.0722857114315033\n",
       "\tround 9: 0.07900095813274384\n",
       "\tround 10: 0.07770004682540894"
      ]
     },
     "execution_count": 10,
     "metadata": {},
     "output_type": "execute_result"
    }
   ],
   "source": [
    "strategy = FedCustom()\n",
    "#fl.common.logger.configure(identifier=\"myflExpMY\", filename=\"FLLOG_my.txt\")\n",
    "history = fl.simulation.start_simulation(client_fn=client_fn,\n",
    "                                         num_clients=10,\n",
    "                                         config=fl.server.ServerConfig(num_rounds=10),\n",
    "                                         strategy=strategy,  # <-- pass the new strategy here\n",
    "                                         client_resources=client_resources,\n",
    "\n",
    ")\n",
    "history\n"
   ]
  },
  {
   "cell_type": "code",
   "execution_count": null,
   "metadata": {},
   "outputs": [],
   "source": []
  },
  {
   "cell_type": "code",
   "execution_count": 8,
   "metadata": {},
   "outputs": [
    {
     "ename": "NameError",
     "evalue": "name 'strategy' is not defined",
     "output_type": "error",
     "traceback": [
      "\u001b[1;31m---------------------------------------------------------------------------\u001b[0m",
      "\u001b[1;31mNameError\u001b[0m                                 Traceback (most recent call last)",
      "Cell \u001b[1;32mIn[8], line 68\u001b[0m\n\u001b[0;32m     64\u001b[0m     axs[\u001b[38;5;241m1\u001b[39m]\u001b[38;5;241m.\u001b[39mgrid()\n\u001b[0;32m     66\u001b[0m     plt\u001b[38;5;241m.\u001b[39mshow()\n\u001b[1;32m---> 68\u001b[0m plot_metrics(\u001b[43mstrategy\u001b[49m\u001b[38;5;241m.\u001b[39mclient_metrics)\n",
      "\u001b[1;31mNameError\u001b[0m: name 'strategy' is not defined"
     ]
    }
   ],
   "source": [
    "import matplotlib.pyplot as plt\n",
    "\n",
    "\n",
    "def plot_metrics(client_metrics, rounds: int = 10):\n",
    "    # client_metrics = strategy.client_metrics\n",
    "    client_ids = list(client_metrics.keys())\n",
    "    client_ids.sort()\n",
    "\n",
    "    fig, axs = plt.subplots(1, 2, figsize=(15, 5))\n",
    "\n",
    "    round_max_losses: List[Tuple[int, float]] = []\n",
    "    round_max_accuracy: List[Tuple[int, float]] = []\n",
    "    round_min_losses: List[Tuple[int, float]] = []\n",
    "    round_min_accuracy: List[Tuple[int, float]] = []\n",
    "\n",
    "    for round in range(1, rounds+1):\n",
    "        metrics_round = [(metrics.epoch, metrics.loss, metrics.accuracy) for metrics_list in client_metrics.values()\n",
    "                       for metrics in metrics_list if metrics.round == round]\n",
    "        if metrics_round:\n",
    "            min_loss = min(metrics_round, key=lambda x: x[1])\n",
    "            max_loss = max(metrics_round, key=lambda x: x[1])\n",
    "            round_max_losses.append(max_loss)\n",
    "            round_min_losses.append(min_loss)\n",
    "            min_accuracy = min(metrics_round, key=lambda x: x[2])\n",
    "            max_accuracy = max(metrics_round, key=lambda x: x[2])\n",
    "            round_max_accuracy.append(max_accuracy)\n",
    "            round_min_accuracy.append(min_accuracy)\n",
    "\n",
    "    for cid in client_ids:\n",
    "        epochs = [metric.epoch for metric in client_metrics[cid]]\n",
    "        losses = [metric.loss for metric in client_metrics[cid]]\n",
    "        axs[0].plot(epochs, losses,label=f\"Client {cid}: {len(strategy.client_metrics[cid])}\")\n",
    "\n",
    "    max_epochs = [round_max[0] for round_max in round_max_losses]\n",
    "    max_losses = [round_max[1] for round_max in round_max_losses]\n",
    "    min_epochs = [round_min[0] for round_min in round_min_losses]\n",
    "    min_losses = [round_min[1] for round_min in round_min_losses]\n",
    "    axs[0].plot(max_epochs, max_losses, linestyle='dashed')\n",
    "    axs[0].plot(min_epochs, min_losses, linestyle='dashed')\n",
    "    axs[0].set_title(\"Individual Clients Losses\")\n",
    "    axs[0].set_xlabel(\"Epochs\")\n",
    "    axs[0].set_ylabel(\"Loss\")\n",
    "    axs[0].legend(loc='upper right', fontsize='x-small', shadow=True,)\n",
    "    axs[0].grid()\n",
    "    \n",
    "\n",
    "\n",
    "    for cid in client_ids:\n",
    "        epochs = [metric.epoch for metric in client_metrics[cid]]\n",
    "        accuracies = [metric.accuracy for metric in client_metrics[cid]]\n",
    "        axs[1].plot(epochs, accuracies, label=f\"Client {cid}: {len(client_metrics[cid])}\")\n",
    "\n",
    "    max_epochs = [round_max[0] for round_max in round_max_accuracy]\n",
    "    max_accuracies = [round_max[2] for round_max in round_max_accuracy]\n",
    "    min_epochs = [round_min[0] for round_min in round_min_accuracy]\n",
    "    min_accuracies = [round_min[2] for round_min in round_min_accuracy]\n",
    "    axs[1].plot(max_epochs, max_accuracies, linestyle='dashed')\n",
    "    axs[1].plot(min_epochs, min_accuracies, linestyle='dashed')\n",
    "    axs[1].set_title(\"Individual Clients Accuracies\")\n",
    "\n",
    "    axs[1].set_xlabel(\"Epochs\")\n",
    "    axs[1].set_ylabel(\"Accuracy\")\n",
    "    axs[1].legend(loc='lower right',fontsize='x-small', shadow=True,)\n",
    "    axs[1].grid()\n",
    "\n",
    "    plt.show()\n",
    "\n",
    "plot_metrics(strategy.client_metrics)"
   ]
  },
  {
   "cell_type": "code",
   "execution_count": 9,
   "metadata": {},
   "outputs": [
    {
     "ename": "NameError",
     "evalue": "name 'strategy' is not defined",
     "output_type": "error",
     "traceback": [
      "\u001b[1;31m---------------------------------------------------------------------------\u001b[0m",
      "\u001b[1;31mNameError\u001b[0m                                 Traceback (most recent call last)",
      "Cell \u001b[1;32mIn[9], line 23\u001b[0m\n\u001b[0;32m     19\u001b[0m     ax\u001b[38;5;241m.\u001b[39mlegend(loc\u001b[38;5;241m=\u001b[39m\u001b[38;5;124m'\u001b[39m\u001b[38;5;124mupper right\u001b[39m\u001b[38;5;124m'\u001b[39m, fontsize\u001b[38;5;241m=\u001b[39m\u001b[38;5;124m'\u001b[39m\u001b[38;5;124mx-small\u001b[39m\u001b[38;5;124m'\u001b[39m, shadow\u001b[38;5;241m=\u001b[39m\u001b[38;5;28;01mTrue\u001b[39;00m, ncol\u001b[38;5;241m=\u001b[39m\u001b[38;5;28mlen\u001b[39m(client_ids))\n\u001b[0;32m     21\u001b[0m     plt\u001b[38;5;241m.\u001b[39mshow()\n\u001b[1;32m---> 23\u001b[0m plot_times(\u001b[43mstrategy\u001b[49m\u001b[38;5;241m.\u001b[39mclient_training_times)\n",
      "\u001b[1;31mNameError\u001b[0m: name 'strategy' is not defined"
     ]
    }
   ],
   "source": [
    "def plot_times(client_training_times):\n",
    "    client_ids = list(client_training_times.keys())\n",
    "    client_ids.sort()\n",
    "    num_rounds = len(client_training_times[client_ids[0]])\n",
    "\n",
    "    x = np.arange(num_rounds)  # Positions of the bars\n",
    "    bar_width = 0.05 # Width of bars\n",
    "    fig, ax = plt.subplots(figsize=(14, 8))\n",
    "\n",
    "    for i, client_id in enumerate(client_ids):\n",
    "        times = client_training_times[client_id]\n",
    "        ax.bar(x + i * bar_width, times, bar_width, label=client_id)\n",
    "\n",
    "    ax.set_xlabel(\"Rounds\")\n",
    "    ax.set_ylabel(\"Time (seconds)\")\n",
    "    ax.set_title(\"Individual Client Training Times\")\n",
    "    ax.set_xticks(x + bar_width * round(len(client_ids) / 2))\n",
    "    ax.set_xticklabels(np.arange(1, num_rounds + 1))\n",
    "    ax.legend(loc='upper right', fontsize='x-small', shadow=True, ncol=len(client_ids))\n",
    "\n",
    "    plt.show()\n",
    "\n",
    "plot_times(strategy.client_training_times)"
   ]
  },
  {
   "cell_type": "code",
   "execution_count": 10,
   "metadata": {},
   "outputs": [
    {
     "ename": "NameError",
     "evalue": "name 'strategy' is not defined",
     "output_type": "error",
     "traceback": [
      "\u001b[1;31m---------------------------------------------------------------------------\u001b[0m",
      "\u001b[1;31mNameError\u001b[0m                                 Traceback (most recent call last)",
      "Cell \u001b[1;32mIn[10], line 1\u001b[0m\n\u001b[1;32m----> 1\u001b[0m \u001b[38;5;28;01mfor\u001b[39;00m a \u001b[38;5;129;01min\u001b[39;00m \u001b[43mstrategy\u001b[49m\u001b[38;5;241m.\u001b[39mclient_metrics:\n\u001b[0;32m      2\u001b[0m     \u001b[38;5;28mprint\u001b[39m(\u001b[38;5;124mf\u001b[39m\u001b[38;5;124m\"\u001b[39m\u001b[38;5;124mClient \u001b[39m\u001b[38;5;132;01m{\u001b[39;00ma\u001b[38;5;132;01m}\u001b[39;00m\u001b[38;5;124m metrics: \u001b[39m\u001b[38;5;132;01m{\u001b[39;00m\u001b[38;5;28mlen\u001b[39m(strategy\u001b[38;5;241m.\u001b[39mclient_metrics[a])\u001b[38;5;132;01m}\u001b[39;00m\u001b[38;5;124m\"\u001b[39m)\n",
      "\u001b[1;31mNameError\u001b[0m: name 'strategy' is not defined"
     ]
    }
   ],
   "source": [
    "for a in strategy.client_metrics:\n",
    "    print(f\"Client {a} metrics: {len(strategy.client_metrics[a])}\")"
   ]
  },
  {
   "cell_type": "code",
   "execution_count": 11,
   "metadata": {},
   "outputs": [],
   "source": [
    "class FlowerClient(fl.client.NumPyClient):\n",
    "    def __init__(self, cid, net, trainloader, valloader):\n",
    "        self.cid = cid\n",
    "        self.net = net\n",
    "        self.trainloader = trainloader\n",
    "        self.valloader = valloader\n",
    "\n",
    "    def get_parameters(self, config):\n",
    "        print(f\"[Client {self.cid}] get_parameters\")\n",
    "        return get_parameters(self.net)\n",
    "\n",
    "    def fit(self, parameters, config):\n",
    "        print(f\"[Client {self.cid}] fit, config: {config}\")\n",
    "        set_parameters(self.net, parameters)\n",
    "        start_time = time.time()  # Start time measurement\n",
    "        metrics = train(self.net, self.trainloader, epochs=10)\n",
    "        training_time = time.time() - start_time  # Calculate duration\n",
    "        return get_parameters(self.net), len(self.trainloader), {\"training_time\": training_time, \"metrics\": json.dumps(metrics)}\n",
    "\n",
    "    def evaluate(self, parameters, config):\n",
    "        print(f\"[Client {self.cid}] evaluate, config: {config}\")\n",
    "        set_parameters(self.net, parameters)\n",
    "        loss, accuracy = test(self.net, self.valloader)\n",
    "        print(f\"Client {self.cid} loss {loss}\")\n",
    "        print(f\"Client {self.cid} accuracy {accuracy}\")\n",
    "        return float(loss), len(self.valloader), {\"accuracy\": float(accuracy)}\n",
    "\n",
    "\n",
    "def client_fn(cid) -> FlowerClient:\n",
    "    net = Net().to(DEVICE) #Load Model from here\n",
    "    trainloader = trainloaders[int(cid)]\n",
    "    valloader = valloaders[int(cid)]\n",
    "    return FlowerClient(cid, net, trainloader, valloader).to_client()"
   ]
  },
  {
   "cell_type": "code",
   "execution_count": 25,
   "metadata": {},
   "outputs": [],
   "source": [
    "class FedAvgCustom(fl.server.strategy.FedAvg):\n",
    "    def __init__(\n",
    "        self,\n",
    "        fraction_fit = 1.0,\n",
    "        fraction_evaluate = 1.0,\n",
    "        min_fit_clients = 2,\n",
    "        min_evaluate_clients = 2,\n",
    "        min_available_clients = 2,\n",
    "    ):\n",
    "        super().__init__(fraction_fit = fraction_fit, fraction_evaluate = fraction_evaluate, min_fit_clients = min_fit_clients, min_evaluate_clients = min_evaluate_clients, min_available_clients = min_available_clients)\n",
    "        self.client_training_times: Dict[int, List[float]] = {}\n",
    "        self.client_metrics: Dict[int, List[ClientMetrics]] = {}\n",
    "        self.loss_extreme: Dict[int, Tuple[int, float, float]] = {}\n",
    "        self.accuracy_extreme: Dict[int, Tuple[int, float, float]] = {}\n",
    "\n",
    "    def parse_metrics(self, cid: int, server_round: int, metrics: str):\n",
    "        client_data: List[ClientMetrics] = json.loads(metrics)\n",
    "        data_store: List[ClientMetrics] = self.client_metrics.setdefault(cid, [])\n",
    "        last_epoch: int = len(data_store)\n",
    "        for data in client_data:\n",
    "            data_store.append(ClientMetrics(last_epoch, data[1], data[2], round=server_round, cid=cid))\n",
    "            last_epoch += 1\n",
    "\n",
    "    def aggregate_fit(\n",
    "        self,\n",
    "        server_round: int,\n",
    "        results: List[Tuple[ClientProxy, FitRes]],\n",
    "        failures: List[Union[Tuple[ClientProxy, FitRes], BaseException]],\n",
    "    ) -> Tuple[Optional[Parameters], Dict[str, Scalar]]:\n",
    "        \"\"\"Aggregate fit results using weighted average.\"\"\"\n",
    "        for client, fit_res in results:\n",
    "            self.client_training_times.setdefault(client.cid, []).append(fit_res.metrics.get(\"training_time\", 0))\n",
    "            self.parse_metrics(client.cid, server_round, fit_res.metrics.get(\"metrics\", None))\n",
    "        weights_results = [\n",
    "            (parameters_to_ndarrays(fit_res.parameters), fit_res.num_examples)\n",
    "            for _, fit_res in results\n",
    "        ]\n",
    "        parameters_aggregated = ndarrays_to_parameters(aggregate(weights_results))\n",
    "        metrics_aggregated = {}\n",
    "        return parameters_aggregated, metrics_aggregated\n",
    "\n"
   ]
  },
  {
   "cell_type": "code",
   "execution_count": 12,
   "metadata": {},
   "outputs": [],
   "source": [
    "from flwr.server.strategy import FedProx"
   ]
  },
  {
   "cell_type": "code",
   "execution_count": 22,
   "metadata": {},
   "outputs": [
    {
     "name": "stderr",
     "output_type": "stream",
     "text": [
      "\u001b[92mINFO \u001b[0m:      Starting Flower simulation, config: num_rounds=10, no round_timeout\n",
      "2024-12-04 17:36:13,359\tINFO worker.py:1771 -- Started a local Ray instance.\n",
      "\u001b[92mINFO \u001b[0m:      Flower VCE: Ray initialized with resources: {'node:__internal_head__': 1.0, 'CPU': 32.0, 'memory': 67911781786.0, 'node:127.0.0.1': 1.0, 'object_store_memory': 33390763622.0, 'GPU': 1.0, 'accelerator_type:RTX': 1.0}\n",
      "\u001b[92mINFO \u001b[0m:      Optimize your simulation with Flower VCE: https://flower.ai/docs/framework/how-to-run-simulations.html\n",
      "\u001b[92mINFO \u001b[0m:      Flower VCE: Resources for each Virtual Client: {'num_gpus': 0.125, 'num_cpus': 1}\n",
      "\u001b[92mINFO \u001b[0m:      Flower VCE: Creating VirtualClientEngineActorPool with 8 actors\n",
      "\u001b[92mINFO \u001b[0m:      [INIT]\n",
      "\u001b[92mINFO \u001b[0m:      Requesting initial parameters from one random client\n",
      "\u001b[92mINFO \u001b[0m:      Received initial parameters from one random client\n",
      "\u001b[92mINFO \u001b[0m:      Evaluating initial global parameters\n",
      "\u001b[92mINFO \u001b[0m:      \n",
      "\u001b[92mINFO \u001b[0m:      [ROUND 1]\n",
      "\u001b[92mINFO \u001b[0m:      configure_fit: strategy sampled 10 clients (out of 10)\n"
     ]
    },
    {
     "name": "stdout",
     "output_type": "stream",
     "text": [
      "\u001b[36m(ClientAppActor pid=42364)\u001b[0m [Client 8] get_parameters\n",
      "\u001b[36m(ClientAppActor pid=42364)\u001b[0m [Client 3] fit, config: {'proximal_mu': 1.0}\n",
      "\u001b[36m(ClientAppActor pid=42364)\u001b[0m Epoch 0: train loss 0.065330, accuracy 0.216889\n",
      "\u001b[36m(ClientAppActor pid=42364)\u001b[0m Epoch 1: train loss 0.056024, accuracy 0.330667\n",
      "\u001b[36m(ClientAppActor pid=43808)\u001b[0m [Client 8] fit, config: {'proximal_mu': 1.0}\n",
      "\u001b[36m(ClientAppActor pid=42364)\u001b[0m Epoch 2: train loss 0.051663, accuracy 0.390667\n",
      "\u001b[36m(ClientAppActor pid=42476)\u001b[0m [Client 0] fit, config: {'proximal_mu': 1.0}\n",
      "\u001b[36m(ClientAppActor pid=43808)\u001b[0m Epoch 0: train loss 0.064063, accuracy 0.235778\n",
      "\u001b[36m(ClientAppActor pid=49460)\u001b[0m [Client 4] fit, config: {'proximal_mu': 1.0}\u001b[32m [repeated 5x across cluster]\u001b[0m\n",
      "\u001b[36m(ClientAppActor pid=24552)\u001b[0m Epoch 0: train loss 0.065346, accuracy 0.211778\u001b[32m [repeated 11x across cluster]\u001b[0m\n",
      "\u001b[36m(ClientAppActor pid=40236)\u001b[0m Epoch 3: train loss 0.048988, accuracy 0.426222\u001b[32m [repeated 17x across cluster]\u001b[0m\n",
      "\u001b[36m(ClientAppActor pid=42364)\u001b[0m [Client 9] fit, config: {'proximal_mu': 1.0}\n",
      "\u001b[36m(ClientAppActor pid=49460)\u001b[0m Epoch 4: train loss 0.046598, accuracy 0.466667\u001b[32m [repeated 20x across cluster]\u001b[0m\n",
      "\u001b[36m(ClientAppActor pid=43808)\u001b[0m [Client 7] fit, config: {'proximal_mu': 1.0}\n",
      "\u001b[36m(ClientAppActor pid=40236)\u001b[0m Epoch 8: train loss 0.038429, accuracy 0.558889\u001b[32m [repeated 19x across cluster]\u001b[0m\n",
      "\u001b[36m(ClientAppActor pid=39756)\u001b[0m Epoch 9: train loss 0.038504, accuracy 0.552889\u001b[32m [repeated 15x across cluster]\u001b[0m\n",
      "\u001b[36m(ClientAppActor pid=43808)\u001b[0m Epoch 4: train loss 0.045911, accuracy 0.471111\u001b[32m [repeated 6x across cluster]\u001b[0m\n",
      "\u001b[36m(ClientAppActor pid=42364)\u001b[0m Epoch 9: train loss 0.037588, accuracy 0.558222\u001b[32m [repeated 5x across cluster]\u001b[0m\n"
     ]
    },
    {
     "name": "stderr",
     "output_type": "stream",
     "text": [
      "\u001b[92mINFO \u001b[0m:      aggregate_fit: received 10 results and 0 failures\n",
      "\u001b[93mWARNING \u001b[0m:   No fit_metrics_aggregation_fn provided\n",
      "\u001b[92mINFO \u001b[0m:      configure_evaluate: strategy sampled 10 clients (out of 10)\n"
     ]
    },
    {
     "name": "stdout",
     "output_type": "stream",
     "text": [
      "\u001b[36m(ClientAppActor pid=43808)\u001b[0m Epoch 9: train loss 0.035380, accuracy 0.599778\u001b[32m [repeated 3x across cluster]\u001b[0m\n",
      "\u001b[36m(ClientAppActor pid=43808)\u001b[0m [Client 8] evaluate, config: {}\n",
      "\u001b[36m(ClientAppActor pid=43808)\u001b[0m Client 8 loss 0.05895656514167786\n",
      "\u001b[36m(ClientAppActor pid=43808)\u001b[0m Client 8 accuracy 0.364\n",
      "\u001b[36m(ClientAppActor pid=40236)\u001b[0m [Client 9] evaluate, config: {}\u001b[32m [repeated 5x across cluster]\u001b[0m\n",
      "\u001b[36m(ClientAppActor pid=24552)\u001b[0m Client 6 loss 0.05770668315887451\u001b[32m [repeated 4x across cluster]\u001b[0m\n",
      "\u001b[36m(ClientAppActor pid=24552)\u001b[0m Client 6 accuracy 0.358\u001b[32m [repeated 4x across cluster]\u001b[0m\n"
     ]
    },
    {
     "name": "stderr",
     "output_type": "stream",
     "text": [
      "\u001b[92mINFO \u001b[0m:      aggregate_evaluate: received 10 results and 0 failures\n",
      "\u001b[93mWARNING \u001b[0m:   No evaluate_metrics_aggregation_fn provided\n",
      "\u001b[92mINFO \u001b[0m:      \n",
      "\u001b[92mINFO \u001b[0m:      [ROUND 2]\n",
      "\u001b[92mINFO \u001b[0m:      configure_fit: strategy sampled 10 clients (out of 10)\n"
     ]
    },
    {
     "name": "stdout",
     "output_type": "stream",
     "text": [
      "\u001b[36m(ClientAppActor pid=49460)\u001b[0m [Client 5] evaluate, config: {}\u001b[32m [repeated 4x across cluster]\u001b[0m\n",
      "\u001b[36m(ClientAppActor pid=49460)\u001b[0m Client 5 loss 0.05738716530799866\u001b[32m [repeated 5x across cluster]\u001b[0m\n",
      "\u001b[36m(ClientAppActor pid=49460)\u001b[0m Client 5 accuracy 0.386\u001b[32m [repeated 5x across cluster]\u001b[0m\n",
      "\u001b[36m(ClientAppActor pid=49460)\u001b[0m [Client 4] fit, config: {'proximal_mu': 1.0}\n",
      "\u001b[36m(ClientAppActor pid=49460)\u001b[0m Epoch 0: train loss 0.047219, accuracy 0.458222\n",
      "\u001b[36m(ClientAppActor pid=39756)\u001b[0m [Client 0] fit, config: {'proximal_mu': 1.0}\u001b[32m [repeated 3x across cluster]\u001b[0m\n",
      "\u001b[36m(ClientAppActor pid=43808)\u001b[0m Epoch 2: train loss 0.040525, accuracy 0.534444\u001b[32m [repeated 11x across cluster]\u001b[0m\n",
      "\u001b[36m(ClientAppActor pid=40236)\u001b[0m [Client 6] fit, config: {'proximal_mu': 1.0}\u001b[32m [repeated 4x across cluster]\u001b[0m\n",
      "\u001b[36m(ClientAppActor pid=30612)\u001b[0m Epoch 2: train loss 0.040126, accuracy 0.539333\u001b[32m [repeated 20x across cluster]\u001b[0m\n",
      "\u001b[36m(ClientAppActor pid=40236)\u001b[0m Epoch 4: train loss 0.037233, accuracy 0.564222\u001b[32m [repeated 20x across cluster]\u001b[0m\n",
      "\u001b[36m(ClientAppActor pid=49460)\u001b[0m [Client 7] fit, config: {'proximal_mu': 1.0}\n",
      "\u001b[36m(ClientAppActor pid=42476)\u001b[0m Epoch 9: train loss 0.024097, accuracy 0.727111\u001b[32m [repeated 18x across cluster]\u001b[0m\n",
      "\u001b[36m(ClientAppActor pid=43808)\u001b[0m [Client 3] fit, config: {'proximal_mu': 1.0}\n",
      "\u001b[36m(ClientAppActor pid=40236)\u001b[0m Epoch 9: train loss 0.024628, accuracy 0.722889\u001b[32m [repeated 15x across cluster]\u001b[0m\n",
      "\u001b[36m(ClientAppActor pid=43808)\u001b[0m Epoch 4: train loss 0.037595, accuracy 0.564889\u001b[32m [repeated 5x across cluster]\u001b[0m\n",
      "\u001b[36m(ClientAppActor pid=49460)\u001b[0m Epoch 7: train loss 0.028786, accuracy 0.668222\u001b[32m [repeated 5x across cluster]\u001b[0m\n"
     ]
    },
    {
     "name": "stderr",
     "output_type": "stream",
     "text": [
      "\u001b[92mINFO \u001b[0m:      aggregate_fit: received 10 results and 0 failures\n",
      "\u001b[92mINFO \u001b[0m:      configure_evaluate: strategy sampled 10 clients (out of 10)\n"
     ]
    },
    {
     "name": "stdout",
     "output_type": "stream",
     "text": [
      "\u001b[36m(ClientAppActor pid=43808)\u001b[0m Epoch 9: train loss 0.024582, accuracy 0.724667\u001b[32m [repeated 5x across cluster]\u001b[0m\n",
      "\u001b[36m(ClientAppActor pid=43808)\u001b[0m [Client 4] evaluate, config: {}\n",
      "\u001b[36m(ClientAppActor pid=43808)\u001b[0m Client 4 loss 0.042749390840530394\n",
      "\u001b[36m(ClientAppActor pid=43808)\u001b[0m Client 4 accuracy 0.532\n",
      "\u001b[36m(ClientAppActor pid=24552)\u001b[0m [Client 0] evaluate, config: {}\u001b[32m [repeated 4x across cluster]\u001b[0m\n",
      "\u001b[36m(ClientAppActor pid=24552)\u001b[0m Client 0 loss 0.044313578128814694\u001b[32m [repeated 4x across cluster]\u001b[0m\n",
      "\u001b[36m(ClientAppActor pid=24552)\u001b[0m Client 0 accuracy 0.508\u001b[32m [repeated 4x across cluster]\u001b[0m\n"
     ]
    },
    {
     "name": "stderr",
     "output_type": "stream",
     "text": [
      "\u001b[92mINFO \u001b[0m:      aggregate_evaluate: received 10 results and 0 failures\n",
      "\u001b[92mINFO \u001b[0m:      \n",
      "\u001b[92mINFO \u001b[0m:      [ROUND 3]\n",
      "\u001b[92mINFO \u001b[0m:      configure_fit: strategy sampled 10 clients (out of 10)\n"
     ]
    },
    {
     "name": "stdout",
     "output_type": "stream",
     "text": [
      "\u001b[36m(ClientAppActor pid=49460)\u001b[0m [Client 2] evaluate, config: {}\u001b[32m [repeated 5x across cluster]\u001b[0m\n",
      "\u001b[36m(ClientAppActor pid=49460)\u001b[0m [Client 2] fit, config: {'proximal_mu': 1.0}\n",
      "\u001b[36m(ClientAppActor pid=49460)\u001b[0m Client 2 loss 0.046550421118736265\u001b[32m [repeated 5x across cluster]\u001b[0m\n",
      "\u001b[36m(ClientAppActor pid=49460)\u001b[0m Client 2 accuracy 0.514\u001b[32m [repeated 5x across cluster]\u001b[0m\n",
      "\u001b[36m(ClientAppActor pid=49460)\u001b[0m Epoch 0: train loss 0.040006, accuracy 0.548667\n",
      "\u001b[36m(ClientAppActor pid=24552)\u001b[0m [Client 9] fit, config: {'proximal_mu': 1.0}\u001b[32m [repeated 4x across cluster]\u001b[0m\n",
      "\u001b[36m(ClientAppActor pid=39756)\u001b[0m Epoch 0: train loss 0.040245, accuracy 0.547111\u001b[32m [repeated 11x across cluster]\u001b[0m\n",
      "\u001b[36m(ClientAppActor pid=43808)\u001b[0m [Client 6] fit, config: {'proximal_mu': 1.0}\u001b[32m [repeated 3x across cluster]\u001b[0m\n",
      "\u001b[36m(ClientAppActor pid=42364)\u001b[0m Epoch 2: train loss 0.031107, accuracy 0.646444\u001b[32m [repeated 20x across cluster]\u001b[0m\n",
      "\u001b[36m(ClientAppActor pid=39756)\u001b[0m Epoch 5: train loss 0.022637, accuracy 0.747111\u001b[32m [repeated 19x across cluster]\u001b[0m\n",
      "\u001b[36m(ClientAppActor pid=49460)\u001b[0m [Client 3] fit, config: {'proximal_mu': 1.0}\n",
      "\u001b[36m(ClientAppActor pid=39756)\u001b[0m Epoch 7: train loss 0.017281, accuracy 0.809111\u001b[32m [repeated 16x across cluster]\u001b[0m\n",
      "\u001b[36m(ClientAppActor pid=42476)\u001b[0m [Client 7] fit, config: {'proximal_mu': 1.0}\n",
      "\u001b[36m(ClientAppActor pid=49460)\u001b[0m Epoch 2: train loss 0.032682, accuracy 0.624889\u001b[32m [repeated 17x across cluster]\u001b[0m\n",
      "\u001b[36m(ClientAppActor pid=42476)\u001b[0m Epoch 4: train loss 0.025282, accuracy 0.706222\u001b[32m [repeated 6x across cluster]\u001b[0m\n",
      "\u001b[36m(ClientAppActor pid=49460)\u001b[0m Epoch 7: train loss 0.017242, accuracy 0.810667\u001b[32m [repeated 5x across cluster]\u001b[0m\n"
     ]
    },
    {
     "name": "stderr",
     "output_type": "stream",
     "text": [
      "\u001b[92mINFO \u001b[0m:      aggregate_fit: received 10 results and 0 failures\n",
      "\u001b[92mINFO \u001b[0m:      configure_evaluate: strategy sampled 10 clients (out of 10)\n"
     ]
    },
    {
     "name": "stdout",
     "output_type": "stream",
     "text": [
      "\u001b[36m(ClientAppActor pid=42476)\u001b[0m Epoch 9: train loss 0.011678, accuracy 0.877778\u001b[32m [repeated 5x across cluster]\u001b[0m\n",
      "\u001b[36m(ClientAppActor pid=42476)\u001b[0m [Client 4] evaluate, config: {}\n",
      "\u001b[36m(ClientAppActor pid=42476)\u001b[0m Client 4 loss 0.047238601207733155\n",
      "\u001b[36m(ClientAppActor pid=42476)\u001b[0m Client 4 accuracy 0.534\n",
      "\u001b[36m(ClientAppActor pid=24552)\u001b[0m [Client 3] evaluate, config: {}\u001b[32m [repeated 5x across cluster]\u001b[0m\n",
      "\u001b[36m(ClientAppActor pid=39756)\u001b[0m Client 2 loss 0.04999660086631775\u001b[32m [repeated 4x across cluster]\u001b[0m\n",
      "\u001b[36m(ClientAppActor pid=39756)\u001b[0m Client 2 accuracy 0.548\u001b[32m [repeated 4x across cluster]\u001b[0m\n"
     ]
    },
    {
     "name": "stderr",
     "output_type": "stream",
     "text": [
      "\u001b[92mINFO \u001b[0m:      aggregate_evaluate: received 10 results and 0 failures\n",
      "\u001b[92mINFO \u001b[0m:      \n",
      "\u001b[92mINFO \u001b[0m:      [ROUND 4]\n",
      "\u001b[92mINFO \u001b[0m:      configure_fit: strategy sampled 10 clients (out of 10)\n"
     ]
    },
    {
     "name": "stdout",
     "output_type": "stream",
     "text": [
      "\u001b[36m(ClientAppActor pid=49460)\u001b[0m [Client 5] fit, config: {'proximal_mu': 1.0}\n",
      "\u001b[36m(ClientAppActor pid=49460)\u001b[0m [Client 6] evaluate, config: {}\u001b[32m [repeated 4x across cluster]\u001b[0m\n",
      "\u001b[36m(ClientAppActor pid=49460)\u001b[0m Client 6 loss 0.047512115001678464\u001b[32m [repeated 5x across cluster]\u001b[0m\n",
      "\u001b[36m(ClientAppActor pid=49460)\u001b[0m Client 6 accuracy 0.574\u001b[32m [repeated 5x across cluster]\u001b[0m\n",
      "\u001b[36m(ClientAppActor pid=49460)\u001b[0m Epoch 0: train loss 0.037989, accuracy 0.581111\n",
      "\u001b[36m(ClientAppActor pid=40236)\u001b[0m [Client 3] fit, config: {'proximal_mu': 1.0}\u001b[32m [repeated 4x across cluster]\u001b[0m\n",
      "\u001b[36m(ClientAppActor pid=39756)\u001b[0m Epoch 0: train loss 0.037533, accuracy 0.580222\u001b[32m [repeated 11x across cluster]\u001b[0m\n",
      "\u001b[36m(ClientAppActor pid=42476)\u001b[0m [Client 4] fit, config: {'proximal_mu': 1.0}\u001b[32m [repeated 3x across cluster]\u001b[0m\n",
      "\u001b[36m(ClientAppActor pid=42364)\u001b[0m Epoch 5: train loss 0.013449, accuracy 0.850444\u001b[32m [repeated 21x across cluster]\u001b[0m\n",
      "\u001b[36m(ClientAppActor pid=43808)\u001b[0m Epoch 5: train loss 0.013674, accuracy 0.856444\u001b[32m [repeated 20x across cluster]\u001b[0m\n",
      "\u001b[36m(ClientAppActor pid=49460)\u001b[0m [Client 8] fit, config: {'proximal_mu': 1.0}\n",
      "\u001b[36m(ClientAppActor pid=39756)\u001b[0m Epoch 8: train loss 0.006963, accuracy 0.927333\u001b[32m [repeated 19x across cluster]\u001b[0m\n",
      "\u001b[36m(ClientAppActor pid=42364)\u001b[0m [Client 7] fit, config: {'proximal_mu': 1.0}\n",
      "\u001b[36m(ClientAppActor pid=42364)\u001b[0m Epoch 2: train loss 0.025308, accuracy 0.715556\u001b[32m [repeated 14x across cluster]\u001b[0m\n",
      "\u001b[36m(ClientAppActor pid=49460)\u001b[0m Epoch 5: train loss 0.015047, accuracy 0.835333\u001b[32m [repeated 5x across cluster]\u001b[0m\n",
      "\u001b[36m(ClientAppActor pid=42364)\u001b[0m Epoch 7: train loss 0.008981, accuracy 0.906667\u001b[32m [repeated 5x across cluster]\u001b[0m\n"
     ]
    },
    {
     "name": "stderr",
     "output_type": "stream",
     "text": [
      "\u001b[92mINFO \u001b[0m:      aggregate_fit: received 10 results and 0 failures\n",
      "\u001b[92mINFO \u001b[0m:      configure_evaluate: strategy sampled 10 clients (out of 10)\n"
     ]
    },
    {
     "name": "stdout",
     "output_type": "stream",
     "text": [
      "\u001b[36m(ClientAppActor pid=42364)\u001b[0m [Client 0] evaluate, config: {}\n",
      "\u001b[36m(ClientAppActor pid=42364)\u001b[0m Epoch 9: train loss 0.005703, accuracy 0.948000\u001b[32m [repeated 4x across cluster]\u001b[0m\n",
      "\u001b[36m(ClientAppActor pid=42364)\u001b[0m Client 0 loss 0.05818434405326843\n",
      "\u001b[36m(ClientAppActor pid=42364)\u001b[0m Client 0 accuracy 0.534\n",
      "\u001b[36m(ClientAppActor pid=39756)\u001b[0m [Client 6] evaluate, config: {}\u001b[32m [repeated 5x across cluster]\u001b[0m\n",
      "\u001b[36m(ClientAppActor pid=43808)\u001b[0m Client 2 loss 0.0580059643983841\u001b[32m [repeated 4x across cluster]\u001b[0m\n",
      "\u001b[36m(ClientAppActor pid=43808)\u001b[0m Client 2 accuracy 0.55\u001b[32m [repeated 4x across cluster]\u001b[0m\n"
     ]
    },
    {
     "name": "stderr",
     "output_type": "stream",
     "text": [
      "\u001b[92mINFO \u001b[0m:      aggregate_evaluate: received 10 results and 0 failures\n",
      "\u001b[92mINFO \u001b[0m:      \n",
      "\u001b[92mINFO \u001b[0m:      [ROUND 5]\n",
      "\u001b[92mINFO \u001b[0m:      configure_fit: strategy sampled 10 clients (out of 10)\n"
     ]
    },
    {
     "name": "stdout",
     "output_type": "stream",
     "text": [
      "\u001b[36m(ClientAppActor pid=30612)\u001b[0m [Client 5] evaluate, config: {}\u001b[32m [repeated 4x across cluster]\u001b[0m\n",
      "\u001b[36m(ClientAppActor pid=30612)\u001b[0m Client 5 loss 0.06050095391273499\u001b[32m [repeated 5x across cluster]\u001b[0m\n",
      "\u001b[36m(ClientAppActor pid=30612)\u001b[0m Client 5 accuracy 0.584\u001b[32m [repeated 5x across cluster]\u001b[0m\n",
      "\u001b[36m(ClientAppActor pid=30612)\u001b[0m [Client 8] fit, config: {'proximal_mu': 1.0}\n",
      "\u001b[36m(ClientAppActor pid=30612)\u001b[0m Epoch 0: train loss 0.037185, accuracy 0.596000\n",
      "\u001b[36m(ClientAppActor pid=42476)\u001b[0m [Client 9] fit, config: {'proximal_mu': 1.0}\u001b[32m [repeated 3x across cluster]\u001b[0m\n",
      "\u001b[36m(ClientAppActor pid=40236)\u001b[0m Epoch 2: train loss 0.021203, accuracy 0.766667\u001b[32m [repeated 12x across cluster]\u001b[0m\n",
      "\u001b[36m(ClientAppActor pid=49460)\u001b[0m [Client 7] fit, config: {'proximal_mu': 1.0}\u001b[32m [repeated 4x across cluster]\u001b[0m\n",
      "\u001b[36m(ClientAppActor pid=43808)\u001b[0m Epoch 3: train loss 0.016283, accuracy 0.814000\u001b[32m [repeated 20x across cluster]\u001b[0m\n",
      "\u001b[36m(ClientAppActor pid=30612)\u001b[0m Epoch 8: train loss 0.005289, accuracy 0.946222\u001b[32m [repeated 21x across cluster]\u001b[0m\n",
      "\u001b[36m(ClientAppActor pid=30612)\u001b[0m [Client 1] fit, config: {'proximal_mu': 1.0}\n",
      "\u001b[36m(ClientAppActor pid=30612)\u001b[0m Epoch 0: train loss 0.036557, accuracy 0.619778\u001b[32m [repeated 18x across cluster]\u001b[0m\n",
      "\u001b[36m(ClientAppActor pid=39756)\u001b[0m [Client 0] fit, config: {'proximal_mu': 1.0}\n",
      "\u001b[36m(ClientAppActor pid=39756)\u001b[0m Epoch 2: train loss 0.020748, accuracy 0.768444\u001b[32m [repeated 14x across cluster]\u001b[0m\n",
      "\u001b[36m(ClientAppActor pid=30612)\u001b[0m Epoch 5: train loss 0.008658, accuracy 0.912222\u001b[32m [repeated 5x across cluster]\u001b[0m\n",
      "\u001b[36m(ClientAppActor pid=39756)\u001b[0m Epoch 7: train loss 0.005054, accuracy 0.957333\u001b[32m [repeated 5x across cluster]\u001b[0m\n"
     ]
    },
    {
     "name": "stderr",
     "output_type": "stream",
     "text": [
      "\u001b[92mINFO \u001b[0m:      aggregate_fit: received 10 results and 0 failures\n",
      "\u001b[92mINFO \u001b[0m:      configure_evaluate: strategy sampled 10 clients (out of 10)\n"
     ]
    },
    {
     "name": "stdout",
     "output_type": "stream",
     "text": [
      "\u001b[36m(ClientAppActor pid=39756)\u001b[0m [Client 7] evaluate, config: {}\n",
      "\u001b[36m(ClientAppActor pid=39756)\u001b[0m Epoch 9: train loss 0.004298, accuracy 0.959333\u001b[32m [repeated 4x across cluster]\u001b[0m\n",
      "\u001b[36m(ClientAppActor pid=39756)\u001b[0m Client 7 loss 0.060259380102157596\n",
      "\u001b[36m(ClientAppActor pid=39756)\u001b[0m Client 7 accuracy 0.58\n",
      "\u001b[36m(ClientAppActor pid=43808)\u001b[0m [Client 5] evaluate, config: {}\u001b[32m [repeated 5x across cluster]\u001b[0m\n",
      "\u001b[36m(ClientAppActor pid=42364)\u001b[0m Client 1 loss 0.065763906955719\u001b[32m [repeated 4x across cluster]\u001b[0m\n",
      "\u001b[36m(ClientAppActor pid=42364)\u001b[0m Client 1 accuracy 0.556\u001b[32m [repeated 4x across cluster]\u001b[0m\n"
     ]
    },
    {
     "name": "stderr",
     "output_type": "stream",
     "text": [
      "\u001b[92mINFO \u001b[0m:      aggregate_evaluate: received 10 results and 0 failures\n",
      "\u001b[92mINFO \u001b[0m:      \n",
      "\u001b[92mINFO \u001b[0m:      [ROUND 6]\n",
      "\u001b[92mINFO \u001b[0m:      configure_fit: strategy sampled 10 clients (out of 10)\n"
     ]
    },
    {
     "name": "stdout",
     "output_type": "stream",
     "text": [
      "\u001b[36m(ClientAppActor pid=30612)\u001b[0m [Client 8] evaluate, config: {}\u001b[32m [repeated 4x across cluster]\u001b[0m\n",
      "\u001b[36m(ClientAppActor pid=30612)\u001b[0m Client 8 loss 0.06141252863407135\u001b[32m [repeated 5x across cluster]\u001b[0m\n",
      "\u001b[36m(ClientAppActor pid=30612)\u001b[0m Client 8 accuracy 0.578\u001b[32m [repeated 5x across cluster]\u001b[0m\n",
      "\u001b[36m(ClientAppActor pid=30612)\u001b[0m [Client 0] fit, config: {'proximal_mu': 1.0}\n",
      "\u001b[36m(ClientAppActor pid=30612)\u001b[0m Epoch 0: train loss 0.036667, accuracy 0.623111\n",
      "\u001b[36m(ClientAppActor pid=43808)\u001b[0m [Client 1] fit, config: {'proximal_mu': 1.0}\u001b[32m [repeated 4x across cluster]\u001b[0m\n",
      "\u001b[36m(ClientAppActor pid=39756)\u001b[0m Epoch 0: train loss 0.037487, accuracy 0.622667\u001b[32m [repeated 11x across cluster]\u001b[0m\n",
      "\u001b[36m(ClientAppActor pid=40236)\u001b[0m [Client 9] fit, config: {'proximal_mu': 1.0}\u001b[32m [repeated 3x across cluster]\u001b[0m\n",
      "\u001b[36m(ClientAppActor pid=30612)\u001b[0m Epoch 5: train loss 0.006655, accuracy 0.934222\u001b[32m [repeated 19x across cluster]\u001b[0m\n",
      "\u001b[36m(ClientAppActor pid=42364)\u001b[0m Epoch 7: train loss 0.003376, accuracy 0.970000\u001b[32m [repeated 19x across cluster]\u001b[0m\n",
      "\u001b[36m(ClientAppActor pid=40236)\u001b[0m Epoch 6: train loss 0.004295, accuracy 0.963111\u001b[32m [repeated 18x across cluster]\u001b[0m\n",
      "\u001b[36m(ClientAppActor pid=30612)\u001b[0m [Client 6] fit, config: {'proximal_mu': 1.0}\n",
      "\u001b[36m(ClientAppActor pid=40236)\u001b[0m Epoch 9: train loss 0.003592, accuracy 0.966667\u001b[32m [repeated 16x across cluster]\u001b[0m\n",
      "\u001b[36m(ClientAppActor pid=42364)\u001b[0m [Client 5] fit, config: {'proximal_mu': 1.0}\n",
      "\u001b[36m(ClientAppActor pid=42364)\u001b[0m Epoch 4: train loss 0.008813, accuracy 0.916000\u001b[32m [repeated 6x across cluster]\u001b[0m\n",
      "\u001b[36m(ClientAppActor pid=30612)\u001b[0m Epoch 7: train loss 0.003227, accuracy 0.974000\u001b[32m [repeated 5x across cluster]\u001b[0m\n"
     ]
    },
    {
     "name": "stderr",
     "output_type": "stream",
     "text": [
      "\u001b[92mINFO \u001b[0m:      aggregate_fit: received 10 results and 0 failures\n",
      "\u001b[92mINFO \u001b[0m:      configure_evaluate: strategy sampled 10 clients (out of 10)\n"
     ]
    },
    {
     "name": "stdout",
     "output_type": "stream",
     "text": [
      "\u001b[36m(ClientAppActor pid=42364)\u001b[0m Epoch 9: train loss 0.003976, accuracy 0.962889\u001b[32m [repeated 5x across cluster]\u001b[0m\n",
      "\u001b[36m(ClientAppActor pid=42364)\u001b[0m [Client 4] evaluate, config: {}\n",
      "\u001b[36m(ClientAppActor pid=42364)\u001b[0m Client 4 loss 0.06969045758247376\n",
      "\u001b[36m(ClientAppActor pid=42364)\u001b[0m Client 4 accuracy 0.56\n",
      "\u001b[36m(ClientAppActor pid=43808)\u001b[0m [Client 0] evaluate, config: {}\u001b[32m [repeated 5x across cluster]\u001b[0m\n",
      "\u001b[36m(ClientAppActor pid=39756)\u001b[0m Client 5 loss 0.07540020823478699\u001b[32m [repeated 4x across cluster]\u001b[0m\n",
      "\u001b[36m(ClientAppActor pid=39756)\u001b[0m Client 5 accuracy 0.586\u001b[32m [repeated 4x across cluster]\u001b[0m\n"
     ]
    },
    {
     "name": "stderr",
     "output_type": "stream",
     "text": [
      "\u001b[92mINFO \u001b[0m:      aggregate_evaluate: received 10 results and 0 failures\n",
      "\u001b[92mINFO \u001b[0m:      \n",
      "\u001b[92mINFO \u001b[0m:      [ROUND 7]\n",
      "\u001b[92mINFO \u001b[0m:      configure_fit: strategy sampled 10 clients (out of 10)\n"
     ]
    },
    {
     "name": "stdout",
     "output_type": "stream",
     "text": [
      "\u001b[36m(ClientAppActor pid=42476)\u001b[0m [Client 9] evaluate, config: {}\u001b[32m [repeated 4x across cluster]\u001b[0m\n",
      "\u001b[36m(ClientAppActor pid=42476)\u001b[0m Client 9 loss 0.07604581308364868\u001b[32m [repeated 5x across cluster]\u001b[0m\n",
      "\u001b[36m(ClientAppActor pid=42476)\u001b[0m Client 9 accuracy 0.534\u001b[32m [repeated 5x across cluster]\u001b[0m\n",
      "\u001b[36m(ClientAppActor pid=42476)\u001b[0m [Client 0] fit, config: {'proximal_mu': 1.0}\n",
      "\u001b[36m(ClientAppActor pid=42476)\u001b[0m Epoch 0: train loss 0.036678, accuracy 0.638667\n",
      "\u001b[36m(ClientAppActor pid=39756)\u001b[0m [Client 7] fit, config: {'proximal_mu': 1.0}\u001b[32m [repeated 5x across cluster]\u001b[0m\n",
      "\u001b[36m(ClientAppActor pid=42364)\u001b[0m Epoch 2: train loss 0.016204, accuracy 0.820000\u001b[32m [repeated 12x across cluster]\u001b[0m\n",
      "\u001b[36m(ClientAppActor pid=49460)\u001b[0m [Client 2] fit, config: {'proximal_mu': 1.0}\u001b[32m [repeated 2x across cluster]\u001b[0m\n",
      "\u001b[36m(ClientAppActor pid=40236)\u001b[0m Epoch 4: train loss 0.006745, accuracy 0.934444\u001b[32m [repeated 20x across cluster]\u001b[0m\n",
      "\u001b[36m(ClientAppActor pid=42364)\u001b[0m Epoch 7: train loss 0.002813, accuracy 0.976222\u001b[32m [repeated 20x across cluster]\u001b[0m\n",
      "\u001b[36m(ClientAppActor pid=42476)\u001b[0m [Client 9] fit, config: {'proximal_mu': 1.0}\n",
      "\u001b[36m(ClientAppActor pid=40236)\u001b[0m Epoch 9: train loss 0.005023, accuracy 0.954444\u001b[32m [repeated 19x across cluster]\u001b[0m\n",
      "\u001b[36m(ClientAppActor pid=43808)\u001b[0m [Client 5] fit, config: {'proximal_mu': 1.0}\n",
      "\u001b[36m(ClientAppActor pid=43808)\u001b[0m Epoch 2: train loss 0.015279, accuracy 0.836667\u001b[32m [repeated 14x across cluster]\u001b[0m\n",
      "\u001b[36m(ClientAppActor pid=42476)\u001b[0m Epoch 5: train loss 0.004935, accuracy 0.956000\u001b[32m [repeated 5x across cluster]\u001b[0m\n",
      "\u001b[36m(ClientAppActor pid=43808)\u001b[0m Epoch 7: train loss 0.002276, accuracy 0.986444\u001b[32m [repeated 5x across cluster]\u001b[0m\n"
     ]
    },
    {
     "name": "stderr",
     "output_type": "stream",
     "text": [
      "\u001b[92mINFO \u001b[0m:      aggregate_fit: received 10 results and 0 failures\n",
      "\u001b[92mINFO \u001b[0m:      configure_evaluate: strategy sampled 10 clients (out of 10)\n"
     ]
    },
    {
     "name": "stdout",
     "output_type": "stream",
     "text": [
      "\u001b[36m(ClientAppActor pid=43808)\u001b[0m [Client 1] evaluate, config: {}\n",
      "\u001b[36m(ClientAppActor pid=43808)\u001b[0m Epoch 9: train loss 0.003743, accuracy 0.963778\u001b[32m [repeated 4x across cluster]\u001b[0m\n",
      "\u001b[36m(ClientAppActor pid=43808)\u001b[0m Client 1 loss 0.0741676344871521\n",
      "\u001b[36m(ClientAppActor pid=43808)\u001b[0m Client 1 accuracy 0.564\n",
      "\u001b[36m(ClientAppActor pid=39756)\u001b[0m [Client 8] evaluate, config: {}\u001b[32m [repeated 5x across cluster]\u001b[0m\n",
      "\u001b[36m(ClientAppActor pid=43808)\u001b[0m Client 9 loss 0.07862559580802918\u001b[32m [repeated 4x across cluster]\u001b[0m\n",
      "\u001b[36m(ClientAppActor pid=43808)\u001b[0m Client 9 accuracy 0.54\u001b[32m [repeated 4x across cluster]\u001b[0m\n"
     ]
    },
    {
     "name": "stderr",
     "output_type": "stream",
     "text": [
      "\u001b[92mINFO \u001b[0m:      aggregate_evaluate: received 10 results and 0 failures\n",
      "\u001b[92mINFO \u001b[0m:      \n",
      "\u001b[92mINFO \u001b[0m:      [ROUND 8]\n",
      "\u001b[92mINFO \u001b[0m:      configure_fit: strategy sampled 10 clients (out of 10)\n"
     ]
    },
    {
     "name": "stdout",
     "output_type": "stream",
     "text": [
      "\u001b[36m(ClientAppActor pid=24552)\u001b[0m [Client 7] evaluate, config: {}\u001b[32m [repeated 4x across cluster]\u001b[0m\n",
      "\u001b[36m(ClientAppActor pid=24552)\u001b[0m Client 7 loss 0.06801961970329284\u001b[32m [repeated 5x across cluster]\u001b[0m\n",
      "\u001b[36m(ClientAppActor pid=24552)\u001b[0m Client 7 accuracy 0.578\u001b[32m [repeated 5x across cluster]\u001b[0m\n",
      "\u001b[36m(ClientAppActor pid=24552)\u001b[0m [Client 4] fit, config: {'proximal_mu': 1.0}\n",
      "\u001b[36m(ClientAppActor pid=24552)\u001b[0m Epoch 0: train loss 0.038339, accuracy 0.627556\n",
      "\u001b[36m(ClientAppActor pid=49460)\u001b[0m [Client 8] fit, config: {'proximal_mu': 1.0}\u001b[32m [repeated 4x across cluster]\u001b[0m\n",
      "\u001b[36m(ClientAppActor pid=42476)\u001b[0m Epoch 0: train loss 0.036536, accuracy 0.640222\u001b[32m [repeated 11x across cluster]\u001b[0m\n",
      "\u001b[36m(ClientAppActor pid=42364)\u001b[0m [Client 0] fit, config: {'proximal_mu': 1.0}\u001b[32m [repeated 3x across cluster]\u001b[0m\n",
      "\u001b[36m(ClientAppActor pid=43808)\u001b[0m Epoch 2: train loss 0.011739, accuracy 0.872444\u001b[32m [repeated 20x across cluster]\u001b[0m\n",
      "\u001b[36m(ClientAppActor pid=39756)\u001b[0m Epoch 7: train loss 0.001605, accuracy 0.989111\u001b[32m [repeated 17x across cluster]\u001b[0m\n",
      "\u001b[36m(ClientAppActor pid=24552)\u001b[0m [Client 3] fit, config: {'proximal_mu': 1.0}\n",
      "\u001b[36m(ClientAppActor pid=39756)\u001b[0m Epoch 9: train loss 0.008967, accuracy 0.900000\u001b[32m [repeated 16x across cluster]\u001b[0m\n",
      "\u001b[36m(ClientAppActor pid=39756)\u001b[0m [Client 5] fit, config: {'proximal_mu': 1.0}\n",
      "\u001b[36m(ClientAppActor pid=24552)\u001b[0m Epoch 2: train loss 0.012306, accuracy 0.866222\u001b[32m [repeated 19x across cluster]\u001b[0m\n",
      "\u001b[36m(ClientAppActor pid=39756)\u001b[0m Epoch 4: train loss 0.005179, accuracy 0.953778\u001b[32m [repeated 6x across cluster]\u001b[0m\n",
      "\u001b[36m(ClientAppActor pid=24552)\u001b[0m Epoch 7: train loss 0.003957, accuracy 0.959556\u001b[32m [repeated 5x across cluster]\u001b[0m\n"
     ]
    },
    {
     "name": "stderr",
     "output_type": "stream",
     "text": [
      "\u001b[92mINFO \u001b[0m:      aggregate_fit: received 10 results and 0 failures\n",
      "\u001b[92mINFO \u001b[0m:      configure_evaluate: strategy sampled 10 clients (out of 10)\n"
     ]
    },
    {
     "name": "stdout",
     "output_type": "stream",
     "text": [
      "\u001b[36m(ClientAppActor pid=39756)\u001b[0m Epoch 9: train loss 0.004473, accuracy 0.956667\u001b[32m [repeated 5x across cluster]\u001b[0m\n",
      "\u001b[36m(ClientAppActor pid=39756)\u001b[0m [Client 7] evaluate, config: {}\n",
      "\u001b[36m(ClientAppActor pid=39756)\u001b[0m Client 7 loss 0.06823300766944886\n",
      "\u001b[36m(ClientAppActor pid=39756)\u001b[0m Client 7 accuracy 0.576\n",
      "\u001b[36m(ClientAppActor pid=42476)\u001b[0m [Client 0] evaluate, config: {}\u001b[32m [repeated 4x across cluster]\u001b[0m\n",
      "\u001b[36m(ClientAppActor pid=42476)\u001b[0m Client 0 loss 0.07561376738548278\u001b[32m [repeated 4x across cluster]\u001b[0m\n",
      "\u001b[36m(ClientAppActor pid=42476)\u001b[0m Client 0 accuracy 0.532\u001b[32m [repeated 4x across cluster]\u001b[0m\n"
     ]
    },
    {
     "name": "stderr",
     "output_type": "stream",
     "text": [
      "\u001b[92mINFO \u001b[0m:      aggregate_evaluate: received 10 results and 0 failures\n",
      "\u001b[92mINFO \u001b[0m:      \n",
      "\u001b[92mINFO \u001b[0m:      [ROUND 9]\n",
      "\u001b[92mINFO \u001b[0m:      configure_fit: strategy sampled 10 clients (out of 10)\n"
     ]
    },
    {
     "name": "stdout",
     "output_type": "stream",
     "text": [
      "\u001b[36m(ClientAppActor pid=42364)\u001b[0m [Client 4] evaluate, config: {}\u001b[32m [repeated 5x across cluster]\u001b[0m\n",
      "\u001b[36m(ClientAppActor pid=42364)\u001b[0m [Client 4] fit, config: {'proximal_mu': 1.0}\n",
      "\u001b[36m(ClientAppActor pid=42364)\u001b[0m Client 4 loss 0.07369180011749267\u001b[32m [repeated 5x across cluster]\u001b[0m\n",
      "\u001b[36m(ClientAppActor pid=42364)\u001b[0m Client 4 accuracy 0.526\u001b[32m [repeated 5x across cluster]\u001b[0m\n",
      "\u001b[36m(ClientAppActor pid=42364)\u001b[0m Epoch 0: train loss 0.037240, accuracy 0.639778\n",
      "\u001b[36m(ClientAppActor pid=49460)\u001b[0m [Client 0] fit, config: {'proximal_mu': 1.0}\u001b[32m [repeated 4x across cluster]\u001b[0m\n",
      "\u001b[36m(ClientAppActor pid=39756)\u001b[0m Epoch 0: train loss 0.036157, accuracy 0.648889\u001b[32m [repeated 11x across cluster]\u001b[0m\n",
      "\u001b[36m(ClientAppActor pid=24552)\u001b[0m [Client 6] fit, config: {'proximal_mu': 1.0}\u001b[32m [repeated 3x across cluster]\u001b[0m\n",
      "\u001b[36m(ClientAppActor pid=42476)\u001b[0m Epoch 2: train loss 0.010888, accuracy 0.882000\u001b[32m [repeated 20x across cluster]\u001b[0m\n",
      "\u001b[36m(ClientAppActor pid=24552)\u001b[0m Epoch 4: train loss 0.004092, accuracy 0.966444\u001b[32m [repeated 20x across cluster]\u001b[0m\n",
      "\u001b[36m(ClientAppActor pid=42364)\u001b[0m [Client 5] fit, config: {'proximal_mu': 1.0}\n",
      "\u001b[36m(ClientAppActor pid=43808)\u001b[0m Epoch 9: train loss 0.005433, accuracy 0.942444\u001b[32m [repeated 18x across cluster]\u001b[0m\n",
      "\u001b[36m(ClientAppActor pid=40236)\u001b[0m [Client 2] fit, config: {'proximal_mu': 1.0}\n",
      "\u001b[36m(ClientAppActor pid=42364)\u001b[0m Epoch 2: train loss 0.011663, accuracy 0.873333\u001b[32m [repeated 14x across cluster]\u001b[0m\n",
      "\u001b[36m(ClientAppActor pid=40236)\u001b[0m Epoch 4: train loss 0.003499, accuracy 0.972222\u001b[32m [repeated 6x across cluster]\u001b[0m\n",
      "\u001b[36m(ClientAppActor pid=42364)\u001b[0m Epoch 7: train loss 0.003094, accuracy 0.966444\u001b[32m [repeated 5x across cluster]\u001b[0m\n"
     ]
    },
    {
     "name": "stderr",
     "output_type": "stream",
     "text": [
      "\u001b[92mINFO \u001b[0m:      aggregate_fit: received 10 results and 0 failures\n",
      "\u001b[92mINFO \u001b[0m:      configure_evaluate: strategy sampled 10 clients (out of 10)\n"
     ]
    },
    {
     "name": "stdout",
     "output_type": "stream",
     "text": [
      "\u001b[36m(ClientAppActor pid=40236)\u001b[0m Epoch 9: train loss 0.000184, accuracy 1.000000\u001b[32m [repeated 5x across cluster]\u001b[0m\n",
      "\u001b[36m(ClientAppActor pid=40236)\u001b[0m [Client 6] evaluate, config: {}\n",
      "\u001b[36m(ClientAppActor pid=40236)\u001b[0m Client 6 loss 0.08179636645317077\n",
      "\u001b[36m(ClientAppActor pid=40236)\u001b[0m Client 6 accuracy 0.566\n",
      "\u001b[36m(ClientAppActor pid=49460)\u001b[0m [Client 1] evaluate, config: {}\u001b[32m [repeated 5x across cluster]\u001b[0m\n",
      "\u001b[36m(ClientAppActor pid=39756)\u001b[0m Client 8 loss 0.07227686476707458\u001b[32m [repeated 4x across cluster]\u001b[0m\n",
      "\u001b[36m(ClientAppActor pid=39756)\u001b[0m Client 8 accuracy 0.572\u001b[32m [repeated 4x across cluster]\u001b[0m\n"
     ]
    },
    {
     "name": "stderr",
     "output_type": "stream",
     "text": [
      "\u001b[92mINFO \u001b[0m:      aggregate_evaluate: received 10 results and 0 failures\n",
      "\u001b[92mINFO \u001b[0m:      \n",
      "\u001b[92mINFO \u001b[0m:      [ROUND 10]\n",
      "\u001b[92mINFO \u001b[0m:      configure_fit: strategy sampled 10 clients (out of 10)\n"
     ]
    },
    {
     "name": "stdout",
     "output_type": "stream",
     "text": [
      "\u001b[36m(ClientAppActor pid=42476)\u001b[0m [Client 3] evaluate, config: {}\u001b[32m [repeated 4x across cluster]\u001b[0m\n",
      "\u001b[36m(ClientAppActor pid=42476)\u001b[0m Client 3 loss 0.07997107696533202\u001b[32m [repeated 5x across cluster]\u001b[0m\n",
      "\u001b[36m(ClientAppActor pid=42476)\u001b[0m Client 3 accuracy 0.53\u001b[32m [repeated 5x across cluster]\u001b[0m\n",
      "\u001b[36m(ClientAppActor pid=42476)\u001b[0m [Client 9] fit, config: {'proximal_mu': 1.0}\n",
      "\u001b[36m(ClientAppActor pid=42476)\u001b[0m Epoch 0: train loss 0.035613, accuracy 0.660667\n",
      "\u001b[36m(ClientAppActor pid=24552)\u001b[0m [Client 7] fit, config: {'proximal_mu': 1.0}\u001b[32m [repeated 5x across cluster]\u001b[0m\n",
      "\u001b[36m(ClientAppActor pid=24552)\u001b[0m Epoch 0: train loss 0.034057, accuracy 0.662889\u001b[32m [repeated 11x across cluster]\u001b[0m\n",
      "\u001b[36m(ClientAppActor pid=42364)\u001b[0m [Client 4] fit, config: {'proximal_mu': 1.0}\u001b[32m [repeated 2x across cluster]\u001b[0m\n",
      "\u001b[36m(ClientAppActor pid=40236)\u001b[0m Epoch 2: train loss 0.008483, accuracy 0.910667\u001b[32m [repeated 20x across cluster]\u001b[0m\n",
      "\u001b[36m(ClientAppActor pid=24552)\u001b[0m Epoch 5: train loss 0.002255, accuracy 0.983778\u001b[32m [repeated 19x across cluster]\u001b[0m\n",
      "\u001b[36m(ClientAppActor pid=24552)\u001b[0m Epoch 7: train loss 0.002612, accuracy 0.974889\u001b[32m [repeated 16x across cluster]\u001b[0m\n",
      "\u001b[36m(ClientAppActor pid=42476)\u001b[0m [Client 8] fit, config: {'proximal_mu': 1.0}\n",
      "\u001b[36m(ClientAppActor pid=42476)\u001b[0m Epoch 2: train loss 0.009772, accuracy 0.896000\u001b[32m [repeated 17x across cluster]\u001b[0m\n",
      "\u001b[36m(ClientAppActor pid=43808)\u001b[0m [Client 0] fit, config: {'proximal_mu': 1.0}\n",
      "\u001b[36m(ClientAppActor pid=43808)\u001b[0m Epoch 4: train loss 0.002588, accuracy 0.982667\u001b[32m [repeated 6x across cluster]\u001b[0m\n",
      "\u001b[36m(ClientAppActor pid=42476)\u001b[0m Epoch 7: train loss 0.001931, accuracy 0.983556\u001b[32m [repeated 5x across cluster]\u001b[0m\n"
     ]
    },
    {
     "name": "stderr",
     "output_type": "stream",
     "text": [
      "\u001b[92mINFO \u001b[0m:      aggregate_fit: received 10 results and 0 failures\n",
      "\u001b[92mINFO \u001b[0m:      configure_evaluate: strategy sampled 10 clients (out of 10)\n"
     ]
    },
    {
     "name": "stdout",
     "output_type": "stream",
     "text": [
      "\u001b[36m(ClientAppActor pid=43808)\u001b[0m Epoch 9: train loss 0.010261, accuracy 0.892222\u001b[32m [repeated 5x across cluster]\u001b[0m\n",
      "\u001b[36m(ClientAppActor pid=43808)\u001b[0m [Client 1] evaluate, config: {}\n",
      "\u001b[36m(ClientAppActor pid=43808)\u001b[0m Client 1 loss 0.07925594305992126\n",
      "\u001b[36m(ClientAppActor pid=43808)\u001b[0m Client 1 accuracy 0.538\n",
      "\u001b[36m(ClientAppActor pid=49460)\u001b[0m [Client 4] evaluate, config: {}\u001b[32m [repeated 5x across cluster]\u001b[0m\n",
      "\u001b[36m(ClientAppActor pid=24552)\u001b[0m Client 9 loss 0.08299437665939331\u001b[32m [repeated 4x across cluster]\u001b[0m\n",
      "\u001b[36m(ClientAppActor pid=24552)\u001b[0m Client 9 accuracy 0.536\u001b[32m [repeated 4x across cluster]\u001b[0m\n"
     ]
    },
    {
     "name": "stderr",
     "output_type": "stream",
     "text": [
      "\u001b[92mINFO \u001b[0m:      aggregate_evaluate: received 10 results and 0 failures\n",
      "\u001b[92mINFO \u001b[0m:      \n",
      "\u001b[92mINFO \u001b[0m:      [SUMMARY]\n",
      "\u001b[92mINFO \u001b[0m:      Run finished 10 round(s) in 618.50s\n",
      "\u001b[92mINFO \u001b[0m:      \tHistory (loss, distributed):\n",
      "\u001b[92mINFO \u001b[0m:      \t\tround 1: 0.058135466766357426\n",
      "\u001b[92mINFO \u001b[0m:      \t\tround 2: 0.04323444417715073\n",
      "\u001b[92mINFO \u001b[0m:      \t\tround 3: 0.04773195241689682\n",
      "\u001b[92mINFO \u001b[0m:      \t\tround 4: 0.0573581038236618\n",
      "\u001b[92mINFO \u001b[0m:      \t\tround 5: 0.06573648520708084\n",
      "\u001b[92mINFO \u001b[0m:      \t\tround 6: 0.07043250725269318\n",
      "\u001b[92mINFO \u001b[0m:      \t\tround 7: 0.07417714717388153\n",
      "\u001b[92mINFO \u001b[0m:      \t\tround 8: 0.07438703188896179\n",
      "\u001b[92mINFO \u001b[0m:      \t\tround 9: 0.0788798974275589\n",
      "\u001b[92mINFO \u001b[0m:      \t\tround 10: 0.0795709911108017\n",
      "\u001b[92mINFO \u001b[0m:      \n"
     ]
    },
    {
     "data": {
      "text/plain": [
       "History (loss, distributed):\n",
       "\tround 1: 0.058135466766357426\n",
       "\tround 2: 0.04323444417715073\n",
       "\tround 3: 0.04773195241689682\n",
       "\tround 4: 0.0573581038236618\n",
       "\tround 5: 0.06573648520708084\n",
       "\tround 6: 0.07043250725269318\n",
       "\tround 7: 0.07417714717388153\n",
       "\tround 8: 0.07438703188896179\n",
       "\tround 9: 0.0788798974275589\n",
       "\tround 10: 0.0795709911108017"
      ]
     },
     "execution_count": 22,
     "metadata": {},
     "output_type": "execute_result"
    }
   ],
   "source": [
    "#strategy_fed_avg = FedAvgCustom()\n",
    "strategy_fed_avg = fl.server.strategy.FedProx(proximal_mu=1.0)\n",
    "fl.simulation.start_simulation(\n",
    "    client_fn=client_fn,\n",
    "    num_clients=10,\n",
    "    config=fl.server.ServerConfig(num_rounds=10),\n",
    "    client_resources=client_resources,\n",
    "    strategy= strategy_fed_avg,\n",
    ")"
   ]
  },
  {
   "cell_type": "code",
   "execution_count": 23,
   "metadata": {},
   "outputs": [],
   "source": [
    "import matplotlib.pyplot as plt\n",
    "\n",
    "\n",
    "def plot_metricss(client_metrics, rounds: int = 10):\n",
    "    # client_metrics = strategy.client_metrics\n",
    "    client_ids = list(client_metrics.keys())\n",
    "    client_ids.sort()\n",
    "\n",
    "    fig, axs = plt.subplots(1, 2, figsize=(15, 5))\n",
    "\n",
    "    round_max_losses: List[Tuple[int, float]] = []\n",
    "    round_max_accuracy: List[Tuple[int, float]] = []\n",
    "    round_min_losses: List[Tuple[int, float]] = []\n",
    "    round_min_accuracy: List[Tuple[int, float]] = []\n",
    "\n",
    "    for round in range(1, rounds+1):\n",
    "        metrics_round = [(metrics.epoch, metrics.loss, metrics.accuracy) for metrics_list in client_metrics.values()\n",
    "                       for metrics in metrics_list if metrics.round == round]\n",
    "        if metrics_round:\n",
    "            min_loss = min(metrics_round, key=lambda x: x[1])\n",
    "            max_loss = max(metrics_round, key=lambda x: x[1])\n",
    "            round_max_losses.append(max_loss)\n",
    "            round_min_losses.append(min_loss)\n",
    "            min_accuracy = min(metrics_round, key=lambda x: x[2])\n",
    "            max_accuracy = max(metrics_round, key=lambda x: x[2])\n",
    "            round_max_accuracy.append(max_accuracy)\n",
    "            round_min_accuracy.append(min_accuracy)\n",
    "\n",
    "    for cid in client_ids:\n",
    "        epochs = [metric.epoch for metric in client_metrics[cid]]\n",
    "        losses = [metric.loss for metric in client_metrics[cid]]\n",
    "        axs[0].plot(epochs, losses,label=f\"Client {cid}: {len(strategy_fed_avg.client_metrics[cid])}\")\n",
    "\n",
    "    max_epochs = [round_max[0] for round_max in round_max_losses]\n",
    "    max_losses = [round_max[1] for round_max in round_max_losses]\n",
    "    min_epochs = [round_min[0] for round_min in round_min_losses]\n",
    "    min_losses = [round_min[1] for round_min in round_min_losses]\n",
    "    axs[0].plot(max_epochs, max_losses, linestyle='dashed')\n",
    "    axs[0].plot(min_epochs, min_losses, linestyle='dashed')\n",
    "    axs[0].set_title(\"Individual Clients Losses\")\n",
    "    axs[0].set_xlabel(\"Epochs\")\n",
    "    axs[0].set_ylabel(\"Loss\")\n",
    "    axs[0].legend(loc='upper right', fontsize='x-small', shadow=True,)\n",
    "    axs[0].grid()\n",
    "    \n",
    "\n",
    "\n",
    "    for cid in client_ids:\n",
    "        epochs = [metric.epoch for metric in client_metrics[cid]]\n",
    "        accuracies = [metric.accuracy for metric in client_metrics[cid]]\n",
    "        axs[1].plot(epochs, accuracies, label=f\"Client {cid}: {len(client_metrics[cid])}\")\n",
    "\n",
    "    max_epochs = [round_max[0] for round_max in round_max_accuracy]\n",
    "    max_accuracies = [round_max[2] for round_max in round_max_accuracy]\n",
    "    min_epochs = [round_min[0] for round_min in round_min_accuracy]\n",
    "    min_accuracies = [round_min[2] for round_min in round_min_accuracy]\n",
    "    axs[1].plot(max_epochs, max_accuracies, linestyle='dashed')\n",
    "    axs[1].plot(min_epochs, min_accuracies, linestyle='dashed')\n",
    "    axs[1].set_title(\"Individual Clients Accuracies\")\n",
    "\n",
    "    axs[1].set_xlabel(\"Epochs\")\n",
    "    axs[1].set_ylabel(\"Accuracy\")\n",
    "    axs[1].legend(loc='lower right',fontsize='x-small', shadow=True,)\n",
    "    axs[1].grid()\n",
    "\n",
    "    plt.show()\n",
    "\n",
    "#plot_metrics(strategy.client_metrics)"
   ]
  },
  {
   "cell_type": "code",
   "execution_count": 25,
   "metadata": {},
   "outputs": [
    {
     "ename": "AttributeError",
     "evalue": "'FedProx' object has no attribute 'client_metrics'",
     "output_type": "error",
     "traceback": [
      "\u001b[1;31m---------------------------------------------------------------------------\u001b[0m",
      "\u001b[1;31mAttributeError\u001b[0m                            Traceback (most recent call last)",
      "Cell \u001b[1;32mIn[25], line 1\u001b[0m\n\u001b[1;32m----> 1\u001b[0m plot_metricss(\u001b[43mstrategy_fed_avg\u001b[49m\u001b[38;5;241;43m.\u001b[39;49m\u001b[43mclient_metrics\u001b[49m)\n",
      "\u001b[1;31mAttributeError\u001b[0m: 'FedProx' object has no attribute 'client_metrics'"
     ]
    }
   ],
   "source": [
    "plot_metricss(strategy_fed_avg.client_metrics)\n"
   ]
  },
  {
   "cell_type": "code",
   "execution_count": null,
   "metadata": {},
   "outputs": [
    {
     "data": {
      "image/png": "[encoded data removed]",
      "text/plain": [
       "<Figure size 1400x800 with 1 Axes>"
      ]
     },
     "metadata": {},
     "output_type": "display_data"
    }
   ],
   "source": [
    "plot_times(strategy_fed_avg.client_training_times)"
   ]
  },
  {
   "cell_type": "code",
   "execution_count": null,
   "metadata": {},
   "outputs": [],
   "source": []
  },
  {
   "cell_type": "code",
   "execution_count": null,
   "metadata": {},
   "outputs": [],
   "source": []
  },
  {
   "cell_type": "code",
   "execution_count": null,
   "metadata": {},
   "outputs": [],
   "source": []
  },
  {
   "cell_type": "code",
   "execution_count": null,
   "metadata": {},
   "outputs": [],
   "source": []
  },
  {
   "cell_type": "code",
   "execution_count": null,
   "metadata": {},
   "outputs": [],
   "source": []
  },
  {
   "cell_type": "code",
   "execution_count": null,
   "metadata": {},
   "outputs": [],
   "source": []
  }
 ],
 "metadata": {
  "colab": {
   "provenance": []
  },
  "kernelspec": {
   "display_name": "newflwr",
   "language": "python",
   "name": "python3"
  },
  "language_info": {
   "codemirror_mode": {
    "name": "ipython",
    "version": 3
   },
   "file_extension": ".py",
   "mimetype": "text/x-python",
   "name": "python",
   "nbconvert_exporter": "python",
   "pygments_lexer": "ipython3",
   "version": "3.12.4"
  }
 },
 "nbformat": 4,
 "nbformat_minor": 0
}
