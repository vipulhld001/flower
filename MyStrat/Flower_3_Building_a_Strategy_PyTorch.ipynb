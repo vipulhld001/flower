{
  "cells": [
    {
      "cell_type": "markdown",
      "metadata": {
        "id": "ZHVT-6RQACBp"
      },
      "source": [
        "# Build a strategy from scratch\n",
        "\n",
        "Welcome to the third part of the Flower federated learning tutorial. In previous parts of this tutorial, we introduced federated learning with PyTorch and Flower ([part 1](https://flower.ai/docs/framework/tutorial-get-started-with-flower-pytorch.html)) and we learned how strategies can be used to customize the execution on both the server and the clients ([part 2](https://flower.ai/docs/framework/tutorial-use-a-federated-learning-strategy-pytorch.html)).\n",
        "\n",
        "In this notebook, we'll continue to customize the federated learning system we built previously by creating a custom version of FedAvg (again, using [Flower](https://flower.ai/) and [PyTorch](https://pytorch.org/)).\n",
        "\n",
        "> [Star Flower on GitHub](https://github.com/adap/flower) ⭐️ and join the Flower community on Slack to connect, ask questions, and get help: [Join Slack](https://flower.ai/join-slack) 🌼 We'd love to hear from you in the `#introductions` channel! And if anything is unclear, head over to the `#questions` channel.\n",
        "\n",
        "Let's build a new `Strategy` from scratch!"
      ]
    },
    {
      "cell_type": "markdown",
      "metadata": {
        "id": "d2zMNjlPACB3"
      },
      "source": [
        "## Preparation\n",
        "\n",
        "Before we begin with the actual code, let's make sure that we have everything we need."
      ]
    },
    {
      "cell_type": "markdown",
      "metadata": {
        "id": "tl6dhY2MACB5"
      },
      "source": [
        "### Installing dependencies\n",
        "\n",
        "First, we install the necessary packages:"
      ]
    },
    {
      "cell_type": "code",
      "execution_count": null,
      "metadata": {
        "id": "U4LLP0g9ACB7"
      },
      "outputs": [],
      "source": [
        "!pip install -q flwr[simulation] torch torchvision"
      ]
    },
    {
      "cell_type": "markdown",
      "metadata": {
        "id": "8s-w7AbLACB-"
      },
      "source": [
        "Now that we have all dependencies installed, we can import everything we need for this tutorial:"
      ]
    },
    {
      "cell_type": "code",
      "execution_count": 30,
      "metadata": {
        "id": "mv2pXZBdACB_"
      },
      "outputs": [
        {
          "name": "stdout",
          "output_type": "stream",
          "text": [
            "Training on cuda using PyTorch 1.13.1 and Flower 1.4.0\n"
          ]
        }
      ],
      "source": [
        "from collections import OrderedDict\n",
        "from typing import Dict, List, Optional, Tuple\n",
        "\n",
        "import numpy as np\n",
        "import torch\n",
        "import torch.nn as nn\n",
        "import torch.nn.functional as F\n",
        "import torchvision.transforms as transforms\n",
        "from torch.utils.data import DataLoader, random_split\n",
        "from torchvision.datasets import CIFAR10\n",
        "import csv\n",
        "import flwr as fl\n",
        "\n",
        "DEVICE = torch.device(\"cuda\")  # Try \"cuda\" to train on GPU\n",
        "print(\n",
        "    f\"Training on {DEVICE} using PyTorch {torch.__version__} and Flower {fl.__version__}\"\n",
        ")"
      ]
    },
    {
      "cell_type": "markdown",
      "metadata": {
        "id": "LQ8xqUqxACCA"
      },
      "source": [
        "It is possible to switch to a runtime that has GPU acceleration enabled (on Google Colab: `Runtime > Change runtime type > Hardware acclerator: GPU > Save`). Note, however, that Google Colab is not always able to offer GPU acceleration. If you see an error related to GPU availability in one of the following sections, consider switching back to CPU-based execution by setting `DEVICE = torch.device(\"cpu\")`. If the runtime has GPU acceleration enabled, you should see the output `Training on cuda`, otherwise it'll say `Training on cpu`."
      ]
    },
    {
      "cell_type": "markdown",
      "metadata": {
        "id": "vc_wwHwWACCB"
      },
      "source": [
        "### Data loading\n",
        "\n",
        "Let's now load the CIFAR-10 training and test set, partition them into ten smaller datasets (each split into training and validation set), and wrap everything in their own `DataLoader`. We introduce a new parameter `num_clients` which allows us to call `load_datasets` with different numbers of clients."
      ]
    },
    {
      "cell_type": "code",
      "execution_count": 2,
      "metadata": {
        "id": "dRbpj2MmACCC"
      },
      "outputs": [
        {
          "name": "stdout",
          "output_type": "stream",
          "text": [
            "Files already downloaded and verified\n",
            "Files already downloaded and verified\n"
          ]
        }
      ],
      "source": [
        "NUM_CLIENTS = 10\n",
        "\n",
        "\n",
        "def load_datasets(num_clients: int):\n",
        "    # Download and transform CIFAR-10 (train and test)\n",
        "    transform = transforms.Compose(\n",
        "        [transforms.ToTensor(), transforms.Normalize((0.5, 0.5, 0.5), (0.5, 0.5, 0.5))]\n",
        "    )\n",
        "    trainset = CIFAR10(\"./dataset\", train=True, download=True, transform=transform)\n",
        "    testset = CIFAR10(\"./dataset\", train=False, download=True, transform=transform)\n",
        "\n",
        "    # Split training set into `num_clients` partitions to simulate different local datasets\n",
        "    partition_size = len(trainset) // num_clients\n",
        "    lengths = [partition_size] * num_clients\n",
        "    datasets = random_split(trainset, lengths, torch.Generator().manual_seed(42))\n",
        "\n",
        "    # Split each partition into train/val and create DataLoader\n",
        "    trainloaders = []\n",
        "    valloaders = []\n",
        "    for ds in datasets:\n",
        "        len_val = len(ds) // 10  # 10 % validation set\n",
        "        len_train = len(ds) - len_val\n",
        "        lengths = [len_train, len_val]\n",
        "        ds_train, ds_val = random_split(ds, lengths, torch.Generator().manual_seed(42))\n",
        "        trainloaders.append(DataLoader(ds_train, batch_size=32, shuffle=True))\n",
        "        valloaders.append(DataLoader(ds_val, batch_size=32))\n",
        "    testloader = DataLoader(testset, batch_size=32)\n",
        "    return trainloaders, valloaders, testloader\n",
        "\n",
        "\n",
        "trainloaders, valloaders, testloader = load_datasets(NUM_CLIENTS)"
      ]
    },
    {
      "cell_type": "markdown",
      "metadata": {
        "id": "9tbDYuDOACCL"
      },
      "source": [
        "### Model training/evaluation\n",
        "\n",
        "Let's continue with the usual model definition (including `set_parameters` and `get_parameters`), training and test functions:"
      ]
    },
    {
      "cell_type": "code",
      "execution_count": 3,
      "metadata": {
        "id": "oHTm8hwOACCM"
      },
      "outputs": [],
      "source": [
        "class Net(nn.Module):\n",
        "    def __init__(self) -> None:\n",
        "        super(Net, self).__init__()\n",
        "        self.conv1 = nn.Conv2d(3, 6, 5)\n",
        "        self.pool = nn.MaxPool2d(2, 2)\n",
        "        self.conv2 = nn.Conv2d(6, 16, 5)\n",
        "        self.fc1 = nn.Linear(16 * 5 * 5, 120)\n",
        "        self.fc2 = nn.Linear(120, 84)\n",
        "        self.fc3 = nn.Linear(84, 10)\n",
        "\n",
        "    def forward(self, x: torch.Tensor) -> torch.Tensor:\n",
        "        x = self.pool(F.relu(self.conv1(x)))\n",
        "        x = self.pool(F.relu(self.conv2(x)))\n",
        "        x = x.view(-1, 16 * 5 * 5)\n",
        "        x = F.relu(self.fc1(x))\n",
        "        x = F.relu(self.fc2(x))\n",
        "        x = self.fc3(x)\n",
        "        return x\n",
        "\n",
        "\n",
        "def get_parameters(net) -> List[np.ndarray]:\n",
        "    return [val.cpu().numpy() for _, val in net.state_dict().items()]\n",
        "\n",
        "\n",
        "def set_parameters(net, parameters: List[np.ndarray]):\n",
        "    params_dict = zip(net.state_dict().keys(), parameters) #state dicts contains the model layers and values\n",
        "    state_dict = OrderedDict({k: torch.Tensor(v) for k, v in params_dict}) #Ordered Dict\n",
        "    net.load_state_dict(state_dict, strict=True) #load model \n",
        "\n",
        "\n",
        "def train(net, trainloader, epochs: int):\n",
        "    \"\"\"Train the network on the training set.\"\"\"\n",
        "    criterion = torch.nn.CrossEntropyLoss()\n",
        "    optimizer = torch.optim.Adam(net.parameters())\n",
        "    net.train()\n",
        "    for epoch in range(epochs):\n",
        "        correct, total, epoch_loss = 0, 0, 0.0\n",
        "        for images, labels in trainloader:\n",
        "            images, labels = images.to(DEVICE), labels.to(DEVICE)\n",
        "            optimizer.zero_grad()\n",
        "            outputs = net(images)\n",
        "            loss = criterion(net(images), labels)\n",
        "            loss.backward()\n",
        "            optimizer.step()\n",
        "            # Metrics\n",
        "            epoch_loss += loss\n",
        "            total += labels.size(0)\n",
        "            correct += (torch.max(outputs.data, 1)[1] == labels).sum().item()\n",
        "        epoch_loss /= len(trainloader.dataset)\n",
        "        epoch_acc = correct / total\n",
        "        #M yaha pe kaam kar raha hu \n",
        "        \n",
        "            \n",
        "        print(f\"Epoch {epoch+1}: train loss {epoch_loss}, accuracy {epoch_acc}\")\n",
        "        with open(\"file.csv\",'w', newline= '') as file:\n",
        "            writer = csv.writer(file)\n",
        "            for epoch in range(epochs):\n",
        "                writer.writerow([epoch, epoch_loss, epoch_acc])\n",
        "\n",
        "\n",
        "def test(net, testloader):\n",
        "    \"\"\"Evaluate the network on the entire test set.\"\"\"\n",
        "    criterion = torch.nn.CrossEntropyLoss()\n",
        "    correct, total, loss = 0, 0, 0.0\n",
        "    net.eval()\n",
        "    with torch.no_grad():\n",
        "        for images, labels in testloader:\n",
        "            images, labels = images.to(DEVICE), labels.to(DEVICE)\n",
        "            outputs = net(images)\n",
        "            loss += criterion(outputs, labels).item()\n",
        "            _, predicted = torch.max(outputs.data, 1)\n",
        "            total += labels.size(0)\n",
        "            correct += (predicted == labels).sum().item()\n",
        "    loss /= len(testloader.dataset)\n",
        "    accuracy = correct / total\n",
        "    return loss, accuracy"
      ]
    },
    {
      "cell_type": "markdown",
      "metadata": {
        "id": "jwpxREE0ACCM"
      },
      "source": [
        "### Flower client\n",
        "\n",
        "To implement the Flower client, we (again) create a subclass of `flwr.client.NumPyClient` and implement the three methods `get_parameters`, `fit`, and `evaluate`. Here, we also pass the `cid` to the client and use it log additional details:"
      ]
    },
    {
      "cell_type": "code",
      "execution_count": 41,
      "metadata": {
        "id": "AkDWUdtRACCN"
      },
      "outputs": [],
      "source": [
        "class FlowerClient(fl.client.NumPyClient):\n",
        "    def __init__(self, cid, net, trainloader, valloader):\n",
        "        self.cid = cid\n",
        "        self.net = net\n",
        "        self.trainloader = trainloader\n",
        "        self.valloader = valloader\n",
        "\n",
        "    def get_parameters(self, config):\n",
        "        print(f\"[Client {self.cid}] get_parameters\")\n",
        "        return get_parameters(self.net)\n",
        "\n",
        "    def fit(self, parameters, config):\n",
        "        print(f\"[Client {self.cid}] fit, config: {config}\")\n",
        "        set_parameters(self.net, parameters)\n",
        "        train(self.net, self.trainloader, epochs=config[1])\n",
        "        return get_parameters(self.net), len(self.trainloader), {}\n",
        "\n",
        "    def evaluate(self, parameters, config):\n",
        "        print(f\"[Client {self.cid}] evaluate, config: {config}\")\n",
        "        set_parameters(self.net, parameters)\n",
        "        loss, accuracy = test(self.net, self.valloader)\n",
        "        print(f\"Client {self.cid} loss {loss}\")\n",
        "        print(f\"Client {self.cid} accuracy {accuracy}\")\n",
        "        \n",
        "        return float(loss), len(self.valloader), {\"accuracy\": float(accuracy)}\n",
        "\n",
        "\n",
        "def client_fn(cid) -> FlowerClient:\n",
        "    net = Net().to(DEVICE) #Load Model from here\n",
        "    trainloader = trainloaders[int(cid)]\n",
        "    valloader = valloaders[int(cid)]\n",
        "    return FlowerClient(cid, net, trainloader, valloader)"
      ]
    },
    {
      "cell_type": "code",
      "execution_count": null,
      "metadata": {},
      "outputs": [],
      "source": []
    },
    {
      "cell_type": "markdown",
      "metadata": {
        "id": "aBltYRZGACCN"
      },
      "source": [
        "Let's test what we have so far before we continue:"
      ]
    },
    {
      "cell_type": "code",
      "execution_count": 5,
      "metadata": {
        "id": "34ZMiWG-ACCN"
      },
      "outputs": [
        {
          "name": "stderr",
          "output_type": "stream",
          "text": [
            "INFO flwr 2024-04-26 09:46:36,070 | app.py:146 | Starting Flower simulation, config: ServerConfig(num_rounds=10, round_timeout=None)\n",
            "INFO flwr 2024-04-26 09:46:51,004 | app.py:180 | Flower VCE: Ray initialized with resources: {'node:127.0.0.1': 1.0, 'memory': 77794297652.0, 'object_store_memory': 37626127564.0, 'CPU': 32.0, 'GPU': 1.0}\n",
            "INFO flwr 2024-04-26 09:46:51,007 | server.py:86 | Initializing global parameters\n",
            "INFO flwr 2024-04-26 09:46:51,010 | server.py:273 | Requesting initial parameters from one random client\n",
            "INFO flwr 2024-04-26 09:46:54,861 | server.py:277 | Received initial parameters from one random client\n",
            "INFO flwr 2024-04-26 09:46:54,862 | server.py:88 | Evaluating initial parameters\n",
            "INFO flwr 2024-04-26 09:46:54,863 | server.py:101 | FL starting\n",
            "DEBUG flwr 2024-04-26 09:46:54,865 | server.py:218 | fit_round 1: strategy sampled 5 clients (out of 5)\n"
          ]
        },
        {
          "name": "stdout",
          "output_type": "stream",
          "text": [
            " pid=16688)\u001b[0m [Client 3] get_parameters\n",
            " pid=16688)\u001b[0m [Client 0] fit, config: {}\n",
            " pid=16688)\u001b[0m Epoch 1: train loss 0.06501293182373047, accuracy 0.24333333333333335\n",
            " pid=16688)\u001b[0m Epoch 2: train loss 0.056729961186647415, accuracy 0.3382222222222222\n",
            " pid=16688)\u001b[0m Epoch 3: train loss 0.052191298454999924, accuracy 0.4002222222222222\n",
            " pid=16688)\u001b[0m Epoch 4: train loss 0.04877634719014168, accuracy 0.4388888888888889\n",
            " pid=16688)\u001b[0m Epoch 5: train loss 0.04558875039219856, accuracy 0.474\n",
            " pid=16688)\u001b[0m [Client 2] fit, config: {}\n",
            " pid=16688)\u001b[0m Epoch 1: train loss 0.06514865905046463, accuracy 0.22466666666666665\n",
            " pid=16688)\u001b[0m Epoch 2: train loss 0.0571310855448246, accuracy 0.32355555555555554\n",
            " pid=16688)\u001b[0m Epoch 3: train loss 0.05288461595773697, accuracy 0.38133333333333336\n",
            " pid=16688)\u001b[0m Epoch 4: train loss 0.049541253596544266, accuracy 0.4288888888888889\n",
            " pid=16688)\u001b[0m Epoch 5: train loss 0.046884287148714066, accuracy 0.45466666666666666\n",
            " pid=16688)\u001b[0m [Client 1] fit, config: {}\n",
            " pid=16688)\u001b[0m Epoch 1: train loss 0.06522707641124725, accuracy 0.22711111111111112\n",
            " pid=16688)\u001b[0m Epoch 2: train loss 0.0569547601044178, accuracy 0.3264444444444444\n",
            " pid=16688)\u001b[0m Epoch 3: train loss 0.05234044790267944, accuracy 0.3893333333333333\n",
            " pid=16688)\u001b[0m Epoch 4: train loss 0.048863135278224945, accuracy 0.42844444444444446\n",
            " pid=16688)\u001b[0m Epoch 5: train loss 0.04637809470295906, accuracy 0.4588888888888889\n",
            " pid=16688)\u001b[0m [Client 4] fit, config: {}\n",
            " pid=16688)\u001b[0m Epoch 1: train loss 0.06511233747005463, accuracy 0.224\n",
            " pid=16688)\u001b[0m Epoch 2: train loss 0.05656123161315918, accuracy 0.33644444444444443\n",
            " pid=16688)\u001b[0m Epoch 3: train loss 0.051924727857112885, accuracy 0.38822222222222225\n",
            " pid=16688)\u001b[0m Epoch 4: train loss 0.04864690452814102, accuracy 0.428\n",
            " pid=16688)\u001b[0m Epoch 5: train loss 0.046695560216903687, accuracy 0.4553333333333333\n",
            " pid=16688)\u001b[0m [Client 3] fit, config: {}\n",
            " pid=16688)\u001b[0m Epoch 1: train loss 0.06524927169084549, accuracy 0.22133333333333333\n",
            " pid=16688)\u001b[0m Epoch 2: train loss 0.056659623980522156, accuracy 0.3317777777777778\n",
            " pid=16688)\u001b[0m Epoch 3: train loss 0.05179284140467644, accuracy 0.38755555555555554\n",
            " pid=16688)\u001b[0m Epoch 4: train loss 0.04931073635816574, accuracy 0.428\n"
          ]
        },
        {
          "name": "stderr",
          "output_type": "stream",
          "text": [
            "DEBUG flwr 2024-04-26 09:48:22,472 | server.py:232 | fit_round 1 received 5 results and 0 failures\n",
            "WARNING flwr 2024-04-26 09:48:22,491 | fedavg.py:243 | No fit_metrics_aggregation_fn provided\n",
            "DEBUG flwr 2024-04-26 09:48:22,492 | server.py:168 | evaluate_round 1: strategy sampled 5 clients (out of 5)\n"
          ]
        },
        {
          "name": "stdout",
          "output_type": "stream",
          "text": [
            " pid=16688)\u001b[0m Epoch 5: train loss 0.04705313593149185, accuracy 0.44555555555555554\n",
            " pid=16688)\u001b[0m [Client 3] evaluate, config: {}\n",
            " pid=16688)\u001b[0m Client 3 loss 0.0549422242641449\n",
            " pid=16688)\u001b[0m Client 3 accuracy 0.42\n",
            " pid=16688)\u001b[0m [Client 1] evaluate, config: {}\n",
            " pid=16688)\u001b[0m Client 1 loss 0.05574341869354248\n",
            " pid=16688)\u001b[0m Client 1 accuracy 0.394\n",
            " pid=16688)\u001b[0m [Client 0] evaluate, config: {}\n",
            " pid=16688)\u001b[0m Client 0 loss 0.05583895325660706\n",
            " pid=16688)\u001b[0m Client 0 accuracy 0.378\n",
            " pid=16688)\u001b[0m [Client 2] evaluate, config: {}\n",
            " pid=16688)\u001b[0m Client 2 loss 0.055258041620254515\n",
            " pid=16688)\u001b[0m Client 2 accuracy 0.406\n",
            " pid=16688)\u001b[0m [Client 4] evaluate, config: {}\n"
          ]
        },
        {
          "name": "stderr",
          "output_type": "stream",
          "text": [
            "DEBUG flwr 2024-04-26 09:48:30,360 | server.py:182 | evaluate_round 1 received 5 results and 0 failures\n",
            "WARNING flwr 2024-04-26 09:48:30,362 | fedavg.py:274 | No evaluate_metrics_aggregation_fn provided\n",
            "DEBUG flwr 2024-04-26 09:48:30,363 | server.py:218 | fit_round 2: strategy sampled 5 clients (out of 5)\n"
          ]
        },
        {
          "name": "stdout",
          "output_type": "stream",
          "text": [
            " pid=16688)\u001b[0m Client 4 loss 0.05504899978637695\n",
            " pid=16688)\u001b[0m Client 4 accuracy 0.354\n",
            " pid=16688)\u001b[0m [Client 0] fit, config: {}\n",
            " pid=16688)\u001b[0m Epoch 1: train loss 0.04923948273062706, accuracy 0.42577777777777776\n",
            " pid=16688)\u001b[0m Epoch 2: train loss 0.045822951942682266, accuracy 0.46844444444444444\n",
            " pid=16688)\u001b[0m Epoch 3: train loss 0.04320038482546806, accuracy 0.5002222222222222\n",
            " pid=16688)\u001b[0m Epoch 4: train loss 0.04104279726743698, accuracy 0.524\n",
            " pid=16688)\u001b[0m Epoch 5: train loss 0.038505516946315765, accuracy 0.5515555555555556\n",
            " pid=16688)\u001b[0m [Client 3] fit, config: {}\n",
            " pid=16688)\u001b[0m Epoch 1: train loss 0.04973594844341278, accuracy 0.41555555555555557\n",
            " pid=16688)\u001b[0m Epoch 2: train loss 0.046049702912569046, accuracy 0.4668888888888889\n",
            " pid=16688)\u001b[0m Epoch 3: train loss 0.044259488582611084, accuracy 0.48688888888888887\n",
            " pid=16688)\u001b[0m Epoch 4: train loss 0.042349617928266525, accuracy 0.514\n",
            " pid=16688)\u001b[0m Epoch 5: train loss 0.039750076830387115, accuracy 0.5453333333333333\n",
            " pid=16688)\u001b[0m [Client 1] fit, config: {}\n",
            " pid=16688)\u001b[0m Epoch 1: train loss 0.049416683614254, accuracy 0.42644444444444446\n",
            " pid=16688)\u001b[0m Epoch 2: train loss 0.045858800411224365, accuracy 0.46555555555555556\n",
            " pid=16688)\u001b[0m Epoch 3: train loss 0.043572816997766495, accuracy 0.49822222222222223\n",
            " pid=16688)\u001b[0m Epoch 4: train loss 0.041237972676754, accuracy 0.5268888888888889\n",
            " pid=16688)\u001b[0m Epoch 5: train loss 0.03866748884320259, accuracy 0.5537777777777778\n",
            " pid=16688)\u001b[0m [Client 2] fit, config: {}\n",
            " pid=16688)\u001b[0m Epoch 1: train loss 0.04984463006258011, accuracy 0.424\n",
            " pid=16688)\u001b[0m Epoch 2: train loss 0.04629328474402428, accuracy 0.46\n",
            " pid=16688)\u001b[0m Epoch 3: train loss 0.044551923871040344, accuracy 0.48288888888888887\n",
            " pid=16688)\u001b[0m Epoch 4: train loss 0.041837774217128754, accuracy 0.5155555555555555\n",
            " pid=16688)\u001b[0m Epoch 5: train loss 0.03946632519364357, accuracy 0.5446666666666666\n",
            " pid=16688)\u001b[0m [Client 4] fit, config: {}\n",
            " pid=16688)\u001b[0m Epoch 1: train loss 0.04935181513428688, accuracy 0.43\n",
            " pid=16688)\u001b[0m Epoch 2: train loss 0.04619024321436882, accuracy 0.4677777777777778\n",
            " pid=16688)\u001b[0m Epoch 3: train loss 0.04320725053548813, accuracy 0.5037777777777778\n",
            " pid=16688)\u001b[0m Epoch 4: train loss 0.0412522554397583, accuracy 0.5235555555555556\n"
          ]
        },
        {
          "name": "stderr",
          "output_type": "stream",
          "text": [
            "DEBUG flwr 2024-04-26 09:49:44,967 | server.py:232 | fit_round 2 received 5 results and 0 failures\n",
            "DEBUG flwr 2024-04-26 09:49:44,988 | server.py:168 | evaluate_round 2: strategy sampled 5 clients (out of 5)\n"
          ]
        },
        {
          "name": "stdout",
          "output_type": "stream",
          "text": [
            " pid=16688)\u001b[0m Epoch 5: train loss 0.039547353982925415, accuracy 0.5502222222222222\n",
            " pid=16688)\u001b[0m [Client 3] evaluate, config: {}\n",
            " pid=16688)\u001b[0m Client 3 loss 0.04447020196914673\n",
            " pid=16688)\u001b[0m Client 3 accuracy 0.482\n",
            " pid=16688)\u001b[0m [Client 4] evaluate, config: {}\n",
            " pid=16688)\u001b[0m Client 4 loss 0.044788379430770874\n",
            " pid=16688)\u001b[0m Client 4 accuracy 0.46\n",
            " pid=16688)\u001b[0m [Client 1] evaluate, config: {}\n",
            " pid=16688)\u001b[0m Client 1 loss 0.045786623001098634\n",
            " pid=16688)\u001b[0m Client 1 accuracy 0.48\n",
            " pid=16688)\u001b[0m [Client 0] evaluate, config: {}\n",
            " pid=16688)\u001b[0m Client 0 loss 0.04663350319862366\n",
            " pid=16688)\u001b[0m Client 0 accuracy 0.476\n",
            " pid=16688)\u001b[0m [Client 2] evaluate, config: {}\n"
          ]
        },
        {
          "name": "stderr",
          "output_type": "stream",
          "text": [
            "DEBUG flwr 2024-04-26 09:49:52,328 | server.py:182 | evaluate_round 2 received 5 results and 0 failures\n",
            "DEBUG flwr 2024-04-26 09:49:52,330 | server.py:218 | fit_round 3: strategy sampled 5 clients (out of 5)\n"
          ]
        },
        {
          "name": "stdout",
          "output_type": "stream",
          "text": [
            " pid=16688)\u001b[0m Client 2 loss 0.045942258238792416\n",
            " pid=16688)\u001b[0m Client 2 accuracy 0.484\n",
            " pid=16688)\u001b[0m [Client 2] fit, config: {}\n",
            " pid=16688)\u001b[0m Epoch 1: train loss 0.043217454105615616, accuracy 0.49955555555555553\n",
            " pid=16688)\u001b[0m Epoch 2: train loss 0.039798133075237274, accuracy 0.5433333333333333\n",
            " pid=16688)\u001b[0m Epoch 3: train loss 0.03755456954240799, accuracy 0.5711111111111111\n",
            " pid=16688)\u001b[0m Epoch 4: train loss 0.035027746111154556, accuracy 0.5984444444444444\n",
            " pid=16688)\u001b[0m Epoch 5: train loss 0.03235749527812004, accuracy 0.636\n",
            " pid=16688)\u001b[0m [Client 1] fit, config: {}\n",
            " pid=16688)\u001b[0m Epoch 1: train loss 0.04237940534949303, accuracy 0.5226666666666666\n",
            " pid=16688)\u001b[0m Epoch 2: train loss 0.03971812129020691, accuracy 0.5475555555555556\n",
            " pid=16688)\u001b[0m Epoch 3: train loss 0.036349792033433914, accuracy 0.5873333333333334\n",
            " pid=16688)\u001b[0m Epoch 4: train loss 0.03455013409256935, accuracy 0.6037777777777777\n",
            " pid=16688)\u001b[0m Epoch 5: train loss 0.03172579035162926, accuracy 0.6388888888888888\n",
            " pid=16688)\u001b[0m [Client 3] fit, config: {}\n",
            " pid=16688)\u001b[0m Epoch 1: train loss 0.043287087231874466, accuracy 0.5035555555555555\n",
            " pid=16688)\u001b[0m Epoch 2: train loss 0.04016560688614845, accuracy 0.54\n",
            " pid=16688)\u001b[0m Epoch 3: train loss 0.03747027739882469, accuracy 0.5746666666666667\n",
            " pid=16688)\u001b[0m Epoch 4: train loss 0.03521965071558952, accuracy 0.5997777777777777\n",
            " pid=16688)\u001b[0m Epoch 5: train loss 0.03327347710728645, accuracy 0.6228888888888889\n",
            " pid=16688)\u001b[0m [Client 0] fit, config: {}\n",
            " pid=16688)\u001b[0m Epoch 1: train loss 0.0422649011015892, accuracy 0.5115555555555555\n",
            " pid=16688)\u001b[0m Epoch 2: train loss 0.03912324830889702, accuracy 0.5508888888888889\n",
            " pid=16688)\u001b[0m Epoch 3: train loss 0.03657438978552818, accuracy 0.5748888888888889\n",
            " pid=16688)\u001b[0m Epoch 4: train loss 0.03420475497841835, accuracy 0.6162222222222222\n",
            " pid=16688)\u001b[0m Epoch 5: train loss 0.031935352832078934, accuracy 0.6348888888888888\n",
            " pid=16688)\u001b[0m [Client 4] fit, config: {}\n",
            " pid=16688)\u001b[0m Epoch 1: train loss 0.042685605585575104, accuracy 0.5102222222222222\n",
            " pid=16688)\u001b[0m Epoch 2: train loss 0.0392216257750988, accuracy 0.5517777777777778\n",
            " pid=16688)\u001b[0m Epoch 3: train loss 0.037358738481998444, accuracy 0.574\n",
            " pid=16688)\u001b[0m Epoch 4: train loss 0.03468167781829834, accuracy 0.6115555555555555\n"
          ]
        },
        {
          "name": "stderr",
          "output_type": "stream",
          "text": [
            "DEBUG flwr 2024-04-26 09:51:04,919 | server.py:232 | fit_round 3 received 5 results and 0 failures\n",
            "DEBUG flwr 2024-04-26 09:51:04,937 | server.py:168 | evaluate_round 3: strategy sampled 5 clients (out of 5)\n"
          ]
        },
        {
          "name": "stdout",
          "output_type": "stream",
          "text": [
            " pid=16688)\u001b[0m Epoch 5: train loss 0.03247571364045143, accuracy 0.6377777777777778\n",
            " pid=16688)\u001b[0m [Client 3] evaluate, config: {}\n",
            " pid=16688)\u001b[0m Client 3 loss 0.0411147221326828\n",
            " pid=16688)\u001b[0m Client 3 accuracy 0.532\n",
            " pid=16688)\u001b[0m [Client 1] evaluate, config: {}\n",
            " pid=16688)\u001b[0m Client 1 loss 0.042757045626640316\n",
            " pid=16688)\u001b[0m Client 1 accuracy 0.51\n",
            " pid=16688)\u001b[0m [Client 0] evaluate, config: {}\n",
            " pid=16688)\u001b[0m Client 0 loss 0.04299825382232666\n",
            " pid=16688)\u001b[0m Client 0 accuracy 0.53\n",
            " pid=16688)\u001b[0m [Client 4] evaluate, config: {}\n"
          ]
        },
        {
          "name": "stderr",
          "output_type": "stream",
          "text": [
            "DEBUG flwr 2024-04-26 09:51:12,548 | server.py:182 | evaluate_round 3 received 5 results and 0 failures\n"
          ]
        },
        {
          "name": "stdout",
          "output_type": "stream",
          "text": [
            " pid=16688)\u001b[0m Client 4 loss 0.04139772617816925\n",
            " pid=16688)\u001b[0m Client 4 accuracy 0.528\n",
            " pid=16688)\u001b[0m [Client 2] evaluate, config: {}\n"
          ]
        },
        {
          "name": "stderr",
          "output_type": "stream",
          "text": [
            "DEBUG flwr 2024-04-26 09:51:12,551 | server.py:218 | fit_round 4: strategy sampled 5 clients (out of 5)\n"
          ]
        },
        {
          "name": "stdout",
          "output_type": "stream",
          "text": [
            " pid=16688)\u001b[0m Client 2 loss 0.043328190088272094\n",
            " pid=16688)\u001b[0m Client 2 accuracy 0.524\n",
            " pid=16688)\u001b[0m [Client 1] fit, config: {}\n",
            " pid=16688)\u001b[0m Epoch 1: train loss 0.03799029812216759, accuracy 0.5664444444444444\n",
            " pid=16688)\u001b[0m Epoch 2: train loss 0.033994100987911224, accuracy 0.6166666666666667\n",
            " pid=16688)\u001b[0m Epoch 3: train loss 0.031138010323047638, accuracy 0.6473333333333333\n",
            " pid=16688)\u001b[0m Epoch 4: train loss 0.028215836733579636, accuracy 0.6857777777777778\n",
            " pid=16688)\u001b[0m Epoch 5: train loss 0.025158755481243134, accuracy 0.7191111111111111\n",
            " pid=16688)\u001b[0m [Client 0] fit, config: {}\n",
            " pid=16688)\u001b[0m Epoch 1: train loss 0.03783636540174484, accuracy 0.5604444444444444\n",
            " pid=16688)\u001b[0m Epoch 2: train loss 0.03434888273477554, accuracy 0.6084444444444445\n",
            " pid=16688)\u001b[0m Epoch 3: train loss 0.03148330748081207, accuracy 0.6406666666666667\n",
            " pid=16688)\u001b[0m Epoch 4: train loss 0.028485476970672607, accuracy 0.6813333333333333\n",
            " pid=16688)\u001b[0m Epoch 5: train loss 0.025405719876289368, accuracy 0.7124444444444444\n",
            " pid=16688)\u001b[0m [Client 3] fit, config: {}\n",
            " pid=16688)\u001b[0m Epoch 1: train loss 0.038510989397764206, accuracy 0.5642222222222222\n",
            " pid=16688)\u001b[0m Epoch 2: train loss 0.03485703095793724, accuracy 0.5986666666666667\n",
            " pid=16688)\u001b[0m Epoch 3: train loss 0.032210640609264374, accuracy 0.6324444444444445\n",
            " pid=16688)\u001b[0m Epoch 4: train loss 0.02956441231071949, accuracy 0.6726666666666666\n",
            " pid=16688)\u001b[0m Epoch 5: train loss 0.026947109028697014, accuracy 0.7\n",
            " pid=16688)\u001b[0m [Client 2] fit, config: {}\n",
            " pid=16688)\u001b[0m Epoch 1: train loss 0.038667745888233185, accuracy 0.5611111111111111\n",
            " pid=16688)\u001b[0m Epoch 2: train loss 0.03442353010177612, accuracy 0.6082222222222222\n",
            " pid=16688)\u001b[0m Epoch 3: train loss 0.031850650906562805, accuracy 0.6422222222222222\n",
            " pid=16688)\u001b[0m Epoch 4: train loss 0.0285013597458601, accuracy 0.6771111111111111\n",
            " pid=16688)\u001b[0m Epoch 5: train loss 0.025959447026252747, accuracy 0.7115555555555556\n",
            " pid=16688)\u001b[0m [Client 4] fit, config: {}\n",
            " pid=16688)\u001b[0m Epoch 1: train loss 0.038465891033411026, accuracy 0.5673333333333334\n",
            " pid=16688)\u001b[0m Epoch 2: train loss 0.03414919599890709, accuracy 0.6193333333333333\n",
            " pid=16688)\u001b[0m Epoch 3: train loss 0.031971339136362076, accuracy 0.636\n",
            " pid=16688)\u001b[0m Epoch 4: train loss 0.02904622070491314, accuracy 0.6768888888888889\n"
          ]
        },
        {
          "name": "stderr",
          "output_type": "stream",
          "text": [
            "DEBUG flwr 2024-04-26 09:52:27,803 | server.py:232 | fit_round 4 received 5 results and 0 failures\n",
            "DEBUG flwr 2024-04-26 09:52:27,821 | server.py:168 | evaluate_round 4: strategy sampled 5 clients (out of 5)\n"
          ]
        },
        {
          "name": "stdout",
          "output_type": "stream",
          "text": [
            " pid=16688)\u001b[0m Epoch 5: train loss 0.026269135996699333, accuracy 0.7051111111111111\n",
            " pid=16688)\u001b[0m [Client 1] evaluate, config: {}\n",
            " pid=16688)\u001b[0m Client 1 loss 0.04252694976329804\n",
            " pid=16688)\u001b[0m Client 1 accuracy 0.52\n",
            " pid=16688)\u001b[0m [Client 4] evaluate, config: {}\n",
            " pid=16688)\u001b[0m Client 4 loss 0.04109571421146393\n",
            " pid=16688)\u001b[0m Client 4 accuracy 0.536\n",
            " pid=16688)\u001b[0m [Client 3] evaluate, config: {}\n",
            " pid=16688)\u001b[0m Client 3 loss 0.040576497316360476\n",
            " pid=16688)\u001b[0m Client 3 accuracy 0.552\n",
            " pid=16688)\u001b[0m [Client 0] evaluate, config: {}\n"
          ]
        },
        {
          "name": "stderr",
          "output_type": "stream",
          "text": [
            "DEBUG flwr 2024-04-26 09:52:35,739 | server.py:182 | evaluate_round 4 received 5 results and 0 failures\n",
            "DEBUG flwr 2024-04-26 09:52:35,742 | server.py:218 | fit_round 5: strategy sampled 5 clients (out of 5)\n"
          ]
        },
        {
          "name": "stdout",
          "output_type": "stream",
          "text": [
            " pid=16688)\u001b[0m Client 0 loss 0.04223991560935974\n",
            " pid=16688)\u001b[0m Client 0 accuracy 0.528\n",
            " pid=16688)\u001b[0m [Client 2] evaluate, config: {}\n",
            " pid=16688)\u001b[0m Client 2 loss 0.04292462658882141\n",
            " pid=16688)\u001b[0m Client 2 accuracy 0.548\n",
            " pid=16688)\u001b[0m [Client 1] fit, config: {}\n",
            " pid=16688)\u001b[0m Epoch 1: train loss 0.03401102125644684, accuracy 0.6157777777777778\n",
            " pid=16688)\u001b[0m Epoch 2: train loss 0.02948966808617115, accuracy 0.662\n",
            " pid=16688)\u001b[0m Epoch 3: train loss 0.025741729885339737, accuracy 0.7093333333333334\n",
            " pid=16688)\u001b[0m Epoch 4: train loss 0.02242097072303295, accuracy 0.7488888888888889\n",
            " pid=16688)\u001b[0m Epoch 5: train loss 0.019623037427663803, accuracy 0.7824444444444445\n",
            " pid=16688)\u001b[0m [Client 3] fit, config: {}\n",
            " pid=16688)\u001b[0m Epoch 1: train loss 0.03535892814397812, accuracy 0.5984444444444444\n",
            " pid=16688)\u001b[0m Epoch 2: train loss 0.030807359144091606, accuracy 0.654\n",
            " pid=16688)\u001b[0m Epoch 3: train loss 0.027189593762159348, accuracy 0.6982222222222222\n",
            " pid=16688)\u001b[0m Epoch 4: train loss 0.02381991036236286, accuracy 0.7277777777777777\n",
            " pid=16688)\u001b[0m Epoch 5: train loss 0.021467745304107666, accuracy 0.7611111111111111\n",
            " pid=16688)\u001b[0m [Client 2] fit, config: {}\n",
            " pid=16688)\u001b[0m Epoch 1: train loss 0.03498247638344765, accuracy 0.6035555555555555\n",
            " pid=16688)\u001b[0m Epoch 2: train loss 0.029930949211120605, accuracy 0.662\n",
            " pid=16688)\u001b[0m Epoch 3: train loss 0.02659815363585949, accuracy 0.6993333333333334\n",
            " pid=16688)\u001b[0m Epoch 4: train loss 0.023669295012950897, accuracy 0.7326666666666667\n",
            " pid=16688)\u001b[0m Epoch 5: train loss 0.019788863137364388, accuracy 0.7857777777777778\n",
            " pid=16688)\u001b[0m [Client 4] fit, config: {}\n",
            " pid=16688)\u001b[0m Epoch 1: train loss 0.035225529223680496, accuracy 0.6071111111111112\n",
            " pid=16688)\u001b[0m Epoch 2: train loss 0.030090762302279472, accuracy 0.6693333333333333\n",
            " pid=16688)\u001b[0m Epoch 3: train loss 0.026781566441059113, accuracy 0.7028888888888889\n",
            " pid=16688)\u001b[0m Epoch 4: train loss 0.024051297456026077, accuracy 0.7422222222222222\n",
            " pid=16688)\u001b[0m Epoch 5: train loss 0.020362963899970055, accuracy 0.7788888888888889\n",
            " pid=16688)\u001b[0m [Client 0] fit, config: {}\n",
            " pid=16688)\u001b[0m Epoch 1: train loss 0.03436393290758133, accuracy 0.6133333333333333\n",
            " pid=16688)\u001b[0m Epoch 2: train loss 0.029429497197270393, accuracy 0.6648888888888889\n",
            " pid=16688)\u001b[0m Epoch 3: train loss 0.02624816820025444, accuracy 0.7024444444444444\n",
            " pid=16688)\u001b[0m Epoch 4: train loss 0.023235371336340904, accuracy 0.7391111111111112\n"
          ]
        },
        {
          "name": "stderr",
          "output_type": "stream",
          "text": [
            "DEBUG flwr 2024-04-26 09:53:52,861 | server.py:232 | fit_round 5 received 5 results and 0 failures\n",
            "DEBUG flwr 2024-04-26 09:53:52,880 | server.py:168 | evaluate_round 5: strategy sampled 5 clients (out of 5)\n"
          ]
        },
        {
          "name": "stdout",
          "output_type": "stream",
          "text": [
            " pid=16688)\u001b[0m Epoch 5: train loss 0.019296709448099136, accuracy 0.7864444444444444\n",
            " pid=16688)\u001b[0m [Client 1] evaluate, config: {}\n",
            " pid=16688)\u001b[0m Client 1 loss 0.04304670989513397\n",
            " pid=16688)\u001b[0m Client 1 accuracy 0.55\n",
            " pid=16688)\u001b[0m [Client 2] evaluate, config: {}\n",
            " pid=16688)\u001b[0m Client 2 loss 0.04393446433544159\n",
            " pid=16688)\u001b[0m Client 2 accuracy 0.564\n",
            " pid=16688)\u001b[0m [Client 3] evaluate, config: {}\n",
            " pid=16688)\u001b[0m Client 3 loss 0.04213559949398041\n",
            " pid=16688)\u001b[0m Client 3 accuracy 0.56\n",
            " pid=16688)\u001b[0m [Client 0] evaluate, config: {}\n"
          ]
        },
        {
          "name": "stderr",
          "output_type": "stream",
          "text": [
            "DEBUG flwr 2024-04-26 09:54:00,601 | server.py:182 | evaluate_round 5 received 5 results and 0 failures\n",
            "DEBUG flwr 2024-04-26 09:54:00,603 | server.py:218 | fit_round 6: strategy sampled 5 clients (out of 5)\n"
          ]
        },
        {
          "name": "stdout",
          "output_type": "stream",
          "text": [
            " pid=16688)\u001b[0m Client 0 loss 0.04356462013721466\n",
            " pid=16688)\u001b[0m Client 0 accuracy 0.544\n",
            " pid=16688)\u001b[0m [Client 4] evaluate, config: {}\n",
            " pid=16688)\u001b[0m Client 4 loss 0.04233358097076416\n",
            " pid=16688)\u001b[0m Client 4 accuracy 0.558\n",
            " pid=16688)\u001b[0m [Client 0] fit, config: {}\n",
            " pid=16688)\u001b[0m Epoch 1: train loss 0.031600240617990494, accuracy 0.6402222222222222\n",
            " pid=16688)\u001b[0m Epoch 2: train loss 0.02581891603767872, accuracy 0.7082222222222222\n",
            " pid=16688)\u001b[0m Epoch 3: train loss 0.021447231993079185, accuracy 0.7548888888888889\n",
            " pid=16688)\u001b[0m Epoch 4: train loss 0.018571190536022186, accuracy 0.7913333333333333\n",
            " pid=16688)\u001b[0m Epoch 5: train loss 0.015374720096588135, accuracy 0.8308888888888889\n",
            " pid=16688)\u001b[0m [Client 2] fit, config: {}\n",
            " pid=16688)\u001b[0m Epoch 1: train loss 0.031954970210790634, accuracy 0.6373333333333333\n",
            " pid=16688)\u001b[0m Epoch 2: train loss 0.02542239800095558, accuracy 0.7082222222222222\n",
            " pid=16688)\u001b[0m Epoch 3: train loss 0.021983658894896507, accuracy 0.7602222222222222\n",
            " pid=16688)\u001b[0m Epoch 4: train loss 0.018529461696743965, accuracy 0.792\n",
            " pid=16688)\u001b[0m Epoch 5: train loss 0.015394210815429688, accuracy 0.8348888888888889\n",
            " pid=16688)\u001b[0m [Client 1] fit, config: {}\n",
            " pid=16688)\u001b[0m Epoch 1: train loss 0.03116980940103531, accuracy 0.6522222222222223\n",
            " pid=16688)\u001b[0m Epoch 2: train loss 0.02529815025627613, accuracy 0.7157777777777777\n",
            " pid=16688)\u001b[0m Epoch 3: train loss 0.0211308803409338, accuracy 0.7635555555555555\n",
            " pid=16688)\u001b[0m Epoch 4: train loss 0.017765438184142113, accuracy 0.8044444444444444\n",
            " pid=16688)\u001b[0m Epoch 5: train loss 0.015060226432979107, accuracy 0.836\n",
            " pid=16688)\u001b[0m [Client 4] fit, config: {}\n",
            " pid=16688)\u001b[0m Epoch 1: train loss 0.03302660584449768, accuracy 0.6411111111111111\n",
            " pid=16688)\u001b[0m Epoch 2: train loss 0.027225859463214874, accuracy 0.7022222222222222\n",
            " pid=16688)\u001b[0m Epoch 3: train loss 0.02272769995033741, accuracy 0.7508888888888889\n",
            " pid=16688)\u001b[0m Epoch 4: train loss 0.019309313967823982, accuracy 0.7857777777777778\n",
            " pid=16688)\u001b[0m Epoch 5: train loss 0.016122126951813698, accuracy 0.8297777777777777\n",
            " pid=16688)\u001b[0m [Client 3] fit, config: {}\n",
            " pid=16688)\u001b[0m Epoch 1: train loss 0.03249179571866989, accuracy 0.6282222222222222\n",
            " pid=16688)\u001b[0m Epoch 2: train loss 0.026397284120321274, accuracy 0.6995555555555556\n",
            " pid=16688)\u001b[0m Epoch 3: train loss 0.022727353498339653, accuracy 0.7435555555555555\n",
            " pid=16688)\u001b[0m Epoch 4: train loss 0.019317537546157837, accuracy 0.7828888888888889\n"
          ]
        },
        {
          "name": "stderr",
          "output_type": "stream",
          "text": [
            "DEBUG flwr 2024-04-26 09:55:14,388 | server.py:232 | fit_round 6 received 5 results and 0 failures\n",
            "DEBUG flwr 2024-04-26 09:55:14,406 | server.py:168 | evaluate_round 6: strategy sampled 5 clients (out of 5)\n"
          ]
        },
        {
          "name": "stdout",
          "output_type": "stream",
          "text": [
            " pid=16688)\u001b[0m Epoch 5: train loss 0.016063537448644638, accuracy 0.8277777777777777\n",
            " pid=16688)\u001b[0m [Client 0] evaluate, config: {}\n",
            " pid=16688)\u001b[0m Client 0 loss 0.044845253825187684\n",
            " pid=16688)\u001b[0m Client 0 accuracy 0.546\n",
            " pid=16688)\u001b[0m [Client 1] evaluate, config: {}\n",
            " pid=16688)\u001b[0m Client 1 loss 0.04434411823749542\n",
            " pid=16688)\u001b[0m Client 1 accuracy 0.568\n",
            " pid=16688)\u001b[0m [Client 2] evaluate, config: {}\n",
            " pid=16688)\u001b[0m Client 2 loss 0.045737814784049986\n",
            " pid=16688)\u001b[0m Client 2 accuracy 0.574\n",
            " pid=16688)\u001b[0m [Client 4] evaluate, config: {}\n",
            " pid=16688)\u001b[0m Client 4 loss 0.04425700998306274\n",
            " pid=16688)\u001b[0m Client 4 accuracy 0.544\n",
            " pid=16688)\u001b[0m [Client 3] evaluate, config: {}\n"
          ]
        },
        {
          "name": "stderr",
          "output_type": "stream",
          "text": [
            "DEBUG flwr 2024-04-26 09:55:21,954 | server.py:182 | evaluate_round 6 received 5 results and 0 failures\n",
            "DEBUG flwr 2024-04-26 09:55:21,957 | server.py:218 | fit_round 7: strategy sampled 5 clients (out of 5)\n"
          ]
        },
        {
          "name": "stdout",
          "output_type": "stream",
          "text": [
            " pid=16688)\u001b[0m Client 3 loss 0.04475247871875763\n",
            " pid=16688)\u001b[0m Client 3 accuracy 0.58\n",
            " pid=16688)\u001b[0m [Client 0] fit, config: {}\n",
            " pid=16688)\u001b[0m Epoch 1: train loss 0.028950029984116554, accuracy 0.6702222222222223\n",
            " pid=16688)\u001b[0m Epoch 2: train loss 0.021694354712963104, accuracy 0.754\n",
            " pid=16688)\u001b[0m Epoch 3: train loss 0.017207257449626923, accuracy 0.8093333333333333\n",
            " pid=16688)\u001b[0m Epoch 4: train loss 0.013611246831715107, accuracy 0.8537777777777777\n",
            " pid=16688)\u001b[0m Epoch 5: train loss 0.011211332865059376, accuracy 0.8831111111111111\n",
            " pid=16688)\u001b[0m [Client 1] fit, config: {}\n",
            " pid=16688)\u001b[0m Epoch 1: train loss 0.028969919309020042, accuracy 0.6702222222222223\n",
            " pid=16688)\u001b[0m Epoch 2: train loss 0.02161249704658985, accuracy 0.7546666666666667\n",
            " pid=16688)\u001b[0m Epoch 3: train loss 0.017259439453482628, accuracy 0.8108888888888889\n",
            " pid=16688)\u001b[0m Epoch 4: train loss 0.013514237478375435, accuracy 0.8546666666666667\n",
            " pid=16688)\u001b[0m Epoch 5: train loss 0.010767797008156776, accuracy 0.8866666666666667\n",
            " pid=16688)\u001b[0m [Client 3] fit, config: {}\n",
            " pid=16688)\u001b[0m Epoch 1: train loss 0.030676191672682762, accuracy 0.6513333333333333\n",
            " pid=16688)\u001b[0m Epoch 2: train loss 0.02302267774939537, accuracy 0.738\n",
            " pid=16688)\u001b[0m Epoch 3: train loss 0.018877750262618065, accuracy 0.7904444444444444\n",
            " pid=16688)\u001b[0m Epoch 4: train loss 0.015534978359937668, accuracy 0.83\n",
            " pid=16688)\u001b[0m Epoch 5: train loss 0.011614048853516579, accuracy 0.8804444444444445\n",
            " pid=16688)\u001b[0m [Client 2] fit, config: {}\n",
            " pid=16688)\u001b[0m Epoch 1: train loss 0.029162848368287086, accuracy 0.6737777777777778\n",
            " pid=16688)\u001b[0m Epoch 2: train loss 0.021559052169322968, accuracy 0.7633333333333333\n",
            " pid=16688)\u001b[0m Epoch 3: train loss 0.017704516649246216, accuracy 0.8048888888888889\n",
            " pid=16688)\u001b[0m Epoch 4: train loss 0.014304016716778278, accuracy 0.8468888888888889\n",
            " pid=16688)\u001b[0m Epoch 5: train loss 0.011157234199345112, accuracy 0.8828888888888888\n",
            " pid=16688)\u001b[0m [Client 4] fit, config: {}\n",
            " pid=16688)\u001b[0m Epoch 1: train loss 0.03003566898405552, accuracy 0.6613333333333333\n",
            " pid=16688)\u001b[0m Epoch 2: train loss 0.022485926747322083, accuracy 0.7562222222222222\n",
            " pid=16688)\u001b[0m Epoch 3: train loss 0.018212392926216125, accuracy 0.8064444444444444\n",
            " pid=16688)\u001b[0m Epoch 4: train loss 0.01525133103132248, accuracy 0.8311111111111111\n"
          ]
        },
        {
          "name": "stderr",
          "output_type": "stream",
          "text": [
            "DEBUG flwr 2024-04-26 09:56:36,707 | server.py:232 | fit_round 7 received 5 results and 0 failures\n",
            "DEBUG flwr 2024-04-26 09:56:36,724 | server.py:168 | evaluate_round 7: strategy sampled 5 clients (out of 5)\n"
          ]
        },
        {
          "name": "stdout",
          "output_type": "stream",
          "text": [
            " pid=16688)\u001b[0m Epoch 5: train loss 0.012087390758097172, accuracy 0.8722222222222222\n",
            " pid=16688)\u001b[0m [Client 1] evaluate, config: {}\n",
            " pid=16688)\u001b[0m Client 1 loss 0.049709932923316956\n",
            " pid=16688)\u001b[0m Client 1 accuracy 0.546\n",
            " pid=16688)\u001b[0m [Client 0] evaluate, config: {}\n",
            " pid=16688)\u001b[0m Client 0 loss 0.049328678846359254\n",
            " pid=16688)\u001b[0m Client 0 accuracy 0.558\n",
            " pid=16688)\u001b[0m [Client 3] evaluate, config: {}\n",
            " pid=16688)\u001b[0m Client 3 loss 0.04956748986244202\n",
            " pid=16688)\u001b[0m Client 3 accuracy 0.582\n",
            " pid=16688)\u001b[0m [Client 2] evaluate, config: {}\n",
            " pid=16688)\u001b[0m Client 2 loss 0.04975014877319336\n",
            " pid=16688)\u001b[0m Client 2 accuracy 0.562\n"
          ]
        },
        {
          "name": "stderr",
          "output_type": "stream",
          "text": [
            "DEBUG flwr 2024-04-26 09:56:44,209 | server.py:182 | evaluate_round 7 received 5 results and 0 failures\n",
            "DEBUG flwr 2024-04-26 09:56:44,211 | server.py:218 | fit_round 8: strategy sampled 5 clients (out of 5)\n"
          ]
        },
        {
          "name": "stdout",
          "output_type": "stream",
          "text": [
            " pid=16688)\u001b[0m [Client 4] evaluate, config: {}\n",
            " pid=16688)\u001b[0m Client 4 loss 0.04834867334365845\n",
            " pid=16688)\u001b[0m Client 4 accuracy 0.552\n",
            " pid=16688)\u001b[0m [Client 0] fit, config: {}\n",
            " pid=16688)\u001b[0m Epoch 1: train loss 0.026808617636561394, accuracy 0.7035555555555556\n",
            " pid=16688)\u001b[0m Epoch 2: train loss 0.018380269408226013, accuracy 0.7917777777777778\n",
            " pid=16688)\u001b[0m Epoch 3: train loss 0.013688359409570694, accuracy 0.85\n",
            " pid=16688)\u001b[0m Epoch 4: train loss 0.010526370257139206, accuracy 0.89\n",
            " pid=16688)\u001b[0m Epoch 5: train loss 0.008296662010252476, accuracy 0.9175555555555556\n",
            " pid=16688)\u001b[0m [Client 1] fit, config: {}\n",
            " pid=16688)\u001b[0m Epoch 1: train loss 0.026936592534184456, accuracy 0.6946666666666667\n",
            " pid=16688)\u001b[0m Epoch 2: train loss 0.018264437094330788, accuracy 0.8024444444444444\n",
            " pid=16688)\u001b[0m Epoch 3: train loss 0.013866273686289787, accuracy 0.8457777777777777\n",
            " pid=16688)\u001b[0m Epoch 4: train loss 0.011342906393110752, accuracy 0.8773333333333333\n",
            " pid=16688)\u001b[0m Epoch 5: train loss 0.00880042277276516, accuracy 0.91\n",
            " pid=16688)\u001b[0m [Client 4] fit, config: {}\n",
            " pid=16688)\u001b[0m Epoch 1: train loss 0.028286505490541458, accuracy 0.6873333333333334\n",
            " pid=16688)\u001b[0m Epoch 2: train loss 0.019695615395903587, accuracy 0.7826666666666666\n",
            " pid=16688)\u001b[0m Epoch 3: train loss 0.015342400409281254, accuracy 0.8384444444444444\n",
            " pid=16688)\u001b[0m Epoch 4: train loss 0.011807218194007874, accuracy 0.8795555555555555\n",
            " pid=16688)\u001b[0m Epoch 5: train loss 0.008855941705405712, accuracy 0.9122222222222223\n",
            " pid=16688)\u001b[0m [Client 3] fit, config: {}\n",
            " pid=16688)\u001b[0m Epoch 1: train loss 0.027867106720805168, accuracy 0.6835555555555556\n",
            " pid=16688)\u001b[0m Epoch 2: train loss 0.01933114416897297, accuracy 0.7882222222222223\n",
            " pid=16688)\u001b[0m Epoch 3: train loss 0.015321685932576656, accuracy 0.8315555555555556\n",
            " pid=16688)\u001b[0m Epoch 4: train loss 0.011817834340035915, accuracy 0.8746666666666667\n",
            " pid=16688)\u001b[0m Epoch 5: train loss 0.009787050075829029, accuracy 0.8975555555555556\n",
            " pid=16688)\u001b[0m [Client 2] fit, config: {}\n",
            " pid=16688)\u001b[0m Epoch 1: train loss 0.027403557673096657, accuracy 0.6904444444444444\n",
            " pid=16688)\u001b[0m Epoch 2: train loss 0.018636977300047874, accuracy 0.7946666666666666\n",
            " pid=16688)\u001b[0m Epoch 3: train loss 0.014387196861207485, accuracy 0.8437777777777777\n",
            " pid=16688)\u001b[0m Epoch 4: train loss 0.01070310827344656, accuracy 0.8884444444444445\n"
          ]
        },
        {
          "name": "stderr",
          "output_type": "stream",
          "text": [
            "DEBUG flwr 2024-04-26 09:57:57,994 | server.py:232 | fit_round 8 received 5 results and 0 failures\n",
            "DEBUG flwr 2024-04-26 09:57:58,027 | server.py:168 | evaluate_round 8: strategy sampled 5 clients (out of 5)\n"
          ]
        },
        {
          "name": "stdout",
          "output_type": "stream",
          "text": [
            " pid=16688)\u001b[0m Epoch 5: train loss 0.008405501954257488, accuracy 0.9151111111111111\n",
            " pid=16688)\u001b[0m [Client 2] evaluate, config: {}\n",
            " pid=16688)\u001b[0m Client 2 loss 0.05582401776313782\n",
            " pid=16688)\u001b[0m Client 2 accuracy 0.566\n",
            " pid=16688)\u001b[0m [Client 1] evaluate, config: {}\n",
            " pid=16688)\u001b[0m Client 1 loss 0.05281359386444092\n",
            " pid=16688)\u001b[0m Client 1 accuracy 0.558\n",
            " pid=16688)\u001b[0m [Client 0] evaluate, config: {}\n",
            " pid=16688)\u001b[0m Client 0 loss 0.05517094779014588\n",
            " pid=16688)\u001b[0m Client 0 accuracy 0.552\n",
            " pid=16688)\u001b[0m [Client 4] evaluate, config: {}\n"
          ]
        },
        {
          "name": "stderr",
          "output_type": "stream",
          "text": [
            "DEBUG flwr 2024-04-26 09:58:05,535 | server.py:182 | evaluate_round 8 received 5 results and 0 failures\n",
            "DEBUG flwr 2024-04-26 09:58:05,536 | server.py:218 | fit_round 9: strategy sampled 5 clients (out of 5)\n"
          ]
        },
        {
          "name": "stdout",
          "output_type": "stream",
          "text": [
            " pid=16688)\u001b[0m Client 4 loss 0.05216440200805664\n",
            " pid=16688)\u001b[0m Client 4 accuracy 0.56\n",
            " pid=16688)\u001b[0m [Client 3] evaluate, config: {}\n",
            " pid=16688)\u001b[0m Client 3 loss 0.05460686779022217\n",
            " pid=16688)\u001b[0m Client 3 accuracy 0.58\n",
            " pid=16688)\u001b[0m [Client 1] fit, config: {}\n",
            " pid=16688)\u001b[0m Epoch 1: train loss 0.02522231824696064, accuracy 0.718\n",
            " pid=16688)\u001b[0m Epoch 2: train loss 0.01553259789943695, accuracy 0.8271111111111111\n",
            " pid=16688)\u001b[0m Epoch 3: train loss 0.010673891752958298, accuracy 0.8877777777777778\n",
            " pid=16688)\u001b[0m Epoch 4: train loss 0.00841391272842884, accuracy 0.9126666666666666\n",
            " pid=16688)\u001b[0m Epoch 5: train loss 0.006589886266738176, accuracy 0.9324444444444444\n",
            " pid=16688)\u001b[0m [Client 2] fit, config: {}\n",
            " pid=16688)\u001b[0m Epoch 1: train loss 0.025315240025520325, accuracy 0.7135555555555556\n",
            " pid=16688)\u001b[0m Epoch 2: train loss 0.015732917934656143, accuracy 0.8226666666666667\n",
            " pid=16688)\u001b[0m Epoch 3: train loss 0.011505462229251862, accuracy 0.8777777777777778\n",
            " pid=16688)\u001b[0m Epoch 4: train loss 0.008822545409202576, accuracy 0.9088888888888889\n",
            " pid=16688)\u001b[0m Epoch 5: train loss 0.006334698759019375, accuracy 0.9386666666666666\n",
            " pid=16688)\u001b[0m [Client 0] fit, config: {}\n",
            " pid=16688)\u001b[0m Epoch 1: train loss 0.02456403523683548, accuracy 0.7235555555555555\n",
            " pid=16688)\u001b[0m Epoch 2: train loss 0.015548071824014187, accuracy 0.8268888888888889\n",
            " pid=16688)\u001b[0m Epoch 3: train loss 0.010671437717974186, accuracy 0.8911111111111111\n",
            " pid=16688)\u001b[0m Epoch 4: train loss 0.008084126748144627, accuracy 0.9246666666666666\n",
            " pid=16688)\u001b[0m Epoch 5: train loss 0.006301174871623516, accuracy 0.9391111111111111\n",
            " pid=16688)\u001b[0m [Client 3] fit, config: {}\n",
            " pid=16688)\u001b[0m Epoch 1: train loss 0.02615121565759182, accuracy 0.7084444444444444\n",
            " pid=16688)\u001b[0m Epoch 2: train loss 0.01645413041114807, accuracy 0.8097777777777778\n",
            " pid=16688)\u001b[0m Epoch 3: train loss 0.012020588852465153, accuracy 0.8691111111111111\n",
            " pid=16688)\u001b[0m Epoch 4: train loss 0.008465409278869629, accuracy 0.9115555555555556\n",
            " pid=16688)\u001b[0m Epoch 5: train loss 0.006850807461887598, accuracy 0.9304444444444444\n",
            " pid=16688)\u001b[0m [Client 4] fit, config: {}\n",
            " pid=16688)\u001b[0m Epoch 1: train loss 0.02623082883656025, accuracy 0.7135555555555556\n",
            " pid=16688)\u001b[0m Epoch 2: train loss 0.01634969376027584, accuracy 0.8171111111111111\n",
            " pid=16688)\u001b[0m Epoch 3: train loss 0.012176009826362133, accuracy 0.8682222222222222\n",
            " pid=16688)\u001b[0m Epoch 4: train loss 0.009342201054096222, accuracy 0.9028888888888889\n"
          ]
        },
        {
          "name": "stderr",
          "output_type": "stream",
          "text": [
            "DEBUG flwr 2024-04-26 09:59:21,307 | server.py:232 | fit_round 9 received 5 results and 0 failures\n",
            "DEBUG flwr 2024-04-26 09:59:21,325 | server.py:168 | evaluate_round 9: strategy sampled 5 clients (out of 5)\n"
          ]
        },
        {
          "name": "stdout",
          "output_type": "stream",
          "text": [
            " pid=16688)\u001b[0m Epoch 5: train loss 0.006827562116086483, accuracy 0.9344444444444444\n",
            " pid=16688)\u001b[0m [Client 0] evaluate, config: {}\n",
            " pid=16688)\u001b[0m Client 0 loss 0.058987147092819214\n",
            " pid=16688)\u001b[0m Client 0 accuracy 0.57\n",
            " pid=16688)\u001b[0m [Client 1] evaluate, config: {}\n",
            " pid=16688)\u001b[0m Client 1 loss 0.05759292602539062\n",
            " pid=16688)\u001b[0m Client 1 accuracy 0.546\n",
            " pid=16688)\u001b[0m [Client 4] evaluate, config: {}\n",
            " pid=16688)\u001b[0m Client 4 loss 0.05684766733646393\n",
            " pid=16688)\u001b[0m Client 4 accuracy 0.566\n",
            " pid=16688)\u001b[0m [Client 3] evaluate, config: {}\n",
            " pid=16688)\u001b[0m Client 3 loss 0.06237955760955811\n",
            " pid=16688)\u001b[0m Client 3 accuracy 0.578\n"
          ]
        },
        {
          "name": "stderr",
          "output_type": "stream",
          "text": [
            "DEBUG flwr 2024-04-26 09:59:28,846 | server.py:182 | evaluate_round 9 received 5 results and 0 failures\n",
            "DEBUG flwr 2024-04-26 09:59:28,848 | server.py:218 | fit_round 10: strategy sampled 5 clients (out of 5)\n"
          ]
        },
        {
          "name": "stdout",
          "output_type": "stream",
          "text": [
            " pid=16688)\u001b[0m [Client 2] evaluate, config: {}\n",
            " pid=16688)\u001b[0m Client 2 loss 0.06141976761817932\n",
            " pid=16688)\u001b[0m Client 2 accuracy 0.562\n",
            " pid=16688)\u001b[0m [Client 0] fit, config: {}\n",
            " pid=16688)\u001b[0m Epoch 1: train loss 0.023514755070209503, accuracy 0.7428888888888889\n",
            " pid=16688)\u001b[0m Epoch 2: train loss 0.01307673379778862, accuracy 0.8577777777777778\n",
            " pid=16688)\u001b[0m Epoch 3: train loss 0.009027227759361267, accuracy 0.9077777777777778\n",
            " pid=16688)\u001b[0m Epoch 4: train loss 0.005907597951591015, accuracy 0.9471111111111111\n",
            " pid=16688)\u001b[0m Epoch 5: train loss 0.004683822859078646, accuracy 0.9586666666666667\n",
            " pid=16688)\u001b[0m [Client 1] fit, config: {}\n",
            " pid=16688)\u001b[0m Epoch 1: train loss 0.023441163823008537, accuracy 0.7413333333333333\n",
            " pid=16688)\u001b[0m Epoch 2: train loss 0.012938771396875381, accuracy 0.8575555555555555\n",
            " pid=16688)\u001b[0m Epoch 3: train loss 0.008735856972634792, accuracy 0.912\n",
            " pid=16688)\u001b[0m Epoch 4: train loss 0.006643076427280903, accuracy 0.9326666666666666\n",
            " pid=16688)\u001b[0m Epoch 5: train loss 0.005146527662873268, accuracy 0.9511111111111111\n",
            " pid=16688)\u001b[0m [Client 4] fit, config: {}\n",
            " pid=16688)\u001b[0m Epoch 1: train loss 0.02444058656692505, accuracy 0.7455555555555555\n",
            " pid=16688)\u001b[0m Epoch 2: train loss 0.014192228205502033, accuracy 0.8357777777777777\n",
            " pid=16688)\u001b[0m Epoch 3: train loss 0.00960917305201292, accuracy 0.9006666666666666\n",
            " pid=16688)\u001b[0m Epoch 4: train loss 0.006755745969712734, accuracy 0.9337777777777778\n",
            " pid=16688)\u001b[0m Epoch 5: train loss 0.005223976913839579, accuracy 0.9531111111111111\n",
            " pid=16688)\u001b[0m [Client 3] fit, config: {}\n",
            " pid=16688)\u001b[0m Epoch 1: train loss 0.02421080693602562, accuracy 0.7297777777777777\n",
            " pid=16688)\u001b[0m Epoch 2: train loss 0.013998563401401043, accuracy 0.8431111111111111\n",
            " pid=16688)\u001b[0m Epoch 3: train loss 0.009535511955618858, accuracy 0.8993333333333333\n",
            " pid=16688)\u001b[0m Epoch 4: train loss 0.007192894816398621, accuracy 0.9255555555555556\n",
            " pid=16688)\u001b[0m Epoch 5: train loss 0.005401132628321648, accuracy 0.9482222222222222\n",
            " pid=16688)\u001b[0m [Client 2] fit, config: {}\n",
            " pid=16688)\u001b[0m Epoch 1: train loss 0.023494014516472816, accuracy 0.74\n",
            " pid=16688)\u001b[0m Epoch 2: train loss 0.013384069316089153, accuracy 0.8506666666666667\n",
            " pid=16688)\u001b[0m Epoch 3: train loss 0.00929618626832962, accuracy 0.9015555555555556\n",
            " pid=16688)\u001b[0m Epoch 4: train loss 0.006437614094465971, accuracy 0.9326666666666666\n"
          ]
        },
        {
          "name": "stderr",
          "output_type": "stream",
          "text": [
            "DEBUG flwr 2024-04-26 10:00:44,485 | server.py:232 | fit_round 10 received 5 results and 0 failures\n",
            "DEBUG flwr 2024-04-26 10:00:44,503 | server.py:168 | evaluate_round 10: strategy sampled 5 clients (out of 5)\n"
          ]
        },
        {
          "name": "stdout",
          "output_type": "stream",
          "text": [
            " pid=16688)\u001b[0m Epoch 5: train loss 0.00449698930606246, accuracy 0.9588888888888889\n",
            " pid=16688)\u001b[0m [Client 1] evaluate, config: {}\n",
            " pid=16688)\u001b[0m Client 1 loss 0.063223370552063\n",
            " pid=16688)\u001b[0m Client 1 accuracy 0.534\n",
            " pid=16688)\u001b[0m [Client 4] evaluate, config: {}\n",
            " pid=16688)\u001b[0m Client 4 loss 0.06229928874969482\n",
            " pid=16688)\u001b[0m Client 4 accuracy 0.57\n",
            " pid=16688)\u001b[0m [Client 3] evaluate, config: {}\n",
            " pid=16688)\u001b[0m Client 3 loss 0.06798017120361328\n",
            " pid=16688)\u001b[0m Client 3 accuracy 0.582\n",
            " pid=16688)\u001b[0m [Client 2] evaluate, config: {}\n",
            " pid=16688)\u001b[0m Client 2 loss 0.06594762969017029\n",
            " pid=16688)\u001b[0m Client 2 accuracy 0.566\n"
          ]
        },
        {
          "name": "stderr",
          "output_type": "stream",
          "text": [
            "DEBUG flwr 2024-04-26 10:00:52,561 | server.py:182 | evaluate_round 10 received 5 results and 0 failures\n",
            "INFO flwr 2024-04-26 10:00:52,562 | server.py:147 | FL finished in 837.6975861000001\n",
            "INFO flwr 2024-04-26 10:00:52,564 | app.py:218 | app_fit: losses_distributed [(1, 0.055366327524185174), (2, 0.04552419316768646), (3, 0.04231918756961823), (4, 0.04187274069786072), (5, 0.04300299496650696), (6, 0.04478733510971069), (7, 0.04934098474979401), (8, 0.054115965843200685), (9, 0.05944541313648224), (10, 0.0650506513118744)]\n",
            "INFO flwr 2024-04-26 10:00:52,565 | app.py:219 | app_fit: metrics_distributed_fit {}\n",
            "INFO flwr 2024-04-26 10:00:52,567 | app.py:220 | app_fit: metrics_distributed {}\n",
            "INFO flwr 2024-04-26 10:00:52,568 | app.py:221 | app_fit: losses_centralized []\n",
            "INFO flwr 2024-04-26 10:00:52,570 | app.py:222 | app_fit: metrics_centralized {}\n"
          ]
        },
        {
          "name": "stdout",
          "output_type": "stream",
          "text": [
            " pid=16688)\u001b[0m [Client 0] evaluate, config: {}\n"
          ]
        },
        {
          "data": {
            "text/plain": [
              "History (loss, distributed):\n",
              "\tround 1: 0.055366327524185174\n",
              "\tround 2: 0.04552419316768646\n",
              "\tround 3: 0.04231918756961823\n",
              "\tround 4: 0.04187274069786072\n",
              "\tround 5: 0.04300299496650696\n",
              "\tround 6: 0.04478733510971069\n",
              "\tround 7: 0.04934098474979401\n",
              "\tround 8: 0.054115965843200685\n",
              "\tround 9: 0.05944541313648224\n",
              "\tround 10: 0.0650506513118744"
            ]
          },
          "execution_count": 5,
          "metadata": {},
          "output_type": "execute_result"
        },
        {
          "name": "stdout",
          "output_type": "stream",
          "text": [
            " pid=16688)\u001b[0m Client 0 loss 0.06580279636383056\n",
            " pid=16688)\u001b[0m Client 0 accuracy 0.56\n"
          ]
        }
      ],
      "source": [
        "# Specify client resources if you need GPU (defaults to 1 CPU and 0 GPU)\n",
        "client_resources = None\n",
        "if DEVICE.type == \"cuda\":\n",
        "    client_resources = {\"num_gpus\": 1}\n",
        "\n",
        "fl.simulation.start_simulation(\n",
        "    client_fn=client_fn,\n",
        "    num_clients=5,\n",
        "    config=fl.server.ServerConfig(num_rounds=10),\n",
        "    client_resources=client_resources,\n",
        ")"
      ]
    },
    {
      "cell_type": "markdown",
      "metadata": {
        "id": "pmAeTXB0ACCN"
      },
      "source": [
        "## Build a Strategy from scratch\n",
        "\n",
        "Let’s overwrite the `configure_fit` method such that it passes a higher learning rate (potentially also other hyperparameters) to the optimizer of a fraction of the clients. We will keep the sampling of the clients as it is in `FedAvg` and then change the configuration dictionary (one of the `FitIns` attributes)."
      ]
    },
    {
      "cell_type": "code",
      "execution_count": 36,
      "metadata": {
        "id": "2C_pD-4pACCO"
      },
      "outputs": [],
      "source": [
        "from typing import Callable, Union\n",
        "\n",
        "from flwr.common import (\n",
        "    EvaluateIns,\n",
        "    EvaluateRes,\n",
        "    FitIns,\n",
        "    FitRes,\n",
        "    MetricsAggregationFn,\n",
        "    NDArrays,\n",
        "    Parameters,\n",
        "    Scalar,\n",
        "    ndarrays_to_parameters,\n",
        "    parameters_to_ndarrays,\n",
        ")\n",
        "from flwr.server.client_manager import ClientManager\n",
        "from flwr.server.client_proxy import ClientProxy\n",
        "from flwr.server.strategy.aggregate import aggregate, weighted_loss_avg\n",
        "\n",
        "\n",
        "class FedCustom(fl.server.strategy.Strategy):\n",
        "    def __init__(\n",
        "        self,\n",
        "        fraction_fit: float = 1.0,\n",
        "        fraction_evaluate: float = 1.0,\n",
        "        min_fit_clients: int = 2,\n",
        "        min_evaluate_clients: int = 2,\n",
        "        min_available_clients: int = 2,\n",
        "    ) -> None:\n",
        "        super().__init__()\n",
        "        self.fraction_fit = fraction_fit\n",
        "        self.fraction_evaluate = fraction_evaluate\n",
        "        self.min_fit_clients = min_fit_clients\n",
        "        self.min_evaluate_clients = min_evaluate_clients\n",
        "        self.min_available_clients = min_available_clients\n",
        "\n",
        "    def __repr__(self) -> str:\n",
        "        return \"FedCustom\"\n",
        "\n",
        "    def initialize_parameters(\n",
        "        self, client_manager: ClientManager\n",
        "    ) -> Optional[Parameters]:\n",
        "        \"\"\"Initialize global model parameters.\"\"\"\n",
        "        net = Net()\n",
        "        ndarrays = get_parameters(net)\n",
        "        return fl.common.ndarrays_to_parameters(ndarrays)\n",
        "\n",
        "    def configure_fit(\n",
        "        self, server_round: int, parameters: Parameters, client_manager: ClientManager\n",
        "    ) -> List[Tuple[ClientProxy, FitIns]]:\n",
        "        \"\"\"Configure the next round of training.\"\"\"\n",
        "\n",
        "        # Sample clients\n",
        "        sample_size, min_num_clients = self.num_fit_clients(\n",
        "            client_manager.num_available()\n",
        "        )\n",
        "        clients = client_manager.sample(\n",
        "            num_clients=sample_size, min_num_clients=min_num_clients\n",
        "        )\n",
        "\n",
        "        # Create custom configs\n",
        "        n_clients = len(clients)\n",
        "        #half_clients = n_clients // 2\n",
        "        standard_config = {\"lr\": 0.001}\n",
        "        higher_lr_config = {\"lr\": 0.003}\n",
        "        fit_configurations = []\n",
        "        for idx, client in enumerate(clients):\n",
        "            fit_configurations.append((client, FitIns(parameters, standard_config)))\n",
        "            # if idx < half_clients:\n",
        "            #     fit_configurations.append((client, FitIns(parameters, standard_config)))\n",
        "            # else:\n",
        "            #     fit_configurations.append(\n",
        "            #         (client, FitIns(parameters, higher_lr_config))\n",
        "            #     )\n",
        "        return fit_configurations\n",
        "\n",
        "    def aggregate_fit(\n",
        "        self,\n",
        "        server_round: int,\n",
        "        results: List[Tuple[ClientProxy, FitRes]],\n",
        "        failures: List[Union[Tuple[ClientProxy, FitRes], BaseException]],\n",
        "    ) -> Tuple[Optional[Parameters], Dict[str, Scalar]]:\n",
        "        \"\"\"Aggregate fit results using weighted average.\"\"\"\n",
        "\n",
        "        weights_results = [\n",
        "            (parameters_to_ndarrays(fit_res.parameters), fit_res.num_examples)\n",
        "            for _, fit_res in results\n",
        "        ]\n",
        "        parameters_aggregated = ndarrays_to_parameters(aggregate(weights_results))\n",
        "        metrics_aggregated = {}\n",
        "        return parameters_aggregated, metrics_aggregated\n",
        "\n",
        "    def configure_evaluate(\n",
        "        self, server_round: int, parameters: Parameters, client_manager: ClientManager\n",
        "    ) -> List[Tuple[ClientProxy, EvaluateIns]]:\n",
        "        \"\"\"Configure the next round of evaluation.\"\"\"\n",
        "        if self.fraction_evaluate == 0.0:\n",
        "            return []\n",
        "        config = {}\n",
        "        evaluate_ins = EvaluateIns(parameters, config)\n",
        "\n",
        "        # Sample clients\n",
        "        sample_size, min_num_clients = self.num_evaluation_clients(\n",
        "            client_manager.num_available()\n",
        "        )\n",
        "        clients = client_manager.sample(\n",
        "            num_clients=sample_size, min_num_clients=min_num_clients\n",
        "        )\n",
        "\n",
        "        # Return client/config pairs\n",
        "        return [(client, evaluate_ins) for client in clients]\n",
        "\n",
        "    def aggregate_evaluate(\n",
        "        self,\n",
        "        server_round: int,\n",
        "        results: List[Tuple[ClientProxy, EvaluateRes]],\n",
        "        failures: List[Union[Tuple[ClientProxy, EvaluateRes], BaseException]],\n",
        "    ) -> Tuple[Optional[float], Dict[str, Scalar]]:\n",
        "        \"\"\"Aggregate evaluation losses using weighted average.\"\"\"\n",
        "\n",
        "        if not results:\n",
        "            return None, {}\n",
        "\n",
        "        loss_aggregated = weighted_loss_avg(\n",
        "            [\n",
        "                (evaluate_res.num_examples, evaluate_res.loss)\n",
        "                for _, evaluate_res in results\n",
        "            ]\n",
        "        )\n",
        "        metrics_aggregated = {}\n",
        "        return loss_aggregated, metrics_aggregated\n",
        "\n",
        "    def evaluate(\n",
        "        self, server_round: int, parameters: Parameters\n",
        "    ) -> Optional[Tuple[float, Dict[str, Scalar]]]:\n",
        "        \"\"\"Evaluate global model parameters using an evaluation function.\"\"\"\n",
        "\n",
        "        # Let's assume we won't perform the global model evaluation on the server side.\n",
        "        return None\n",
        "\n",
        "    def num_fit_clients(self, num_available_clients: int) -> Tuple[int, int]:\n",
        "        \"\"\"Return sample size and required number of clients.\"\"\"\n",
        "        num_clients = int(num_available_clients * self.fraction_fit)\n",
        "        return max(num_clients, self.min_fit_clients), self.min_available_clients\n",
        "\n",
        "    def num_evaluation_clients(self, num_available_clients: int) -> Tuple[int, int]:\n",
        "        \"\"\"Use a fraction of available clients for evaluation.\"\"\"\n",
        "        num_clients = int(num_available_clients * self.fraction_evaluate)\n",
        "        return max(num_clients, self.min_evaluate_clients), self.min_available_clients"
      ]
    },
    {
      "cell_type": "markdown",
      "metadata": {
        "id": "DlOQoH1dACCO"
      },
      "source": [
        "The only thing left is to use the newly created custom Strategy `FedCustom` when starting the experiment:"
      ]
    },
    {
      "cell_type": "markdown",
      "metadata": {},
      "source": [
        "MY EXPERIMENT WITH EPOCH IN FITINS"
      ]
    },
    {
      "cell_type": "code",
      "execution_count": 43,
      "metadata": {},
      "outputs": [],
      "source": [
        "from typing import Callable, Union\n",
        "\n",
        "from flwr.common import (\n",
        "    EvaluateIns,\n",
        "    EvaluateRes,\n",
        "    FitIns,\n",
        "    FitRes,\n",
        "    MetricsAggregationFn,\n",
        "    NDArrays,\n",
        "    Parameters,\n",
        "    Scalar,\n",
        "    ndarrays_to_parameters,\n",
        "    parameters_to_ndarrays,\n",
        ")\n",
        "from flwr.server.client_manager import ClientManager\n",
        "from flwr.server.client_proxy import ClientProxy\n",
        "from flwr.server.strategy.aggregate import aggregate, weighted_loss_avg\n",
        "\n",
        "\n",
        "class FedCustom(fl.server.strategy.Strategy):\n",
        "    def __init__(\n",
        "        self,\n",
        "        fraction_fit: float = 1.0,\n",
        "        fraction_evaluate: float = 1.0,\n",
        "        min_fit_clients: int = 2,\n",
        "        min_evaluate_clients: int = 2,\n",
        "        min_available_clients: int = 2,\n",
        "    ) -> None:\n",
        "        super().__init__()\n",
        "        self.fraction_fit = fraction_fit\n",
        "        self.fraction_evaluate = fraction_evaluate\n",
        "        self.min_fit_clients = min_fit_clients\n",
        "        self.min_evaluate_clients = min_evaluate_clients\n",
        "        self.min_available_clients = min_available_clients\n",
        "\n",
        "    def __repr__(self) -> str:\n",
        "        return \"FedCustom\"\n",
        "\n",
        "    def initialize_parameters(\n",
        "        self, client_manager: ClientManager\n",
        "    ) -> Optional[Parameters]:\n",
        "        \"\"\"Initialize global model parameters.\"\"\"\n",
        "        net = Net()\n",
        "        ndarrays = get_parameters(net)\n",
        "        return fl.common.ndarrays_to_parameters(ndarrays)\n",
        "\n",
        "    def configure_fit(\n",
        "        self, server_round: int, parameters: Parameters, client_manager: ClientManager\n",
        "    ) -> List[Tuple[ClientProxy, FitIns]]:\n",
        "        \"\"\"Configure the next round of training.\"\"\"\n",
        "\n",
        "        # Sample clients\n",
        "        sample_size, min_num_clients = self.num_fit_clients(\n",
        "            client_manager.num_available()\n",
        "        )\n",
        "        clients = client_manager.sample(\n",
        "            num_clients=sample_size, min_num_clients=min_num_clients\n",
        "        )\n",
        "\n",
        "        # Create custom configs\n",
        "        n_clients = len(clients)\n",
        "        #half_clients = n_clients // 2\n",
        "        standard_config = {\"lr\": 0.001, \"epoch\": 2}\n",
        "        epooc = {\"epoch\": 2}\n",
        "        higher_lr_config = {\"lr\": 0.003}\n",
        "        fit_configurations = []\n",
        "        for idx, client in enumerate(clients):\n",
        "            fit_configurations.append((client, FitIns(parameters, standard_config)))\n",
        "            # if idx < half_clients:\n",
        "            #     fit_configurations.append((client, FitIns(parameters, standard_config)))\n",
        "            # else:\n",
        "            #     fit_configurations.append(\n",
        "            #         (client, FitIns(parameters, higher_lr_config))\n",
        "            #     )\n",
        "        return fit_configurations\n",
        "\n",
        "    def aggregate_fit(\n",
        "        self,\n",
        "        server_round: int,\n",
        "        results: List[Tuple[ClientProxy, FitRes]],\n",
        "        failures: List[Union[Tuple[ClientProxy, FitRes], BaseException]],\n",
        "    ) -> Tuple[Optional[Parameters], Dict[str, Scalar]]:\n",
        "        \"\"\"Aggregate fit results using weighted average.\"\"\"\n",
        "\n",
        "        weights_results = [\n",
        "            (parameters_to_ndarrays(fit_res.parameters), fit_res.num_examples)\n",
        "            for _, fit_res in results\n",
        "        ]\n",
        "        parameters_aggregated = ndarrays_to_parameters(aggregate(weights_results))\n",
        "        metrics_aggregated = {}\n",
        "        return parameters_aggregated, metrics_aggregated\n",
        "\n",
        "    def configure_evaluate(\n",
        "        self, server_round: int, parameters: Parameters, client_manager: ClientManager\n",
        "    ) -> List[Tuple[ClientProxy, EvaluateIns]]:\n",
        "        \"\"\"Configure the next round of evaluation.\"\"\"\n",
        "        if self.fraction_evaluate == 0.0:\n",
        "            return []\n",
        "        config = {\"epoch\": str(2)}\n",
        "        evaluate_ins = EvaluateIns(parameters, config)\n",
        "\n",
        "        # Sample clients\n",
        "        sample_size, min_num_clients = self.num_evaluation_clients(\n",
        "            client_manager.num_available()\n",
        "        )\n",
        "        clients = client_manager.sample(\n",
        "            num_clients=sample_size, min_num_clients=min_num_clients\n",
        "        )\n",
        "\n",
        "        # Return client/config pairs\n",
        "        return [(client, evaluate_ins) for client in clients]\n",
        "\n",
        "    def aggregate_evaluate(\n",
        "        self,\n",
        "        server_round: int,\n",
        "        results: List[Tuple[ClientProxy, EvaluateRes]],\n",
        "        failures: List[Union[Tuple[ClientProxy, EvaluateRes], BaseException]],\n",
        "    ) -> Tuple[Optional[float], Dict[str, Scalar]]:\n",
        "        \"\"\"Aggregate evaluation losses using weighted average.\"\"\"\n",
        "\n",
        "        if not results:\n",
        "            return None, {}\n",
        "\n",
        "        loss_aggregated = weighted_loss_avg(\n",
        "            [\n",
        "                (evaluate_res.num_examples, evaluate_res.loss)\n",
        "                for _, evaluate_res in results\n",
        "            ]\n",
        "        )\n",
        "        metrics_aggregated = {}\n",
        "        return loss_aggregated, metrics_aggregated\n",
        "\n",
        "    def evaluate(\n",
        "        self, server_round: int, parameters: Parameters\n",
        "    ) -> Optional[Tuple[float, Dict[str, Scalar]]]:\n",
        "        \"\"\"Evaluate global model parameters using an evaluation function.\"\"\"\n",
        "\n",
        "        # Let's assume we won't perform the global model evaluation on the server side.\n",
        "        return None\n",
        "\n",
        "    def num_fit_clients(self, num_available_clients: int) -> Tuple[int, int]:\n",
        "        \"\"\"Return sample size and required number of clients.\"\"\"\n",
        "        num_clients = int(num_available_clients * self.fraction_fit)\n",
        "        return max(num_clients, self.min_fit_clients), self.min_available_clients\n",
        "\n",
        "    def num_evaluation_clients(self, num_available_clients: int) -> Tuple[int, int]:\n",
        "        \"\"\"Use a fraction of available clients for evaluation.\"\"\"\n",
        "        num_clients = int(num_available_clients * self.fraction_evaluate)\n",
        "        return max(num_clients, self.min_evaluate_clients), self.min_available_clients"
      ]
    },
    {
      "cell_type": "code",
      "execution_count": 44,
      "metadata": {},
      "outputs": [
        {
          "name": "stderr",
          "output_type": "stream",
          "text": [
            "INFO flwr 2024-04-27 10:27:37,258 | app.py:146 | Starting Flower simulation, config: ServerConfig(num_rounds=10, round_timeout=None)\n"
          ]
        },
        {
          "name": "stderr",
          "output_type": "stream",
          "text": [
            "INFO flwr 2024-04-27 10:27:52,243 | app.py:180 | Flower VCE: Ray initialized with resources: {'node:127.0.0.1': 1.0, 'object_store_memory': 29394678988.0, 'memory': 58789357979.0, 'CPU': 32.0, 'GPU': 1.0}\n",
            "INFO flwr 2024-04-27 10:27:52,245 | server.py:86 | Initializing global parameters\n",
            "INFO flwr 2024-04-27 10:27:52,250 | server.py:269 | Using initial parameters provided by strategy\n",
            "INFO flwr 2024-04-27 10:27:52,250 | server.py:88 | Evaluating initial parameters\n",
            "INFO flwr 2024-04-27 10:27:52,252 | server.py:101 | FL starting\n",
            "DEBUG flwr 2024-04-27 10:27:52,252 | server.py:218 | fit_round 1: strategy sampled 5 clients (out of 5)\n",
            "ERROR flwr 2024-04-27 10:28:01,599 | ray_client_proxy.py:87 | \u001b[36mray::launch_and_fit()\u001b[39m (pid=28080, ip=127.0.0.1)\n",
            "  File \"python\\ray\\_raylet.pyx\", line 640, in ray._raylet.execute_task\n",
            "  File \"python\\ray\\_raylet.pyx\", line 644, in ray._raylet.execute_task\n",
            "  File \"c:\\Users\\Admin\\anaconda3\\envs\\flwrpytorch\\lib\\site-packages\\flwr\\simulation\\ray_transport\\ray_client_proxy.py\", line 148, in launch_and_fit\n",
            "    return maybe_call_fit(\n",
            "  File \"c:\\Users\\Admin\\anaconda3\\envs\\flwrpytorch\\lib\\site-packages\\flwr\\client\\client.py\", line 184, in maybe_call_fit\n",
            "    return client.fit(fit_ins)\n",
            "  File \"c:\\Users\\Admin\\anaconda3\\envs\\flwrpytorch\\lib\\site-packages\\flwr\\client\\app.py\", line 297, in _fit\n",
            "    results = self.numpy_client.fit(parameters, ins.config)  # type: ignore\n",
            "  File \"C:\\Users\\Admin\\AppData\\Local\\Temp\\ipykernel_11608\\511400589.py\", line 15, in fit\n",
            "KeyError: 1\n",
            "ERROR flwr 2024-04-27 10:28:01,628 | ray_client_proxy.py:87 | \u001b[36mray::launch_and_fit()\u001b[39m (pid=23036, ip=127.0.0.1)\n",
            "  File \"python\\ray\\_raylet.pyx\", line 640, in ray._raylet.execute_task\n",
            "  File \"python\\ray\\_raylet.pyx\", line 644, in ray._raylet.execute_task\n",
            "  File \"c:\\Users\\Admin\\anaconda3\\envs\\flwrpytorch\\lib\\site-packages\\flwr\\simulation\\ray_transport\\ray_client_proxy.py\", line 148, in launch_and_fit\n",
            "    return maybe_call_fit(\n",
            "  File \"c:\\Users\\Admin\\anaconda3\\envs\\flwrpytorch\\lib\\site-packages\\flwr\\client\\client.py\", line 184, in maybe_call_fit\n",
            "    return client.fit(fit_ins)\n",
            "  File \"c:\\Users\\Admin\\anaconda3\\envs\\flwrpytorch\\lib\\site-packages\\flwr\\client\\app.py\", line 297, in _fit\n",
            "    results = self.numpy_client.fit(parameters, ins.config)  # type: ignore\n",
            "  File \"C:\\Users\\Admin\\AppData\\Local\\Temp\\ipykernel_11608\\511400589.py\", line 15, in fit\n",
            "KeyError: 1\n",
            "ERROR flwr 2024-04-27 10:28:01,641 | ray_client_proxy.py:87 | \u001b[36mray::launch_and_fit()\u001b[39m (pid=24556, ip=127.0.0.1)\n",
            "  File \"python\\ray\\_raylet.pyx\", line 640, in ray._raylet.execute_task\n",
            "  File \"python\\ray\\_raylet.pyx\", line 644, in ray._raylet.execute_task\n",
            "  File \"c:\\Users\\Admin\\anaconda3\\envs\\flwrpytorch\\lib\\site-packages\\flwr\\simulation\\ray_transport\\ray_client_proxy.py\", line 148, in launch_and_fit\n",
            "    return maybe_call_fit(\n",
            "  File \"c:\\Users\\Admin\\anaconda3\\envs\\flwrpytorch\\lib\\site-packages\\flwr\\client\\client.py\", line 184, in maybe_call_fit\n",
            "    return client.fit(fit_ins)\n",
            "  File \"c:\\Users\\Admin\\anaconda3\\envs\\flwrpytorch\\lib\\site-packages\\flwr\\client\\app.py\", line 297, in _fit\n",
            "    results = self.numpy_client.fit(parameters, ins.config)  # type: ignore\n",
            "  File \"C:\\Users\\Admin\\AppData\\Local\\Temp\\ipykernel_11608\\511400589.py\", line 15, in fit\n",
            "KeyError: 1\n"
          ]
        },
        {
          "name": "stdout",
          "output_type": "stream",
          "text": [
            " pid=28080)\u001b[0m [Client 2] fit, config: {'lr': 0.001, 'epoch': 2}\n",
            " pid=23036)\u001b[0m [Client 1] fit, config: {'lr': 0.001, 'epoch': 2}\n",
            " pid=24556)\u001b[0m [Client 3] fit, config: {'lr': 0.001, 'epoch': 2}\n"
          ]
        },
        {
          "name": "stderr",
          "output_type": "stream",
          "text": [
            "ERROR flwr 2024-04-27 10:28:01,886 | ray_client_proxy.py:87 | \u001b[36mray::launch_and_fit()\u001b[39m (pid=29316, ip=127.0.0.1)\n",
            "  File \"python\\ray\\_raylet.pyx\", line 640, in ray._raylet.execute_task\n",
            "  File \"python\\ray\\_raylet.pyx\", line 644, in ray._raylet.execute_task\n",
            "  File \"c:\\Users\\Admin\\anaconda3\\envs\\flwrpytorch\\lib\\site-packages\\flwr\\simulation\\ray_transport\\ray_client_proxy.py\", line 148, in launch_and_fit\n",
            "    return maybe_call_fit(\n",
            "  File \"c:\\Users\\Admin\\anaconda3\\envs\\flwrpytorch\\lib\\site-packages\\flwr\\client\\client.py\", line 184, in maybe_call_fit\n",
            "    return client.fit(fit_ins)\n",
            "  File \"c:\\Users\\Admin\\anaconda3\\envs\\flwrpytorch\\lib\\site-packages\\flwr\\client\\app.py\", line 297, in _fit\n",
            "    results = self.numpy_client.fit(parameters, ins.config)  # type: ignore\n",
            "  File \"C:\\Users\\Admin\\AppData\\Local\\Temp\\ipykernel_11608\\511400589.py\", line 15, in fit\n",
            "KeyError: 1\n",
            "ERROR flwr 2024-04-27 10:28:01,937 | ray_client_proxy.py:87 | \u001b[36mray::launch_and_fit()\u001b[39m (pid=20092, ip=127.0.0.1)\n",
            "  File \"python\\ray\\_raylet.pyx\", line 640, in ray._raylet.execute_task\n",
            "  File \"python\\ray\\_raylet.pyx\", line 644, in ray._raylet.execute_task\n",
            "  File \"c:\\Users\\Admin\\anaconda3\\envs\\flwrpytorch\\lib\\site-packages\\flwr\\simulation\\ray_transport\\ray_client_proxy.py\", line 148, in launch_and_fit\n",
            "    return maybe_call_fit(\n",
            "  File \"c:\\Users\\Admin\\anaconda3\\envs\\flwrpytorch\\lib\\site-packages\\flwr\\client\\client.py\", line 184, in maybe_call_fit\n",
            "    return client.fit(fit_ins)\n",
            "  File \"c:\\Users\\Admin\\anaconda3\\envs\\flwrpytorch\\lib\\site-packages\\flwr\\client\\app.py\", line 297, in _fit\n",
            "    results = self.numpy_client.fit(parameters, ins.config)  # type: ignore\n",
            "  File \"C:\\Users\\Admin\\AppData\\Local\\Temp\\ipykernel_11608\\511400589.py\", line 15, in fit\n",
            "KeyError: 1\n",
            "DEBUG flwr 2024-04-27 10:28:01,943 | server.py:232 | fit_round 1 received 0 results and 5 failures\n",
            "DEBUG flwr 2024-04-27 10:28:01,944 | server.py:168 | evaluate_round 1: strategy sampled 5 clients (out of 5)\n"
          ]
        },
        {
          "name": "stdout",
          "output_type": "stream",
          "text": [
            " pid=29316)\u001b[0m [Client 4] fit, config: {'lr': 0.001, 'epoch': 2}\n",
            " pid=20092)\u001b[0m [Client 0] fit, config: {'lr': 0.001, 'epoch': 2}\n"
          ]
        },
        {
          "name": "stderr",
          "output_type": "stream",
          "text": [
            "ERROR flwr 2024-04-27 10:28:08,785 | ray_client_proxy.py:104 | \u001b[36mray::launch_and_evaluate()\u001b[39m (pid=20092, ip=127.0.0.1)\n",
            "  File \"python\\ray\\_raylet.pyx\", line 640, in ray._raylet.execute_task\n",
            "  File \"python\\ray\\_raylet.pyx\", line 644, in ray._raylet.execute_task\n",
            "  File \"c:\\Users\\Admin\\anaconda3\\envs\\flwrpytorch\\lib\\site-packages\\flwr\\simulation\\ray_transport\\ray_client_proxy.py\", line 160, in launch_and_evaluate\n",
            "    return maybe_call_evaluate(\n",
            "  File \"c:\\Users\\Admin\\anaconda3\\envs\\flwrpytorch\\lib\\site-packages\\flwr\\client\\client.py\", line 205, in maybe_call_evaluate\n",
            "    return client.evaluate(evaluate_ins)\n",
            "  File \"c:\\Users\\Admin\\anaconda3\\envs\\flwrpytorch\\lib\\site-packages\\flwr\\client\\app.py\", line 321, in _evaluate\n",
            "    results = self.numpy_client.evaluate(parameters, ins.config)  # type: ignore\n",
            "  File \"C:\\Users\\Admin\\AppData\\Local\\Temp\\ipykernel_11608\\511400589.py\", line 20, in evaluate\n",
            "  File \"C:\\Users\\Admin\\AppData\\Local\\Temp\\ipykernel_11608\\1504573457.py\", line 28, in set_parameters\n",
            "  File \"c:\\Users\\Admin\\anaconda3\\envs\\flwrpytorch\\lib\\site-packages\\torch\\nn\\modules\\module.py\", line 1671, in load_state_dict\n",
            "    raise RuntimeError('Error(s) in loading state_dict for {}:\\n\\t{}'.format(\n",
            "RuntimeError: Error(s) in loading state_dict for Net:\n",
            "\tMissing key(s) in state_dict: \"conv1.weight\", \"conv1.bias\", \"conv2.weight\", \"conv2.bias\", \"fc1.weight\", \"fc1.bias\", \"fc2.weight\", \"fc2.bias\", \"fc3.weight\", \"fc3.bias\".\n",
            "ERROR flwr 2024-04-27 10:28:08,901 | ray_client_proxy.py:104 | \u001b[36mray::launch_and_evaluate()\u001b[39m (pid=29316, ip=127.0.0.1)\n",
            "  File \"python\\ray\\_raylet.pyx\", line 640, in ray._raylet.execute_task\n",
            "  File \"python\\ray\\_raylet.pyx\", line 644, in ray._raylet.execute_task\n",
            "  File \"c:\\Users\\Admin\\anaconda3\\envs\\flwrpytorch\\lib\\site-packages\\flwr\\simulation\\ray_transport\\ray_client_proxy.py\", line 160, in launch_and_evaluate\n",
            "    return maybe_call_evaluate(\n",
            "  File \"c:\\Users\\Admin\\anaconda3\\envs\\flwrpytorch\\lib\\site-packages\\flwr\\client\\client.py\", line 205, in maybe_call_evaluate\n",
            "    return client.evaluate(evaluate_ins)\n",
            "  File \"c:\\Users\\Admin\\anaconda3\\envs\\flwrpytorch\\lib\\site-packages\\flwr\\client\\app.py\", line 321, in _evaluate\n",
            "    results = self.numpy_client.evaluate(parameters, ins.config)  # type: ignore\n",
            "  File \"C:\\Users\\Admin\\AppData\\Local\\Temp\\ipykernel_11608\\511400589.py\", line 20, in evaluate\n",
            "  File \"C:\\Users\\Admin\\AppData\\Local\\Temp\\ipykernel_11608\\1504573457.py\", line 28, in set_parameters\n",
            "  File \"c:\\Users\\Admin\\anaconda3\\envs\\flwrpytorch\\lib\\site-packages\\torch\\nn\\modules\\module.py\", line 1671, in load_state_dict\n",
            "    raise RuntimeError('Error(s) in loading state_dict for {}:\\n\\t{}'.format(\n",
            "RuntimeError: Error(s) in loading state_dict for Net:\n",
            "\tMissing key(s) in state_dict: \"conv1.weight\", \"conv1.bias\", \"conv2.weight\", \"conv2.bias\", \"fc1.weight\", \"fc1.bias\", \"fc2.weight\", \"fc2.bias\", \"fc3.weight\", \"fc3.bias\".\n",
            "ERROR flwr 2024-04-27 10:28:09,034 | ray_client_proxy.py:104 | \u001b[36mray::launch_and_evaluate()\u001b[39m (pid=29316, ip=127.0.0.1)\n",
            "  File \"python\\ray\\_raylet.pyx\", line 640, in ray._raylet.execute_task\n",
            "  File \"python\\ray\\_raylet.pyx\", line 644, in ray._raylet.execute_task\n",
            "  File \"c:\\Users\\Admin\\anaconda3\\envs\\flwrpytorch\\lib\\site-packages\\flwr\\simulation\\ray_transport\\ray_client_proxy.py\", line 160, in launch_and_evaluate\n",
            "    return maybe_call_evaluate(\n",
            "  File \"c:\\Users\\Admin\\anaconda3\\envs\\flwrpytorch\\lib\\site-packages\\flwr\\client\\client.py\", line 205, in maybe_call_evaluate\n",
            "    return client.evaluate(evaluate_ins)\n",
            "  File \"c:\\Users\\Admin\\anaconda3\\envs\\flwrpytorch\\lib\\site-packages\\flwr\\client\\app.py\", line 321, in _evaluate\n",
            "    results = self.numpy_client.evaluate(parameters, ins.config)  # type: ignore\n",
            "  File \"C:\\Users\\Admin\\AppData\\Local\\Temp\\ipykernel_11608\\511400589.py\", line 20, in evaluate\n",
            "  File \"C:\\Users\\Admin\\AppData\\Local\\Temp\\ipykernel_11608\\1504573457.py\", line 28, in set_parameters\n",
            "  File \"c:\\Users\\Admin\\anaconda3\\envs\\flwrpytorch\\lib\\site-packages\\torch\\nn\\modules\\module.py\", line 1671, in load_state_dict\n",
            "    raise RuntimeError('Error(s) in loading state_dict for {}:\\n\\t{}'.format(\n",
            "RuntimeError: Error(s) in loading state_dict for Net:\n",
            "\tMissing key(s) in state_dict: \"conv1.weight\", \"conv1.bias\", \"conv2.weight\", \"conv2.bias\", \"fc1.weight\", \"fc1.bias\", \"fc2.weight\", \"fc2.bias\", \"fc3.weight\", \"fc3.bias\".\n",
            "ERROR flwr 2024-04-27 10:28:09,038 | ray_client_proxy.py:104 | \u001b[36mray::launch_and_evaluate()\u001b[39m (pid=20092, ip=127.0.0.1)\n",
            "  File \"python\\ray\\_raylet.pyx\", line 640, in ray._raylet.execute_task\n",
            "  File \"python\\ray\\_raylet.pyx\", line 644, in ray._raylet.execute_task\n",
            "  File \"c:\\Users\\Admin\\anaconda3\\envs\\flwrpytorch\\lib\\site-packages\\flwr\\simulation\\ray_transport\\ray_client_proxy.py\", line 160, in launch_and_evaluate\n",
            "    return maybe_call_evaluate(\n",
            "  File \"c:\\Users\\Admin\\anaconda3\\envs\\flwrpytorch\\lib\\site-packages\\flwr\\client\\client.py\", line 205, in maybe_call_evaluate\n",
            "    return client.evaluate(evaluate_ins)\n",
            "  File \"c:\\Users\\Admin\\anaconda3\\envs\\flwrpytorch\\lib\\site-packages\\flwr\\client\\app.py\", line 321, in _evaluate\n",
            "    results = self.numpy_client.evaluate(parameters, ins.config)  # type: ignore\n",
            "  File \"C:\\Users\\Admin\\AppData\\Local\\Temp\\ipykernel_11608\\511400589.py\", line 20, in evaluate\n",
            "  File \"C:\\Users\\Admin\\AppData\\Local\\Temp\\ipykernel_11608\\1504573457.py\", line 28, in set_parameters\n",
            "  File \"c:\\Users\\Admin\\anaconda3\\envs\\flwrpytorch\\lib\\site-packages\\torch\\nn\\modules\\module.py\", line 1671, in load_state_dict\n",
            "    raise RuntimeError('Error(s) in loading state_dict for {}:\\n\\t{}'.format(\n",
            "RuntimeError: Error(s) in loading state_dict for Net:\n",
            "\tMissing key(s) in state_dict: \"conv1.weight\", \"conv1.bias\", \"conv2.weight\", \"conv2.bias\", \"fc1.weight\", \"fc1.bias\", \"fc2.weight\", \"fc2.bias\", \"fc3.weight\", \"fc3.bias\".\n",
            "ERROR flwr 2024-04-27 10:28:09,088 | ray_client_proxy.py:104 | \u001b[36mray::launch_and_evaluate()\u001b[39m (pid=24556, ip=127.0.0.1)\n",
            "  File \"python\\ray\\_raylet.pyx\", line 640, in ray._raylet.execute_task\n",
            "  File \"python\\ray\\_raylet.pyx\", line 644, in ray._raylet.execute_task\n",
            "  File \"c:\\Users\\Admin\\anaconda3\\envs\\flwrpytorch\\lib\\site-packages\\flwr\\simulation\\ray_transport\\ray_client_proxy.py\", line 160, in launch_and_evaluate\n",
            "    return maybe_call_evaluate(\n",
            "  File \"c:\\Users\\Admin\\anaconda3\\envs\\flwrpytorch\\lib\\site-packages\\flwr\\client\\client.py\", line 205, in maybe_call_evaluate\n",
            "    return client.evaluate(evaluate_ins)\n",
            "  File \"c:\\Users\\Admin\\anaconda3\\envs\\flwrpytorch\\lib\\site-packages\\flwr\\client\\app.py\", line 321, in _evaluate\n",
            "    results = self.numpy_client.evaluate(parameters, ins.config)  # type: ignore\n",
            "  File \"C:\\Users\\Admin\\AppData\\Local\\Temp\\ipykernel_11608\\511400589.py\", line 20, in evaluate\n",
            "  File \"C:\\Users\\Admin\\AppData\\Local\\Temp\\ipykernel_11608\\1504573457.py\", line 28, in set_parameters\n",
            "  File \"c:\\Users\\Admin\\anaconda3\\envs\\flwrpytorch\\lib\\site-packages\\torch\\nn\\modules\\module.py\", line 1671, in load_state_dict\n",
            "    raise RuntimeError('Error(s) in loading state_dict for {}:\\n\\t{}'.format(\n",
            "RuntimeError: Error(s) in loading state_dict for Net:\n",
            "\tMissing key(s) in state_dict: \"conv1.weight\", \"conv1.bias\", \"conv2.weight\", \"conv2.bias\", \"fc1.weight\", \"fc1.bias\", \"fc2.weight\", \"fc2.bias\", \"fc3.weight\", \"fc3.bias\".\n",
            "DEBUG flwr 2024-04-27 10:28:09,093 | server.py:182 | evaluate_round 1 received 0 results and 5 failures\n",
            "DEBUG flwr 2024-04-27 10:28:09,095 | server.py:218 | fit_round 2: strategy sampled 5 clients (out of 5)\n"
          ]
        },
        {
          "name": "stdout",
          "output_type": "stream",
          "text": [
            " pid=29316)\u001b[0m [Client 1] evaluate, config: {'epoch': '2'}\n",
            " pid=20092)\u001b[0m [Client 2] evaluate, config: {'epoch': '2'}\n",
            " pid=29316)\u001b[0m [Client 0] evaluate, config: {'epoch': '2'}\n",
            " pid=20092)\u001b[0m [Client 4] evaluate, config: {'epoch': '2'}\n",
            " pid=24556)\u001b[0m [Client 3] evaluate, config: {'epoch': '2'}\n"
          ]
        },
        {
          "name": "stderr",
          "output_type": "stream",
          "text": [
            "ERROR flwr 2024-04-27 10:28:11,725 | ray_client_proxy.py:87 | \u001b[36mray::launch_and_fit()\u001b[39m (pid=24556, ip=127.0.0.1)\n",
            "  File \"python\\ray\\_raylet.pyx\", line 640, in ray._raylet.execute_task\n",
            "  File \"python\\ray\\_raylet.pyx\", line 644, in ray._raylet.execute_task\n",
            "  File \"c:\\Users\\Admin\\anaconda3\\envs\\flwrpytorch\\lib\\site-packages\\flwr\\simulation\\ray_transport\\ray_client_proxy.py\", line 148, in launch_and_fit\n",
            "    return maybe_call_fit(\n",
            "  File \"c:\\Users\\Admin\\anaconda3\\envs\\flwrpytorch\\lib\\site-packages\\flwr\\client\\client.py\", line 184, in maybe_call_fit\n",
            "    return client.fit(fit_ins)\n",
            "  File \"c:\\Users\\Admin\\anaconda3\\envs\\flwrpytorch\\lib\\site-packages\\flwr\\client\\app.py\", line 297, in _fit\n",
            "    results = self.numpy_client.fit(parameters, ins.config)  # type: ignore\n",
            "  File \"C:\\Users\\Admin\\AppData\\Local\\Temp\\ipykernel_11608\\511400589.py\", line 14, in fit\n",
            "  File \"C:\\Users\\Admin\\AppData\\Local\\Temp\\ipykernel_11608\\1504573457.py\", line 28, in set_parameters\n",
            "  File \"c:\\Users\\Admin\\anaconda3\\envs\\flwrpytorch\\lib\\site-packages\\torch\\nn\\modules\\module.py\", line 1671, in load_state_dict\n",
            "    raise RuntimeError('Error(s) in loading state_dict for {}:\\n\\t{}'.format(\n",
            "RuntimeError: Error(s) in loading state_dict for Net:\n",
            "\tMissing key(s) in state_dict: \"conv1.weight\", \"conv1.bias\", \"conv2.weight\", \"conv2.bias\", \"fc1.weight\", \"fc1.bias\", \"fc2.weight\", \"fc2.bias\", \"fc3.weight\", \"fc3.bias\".\n"
          ]
        },
        {
          "name": "stdout",
          "output_type": "stream",
          "text": [
            " pid=24556)\u001b[0m [Client 3] fit, config: {'lr': 0.001, 'epoch': 2}\n"
          ]
        },
        {
          "name": "stderr",
          "output_type": "stream",
          "text": [
            "ERROR flwr 2024-04-27 10:28:15,613 | ray_client_proxy.py:87 | \u001b[36mray::launch_and_fit()\u001b[39m (pid=24556, ip=127.0.0.1)\n",
            "  File \"python\\ray\\_raylet.pyx\", line 640, in ray._raylet.execute_task\n",
            "  File \"python\\ray\\_raylet.pyx\", line 644, in ray._raylet.execute_task\n",
            "  File \"c:\\Users\\Admin\\anaconda3\\envs\\flwrpytorch\\lib\\site-packages\\flwr\\simulation\\ray_transport\\ray_client_proxy.py\", line 148, in launch_and_fit\n",
            "    return maybe_call_fit(\n",
            "  File \"c:\\Users\\Admin\\anaconda3\\envs\\flwrpytorch\\lib\\site-packages\\flwr\\client\\client.py\", line 184, in maybe_call_fit\n",
            "    return client.fit(fit_ins)\n",
            "  File \"c:\\Users\\Admin\\anaconda3\\envs\\flwrpytorch\\lib\\site-packages\\flwr\\client\\app.py\", line 297, in _fit\n",
            "    results = self.numpy_client.fit(parameters, ins.config)  # type: ignore\n",
            "  File \"C:\\Users\\Admin\\AppData\\Local\\Temp\\ipykernel_11608\\511400589.py\", line 14, in fit\n",
            "  File \"C:\\Users\\Admin\\AppData\\Local\\Temp\\ipykernel_11608\\1504573457.py\", line 28, in set_parameters\n",
            "  File \"c:\\Users\\Admin\\anaconda3\\envs\\flwrpytorch\\lib\\site-packages\\torch\\nn\\modules\\module.py\", line 1671, in load_state_dict\n",
            "    raise RuntimeError('Error(s) in loading state_dict for {}:\\n\\t{}'.format(\n",
            "RuntimeError: Error(s) in loading state_dict for Net:\n",
            "\tMissing key(s) in state_dict: \"conv1.weight\", \"conv1.bias\", \"conv2.weight\", \"conv2.bias\", \"fc1.weight\", \"fc1.bias\", \"fc2.weight\", \"fc2.bias\", \"fc3.weight\", \"fc3.bias\".\n",
            "ERROR flwr 2024-04-27 10:28:15,826 | ray_client_proxy.py:87 | \u001b[36mray::launch_and_fit()\u001b[39m (pid=24556, ip=127.0.0.1)\n",
            "  File \"python\\ray\\_raylet.pyx\", line 640, in ray._raylet.execute_task\n",
            "  File \"python\\ray\\_raylet.pyx\", line 644, in ray._raylet.execute_task\n",
            "  File \"c:\\Users\\Admin\\anaconda3\\envs\\flwrpytorch\\lib\\site-packages\\flwr\\simulation\\ray_transport\\ray_client_proxy.py\", line 148, in launch_and_fit\n",
            "    return maybe_call_fit(\n",
            "  File \"c:\\Users\\Admin\\anaconda3\\envs\\flwrpytorch\\lib\\site-packages\\flwr\\client\\client.py\", line 184, in maybe_call_fit\n",
            "    return client.fit(fit_ins)\n",
            "  File \"c:\\Users\\Admin\\anaconda3\\envs\\flwrpytorch\\lib\\site-packages\\flwr\\client\\app.py\", line 297, in _fit\n",
            "    results = self.numpy_client.fit(parameters, ins.config)  # type: ignore\n",
            "  File \"C:\\Users\\Admin\\AppData\\Local\\Temp\\ipykernel_11608\\511400589.py\", line 14, in fit\n",
            "  File \"C:\\Users\\Admin\\AppData\\Local\\Temp\\ipykernel_11608\\1504573457.py\", line 28, in set_parameters\n",
            "  File \"c:\\Users\\Admin\\anaconda3\\envs\\flwrpytorch\\lib\\site-packages\\torch\\nn\\modules\\module.py\", line 1671, in load_state_dict\n",
            "    raise RuntimeError('Error(s) in loading state_dict for {}:\\n\\t{}'.format(\n",
            "RuntimeError: Error(s) in loading state_dict for Net:\n",
            "\tMissing key(s) in state_dict: \"conv1.weight\", \"conv1.bias\", \"conv2.weight\", \"conv2.bias\", \"fc1.weight\", \"fc1.bias\", \"fc2.weight\", \"fc2.bias\", \"fc3.weight\", \"fc3.bias\".\n",
            "ERROR flwr 2024-04-27 10:28:15,921 | ray_client_proxy.py:87 | \u001b[36mray::launch_and_fit()\u001b[39m (pid=20092, ip=127.0.0.1)\n",
            "  File \"python\\ray\\_raylet.pyx\", line 640, in ray._raylet.execute_task\n",
            "  File \"python\\ray\\_raylet.pyx\", line 644, in ray._raylet.execute_task\n",
            "  File \"c:\\Users\\Admin\\anaconda3\\envs\\flwrpytorch\\lib\\site-packages\\flwr\\simulation\\ray_transport\\ray_client_proxy.py\", line 148, in launch_and_fit\n",
            "    return maybe_call_fit(\n",
            "  File \"c:\\Users\\Admin\\anaconda3\\envs\\flwrpytorch\\lib\\site-packages\\flwr\\client\\client.py\", line 184, in maybe_call_fit\n",
            "    return client.fit(fit_ins)\n",
            "  File \"c:\\Users\\Admin\\anaconda3\\envs\\flwrpytorch\\lib\\site-packages\\flwr\\client\\app.py\", line 297, in _fit\n",
            "    results = self.numpy_client.fit(parameters, ins.config)  # type: ignore\n",
            "  File \"C:\\Users\\Admin\\AppData\\Local\\Temp\\ipykernel_11608\\511400589.py\", line 14, in fit\n",
            "  File \"C:\\Users\\Admin\\AppData\\Local\\Temp\\ipykernel_11608\\1504573457.py\", line 28, in set_parameters\n",
            "  File \"c:\\Users\\Admin\\anaconda3\\envs\\flwrpytorch\\lib\\site-packages\\torch\\nn\\modules\\module.py\", line 1671, in load_state_dict\n",
            "    raise RuntimeError('Error(s) in loading state_dict for {}:\\n\\t{}'.format(\n",
            "RuntimeError: Error(s) in loading state_dict for Net:\n",
            "\tMissing key(s) in state_dict: \"conv1.weight\", \"conv1.bias\", \"conv2.weight\", \"conv2.bias\", \"fc1.weight\", \"fc1.bias\", \"fc2.weight\", \"fc2.bias\", \"fc3.weight\", \"fc3.bias\".\n",
            "ERROR flwr 2024-04-27 10:28:15,930 | ray_client_proxy.py:87 | \u001b[36mray::launch_and_fit()\u001b[39m (pid=24556, ip=127.0.0.1)\n",
            "  File \"python\\ray\\_raylet.pyx\", line 640, in ray._raylet.execute_task\n",
            "  File \"python\\ray\\_raylet.pyx\", line 644, in ray._raylet.execute_task\n",
            "  File \"c:\\Users\\Admin\\anaconda3\\envs\\flwrpytorch\\lib\\site-packages\\flwr\\simulation\\ray_transport\\ray_client_proxy.py\", line 148, in launch_and_fit\n",
            "    return maybe_call_fit(\n",
            "  File \"c:\\Users\\Admin\\anaconda3\\envs\\flwrpytorch\\lib\\site-packages\\flwr\\client\\client.py\", line 184, in maybe_call_fit\n",
            "    return client.fit(fit_ins)\n",
            "  File \"c:\\Users\\Admin\\anaconda3\\envs\\flwrpytorch\\lib\\site-packages\\flwr\\client\\app.py\", line 297, in _fit\n",
            "    results = self.numpy_client.fit(parameters, ins.config)  # type: ignore\n",
            "  File \"C:\\Users\\Admin\\AppData\\Local\\Temp\\ipykernel_11608\\511400589.py\", line 14, in fit\n",
            "  File \"C:\\Users\\Admin\\AppData\\Local\\Temp\\ipykernel_11608\\1504573457.py\", line 28, in set_parameters\n",
            "  File \"c:\\Users\\Admin\\anaconda3\\envs\\flwrpytorch\\lib\\site-packages\\torch\\nn\\modules\\module.py\", line 1671, in load_state_dict\n",
            "    raise RuntimeError('Error(s) in loading state_dict for {}:\\n\\t{}'.format(\n",
            "RuntimeError: Error(s) in loading state_dict for Net:\n",
            "\tMissing key(s) in state_dict: \"conv1.weight\", \"conv1.bias\", \"conv2.weight\", \"conv2.bias\", \"fc1.weight\", \"fc1.bias\", \"fc2.weight\", \"fc2.bias\", \"fc3.weight\", \"fc3.bias\".\n",
            "DEBUG flwr 2024-04-27 10:28:15,937 | server.py:232 | fit_round 2 received 0 results and 5 failures\n",
            "DEBUG flwr 2024-04-27 10:28:15,940 | server.py:168 | evaluate_round 2: strategy sampled 5 clients (out of 5)\n"
          ]
        },
        {
          "name": "stdout",
          "output_type": "stream",
          "text": [
            " pid=24556)\u001b[0m [Client 2] fit, config: {'lr': 0.001, 'epoch': 2}\n",
            " pid=24556)\u001b[0m [Client 0] fit, config: {'lr': 0.001, 'epoch': 2}\n",
            " pid=24556)\u001b[0m [Client 1] fit, config: {'lr': 0.001, 'epoch': 2}\n"
          ]
        },
        {
          "name": "stderr",
          "output_type": "stream",
          "text": [
            "ERROR flwr 2024-04-27 10:28:22,867 | ray_client_proxy.py:104 | \u001b[36mray::launch_and_evaluate()\u001b[39m (pid=24556, ip=127.0.0.1)\n",
            "  File \"python\\ray\\_raylet.pyx\", line 640, in ray._raylet.execute_task\n",
            "  File \"python\\ray\\_raylet.pyx\", line 644, in ray._raylet.execute_task\n",
            "  File \"c:\\Users\\Admin\\anaconda3\\envs\\flwrpytorch\\lib\\site-packages\\flwr\\simulation\\ray_transport\\ray_client_proxy.py\", line 160, in launch_and_evaluate\n",
            "    return maybe_call_evaluate(\n",
            "  File \"c:\\Users\\Admin\\anaconda3\\envs\\flwrpytorch\\lib\\site-packages\\flwr\\client\\client.py\", line 205, in maybe_call_evaluate\n",
            "    return client.evaluate(evaluate_ins)\n",
            "  File \"c:\\Users\\Admin\\anaconda3\\envs\\flwrpytorch\\lib\\site-packages\\flwr\\client\\app.py\", line 321, in _evaluate\n",
            "    results = self.numpy_client.evaluate(parameters, ins.config)  # type: ignore\n",
            "  File \"C:\\Users\\Admin\\AppData\\Local\\Temp\\ipykernel_11608\\511400589.py\", line 20, in evaluate\n",
            "  File \"C:\\Users\\Admin\\AppData\\Local\\Temp\\ipykernel_11608\\1504573457.py\", line 28, in set_parameters\n",
            "  File \"c:\\Users\\Admin\\anaconda3\\envs\\flwrpytorch\\lib\\site-packages\\torch\\nn\\modules\\module.py\", line 1671, in load_state_dict\n",
            "    raise RuntimeError('Error(s) in loading state_dict for {}:\\n\\t{}'.format(\n",
            "RuntimeError: Error(s) in loading state_dict for Net:\n",
            "\tMissing key(s) in state_dict: \"conv1.weight\", \"conv1.bias\", \"conv2.weight\", \"conv2.bias\", \"fc1.weight\", \"fc1.bias\", \"fc2.weight\", \"fc2.bias\", \"fc3.weight\", \"fc3.bias\".\n",
            "ERROR flwr 2024-04-27 10:28:23,003 | ray_client_proxy.py:104 | \u001b[36mray::launch_and_evaluate()\u001b[39m (pid=24556, ip=127.0.0.1)\n",
            "  File \"python\\ray\\_raylet.pyx\", line 640, in ray._raylet.execute_task\n",
            "  File \"python\\ray\\_raylet.pyx\", line 644, in ray._raylet.execute_task\n",
            "  File \"c:\\Users\\Admin\\anaconda3\\envs\\flwrpytorch\\lib\\site-packages\\flwr\\simulation\\ray_transport\\ray_client_proxy.py\", line 160, in launch_and_evaluate\n",
            "    return maybe_call_evaluate(\n",
            "  File \"c:\\Users\\Admin\\anaconda3\\envs\\flwrpytorch\\lib\\site-packages\\flwr\\client\\client.py\", line 205, in maybe_call_evaluate\n",
            "    return client.evaluate(evaluate_ins)\n",
            "  File \"c:\\Users\\Admin\\anaconda3\\envs\\flwrpytorch\\lib\\site-packages\\flwr\\client\\app.py\", line 321, in _evaluate\n",
            "    results = self.numpy_client.evaluate(parameters, ins.config)  # type: ignore\n",
            "  File \"C:\\Users\\Admin\\AppData\\Local\\Temp\\ipykernel_11608\\511400589.py\", line 20, in evaluate\n",
            "  File \"C:\\Users\\Admin\\AppData\\Local\\Temp\\ipykernel_11608\\1504573457.py\", line 28, in set_parameters\n",
            "  File \"c:\\Users\\Admin\\anaconda3\\envs\\flwrpytorch\\lib\\site-packages\\torch\\nn\\modules\\module.py\", line 1671, in load_state_dict\n",
            "    raise RuntimeError('Error(s) in loading state_dict for {}:\\n\\t{}'.format(\n",
            "RuntimeError: Error(s) in loading state_dict for Net:\n",
            "\tMissing key(s) in state_dict: \"conv1.weight\", \"conv1.bias\", \"conv2.weight\", \"conv2.bias\", \"fc1.weight\", \"fc1.bias\", \"fc2.weight\", \"fc2.bias\", \"fc3.weight\", \"fc3.bias\".\n",
            "ERROR flwr 2024-04-27 10:28:23,105 | ray_client_proxy.py:104 | \u001b[36mray::launch_and_evaluate()\u001b[39m (pid=20092, ip=127.0.0.1)\n",
            "  File \"python\\ray\\_raylet.pyx\", line 640, in ray._raylet.execute_task\n",
            "  File \"python\\ray\\_raylet.pyx\", line 644, in ray._raylet.execute_task\n",
            "  File \"c:\\Users\\Admin\\anaconda3\\envs\\flwrpytorch\\lib\\site-packages\\flwr\\simulation\\ray_transport\\ray_client_proxy.py\", line 160, in launch_and_evaluate\n",
            "    return maybe_call_evaluate(\n",
            "  File \"c:\\Users\\Admin\\anaconda3\\envs\\flwrpytorch\\lib\\site-packages\\flwr\\client\\client.py\", line 205, in maybe_call_evaluate\n",
            "    return client.evaluate(evaluate_ins)\n",
            "  File \"c:\\Users\\Admin\\anaconda3\\envs\\flwrpytorch\\lib\\site-packages\\flwr\\client\\app.py\", line 321, in _evaluate\n",
            "    results = self.numpy_client.evaluate(parameters, ins.config)  # type: ignore\n",
            "  File \"C:\\Users\\Admin\\AppData\\Local\\Temp\\ipykernel_11608\\511400589.py\", line 20, in evaluate\n",
            "  File \"C:\\Users\\Admin\\AppData\\Local\\Temp\\ipykernel_11608\\1504573457.py\", line 28, in set_parameters\n",
            "  File \"c:\\Users\\Admin\\anaconda3\\envs\\flwrpytorch\\lib\\site-packages\\torch\\nn\\modules\\module.py\", line 1671, in load_state_dict\n",
            "    raise RuntimeError('Error(s) in loading state_dict for {}:\\n\\t{}'.format(\n",
            "RuntimeError: Error(s) in loading state_dict for Net:\n",
            "\tMissing key(s) in state_dict: \"conv1.weight\", \"conv1.bias\", \"conv2.weight\", \"conv2.bias\", \"fc1.weight\", \"fc1.bias\", \"fc2.weight\", \"fc2.bias\", \"fc3.weight\", \"fc3.bias\".\n",
            "ERROR flwr 2024-04-27 10:28:23,121 | ray_client_proxy.py:104 | \u001b[36mray::launch_and_evaluate()\u001b[39m (pid=24556, ip=127.0.0.1)\n",
            "  File \"python\\ray\\_raylet.pyx\", line 640, in ray._raylet.execute_task\n",
            "  File \"python\\ray\\_raylet.pyx\", line 644, in ray._raylet.execute_task\n",
            "  File \"c:\\Users\\Admin\\anaconda3\\envs\\flwrpytorch\\lib\\site-packages\\flwr\\simulation\\ray_transport\\ray_client_proxy.py\", line 160, in launch_and_evaluate\n",
            "    return maybe_call_evaluate(\n",
            "  File \"c:\\Users\\Admin\\anaconda3\\envs\\flwrpytorch\\lib\\site-packages\\flwr\\client\\client.py\", line 205, in maybe_call_evaluate\n",
            "    return client.evaluate(evaluate_ins)\n",
            "  File \"c:\\Users\\Admin\\anaconda3\\envs\\flwrpytorch\\lib\\site-packages\\flwr\\client\\app.py\", line 321, in _evaluate\n",
            "    results = self.numpy_client.evaluate(parameters, ins.config)  # type: ignore\n",
            "  File \"C:\\Users\\Admin\\AppData\\Local\\Temp\\ipykernel_11608\\511400589.py\", line 20, in evaluate\n",
            "  File \"C:\\Users\\Admin\\AppData\\Local\\Temp\\ipykernel_11608\\1504573457.py\", line 28, in set_parameters\n",
            "  File \"c:\\Users\\Admin\\anaconda3\\envs\\flwrpytorch\\lib\\site-packages\\torch\\nn\\modules\\module.py\", line 1671, in load_state_dict\n",
            "    raise RuntimeError('Error(s) in loading state_dict for {}:\\n\\t{}'.format(\n",
            "RuntimeError: Error(s) in loading state_dict for Net:\n",
            "\tMissing key(s) in state_dict: \"conv1.weight\", \"conv1.bias\", \"conv2.weight\", \"conv2.bias\", \"fc1.weight\", \"fc1.bias\", \"fc2.weight\", \"fc2.bias\", \"fc3.weight\", \"fc3.bias\".\n",
            "ERROR flwr 2024-04-27 10:28:23,166 | ray_client_proxy.py:104 | \u001b[36mray::launch_and_evaluate()\u001b[39m (pid=29316, ip=127.0.0.1)\n",
            "  File \"python\\ray\\_raylet.pyx\", line 640, in ray._raylet.execute_task\n",
            "  File \"python\\ray\\_raylet.pyx\", line 644, in ray._raylet.execute_task\n",
            "  File \"c:\\Users\\Admin\\anaconda3\\envs\\flwrpytorch\\lib\\site-packages\\flwr\\simulation\\ray_transport\\ray_client_proxy.py\", line 160, in launch_and_evaluate\n",
            "    return maybe_call_evaluate(\n",
            "  File \"c:\\Users\\Admin\\anaconda3\\envs\\flwrpytorch\\lib\\site-packages\\flwr\\client\\client.py\", line 205, in maybe_call_evaluate\n",
            "    return client.evaluate(evaluate_ins)\n",
            "  File \"c:\\Users\\Admin\\anaconda3\\envs\\flwrpytorch\\lib\\site-packages\\flwr\\client\\app.py\", line 321, in _evaluate\n",
            "    results = self.numpy_client.evaluate(parameters, ins.config)  # type: ignore\n",
            "  File \"C:\\Users\\Admin\\AppData\\Local\\Temp\\ipykernel_11608\\511400589.py\", line 20, in evaluate\n",
            "  File \"C:\\Users\\Admin\\AppData\\Local\\Temp\\ipykernel_11608\\1504573457.py\", line 28, in set_parameters\n",
            "  File \"c:\\Users\\Admin\\anaconda3\\envs\\flwrpytorch\\lib\\site-packages\\torch\\nn\\modules\\module.py\", line 1671, in load_state_dict\n",
            "    raise RuntimeError('Error(s) in loading state_dict for {}:\\n\\t{}'.format(\n",
            "RuntimeError: Error(s) in loading state_dict for Net:\n",
            "\tMissing key(s) in state_dict: \"conv1.weight\", \"conv1.bias\", \"conv2.weight\", \"conv2.bias\", \"fc1.weight\", \"fc1.bias\", \"fc2.weight\", \"fc2.bias\", \"fc3.weight\", \"fc3.bias\".\n"
          ]
        },
        {
          "name": "stdout",
          "output_type": "stream",
          "text": [
            " pid=20092)\u001b[0m [Client 4] fit, config: {'lr': 0.001, 'epoch': 2}\n",
            " pid=24556)\u001b[0m [Client 3] evaluate, config: {'epoch': '2'}\n",
            " pid=24556)\u001b[0m [Client 4] evaluate, config: {'epoch': '2'}\n",
            " pid=24556)\u001b[0m [Client 1] evaluate, config: {'epoch': '2'}\n",
            " pid=29316)\u001b[0m [Client 0] evaluate, config: {'epoch': '2'}\n",
            " pid=20092)\u001b[0m [Client 2] evaluate, config: {'epoch': '2'}\n"
          ]
        },
        {
          "ename": "KeyboardInterrupt",
          "evalue": "",
          "output_type": "error",
          "traceback": [
            "\u001b[1;31m---------------------------------------------------------------------------\u001b[0m",
            "\u001b[1;31mKeyboardInterrupt\u001b[0m                         Traceback (most recent call last)",
            "Cell \u001b[1;32mIn[44], line 1\u001b[0m\n\u001b[1;32m----> 1\u001b[0m \u001b[43mfl\u001b[49m\u001b[38;5;241;43m.\u001b[39;49m\u001b[43msimulation\u001b[49m\u001b[38;5;241;43m.\u001b[39;49m\u001b[43mstart_simulation\u001b[49m\u001b[43m(\u001b[49m\n\u001b[0;32m      2\u001b[0m \u001b[43m    \u001b[49m\u001b[43mclient_fn\u001b[49m\u001b[38;5;241;43m=\u001b[39;49m\u001b[43mclient_fn\u001b[49m\u001b[43m,\u001b[49m\n\u001b[0;32m      3\u001b[0m \u001b[43m    \u001b[49m\u001b[43mnum_clients\u001b[49m\u001b[38;5;241;43m=\u001b[39;49m\u001b[38;5;241;43m5\u001b[39;49m\u001b[43m,\u001b[49m\n\u001b[0;32m      4\u001b[0m \u001b[43m    \u001b[49m\u001b[43mconfig\u001b[49m\u001b[38;5;241;43m=\u001b[39;49m\u001b[43mfl\u001b[49m\u001b[38;5;241;43m.\u001b[39;49m\u001b[43mserver\u001b[49m\u001b[38;5;241;43m.\u001b[39;49m\u001b[43mServerConfig\u001b[49m\u001b[43m(\u001b[49m\u001b[43mnum_rounds\u001b[49m\u001b[38;5;241;43m=\u001b[39;49m\u001b[38;5;241;43m10\u001b[39;49m\u001b[43m)\u001b[49m\u001b[43m,\u001b[49m\n\u001b[0;32m      5\u001b[0m \u001b[43m    \u001b[49m\u001b[43mstrategy\u001b[49m\u001b[38;5;241;43m=\u001b[39;49m\u001b[43mFedCustom\u001b[49m\u001b[43m(\u001b[49m\u001b[43m)\u001b[49m\u001b[43m,\u001b[49m\u001b[43m  \u001b[49m\u001b[38;5;66;43;03m# <-- pass the new strategy here\u001b[39;49;00m\n\u001b[0;32m      6\u001b[0m \u001b[43m    \u001b[49m\u001b[43mclient_resources\u001b[49m\u001b[38;5;241;43m=\u001b[39;49m\u001b[43mclient_resources\u001b[49m\u001b[43m,\u001b[49m\n\u001b[0;32m      7\u001b[0m \u001b[43m)\u001b[49m\n",
            "File \u001b[1;32mc:\\Users\\Admin\\anaconda3\\envs\\flwrpytorch\\lib\\site-packages\\flwr\\simulation\\app.py:197\u001b[0m, in \u001b[0;36mstart_simulation\u001b[1;34m(client_fn, num_clients, clients_ids, client_resources, server, config, strategy, client_manager, ray_init_args, keep_initialised)\u001b[0m\n\u001b[0;32m    194\u001b[0m     initialized_server\u001b[38;5;241m.\u001b[39mclient_manager()\u001b[38;5;241m.\u001b[39mregister(client\u001b[38;5;241m=\u001b[39mclient_proxy)\n\u001b[0;32m    196\u001b[0m \u001b[38;5;66;03m# Start training\u001b[39;00m\n\u001b[1;32m--> 197\u001b[0m hist \u001b[38;5;241m=\u001b[39m \u001b[43m_fl\u001b[49m\u001b[43m(\u001b[49m\n\u001b[0;32m    198\u001b[0m \u001b[43m    \u001b[49m\u001b[43mserver\u001b[49m\u001b[38;5;241;43m=\u001b[39;49m\u001b[43minitialized_server\u001b[49m\u001b[43m,\u001b[49m\n\u001b[0;32m    199\u001b[0m \u001b[43m    \u001b[49m\u001b[43mconfig\u001b[49m\u001b[38;5;241;43m=\u001b[39;49m\u001b[43minitialized_config\u001b[49m\u001b[43m,\u001b[49m\n\u001b[0;32m    200\u001b[0m \u001b[43m\u001b[49m\u001b[43m)\u001b[49m\n\u001b[0;32m    202\u001b[0m event(EventType\u001b[38;5;241m.\u001b[39mSTART_SIMULATION_LEAVE)\n\u001b[0;32m    204\u001b[0m \u001b[38;5;28;01mreturn\u001b[39;00m hist\n",
            "File \u001b[1;32mc:\\Users\\Admin\\anaconda3\\envs\\flwrpytorch\\lib\\site-packages\\flwr\\server\\app.py:217\u001b[0m, in \u001b[0;36m_fl\u001b[1;34m(server, config)\u001b[0m\n\u001b[0;32m    212\u001b[0m \u001b[38;5;28;01mdef\u001b[39;00m \u001b[38;5;21m_fl\u001b[39m(\n\u001b[0;32m    213\u001b[0m     server: Server,\n\u001b[0;32m    214\u001b[0m     config: ServerConfig,\n\u001b[0;32m    215\u001b[0m ) \u001b[38;5;241m-\u001b[39m\u001b[38;5;241m>\u001b[39m History:\n\u001b[0;32m    216\u001b[0m     \u001b[38;5;66;03m# Fit model\u001b[39;00m\n\u001b[1;32m--> 217\u001b[0m     hist \u001b[38;5;241m=\u001b[39m \u001b[43mserver\u001b[49m\u001b[38;5;241;43m.\u001b[39;49m\u001b[43mfit\u001b[49m\u001b[43m(\u001b[49m\u001b[43mnum_rounds\u001b[49m\u001b[38;5;241;43m=\u001b[39;49m\u001b[43mconfig\u001b[49m\u001b[38;5;241;43m.\u001b[39;49m\u001b[43mnum_rounds\u001b[49m\u001b[43m,\u001b[49m\u001b[43m \u001b[49m\u001b[43mtimeout\u001b[49m\u001b[38;5;241;43m=\u001b[39;49m\u001b[43mconfig\u001b[49m\u001b[38;5;241;43m.\u001b[39;49m\u001b[43mround_timeout\u001b[49m\u001b[43m)\u001b[49m\n\u001b[0;32m    218\u001b[0m     log(INFO, \u001b[38;5;124m\"\u001b[39m\u001b[38;5;124mapp_fit: losses_distributed \u001b[39m\u001b[38;5;132;01m%s\u001b[39;00m\u001b[38;5;124m\"\u001b[39m, \u001b[38;5;28mstr\u001b[39m(hist\u001b[38;5;241m.\u001b[39mlosses_distributed))\n\u001b[0;32m    219\u001b[0m     log(INFO, \u001b[38;5;124m\"\u001b[39m\u001b[38;5;124mapp_fit: metrics_distributed_fit \u001b[39m\u001b[38;5;132;01m%s\u001b[39;00m\u001b[38;5;124m\"\u001b[39m, \u001b[38;5;28mstr\u001b[39m(hist\u001b[38;5;241m.\u001b[39mmetrics_distributed_fit))\n",
            "File \u001b[1;32mc:\\Users\\Admin\\anaconda3\\envs\\flwrpytorch\\lib\\site-packages\\flwr\\server\\server.py:133\u001b[0m, in \u001b[0;36mServer.fit\u001b[1;34m(self, num_rounds, timeout)\u001b[0m\n\u001b[0;32m    128\u001b[0m     history\u001b[38;5;241m.\u001b[39madd_metrics_centralized(\n\u001b[0;32m    129\u001b[0m         server_round\u001b[38;5;241m=\u001b[39mcurrent_round, metrics\u001b[38;5;241m=\u001b[39mmetrics_cen\n\u001b[0;32m    130\u001b[0m     )\n\u001b[0;32m    132\u001b[0m \u001b[38;5;66;03m# Evaluate model on a sample of available clients\u001b[39;00m\n\u001b[1;32m--> 133\u001b[0m res_fed \u001b[38;5;241m=\u001b[39m \u001b[38;5;28;43mself\u001b[39;49m\u001b[38;5;241;43m.\u001b[39;49m\u001b[43mevaluate_round\u001b[49m\u001b[43m(\u001b[49m\u001b[43mserver_round\u001b[49m\u001b[38;5;241;43m=\u001b[39;49m\u001b[43mcurrent_round\u001b[49m\u001b[43m,\u001b[49m\u001b[43m \u001b[49m\u001b[43mtimeout\u001b[49m\u001b[38;5;241;43m=\u001b[39;49m\u001b[43mtimeout\u001b[49m\u001b[43m)\u001b[49m\n\u001b[0;32m    134\u001b[0m \u001b[38;5;28;01mif\u001b[39;00m res_fed:\n\u001b[0;32m    135\u001b[0m     loss_fed, evaluate_metrics_fed, _ \u001b[38;5;241m=\u001b[39m res_fed\n",
            "File \u001b[1;32mc:\\Users\\Admin\\anaconda3\\envs\\flwrpytorch\\lib\\site-packages\\flwr\\server\\server.py:177\u001b[0m, in \u001b[0;36mServer.evaluate_round\u001b[1;34m(self, server_round, timeout)\u001b[0m\n\u001b[0;32m    168\u001b[0m log(\n\u001b[0;32m    169\u001b[0m     DEBUG,\n\u001b[0;32m    170\u001b[0m     \u001b[38;5;124m\"\u001b[39m\u001b[38;5;124mevaluate_round \u001b[39m\u001b[38;5;132;01m%s\u001b[39;00m\u001b[38;5;124m: strategy sampled \u001b[39m\u001b[38;5;132;01m%s\u001b[39;00m\u001b[38;5;124m clients (out of \u001b[39m\u001b[38;5;132;01m%s\u001b[39;00m\u001b[38;5;124m)\u001b[39m\u001b[38;5;124m\"\u001b[39m,\n\u001b[1;32m   (...)\u001b[0m\n\u001b[0;32m    173\u001b[0m     \u001b[38;5;28mself\u001b[39m\u001b[38;5;241m.\u001b[39m_client_manager\u001b[38;5;241m.\u001b[39mnum_available(),\n\u001b[0;32m    174\u001b[0m )\n\u001b[0;32m    176\u001b[0m \u001b[38;5;66;03m# Collect `evaluate` results from all clients participating in this round\u001b[39;00m\n\u001b[1;32m--> 177\u001b[0m results, failures \u001b[38;5;241m=\u001b[39m \u001b[43mevaluate_clients\u001b[49m\u001b[43m(\u001b[49m\n\u001b[0;32m    178\u001b[0m \u001b[43m    \u001b[49m\u001b[43mclient_instructions\u001b[49m\u001b[43m,\u001b[49m\n\u001b[0;32m    179\u001b[0m \u001b[43m    \u001b[49m\u001b[43mmax_workers\u001b[49m\u001b[38;5;241;43m=\u001b[39;49m\u001b[38;5;28;43mself\u001b[39;49m\u001b[38;5;241;43m.\u001b[39;49m\u001b[43mmax_workers\u001b[49m\u001b[43m,\u001b[49m\n\u001b[0;32m    180\u001b[0m \u001b[43m    \u001b[49m\u001b[43mtimeout\u001b[49m\u001b[38;5;241;43m=\u001b[39;49m\u001b[43mtimeout\u001b[49m\u001b[43m,\u001b[49m\n\u001b[0;32m    181\u001b[0m \u001b[43m\u001b[49m\u001b[43m)\u001b[49m\n\u001b[0;32m    182\u001b[0m log(\n\u001b[0;32m    183\u001b[0m     DEBUG,\n\u001b[0;32m    184\u001b[0m     \u001b[38;5;124m\"\u001b[39m\u001b[38;5;124mevaluate_round \u001b[39m\u001b[38;5;132;01m%s\u001b[39;00m\u001b[38;5;124m received \u001b[39m\u001b[38;5;132;01m%s\u001b[39;00m\u001b[38;5;124m results and \u001b[39m\u001b[38;5;132;01m%s\u001b[39;00m\u001b[38;5;124m failures\u001b[39m\u001b[38;5;124m\"\u001b[39m,\n\u001b[1;32m   (...)\u001b[0m\n\u001b[0;32m    187\u001b[0m     \u001b[38;5;28mlen\u001b[39m(failures),\n\u001b[0;32m    188\u001b[0m )\n\u001b[0;32m    190\u001b[0m \u001b[38;5;66;03m# Aggregate the evaluation results\u001b[39;00m\n",
            "File \u001b[1;32mc:\\Users\\Admin\\anaconda3\\envs\\flwrpytorch\\lib\\site-packages\\flwr\\server\\server.py:390\u001b[0m, in \u001b[0;36mevaluate_clients\u001b[1;34m(client_instructions, max_workers, timeout)\u001b[0m\n\u001b[0;32m    388\u001b[0m \u001b[38;5;250m\u001b[39m\u001b[38;5;124;03m\"\"\"Evaluate parameters concurrently on all selected clients.\"\"\"\u001b[39;00m\n\u001b[0;32m    389\u001b[0m \u001b[38;5;28;01mwith\u001b[39;00m concurrent\u001b[38;5;241m.\u001b[39mfutures\u001b[38;5;241m.\u001b[39mThreadPoolExecutor(max_workers\u001b[38;5;241m=\u001b[39mmax_workers) \u001b[38;5;28;01mas\u001b[39;00m executor:\n\u001b[1;32m--> 390\u001b[0m     submitted_fs \u001b[38;5;241m=\u001b[39m {\n\u001b[0;32m    391\u001b[0m         executor\u001b[38;5;241m.\u001b[39msubmit(evaluate_client, client_proxy, ins, timeout)\n\u001b[0;32m    392\u001b[0m         \u001b[38;5;28;01mfor\u001b[39;00m client_proxy, ins \u001b[38;5;129;01min\u001b[39;00m client_instructions\n\u001b[0;32m    393\u001b[0m     }\n\u001b[0;32m    394\u001b[0m     finished_fs, _ \u001b[38;5;241m=\u001b[39m concurrent\u001b[38;5;241m.\u001b[39mfutures\u001b[38;5;241m.\u001b[39mwait(\n\u001b[0;32m    395\u001b[0m         fs\u001b[38;5;241m=\u001b[39msubmitted_fs,\n\u001b[0;32m    396\u001b[0m         timeout\u001b[38;5;241m=\u001b[39m\u001b[38;5;28;01mNone\u001b[39;00m,  \u001b[38;5;66;03m# Handled in the respective communication stack\u001b[39;00m\n\u001b[0;32m    397\u001b[0m     )\n\u001b[0;32m    399\u001b[0m \u001b[38;5;66;03m# Gather results\u001b[39;00m\n",
            "File \u001b[1;32mc:\\Users\\Admin\\anaconda3\\envs\\flwrpytorch\\lib\\site-packages\\flwr\\server\\server.py:391\u001b[0m, in \u001b[0;36m<setcomp>\u001b[1;34m(.0)\u001b[0m\n\u001b[0;32m    388\u001b[0m \u001b[38;5;250m\u001b[39m\u001b[38;5;124;03m\"\"\"Evaluate parameters concurrently on all selected clients.\"\"\"\u001b[39;00m\n\u001b[0;32m    389\u001b[0m \u001b[38;5;28;01mwith\u001b[39;00m concurrent\u001b[38;5;241m.\u001b[39mfutures\u001b[38;5;241m.\u001b[39mThreadPoolExecutor(max_workers\u001b[38;5;241m=\u001b[39mmax_workers) \u001b[38;5;28;01mas\u001b[39;00m executor:\n\u001b[0;32m    390\u001b[0m     submitted_fs \u001b[38;5;241m=\u001b[39m {\n\u001b[1;32m--> 391\u001b[0m         \u001b[43mexecutor\u001b[49m\u001b[38;5;241;43m.\u001b[39;49m\u001b[43msubmit\u001b[49m\u001b[43m(\u001b[49m\u001b[43mevaluate_client\u001b[49m\u001b[43m,\u001b[49m\u001b[43m \u001b[49m\u001b[43mclient_proxy\u001b[49m\u001b[43m,\u001b[49m\u001b[43m \u001b[49m\u001b[43mins\u001b[49m\u001b[43m,\u001b[49m\u001b[43m \u001b[49m\u001b[43mtimeout\u001b[49m\u001b[43m)\u001b[49m\n\u001b[0;32m    392\u001b[0m         \u001b[38;5;28;01mfor\u001b[39;00m client_proxy, ins \u001b[38;5;129;01min\u001b[39;00m client_instructions\n\u001b[0;32m    393\u001b[0m     }\n\u001b[0;32m    394\u001b[0m     finished_fs, _ \u001b[38;5;241m=\u001b[39m concurrent\u001b[38;5;241m.\u001b[39mfutures\u001b[38;5;241m.\u001b[39mwait(\n\u001b[0;32m    395\u001b[0m         fs\u001b[38;5;241m=\u001b[39msubmitted_fs,\n\u001b[0;32m    396\u001b[0m         timeout\u001b[38;5;241m=\u001b[39m\u001b[38;5;28;01mNone\u001b[39;00m,  \u001b[38;5;66;03m# Handled in the respective communication stack\u001b[39;00m\n\u001b[0;32m    397\u001b[0m     )\n\u001b[0;32m    399\u001b[0m \u001b[38;5;66;03m# Gather results\u001b[39;00m\n",
            "File \u001b[1;32mc:\\Users\\Admin\\anaconda3\\envs\\flwrpytorch\\lib\\concurrent\\futures\\thread.py:188\u001b[0m, in \u001b[0;36mThreadPoolExecutor.submit\u001b[1;34m(*args, **kwargs)\u001b[0m\n\u001b[0;32m    185\u001b[0m w \u001b[38;5;241m=\u001b[39m _WorkItem(f, fn, args, kwargs)\n\u001b[0;32m    187\u001b[0m \u001b[38;5;28mself\u001b[39m\u001b[38;5;241m.\u001b[39m_work_queue\u001b[38;5;241m.\u001b[39mput(w)\n\u001b[1;32m--> 188\u001b[0m \u001b[38;5;28;43mself\u001b[39;49m\u001b[38;5;241;43m.\u001b[39;49m\u001b[43m_adjust_thread_count\u001b[49m\u001b[43m(\u001b[49m\u001b[43m)\u001b[49m\n\u001b[0;32m    189\u001b[0m \u001b[38;5;28;01mreturn\u001b[39;00m f\n",
            "File \u001b[1;32mc:\\Users\\Admin\\anaconda3\\envs\\flwrpytorch\\lib\\concurrent\\futures\\thread.py:213\u001b[0m, in \u001b[0;36mThreadPoolExecutor._adjust_thread_count\u001b[1;34m(self)\u001b[0m\n\u001b[0;32m    207\u001b[0m t \u001b[38;5;241m=\u001b[39m threading\u001b[38;5;241m.\u001b[39mThread(name\u001b[38;5;241m=\u001b[39mthread_name, target\u001b[38;5;241m=\u001b[39m_worker,\n\u001b[0;32m    208\u001b[0m                      args\u001b[38;5;241m=\u001b[39m(weakref\u001b[38;5;241m.\u001b[39mref(\u001b[38;5;28mself\u001b[39m, weakref_cb),\n\u001b[0;32m    209\u001b[0m                            \u001b[38;5;28mself\u001b[39m\u001b[38;5;241m.\u001b[39m_work_queue,\n\u001b[0;32m    210\u001b[0m                            \u001b[38;5;28mself\u001b[39m\u001b[38;5;241m.\u001b[39m_initializer,\n\u001b[0;32m    211\u001b[0m                            \u001b[38;5;28mself\u001b[39m\u001b[38;5;241m.\u001b[39m_initargs))\n\u001b[0;32m    212\u001b[0m t\u001b[38;5;241m.\u001b[39mdaemon \u001b[38;5;241m=\u001b[39m \u001b[38;5;28;01mTrue\u001b[39;00m\n\u001b[1;32m--> 213\u001b[0m \u001b[43mt\u001b[49m\u001b[38;5;241;43m.\u001b[39;49m\u001b[43mstart\u001b[49m\u001b[43m(\u001b[49m\u001b[43m)\u001b[49m\n\u001b[0;32m    214\u001b[0m \u001b[38;5;28mself\u001b[39m\u001b[38;5;241m.\u001b[39m_threads\u001b[38;5;241m.\u001b[39madd(t)\n\u001b[0;32m    215\u001b[0m _threads_queues[t] \u001b[38;5;241m=\u001b[39m \u001b[38;5;28mself\u001b[39m\u001b[38;5;241m.\u001b[39m_work_queue\n",
            "File \u001b[1;32mc:\\Users\\Admin\\anaconda3\\envs\\flwrpytorch\\lib\\threading.py:857\u001b[0m, in \u001b[0;36mThread.start\u001b[1;34m(self)\u001b[0m\n\u001b[0;32m    855\u001b[0m         \u001b[38;5;28;01mdel\u001b[39;00m _limbo[\u001b[38;5;28mself\u001b[39m]\n\u001b[0;32m    856\u001b[0m     \u001b[38;5;28;01mraise\u001b[39;00m\n\u001b[1;32m--> 857\u001b[0m \u001b[38;5;28;43mself\u001b[39;49m\u001b[38;5;241;43m.\u001b[39;49m\u001b[43m_started\u001b[49m\u001b[38;5;241;43m.\u001b[39;49m\u001b[43mwait\u001b[49m\u001b[43m(\u001b[49m\u001b[43m)\u001b[49m\n",
            "File \u001b[1;32mc:\\Users\\Admin\\anaconda3\\envs\\flwrpytorch\\lib\\threading.py:558\u001b[0m, in \u001b[0;36mEvent.wait\u001b[1;34m(self, timeout)\u001b[0m\n\u001b[0;32m    556\u001b[0m signaled \u001b[38;5;241m=\u001b[39m \u001b[38;5;28mself\u001b[39m\u001b[38;5;241m.\u001b[39m_flag\n\u001b[0;32m    557\u001b[0m \u001b[38;5;28;01mif\u001b[39;00m \u001b[38;5;129;01mnot\u001b[39;00m signaled:\n\u001b[1;32m--> 558\u001b[0m     signaled \u001b[38;5;241m=\u001b[39m \u001b[38;5;28;43mself\u001b[39;49m\u001b[38;5;241;43m.\u001b[39;49m\u001b[43m_cond\u001b[49m\u001b[38;5;241;43m.\u001b[39;49m\u001b[43mwait\u001b[49m\u001b[43m(\u001b[49m\u001b[43mtimeout\u001b[49m\u001b[43m)\u001b[49m\n\u001b[0;32m    559\u001b[0m \u001b[38;5;28;01mreturn\u001b[39;00m signaled\n",
            "File \u001b[1;32mc:\\Users\\Admin\\anaconda3\\envs\\flwrpytorch\\lib\\threading.py:302\u001b[0m, in \u001b[0;36mCondition.wait\u001b[1;34m(self, timeout)\u001b[0m\n\u001b[0;32m    300\u001b[0m \u001b[38;5;28;01mtry\u001b[39;00m:    \u001b[38;5;66;03m# restore state no matter what (e.g., KeyboardInterrupt)\u001b[39;00m\n\u001b[0;32m    301\u001b[0m     \u001b[38;5;28;01mif\u001b[39;00m timeout \u001b[38;5;129;01mis\u001b[39;00m \u001b[38;5;28;01mNone\u001b[39;00m:\n\u001b[1;32m--> 302\u001b[0m         \u001b[43mwaiter\u001b[49m\u001b[38;5;241;43m.\u001b[39;49m\u001b[43macquire\u001b[49m\u001b[43m(\u001b[49m\u001b[43m)\u001b[49m\n\u001b[0;32m    303\u001b[0m         gotit \u001b[38;5;241m=\u001b[39m \u001b[38;5;28;01mTrue\u001b[39;00m\n\u001b[0;32m    304\u001b[0m     \u001b[38;5;28;01melse\u001b[39;00m:\n",
            "\u001b[1;31mKeyboardInterrupt\u001b[0m: "
          ]
        }
      ],
      "source": [
        "fl.simulation.start_simulation(\n",
        "    client_fn=client_fn,\n",
        "    num_clients=5,\n",
        "    config=fl.server.ServerConfig(num_rounds=10),\n",
        "    strategy=FedCustom(),  # <-- pass the new strategy here\n",
        "    client_resources=client_resources,\n",
        ")"
      ]
    },
    {
      "cell_type": "code",
      "execution_count": 7,
      "metadata": {
        "id": "ca4qvZKtACCO"
      },
      "outputs": [
        {
          "name": "stderr",
          "output_type": "stream",
          "text": [
            "INFO flwr 2024-04-26 10:12:05,143 | app.py:146 | Starting Flower simulation, config: ServerConfig(num_rounds=10, round_timeout=None)\n"
          ]
        },
        {
          "name": "stderr",
          "output_type": "stream",
          "text": [
            "INFO flwr 2024-04-26 10:12:20,952 | app.py:180 | Flower VCE: Ray initialized with resources: {'GPU': 1.0, 'CPU': 32.0, 'node:127.0.0.1': 1.0, 'object_store_memory': 35730602803.0, 'memory': 73371406541.0}\n",
            "INFO flwr 2024-04-26 10:12:20,955 | server.py:86 | Initializing global parameters\n",
            "INFO flwr 2024-04-26 10:12:20,967 | server.py:269 | Using initial parameters provided by strategy\n",
            "INFO flwr 2024-04-26 10:12:20,968 | server.py:88 | Evaluating initial parameters\n",
            "INFO flwr 2024-04-26 10:12:20,970 | server.py:101 | FL starting\n",
            "DEBUG flwr 2024-04-26 10:12:20,971 | server.py:218 | fit_round 1: strategy sampled 5 clients (out of 5)\n"
          ]
        },
        {
          "name": "stdout",
          "output_type": "stream",
          "text": [
            " pid=25688)\u001b[0m [Client 0] fit, config: {'lr': 0.001}\n",
            " pid=25688)\u001b[0m Epoch 1: train loss 0.06557507067918777, accuracy 0.22866666666666666\n",
            " pid=25688)\u001b[0m Epoch 2: train loss 0.05846356227993965, accuracy 0.3217777777777778\n",
            " pid=25688)\u001b[0m Epoch 3: train loss 0.05338079109787941, accuracy 0.37444444444444447\n",
            " pid=25688)\u001b[0m Epoch 4: train loss 0.05022795870900154, accuracy 0.4142222222222222\n",
            " pid=25688)\u001b[0m Epoch 5: train loss 0.04769791290163994, accuracy 0.4568888888888889\n",
            " pid=25688)\u001b[0m [Client 3] fit, config: {'lr': 0.001}\n",
            " pid=25688)\u001b[0m Epoch 1: train loss 0.06624044477939606, accuracy 0.21355555555555555\n",
            " pid=25688)\u001b[0m Epoch 2: train loss 0.05896100029349327, accuracy 0.3028888888888889\n",
            " pid=25688)\u001b[0m Epoch 3: train loss 0.054232947528362274, accuracy 0.37044444444444447\n",
            " pid=25688)\u001b[0m Epoch 4: train loss 0.05087036266922951, accuracy 0.4042222222222222\n",
            " pid=25688)\u001b[0m Epoch 5: train loss 0.04829408600926399, accuracy 0.43866666666666665\n",
            " pid=25688)\u001b[0m [Client 4] fit, config: {'lr': 0.001}\n",
            " pid=25688)\u001b[0m Epoch 1: train loss 0.06608430296182632, accuracy 0.22177777777777777\n",
            " pid=25688)\u001b[0m Epoch 2: train loss 0.05866234749555588, accuracy 0.31422222222222224\n",
            " pid=25688)\u001b[0m Epoch 3: train loss 0.054208606481552124, accuracy 0.36977777777777776\n",
            " pid=25688)\u001b[0m Epoch 4: train loss 0.050506994128227234, accuracy 0.4111111111111111\n",
            " pid=25688)\u001b[0m Epoch 5: train loss 0.04782871529459953, accuracy 0.45155555555555554\n",
            " pid=25688)\u001b[0m [Client 1] fit, config: {'lr': 0.001}\n",
            " pid=25688)\u001b[0m Epoch 1: train loss 0.06587221473455429, accuracy 0.214\n",
            " pid=25688)\u001b[0m Epoch 2: train loss 0.058202095329761505, accuracy 0.3151111111111111\n",
            " pid=25688)\u001b[0m Epoch 3: train loss 0.052942294627428055, accuracy 0.378\n",
            " pid=25688)\u001b[0m Epoch 4: train loss 0.04968373104929924, accuracy 0.41244444444444445\n",
            " pid=25688)\u001b[0m Epoch 5: train loss 0.04755864292383194, accuracy 0.44222222222222224\n",
            " pid=25688)\u001b[0m [Client 2] fit, config: {'lr': 0.001}\n",
            " pid=25688)\u001b[0m Epoch 1: train loss 0.06616132706403732, accuracy 0.21933333333333332\n",
            " pid=25688)\u001b[0m Epoch 2: train loss 0.05891263857483864, accuracy 0.29844444444444446\n",
            " pid=25688)\u001b[0m Epoch 3: train loss 0.05415378510951996, accuracy 0.36733333333333335\n",
            " pid=25688)\u001b[0m Epoch 4: train loss 0.0509524941444397, accuracy 0.402\n"
          ]
        },
        {
          "name": "stderr",
          "output_type": "stream",
          "text": [
            "DEBUG flwr 2024-04-26 10:13:46,092 | server.py:232 | fit_round 1 received 5 results and 0 failures\n",
            "DEBUG flwr 2024-04-26 10:13:46,111 | server.py:168 | evaluate_round 1: strategy sampled 5 clients (out of 5)\n"
          ]
        },
        {
          "name": "stdout",
          "output_type": "stream",
          "text": [
            " pid=25688)\u001b[0m Epoch 5: train loss 0.04848460108041763, accuracy 0.43177777777777776\n",
            " pid=25688)\u001b[0m [Client 1] evaluate, config: {}\n",
            " pid=25688)\u001b[0m Client 1 loss 0.05722716760635376\n",
            " pid=25688)\u001b[0m Client 1 accuracy 0.376\n",
            " pid=25688)\u001b[0m [Client 0] evaluate, config: {}\n",
            " pid=25688)\u001b[0m Client 0 loss 0.057526315212249754\n",
            " pid=25688)\u001b[0m Client 0 accuracy 0.404\n",
            " pid=25688)\u001b[0m [Client 2] evaluate, config: {}\n",
            " pid=25688)\u001b[0m Client 2 loss 0.05748161768913269\n",
            " pid=25688)\u001b[0m Client 2 accuracy 0.392\n",
            " pid=25688)\u001b[0m [Client 3] evaluate, config: {}\n",
            " pid=25688)\u001b[0m Client 3 loss 0.056574954986572265\n",
            " pid=25688)\u001b[0m Client 3 accuracy 0.376\n"
          ]
        },
        {
          "name": "stderr",
          "output_type": "stream",
          "text": [
            "DEBUG flwr 2024-04-26 10:13:54,077 | server.py:182 | evaluate_round 1 received 5 results and 0 failures\n",
            "DEBUG flwr 2024-04-26 10:13:54,079 | server.py:218 | fit_round 2: strategy sampled 5 clients (out of 5)\n"
          ]
        },
        {
          "name": "stdout",
          "output_type": "stream",
          "text": [
            " pid=25688)\u001b[0m [Client 4] evaluate, config: {}\n",
            " pid=25688)\u001b[0m Client 4 loss 0.05679132270812988\n",
            " pid=25688)\u001b[0m Client 4 accuracy 0.342\n",
            " pid=25688)\u001b[0m [Client 2] fit, config: {'lr': 0.001}\n",
            " pid=25688)\u001b[0m Epoch 1: train loss 0.050954751670360565, accuracy 0.408\n",
            " pid=25688)\u001b[0m Epoch 2: train loss 0.04782059043645859, accuracy 0.4431111111111111\n",
            " pid=25688)\u001b[0m Epoch 3: train loss 0.04554709419608116, accuracy 0.4751111111111111\n",
            " pid=25688)\u001b[0m Epoch 4: train loss 0.04314589872956276, accuracy 0.5044444444444445\n",
            " pid=25688)\u001b[0m Epoch 5: train loss 0.04060330614447594, accuracy 0.5357777777777778\n",
            " pid=25688)\u001b[0m [Client 4] fit, config: {'lr': 0.001}\n",
            " pid=25688)\u001b[0m Epoch 1: train loss 0.0507424920797348, accuracy 0.40644444444444444\n",
            " pid=25688)\u001b[0m Epoch 2: train loss 0.04772091284394264, accuracy 0.44022222222222224\n",
            " pid=25688)\u001b[0m Epoch 3: train loss 0.04499096795916557, accuracy 0.4851111111111111\n",
            " pid=25688)\u001b[0m Epoch 4: train loss 0.04285009950399399, accuracy 0.5017777777777778\n",
            " pid=25688)\u001b[0m Epoch 5: train loss 0.04066409915685654, accuracy 0.5311111111111111\n",
            " pid=25688)\u001b[0m [Client 0] fit, config: {'lr': 0.001}\n",
            " pid=25688)\u001b[0m Epoch 1: train loss 0.05053739994764328, accuracy 0.4186666666666667\n",
            " pid=25688)\u001b[0m Epoch 2: train loss 0.04771586135029793, accuracy 0.44733333333333336\n",
            " pid=25688)\u001b[0m Epoch 3: train loss 0.04422653466463089, accuracy 0.49444444444444446\n",
            " pid=25688)\u001b[0m Epoch 4: train loss 0.04288711026310921, accuracy 0.5086666666666667\n",
            " pid=25688)\u001b[0m Epoch 5: train loss 0.040155403316020966, accuracy 0.5404444444444444\n",
            " pid=25688)\u001b[0m [Client 1] fit, config: {'lr': 0.001}\n",
            " pid=25688)\u001b[0m Epoch 1: train loss 0.05009940266609192, accuracy 0.42577777777777776\n",
            " pid=25688)\u001b[0m Epoch 2: train loss 0.046607956290245056, accuracy 0.4653333333333333\n",
            " pid=25688)\u001b[0m Epoch 3: train loss 0.04423833265900612, accuracy 0.4882222222222222\n",
            " pid=25688)\u001b[0m Epoch 4: train loss 0.04145326092839241, accuracy 0.5222222222222223\n",
            " pid=25688)\u001b[0m Epoch 5: train loss 0.0390571728348732, accuracy 0.5537777777777778\n",
            " pid=25688)\u001b[0m [Client 3] fit, config: {'lr': 0.001}\n",
            " pid=25688)\u001b[0m Epoch 1: train loss 0.05101713165640831, accuracy 0.40066666666666667\n",
            " pid=25688)\u001b[0m Epoch 2: train loss 0.047887884080410004, accuracy 0.432\n",
            " pid=25688)\u001b[0m Epoch 3: train loss 0.0456039197742939, accuracy 0.4706666666666667\n",
            " pid=25688)\u001b[0m Epoch 4: train loss 0.04348012059926987, accuracy 0.4991111111111111\n"
          ]
        },
        {
          "name": "stderr",
          "output_type": "stream",
          "text": [
            "DEBUG flwr 2024-04-26 10:15:10,131 | server.py:232 | fit_round 2 received 5 results and 0 failures\n",
            "DEBUG flwr 2024-04-26 10:15:10,150 | server.py:168 | evaluate_round 2: strategy sampled 5 clients (out of 5)\n"
          ]
        },
        {
          "name": "stdout",
          "output_type": "stream",
          "text": [
            " pid=25688)\u001b[0m Epoch 5: train loss 0.04104255512356758, accuracy 0.5324444444444445\n",
            " pid=25688)\u001b[0m [Client 1] evaluate, config: {}\n",
            " pid=25688)\u001b[0m Client 1 loss 0.04581871509552002\n",
            " pid=25688)\u001b[0m Client 1 accuracy 0.472\n",
            " pid=25688)\u001b[0m [Client 0] evaluate, config: {}\n",
            " pid=25688)\u001b[0m Client 0 loss 0.04740423393249512\n",
            " pid=25688)\u001b[0m Client 0 accuracy 0.47\n",
            " pid=25688)\u001b[0m [Client 2] evaluate, config: {}\n",
            " pid=25688)\u001b[0m Client 2 loss 0.04756603586673737\n",
            " pid=25688)\u001b[0m Client 2 accuracy 0.462\n",
            " pid=25688)\u001b[0m [Client 4] evaluate, config: {}\n"
          ]
        },
        {
          "name": "stderr",
          "output_type": "stream",
          "text": [
            "DEBUG flwr 2024-04-26 10:15:18,292 | server.py:182 | evaluate_round 2 received 5 results and 0 failures\n"
          ]
        },
        {
          "name": "stdout",
          "output_type": "stream",
          "text": [
            " pid=25688)\u001b[0m Client 4 loss 0.04469034564495087\n",
            " pid=25688)\u001b[0m Client 4 accuracy 0.474\n",
            " pid=25688)\u001b[0m [Client 3] evaluate, config: {}\n"
          ]
        },
        {
          "name": "stderr",
          "output_type": "stream",
          "text": [
            "DEBUG flwr 2024-04-26 10:15:18,294 | server.py:218 | fit_round 3: strategy sampled 5 clients (out of 5)\n"
          ]
        },
        {
          "name": "stdout",
          "output_type": "stream",
          "text": [
            " pid=25688)\u001b[0m Client 3 loss 0.045699795961380005\n",
            " pid=25688)\u001b[0m Client 3 accuracy 0.478\n",
            " pid=25688)\u001b[0m [Client 4] fit, config: {'lr': 0.001}\n",
            " pid=25688)\u001b[0m Epoch 1: train loss 0.044300518929958344, accuracy 0.49177777777777776\n",
            " pid=25688)\u001b[0m Epoch 2: train loss 0.040927186608314514, accuracy 0.5282222222222223\n",
            " pid=25688)\u001b[0m Epoch 3: train loss 0.03852422535419464, accuracy 0.5633333333333334\n",
            " pid=25688)\u001b[0m Epoch 4: train loss 0.036095574498176575, accuracy 0.594\n",
            " pid=25688)\u001b[0m Epoch 5: train loss 0.033840056508779526, accuracy 0.6166666666666667\n",
            " pid=25688)\u001b[0m [Client 2] fit, config: {'lr': 0.001}\n",
            " pid=25688)\u001b[0m Epoch 1: train loss 0.043797582387924194, accuracy 0.4886666666666667\n",
            " pid=25688)\u001b[0m Epoch 2: train loss 0.04127742722630501, accuracy 0.5308888888888889\n",
            " pid=25688)\u001b[0m Epoch 3: train loss 0.038482289761304855, accuracy 0.5646666666666667\n",
            " pid=25688)\u001b[0m Epoch 4: train loss 0.036375559866428375, accuracy 0.578\n",
            " pid=25688)\u001b[0m Epoch 5: train loss 0.03359910473227501, accuracy 0.6184444444444445\n",
            " pid=25688)\u001b[0m [Client 0] fit, config: {'lr': 0.001}\n",
            " pid=25688)\u001b[0m Epoch 1: train loss 0.043523870408535004, accuracy 0.49866666666666665\n",
            " pid=25688)\u001b[0m Epoch 2: train loss 0.04045267775654793, accuracy 0.5348888888888889\n",
            " pid=25688)\u001b[0m Epoch 3: train loss 0.0381162203848362, accuracy 0.566\n",
            " pid=25688)\u001b[0m Epoch 4: train loss 0.03630885109305382, accuracy 0.5795555555555556\n",
            " pid=25688)\u001b[0m Epoch 5: train loss 0.03329746425151825, accuracy 0.6226666666666667\n",
            " pid=25688)\u001b[0m [Client 3] fit, config: {'lr': 0.001}\n",
            " pid=25688)\u001b[0m Epoch 1: train loss 0.044712215662002563, accuracy 0.48155555555555557\n",
            " pid=25688)\u001b[0m Epoch 2: train loss 0.04146479070186615, accuracy 0.5273333333333333\n",
            " pid=25688)\u001b[0m Epoch 3: train loss 0.03945324942469597, accuracy 0.5475555555555556\n",
            " pid=25688)\u001b[0m Epoch 4: train loss 0.03694885969161987, accuracy 0.5722222222222222\n",
            " pid=25688)\u001b[0m Epoch 5: train loss 0.03444911912083626, accuracy 0.6028888888888889\n",
            " pid=25688)\u001b[0m [Client 1] fit, config: {'lr': 0.001}\n",
            " pid=25688)\u001b[0m Epoch 1: train loss 0.04245280846953392, accuracy 0.512\n",
            " pid=25688)\u001b[0m Epoch 2: train loss 0.03988899290561676, accuracy 0.5515555555555556\n",
            " pid=25688)\u001b[0m Epoch 3: train loss 0.03726658225059509, accuracy 0.5695555555555556\n",
            " pid=25688)\u001b[0m Epoch 4: train loss 0.034673769026994705, accuracy 0.606\n"
          ]
        },
        {
          "name": "stderr",
          "output_type": "stream",
          "text": [
            "DEBUG flwr 2024-04-26 10:16:33,270 | server.py:232 | fit_round 3 received 5 results and 0 failures\n",
            "DEBUG flwr 2024-04-26 10:16:33,291 | server.py:168 | evaluate_round 3: strategy sampled 5 clients (out of 5)\n"
          ]
        },
        {
          "name": "stdout",
          "output_type": "stream",
          "text": [
            " pid=25688)\u001b[0m Epoch 5: train loss 0.032443493604660034, accuracy 0.6322222222222222\n",
            " pid=25688)\u001b[0m [Client 2] evaluate, config: {}\n",
            " pid=25688)\u001b[0m Client 2 loss 0.04461989188194275\n",
            " pid=25688)\u001b[0m Client 2 accuracy 0.498\n",
            " pid=25688)\u001b[0m [Client 1] evaluate, config: {}\n",
            " pid=25688)\u001b[0m Client 1 loss 0.04172138726711273\n",
            " pid=25688)\u001b[0m Client 1 accuracy 0.526\n",
            " pid=25688)\u001b[0m [Client 3] evaluate, config: {}\n",
            " pid=25688)\u001b[0m Client 3 loss 0.04366077375411987\n",
            " pid=25688)\u001b[0m Client 3 accuracy 0.524\n",
            " pid=25688)\u001b[0m [Client 4] evaluate, config: {}\n"
          ]
        },
        {
          "name": "stderr",
          "output_type": "stream",
          "text": [
            "DEBUG flwr 2024-04-26 10:16:41,230 | server.py:182 | evaluate_round 3 received 5 results and 0 failures\n"
          ]
        },
        {
          "name": "stdout",
          "output_type": "stream",
          "text": [
            " pid=25688)\u001b[0m Client 4 loss 0.040415533423423765\n",
            " pid=25688)\u001b[0m Client 4 accuracy 0.534\n",
            " pid=25688)\u001b[0m [Client 0] evaluate, config: {}\n"
          ]
        },
        {
          "name": "stderr",
          "output_type": "stream",
          "text": [
            "DEBUG flwr 2024-04-26 10:16:41,233 | server.py:218 | fit_round 4: strategy sampled 5 clients (out of 5)\n"
          ]
        },
        {
          "name": "stdout",
          "output_type": "stream",
          "text": [
            " pid=25688)\u001b[0m Client 0 loss 0.04382622599601746\n",
            " pid=25688)\u001b[0m Client 0 accuracy 0.516\n",
            " pid=25688)\u001b[0m [Client 4] fit, config: {'lr': 0.001}\n",
            " pid=25688)\u001b[0m Epoch 1: train loss 0.039738066494464874, accuracy 0.5488888888888889\n",
            " pid=25688)\u001b[0m Epoch 2: train loss 0.035698436200618744, accuracy 0.6004444444444444\n",
            " pid=25688)\u001b[0m Epoch 3: train loss 0.03336778283119202, accuracy 0.6208888888888889\n",
            " pid=25688)\u001b[0m Epoch 4: train loss 0.0303546953946352, accuracy 0.6597777777777778\n",
            " pid=25688)\u001b[0m Epoch 5: train loss 0.027640344575047493, accuracy 0.6911111111111111\n",
            " pid=25688)\u001b[0m [Client 3] fit, config: {'lr': 0.001}\n",
            " pid=25688)\u001b[0m Epoch 1: train loss 0.040450066328048706, accuracy 0.5393333333333333\n",
            " pid=25688)\u001b[0m Epoch 2: train loss 0.03664398565888405, accuracy 0.584\n",
            " pid=25688)\u001b[0m Epoch 3: train loss 0.03393983840942383, accuracy 0.6166666666666667\n",
            " pid=25688)\u001b[0m Epoch 4: train loss 0.03160962462425232, accuracy 0.6404444444444445\n",
            " pid=25688)\u001b[0m Epoch 5: train loss 0.028215231373906136, accuracy 0.6804444444444444\n",
            " pid=25688)\u001b[0m [Client 2] fit, config: {'lr': 0.001}\n",
            " pid=25688)\u001b[0m Epoch 1: train loss 0.0396411158144474, accuracy 0.5475555555555556\n",
            " pid=25688)\u001b[0m Epoch 2: train loss 0.036041565239429474, accuracy 0.5913333333333334\n",
            " pid=25688)\u001b[0m Epoch 3: train loss 0.033330317586660385, accuracy 0.6288888888888889\n",
            " pid=25688)\u001b[0m Epoch 4: train loss 0.03054383397102356, accuracy 0.652\n",
            " pid=25688)\u001b[0m Epoch 5: train loss 0.027927033603191376, accuracy 0.6846666666666666\n",
            " pid=25688)\u001b[0m [Client 0] fit, config: {'lr': 0.001}\n",
            " pid=25688)\u001b[0m Epoch 1: train loss 0.03879270702600479, accuracy 0.562\n",
            " pid=25688)\u001b[0m Epoch 2: train loss 0.035598475486040115, accuracy 0.5904444444444444\n",
            " pid=25688)\u001b[0m Epoch 3: train loss 0.03276272118091583, accuracy 0.6295555555555555\n",
            " pid=25688)\u001b[0m Epoch 4: train loss 0.030013611540198326, accuracy 0.6577777777777778\n",
            " pid=25688)\u001b[0m Epoch 5: train loss 0.027528470382094383, accuracy 0.6835555555555556\n",
            " pid=25688)\u001b[0m [Client 1] fit, config: {'lr': 0.001}\n",
            " pid=25688)\u001b[0m Epoch 1: train loss 0.038275908678770065, accuracy 0.5573333333333333\n",
            " pid=25688)\u001b[0m Epoch 2: train loss 0.034653469920158386, accuracy 0.6026666666666667\n",
            " pid=25688)\u001b[0m Epoch 3: train loss 0.03175152838230133, accuracy 0.63\n",
            " pid=25688)\u001b[0m Epoch 4: train loss 0.028903042897582054, accuracy 0.6631111111111111\n"
          ]
        },
        {
          "name": "stderr",
          "output_type": "stream",
          "text": [
            "DEBUG flwr 2024-04-26 10:17:52,877 | server.py:232 | fit_round 4 received 5 results and 0 failures\n",
            "DEBUG flwr 2024-04-26 10:17:52,916 | server.py:168 | evaluate_round 4: strategy sampled 5 clients (out of 5)\n"
          ]
        },
        {
          "name": "stdout",
          "output_type": "stream",
          "text": [
            " pid=25688)\u001b[0m Epoch 5: train loss 0.026262132450938225, accuracy 0.7002222222222222\n",
            " pid=25688)\u001b[0m [Client 2] evaluate, config: {}\n",
            " pid=25688)\u001b[0m Client 2 loss 0.04463970673084259\n",
            " pid=25688)\u001b[0m Client 2 accuracy 0.512\n",
            " pid=25688)\u001b[0m [Client 3] evaluate, config: {}\n",
            " pid=25688)\u001b[0m Client 3 loss 0.044410323619842526\n",
            " pid=25688)\u001b[0m Client 3 accuracy 0.538\n",
            " pid=25688)\u001b[0m [Client 4] evaluate, config: {}\n",
            " pid=25688)\u001b[0m Client 4 loss 0.04030993592739105\n",
            " pid=25688)\u001b[0m Client 4 accuracy 0.528\n",
            " pid=25688)\u001b[0m [Client 0] evaluate, config: {}\n",
            " pid=25688)\u001b[0m Client 0 loss 0.04462934684753418\n",
            " pid=25688)\u001b[0m Client 0 accuracy 0.52\n"
          ]
        },
        {
          "name": "stderr",
          "output_type": "stream",
          "text": [
            "DEBUG flwr 2024-04-26 10:18:01,123 | server.py:182 | evaluate_round 4 received 5 results and 0 failures\n",
            "DEBUG flwr 2024-04-26 10:18:01,125 | server.py:218 | fit_round 5: strategy sampled 5 clients (out of 5)\n"
          ]
        },
        {
          "name": "stdout",
          "output_type": "stream",
          "text": [
            " pid=25688)\u001b[0m [Client 1] evaluate, config: {}\n",
            " pid=25688)\u001b[0m Client 1 loss 0.04171161162853241\n",
            " pid=25688)\u001b[0m Client 1 accuracy 0.544\n",
            " pid=25688)\u001b[0m [Client 1] fit, config: {'lr': 0.001}\n",
            " pid=25688)\u001b[0m Epoch 1: train loss 0.03491753339767456, accuracy 0.6048888888888889\n",
            " pid=25688)\u001b[0m Epoch 2: train loss 0.03044019639492035, accuracy 0.6506666666666666\n",
            " pid=25688)\u001b[0m Epoch 3: train loss 0.026942363008856773, accuracy 0.7028888888888889\n",
            " pid=25688)\u001b[0m Epoch 4: train loss 0.024159325286746025, accuracy 0.7266666666666667\n",
            " pid=25688)\u001b[0m Epoch 5: train loss 0.020541468635201454, accuracy 0.7717777777777778\n",
            " pid=25688)\u001b[0m [Client 2] fit, config: {'lr': 0.001}\n",
            " pid=25688)\u001b[0m Epoch 1: train loss 0.036706920713186264, accuracy 0.5822222222222222\n",
            " pid=25688)\u001b[0m Epoch 2: train loss 0.03212272748351097, accuracy 0.6355555555555555\n",
            " pid=25688)\u001b[0m Epoch 3: train loss 0.02834983728826046, accuracy 0.6771111111111111\n",
            " pid=25688)\u001b[0m Epoch 4: train loss 0.025407331064343452, accuracy 0.718\n",
            " pid=25688)\u001b[0m Epoch 5: train loss 0.022806691005825996, accuracy 0.7457777777777778\n",
            " pid=25688)\u001b[0m [Client 3] fit, config: {'lr': 0.001}\n",
            " pid=25688)\u001b[0m Epoch 1: train loss 0.03687066584825516, accuracy 0.5757777777777778\n",
            " pid=25688)\u001b[0m Epoch 2: train loss 0.032196227461099625, accuracy 0.6295555555555555\n",
            " pid=25688)\u001b[0m Epoch 3: train loss 0.028790324926376343, accuracy 0.6773333333333333\n",
            " pid=25688)\u001b[0m Epoch 4: train loss 0.02570728026330471, accuracy 0.7126666666666667\n",
            " pid=25688)\u001b[0m Epoch 5: train loss 0.022615693509578705, accuracy 0.7484444444444445\n",
            " pid=25688)\u001b[0m [Client 0] fit, config: {'lr': 0.001}\n",
            " pid=25688)\u001b[0m Epoch 1: train loss 0.03606938198208809, accuracy 0.5915555555555555\n",
            " pid=25688)\u001b[0m Epoch 2: train loss 0.03122819773852825, accuracy 0.6433333333333333\n",
            " pid=25688)\u001b[0m Epoch 3: train loss 0.028154907748103142, accuracy 0.6824444444444444\n",
            " pid=25688)\u001b[0m Epoch 4: train loss 0.02515590749680996, accuracy 0.7195555555555555\n",
            " pid=25688)\u001b[0m Epoch 5: train loss 0.022006293758749962, accuracy 0.758\n",
            " pid=25688)\u001b[0m [Client 4] fit, config: {'lr': 0.001}\n",
            " pid=25688)\u001b[0m Epoch 1: train loss 0.03690461441874504, accuracy 0.5875555555555556\n",
            " pid=25688)\u001b[0m Epoch 2: train loss 0.03210870921611786, accuracy 0.6391111111111111\n",
            " pid=25688)\u001b[0m Epoch 3: train loss 0.028360750526189804, accuracy 0.6771111111111111\n",
            " pid=25688)\u001b[0m Epoch 4: train loss 0.025806300342082977, accuracy 0.7093333333333334\n"
          ]
        },
        {
          "name": "stderr",
          "output_type": "stream",
          "text": [
            "DEBUG flwr 2024-04-26 10:19:15,880 | server.py:232 | fit_round 5 received 5 results and 0 failures\n",
            "DEBUG flwr 2024-04-26 10:19:15,899 | server.py:168 | evaluate_round 5: strategy sampled 5 clients (out of 5)\n"
          ]
        },
        {
          "name": "stdout",
          "output_type": "stream",
          "text": [
            " pid=25688)\u001b[0m Epoch 5: train loss 0.022949721664190292, accuracy 0.7513333333333333\n",
            " pid=25688)\u001b[0m [Client 0] evaluate, config: {}\n",
            " pid=25688)\u001b[0m Client 0 loss 0.0448857741355896\n",
            " pid=25688)\u001b[0m Client 0 accuracy 0.54\n",
            " pid=25688)\u001b[0m [Client 1] evaluate, config: {}\n",
            " pid=25688)\u001b[0m Client 1 loss 0.04197618627548218\n",
            " pid=25688)\u001b[0m Client 1 accuracy 0.574\n",
            " pid=25688)\u001b[0m [Client 2] evaluate, config: {}\n",
            " pid=25688)\u001b[0m Client 2 loss 0.04694010579586029\n",
            " pid=25688)\u001b[0m Client 2 accuracy 0.506\n",
            " pid=25688)\u001b[0m [Client 3] evaluate, config: {}\n"
          ]
        },
        {
          "name": "stderr",
          "output_type": "stream",
          "text": [
            "DEBUG flwr 2024-04-26 10:19:23,290 | server.py:182 | evaluate_round 5 received 5 results and 0 failures\n"
          ]
        },
        {
          "name": "stdout",
          "output_type": "stream",
          "text": [
            " pid=25688)\u001b[0m Client 3 loss 0.04521245288848877\n",
            " pid=25688)\u001b[0m Client 3 accuracy 0.534\n",
            " pid=25688)\u001b[0m [Client 4] evaluate, config: {}\n"
          ]
        },
        {
          "name": "stderr",
          "output_type": "stream",
          "text": [
            "DEBUG flwr 2024-04-26 10:19:23,291 | server.py:218 | fit_round 6: strategy sampled 5 clients (out of 5)\n"
          ]
        },
        {
          "name": "stdout",
          "output_type": "stream",
          "text": [
            " pid=25688)\u001b[0m Client 4 loss 0.04084628736972809\n",
            " pid=25688)\u001b[0m Client 4 accuracy 0.564\n",
            " pid=25688)\u001b[0m [Client 4] fit, config: {'lr': 0.001}\n",
            " pid=25688)\u001b[0m Epoch 1: train loss 0.03415854647755623, accuracy 0.6115555555555555\n",
            " pid=25688)\u001b[0m Epoch 2: train loss 0.028382204473018646, accuracy 0.6791111111111111\n",
            " pid=25688)\u001b[0m Epoch 3: train loss 0.0241239033639431, accuracy 0.724\n",
            " pid=25688)\u001b[0m Epoch 4: train loss 0.0209079347550869, accuracy 0.7697777777777778\n",
            " pid=25688)\u001b[0m Epoch 5: train loss 0.018518153578042984, accuracy 0.7966666666666666\n",
            " pid=25688)\u001b[0m [Client 1] fit, config: {'lr': 0.001}\n",
            " pid=25688)\u001b[0m Epoch 1: train loss 0.032679855823516846, accuracy 0.6222222222222222\n",
            " pid=25688)\u001b[0m Epoch 2: train loss 0.02655343897640705, accuracy 0.6953333333333334\n",
            " pid=25688)\u001b[0m Epoch 3: train loss 0.022781020030379295, accuracy 0.7466666666666667\n",
            " pid=25688)\u001b[0m Epoch 4: train loss 0.019677169620990753, accuracy 0.7791111111111111\n",
            " pid=25688)\u001b[0m Epoch 5: train loss 0.016745690256357193, accuracy 0.8097777777777778\n",
            " pid=25688)\u001b[0m [Client 0] fit, config: {'lr': 0.001}\n",
            " pid=25688)\u001b[0m Epoch 1: train loss 0.033419419080019, accuracy 0.6231111111111111\n",
            " pid=25688)\u001b[0m Epoch 2: train loss 0.02775103785097599, accuracy 0.6831111111111111\n",
            " pid=25688)\u001b[0m Epoch 3: train loss 0.0239145215600729, accuracy 0.7304444444444445\n",
            " pid=25688)\u001b[0m Epoch 4: train loss 0.020159663632512093, accuracy 0.7777777777777778\n",
            " pid=25688)\u001b[0m Epoch 5: train loss 0.017173929139971733, accuracy 0.8077777777777778\n",
            " pid=25688)\u001b[0m [Client 3] fit, config: {'lr': 0.001}\n",
            " pid=25688)\u001b[0m Epoch 1: train loss 0.034411706030368805, accuracy 0.6028888888888889\n",
            " pid=25688)\u001b[0m Epoch 2: train loss 0.02878849394619465, accuracy 0.6764444444444444\n",
            " pid=25688)\u001b[0m Epoch 3: train loss 0.024682331830263138, accuracy 0.7262222222222222\n",
            " pid=25688)\u001b[0m Epoch 4: train loss 0.020934278145432472, accuracy 0.7644444444444445\n",
            " pid=25688)\u001b[0m Epoch 5: train loss 0.018208317458629608, accuracy 0.8013333333333333\n",
            " pid=25688)\u001b[0m [Client 2] fit, config: {'lr': 0.001}\n",
            " pid=25688)\u001b[0m Epoch 1: train loss 0.03411967307329178, accuracy 0.6175555555555555\n",
            " pid=25688)\u001b[0m Epoch 2: train loss 0.027948522940278053, accuracy 0.6922222222222222\n",
            " pid=25688)\u001b[0m Epoch 3: train loss 0.02399054914712906, accuracy 0.7373333333333333\n",
            " pid=25688)\u001b[0m Epoch 4: train loss 0.02102631889283657, accuracy 0.7642222222222222\n"
          ]
        },
        {
          "name": "stderr",
          "output_type": "stream",
          "text": [
            "DEBUG flwr 2024-04-26 10:20:36,621 | server.py:232 | fit_round 6 received 5 results and 0 failures\n",
            "DEBUG flwr 2024-04-26 10:20:36,641 | server.py:168 | evaluate_round 6: strategy sampled 5 clients (out of 5)\n"
          ]
        },
        {
          "name": "stdout",
          "output_type": "stream",
          "text": [
            " pid=25688)\u001b[0m Epoch 5: train loss 0.0175656545907259, accuracy 0.808\n",
            " pid=25688)\u001b[0m [Client 0] evaluate, config: {}\n",
            " pid=25688)\u001b[0m Client 0 loss 0.047843819856643675\n",
            " pid=25688)\u001b[0m Client 0 accuracy 0.55\n",
            " pid=25688)\u001b[0m [Client 1] evaluate, config: {}\n",
            " pid=25688)\u001b[0m Client 1 loss 0.044100695490837095\n",
            " pid=25688)\u001b[0m Client 1 accuracy 0.57\n",
            " pid=25688)\u001b[0m [Client 4] evaluate, config: {}\n",
            " pid=25688)\u001b[0m Client 4 loss 0.042937211513519286\n",
            " pid=25688)\u001b[0m Client 4 accuracy 0.556\n",
            " pid=25688)\u001b[0m [Client 2] evaluate, config: {}\n"
          ]
        },
        {
          "name": "stderr",
          "output_type": "stream",
          "text": [
            "DEBUG flwr 2024-04-26 10:20:44,649 | server.py:182 | evaluate_round 6 received 5 results and 0 failures\n",
            "DEBUG flwr 2024-04-26 10:20:44,651 | server.py:218 | fit_round 7: strategy sampled 5 clients (out of 5)\n"
          ]
        },
        {
          "name": "stdout",
          "output_type": "stream",
          "text": [
            " pid=25688)\u001b[0m Client 2 loss 0.050285027742385864\n",
            " pid=25688)\u001b[0m Client 2 accuracy 0.528\n",
            " pid=25688)\u001b[0m [Client 3] evaluate, config: {}\n",
            " pid=25688)\u001b[0m Client 3 loss 0.04926680183410644\n",
            " pid=25688)\u001b[0m Client 3 accuracy 0.524\n",
            " pid=25688)\u001b[0m [Client 4] fit, config: {'lr': 0.001}\n",
            " pid=25688)\u001b[0m Epoch 1: train loss 0.03156619891524315, accuracy 0.6377777777777778\n",
            " pid=25688)\u001b[0m Epoch 2: train loss 0.024665450677275658, accuracy 0.7211111111111111\n",
            " pid=25688)\u001b[0m Epoch 3: train loss 0.020633956417441368, accuracy 0.7706666666666667\n",
            " pid=25688)\u001b[0m Epoch 4: train loss 0.01682349108159542, accuracy 0.8215555555555556\n",
            " pid=25688)\u001b[0m Epoch 5: train loss 0.014343924820423126, accuracy 0.8488888888888889\n",
            " pid=25688)\u001b[0m [Client 1] fit, config: {'lr': 0.001}\n",
            " pid=25688)\u001b[0m Epoch 1: train loss 0.030460799112915993, accuracy 0.6442222222222223\n",
            " pid=25688)\u001b[0m Epoch 2: train loss 0.023012632504105568, accuracy 0.7382222222222222\n",
            " pid=25688)\u001b[0m Epoch 3: train loss 0.01910482719540596, accuracy 0.7791111111111111\n",
            " pid=25688)\u001b[0m Epoch 4: train loss 0.0158053208142519, accuracy 0.8253333333333334\n",
            " pid=25688)\u001b[0m Epoch 5: train loss 0.013360206969082355, accuracy 0.858\n",
            " pid=25688)\u001b[0m [Client 2] fit, config: {'lr': 0.001}\n",
            " pid=25688)\u001b[0m Epoch 1: train loss 0.031710702925920486, accuracy 0.6453333333333333\n",
            " pid=25688)\u001b[0m Epoch 2: train loss 0.024346407502889633, accuracy 0.7284444444444444\n",
            " pid=25688)\u001b[0m Epoch 3: train loss 0.020610176026821136, accuracy 0.7702222222222223\n",
            " pid=25688)\u001b[0m Epoch 4: train loss 0.017309751361608505, accuracy 0.8035555555555556\n",
            " pid=25688)\u001b[0m Epoch 5: train loss 0.013824695721268654, accuracy 0.8537777777777777\n",
            " pid=25688)\u001b[0m [Client 0] fit, config: {'lr': 0.001}\n",
            " pid=25688)\u001b[0m Epoch 1: train loss 0.031241022050380707, accuracy 0.6537777777777778\n",
            " pid=25688)\u001b[0m Epoch 2: train loss 0.024232644587755203, accuracy 0.7255555555555555\n",
            " pid=25688)\u001b[0m Epoch 3: train loss 0.020394470542669296, accuracy 0.7697777777777778\n",
            " pid=25688)\u001b[0m Epoch 4: train loss 0.016671495512127876, accuracy 0.8211111111111111\n",
            " pid=25688)\u001b[0m Epoch 5: train loss 0.013794942758977413, accuracy 0.8533333333333334\n",
            " pid=25688)\u001b[0m [Client 3] fit, config: {'lr': 0.001}\n",
            " pid=25688)\u001b[0m Epoch 1: train loss 0.032062891870737076, accuracy 0.6317777777777778\n",
            " pid=25688)\u001b[0m Epoch 2: train loss 0.025052569806575775, accuracy 0.7146666666666667\n",
            " pid=25688)\u001b[0m Epoch 3: train loss 0.020821595564484596, accuracy 0.7673333333333333\n",
            " pid=25688)\u001b[0m Epoch 4: train loss 0.017203355208039284, accuracy 0.8122222222222222\n"
          ]
        },
        {
          "name": "stderr",
          "output_type": "stream",
          "text": [
            "DEBUG flwr 2024-04-26 10:21:58,091 | server.py:232 | fit_round 7 received 5 results and 0 failures\n",
            "DEBUG flwr 2024-04-26 10:21:58,109 | server.py:168 | evaluate_round 7: strategy sampled 5 clients (out of 5)\n"
          ]
        },
        {
          "name": "stdout",
          "output_type": "stream",
          "text": [
            " pid=25688)\u001b[0m Epoch 5: train loss 0.013840335421264172, accuracy 0.846\n",
            " pid=25688)\u001b[0m [Client 0] evaluate, config: {}\n",
            " pid=25688)\u001b[0m Client 0 loss 0.051310619115829466\n",
            " pid=25688)\u001b[0m Client 0 accuracy 0.544\n",
            " pid=25688)\u001b[0m [Client 2] evaluate, config: {}\n",
            " pid=25688)\u001b[0m Client 2 loss 0.05414241993427277\n",
            " pid=25688)\u001b[0m Client 2 accuracy 0.538\n",
            " pid=25688)\u001b[0m [Client 4] evaluate, config: {}\n",
            " pid=25688)\u001b[0m Client 4 loss 0.04518323242664337\n",
            " pid=25688)\u001b[0m Client 4 accuracy 0.568\n",
            " pid=25688)\u001b[0m [Client 3] evaluate, config: {}\n"
          ]
        },
        {
          "name": "stderr",
          "output_type": "stream",
          "text": [
            "DEBUG flwr 2024-04-26 10:22:05,677 | server.py:182 | evaluate_round 7 received 5 results and 0 failures\n",
            "DEBUG flwr 2024-04-26 10:22:05,679 | server.py:218 | fit_round 8: strategy sampled 5 clients (out of 5)\n"
          ]
        },
        {
          "name": "stdout",
          "output_type": "stream",
          "text": [
            " pid=25688)\u001b[0m Client 3 loss 0.0511380934715271\n",
            " pid=25688)\u001b[0m Client 3 accuracy 0.54\n",
            " pid=25688)\u001b[0m [Client 1] evaluate, config: {}\n",
            " pid=25688)\u001b[0m Client 1 loss 0.046712618231773376\n",
            " pid=25688)\u001b[0m Client 1 accuracy 0.568\n",
            " pid=25688)\u001b[0m [Client 0] fit, config: {'lr': 0.001}\n",
            " pid=25688)\u001b[0m Epoch 1: train loss 0.02932678535580635, accuracy 0.6673333333333333\n",
            " pid=25688)\u001b[0m Epoch 2: train loss 0.021224360913038254, accuracy 0.7582222222222222\n",
            " pid=25688)\u001b[0m Epoch 3: train loss 0.01659507118165493, accuracy 0.8204444444444444\n",
            " pid=25688)\u001b[0m Epoch 4: train loss 0.013219872489571571, accuracy 0.86\n",
            " pid=25688)\u001b[0m Epoch 5: train loss 0.010438364930450916, accuracy 0.8902222222222222\n",
            " pid=25688)\u001b[0m [Client 3] fit, config: {'lr': 0.001}\n",
            " pid=25688)\u001b[0m Epoch 1: train loss 0.029879217967391014, accuracy 0.6555555555555556\n",
            " pid=25688)\u001b[0m Epoch 2: train loss 0.02179602161049843, accuracy 0.7548888888888889\n",
            " pid=25688)\u001b[0m Epoch 3: train loss 0.016798093914985657, accuracy 0.8124444444444444\n",
            " pid=25688)\u001b[0m Epoch 4: train loss 0.013261234387755394, accuracy 0.8628888888888889\n",
            " pid=25688)\u001b[0m Epoch 5: train loss 0.01099452469497919, accuracy 0.8851111111111111\n",
            " pid=25688)\u001b[0m [Client 2] fit, config: {'lr': 0.001}\n",
            " pid=25688)\u001b[0m Epoch 1: train loss 0.029596934095025063, accuracy 0.6631111111111111\n",
            " pid=25688)\u001b[0m Epoch 2: train loss 0.021499207243323326, accuracy 0.7553333333333333\n",
            " pid=25688)\u001b[0m Epoch 3: train loss 0.016960173845291138, accuracy 0.8133333333333334\n",
            " pid=25688)\u001b[0m Epoch 4: train loss 0.013209293596446514, accuracy 0.8597777777777778\n",
            " pid=25688)\u001b[0m Epoch 5: train loss 0.010839933529496193, accuracy 0.8895555555555555\n",
            " pid=25688)\u001b[0m [Client 1] fit, config: {'lr': 0.001}\n",
            " pid=25688)\u001b[0m Epoch 1: train loss 0.028504032641649246, accuracy 0.6684444444444444\n",
            " pid=25688)\u001b[0m Epoch 2: train loss 0.020025283098220825, accuracy 0.7695555555555555\n",
            " pid=25688)\u001b[0m Epoch 3: train loss 0.01601259596645832, accuracy 0.8224444444444444\n",
            " pid=25688)\u001b[0m Epoch 4: train loss 0.012484755367040634, accuracy 0.8653333333333333\n",
            " pid=25688)\u001b[0m Epoch 5: train loss 0.010524686425924301, accuracy 0.8935555555555555\n",
            " pid=25688)\u001b[0m [Client 4] fit, config: {'lr': 0.001}\n",
            " pid=25688)\u001b[0m Epoch 1: train loss 0.02993151918053627, accuracy 0.6651111111111111\n",
            " pid=25688)\u001b[0m Epoch 2: train loss 0.02139788493514061, accuracy 0.7562222222222222\n",
            " pid=25688)\u001b[0m Epoch 3: train loss 0.016662772744894028, accuracy 0.8191111111111111\n",
            " pid=25688)\u001b[0m Epoch 4: train loss 0.014035982079803944, accuracy 0.8513333333333334\n"
          ]
        },
        {
          "name": "stderr",
          "output_type": "stream",
          "text": [
            "DEBUG flwr 2024-04-26 10:23:20,153 | server.py:232 | fit_round 8 received 5 results and 0 failures\n",
            "DEBUG flwr 2024-04-26 10:23:20,172 | server.py:168 | evaluate_round 8: strategy sampled 5 clients (out of 5)\n"
          ]
        },
        {
          "name": "stdout",
          "output_type": "stream",
          "text": [
            " pid=25688)\u001b[0m Epoch 5: train loss 0.01100101601332426, accuracy 0.8897777777777778\n",
            " pid=25688)\u001b[0m [Client 2] evaluate, config: {}\n",
            " pid=25688)\u001b[0m Client 2 loss 0.058883125066757205\n",
            " pid=25688)\u001b[0m Client 2 accuracy 0.526\n",
            " pid=25688)\u001b[0m [Client 0] evaluate, config: {}\n",
            " pid=25688)\u001b[0m Client 0 loss 0.05652247643470764\n",
            " pid=25688)\u001b[0m Client 0 accuracy 0.544\n",
            " pid=25688)\u001b[0m [Client 1] evaluate, config: {}\n",
            " pid=25688)\u001b[0m Client 1 loss 0.05127403628826142\n",
            " pid=25688)\u001b[0m Client 1 accuracy 0.574\n",
            " pid=25688)\u001b[0m [Client 3] evaluate, config: {}\n"
          ]
        },
        {
          "name": "stderr",
          "output_type": "stream",
          "text": [
            "DEBUG flwr 2024-04-26 10:23:27,889 | server.py:182 | evaluate_round 8 received 5 results and 0 failures\n",
            "DEBUG flwr 2024-04-26 10:23:27,891 | server.py:218 | fit_round 9: strategy sampled 5 clients (out of 5)\n"
          ]
        },
        {
          "name": "stdout",
          "output_type": "stream",
          "text": [
            " pid=25688)\u001b[0m Client 3 loss 0.057837696075439454\n",
            " pid=25688)\u001b[0m Client 3 accuracy 0.53\n",
            " pid=25688)\u001b[0m [Client 4] evaluate, config: {}\n",
            " pid=25688)\u001b[0m Client 4 loss 0.04970752167701721\n",
            " pid=25688)\u001b[0m Client 4 accuracy 0.558\n",
            " pid=25688)\u001b[0m [Client 4] fit, config: {'lr': 0.001}\n",
            " pid=25688)\u001b[0m Epoch 1: train loss 0.02905998006463051, accuracy 0.6726666666666666\n",
            " pid=25688)\u001b[0m Epoch 2: train loss 0.018883349373936653, accuracy 0.7866666666666666\n",
            " pid=25688)\u001b[0m Epoch 3: train loss 0.014309363439679146, accuracy 0.848\n",
            " pid=25688)\u001b[0m Epoch 4: train loss 0.011876647360622883, accuracy 0.8771111111111111\n",
            " pid=25688)\u001b[0m Epoch 5: train loss 0.008400209248065948, accuracy 0.9151111111111111\n",
            " pid=25688)\u001b[0m [Client 3] fit, config: {'lr': 0.001}\n",
            " pid=25688)\u001b[0m Epoch 1: train loss 0.028007935732603073, accuracy 0.6842222222222222\n",
            " pid=25688)\u001b[0m Epoch 2: train loss 0.018517296761274338, accuracy 0.7848888888888889\n",
            " pid=25688)\u001b[0m Epoch 3: train loss 0.014587068930268288, accuracy 0.8424444444444444\n",
            " pid=25688)\u001b[0m Epoch 4: train loss 0.011027811095118523, accuracy 0.8844444444444445\n",
            " pid=25688)\u001b[0m Epoch 5: train loss 0.008754379115998745, accuracy 0.9113333333333333\n",
            " pid=25688)\u001b[0m [Client 1] fit, config: {'lr': 0.001}\n",
            " pid=25688)\u001b[0m Epoch 1: train loss 0.026538344100117683, accuracy 0.6971111111111111\n",
            " pid=25688)\u001b[0m Epoch 2: train loss 0.016930339857935905, accuracy 0.8126666666666666\n",
            " pid=25688)\u001b[0m Epoch 3: train loss 0.013595928438007832, accuracy 0.8464444444444444\n",
            " pid=25688)\u001b[0m Epoch 4: train loss 0.00976208969950676, accuracy 0.902\n",
            " pid=25688)\u001b[0m Epoch 5: train loss 0.007797461934387684, accuracy 0.9164444444444444\n",
            " pid=25688)\u001b[0m [Client 0] fit, config: {'lr': 0.001}\n",
            " pid=25688)\u001b[0m Epoch 1: train loss 0.02722344361245632, accuracy 0.6946666666666667\n",
            " pid=25688)\u001b[0m Epoch 2: train loss 0.018697185441851616, accuracy 0.7891111111111111\n",
            " pid=25688)\u001b[0m Epoch 3: train loss 0.013498466461896896, accuracy 0.8595555555555555\n",
            " pid=25688)\u001b[0m Epoch 4: train loss 0.010369601659476757, accuracy 0.894\n",
            " pid=25688)\u001b[0m Epoch 5: train loss 0.0077363960444927216, accuracy 0.9255555555555556\n",
            " pid=25688)\u001b[0m [Client 2] fit, config: {'lr': 0.001}\n",
            " pid=25688)\u001b[0m Epoch 1: train loss 0.028200531378388405, accuracy 0.6831111111111111\n",
            " pid=25688)\u001b[0m Epoch 2: train loss 0.018805373460054398, accuracy 0.7886666666666666\n",
            " pid=25688)\u001b[0m Epoch 3: train loss 0.014376073144376278, accuracy 0.838\n",
            " pid=25688)\u001b[0m Epoch 4: train loss 0.011448587290942669, accuracy 0.8764444444444445\n"
          ]
        },
        {
          "name": "stderr",
          "output_type": "stream",
          "text": [
            "DEBUG flwr 2024-04-26 10:24:42,618 | server.py:232 | fit_round 9 received 5 results and 0 failures\n",
            "DEBUG flwr 2024-04-26 10:24:42,638 | server.py:168 | evaluate_round 9: strategy sampled 5 clients (out of 5)\n"
          ]
        },
        {
          "name": "stdout",
          "output_type": "stream",
          "text": [
            " pid=25688)\u001b[0m Epoch 5: train loss 0.008454439230263233, accuracy 0.9155555555555556\n",
            " pid=25688)\u001b[0m [Client 4] evaluate, config: {}\n",
            " pid=25688)\u001b[0m Client 4 loss 0.054429595470428464\n",
            " pid=25688)\u001b[0m Client 4 accuracy 0.54\n",
            " pid=25688)\u001b[0m [Client 1] evaluate, config: {}\n",
            " pid=25688)\u001b[0m Client 1 loss 0.055274166345596315\n",
            " pid=25688)\u001b[0m Client 1 accuracy 0.578\n",
            " pid=25688)\u001b[0m [Client 3] evaluate, config: {}\n",
            " pid=25688)\u001b[0m Client 3 loss 0.06277955293655396\n",
            " pid=25688)\u001b[0m Client 3 accuracy 0.53\n",
            " pid=25688)\u001b[0m [Client 2] evaluate, config: {}\n"
          ]
        },
        {
          "name": "stderr",
          "output_type": "stream",
          "text": [
            "DEBUG flwr 2024-04-26 10:24:50,598 | server.py:182 | evaluate_round 9 received 5 results and 0 failures\n",
            "DEBUG flwr 2024-04-26 10:24:50,600 | server.py:218 | fit_round 10: strategy sampled 5 clients (out of 5)\n"
          ]
        },
        {
          "name": "stdout",
          "output_type": "stream",
          "text": [
            " pid=25688)\u001b[0m Client 2 loss 0.06440754008293152\n",
            " pid=25688)\u001b[0m Client 2 accuracy 0.512\n",
            " pid=25688)\u001b[0m [Client 0] evaluate, config: {}\n",
            " pid=25688)\u001b[0m Client 0 loss 0.0599841902256012\n",
            " pid=25688)\u001b[0m Client 0 accuracy 0.562\n",
            " pid=25688)\u001b[0m [Client 0] fit, config: {'lr': 0.001}\n",
            " pid=25688)\u001b[0m Epoch 1: train loss 0.025616483762860298, accuracy 0.7064444444444444\n",
            " pid=25688)\u001b[0m Epoch 2: train loss 0.015493353828787804, accuracy 0.8293333333333334\n",
            " pid=25688)\u001b[0m Epoch 3: train loss 0.011129859834909439, accuracy 0.8888888888888888\n",
            " pid=25688)\u001b[0m Epoch 4: train loss 0.008301477879285812, accuracy 0.9208888888888889\n",
            " pid=25688)\u001b[0m Epoch 5: train loss 0.006696016993373632, accuracy 0.9344444444444444\n",
            " pid=25688)\u001b[0m [Client 1] fit, config: {'lr': 0.001}\n",
            " pid=25688)\u001b[0m Epoch 1: train loss 0.02497275173664093, accuracy 0.7211111111111111\n",
            " pid=25688)\u001b[0m Epoch 2: train loss 0.015072327107191086, accuracy 0.8235555555555556\n",
            " pid=25688)\u001b[0m Epoch 3: train loss 0.011030411347746849, accuracy 0.8824444444444445\n",
            " pid=25688)\u001b[0m Epoch 4: train loss 0.008061756379902363, accuracy 0.9188888888888889\n",
            " pid=25688)\u001b[0m Epoch 5: train loss 0.006423687096685171, accuracy 0.9377777777777778\n",
            " pid=25688)\u001b[0m [Client 4] fit, config: {'lr': 0.001}\n",
            " pid=25688)\u001b[0m Epoch 1: train loss 0.026577724143862724, accuracy 0.7075555555555556\n",
            " pid=25688)\u001b[0m Epoch 2: train loss 0.015892917290329933, accuracy 0.8273333333333334\n",
            " pid=25688)\u001b[0m Epoch 3: train loss 0.01139769610017538, accuracy 0.88\n",
            " pid=25688)\u001b[0m Epoch 4: train loss 0.00894239917397499, accuracy 0.9082222222222223\n",
            " pid=25688)\u001b[0m Epoch 5: train loss 0.006694476120173931, accuracy 0.9342222222222222\n",
            " pid=25688)\u001b[0m [Client 2] fit, config: {'lr': 0.001}\n",
            " pid=25688)\u001b[0m Epoch 1: train loss 0.02695312164723873, accuracy 0.6988888888888889\n",
            " pid=25688)\u001b[0m Epoch 2: train loss 0.016186002641916275, accuracy 0.8197777777777778\n",
            " pid=25688)\u001b[0m Epoch 3: train loss 0.01189208123832941, accuracy 0.866\n",
            " pid=25688)\u001b[0m Epoch 4: train loss 0.008526919409632683, accuracy 0.918\n",
            " pid=25688)\u001b[0m Epoch 5: train loss 0.006712156813591719, accuracy 0.9351111111111111\n",
            " pid=25688)\u001b[0m [Client 3] fit, config: {'lr': 0.001}\n",
            " pid=25688)\u001b[0m Epoch 1: train loss 0.026201052591204643, accuracy 0.7044444444444444\n",
            " pid=25688)\u001b[0m Epoch 2: train loss 0.01663093827664852, accuracy 0.8155555555555556\n",
            " pid=25688)\u001b[0m Epoch 3: train loss 0.012011585757136345, accuracy 0.8713333333333333\n",
            " pid=25688)\u001b[0m Epoch 4: train loss 0.008385654538869858, accuracy 0.9171111111111111\n"
          ]
        },
        {
          "name": "stderr",
          "output_type": "stream",
          "text": [
            "DEBUG flwr 2024-04-26 10:26:04,400 | server.py:232 | fit_round 10 received 5 results and 0 failures\n",
            "DEBUG flwr 2024-04-26 10:26:04,418 | server.py:168 | evaluate_round 10: strategy sampled 5 clients (out of 5)\n"
          ]
        },
        {
          "name": "stdout",
          "output_type": "stream",
          "text": [
            " pid=25688)\u001b[0m Epoch 5: train loss 0.0065334029495716095, accuracy 0.9375555555555556\n",
            " pid=25688)\u001b[0m [Client 0] evaluate, config: {}\n",
            " pid=25688)\u001b[0m Client 0 loss 0.0655604281425476\n",
            " pid=25688)\u001b[0m Client 0 accuracy 0.558\n",
            " pid=25688)\u001b[0m [Client 3] evaluate, config: {}\n",
            " pid=25688)\u001b[0m Client 3 loss 0.06983086109161377\n",
            " pid=25688)\u001b[0m Client 3 accuracy 0.524\n",
            " pid=25688)\u001b[0m [Client 1] evaluate, config: {}\n",
            " pid=25688)\u001b[0m Client 1 loss 0.059871720433235166\n",
            " pid=25688)\u001b[0m Client 1 accuracy 0.56\n",
            " pid=25688)\u001b[0m [Client 4] evaluate, config: {}\n"
          ]
        },
        {
          "name": "stderr",
          "output_type": "stream",
          "text": [
            "DEBUG flwr 2024-04-26 10:26:11,897 | server.py:182 | evaluate_round 10 received 5 results and 0 failures\n"
          ]
        },
        {
          "name": "stdout",
          "output_type": "stream",
          "text": [
            " pid=25688)\u001b[0m Client 4 loss 0.057930799007415774\n",
            " pid=25688)\u001b[0m Client 4 accuracy 0.562\n",
            " pid=25688)\u001b[0m [Client 2] evaluate, config: {}\n"
          ]
        },
        {
          "name": "stderr",
          "output_type": "stream",
          "text": [
            "INFO flwr 2024-04-26 10:26:11,899 | server.py:147 | FL finished in 830.9280965\n",
            "INFO flwr 2024-04-26 10:26:11,901 | app.py:218 | app_fit: losses_distributed [(1, 0.057120275640487675), (2, 0.04623582530021668), (3, 0.04284876246452331), (4, 0.04314018495082855), (5, 0.04397216129302978), (6, 0.046886711287498474), (7, 0.04969739663600921), (8, 0.05484497110843659), (9, 0.05937500901222229), (10, 0.06456811034679413)]\n",
            "INFO flwr 2024-04-26 10:26:11,902 | app.py:219 | app_fit: metrics_distributed_fit {}\n",
            "INFO flwr 2024-04-26 10:26:11,904 | app.py:220 | app_fit: metrics_distributed {}\n",
            "INFO flwr 2024-04-26 10:26:11,906 | app.py:221 | app_fit: losses_centralized []\n",
            "INFO flwr 2024-04-26 10:26:11,907 | app.py:222 | app_fit: metrics_centralized {}\n"
          ]
        },
        {
          "data": {
            "text/plain": [
              "History (loss, distributed):\n",
              "\tround 1: 0.057120275640487675\n",
              "\tround 2: 0.04623582530021668\n",
              "\tround 3: 0.04284876246452331\n",
              "\tround 4: 0.04314018495082855\n",
              "\tround 5: 0.04397216129302978\n",
              "\tround 6: 0.046886711287498474\n",
              "\tround 7: 0.04969739663600921\n",
              "\tround 8: 0.05484497110843659\n",
              "\tround 9: 0.05937500901222229\n",
              "\tround 10: 0.06456811034679413"
            ]
          },
          "execution_count": 7,
          "metadata": {},
          "output_type": "execute_result"
        }
      ],
      "source": [
        "fl.simulation.start_simulation(\n",
        "    client_fn=client_fn,\n",
        "    num_clients=5,\n",
        "    config=fl.server.ServerConfig(num_rounds=10),\n",
        "    strategy=FedCustom(),  # <-- pass the new strategy here\n",
        "    client_resources=client_resources,\n",
        ")"
      ]
    },
    {
      "cell_type": "code",
      "execution_count": 8,
      "metadata": {},
      "outputs": [
        {
          "name": "stdout",
          "output_type": "stream",
          "text": [
            " pid=25688)\u001b[0m Client 2 loss 0.06964674305915833\n",
            " pid=25688)\u001b[0m Client 2 accuracy 0.524\n"
          ]
        }
      ],
      "source": [
        "from typing import Callable, Union\n",
        "\n",
        "from flwr.common import (\n",
        "    EvaluateIns,\n",
        "    EvaluateRes,\n",
        "    FitIns,\n",
        "    FitRes,\n",
        "    MetricsAggregationFn,\n",
        "    NDArrays,\n",
        "    Parameters,\n",
        "    Scalar,\n",
        "    ndarrays_to_parameters,\n",
        "    parameters_to_ndarrays,\n",
        ")\n",
        "from flwr.server.client_manager import ClientManager\n",
        "from flwr.server.client_proxy import ClientProxy\n",
        "from flwr.server.strategy.aggregate import aggregate, weighted_loss_avg\n",
        "\n",
        "\n",
        "class FedCustom(fl.server.strategy.Strategy):\n",
        "    def __init__(\n",
        "        self,\n",
        "        fraction_fit: float = 1.0,\n",
        "        fraction_evaluate: float = 1.0,\n",
        "        min_fit_clients: int = 2,\n",
        "        min_evaluate_clients: int = 2,\n",
        "        min_available_clients: int = 2,\n",
        "    ) -> None:\n",
        "        super().__init__()\n",
        "        self.fraction_fit = fraction_fit\n",
        "        self.fraction_evaluate = fraction_evaluate\n",
        "        self.min_fit_clients = min_fit_clients\n",
        "        self.min_evaluate_clients = min_evaluate_clients\n",
        "        self.min_available_clients = min_available_clients\n",
        "\n",
        "    def __repr__(self) -> str:\n",
        "        return \"FedCustom\"\n",
        "\n",
        "    def initialize_parameters(\n",
        "        self, client_manager: ClientManager\n",
        "    ) -> Optional[Parameters]:\n",
        "        \"\"\"Initialize global model parameters.\"\"\"\n",
        "        net = Net()\n",
        "        ndarrays = get_parameters(net)\n",
        "        return fl.common.ndarrays_to_parameters(ndarrays)\n",
        "\n",
        "    def configure_fit(\n",
        "        self, server_round: int, parameters: Parameters, client_manager: ClientManager\n",
        "    ) -> List[Tuple[ClientProxy, FitIns]]:\n",
        "        \"\"\"Configure the next round of training.\"\"\"\n",
        "\n",
        "        # Sample clients\n",
        "        sample_size, min_num_clients = self.num_fit_clients(\n",
        "            client_manager.num_available()\n",
        "        )\n",
        "        clients = client_manager.sample(\n",
        "            num_clients=sample_size, min_num_clients=min_num_clients\n",
        "        )\n",
        "\n",
        "        # Create custom configs\n",
        "        n_clients = len(clients)\n",
        "        #half_clients = n_clients // 2\n",
        "        standard_config = {\"lr\": 0.0001} #More Smaller LR\n",
        "        higher_lr_config = {\"lr\": 0.003}\n",
        "        fit_configurations = []\n",
        "        for idx, client in enumerate(clients):\n",
        "            fit_configurations.append((client, FitIns(parameters, standard_config)))\n",
        "            # if idx < half_clients:\n",
        "            #     fit_configurations.append((client, FitIns(parameters, standard_config)))\n",
        "            # else:\n",
        "            #     fit_configurations.append(\n",
        "            #         (client, FitIns(parameters, higher_lr_config))\n",
        "            #     )\n",
        "        return fit_configurations\n",
        "\n",
        "    def aggregate_fit(\n",
        "        self,\n",
        "        server_round: int,\n",
        "        results: List[Tuple[ClientProxy, FitRes]],\n",
        "        failures: List[Union[Tuple[ClientProxy, FitRes], BaseException]],\n",
        "    ) -> Tuple[Optional[Parameters], Dict[str, Scalar]]:\n",
        "        \"\"\"Aggregate fit results using weighted average.\"\"\"\n",
        "\n",
        "        weights_results = [\n",
        "            (parameters_to_ndarrays(fit_res.parameters), fit_res.num_examples)\n",
        "            for _, fit_res in results\n",
        "        ]\n",
        "        parameters_aggregated = ndarrays_to_parameters(aggregate(weights_results))\n",
        "        metrics_aggregated = {}\n",
        "        return parameters_aggregated, metrics_aggregated\n",
        "\n",
        "    def configure_evaluate(\n",
        "        self, server_round: int, parameters: Parameters, client_manager: ClientManager\n",
        "    ) -> List[Tuple[ClientProxy, EvaluateIns]]:\n",
        "        \"\"\"Configure the next round of evaluation.\"\"\"\n",
        "        if self.fraction_evaluate == 0.0:\n",
        "            return []\n",
        "        config = {}\n",
        "        evaluate_ins = EvaluateIns(parameters, config)\n",
        "\n",
        "        # Sample clients\n",
        "        sample_size, min_num_clients = self.num_evaluation_clients(\n",
        "            client_manager.num_available()\n",
        "        )\n",
        "        clients = client_manager.sample(\n",
        "            num_clients=sample_size, min_num_clients=min_num_clients\n",
        "        )\n",
        "\n",
        "        # Return client/config pairs\n",
        "        return [(client, evaluate_ins) for client in clients]\n",
        "\n",
        "    def aggregate_evaluate(\n",
        "        self,\n",
        "        server_round: int,\n",
        "        results: List[Tuple[ClientProxy, EvaluateRes]],\n",
        "        failures: List[Union[Tuple[ClientProxy, EvaluateRes], BaseException]],\n",
        "    ) -> Tuple[Optional[float], Dict[str, Scalar]]:\n",
        "        \"\"\"Aggregate evaluation losses using weighted average.\"\"\"\n",
        "\n",
        "        if not results:\n",
        "            return None, {}\n",
        "\n",
        "        loss_aggregated = weighted_loss_avg(\n",
        "            [\n",
        "                (evaluate_res.num_examples, evaluate_res.loss)\n",
        "                for _, evaluate_res in results\n",
        "            ]\n",
        "        )\n",
        "        metrics_aggregated = {}\n",
        "        return loss_aggregated, metrics_aggregated\n",
        "\n",
        "    def evaluate(\n",
        "        self, server_round: int, parameters: Parameters\n",
        "    ) -> Optional[Tuple[float, Dict[str, Scalar]]]:\n",
        "        \"\"\"Evaluate global model parameters using an evaluation function.\"\"\"\n",
        "\n",
        "        # Let's assume we won't perform the global model evaluation on the server side.\n",
        "        return None\n",
        "\n",
        "    def num_fit_clients(self, num_available_clients: int) -> Tuple[int, int]:\n",
        "        \"\"\"Return sample size and required number of clients.\"\"\"\n",
        "        num_clients = int(num_available_clients * self.fraction_fit)\n",
        "        return max(num_clients, self.min_fit_clients), self.min_available_clients\n",
        "\n",
        "    def num_evaluation_clients(self, num_available_clients: int) -> Tuple[int, int]:\n",
        "        \"\"\"Use a fraction of available clients for evaluation.\"\"\"\n",
        "        num_clients = int(num_available_clients * self.fraction_evaluate)\n",
        "        return max(num_clients, self.min_evaluate_clients), self.min_available_clients"
      ]
    },
    {
      "cell_type": "code",
      "execution_count": 9,
      "metadata": {},
      "outputs": [
        {
          "name": "stderr",
          "output_type": "stream",
          "text": [
            "INFO flwr 2024-04-26 10:26:12,056 | app.py:146 | Starting Flower simulation, config: ServerConfig(num_rounds=10, round_timeout=None)\n",
            "INFO flwr 2024-04-26 10:26:26,708 | app.py:180 | Flower VCE: Ray initialized with resources: {'CPU': 32.0, 'node:127.0.0.1': 1.0, 'GPU': 1.0, 'object_store_memory': 34135699046.0, 'memory': 69649964442.0}\n",
            "INFO flwr 2024-04-26 10:26:26,712 | server.py:86 | Initializing global parameters\n",
            "INFO flwr 2024-04-26 10:26:26,723 | server.py:269 | Using initial parameters provided by strategy\n",
            "INFO flwr 2024-04-26 10:26:26,725 | server.py:88 | Evaluating initial parameters\n",
            "INFO flwr 2024-04-26 10:26:26,727 | server.py:101 | FL starting\n",
            "DEBUG flwr 2024-04-26 10:26:26,730 | server.py:218 | fit_round 1: strategy sampled 5 clients (out of 5)\n"
          ]
        },
        {
          "name": "stdout",
          "output_type": "stream",
          "text": [
            " pid=3148)\u001b[0m [Client 3] fit, config: {'lr': 0.0001}\n",
            " pid=3148)\u001b[0m Epoch 1: train loss 0.0646684318780899, accuracy 0.22644444444444445\n",
            " pid=3148)\u001b[0m Epoch 2: train loss 0.056407880038022995, accuracy 0.32866666666666666\n",
            " pid=3148)\u001b[0m Epoch 3: train loss 0.0523478202521801, accuracy 0.3848888888888889\n",
            " pid=3148)\u001b[0m Epoch 4: train loss 0.049011457711458206, accuracy 0.42644444444444446\n",
            " pid=3148)\u001b[0m Epoch 5: train loss 0.04737198352813721, accuracy 0.444\n",
            " pid=3148)\u001b[0m [Client 2] fit, config: {'lr': 0.0001}\n",
            " pid=3148)\u001b[0m Epoch 1: train loss 0.06500020623207092, accuracy 0.22555555555555556\n",
            " pid=3148)\u001b[0m Epoch 2: train loss 0.0567382387816906, accuracy 0.3313333333333333\n",
            " pid=3148)\u001b[0m Epoch 3: train loss 0.05330170691013336, accuracy 0.3695555555555556\n",
            " pid=3148)\u001b[0m Epoch 4: train loss 0.05091230943799019, accuracy 0.39711111111111114\n",
            " pid=3148)\u001b[0m Epoch 5: train loss 0.049259793013334274, accuracy 0.42244444444444446\n",
            " pid=3148)\u001b[0m [Client 1] fit, config: {'lr': 0.0001}\n",
            " pid=3148)\u001b[0m Epoch 1: train loss 0.0641135647892952, accuracy 0.2228888888888889\n",
            " pid=3148)\u001b[0m Epoch 2: train loss 0.05500856786966324, accuracy 0.35888888888888887\n",
            " pid=3148)\u001b[0m Epoch 3: train loss 0.05089057981967926, accuracy 0.4048888888888889\n",
            " pid=3148)\u001b[0m Epoch 4: train loss 0.04849064350128174, accuracy 0.4351111111111111\n",
            " pid=3148)\u001b[0m Epoch 5: train loss 0.046243637800216675, accuracy 0.4691111111111111\n",
            " pid=3148)\u001b[0m [Client 4] fit, config: {'lr': 0.0001}\n",
            " pid=3148)\u001b[0m Epoch 1: train loss 0.06360577791929245, accuracy 0.2371111111111111\n",
            " pid=3148)\u001b[0m Epoch 2: train loss 0.05615454912185669, accuracy 0.3377777777777778\n",
            " pid=3148)\u001b[0m Epoch 3: train loss 0.051540687680244446, accuracy 0.3993333333333333\n",
            " pid=3148)\u001b[0m Epoch 4: train loss 0.04833120107650757, accuracy 0.43822222222222224\n",
            " pid=3148)\u001b[0m Epoch 5: train loss 0.046231672167778015, accuracy 0.47044444444444444\n",
            " pid=3148)\u001b[0m [Client 0] fit, config: {'lr': 0.0001}\n",
            " pid=3148)\u001b[0m Epoch 1: train loss 0.06484052538871765, accuracy 0.22711111111111112\n",
            " pid=3148)\u001b[0m Epoch 2: train loss 0.056711580604314804, accuracy 0.3408888888888889\n",
            " pid=3148)\u001b[0m Epoch 3: train loss 0.051628224551677704, accuracy 0.4\n",
            " pid=3148)\u001b[0m Epoch 4: train loss 0.04902781918644905, accuracy 0.434\n"
          ]
        },
        {
          "name": "stderr",
          "output_type": "stream",
          "text": [
            "DEBUG flwr 2024-04-26 10:27:51,896 | server.py:232 | fit_round 1 received 5 results and 0 failures\n",
            "DEBUG flwr 2024-04-26 10:27:51,915 | server.py:168 | evaluate_round 1: strategy sampled 5 clients (out of 5)\n"
          ]
        },
        {
          "name": "stdout",
          "output_type": "stream",
          "text": [
            " pid=3148)\u001b[0m Epoch 5: train loss 0.046836476773023605, accuracy 0.45644444444444443\n",
            " pid=3148)\u001b[0m [Client 1] evaluate, config: {}\n",
            " pid=3148)\u001b[0m Client 1 loss 0.05805980658531189\n",
            " pid=3148)\u001b[0m Client 1 accuracy 0.376\n",
            " pid=3148)\u001b[0m [Client 0] evaluate, config: {}\n",
            " pid=3148)\u001b[0m Client 0 loss 0.05745409917831421\n",
            " pid=3148)\u001b[0m Client 0 accuracy 0.394\n",
            " pid=3148)\u001b[0m [Client 4] evaluate, config: {}\n",
            " pid=3148)\u001b[0m Client 4 loss 0.05654742360115051\n",
            " pid=3148)\u001b[0m Client 4 accuracy 0.374\n",
            " pid=3148)\u001b[0m [Client 3] evaluate, config: {}\n"
          ]
        },
        {
          "name": "stderr",
          "output_type": "stream",
          "text": [
            "DEBUG flwr 2024-04-26 10:28:00,044 | server.py:182 | evaluate_round 1 received 5 results and 0 failures\n",
            "DEBUG flwr 2024-04-26 10:28:00,046 | server.py:218 | fit_round 2: strategy sampled 5 clients (out of 5)\n"
          ]
        },
        {
          "name": "stdout",
          "output_type": "stream",
          "text": [
            " pid=3148)\u001b[0m Client 3 loss 0.057161213874816895\n",
            " pid=3148)\u001b[0m Client 3 accuracy 0.366\n",
            " pid=3148)\u001b[0m [Client 2] evaluate, config: {}\n",
            " pid=3148)\u001b[0m Client 2 loss 0.057315173864364626\n",
            " pid=3148)\u001b[0m Client 2 accuracy 0.384\n",
            " pid=3148)\u001b[0m [Client 0] fit, config: {'lr': 0.0001}\n",
            " pid=3148)\u001b[0m Epoch 1: train loss 0.049380384385585785, accuracy 0.42844444444444446\n",
            " pid=3148)\u001b[0m Epoch 2: train loss 0.04636763781309128, accuracy 0.45844444444444443\n",
            " pid=3148)\u001b[0m Epoch 3: train loss 0.0438212975859642, accuracy 0.48333333333333334\n",
            " pid=3148)\u001b[0m Epoch 4: train loss 0.0414888933300972, accuracy 0.5148888888888888\n",
            " pid=3148)\u001b[0m Epoch 5: train loss 0.03941379114985466, accuracy 0.5451111111111111\n",
            " pid=3148)\u001b[0m [Client 1] fit, config: {'lr': 0.0001}\n",
            " pid=3148)\u001b[0m Epoch 1: train loss 0.04885529726743698, accuracy 0.42844444444444446\n",
            " pid=3148)\u001b[0m Epoch 2: train loss 0.04578426107764244, accuracy 0.4671111111111111\n",
            " pid=3148)\u001b[0m Epoch 3: train loss 0.044018059968948364, accuracy 0.49622222222222223\n",
            " pid=3148)\u001b[0m Epoch 4: train loss 0.04152809455990791, accuracy 0.5215555555555556\n",
            " pid=3148)\u001b[0m Epoch 5: train loss 0.03952890262007713, accuracy 0.5473333333333333\n",
            " pid=3148)\u001b[0m [Client 2] fit, config: {'lr': 0.0001}\n",
            " pid=3148)\u001b[0m Epoch 1: train loss 0.05024676397442818, accuracy 0.41933333333333334\n",
            " pid=3148)\u001b[0m Epoch 2: train loss 0.04696180298924446, accuracy 0.45111111111111113\n",
            " pid=3148)\u001b[0m Epoch 3: train loss 0.044424086809158325, accuracy 0.48044444444444445\n",
            " pid=3148)\u001b[0m Epoch 4: train loss 0.042650606483221054, accuracy 0.5011111111111111\n",
            " pid=3148)\u001b[0m Epoch 5: train loss 0.04085204377770424, accuracy 0.5253333333333333\n",
            " pid=3148)\u001b[0m [Client 4] fit, config: {'lr': 0.0001}\n",
            " pid=3148)\u001b[0m Epoch 1: train loss 0.048995647579431534, accuracy 0.43177777777777776\n",
            " pid=3148)\u001b[0m Epoch 2: train loss 0.04614078626036644, accuracy 0.4713333333333333\n",
            " pid=3148)\u001b[0m Epoch 3: train loss 0.043881721794605255, accuracy 0.494\n",
            " pid=3148)\u001b[0m Epoch 4: train loss 0.04201384633779526, accuracy 0.512\n",
            " pid=3148)\u001b[0m Epoch 5: train loss 0.03998293727636337, accuracy 0.5408888888888889\n",
            " pid=3148)\u001b[0m [Client 3] fit, config: {'lr': 0.0001}\n",
            " pid=3148)\u001b[0m Epoch 1: train loss 0.050411373376846313, accuracy 0.416\n",
            " pid=3148)\u001b[0m Epoch 2: train loss 0.047128692269325256, accuracy 0.4508888888888889\n",
            " pid=3148)\u001b[0m Epoch 3: train loss 0.04494022950530052, accuracy 0.4831111111111111\n",
            " pid=3148)\u001b[0m Epoch 4: train loss 0.04303935915231705, accuracy 0.5113333333333333\n"
          ]
        },
        {
          "name": "stderr",
          "output_type": "stream",
          "text": [
            "DEBUG flwr 2024-04-26 10:29:13,574 | server.py:232 | fit_round 2 received 5 results and 0 failures\n",
            "DEBUG flwr 2024-04-26 10:29:13,592 | server.py:168 | evaluate_round 2: strategy sampled 5 clients (out of 5)\n"
          ]
        },
        {
          "name": "stdout",
          "output_type": "stream",
          "text": [
            " pid=3148)\u001b[0m Epoch 5: train loss 0.04061344638466835, accuracy 0.5366666666666666\n",
            " pid=3148)\u001b[0m [Client 3] evaluate, config: {}\n",
            " pid=3148)\u001b[0m Client 3 loss 0.044354673504829405\n",
            " pid=3148)\u001b[0m Client 3 accuracy 0.492\n",
            " pid=3148)\u001b[0m [Client 4] evaluate, config: {}\n",
            " pid=3148)\u001b[0m Client 4 loss 0.044848423004150394\n",
            " pid=3148)\u001b[0m Client 4 accuracy 0.442\n",
            " pid=3148)\u001b[0m [Client 1] evaluate, config: {}\n",
            " pid=3148)\u001b[0m Client 1 loss 0.04521307981014252\n",
            " pid=3148)\u001b[0m Client 1 accuracy 0.486\n",
            " pid=3148)\u001b[0m [Client 0] evaluate, config: {}\n",
            " pid=3148)\u001b[0m Client 0 loss 0.046326953887939455\n",
            " pid=3148)\u001b[0m Client 0 accuracy 0.462\n",
            " pid=3148)\u001b[0m [Client 2] evaluate, config: {}\n"
          ]
        },
        {
          "name": "stderr",
          "output_type": "stream",
          "text": [
            "DEBUG flwr 2024-04-26 10:29:21,429 | server.py:182 | evaluate_round 2 received 5 results and 0 failures\n",
            "DEBUG flwr 2024-04-26 10:29:21,433 | server.py:218 | fit_round 3: strategy sampled 5 clients (out of 5)\n"
          ]
        },
        {
          "name": "stdout",
          "output_type": "stream",
          "text": [
            " pid=3148)\u001b[0m Client 2 loss 0.04710496044158936\n",
            " pid=3148)\u001b[0m Client 2 accuracy 0.48\n",
            " pid=3148)\u001b[0m [Client 4] fit, config: {'lr': 0.0001}\n",
            " pid=3148)\u001b[0m Epoch 1: train loss 0.04296920448541641, accuracy 0.5075555555555555\n",
            " pid=3148)\u001b[0m Epoch 2: train loss 0.04073119908571243, accuracy 0.5462222222222223\n",
            " pid=3148)\u001b[0m Epoch 3: train loss 0.03810363635420799, accuracy 0.5702222222222222\n",
            " pid=3148)\u001b[0m Epoch 4: train loss 0.03579902648925781, accuracy 0.5886666666666667\n",
            " pid=3148)\u001b[0m Epoch 5: train loss 0.03366899490356445, accuracy 0.6153333333333333\n",
            " pid=3148)\u001b[0m [Client 3] fit, config: {'lr': 0.0001}\n",
            " pid=3148)\u001b[0m Epoch 1: train loss 0.043893907219171524, accuracy 0.49266666666666664\n",
            " pid=3148)\u001b[0m Epoch 2: train loss 0.04084944725036621, accuracy 0.534\n",
            " pid=3148)\u001b[0m Epoch 3: train loss 0.038284461945295334, accuracy 0.5628888888888889\n",
            " pid=3148)\u001b[0m Epoch 4: train loss 0.036223605275154114, accuracy 0.5933333333333334\n",
            " pid=3148)\u001b[0m Epoch 5: train loss 0.034128930419683456, accuracy 0.6064444444444445\n",
            " pid=3148)\u001b[0m [Client 1] fit, config: {'lr': 0.0001}\n",
            " pid=3148)\u001b[0m Epoch 1: train loss 0.04245300590991974, accuracy 0.5073333333333333\n",
            " pid=3148)\u001b[0m Epoch 2: train loss 0.03953913599252701, accuracy 0.544\n",
            " pid=3148)\u001b[0m Epoch 3: train loss 0.037577707320451736, accuracy 0.5686666666666667\n",
            " pid=3148)\u001b[0m Epoch 4: train loss 0.03498218208551407, accuracy 0.5926666666666667\n",
            " pid=3148)\u001b[0m Epoch 5: train loss 0.033123161643743515, accuracy 0.6197777777777778\n",
            " pid=3148)\u001b[0m [Client 2] fit, config: {'lr': 0.0001}\n",
            " pid=3148)\u001b[0m Epoch 1: train loss 0.04355548322200775, accuracy 0.4886666666666667\n",
            " pid=3148)\u001b[0m Epoch 2: train loss 0.04096316173672676, accuracy 0.5204444444444445\n",
            " pid=3148)\u001b[0m Epoch 3: train loss 0.038792699575424194, accuracy 0.5446666666666666\n",
            " pid=3148)\u001b[0m Epoch 4: train loss 0.036023180931806564, accuracy 0.5817777777777777\n",
            " pid=3148)\u001b[0m Epoch 5: train loss 0.03376646712422371, accuracy 0.6106666666666667\n",
            " pid=3148)\u001b[0m [Client 0] fit, config: {'lr': 0.0001}\n",
            " pid=3148)\u001b[0m Epoch 1: train loss 0.04300225153565407, accuracy 0.5008888888888889\n",
            " pid=3148)\u001b[0m Epoch 2: train loss 0.040017466992139816, accuracy 0.5362222222222223\n",
            " pid=3148)\u001b[0m Epoch 3: train loss 0.03765682503581047, accuracy 0.5597777777777778\n",
            " pid=3148)\u001b[0m Epoch 4: train loss 0.035813115537166595, accuracy 0.5946666666666667\n"
          ]
        },
        {
          "name": "stderr",
          "output_type": "stream",
          "text": [
            "DEBUG flwr 2024-04-26 10:30:32,099 | server.py:232 | fit_round 3 received 5 results and 0 failures\n",
            "DEBUG flwr 2024-04-26 10:30:32,116 | server.py:168 | evaluate_round 3: strategy sampled 5 clients (out of 5)\n"
          ]
        },
        {
          "name": "stdout",
          "output_type": "stream",
          "text": [
            " pid=3148)\u001b[0m Epoch 5: train loss 0.03360377624630928, accuracy 0.6151111111111112\n",
            " pid=3148)\u001b[0m [Client 0] evaluate, config: {}\n",
            " pid=3148)\u001b[0m Client 0 loss 0.043073678374290464\n",
            " pid=3148)\u001b[0m Client 0 accuracy 0.522\n",
            " pid=3148)\u001b[0m [Client 4] evaluate, config: {}\n",
            " pid=3148)\u001b[0m Client 4 loss 0.04158707094192505\n",
            " pid=3148)\u001b[0m Client 4 accuracy 0.52\n",
            " pid=3148)\u001b[0m [Client 3] evaluate, config: {}\n",
            " pid=3148)\u001b[0m Client 3 loss 0.04158520972728729\n",
            " pid=3148)\u001b[0m Client 3 accuracy 0.56\n",
            " pid=3148)\u001b[0m [Client 2] evaluate, config: {}\n"
          ]
        },
        {
          "name": "stderr",
          "output_type": "stream",
          "text": [
            "DEBUG flwr 2024-04-26 10:30:39,708 | server.py:182 | evaluate_round 3 received 5 results and 0 failures\n",
            "DEBUG flwr 2024-04-26 10:30:39,711 | server.py:218 | fit_round 4: strategy sampled 5 clients (out of 5)\n"
          ]
        },
        {
          "name": "stdout",
          "output_type": "stream",
          "text": [
            " pid=3148)\u001b[0m Client 2 loss 0.044143662929534914\n",
            " pid=3148)\u001b[0m Client 2 accuracy 0.51\n",
            " pid=3148)\u001b[0m [Client 1] evaluate, config: {}\n",
            " pid=3148)\u001b[0m Client 1 loss 0.041889960765838626\n",
            " pid=3148)\u001b[0m Client 1 accuracy 0.512\n",
            " pid=3148)\u001b[0m [Client 1] fit, config: {'lr': 0.0001}\n",
            " pid=3148)\u001b[0m Epoch 1: train loss 0.038438159972429276, accuracy 0.5653333333333334\n",
            " pid=3148)\u001b[0m Epoch 2: train loss 0.03467791900038719, accuracy 0.6037777777777777\n",
            " pid=3148)\u001b[0m Epoch 3: train loss 0.031998105347156525, accuracy 0.64\n",
            " pid=3148)\u001b[0m Epoch 4: train loss 0.029406331479549408, accuracy 0.6637777777777778\n",
            " pid=3148)\u001b[0m Epoch 5: train loss 0.026841752231121063, accuracy 0.6993333333333334\n",
            " pid=3148)\u001b[0m [Client 2] fit, config: {'lr': 0.0001}\n",
            " pid=3148)\u001b[0m Epoch 1: train loss 0.039135150611400604, accuracy 0.5566666666666666\n",
            " pid=3148)\u001b[0m Epoch 2: train loss 0.03543497249484062, accuracy 0.5893333333333334\n",
            " pid=3148)\u001b[0m Epoch 3: train loss 0.03280240297317505, accuracy 0.6293333333333333\n",
            " pid=3148)\u001b[0m Epoch 4: train loss 0.02962346374988556, accuracy 0.6648888888888889\n",
            " pid=3148)\u001b[0m Epoch 5: train loss 0.026703521609306335, accuracy 0.6944444444444444\n",
            " pid=3148)\u001b[0m [Client 0] fit, config: {'lr': 0.0001}\n",
            " pid=3148)\u001b[0m Epoch 1: train loss 0.03885645419359207, accuracy 0.5557777777777778\n",
            " pid=3148)\u001b[0m Epoch 2: train loss 0.035297755151987076, accuracy 0.5922222222222222\n",
            " pid=3148)\u001b[0m Epoch 3: train loss 0.03244759514927864, accuracy 0.6288888888888889\n",
            " pid=3148)\u001b[0m Epoch 4: train loss 0.030361687764525414, accuracy 0.6626666666666666\n",
            " pid=3148)\u001b[0m Epoch 5: train loss 0.027058936655521393, accuracy 0.696\n",
            " pid=3148)\u001b[0m [Client 3] fit, config: {'lr': 0.0001}\n",
            " pid=3148)\u001b[0m Epoch 1: train loss 0.03962825983762741, accuracy 0.5446666666666666\n",
            " pid=3148)\u001b[0m Epoch 2: train loss 0.03619875758886337, accuracy 0.5893333333333334\n",
            " pid=3148)\u001b[0m Epoch 3: train loss 0.03337007388472557, accuracy 0.62\n",
            " pid=3148)\u001b[0m Epoch 4: train loss 0.0307286586612463, accuracy 0.6546666666666666\n",
            " pid=3148)\u001b[0m Epoch 5: train loss 0.028377793729305267, accuracy 0.6824444444444444\n",
            " pid=3148)\u001b[0m [Client 4] fit, config: {'lr': 0.0001}\n",
            " pid=3148)\u001b[0m Epoch 1: train loss 0.038951653987169266, accuracy 0.5666666666666667\n",
            " pid=3148)\u001b[0m Epoch 2: train loss 0.03560546413064003, accuracy 0.6\n",
            " pid=3148)\u001b[0m Epoch 3: train loss 0.03254557028412819, accuracy 0.628\n",
            " pid=3148)\u001b[0m Epoch 4: train loss 0.02973298914730549, accuracy 0.6722222222222223\n"
          ]
        },
        {
          "name": "stderr",
          "output_type": "stream",
          "text": [
            "DEBUG flwr 2024-04-26 10:31:53,884 | server.py:232 | fit_round 4 received 5 results and 0 failures\n",
            "DEBUG flwr 2024-04-26 10:31:53,902 | server.py:168 | evaluate_round 4: strategy sampled 5 clients (out of 5)\n"
          ]
        },
        {
          "name": "stdout",
          "output_type": "stream",
          "text": [
            " pid=3148)\u001b[0m Epoch 5: train loss 0.02730598673224449, accuracy 0.6993333333333334\n",
            " pid=3148)\u001b[0m [Client 1] evaluate, config: {}\n",
            " pid=3148)\u001b[0m Client 1 loss 0.040309632062911986\n",
            " pid=3148)\u001b[0m Client 1 accuracy 0.556\n",
            " pid=3148)\u001b[0m [Client 0] evaluate, config: {}\n",
            " pid=3148)\u001b[0m Client 0 loss 0.041980412125587466\n",
            " pid=3148)\u001b[0m Client 0 accuracy 0.526\n",
            " pid=3148)\u001b[0m [Client 4] evaluate, config: {}\n",
            " pid=3148)\u001b[0m Client 4 loss 0.04038746416568756\n",
            " pid=3148)\u001b[0m Client 4 accuracy 0.53\n",
            " pid=3148)\u001b[0m [Client 3] evaluate, config: {}\n"
          ]
        },
        {
          "name": "stderr",
          "output_type": "stream",
          "text": [
            "DEBUG flwr 2024-04-26 10:32:01,552 | server.py:182 | evaluate_round 4 received 5 results and 0 failures\n",
            "DEBUG flwr 2024-04-26 10:32:01,554 | server.py:218 | fit_round 5: strategy sampled 5 clients (out of 5)\n"
          ]
        },
        {
          "name": "stdout",
          "output_type": "stream",
          "text": [
            " pid=3148)\u001b[0m Client 3 loss 0.04172355854511261\n",
            " pid=3148)\u001b[0m Client 3 accuracy 0.56\n",
            " pid=3148)\u001b[0m [Client 2] evaluate, config: {}\n",
            " pid=3148)\u001b[0m Client 2 loss 0.043773475646972655\n",
            " pid=3148)\u001b[0m Client 2 accuracy 0.534\n",
            " pid=3148)\u001b[0m [Client 2] fit, config: {'lr': 0.0001}\n",
            " pid=3148)\u001b[0m Epoch 1: train loss 0.035662684589624405, accuracy 0.59\n",
            " pid=3148)\u001b[0m Epoch 2: train loss 0.030764631927013397, accuracy 0.6493333333333333\n",
            " pid=3148)\u001b[0m Epoch 3: train loss 0.02723437175154686, accuracy 0.6964444444444444\n",
            " pid=3148)\u001b[0m Epoch 4: train loss 0.024292131885886192, accuracy 0.722\n",
            " pid=3148)\u001b[0m Epoch 5: train loss 0.020671600475907326, accuracy 0.7757777777777778\n",
            " pid=3148)\u001b[0m [Client 0] fit, config: {'lr': 0.0001}\n",
            " pid=3148)\u001b[0m Epoch 1: train loss 0.03536795452237129, accuracy 0.5973333333333334\n",
            " pid=3148)\u001b[0m Epoch 2: train loss 0.030934451147913933, accuracy 0.6497777777777778\n",
            " pid=3148)\u001b[0m Epoch 3: train loss 0.027601217851042747, accuracy 0.6937777777777778\n",
            " pid=3148)\u001b[0m Epoch 4: train loss 0.024573536589741707, accuracy 0.7273333333333334\n",
            " pid=3148)\u001b[0m Epoch 5: train loss 0.021983006969094276, accuracy 0.7588888888888888\n",
            " pid=3148)\u001b[0m [Client 4] fit, config: {'lr': 0.0001}\n",
            " pid=3148)\u001b[0m Epoch 1: train loss 0.03585664555430412, accuracy 0.5986666666666667\n",
            " pid=3148)\u001b[0m Epoch 2: train loss 0.030958127230405807, accuracy 0.6544444444444445\n",
            " pid=3148)\u001b[0m Epoch 3: train loss 0.027998946607112885, accuracy 0.6866666666666666\n",
            " pid=3148)\u001b[0m Epoch 4: train loss 0.024655671790242195, accuracy 0.7264444444444444\n",
            " pid=3148)\u001b[0m Epoch 5: train loss 0.022078862413764, accuracy 0.7464444444444445\n",
            " pid=3148)\u001b[0m [Client 1] fit, config: {'lr': 0.0001}\n",
            " pid=3148)\u001b[0m Epoch 1: train loss 0.03502225875854492, accuracy 0.6024444444444444\n",
            " pid=3148)\u001b[0m Epoch 2: train loss 0.030060360208153725, accuracy 0.6606666666666666\n",
            " pid=3148)\u001b[0m Epoch 3: train loss 0.02691785804927349, accuracy 0.7046666666666667\n",
            " pid=3148)\u001b[0m Epoch 4: train loss 0.0242591742426157, accuracy 0.7328888888888889\n",
            " pid=3148)\u001b[0m Epoch 5: train loss 0.021140066906809807, accuracy 0.7682222222222223\n",
            " pid=3148)\u001b[0m [Client 3] fit, config: {'lr': 0.0001}\n",
            " pid=3148)\u001b[0m Epoch 1: train loss 0.03631316125392914, accuracy 0.5882222222222222\n",
            " pid=3148)\u001b[0m Epoch 2: train loss 0.032136835157871246, accuracy 0.6355555555555555\n",
            " pid=3148)\u001b[0m Epoch 3: train loss 0.02815219573676586, accuracy 0.6813333333333333\n",
            " pid=3148)\u001b[0m Epoch 4: train loss 0.025456411764025688, accuracy 0.7146666666666667\n"
          ]
        },
        {
          "name": "stderr",
          "output_type": "stream",
          "text": [
            "DEBUG flwr 2024-04-26 10:33:14,446 | server.py:232 | fit_round 5 received 5 results and 0 failures\n",
            "DEBUG flwr 2024-04-26 10:33:14,466 | server.py:168 | evaluate_round 5: strategy sampled 5 clients (out of 5)\n"
          ]
        },
        {
          "name": "stdout",
          "output_type": "stream",
          "text": [
            " pid=3148)\u001b[0m Epoch 5: train loss 0.021913520991802216, accuracy 0.7533333333333333\n",
            " pid=3148)\u001b[0m [Client 0] evaluate, config: {}\n",
            " pid=3148)\u001b[0m Client 0 loss 0.042004583954811096\n",
            " pid=3148)\u001b[0m Client 0 accuracy 0.544\n",
            " pid=3148)\u001b[0m [Client 4] evaluate, config: {}\n",
            " pid=3148)\u001b[0m Client 4 loss 0.04056053626537323\n",
            " pid=3148)\u001b[0m Client 4 accuracy 0.536\n",
            " pid=3148)\u001b[0m [Client 3] evaluate, config: {}\n",
            " pid=3148)\u001b[0m Client 3 loss 0.042433889150619505\n",
            " pid=3148)\u001b[0m Client 3 accuracy 0.57\n",
            " pid=3148)\u001b[0m [Client 1] evaluate, config: {}\n",
            " pid=3148)\u001b[0m Client 1 loss 0.041682324767112734\n",
            " pid=3148)\u001b[0m Client 1 accuracy 0.532\n"
          ]
        },
        {
          "name": "stderr",
          "output_type": "stream",
          "text": [
            "DEBUG flwr 2024-04-26 10:33:22,567 | server.py:182 | evaluate_round 5 received 5 results and 0 failures\n",
            "DEBUG flwr 2024-04-26 10:33:22,569 | server.py:218 | fit_round 6: strategy sampled 5 clients (out of 5)\n"
          ]
        },
        {
          "name": "stdout",
          "output_type": "stream",
          "text": [
            " pid=3148)\u001b[0m [Client 2] evaluate, config: {}\n",
            " pid=3148)\u001b[0m Client 2 loss 0.04350972759723663\n",
            " pid=3148)\u001b[0m Client 2 accuracy 0.562\n",
            " pid=3148)\u001b[0m [Client 1] fit, config: {'lr': 0.0001}\n",
            " pid=3148)\u001b[0m Epoch 1: train loss 0.032505638897418976, accuracy 0.6222222222222222\n",
            " pid=3148)\u001b[0m Epoch 2: train loss 0.02671327441930771, accuracy 0.698\n",
            " pid=3148)\u001b[0m Epoch 3: train loss 0.022511044517159462, accuracy 0.7522222222222222\n",
            " pid=3148)\u001b[0m Epoch 4: train loss 0.019361617043614388, accuracy 0.7906666666666666\n",
            " pid=3148)\u001b[0m Epoch 5: train loss 0.016203103587031364, accuracy 0.8275555555555556\n",
            " pid=3148)\u001b[0m [Client 2] fit, config: {'lr': 0.0001}\n",
            " pid=3148)\u001b[0m Epoch 1: train loss 0.03249535337090492, accuracy 0.6286666666666667\n",
            " pid=3148)\u001b[0m Epoch 2: train loss 0.02686055563390255, accuracy 0.6928888888888889\n",
            " pid=3148)\u001b[0m Epoch 3: train loss 0.022480657324194908, accuracy 0.7475555555555555\n",
            " pid=3148)\u001b[0m Epoch 4: train loss 0.018689971417188644, accuracy 0.7982222222222223\n",
            " pid=3148)\u001b[0m Epoch 5: train loss 0.016083940863609314, accuracy 0.8248888888888889\n",
            " pid=3148)\u001b[0m [Client 0] fit, config: {'lr': 0.0001}\n",
            " pid=3148)\u001b[0m Epoch 1: train loss 0.03263136371970177, accuracy 0.6231111111111111\n",
            " pid=3148)\u001b[0m Epoch 2: train loss 0.026886526495218277, accuracy 0.7006666666666667\n",
            " pid=3148)\u001b[0m Epoch 3: train loss 0.02301671728491783, accuracy 0.7457777777777778\n",
            " pid=3148)\u001b[0m Epoch 4: train loss 0.019756825640797615, accuracy 0.7835555555555556\n",
            " pid=3148)\u001b[0m Epoch 5: train loss 0.01633894443511963, accuracy 0.8262222222222222\n",
            " pid=3148)\u001b[0m [Client 3] fit, config: {'lr': 0.0001}\n",
            " pid=3148)\u001b[0m Epoch 1: train loss 0.03338315710425377, accuracy 0.6211111111111111\n",
            " pid=3148)\u001b[0m Epoch 2: train loss 0.02746477909386158, accuracy 0.6886666666666666\n",
            " pid=3148)\u001b[0m Epoch 3: train loss 0.02368270419538021, accuracy 0.7362222222222222\n",
            " pid=3148)\u001b[0m Epoch 4: train loss 0.020321520045399666, accuracy 0.774\n",
            " pid=3148)\u001b[0m Epoch 5: train loss 0.017380204051733017, accuracy 0.8108888888888889\n",
            " pid=3148)\u001b[0m [Client 4] fit, config: {'lr': 0.0001}\n",
            " pid=3148)\u001b[0m Epoch 1: train loss 0.0329216904938221, accuracy 0.6331111111111111\n",
            " pid=3148)\u001b[0m Epoch 2: train loss 0.027014436200261116, accuracy 0.6988888888888889\n",
            " pid=3148)\u001b[0m Epoch 3: train loss 0.022922584787011147, accuracy 0.7446666666666667\n",
            " pid=3148)\u001b[0m Epoch 4: train loss 0.019671788439154625, accuracy 0.7833333333333333\n"
          ]
        },
        {
          "name": "stderr",
          "output_type": "stream",
          "text": [
            "DEBUG flwr 2024-04-26 10:34:35,854 | server.py:232 | fit_round 6 received 5 results and 0 failures\n",
            "DEBUG flwr 2024-04-26 10:34:35,872 | server.py:168 | evaluate_round 6: strategy sampled 5 clients (out of 5)\n"
          ]
        },
        {
          "name": "stdout",
          "output_type": "stream",
          "text": [
            " pid=3148)\u001b[0m Epoch 5: train loss 0.01642591692507267, accuracy 0.8226666666666667\n",
            " pid=3148)\u001b[0m [Client 4] evaluate, config: {}\n",
            " pid=3148)\u001b[0m Client 4 loss 0.04407630062103272\n",
            " pid=3148)\u001b[0m Client 4 accuracy 0.534\n",
            " pid=3148)\u001b[0m [Client 0] evaluate, config: {}\n",
            " pid=3148)\u001b[0m Client 0 loss 0.044447457313537594\n",
            " pid=3148)\u001b[0m Client 0 accuracy 0.56\n",
            " pid=3148)\u001b[0m [Client 3] evaluate, config: {}\n",
            " pid=3148)\u001b[0m Client 3 loss 0.045558897137641906\n",
            " pid=3148)\u001b[0m Client 3 accuracy 0.566\n",
            " pid=3148)\u001b[0m [Client 1] evaluate, config: {}\n",
            " pid=3148)\u001b[0m Client 1 loss 0.043820194482803346\n",
            " pid=3148)\u001b[0m Client 1 accuracy 0.548\n",
            " pid=3148)\u001b[0m [Client 2] evaluate, config: {}\n"
          ]
        },
        {
          "name": "stderr",
          "output_type": "stream",
          "text": [
            "DEBUG flwr 2024-04-26 10:34:44,139 | server.py:182 | evaluate_round 6 received 5 results and 0 failures\n",
            "DEBUG flwr 2024-04-26 10:34:44,141 | server.py:218 | fit_round 7: strategy sampled 5 clients (out of 5)\n"
          ]
        },
        {
          "name": "stdout",
          "output_type": "stream",
          "text": [
            " pid=3148)\u001b[0m Client 2 loss 0.04648005723953247\n",
            " pid=3148)\u001b[0m Client 2 accuracy 0.562\n",
            " pid=3148)\u001b[0m [Client 2] fit, config: {'lr': 0.0001}\n",
            " pid=3148)\u001b[0m Epoch 1: train loss 0.02958025224506855, accuracy 0.6653333333333333\n",
            " pid=3148)\u001b[0m Epoch 2: train loss 0.022610459476709366, accuracy 0.7437777777777778\n",
            " pid=3148)\u001b[0m Epoch 3: train loss 0.01803544908761978, accuracy 0.8028888888888889\n",
            " pid=3148)\u001b[0m Epoch 4: train loss 0.014490395784378052, accuracy 0.8446666666666667\n",
            " pid=3148)\u001b[0m Epoch 5: train loss 0.012343727052211761, accuracy 0.8606666666666667\n",
            " pid=3148)\u001b[0m [Client 0] fit, config: {'lr': 0.0001}\n",
            " pid=3148)\u001b[0m Epoch 1: train loss 0.02985488250851631, accuracy 0.6573333333333333\n",
            " pid=3148)\u001b[0m Epoch 2: train loss 0.022942595183849335, accuracy 0.7391111111111112\n",
            " pid=3148)\u001b[0m Epoch 3: train loss 0.019015468657016754, accuracy 0.79\n",
            " pid=3148)\u001b[0m Epoch 4: train loss 0.015658831223845482, accuracy 0.8315555555555556\n",
            " pid=3148)\u001b[0m Epoch 5: train loss 0.012403889559209347, accuracy 0.8662222222222222\n",
            " pid=3148)\u001b[0m [Client 4] fit, config: {'lr': 0.0001}\n",
            " pid=3148)\u001b[0m Epoch 1: train loss 0.030440738424658775, accuracy 0.6588888888888889\n",
            " pid=3148)\u001b[0m Epoch 2: train loss 0.023245710879564285, accuracy 0.7444444444444445\n",
            " pid=3148)\u001b[0m Epoch 3: train loss 0.019219212234020233, accuracy 0.7922222222222223\n",
            " pid=3148)\u001b[0m Epoch 4: train loss 0.015225782990455627, accuracy 0.8317777777777777\n",
            " pid=3148)\u001b[0m Epoch 5: train loss 0.011951828375458717, accuracy 0.8771111111111111\n",
            " pid=3148)\u001b[0m [Client 3] fit, config: {'lr': 0.0001}\n",
            " pid=3148)\u001b[0m Epoch 1: train loss 0.03074295073747635, accuracy 0.6524444444444445\n",
            " pid=3148)\u001b[0m Epoch 2: train loss 0.024028144776821136, accuracy 0.7173333333333334\n",
            " pid=3148)\u001b[0m Epoch 3: train loss 0.019386831670999527, accuracy 0.7873333333333333\n",
            " pid=3148)\u001b[0m Epoch 4: train loss 0.015736930072307587, accuracy 0.8317777777777777\n",
            " pid=3148)\u001b[0m Epoch 5: train loss 0.012370878830552101, accuracy 0.874\n",
            " pid=3148)\u001b[0m [Client 1] fit, config: {'lr': 0.0001}\n",
            " pid=3148)\u001b[0m Epoch 1: train loss 0.029635444283485413, accuracy 0.6631111111111111\n",
            " pid=3148)\u001b[0m Epoch 2: train loss 0.022579055279493332, accuracy 0.7477777777777778\n",
            " pid=3148)\u001b[0m Epoch 3: train loss 0.018796324729919434, accuracy 0.7942222222222223\n",
            " pid=3148)\u001b[0m Epoch 4: train loss 0.015155170112848282, accuracy 0.836\n"
          ]
        },
        {
          "name": "stderr",
          "output_type": "stream",
          "text": [
            "DEBUG flwr 2024-04-26 10:35:57,641 | server.py:232 | fit_round 7 received 5 results and 0 failures\n",
            "DEBUG flwr 2024-04-26 10:35:57,659 | server.py:168 | evaluate_round 7: strategy sampled 5 clients (out of 5)\n"
          ]
        },
        {
          "name": "stdout",
          "output_type": "stream",
          "text": [
            " pid=3148)\u001b[0m Epoch 5: train loss 0.01281727384775877, accuracy 0.8628888888888889\n",
            " pid=3148)\u001b[0m [Client 3] evaluate, config: {}\n",
            " pid=3148)\u001b[0m Client 3 loss 0.04947247648239136\n",
            " pid=3148)\u001b[0m Client 3 accuracy 0.56\n",
            " pid=3148)\u001b[0m [Client 2] evaluate, config: {}\n",
            " pid=3148)\u001b[0m Client 2 loss 0.048977346539497375\n",
            " pid=3148)\u001b[0m Client 2 accuracy 0.57\n",
            " pid=3148)\u001b[0m [Client 0] evaluate, config: {}\n",
            " pid=3148)\u001b[0m Client 0 loss 0.04674748158454895\n",
            " pid=3148)\u001b[0m Client 0 accuracy 0.564\n",
            " pid=3148)\u001b[0m [Client 1] evaluate, config: {}\n"
          ]
        },
        {
          "name": "stderr",
          "output_type": "stream",
          "text": [
            "DEBUG flwr 2024-04-26 10:36:05,575 | server.py:182 | evaluate_round 7 received 5 results and 0 failures\n",
            "DEBUG flwr 2024-04-26 10:36:05,578 | server.py:218 | fit_round 8: strategy sampled 5 clients (out of 5)\n"
          ]
        },
        {
          "name": "stdout",
          "output_type": "stream",
          "text": [
            " pid=3148)\u001b[0m Client 1 loss 0.04689988052845001\n",
            " pid=3148)\u001b[0m Client 1 accuracy 0.566\n",
            " pid=3148)\u001b[0m [Client 4] evaluate, config: {}\n",
            " pid=3148)\u001b[0m Client 4 loss 0.046563173055648804\n",
            " pid=3148)\u001b[0m Client 4 accuracy 0.544\n",
            " pid=3148)\u001b[0m [Client 0] fit, config: {'lr': 0.0001}\n",
            " pid=3148)\u001b[0m Epoch 1: train loss 0.02830803580582142, accuracy 0.6786666666666666\n",
            " pid=3148)\u001b[0m Epoch 2: train loss 0.019780129194259644, accuracy 0.7813333333333333\n",
            " pid=3148)\u001b[0m Epoch 3: train loss 0.015292268246412277, accuracy 0.828\n",
            " pid=3148)\u001b[0m Epoch 4: train loss 0.011967271566390991, accuracy 0.8768888888888889\n",
            " pid=3148)\u001b[0m Epoch 5: train loss 0.009503932669758797, accuracy 0.9033333333333333\n",
            " pid=3148)\u001b[0m [Client 1] fit, config: {'lr': 0.0001}\n",
            " pid=3148)\u001b[0m Epoch 1: train loss 0.028065605089068413, accuracy 0.6775555555555556\n",
            " pid=3148)\u001b[0m Epoch 2: train loss 0.019198862835764885, accuracy 0.7835555555555556\n",
            " pid=3148)\u001b[0m Epoch 3: train loss 0.014984847977757454, accuracy 0.8355555555555556\n",
            " pid=3148)\u001b[0m Epoch 4: train loss 0.011315375566482544, accuracy 0.8824444444444445\n",
            " pid=3148)\u001b[0m Epoch 5: train loss 0.009065092541277409, accuracy 0.9108888888888889\n",
            " pid=3148)\u001b[0m [Client 2] fit, config: {'lr': 0.0001}\n",
            " pid=3148)\u001b[0m Epoch 1: train loss 0.027852006256580353, accuracy 0.6828888888888889\n",
            " pid=3148)\u001b[0m Epoch 2: train loss 0.01915985532104969, accuracy 0.7773333333333333\n",
            " pid=3148)\u001b[0m Epoch 3: train loss 0.014553127810359001, accuracy 0.8431111111111111\n",
            " pid=3148)\u001b[0m Epoch 4: train loss 0.010991588234901428, accuracy 0.8893333333333333\n",
            " pid=3148)\u001b[0m Epoch 5: train loss 0.008879627101123333, accuracy 0.9068888888888889\n",
            " pid=3148)\u001b[0m [Client 4] fit, config: {'lr': 0.0001}\n",
            " pid=3148)\u001b[0m Epoch 1: train loss 0.02810167707502842, accuracy 0.6848888888888889\n",
            " pid=3148)\u001b[0m Epoch 2: train loss 0.019875789061188698, accuracy 0.7764444444444445\n",
            " pid=3148)\u001b[0m Epoch 3: train loss 0.015621551312506199, accuracy 0.8302222222222222\n",
            " pid=3148)\u001b[0m Epoch 4: train loss 0.011418383568525314, accuracy 0.8833333333333333\n",
            " pid=3148)\u001b[0m Epoch 5: train loss 0.009274786338210106, accuracy 0.9095555555555556\n",
            " pid=3148)\u001b[0m [Client 3] fit, config: {'lr': 0.0001}\n",
            " pid=3148)\u001b[0m Epoch 1: train loss 0.0289183109998703, accuracy 0.6742222222222222\n",
            " pid=3148)\u001b[0m Epoch 2: train loss 0.02038380317389965, accuracy 0.7697777777777778\n",
            " pid=3148)\u001b[0m Epoch 3: train loss 0.015648948028683662, accuracy 0.8302222222222222\n",
            " pid=3148)\u001b[0m Epoch 4: train loss 0.011709512211382389, accuracy 0.8784444444444445\n"
          ]
        },
        {
          "name": "stderr",
          "output_type": "stream",
          "text": [
            "DEBUG flwr 2024-04-26 10:37:21,534 | server.py:232 | fit_round 8 received 5 results and 0 failures\n",
            "DEBUG flwr 2024-04-26 10:37:21,551 | server.py:168 | evaluate_round 8: strategy sampled 5 clients (out of 5)\n"
          ]
        },
        {
          "name": "stdout",
          "output_type": "stream",
          "text": [
            " pid=3148)\u001b[0m Epoch 5: train loss 0.00885740201920271, accuracy 0.9128888888888889\n",
            " pid=3148)\u001b[0m [Client 0] evaluate, config: {}\n",
            " pid=3148)\u001b[0m Client 0 loss 0.052643283367156984\n",
            " pid=3148)\u001b[0m Client 0 accuracy 0.538\n",
            " pid=3148)\u001b[0m [Client 1] evaluate, config: {}\n",
            " pid=3148)\u001b[0m Client 1 loss 0.05285614049434662\n",
            " pid=3148)\u001b[0m Client 1 accuracy 0.56\n",
            " pid=3148)\u001b[0m [Client 2] evaluate, config: {}\n",
            " pid=3148)\u001b[0m Client 2 loss 0.05301870489120483\n",
            " pid=3148)\u001b[0m Client 2 accuracy 0.57\n",
            " pid=3148)\u001b[0m [Client 4] evaluate, config: {}\n",
            " pid=3148)\u001b[0m Client 4 loss 0.05180688047409058\n",
            " pid=3148)\u001b[0m Client 4 accuracy 0.556\n"
          ]
        },
        {
          "name": "stderr",
          "output_type": "stream",
          "text": [
            "DEBUG flwr 2024-04-26 10:37:29,283 | server.py:182 | evaluate_round 8 received 5 results and 0 failures\n",
            "DEBUG flwr 2024-04-26 10:37:29,286 | server.py:218 | fit_round 9: strategy sampled 5 clients (out of 5)\n"
          ]
        },
        {
          "name": "stdout",
          "output_type": "stream",
          "text": [
            " pid=3148)\u001b[0m [Client 3] evaluate, config: {}\n",
            " pid=3148)\u001b[0m Client 3 loss 0.05528670597076416\n",
            " pid=3148)\u001b[0m Client 3 accuracy 0.548\n",
            " pid=3148)\u001b[0m [Client 1] fit, config: {'lr': 0.0001}\n",
            " pid=3148)\u001b[0m Epoch 1: train loss 0.02560756914317608, accuracy 0.7108888888888889\n",
            " pid=3148)\u001b[0m Epoch 2: train loss 0.01609051413834095, accuracy 0.8213333333333334\n",
            " pid=3148)\u001b[0m Epoch 3: train loss 0.011775873601436615, accuracy 0.8737777777777778\n",
            " pid=3148)\u001b[0m Epoch 4: train loss 0.00888354517519474, accuracy 0.9088888888888889\n",
            " pid=3148)\u001b[0m Epoch 5: train loss 0.006993468850851059, accuracy 0.9342222222222222\n",
            " pid=3148)\u001b[0m [Client 2] fit, config: {'lr': 0.0001}\n",
            " pid=3148)\u001b[0m Epoch 1: train loss 0.025885622948408127, accuracy 0.7066666666666667\n",
            " pid=3148)\u001b[0m Epoch 2: train loss 0.01652582921087742, accuracy 0.8128888888888889\n",
            " pid=3148)\u001b[0m Epoch 3: train loss 0.011359039694070816, accuracy 0.8795555555555555\n",
            " pid=3148)\u001b[0m Epoch 4: train loss 0.008299276232719421, accuracy 0.9166666666666666\n",
            " pid=3148)\u001b[0m Epoch 5: train loss 0.006006310228258371, accuracy 0.9435555555555556\n",
            " pid=3148)\u001b[0m [Client 4] fit, config: {'lr': 0.0001}\n",
            " pid=3148)\u001b[0m Epoch 1: train loss 0.025994662195444107, accuracy 0.7168888888888889\n",
            " pid=3148)\u001b[0m Epoch 2: train loss 0.016589229926466942, accuracy 0.8097777777777778\n",
            " pid=3148)\u001b[0m Epoch 3: train loss 0.011825187131762505, accuracy 0.876\n",
            " pid=3148)\u001b[0m Epoch 4: train loss 0.008988471701741219, accuracy 0.9133333333333333\n",
            " pid=3148)\u001b[0m Epoch 5: train loss 0.00655399402603507, accuracy 0.938\n",
            " pid=3148)\u001b[0m [Client 0] fit, config: {'lr': 0.0001}\n",
            " pid=3148)\u001b[0m Epoch 1: train loss 0.02557765692472458, accuracy 0.7031111111111111\n",
            " pid=3148)\u001b[0m Epoch 2: train loss 0.016099488362669945, accuracy 0.8204444444444444\n",
            " pid=3148)\u001b[0m Epoch 3: train loss 0.01253602746874094, accuracy 0.862\n",
            " pid=3148)\u001b[0m Epoch 4: train loss 0.009300753474235535, accuracy 0.9035555555555556\n",
            " pid=3148)\u001b[0m Epoch 5: train loss 0.00691681494936347, accuracy 0.9291111111111111\n",
            " pid=3148)\u001b[0m [Client 3] fit, config: {'lr': 0.0001}\n",
            " pid=3148)\u001b[0m Epoch 1: train loss 0.026761941611766815, accuracy 0.6986666666666667\n",
            " pid=3148)\u001b[0m Epoch 2: train loss 0.017120864242315292, accuracy 0.8168888888888889\n",
            " pid=3148)\u001b[0m Epoch 3: train loss 0.012640682980418205, accuracy 0.8706666666666667\n",
            " pid=3148)\u001b[0m Epoch 4: train loss 0.00929036270827055, accuracy 0.9004444444444445\n"
          ]
        },
        {
          "name": "stderr",
          "output_type": "stream",
          "text": [
            "DEBUG flwr 2024-04-26 10:38:45,728 | server.py:232 | fit_round 9 received 5 results and 0 failures\n",
            "DEBUG flwr 2024-04-26 10:38:45,745 | server.py:168 | evaluate_round 9: strategy sampled 5 clients (out of 5)\n"
          ]
        },
        {
          "name": "stdout",
          "output_type": "stream",
          "text": [
            " pid=3148)\u001b[0m Epoch 5: train loss 0.007098331116139889, accuracy 0.9293333333333333\n",
            " pid=3148)\u001b[0m [Client 4] evaluate, config: {}\n",
            " pid=3148)\u001b[0m Client 4 loss 0.05807904434204102\n",
            " pid=3148)\u001b[0m Client 4 accuracy 0.534\n",
            " pid=3148)\u001b[0m [Client 0] evaluate, config: {}\n",
            " pid=3148)\u001b[0m Client 0 loss 0.05856193876266479\n",
            " pid=3148)\u001b[0m Client 0 accuracy 0.536\n",
            " pid=3148)\u001b[0m [Client 3] evaluate, config: {}\n",
            " pid=3148)\u001b[0m Client 3 loss 0.06070991110801697\n",
            " pid=3148)\u001b[0m Client 3 accuracy 0.554\n",
            " pid=3148)\u001b[0m [Client 1] evaluate, config: {}\n",
            " pid=3148)\u001b[0m Client 1 loss 0.058941585659980776\n",
            " pid=3148)\u001b[0m Client 1 accuracy 0.544\n"
          ]
        },
        {
          "name": "stderr",
          "output_type": "stream",
          "text": [
            "DEBUG flwr 2024-04-26 10:38:53,430 | server.py:182 | evaluate_round 9 received 5 results and 0 failures\n",
            "DEBUG flwr 2024-04-26 10:38:53,432 | server.py:218 | fit_round 10: strategy sampled 5 clients (out of 5)\n"
          ]
        },
        {
          "name": "stdout",
          "output_type": "stream",
          "text": [
            " pid=3148)\u001b[0m [Client 2] evaluate, config: {}\n",
            " pid=3148)\u001b[0m Client 2 loss 0.05904937076568603\n",
            " pid=3148)\u001b[0m Client 2 accuracy 0.564\n",
            " pid=3148)\u001b[0m [Client 1] fit, config: {'lr': 0.0001}\n",
            " pid=3148)\u001b[0m Epoch 1: train loss 0.024409538134932518, accuracy 0.7268888888888889\n",
            " pid=3148)\u001b[0m Epoch 2: train loss 0.013908816501498222, accuracy 0.8417777777777777\n",
            " pid=3148)\u001b[0m Epoch 3: train loss 0.009301811456680298, accuracy 0.9046666666666666\n",
            " pid=3148)\u001b[0m Epoch 4: train loss 0.006648189388215542, accuracy 0.9353333333333333\n",
            " pid=3148)\u001b[0m Epoch 5: train loss 0.0053961933590471745, accuracy 0.9502222222222222\n",
            " pid=3148)\u001b[0m [Client 3] fit, config: {'lr': 0.0001}\n",
            " pid=3148)\u001b[0m Epoch 1: train loss 0.024961167946457863, accuracy 0.7215555555555555\n",
            " pid=3148)\u001b[0m Epoch 2: train loss 0.01452592108398676, accuracy 0.8408888888888889\n",
            " pid=3148)\u001b[0m Epoch 3: train loss 0.010065106675028801, accuracy 0.8948888888888888\n",
            " pid=3148)\u001b[0m Epoch 4: train loss 0.00737454928457737, accuracy 0.926\n",
            " pid=3148)\u001b[0m Epoch 5: train loss 0.005219832994043827, accuracy 0.9513333333333334\n",
            " pid=3148)\u001b[0m [Client 4] fit, config: {'lr': 0.0001}\n",
            " pid=3148)\u001b[0m Epoch 1: train loss 0.025353029370307922, accuracy 0.7262222222222222\n",
            " pid=3148)\u001b[0m Epoch 2: train loss 0.014521746896207333, accuracy 0.8386666666666667\n",
            " pid=3148)\u001b[0m Epoch 3: train loss 0.010023130103945732, accuracy 0.8951111111111111\n",
            " pid=3148)\u001b[0m Epoch 4: train loss 0.0074381595477461815, accuracy 0.9262222222222222\n",
            " pid=3148)\u001b[0m Epoch 5: train loss 0.005679095163941383, accuracy 0.9462222222222222\n",
            " pid=3148)\u001b[0m [Client 0] fit, config: {'lr': 0.0001}\n",
            " pid=3148)\u001b[0m Epoch 1: train loss 0.024759819731116295, accuracy 0.7235555555555555\n",
            " pid=3148)\u001b[0m Epoch 2: train loss 0.014638561755418777, accuracy 0.8384444444444444\n",
            " pid=3148)\u001b[0m Epoch 3: train loss 0.009875806048512459, accuracy 0.8946666666666667\n",
            " pid=3148)\u001b[0m Epoch 4: train loss 0.007130127865821123, accuracy 0.9317777777777778\n",
            " pid=3148)\u001b[0m Epoch 5: train loss 0.0060871923342347145, accuracy 0.9391111111111111\n",
            " pid=3148)\u001b[0m [Client 2] fit, config: {'lr': 0.0001}\n",
            " pid=3148)\u001b[0m Epoch 1: train loss 0.02423953078687191, accuracy 0.7273333333333334\n",
            " pid=3148)\u001b[0m Epoch 2: train loss 0.013578497804701328, accuracy 0.8488888888888889\n",
            " pid=3148)\u001b[0m Epoch 3: train loss 0.009303980506956577, accuracy 0.8995555555555556\n",
            " pid=3148)\u001b[0m Epoch 4: train loss 0.006732925772666931, accuracy 0.9328888888888889\n"
          ]
        },
        {
          "name": "stderr",
          "output_type": "stream",
          "text": [
            "DEBUG flwr 2024-04-26 10:40:05,354 | server.py:232 | fit_round 10 received 5 results and 0 failures\n",
            "DEBUG flwr 2024-04-26 10:40:05,378 | server.py:168 | evaluate_round 10: strategy sampled 5 clients (out of 5)\n"
          ]
        },
        {
          "name": "stdout",
          "output_type": "stream",
          "text": [
            " pid=3148)\u001b[0m Epoch 5: train loss 0.00501002324745059, accuracy 0.9522222222222222\n",
            " pid=3148)\u001b[0m [Client 2] evaluate, config: {}\n",
            " pid=3148)\u001b[0m Client 2 loss 0.06329944205284119\n",
            " pid=3148)\u001b[0m Client 2 accuracy 0.568\n",
            " pid=3148)\u001b[0m [Client 4] evaluate, config: {}\n",
            " pid=3148)\u001b[0m Client 4 loss 0.06267336559295654\n",
            " pid=3148)\u001b[0m Client 4 accuracy 0.534\n",
            " pid=3148)\u001b[0m [Client 1] evaluate, config: {}\n",
            " pid=3148)\u001b[0m Client 1 loss 0.062106043219566344\n",
            " pid=3148)\u001b[0m Client 1 accuracy 0.576\n",
            " pid=3148)\u001b[0m [Client 0] evaluate, config: {}\n",
            " pid=3148)\u001b[0m Client 0 loss 0.06362659239768982\n",
            " pid=3148)\u001b[0m Client 0 accuracy 0.548\n"
          ]
        },
        {
          "name": "stderr",
          "output_type": "stream",
          "text": [
            "DEBUG flwr 2024-04-26 10:40:12,763 | server.py:182 | evaluate_round 10 received 5 results and 0 failures\n",
            "INFO flwr 2024-04-26 10:40:12,765 | server.py:147 | FL finished in 826.0354007999999\n",
            "INFO flwr 2024-04-26 10:40:12,767 | app.py:218 | app_fit: losses_distributed [(1, 0.057307543420791626), (2, 0.045569618129730226), (3, 0.042455916547775266), (4, 0.041634908509254456), (5, 0.04203821234703063), (6, 0.04487658135890961), (7, 0.0477320716381073), (8, 0.053122343039512646), (9, 0.05906837012767792), (10, 0.06344441199302672)]\n",
            "INFO flwr 2024-04-26 10:40:12,768 | app.py:219 | app_fit: metrics_distributed_fit {}\n",
            "INFO flwr 2024-04-26 10:40:12,769 | app.py:220 | app_fit: metrics_distributed {}\n",
            "INFO flwr 2024-04-26 10:40:12,771 | app.py:221 | app_fit: losses_centralized []\n",
            "INFO flwr 2024-04-26 10:40:12,772 | app.py:222 | app_fit: metrics_centralized {}\n"
          ]
        },
        {
          "name": "stdout",
          "output_type": "stream",
          "text": [
            " pid=3148)\u001b[0m [Client 3] evaluate, config: {}\n"
          ]
        },
        {
          "data": {
            "text/plain": [
              "History (loss, distributed):\n",
              "\tround 1: 0.057307543420791626\n",
              "\tround 2: 0.045569618129730226\n",
              "\tround 3: 0.042455916547775266\n",
              "\tround 4: 0.041634908509254456\n",
              "\tround 5: 0.04203821234703063\n",
              "\tround 6: 0.04487658135890961\n",
              "\tround 7: 0.0477320716381073\n",
              "\tround 8: 0.053122343039512646\n",
              "\tround 9: 0.05906837012767792\n",
              "\tround 10: 0.06344441199302672"
            ]
          },
          "execution_count": 9,
          "metadata": {},
          "output_type": "execute_result"
        }
      ],
      "source": [
        "fl.simulation.start_simulation(\n",
        "    client_fn=client_fn,\n",
        "    num_clients=5,\n",
        "    config=fl.server.ServerConfig(num_rounds=10),\n",
        "    strategy=FedCustom(),  # <-- pass the new strategy here\n",
        "    client_resources=client_resources,\n",
        ")"
      ]
    },
    {
      "cell_type": "code",
      "execution_count": 10,
      "metadata": {},
      "outputs": [
        {
          "name": "stdout",
          "output_type": "stream",
          "text": [
            " pid=3148)\u001b[0m Client 3 loss 0.06551661670207977\n",
            " pid=3148)\u001b[0m Client 3 accuracy 0.544\n"
          ]
        }
      ],
      "source": [
        "from typing import Callable, Union\n",
        "\n",
        "from flwr.common import (\n",
        "    EvaluateIns,\n",
        "    EvaluateRes,\n",
        "    FitIns,\n",
        "    FitRes,\n",
        "    MetricsAggregationFn,\n",
        "    NDArrays,\n",
        "    Parameters,\n",
        "    Scalar,\n",
        "    ndarrays_to_parameters,\n",
        "    parameters_to_ndarrays,\n",
        ")\n",
        "from flwr.server.client_manager import ClientManager\n",
        "from flwr.server.client_proxy import ClientProxy\n",
        "from flwr.server.strategy.aggregate import aggregate, weighted_loss_avg\n",
        "\n",
        "\n",
        "class FedCustom(fl.server.strategy.Strategy):\n",
        "    def __init__(\n",
        "        self,\n",
        "        fraction_fit: float = 1.0,\n",
        "        fraction_evaluate: float = 1.0,\n",
        "        min_fit_clients: int = 2,\n",
        "        min_evaluate_clients: int = 2,\n",
        "        min_available_clients: int = 2,\n",
        "    ) -> None:\n",
        "        super().__init__()\n",
        "        self.fraction_fit = fraction_fit\n",
        "        self.fraction_evaluate = fraction_evaluate\n",
        "        self.min_fit_clients = min_fit_clients\n",
        "        self.min_evaluate_clients = min_evaluate_clients\n",
        "        self.min_available_clients = min_available_clients\n",
        "\n",
        "    def __repr__(self) -> str:\n",
        "        return \"FedCustom\"\n",
        "\n",
        "    def initialize_parameters(\n",
        "        self, client_manager: ClientManager\n",
        "    ) -> Optional[Parameters]:\n",
        "        \"\"\"Initialize global model parameters.\"\"\"\n",
        "        net = Net()\n",
        "        ndarrays = get_parameters(net)\n",
        "        return fl.common.ndarrays_to_parameters(ndarrays)\n",
        "\n",
        "    def configure_fit(\n",
        "        self, server_round: int, parameters: Parameters, client_manager: ClientManager\n",
        "    ) -> List[Tuple[ClientProxy, FitIns]]:\n",
        "        \"\"\"Configure the next round of training.\"\"\"\n",
        "\n",
        "        # Sample clients\n",
        "        sample_size, min_num_clients = self.num_fit_clients(\n",
        "            client_manager.num_available()\n",
        "        )\n",
        "        clients = client_manager.sample(\n",
        "            num_clients=sample_size, min_num_clients=min_num_clients\n",
        "        )\n",
        "\n",
        "        # Create custom configs\n",
        "        n_clients = len(clients)\n",
        "        #half_clients = n_clients // 2\n",
        "        standard_config = {\"lr\": 0.01} #More Tighter LR\n",
        "        higher_lr_config = {\"lr\": 0.003}\n",
        "        fit_configurations = []\n",
        "        for idx, client in enumerate(clients):\n",
        "            fit_configurations.append((client, FitIns(parameters, standard_config)))\n",
        "            # if idx < half_clients:\n",
        "            #     fit_configurations.append((client, FitIns(parameters, standard_config)))\n",
        "            # else:\n",
        "            #     fit_configurations.append(\n",
        "            #         (client, FitIns(parameters, higher_lr_config))\n",
        "            #     )\n",
        "        return fit_configurations\n",
        "\n",
        "    def aggregate_fit(\n",
        "        self,\n",
        "        server_round: int,\n",
        "        results: List[Tuple[ClientProxy, FitRes]],\n",
        "        failures: List[Union[Tuple[ClientProxy, FitRes], BaseException]],\n",
        "    ) -> Tuple[Optional[Parameters], Dict[str, Scalar]]:\n",
        "        \"\"\"Aggregate fit results using weighted average.\"\"\"\n",
        "\n",
        "        weights_results = [\n",
        "            (parameters_to_ndarrays(fit_res.parameters), fit_res.num_examples)\n",
        "            for _, fit_res in results\n",
        "        ]\n",
        "        parameters_aggregated = ndarrays_to_parameters(aggregate(weights_results))\n",
        "        metrics_aggregated = {}\n",
        "        return parameters_aggregated, metrics_aggregated\n",
        "\n",
        "    def configure_evaluate(\n",
        "        self, server_round: int, parameters: Parameters, client_manager: ClientManager\n",
        "    ) -> List[Tuple[ClientProxy, EvaluateIns]]:\n",
        "        \"\"\"Configure the next round of evaluation.\"\"\"\n",
        "        if self.fraction_evaluate == 0.0:\n",
        "            return []\n",
        "        config = {}\n",
        "        evaluate_ins = EvaluateIns(parameters, config)\n",
        "\n",
        "        # Sample clients\n",
        "        sample_size, min_num_clients = self.num_evaluation_clients(\n",
        "            client_manager.num_available()\n",
        "        )\n",
        "        clients = client_manager.sample(\n",
        "            num_clients=sample_size, min_num_clients=min_num_clients\n",
        "        )\n",
        "\n",
        "        # Return client/config pairs\n",
        "        return [(client, evaluate_ins) for client in clients]\n",
        "\n",
        "    def aggregate_evaluate(\n",
        "        self,\n",
        "        server_round: int,\n",
        "        results: List[Tuple[ClientProxy, EvaluateRes]],\n",
        "        failures: List[Union[Tuple[ClientProxy, EvaluateRes], BaseException]],\n",
        "    ) -> Tuple[Optional[float], Dict[str, Scalar]]:\n",
        "        \"\"\"Aggregate evaluation losses using weighted average.\"\"\"\n",
        "\n",
        "        if not results:\n",
        "            return None, {}\n",
        "\n",
        "        loss_aggregated = weighted_loss_avg(\n",
        "            [\n",
        "                (evaluate_res.num_examples, evaluate_res.loss)\n",
        "                for _, evaluate_res in results\n",
        "            ]\n",
        "        )\n",
        "        metrics_aggregated = {}\n",
        "        return loss_aggregated, metrics_aggregated\n",
        "\n",
        "    def evaluate(\n",
        "        self, server_round: int, parameters: Parameters\n",
        "    ) -> Optional[Tuple[float, Dict[str, Scalar]]]:\n",
        "        \"\"\"Evaluate global model parameters using an evaluation function.\"\"\"\n",
        "\n",
        "        # Let's assume we won't perform the global model evaluation on the server side.\n",
        "        return None\n",
        "\n",
        "    def num_fit_clients(self, num_available_clients: int) -> Tuple[int, int]:\n",
        "        \"\"\"Return sample size and required number of clients.\"\"\"\n",
        "        num_clients = int(num_available_clients * self.fraction_fit)\n",
        "        return max(num_clients, self.min_fit_clients), self.min_available_clients\n",
        "\n",
        "    def num_evaluation_clients(self, num_available_clients: int) -> Tuple[int, int]:\n",
        "        \"\"\"Use a fraction of available clients for evaluation.\"\"\"\n",
        "        num_clients = int(num_available_clients * self.fraction_evaluate)\n",
        "        return max(num_clients, self.min_evaluate_clients), self.min_available_clients"
      ]
    },
    {
      "cell_type": "code",
      "execution_count": 11,
      "metadata": {},
      "outputs": [
        {
          "name": "stderr",
          "output_type": "stream",
          "text": [
            "INFO flwr 2024-04-26 10:40:12,888 | app.py:146 | Starting Flower simulation, config: ServerConfig(num_rounds=10, round_timeout=None)\n",
            "INFO flwr 2024-04-26 10:40:27,605 | app.py:180 | Flower VCE: Ray initialized with resources: {'GPU': 1.0, 'node:127.0.0.1': 1.0, 'object_store_memory': 34110701568.0, 'memory': 69591636992.0, 'CPU': 32.0}\n",
            "INFO flwr 2024-04-26 10:40:27,607 | server.py:86 | Initializing global parameters\n",
            "INFO flwr 2024-04-26 10:40:27,619 | server.py:269 | Using initial parameters provided by strategy\n",
            "INFO flwr 2024-04-26 10:40:27,620 | server.py:88 | Evaluating initial parameters\n",
            "INFO flwr 2024-04-26 10:40:27,622 | server.py:101 | FL starting\n",
            "DEBUG flwr 2024-04-26 10:40:27,624 | server.py:218 | fit_round 1: strategy sampled 5 clients (out of 5)\n"
          ]
        },
        {
          "name": "stdout",
          "output_type": "stream",
          "text": [
            " pid=8992)\u001b[0m [Client 0] fit, config: {'lr': 0.01}\n",
            " pid=8992)\u001b[0m Epoch 1: train loss 0.06484240293502808, accuracy 0.23622222222222222\n",
            " pid=8992)\u001b[0m Epoch 2: train loss 0.0570756234228611, accuracy 0.33644444444444443\n",
            " pid=8992)\u001b[0m Epoch 3: train loss 0.051969073712825775, accuracy 0.3948888888888889\n",
            " pid=8992)\u001b[0m Epoch 4: train loss 0.048612650483846664, accuracy 0.43977777777777777\n",
            " pid=8992)\u001b[0m Epoch 5: train loss 0.04648016765713692, accuracy 0.4597777777777778\n",
            " pid=8992)\u001b[0m [Client 4] fit, config: {'lr': 0.01}\n",
            " pid=8992)\u001b[0m Epoch 1: train loss 0.06496812403202057, accuracy 0.22333333333333333\n",
            " pid=8992)\u001b[0m Epoch 2: train loss 0.05662725493311882, accuracy 0.3377777777777778\n",
            " pid=8992)\u001b[0m Epoch 3: train loss 0.05184600502252579, accuracy 0.39444444444444443\n",
            " pid=8992)\u001b[0m Epoch 4: train loss 0.04871721565723419, accuracy 0.43777777777777777\n",
            " pid=8992)\u001b[0m Epoch 5: train loss 0.04622182250022888, accuracy 0.46755555555555556\n",
            " pid=8992)\u001b[0m [Client 2] fit, config: {'lr': 0.01}\n",
            " pid=8992)\u001b[0m Epoch 1: train loss 0.06465176492929459, accuracy 0.24044444444444443\n",
            " pid=8992)\u001b[0m Epoch 2: train loss 0.05686758831143379, accuracy 0.34155555555555556\n",
            " pid=8992)\u001b[0m Epoch 3: train loss 0.05229472368955612, accuracy 0.36977777777777776\n",
            " pid=8992)\u001b[0m Epoch 4: train loss 0.04965408146381378, accuracy 0.418\n",
            " pid=8992)\u001b[0m Epoch 5: train loss 0.04721652716398239, accuracy 0.44666666666666666\n",
            " pid=8992)\u001b[0m [Client 3] fit, config: {'lr': 0.01}\n",
            " pid=8992)\u001b[0m Epoch 1: train loss 0.06457775086164474, accuracy 0.22822222222222222\n",
            " pid=8992)\u001b[0m Epoch 2: train loss 0.05693470686674118, accuracy 0.3371111111111111\n",
            " pid=8992)\u001b[0m Epoch 3: train loss 0.05251288414001465, accuracy 0.38955555555555554\n",
            " pid=8992)\u001b[0m Epoch 4: train loss 0.049563996493816376, accuracy 0.42\n",
            " pid=8992)\u001b[0m Epoch 5: train loss 0.047246724367141724, accuracy 0.44733333333333336\n",
            " pid=8992)\u001b[0m [Client 1] fit, config: {'lr': 0.01}\n",
            " pid=8992)\u001b[0m Epoch 1: train loss 0.06432171165943146, accuracy 0.24355555555555555\n",
            " pid=8992)\u001b[0m Epoch 2: train loss 0.05660383775830269, accuracy 0.3382222222222222\n",
            " pid=8992)\u001b[0m Epoch 3: train loss 0.05167499557137489, accuracy 0.3933333333333333\n",
            " pid=8992)\u001b[0m Epoch 4: train loss 0.04871360957622528, accuracy 0.4335555555555556\n"
          ]
        },
        {
          "name": "stderr",
          "output_type": "stream",
          "text": [
            "DEBUG flwr 2024-04-26 10:41:52,592 | server.py:232 | fit_round 1 received 5 results and 0 failures\n",
            "DEBUG flwr 2024-04-26 10:41:52,610 | server.py:168 | evaluate_round 1: strategy sampled 5 clients (out of 5)\n"
          ]
        },
        {
          "name": "stdout",
          "output_type": "stream",
          "text": [
            " pid=8992)\u001b[0m Epoch 5: train loss 0.04640515521168709, accuracy 0.45644444444444443\n",
            " pid=8992)\u001b[0m [Client 2] evaluate, config: {}\n",
            " pid=8992)\u001b[0m Client 2 loss 0.05577287483215332\n",
            " pid=8992)\u001b[0m Client 2 accuracy 0.388\n",
            " pid=8992)\u001b[0m [Client 3] evaluate, config: {}\n",
            " pid=8992)\u001b[0m Client 3 loss 0.0561391761302948\n",
            " pid=8992)\u001b[0m Client 3 accuracy 0.348\n",
            " pid=8992)\u001b[0m [Client 1] evaluate, config: {}\n",
            " pid=8992)\u001b[0m Client 1 loss 0.055274890661239626\n",
            " pid=8992)\u001b[0m Client 1 accuracy 0.394\n",
            " pid=8992)\u001b[0m [Client 4] evaluate, config: {}\n",
            " pid=8992)\u001b[0m Client 4 loss 0.05580915641784668\n",
            " pid=8992)\u001b[0m Client 4 accuracy 0.358\n",
            " pid=8992)\u001b[0m [Client 0] evaluate, config: {}\n"
          ]
        },
        {
          "name": "stderr",
          "output_type": "stream",
          "text": [
            "DEBUG flwr 2024-04-26 10:42:00,271 | server.py:182 | evaluate_round 1 received 5 results and 0 failures\n",
            "DEBUG flwr 2024-04-26 10:42:00,273 | server.py:218 | fit_round 2: strategy sampled 5 clients (out of 5)\n"
          ]
        },
        {
          "name": "stdout",
          "output_type": "stream",
          "text": [
            " pid=8992)\u001b[0m Client 0 loss 0.05637509870529175\n",
            " pid=8992)\u001b[0m Client 0 accuracy 0.382\n",
            " pid=8992)\u001b[0m [Client 3] fit, config: {'lr': 0.01}\n",
            " pid=8992)\u001b[0m Epoch 1: train loss 0.050399523228406906, accuracy 0.4126666666666667\n",
            " pid=8992)\u001b[0m Epoch 2: train loss 0.04720275104045868, accuracy 0.4508888888888889\n",
            " pid=8992)\u001b[0m Epoch 3: train loss 0.04469267278909683, accuracy 0.48377777777777775\n",
            " pid=8992)\u001b[0m Epoch 4: train loss 0.04241504520177841, accuracy 0.5102222222222222\n",
            " pid=8992)\u001b[0m Epoch 5: train loss 0.04040352627635002, accuracy 0.5353333333333333\n",
            " pid=8992)\u001b[0m [Client 2] fit, config: {'lr': 0.01}\n",
            " pid=8992)\u001b[0m Epoch 1: train loss 0.05033550783991814, accuracy 0.41488888888888886\n",
            " pid=8992)\u001b[0m Epoch 2: train loss 0.046933531761169434, accuracy 0.4528888888888889\n",
            " pid=8992)\u001b[0m Epoch 3: train loss 0.04445720836520195, accuracy 0.478\n",
            " pid=8992)\u001b[0m Epoch 4: train loss 0.04214145615696907, accuracy 0.5113333333333333\n",
            " pid=8992)\u001b[0m Epoch 5: train loss 0.04069490358233452, accuracy 0.5226666666666666\n",
            " pid=8992)\u001b[0m [Client 0] fit, config: {'lr': 0.01}\n",
            " pid=8992)\u001b[0m Epoch 1: train loss 0.04999775439500809, accuracy 0.424\n",
            " pid=8992)\u001b[0m Epoch 2: train loss 0.04619838669896126, accuracy 0.4697777777777778\n",
            " pid=8992)\u001b[0m Epoch 3: train loss 0.044309768825769424, accuracy 0.4891111111111111\n",
            " pid=8992)\u001b[0m Epoch 4: train loss 0.041850317269563675, accuracy 0.5124444444444445\n",
            " pid=8992)\u001b[0m Epoch 5: train loss 0.03958911448717117, accuracy 0.5448888888888889\n",
            " pid=8992)\u001b[0m [Client 4] fit, config: {'lr': 0.01}\n",
            " pid=8992)\u001b[0m Epoch 1: train loss 0.04958441108465195, accuracy 0.4268888888888889\n",
            " pid=8992)\u001b[0m Epoch 2: train loss 0.04669930413365364, accuracy 0.458\n",
            " pid=8992)\u001b[0m Epoch 3: train loss 0.04394075274467468, accuracy 0.49377777777777776\n",
            " pid=8992)\u001b[0m Epoch 4: train loss 0.04152228310704231, accuracy 0.5206666666666667\n",
            " pid=8992)\u001b[0m Epoch 5: train loss 0.03999403119087219, accuracy 0.5362222222222223\n",
            " pid=8992)\u001b[0m [Client 1] fit, config: {'lr': 0.01}\n",
            " pid=8992)\u001b[0m Epoch 1: train loss 0.04960364103317261, accuracy 0.41355555555555557\n",
            " pid=8992)\u001b[0m Epoch 2: train loss 0.04623944312334061, accuracy 0.46044444444444443\n",
            " pid=8992)\u001b[0m Epoch 3: train loss 0.04371558502316475, accuracy 0.49177777777777776\n",
            " pid=8992)\u001b[0m Epoch 4: train loss 0.041303277015686035, accuracy 0.5231111111111111\n"
          ]
        },
        {
          "name": "stderr",
          "output_type": "stream",
          "text": [
            "DEBUG flwr 2024-04-26 10:43:11,782 | server.py:232 | fit_round 2 received 5 results and 0 failures\n",
            "DEBUG flwr 2024-04-26 10:43:11,801 | server.py:168 | evaluate_round 2: strategy sampled 5 clients (out of 5)\n"
          ]
        },
        {
          "name": "stdout",
          "output_type": "stream",
          "text": [
            " pid=8992)\u001b[0m Epoch 5: train loss 0.0390159972012043, accuracy 0.5462222222222223\n",
            " pid=8992)\u001b[0m [Client 3] evaluate, config: {}\n",
            " pid=8992)\u001b[0m Client 3 loss 0.04437415409088135\n",
            " pid=8992)\u001b[0m Client 3 accuracy 0.47\n",
            " pid=8992)\u001b[0m [Client 2] evaluate, config: {}\n",
            " pid=8992)\u001b[0m Client 2 loss 0.045810317754745485\n",
            " pid=8992)\u001b[0m Client 2 accuracy 0.488\n",
            " pid=8992)\u001b[0m [Client 0] evaluate, config: {}\n",
            " pid=8992)\u001b[0m Client 0 loss 0.045242416620254515\n",
            " pid=8992)\u001b[0m Client 0 accuracy 0.484\n",
            " pid=8992)\u001b[0m [Client 4] evaluate, config: {}\n"
          ]
        },
        {
          "name": "stderr",
          "output_type": "stream",
          "text": [
            "DEBUG flwr 2024-04-26 10:43:20,000 | server.py:182 | evaluate_round 2 received 5 results and 0 failures\n",
            "DEBUG flwr 2024-04-26 10:43:20,003 | server.py:218 | fit_round 3: strategy sampled 5 clients (out of 5)\n"
          ]
        },
        {
          "name": "stdout",
          "output_type": "stream",
          "text": [
            " pid=8992)\u001b[0m Client 4 loss 0.04552571177482605\n",
            " pid=8992)\u001b[0m Client 4 accuracy 0.454\n",
            " pid=8992)\u001b[0m [Client 1] evaluate, config: {}\n",
            " pid=8992)\u001b[0m Client 1 loss 0.04389886856079102\n",
            " pid=8992)\u001b[0m Client 1 accuracy 0.508\n",
            " pid=8992)\u001b[0m [Client 0] fit, config: {'lr': 0.01}\n",
            " pid=8992)\u001b[0m Epoch 1: train loss 0.042568888515233994, accuracy 0.5004444444444445\n",
            " pid=8992)\u001b[0m Epoch 2: train loss 0.03983766958117485, accuracy 0.5397777777777778\n",
            " pid=8992)\u001b[0m Epoch 3: train loss 0.03738372400403023, accuracy 0.5648888888888889\n",
            " pid=8992)\u001b[0m Epoch 4: train loss 0.03478125110268593, accuracy 0.6011111111111112\n",
            " pid=8992)\u001b[0m Epoch 5: train loss 0.032376475632190704, accuracy 0.6224444444444445\n",
            " pid=8992)\u001b[0m [Client 4] fit, config: {'lr': 0.01}\n",
            " pid=8992)\u001b[0m Epoch 1: train loss 0.04304156452417374, accuracy 0.504\n",
            " pid=8992)\u001b[0m Epoch 2: train loss 0.03998683765530586, accuracy 0.5424444444444444\n",
            " pid=8992)\u001b[0m Epoch 3: train loss 0.037565309554338455, accuracy 0.5726666666666667\n",
            " pid=8992)\u001b[0m Epoch 4: train loss 0.03527993708848953, accuracy 0.5995555555555555\n",
            " pid=8992)\u001b[0m Epoch 5: train loss 0.03295568749308586, accuracy 0.6282222222222222\n",
            " pid=8992)\u001b[0m [Client 3] fit, config: {'lr': 0.01}\n",
            " pid=8992)\u001b[0m Epoch 1: train loss 0.043588098138570786, accuracy 0.4922222222222222\n",
            " pid=8992)\u001b[0m Epoch 2: train loss 0.040581755340099335, accuracy 0.5291111111111111\n",
            " pid=8992)\u001b[0m Epoch 3: train loss 0.03791655972599983, accuracy 0.5633333333333334\n",
            " pid=8992)\u001b[0m Epoch 4: train loss 0.03585096448659897, accuracy 0.5882222222222222\n",
            " pid=8992)\u001b[0m Epoch 5: train loss 0.03323286771774292, accuracy 0.6137777777777778\n",
            " pid=8992)\u001b[0m [Client 2] fit, config: {'lr': 0.01}\n",
            " pid=8992)\u001b[0m Epoch 1: train loss 0.043501537293195724, accuracy 0.5055555555555555\n",
            " pid=8992)\u001b[0m Epoch 2: train loss 0.040669701993465424, accuracy 0.5295555555555556\n",
            " pid=8992)\u001b[0m Epoch 3: train loss 0.03756062686443329, accuracy 0.5671111111111111\n",
            " pid=8992)\u001b[0m Epoch 4: train loss 0.03537248447537422, accuracy 0.5933333333333334\n",
            " pid=8992)\u001b[0m Epoch 5: train loss 0.03267191722989082, accuracy 0.6244444444444445\n",
            " pid=8992)\u001b[0m [Client 1] fit, config: {'lr': 0.01}\n",
            " pid=8992)\u001b[0m Epoch 1: train loss 0.04239416494965553, accuracy 0.5102222222222222\n",
            " pid=8992)\u001b[0m Epoch 2: train loss 0.03937416151165962, accuracy 0.5464444444444444\n",
            " pid=8992)\u001b[0m Epoch 3: train loss 0.03673967719078064, accuracy 0.5793333333333334\n",
            " pid=8992)\u001b[0m Epoch 4: train loss 0.034415606409311295, accuracy 0.6008888888888889\n"
          ]
        },
        {
          "name": "stderr",
          "output_type": "stream",
          "text": [
            "DEBUG flwr 2024-04-26 10:44:35,399 | server.py:232 | fit_round 3 received 5 results and 0 failures\n",
            "DEBUG flwr 2024-04-26 10:44:35,418 | server.py:168 | evaluate_round 3: strategy sampled 5 clients (out of 5)\n"
          ]
        },
        {
          "name": "stdout",
          "output_type": "stream",
          "text": [
            " pid=8992)\u001b[0m Epoch 5: train loss 0.03139502927660942, accuracy 0.6413333333333333\n",
            " pid=8992)\u001b[0m [Client 3] evaluate, config: {}\n",
            " pid=8992)\u001b[0m Client 3 loss 0.04171753239631653\n",
            " pid=8992)\u001b[0m Client 3 accuracy 0.506\n",
            " pid=8992)\u001b[0m [Client 2] evaluate, config: {}\n",
            " pid=8992)\u001b[0m Client 2 loss 0.04389255201816559\n",
            " pid=8992)\u001b[0m Client 2 accuracy 0.52\n",
            " pid=8992)\u001b[0m [Client 1] evaluate, config: {}\n",
            " pid=8992)\u001b[0m Client 1 loss 0.04096434760093689\n",
            " pid=8992)\u001b[0m Client 1 accuracy 0.54\n",
            " pid=8992)\u001b[0m [Client 0] evaluate, config: {}\n"
          ]
        },
        {
          "name": "stderr",
          "output_type": "stream",
          "text": [
            "DEBUG flwr 2024-04-26 10:44:43,074 | server.py:182 | evaluate_round 3 received 5 results and 0 failures\n",
            "DEBUG flwr 2024-04-26 10:44:43,077 | server.py:218 | fit_round 4: strategy sampled 5 clients (out of 5)\n"
          ]
        },
        {
          "name": "stdout",
          "output_type": "stream",
          "text": [
            " pid=8992)\u001b[0m Client 0 loss 0.042865226745605466\n",
            " pid=8992)\u001b[0m Client 0 accuracy 0.534\n",
            " pid=8992)\u001b[0m [Client 4] evaluate, config: {}\n",
            " pid=8992)\u001b[0m Client 4 loss 0.043212137460708615\n",
            " pid=8992)\u001b[0m Client 4 accuracy 0.5\n",
            " pid=8992)\u001b[0m [Client 3] fit, config: {'lr': 0.01}\n",
            " pid=8992)\u001b[0m Epoch 1: train loss 0.03992847725749016, accuracy 0.542\n",
            " pid=8992)\u001b[0m Epoch 2: train loss 0.035731006413698196, accuracy 0.5873333333333334\n",
            " pid=8992)\u001b[0m Epoch 3: train loss 0.032944563776254654, accuracy 0.6191111111111111\n",
            " pid=8992)\u001b[0m Epoch 4: train loss 0.02959153614938259, accuracy 0.6635555555555556\n",
            " pid=8992)\u001b[0m Epoch 5: train loss 0.0275702103972435, accuracy 0.6844444444444444\n",
            " pid=8992)\u001b[0m [Client 0] fit, config: {'lr': 0.01}\n",
            " pid=8992)\u001b[0m Epoch 1: train loss 0.03820018097758293, accuracy 0.5548888888888889\n",
            " pid=8992)\u001b[0m Epoch 2: train loss 0.03477194532752037, accuracy 0.5997777777777777\n",
            " pid=8992)\u001b[0m Epoch 3: train loss 0.03172515332698822, accuracy 0.6324444444444445\n",
            " pid=8992)\u001b[0m Epoch 4: train loss 0.028166944161057472, accuracy 0.6708888888888889\n",
            " pid=8992)\u001b[0m Epoch 5: train loss 0.025855476036667824, accuracy 0.7051111111111111\n",
            " pid=8992)\u001b[0m [Client 4] fit, config: {'lr': 0.01}\n",
            " pid=8992)\u001b[0m Epoch 1: train loss 0.03905070200562477, accuracy 0.5582222222222222\n",
            " pid=8992)\u001b[0m Epoch 2: train loss 0.03527681902050972, accuracy 0.5953333333333334\n",
            " pid=8992)\u001b[0m Epoch 3: train loss 0.03238209709525108, accuracy 0.6337777777777778\n",
            " pid=8992)\u001b[0m Epoch 4: train loss 0.030177954584360123, accuracy 0.6673333333333333\n",
            " pid=8992)\u001b[0m Epoch 5: train loss 0.026804864406585693, accuracy 0.7033333333333334\n",
            " pid=8992)\u001b[0m [Client 2] fit, config: {'lr': 0.01}\n",
            " pid=8992)\u001b[0m Epoch 1: train loss 0.038809411227703094, accuracy 0.5608888888888889\n",
            " pid=8992)\u001b[0m Epoch 2: train loss 0.03493886440992355, accuracy 0.5944444444444444\n",
            " pid=8992)\u001b[0m Epoch 3: train loss 0.03161861002445221, accuracy 0.6422222222222222\n",
            " pid=8992)\u001b[0m Epoch 4: train loss 0.028867073357105255, accuracy 0.6746666666666666\n",
            " pid=8992)\u001b[0m Epoch 5: train loss 0.026142681017518044, accuracy 0.7013333333333334\n",
            " pid=8992)\u001b[0m [Client 1] fit, config: {'lr': 0.01}\n",
            " pid=8992)\u001b[0m Epoch 1: train loss 0.03773169964551926, accuracy 0.5684444444444444\n",
            " pid=8992)\u001b[0m Epoch 2: train loss 0.03403459116816521, accuracy 0.6091111111111112\n",
            " pid=8992)\u001b[0m Epoch 3: train loss 0.03105776384472847, accuracy 0.6431111111111111\n",
            " pid=8992)\u001b[0m Epoch 4: train loss 0.02863840013742447, accuracy 0.6755555555555556\n"
          ]
        },
        {
          "name": "stderr",
          "output_type": "stream",
          "text": [
            "DEBUG flwr 2024-04-26 10:45:58,808 | server.py:232 | fit_round 4 received 5 results and 0 failures\n",
            "DEBUG flwr 2024-04-26 10:45:58,825 | server.py:168 | evaluate_round 4: strategy sampled 5 clients (out of 5)\n"
          ]
        },
        {
          "name": "stdout",
          "output_type": "stream",
          "text": [
            " pid=8992)\u001b[0m Epoch 5: train loss 0.02509065344929695, accuracy 0.7155555555555555\n",
            " pid=8992)\u001b[0m [Client 1] evaluate, config: {}\n",
            " pid=8992)\u001b[0m Client 1 loss 0.041340938091278076\n",
            " pid=8992)\u001b[0m Client 1 accuracy 0.55\n",
            " pid=8992)\u001b[0m [Client 0] evaluate, config: {}\n",
            " pid=8992)\u001b[0m Client 0 loss 0.04305437564849854\n",
            " pid=8992)\u001b[0m Client 0 accuracy 0.564\n",
            " pid=8992)\u001b[0m [Client 4] evaluate, config: {}\n",
            " pid=8992)\u001b[0m Client 4 loss 0.042180018305778506\n",
            " pid=8992)\u001b[0m Client 4 accuracy 0.52\n",
            " pid=8992)\u001b[0m [Client 3] evaluate, config: {}\n",
            " pid=8992)\u001b[0m Client 3 loss 0.04151665866374969\n",
            " pid=8992)\u001b[0m Client 3 accuracy 0.536\n",
            " pid=8992)\u001b[0m [Client 2] evaluate, config: {}\n"
          ]
        },
        {
          "name": "stderr",
          "output_type": "stream",
          "text": [
            "DEBUG flwr 2024-04-26 10:46:06,728 | server.py:182 | evaluate_round 4 received 5 results and 0 failures\n",
            "DEBUG flwr 2024-04-26 10:46:06,730 | server.py:218 | fit_round 5: strategy sampled 5 clients (out of 5)\n"
          ]
        },
        {
          "name": "stdout",
          "output_type": "stream",
          "text": [
            " pid=8992)\u001b[0m Client 2 loss 0.0450482120513916\n",
            " pid=8992)\u001b[0m Client 2 accuracy 0.514\n",
            " pid=8992)\u001b[0m [Client 3] fit, config: {'lr': 0.01}\n",
            " pid=8992)\u001b[0m Epoch 1: train loss 0.03600823134183884, accuracy 0.5897777777777777\n",
            " pid=8992)\u001b[0m Epoch 2: train loss 0.03126850351691246, accuracy 0.6391111111111111\n",
            " pid=8992)\u001b[0m Epoch 3: train loss 0.0276819858700037, accuracy 0.6855555555555556\n",
            " pid=8992)\u001b[0m Epoch 4: train loss 0.024429136887192726, accuracy 0.7266666666666667\n",
            " pid=8992)\u001b[0m Epoch 5: train loss 0.020800380036234856, accuracy 0.7735555555555556\n",
            " pid=8992)\u001b[0m [Client 1] fit, config: {'lr': 0.01}\n",
            " pid=8992)\u001b[0m Epoch 1: train loss 0.03482804819941521, accuracy 0.5997777777777777\n",
            " pid=8992)\u001b[0m Epoch 2: train loss 0.02985871396958828, accuracy 0.6524444444444445\n",
            " pid=8992)\u001b[0m Epoch 3: train loss 0.02622237056493759, accuracy 0.696\n",
            " pid=8992)\u001b[0m Epoch 4: train loss 0.022715585306286812, accuracy 0.7402222222222222\n",
            " pid=8992)\u001b[0m Epoch 5: train loss 0.019548630341887474, accuracy 0.7773333333333333\n",
            " pid=8992)\u001b[0m [Client 4] fit, config: {'lr': 0.01}\n",
            " pid=8992)\u001b[0m Epoch 1: train loss 0.03616071119904518, accuracy 0.598\n",
            " pid=8992)\u001b[0m Epoch 2: train loss 0.03079291060566902, accuracy 0.6577777777777778\n",
            " pid=8992)\u001b[0m Epoch 3: train loss 0.02757946215569973, accuracy 0.6924444444444444\n",
            " pid=8992)\u001b[0m Epoch 4: train loss 0.024721097201108932, accuracy 0.7242222222222222\n",
            " pid=8992)\u001b[0m Epoch 5: train loss 0.02108938992023468, accuracy 0.7684444444444445\n",
            " pid=8992)\u001b[0m [Client 0] fit, config: {'lr': 0.01}\n",
            " pid=8992)\u001b[0m Epoch 1: train loss 0.03437139093875885, accuracy 0.602\n",
            " pid=8992)\u001b[0m Epoch 2: train loss 0.0298312958329916, accuracy 0.6626666666666666\n",
            " pid=8992)\u001b[0m Epoch 3: train loss 0.02627844363451004, accuracy 0.7\n",
            " pid=8992)\u001b[0m Epoch 4: train loss 0.02264343574643135, accuracy 0.7442222222222222\n",
            " pid=8992)\u001b[0m Epoch 5: train loss 0.019501522183418274, accuracy 0.7848888888888889\n",
            " pid=8992)\u001b[0m [Client 2] fit, config: {'lr': 0.01}\n",
            " pid=8992)\u001b[0m Epoch 1: train loss 0.03521574288606644, accuracy 0.5917777777777777\n",
            " pid=8992)\u001b[0m Epoch 2: train loss 0.02990436926484108, accuracy 0.6568888888888889\n",
            " pid=8992)\u001b[0m Epoch 3: train loss 0.027071218937635422, accuracy 0.6864444444444444\n",
            " pid=8992)\u001b[0m Epoch 4: train loss 0.02335897833108902, accuracy 0.7337777777777778\n"
          ]
        },
        {
          "name": "stderr",
          "output_type": "stream",
          "text": [
            "DEBUG flwr 2024-04-26 10:47:20,466 | server.py:232 | fit_round 5 received 5 results and 0 failures\n",
            "DEBUG flwr 2024-04-26 10:47:20,484 | server.py:168 | evaluate_round 5: strategy sampled 5 clients (out of 5)\n"
          ]
        },
        {
          "name": "stdout",
          "output_type": "stream",
          "text": [
            " pid=8992)\u001b[0m Epoch 5: train loss 0.020199164748191833, accuracy 0.7762222222222223\n",
            " pid=8992)\u001b[0m [Client 3] evaluate, config: {}\n",
            " pid=8992)\u001b[0m Client 3 loss 0.04346696627140045\n",
            " pid=8992)\u001b[0m Client 3 accuracy 0.568\n",
            " pid=8992)\u001b[0m [Client 1] evaluate, config: {}\n",
            " pid=8992)\u001b[0m Client 1 loss 0.04203714919090271\n",
            " pid=8992)\u001b[0m Client 1 accuracy 0.552\n",
            " pid=8992)\u001b[0m [Client 2] evaluate, config: {}\n",
            " pid=8992)\u001b[0m Client 2 loss 0.04646312868595123\n",
            " pid=8992)\u001b[0m Client 2 accuracy 0.524\n",
            " pid=8992)\u001b[0m [Client 0] evaluate, config: {}\n",
            " pid=8992)\u001b[0m Client 0 loss 0.04480244994163513\n",
            " pid=8992)\u001b[0m Client 0 accuracy 0.526\n",
            " pid=8992)\u001b[0m [Client 4] evaluate, config: {}\n"
          ]
        },
        {
          "name": "stderr",
          "output_type": "stream",
          "text": [
            "DEBUG flwr 2024-04-26 10:47:28,416 | server.py:182 | evaluate_round 5 received 5 results and 0 failures\n",
            "DEBUG flwr 2024-04-26 10:47:28,419 | server.py:218 | fit_round 6: strategy sampled 5 clients (out of 5)\n"
          ]
        },
        {
          "name": "stdout",
          "output_type": "stream",
          "text": [
            " pid=8992)\u001b[0m Client 4 loss 0.043680279970169066\n",
            " pid=8992)\u001b[0m Client 4 accuracy 0.522\n",
            " pid=8992)\u001b[0m [Client 4] fit, config: {'lr': 0.01}\n",
            " pid=8992)\u001b[0m Epoch 1: train loss 0.03338147699832916, accuracy 0.6275555555555555\n",
            " pid=8992)\u001b[0m Epoch 2: train loss 0.027235940098762512, accuracy 0.6944444444444444\n",
            " pid=8992)\u001b[0m Epoch 3: train loss 0.02294105477631092, accuracy 0.7444444444444445\n",
            " pid=8992)\u001b[0m Epoch 4: train loss 0.019825201481580734, accuracy 0.7784444444444445\n",
            " pid=8992)\u001b[0m Epoch 5: train loss 0.017125919461250305, accuracy 0.8146666666666667\n",
            " pid=8992)\u001b[0m [Client 1] fit, config: {'lr': 0.01}\n",
            " pid=8992)\u001b[0m Epoch 1: train loss 0.03132186457514763, accuracy 0.6453333333333333\n",
            " pid=8992)\u001b[0m Epoch 2: train loss 0.025371016934514046, accuracy 0.712\n",
            " pid=8992)\u001b[0m Epoch 3: train loss 0.021724821999669075, accuracy 0.7517777777777778\n",
            " pid=8992)\u001b[0m Epoch 4: train loss 0.018230104818940163, accuracy 0.7946666666666666\n",
            " pid=8992)\u001b[0m Epoch 5: train loss 0.015441466122865677, accuracy 0.828\n",
            " pid=8992)\u001b[0m [Client 0] fit, config: {'lr': 0.01}\n",
            " pid=8992)\u001b[0m Epoch 1: train loss 0.03155342489480972, accuracy 0.6453333333333333\n",
            " pid=8992)\u001b[0m Epoch 2: train loss 0.02514318749308586, accuracy 0.712\n",
            " pid=8992)\u001b[0m Epoch 3: train loss 0.021158410236239433, accuracy 0.762\n",
            " pid=8992)\u001b[0m Epoch 4: train loss 0.01802799105644226, accuracy 0.7931111111111111\n",
            " pid=8992)\u001b[0m Epoch 5: train loss 0.01482158899307251, accuracy 0.8366666666666667\n",
            " pid=8992)\u001b[0m [Client 3] fit, config: {'lr': 0.01}\n",
            " pid=8992)\u001b[0m Epoch 1: train loss 0.03320707753300667, accuracy 0.6202222222222222\n",
            " pid=8992)\u001b[0m Epoch 2: train loss 0.02724665403366089, accuracy 0.688\n",
            " pid=8992)\u001b[0m Epoch 3: train loss 0.022813141345977783, accuracy 0.7411111111111112\n",
            " pid=8992)\u001b[0m Epoch 4: train loss 0.019616352394223213, accuracy 0.7808888888888889\n",
            " pid=8992)\u001b[0m Epoch 5: train loss 0.016044888645410538, accuracy 0.8224444444444444\n",
            " pid=8992)\u001b[0m [Client 2] fit, config: {'lr': 0.01}\n",
            " pid=8992)\u001b[0m Epoch 1: train loss 0.03227773308753967, accuracy 0.6324444444444445\n",
            " pid=8992)\u001b[0m Epoch 2: train loss 0.026010194793343544, accuracy 0.7062222222222222\n",
            " pid=8992)\u001b[0m Epoch 3: train loss 0.022015439346432686, accuracy 0.7537777777777778\n",
            " pid=8992)\u001b[0m Epoch 4: train loss 0.019195109605789185, accuracy 0.7871111111111111\n"
          ]
        },
        {
          "name": "stderr",
          "output_type": "stream",
          "text": [
            "DEBUG flwr 2024-04-26 10:48:43,989 | server.py:232 | fit_round 6 received 5 results and 0 failures\n",
            "DEBUG flwr 2024-04-26 10:48:44,006 | server.py:168 | evaluate_round 6: strategy sampled 5 clients (out of 5)\n"
          ]
        },
        {
          "name": "stdout",
          "output_type": "stream",
          "text": [
            " pid=8992)\u001b[0m Epoch 5: train loss 0.015191608108580112, accuracy 0.8337777777777777\n",
            " pid=8992)\u001b[0m [Client 0] evaluate, config: {}\n",
            " pid=8992)\u001b[0m Client 0 loss 0.0486417019367218\n",
            " pid=8992)\u001b[0m Client 0 accuracy 0.554\n",
            " pid=8992)\u001b[0m [Client 2] evaluate, config: {}\n",
            " pid=8992)\u001b[0m Client 2 loss 0.050220697164535526\n",
            " pid=8992)\u001b[0m Client 2 accuracy 0.516\n",
            " pid=8992)\u001b[0m [Client 3] evaluate, config: {}\n",
            " pid=8992)\u001b[0m Client 3 loss 0.04645570659637451\n",
            " pid=8992)\u001b[0m Client 3 accuracy 0.578\n",
            " pid=8992)\u001b[0m [Client 4] evaluate, config: {}\n",
            " pid=8992)\u001b[0m Client 4 loss 0.045469087839126586\n",
            " pid=8992)\u001b[0m Client 4 accuracy 0.532\n"
          ]
        },
        {
          "name": "stderr",
          "output_type": "stream",
          "text": [
            "DEBUG flwr 2024-04-26 10:48:51,812 | server.py:182 | evaluate_round 6 received 5 results and 0 failures\n",
            "DEBUG flwr 2024-04-26 10:48:51,814 | server.py:218 | fit_round 7: strategy sampled 5 clients (out of 5)\n"
          ]
        },
        {
          "name": "stdout",
          "output_type": "stream",
          "text": [
            " pid=8992)\u001b[0m [Client 1] evaluate, config: {}\n",
            " pid=8992)\u001b[0m Client 1 loss 0.044402194738388065\n",
            " pid=8992)\u001b[0m Client 1 accuracy 0.566\n",
            " pid=8992)\u001b[0m [Client 3] fit, config: {'lr': 0.01}\n",
            " pid=8992)\u001b[0m Epoch 1: train loss 0.030741434544324875, accuracy 0.648\n",
            " pid=8992)\u001b[0m Epoch 2: train loss 0.0232301726937294, accuracy 0.7344444444444445\n",
            " pid=8992)\u001b[0m Epoch 3: train loss 0.018750468268990517, accuracy 0.796\n",
            " pid=8992)\u001b[0m Epoch 4: train loss 0.015182902105152607, accuracy 0.8322222222222222\n",
            " pid=8992)\u001b[0m Epoch 5: train loss 0.012101066298782825, accuracy 0.8691111111111111\n",
            " pid=8992)\u001b[0m [Client 1] fit, config: {'lr': 0.01}\n",
            " pid=8992)\u001b[0m Epoch 1: train loss 0.029326528310775757, accuracy 0.6655555555555556\n",
            " pid=8992)\u001b[0m Epoch 2: train loss 0.021314844489097595, accuracy 0.7575555555555555\n",
            " pid=8992)\u001b[0m Epoch 3: train loss 0.01721784844994545, accuracy 0.8071111111111111\n",
            " pid=8992)\u001b[0m Epoch 4: train loss 0.014763468876481056, accuracy 0.8406666666666667\n",
            " pid=8992)\u001b[0m Epoch 5: train loss 0.01122581772506237, accuracy 0.8813333333333333\n",
            " pid=8992)\u001b[0m [Client 0] fit, config: {'lr': 0.01}\n",
            " pid=8992)\u001b[0m Epoch 1: train loss 0.02936929278075695, accuracy 0.6653333333333333\n",
            " pid=8992)\u001b[0m Epoch 2: train loss 0.021511735394597054, accuracy 0.7602222222222222\n",
            " pid=8992)\u001b[0m Epoch 3: train loss 0.017333580181002617, accuracy 0.8137777777777778\n",
            " pid=8992)\u001b[0m Epoch 4: train loss 0.013683268800377846, accuracy 0.8588888888888889\n",
            " pid=8992)\u001b[0m Epoch 5: train loss 0.011282778345048428, accuracy 0.8837777777777778\n",
            " pid=8992)\u001b[0m [Client 2] fit, config: {'lr': 0.01}\n",
            " pid=8992)\u001b[0m Epoch 1: train loss 0.0300605408847332, accuracy 0.6655555555555556\n",
            " pid=8992)\u001b[0m Epoch 2: train loss 0.02212861366569996, accuracy 0.7504444444444445\n",
            " pid=8992)\u001b[0m Epoch 3: train loss 0.01819293014705181, accuracy 0.7962222222222223\n",
            " pid=8992)\u001b[0m Epoch 4: train loss 0.014726254157721996, accuracy 0.8395555555555556\n",
            " pid=8992)\u001b[0m Epoch 5: train loss 0.012013138271868229, accuracy 0.8737777777777778\n",
            " pid=8992)\u001b[0m [Client 4] fit, config: {'lr': 0.01}\n",
            " pid=8992)\u001b[0m Epoch 1: train loss 0.030957259237766266, accuracy 0.6546666666666666\n",
            " pid=8992)\u001b[0m Epoch 2: train loss 0.023673441261053085, accuracy 0.7302222222222222\n",
            " pid=8992)\u001b[0m Epoch 3: train loss 0.019155263900756836, accuracy 0.7855555555555556\n",
            " pid=8992)\u001b[0m Epoch 4: train loss 0.015711605548858643, accuracy 0.8226666666666667\n"
          ]
        },
        {
          "name": "stderr",
          "output_type": "stream",
          "text": [
            "DEBUG flwr 2024-04-26 10:50:06,454 | server.py:232 | fit_round 7 received 5 results and 0 failures\n",
            "DEBUG flwr 2024-04-26 10:50:06,473 | server.py:168 | evaluate_round 7: strategy sampled 5 clients (out of 5)\n"
          ]
        },
        {
          "name": "stdout",
          "output_type": "stream",
          "text": [
            " pid=8992)\u001b[0m Epoch 5: train loss 0.012387401424348354, accuracy 0.8691111111111111\n",
            " pid=8992)\u001b[0m [Client 0] evaluate, config: {}\n",
            " pid=8992)\u001b[0m Client 0 loss 0.051160231590271\n",
            " pid=8992)\u001b[0m Client 0 accuracy 0.548\n",
            " pid=8992)\u001b[0m [Client 2] evaluate, config: {}\n",
            " pid=8992)\u001b[0m Client 2 loss 0.05428823947906494\n",
            " pid=8992)\u001b[0m Client 2 accuracy 0.512\n",
            " pid=8992)\u001b[0m [Client 1] evaluate, config: {}\n",
            " pid=8992)\u001b[0m Client 1 loss 0.04948966407775879\n",
            " pid=8992)\u001b[0m Client 1 accuracy 0.554\n",
            " pid=8992)\u001b[0m [Client 3] evaluate, config: {}\n",
            " pid=8992)\u001b[0m Client 3 loss 0.052026442766189576\n",
            " pid=8992)\u001b[0m Client 3 accuracy 0.56\n",
            " pid=8992)\u001b[0m [Client 4] evaluate, config: {}\n"
          ]
        },
        {
          "name": "stderr",
          "output_type": "stream",
          "text": [
            "DEBUG flwr 2024-04-26 10:50:14,647 | server.py:182 | evaluate_round 7 received 5 results and 0 failures\n",
            "DEBUG flwr 2024-04-26 10:50:14,649 | server.py:218 | fit_round 8: strategy sampled 5 clients (out of 5)\n"
          ]
        },
        {
          "name": "stdout",
          "output_type": "stream",
          "text": [
            " pid=8992)\u001b[0m Client 4 loss 0.05063028883934021\n",
            " pid=8992)\u001b[0m Client 4 accuracy 0.532\n",
            " pid=8992)\u001b[0m [Client 0] fit, config: {'lr': 0.01}\n",
            " pid=8992)\u001b[0m Epoch 1: train loss 0.026684358716011047, accuracy 0.6951111111111111\n",
            " pid=8992)\u001b[0m Epoch 2: train loss 0.018098216503858566, accuracy 0.7993333333333333\n",
            " pid=8992)\u001b[0m Epoch 3: train loss 0.01381713803857565, accuracy 0.8524444444444444\n",
            " pid=8992)\u001b[0m Epoch 4: train loss 0.01057619322091341, accuracy 0.89\n",
            " pid=8992)\u001b[0m Epoch 5: train loss 0.008691050112247467, accuracy 0.9104444444444444\n",
            " pid=8992)\u001b[0m [Client 1] fit, config: {'lr': 0.01}\n",
            " pid=8992)\u001b[0m Epoch 1: train loss 0.027273613959550858, accuracy 0.6917777777777778\n",
            " pid=8992)\u001b[0m Epoch 2: train loss 0.017996594309806824, accuracy 0.8015555555555556\n",
            " pid=8992)\u001b[0m Epoch 3: train loss 0.013975674286484718, accuracy 0.8477777777777777\n",
            " pid=8992)\u001b[0m Epoch 4: train loss 0.011337600648403168, accuracy 0.8777777777777778\n",
            " pid=8992)\u001b[0m Epoch 5: train loss 0.00893230177462101, accuracy 0.9071111111111111\n",
            " pid=8992)\u001b[0m [Client 3] fit, config: {'lr': 0.01}\n",
            " pid=8992)\u001b[0m Epoch 1: train loss 0.02845017798244953, accuracy 0.6766666666666666\n",
            " pid=8992)\u001b[0m Epoch 2: train loss 0.020603064447641373, accuracy 0.7597777777777778\n",
            " pid=8992)\u001b[0m Epoch 3: train loss 0.01511069294065237, accuracy 0.8355555555555556\n",
            " pid=8992)\u001b[0m Epoch 4: train loss 0.01188091840595007, accuracy 0.8722222222222222\n",
            " pid=8992)\u001b[0m Epoch 5: train loss 0.008919822983443737, accuracy 0.9113333333333333\n",
            " pid=8992)\u001b[0m [Client 4] fit, config: {'lr': 0.01}\n",
            " pid=8992)\u001b[0m Epoch 1: train loss 0.028954584151506424, accuracy 0.6766666666666666\n",
            " pid=8992)\u001b[0m Epoch 2: train loss 0.019942516461014748, accuracy 0.7706666666666667\n",
            " pid=8992)\u001b[0m Epoch 3: train loss 0.015585953369736671, accuracy 0.8337777777777777\n",
            " pid=8992)\u001b[0m Epoch 4: train loss 0.0126261031255126, accuracy 0.8617777777777778\n",
            " pid=8992)\u001b[0m Epoch 5: train loss 0.009691579267382622, accuracy 0.8966666666666666\n",
            " pid=8992)\u001b[0m [Client 2] fit, config: {'lr': 0.01}\n",
            " pid=8992)\u001b[0m Epoch 1: train loss 0.02786239981651306, accuracy 0.6875555555555556\n",
            " pid=8992)\u001b[0m Epoch 2: train loss 0.019111767411231995, accuracy 0.7795555555555556\n",
            " pid=8992)\u001b[0m Epoch 3: train loss 0.0147531284019351, accuracy 0.8417777777777777\n",
            " pid=8992)\u001b[0m Epoch 4: train loss 0.0113349175080657, accuracy 0.8768888888888889\n"
          ]
        },
        {
          "name": "stderr",
          "output_type": "stream",
          "text": [
            "DEBUG flwr 2024-04-26 10:51:30,737 | server.py:232 | fit_round 8 received 5 results and 0 failures\n",
            "DEBUG flwr 2024-04-26 10:51:30,757 | server.py:168 | evaluate_round 8: strategy sampled 5 clients (out of 5)\n"
          ]
        },
        {
          "name": "stdout",
          "output_type": "stream",
          "text": [
            " pid=8992)\u001b[0m Epoch 5: train loss 0.009079672396183014, accuracy 0.9077777777777778\n",
            " pid=8992)\u001b[0m [Client 0] evaluate, config: {}\n",
            " pid=8992)\u001b[0m Client 0 loss 0.05631742906570435\n",
            " pid=8992)\u001b[0m Client 0 accuracy 0.55\n",
            " pid=8992)\u001b[0m [Client 2] evaluate, config: {}\n",
            " pid=8992)\u001b[0m Client 2 loss 0.059650650262832644\n",
            " pid=8992)\u001b[0m Client 2 accuracy 0.514\n",
            " pid=8992)\u001b[0m [Client 1] evaluate, config: {}\n",
            " pid=8992)\u001b[0m Client 1 loss 0.05477036046981811\n",
            " pid=8992)\u001b[0m Client 1 accuracy 0.544\n",
            " pid=8992)\u001b[0m [Client 4] evaluate, config: {}\n",
            " pid=8992)\u001b[0m Client 4 loss 0.054653947830200195\n",
            " pid=8992)\u001b[0m Client 4 accuracy 0.538\n"
          ]
        },
        {
          "name": "stderr",
          "output_type": "stream",
          "text": [
            "DEBUG flwr 2024-04-26 10:51:38,424 | server.py:182 | evaluate_round 8 received 5 results and 0 failures\n",
            "DEBUG flwr 2024-04-26 10:51:38,426 | server.py:218 | fit_round 9: strategy sampled 5 clients (out of 5)\n"
          ]
        },
        {
          "name": "stdout",
          "output_type": "stream",
          "text": [
            " pid=8992)\u001b[0m [Client 3] evaluate, config: {}\n",
            " pid=8992)\u001b[0m Client 3 loss 0.05619572734832764\n",
            " pid=8992)\u001b[0m Client 3 accuracy 0.566\n",
            " pid=8992)\u001b[0m [Client 3] fit, config: {'lr': 0.01}\n",
            " pid=8992)\u001b[0m Epoch 1: train loss 0.026772577315568924, accuracy 0.7011111111111111\n",
            " pid=8992)\u001b[0m Epoch 2: train loss 0.016915371641516685, accuracy 0.8044444444444444\n",
            " pid=8992)\u001b[0m Epoch 3: train loss 0.012243684381246567, accuracy 0.872\n",
            " pid=8992)\u001b[0m Epoch 4: train loss 0.009030294604599476, accuracy 0.908\n",
            " pid=8992)\u001b[0m Epoch 5: train loss 0.007936913520097733, accuracy 0.9224444444444444\n",
            " pid=8992)\u001b[0m [Client 1] fit, config: {'lr': 0.01}\n",
            " pid=8992)\u001b[0m Epoch 1: train loss 0.025130685418844223, accuracy 0.7257777777777777\n",
            " pid=8992)\u001b[0m Epoch 2: train loss 0.015335523523390293, accuracy 0.8213333333333334\n",
            " pid=8992)\u001b[0m Epoch 3: train loss 0.010957048274576664, accuracy 0.8831111111111111\n",
            " pid=8992)\u001b[0m Epoch 4: train loss 0.007847617380321026, accuracy 0.9222222222222223\n",
            " pid=8992)\u001b[0m Epoch 5: train loss 0.006385854445397854, accuracy 0.9371111111111111\n",
            " pid=8992)\u001b[0m [Client 4] fit, config: {'lr': 0.01}\n",
            " pid=8992)\u001b[0m Epoch 1: train loss 0.02688482031226158, accuracy 0.7033333333333334\n",
            " pid=8992)\u001b[0m Epoch 2: train loss 0.017356373369693756, accuracy 0.804\n",
            " pid=8992)\u001b[0m Epoch 3: train loss 0.012800694443285465, accuracy 0.854\n",
            " pid=8992)\u001b[0m Epoch 4: train loss 0.009277229197323322, accuracy 0.9062222222222223\n",
            " pid=8992)\u001b[0m Epoch 5: train loss 0.007422981318086386, accuracy 0.9284444444444444\n",
            " pid=8992)\u001b[0m [Client 2] fit, config: {'lr': 0.01}\n",
            " pid=8992)\u001b[0m Epoch 1: train loss 0.025551117956638336, accuracy 0.7162222222222222\n",
            " pid=8992)\u001b[0m Epoch 2: train loss 0.015846028923988342, accuracy 0.8244444444444444\n",
            " pid=8992)\u001b[0m Epoch 3: train loss 0.01179974339902401, accuracy 0.8717777777777778\n",
            " pid=8992)\u001b[0m Epoch 4: train loss 0.009244830347597599, accuracy 0.8986666666666666\n",
            " pid=8992)\u001b[0m Epoch 5: train loss 0.00677907932549715, accuracy 0.9351111111111111\n",
            " pid=8992)\u001b[0m [Client 0] fit, config: {'lr': 0.01}\n",
            " pid=8992)\u001b[0m Epoch 1: train loss 0.025655893608927727, accuracy 0.7042222222222222\n",
            " pid=8992)\u001b[0m Epoch 2: train loss 0.01561877503991127, accuracy 0.8246666666666667\n",
            " pid=8992)\u001b[0m Epoch 3: train loss 0.011538717895746231, accuracy 0.8782222222222222\n",
            " pid=8992)\u001b[0m Epoch 4: train loss 0.008143316954374313, accuracy 0.9184444444444444\n"
          ]
        },
        {
          "name": "stderr",
          "output_type": "stream",
          "text": [
            "DEBUG flwr 2024-04-26 10:52:53,711 | server.py:232 | fit_round 9 received 5 results and 0 failures\n",
            "DEBUG flwr 2024-04-26 10:52:53,729 | server.py:168 | evaluate_round 9: strategy sampled 5 clients (out of 5)\n"
          ]
        },
        {
          "name": "stdout",
          "output_type": "stream",
          "text": [
            " pid=8992)\u001b[0m Epoch 5: train loss 0.006205177400261164, accuracy 0.9424444444444444\n",
            " pid=8992)\u001b[0m [Client 2] evaluate, config: {}\n",
            " pid=8992)\u001b[0m Client 2 loss 0.06659445142745972\n",
            " pid=8992)\u001b[0m Client 2 accuracy 0.51\n",
            " pid=8992)\u001b[0m [Client 3] evaluate, config: {}\n",
            " pid=8992)\u001b[0m Client 3 loss 0.06312381958961487\n",
            " pid=8992)\u001b[0m Client 3 accuracy 0.572\n",
            " pid=8992)\u001b[0m [Client 1] evaluate, config: {}\n",
            " pid=8992)\u001b[0m Client 1 loss 0.060815213680267335\n",
            " pid=8992)\u001b[0m Client 1 accuracy 0.524\n",
            " pid=8992)\u001b[0m [Client 4] evaluate, config: {}\n",
            " pid=8992)\u001b[0m Client 4 loss 0.058801236867904665\n",
            " pid=8992)\u001b[0m Client 4 accuracy 0.542\n"
          ]
        },
        {
          "name": "stderr",
          "output_type": "stream",
          "text": [
            "DEBUG flwr 2024-04-26 10:53:01,230 | server.py:182 | evaluate_round 9 received 5 results and 0 failures\n",
            "DEBUG flwr 2024-04-26 10:53:01,232 | server.py:218 | fit_round 10: strategy sampled 5 clients (out of 5)\n"
          ]
        },
        {
          "name": "stdout",
          "output_type": "stream",
          "text": [
            " pid=8992)\u001b[0m [Client 0] evaluate, config: {}\n",
            " pid=8992)\u001b[0m Client 0 loss 0.06194675040245056\n",
            " pid=8992)\u001b[0m Client 0 accuracy 0.538\n",
            " pid=8992)\u001b[0m [Client 3] fit, config: {'lr': 0.01}\n",
            " pid=8992)\u001b[0m Epoch 1: train loss 0.025256427004933357, accuracy 0.72\n",
            " pid=8992)\u001b[0m Epoch 2: train loss 0.014906018041074276, accuracy 0.832\n",
            " pid=8992)\u001b[0m Epoch 3: train loss 0.010330409742891788, accuracy 0.8788888888888889\n",
            " pid=8992)\u001b[0m Epoch 4: train loss 0.007232306525111198, accuracy 0.9293333333333333\n",
            " pid=8992)\u001b[0m Epoch 5: train loss 0.0056657493114471436, accuracy 0.9464444444444444\n",
            " pid=8992)\u001b[0m [Client 1] fit, config: {'lr': 0.01}\n",
            " pid=8992)\u001b[0m Epoch 1: train loss 0.02428741566836834, accuracy 0.7284444444444444\n",
            " pid=8992)\u001b[0m Epoch 2: train loss 0.013430356048047543, accuracy 0.8486666666666667\n",
            " pid=8992)\u001b[0m Epoch 3: train loss 0.009309094399213791, accuracy 0.9008888888888889\n",
            " pid=8992)\u001b[0m Epoch 4: train loss 0.006457942072302103, accuracy 0.9371111111111111\n",
            " pid=8992)\u001b[0m Epoch 5: train loss 0.004741003271192312, accuracy 0.9575555555555556\n",
            " pid=8992)\u001b[0m [Client 0] fit, config: {'lr': 0.01}\n",
            " pid=8992)\u001b[0m Epoch 1: train loss 0.024039138108491898, accuracy 0.7277777777777777\n",
            " pid=8992)\u001b[0m Epoch 2: train loss 0.013037965632975101, accuracy 0.8582222222222222\n",
            " pid=8992)\u001b[0m Epoch 3: train loss 0.009218250401318073, accuracy 0.9042222222222223\n",
            " pid=8992)\u001b[0m Epoch 4: train loss 0.006574456579983234, accuracy 0.936\n",
            " pid=8992)\u001b[0m Epoch 5: train loss 0.005056977737694979, accuracy 0.9531111111111111\n",
            " pid=8992)\u001b[0m [Client 2] fit, config: {'lr': 0.01}\n",
            " pid=8992)\u001b[0m Epoch 1: train loss 0.024109767749905586, accuracy 0.7295555555555555\n",
            " pid=8992)\u001b[0m Epoch 2: train loss 0.013103605248034, accuracy 0.8557777777777777\n",
            " pid=8992)\u001b[0m Epoch 3: train loss 0.009648404084146023, accuracy 0.8968888888888888\n",
            " pid=8992)\u001b[0m Epoch 4: train loss 0.0070192161947488785, accuracy 0.9348888888888889\n",
            " pid=8992)\u001b[0m Epoch 5: train loss 0.005388667341321707, accuracy 0.9473333333333334\n",
            " pid=8992)\u001b[0m [Client 4] fit, config: {'lr': 0.01}\n",
            " pid=8992)\u001b[0m Epoch 1: train loss 0.025067416951060295, accuracy 0.7197777777777777\n",
            " pid=8992)\u001b[0m Epoch 2: train loss 0.014482403174042702, accuracy 0.8382222222222222\n",
            " pid=8992)\u001b[0m Epoch 3: train loss 0.010230773128569126, accuracy 0.8933333333333333\n",
            " pid=8992)\u001b[0m Epoch 4: train loss 0.008021095767617226, accuracy 0.9166666666666666\n"
          ]
        },
        {
          "name": "stderr",
          "output_type": "stream",
          "text": [
            "DEBUG flwr 2024-04-26 10:54:16,174 | server.py:232 | fit_round 10 received 5 results and 0 failures\n",
            "DEBUG flwr 2024-04-26 10:54:16,191 | server.py:168 | evaluate_round 10: strategy sampled 5 clients (out of 5)\n"
          ]
        },
        {
          "name": "stdout",
          "output_type": "stream",
          "text": [
            " pid=8992)\u001b[0m Epoch 5: train loss 0.005459274165332317, accuracy 0.9491111111111111\n",
            " pid=8992)\u001b[0m [Client 0] evaluate, config: {}\n",
            " pid=8992)\u001b[0m Client 0 loss 0.06394584035873413\n",
            " pid=8992)\u001b[0m Client 0 accuracy 0.562\n",
            " pid=8992)\u001b[0m [Client 2] evaluate, config: {}\n",
            " pid=8992)\u001b[0m Client 2 loss 0.0696816189289093\n",
            " pid=8992)\u001b[0m Client 2 accuracy 0.512\n",
            " pid=8992)\u001b[0m [Client 4] evaluate, config: {}\n",
            " pid=8992)\u001b[0m Client 4 loss 0.0615974051952362\n",
            " pid=8992)\u001b[0m Client 4 accuracy 0.524\n",
            " pid=8992)\u001b[0m [Client 1] evaluate, config: {}\n"
          ]
        },
        {
          "name": "stderr",
          "output_type": "stream",
          "text": [
            "DEBUG flwr 2024-04-26 10:54:23,402 | server.py:182 | evaluate_round 10 received 5 results and 0 failures\n",
            "INFO flwr 2024-04-26 10:54:23,404 | server.py:147 | FL finished in 835.7796104999998\n",
            "INFO flwr 2024-04-26 10:54:23,406 | app.py:218 | app_fit: losses_distributed [(1, 0.05587423934936524), (2, 0.044970293760299686), (3, 0.04253035924434662), (4, 0.042628040552139285), (5, 0.044089994812011715), (6, 0.0470378776550293), (7, 0.05151897335052491), (8, 0.05631762299537659), (9, 0.062256294393539434), (10, 0.06569828534126282)]\n",
            "INFO flwr 2024-04-26 10:54:23,407 | app.py:219 | app_fit: metrics_distributed_fit {}\n",
            "INFO flwr 2024-04-26 10:54:23,409 | app.py:220 | app_fit: metrics_distributed {}\n",
            "INFO flwr 2024-04-26 10:54:23,410 | app.py:221 | app_fit: losses_centralized []\n",
            "INFO flwr 2024-04-26 10:54:23,412 | app.py:222 | app_fit: metrics_centralized {}\n"
          ]
        },
        {
          "name": "stdout",
          "output_type": "stream",
          "text": [
            " pid=8992)\u001b[0m Client 1 loss 0.0650769727230072\n",
            " pid=8992)\u001b[0m Client 1 accuracy 0.524\n",
            " pid=8992)\u001b[0m [Client 3] evaluate, config: {}\n"
          ]
        },
        {
          "data": {
            "text/plain": [
              "History (loss, distributed):\n",
              "\tround 1: 0.05587423934936524\n",
              "\tround 2: 0.044970293760299686\n",
              "\tround 3: 0.04253035924434662\n",
              "\tround 4: 0.042628040552139285\n",
              "\tround 5: 0.044089994812011715\n",
              "\tround 6: 0.0470378776550293\n",
              "\tround 7: 0.05151897335052491\n",
              "\tround 8: 0.05631762299537659\n",
              "\tround 9: 0.062256294393539434\n",
              "\tround 10: 0.06569828534126282"
            ]
          },
          "execution_count": 11,
          "metadata": {},
          "output_type": "execute_result"
        },
        {
          "name": "stdout",
          "output_type": "stream",
          "text": [
            " pid=8992)\u001b[0m Client 3 loss 0.06818958950042725\n",
            " pid=8992)\u001b[0m Client 3 accuracy 0.566\n"
          ]
        }
      ],
      "source": [
        "fl.simulation.start_simulation(\n",
        "    client_fn=client_fn,\n",
        "    num_clients=5,\n",
        "    config=fl.server.ServerConfig(num_rounds=10),\n",
        "    strategy=FedCustom(),  # <-- pass the new strategy here\n",
        "    client_resources=client_resources,\n",
        ")"
      ]
    },
    {
      "cell_type": "code",
      "execution_count": 13,
      "metadata": {},
      "outputs": [],
      "source": [
        "from typing import Callable, Union\n",
        "\n",
        "from flwr.common import (\n",
        "    EvaluateIns,\n",
        "    EvaluateRes,\n",
        "    FitIns,\n",
        "    FitRes,\n",
        "    MetricsAggregationFn,\n",
        "    NDArrays,\n",
        "    Parameters,\n",
        "    Scalar,\n",
        "    ndarrays_to_parameters,\n",
        "    parameters_to_ndarrays,\n",
        ")\n",
        "from flwr.server.client_manager import ClientManager\n",
        "from flwr.server.client_proxy import ClientProxy\n",
        "from flwr.server.strategy.aggregate import aggregate, weighted_loss_avg\n",
        "\n",
        "\n",
        "class FedCustom(fl.server.strategy.Strategy):\n",
        "    def __init__(\n",
        "        self,\n",
        "        fraction_fit: float = 1.0,\n",
        "        fraction_evaluate: float = 1.0,\n",
        "        min_fit_clients: int = 2,\n",
        "        min_evaluate_clients: int = 2,\n",
        "        min_available_clients: int = 2,\n",
        "    ) -> None:\n",
        "        super().__init__()\n",
        "        self.fraction_fit = fraction_fit\n",
        "        self.fraction_evaluate = fraction_evaluate\n",
        "        self.min_fit_clients = min_fit_clients\n",
        "        self.min_evaluate_clients = min_evaluate_clients\n",
        "        self.min_available_clients = min_available_clients\n",
        "\n",
        "    def __repr__(self) -> str:\n",
        "        return \"FedCustom\"\n",
        "\n",
        "    def initialize_parameters(\n",
        "        self, client_manager: ClientManager\n",
        "    ) -> Optional[Parameters]:\n",
        "        \"\"\"Initialize global model parameters.\"\"\"\n",
        "        net = Net()\n",
        "        ndarrays = get_parameters(net)\n",
        "        return fl.common.ndarrays_to_parameters(ndarrays)\n",
        "\n",
        "    def configure_fit(\n",
        "        self, server_round: int, parameters: Parameters, client_manager: ClientManager\n",
        "    ) -> List[Tuple[ClientProxy, FitIns]]:\n",
        "        \"\"\"Configure the next round of training.\"\"\"\n",
        "\n",
        "        # Sample clients\n",
        "        sample_size, min_num_clients = self.num_fit_clients(\n",
        "            client_manager.num_available()\n",
        "        )\n",
        "        clients = client_manager.sample(\n",
        "            num_clients=sample_size, min_num_clients=min_num_clients\n",
        "        )\n",
        "\n",
        "        # Create custom configs\n",
        "        n_clients = len(clients)\n",
        "        #half_clients = n_clients // 2\n",
        "        standard_config = {\"lr\": 0.05} #More Tighter LR\n",
        "        higher_lr_config = {\"lr\": 0.003}\n",
        "        fit_configurations = []\n",
        "        for idx, client in enumerate(clients):\n",
        "            fit_configurations.append((client, FitIns(parameters, standard_config)))\n",
        "            # if idx < half_clients:\n",
        "            #     fit_configurations.append((client, FitIns(parameters, standard_config)))\n",
        "            # else:\n",
        "            #     fit_configurations.append(\n",
        "            #         (client, FitIns(parameters, higher_lr_config))\n",
        "            #     )\n",
        "        return fit_configurations\n",
        "\n",
        "    def aggregate_fit(\n",
        "        self,\n",
        "        server_round: int,\n",
        "        results: List[Tuple[ClientProxy, FitRes]],\n",
        "        failures: List[Union[Tuple[ClientProxy, FitRes], BaseException]],\n",
        "    ) -> Tuple[Optional[Parameters], Dict[str, Scalar]]:\n",
        "        \"\"\"Aggregate fit results using weighted average.\"\"\"\n",
        "\n",
        "        weights_results = [\n",
        "            (parameters_to_ndarrays(fit_res.parameters), fit_res.num_examples)\n",
        "            for _, fit_res in results\n",
        "        ]\n",
        "        parameters_aggregated = ndarrays_to_parameters(aggregate(weights_results))\n",
        "        metrics_aggregated = {}\n",
        "        return parameters_aggregated, metrics_aggregated\n",
        "\n",
        "    def configure_evaluate(\n",
        "        self, server_round: int, parameters: Parameters, client_manager: ClientManager\n",
        "    ) -> List[Tuple[ClientProxy, EvaluateIns]]:\n",
        "        \"\"\"Configure the next round of evaluation.\"\"\"\n",
        "        if self.fraction_evaluate == 0.0:\n",
        "            return []\n",
        "        config = {}\n",
        "        evaluate_ins = EvaluateIns(parameters, config)\n",
        "\n",
        "        # Sample clients\n",
        "        sample_size, min_num_clients = self.num_evaluation_clients(\n",
        "            client_manager.num_available()\n",
        "        )\n",
        "        clients = client_manager.sample(\n",
        "            num_clients=sample_size, min_num_clients=min_num_clients\n",
        "        )\n",
        "\n",
        "        # Return client/config pairs\n",
        "        return [(client, evaluate_ins) for client in clients]\n",
        "\n",
        "    def aggregate_evaluate(\n",
        "        self,\n",
        "        server_round: int,\n",
        "        results: List[Tuple[ClientProxy, EvaluateRes]],\n",
        "        failures: List[Union[Tuple[ClientProxy, EvaluateRes], BaseException]],\n",
        "    ) -> Tuple[Optional[float], Dict[str, Scalar]]:\n",
        "        \"\"\"Aggregate evaluation losses using weighted average.\"\"\"\n",
        "\n",
        "        if not results:\n",
        "            return None, {}\n",
        "\n",
        "        loss_aggregated = weighted_loss_avg(\n",
        "            [\n",
        "                (evaluate_res.num_examples, evaluate_res.loss)\n",
        "                for _, evaluate_res in results\n",
        "            ]\n",
        "        )\n",
        "        metrics_aggregated = {}\n",
        "        return loss_aggregated, metrics_aggregated\n",
        "\n",
        "    def evaluate(\n",
        "        self, server_round: int, parameters: Parameters\n",
        "    ) -> Optional[Tuple[float, Dict[str, Scalar]]]:\n",
        "        \"\"\"Evaluate global model parameters using an evaluation function.\"\"\"\n",
        "\n",
        "        # Let's assume we won't perform the global model evaluation on the server side.\n",
        "        return None\n",
        "\n",
        "    def num_fit_clients(self, num_available_clients: int) -> Tuple[int, int]:\n",
        "        \"\"\"Return sample size and required number of clients.\"\"\"\n",
        "        num_clients = int(num_available_clients * self.fraction_fit)\n",
        "        return max(num_clients, self.min_fit_clients), self.min_available_clients\n",
        "\n",
        "    def num_evaluation_clients(self, num_available_clients: int) -> Tuple[int, int]:\n",
        "        \"\"\"Use a fraction of available clients for evaluation.\"\"\"\n",
        "        num_clients = int(num_available_clients * self.fraction_evaluate)\n",
        "        return max(num_clients, self.min_evaluate_clients), self.min_available_clients"
      ]
    },
    {
      "cell_type": "code",
      "execution_count": 14,
      "metadata": {},
      "outputs": [
        {
          "name": "stderr",
          "output_type": "stream",
          "text": [
            "INFO flwr 2024-04-26 10:57:51,363 | app.py:146 | Starting Flower simulation, config: ServerConfig(num_rounds=10, round_timeout=None)\n",
            "INFO flwr 2024-04-26 10:57:57,246 | app.py:180 | Flower VCE: Ray initialized with resources: {'node:127.0.0.1': 1.0, 'memory': 65521953383.0, 'object_store_memory': 32366551449.0, 'CPU': 32.0, 'GPU': 1.0}\n",
            "INFO flwr 2024-04-26 10:57:57,248 | server.py:86 | Initializing global parameters\n",
            "INFO flwr 2024-04-26 10:57:57,254 | server.py:269 | Using initial parameters provided by strategy\n",
            "INFO flwr 2024-04-26 10:57:57,256 | server.py:88 | Evaluating initial parameters\n",
            "INFO flwr 2024-04-26 10:57:57,257 | server.py:101 | FL starting\n",
            "DEBUG flwr 2024-04-26 10:57:57,258 | server.py:218 | fit_round 1: strategy sampled 5 clients (out of 5)\n"
          ]
        },
        {
          "name": "stdout",
          "output_type": "stream",
          "text": [
            " pid=28072)\u001b[0m [Client 3] fit, config: {'lr': 0.05}\n",
            " pid=28072)\u001b[0m Epoch 1: train loss 0.06570011377334595, accuracy 0.23\n",
            " pid=28072)\u001b[0m Epoch 2: train loss 0.05679967626929283, accuracy 0.33666666666666667\n",
            " pid=28072)\u001b[0m Epoch 3: train loss 0.0518064871430397, accuracy 0.40244444444444444\n",
            " pid=28072)\u001b[0m Epoch 4: train loss 0.04898172616958618, accuracy 0.4262222222222222\n",
            " pid=28072)\u001b[0m Epoch 5: train loss 0.04759883135557175, accuracy 0.4528888888888889\n",
            " pid=28072)\u001b[0m [Client 1] fit, config: {'lr': 0.05}\n",
            " pid=28072)\u001b[0m Epoch 1: train loss 0.065456822514534, accuracy 0.2242222222222222\n",
            " pid=28072)\u001b[0m Epoch 2: train loss 0.0551731213927269, accuracy 0.3473333333333333\n",
            " pid=28072)\u001b[0m Epoch 3: train loss 0.05000154301524162, accuracy 0.416\n",
            " pid=28072)\u001b[0m Epoch 4: train loss 0.047479771077632904, accuracy 0.44733333333333336\n",
            " pid=28072)\u001b[0m Epoch 5: train loss 0.044916972517967224, accuracy 0.47688888888888886\n",
            " pid=28072)\u001b[0m [Client 0] fit, config: {'lr': 0.05}\n",
            " pid=28072)\u001b[0m Epoch 1: train loss 0.06508158147335052, accuracy 0.2328888888888889\n",
            " pid=28072)\u001b[0m Epoch 2: train loss 0.0564018078148365, accuracy 0.35\n",
            " pid=28072)\u001b[0m Epoch 3: train loss 0.05213722959160805, accuracy 0.4011111111111111\n",
            " pid=28072)\u001b[0m Epoch 4: train loss 0.04957643151283264, accuracy 0.42244444444444446\n",
            " pid=28072)\u001b[0m Epoch 5: train loss 0.046759262681007385, accuracy 0.45511111111111113\n",
            " pid=28072)\u001b[0m [Client 2] fit, config: {'lr': 0.05}\n",
            " pid=28072)\u001b[0m Epoch 1: train loss 0.06547850370407104, accuracy 0.21933333333333332\n",
            " pid=28072)\u001b[0m Epoch 2: train loss 0.057222358882427216, accuracy 0.3317777777777778\n",
            " pid=28072)\u001b[0m Epoch 3: train loss 0.051928844302892685, accuracy 0.39755555555555555\n",
            " pid=28072)\u001b[0m Epoch 4: train loss 0.04888325184583664, accuracy 0.42866666666666664\n",
            " pid=28072)\u001b[0m Epoch 5: train loss 0.04698584973812103, accuracy 0.4568888888888889\n",
            " pid=28072)\u001b[0m [Client 4] fit, config: {'lr': 0.05}\n",
            " pid=28072)\u001b[0m Epoch 1: train loss 0.06494719535112381, accuracy 0.23577777777777778\n",
            " pid=28072)\u001b[0m Epoch 2: train loss 0.0560232438147068, accuracy 0.35533333333333333\n",
            " pid=28072)\u001b[0m Epoch 3: train loss 0.05186126381158829, accuracy 0.38822222222222225\n",
            " pid=28072)\u001b[0m Epoch 4: train loss 0.04880480468273163, accuracy 0.4331111111111111\n"
          ]
        },
        {
          "name": "stderr",
          "output_type": "stream",
          "text": [
            "DEBUG flwr 2024-04-26 10:59:22,838 | server.py:232 | fit_round 1 received 5 results and 0 failures\n",
            "DEBUG flwr 2024-04-26 10:59:22,857 | server.py:168 | evaluate_round 1: strategy sampled 5 clients (out of 5)\n"
          ]
        },
        {
          "name": "stdout",
          "output_type": "stream",
          "text": [
            " pid=28072)\u001b[0m Epoch 5: train loss 0.04628932848572731, accuracy 0.46355555555555555\n",
            " pid=28072)\u001b[0m [Client 4] evaluate, config: {}\n",
            " pid=28072)\u001b[0m Client 4 loss 0.056903997898101806\n",
            " pid=28072)\u001b[0m Client 4 accuracy 0.354\n",
            " pid=28072)\u001b[0m [Client 0] evaluate, config: {}\n",
            " pid=28072)\u001b[0m Client 0 loss 0.0573690927028656\n",
            " pid=28072)\u001b[0m Client 0 accuracy 0.37\n",
            " pid=28072)\u001b[0m [Client 3] evaluate, config: {}\n",
            " pid=28072)\u001b[0m Client 3 loss 0.05719008088111877\n",
            " pid=28072)\u001b[0m Client 3 accuracy 0.346\n",
            " pid=28072)\u001b[0m [Client 1] evaluate, config: {}\n",
            " pid=28072)\u001b[0m Client 1 loss 0.05709424734115601\n",
            " pid=28072)\u001b[0m Client 1 accuracy 0.344\n",
            " pid=28072)\u001b[0m [Client 2] evaluate, config: {}\n"
          ]
        },
        {
          "name": "stderr",
          "output_type": "stream",
          "text": [
            "DEBUG flwr 2024-04-26 10:59:30,636 | server.py:182 | evaluate_round 1 received 5 results and 0 failures\n",
            "DEBUG flwr 2024-04-26 10:59:30,638 | server.py:218 | fit_round 2: strategy sampled 5 clients (out of 5)\n"
          ]
        },
        {
          "name": "stdout",
          "output_type": "stream",
          "text": [
            " pid=28072)\u001b[0m Client 2 loss 0.05817626619338989\n",
            " pid=28072)\u001b[0m Client 2 accuracy 0.32\n",
            " pid=28072)\u001b[0m [Client 2] fit, config: {'lr': 0.05}\n",
            " pid=28072)\u001b[0m Epoch 1: train loss 0.05055118724703789, accuracy 0.412\n",
            " pid=28072)\u001b[0m Epoch 2: train loss 0.04659445211291313, accuracy 0.45155555555555554\n",
            " pid=28072)\u001b[0m Epoch 3: train loss 0.04455969110131264, accuracy 0.4822222222222222\n",
            " pid=28072)\u001b[0m Epoch 4: train loss 0.042331695556640625, accuracy 0.5111111111111111\n",
            " pid=28072)\u001b[0m Epoch 5: train loss 0.039617836475372314, accuracy 0.538\n",
            " pid=28072)\u001b[0m [Client 0] fit, config: {'lr': 0.05}\n",
            " pid=28072)\u001b[0m Epoch 1: train loss 0.04958544299006462, accuracy 0.424\n",
            " pid=28072)\u001b[0m Epoch 2: train loss 0.04598883539438248, accuracy 0.4713333333333333\n",
            " pid=28072)\u001b[0m Epoch 3: train loss 0.04311703145503998, accuracy 0.4902222222222222\n",
            " pid=28072)\u001b[0m Epoch 4: train loss 0.04113590717315674, accuracy 0.5271111111111111\n",
            " pid=28072)\u001b[0m Epoch 5: train loss 0.03903675451874733, accuracy 0.5537777777777778\n",
            " pid=28072)\u001b[0m [Client 1] fit, config: {'lr': 0.05}\n",
            " pid=28072)\u001b[0m Epoch 1: train loss 0.04957018792629242, accuracy 0.42844444444444446\n",
            " pid=28072)\u001b[0m Epoch 2: train loss 0.045775946229696274, accuracy 0.474\n",
            " pid=28072)\u001b[0m Epoch 3: train loss 0.04351695999503136, accuracy 0.504\n",
            " pid=28072)\u001b[0m Epoch 4: train loss 0.04052264615893364, accuracy 0.5317777777777778\n",
            " pid=28072)\u001b[0m Epoch 5: train loss 0.03861350566148758, accuracy 0.5568888888888889\n",
            " pid=28072)\u001b[0m [Client 4] fit, config: {'lr': 0.05}\n",
            " pid=28072)\u001b[0m Epoch 1: train loss 0.04958568885922432, accuracy 0.4262222222222222\n",
            " pid=28072)\u001b[0m Epoch 2: train loss 0.046262484043836594, accuracy 0.4648888888888889\n",
            " pid=28072)\u001b[0m Epoch 3: train loss 0.043956734240055084, accuracy 0.5008888888888889\n",
            " pid=28072)\u001b[0m Epoch 4: train loss 0.041934601962566376, accuracy 0.5131111111111111\n",
            " pid=28072)\u001b[0m Epoch 5: train loss 0.039333026856184006, accuracy 0.5444444444444444\n",
            " pid=28072)\u001b[0m [Client 3] fit, config: {'lr': 0.05}\n",
            " pid=28072)\u001b[0m Epoch 1: train loss 0.05000878870487213, accuracy 0.41444444444444445\n",
            " pid=28072)\u001b[0m Epoch 2: train loss 0.04666869342327118, accuracy 0.4593333333333333\n",
            " pid=28072)\u001b[0m Epoch 3: train loss 0.04430573061108589, accuracy 0.4811111111111111\n",
            " pid=28072)\u001b[0m Epoch 4: train loss 0.041866883635520935, accuracy 0.5146666666666667\n"
          ]
        },
        {
          "name": "stderr",
          "output_type": "stream",
          "text": [
            "DEBUG flwr 2024-04-26 11:00:45,451 | server.py:232 | fit_round 2 received 5 results and 0 failures\n",
            "DEBUG flwr 2024-04-26 11:00:45,470 | server.py:168 | evaluate_round 2: strategy sampled 5 clients (out of 5)\n"
          ]
        },
        {
          "name": "stdout",
          "output_type": "stream",
          "text": [
            " pid=28072)\u001b[0m Epoch 5: train loss 0.040460892021656036, accuracy 0.5291111111111111\n",
            " pid=28072)\u001b[0m [Client 4] evaluate, config: {}\n",
            " pid=28072)\u001b[0m Client 4 loss 0.045713181495666506\n",
            " pid=28072)\u001b[0m Client 4 accuracy 0.456\n",
            " pid=28072)\u001b[0m [Client 2] evaluate, config: {}\n",
            " pid=28072)\u001b[0m Client 2 loss 0.04915652370452881\n",
            " pid=28072)\u001b[0m Client 2 accuracy 0.462\n",
            " pid=28072)\u001b[0m [Client 0] evaluate, config: {}\n",
            " pid=28072)\u001b[0m Client 0 loss 0.04746032476425171\n",
            " pid=28072)\u001b[0m Client 0 accuracy 0.46\n",
            " pid=28072)\u001b[0m [Client 3] evaluate, config: {}\n"
          ]
        },
        {
          "name": "stderr",
          "output_type": "stream",
          "text": [
            "DEBUG flwr 2024-04-26 11:00:53,376 | server.py:182 | evaluate_round 2 received 5 results and 0 failures\n",
            "DEBUG flwr 2024-04-26 11:00:53,378 | server.py:218 | fit_round 3: strategy sampled 5 clients (out of 5)\n"
          ]
        },
        {
          "name": "stdout",
          "output_type": "stream",
          "text": [
            " pid=28072)\u001b[0m Client 3 loss 0.045213638782501224\n",
            " pid=28072)\u001b[0m Client 3 accuracy 0.472\n",
            " pid=28072)\u001b[0m [Client 1] evaluate, config: {}\n",
            " pid=28072)\u001b[0m Client 1 loss 0.04646218109130859\n",
            " pid=28072)\u001b[0m Client 1 accuracy 0.466\n",
            " pid=28072)\u001b[0m [Client 0] fit, config: {'lr': 0.05}\n",
            " pid=28072)\u001b[0m Epoch 1: train loss 0.04243946820497513, accuracy 0.5182222222222223\n",
            " pid=28072)\u001b[0m Epoch 2: train loss 0.03918595612049103, accuracy 0.5528888888888889\n",
            " pid=28072)\u001b[0m Epoch 3: train loss 0.03684116154909134, accuracy 0.574\n",
            " pid=28072)\u001b[0m Epoch 4: train loss 0.03401920944452286, accuracy 0.6102222222222222\n",
            " pid=28072)\u001b[0m Epoch 5: train loss 0.03161279857158661, accuracy 0.6408888888888888\n",
            " pid=28072)\u001b[0m [Client 4] fit, config: {'lr': 0.05}\n",
            " pid=28072)\u001b[0m Epoch 1: train loss 0.04331299662590027, accuracy 0.5051111111111111\n",
            " pid=28072)\u001b[0m Epoch 2: train loss 0.03986504673957825, accuracy 0.5491111111111111\n",
            " pid=28072)\u001b[0m Epoch 3: train loss 0.03800887241959572, accuracy 0.5686666666666667\n",
            " pid=28072)\u001b[0m Epoch 4: train loss 0.03516317158937454, accuracy 0.598\n",
            " pid=28072)\u001b[0m Epoch 5: train loss 0.03271496295928955, accuracy 0.6293333333333333\n",
            " pid=28072)\u001b[0m [Client 1] fit, config: {'lr': 0.05}\n",
            " pid=28072)\u001b[0m Epoch 1: train loss 0.0426812507212162, accuracy 0.5128888888888888\n",
            " pid=28072)\u001b[0m Epoch 2: train loss 0.0390898622572422, accuracy 0.5546666666666666\n",
            " pid=28072)\u001b[0m Epoch 3: train loss 0.036603350192308426, accuracy 0.5871111111111111\n",
            " pid=28072)\u001b[0m Epoch 4: train loss 0.03435113653540611, accuracy 0.6044444444444445\n",
            " pid=28072)\u001b[0m Epoch 5: train loss 0.03169872239232063, accuracy 0.6393333333333333\n",
            " pid=28072)\u001b[0m [Client 2] fit, config: {'lr': 0.05}\n",
            " pid=28072)\u001b[0m Epoch 1: train loss 0.04375002533197403, accuracy 0.5\n",
            " pid=28072)\u001b[0m Epoch 2: train loss 0.040743786841630936, accuracy 0.5284444444444445\n",
            " pid=28072)\u001b[0m Epoch 3: train loss 0.038014404475688934, accuracy 0.5555555555555556\n",
            " pid=28072)\u001b[0m Epoch 4: train loss 0.03551400452852249, accuracy 0.5953333333333334\n",
            " pid=28072)\u001b[0m Epoch 5: train loss 0.032726872712373734, accuracy 0.6173333333333333\n",
            " pid=28072)\u001b[0m [Client 3] fit, config: {'lr': 0.05}\n",
            " pid=28072)\u001b[0m Epoch 1: train loss 0.04354822263121605, accuracy 0.4988888888888889\n",
            " pid=28072)\u001b[0m Epoch 2: train loss 0.040310513228178024, accuracy 0.5368888888888889\n",
            " pid=28072)\u001b[0m Epoch 3: train loss 0.03801744803786278, accuracy 0.5631111111111111\n",
            " pid=28072)\u001b[0m Epoch 4: train loss 0.03518974035978317, accuracy 0.5953333333333334\n"
          ]
        },
        {
          "name": "stderr",
          "output_type": "stream",
          "text": [
            "DEBUG flwr 2024-04-26 11:02:05,357 | server.py:232 | fit_round 3 received 5 results and 0 failures\n",
            "DEBUG flwr 2024-04-26 11:02:05,376 | server.py:168 | evaluate_round 3: strategy sampled 5 clients (out of 5)\n"
          ]
        },
        {
          "name": "stdout",
          "output_type": "stream",
          "text": [
            " pid=28072)\u001b[0m Epoch 5: train loss 0.03303050249814987, accuracy 0.6275555555555555\n",
            " pid=28072)\u001b[0m [Client 2] evaluate, config: {}\n",
            " pid=28072)\u001b[0m Client 2 loss 0.046663402438163755\n",
            " pid=28072)\u001b[0m Client 2 accuracy 0.494\n",
            " pid=28072)\u001b[0m [Client 0] evaluate, config: {}\n",
            " pid=28072)\u001b[0m Client 0 loss 0.043507347702980044\n",
            " pid=28072)\u001b[0m Client 0 accuracy 0.518\n",
            " pid=28072)\u001b[0m [Client 4] evaluate, config: {}\n",
            " pid=28072)\u001b[0m Client 4 loss 0.04211695420742035\n",
            " pid=28072)\u001b[0m Client 4 accuracy 0.516\n",
            " pid=28072)\u001b[0m [Client 1] evaluate, config: {}\n",
            " pid=28072)\u001b[0m Client 1 loss 0.04358879148960113\n",
            " pid=28072)\u001b[0m Client 1 accuracy 0.504\n",
            " pid=28072)\u001b[0m [Client 3] evaluate, config: {}\n"
          ]
        },
        {
          "name": "stderr",
          "output_type": "stream",
          "text": [
            "DEBUG flwr 2024-04-26 11:02:12,858 | server.py:182 | evaluate_round 3 received 5 results and 0 failures\n",
            "DEBUG flwr 2024-04-26 11:02:12,860 | server.py:218 | fit_round 4: strategy sampled 5 clients (out of 5)\n"
          ]
        },
        {
          "name": "stdout",
          "output_type": "stream",
          "text": [
            " pid=28072)\u001b[0m Client 3 loss 0.04192932772636414\n",
            " pid=28072)\u001b[0m Client 3 accuracy 0.524\n",
            " pid=28072)\u001b[0m [Client 2] fit, config: {'lr': 0.05}\n",
            " pid=28072)\u001b[0m Epoch 1: train loss 0.039130426943302155, accuracy 0.5477777777777778\n",
            " pid=28072)\u001b[0m Epoch 2: train loss 0.03542685508728027, accuracy 0.5888888888888889\n",
            " pid=28072)\u001b[0m Epoch 3: train loss 0.032060977071523666, accuracy 0.6284444444444445\n",
            " pid=28072)\u001b[0m Epoch 4: train loss 0.02907177060842514, accuracy 0.666\n",
            " pid=28072)\u001b[0m Epoch 5: train loss 0.026428690180182457, accuracy 0.6966666666666667\n",
            " pid=28072)\u001b[0m [Client 0] fit, config: {'lr': 0.05}\n",
            " pid=28072)\u001b[0m Epoch 1: train loss 0.038501448929309845, accuracy 0.5717777777777778\n",
            " pid=28072)\u001b[0m Epoch 2: train loss 0.03437584266066551, accuracy 0.6075555555555555\n",
            " pid=28072)\u001b[0m Epoch 3: train loss 0.03143242746591568, accuracy 0.6404444444444445\n",
            " pid=28072)\u001b[0m Epoch 4: train loss 0.02878108061850071, accuracy 0.6702222222222223\n",
            " pid=28072)\u001b[0m Epoch 5: train loss 0.02547527477145195, accuracy 0.718\n",
            " pid=28072)\u001b[0m [Client 4] fit, config: {'lr': 0.05}\n",
            " pid=28072)\u001b[0m Epoch 1: train loss 0.03939368203282356, accuracy 0.5535555555555556\n",
            " pid=28072)\u001b[0m Epoch 2: train loss 0.03563656285405159, accuracy 0.59\n",
            " pid=28072)\u001b[0m Epoch 3: train loss 0.032430268824100494, accuracy 0.6384444444444445\n",
            " pid=28072)\u001b[0m Epoch 4: train loss 0.0299699567258358, accuracy 0.6606666666666666\n",
            " pid=28072)\u001b[0m Epoch 5: train loss 0.0268006082624197, accuracy 0.6995555555555556\n",
            " pid=28072)\u001b[0m [Client 3] fit, config: {'lr': 0.05}\n",
            " pid=28072)\u001b[0m Epoch 1: train loss 0.03963347151875496, accuracy 0.5431111111111111\n",
            " pid=28072)\u001b[0m Epoch 2: train loss 0.03544028848409653, accuracy 0.6046666666666667\n",
            " pid=28072)\u001b[0m Epoch 3: train loss 0.0324702188372612, accuracy 0.6384444444444445\n",
            " pid=28072)\u001b[0m Epoch 4: train loss 0.030418138951063156, accuracy 0.654\n",
            " pid=28072)\u001b[0m Epoch 5: train loss 0.02745908312499523, accuracy 0.6922222222222222\n",
            " pid=28072)\u001b[0m [Client 1] fit, config: {'lr': 0.05}\n",
            " pid=28072)\u001b[0m Epoch 1: train loss 0.0384812131524086, accuracy 0.5695555555555556\n",
            " pid=28072)\u001b[0m Epoch 2: train loss 0.03440506011247635, accuracy 0.6068888888888889\n",
            " pid=28072)\u001b[0m Epoch 3: train loss 0.03162315487861633, accuracy 0.6393333333333333\n",
            " pid=28072)\u001b[0m Epoch 4: train loss 0.028566138818860054, accuracy 0.668\n"
          ]
        },
        {
          "name": "stderr",
          "output_type": "stream",
          "text": [
            "DEBUG flwr 2024-04-26 11:03:26,529 | server.py:232 | fit_round 4 received 5 results and 0 failures\n",
            "DEBUG flwr 2024-04-26 11:03:26,547 | server.py:168 | evaluate_round 4: strategy sampled 5 clients (out of 5)\n"
          ]
        },
        {
          "name": "stdout",
          "output_type": "stream",
          "text": [
            " pid=28072)\u001b[0m Epoch 5: train loss 0.025808701291680336, accuracy 0.7071111111111111\n",
            " pid=28072)\u001b[0m [Client 2] evaluate, config: {}\n",
            " pid=28072)\u001b[0m Client 2 loss 0.0454653639793396\n",
            " pid=28072)\u001b[0m Client 2 accuracy 0.52\n",
            " pid=28072)\u001b[0m [Client 3] evaluate, config: {}\n",
            " pid=28072)\u001b[0m Client 3 loss 0.041821285367012025\n",
            " pid=28072)\u001b[0m Client 3 accuracy 0.556\n",
            " pid=28072)\u001b[0m [Client 1] evaluate, config: {}\n",
            " pid=28072)\u001b[0m Client 1 loss 0.04316770696640015\n",
            " pid=28072)\u001b[0m Client 1 accuracy 0.52\n",
            " pid=28072)\u001b[0m [Client 0] evaluate, config: {}\n"
          ]
        },
        {
          "name": "stderr",
          "output_type": "stream",
          "text": [
            "DEBUG flwr 2024-04-26 11:03:33,884 | server.py:182 | evaluate_round 4 received 5 results and 0 failures\n"
          ]
        },
        {
          "name": "stdout",
          "output_type": "stream",
          "text": [
            " pid=28072)\u001b[0m Client 0 loss 0.04280080425739288\n",
            " pid=28072)\u001b[0m Client 0 accuracy 0.552\n",
            " pid=28072)\u001b[0m [Client 4] evaluate, config: {}\n"
          ]
        },
        {
          "name": "stderr",
          "output_type": "stream",
          "text": [
            "DEBUG flwr 2024-04-26 11:03:33,886 | server.py:218 | fit_round 5: strategy sampled 5 clients (out of 5)\n"
          ]
        },
        {
          "name": "stdout",
          "output_type": "stream",
          "text": [
            " pid=28072)\u001b[0m Client 4 loss 0.041771538853645325\n",
            " pid=28072)\u001b[0m Client 4 accuracy 0.514\n",
            " pid=28072)\u001b[0m [Client 0] fit, config: {'lr': 0.05}\n",
            " pid=28072)\u001b[0m Epoch 1: train loss 0.035033535212278366, accuracy 0.6\n",
            " pid=28072)\u001b[0m Epoch 2: train loss 0.03001062385737896, accuracy 0.6593333333333333\n",
            " pid=28072)\u001b[0m Epoch 3: train loss 0.0269439946860075, accuracy 0.6962222222222222\n",
            " pid=28072)\u001b[0m Epoch 4: train loss 0.023319143801927567, accuracy 0.7435555555555555\n",
            " pid=28072)\u001b[0m Epoch 5: train loss 0.019958747550845146, accuracy 0.7833333333333333\n",
            " pid=28072)\u001b[0m [Client 3] fit, config: {'lr': 0.05}\n",
            " pid=28072)\u001b[0m Epoch 1: train loss 0.03630063310265541, accuracy 0.5886666666666667\n",
            " pid=28072)\u001b[0m Epoch 2: train loss 0.031418245285749435, accuracy 0.6468888888888888\n",
            " pid=28072)\u001b[0m Epoch 3: train loss 0.027651257812976837, accuracy 0.6895555555555556\n",
            " pid=28072)\u001b[0m Epoch 4: train loss 0.02465575933456421, accuracy 0.7255555555555555\n",
            " pid=28072)\u001b[0m Epoch 5: train loss 0.021461304277181625, accuracy 0.7613333333333333\n",
            " pid=28072)\u001b[0m [Client 2] fit, config: {'lr': 0.05}\n",
            " pid=28072)\u001b[0m Epoch 1: train loss 0.036071717739105225, accuracy 0.5844444444444444\n",
            " pid=28072)\u001b[0m Epoch 2: train loss 0.030923517420887947, accuracy 0.6466666666666666\n",
            " pid=28072)\u001b[0m Epoch 3: train loss 0.02698417939245701, accuracy 0.6928888888888889\n",
            " pid=28072)\u001b[0m Epoch 4: train loss 0.023902861401438713, accuracy 0.7293333333333333\n",
            " pid=28072)\u001b[0m Epoch 5: train loss 0.02047147788107395, accuracy 0.7728888888888888\n",
            " pid=28072)\u001b[0m [Client 1] fit, config: {'lr': 0.05}\n",
            " pid=28072)\u001b[0m Epoch 1: train loss 0.03497879579663277, accuracy 0.6022222222222222\n",
            " pid=28072)\u001b[0m Epoch 2: train loss 0.029859168455004692, accuracy 0.6631111111111111\n",
            " pid=28072)\u001b[0m Epoch 3: train loss 0.026305124163627625, accuracy 0.6973333333333334\n",
            " pid=28072)\u001b[0m Epoch 4: train loss 0.023195644840598106, accuracy 0.7371111111111112\n",
            " pid=28072)\u001b[0m Epoch 5: train loss 0.020150724798440933, accuracy 0.7715555555555556\n",
            " pid=28072)\u001b[0m [Client 4] fit, config: {'lr': 0.05}\n",
            " pid=28072)\u001b[0m Epoch 1: train loss 0.036250289529561996, accuracy 0.5937777777777777\n",
            " pid=28072)\u001b[0m Epoch 2: train loss 0.031320590525865555, accuracy 0.6455555555555555\n",
            " pid=28072)\u001b[0m Epoch 3: train loss 0.02773328311741352, accuracy 0.6904444444444444\n",
            " pid=28072)\u001b[0m Epoch 4: train loss 0.02449224889278412, accuracy 0.7204444444444444\n"
          ]
        },
        {
          "name": "stderr",
          "output_type": "stream",
          "text": [
            "DEBUG flwr 2024-04-26 11:04:47,273 | server.py:232 | fit_round 5 received 5 results and 0 failures\n",
            "DEBUG flwr 2024-04-26 11:04:47,291 | server.py:168 | evaluate_round 5: strategy sampled 5 clients (out of 5)\n"
          ]
        },
        {
          "name": "stdout",
          "output_type": "stream",
          "text": [
            " pid=28072)\u001b[0m Epoch 5: train loss 0.021068498492240906, accuracy 0.7628888888888888\n",
            " pid=28072)\u001b[0m [Client 4] evaluate, config: {}\n",
            " pid=28072)\u001b[0m Client 4 loss 0.04309554648399353\n",
            " pid=28072)\u001b[0m Client 4 accuracy 0.518\n",
            " pid=28072)\u001b[0m [Client 0] evaluate, config: {}\n",
            " pid=28072)\u001b[0m Client 0 loss 0.04457422280311584\n",
            " pid=28072)\u001b[0m Client 0 accuracy 0.562\n",
            " pid=28072)\u001b[0m [Client 1] evaluate, config: {}\n",
            " pid=28072)\u001b[0m Client 1 loss 0.04590030384063721\n",
            " pid=28072)\u001b[0m Client 1 accuracy 0.544\n",
            " pid=28072)\u001b[0m [Client 2] evaluate, config: {}\n"
          ]
        },
        {
          "name": "stderr",
          "output_type": "stream",
          "text": [
            "DEBUG flwr 2024-04-26 11:04:55,468 | server.py:182 | evaluate_round 5 received 5 results and 0 failures\n",
            "DEBUG flwr 2024-04-26 11:04:55,470 | server.py:218 | fit_round 6: strategy sampled 5 clients (out of 5)\n"
          ]
        },
        {
          "name": "stdout",
          "output_type": "stream",
          "text": [
            " pid=28072)\u001b[0m Client 2 loss 0.04727271163463592\n",
            " pid=28072)\u001b[0m Client 2 accuracy 0.532\n",
            " pid=28072)\u001b[0m [Client 3] evaluate, config: {}\n",
            " pid=28072)\u001b[0m Client 3 loss 0.04318019902706146\n",
            " pid=28072)\u001b[0m Client 3 accuracy 0.56\n",
            " pid=28072)\u001b[0m [Client 1] fit, config: {'lr': 0.05}\n",
            " pid=28072)\u001b[0m Epoch 1: train loss 0.03271426633000374, accuracy 0.6266666666666667\n",
            " pid=28072)\u001b[0m Epoch 2: train loss 0.02614089846611023, accuracy 0.7037777777777777\n",
            " pid=28072)\u001b[0m Epoch 3: train loss 0.022133417427539825, accuracy 0.7493333333333333\n",
            " pid=28072)\u001b[0m Epoch 4: train loss 0.018059182912111282, accuracy 0.802\n",
            " pid=28072)\u001b[0m Epoch 5: train loss 0.015328343957662582, accuracy 0.8295555555555556\n",
            " pid=28072)\u001b[0m [Client 4] fit, config: {'lr': 0.05}\n",
            " pid=28072)\u001b[0m Epoch 1: train loss 0.034222379326820374, accuracy 0.6082222222222222\n",
            " pid=28072)\u001b[0m Epoch 2: train loss 0.02733982726931572, accuracy 0.6846666666666666\n",
            " pid=28072)\u001b[0m Epoch 3: train loss 0.023677414283156395, accuracy 0.7366666666666667\n",
            " pid=28072)\u001b[0m Epoch 4: train loss 0.01938081532716751, accuracy 0.7855555555555556\n",
            " pid=28072)\u001b[0m Epoch 5: train loss 0.016224196180701256, accuracy 0.8197777777777778\n",
            " pid=28072)\u001b[0m [Client 0] fit, config: {'lr': 0.05}\n",
            " pid=28072)\u001b[0m Epoch 1: train loss 0.03263971209526062, accuracy 0.6375555555555555\n",
            " pid=28072)\u001b[0m Epoch 2: train loss 0.026191499084234238, accuracy 0.7133333333333334\n",
            " pid=28072)\u001b[0m Epoch 3: train loss 0.022436650469899178, accuracy 0.7462222222222222\n",
            " pid=28072)\u001b[0m Epoch 4: train loss 0.01864214986562729, accuracy 0.7926666666666666\n",
            " pid=28072)\u001b[0m Epoch 5: train loss 0.015360791236162186, accuracy 0.8333333333333334\n",
            " pid=28072)\u001b[0m [Client 2] fit, config: {'lr': 0.05}\n",
            " pid=28072)\u001b[0m Epoch 1: train loss 0.03321706876158714, accuracy 0.6224444444444445\n",
            " pid=28072)\u001b[0m Epoch 2: train loss 0.02638019435107708, accuracy 0.7044444444444444\n",
            " pid=28072)\u001b[0m Epoch 3: train loss 0.022385381162166595, accuracy 0.7437777777777778\n",
            " pid=28072)\u001b[0m Epoch 4: train loss 0.01886948011815548, accuracy 0.7926666666666666\n",
            " pid=28072)\u001b[0m Epoch 5: train loss 0.01608765311539173, accuracy 0.8264444444444444\n",
            " pid=28072)\u001b[0m [Client 3] fit, config: {'lr': 0.05}\n",
            " pid=28072)\u001b[0m Epoch 1: train loss 0.033774130046367645, accuracy 0.6166666666666667\n",
            " pid=28072)\u001b[0m Epoch 2: train loss 0.027338365092873573, accuracy 0.6944444444444444\n",
            " pid=28072)\u001b[0m Epoch 3: train loss 0.023133819922804832, accuracy 0.7402222222222222\n",
            " pid=28072)\u001b[0m Epoch 4: train loss 0.019428851082921028, accuracy 0.7868888888888889\n"
          ]
        },
        {
          "name": "stderr",
          "output_type": "stream",
          "text": [
            "DEBUG flwr 2024-04-26 11:06:09,239 | server.py:232 | fit_round 6 received 5 results and 0 failures\n",
            "DEBUG flwr 2024-04-26 11:06:09,256 | server.py:168 | evaluate_round 6: strategy sampled 5 clients (out of 5)\n"
          ]
        },
        {
          "name": "stdout",
          "output_type": "stream",
          "text": [
            " pid=28072)\u001b[0m Epoch 5: train loss 0.016713906079530716, accuracy 0.8106666666666666\n",
            " pid=28072)\u001b[0m [Client 1] evaluate, config: {}\n",
            " pid=28072)\u001b[0m Client 1 loss 0.04780563580989838\n",
            " pid=28072)\u001b[0m Client 1 accuracy 0.566\n",
            " pid=28072)\u001b[0m [Client 0] evaluate, config: {}\n",
            " pid=28072)\u001b[0m Client 0 loss 0.046274487137794494\n",
            " pid=28072)\u001b[0m Client 0 accuracy 0.552\n",
            " pid=28072)\u001b[0m [Client 2] evaluate, config: {}\n",
            " pid=28072)\u001b[0m Client 2 loss 0.049935351371765135\n",
            " pid=28072)\u001b[0m Client 2 accuracy 0.538\n",
            " pid=28072)\u001b[0m [Client 4] evaluate, config: {}\n",
            " pid=28072)\u001b[0m Client 4 loss 0.045808680415153506\n",
            " pid=28072)\u001b[0m Client 4 accuracy 0.504\n"
          ]
        },
        {
          "name": "stderr",
          "output_type": "stream",
          "text": [
            "DEBUG flwr 2024-04-26 11:06:17,007 | server.py:182 | evaluate_round 6 received 5 results and 0 failures\n",
            "DEBUG flwr 2024-04-26 11:06:17,009 | server.py:218 | fit_round 7: strategy sampled 5 clients (out of 5)\n"
          ]
        },
        {
          "name": "stdout",
          "output_type": "stream",
          "text": [
            " pid=28072)\u001b[0m [Client 3] evaluate, config: {}\n",
            " pid=28072)\u001b[0m Client 3 loss 0.04594015657901764\n",
            " pid=28072)\u001b[0m Client 3 accuracy 0.53\n",
            " pid=28072)\u001b[0m [Client 1] fit, config: {'lr': 0.05}\n",
            " pid=28072)\u001b[0m Epoch 1: train loss 0.030088715255260468, accuracy 0.6522222222222223\n",
            " pid=28072)\u001b[0m Epoch 2: train loss 0.022033508867025375, accuracy 0.7477777777777778\n",
            " pid=28072)\u001b[0m Epoch 3: train loss 0.017744630575180054, accuracy 0.8037777777777778\n",
            " pid=28072)\u001b[0m Epoch 4: train loss 0.013968807645142078, accuracy 0.8482222222222222\n",
            " pid=28072)\u001b[0m Epoch 5: train loss 0.011183839291334152, accuracy 0.8842222222222222\n",
            " pid=28072)\u001b[0m [Client 4] fit, config: {'lr': 0.05}\n",
            " pid=28072)\u001b[0m Epoch 1: train loss 0.03173035755753517, accuracy 0.6342222222222222\n",
            " pid=28072)\u001b[0m Epoch 2: train loss 0.023611554875969887, accuracy 0.736\n",
            " pid=28072)\u001b[0m Epoch 3: train loss 0.018899334594607353, accuracy 0.7882222222222223\n",
            " pid=28072)\u001b[0m Epoch 4: train loss 0.015647605061531067, accuracy 0.8266666666666667\n",
            " pid=28072)\u001b[0m Epoch 5: train loss 0.012381063774228096, accuracy 0.8648888888888889\n",
            " pid=28072)\u001b[0m [Client 0] fit, config: {'lr': 0.05}\n",
            " pid=28072)\u001b[0m Epoch 1: train loss 0.029758915305137634, accuracy 0.6617777777777778\n",
            " pid=28072)\u001b[0m Epoch 2: train loss 0.022411024197936058, accuracy 0.7522222222222222\n",
            " pid=28072)\u001b[0m Epoch 3: train loss 0.018357960507273674, accuracy 0.7993333333333333\n",
            " pid=28072)\u001b[0m Epoch 4: train loss 0.014963191002607346, accuracy 0.8393333333333334\n",
            " pid=28072)\u001b[0m Epoch 5: train loss 0.012081725522875786, accuracy 0.8728888888888889\n",
            " pid=28072)\u001b[0m [Client 3] fit, config: {'lr': 0.05}\n",
            " pid=28072)\u001b[0m Epoch 1: train loss 0.03115946799516678, accuracy 0.6502222222222223\n",
            " pid=28072)\u001b[0m Epoch 2: train loss 0.02333945408463478, accuracy 0.7344444444444445\n",
            " pid=28072)\u001b[0m Epoch 3: train loss 0.01924007199704647, accuracy 0.79\n",
            " pid=28072)\u001b[0m Epoch 4: train loss 0.015463843941688538, accuracy 0.8302222222222222\n",
            " pid=28072)\u001b[0m Epoch 5: train loss 0.012620290741324425, accuracy 0.8664444444444445\n",
            " pid=28072)\u001b[0m [Client 2] fit, config: {'lr': 0.05}\n",
            " pid=28072)\u001b[0m Epoch 1: train loss 0.030715294182300568, accuracy 0.6413333333333333\n",
            " pid=28072)\u001b[0m Epoch 2: train loss 0.022562706843018532, accuracy 0.742\n",
            " pid=28072)\u001b[0m Epoch 3: train loss 0.017916135489940643, accuracy 0.8022222222222222\n",
            " pid=28072)\u001b[0m Epoch 4: train loss 0.014487366192042828, accuracy 0.8468888888888889\n"
          ]
        },
        {
          "name": "stderr",
          "output_type": "stream",
          "text": [
            "DEBUG flwr 2024-04-26 11:07:31,055 | server.py:232 | fit_round 7 received 5 results and 0 failures\n",
            "DEBUG flwr 2024-04-26 11:07:31,072 | server.py:168 | evaluate_round 7: strategy sampled 5 clients (out of 5)\n"
          ]
        },
        {
          "name": "stdout",
          "output_type": "stream",
          "text": [
            " pid=28072)\u001b[0m Epoch 5: train loss 0.011115247383713722, accuracy 0.8833333333333333\n",
            " pid=28072)\u001b[0m [Client 4] evaluate, config: {}\n",
            " pid=28072)\u001b[0m Client 4 loss 0.050636553168296815\n",
            " pid=28072)\u001b[0m Client 4 accuracy 0.522\n",
            " pid=28072)\u001b[0m [Client 1] evaluate, config: {}\n",
            " pid=28072)\u001b[0m Client 1 loss 0.053195900678634646\n",
            " pid=28072)\u001b[0m Client 1 accuracy 0.55\n",
            " pid=28072)\u001b[0m [Client 3] evaluate, config: {}\n",
            " pid=28072)\u001b[0m Client 3 loss 0.05150026428699493\n",
            " pid=28072)\u001b[0m Client 3 accuracy 0.56\n",
            " pid=28072)\u001b[0m [Client 2] evaluate, config: {}\n",
            " pid=28072)\u001b[0m Client 2 loss 0.056897944331169126\n",
            " pid=28072)\u001b[0m Client 2 accuracy 0.542\n",
            " pid=28072)\u001b[0m [Client 0] evaluate, config: {}\n"
          ]
        },
        {
          "name": "stderr",
          "output_type": "stream",
          "text": [
            "DEBUG flwr 2024-04-26 11:07:38,885 | server.py:182 | evaluate_round 7 received 5 results and 0 failures\n",
            "DEBUG flwr 2024-04-26 11:07:38,887 | server.py:218 | fit_round 8: strategy sampled 5 clients (out of 5)\n"
          ]
        },
        {
          "name": "stdout",
          "output_type": "stream",
          "text": [
            " pid=28072)\u001b[0m Client 0 loss 0.0522004132270813\n",
            " pid=28072)\u001b[0m Client 0 accuracy 0.544\n",
            " pid=28072)\u001b[0m [Client 4] fit, config: {'lr': 0.05}\n",
            " pid=28072)\u001b[0m Epoch 1: train loss 0.029633043333888054, accuracy 0.6655555555555556\n",
            " pid=28072)\u001b[0m Epoch 2: train loss 0.019997984170913696, accuracy 0.7804444444444445\n",
            " pid=28072)\u001b[0m Epoch 3: train loss 0.01523839682340622, accuracy 0.8308888888888889\n",
            " pid=28072)\u001b[0m Epoch 4: train loss 0.012174295261502266, accuracy 0.8746666666666667\n",
            " pid=28072)\u001b[0m Epoch 5: train loss 0.008664713241159916, accuracy 0.9146666666666666\n",
            " pid=28072)\u001b[0m [Client 0] fit, config: {'lr': 0.05}\n",
            " pid=28072)\u001b[0m Epoch 1: train loss 0.028496669605374336, accuracy 0.6837777777777778\n",
            " pid=28072)\u001b[0m Epoch 2: train loss 0.01896989718079567, accuracy 0.7877777777777778\n",
            " pid=28072)\u001b[0m Epoch 3: train loss 0.014799648895859718, accuracy 0.8328888888888889\n",
            " pid=28072)\u001b[0m Epoch 4: train loss 0.011481481604278088, accuracy 0.878\n",
            " pid=28072)\u001b[0m Epoch 5: train loss 0.008894984610378742, accuracy 0.9015555555555556\n",
            " pid=28072)\u001b[0m [Client 1] fit, config: {'lr': 0.05}\n",
            " pid=28072)\u001b[0m Epoch 1: train loss 0.027582664042711258, accuracy 0.6828888888888889\n",
            " pid=28072)\u001b[0m Epoch 2: train loss 0.018470851704478264, accuracy 0.7908888888888889\n",
            " pid=28072)\u001b[0m Epoch 3: train loss 0.014189420267939568, accuracy 0.8446666666666667\n",
            " pid=28072)\u001b[0m Epoch 4: train loss 0.010876667685806751, accuracy 0.8853333333333333\n",
            " pid=28072)\u001b[0m Epoch 5: train loss 0.008681900799274445, accuracy 0.9117777777777778\n",
            " pid=28072)\u001b[0m [Client 3] fit, config: {'lr': 0.05}\n",
            " pid=28072)\u001b[0m Epoch 1: train loss 0.029932750388979912, accuracy 0.66\n",
            " pid=28072)\u001b[0m Epoch 2: train loss 0.02015569619834423, accuracy 0.7697777777777778\n",
            " pid=28072)\u001b[0m Epoch 3: train loss 0.01583186537027359, accuracy 0.8191111111111111\n",
            " pid=28072)\u001b[0m Epoch 4: train loss 0.012327286414802074, accuracy 0.8706666666666667\n",
            " pid=28072)\u001b[0m Epoch 5: train loss 0.009271998889744282, accuracy 0.906\n",
            " pid=28072)\u001b[0m [Client 2] fit, config: {'lr': 0.05}\n",
            " pid=28072)\u001b[0m Epoch 1: train loss 0.029106907546520233, accuracy 0.6693333333333333\n",
            " pid=28072)\u001b[0m Epoch 2: train loss 0.019439687952399254, accuracy 0.7804444444444445\n",
            " pid=28072)\u001b[0m Epoch 3: train loss 0.015006393194198608, accuracy 0.8315555555555556\n",
            " pid=28072)\u001b[0m Epoch 4: train loss 0.011721332557499409, accuracy 0.8777777777777778\n"
          ]
        },
        {
          "name": "stderr",
          "output_type": "stream",
          "text": [
            "DEBUG flwr 2024-04-26 11:08:53,000 | server.py:232 | fit_round 8 received 5 results and 0 failures\n",
            "DEBUG flwr 2024-04-26 11:08:53,020 | server.py:168 | evaluate_round 8: strategy sampled 5 clients (out of 5)\n"
          ]
        },
        {
          "name": "stdout",
          "output_type": "stream",
          "text": [
            " pid=28072)\u001b[0m Epoch 5: train loss 0.008806736208498478, accuracy 0.9075555555555556\n",
            " pid=28072)\u001b[0m [Client 1] evaluate, config: {}\n",
            " pid=28072)\u001b[0m Client 1 loss 0.058415483593940734\n",
            " pid=28072)\u001b[0m Client 1 accuracy 0.538\n",
            " pid=28072)\u001b[0m [Client 0] evaluate, config: {}\n",
            " pid=28072)\u001b[0m Client 0 loss 0.05611618041992188\n",
            " pid=28072)\u001b[0m Client 0 accuracy 0.548\n",
            " pid=28072)\u001b[0m [Client 2] evaluate, config: {}\n",
            " pid=28072)\u001b[0m Client 2 loss 0.05998174238204956\n",
            " pid=28072)\u001b[0m Client 2 accuracy 0.528\n",
            " pid=28072)\u001b[0m [Client 4] evaluate, config: {}\n"
          ]
        },
        {
          "name": "stderr",
          "output_type": "stream",
          "text": [
            "DEBUG flwr 2024-04-26 11:09:00,995 | server.py:182 | evaluate_round 8 received 5 results and 0 failures\n",
            "DEBUG flwr 2024-04-26 11:09:00,997 | server.py:218 | fit_round 9: strategy sampled 5 clients (out of 5)\n"
          ]
        },
        {
          "name": "stdout",
          "output_type": "stream",
          "text": [
            " pid=28072)\u001b[0m Client 4 loss 0.054706385374069216\n",
            " pid=28072)\u001b[0m Client 4 accuracy 0.496\n",
            " pid=28072)\u001b[0m [Client 3] evaluate, config: {}\n",
            " pid=28072)\u001b[0m Client 3 loss 0.05662601602077484\n",
            " pid=28072)\u001b[0m Client 3 accuracy 0.548\n",
            " pid=28072)\u001b[0m [Client 0] fit, config: {'lr': 0.05}\n",
            " pid=28072)\u001b[0m Epoch 1: train loss 0.02663671411573887, accuracy 0.6997777777777778\n",
            " pid=28072)\u001b[0m Epoch 2: train loss 0.015994640067219734, accuracy 0.8208888888888889\n",
            " pid=28072)\u001b[0m Epoch 3: train loss 0.012018764391541481, accuracy 0.8706666666666667\n",
            " pid=28072)\u001b[0m Epoch 4: train loss 0.008858948945999146, accuracy 0.9075555555555556\n",
            " pid=28072)\u001b[0m Epoch 5: train loss 0.007301085628569126, accuracy 0.9231111111111111\n",
            " pid=28072)\u001b[0m [Client 2] fit, config: {'lr': 0.05}\n",
            " pid=28072)\u001b[0m Epoch 1: train loss 0.027074432000517845, accuracy 0.6915555555555556\n",
            " pid=28072)\u001b[0m Epoch 2: train loss 0.01638781651854515, accuracy 0.8182222222222222\n",
            " pid=28072)\u001b[0m Epoch 3: train loss 0.011970402672886848, accuracy 0.8731111111111111\n",
            " pid=28072)\u001b[0m Epoch 4: train loss 0.009372169151902199, accuracy 0.9008888888888889\n",
            " pid=28072)\u001b[0m Epoch 5: train loss 0.006656517740339041, accuracy 0.9333333333333333\n",
            " pid=28072)\u001b[0m [Client 1] fit, config: {'lr': 0.05}\n",
            " pid=28072)\u001b[0m Epoch 1: train loss 0.02517310343682766, accuracy 0.7186666666666667\n",
            " pid=28072)\u001b[0m Epoch 2: train loss 0.01525081880390644, accuracy 0.8273333333333334\n",
            " pid=28072)\u001b[0m Epoch 3: train loss 0.011237754486501217, accuracy 0.8786666666666667\n",
            " pid=28072)\u001b[0m Epoch 4: train loss 0.00875036884099245, accuracy 0.9071111111111111\n",
            " pid=28072)\u001b[0m Epoch 5: train loss 0.007108581252396107, accuracy 0.9242222222222222\n",
            " pid=28072)\u001b[0m [Client 3] fit, config: {'lr': 0.05}\n",
            " pid=28072)\u001b[0m Epoch 1: train loss 0.027852782979607582, accuracy 0.6877777777777778\n",
            " pid=28072)\u001b[0m Epoch 2: train loss 0.017668593674898148, accuracy 0.8024444444444444\n",
            " pid=28072)\u001b[0m Epoch 3: train loss 0.013471282087266445, accuracy 0.85\n",
            " pid=28072)\u001b[0m Epoch 4: train loss 0.009399211965501308, accuracy 0.9008888888888889\n",
            " pid=28072)\u001b[0m Epoch 5: train loss 0.007374240551143885, accuracy 0.9255555555555556\n",
            " pid=28072)\u001b[0m [Client 4] fit, config: {'lr': 0.05}\n",
            " pid=28072)\u001b[0m Epoch 1: train loss 0.02790226601064205, accuracy 0.692\n",
            " pid=28072)\u001b[0m Epoch 2: train loss 0.017165549099445343, accuracy 0.8086666666666666\n",
            " pid=28072)\u001b[0m Epoch 3: train loss 0.012529347091913223, accuracy 0.8666666666666667\n",
            " pid=28072)\u001b[0m Epoch 4: train loss 0.009210693649947643, accuracy 0.9066666666666666\n"
          ]
        },
        {
          "name": "stderr",
          "output_type": "stream",
          "text": [
            "DEBUG flwr 2024-04-26 11:10:15,029 | server.py:232 | fit_round 9 received 5 results and 0 failures\n",
            "DEBUG flwr 2024-04-26 11:10:15,049 | server.py:168 | evaluate_round 9: strategy sampled 5 clients (out of 5)\n"
          ]
        },
        {
          "name": "stdout",
          "output_type": "stream",
          "text": [
            " pid=28072)\u001b[0m Epoch 5: train loss 0.006287484895437956, accuracy 0.9397777777777778\n",
            " pid=28072)\u001b[0m [Client 3] evaluate, config: {}\n",
            " pid=28072)\u001b[0m Client 3 loss 0.06047325301170349\n",
            " pid=28072)\u001b[0m Client 3 accuracy 0.534\n",
            " pid=28072)\u001b[0m [Client 1] evaluate, config: {}\n",
            " pid=28072)\u001b[0m Client 1 loss 0.06277162432670594\n",
            " pid=28072)\u001b[0m Client 1 accuracy 0.514\n",
            " pid=28072)\u001b[0m [Client 2] evaluate, config: {}\n",
            " pid=28072)\u001b[0m Client 2 loss 0.06559936547279357\n",
            " pid=28072)\u001b[0m Client 2 accuracy 0.526\n",
            " pid=28072)\u001b[0m [Client 0] evaluate, config: {}\n"
          ]
        },
        {
          "name": "stderr",
          "output_type": "stream",
          "text": [
            "DEBUG flwr 2024-04-26 11:10:22,697 | server.py:182 | evaluate_round 9 received 5 results and 0 failures\n",
            "DEBUG flwr 2024-04-26 11:10:22,700 | server.py:218 | fit_round 10: strategy sampled 5 clients (out of 5)\n"
          ]
        },
        {
          "name": "stdout",
          "output_type": "stream",
          "text": [
            " pid=28072)\u001b[0m Client 0 loss 0.0626244034767151\n",
            " pid=28072)\u001b[0m Client 0 accuracy 0.55\n",
            " pid=28072)\u001b[0m [Client 4] evaluate, config: {}\n",
            " pid=28072)\u001b[0m Client 4 loss 0.05996367597579956\n",
            " pid=28072)\u001b[0m Client 4 accuracy 0.512\n",
            " pid=28072)\u001b[0m [Client 2] fit, config: {'lr': 0.05}\n",
            " pid=28072)\u001b[0m Epoch 1: train loss 0.02574441209435463, accuracy 0.7131111111111111\n",
            " pid=28072)\u001b[0m Epoch 2: train loss 0.014235342852771282, accuracy 0.8422222222222222\n",
            " pid=28072)\u001b[0m Epoch 3: train loss 0.009226481430232525, accuracy 0.9053333333333333\n",
            " pid=28072)\u001b[0m Epoch 4: train loss 0.0070760250091552734, accuracy 0.9308888888888889\n",
            " pid=28072)\u001b[0m Epoch 5: train loss 0.005110860802233219, accuracy 0.9526666666666667\n",
            " pid=28072)\u001b[0m [Client 1] fit, config: {'lr': 0.05}\n",
            " pid=28072)\u001b[0m Epoch 1: train loss 0.024572068825364113, accuracy 0.7202222222222222\n",
            " pid=28072)\u001b[0m Epoch 2: train loss 0.013520720414817333, accuracy 0.8457777777777777\n",
            " pid=28072)\u001b[0m Epoch 3: train loss 0.008721645921468735, accuracy 0.9104444444444444\n",
            " pid=28072)\u001b[0m Epoch 4: train loss 0.007005771156400442, accuracy 0.928\n",
            " pid=28072)\u001b[0m Epoch 5: train loss 0.005151490680873394, accuracy 0.9522222222222222\n",
            " pid=28072)\u001b[0m [Client 0] fit, config: {'lr': 0.05}\n",
            " pid=28072)\u001b[0m Epoch 1: train loss 0.02473016269505024, accuracy 0.7282222222222222\n",
            " pid=28072)\u001b[0m Epoch 2: train loss 0.013537522405385971, accuracy 0.8457777777777777\n",
            " pid=28072)\u001b[0m Epoch 3: train loss 0.009419246576726437, accuracy 0.8997777777777778\n",
            " pid=28072)\u001b[0m Epoch 4: train loss 0.007296930067241192, accuracy 0.9244444444444444\n",
            " pid=28072)\u001b[0m Epoch 5: train loss 0.00485575757920742, accuracy 0.9568888888888889\n",
            " pid=28072)\u001b[0m [Client 4] fit, config: {'lr': 0.05}\n",
            " pid=28072)\u001b[0m Epoch 1: train loss 0.025991588830947876, accuracy 0.7173333333333334\n",
            " pid=28072)\u001b[0m Epoch 2: train loss 0.014761751517653465, accuracy 0.8355555555555556\n",
            " pid=28072)\u001b[0m Epoch 3: train loss 0.009973215870559216, accuracy 0.8962222222222223\n",
            " pid=28072)\u001b[0m Epoch 4: train loss 0.007438190281391144, accuracy 0.9228888888888889\n",
            " pid=28072)\u001b[0m Epoch 5: train loss 0.00578547827899456, accuracy 0.9455555555555556\n",
            " pid=28072)\u001b[0m [Client 3] fit, config: {'lr': 0.05}\n",
            " pid=28072)\u001b[0m Epoch 1: train loss 0.02639373019337654, accuracy 0.706\n",
            " pid=28072)\u001b[0m Epoch 2: train loss 0.014898452907800674, accuracy 0.8275555555555556\n",
            " pid=28072)\u001b[0m Epoch 3: train loss 0.010304915718734264, accuracy 0.8877777777777778\n",
            " pid=28072)\u001b[0m Epoch 4: train loss 0.00793344434350729, accuracy 0.916\n"
          ]
        },
        {
          "name": "stderr",
          "output_type": "stream",
          "text": [
            "DEBUG flwr 2024-04-26 11:11:39,348 | server.py:232 | fit_round 10 received 5 results and 0 failures\n",
            "DEBUG flwr 2024-04-26 11:11:39,369 | server.py:168 | evaluate_round 10: strategy sampled 5 clients (out of 5)\n"
          ]
        },
        {
          "name": "stdout",
          "output_type": "stream",
          "text": [
            " pid=28072)\u001b[0m Epoch 5: train loss 0.005338515620678663, accuracy 0.9528888888888889\n",
            " pid=28072)\u001b[0m [Client 4] evaluate, config: {}\n",
            " pid=28072)\u001b[0m Client 4 loss 0.06450396728515626\n",
            " pid=28072)\u001b[0m Client 4 accuracy 0.504\n",
            " pid=28072)\u001b[0m [Client 0] evaluate, config: {}\n",
            " pid=28072)\u001b[0m Client 0 loss 0.06822607636451722\n",
            " pid=28072)\u001b[0m Client 0 accuracy 0.544\n",
            " pid=28072)\u001b[0m [Client 3] evaluate, config: {}\n",
            " pid=28072)\u001b[0m Client 3 loss 0.06748315238952637\n",
            " pid=28072)\u001b[0m Client 3 accuracy 0.55\n",
            " pid=28072)\u001b[0m [Client 1] evaluate, config: {}\n",
            " pid=28072)\u001b[0m Client 1 loss 0.06841527080535889\n",
            " pid=28072)\u001b[0m Client 1 accuracy 0.532\n",
            " pid=28072)\u001b[0m [Client 2] evaluate, config: {}\n"
          ]
        },
        {
          "name": "stderr",
          "output_type": "stream",
          "text": [
            "DEBUG flwr 2024-04-26 11:11:47,192 | server.py:182 | evaluate_round 10 received 5 results and 0 failures\n",
            "INFO flwr 2024-04-26 11:11:47,194 | server.py:147 | FL finished in 829.9360781999994\n",
            "INFO flwr 2024-04-26 11:11:47,195 | app.py:218 | app_fit: losses_distributed [(1, 0.05734673700332642), (2, 0.046801169967651365), (3, 0.04356116471290589), (4, 0.04300533988475799), (5, 0.044804596757888795), (6, 0.04715286226272584), (7, 0.052886215138435354), (8, 0.05716916155815125), (9, 0.06228646445274353), (10, 0.06794561934471131)]\n",
            "INFO flwr 2024-04-26 11:11:47,196 | app.py:219 | app_fit: metrics_distributed_fit {}\n",
            "INFO flwr 2024-04-26 11:11:47,198 | app.py:220 | app_fit: metrics_distributed {}\n",
            "INFO flwr 2024-04-26 11:11:47,199 | app.py:221 | app_fit: losses_centralized []\n",
            "INFO flwr 2024-04-26 11:11:47,200 | app.py:222 | app_fit: metrics_centralized {}\n"
          ]
        },
        {
          "name": "stdout",
          "output_type": "stream",
          "text": [
            " pid=28072)\u001b[0m Client 2 loss 0.0710996298789978\n",
            " pid=28072)\u001b[0m Client 2 accuracy 0.528\n"
          ]
        },
        {
          "data": {
            "text/plain": [
              "History (loss, distributed):\n",
              "\tround 1: 0.05734673700332642\n",
              "\tround 2: 0.046801169967651365\n",
              "\tround 3: 0.04356116471290589\n",
              "\tround 4: 0.04300533988475799\n",
              "\tround 5: 0.044804596757888795\n",
              "\tround 6: 0.04715286226272584\n",
              "\tround 7: 0.052886215138435354\n",
              "\tround 8: 0.05716916155815125\n",
              "\tround 9: 0.06228646445274353\n",
              "\tround 10: 0.06794561934471131"
            ]
          },
          "execution_count": 14,
          "metadata": {},
          "output_type": "execute_result"
        }
      ],
      "source": [
        "fl.simulation.start_simulation(\n",
        "    client_fn=client_fn,\n",
        "    num_clients=5,\n",
        "    config=fl.server.ServerConfig(num_rounds=10),\n",
        "    strategy=FedCustom(),  # <-- pass the new strategy here\n",
        "    client_resources=client_resources,\n",
        ")"
      ]
    },
    {
      "cell_type": "markdown",
      "metadata": {},
      "source": [
        "CPU ONLY FROM HERE"
      ]
    },
    {
      "cell_type": "code",
      "execution_count": 23,
      "metadata": {},
      "outputs": [
        {
          "name": "stderr",
          "output_type": "stream",
          "text": [
            "INFO flwr 2024-04-26 16:55:42,045 | app.py:146 | Starting Flower simulation, config: ServerConfig(num_rounds=10, round_timeout=None)\n"
          ]
        },
        {
          "name": "stderr",
          "output_type": "stream",
          "text": [
            "INFO flwr 2024-04-26 16:55:48,150 | app.py:180 | Flower VCE: Ray initialized with resources: {'CPU': 32.0, 'object_store_memory': 32586108518.0, 'memory': 66034253210.0, 'node:127.0.0.1': 1.0, 'GPU': 1.0}\n",
            "INFO flwr 2024-04-26 16:55:48,153 | server.py:86 | Initializing global parameters\n",
            "INFO flwr 2024-04-26 16:55:48,156 | server.py:273 | Requesting initial parameters from one random client\n",
            "INFO flwr 2024-04-26 16:55:51,758 | server.py:277 | Received initial parameters from one random client\n",
            "INFO flwr 2024-04-26 16:55:51,760 | server.py:88 | Evaluating initial parameters\n",
            "INFO flwr 2024-04-26 16:55:51,761 | server.py:101 | FL starting\n",
            "DEBUG flwr 2024-04-26 16:55:51,763 | server.py:218 | fit_round 1: strategy sampled 5 clients (out of 5)\n"
          ]
        },
        {
          "name": "stdout",
          "output_type": "stream",
          "text": [
            " pid=30608)\u001b[0m [Client 3] get_parameters\n",
            " pid=30608)\u001b[0m [Client 0] fit, config: {}\n",
            " pid=24624)\u001b[0m [Client 2] fit, config: {}\n",
            " pid=30148)\u001b[0m [Client 1] fit, config: {}\n",
            " pid=30080)\u001b[0m [Client 3] fit, config: {}\n",
            " pid=14704)\u001b[0m [Client 4] fit, config: {}\n",
            " pid=30608)\u001b[0m Epoch 1: train loss 0.06401211768388748, accuracy 0.24488888888888888\n",
            " pid=30148)\u001b[0m Epoch 1: train loss 0.06456658244132996, accuracy 0.23933333333333334\n",
            " pid=30080)\u001b[0m Epoch 1: train loss 0.06444425880908966, accuracy 0.23577777777777778\n",
            " pid=24624)\u001b[0m Epoch 1: train loss 0.06404660642147064, accuracy 0.2408888888888889\n",
            " pid=14704)\u001b[0m Epoch 1: train loss 0.06464178115129471, accuracy 0.23044444444444445\n",
            " pid=30608)\u001b[0m Epoch 2: train loss 0.05591985210776329, accuracy 0.3486666666666667\n",
            " pid=30148)\u001b[0m Epoch 2: train loss 0.05615413933992386, accuracy 0.33955555555555555\n",
            " pid=30080)\u001b[0m Epoch 2: train loss 0.05566015839576721, accuracy 0.3446666666666667\n",
            " pid=24624)\u001b[0m Epoch 2: train loss 0.05632326751947403, accuracy 0.3368888888888889\n",
            " pid=14704)\u001b[0m Epoch 2: train loss 0.056033890694379807, accuracy 0.3446666666666667\n",
            " pid=30608)\u001b[0m Epoch 3: train loss 0.051425378769636154, accuracy 0.4077777777777778\n",
            " pid=24624)\u001b[0m Epoch 3: train loss 0.052375055849552155, accuracy 0.378\n",
            " pid=14704)\u001b[0m Epoch 3: train loss 0.05170266702771187, accuracy 0.4046666666666667\n",
            " pid=30148)\u001b[0m Epoch 3: train loss 0.05126625671982765, accuracy 0.3957777777777778\n",
            " pid=30080)\u001b[0m Epoch 3: train loss 0.0510881245136261, accuracy 0.40444444444444444\n",
            " pid=30608)\u001b[0m Epoch 4: train loss 0.04822893440723419, accuracy 0.43777777777777777\n",
            " pid=24624)\u001b[0m Epoch 4: train loss 0.0499306358397007, accuracy 0.41644444444444445\n",
            " pid=30148)\u001b[0m Epoch 4: train loss 0.04834024980664253, accuracy 0.44066666666666665\n",
            " pid=14704)\u001b[0m Epoch 4: train loss 0.048834722489118576, accuracy 0.42866666666666664\n",
            " pid=30080)\u001b[0m Epoch 4: train loss 0.04843774437904358, accuracy 0.436\n",
            " pid=30608)\u001b[0m Epoch 5: train loss 0.045546747744083405, accuracy 0.4722222222222222\n"
          ]
        },
        {
          "name": "stderr",
          "output_type": "stream",
          "text": [
            "DEBUG flwr 2024-04-26 16:56:22,185 | server.py:232 | fit_round 1 received 5 results and 0 failures\n"
          ]
        },
        {
          "name": "stdout",
          "output_type": "stream",
          "text": [
            " pid=24624)\u001b[0m Epoch 5: train loss 0.047577500343322754, accuracy 0.438\n",
            " pid=30080)\u001b[0m Epoch 5: train loss 0.04647189378738403, accuracy 0.4622222222222222\n",
            " pid=14704)\u001b[0m Epoch 5: train loss 0.04621151462197304, accuracy 0.4651111111111111\n"
          ]
        },
        {
          "name": "stderr",
          "output_type": "stream",
          "text": [
            "WARNING flwr 2024-04-26 16:56:22,238 | fedavg.py:243 | No fit_metrics_aggregation_fn provided\n",
            "DEBUG flwr 2024-04-26 16:56:22,240 | server.py:168 | evaluate_round 1: strategy sampled 5 clients (out of 5)\n"
          ]
        },
        {
          "name": "stdout",
          "output_type": "stream",
          "text": [
            " pid=30148)\u001b[0m Epoch 5: train loss 0.045877158641815186, accuracy 0.4702222222222222\n",
            " pid=30148)\u001b[0m [Client 4] evaluate, config: {}\n",
            " pid=30148)\u001b[0m Client 4 loss 0.05471135950088501\n",
            " pid=30148)\u001b[0m Client 4 accuracy 0.404\n",
            " pid=14704)\u001b[0m [Client 2] evaluate, config: {}\n",
            " pid=14704)\u001b[0m Client 2 loss 0.05423897051811218\n",
            " pid=14704)\u001b[0m Client 2 accuracy 0.39\n",
            " pid=30148)\u001b[0m [Client 1] evaluate, config: {}\n",
            " pid=30080)\u001b[0m [Client 3] evaluate, config: {}\n",
            " pid=14704)\u001b[0m [Client 0] evaluate, config: {}\n"
          ]
        },
        {
          "name": "stderr",
          "output_type": "stream",
          "text": [
            "DEBUG flwr 2024-04-26 16:56:29,314 | server.py:182 | evaluate_round 1 received 5 results and 0 failures\n",
            "WARNING flwr 2024-04-26 16:56:29,315 | fedavg.py:274 | No evaluate_metrics_aggregation_fn provided\n",
            "DEBUG flwr 2024-04-26 16:56:29,316 | server.py:218 | fit_round 2: strategy sampled 5 clients (out of 5)\n"
          ]
        },
        {
          "name": "stdout",
          "output_type": "stream",
          "text": [
            " pid=30148)\u001b[0m Client 1 loss 0.05454762291908264\n",
            " pid=30148)\u001b[0m Client 1 accuracy 0.404\n",
            " pid=30080)\u001b[0m Client 3 loss 0.053868106126785276\n",
            " pid=30080)\u001b[0m Client 3 accuracy 0.392\n",
            " pid=14704)\u001b[0m Client 0 loss 0.05460344648361206\n",
            " pid=14704)\u001b[0m Client 0 accuracy 0.428\n",
            " pid=30148)\u001b[0m [Client 4] fit, config: {}\n",
            " pid=30608)\u001b[0m [Client 3] fit, config: {}\n",
            " pid=30080)\u001b[0m [Client 2] fit, config: {}\n",
            " pid=24624)\u001b[0m [Client 0] fit, config: {}\n",
            " pid=14704)\u001b[0m [Client 1] fit, config: {}\n",
            " pid=30148)\u001b[0m Epoch 1: train loss 0.048707347363233566, accuracy 0.4308888888888889\n",
            " pid=30608)\u001b[0m Epoch 1: train loss 0.04936651140451431, accuracy 0.428\n",
            " pid=24624)\u001b[0m Epoch 1: train loss 0.048588164150714874, accuracy 0.43044444444444446\n",
            " pid=30080)\u001b[0m Epoch 1: train loss 0.0492493212223053, accuracy 0.4268888888888889\n",
            " pid=14704)\u001b[0m Epoch 1: train loss 0.048032648861408234, accuracy 0.4444444444444444\n",
            " pid=30148)\u001b[0m Epoch 2: train loss 0.04546760395169258, accuracy 0.4746666666666667\n",
            " pid=24624)\u001b[0m Epoch 2: train loss 0.04523635655641556, accuracy 0.4786666666666667\n",
            " pid=30608)\u001b[0m Epoch 2: train loss 0.04614846035838127, accuracy 0.46355555555555555\n",
            " pid=30080)\u001b[0m Epoch 2: train loss 0.04635803773999214, accuracy 0.46155555555555555\n",
            " pid=14704)\u001b[0m Epoch 2: train loss 0.04478948935866356, accuracy 0.4771111111111111\n",
            " pid=30148)\u001b[0m Epoch 3: train loss 0.04324162006378174, accuracy 0.5024444444444445\n",
            " pid=30080)\u001b[0m Epoch 3: train loss 0.044139567762613297, accuracy 0.4895555555555556\n",
            " pid=24624)\u001b[0m Epoch 3: train loss 0.04273160174489021, accuracy 0.4991111111111111\n",
            " pid=30608)\u001b[0m Epoch 3: train loss 0.044266607612371445, accuracy 0.48288888888888887\n",
            " pid=14704)\u001b[0m Epoch 3: train loss 0.04345395788550377, accuracy 0.4951111111111111\n",
            " pid=30148)\u001b[0m Epoch 4: train loss 0.041041336953639984, accuracy 0.528\n",
            " pid=24624)\u001b[0m Epoch 4: train loss 0.04075443372130394, accuracy 0.5308888888888889\n",
            " pid=30080)\u001b[0m Epoch 4: train loss 0.042262446135282516, accuracy 0.5113333333333333\n",
            " pid=30608)\u001b[0m Epoch 4: train loss 0.04181741923093796, accuracy 0.5115555555555555\n",
            " pid=14704)\u001b[0m Epoch 4: train loss 0.04014970734715462, accuracy 0.5348888888888889\n",
            " pid=30148)\u001b[0m Epoch 5: train loss 0.039059631526470184, accuracy 0.55\n",
            " pid=30608)\u001b[0m Epoch 5: train loss 0.039711154997348785, accuracy 0.5457777777777778\n",
            " pid=24624)\u001b[0m Epoch 5: train loss 0.0387568324804306, accuracy 0.5522222222222222\n"
          ]
        },
        {
          "name": "stderr",
          "output_type": "stream",
          "text": [
            "DEBUG flwr 2024-04-26 16:56:57,570 | server.py:232 | fit_round 2 received 5 results and 0 failures\n",
            "DEBUG flwr 2024-04-26 16:56:57,609 | server.py:168 | evaluate_round 2: strategy sampled 5 clients (out of 5)\n"
          ]
        },
        {
          "name": "stdout",
          "output_type": "stream",
          "text": [
            " pid=30080)\u001b[0m Epoch 5: train loss 0.0397568978369236, accuracy 0.544\n",
            " pid=14704)\u001b[0m Epoch 5: train loss 0.038222815841436386, accuracy 0.5617777777777778\n",
            " pid=14704)\u001b[0m [Client 0] evaluate, config: {}\n",
            " pid=14704)\u001b[0m Client 0 loss 0.04589857172966003\n",
            " pid=14704)\u001b[0m Client 0 accuracy 0.516\n",
            " pid=14704)\u001b[0m [Client 4] evaluate, config: {}\n",
            " pid=14704)\u001b[0m Client 4 loss 0.04498530769348145\n",
            " pid=14704)\u001b[0m Client 4 accuracy 0.46\n",
            " pid=14704)\u001b[0m [Client 3] evaluate, config: {}\n",
            " pid=30608)\u001b[0m [Client 2] evaluate, config: {}\n",
            " pid=30080)\u001b[0m [Client 1] evaluate, config: {}\n"
          ]
        },
        {
          "name": "stderr",
          "output_type": "stream",
          "text": [
            "DEBUG flwr 2024-04-26 16:57:04,869 | server.py:182 | evaluate_round 2 received 5 results and 0 failures\n",
            "DEBUG flwr 2024-04-26 16:57:04,871 | server.py:218 | fit_round 3: strategy sampled 5 clients (out of 5)\n"
          ]
        },
        {
          "name": "stdout",
          "output_type": "stream",
          "text": [
            " pid=14704)\u001b[0m Client 3 loss 0.04370123243331909\n",
            " pid=14704)\u001b[0m Client 3 accuracy 0.51\n",
            " pid=30608)\u001b[0m Client 2 loss 0.046452850580215456\n",
            " pid=30608)\u001b[0m Client 2 accuracy 0.47\n",
            " pid=30080)\u001b[0m Client 1 loss 0.04424883544445038\n",
            " pid=30080)\u001b[0m Client 1 accuracy 0.482\n",
            " pid=30608)\u001b[0m [Client 2] fit, config: {}\n",
            " pid=30080)\u001b[0m [Client 4] fit, config: {}\n",
            " pid=24624)\u001b[0m [Client 1] fit, config: {}\n",
            " pid=14704)\u001b[0m [Client 3] fit, config: {}\n",
            " pid=30148)\u001b[0m [Client 0] fit, config: {}\n",
            " pid=30608)\u001b[0m Epoch 1: train loss 0.043378688395023346, accuracy 0.49777777777777776\n",
            " pid=30080)\u001b[0m Epoch 1: train loss 0.04260426387190819, accuracy 0.5146666666666667\n",
            " pid=14704)\u001b[0m Epoch 1: train loss 0.043186601251363754, accuracy 0.5035555555555555\n",
            " pid=30148)\u001b[0m Epoch 1: train loss 0.04201163351535797, accuracy 0.5177777777777778\n",
            " pid=24624)\u001b[0m Epoch 1: train loss 0.04196792468428612, accuracy 0.5173333333333333\n",
            " pid=30608)\u001b[0m Epoch 2: train loss 0.039902545511722565, accuracy 0.5377777777777778\n",
            " pid=30080)\u001b[0m Epoch 2: train loss 0.03935491293668747, accuracy 0.5466666666666666\n",
            " pid=14704)\u001b[0m Epoch 2: train loss 0.04034097492694855, accuracy 0.5373333333333333\n",
            " pid=30148)\u001b[0m Epoch 2: train loss 0.039142973721027374, accuracy 0.5488888888888889\n",
            " pid=24624)\u001b[0m Epoch 2: train loss 0.038764454424381256, accuracy 0.5577777777777778\n",
            " pid=30608)\u001b[0m Epoch 3: train loss 0.037790652364492416, accuracy 0.5671111111111111\n",
            " pid=30080)\u001b[0m Epoch 3: train loss 0.03753935918211937, accuracy 0.5784444444444444\n",
            " pid=14704)\u001b[0m Epoch 3: train loss 0.03820013254880905, accuracy 0.5615555555555556\n",
            " pid=30148)\u001b[0m Epoch 3: train loss 0.0365939699113369, accuracy 0.5815555555555556\n",
            " pid=24624)\u001b[0m Epoch 3: train loss 0.036127787083387375, accuracy 0.5844444444444444\n",
            " pid=30080)\u001b[0m Epoch 4: train loss 0.03515973687171936, accuracy 0.6071111111111112\n",
            " pid=30608)\u001b[0m Epoch 4: train loss 0.03498411551117897, accuracy 0.5946666666666667\n",
            " pid=14704)\u001b[0m Epoch 4: train loss 0.03574302792549133, accuracy 0.6022222222222222\n",
            " pid=24624)\u001b[0m Epoch 4: train loss 0.0335235632956028, accuracy 0.6233333333333333\n",
            " pid=30148)\u001b[0m Epoch 4: train loss 0.03428742662072182, accuracy 0.6035555555555555\n",
            " pid=30608)\u001b[0m Epoch 5: train loss 0.032936111092567444, accuracy 0.6122222222222222\n",
            " pid=30080)\u001b[0m Epoch 5: train loss 0.03309148922562599, accuracy 0.6244444444444445\n",
            " pid=14704)\u001b[0m Epoch 5: train loss 0.033252306282520294, accuracy 0.6235555555555555\n"
          ]
        },
        {
          "name": "stderr",
          "output_type": "stream",
          "text": [
            "DEBUG flwr 2024-04-26 16:57:33,025 | server.py:232 | fit_round 3 received 5 results and 0 failures\n",
            "DEBUG flwr 2024-04-26 16:57:33,044 | server.py:168 | evaluate_round 3: strategy sampled 5 clients (out of 5)\n"
          ]
        },
        {
          "name": "stdout",
          "output_type": "stream",
          "text": [
            " pid=30148)\u001b[0m Epoch 5: train loss 0.031685683876276016, accuracy 0.6402222222222222\n",
            " pid=24624)\u001b[0m Epoch 5: train loss 0.031048495322465897, accuracy 0.6464444444444445\n",
            " pid=30148)\u001b[0m [Client 4] evaluate, config: {}\n",
            " pid=14704)\u001b[0m [Client 0] evaluate, config: {}\n",
            " pid=24624)\u001b[0m [Client 3] evaluate, config: {}\n",
            " pid=30608)\u001b[0m [Client 1] evaluate, config: {}\n",
            " pid=30080)\u001b[0m [Client 2] evaluate, config: {}\n",
            " pid=30148)\u001b[0m Client 4 loss 0.043232739448547365\n",
            " pid=30148)\u001b[0m Client 4 accuracy 0.502\n"
          ]
        },
        {
          "name": "stderr",
          "output_type": "stream",
          "text": [
            "DEBUG flwr 2024-04-26 16:57:40,186 | server.py:182 | evaluate_round 3 received 5 results and 0 failures\n",
            "DEBUG flwr 2024-04-26 16:57:40,188 | server.py:218 | fit_round 4: strategy sampled 5 clients (out of 5)\n"
          ]
        },
        {
          "name": "stdout",
          "output_type": "stream",
          "text": [
            " pid=30608)\u001b[0m Client 1 loss 0.04171273839473724\n",
            " pid=30608)\u001b[0m Client 1 accuracy 0.516\n",
            " pid=30080)\u001b[0m Client 2 loss 0.04441043210029602\n",
            " pid=30080)\u001b[0m Client 2 accuracy 0.524\n",
            " pid=24624)\u001b[0m Client 3 loss 0.04137878978252411\n",
            " pid=24624)\u001b[0m Client 3 accuracy 0.546\n",
            " pid=14704)\u001b[0m Client 0 loss 0.043407554149627686\n",
            " pid=14704)\u001b[0m Client 0 accuracy 0.53\n",
            " pid=30608)\u001b[0m [Client 2] fit, config: {}\n",
            " pid=30080)\u001b[0m [Client 4] fit, config: {}\n",
            " pid=24624)\u001b[0m [Client 0] fit, config: {}\n",
            " pid=30148)\u001b[0m [Client 1] fit, config: {}\n",
            " pid=14704)\u001b[0m [Client 3] fit, config: {}\n",
            " pid=30148)\u001b[0m Epoch 1: train loss 0.03742371127009392, accuracy 0.5733333333333334\n",
            " pid=14704)\u001b[0m Epoch 1: train loss 0.03949412330985069, accuracy 0.55\n",
            " pid=30608)\u001b[0m Epoch 1: train loss 0.0390249639749527, accuracy 0.5453333333333333\n",
            " pid=30080)\u001b[0m Epoch 1: train loss 0.03922748193144798, accuracy 0.5548888888888889\n",
            " pid=24624)\u001b[0m Epoch 1: train loss 0.03827226907014847, accuracy 0.5635555555555556\n",
            " pid=30148)\u001b[0m Epoch 2: train loss 0.033897485584020615, accuracy 0.622\n",
            " pid=30608)\u001b[0m Epoch 2: train loss 0.03512231260538101, accuracy 0.5995555555555555\n",
            " pid=24624)\u001b[0m Epoch 2: train loss 0.03398618474602699, accuracy 0.614\n",
            " pid=14704)\u001b[0m Epoch 2: train loss 0.03549489006400108, accuracy 0.5977777777777777\n",
            " pid=30080)\u001b[0m Epoch 2: train loss 0.03504724055528641, accuracy 0.6057777777777777\n",
            " pid=30148)\u001b[0m Epoch 3: train loss 0.030755886808037758, accuracy 0.6508888888888889\n",
            " pid=14704)\u001b[0m Epoch 3: train loss 0.032521724700927734, accuracy 0.6328888888888888\n",
            " pid=30080)\u001b[0m Epoch 3: train loss 0.03199413791298866, accuracy 0.6395555555555555\n",
            " pid=30608)\u001b[0m Epoch 3: train loss 0.031739335507154465, accuracy 0.6417777777777778\n",
            " pid=24624)\u001b[0m Epoch 3: train loss 0.03142153471708298, accuracy 0.6366666666666667\n",
            " pid=30148)\u001b[0m Epoch 4: train loss 0.02780047431588173, accuracy 0.6844444444444444\n",
            " pid=30080)\u001b[0m Epoch 4: train loss 0.029748691245913506, accuracy 0.6691111111111111\n",
            " pid=14704)\u001b[0m Epoch 4: train loss 0.029923461377620697, accuracy 0.6697777777777778\n",
            " pid=30608)\u001b[0m Epoch 4: train loss 0.028883138671517372, accuracy 0.6693333333333333\n",
            " pid=24624)\u001b[0m Epoch 4: train loss 0.02827727608382702, accuracy 0.6777777777777778\n"
          ]
        },
        {
          "name": "stderr",
          "output_type": "stream",
          "text": [
            "DEBUG flwr 2024-04-26 16:58:08,018 | server.py:232 | fit_round 4 received 5 results and 0 failures\n"
          ]
        },
        {
          "name": "stdout",
          "output_type": "stream",
          "text": [
            " pid=30080)\u001b[0m Epoch 5: train loss 0.026659080758690834, accuracy 0.7077777777777777\n",
            " pid=14704)\u001b[0m Epoch 5: train loss 0.02649049460887909, accuracy 0.6986666666666667\n",
            " pid=30608)\u001b[0m Epoch 5: train loss 0.025924192741513252, accuracy 0.7091111111111111\n",
            " pid=30148)\u001b[0m Epoch 5: train loss 0.025151383131742477, accuracy 0.7166666666666667\n"
          ]
        },
        {
          "name": "stderr",
          "output_type": "stream",
          "text": [
            "DEBUG flwr 2024-04-26 16:58:08,044 | server.py:168 | evaluate_round 4: strategy sampled 5 clients (out of 5)\n"
          ]
        },
        {
          "name": "stdout",
          "output_type": "stream",
          "text": [
            " pid=24624)\u001b[0m Epoch 5: train loss 0.02573499083518982, accuracy 0.706\n",
            " pid=24624)\u001b[0m [Client 0] evaluate, config: {}\n",
            " pid=24624)\u001b[0m Client 0 loss 0.04127179265022278\n",
            " pid=24624)\u001b[0m Client 0 accuracy 0.574\n",
            " pid=30608)\u001b[0m [Client 3] evaluate, config: {}\n",
            " pid=30148)\u001b[0m [Client 2] evaluate, config: {}\n",
            " pid=30080)\u001b[0m [Client 1] evaluate, config: {}\n",
            " pid=24624)\u001b[0m [Client 4] evaluate, config: {}\n"
          ]
        },
        {
          "name": "stderr",
          "output_type": "stream",
          "text": [
            "DEBUG flwr 2024-04-26 16:58:15,319 | server.py:182 | evaluate_round 4 received 5 results and 0 failures\n",
            "DEBUG flwr 2024-04-26 16:58:15,320 | server.py:218 | fit_round 5: strategy sampled 5 clients (out of 5)\n"
          ]
        },
        {
          "name": "stdout",
          "output_type": "stream",
          "text": [
            " pid=30608)\u001b[0m Client 3 loss 0.0406782648563385\n",
            " pid=30608)\u001b[0m Client 3 accuracy 0.552\n",
            " pid=24624)\u001b[0m Client 4 loss 0.042434191703796385\n",
            " pid=24624)\u001b[0m Client 4 accuracy 0.54\n",
            " pid=30148)\u001b[0m Client 2 loss 0.044177230000495914\n",
            " pid=30148)\u001b[0m Client 2 accuracy 0.522\n",
            " pid=30080)\u001b[0m Client 1 loss 0.04021305966377258\n",
            " pid=30080)\u001b[0m Client 1 accuracy 0.564\n",
            " pid=30148)\u001b[0m [Client 2] fit, config: {}\n",
            " pid=30080)\u001b[0m [Client 1] fit, config: {}\n",
            " pid=30608)\u001b[0m [Client 4] fit, config: {}\n",
            " pid=24624)\u001b[0m [Client 3] fit, config: {}\n",
            " pid=14704)\u001b[0m [Client 0] fit, config: {}\n",
            " pid=30080)\u001b[0m Epoch 1: train loss 0.03421269357204437, accuracy 0.6055555555555555\n",
            " pid=30148)\u001b[0m Epoch 1: train loss 0.035070765763521194, accuracy 0.598\n",
            " pid=30608)\u001b[0m Epoch 1: train loss 0.03535176441073418, accuracy 0.6031111111111112\n",
            " pid=14704)\u001b[0m Epoch 1: train loss 0.035091813653707504, accuracy 0.5977777777777777\n",
            " pid=24624)\u001b[0m Epoch 1: train loss 0.035773154348134995, accuracy 0.5986666666666667\n",
            " pid=30080)\u001b[0m Epoch 2: train loss 0.029118703678250313, accuracy 0.6704444444444444\n",
            " pid=30148)\u001b[0m Epoch 2: train loss 0.030420783907175064, accuracy 0.6564444444444445\n",
            " pid=30608)\u001b[0m Epoch 2: train loss 0.031185196712613106, accuracy 0.6522222222222223\n",
            " pid=14704)\u001b[0m Epoch 2: train loss 0.02974291704595089, accuracy 0.6602222222222223\n",
            " pid=24624)\u001b[0m Epoch 2: train loss 0.031006110832095146, accuracy 0.6517777777777778\n",
            " pid=30148)\u001b[0m Epoch 3: train loss 0.026188727468252182, accuracy 0.7073333333333334\n",
            " pid=30080)\u001b[0m Epoch 3: train loss 0.025265388190746307, accuracy 0.7175555555555555\n",
            " pid=30608)\u001b[0m Epoch 3: train loss 0.027128858491778374, accuracy 0.6997777777777778\n",
            " pid=14704)\u001b[0m Epoch 3: train loss 0.026098303496837616, accuracy 0.7046666666666667\n",
            " pid=24624)\u001b[0m Epoch 3: train loss 0.027205320075154305, accuracy 0.696\n",
            " pid=30080)\u001b[0m Epoch 4: train loss 0.022756488993763924, accuracy 0.74\n",
            " pid=30148)\u001b[0m Epoch 4: train loss 0.022703208029270172, accuracy 0.7431111111111111\n",
            " pid=30608)\u001b[0m Epoch 4: train loss 0.023738402873277664, accuracy 0.7424444444444445\n",
            " pid=24624)\u001b[0m Epoch 4: train loss 0.024338185787200928, accuracy 0.7288888888888889\n",
            " pid=14704)\u001b[0m Epoch 4: train loss 0.022660069167613983, accuracy 0.7551111111111111\n",
            " pid=30080)\u001b[0m Epoch 5: train loss 0.01986755058169365, accuracy 0.7773333333333333\n",
            " pid=30148)\u001b[0m Epoch 5: train loss 0.019426878541707993, accuracy 0.7802222222222223\n",
            " pid=30608)\u001b[0m Epoch 5: train loss 0.020815547555685043, accuracy 0.7717777777777778\n"
          ]
        },
        {
          "name": "stderr",
          "output_type": "stream",
          "text": [
            "DEBUG flwr 2024-04-26 16:58:43,437 | server.py:232 | fit_round 5 received 5 results and 0 failures\n",
            "DEBUG flwr 2024-04-26 16:58:43,457 | server.py:168 | evaluate_round 5: strategy sampled 5 clients (out of 5)\n"
          ]
        },
        {
          "name": "stdout",
          "output_type": "stream",
          "text": [
            " pid=14704)\u001b[0m Epoch 5: train loss 0.019805263727903366, accuracy 0.778\n",
            " pid=24624)\u001b[0m Epoch 5: train loss 0.02105431631207466, accuracy 0.7651111111111111\n",
            " pid=24624)\u001b[0m [Client 3] evaluate, config: {}\n",
            " pid=24624)\u001b[0m Client 3 loss 0.04242133891582489\n",
            " pid=24624)\u001b[0m Client 3 accuracy 0.55\n",
            " pid=24624)\u001b[0m [Client 2] evaluate, config: {}\n",
            " pid=24624)\u001b[0m Client 2 loss 0.04530470013618469\n",
            " pid=24624)\u001b[0m Client 2 accuracy 0.538\n",
            " pid=30608)\u001b[0m [Client 0] evaluate, config: {}\n"
          ]
        },
        {
          "name": "stderr",
          "output_type": "stream",
          "text": [
            "DEBUG flwr 2024-04-26 16:58:50,965 | server.py:182 | evaluate_round 5 received 5 results and 0 failures\n",
            "DEBUG flwr 2024-04-26 16:58:50,967 | server.py:218 | fit_round 6: strategy sampled 5 clients (out of 5)\n"
          ]
        },
        {
          "name": "stdout",
          "output_type": "stream",
          "text": [
            " pid=24624)\u001b[0m [Client 1] evaluate, config: {}\n",
            " pid=14704)\u001b[0m [Client 4] evaluate, config: {}\n",
            " pid=24624)\u001b[0m Client 1 loss 0.04279714727401734\n",
            " pid=24624)\u001b[0m Client 1 accuracy 0.562\n",
            " pid=14704)\u001b[0m Client 4 loss 0.044507211804389955\n",
            " pid=14704)\u001b[0m Client 4 accuracy 0.53\n",
            " pid=30608)\u001b[0m Client 0 loss 0.042389694690704346\n",
            " pid=30608)\u001b[0m Client 0 accuracy 0.58\n",
            " pid=30608)\u001b[0m [Client 2] fit, config: {}\n",
            " pid=30148)\u001b[0m [Client 1] fit, config: {}\n",
            " pid=24624)\u001b[0m [Client 4] fit, config: {}\n",
            " pid=14704)\u001b[0m [Client 3] fit, config: {}\n",
            " pid=30080)\u001b[0m [Client 0] fit, config: {}\n",
            " pid=30608)\u001b[0m Epoch 1: train loss 0.03162052854895592, accuracy 0.6417777777777778\n",
            " pid=30148)\u001b[0m Epoch 1: train loss 0.03137217462062836, accuracy 0.6508888888888889\n",
            " pid=30080)\u001b[0m Epoch 1: train loss 0.03188050165772438, accuracy 0.64\n",
            " pid=24624)\u001b[0m Epoch 1: train loss 0.032844945788383484, accuracy 0.6211111111111111\n",
            " pid=14704)\u001b[0m Epoch 1: train loss 0.033116113394498825, accuracy 0.6257777777777778\n",
            " pid=30608)\u001b[0m Epoch 2: train loss 0.02499677985906601, accuracy 0.7204444444444444\n",
            " pid=30080)\u001b[0m Epoch 2: train loss 0.02565164864063263, accuracy 0.7064444444444444\n",
            " pid=24624)\u001b[0m Epoch 2: train loss 0.026755524799227715, accuracy 0.7011111111111111\n",
            " pid=30148)\u001b[0m Epoch 2: train loss 0.025160444900393486, accuracy 0.7124444444444444\n",
            " pid=14704)\u001b[0m Epoch 2: train loss 0.027284953743219376, accuracy 0.6975555555555556\n",
            " pid=30608)\u001b[0m Epoch 3: train loss 0.020594920963048935, accuracy 0.7715555555555556\n",
            " pid=30148)\u001b[0m Epoch 3: train loss 0.021497108042240143, accuracy 0.766\n",
            " pid=30080)\u001b[0m Epoch 3: train loss 0.02151770330965519, accuracy 0.7668888888888888\n",
            " pid=24624)\u001b[0m Epoch 3: train loss 0.022254904732108116, accuracy 0.7555555555555555\n",
            " pid=14704)\u001b[0m Epoch 3: train loss 0.0228946004062891, accuracy 0.7493333333333333\n",
            " pid=30608)\u001b[0m Epoch 4: train loss 0.01780594512820244, accuracy 0.8011111111111111\n",
            " pid=30080)\u001b[0m Epoch 4: train loss 0.01814379170536995, accuracy 0.7993333333333333\n",
            " pid=14704)\u001b[0m Epoch 4: train loss 0.018902363255620003, accuracy 0.7906666666666666\n",
            " pid=24624)\u001b[0m Epoch 4: train loss 0.019028648734092712, accuracy 0.7917777777777778\n",
            " pid=30148)\u001b[0m Epoch 4: train loss 0.01828356832265854, accuracy 0.8046666666666666\n",
            " pid=30608)\u001b[0m Epoch 5: train loss 0.01410245057195425, accuracy 0.8535555555555555\n",
            " pid=24624)\u001b[0m Epoch 5: train loss 0.015917768701910973, accuracy 0.8282222222222222\n",
            " pid=30080)\u001b[0m Epoch 5: train loss 0.015269536525011063, accuracy 0.8382222222222222\n",
            " pid=14704)\u001b[0m Epoch 5: train loss 0.01581059955060482, accuracy 0.8291111111111111\n"
          ]
        },
        {
          "name": "stderr",
          "output_type": "stream",
          "text": [
            "DEBUG flwr 2024-04-26 16:59:18,747 | server.py:232 | fit_round 6 received 5 results and 0 failures\n",
            "DEBUG flwr 2024-04-26 16:59:18,793 | server.py:168 | evaluate_round 6: strategy sampled 5 clients (out of 5)\n"
          ]
        },
        {
          "name": "stdout",
          "output_type": "stream",
          "text": [
            " pid=30148)\u001b[0m Epoch 5: train loss 0.015020688995718956, accuracy 0.8428888888888889\n",
            " pid=30148)\u001b[0m [Client 1] evaluate, config: {}\n",
            " pid=30148)\u001b[0m Client 1 loss 0.04721851134300232\n",
            " pid=30148)\u001b[0m Client 1 accuracy 0.562\n",
            " pid=30148)\u001b[0m [Client 0] evaluate, config: {}\n",
            " pid=30080)\u001b[0m [Client 2] evaluate, config: {}\n",
            " pid=24624)\u001b[0m [Client 3] evaluate, config: {}\n",
            " pid=14704)\u001b[0m [Client 4] evaluate, config: {}\n"
          ]
        },
        {
          "name": "stderr",
          "output_type": "stream",
          "text": [
            "DEBUG flwr 2024-04-26 16:59:25,899 | server.py:182 | evaluate_round 6 received 5 results and 0 failures\n",
            "DEBUG flwr 2024-04-26 16:59:25,901 | server.py:218 | fit_round 7: strategy sampled 5 clients (out of 5)\n"
          ]
        },
        {
          "name": "stdout",
          "output_type": "stream",
          "text": [
            " pid=30148)\u001b[0m Client 0 loss 0.045238494515419\n",
            " pid=30148)\u001b[0m Client 0 accuracy 0.58\n",
            " pid=14704)\u001b[0m Client 4 loss 0.04866381251811981\n",
            " pid=14704)\u001b[0m Client 4 accuracy 0.548\n",
            " pid=30080)\u001b[0m Client 2 loss 0.04932484233379364\n",
            " pid=30080)\u001b[0m Client 2 accuracy 0.568\n",
            " pid=24624)\u001b[0m Client 3 loss 0.04695178914070129\n",
            " pid=24624)\u001b[0m Client 3 accuracy 0.562\n",
            " pid=30148)\u001b[0m [Client 4] fit, config: {}\n",
            " pid=30080)\u001b[0m [Client 3] fit, config: {}\n",
            " pid=24624)\u001b[0m [Client 1] fit, config: {}\n",
            " pid=14704)\u001b[0m [Client 0] fit, config: {}\n",
            " pid=30608)\u001b[0m [Client 2] fit, config: {}\n",
            " pid=30080)\u001b[0m Epoch 1: train loss 0.030028045177459717, accuracy 0.6628888888888889\n",
            " pid=30148)\u001b[0m Epoch 1: train loss 0.030948903411626816, accuracy 0.6468888888888888\n",
            " pid=30608)\u001b[0m Epoch 1: train loss 0.028709059581160545, accuracy 0.6804444444444444\n",
            " pid=24624)\u001b[0m Epoch 1: train loss 0.02886522375047207, accuracy 0.6782222222222222\n",
            " pid=14704)\u001b[0m Epoch 1: train loss 0.02933349646627903, accuracy 0.6615555555555556\n",
            " pid=30148)\u001b[0m Epoch 2: train loss 0.022682450711727142, accuracy 0.7484444444444445\n",
            " pid=30080)\u001b[0m Epoch 2: train loss 0.023013116791844368, accuracy 0.7433333333333333\n",
            " pid=30608)\u001b[0m Epoch 2: train loss 0.0211184099316597, accuracy 0.7608888888888888\n",
            " pid=14704)\u001b[0m Epoch 2: train loss 0.022029496729373932, accuracy 0.7508888888888889\n",
            " pid=24624)\u001b[0m Epoch 2: train loss 0.022174300625920296, accuracy 0.7542222222222222\n",
            " pid=30148)\u001b[0m Epoch 3: train loss 0.018197614699602127, accuracy 0.8028888888888889\n",
            " pid=30608)\u001b[0m Epoch 3: train loss 0.016577860340476036, accuracy 0.8122222222222222\n",
            " pid=30080)\u001b[0m Epoch 3: train loss 0.018474815413355827, accuracy 0.804\n",
            " pid=14704)\u001b[0m Epoch 3: train loss 0.01766880787909031, accuracy 0.8093333333333333\n",
            " pid=24624)\u001b[0m Epoch 3: train loss 0.017703145742416382, accuracy 0.8062222222222222\n",
            " pid=30608)\u001b[0m Epoch 4: train loss 0.014613937586545944, accuracy 0.8357777777777777\n",
            " pid=30080)\u001b[0m Epoch 4: train loss 0.014390024356544018, accuracy 0.8491111111111111\n",
            " pid=30148)\u001b[0m Epoch 4: train loss 0.014847452752292156, accuracy 0.8468888888888889\n",
            " pid=14704)\u001b[0m Epoch 4: train loss 0.013959115371108055, accuracy 0.8535555555555555\n",
            " pid=24624)\u001b[0m Epoch 4: train loss 0.01479355338960886, accuracy 0.844\n",
            " pid=30608)\u001b[0m Epoch 5: train loss 0.010693212039768696, accuracy 0.8895555555555555\n",
            " pid=30148)\u001b[0m Epoch 5: train loss 0.011961483396589756, accuracy 0.8733333333333333\n",
            " pid=30080)\u001b[0m Epoch 5: train loss 0.01207691803574562, accuracy 0.8735555555555555\n"
          ]
        },
        {
          "name": "stderr",
          "output_type": "stream",
          "text": [
            "DEBUG flwr 2024-04-26 16:59:53,866 | server.py:232 | fit_round 7 received 5 results and 0 failures\n",
            "DEBUG flwr 2024-04-26 16:59:53,884 | server.py:168 | evaluate_round 7: strategy sampled 5 clients (out of 5)\n"
          ]
        },
        {
          "name": "stdout",
          "output_type": "stream",
          "text": [
            " pid=24624)\u001b[0m Epoch 5: train loss 0.01173475943505764, accuracy 0.8724444444444445\n",
            " pid=14704)\u001b[0m Epoch 5: train loss 0.011032241396605968, accuracy 0.8828888888888888\n",
            " pid=14704)\u001b[0m [Client 2] evaluate, config: {}\n"
          ]
        },
        {
          "name": "stderr",
          "output_type": "stream",
          "text": [
            "DEBUG flwr 2024-04-26 17:00:01,256 | server.py:182 | evaluate_round 7 received 5 results and 0 failures\n"
          ]
        },
        {
          "name": "stdout",
          "output_type": "stream",
          "text": [
            " pid=30608)\u001b[0m [Client 4] evaluate, config: {}\n",
            " pid=30148)\u001b[0m [Client 1] evaluate, config: {}\n",
            " pid=30080)\u001b[0m [Client 3] evaluate, config: {}\n",
            " pid=24624)\u001b[0m [Client 0] evaluate, config: {}\n",
            " pid=14704)\u001b[0m Client 2 loss 0.05213151168823242\n",
            " pid=14704)\u001b[0m Client 2 accuracy 0.56\n",
            " pid=30608)\u001b[0m Client 4 loss 0.05381834375858307\n",
            " pid=30608)\u001b[0m Client 4 accuracy 0.526\n",
            " pid=30148)\u001b[0m Client 1 loss 0.05124831676483154\n",
            " pid=30148)\u001b[0m Client 1 accuracy 0.562\n",
            " pid=24624)\u001b[0m Client 0 loss 0.049163352966308596\n",
            " pid=24624)\u001b[0m Client 0 accuracy 0.566\n"
          ]
        },
        {
          "name": "stderr",
          "output_type": "stream",
          "text": [
            "DEBUG flwr 2024-04-26 17:00:01,259 | server.py:218 | fit_round 8: strategy sampled 5 clients (out of 5)\n"
          ]
        },
        {
          "name": "stdout",
          "output_type": "stream",
          "text": [
            " pid=30080)\u001b[0m Client 3 loss 0.05091621851921081\n",
            " pid=30080)\u001b[0m Client 3 accuracy 0.578\n",
            " pid=30608)\u001b[0m [Client 1] fit, config: {}\n",
            " pid=30148)\u001b[0m [Client 4] fit, config: {}\n",
            " pid=30080)\u001b[0m [Client 3] fit, config: {}\n",
            " pid=24624)\u001b[0m [Client 0] fit, config: {}\n",
            " pid=14704)\u001b[0m [Client 2] fit, config: {}\n",
            " pid=30608)\u001b[0m Epoch 1: train loss 0.027242127805948257, accuracy 0.6913333333333334\n",
            " pid=30080)\u001b[0m Epoch 1: train loss 0.028200604021549225, accuracy 0.6873333333333334\n",
            " pid=24624)\u001b[0m Epoch 1: train loss 0.026911551132798195, accuracy 0.6942222222222222\n",
            " pid=14704)\u001b[0m Epoch 1: train loss 0.027001190930604935, accuracy 0.6962222222222222\n",
            " pid=30148)\u001b[0m Epoch 1: train loss 0.028181718662381172, accuracy 0.6833333333333333\n",
            " pid=24624)\u001b[0m Epoch 2: train loss 0.018602516502141953, accuracy 0.7922222222222223\n",
            " pid=30608)\u001b[0m Epoch 2: train loss 0.018697824329137802, accuracy 0.7977777777777778\n",
            " pid=14704)\u001b[0m Epoch 2: train loss 0.018000110983848572, accuracy 0.7982222222222223\n",
            " pid=30080)\u001b[0m Epoch 2: train loss 0.01964298076927662, accuracy 0.7817777777777778\n",
            " pid=30148)\u001b[0m Epoch 2: train loss 0.019518207758665085, accuracy 0.7802222222222223\n",
            " pid=30608)\u001b[0m Epoch 3: train loss 0.014421088621020317, accuracy 0.8413333333333334\n",
            " pid=30080)\u001b[0m Epoch 3: train loss 0.015030533075332642, accuracy 0.8384444444444444\n",
            " pid=24624)\u001b[0m Epoch 3: train loss 0.014095030725002289, accuracy 0.8477777777777777\n",
            " pid=14704)\u001b[0m Epoch 3: train loss 0.013247872702777386, accuracy 0.858\n",
            " pid=30148)\u001b[0m Epoch 3: train loss 0.015276719816029072, accuracy 0.8346666666666667\n",
            " pid=30608)\u001b[0m Epoch 4: train loss 0.011426196433603764, accuracy 0.8775555555555555\n",
            " pid=30080)\u001b[0m Epoch 4: train loss 0.011938577517867088, accuracy 0.878\n",
            " pid=30148)\u001b[0m Epoch 4: train loss 0.011378178372979164, accuracy 0.8824444444444445\n",
            " pid=24624)\u001b[0m Epoch 4: train loss 0.010869637131690979, accuracy 0.8848888888888888\n",
            " pid=14704)\u001b[0m Epoch 4: train loss 0.010276212356984615, accuracy 0.8917777777777778\n",
            " pid=30080)\u001b[0m Epoch 5: train loss 0.00818863045424223, accuracy 0.9193333333333333\n",
            " pid=30608)\u001b[0m Epoch 5: train loss 0.00886946078389883, accuracy 0.9073333333333333\n",
            " pid=24624)\u001b[0m Epoch 5: train loss 0.00818835198879242, accuracy 0.9235555555555556\n"
          ]
        },
        {
          "name": "stderr",
          "output_type": "stream",
          "text": [
            "DEBUG flwr 2024-04-26 17:00:29,146 | server.py:232 | fit_round 8 received 5 results and 0 failures\n",
            "DEBUG flwr 2024-04-26 17:00:29,187 | server.py:168 | evaluate_round 8: strategy sampled 5 clients (out of 5)\n"
          ]
        },
        {
          "name": "stdout",
          "output_type": "stream",
          "text": [
            " pid=30148)\u001b[0m Epoch 5: train loss 0.008876858279109001, accuracy 0.9128888888888889\n",
            " pid=14704)\u001b[0m Epoch 5: train loss 0.007896087132394314, accuracy 0.9224444444444444\n",
            " pid=30148)\u001b[0m [Client 0] evaluate, config: {}\n",
            " pid=24624)\u001b[0m [Client 1] evaluate, config: {}\n",
            " pid=14704)\u001b[0m [Client 4] evaluate, config: {}\n",
            " pid=30148)\u001b[0m Client 0 loss 0.05462479996681213\n",
            " pid=30148)\u001b[0m Client 0 accuracy 0.568\n",
            " pid=24624)\u001b[0m Client 1 loss 0.059211080312728884\n",
            " pid=24624)\u001b[0m Client 1 accuracy 0.556\n",
            " pid=14704)\u001b[0m Client 4 loss 0.06077118873596191\n",
            " pid=14704)\u001b[0m Client 4 accuracy 0.518\n"
          ]
        },
        {
          "name": "stderr",
          "output_type": "stream",
          "text": [
            "DEBUG flwr 2024-04-26 17:00:36,389 | server.py:182 | evaluate_round 8 received 5 results and 0 failures\n"
          ]
        },
        {
          "name": "stdout",
          "output_type": "stream",
          "text": [
            " pid=30148)\u001b[0m [Client 3] evaluate, config: {}\n",
            " pid=14704)\u001b[0m [Client 2] evaluate, config: {}\n"
          ]
        },
        {
          "name": "stderr",
          "output_type": "stream",
          "text": [
            "DEBUG flwr 2024-04-26 17:00:36,392 | server.py:218 | fit_round 9: strategy sampled 5 clients (out of 5)\n"
          ]
        },
        {
          "name": "stdout",
          "output_type": "stream",
          "text": [
            " pid=30148)\u001b[0m Client 3 loss 0.05703927206993103\n",
            " pid=30148)\u001b[0m Client 3 accuracy 0.56\n",
            " pid=14704)\u001b[0m Client 2 loss 0.056668242931365964\n",
            " pid=14704)\u001b[0m Client 2 accuracy 0.568\n",
            " pid=30148)\u001b[0m [Client 2] fit, config: {}\n",
            " pid=14704)\u001b[0m [Client 1] fit, config: {}\n",
            " pid=30608)\u001b[0m [Client 4] fit, config: {}\n",
            " pid=30080)\u001b[0m [Client 0] fit, config: {}\n",
            " pid=24624)\u001b[0m [Client 3] fit, config: {}\n",
            " pid=14704)\u001b[0m Epoch 1: train loss 0.025807367637753487, accuracy 0.7164444444444444\n",
            " pid=30148)\u001b[0m Epoch 1: train loss 0.025018360465765, accuracy 0.7186666666666667\n",
            " pid=30080)\u001b[0m Epoch 1: train loss 0.02594996802508831, accuracy 0.7091111111111111\n",
            " pid=24624)\u001b[0m Epoch 1: train loss 0.02695602923631668, accuracy 0.7073333333333334\n",
            " pid=30608)\u001b[0m Epoch 1: train loss 0.026342103257775307, accuracy 0.7093333333333334\n",
            " pid=14704)\u001b[0m Epoch 2: train loss 0.01563987135887146, accuracy 0.828\n",
            " pid=30148)\u001b[0m Epoch 2: train loss 0.014814071357250214, accuracy 0.8351111111111111\n",
            " pid=30080)\u001b[0m Epoch 2: train loss 0.016053581610322, accuracy 0.8177777777777778\n",
            " pid=30608)\u001b[0m Epoch 2: train loss 0.016370872035622597, accuracy 0.8197777777777778\n",
            " pid=24624)\u001b[0m Epoch 2: train loss 0.01603863015770912, accuracy 0.824\n",
            " pid=14704)\u001b[0m Epoch 3: train loss 0.011370927095413208, accuracy 0.8833333333333333\n",
            " pid=30148)\u001b[0m Epoch 3: train loss 0.010418340563774109, accuracy 0.8897777777777778\n",
            " pid=30608)\u001b[0m Epoch 3: train loss 0.011533722281455994, accuracy 0.8802222222222222\n",
            " pid=30080)\u001b[0m Epoch 3: train loss 0.011562325060367584, accuracy 0.872\n",
            " pid=24624)\u001b[0m Epoch 3: train loss 0.011936366558074951, accuracy 0.8731111111111111\n",
            " pid=14704)\u001b[0m Epoch 4: train loss 0.008492358028888702, accuracy 0.9171111111111111\n",
            " pid=30148)\u001b[0m Epoch 4: train loss 0.008253873325884342, accuracy 0.9093333333333333\n",
            " pid=30080)\u001b[0m Epoch 4: train loss 0.009323502890765667, accuracy 0.9062222222222223\n",
            " pid=30608)\u001b[0m Epoch 4: train loss 0.008616403676569462, accuracy 0.9153333333333333\n",
            " pid=24624)\u001b[0m Epoch 4: train loss 0.008997826837003231, accuracy 0.9122222222222223\n",
            " pid=14704)\u001b[0m Epoch 5: train loss 0.0069799660705029964, accuracy 0.9311111111111111\n",
            " pid=30148)\u001b[0m Epoch 5: train loss 0.005924382712692022, accuracy 0.9473333333333334\n",
            " pid=30080)\u001b[0m Epoch 5: train loss 0.006724633742123842, accuracy 0.9333333333333333\n",
            " pid=30608)\u001b[0m Epoch 5: train loss 0.007179125677794218, accuracy 0.9288888888888889\n"
          ]
        },
        {
          "name": "stderr",
          "output_type": "stream",
          "text": [
            "DEBUG flwr 2024-04-26 17:01:04,555 | server.py:232 | fit_round 9 received 5 results and 0 failures\n",
            "DEBUG flwr 2024-04-26 17:01:04,573 | server.py:168 | evaluate_round 9: strategy sampled 5 clients (out of 5)\n"
          ]
        },
        {
          "name": "stdout",
          "output_type": "stream",
          "text": [
            " pid=24624)\u001b[0m Epoch 5: train loss 0.006784603465348482, accuracy 0.9304444444444444\n",
            " pid=24624)\u001b[0m [Client 4] evaluate, config: {}\n",
            " pid=24624)\u001b[0m Client 4 loss 0.06738747799396515\n",
            " pid=24624)\u001b[0m Client 4 accuracy 0.526\n",
            " pid=30608)\u001b[0m [Client 3] evaluate, config: {}\n",
            " pid=30148)\u001b[0m [Client 2] evaluate, config: {}\n",
            " pid=24624)\u001b[0m [Client 1] evaluate, config: {}\n",
            " pid=30080)\u001b[0m [Client 0] evaluate, config: {}\n"
          ]
        },
        {
          "name": "stderr",
          "output_type": "stream",
          "text": [
            "DEBUG flwr 2024-04-26 17:01:11,807 | server.py:182 | evaluate_round 9 received 5 results and 0 failures\n",
            "DEBUG flwr 2024-04-26 17:01:11,809 | server.py:218 | fit_round 10: strategy sampled 5 clients (out of 5)\n"
          ]
        },
        {
          "name": "stdout",
          "output_type": "stream",
          "text": [
            " pid=24624)\u001b[0m Client 1 loss 0.06312024140357972\n",
            " pid=24624)\u001b[0m Client 1 accuracy 0.55\n",
            " pid=30608)\u001b[0m Client 3 loss 0.06130774307250977\n",
            " pid=30608)\u001b[0m Client 3 accuracy 0.558\n",
            " pid=30148)\u001b[0m Client 2 loss 0.061351314306259154\n",
            " pid=30148)\u001b[0m Client 2 accuracy 0.546\n",
            " pid=30080)\u001b[0m Client 0 loss 0.05966833162307739\n",
            " pid=30080)\u001b[0m Client 0 accuracy 0.558\n",
            " pid=30608)\u001b[0m [Client 2] fit, config: {}\n",
            " pid=30148)\u001b[0m [Client 1] fit, config: {}\n",
            " pid=30080)\u001b[0m [Client 4] fit, config: {}\n",
            " pid=24624)\u001b[0m [Client 3] fit, config: {}\n",
            " pid=14704)\u001b[0m [Client 0] fit, config: {}\n",
            " pid=30608)\u001b[0m Epoch 1: train loss 0.022680405527353287, accuracy 0.7391111111111112\n",
            " pid=30148)\u001b[0m Epoch 1: train loss 0.024410903453826904, accuracy 0.7386666666666667\n",
            " pid=30080)\u001b[0m Epoch 1: train loss 0.024601470679044724, accuracy 0.7337777777777778\n",
            " pid=24624)\u001b[0m Epoch 1: train loss 0.025165537372231483, accuracy 0.7211111111111111\n",
            " pid=14704)\u001b[0m Epoch 1: train loss 0.02373705804347992, accuracy 0.7302222222222222\n",
            " pid=30148)\u001b[0m Epoch 2: train loss 0.01362837664783001, accuracy 0.8493333333333334\n",
            " pid=30608)\u001b[0m Epoch 2: train loss 0.012838314287364483, accuracy 0.8595555555555555\n",
            " pid=30080)\u001b[0m Epoch 2: train loss 0.013723444193601608, accuracy 0.8493333333333334\n",
            " pid=24624)\u001b[0m Epoch 2: train loss 0.01414821483194828, accuracy 0.8391111111111111\n",
            " pid=14704)\u001b[0m Epoch 2: train loss 0.013578354381024837, accuracy 0.8511111111111112\n",
            " pid=30148)\u001b[0m Epoch 3: train loss 0.009389112703502178, accuracy 0.9004444444444445\n",
            " pid=30608)\u001b[0m Epoch 3: train loss 0.00916258618235588, accuracy 0.9053333333333333\n",
            " pid=30080)\u001b[0m Epoch 3: train loss 0.009981367737054825, accuracy 0.8911111111111111\n",
            " pid=14704)\u001b[0m Epoch 3: train loss 0.009586993604898453, accuracy 0.898\n",
            " pid=24624)\u001b[0m Epoch 3: train loss 0.009276309981942177, accuracy 0.906\n",
            " pid=30148)\u001b[0m Epoch 4: train loss 0.00665698666125536, accuracy 0.9351111111111111\n",
            " pid=30608)\u001b[0m Epoch 4: train loss 0.006077554076910019, accuracy 0.9426666666666667\n",
            " pid=30080)\u001b[0m Epoch 4: train loss 0.006592585705220699, accuracy 0.9368888888888889\n",
            " pid=14704)\u001b[0m Epoch 4: train loss 0.007224028464406729, accuracy 0.9257777777777778\n",
            " pid=24624)\u001b[0m Epoch 4: train loss 0.006705720908939838, accuracy 0.9306666666666666\n",
            " pid=30148)\u001b[0m Epoch 5: train loss 0.004746353719383478, accuracy 0.9562222222222222\n",
            " pid=30608)\u001b[0m Epoch 5: train loss 0.003865491133183241, accuracy 0.964\n",
            " pid=30080)\u001b[0m Epoch 5: train loss 0.004932904615998268, accuracy 0.9551111111111111\n",
            " pid=14704)\u001b[0m Epoch 5: train loss 0.004510381259024143, accuracy 0.9608888888888889\n"
          ]
        },
        {
          "name": "stderr",
          "output_type": "stream",
          "text": [
            "DEBUG flwr 2024-04-26 17:01:39,635 | server.py:232 | fit_round 10 received 5 results and 0 failures\n",
            "DEBUG flwr 2024-04-26 17:01:39,653 | server.py:168 | evaluate_round 10: strategy sampled 5 clients (out of 5)\n"
          ]
        },
        {
          "name": "stdout",
          "output_type": "stream",
          "text": [
            " pid=24624)\u001b[0m Epoch 5: train loss 0.005034103989601135, accuracy 0.9526666666666667\n",
            " pid=30080)\u001b[0m [Client 3] evaluate, config: {}\n",
            " pid=24624)\u001b[0m [Client 4] evaluate, config: {}\n",
            " pid=30608)\u001b[0m [Client 0] evaluate, config: {}\n",
            " pid=30148)\u001b[0m [Client 2] evaluate, config: {}\n",
            " pid=14704)\u001b[0m [Client 1] evaluate, config: {}\n"
          ]
        },
        {
          "name": "stderr",
          "output_type": "stream",
          "text": [
            "DEBUG flwr 2024-04-26 17:01:46,898 | server.py:182 | evaluate_round 10 received 5 results and 0 failures\n",
            "INFO flwr 2024-04-26 17:01:46,900 | server.py:147 | FL finished in 355.1370707999995\n",
            "INFO flwr 2024-04-26 17:01:46,901 | app.py:218 | app_fit: losses_distributed [(1, 0.05439390110969543), (2, 0.045057359576225274), (3, 0.04282845077514648), (4, 0.04175490777492523), (5, 0.04348401856422425), (6, 0.04747948997020721), (7, 0.05145554873943329), (8, 0.057662916803359984), (9, 0.06256702167987824), (10, 0.06935367078781127)]\n",
            "INFO flwr 2024-04-26 17:01:46,902 | app.py:219 | app_fit: metrics_distributed_fit {}\n",
            "INFO flwr 2024-04-26 17:01:46,904 | app.py:220 | app_fit: metrics_distributed {}\n",
            "INFO flwr 2024-04-26 17:01:46,905 | app.py:221 | app_fit: losses_centralized []\n",
            "INFO flwr 2024-04-26 17:01:46,906 | app.py:222 | app_fit: metrics_centralized {}\n"
          ]
        },
        {
          "data": {
            "text/plain": [
              "History (loss, distributed):\n",
              "\tround 1: 0.05439390110969543\n",
              "\tround 2: 0.045057359576225274\n",
              "\tround 3: 0.04282845077514648\n",
              "\tround 4: 0.04175490777492523\n",
              "\tround 5: 0.04348401856422425\n",
              "\tround 6: 0.04747948997020721\n",
              "\tround 7: 0.05145554873943329\n",
              "\tround 8: 0.057662916803359984\n",
              "\tround 9: 0.06256702167987824\n",
              "\tround 10: 0.06935367078781127"
            ]
          },
          "execution_count": 23,
          "metadata": {},
          "output_type": "execute_result"
        },
        {
          "name": "stdout",
          "output_type": "stream",
          "text": [
            " pid=30608)\u001b[0m Client 0 loss 0.06547129249572754\n",
            " pid=30608)\u001b[0m Client 0 accuracy 0.55\n",
            " pid=30148)\u001b[0m Client 2 loss 0.06915074634552001\n",
            " pid=30148)\u001b[0m Client 2 accuracy 0.548\n",
            " pid=30080)\u001b[0m Client 3 loss 0.06717643356323243\n",
            " pid=30080)\u001b[0m Client 3 accuracy 0.56\n",
            " pid=24624)\u001b[0m Client 4 loss 0.07428802847862244\n",
            " pid=24624)\u001b[0m Client 4 accuracy 0.5\n",
            " pid=14704)\u001b[0m Client 1 loss 0.07068185305595398\n",
            " pid=14704)\u001b[0m Client 1 accuracy 0.54\n"
          ]
        }
      ],
      "source": [
        "# Specify client resources if you need GPU (defaults to 1 CPU and 0 GPU)\n",
        "client_resources = {\"num_cpus\":1}\n",
        "if DEVICE.type == \"cuda\":\n",
        "    client_resources = {\"num_gpus\": 1}\n",
        "\n",
        "fl.simulation.start_simulation(\n",
        "    client_fn=client_fn,\n",
        "    num_clients=5,\n",
        "    config=fl.server.ServerConfig(num_rounds=10),\n",
        "    client_resources=client_resources,\n",
        ")"
      ]
    },
    {
      "cell_type": "markdown",
      "metadata": {},
      "source": [
        "CPU 0.001"
      ]
    },
    {
      "cell_type": "code",
      "execution_count": 24,
      "metadata": {},
      "outputs": [],
      "source": [
        "from typing import Callable, Union\n",
        "\n",
        "from flwr.common import (\n",
        "    EvaluateIns,\n",
        "    EvaluateRes,\n",
        "    FitIns,\n",
        "    FitRes,\n",
        "    MetricsAggregationFn,\n",
        "    NDArrays,\n",
        "    Parameters,\n",
        "    Scalar,\n",
        "    ndarrays_to_parameters,\n",
        "    parameters_to_ndarrays,\n",
        ")\n",
        "from flwr.server.client_manager import ClientManager\n",
        "from flwr.server.client_proxy import ClientProxy\n",
        "from flwr.server.strategy.aggregate import aggregate, weighted_loss_avg\n",
        "\n",
        "\n",
        "class FedCustom(fl.server.strategy.Strategy):\n",
        "    def __init__(\n",
        "        self,\n",
        "        fraction_fit: float = 1.0,\n",
        "        fraction_evaluate: float = 1.0,\n",
        "        min_fit_clients: int = 2,\n",
        "        min_evaluate_clients: int = 2,\n",
        "        min_available_clients: int = 2,\n",
        "    ) -> None:\n",
        "        super().__init__()\n",
        "        self.fraction_fit = fraction_fit\n",
        "        self.fraction_evaluate = fraction_evaluate\n",
        "        self.min_fit_clients = min_fit_clients\n",
        "        self.min_evaluate_clients = min_evaluate_clients\n",
        "        self.min_available_clients = min_available_clients\n",
        "\n",
        "    def __repr__(self) -> str:\n",
        "        return \"FedCustom\"\n",
        "\n",
        "    def initialize_parameters(\n",
        "        self, client_manager: ClientManager\n",
        "    ) -> Optional[Parameters]:\n",
        "        \"\"\"Initialize global model parameters.\"\"\"\n",
        "        net = Net()\n",
        "        ndarrays = get_parameters(net)\n",
        "        return fl.common.ndarrays_to_parameters(ndarrays)\n",
        "\n",
        "    def configure_fit(\n",
        "        self, server_round: int, parameters: Parameters, client_manager: ClientManager\n",
        "    ) -> List[Tuple[ClientProxy, FitIns]]:\n",
        "        \"\"\"Configure the next round of training.\"\"\"\n",
        "\n",
        "        # Sample clients\n",
        "        sample_size, min_num_clients = self.num_fit_clients(\n",
        "            client_manager.num_available()\n",
        "        )\n",
        "        clients = client_manager.sample(\n",
        "            num_clients=sample_size, min_num_clients=min_num_clients\n",
        "        )\n",
        "\n",
        "        # Create custom configs\n",
        "        n_clients = len(clients)\n",
        "        #half_clients = n_clients // 2\n",
        "        standard_config = {\"lr\": 0.001}\n",
        "        higher_lr_config = {\"lr\": 0.003}\n",
        "        fit_configurations = []\n",
        "        for idx, client in enumerate(clients):\n",
        "            fit_configurations.append((client, FitIns(parameters, standard_config)))\n",
        "            # if idx < half_clients:\n",
        "            #     fit_configurations.append((client, FitIns(parameters, standard_config)))\n",
        "            # else:\n",
        "            #     fit_configurations.append(\n",
        "            #         (client, FitIns(parameters, higher_lr_config))\n",
        "            #     )\n",
        "        return fit_configurations\n",
        "\n",
        "    def aggregate_fit(\n",
        "        self,\n",
        "        server_round: int,\n",
        "        results: List[Tuple[ClientProxy, FitRes]],\n",
        "        failures: List[Union[Tuple[ClientProxy, FitRes], BaseException]],\n",
        "    ) -> Tuple[Optional[Parameters], Dict[str, Scalar]]:\n",
        "        \"\"\"Aggregate fit results using weighted average.\"\"\"\n",
        "\n",
        "        weights_results = [\n",
        "            (parameters_to_ndarrays(fit_res.parameters), fit_res.num_examples)\n",
        "            for _, fit_res in results\n",
        "        ]\n",
        "        parameters_aggregated = ndarrays_to_parameters(aggregate(weights_results))\n",
        "        metrics_aggregated = {}\n",
        "        return parameters_aggregated, metrics_aggregated\n",
        "\n",
        "    def configure_evaluate(\n",
        "        self, server_round: int, parameters: Parameters, client_manager: ClientManager\n",
        "    ) -> List[Tuple[ClientProxy, EvaluateIns]]:\n",
        "        \"\"\"Configure the next round of evaluation.\"\"\"\n",
        "        if self.fraction_evaluate == 0.0:\n",
        "            return []\n",
        "        config = {}\n",
        "        evaluate_ins = EvaluateIns(parameters, config)\n",
        "\n",
        "        # Sample clients\n",
        "        sample_size, min_num_clients = self.num_evaluation_clients(\n",
        "            client_manager.num_available()\n",
        "        )\n",
        "        clients = client_manager.sample(\n",
        "            num_clients=sample_size, min_num_clients=min_num_clients\n",
        "        )\n",
        "\n",
        "        # Return client/config pairs\n",
        "        return [(client, evaluate_ins) for client in clients]\n",
        "\n",
        "    def aggregate_evaluate(\n",
        "        self,\n",
        "        server_round: int,\n",
        "        results: List[Tuple[ClientProxy, EvaluateRes]],\n",
        "        failures: List[Union[Tuple[ClientProxy, EvaluateRes], BaseException]],\n",
        "    ) -> Tuple[Optional[float], Dict[str, Scalar]]:\n",
        "        \"\"\"Aggregate evaluation losses using weighted average.\"\"\"\n",
        "\n",
        "        if not results:\n",
        "            return None, {}\n",
        "\n",
        "        loss_aggregated = weighted_loss_avg(\n",
        "            [\n",
        "                (evaluate_res.num_examples, evaluate_res.loss)\n",
        "                for _, evaluate_res in results\n",
        "            ]\n",
        "        )\n",
        "        metrics_aggregated = {}\n",
        "        return loss_aggregated, metrics_aggregated\n",
        "\n",
        "    def evaluate(\n",
        "        self, server_round: int, parameters: Parameters\n",
        "    ) -> Optional[Tuple[float, Dict[str, Scalar]]]:\n",
        "        \"\"\"Evaluate global model parameters using an evaluation function.\"\"\"\n",
        "\n",
        "        # Let's assume we won't perform the global model evaluation on the server side.\n",
        "        return None\n",
        "\n",
        "    def num_fit_clients(self, num_available_clients: int) -> Tuple[int, int]:\n",
        "        \"\"\"Return sample size and required number of clients.\"\"\"\n",
        "        num_clients = int(num_available_clients * self.fraction_fit)\n",
        "        return max(num_clients, self.min_fit_clients), self.min_available_clients\n",
        "\n",
        "    def num_evaluation_clients(self, num_available_clients: int) -> Tuple[int, int]:\n",
        "        \"\"\"Use a fraction of available clients for evaluation.\"\"\"\n",
        "        num_clients = int(num_available_clients * self.fraction_evaluate)\n",
        "        return max(num_clients, self.min_evaluate_clients), self.min_available_clients"
      ]
    },
    {
      "cell_type": "code",
      "execution_count": 25,
      "metadata": {},
      "outputs": [
        {
          "name": "stderr",
          "output_type": "stream",
          "text": [
            "INFO flwr 2024-04-26 17:01:47,043 | app.py:146 | Starting Flower simulation, config: ServerConfig(num_rounds=10, round_timeout=None)\n",
            "INFO flwr 2024-04-26 17:02:01,809 | app.py:180 | Flower VCE: Ray initialized with resources: {'memory': 66159352013.0, 'CPU': 32.0, 'GPU': 1.0, 'node:127.0.0.1': 1.0, 'object_store_memory': 32639722291.0}\n",
            "INFO flwr 2024-04-26 17:02:01,812 | server.py:86 | Initializing global parameters\n",
            "INFO flwr 2024-04-26 17:02:01,822 | server.py:269 | Using initial parameters provided by strategy\n",
            "INFO flwr 2024-04-26 17:02:01,823 | server.py:88 | Evaluating initial parameters\n",
            "INFO flwr 2024-04-26 17:02:01,825 | server.py:101 | FL starting\n",
            "DEBUG flwr 2024-04-26 17:02:01,826 | server.py:218 | fit_round 1: strategy sampled 5 clients (out of 5)\n"
          ]
        },
        {
          "name": "stdout",
          "output_type": "stream",
          "text": [
            " pid=15072)\u001b[0m [Client 4] fit, config: {'lr': 0.001}\n",
            " pid=29136)\u001b[0m [Client 3] fit, config: {'lr': 0.001}\n",
            " pid=24244)\u001b[0m [Client 2] fit, config: {'lr': 0.001}\n",
            " pid=27924)\u001b[0m [Client 1] fit, config: {'lr': 0.001}\n",
            " pid=10004)\u001b[0m [Client 0] fit, config: {'lr': 0.001}\n",
            " pid=15072)\u001b[0m Epoch 1: train loss 0.06498923897743225, accuracy 0.2117777777777778\n",
            " pid=10004)\u001b[0m Epoch 1: train loss 0.06474829465150833, accuracy 0.2288888888888889\n",
            " pid=29136)\u001b[0m Epoch 1: train loss 0.0650850459933281, accuracy 0.21977777777777777\n",
            " pid=24244)\u001b[0m Epoch 1: train loss 0.06506025046110153, accuracy 0.21133333333333335\n",
            " pid=27924)\u001b[0m Epoch 1: train loss 0.06447216123342514, accuracy 0.23333333333333334\n",
            " pid=10004)\u001b[0m Epoch 2: train loss 0.05709301680326462, accuracy 0.33044444444444443\n",
            " pid=24244)\u001b[0m Epoch 2: train loss 0.057777851819992065, accuracy 0.3148888888888889\n",
            " pid=15072)\u001b[0m Epoch 2: train loss 0.05659504979848862, accuracy 0.33266666666666667\n",
            " pid=29136)\u001b[0m Epoch 2: train loss 0.057149454951286316, accuracy 0.31577777777777777\n",
            " pid=27924)\u001b[0m Epoch 2: train loss 0.05665547400712967, accuracy 0.332\n",
            " pid=10004)\u001b[0m Epoch 3: train loss 0.05290840193629265, accuracy 0.3808888888888889\n",
            " pid=15072)\u001b[0m Epoch 3: train loss 0.05180642381310463, accuracy 0.3962222222222222\n",
            " pid=29136)\u001b[0m Epoch 3: train loss 0.052653245627880096, accuracy 0.37666666666666665\n",
            " pid=24244)\u001b[0m Epoch 3: train loss 0.05377078428864479, accuracy 0.36466666666666664\n",
            " pid=27924)\u001b[0m Epoch 3: train loss 0.05176491290330887, accuracy 0.392\n",
            " pid=10004)\u001b[0m Epoch 4: train loss 0.049692362546920776, accuracy 0.41844444444444445\n",
            " pid=15072)\u001b[0m Epoch 4: train loss 0.04859091341495514, accuracy 0.432\n",
            " pid=29136)\u001b[0m Epoch 4: train loss 0.050360169261693954, accuracy 0.40755555555555556\n",
            " pid=24244)\u001b[0m Epoch 4: train loss 0.05057542771100998, accuracy 0.4042222222222222\n",
            " pid=27924)\u001b[0m Epoch 4: train loss 0.049080368131399155, accuracy 0.43422222222222223\n",
            " pid=10004)\u001b[0m Epoch 5: train loss 0.04700086638331413, accuracy 0.45066666666666666\n",
            " pid=15072)\u001b[0m Epoch 5: train loss 0.04647260531783104, accuracy 0.4613333333333333\n",
            " pid=29136)\u001b[0m Epoch 5: train loss 0.04823465645313263, accuracy 0.43133333333333335\n"
          ]
        },
        {
          "name": "stderr",
          "output_type": "stream",
          "text": [
            "DEBUG flwr 2024-04-26 17:02:32,173 | server.py:232 | fit_round 1 received 5 results and 0 failures\n",
            "DEBUG flwr 2024-04-26 17:02:32,199 | server.py:168 | evaluate_round 1: strategy sampled 5 clients (out of 5)\n"
          ]
        },
        {
          "name": "stdout",
          "output_type": "stream",
          "text": [
            " pid=24244)\u001b[0m Epoch 5: train loss 0.04779421538114548, accuracy 0.4408888888888889\n",
            " pid=27924)\u001b[0m Epoch 5: train loss 0.047023821622133255, accuracy 0.4508888888888889\n",
            " pid=27924)\u001b[0m [Client 0] evaluate, config: {}\n",
            " pid=29136)\u001b[0m [Client 1] evaluate, config: {}\n",
            " pid=24244)\u001b[0m [Client 2] evaluate, config: {}\n",
            " pid=15072)\u001b[0m [Client 4] evaluate, config: {}\n",
            " pid=10004)\u001b[0m [Client 3] evaluate, config: {}\n"
          ]
        },
        {
          "name": "stderr",
          "output_type": "stream",
          "text": [
            "DEBUG flwr 2024-04-26 17:02:39,589 | server.py:182 | evaluate_round 1 received 5 results and 0 failures\n",
            "DEBUG flwr 2024-04-26 17:02:39,591 | server.py:218 | fit_round 2: strategy sampled 5 clients (out of 5)\n"
          ]
        },
        {
          "name": "stdout",
          "output_type": "stream",
          "text": [
            " pid=27924)\u001b[0m Client 0 loss 0.05598256993293762\n",
            " pid=27924)\u001b[0m Client 0 accuracy 0.394\n",
            " pid=15072)\u001b[0m Client 4 loss 0.05449780440330505\n",
            " pid=15072)\u001b[0m Client 4 accuracy 0.378\n",
            " pid=24244)\u001b[0m Client 2 loss 0.05588090705871582\n",
            " pid=24244)\u001b[0m Client 2 accuracy 0.374\n",
            " pid=10004)\u001b[0m Client 3 loss 0.0544220290184021\n",
            " pid=10004)\u001b[0m Client 3 accuracy 0.418\n",
            " pid=29136)\u001b[0m Client 1 loss 0.055539610147476194\n",
            " pid=29136)\u001b[0m Client 1 accuracy 0.374\n",
            " pid=29136)\u001b[0m [Client 3] fit, config: {'lr': 0.001}\n",
            " pid=24244)\u001b[0m [Client 0] fit, config: {'lr': 0.001}\n",
            " pid=27924)\u001b[0m [Client 4] fit, config: {'lr': 0.001}\n",
            " pid=10004)\u001b[0m [Client 1] fit, config: {'lr': 0.001}\n",
            " pid=15072)\u001b[0m [Client 2] fit, config: {'lr': 0.001}\n",
            " pid=29136)\u001b[0m Epoch 1: train loss 0.04959777370095253, accuracy 0.4191111111111111\n",
            " pid=24244)\u001b[0m Epoch 1: train loss 0.04921725019812584, accuracy 0.42577777777777776\n",
            " pid=10004)\u001b[0m Epoch 1: train loss 0.04948875680565834, accuracy 0.4226666666666667\n",
            " pid=15072)\u001b[0m Epoch 1: train loss 0.0500602200627327, accuracy 0.42533333333333334\n",
            " pid=27924)\u001b[0m Epoch 1: train loss 0.049143966287374496, accuracy 0.43422222222222223\n",
            " pid=29136)\u001b[0m Epoch 2: train loss 0.04744647815823555, accuracy 0.4524444444444444\n",
            " pid=24244)\u001b[0m Epoch 2: train loss 0.04582955315709114, accuracy 0.4617777777777778\n",
            " pid=15072)\u001b[0m Epoch 2: train loss 0.04665433242917061, accuracy 0.4608888888888889\n",
            " pid=10004)\u001b[0m Epoch 2: train loss 0.04619407653808594, accuracy 0.4668888888888889\n",
            " pid=27924)\u001b[0m Epoch 2: train loss 0.0463683046400547, accuracy 0.4697777777777778\n",
            " pid=29136)\u001b[0m Epoch 3: train loss 0.045549944043159485, accuracy 0.4651111111111111\n",
            " pid=24244)\u001b[0m Epoch 3: train loss 0.04451217129826546, accuracy 0.48155555555555557\n",
            " pid=10004)\u001b[0m Epoch 3: train loss 0.04409075528383255, accuracy 0.4866666666666667\n",
            " pid=15072)\u001b[0m Epoch 3: train loss 0.044616833329200745, accuracy 0.48733333333333334\n",
            " pid=27924)\u001b[0m Epoch 3: train loss 0.044391315430402756, accuracy 0.488\n",
            " pid=29136)\u001b[0m Epoch 4: train loss 0.043622251600027084, accuracy 0.4895555555555556\n",
            " pid=24244)\u001b[0m Epoch 4: train loss 0.04187994822859764, accuracy 0.516\n",
            " pid=15072)\u001b[0m Epoch 4: train loss 0.04207158461213112, accuracy 0.508\n",
            " pid=10004)\u001b[0m Epoch 4: train loss 0.041486695408821106, accuracy 0.5222222222222223\n",
            " pid=27924)\u001b[0m Epoch 4: train loss 0.0422191321849823, accuracy 0.5228888888888888\n",
            " pid=29136)\u001b[0m Epoch 5: train loss 0.041440967470407486, accuracy 0.5266666666666666\n",
            " pid=24244)\u001b[0m Epoch 5: train loss 0.040459368377923965, accuracy 0.5373333333333333\n"
          ]
        },
        {
          "name": "stderr",
          "output_type": "stream",
          "text": [
            "DEBUG flwr 2024-04-26 17:03:07,488 | server.py:232 | fit_round 2 received 5 results and 0 failures\n",
            "DEBUG flwr 2024-04-26 17:03:07,526 | server.py:168 | evaluate_round 2: strategy sampled 5 clients (out of 5)\n"
          ]
        },
        {
          "name": "stdout",
          "output_type": "stream",
          "text": [
            " pid=15072)\u001b[0m Epoch 5: train loss 0.04029363766312599, accuracy 0.5342222222222223\n",
            " pid=10004)\u001b[0m Epoch 5: train loss 0.039726048707962036, accuracy 0.5457777777777778\n",
            " pid=27924)\u001b[0m Epoch 5: train loss 0.04052261263132095, accuracy 0.54\n",
            " pid=15072)\u001b[0m [Client 4] evaluate, config: {}\n",
            " pid=27924)\u001b[0m [Client 1] evaluate, config: {}\n",
            " pid=27924)\u001b[0m Client 1 loss 0.04450026345252991\n",
            " pid=27924)\u001b[0m Client 1 accuracy 0.478\n",
            " pid=15072)\u001b[0m Client 4 loss 0.044443920850753785\n",
            " pid=15072)\u001b[0m Client 4 accuracy 0.464\n",
            " pid=15072)\u001b[0m [Client 2] evaluate, config: {}\n",
            " pid=15072)\u001b[0m Client 2 loss 0.04748122560977936\n",
            " pid=15072)\u001b[0m Client 2 accuracy 0.456\n",
            " pid=15072)\u001b[0m [Client 3] evaluate, config: {}\n",
            " pid=27924)\u001b[0m [Client 0] evaluate, config: {}\n"
          ]
        },
        {
          "name": "stderr",
          "output_type": "stream",
          "text": [
            "DEBUG flwr 2024-04-26 17:03:14,795 | server.py:182 | evaluate_round 2 received 5 results and 0 failures\n",
            "DEBUG flwr 2024-04-26 17:03:14,796 | server.py:218 | fit_round 3: strategy sampled 5 clients (out of 5)\n"
          ]
        },
        {
          "name": "stdout",
          "output_type": "stream",
          "text": [
            " pid=15072)\u001b[0m Client 3 loss 0.04338850307464599\n",
            " pid=15072)\u001b[0m Client 3 accuracy 0.504\n",
            " pid=27924)\u001b[0m Client 0 loss 0.046089242935180665\n",
            " pid=27924)\u001b[0m Client 0 accuracy 0.504\n",
            " pid=24244)\u001b[0m [Client 3] fit, config: {'lr': 0.001}\n",
            " pid=15072)\u001b[0m [Client 2] fit, config: {'lr': 0.001}\n",
            " pid=27924)\u001b[0m [Client 4] fit, config: {'lr': 0.001}\n",
            " pid=10004)\u001b[0m [Client 0] fit, config: {'lr': 0.001}\n",
            " pid=29136)\u001b[0m [Client 1] fit, config: {'lr': 0.001}\n",
            " pid=27924)\u001b[0m Epoch 1: train loss 0.04361718147993088, accuracy 0.49777777777777776\n",
            " pid=15072)\u001b[0m Epoch 1: train loss 0.04360654950141907, accuracy 0.49266666666666664\n",
            " pid=24244)\u001b[0m Epoch 1: train loss 0.04422375559806824, accuracy 0.4911111111111111\n",
            " pid=10004)\u001b[0m Epoch 1: train loss 0.04319010302424431, accuracy 0.5037777777777778\n",
            " pid=29136)\u001b[0m Epoch 1: train loss 0.0422295480966568, accuracy 0.5162222222222222\n",
            " pid=27924)\u001b[0m Epoch 2: train loss 0.04080593213438988, accuracy 0.5384444444444444\n",
            " pid=15072)\u001b[0m Epoch 2: train loss 0.04039181396365166, accuracy 0.5264444444444445\n",
            " pid=24244)\u001b[0m Epoch 2: train loss 0.04123048484325409, accuracy 0.5322222222222223\n",
            " pid=10004)\u001b[0m Epoch 2: train loss 0.04032490774989128, accuracy 0.5368888888888889\n",
            " pid=29136)\u001b[0m Epoch 2: train loss 0.03965922072529793, accuracy 0.5415555555555556\n",
            " pid=27924)\u001b[0m Epoch 3: train loss 0.038942448794841766, accuracy 0.5604444444444444\n",
            " pid=15072)\u001b[0m Epoch 3: train loss 0.03895510360598564, accuracy 0.552\n",
            " pid=24244)\u001b[0m Epoch 3: train loss 0.03908032551407814, accuracy 0.5544444444444444\n",
            " pid=10004)\u001b[0m Epoch 3: train loss 0.03764893487095833, accuracy 0.566\n",
            " pid=29136)\u001b[0m Epoch 3: train loss 0.03770006448030472, accuracy 0.57\n",
            " pid=27924)\u001b[0m Epoch 4: train loss 0.036196518689394, accuracy 0.594\n",
            " pid=15072)\u001b[0m Epoch 4: train loss 0.03615827113389969, accuracy 0.5931111111111111\n",
            " pid=10004)\u001b[0m Epoch 4: train loss 0.03565692901611328, accuracy 0.5928888888888889\n",
            " pid=29136)\u001b[0m Epoch 4: train loss 0.03561623394489288, accuracy 0.5926666666666667\n",
            " pid=24244)\u001b[0m Epoch 4: train loss 0.03713749349117279, accuracy 0.5686666666666667\n",
            " pid=27924)\u001b[0m Epoch 5: train loss 0.0347052700817585, accuracy 0.6057777777777777\n",
            " pid=15072)\u001b[0m Epoch 5: train loss 0.03391402214765549, accuracy 0.6146666666666667\n",
            " pid=10004)\u001b[0m Epoch 5: train loss 0.03323408588767052, accuracy 0.6257777777777778\n",
            " pid=24244)\u001b[0m Epoch 5: train loss 0.034382354468107224, accuracy 0.6097777777777778\n"
          ]
        },
        {
          "name": "stderr",
          "output_type": "stream",
          "text": [
            "DEBUG flwr 2024-04-26 17:03:42,576 | server.py:232 | fit_round 3 received 5 results and 0 failures\n",
            "DEBUG flwr 2024-04-26 17:03:42,594 | server.py:168 | evaluate_round 3: strategy sampled 5 clients (out of 5)\n"
          ]
        },
        {
          "name": "stdout",
          "output_type": "stream",
          "text": [
            " pid=29136)\u001b[0m Epoch 5: train loss 0.033276546746492386, accuracy 0.6273333333333333\n",
            " pid=29136)\u001b[0m [Client 3] evaluate, config: {}\n",
            " pid=29136)\u001b[0m Client 3 loss 0.04183605480194092\n",
            " pid=29136)\u001b[0m Client 3 accuracy 0.522\n",
            " pid=29136)\u001b[0m [Client 1] evaluate, config: {}\n",
            " pid=24244)\u001b[0m [Client 4] evaluate, config: {}\n",
            " pid=15072)\u001b[0m [Client 2] evaluate, config: {}\n",
            " pid=10004)\u001b[0m [Client 0] evaluate, config: {}\n"
          ]
        },
        {
          "name": "stderr",
          "output_type": "stream",
          "text": [
            "DEBUG flwr 2024-04-26 17:03:49,629 | server.py:182 | evaluate_round 3 received 5 results and 0 failures\n",
            "DEBUG flwr 2024-04-26 17:03:49,631 | server.py:218 | fit_round 4: strategy sampled 5 clients (out of 5)\n"
          ]
        },
        {
          "name": "stdout",
          "output_type": "stream",
          "text": [
            " pid=29136)\u001b[0m Client 1 loss 0.04207658576965332\n",
            " pid=29136)\u001b[0m Client 1 accuracy 0.516\n",
            " pid=24244)\u001b[0m Client 4 loss 0.04202176189422607\n",
            " pid=24244)\u001b[0m Client 4 accuracy 0.508\n",
            " pid=15072)\u001b[0m Client 2 loss 0.04654476511478424\n",
            " pid=15072)\u001b[0m Client 2 accuracy 0.492\n",
            " pid=10004)\u001b[0m Client 0 loss 0.0443299446105957\n",
            " pid=10004)\u001b[0m Client 0 accuracy 0.52\n",
            " pid=10004)\u001b[0m [Client 3] fit, config: {'lr': 0.001}\n",
            " pid=29136)\u001b[0m [Client 2] fit, config: {'lr': 0.001}\n",
            " pid=24244)\u001b[0m [Client 0] fit, config: {'lr': 0.001}\n",
            " pid=15072)\u001b[0m [Client 4] fit, config: {'lr': 0.001}\n",
            " pid=27924)\u001b[0m [Client 1] fit, config: {'lr': 0.001}\n",
            " pid=10004)\u001b[0m Epoch 1: train loss 0.03980575129389763, accuracy 0.5455555555555556\n",
            " pid=24244)\u001b[0m Epoch 1: train loss 0.03868911415338516, accuracy 0.5477777777777778\n",
            " pid=15072)\u001b[0m Epoch 1: train loss 0.039623603224754333, accuracy 0.5502222222222222\n",
            " pid=27924)\u001b[0m Epoch 1: train loss 0.038710083812475204, accuracy 0.5564444444444444\n",
            " pid=29136)\u001b[0m Epoch 1: train loss 0.039224181324243546, accuracy 0.5571111111111111\n",
            " pid=10004)\u001b[0m Epoch 2: train loss 0.03616269305348396, accuracy 0.5913333333333334\n",
            " pid=24244)\u001b[0m Epoch 2: train loss 0.03498784452676773, accuracy 0.5973333333333334\n",
            " pid=27924)\u001b[0m Epoch 2: train loss 0.0352250374853611, accuracy 0.6055555555555555\n",
            " pid=15072)\u001b[0m Epoch 2: train loss 0.03632912039756775, accuracy 0.5913333333333334\n",
            " pid=29136)\u001b[0m Epoch 2: train loss 0.03573950380086899, accuracy 0.5962222222222222\n",
            " pid=10004)\u001b[0m Epoch 3: train loss 0.03370767831802368, accuracy 0.6195555555555555\n",
            " pid=24244)\u001b[0m Epoch 3: train loss 0.03219650685787201, accuracy 0.638\n",
            " pid=27924)\u001b[0m Epoch 3: train loss 0.032387834042310715, accuracy 0.6397777777777778\n",
            " pid=29136)\u001b[0m Epoch 3: train loss 0.032714780420064926, accuracy 0.6282222222222222\n",
            " pid=15072)\u001b[0m Epoch 3: train loss 0.033558085560798645, accuracy 0.6206666666666667\n",
            " pid=10004)\u001b[0m Epoch 4: train loss 0.030887946486473083, accuracy 0.6484444444444445\n",
            " pid=24244)\u001b[0m Epoch 4: train loss 0.02957076020538807, accuracy 0.6686666666666666\n",
            " pid=27924)\u001b[0m Epoch 4: train loss 0.030132930725812912, accuracy 0.6562222222222223\n",
            " pid=29136)\u001b[0m Epoch 4: train loss 0.03118998557329178, accuracy 0.6506666666666666\n",
            " pid=15072)\u001b[0m Epoch 4: train loss 0.030785027891397476, accuracy 0.6573333333333333\n",
            " pid=10004)\u001b[0m Epoch 5: train loss 0.028227725997567177, accuracy 0.684\n",
            " pid=24244)\u001b[0m Epoch 5: train loss 0.027223607525229454, accuracy 0.6986666666666667\n",
            " pid=27924)\u001b[0m Epoch 5: train loss 0.027431126683950424, accuracy 0.6831111111111111\n"
          ]
        },
        {
          "name": "stderr",
          "output_type": "stream",
          "text": [
            "DEBUG flwr 2024-04-26 17:04:17,866 | server.py:232 | fit_round 4 received 5 results and 0 failures\n",
            "DEBUG flwr 2024-04-26 17:04:17,902 | server.py:168 | evaluate_round 4: strategy sampled 5 clients (out of 5)\n"
          ]
        },
        {
          "name": "stdout",
          "output_type": "stream",
          "text": [
            " pid=29136)\u001b[0m Epoch 5: train loss 0.028115559369325638, accuracy 0.6908888888888889\n",
            " pid=15072)\u001b[0m Epoch 5: train loss 0.028735613450407982, accuracy 0.6746666666666666\n",
            " pid=29136)\u001b[0m [Client 3] evaluate, config: {}\n",
            " pid=29136)\u001b[0m Client 3 loss 0.04097168719768524\n",
            " pid=29136)\u001b[0m Client 3 accuracy 0.558\n",
            " pid=15072)\u001b[0m [Client 1] evaluate, config: {}\n",
            " pid=27924)\u001b[0m [Client 4] evaluate, config: {}\n",
            " pid=29136)\u001b[0m [Client 2] evaluate, config: {}\n",
            " pid=24244)\u001b[0m [Client 0] evaluate, config: {}\n"
          ]
        },
        {
          "name": "stderr",
          "output_type": "stream",
          "text": [
            "DEBUG flwr 2024-04-26 17:04:25,245 | server.py:182 | evaluate_round 4 received 5 results and 0 failures\n",
            "DEBUG flwr 2024-04-26 17:04:25,248 | server.py:218 | fit_round 5: strategy sampled 5 clients (out of 5)\n"
          ]
        },
        {
          "name": "stdout",
          "output_type": "stream",
          "text": [
            " pid=29136)\u001b[0m Client 2 loss 0.04589814019203186\n",
            " pid=29136)\u001b[0m Client 2 accuracy 0.528\n",
            " pid=24244)\u001b[0m Client 0 loss 0.04454211854934692\n",
            " pid=24244)\u001b[0m Client 0 accuracy 0.504\n",
            " pid=15072)\u001b[0m Client 1 loss 0.041747261881828306\n",
            " pid=15072)\u001b[0m Client 1 accuracy 0.544\n",
            " pid=27924)\u001b[0m Client 4 loss 0.041246583342552184\n",
            " pid=27924)\u001b[0m Client 4 accuracy 0.524\n",
            " pid=29136)\u001b[0m [Client 2] fit, config: {'lr': 0.001}\n",
            " pid=24244)\u001b[0m [Client 0] fit, config: {'lr': 0.001}\n",
            " pid=27924)\u001b[0m [Client 3] fit, config: {'lr': 0.001}\n",
            " pid=10004)\u001b[0m [Client 4] fit, config: {'lr': 0.001}\n",
            " pid=15072)\u001b[0m [Client 1] fit, config: {'lr': 0.001}\n",
            " pid=29136)\u001b[0m Epoch 1: train loss 0.03587359935045242, accuracy 0.5953333333333334\n",
            " pid=24244)\u001b[0m Epoch 1: train loss 0.03541659191250801, accuracy 0.5962222222222222\n",
            " pid=27924)\u001b[0m Epoch 1: train loss 0.03655119240283966, accuracy 0.5822222222222222\n",
            " pid=10004)\u001b[0m Epoch 1: train loss 0.03656476363539696, accuracy 0.5875555555555556\n",
            " pid=15072)\u001b[0m Epoch 1: train loss 0.035427603870630264, accuracy 0.5957777777777777\n",
            " pid=29136)\u001b[0m Epoch 2: train loss 0.0318279005587101, accuracy 0.6422222222222222\n",
            " pid=24244)\u001b[0m Epoch 2: train loss 0.031078657135367393, accuracy 0.6477777777777778\n",
            " pid=27924)\u001b[0m Epoch 2: train loss 0.03196823224425316, accuracy 0.6422222222222222\n",
            " pid=10004)\u001b[0m Epoch 2: train loss 0.032012030482292175, accuracy 0.6335555555555555\n",
            " pid=15072)\u001b[0m Epoch 2: train loss 0.030787546187639236, accuracy 0.6466666666666666\n",
            " pid=29136)\u001b[0m Epoch 3: train loss 0.028566304594278336, accuracy 0.6802222222222222\n",
            " pid=27924)\u001b[0m Epoch 3: train loss 0.029021291062235832, accuracy 0.6742222222222222\n",
            " pid=24244)\u001b[0m Epoch 3: train loss 0.027686331421136856, accuracy 0.6828888888888889\n",
            " pid=10004)\u001b[0m Epoch 3: train loss 0.029113365337252617, accuracy 0.6673333333333333\n",
            " pid=15072)\u001b[0m Epoch 3: train loss 0.028057167306542397, accuracy 0.6797777777777778\n",
            " pid=29136)\u001b[0m Epoch 4: train loss 0.0254462119191885, accuracy 0.7135555555555556\n",
            " pid=27924)\u001b[0m Epoch 4: train loss 0.026157861575484276, accuracy 0.7033333333333334\n",
            " pid=24244)\u001b[0m Epoch 4: train loss 0.02477048709988594, accuracy 0.722\n",
            " pid=10004)\u001b[0m Epoch 4: train loss 0.02608408033847809, accuracy 0.706\n",
            " pid=15072)\u001b[0m Epoch 4: train loss 0.025144794955849648, accuracy 0.7193333333333334\n",
            " pid=29136)\u001b[0m Epoch 5: train loss 0.02300574630498886, accuracy 0.7473333333333333\n",
            " pid=27924)\u001b[0m Epoch 5: train loss 0.02351089008152485, accuracy 0.7362222222222222\n",
            " pid=24244)\u001b[0m Epoch 5: train loss 0.021795209497213364, accuracy 0.7588888888888888\n",
            " pid=10004)\u001b[0m Epoch 5: train loss 0.023195087909698486, accuracy 0.736\n"
          ]
        },
        {
          "name": "stderr",
          "output_type": "stream",
          "text": [
            "DEBUG flwr 2024-04-26 17:04:52,916 | server.py:232 | fit_round 5 received 5 results and 0 failures\n",
            "DEBUG flwr 2024-04-26 17:04:52,954 | server.py:168 | evaluate_round 5: strategy sampled 5 clients (out of 5)\n"
          ]
        },
        {
          "name": "stdout",
          "output_type": "stream",
          "text": [
            " pid=15072)\u001b[0m Epoch 5: train loss 0.021519646048545837, accuracy 0.7575555555555555\n",
            " pid=15072)\u001b[0m [Client 0] evaluate, config: {}\n",
            " pid=15072)\u001b[0m Client 0 loss 0.046223840236663816\n",
            " pid=15072)\u001b[0m Client 0 accuracy 0.52\n",
            " pid=15072)\u001b[0m [Client 1] evaluate, config: {}\n",
            " pid=10004)\u001b[0m [Client 3] evaluate, config: {}\n"
          ]
        },
        {
          "name": "stderr",
          "output_type": "stream",
          "text": [
            "DEBUG flwr 2024-04-26 17:05:00,140 | server.py:182 | evaluate_round 5 received 5 results and 0 failures\n"
          ]
        },
        {
          "name": "stdout",
          "output_type": "stream",
          "text": [
            " pid=24244)\u001b[0m [Client 4] evaluate, config: {}\n",
            " pid=27924)\u001b[0m [Client 2] evaluate, config: {}\n",
            " pid=24244)\u001b[0m Client 4 loss 0.04250359582901001\n",
            " pid=24244)\u001b[0m Client 4 accuracy 0.532\n",
            " pid=15072)\u001b[0m Client 1 loss 0.04218168246746063\n",
            " pid=15072)\u001b[0m Client 1 accuracy 0.558\n",
            " pid=10004)\u001b[0m Client 3 loss 0.041582977175712584\n",
            " pid=10004)\u001b[0m Client 3 accuracy 0.562\n"
          ]
        },
        {
          "name": "stderr",
          "output_type": "stream",
          "text": [
            "DEBUG flwr 2024-04-26 17:05:00,142 | server.py:218 | fit_round 6: strategy sampled 5 clients (out of 5)\n"
          ]
        },
        {
          "name": "stdout",
          "output_type": "stream",
          "text": [
            " pid=27924)\u001b[0m Client 2 loss 0.04708762896060944\n",
            " pid=27924)\u001b[0m Client 2 accuracy 0.53\n",
            " pid=24244)\u001b[0m [Client 2] fit, config: {'lr': 0.001}\n",
            " pid=27924)\u001b[0m [Client 0] fit, config: {'lr': 0.001}\n",
            " pid=29136)\u001b[0m [Client 4] fit, config: {'lr': 0.001}\n",
            " pid=15072)\u001b[0m [Client 3] fit, config: {'lr': 0.001}\n",
            " pid=10004)\u001b[0m [Client 1] fit, config: {'lr': 0.001}\n",
            " pid=27924)\u001b[0m Epoch 1: train loss 0.032984424382448196, accuracy 0.6204444444444445\n",
            " pid=24244)\u001b[0m Epoch 1: train loss 0.03323632478713989, accuracy 0.6257777777777778\n",
            " pid=15072)\u001b[0m Epoch 1: train loss 0.033816318958997726, accuracy 0.6075555555555555\n",
            " pid=29136)\u001b[0m Epoch 1: train loss 0.0340382419526577, accuracy 0.6111111111111112\n",
            " pid=10004)\u001b[0m Epoch 1: train loss 0.03217891976237297, accuracy 0.6308888888888889\n",
            " pid=24244)\u001b[0m Epoch 2: train loss 0.027979018166661263, accuracy 0.6815555555555556\n",
            " pid=27924)\u001b[0m Epoch 2: train loss 0.02719925530254841, accuracy 0.6975555555555556\n",
            " pid=15072)\u001b[0m Epoch 2: train loss 0.028094250708818436, accuracy 0.6897777777777778\n",
            " pid=29136)\u001b[0m Epoch 2: train loss 0.028114110231399536, accuracy 0.6851111111111111\n",
            " pid=10004)\u001b[0m Epoch 2: train loss 0.026726027950644493, accuracy 0.6971111111111111\n",
            " pid=27924)\u001b[0m Epoch 3: train loss 0.02350117452442646, accuracy 0.7353333333333333\n",
            " pid=24244)\u001b[0m Epoch 3: train loss 0.023925332352519035, accuracy 0.7286666666666667\n",
            " pid=29136)\u001b[0m Epoch 3: train loss 0.025268694385886192, accuracy 0.7135555555555556\n",
            " pid=15072)\u001b[0m Epoch 3: train loss 0.02449655905365944, accuracy 0.7268888888888889\n",
            " pid=10004)\u001b[0m Epoch 3: train loss 0.023330090567469597, accuracy 0.7346666666666667\n",
            " pid=27924)\u001b[0m Epoch 4: train loss 0.020805740728974342, accuracy 0.7677777777777778\n",
            " pid=24244)\u001b[0m Epoch 4: train loss 0.02072068117558956, accuracy 0.7744444444444445\n",
            " pid=29136)\u001b[0m Epoch 4: train loss 0.021651575341820717, accuracy 0.7637777777777778\n",
            " pid=15072)\u001b[0m Epoch 4: train loss 0.02170226350426674, accuracy 0.7597777777777778\n",
            " pid=10004)\u001b[0m Epoch 4: train loss 0.019762711599469185, accuracy 0.7833333333333333\n",
            " pid=27924)\u001b[0m Epoch 5: train loss 0.017650282010436058, accuracy 0.8122222222222222\n",
            " pid=24244)\u001b[0m Epoch 5: train loss 0.017715703696012497, accuracy 0.8113333333333334\n",
            " pid=29136)\u001b[0m Epoch 5: train loss 0.01836184598505497, accuracy 0.8026666666666666\n",
            " pid=15072)\u001b[0m Epoch 5: train loss 0.018310977146029472, accuracy 0.7973333333333333\n"
          ]
        },
        {
          "name": "stderr",
          "output_type": "stream",
          "text": [
            "DEBUG flwr 2024-04-26 17:05:27,950 | server.py:232 | fit_round 6 received 5 results and 0 failures\n",
            "DEBUG flwr 2024-04-26 17:05:27,990 | server.py:168 | evaluate_round 6: strategy sampled 5 clients (out of 5)\n"
          ]
        },
        {
          "name": "stdout",
          "output_type": "stream",
          "text": [
            " pid=10004)\u001b[0m Epoch 5: train loss 0.017413843423128128, accuracy 0.8095555555555556\n",
            " pid=10004)\u001b[0m [Client 4] evaluate, config: {}\n",
            " pid=10004)\u001b[0m Client 4 loss 0.04488108682632446\n",
            " pid=10004)\u001b[0m Client 4 accuracy 0.516\n",
            " pid=15072)\u001b[0m [Client 0] evaluate, config: {}\n",
            " pid=10004)\u001b[0m [Client 2] evaluate, config: {}\n"
          ]
        },
        {
          "name": "stderr",
          "output_type": "stream",
          "text": [
            "DEBUG flwr 2024-04-26 17:05:35,154 | server.py:182 | evaluate_round 6 received 5 results and 0 failures\n"
          ]
        },
        {
          "name": "stdout",
          "output_type": "stream",
          "text": [
            " pid=29136)\u001b[0m [Client 1] evaluate, config: {}\n",
            " pid=24244)\u001b[0m [Client 3] evaluate, config: {}\n",
            " pid=29136)\u001b[0m Client 1 loss 0.043051743507385255\n",
            " pid=29136)\u001b[0m Client 1 accuracy 0.584\n",
            " pid=15072)\u001b[0m Client 0 loss 0.049636592626571656\n",
            " pid=15072)\u001b[0m Client 0 accuracy 0.508\n",
            " pid=10004)\u001b[0m Client 2 loss 0.04930897319316864\n",
            " pid=10004)\u001b[0m Client 2 accuracy 0.534\n"
          ]
        },
        {
          "name": "stderr",
          "output_type": "stream",
          "text": [
            "DEBUG flwr 2024-04-26 17:05:35,157 | server.py:218 | fit_round 7: strategy sampled 5 clients (out of 5)\n"
          ]
        },
        {
          "name": "stdout",
          "output_type": "stream",
          "text": [
            " pid=24244)\u001b[0m Client 3 loss 0.04412045049667358\n",
            " pid=24244)\u001b[0m Client 3 accuracy 0.56\n",
            " pid=24244)\u001b[0m [Client 4] fit, config: {'lr': 0.001}\n",
            " pid=10004)\u001b[0m [Client 1] fit, config: {'lr': 0.001}\n",
            " pid=29136)\u001b[0m [Client 0] fit, config: {'lr': 0.001}\n",
            " pid=15072)\u001b[0m [Client 3] fit, config: {'lr': 0.001}\n",
            " pid=27924)\u001b[0m [Client 2] fit, config: {'lr': 0.001}\n",
            " pid=24244)\u001b[0m Epoch 1: train loss 0.03164387866854668, accuracy 0.6406666666666667\n",
            " pid=29136)\u001b[0m Epoch 1: train loss 0.030345255509018898, accuracy 0.6548888888888889\n",
            " pid=15072)\u001b[0m Epoch 1: train loss 0.031399186700582504, accuracy 0.6422222222222222\n",
            " pid=10004)\u001b[0m Epoch 1: train loss 0.029355468228459358, accuracy 0.662\n",
            " pid=27924)\u001b[0m Epoch 1: train loss 0.030472351238131523, accuracy 0.6591111111111111\n",
            " pid=24244)\u001b[0m Epoch 2: train loss 0.024983374401926994, accuracy 0.7102222222222222\n",
            " pid=29136)\u001b[0m Epoch 2: train loss 0.023994209244847298, accuracy 0.7311111111111112\n",
            " pid=27924)\u001b[0m Epoch 2: train loss 0.024207307025790215, accuracy 0.7271111111111112\n",
            " pid=15072)\u001b[0m Epoch 2: train loss 0.024362120777368546, accuracy 0.7224444444444444\n",
            " pid=10004)\u001b[0m Epoch 2: train loss 0.023390838876366615, accuracy 0.7328888888888889\n",
            " pid=24244)\u001b[0m Epoch 3: train loss 0.0207986980676651, accuracy 0.772\n",
            " pid=15072)\u001b[0m Epoch 3: train loss 0.02061265893280506, accuracy 0.7764444444444445\n",
            " pid=27924)\u001b[0m Epoch 3: train loss 0.019472559913992882, accuracy 0.7866666666666666\n",
            " pid=10004)\u001b[0m Epoch 3: train loss 0.01913745328783989, accuracy 0.7853333333333333\n",
            " pid=29136)\u001b[0m Epoch 3: train loss 0.019652143120765686, accuracy 0.7826666666666666\n",
            " pid=24244)\u001b[0m Epoch 4: train loss 0.01725088618695736, accuracy 0.8115555555555556\n",
            " pid=27924)\u001b[0m Epoch 4: train loss 0.015798958018422127, accuracy 0.8268888888888889\n",
            " pid=10004)\u001b[0m Epoch 4: train loss 0.016592198982834816, accuracy 0.8168888888888889\n",
            " pid=29136)\u001b[0m Epoch 4: train loss 0.016441376879811287, accuracy 0.8177777777777778\n",
            " pid=15072)\u001b[0m Epoch 4: train loss 0.017046833410859108, accuracy 0.8151111111111111\n",
            " pid=24244)\u001b[0m Epoch 5: train loss 0.014193404465913773, accuracy 0.8477777777777777\n",
            " pid=29136)\u001b[0m Epoch 5: train loss 0.013651666231453419, accuracy 0.8551111111111112\n",
            " pid=10004)\u001b[0m Epoch 5: train loss 0.013057789765298367, accuracy 0.8608888888888889\n"
          ]
        },
        {
          "name": "stderr",
          "output_type": "stream",
          "text": [
            "DEBUG flwr 2024-04-26 17:06:03,386 | server.py:232 | fit_round 7 received 5 results and 0 failures\n",
            "DEBUG flwr 2024-04-26 17:06:03,424 | server.py:168 | evaluate_round 7: strategy sampled 5 clients (out of 5)\n"
          ]
        },
        {
          "name": "stdout",
          "output_type": "stream",
          "text": [
            " pid=15072)\u001b[0m Epoch 5: train loss 0.013874964788556099, accuracy 0.8555555555555555\n",
            " pid=27924)\u001b[0m Epoch 5: train loss 0.013227760791778564, accuracy 0.8586666666666667\n",
            " pid=15072)\u001b[0m [Client 0] evaluate, config: {}\n",
            " pid=27924)\u001b[0m [Client 4] evaluate, config: {}\n",
            " pid=10004)\u001b[0m [Client 2] evaluate, config: {}\n",
            " pid=15072)\u001b[0m Client 0 loss 0.05503317451477051\n",
            " pid=15072)\u001b[0m Client 0 accuracy 0.512\n",
            " pid=27924)\u001b[0m Client 4 loss 0.0497967883348465\n",
            " pid=27924)\u001b[0m Client 4 accuracy 0.524\n",
            " pid=10004)\u001b[0m Client 2 loss 0.054808610916137694\n",
            " pid=10004)\u001b[0m Client 2 accuracy 0.532\n"
          ]
        },
        {
          "name": "stderr",
          "output_type": "stream",
          "text": [
            "DEBUG flwr 2024-04-26 17:06:10,524 | server.py:182 | evaluate_round 7 received 5 results and 0 failures\n"
          ]
        },
        {
          "name": "stdout",
          "output_type": "stream",
          "text": [
            " pid=15072)\u001b[0m [Client 3] evaluate, config: {}\n",
            " pid=10004)\u001b[0m [Client 1] evaluate, config: {}\n"
          ]
        },
        {
          "name": "stderr",
          "output_type": "stream",
          "text": [
            "DEBUG flwr 2024-04-26 17:06:10,527 | server.py:218 | fit_round 8: strategy sampled 5 clients (out of 5)\n"
          ]
        },
        {
          "name": "stdout",
          "output_type": "stream",
          "text": [
            " pid=15072)\u001b[0m Client 3 loss 0.048693578481674195\n",
            " pid=15072)\u001b[0m Client 3 accuracy 0.536\n",
            " pid=10004)\u001b[0m Client 1 loss 0.04854714822769165\n",
            " pid=10004)\u001b[0m Client 1 accuracy 0.556\n",
            " pid=29136)\u001b[0m [Client 1] fit, config: {'lr': 0.001}\n",
            " pid=24244)\u001b[0m [Client 2] fit, config: {'lr': 0.001}\n",
            " pid=15072)\u001b[0m [Client 3] fit, config: {'lr': 0.001}\n",
            " pid=27924)\u001b[0m [Client 0] fit, config: {'lr': 0.001}\n",
            " pid=10004)\u001b[0m [Client 4] fit, config: {'lr': 0.001}\n",
            " pid=10004)\u001b[0m Epoch 1: train loss 0.029683692380785942, accuracy 0.6704444444444444\n",
            " pid=24244)\u001b[0m Epoch 1: train loss 0.028263455256819725, accuracy 0.6842222222222222\n",
            " pid=15072)\u001b[0m Epoch 1: train loss 0.029322907328605652, accuracy 0.6666666666666666\n",
            " pid=27924)\u001b[0m Epoch 1: train loss 0.02874240092933178, accuracy 0.6771111111111111\n",
            " pid=29136)\u001b[0m Epoch 1: train loss 0.02809303253889084, accuracy 0.6768888888888889\n",
            " pid=10004)\u001b[0m Epoch 2: train loss 0.02196601778268814, accuracy 0.7557777777777778\n",
            " pid=29136)\u001b[0m Epoch 2: train loss 0.01982954703271389, accuracy 0.7728888888888888\n",
            " pid=24244)\u001b[0m Epoch 2: train loss 0.020339924842119217, accuracy 0.776\n",
            " pid=15072)\u001b[0m Epoch 2: train loss 0.021474843844771385, accuracy 0.762\n",
            " pid=27924)\u001b[0m Epoch 2: train loss 0.02112000063061714, accuracy 0.7544444444444445\n",
            " pid=10004)\u001b[0m Epoch 3: train loss 0.017282851040363312, accuracy 0.8137777777777778\n",
            " pid=24244)\u001b[0m Epoch 3: train loss 0.016163891181349754, accuracy 0.8251111111111111\n",
            " pid=29136)\u001b[0m Epoch 3: train loss 0.016061384230852127, accuracy 0.8188888888888889\n",
            " pid=15072)\u001b[0m Epoch 3: train loss 0.016932908445596695, accuracy 0.8124444444444444\n",
            " pid=27924)\u001b[0m Epoch 3: train loss 0.016597948968410492, accuracy 0.8146666666666667\n",
            " pid=10004)\u001b[0m Epoch 4: train loss 0.014630984514951706, accuracy 0.84\n",
            " pid=27924)\u001b[0m Epoch 4: train loss 0.013663340359926224, accuracy 0.8513333333333334\n",
            " pid=29136)\u001b[0m Epoch 4: train loss 0.012127496302127838, accuracy 0.8693333333333333\n",
            " pid=24244)\u001b[0m Epoch 4: train loss 0.012567676603794098, accuracy 0.8646666666666667\n",
            " pid=15072)\u001b[0m Epoch 4: train loss 0.013845892623066902, accuracy 0.8553333333333333\n",
            " pid=10004)\u001b[0m Epoch 5: train loss 0.011982484720647335, accuracy 0.87\n",
            " pid=27924)\u001b[0m Epoch 5: train loss 0.010495718568563461, accuracy 0.8893333333333333\n",
            " pid=29136)\u001b[0m Epoch 5: train loss 0.009915150701999664, accuracy 0.8991111111111111\n",
            " pid=15072)\u001b[0m Epoch 5: train loss 0.011186832562088966, accuracy 0.8817777777777778\n"
          ]
        },
        {
          "name": "stderr",
          "output_type": "stream",
          "text": [
            "DEBUG flwr 2024-04-26 17:06:38,317 | server.py:232 | fit_round 8 received 5 results and 0 failures\n",
            "DEBUG flwr 2024-04-26 17:06:38,361 | server.py:168 | evaluate_round 8: strategy sampled 5 clients (out of 5)\n"
          ]
        },
        {
          "name": "stdout",
          "output_type": "stream",
          "text": [
            " pid=24244)\u001b[0m Epoch 5: train loss 0.0100124916061759, accuracy 0.8942222222222223\n",
            " pid=24244)\u001b[0m [Client 4] evaluate, config: {}\n",
            " pid=24244)\u001b[0m Client 4 loss 0.05472660720348358\n",
            " pid=24244)\u001b[0m Client 4 accuracy 0.528\n",
            " pid=24244)\u001b[0m [Client 2] evaluate, config: {}\n",
            " pid=27924)\u001b[0m [Client 3] evaluate, config: {}\n",
            " pid=15072)\u001b[0m [Client 1] evaluate, config: {}\n"
          ]
        },
        {
          "name": "stderr",
          "output_type": "stream",
          "text": [
            "DEBUG flwr 2024-04-26 17:06:45,465 | server.py:182 | evaluate_round 8 received 5 results and 0 failures\n",
            "DEBUG flwr 2024-04-26 17:06:45,467 | server.py:218 | fit_round 9: strategy sampled 5 clients (out of 5)\n"
          ]
        },
        {
          "name": "stdout",
          "output_type": "stream",
          "text": [
            " pid=29136)\u001b[0m [Client 0] evaluate, config: {}\n",
            " pid=29136)\u001b[0m Client 0 loss 0.05950601172447205\n",
            " pid=29136)\u001b[0m Client 0 accuracy 0.51\n",
            " pid=24244)\u001b[0m Client 2 loss 0.06157743763923645\n",
            " pid=24244)\u001b[0m Client 2 accuracy 0.528\n",
            " pid=15072)\u001b[0m Client 1 loss 0.05258547222614288\n",
            " pid=15072)\u001b[0m Client 1 accuracy 0.56\n",
            " pid=27924)\u001b[0m Client 3 loss 0.053899239778518675\n",
            " pid=27924)\u001b[0m Client 3 accuracy 0.532\n",
            " pid=29136)\u001b[0m [Client 2] fit, config: {'lr': 0.001}\n",
            " pid=24244)\u001b[0m [Client 4] fit, config: {'lr': 0.001}\n",
            " pid=15072)\u001b[0m [Client 3] fit, config: {'lr': 0.001}\n",
            " pid=27924)\u001b[0m [Client 0] fit, config: {'lr': 0.001}\n",
            " pid=10004)\u001b[0m [Client 1] fit, config: {'lr': 0.001}\n",
            " pid=29136)\u001b[0m Epoch 1: train loss 0.025874163955450058, accuracy 0.7148888888888889\n",
            " pid=15072)\u001b[0m Epoch 1: train loss 0.027653411030769348, accuracy 0.6855555555555556\n",
            " pid=27924)\u001b[0m Epoch 1: train loss 0.026458637788891792, accuracy 0.7008888888888889\n",
            " pid=24244)\u001b[0m Epoch 1: train loss 0.02805870957672596, accuracy 0.6846666666666666\n",
            " pid=10004)\u001b[0m Epoch 1: train loss 0.025736456736922264, accuracy 0.7095555555555556\n",
            " pid=29136)\u001b[0m Epoch 2: train loss 0.017891237512230873, accuracy 0.8002222222222222\n",
            " pid=15072)\u001b[0m Epoch 2: train loss 0.01793769747018814, accuracy 0.8046666666666666\n",
            " pid=27924)\u001b[0m Epoch 2: train loss 0.017549937590956688, accuracy 0.8006666666666666\n",
            " pid=10004)\u001b[0m Epoch 2: train loss 0.017009690403938293, accuracy 0.8064444444444444\n",
            " pid=24244)\u001b[0m Epoch 2: train loss 0.01879221387207508, accuracy 0.7897777777777778\n",
            " pid=29136)\u001b[0m Epoch 3: train loss 0.01307221781462431, accuracy 0.8597777777777778\n",
            " pid=15072)\u001b[0m Epoch 3: train loss 0.0138716921210289, accuracy 0.8564444444444445\n",
            " pid=24244)\u001b[0m Epoch 3: train loss 0.014527371153235435, accuracy 0.8388888888888889\n",
            " pid=27924)\u001b[0m Epoch 3: train loss 0.013555020093917847, accuracy 0.8506666666666667\n",
            " pid=10004)\u001b[0m Epoch 3: train loss 0.012708041816949844, accuracy 0.8695555555555555\n",
            " pid=29136)\u001b[0m Epoch 4: train loss 0.010245533660054207, accuracy 0.8902222222222222\n",
            " pid=27924)\u001b[0m Epoch 4: train loss 0.010280052199959755, accuracy 0.8895555555555555\n",
            " pid=15072)\u001b[0m Epoch 4: train loss 0.010495166294276714, accuracy 0.8955555555555555\n",
            " pid=24244)\u001b[0m Epoch 4: train loss 0.011083757504820824, accuracy 0.8844444444444445\n",
            " pid=10004)\u001b[0m Epoch 4: train loss 0.009818313643336296, accuracy 0.8962222222222223\n",
            " pid=29136)\u001b[0m Epoch 5: train loss 0.007618302013725042, accuracy 0.9273333333333333\n"
          ]
        },
        {
          "name": "stderr",
          "output_type": "stream",
          "text": [
            "DEBUG flwr 2024-04-26 17:07:13,426 | server.py:232 | fit_round 9 received 5 results and 0 failures\n"
          ]
        },
        {
          "name": "stdout",
          "output_type": "stream",
          "text": [
            " pid=15072)\u001b[0m Epoch 5: train loss 0.007680070586502552, accuracy 0.9266666666666666\n",
            " pid=10004)\u001b[0m Epoch 5: train loss 0.007422684691846371, accuracy 0.9255555555555556\n",
            " pid=27924)\u001b[0m Epoch 5: train loss 0.008464273065328598, accuracy 0.9177777777777778\n",
            " pid=24244)\u001b[0m Epoch 5: train loss 0.008752061054110527, accuracy 0.916\n"
          ]
        },
        {
          "name": "stderr",
          "output_type": "stream",
          "text": [
            "DEBUG flwr 2024-04-26 17:07:13,459 | server.py:168 | evaluate_round 9: strategy sampled 5 clients (out of 5)\n"
          ]
        },
        {
          "name": "stdout",
          "output_type": "stream",
          "text": [
            " pid=24244)\u001b[0m [Client 0] evaluate, config: {}\n",
            " pid=27924)\u001b[0m [Client 3] evaluate, config: {}\n",
            " pid=24244)\u001b[0m Client 0 loss 0.06526149868965149\n",
            " pid=24244)\u001b[0m Client 0 accuracy 0.512\n",
            " pid=27924)\u001b[0m Client 3 loss 0.05876892113685608\n",
            " pid=27924)\u001b[0m Client 3 accuracy 0.536\n",
            " pid=10004)\u001b[0m [Client 1] evaluate, config: {}\n",
            " pid=24244)\u001b[0m [Client 2] evaluate, config: {}\n"
          ]
        },
        {
          "name": "stderr",
          "output_type": "stream",
          "text": [
            "DEBUG flwr 2024-04-26 17:07:20,727 | server.py:182 | evaluate_round 9 received 5 results and 0 failures\n",
            "DEBUG flwr 2024-04-26 17:07:20,730 | server.py:218 | fit_round 10: strategy sampled 5 clients (out of 5)\n"
          ]
        },
        {
          "name": "stdout",
          "output_type": "stream",
          "text": [
            " pid=27924)\u001b[0m [Client 4] evaluate, config: {}\n",
            " pid=24244)\u001b[0m Client 2 loss 0.0651671290397644\n",
            " pid=24244)\u001b[0m Client 2 accuracy 0.526\n",
            " pid=10004)\u001b[0m Client 1 loss 0.05840994787216187\n",
            " pid=10004)\u001b[0m Client 1 accuracy 0.548\n",
            " pid=27924)\u001b[0m Client 4 loss 0.05920332360267639\n",
            " pid=27924)\u001b[0m Client 4 accuracy 0.522\n",
            " pid=27924)\u001b[0m [Client 3] fit, config: {'lr': 0.001}\n",
            " pid=24244)\u001b[0m [Client 2] fit, config: {'lr': 0.001}\n",
            " pid=29136)\u001b[0m [Client 1] fit, config: {'lr': 0.001}\n",
            " pid=15072)\u001b[0m [Client 0] fit, config: {'lr': 0.001}\n",
            " pid=10004)\u001b[0m [Client 4] fit, config: {'lr': 0.001}\n",
            " pid=27924)\u001b[0m Epoch 1: train loss 0.02575773373246193, accuracy 0.7133333333333334\n",
            " pid=24244)\u001b[0m Epoch 1: train loss 0.02472100406885147, accuracy 0.722\n",
            " pid=29136)\u001b[0m Epoch 1: train loss 0.02456001192331314, accuracy 0.718\n",
            " pid=15072)\u001b[0m Epoch 1: train loss 0.024589506909251213, accuracy 0.7271111111111112\n",
            " pid=10004)\u001b[0m Epoch 1: train loss 0.026180671527981758, accuracy 0.7075555555555556\n",
            " pid=27924)\u001b[0m Epoch 2: train loss 0.015797406435012817, accuracy 0.8246666666666667\n",
            " pid=24244)\u001b[0m Epoch 2: train loss 0.01497846469283104, accuracy 0.8353333333333334\n",
            " pid=29136)\u001b[0m Epoch 2: train loss 0.015128358267247677, accuracy 0.8282222222222222\n",
            " pid=15072)\u001b[0m Epoch 2: train loss 0.015161204151809216, accuracy 0.8255555555555556\n",
            " pid=10004)\u001b[0m Epoch 2: train loss 0.015920374542474747, accuracy 0.8233333333333334\n",
            " pid=27924)\u001b[0m Epoch 3: train loss 0.011851976625621319, accuracy 0.8724444444444445\n",
            " pid=24244)\u001b[0m Epoch 3: train loss 0.010898145847022533, accuracy 0.8813333333333333\n",
            " pid=29136)\u001b[0m Epoch 3: train loss 0.01075548306107521, accuracy 0.8822222222222222\n",
            " pid=10004)\u001b[0m Epoch 3: train loss 0.011668424122035503, accuracy 0.8784444444444445\n",
            " pid=15072)\u001b[0m Epoch 3: train loss 0.011005143634974957, accuracy 0.8848888888888888\n",
            " pid=27924)\u001b[0m Epoch 4: train loss 0.008406082168221474, accuracy 0.9182222222222223\n",
            " pid=24244)\u001b[0m Epoch 4: train loss 0.008753977715969086, accuracy 0.9113333333333333\n",
            " pid=29136)\u001b[0m Epoch 4: train loss 0.007582779973745346, accuracy 0.9248888888888889\n",
            " pid=10004)\u001b[0m Epoch 4: train loss 0.00868731178343296, accuracy 0.9088888888888889\n",
            " pid=15072)\u001b[0m Epoch 4: train loss 0.007774533703923225, accuracy 0.9195555555555556\n",
            " pid=27924)\u001b[0m Epoch 5: train loss 0.00622534891590476, accuracy 0.9435555555555556\n",
            " pid=24244)\u001b[0m Epoch 5: train loss 0.005613768473267555, accuracy 0.9497777777777778\n"
          ]
        },
        {
          "name": "stderr",
          "output_type": "stream",
          "text": [
            "DEBUG flwr 2024-04-26 17:07:48,525 | server.py:232 | fit_round 10 received 5 results and 0 failures\n"
          ]
        },
        {
          "name": "stdout",
          "output_type": "stream",
          "text": [
            " pid=10004)\u001b[0m Epoch 5: train loss 0.0072134435176849365, accuracy 0.9237777777777778\n",
            " pid=29136)\u001b[0m Epoch 5: train loss 0.005833578761667013, accuracy 0.9422222222222222\n"
          ]
        },
        {
          "name": "stderr",
          "output_type": "stream",
          "text": [
            "DEBUG flwr 2024-04-26 17:07:48,544 | server.py:168 | evaluate_round 10: strategy sampled 5 clients (out of 5)\n"
          ]
        },
        {
          "name": "stdout",
          "output_type": "stream",
          "text": [
            " pid=15072)\u001b[0m Epoch 5: train loss 0.006032404489815235, accuracy 0.942\n",
            " pid=15072)\u001b[0m [Client 4] evaluate, config: {}\n",
            " pid=15072)\u001b[0m Client 4 loss 0.06479401659965515\n",
            " pid=15072)\u001b[0m Client 4 accuracy 0.536\n",
            " pid=29136)\u001b[0m [Client 3] evaluate, config: {}\n",
            " pid=15072)\u001b[0m [Client 1] evaluate, config: {}\n",
            " pid=10004)\u001b[0m [Client 2] evaluate, config: {}\n"
          ]
        },
        {
          "name": "stderr",
          "output_type": "stream",
          "text": [
            "DEBUG flwr 2024-04-26 17:07:55,809 | server.py:182 | evaluate_round 10 received 5 results and 0 failures\n",
            "INFO flwr 2024-04-26 17:07:55,811 | server.py:147 | FL finished in 353.98450720000255\n",
            "INFO flwr 2024-04-26 17:07:55,812 | app.py:218 | app_fit: losses_distributed [(1, 0.05526458411216736), (2, 0.04518063118457794), (3, 0.04336182243824005), (4, 0.042881158232688905), (5, 0.043915944933891296), (6, 0.04619976933002472), (7, 0.05137586009502411), (8, 0.05645895371437073), (9, 0.06136216406822205), (10, 0.06766163568496704)]\n",
            "INFO flwr 2024-04-26 17:07:55,814 | app.py:219 | app_fit: metrics_distributed_fit {}\n",
            "INFO flwr 2024-04-26 17:07:55,815 | app.py:220 | app_fit: metrics_distributed {}\n",
            "INFO flwr 2024-04-26 17:07:55,816 | app.py:221 | app_fit: losses_centralized []\n",
            "INFO flwr 2024-04-26 17:07:55,817 | app.py:222 | app_fit: metrics_centralized {}\n"
          ]
        },
        {
          "name": "stdout",
          "output_type": "stream",
          "text": [
            " pid=24244)\u001b[0m [Client 0] evaluate, config: {}\n",
            " pid=15072)\u001b[0m Client 1 loss 0.06667416024208069\n",
            " pid=15072)\u001b[0m Client 1 accuracy 0.54\n",
            " pid=29136)\u001b[0m Client 3 loss 0.06476444959640502\n",
            " pid=29136)\u001b[0m Client 3 accuracy 0.554\n"
          ]
        },
        {
          "data": {
            "text/plain": [
              "History (loss, distributed):\n",
              "\tround 1: 0.05526458411216736\n",
              "\tround 2: 0.04518063118457794\n",
              "\tround 3: 0.04336182243824005\n",
              "\tround 4: 0.042881158232688905\n",
              "\tround 5: 0.043915944933891296\n",
              "\tround 6: 0.04619976933002472\n",
              "\tround 7: 0.05137586009502411\n",
              "\tround 8: 0.05645895371437073\n",
              "\tround 9: 0.06136216406822205\n",
              "\tround 10: 0.06766163568496704"
            ]
          },
          "execution_count": 25,
          "metadata": {},
          "output_type": "execute_result"
        },
        {
          "name": "stdout",
          "output_type": "stream",
          "text": [
            " pid=24244)\u001b[0m Client 0 loss 0.07001027870178222\n",
            " pid=24244)\u001b[0m Client 0 accuracy 0.516\n",
            " pid=10004)\u001b[0m Client 2 loss 0.0720652732849121\n",
            " pid=10004)\u001b[0m Client 2 accuracy 0.524\n"
          ]
        }
      ],
      "source": [
        "fl.simulation.start_simulation(\n",
        "    client_fn=client_fn,\n",
        "    num_clients=5,\n",
        "    config=fl.server.ServerConfig(num_rounds=10),\n",
        "    strategy=FedCustom(),  # <-- pass the new strategy here\n",
        "    client_resources=client_resources,\n",
        ")"
      ]
    },
    {
      "cell_type": "code",
      "execution_count": 26,
      "metadata": {},
      "outputs": [],
      "source": [
        "from typing import Callable, Union\n",
        "\n",
        "from flwr.common import (\n",
        "    EvaluateIns,\n",
        "    EvaluateRes,\n",
        "    FitIns,\n",
        "    FitRes,\n",
        "    MetricsAggregationFn,\n",
        "    NDArrays,\n",
        "    Parameters,\n",
        "    Scalar,\n",
        "    ndarrays_to_parameters,\n",
        "    parameters_to_ndarrays,\n",
        ")\n",
        "from flwr.server.client_manager import ClientManager\n",
        "from flwr.server.client_proxy import ClientProxy\n",
        "from flwr.server.strategy.aggregate import aggregate, weighted_loss_avg\n",
        "\n",
        "\n",
        "class FedCustom(fl.server.strategy.Strategy):\n",
        "    def __init__(\n",
        "        self,\n",
        "        fraction_fit: float = 1.0,\n",
        "        fraction_evaluate: float = 1.0,\n",
        "        min_fit_clients: int = 2,\n",
        "        min_evaluate_clients: int = 2,\n",
        "        min_available_clients: int = 2,\n",
        "    ) -> None:\n",
        "        super().__init__()\n",
        "        self.fraction_fit = fraction_fit\n",
        "        self.fraction_evaluate = fraction_evaluate\n",
        "        self.min_fit_clients = min_fit_clients\n",
        "        self.min_evaluate_clients = min_evaluate_clients\n",
        "        self.min_available_clients = min_available_clients\n",
        "\n",
        "    def __repr__(self) -> str:\n",
        "        return \"FedCustom\"\n",
        "\n",
        "    def initialize_parameters(\n",
        "        self, client_manager: ClientManager\n",
        "    ) -> Optional[Parameters]:\n",
        "        \"\"\"Initialize global model parameters.\"\"\"\n",
        "        net = Net()\n",
        "        ndarrays = get_parameters(net)\n",
        "        return fl.common.ndarrays_to_parameters(ndarrays)\n",
        "\n",
        "    def configure_fit(\n",
        "        self, server_round: int, parameters: Parameters, client_manager: ClientManager\n",
        "    ) -> List[Tuple[ClientProxy, FitIns]]:\n",
        "        \"\"\"Configure the next round of training.\"\"\"\n",
        "\n",
        "        # Sample clients\n",
        "        sample_size, min_num_clients = self.num_fit_clients(\n",
        "            client_manager.num_available()\n",
        "        )\n",
        "        clients = client_manager.sample(\n",
        "            num_clients=sample_size, min_num_clients=min_num_clients\n",
        "        )\n",
        "\n",
        "        # Create custom configs\n",
        "        n_clients = len(clients)\n",
        "        #half_clients = n_clients // 2\n",
        "        standard_config = {\"lr\": 0.0001}\n",
        "        higher_lr_config = {\"lr\": 0.003}\n",
        "        fit_configurations = []\n",
        "        for idx, client in enumerate(clients):\n",
        "            fit_configurations.append((client, FitIns(parameters, standard_config)))\n",
        "            # if idx < half_clients:\n",
        "            #     fit_configurations.append((client, FitIns(parameters, standard_config)))\n",
        "            # else:\n",
        "            #     fit_configurations.append(\n",
        "            #         (client, FitIns(parameters, higher_lr_config))\n",
        "            #     )\n",
        "        return fit_configurations\n",
        "\n",
        "    def aggregate_fit(\n",
        "        self,\n",
        "        server_round: int,\n",
        "        results: List[Tuple[ClientProxy, FitRes]],\n",
        "        failures: List[Union[Tuple[ClientProxy, FitRes], BaseException]],\n",
        "    ) -> Tuple[Optional[Parameters], Dict[str, Scalar]]:\n",
        "        \"\"\"Aggregate fit results using weighted average.\"\"\"\n",
        "\n",
        "        weights_results = [\n",
        "            (parameters_to_ndarrays(fit_res.parameters), fit_res.num_examples)\n",
        "            for _, fit_res in results\n",
        "        ]\n",
        "        parameters_aggregated = ndarrays_to_parameters(aggregate(weights_results))\n",
        "        metrics_aggregated = {}\n",
        "        return parameters_aggregated, metrics_aggregated\n",
        "\n",
        "    def configure_evaluate(\n",
        "        self, server_round: int, parameters: Parameters, client_manager: ClientManager\n",
        "    ) -> List[Tuple[ClientProxy, EvaluateIns]]:\n",
        "        \"\"\"Configure the next round of evaluation.\"\"\"\n",
        "        if self.fraction_evaluate == 0.0:\n",
        "            return []\n",
        "        config = {}\n",
        "        evaluate_ins = EvaluateIns(parameters, config)\n",
        "\n",
        "        # Sample clients\n",
        "        sample_size, min_num_clients = self.num_evaluation_clients(\n",
        "            client_manager.num_available()\n",
        "        )\n",
        "        clients = client_manager.sample(\n",
        "            num_clients=sample_size, min_num_clients=min_num_clients\n",
        "        )\n",
        "\n",
        "        # Return client/config pairs\n",
        "        return [(client, evaluate_ins) for client in clients]\n",
        "\n",
        "    def aggregate_evaluate(\n",
        "        self,\n",
        "        server_round: int,\n",
        "        results: List[Tuple[ClientProxy, EvaluateRes]],\n",
        "        failures: List[Union[Tuple[ClientProxy, EvaluateRes], BaseException]],\n",
        "    ) -> Tuple[Optional[float], Dict[str, Scalar]]:\n",
        "        \"\"\"Aggregate evaluation losses using weighted average.\"\"\"\n",
        "\n",
        "        if not results:\n",
        "            return None, {}\n",
        "\n",
        "        loss_aggregated = weighted_loss_avg(\n",
        "            [\n",
        "                (evaluate_res.num_examples, evaluate_res.loss)\n",
        "                for _, evaluate_res in results\n",
        "            ]\n",
        "        )\n",
        "        metrics_aggregated = {}\n",
        "        return loss_aggregated, metrics_aggregated\n",
        "\n",
        "    def evaluate(\n",
        "        self, server_round: int, parameters: Parameters\n",
        "    ) -> Optional[Tuple[float, Dict[str, Scalar]]]:\n",
        "        \"\"\"Evaluate global model parameters using an evaluation function.\"\"\"\n",
        "\n",
        "        # Let's assume we won't perform the global model evaluation on the server side.\n",
        "        return None\n",
        "\n",
        "    def num_fit_clients(self, num_available_clients: int) -> Tuple[int, int]:\n",
        "        \"\"\"Return sample size and required number of clients.\"\"\"\n",
        "        num_clients = int(num_available_clients * self.fraction_fit)\n",
        "        return max(num_clients, self.min_fit_clients), self.min_available_clients\n",
        "\n",
        "    def num_evaluation_clients(self, num_available_clients: int) -> Tuple[int, int]:\n",
        "        \"\"\"Use a fraction of available clients for evaluation.\"\"\"\n",
        "        num_clients = int(num_available_clients * self.fraction_evaluate)\n",
        "        return max(num_clients, self.min_evaluate_clients), self.min_available_clients"
      ]
    },
    {
      "cell_type": "code",
      "execution_count": 27,
      "metadata": {},
      "outputs": [
        {
          "name": "stderr",
          "output_type": "stream",
          "text": [
            "INFO flwr 2024-04-26 17:07:55,944 | app.py:146 | Starting Flower simulation, config: ServerConfig(num_rounds=10, round_timeout=None)\n",
            "INFO flwr 2024-04-26 17:08:10,551 | app.py:180 | Flower VCE: Ray initialized with resources: {'CPU': 32.0, 'object_store_memory': 32633033932.0, 'memory': 66143745844.0, 'node:127.0.0.1': 1.0, 'GPU': 1.0}\n",
            "INFO flwr 2024-04-26 17:08:10,554 | server.py:86 | Initializing global parameters\n",
            "INFO flwr 2024-04-26 17:08:10,564 | server.py:269 | Using initial parameters provided by strategy\n",
            "INFO flwr 2024-04-26 17:08:10,566 | server.py:88 | Evaluating initial parameters\n",
            "INFO flwr 2024-04-26 17:08:10,568 | server.py:101 | FL starting\n",
            "DEBUG flwr 2024-04-26 17:08:10,570 | server.py:218 | fit_round 1: strategy sampled 5 clients (out of 5)\n"
          ]
        },
        {
          "name": "stdout",
          "output_type": "stream",
          "text": [
            " pid=28516)\u001b[0m [Client 2] fit, config: {'lr': 0.0001}\n",
            " pid=22372)\u001b[0m [Client 3] fit, config: {'lr': 0.0001}\n",
            " pid=24600)\u001b[0m [Client 0] fit, config: {'lr': 0.0001}\n",
            " pid=30204)\u001b[0m [Client 4] fit, config: {'lr': 0.0001}\n",
            " pid=27788)\u001b[0m [Client 1] fit, config: {'lr': 0.0001}\n",
            " pid=28516)\u001b[0m Epoch 1: train loss 0.06471177190542221, accuracy 0.23777777777777778\n",
            " pid=22372)\u001b[0m Epoch 1: train loss 0.06432643532752991, accuracy 0.2331111111111111\n",
            " pid=24600)\u001b[0m Epoch 1: train loss 0.06451523303985596, accuracy 0.23955555555555555\n",
            " pid=30204)\u001b[0m Epoch 1: train loss 0.06430403143167496, accuracy 0.2288888888888889\n",
            " pid=27788)\u001b[0m Epoch 1: train loss 0.06504929810762405, accuracy 0.22111111111111112\n",
            " pid=28516)\u001b[0m Epoch 2: train loss 0.05569467321038246, accuracy 0.35088888888888886\n",
            " pid=22372)\u001b[0m Epoch 2: train loss 0.05553014948964119, accuracy 0.34644444444444444\n",
            " pid=30204)\u001b[0m Epoch 2: train loss 0.05503148213028908, accuracy 0.35777777777777775\n",
            " pid=27788)\u001b[0m Epoch 2: train loss 0.05618993565440178, accuracy 0.3466666666666667\n",
            " pid=24600)\u001b[0m Epoch 2: train loss 0.055389516055583954, accuracy 0.35644444444444445\n",
            " pid=28516)\u001b[0m Epoch 3: train loss 0.0518336221575737, accuracy 0.39955555555555555\n",
            " pid=22372)\u001b[0m Epoch 3: train loss 0.0517517514526844, accuracy 0.39266666666666666\n",
            " pid=27788)\u001b[0m Epoch 3: train loss 0.051122985780239105, accuracy 0.41333333333333333\n",
            " pid=24600)\u001b[0m Epoch 3: train loss 0.05145435035228729, accuracy 0.3968888888888889\n",
            " pid=30204)\u001b[0m Epoch 3: train loss 0.0506964810192585, accuracy 0.4093333333333333\n",
            " pid=28516)\u001b[0m Epoch 4: train loss 0.04869470000267029, accuracy 0.43022222222222223\n",
            " pid=22372)\u001b[0m Epoch 4: train loss 0.04848688095808029, accuracy 0.44333333333333336\n",
            " pid=27788)\u001b[0m Epoch 4: train loss 0.04818432405591011, accuracy 0.44022222222222224\n",
            " pid=30204)\u001b[0m Epoch 4: train loss 0.048318345099687576, accuracy 0.4371111111111111\n",
            " pid=24600)\u001b[0m Epoch 4: train loss 0.04798641800880432, accuracy 0.43866666666666665\n",
            " pid=28516)\u001b[0m Epoch 5: train loss 0.04613396152853966, accuracy 0.4653333333333333\n",
            " pid=22372)\u001b[0m Epoch 5: train loss 0.046582382172346115, accuracy 0.4631111111111111\n",
            " pid=27788)\u001b[0m Epoch 5: train loss 0.04499860107898712, accuracy 0.48088888888888887\n"
          ]
        },
        {
          "name": "stderr",
          "output_type": "stream",
          "text": [
            "DEBUG flwr 2024-04-26 17:08:40,674 | server.py:232 | fit_round 1 received 5 results and 0 failures\n",
            "DEBUG flwr 2024-04-26 17:08:40,725 | server.py:168 | evaluate_round 1: strategy sampled 5 clients (out of 5)\n"
          ]
        },
        {
          "name": "stdout",
          "output_type": "stream",
          "text": [
            " pid=30204)\u001b[0m Epoch 5: train loss 0.04526793956756592, accuracy 0.47688888888888886\n",
            " pid=24600)\u001b[0m Epoch 5: train loss 0.045819688588380814, accuracy 0.46066666666666667\n",
            " pid=24600)\u001b[0m [Client 3] evaluate, config: {}\n",
            " pid=30204)\u001b[0m [Client 4] evaluate, config: {}\n",
            " pid=24600)\u001b[0m Client 3 loss 0.05482020664215088\n",
            " pid=24600)\u001b[0m Client 3 accuracy 0.376\n",
            " pid=30204)\u001b[0m Client 4 loss 0.05357328152656555\n",
            " pid=30204)\u001b[0m Client 4 accuracy 0.416\n",
            " pid=30204)\u001b[0m [Client 2] evaluate, config: {}\n",
            " pid=24600)\u001b[0m [Client 1] evaluate, config: {}\n"
          ]
        },
        {
          "name": "stderr",
          "output_type": "stream",
          "text": [
            "DEBUG flwr 2024-04-26 17:08:47,777 | server.py:182 | evaluate_round 1 received 5 results and 0 failures\n",
            "DEBUG flwr 2024-04-26 17:08:47,779 | server.py:218 | fit_round 2: strategy sampled 5 clients (out of 5)\n"
          ]
        },
        {
          "name": "stdout",
          "output_type": "stream",
          "text": [
            " pid=27788)\u001b[0m [Client 0] evaluate, config: {}\n",
            " pid=24600)\u001b[0m Client 1 loss 0.055059516429901124\n",
            " pid=24600)\u001b[0m Client 1 accuracy 0.376\n",
            " pid=30204)\u001b[0m Client 2 loss 0.05544259738922119\n",
            " pid=30204)\u001b[0m Client 2 accuracy 0.38\n",
            " pid=27788)\u001b[0m Client 0 loss 0.055232582092285154\n",
            " pid=27788)\u001b[0m Client 0 accuracy 0.396\n",
            " pid=27788)\u001b[0m [Client 3] fit, config: {'lr': 0.0001}\n",
            " pid=28516)\u001b[0m [Client 0] fit, config: {'lr': 0.0001}\n",
            " pid=22372)\u001b[0m [Client 2] fit, config: {'lr': 0.0001}\n",
            " pid=24600)\u001b[0m [Client 1] fit, config: {'lr': 0.0001}\n",
            " pid=30204)\u001b[0m [Client 4] fit, config: {'lr': 0.0001}\n",
            " pid=27788)\u001b[0m Epoch 1: train loss 0.04957083985209465, accuracy 0.43066666666666664\n",
            " pid=24600)\u001b[0m Epoch 1: train loss 0.04862775653600693, accuracy 0.4497777777777778\n",
            " pid=30204)\u001b[0m Epoch 1: train loss 0.048819415271282196, accuracy 0.4262222222222222\n",
            " pid=22372)\u001b[0m Epoch 1: train loss 0.04958858713507652, accuracy 0.4222222222222222\n",
            " pid=28516)\u001b[0m Epoch 1: train loss 0.04889918863773346, accuracy 0.4308888888888889\n",
            " pid=27788)\u001b[0m Epoch 2: train loss 0.04633614420890808, accuracy 0.45844444444444443\n",
            " pid=22372)\u001b[0m Epoch 2: train loss 0.04585438594222069, accuracy 0.4677777777777778\n",
            " pid=24600)\u001b[0m Epoch 2: train loss 0.04582473635673523, accuracy 0.47755555555555557\n",
            " pid=30204)\u001b[0m Epoch 2: train loss 0.04568246752023697, accuracy 0.4722222222222222\n",
            " pid=28516)\u001b[0m Epoch 2: train loss 0.045755647122859955, accuracy 0.46355555555555555\n",
            " pid=27788)\u001b[0m Epoch 3: train loss 0.043974701315164566, accuracy 0.4955555555555556\n",
            " pid=22372)\u001b[0m Epoch 3: train loss 0.04344590753316879, accuracy 0.4948888888888889\n",
            " pid=30204)\u001b[0m Epoch 3: train loss 0.04293018952012062, accuracy 0.5073333333333333\n",
            " pid=24600)\u001b[0m Epoch 3: train loss 0.04302308335900307, accuracy 0.5095555555555555\n",
            " pid=28516)\u001b[0m Epoch 3: train loss 0.04331085458397865, accuracy 0.5015555555555555\n",
            " pid=27788)\u001b[0m Epoch 4: train loss 0.041597288101911545, accuracy 0.5193333333333333\n",
            " pid=22372)\u001b[0m Epoch 4: train loss 0.04085273668169975, accuracy 0.5266666666666666\n",
            " pid=30204)\u001b[0m Epoch 4: train loss 0.0408112108707428, accuracy 0.524\n",
            " pid=24600)\u001b[0m Epoch 4: train loss 0.040285732597112656, accuracy 0.5428888888888889\n",
            " pid=28516)\u001b[0m Epoch 4: train loss 0.04078872501850128, accuracy 0.5311111111111111\n",
            " pid=27788)\u001b[0m Epoch 5: train loss 0.03927867114543915, accuracy 0.5457777777777778\n",
            " pid=22372)\u001b[0m Epoch 5: train loss 0.038721002638339996, accuracy 0.5597777777777778\n",
            " pid=30204)\u001b[0m Epoch 5: train loss 0.03846217691898346, accuracy 0.5575555555555556\n",
            " pid=24600)\u001b[0m Epoch 5: train loss 0.03823404386639595, accuracy 0.5608888888888889\n"
          ]
        },
        {
          "name": "stderr",
          "output_type": "stream",
          "text": [
            "DEBUG flwr 2024-04-26 17:09:15,554 | server.py:232 | fit_round 2 received 5 results and 0 failures\n",
            "DEBUG flwr 2024-04-26 17:09:15,592 | server.py:168 | evaluate_round 2: strategy sampled 5 clients (out of 5)\n"
          ]
        },
        {
          "name": "stdout",
          "output_type": "stream",
          "text": [
            " pid=28516)\u001b[0m Epoch 5: train loss 0.0384756363928318, accuracy 0.5551111111111111\n",
            " pid=28516)\u001b[0m [Client 4] evaluate, config: {}\n",
            " pid=24600)\u001b[0m [Client 2] evaluate, config: {}\n",
            " pid=22372)\u001b[0m [Client 1] evaluate, config: {}\n",
            " pid=30204)\u001b[0m [Client 0] evaluate, config: {}\n",
            " pid=27788)\u001b[0m [Client 3] evaluate, config: {}\n"
          ]
        },
        {
          "name": "stderr",
          "output_type": "stream",
          "text": [
            "DEBUG flwr 2024-04-26 17:09:22,745 | server.py:182 | evaluate_round 2 received 5 results and 0 failures\n",
            "DEBUG flwr 2024-04-26 17:09:22,747 | server.py:218 | fit_round 3: strategy sampled 5 clients (out of 5)\n"
          ]
        },
        {
          "name": "stdout",
          "output_type": "stream",
          "text": [
            " pid=28516)\u001b[0m Client 4 loss 0.0441355881690979\n",
            " pid=28516)\u001b[0m Client 4 accuracy 0.478\n",
            " pid=22372)\u001b[0m Client 1 loss 0.04392119956016541\n",
            " pid=22372)\u001b[0m Client 1 accuracy 0.492\n",
            " pid=24600)\u001b[0m Client 2 loss 0.0477129065990448\n",
            " pid=24600)\u001b[0m Client 2 accuracy 0.454\n",
            " pid=30204)\u001b[0m Client 0 loss 0.045648974180221555\n",
            " pid=30204)\u001b[0m Client 0 accuracy 0.488\n",
            " pid=27788)\u001b[0m Client 3 loss 0.04379638719558716\n",
            " pid=27788)\u001b[0m Client 3 accuracy 0.488\n",
            " pid=30204)\u001b[0m [Client 1] fit, config: {'lr': 0.0001}\n",
            " pid=27788)\u001b[0m [Client 0] fit, config: {'lr': 0.0001}\n",
            " pid=22372)\u001b[0m [Client 2] fit, config: {'lr': 0.0001}\n",
            " pid=24600)\u001b[0m [Client 4] fit, config: {'lr': 0.0001}\n",
            " pid=28516)\u001b[0m [Client 3] fit, config: {'lr': 0.0001}\n",
            " pid=30204)\u001b[0m Epoch 1: train loss 0.04203278571367264, accuracy 0.526\n",
            " pid=27788)\u001b[0m Epoch 1: train loss 0.04225492849946022, accuracy 0.5162222222222222\n",
            " pid=22372)\u001b[0m Epoch 1: train loss 0.042653948068618774, accuracy 0.5124444444444445\n",
            " pid=24600)\u001b[0m Epoch 1: train loss 0.04263145849108696, accuracy 0.5113333333333333\n",
            " pid=28516)\u001b[0m Epoch 1: train loss 0.04336434602737427, accuracy 0.49844444444444447\n",
            " pid=30204)\u001b[0m Epoch 2: train loss 0.03845824673771858, accuracy 0.556\n",
            " pid=27788)\u001b[0m Epoch 2: train loss 0.03896666690707207, accuracy 0.5566666666666666\n",
            " pid=22372)\u001b[0m Epoch 2: train loss 0.03923330083489418, accuracy 0.5506666666666666\n",
            " pid=24600)\u001b[0m Epoch 2: train loss 0.03920895978808403, accuracy 0.5517777777777778\n",
            " pid=28516)\u001b[0m Epoch 2: train loss 0.04022727161645889, accuracy 0.5451111111111111\n",
            " pid=30204)\u001b[0m Epoch 3: train loss 0.03558025881648064, accuracy 0.5937777777777777\n",
            " pid=27788)\u001b[0m Epoch 3: train loss 0.03637314587831497, accuracy 0.5831111111111111\n",
            " pid=22372)\u001b[0m Epoch 3: train loss 0.03670749440789223, accuracy 0.5808888888888889\n",
            " pid=24600)\u001b[0m Epoch 3: train loss 0.03650663420557976, accuracy 0.5851111111111111\n",
            " pid=28516)\u001b[0m Epoch 3: train loss 0.03772144392132759, accuracy 0.5664444444444444\n",
            " pid=30204)\u001b[0m Epoch 4: train loss 0.03351736441254616, accuracy 0.6162222222222222\n",
            " pid=27788)\u001b[0m Epoch 4: train loss 0.033237531781196594, accuracy 0.6262222222222222\n",
            " pid=24600)\u001b[0m Epoch 4: train loss 0.03348170220851898, accuracy 0.6057777777777777\n",
            " pid=22372)\u001b[0m Epoch 4: train loss 0.034021854400634766, accuracy 0.614\n",
            " pid=28516)\u001b[0m Epoch 4: train loss 0.03462224826216698, accuracy 0.6042222222222222\n",
            " pid=30204)\u001b[0m Epoch 5: train loss 0.030840814113616943, accuracy 0.6486666666666666\n",
            " pid=27788)\u001b[0m Epoch 5: train loss 0.030917666852474213, accuracy 0.6546666666666666\n",
            " pid=24600)\u001b[0m Epoch 5: train loss 0.031127069145441055, accuracy 0.6475555555555556\n",
            " pid=22372)\u001b[0m Epoch 5: train loss 0.03152027726173401, accuracy 0.6426666666666667\n"
          ]
        },
        {
          "name": "stderr",
          "output_type": "stream",
          "text": [
            "DEBUG flwr 2024-04-26 17:09:50,335 | server.py:232 | fit_round 3 received 5 results and 0 failures\n",
            "DEBUG flwr 2024-04-26 17:09:50,355 | server.py:168 | evaluate_round 3: strategy sampled 5 clients (out of 5)\n"
          ]
        },
        {
          "name": "stdout",
          "output_type": "stream",
          "text": [
            " pid=28516)\u001b[0m Epoch 5: train loss 0.03203601390123367, accuracy 0.6408888888888888\n",
            " pid=28516)\u001b[0m [Client 4] evaluate, config: {}\n",
            " pid=28516)\u001b[0m Client 4 loss 0.04254585325717926\n",
            " pid=28516)\u001b[0m Client 4 accuracy 0.51\n",
            " pid=28516)\u001b[0m [Client 2] evaluate, config: {}\n"
          ]
        },
        {
          "name": "stderr",
          "output_type": "stream",
          "text": [
            "DEBUG flwr 2024-04-26 17:09:57,609 | server.py:182 | evaluate_round 3 received 5 results and 0 failures\n",
            "DEBUG flwr 2024-04-26 17:09:57,611 | server.py:218 | fit_round 4: strategy sampled 5 clients (out of 5)\n"
          ]
        },
        {
          "name": "stdout",
          "output_type": "stream",
          "text": [
            " pid=22372)\u001b[0m [Client 0] evaluate, config: {}\n",
            " pid=24600)\u001b[0m [Client 1] evaluate, config: {}\n",
            " pid=27788)\u001b[0m [Client 3] evaluate, config: {}\n",
            " pid=28516)\u001b[0m Client 2 loss 0.04513697576522827\n",
            " pid=28516)\u001b[0m Client 2 accuracy 0.52\n",
            " pid=27788)\u001b[0m Client 3 loss 0.041497232794761654\n",
            " pid=27788)\u001b[0m Client 3 accuracy 0.548\n",
            " pid=22372)\u001b[0m Client 0 loss 0.044142529726028445\n",
            " pid=22372)\u001b[0m Client 0 accuracy 0.522\n",
            " pid=24600)\u001b[0m Client 1 loss 0.042521965980529784\n",
            " pid=24600)\u001b[0m Client 1 accuracy 0.528\n",
            " pid=28516)\u001b[0m [Client 3] fit, config: {'lr': 0.0001}\n",
            " pid=22372)\u001b[0m [Client 4] fit, config: {'lr': 0.0001}\n",
            " pid=24600)\u001b[0m [Client 0] fit, config: {'lr': 0.0001}\n",
            " pid=30204)\u001b[0m [Client 2] fit, config: {'lr': 0.0001}\n",
            " pid=27788)\u001b[0m [Client 1] fit, config: {'lr': 0.0001}\n",
            " pid=22372)\u001b[0m Epoch 1: train loss 0.0387982539832592, accuracy 0.5608888888888889\n",
            " pid=24600)\u001b[0m Epoch 1: train loss 0.03798803687095642, accuracy 0.5697777777777778\n",
            " pid=27788)\u001b[0m Epoch 1: train loss 0.03757164254784584, accuracy 0.5684444444444444\n",
            " pid=28516)\u001b[0m Epoch 1: train loss 0.03891797736287117, accuracy 0.5531111111111111\n",
            " pid=30204)\u001b[0m Epoch 1: train loss 0.03850758448243141, accuracy 0.5564444444444444\n",
            " pid=22372)\u001b[0m Epoch 2: train loss 0.033863615244627, accuracy 0.6126666666666667\n",
            " pid=24600)\u001b[0m Epoch 2: train loss 0.03350477293133736, accuracy 0.6184444444444445\n",
            " pid=28516)\u001b[0m Epoch 2: train loss 0.03509135544300079, accuracy 0.6044444444444445\n",
            " pid=27788)\u001b[0m Epoch 2: train loss 0.033494770526885986, accuracy 0.6162222222222222\n",
            " pid=30204)\u001b[0m Epoch 2: train loss 0.03395873308181763, accuracy 0.6104444444444445\n",
            " pid=22372)\u001b[0m Epoch 3: train loss 0.03099168837070465, accuracy 0.6533333333333333\n",
            " pid=24600)\u001b[0m Epoch 3: train loss 0.030387837439775467, accuracy 0.6502222222222223\n",
            " pid=28516)\u001b[0m Epoch 3: train loss 0.03167511895298958, accuracy 0.6408888888888888\n",
            " pid=27788)\u001b[0m Epoch 3: train loss 0.02996126562356949, accuracy 0.6577777777777778\n",
            " pid=30204)\u001b[0m Epoch 3: train loss 0.03108033910393715, accuracy 0.6424444444444445\n",
            " pid=22372)\u001b[0m Epoch 4: train loss 0.02748129703104496, accuracy 0.6935555555555556\n",
            " pid=24600)\u001b[0m Epoch 4: train loss 0.02724246308207512, accuracy 0.6911111111111111\n",
            " pid=27788)\u001b[0m Epoch 4: train loss 0.02748502604663372, accuracy 0.6846666666666666\n",
            " pid=28516)\u001b[0m Epoch 4: train loss 0.028719451278448105, accuracy 0.6748888888888889\n",
            " pid=30204)\u001b[0m Epoch 4: train loss 0.028042513877153397, accuracy 0.6775555555555556\n",
            " pid=22372)\u001b[0m Epoch 5: train loss 0.024587001651525497, accuracy 0.7291111111111112\n",
            " pid=24600)\u001b[0m Epoch 5: train loss 0.023907070979475975, accuracy 0.7346666666666667\n",
            " pid=27788)\u001b[0m Epoch 5: train loss 0.02441411092877388, accuracy 0.7191111111111111\n"
          ]
        },
        {
          "name": "stderr",
          "output_type": "stream",
          "text": [
            "DEBUG flwr 2024-04-26 17:10:25,318 | server.py:232 | fit_round 4 received 5 results and 0 failures\n",
            "DEBUG flwr 2024-04-26 17:10:25,337 | server.py:168 | evaluate_round 4: strategy sampled 5 clients (out of 5)\n"
          ]
        },
        {
          "name": "stdout",
          "output_type": "stream",
          "text": [
            " pid=28516)\u001b[0m Epoch 5: train loss 0.025756115093827248, accuracy 0.7166666666666667\n",
            " pid=30204)\u001b[0m Epoch 5: train loss 0.02494368702173233, accuracy 0.722\n"
          ]
        },
        {
          "name": "stderr",
          "output_type": "stream",
          "text": [
            "DEBUG flwr 2024-04-26 17:10:32,516 | server.py:182 | evaluate_round 4 received 5 results and 0 failures\n"
          ]
        },
        {
          "name": "stdout",
          "output_type": "stream",
          "text": [
            " pid=28516)\u001b[0m [Client 4] evaluate, config: {}\n",
            " pid=22372)\u001b[0m [Client 3] evaluate, config: {}\n",
            " pid=24600)\u001b[0m [Client 2] evaluate, config: {}\n",
            " pid=30204)\u001b[0m [Client 0] evaluate, config: {}\n",
            " pid=27788)\u001b[0m [Client 1] evaluate, config: {}\n",
            " pid=22372)\u001b[0m Client 3 loss 0.0401327565908432\n",
            " pid=22372)\u001b[0m Client 3 accuracy 0.578\n",
            " pid=30204)\u001b[0m Client 0 loss 0.0439994912147522\n",
            " pid=30204)\u001b[0m Client 0 accuracy 0.52\n",
            " pid=27788)\u001b[0m Client 1 loss 0.042651512026786804\n",
            " pid=27788)\u001b[0m Client 1 accuracy 0.522\n"
          ]
        },
        {
          "name": "stderr",
          "output_type": "stream",
          "text": [
            "DEBUG flwr 2024-04-26 17:10:32,519 | server.py:218 | fit_round 5: strategy sampled 5 clients (out of 5)\n"
          ]
        },
        {
          "name": "stdout",
          "output_type": "stream",
          "text": [
            " pid=28516)\u001b[0m Client 4 loss 0.04263215172290802\n",
            " pid=28516)\u001b[0m Client 4 accuracy 0.532\n",
            " pid=24600)\u001b[0m Client 2 loss 0.043961186528205874\n",
            " pid=24600)\u001b[0m Client 2 accuracy 0.534\n",
            " pid=24600)\u001b[0m [Client 1] fit, config: {'lr': 0.0001}\n",
            " pid=30204)\u001b[0m [Client 2] fit, config: {'lr': 0.0001}\n",
            " pid=28516)\u001b[0m [Client 0] fit, config: {'lr': 0.0001}\n",
            " pid=22372)\u001b[0m [Client 3] fit, config: {'lr': 0.0001}\n",
            " pid=27788)\u001b[0m [Client 4] fit, config: {'lr': 0.0001}\n",
            " pid=24600)\u001b[0m Epoch 1: train loss 0.034477800130844116, accuracy 0.6055555555555555\n",
            " pid=28516)\u001b[0m Epoch 1: train loss 0.03410493582487106, accuracy 0.6151111111111112\n",
            " pid=22372)\u001b[0m Epoch 1: train loss 0.035379305481910706, accuracy 0.5973333333333334\n",
            " pid=30204)\u001b[0m Epoch 1: train loss 0.035095226019620895, accuracy 0.6131111111111112\n",
            " pid=27788)\u001b[0m Epoch 1: train loss 0.034890688955783844, accuracy 0.612\n",
            " pid=28516)\u001b[0m Epoch 2: train loss 0.02844754047691822, accuracy 0.6824444444444444\n",
            " pid=24600)\u001b[0m Epoch 2: train loss 0.028789805248379707, accuracy 0.6744444444444444\n",
            " pid=22372)\u001b[0m Epoch 2: train loss 0.0303431898355484, accuracy 0.6635555555555556\n",
            " pid=30204)\u001b[0m Epoch 2: train loss 0.029222160577774048, accuracy 0.6713333333333333\n",
            " pid=27788)\u001b[0m Epoch 2: train loss 0.02962355874478817, accuracy 0.6762222222222222\n",
            " pid=24600)\u001b[0m Epoch 3: train loss 0.02513907663524151, accuracy 0.7104444444444444\n",
            " pid=28516)\u001b[0m Epoch 3: train loss 0.02516975998878479, accuracy 0.7213333333333334\n",
            " pid=22372)\u001b[0m Epoch 3: train loss 0.026468425989151, accuracy 0.6995555555555556\n",
            " pid=30204)\u001b[0m Epoch 3: train loss 0.025444889441132545, accuracy 0.7111111111111111\n",
            " pid=27788)\u001b[0m Epoch 3: train loss 0.025843476876616478, accuracy 0.7024444444444444\n",
            " pid=28516)\u001b[0m Epoch 4: train loss 0.021694818511605263, accuracy 0.7557777777777778\n",
            " pid=24600)\u001b[0m Epoch 4: train loss 0.021714475005865097, accuracy 0.7571111111111111\n",
            " pid=22372)\u001b[0m Epoch 4: train loss 0.022927066311240196, accuracy 0.7444444444444445\n",
            " pid=30204)\u001b[0m Epoch 4: train loss 0.02254578098654747, accuracy 0.7524444444444445\n",
            " pid=27788)\u001b[0m Epoch 4: train loss 0.022328583523631096, accuracy 0.7522222222222222\n",
            " pid=28516)\u001b[0m Epoch 5: train loss 0.01825701631605625, accuracy 0.7995555555555556\n",
            " pid=24600)\u001b[0m Epoch 5: train loss 0.018595213070511818, accuracy 0.7884444444444444\n",
            " pid=22372)\u001b[0m Epoch 5: train loss 0.019584840163588524, accuracy 0.7855555555555556\n"
          ]
        },
        {
          "name": "stderr",
          "output_type": "stream",
          "text": [
            "DEBUG flwr 2024-04-26 17:11:00,387 | server.py:232 | fit_round 5 received 5 results and 0 failures\n",
            "DEBUG flwr 2024-04-26 17:11:00,405 | server.py:168 | evaluate_round 5: strategy sampled 5 clients (out of 5)\n"
          ]
        },
        {
          "name": "stdout",
          "output_type": "stream",
          "text": [
            " pid=30204)\u001b[0m Epoch 5: train loss 0.01911219023168087, accuracy 0.7855555555555556\n",
            " pid=27788)\u001b[0m Epoch 5: train loss 0.01926952600479126, accuracy 0.7862222222222223\n",
            " pid=27788)\u001b[0m [Client 2] evaluate, config: {}\n",
            " pid=28516)\u001b[0m [Client 1] evaluate, config: {}\n",
            " pid=30204)\u001b[0m [Client 0] evaluate, config: {}\n",
            " pid=24600)\u001b[0m [Client 3] evaluate, config: {}\n",
            " pid=22372)\u001b[0m [Client 4] evaluate, config: {}\n"
          ]
        },
        {
          "name": "stderr",
          "output_type": "stream",
          "text": [
            "DEBUG flwr 2024-04-26 17:11:07,729 | server.py:182 | evaluate_round 5 received 5 results and 0 failures\n",
            "DEBUG flwr 2024-04-26 17:11:07,730 | server.py:218 | fit_round 6: strategy sampled 5 clients (out of 5)\n"
          ]
        },
        {
          "name": "stdout",
          "output_type": "stream",
          "text": [
            " pid=30204)\u001b[0m Client 0 loss 0.04603070437908172\n",
            " pid=30204)\u001b[0m Client 0 accuracy 0.53\n",
            " pid=27788)\u001b[0m Client 2 loss 0.04529201805591583\n",
            " pid=27788)\u001b[0m Client 2 accuracy 0.552\n",
            " pid=28516)\u001b[0m Client 1 loss 0.04452501308917999\n",
            " pid=28516)\u001b[0m Client 1 accuracy 0.552\n",
            " pid=24600)\u001b[0m Client 3 loss 0.04310494637489319\n",
            " pid=24600)\u001b[0m Client 3 accuracy 0.58\n",
            " pid=22372)\u001b[0m Client 4 loss 0.04580592346191406\n",
            " pid=22372)\u001b[0m Client 4 accuracy 0.524\n",
            " pid=22372)\u001b[0m [Client 2] fit, config: {'lr': 0.0001}\n",
            " pid=24600)\u001b[0m [Client 0] fit, config: {'lr': 0.0001}\n",
            " pid=28516)\u001b[0m [Client 4] fit, config: {'lr': 0.0001}\n",
            " pid=30204)\u001b[0m [Client 3] fit, config: {'lr': 0.0001}\n",
            " pid=27788)\u001b[0m [Client 1] fit, config: {'lr': 0.0001}\n",
            " pid=22372)\u001b[0m Epoch 1: train loss 0.03220074623823166, accuracy 0.644\n",
            " pid=24600)\u001b[0m Epoch 1: train loss 0.031361889094114304, accuracy 0.6417777777777778\n",
            " pid=28516)\u001b[0m Epoch 1: train loss 0.03216380998492241, accuracy 0.6393333333333333\n",
            " pid=30204)\u001b[0m Epoch 1: train loss 0.03269507735967636, accuracy 0.626\n",
            " pid=27788)\u001b[0m Epoch 1: train loss 0.03140242025256157, accuracy 0.6413333333333333\n",
            " pid=22372)\u001b[0m Epoch 2: train loss 0.024850741028785706, accuracy 0.722\n",
            " pid=24600)\u001b[0m Epoch 2: train loss 0.024605531245470047, accuracy 0.73\n",
            " pid=28516)\u001b[0m Epoch 2: train loss 0.02513769268989563, accuracy 0.724\n",
            " pid=30204)\u001b[0m Epoch 2: train loss 0.026099717244505882, accuracy 0.7086666666666667\n",
            " pid=27788)\u001b[0m Epoch 2: train loss 0.02501419000327587, accuracy 0.7186666666666667\n",
            " pid=22372)\u001b[0m Epoch 3: train loss 0.020959334447979927, accuracy 0.7728888888888888\n",
            " pid=24600)\u001b[0m Epoch 3: train loss 0.02010960876941681, accuracy 0.7695555555555555\n",
            " pid=30204)\u001b[0m Epoch 3: train loss 0.021875344216823578, accuracy 0.7575555555555555\n",
            " pid=27788)\u001b[0m Epoch 3: train loss 0.020914526656270027, accuracy 0.7664444444444445\n",
            " pid=28516)\u001b[0m Epoch 3: train loss 0.021296339109539986, accuracy 0.7622222222222222\n",
            " pid=22372)\u001b[0m Epoch 4: train loss 0.01746995374560356, accuracy 0.8124444444444444\n",
            " pid=30204)\u001b[0m Epoch 4: train loss 0.01811329461634159, accuracy 0.8035555555555556\n",
            " pid=27788)\u001b[0m Epoch 4: train loss 0.016821930184960365, accuracy 0.8133333333333334\n",
            " pid=24600)\u001b[0m Epoch 4: train loss 0.016567038372159004, accuracy 0.8168888888888889\n",
            " pid=28516)\u001b[0m Epoch 4: train loss 0.01769295148551464, accuracy 0.8066666666666666\n",
            " pid=22372)\u001b[0m Epoch 5: train loss 0.014319795183837414, accuracy 0.8526666666666667\n",
            " pid=24600)\u001b[0m Epoch 5: train loss 0.013688120059669018, accuracy 0.8497777777777777\n",
            " pid=30204)\u001b[0m Epoch 5: train loss 0.014829108491539955, accuracy 0.8391111111111111\n",
            " pid=27788)\u001b[0m Epoch 5: train loss 0.014466069638729095, accuracy 0.8402222222222222\n"
          ]
        },
        {
          "name": "stderr",
          "output_type": "stream",
          "text": [
            "DEBUG flwr 2024-04-26 17:11:35,377 | server.py:232 | fit_round 6 received 5 results and 0 failures\n",
            "DEBUG flwr 2024-04-26 17:11:35,417 | server.py:168 | evaluate_round 6: strategy sampled 5 clients (out of 5)\n"
          ]
        },
        {
          "name": "stdout",
          "output_type": "stream",
          "text": [
            " pid=28516)\u001b[0m Epoch 5: train loss 0.014234949834644794, accuracy 0.8506666666666667\n",
            " pid=28516)\u001b[0m [Client 3] evaluate, config: {}\n",
            " pid=28516)\u001b[0m Client 3 loss 0.045390002250671385\n",
            " pid=28516)\u001b[0m Client 3 accuracy 0.572\n",
            " pid=28516)\u001b[0m [Client 2] evaluate, config: {}\n",
            " pid=24600)\u001b[0m [Client 4] evaluate, config: {}\n",
            " pid=30204)\u001b[0m [Client 1] evaluate, config: {}\n",
            " pid=27788)\u001b[0m [Client 0] evaluate, config: {}\n"
          ]
        },
        {
          "name": "stderr",
          "output_type": "stream",
          "text": [
            "DEBUG flwr 2024-04-26 17:11:42,798 | server.py:182 | evaluate_round 6 received 5 results and 0 failures\n",
            "DEBUG flwr 2024-04-26 17:11:42,800 | server.py:218 | fit_round 7: strategy sampled 5 clients (out of 5)\n"
          ]
        },
        {
          "name": "stdout",
          "output_type": "stream",
          "text": [
            " pid=28516)\u001b[0m Client 2 loss 0.0490684220790863\n",
            " pid=28516)\u001b[0m Client 2 accuracy 0.538\n",
            " pid=24600)\u001b[0m Client 4 loss 0.049811174631118775\n",
            " pid=24600)\u001b[0m Client 4 accuracy 0.542\n",
            " pid=30204)\u001b[0m Client 1 loss 0.04949697685241699\n",
            " pid=30204)\u001b[0m Client 1 accuracy 0.542\n",
            " pid=27788)\u001b[0m Client 0 loss 0.04919832754135132\n",
            " pid=27788)\u001b[0m Client 0 accuracy 0.562\n",
            " pid=24600)\u001b[0m [Client 2] fit, config: {'lr': 0.0001}\n",
            " pid=27788)\u001b[0m [Client 3] fit, config: {'lr': 0.0001}\n",
            " pid=28516)\u001b[0m [Client 1] fit, config: {'lr': 0.0001}\n",
            " pid=22372)\u001b[0m [Client 0] fit, config: {'lr': 0.0001}\n",
            " pid=30204)\u001b[0m [Client 4] fit, config: {'lr': 0.0001}\n",
            " pid=24600)\u001b[0m Epoch 1: train loss 0.029371829703450203, accuracy 0.6671111111111111\n",
            " pid=27788)\u001b[0m Epoch 1: train loss 0.029578382149338722, accuracy 0.6666666666666666\n",
            " pid=22372)\u001b[0m Epoch 1: train loss 0.028900325298309326, accuracy 0.6731111111111111\n",
            " pid=28516)\u001b[0m Epoch 1: train loss 0.02976205386221409, accuracy 0.6682222222222223\n",
            " pid=30204)\u001b[0m Epoch 1: train loss 0.029924936592578888, accuracy 0.66\n",
            " pid=24600)\u001b[0m Epoch 2: train loss 0.021527083590626717, accuracy 0.7613333333333333\n",
            " pid=27788)\u001b[0m Epoch 2: train loss 0.021401073783636093, accuracy 0.7608888888888888\n",
            " pid=22372)\u001b[0m Epoch 2: train loss 0.020474717020988464, accuracy 0.774\n",
            " pid=28516)\u001b[0m Epoch 2: train loss 0.021099647507071495, accuracy 0.7682222222222223\n",
            " pid=30204)\u001b[0m Epoch 2: train loss 0.021723967045545578, accuracy 0.7553333333333333\n",
            " pid=24600)\u001b[0m Epoch 3: train loss 0.017078585922718048, accuracy 0.8164444444444444\n",
            " pid=27788)\u001b[0m Epoch 3: train loss 0.017143281176686287, accuracy 0.8126666666666666\n",
            " pid=28516)\u001b[0m Epoch 3: train loss 0.016389191150665283, accuracy 0.8242222222222222\n",
            " pid=22372)\u001b[0m Epoch 3: train loss 0.01573021523654461, accuracy 0.8284444444444444\n",
            " pid=30204)\u001b[0m Epoch 3: train loss 0.017307737842202187, accuracy 0.8064444444444444\n",
            " pid=24600)\u001b[0m Epoch 4: train loss 0.01373371947556734, accuracy 0.8555555555555555\n",
            " pid=27788)\u001b[0m Epoch 4: train loss 0.013561039231717587, accuracy 0.8542222222222222\n",
            " pid=28516)\u001b[0m Epoch 4: train loss 0.012569563463330269, accuracy 0.8668888888888889\n",
            " pid=30204)\u001b[0m Epoch 4: train loss 0.013424752280116081, accuracy 0.8555555555555555\n",
            " pid=22372)\u001b[0m Epoch 4: train loss 0.012286602519452572, accuracy 0.8666666666666667\n",
            " pid=24600)\u001b[0m Epoch 5: train loss 0.010348459705710411, accuracy 0.8935555555555555\n",
            " pid=27788)\u001b[0m Epoch 5: train loss 0.010746808722615242, accuracy 0.8862222222222222\n"
          ]
        },
        {
          "name": "stderr",
          "output_type": "stream",
          "text": [
            "DEBUG flwr 2024-04-26 17:12:10,530 | server.py:232 | fit_round 7 received 5 results and 0 failures\n"
          ]
        },
        {
          "name": "stdout",
          "output_type": "stream",
          "text": [
            " pid=28516)\u001b[0m Epoch 5: train loss 0.010627435520291328, accuracy 0.8864444444444445\n",
            " pid=30204)\u001b[0m Epoch 5: train loss 0.010387204587459564, accuracy 0.896\n"
          ]
        },
        {
          "name": "stderr",
          "output_type": "stream",
          "text": [
            "DEBUG flwr 2024-04-26 17:12:10,569 | server.py:168 | evaluate_round 7: strategy sampled 5 clients (out of 5)\n"
          ]
        },
        {
          "name": "stdout",
          "output_type": "stream",
          "text": [
            " pid=22372)\u001b[0m Epoch 5: train loss 0.010404646396636963, accuracy 0.8913333333333333\n",
            " pid=22372)\u001b[0m [Client 4] evaluate, config: {}\n",
            " pid=22372)\u001b[0m Client 4 loss 0.056737969160079955\n",
            " pid=22372)\u001b[0m Client 4 accuracy 0.54\n",
            " pid=22372)\u001b[0m [Client 3] evaluate, config: {}\n",
            " pid=28516)\u001b[0m [Client 0] evaluate, config: {}\n",
            " pid=30204)\u001b[0m [Client 2] evaluate, config: {}\n",
            " pid=27788)\u001b[0m [Client 1] evaluate, config: {}\n"
          ]
        },
        {
          "name": "stderr",
          "output_type": "stream",
          "text": [
            "DEBUG flwr 2024-04-26 17:12:17,746 | server.py:182 | evaluate_round 7 received 5 results and 0 failures\n",
            "DEBUG flwr 2024-04-26 17:12:17,748 | server.py:218 | fit_round 8: strategy sampled 5 clients (out of 5)\n"
          ]
        },
        {
          "name": "stdout",
          "output_type": "stream",
          "text": [
            " pid=28516)\u001b[0m Client 0 loss 0.05356714487075806\n",
            " pid=28516)\u001b[0m Client 0 accuracy 0.568\n",
            " pid=22372)\u001b[0m Client 3 loss 0.05118696713447571\n",
            " pid=22372)\u001b[0m Client 3 accuracy 0.556\n",
            " pid=27788)\u001b[0m Client 1 loss 0.05431074035167694\n",
            " pid=27788)\u001b[0m Client 1 accuracy 0.548\n",
            " pid=30204)\u001b[0m Client 2 loss 0.05527309823036194\n",
            " pid=30204)\u001b[0m Client 2 accuracy 0.574\n",
            " pid=30204)\u001b[0m [Client 3] fit, config: {'lr': 0.0001}\n",
            " pid=28516)\u001b[0m [Client 0] fit, config: {'lr': 0.0001}\n",
            " pid=22372)\u001b[0m [Client 4] fit, config: {'lr': 0.0001}\n",
            " pid=24600)\u001b[0m [Client 2] fit, config: {'lr': 0.0001}\n",
            " pid=27788)\u001b[0m [Client 1] fit, config: {'lr': 0.0001}\n",
            " pid=30204)\u001b[0m Epoch 1: train loss 0.027468476444482803, accuracy 0.6928888888888889\n",
            " pid=28516)\u001b[0m Epoch 1: train loss 0.026749147102236748, accuracy 0.7017777777777777\n",
            " pid=24600)\u001b[0m Epoch 1: train loss 0.027517717331647873, accuracy 0.6882222222222222\n",
            " pid=22372)\u001b[0m Epoch 1: train loss 0.028191661462187767, accuracy 0.6917777777777778\n",
            " pid=27788)\u001b[0m Epoch 1: train loss 0.02777397260069847, accuracy 0.6906666666666667\n",
            " pid=30204)\u001b[0m Epoch 2: train loss 0.018142161890864372, accuracy 0.8013333333333333\n",
            " pid=28516)\u001b[0m Epoch 2: train loss 0.01785998046398163, accuracy 0.8057777777777778\n",
            " pid=24600)\u001b[0m Epoch 2: train loss 0.018221786245703697, accuracy 0.7991111111111111\n",
            " pid=22372)\u001b[0m Epoch 2: train loss 0.01825118064880371, accuracy 0.7944444444444444\n",
            " pid=27788)\u001b[0m Epoch 2: train loss 0.017590580508112907, accuracy 0.8068888888888889\n",
            " pid=30204)\u001b[0m Epoch 3: train loss 0.013412175700068474, accuracy 0.8442222222222222\n",
            " pid=28516)\u001b[0m Epoch 3: train loss 0.013107946142554283, accuracy 0.8651111111111112\n",
            " pid=24600)\u001b[0m Epoch 3: train loss 0.013657485134899616, accuracy 0.8497777777777777\n",
            " pid=22372)\u001b[0m Epoch 3: train loss 0.013556701131165028, accuracy 0.8551111111111112\n",
            " pid=27788)\u001b[0m Epoch 3: train loss 0.013310762122273445, accuracy 0.8564444444444445\n",
            " pid=30204)\u001b[0m Epoch 4: train loss 0.010562673211097717, accuracy 0.8875555555555555\n",
            " pid=28516)\u001b[0m Epoch 4: train loss 0.009819930419325829, accuracy 0.9013333333333333\n",
            " pid=22372)\u001b[0m Epoch 4: train loss 0.009802834130823612, accuracy 0.8997777777777778\n",
            " pid=24600)\u001b[0m Epoch 4: train loss 0.009959543123841286, accuracy 0.9002222222222223\n",
            " pid=27788)\u001b[0m Epoch 4: train loss 0.010248198173940182, accuracy 0.8926666666666667\n",
            " pid=30204)\u001b[0m Epoch 5: train loss 0.0076108695939183235, accuracy 0.9206666666666666\n"
          ]
        },
        {
          "name": "stderr",
          "output_type": "stream",
          "text": [
            "DEBUG flwr 2024-04-26 17:12:45,532 | server.py:232 | fit_round 8 received 5 results and 0 failures\n",
            "DEBUG flwr 2024-04-26 17:12:45,574 | server.py:168 | evaluate_round 8: strategy sampled 5 clients (out of 5)\n"
          ]
        },
        {
          "name": "stdout",
          "output_type": "stream",
          "text": [
            " pid=28516)\u001b[0m Epoch 5: train loss 0.007411840837448835, accuracy 0.9266666666666666\n",
            " pid=22372)\u001b[0m Epoch 5: train loss 0.008122729137539864, accuracy 0.9135555555555556\n",
            " pid=24600)\u001b[0m Epoch 5: train loss 0.00841711275279522, accuracy 0.9137777777777778\n",
            " pid=27788)\u001b[0m Epoch 5: train loss 0.007303033489733934, accuracy 0.9322222222222222\n",
            " pid=24600)\u001b[0m [Client 3] evaluate, config: {}\n",
            " pid=22372)\u001b[0m [Client 1] evaluate, config: {}\n",
            " pid=30204)\u001b[0m [Client 4] evaluate, config: {}\n",
            " pid=27788)\u001b[0m [Client 2] evaluate, config: {}\n",
            " pid=28516)\u001b[0m [Client 0] evaluate, config: {}\n",
            " pid=24600)\u001b[0m Client 3 loss 0.05641263461112976\n",
            " pid=24600)\u001b[0m Client 3 accuracy 0.568\n"
          ]
        },
        {
          "name": "stderr",
          "output_type": "stream",
          "text": [
            "DEBUG flwr 2024-04-26 17:12:52,934 | server.py:182 | evaluate_round 8 received 5 results and 0 failures\n",
            "DEBUG flwr 2024-04-26 17:12:52,936 | server.py:218 | fit_round 9: strategy sampled 5 clients (out of 5)\n"
          ]
        },
        {
          "name": "stdout",
          "output_type": "stream",
          "text": [
            " pid=22372)\u001b[0m Client 1 loss 0.06070314407348633\n",
            " pid=22372)\u001b[0m Client 1 accuracy 0.546\n",
            " pid=28516)\u001b[0m Client 0 loss 0.06124001836776733\n",
            " pid=28516)\u001b[0m Client 0 accuracy 0.564\n",
            " pid=30204)\u001b[0m Client 4 loss 0.06319684505462647\n",
            " pid=30204)\u001b[0m Client 4 accuracy 0.532\n",
            " pid=27788)\u001b[0m Client 2 loss 0.061195751905441284\n",
            " pid=27788)\u001b[0m Client 2 accuracy 0.548\n",
            " pid=30204)\u001b[0m [Client 0] fit, config: {'lr': 0.0001}\n",
            " pid=27788)\u001b[0m [Client 4] fit, config: {'lr': 0.0001}\n",
            " pid=22372)\u001b[0m [Client 1] fit, config: {'lr': 0.0001}\n",
            " pid=24600)\u001b[0m [Client 2] fit, config: {'lr': 0.0001}\n",
            " pid=28516)\u001b[0m [Client 3] fit, config: {'lr': 0.0001}\n",
            " pid=30204)\u001b[0m Epoch 1: train loss 0.02542905882000923, accuracy 0.7246666666666667\n",
            " pid=27788)\u001b[0m Epoch 1: train loss 0.026512498036026955, accuracy 0.7106666666666667\n",
            " pid=28516)\u001b[0m Epoch 1: train loss 0.025664618238806725, accuracy 0.7113333333333334\n",
            " pid=22372)\u001b[0m Epoch 1: train loss 0.026169853284955025, accuracy 0.7091111111111111\n",
            " pid=24600)\u001b[0m Epoch 1: train loss 0.026602694764733315, accuracy 0.7088888888888889\n",
            " pid=30204)\u001b[0m Epoch 2: train loss 0.015167688950896263, accuracy 0.8244444444444444\n",
            " pid=27788)\u001b[0m Epoch 2: train loss 0.015689272433519363, accuracy 0.8268888888888889\n",
            " pid=22372)\u001b[0m Epoch 2: train loss 0.014779143035411835, accuracy 0.838\n",
            " pid=24600)\u001b[0m Epoch 2: train loss 0.01528057549148798, accuracy 0.8304444444444444\n",
            " pid=28516)\u001b[0m Epoch 2: train loss 0.014887457713484764, accuracy 0.8306666666666667\n",
            " pid=30204)\u001b[0m Epoch 3: train loss 0.010292385704815388, accuracy 0.8891111111111111\n",
            " pid=22372)\u001b[0m Epoch 3: train loss 0.011008810251951218, accuracy 0.8822222222222222\n",
            " pid=27788)\u001b[0m Epoch 3: train loss 0.010774325579404831, accuracy 0.8875555555555555\n",
            " pid=24600)\u001b[0m Epoch 3: train loss 0.010974778793752193, accuracy 0.8808888888888889\n",
            " pid=28516)\u001b[0m Epoch 3: train loss 0.010873375460505486, accuracy 0.8791111111111111\n",
            " pid=30204)\u001b[0m Epoch 4: train loss 0.007531121838837862, accuracy 0.9224444444444444\n",
            " pid=22372)\u001b[0m Epoch 4: train loss 0.007908804342150688, accuracy 0.9213333333333333\n",
            " pid=28516)\u001b[0m Epoch 4: train loss 0.008028438314795494, accuracy 0.9191111111111111\n",
            " pid=27788)\u001b[0m Epoch 4: train loss 0.007635980378836393, accuracy 0.9215555555555556\n",
            " pid=24600)\u001b[0m Epoch 4: train loss 0.00815039686858654, accuracy 0.918\n",
            " pid=30204)\u001b[0m Epoch 5: train loss 0.0061630625277757645, accuracy 0.9373333333333334\n"
          ]
        },
        {
          "name": "stderr",
          "output_type": "stream",
          "text": [
            "DEBUG flwr 2024-04-26 17:13:20,534 | server.py:232 | fit_round 9 received 5 results and 0 failures\n"
          ]
        },
        {
          "name": "stdout",
          "output_type": "stream",
          "text": [
            " pid=22372)\u001b[0m Epoch 5: train loss 0.0066833593882620335, accuracy 0.9357777777777778\n",
            " pid=28516)\u001b[0m Epoch 5: train loss 0.005385878030210733, accuracy 0.9511111111111111\n",
            " pid=27788)\u001b[0m Epoch 5: train loss 0.005426352843642235, accuracy 0.9504444444444444\n"
          ]
        },
        {
          "name": "stderr",
          "output_type": "stream",
          "text": [
            "DEBUG flwr 2024-04-26 17:13:20,576 | server.py:168 | evaluate_round 9: strategy sampled 5 clients (out of 5)\n"
          ]
        },
        {
          "name": "stdout",
          "output_type": "stream",
          "text": [
            " pid=24600)\u001b[0m Epoch 5: train loss 0.005599530879408121, accuracy 0.9466666666666667\n",
            " pid=24600)\u001b[0m [Client 2] evaluate, config: {}\n",
            " pid=27788)\u001b[0m [Client 1] evaluate, config: {}\n",
            " pid=24600)\u001b[0m Client 2 loss 0.06980534934997559\n",
            " pid=24600)\u001b[0m Client 2 accuracy 0.544\n",
            " pid=27788)\u001b[0m Client 1 loss 0.06696293687820434\n",
            " pid=27788)\u001b[0m Client 1 accuracy 0.56\n",
            " pid=28516)\u001b[0m [Client 0] evaluate, config: {}\n",
            " pid=24600)\u001b[0m [Client 4] evaluate, config: {}\n",
            " pid=27788)\u001b[0m [Client 3] evaluate, config: {}\n"
          ]
        },
        {
          "name": "stderr",
          "output_type": "stream",
          "text": [
            "DEBUG flwr 2024-04-26 17:13:28,092 | server.py:182 | evaluate_round 9 received 5 results and 0 failures\n",
            "DEBUG flwr 2024-04-26 17:13:28,094 | server.py:218 | fit_round 10: strategy sampled 5 clients (out of 5)\n"
          ]
        },
        {
          "name": "stdout",
          "output_type": "stream",
          "text": [
            " pid=28516)\u001b[0m Client 0 loss 0.06827843761444091\n",
            " pid=28516)\u001b[0m Client 0 accuracy 0.572\n",
            " pid=24600)\u001b[0m Client 4 loss 0.06879587435722351\n",
            " pid=24600)\u001b[0m Client 4 accuracy 0.534\n",
            " pid=27788)\u001b[0m Client 3 loss 0.06418746042251587\n",
            " pid=27788)\u001b[0m Client 3 accuracy 0.548\n",
            " pid=27788)\u001b[0m [Client 0] fit, config: {'lr': 0.0001}\n",
            " pid=28516)\u001b[0m [Client 1] fit, config: {'lr': 0.0001}\n",
            " pid=22372)\u001b[0m [Client 2] fit, config: {'lr': 0.0001}\n",
            " pid=30204)\u001b[0m [Client 3] fit, config: {'lr': 0.0001}\n",
            " pid=24600)\u001b[0m [Client 4] fit, config: {'lr': 0.0001}\n",
            " pid=22372)\u001b[0m Epoch 1: train loss 0.02494131773710251, accuracy 0.7237777777777777\n",
            " pid=27788)\u001b[0m Epoch 1: train loss 0.023816723376512527, accuracy 0.7311111111111112\n",
            " pid=28516)\u001b[0m Epoch 1: train loss 0.024597857147455215, accuracy 0.7273333333333334\n",
            " pid=24600)\u001b[0m Epoch 1: train loss 0.02423817478120327, accuracy 0.7384444444444445\n",
            " pid=30204)\u001b[0m Epoch 1: train loss 0.02367762103676796, accuracy 0.7413333333333333\n",
            " pid=27788)\u001b[0m Epoch 2: train loss 0.01240161620080471, accuracy 0.8628888888888889\n",
            " pid=28516)\u001b[0m Epoch 2: train loss 0.012781972996890545, accuracy 0.8637777777777778\n",
            " pid=22372)\u001b[0m Epoch 2: train loss 0.013072666712105274, accuracy 0.854\n",
            " pid=24600)\u001b[0m Epoch 2: train loss 0.01276488695293665, accuracy 0.8617777777777778\n",
            " pid=30204)\u001b[0m Epoch 2: train loss 0.013399907387793064, accuracy 0.8533333333333334\n",
            " pid=22372)\u001b[0m Epoch 3: train loss 0.008966205641627312, accuracy 0.9068888888888889\n",
            " pid=28516)\u001b[0m Epoch 3: train loss 0.008459823206067085, accuracy 0.9117777777777778\n",
            " pid=27788)\u001b[0m Epoch 3: train loss 0.008015554398298264, accuracy 0.9195555555555556\n",
            " pid=24600)\u001b[0m Epoch 3: train loss 0.008570746518671513, accuracy 0.9108888888888889\n",
            " pid=30204)\u001b[0m Epoch 3: train loss 0.008453181944787502, accuracy 0.9126666666666666\n",
            " pid=22372)\u001b[0m Epoch 4: train loss 0.006032186094671488, accuracy 0.9411111111111111\n",
            " pid=27788)\u001b[0m Epoch 4: train loss 0.006040157750248909, accuracy 0.9426666666666667\n",
            " pid=28516)\u001b[0m Epoch 4: train loss 0.005957326851785183, accuracy 0.9422222222222222\n",
            " pid=24600)\u001b[0m Epoch 4: train loss 0.005758724641054869, accuracy 0.9435555555555556\n",
            " pid=30204)\u001b[0m Epoch 4: train loss 0.00616473238915205, accuracy 0.9375555555555556\n",
            " pid=22372)\u001b[0m Epoch 5: train loss 0.0043767113238573074, accuracy 0.9608888888888889\n",
            " pid=27788)\u001b[0m Epoch 5: train loss 0.005767330061644316, accuracy 0.9397777777777778\n",
            " pid=28516)\u001b[0m Epoch 5: train loss 0.004491177853196859, accuracy 0.9575555555555556\n",
            " pid=24600)\u001b[0m Epoch 5: train loss 0.0041165766306221485, accuracy 0.9637777777777777\n"
          ]
        },
        {
          "name": "stderr",
          "output_type": "stream",
          "text": [
            "DEBUG flwr 2024-04-26 17:13:56,240 | server.py:232 | fit_round 10 received 5 results and 0 failures\n",
            "DEBUG flwr 2024-04-26 17:13:56,258 | server.py:168 | evaluate_round 10: strategy sampled 5 clients (out of 5)\n"
          ]
        },
        {
          "name": "stdout",
          "output_type": "stream",
          "text": [
            " pid=30204)\u001b[0m Epoch 5: train loss 0.0041454853489995, accuracy 0.9608888888888889\n",
            " pid=28516)\u001b[0m [Client 2] evaluate, config: {}\n",
            " pid=22372)\u001b[0m [Client 4] evaluate, config: {}\n",
            " pid=24600)\u001b[0m [Client 1] evaluate, config: {}\n",
            " pid=30204)\u001b[0m [Client 3] evaluate, config: {}\n",
            " pid=27788)\u001b[0m [Client 0] evaluate, config: {}\n"
          ]
        },
        {
          "name": "stderr",
          "output_type": "stream",
          "text": [
            "DEBUG flwr 2024-04-26 17:14:03,485 | server.py:182 | evaluate_round 10 received 5 results and 0 failures\n",
            "INFO flwr 2024-04-26 17:14:03,487 | server.py:147 | FL finished in 352.9172909000008\n",
            "INFO flwr 2024-04-26 17:14:03,488 | app.py:218 | app_fit: losses_distributed [(1, 0.05482563681602478), (2, 0.04504301114082336), (3, 0.04316891150474548), (4, 0.042675419616699226), (5, 0.04495172107219696), (6, 0.04859298067092895), (7, 0.054215183949470516), (8, 0.06054967880249024), (9, 0.06760601172447205), (10, 0.07175511364936829)]\n",
            "INFO flwr 2024-04-26 17:14:03,489 | app.py:219 | app_fit: metrics_distributed_fit {}\n",
            "INFO flwr 2024-04-26 17:14:03,491 | app.py:220 | app_fit: metrics_distributed {}\n",
            "INFO flwr 2024-04-26 17:14:03,492 | app.py:221 | app_fit: losses_centralized []\n",
            "INFO flwr 2024-04-26 17:14:03,493 | app.py:222 | app_fit: metrics_centralized {}\n"
          ]
        },
        {
          "data": {
            "text/plain": [
              "History (loss, distributed):\n",
              "\tround 1: 0.05482563681602478\n",
              "\tround 2: 0.04504301114082336\n",
              "\tround 3: 0.04316891150474548\n",
              "\tround 4: 0.042675419616699226\n",
              "\tround 5: 0.04495172107219696\n",
              "\tround 6: 0.04859298067092895\n",
              "\tround 7: 0.054215183949470516\n",
              "\tround 8: 0.06054967880249024\n",
              "\tround 9: 0.06760601172447205\n",
              "\tround 10: 0.07175511364936829"
            ]
          },
          "execution_count": 27,
          "metadata": {},
          "output_type": "execute_result"
        },
        {
          "name": "stdout",
          "output_type": "stream",
          "text": [
            " pid=28516)\u001b[0m Client 2 loss 0.07303936862945556\n",
            " pid=28516)\u001b[0m Client 2 accuracy 0.532\n",
            " pid=22372)\u001b[0m Client 4 loss 0.07555317211151123\n",
            " pid=22372)\u001b[0m Client 4 accuracy 0.54\n",
            " pid=24600)\u001b[0m Client 1 loss 0.07152706336975098\n",
            " pid=24600)\u001b[0m Client 1 accuracy 0.56\n",
            " pid=30204)\u001b[0m Client 3 loss 0.06725288581848145\n",
            " pid=30204)\u001b[0m Client 3 accuracy 0.562\n",
            " pid=27788)\u001b[0m Client 0 loss 0.07140307831764221\n",
            " pid=27788)\u001b[0m Client 0 accuracy 0.554\n"
          ]
        }
      ],
      "source": [
        "fl.simulation.start_simulation(\n",
        "    client_fn=client_fn,\n",
        "    num_clients=5,\n",
        "    config=fl.server.ServerConfig(num_rounds=10),\n",
        "    strategy=FedCustom(),  # <-- pass the new strategy here\n",
        "    client_resources=client_resources,\n",
        ")"
      ]
    },
    {
      "cell_type": "code",
      "execution_count": 28,
      "metadata": {},
      "outputs": [],
      "source": [
        "from typing import Callable, Union\n",
        "\n",
        "from flwr.common import (\n",
        "    EvaluateIns,\n",
        "    EvaluateRes,\n",
        "    FitIns,\n",
        "    FitRes,\n",
        "    MetricsAggregationFn,\n",
        "    NDArrays,\n",
        "    Parameters,\n",
        "    Scalar,\n",
        "    ndarrays_to_parameters,\n",
        "    parameters_to_ndarrays,\n",
        ")\n",
        "from flwr.server.client_manager import ClientManager\n",
        "from flwr.server.client_proxy import ClientProxy\n",
        "from flwr.server.strategy.aggregate import aggregate, weighted_loss_avg\n",
        "\n",
        "\n",
        "class FedCustom(fl.server.strategy.Strategy):\n",
        "    def __init__(\n",
        "        self,\n",
        "        fraction_fit: float = 1.0,\n",
        "        fraction_evaluate: float = 1.0,\n",
        "        min_fit_clients: int = 2,\n",
        "        min_evaluate_clients: int = 2,\n",
        "        min_available_clients: int = 2,\n",
        "    ) -> None:\n",
        "        super().__init__()\n",
        "        self.fraction_fit = fraction_fit\n",
        "        self.fraction_evaluate = fraction_evaluate\n",
        "        self.min_fit_clients = min_fit_clients\n",
        "        self.min_evaluate_clients = min_evaluate_clients\n",
        "        self.min_available_clients = min_available_clients\n",
        "\n",
        "    def __repr__(self) -> str:\n",
        "        return \"FedCustom\"\n",
        "\n",
        "    def initialize_parameters(\n",
        "        self, client_manager: ClientManager\n",
        "    ) -> Optional[Parameters]:\n",
        "        \"\"\"Initialize global model parameters.\"\"\"\n",
        "        net = Net()\n",
        "        ndarrays = get_parameters(net)\n",
        "        return fl.common.ndarrays_to_parameters(ndarrays)\n",
        "\n",
        "    def configure_fit(\n",
        "        self, server_round: int, parameters: Parameters, client_manager: ClientManager\n",
        "    ) -> List[Tuple[ClientProxy, FitIns]]:\n",
        "        \"\"\"Configure the next round of training.\"\"\"\n",
        "\n",
        "        # Sample clients\n",
        "        sample_size, min_num_clients = self.num_fit_clients(\n",
        "            client_manager.num_available()\n",
        "        )\n",
        "        clients = client_manager.sample(\n",
        "            num_clients=sample_size, min_num_clients=min_num_clients\n",
        "        )\n",
        "\n",
        "        # Create custom configs\n",
        "        n_clients = len(clients)\n",
        "        #half_clients = n_clients // 2\n",
        "        standard_config = {\"lr\": 0.01}\n",
        "        higher_lr_config = {\"lr\": 0.003}\n",
        "        fit_configurations = []\n",
        "        for idx, client in enumerate(clients):\n",
        "            fit_configurations.append((client, FitIns(parameters, standard_config)))\n",
        "            # if idx < half_clients:\n",
        "            #     fit_configurations.append((client, FitIns(parameters, standard_config)))\n",
        "            # else:\n",
        "            #     fit_configurations.append(\n",
        "            #         (client, FitIns(parameters, higher_lr_config))\n",
        "            #     )\n",
        "        return fit_configurations\n",
        "\n",
        "    def aggregate_fit(\n",
        "        self,\n",
        "        server_round: int,\n",
        "        results: List[Tuple[ClientProxy, FitRes]],\n",
        "        failures: List[Union[Tuple[ClientProxy, FitRes], BaseException]],\n",
        "    ) -> Tuple[Optional[Parameters], Dict[str, Scalar]]:\n",
        "        \"\"\"Aggregate fit results using weighted average.\"\"\"\n",
        "\n",
        "        weights_results = [\n",
        "            (parameters_to_ndarrays(fit_res.parameters), fit_res.num_examples)\n",
        "            for _, fit_res in results\n",
        "        ]\n",
        "        parameters_aggregated = ndarrays_to_parameters(aggregate(weights_results))\n",
        "        metrics_aggregated = {}\n",
        "        return parameters_aggregated, metrics_aggregated\n",
        "\n",
        "    def configure_evaluate(\n",
        "        self, server_round: int, parameters: Parameters, client_manager: ClientManager\n",
        "    ) -> List[Tuple[ClientProxy, EvaluateIns]]:\n",
        "        \"\"\"Configure the next round of evaluation.\"\"\"\n",
        "        if self.fraction_evaluate == 0.0:\n",
        "            return []\n",
        "        config = {}\n",
        "        evaluate_ins = EvaluateIns(parameters, config)\n",
        "\n",
        "        # Sample clients\n",
        "        sample_size, min_num_clients = self.num_evaluation_clients(\n",
        "            client_manager.num_available()\n",
        "        )\n",
        "        clients = client_manager.sample(\n",
        "            num_clients=sample_size, min_num_clients=min_num_clients\n",
        "        )\n",
        "\n",
        "        # Return client/config pairs\n",
        "        return [(client, evaluate_ins) for client in clients]\n",
        "\n",
        "    def aggregate_evaluate(\n",
        "        self,\n",
        "        server_round: int,\n",
        "        results: List[Tuple[ClientProxy, EvaluateRes]],\n",
        "        failures: List[Union[Tuple[ClientProxy, EvaluateRes], BaseException]],\n",
        "    ) -> Tuple[Optional[float], Dict[str, Scalar]]:\n",
        "        \"\"\"Aggregate evaluation losses using weighted average.\"\"\"\n",
        "\n",
        "        if not results:\n",
        "            return None, {}\n",
        "\n",
        "        loss_aggregated = weighted_loss_avg(\n",
        "            [\n",
        "                (evaluate_res.num_examples, evaluate_res.loss)\n",
        "                for _, evaluate_res in results\n",
        "            ]\n",
        "        )\n",
        "        metrics_aggregated = {}\n",
        "        return loss_aggregated, metrics_aggregated\n",
        "\n",
        "    def evaluate(\n",
        "        self, server_round: int, parameters: Parameters\n",
        "    ) -> Optional[Tuple[float, Dict[str, Scalar]]]:\n",
        "        \"\"\"Evaluate global model parameters using an evaluation function.\"\"\"\n",
        "\n",
        "        # Let's assume we won't perform the global model evaluation on the server side.\n",
        "        return None\n",
        "\n",
        "    def num_fit_clients(self, num_available_clients: int) -> Tuple[int, int]:\n",
        "        \"\"\"Return sample size and required number of clients.\"\"\"\n",
        "        num_clients = int(num_available_clients * self.fraction_fit)\n",
        "        return max(num_clients, self.min_fit_clients), self.min_available_clients\n",
        "\n",
        "    def num_evaluation_clients(self, num_available_clients: int) -> Tuple[int, int]:\n",
        "        \"\"\"Use a fraction of available clients for evaluation.\"\"\"\n",
        "        num_clients = int(num_available_clients * self.fraction_evaluate)\n",
        "        return max(num_clients, self.min_evaluate_clients), self.min_available_clients"
      ]
    },
    {
      "cell_type": "code",
      "execution_count": 29,
      "metadata": {},
      "outputs": [
        {
          "name": "stderr",
          "output_type": "stream",
          "text": [
            "INFO flwr 2024-04-26 17:14:03,631 | app.py:146 | Starting Flower simulation, config: ServerConfig(num_rounds=10, round_timeout=None)\n",
            "INFO flwr 2024-04-26 17:14:18,321 | app.py:180 | Flower VCE: Ray initialized with resources: {'object_store_memory': 32606579097.0, 'memory': 66082017895.0, 'GPU': 1.0, 'CPU': 32.0, 'node:127.0.0.1': 1.0}\n",
            "INFO flwr 2024-04-26 17:14:18,323 | server.py:86 | Initializing global parameters\n",
            "INFO flwr 2024-04-26 17:14:18,336 | server.py:269 | Using initial parameters provided by strategy\n",
            "INFO flwr 2024-04-26 17:14:18,338 | server.py:88 | Evaluating initial parameters\n",
            "INFO flwr 2024-04-26 17:14:18,340 | server.py:101 | FL starting\n",
            "DEBUG flwr 2024-04-26 17:14:18,342 | server.py:218 | fit_round 1: strategy sampled 5 clients (out of 5)\n"
          ]
        },
        {
          "name": "stdout",
          "output_type": "stream",
          "text": [
            " pid=26480)\u001b[0m [Client 0] fit, config: {'lr': 0.01}\n",
            " pid=30584)\u001b[0m [Client 3] fit, config: {'lr': 0.01}\n",
            " pid=25168)\u001b[0m [Client 2] fit, config: {'lr': 0.01}\n",
            " pid=24688)\u001b[0m [Client 1] fit, config: {'lr': 0.01}\n",
            " pid=26992)\u001b[0m [Client 4] fit, config: {'lr': 0.01}\n",
            " pid=26480)\u001b[0m Epoch 1: train loss 0.06421691924333572, accuracy 0.23577777777777778\n",
            " pid=24688)\u001b[0m Epoch 1: train loss 0.06505580991506577, accuracy 0.22177777777777777\n",
            " pid=26992)\u001b[0m Epoch 1: train loss 0.06500303745269775, accuracy 0.2157777777777778\n",
            " pid=25168)\u001b[0m Epoch 1: train loss 0.06502891331911087, accuracy 0.23244444444444445\n",
            " pid=30584)\u001b[0m Epoch 1: train loss 0.0655265524983406, accuracy 0.21088888888888888\n",
            " pid=26480)\u001b[0m Epoch 2: train loss 0.05542409420013428, accuracy 0.3531111111111111\n",
            " pid=26992)\u001b[0m Epoch 2: train loss 0.057087816298007965, accuracy 0.33355555555555555\n",
            " pid=24688)\u001b[0m Epoch 2: train loss 0.05554568022489548, accuracy 0.34844444444444445\n",
            " pid=25168)\u001b[0m Epoch 2: train loss 0.05750065669417381, accuracy 0.3342222222222222\n",
            " pid=30584)\u001b[0m Epoch 2: train loss 0.05661594122648239, accuracy 0.3208888888888889\n",
            " pid=26480)\u001b[0m Epoch 3: train loss 0.05165810137987137, accuracy 0.3962222222222222\n",
            " pid=26992)\u001b[0m Epoch 3: train loss 0.05253179371356964, accuracy 0.3857777777777778\n",
            " pid=24688)\u001b[0m Epoch 3: train loss 0.05109203979372978, accuracy 0.38822222222222225\n",
            " pid=25168)\u001b[0m Epoch 3: train loss 0.05344545468688011, accuracy 0.36333333333333334\n",
            " pid=30584)\u001b[0m Epoch 3: train loss 0.05188145115971565, accuracy 0.3888888888888889\n",
            " pid=26480)\u001b[0m Epoch 4: train loss 0.04880502074956894, accuracy 0.4351111111111111\n",
            " pid=24688)\u001b[0m Epoch 4: train loss 0.0486774817109108, accuracy 0.4351111111111111\n",
            " pid=26992)\u001b[0m Epoch 4: train loss 0.049278080463409424, accuracy 0.42577777777777776\n",
            " pid=25168)\u001b[0m Epoch 4: train loss 0.05046013370156288, accuracy 0.4022222222222222\n",
            " pid=30584)\u001b[0m Epoch 4: train loss 0.04927501082420349, accuracy 0.4251111111111111\n"
          ]
        },
        {
          "name": "stderr",
          "output_type": "stream",
          "text": [
            "DEBUG flwr 2024-04-26 17:14:48,527 | server.py:232 | fit_round 1 received 5 results and 0 failures\n"
          ]
        },
        {
          "name": "stdout",
          "output_type": "stream",
          "text": [
            " pid=26480)\u001b[0m Epoch 5: train loss 0.04633060842752457, accuracy 0.4568888888888889\n",
            " pid=25168)\u001b[0m Epoch 5: train loss 0.04754297807812691, accuracy 0.4351111111111111\n",
            " pid=30584)\u001b[0m Epoch 5: train loss 0.047654155641794205, accuracy 0.43822222222222224\n",
            " pid=24688)\u001b[0m Epoch 5: train loss 0.04643639922142029, accuracy 0.45222222222222225\n"
          ]
        },
        {
          "name": "stderr",
          "output_type": "stream",
          "text": [
            "DEBUG flwr 2024-04-26 17:14:48,568 | server.py:168 | evaluate_round 1: strategy sampled 5 clients (out of 5)\n"
          ]
        },
        {
          "name": "stdout",
          "output_type": "stream",
          "text": [
            " pid=26992)\u001b[0m Epoch 5: train loss 0.04727895185351372, accuracy 0.45711111111111113\n",
            " pid=26992)\u001b[0m [Client 2] evaluate, config: {}\n",
            " pid=26992)\u001b[0m Client 2 loss 0.05820713758468628\n",
            " pid=26992)\u001b[0m Client 2 accuracy 0.368\n",
            " pid=26992)\u001b[0m [Client 1] evaluate, config: {}\n",
            " pid=24688)\u001b[0m [Client 4] evaluate, config: {}\n"
          ]
        },
        {
          "name": "stderr",
          "output_type": "stream",
          "text": [
            "DEBUG flwr 2024-04-26 17:14:55,844 | server.py:182 | evaluate_round 1 received 5 results and 0 failures\n",
            "DEBUG flwr 2024-04-26 17:14:55,845 | server.py:218 | fit_round 2: strategy sampled 5 clients (out of 5)\n"
          ]
        },
        {
          "name": "stdout",
          "output_type": "stream",
          "text": [
            " pid=26480)\u001b[0m [Client 0] evaluate, config: {}\n",
            " pid=25168)\u001b[0m [Client 3] evaluate, config: {}\n",
            " pid=24688)\u001b[0m Client 4 loss 0.05771676588058472\n",
            " pid=24688)\u001b[0m Client 4 accuracy 0.332\n",
            " pid=26992)\u001b[0m Client 1 loss 0.05742373633384704\n",
            " pid=26992)\u001b[0m Client 1 accuracy 0.374\n",
            " pid=26480)\u001b[0m Client 0 loss 0.05790692591667175\n",
            " pid=26480)\u001b[0m Client 0 accuracy 0.394\n",
            " pid=25168)\u001b[0m Client 3 loss 0.05777425909042359\n",
            " pid=25168)\u001b[0m Client 3 accuracy 0.352\n",
            " pid=25168)\u001b[0m [Client 2] fit, config: {'lr': 0.01}\n",
            " pid=26480)\u001b[0m [Client 3] fit, config: {'lr': 0.01}\n",
            " pid=26992)\u001b[0m [Client 0] fit, config: {'lr': 0.01}\n",
            " pid=24688)\u001b[0m [Client 1] fit, config: {'lr': 0.01}\n",
            " pid=30584)\u001b[0m [Client 4] fit, config: {'lr': 0.01}\n",
            " pid=25168)\u001b[0m Epoch 1: train loss 0.05063699930906296, accuracy 0.41355555555555557\n",
            " pid=26992)\u001b[0m Epoch 1: train loss 0.05027167499065399, accuracy 0.41688888888888886\n",
            " pid=26480)\u001b[0m Epoch 1: train loss 0.0510915070772171, accuracy 0.40644444444444444\n",
            " pid=24688)\u001b[0m Epoch 1: train loss 0.04951494187116623, accuracy 0.4291111111111111\n",
            " pid=30584)\u001b[0m Epoch 1: train loss 0.050128478556871414, accuracy 0.42377777777777775\n",
            " pid=25168)\u001b[0m Epoch 2: train loss 0.04701573774218559, accuracy 0.45311111111111113\n",
            " pid=26480)\u001b[0m Epoch 2: train loss 0.047692906111478806, accuracy 0.44222222222222224\n",
            " pid=26992)\u001b[0m Epoch 2: train loss 0.04678947106003761, accuracy 0.4557777777777778\n",
            " pid=24688)\u001b[0m Epoch 2: train loss 0.04592781886458397, accuracy 0.46555555555555556\n",
            " pid=30584)\u001b[0m Epoch 2: train loss 0.04638014733791351, accuracy 0.4573333333333333\n",
            " pid=25168)\u001b[0m Epoch 3: train loss 0.04464300721883774, accuracy 0.47933333333333333\n",
            " pid=26992)\u001b[0m Epoch 3: train loss 0.044591739773750305, accuracy 0.4746666666666667\n",
            " pid=24688)\u001b[0m Epoch 3: train loss 0.04422378912568092, accuracy 0.48244444444444445\n",
            " pid=26480)\u001b[0m Epoch 3: train loss 0.04613715037703514, accuracy 0.4651111111111111\n",
            " pid=30584)\u001b[0m Epoch 3: train loss 0.04400240257382393, accuracy 0.49066666666666664\n",
            " pid=25168)\u001b[0m Epoch 4: train loss 0.042597029358148575, accuracy 0.5028888888888889\n",
            " pid=26480)\u001b[0m Epoch 4: train loss 0.04458918422460556, accuracy 0.48777777777777775\n",
            " pid=30584)\u001b[0m Epoch 4: train loss 0.04221773147583008, accuracy 0.5088888888888888\n",
            " pid=26992)\u001b[0m Epoch 4: train loss 0.04243750125169754, accuracy 0.5053333333333333\n",
            " pid=24688)\u001b[0m Epoch 4: train loss 0.04185038432478905, accuracy 0.518\n",
            " pid=25168)\u001b[0m Epoch 5: train loss 0.04017103835940361, accuracy 0.5388888888888889\n",
            " pid=26480)\u001b[0m Epoch 5: train loss 0.042149618268013, accuracy 0.5077777777777778\n",
            " pid=30584)\u001b[0m Epoch 5: train loss 0.04072321951389313, accuracy 0.5288888888888889\n"
          ]
        },
        {
          "name": "stderr",
          "output_type": "stream",
          "text": [
            "DEBUG flwr 2024-04-26 17:15:23,553 | server.py:232 | fit_round 2 received 5 results and 0 failures\n",
            "DEBUG flwr 2024-04-26 17:15:23,594 | server.py:168 | evaluate_round 2: strategy sampled 5 clients (out of 5)\n"
          ]
        },
        {
          "name": "stdout",
          "output_type": "stream",
          "text": [
            " pid=26992)\u001b[0m Epoch 5: train loss 0.04064925014972687, accuracy 0.5217777777777778\n",
            " pid=24688)\u001b[0m Epoch 5: train loss 0.03986046463251114, accuracy 0.5448888888888889\n",
            " pid=26992)\u001b[0m [Client 1] evaluate, config: {}\n",
            " pid=26992)\u001b[0m Client 1 loss 0.04572636151313782\n",
            " pid=26992)\u001b[0m Client 1 accuracy 0.48\n",
            " pid=26992)\u001b[0m [Client 3] evaluate, config: {}\n",
            " pid=24688)\u001b[0m [Client 0] evaluate, config: {}\n",
            " pid=26480)\u001b[0m [Client 4] evaluate, config: {}\n",
            " pid=30584)\u001b[0m [Client 2] evaluate, config: {}\n"
          ]
        },
        {
          "name": "stderr",
          "output_type": "stream",
          "text": [
            "DEBUG flwr 2024-04-26 17:15:30,820 | server.py:182 | evaluate_round 2 received 5 results and 0 failures\n",
            "DEBUG flwr 2024-04-26 17:15:30,824 | server.py:218 | fit_round 3: strategy sampled 5 clients (out of 5)\n"
          ]
        },
        {
          "name": "stdout",
          "output_type": "stream",
          "text": [
            " pid=26992)\u001b[0m Client 3 loss 0.04499893712997437\n",
            " pid=26992)\u001b[0m Client 3 accuracy 0.466\n",
            " pid=24688)\u001b[0m Client 0 loss 0.0459920551776886\n",
            " pid=24688)\u001b[0m Client 0 accuracy 0.46\n",
            " pid=26480)\u001b[0m Client 4 loss 0.04431886577606201\n",
            " pid=26480)\u001b[0m Client 4 accuracy 0.468\n",
            " pid=30584)\u001b[0m Client 2 loss 0.04634581136703491\n",
            " pid=30584)\u001b[0m Client 2 accuracy 0.488\n",
            " pid=30584)\u001b[0m [Client 0] fit, config: {'lr': 0.01}\n",
            " pid=26992)\u001b[0m [Client 3] fit, config: {'lr': 0.01}\n",
            " pid=26480)\u001b[0m [Client 1] fit, config: {'lr': 0.01}\n",
            " pid=24688)\u001b[0m [Client 4] fit, config: {'lr': 0.01}\n",
            " pid=25168)\u001b[0m [Client 2] fit, config: {'lr': 0.01}\n",
            " pid=30584)\u001b[0m Epoch 1: train loss 0.043399378657341, accuracy 0.49533333333333335\n",
            " pid=26992)\u001b[0m Epoch 1: train loss 0.04476681351661682, accuracy 0.4895555555555556\n",
            " pid=26480)\u001b[0m Epoch 1: train loss 0.04253546521067619, accuracy 0.5108888888888888\n",
            " pid=24688)\u001b[0m Epoch 1: train loss 0.04295795410871506, accuracy 0.5008888888888889\n",
            " pid=25168)\u001b[0m Epoch 1: train loss 0.04328145086765289, accuracy 0.49933333333333335\n",
            " pid=30584)\u001b[0m Epoch 2: train loss 0.04045223817229271, accuracy 0.5353333333333333\n",
            " pid=26992)\u001b[0m Epoch 2: train loss 0.04238060489296913, accuracy 0.5086666666666667\n",
            " pid=26480)\u001b[0m Epoch 2: train loss 0.03970127925276756, accuracy 0.5375555555555556\n",
            " pid=24688)\u001b[0m Epoch 2: train loss 0.04130643978714943, accuracy 0.522\n",
            " pid=25168)\u001b[0m Epoch 2: train loss 0.04126884788274765, accuracy 0.5246666666666666\n",
            " pid=30584)\u001b[0m Epoch 3: train loss 0.03850205987691879, accuracy 0.5486666666666666\n",
            " pid=26992)\u001b[0m Epoch 3: train loss 0.039937689900398254, accuracy 0.5395555555555556\n",
            " pid=26480)\u001b[0m Epoch 3: train loss 0.03802678734064102, accuracy 0.5564444444444444\n",
            " pid=24688)\u001b[0m Epoch 3: train loss 0.03863665089011192, accuracy 0.5526666666666666\n",
            " pid=25168)\u001b[0m Epoch 3: train loss 0.03847131133079529, accuracy 0.5617777777777778\n",
            " pid=30584)\u001b[0m Epoch 4: train loss 0.03659994155168533, accuracy 0.5797777777777777\n",
            " pid=26992)\u001b[0m Epoch 4: train loss 0.03796675428748131, accuracy 0.5602222222222222\n",
            " pid=26480)\u001b[0m Epoch 4: train loss 0.035436052829027176, accuracy 0.5966666666666667\n",
            " pid=24688)\u001b[0m Epoch 4: train loss 0.036502815783023834, accuracy 0.588\n",
            " pid=25168)\u001b[0m Epoch 4: train loss 0.036685261875391006, accuracy 0.58\n",
            " pid=30584)\u001b[0m Epoch 5: train loss 0.034355394542217255, accuracy 0.6042222222222222\n",
            " pid=26992)\u001b[0m Epoch 5: train loss 0.03573267534375191, accuracy 0.5895555555555556\n",
            " pid=26480)\u001b[0m Epoch 5: train loss 0.03387709707021713, accuracy 0.6026666666666667\n"
          ]
        },
        {
          "name": "stderr",
          "output_type": "stream",
          "text": [
            "DEBUG flwr 2024-04-26 17:15:58,890 | server.py:232 | fit_round 3 received 5 results and 0 failures\n",
            "DEBUG flwr 2024-04-26 17:15:58,906 | server.py:168 | evaluate_round 3: strategy sampled 5 clients (out of 5)\n"
          ]
        },
        {
          "name": "stdout",
          "output_type": "stream",
          "text": [
            " pid=24688)\u001b[0m Epoch 5: train loss 0.034403156489133835, accuracy 0.604\n",
            " pid=25168)\u001b[0m Epoch 5: train loss 0.033838994801044464, accuracy 0.6144444444444445\n",
            " pid=25168)\u001b[0m [Client 4] evaluate, config: {}\n",
            " pid=25168)\u001b[0m Client 4 loss 0.041651840090751645\n",
            " pid=25168)\u001b[0m Client 4 accuracy 0.51\n",
            " pid=25168)\u001b[0m [Client 1] evaluate, config: {}\n",
            " pid=26992)\u001b[0m [Client 2] evaluate, config: {}\n",
            " pid=24688)\u001b[0m [Client 0] evaluate, config: {}\n",
            " pid=26480)\u001b[0m [Client 3] evaluate, config: {}\n"
          ]
        },
        {
          "name": "stderr",
          "output_type": "stream",
          "text": [
            "DEBUG flwr 2024-04-26 17:16:05,976 | server.py:182 | evaluate_round 3 received 5 results and 0 failures\n",
            "DEBUG flwr 2024-04-26 17:16:05,978 | server.py:218 | fit_round 4: strategy sampled 5 clients (out of 5)\n"
          ]
        },
        {
          "name": "stdout",
          "output_type": "stream",
          "text": [
            " pid=25168)\u001b[0m Client 1 loss 0.04151560580730438\n",
            " pid=25168)\u001b[0m Client 1 accuracy 0.508\n",
            " pid=26992)\u001b[0m Client 2 loss 0.043179896593093875\n",
            " pid=26992)\u001b[0m Client 2 accuracy 0.544\n",
            " pid=24688)\u001b[0m Client 0 loss 0.04240908598899841\n",
            " pid=24688)\u001b[0m Client 0 accuracy 0.508\n",
            " pid=26480)\u001b[0m Client 3 loss 0.04139879095554352\n",
            " pid=26480)\u001b[0m Client 3 accuracy 0.536\n",
            " pid=26992)\u001b[0m [Client 0] fit, config: {'lr': 0.01}\n",
            " pid=24688)\u001b[0m [Client 4] fit, config: {'lr': 0.01}\n",
            " pid=26480)\u001b[0m [Client 2] fit, config: {'lr': 0.01}\n",
            " pid=25168)\u001b[0m [Client 3] fit, config: {'lr': 0.01}\n",
            " pid=30584)\u001b[0m [Client 1] fit, config: {'lr': 0.01}\n",
            " pid=26992)\u001b[0m Epoch 1: train loss 0.03925221413373947, accuracy 0.5413333333333333\n",
            " pid=24688)\u001b[0m Epoch 1: train loss 0.03945716843008995, accuracy 0.544\n",
            " pid=26480)\u001b[0m Epoch 1: train loss 0.03907245770096779, accuracy 0.5553333333333333\n",
            " pid=25168)\u001b[0m Epoch 1: train loss 0.04047434777021408, accuracy 0.5355555555555556\n",
            " pid=30584)\u001b[0m Epoch 1: train loss 0.038474179804325104, accuracy 0.5622222222222222\n",
            " pid=26992)\u001b[0m Epoch 2: train loss 0.03592352569103241, accuracy 0.5822222222222222\n",
            " pid=24688)\u001b[0m Epoch 2: train loss 0.03579551726579666, accuracy 0.5886666666666667\n",
            " pid=25168)\u001b[0m Epoch 2: train loss 0.03708728775382042, accuracy 0.5773333333333334\n",
            " pid=30584)\u001b[0m Epoch 2: train loss 0.03525406867265701, accuracy 0.5982222222222222\n",
            " pid=26480)\u001b[0m Epoch 2: train loss 0.03573644906282425, accuracy 0.5891111111111111\n",
            " pid=26992)\u001b[0m Epoch 3: train loss 0.03380469232797623, accuracy 0.6117777777777778\n",
            " pid=24688)\u001b[0m Epoch 3: train loss 0.03354671597480774, accuracy 0.6168888888888889\n",
            " pid=26480)\u001b[0m Epoch 3: train loss 0.03341459482908249, accuracy 0.6242222222222222\n",
            " pid=30584)\u001b[0m Epoch 3: train loss 0.03229362517595291, accuracy 0.6268888888888889\n",
            " pid=25168)\u001b[0m Epoch 3: train loss 0.034795936197042465, accuracy 0.602\n",
            " pid=26992)\u001b[0m Epoch 4: train loss 0.030890384688973427, accuracy 0.6506666666666666\n",
            " pid=24688)\u001b[0m Epoch 4: train loss 0.03076556697487831, accuracy 0.644\n",
            " pid=25168)\u001b[0m Epoch 4: train loss 0.03213885426521301, accuracy 0.6348888888888888\n",
            " pid=30584)\u001b[0m Epoch 4: train loss 0.03011169843375683, accuracy 0.6493333333333333\n",
            " pid=26480)\u001b[0m Epoch 4: train loss 0.030861442908644676, accuracy 0.6482222222222223\n",
            " pid=26992)\u001b[0m Epoch 5: train loss 0.028748223558068275, accuracy 0.6768888888888889\n",
            " pid=24688)\u001b[0m Epoch 5: train loss 0.028089554980397224, accuracy 0.6753333333333333\n",
            " pid=25168)\u001b[0m Epoch 5: train loss 0.02997537888586521, accuracy 0.6573333333333333\n",
            " pid=30584)\u001b[0m Epoch 5: train loss 0.02796313539147377, accuracy 0.6813333333333333\n"
          ]
        },
        {
          "name": "stderr",
          "output_type": "stream",
          "text": [
            "DEBUG flwr 2024-04-26 17:16:34,043 | server.py:232 | fit_round 4 received 5 results and 0 failures\n",
            "DEBUG flwr 2024-04-26 17:16:34,061 | server.py:168 | evaluate_round 4: strategy sampled 5 clients (out of 5)\n"
          ]
        },
        {
          "name": "stdout",
          "output_type": "stream",
          "text": [
            " pid=26480)\u001b[0m Epoch 5: train loss 0.028178388252854347, accuracy 0.678\n"
          ]
        },
        {
          "name": "stderr",
          "output_type": "stream",
          "text": [
            "DEBUG flwr 2024-04-26 17:16:41,378 | server.py:182 | evaluate_round 4 received 5 results and 0 failures\n"
          ]
        },
        {
          "name": "stdout",
          "output_type": "stream",
          "text": [
            " pid=26992)\u001b[0m [Client 2] evaluate, config: {}\n",
            " pid=24688)\u001b[0m [Client 1] evaluate, config: {}\n",
            " pid=26480)\u001b[0m [Client 3] evaluate, config: {}\n",
            " pid=25168)\u001b[0m [Client 4] evaluate, config: {}\n",
            " pid=30584)\u001b[0m [Client 0] evaluate, config: {}\n",
            " pid=26992)\u001b[0m Client 2 loss 0.041324456095695496\n",
            " pid=26992)\u001b[0m Client 2 accuracy 0.576\n",
            " pid=26480)\u001b[0m Client 3 loss 0.04034189331531525\n",
            " pid=26480)\u001b[0m Client 3 accuracy 0.57\n",
            " pid=25168)\u001b[0m Client 4 loss 0.04031698060035706\n",
            " pid=25168)\u001b[0m Client 4 accuracy 0.532\n",
            " pid=30584)\u001b[0m Client 0 loss 0.04106966185569763\n",
            " pid=30584)\u001b[0m Client 0 accuracy 0.532\n"
          ]
        },
        {
          "name": "stderr",
          "output_type": "stream",
          "text": [
            "DEBUG flwr 2024-04-26 17:16:41,379 | server.py:218 | fit_round 5: strategy sampled 5 clients (out of 5)\n"
          ]
        },
        {
          "name": "stdout",
          "output_type": "stream",
          "text": [
            " pid=24688)\u001b[0m Client 1 loss 0.04040357494354248\n",
            " pid=24688)\u001b[0m Client 1 accuracy 0.544\n",
            " pid=24688)\u001b[0m [Client 2] fit, config: {'lr': 0.01}\n",
            " pid=26992)\u001b[0m [Client 1] fit, config: {'lr': 0.01}\n",
            " pid=25168)\u001b[0m [Client 4] fit, config: {'lr': 0.01}\n",
            " pid=30584)\u001b[0m [Client 3] fit, config: {'lr': 0.01}\n",
            " pid=26480)\u001b[0m [Client 0] fit, config: {'lr': 0.01}\n",
            " pid=24688)\u001b[0m Epoch 1: train loss 0.03580252826213837, accuracy 0.5904444444444444\n",
            " pid=30584)\u001b[0m Epoch 1: train loss 0.03695918247103691, accuracy 0.5775555555555556\n",
            " pid=25168)\u001b[0m Epoch 1: train loss 0.035751644521951675, accuracy 0.5895555555555556\n",
            " pid=26992)\u001b[0m Epoch 1: train loss 0.03534391149878502, accuracy 0.5762222222222222\n",
            " pid=26480)\u001b[0m Epoch 1: train loss 0.03613455221056938, accuracy 0.584\n",
            " pid=24688)\u001b[0m Epoch 2: train loss 0.03185233846306801, accuracy 0.6388888888888888\n",
            " pid=26992)\u001b[0m Epoch 2: train loss 0.030987851321697235, accuracy 0.6388888888888888\n",
            " pid=30584)\u001b[0m Epoch 2: train loss 0.03281446918845177, accuracy 0.62\n",
            " pid=25168)\u001b[0m Epoch 2: train loss 0.03143838793039322, accuracy 0.6433333333333333\n",
            " pid=26480)\u001b[0m Epoch 2: train loss 0.03194644674658775, accuracy 0.6353333333333333\n",
            " pid=24688)\u001b[0m Epoch 3: train loss 0.028983792290091515, accuracy 0.6657777777777778\n",
            " pid=30584)\u001b[0m Epoch 3: train loss 0.02974986471235752, accuracy 0.6648888888888889\n",
            " pid=26992)\u001b[0m Epoch 3: train loss 0.028316451236605644, accuracy 0.6631111111111111\n",
            " pid=25168)\u001b[0m Epoch 3: train loss 0.0279777180403471, accuracy 0.6808888888888889\n",
            " pid=26480)\u001b[0m Epoch 3: train loss 0.029221978038549423, accuracy 0.6651111111111111\n",
            " pid=24688)\u001b[0m Epoch 4: train loss 0.02618548274040222, accuracy 0.7091111111111111\n",
            " pid=30584)\u001b[0m Epoch 4: train loss 0.026798713952302933, accuracy 0.7066666666666667\n",
            " pid=26992)\u001b[0m Epoch 4: train loss 0.02539876103401184, accuracy 0.7088888888888889\n",
            " pid=25168)\u001b[0m Epoch 4: train loss 0.024890799075365067, accuracy 0.72\n",
            " pid=26480)\u001b[0m Epoch 4: train loss 0.025822581723332405, accuracy 0.7104444444444444\n",
            " pid=24688)\u001b[0m Epoch 5: train loss 0.023628367111086845, accuracy 0.7291111111111112\n",
            " pid=30584)\u001b[0m Epoch 5: train loss 0.023757826536893845, accuracy 0.7288888888888889\n",
            " pid=26992)\u001b[0m Epoch 5: train loss 0.02271171100437641, accuracy 0.7393333333333333\n",
            " pid=25168)\u001b[0m Epoch 5: train loss 0.022322621196508408, accuracy 0.752\n"
          ]
        },
        {
          "name": "stderr",
          "output_type": "stream",
          "text": [
            "DEBUG flwr 2024-04-26 17:17:09,299 | server.py:232 | fit_round 5 received 5 results and 0 failures\n",
            "DEBUG flwr 2024-04-26 17:17:09,334 | server.py:168 | evaluate_round 5: strategy sampled 5 clients (out of 5)\n"
          ]
        },
        {
          "name": "stdout",
          "output_type": "stream",
          "text": [
            " pid=26480)\u001b[0m Epoch 5: train loss 0.023207956925034523, accuracy 0.736\n",
            " pid=26992)\u001b[0m [Client 1] evaluate, config: {}\n",
            " pid=26480)\u001b[0m [Client 0] evaluate, config: {}\n",
            " pid=25168)\u001b[0m [Client 2] evaluate, config: {}\n",
            " pid=24688)\u001b[0m [Client 3] evaluate, config: {}\n",
            " pid=26480)\u001b[0m Client 0 loss 0.0423574583530426\n",
            " pid=26480)\u001b[0m Client 0 accuracy 0.526\n",
            " pid=30584)\u001b[0m [Client 4] evaluate, config: {}\n"
          ]
        },
        {
          "name": "stderr",
          "output_type": "stream",
          "text": [
            "DEBUG flwr 2024-04-26 17:17:16,445 | server.py:182 | evaluate_round 5 received 5 results and 0 failures\n",
            "DEBUG flwr 2024-04-26 17:17:16,447 | server.py:218 | fit_round 6: strategy sampled 5 clients (out of 5)\n"
          ]
        },
        {
          "name": "stdout",
          "output_type": "stream",
          "text": [
            " pid=26992)\u001b[0m Client 1 loss 0.041815194725990296\n",
            " pid=26992)\u001b[0m Client 1 accuracy 0.538\n",
            " pid=24688)\u001b[0m Client 3 loss 0.04221470057964325\n",
            " pid=24688)\u001b[0m Client 3 accuracy 0.572\n",
            " pid=25168)\u001b[0m Client 2 loss 0.043623483538627626\n",
            " pid=25168)\u001b[0m Client 2 accuracy 0.564\n",
            " pid=30584)\u001b[0m Client 4 loss 0.04079577279090881\n",
            " pid=30584)\u001b[0m Client 4 accuracy 0.538\n",
            " pid=30584)\u001b[0m [Client 4] fit, config: {'lr': 0.01}\n",
            " pid=26992)\u001b[0m [Client 0] fit, config: {'lr': 0.01}\n",
            " pid=24688)\u001b[0m [Client 1] fit, config: {'lr': 0.01}\n",
            " pid=26480)\u001b[0m [Client 2] fit, config: {'lr': 0.01}\n",
            " pid=25168)\u001b[0m [Client 3] fit, config: {'lr': 0.01}\n",
            " pid=30584)\u001b[0m Epoch 1: train loss 0.03357909619808197, accuracy 0.6151111111111112\n",
            " pid=26992)\u001b[0m Epoch 1: train loss 0.0334186926484108, accuracy 0.6208888888888889\n",
            " pid=26480)\u001b[0m Epoch 1: train loss 0.03354732692241669, accuracy 0.6171111111111112\n",
            " pid=25168)\u001b[0m Epoch 1: train loss 0.03453980013728142, accuracy 0.6122222222222222\n",
            " pid=24688)\u001b[0m Epoch 1: train loss 0.03276737406849861, accuracy 0.6224444444444445\n",
            " pid=30584)\u001b[0m Epoch 2: train loss 0.027789700776338577, accuracy 0.678\n",
            " pid=25168)\u001b[0m Epoch 2: train loss 0.02883213944733143, accuracy 0.6751111111111111\n",
            " pid=26992)\u001b[0m Epoch 2: train loss 0.028092369437217712, accuracy 0.6737777777777778\n",
            " pid=26480)\u001b[0m Epoch 2: train loss 0.028317878022789955, accuracy 0.6802222222222222\n",
            " pid=24688)\u001b[0m Epoch 2: train loss 0.02733566425740719, accuracy 0.6857777777777778\n",
            " pid=30584)\u001b[0m Epoch 3: train loss 0.024074893444776535, accuracy 0.7266666666666667\n",
            " pid=26992)\u001b[0m Epoch 3: train loss 0.024516448378562927, accuracy 0.7235555555555555\n",
            " pid=26480)\u001b[0m Epoch 3: train loss 0.024525167420506477, accuracy 0.726\n",
            " pid=25168)\u001b[0m Epoch 3: train loss 0.025587867945432663, accuracy 0.7157777777777777\n",
            " pid=24688)\u001b[0m Epoch 3: train loss 0.02395673096179962, accuracy 0.7288888888888889\n",
            " pid=30584)\u001b[0m Epoch 4: train loss 0.02106052078306675, accuracy 0.7666666666666667\n",
            " pid=25168)\u001b[0m Epoch 4: train loss 0.02194712497293949, accuracy 0.7568888888888889\n",
            " pid=26992)\u001b[0m Epoch 4: train loss 0.020984772592782974, accuracy 0.7631111111111111\n",
            " pid=24688)\u001b[0m Epoch 4: train loss 0.020636148750782013, accuracy 0.7642222222222222\n",
            " pid=26480)\u001b[0m Epoch 4: train loss 0.021149471402168274, accuracy 0.766\n",
            " pid=30584)\u001b[0m Epoch 5: train loss 0.01747017726302147, accuracy 0.8062222222222222\n",
            " pid=25168)\u001b[0m Epoch 5: train loss 0.019361408427357674, accuracy 0.7848888888888889\n"
          ]
        },
        {
          "name": "stderr",
          "output_type": "stream",
          "text": [
            "DEBUG flwr 2024-04-26 17:17:44,467 | server.py:232 | fit_round 6 received 5 results and 0 failures\n",
            "DEBUG flwr 2024-04-26 17:17:44,487 | server.py:168 | evaluate_round 6: strategy sampled 5 clients (out of 5)\n"
          ]
        },
        {
          "name": "stdout",
          "output_type": "stream",
          "text": [
            " pid=26480)\u001b[0m Epoch 5: train loss 0.018224917352199554, accuracy 0.8031111111111111\n",
            " pid=26992)\u001b[0m Epoch 5: train loss 0.017854254692792892, accuracy 0.8028888888888889\n",
            " pid=24688)\u001b[0m Epoch 5: train loss 0.017934812232851982, accuracy 0.8004444444444444\n",
            " pid=24688)\u001b[0m [Client 2] evaluate, config: {}\n",
            " pid=24688)\u001b[0m Client 2 loss 0.045028679966926576\n",
            " pid=24688)\u001b[0m Client 2 accuracy 0.558\n",
            " pid=26992)\u001b[0m [Client 4] evaluate, config: {}\n",
            " pid=24688)\u001b[0m [Client 3] evaluate, config: {}\n",
            " pid=26480)\u001b[0m [Client 0] evaluate, config: {}\n",
            " pid=25168)\u001b[0m [Client 1] evaluate, config: {}\n"
          ]
        },
        {
          "name": "stderr",
          "output_type": "stream",
          "text": [
            "DEBUG flwr 2024-04-26 17:17:51,793 | server.py:182 | evaluate_round 6 received 5 results and 0 failures\n",
            "DEBUG flwr 2024-04-26 17:17:51,795 | server.py:218 | fit_round 7: strategy sampled 5 clients (out of 5)\n"
          ]
        },
        {
          "name": "stdout",
          "output_type": "stream",
          "text": [
            " pid=26992)\u001b[0m Client 4 loss 0.04246779084205628\n",
            " pid=26992)\u001b[0m Client 4 accuracy 0.552\n",
            " pid=24688)\u001b[0m Client 3 loss 0.04317740249633789\n",
            " pid=24688)\u001b[0m Client 3 accuracy 0.586\n",
            " pid=26480)\u001b[0m Client 0 loss 0.04263540256023407\n",
            " pid=26480)\u001b[0m Client 0 accuracy 0.554\n",
            " pid=25168)\u001b[0m Client 1 loss 0.04379890775680542\n",
            " pid=25168)\u001b[0m Client 1 accuracy 0.556\n",
            " pid=26480)\u001b[0m [Client 4] fit, config: {'lr': 0.01}\n",
            " pid=25168)\u001b[0m [Client 0] fit, config: {'lr': 0.01}\n",
            " pid=26992)\u001b[0m [Client 3] fit, config: {'lr': 0.01}\n",
            " pid=24688)\u001b[0m [Client 2] fit, config: {'lr': 0.01}\n",
            " pid=30584)\u001b[0m [Client 1] fit, config: {'lr': 0.01}\n",
            " pid=25168)\u001b[0m Epoch 1: train loss 0.03066527284681797, accuracy 0.6564444444444445\n",
            " pid=26480)\u001b[0m Epoch 1: train loss 0.030984587967395782, accuracy 0.6473333333333333\n",
            " pid=24688)\u001b[0m Epoch 1: train loss 0.03096262365579605, accuracy 0.6435555555555555\n",
            " pid=26992)\u001b[0m Epoch 1: train loss 0.03149363026022911, accuracy 0.6357777777777778\n",
            " pid=30584)\u001b[0m Epoch 1: train loss 0.030430907383561134, accuracy 0.6455555555555555\n",
            " pid=25168)\u001b[0m Epoch 2: train loss 0.024095680564641953, accuracy 0.7217777777777777\n",
            " pid=26480)\u001b[0m Epoch 2: train loss 0.02405257523059845, accuracy 0.7206666666666667\n",
            " pid=24688)\u001b[0m Epoch 2: train loss 0.02449755184352398, accuracy 0.7222222222222222\n",
            " pid=26992)\u001b[0m Epoch 2: train loss 0.025220545008778572, accuracy 0.7133333333333334\n",
            " pid=30584)\u001b[0m Epoch 2: train loss 0.023692842572927475, accuracy 0.7257777777777777\n",
            " pid=25168)\u001b[0m Epoch 3: train loss 0.020262954756617546, accuracy 0.7755555555555556\n",
            " pid=26480)\u001b[0m Epoch 3: train loss 0.019793227314949036, accuracy 0.7724444444444445\n",
            " pid=24688)\u001b[0m Epoch 3: train loss 0.020533328875899315, accuracy 0.7717777777777778\n",
            " pid=26992)\u001b[0m Epoch 3: train loss 0.02154647931456566, accuracy 0.7604444444444445\n",
            " pid=30584)\u001b[0m Epoch 3: train loss 0.020076081156730652, accuracy 0.768\n",
            " pid=25168)\u001b[0m Epoch 4: train loss 0.01734085939824581, accuracy 0.8064444444444444\n",
            " pid=26480)\u001b[0m Epoch 4: train loss 0.016885364428162575, accuracy 0.82\n",
            " pid=24688)\u001b[0m Epoch 4: train loss 0.017459139227867126, accuracy 0.8031111111111111\n",
            " pid=26992)\u001b[0m Epoch 4: train loss 0.017925741150975227, accuracy 0.8073333333333333\n",
            " pid=30584)\u001b[0m Epoch 4: train loss 0.016688428819179535, accuracy 0.8137777777777778\n",
            " pid=25168)\u001b[0m Epoch 5: train loss 0.014551820233464241, accuracy 0.8395555555555556\n",
            " pid=26480)\u001b[0m Epoch 5: train loss 0.01381347794085741, accuracy 0.8491111111111111\n",
            " pid=24688)\u001b[0m Epoch 5: train loss 0.014121197164058685, accuracy 0.8542222222222222\n"
          ]
        },
        {
          "name": "stderr",
          "output_type": "stream",
          "text": [
            "DEBUG flwr 2024-04-26 17:18:19,812 | server.py:232 | fit_round 7 received 5 results and 0 failures\n",
            "DEBUG flwr 2024-04-26 17:18:19,852 | server.py:168 | evaluate_round 7: strategy sampled 5 clients (out of 5)\n"
          ]
        },
        {
          "name": "stdout",
          "output_type": "stream",
          "text": [
            " pid=26992)\u001b[0m Epoch 5: train loss 0.01501532457768917, accuracy 0.8391111111111111\n",
            " pid=30584)\u001b[0m Epoch 5: train loss 0.014284739270806313, accuracy 0.8468888888888889\n",
            " pid=26992)\u001b[0m [Client 2] evaluate, config: {}\n",
            " pid=26992)\u001b[0m Client 2 loss 0.05041292762756348\n",
            " pid=26992)\u001b[0m Client 2 accuracy 0.556\n",
            " pid=24688)\u001b[0m [Client 4] evaluate, config: {}\n",
            " pid=30584)\u001b[0m [Client 1] evaluate, config: {}\n"
          ]
        },
        {
          "name": "stderr",
          "output_type": "stream",
          "text": [
            "DEBUG flwr 2024-04-26 17:18:26,836 | server.py:182 | evaluate_round 7 received 5 results and 0 failures\n",
            "DEBUG flwr 2024-04-26 17:18:26,839 | server.py:218 | fit_round 8: strategy sampled 5 clients (out of 5)\n"
          ]
        },
        {
          "name": "stdout",
          "output_type": "stream",
          "text": [
            " pid=26480)\u001b[0m [Client 0] evaluate, config: {}\n",
            " pid=25168)\u001b[0m [Client 3] evaluate, config: {}\n",
            " pid=24688)\u001b[0m Client 4 loss 0.0473560106754303\n",
            " pid=24688)\u001b[0m Client 4 accuracy 0.538\n",
            " pid=26480)\u001b[0m Client 0 loss 0.046193174362182614\n",
            " pid=26480)\u001b[0m Client 0 accuracy 0.556\n",
            " pid=25168)\u001b[0m Client 3 loss 0.04716080665588379\n",
            " pid=25168)\u001b[0m Client 3 accuracy 0.584\n",
            " pid=30584)\u001b[0m Client 1 loss 0.04852843165397644\n",
            " pid=30584)\u001b[0m Client 1 accuracy 0.554\n",
            " pid=25168)\u001b[0m [Client 2] fit, config: {'lr': 0.01}\n",
            " pid=26480)\u001b[0m [Client 4] fit, config: {'lr': 0.01}\n",
            " pid=26992)\u001b[0m [Client 0] fit, config: {'lr': 0.01}\n",
            " pid=30584)\u001b[0m [Client 3] fit, config: {'lr': 0.01}\n",
            " pid=24688)\u001b[0m [Client 1] fit, config: {'lr': 0.01}\n",
            " pid=25168)\u001b[0m Epoch 1: train loss 0.02862376905977726, accuracy 0.6708888888888889\n",
            " pid=26992)\u001b[0m Epoch 1: train loss 0.02877805568277836, accuracy 0.6844444444444444\n",
            " pid=26480)\u001b[0m Epoch 1: train loss 0.02884727343916893, accuracy 0.6737777777777778\n",
            " pid=30584)\u001b[0m Epoch 1: train loss 0.028990447521209717, accuracy 0.6637777777777778\n",
            " pid=24688)\u001b[0m Epoch 1: train loss 0.02836734801530838, accuracy 0.67\n",
            " pid=25168)\u001b[0m Epoch 2: train loss 0.021244214847683907, accuracy 0.7615555555555555\n",
            " pid=26992)\u001b[0m Epoch 2: train loss 0.02115987055003643, accuracy 0.768\n",
            " pid=30584)\u001b[0m Epoch 2: train loss 0.021425949409604073, accuracy 0.7593333333333333\n",
            " pid=24688)\u001b[0m Epoch 2: train loss 0.021154392510652542, accuracy 0.7557777777777778\n",
            " pid=26480)\u001b[0m Epoch 2: train loss 0.021127590909600258, accuracy 0.764\n",
            " pid=25168)\u001b[0m Epoch 3: train loss 0.01686125621199608, accuracy 0.8171111111111111\n",
            " pid=26992)\u001b[0m Epoch 3: train loss 0.01719808019697666, accuracy 0.8133333333333334\n",
            " pid=24688)\u001b[0m Epoch 3: train loss 0.016449790447950363, accuracy 0.8084444444444444\n",
            " pid=26480)\u001b[0m Epoch 3: train loss 0.016376188024878502, accuracy 0.8108888888888889\n",
            " pid=30584)\u001b[0m Epoch 3: train loss 0.017469016835093498, accuracy 0.8068888888888889\n",
            " pid=25168)\u001b[0m Epoch 4: train loss 0.013822698034346104, accuracy 0.8497777777777777\n",
            " pid=26992)\u001b[0m Epoch 4: train loss 0.013811986893415451, accuracy 0.848\n",
            " pid=26480)\u001b[0m Epoch 4: train loss 0.01343014370650053, accuracy 0.8577777777777778\n",
            " pid=30584)\u001b[0m Epoch 4: train loss 0.014605440199375153, accuracy 0.8404444444444444\n",
            " pid=24688)\u001b[0m Epoch 4: train loss 0.013130607083439827, accuracy 0.8582222222222222\n",
            " pid=25168)\u001b[0m Epoch 5: train loss 0.010562457144260406, accuracy 0.8873333333333333\n"
          ]
        },
        {
          "name": "stderr",
          "output_type": "stream",
          "text": [
            "DEBUG flwr 2024-04-26 17:18:55,206 | server.py:232 | fit_round 8 received 5 results and 0 failures\n"
          ]
        },
        {
          "name": "stdout",
          "output_type": "stream",
          "text": [
            " pid=26992)\u001b[0m Epoch 5: train loss 0.011020262725651264, accuracy 0.8864444444444445\n",
            " pid=24688)\u001b[0m Epoch 5: train loss 0.010870206169784069, accuracy 0.8815555555555555\n",
            " pid=30584)\u001b[0m Epoch 5: train loss 0.011681376956403255, accuracy 0.8748888888888889\n"
          ]
        },
        {
          "name": "stderr",
          "output_type": "stream",
          "text": [
            "DEBUG flwr 2024-04-26 17:18:55,246 | server.py:168 | evaluate_round 8: strategy sampled 5 clients (out of 5)\n"
          ]
        },
        {
          "name": "stdout",
          "output_type": "stream",
          "text": [
            " pid=26480)\u001b[0m Epoch 5: train loss 0.010440176352858543, accuracy 0.8848888888888888\n",
            " pid=26992)\u001b[0m [Client 4] evaluate, config: {}\n",
            " pid=24688)\u001b[0m [Client 0] evaluate, config: {}\n",
            " pid=26480)\u001b[0m [Client 2] evaluate, config: {}\n",
            " pid=25168)\u001b[0m [Client 3] evaluate, config: {}\n",
            " pid=30584)\u001b[0m [Client 1] evaluate, config: {}\n"
          ]
        },
        {
          "name": "stderr",
          "output_type": "stream",
          "text": [
            "DEBUG flwr 2024-04-26 17:19:02,466 | server.py:182 | evaluate_round 8 received 5 results and 0 failures\n",
            "DEBUG flwr 2024-04-26 17:19:02,468 | server.py:218 | fit_round 9: strategy sampled 5 clients (out of 5)\n"
          ]
        },
        {
          "name": "stdout",
          "output_type": "stream",
          "text": [
            " pid=26992)\u001b[0m Client 4 loss 0.0515502188205719\n",
            " pid=26992)\u001b[0m Client 4 accuracy 0.528\n",
            " pid=24688)\u001b[0m Client 0 loss 0.05034033071994781\n",
            " pid=24688)\u001b[0m Client 0 accuracy 0.57\n",
            " pid=26480)\u001b[0m Client 2 loss 0.054071594953536986\n",
            " pid=26480)\u001b[0m Client 2 accuracy 0.56\n",
            " pid=25168)\u001b[0m Client 3 loss 0.05065882694721222\n",
            " pid=25168)\u001b[0m Client 3 accuracy 0.58\n",
            " pid=30584)\u001b[0m Client 1 loss 0.05268867158889771\n",
            " pid=30584)\u001b[0m Client 1 accuracy 0.556\n",
            " pid=30584)\u001b[0m [Client 3] fit, config: {'lr': 0.01}\n",
            " pid=25168)\u001b[0m [Client 1] fit, config: {'lr': 0.01}\n",
            " pid=24688)\u001b[0m [Client 0] fit, config: {'lr': 0.01}\n",
            " pid=26480)\u001b[0m [Client 4] fit, config: {'lr': 0.01}\n",
            " pid=26992)\u001b[0m [Client 2] fit, config: {'lr': 0.01}\n",
            " pid=30584)\u001b[0m Epoch 1: train loss 0.0270688533782959, accuracy 0.6908888888888889\n",
            " pid=25168)\u001b[0m Epoch 1: train loss 0.027074985206127167, accuracy 0.6846666666666666\n",
            " pid=24688)\u001b[0m Epoch 1: train loss 0.027468811720609665, accuracy 0.6902222222222222\n",
            " pid=26992)\u001b[0m Epoch 1: train loss 0.027139360085129738, accuracy 0.6931111111111111\n",
            " pid=26480)\u001b[0m Epoch 1: train loss 0.026741214096546173, accuracy 0.6977777777777778\n",
            " pid=30584)\u001b[0m Epoch 2: train loss 0.01918873004615307, accuracy 0.7771111111111111\n",
            " pid=24688)\u001b[0m Epoch 2: train loss 0.017739227041602135, accuracy 0.8037777777777778\n",
            " pid=25168)\u001b[0m Epoch 2: train loss 0.017758503556251526, accuracy 0.8011111111111111\n",
            " pid=26992)\u001b[0m Epoch 2: train loss 0.018482446670532227, accuracy 0.7891111111111111\n",
            " pid=26480)\u001b[0m Epoch 2: train loss 0.017734892666339874, accuracy 0.8044444444444444\n",
            " pid=30584)\u001b[0m Epoch 3: train loss 0.01457461528480053, accuracy 0.8404444444444444\n",
            " pid=24688)\u001b[0m Epoch 3: train loss 0.014137052930891514, accuracy 0.844\n",
            " pid=25168)\u001b[0m Epoch 3: train loss 0.014128047041594982, accuracy 0.8455555555555555\n",
            " pid=26992)\u001b[0m Epoch 3: train loss 0.013901809230446815, accuracy 0.8497777777777777\n",
            " pid=26480)\u001b[0m Epoch 3: train loss 0.013973293825984001, accuracy 0.8537777777777777\n",
            " pid=30584)\u001b[0m Epoch 4: train loss 0.011285746470093727, accuracy 0.8793333333333333\n",
            " pid=24688)\u001b[0m Epoch 4: train loss 0.010480350814759731, accuracy 0.8928888888888888\n",
            " pid=25168)\u001b[0m Epoch 4: train loss 0.010530569590628147, accuracy 0.8897777777777778\n",
            " pid=26992)\u001b[0m Epoch 4: train loss 0.010926704853773117, accuracy 0.884\n",
            " pid=26480)\u001b[0m Epoch 4: train loss 0.010465933009982109, accuracy 0.8886666666666667\n",
            " pid=30584)\u001b[0m Epoch 5: train loss 0.009104536846280098, accuracy 0.9048888888888889\n",
            " pid=24688)\u001b[0m Epoch 5: train loss 0.008140034973621368, accuracy 0.924\n",
            " pid=25168)\u001b[0m Epoch 5: train loss 0.008613944984972477, accuracy 0.9106666666666666\n",
            " pid=26992)\u001b[0m Epoch 5: train loss 0.008778714574873447, accuracy 0.9091111111111111\n"
          ]
        },
        {
          "name": "stderr",
          "output_type": "stream",
          "text": [
            "DEBUG flwr 2024-04-26 17:19:30,460 | server.py:232 | fit_round 9 received 5 results and 0 failures\n",
            "DEBUG flwr 2024-04-26 17:19:30,478 | server.py:168 | evaluate_round 9: strategy sampled 5 clients (out of 5)\n"
          ]
        },
        {
          "name": "stdout",
          "output_type": "stream",
          "text": [
            " pid=26480)\u001b[0m Epoch 5: train loss 0.00814800150692463, accuracy 0.9186666666666666\n",
            " pid=26480)\u001b[0m [Client 3] evaluate, config: {}\n",
            " pid=26992)\u001b[0m [Client 1] evaluate, config: {}\n",
            " pid=24688)\u001b[0m [Client 0] evaluate, config: {}\n",
            " pid=26480)\u001b[0m Client 3 loss 0.05615586662292481\n",
            " pid=26480)\u001b[0m Client 3 accuracy 0.584\n",
            " pid=25168)\u001b[0m [Client 4] evaluate, config: {}\n",
            " pid=30584)\u001b[0m [Client 2] evaluate, config: {}\n"
          ]
        },
        {
          "name": "stderr",
          "output_type": "stream",
          "text": [
            "DEBUG flwr 2024-04-26 17:19:37,655 | server.py:182 | evaluate_round 9 received 5 results and 0 failures\n",
            "DEBUG flwr 2024-04-26 17:19:37,657 | server.py:218 | fit_round 10: strategy sampled 5 clients (out of 5)\n"
          ]
        },
        {
          "name": "stdout",
          "output_type": "stream",
          "text": [
            " pid=26992)\u001b[0m Client 1 loss 0.05813951539993286\n",
            " pid=26992)\u001b[0m Client 1 accuracy 0.542\n",
            " pid=24688)\u001b[0m Client 0 loss 0.05315609240531921\n",
            " pid=24688)\u001b[0m Client 0 accuracy 0.564\n",
            " pid=25168)\u001b[0m Client 4 loss 0.056431480884552\n",
            " pid=25168)\u001b[0m Client 4 accuracy 0.528\n",
            " pid=30584)\u001b[0m Client 2 loss 0.05955065417289734\n",
            " pid=30584)\u001b[0m Client 2 accuracy 0.544\n",
            " pid=30584)\u001b[0m [Client 3] fit, config: {'lr': 0.01}\n",
            " pid=26992)\u001b[0m [Client 1] fit, config: {'lr': 0.01}\n",
            " pid=26480)\u001b[0m [Client 2] fit, config: {'lr': 0.01}\n",
            " pid=25168)\u001b[0m [Client 0] fit, config: {'lr': 0.01}\n",
            " pid=24688)\u001b[0m [Client 4] fit, config: {'lr': 0.01}\n",
            " pid=30584)\u001b[0m Epoch 1: train loss 0.02583201415836811, accuracy 0.6997777777777778\n",
            " pid=26992)\u001b[0m Epoch 1: train loss 0.025043005123734474, accuracy 0.7206666666666667\n",
            " pid=26480)\u001b[0m Epoch 1: train loss 0.0251251682639122, accuracy 0.7095555555555556\n",
            " pid=25168)\u001b[0m Epoch 1: train loss 0.025163626298308372, accuracy 0.7117777777777777\n",
            " pid=24688)\u001b[0m Epoch 1: train loss 0.02503952756524086, accuracy 0.7131111111111111\n",
            " pid=25168)\u001b[0m Epoch 2: train loss 0.015848329290747643, accuracy 0.8273333333333334\n",
            " pid=30584)\u001b[0m Epoch 2: train loss 0.01640048436820507, accuracy 0.8131111111111111\n",
            " pid=26992)\u001b[0m Epoch 2: train loss 0.016018040478229523, accuracy 0.8153333333333334\n",
            " pid=24688)\u001b[0m Epoch 2: train loss 0.015329303219914436, accuracy 0.8302222222222222\n",
            " pid=26480)\u001b[0m Epoch 2: train loss 0.015445500612258911, accuracy 0.8328888888888889\n",
            " pid=25168)\u001b[0m Epoch 3: train loss 0.011281176470220089, accuracy 0.8851111111111111\n",
            " pid=30584)\u001b[0m Epoch 3: train loss 0.01278065238147974, accuracy 0.8604444444444445\n",
            " pid=26992)\u001b[0m Epoch 3: train loss 0.01112165953963995, accuracy 0.8775555555555555\n",
            " pid=24688)\u001b[0m Epoch 3: train loss 0.01135248877108097, accuracy 0.8757777777777778\n",
            " pid=26480)\u001b[0m Epoch 3: train loss 0.01167311891913414, accuracy 0.8706666666666667\n",
            " pid=30584)\u001b[0m Epoch 4: train loss 0.009215373545885086, accuracy 0.9042222222222223\n",
            " pid=26992)\u001b[0m Epoch 4: train loss 0.008267898112535477, accuracy 0.916\n",
            " pid=25168)\u001b[0m Epoch 4: train loss 0.009006844833493233, accuracy 0.9071111111111111\n",
            " pid=24688)\u001b[0m Epoch 4: train loss 0.008615209721028805, accuracy 0.9113333333333333\n",
            " pid=26480)\u001b[0m Epoch 4: train loss 0.008203448727726936, accuracy 0.9204444444444444\n",
            " pid=30584)\u001b[0m Epoch 5: train loss 0.007361740339547396, accuracy 0.9257777777777778\n",
            " pid=25168)\u001b[0m Epoch 5: train loss 0.00675636762753129, accuracy 0.9326666666666666\n",
            " pid=24688)\u001b[0m Epoch 5: train loss 0.005691390484571457, accuracy 0.9471111111111111\n"
          ]
        },
        {
          "name": "stderr",
          "output_type": "stream",
          "text": [
            "DEBUG flwr 2024-04-26 17:20:05,440 | server.py:232 | fit_round 10 received 5 results and 0 failures\n",
            "DEBUG flwr 2024-04-26 17:20:05,478 | server.py:168 | evaluate_round 10: strategy sampled 5 clients (out of 5)\n"
          ]
        },
        {
          "name": "stdout",
          "output_type": "stream",
          "text": [
            " pid=26992)\u001b[0m Epoch 5: train loss 0.006888333708047867, accuracy 0.9337777777777778\n",
            " pid=26480)\u001b[0m Epoch 5: train loss 0.006045396905392408, accuracy 0.9415555555555556\n",
            " pid=26480)\u001b[0m [Client 1] evaluate, config: {}\n",
            " pid=26480)\u001b[0m Client 1 loss 0.06346477961540223\n",
            " pid=26480)\u001b[0m Client 1 accuracy 0.552\n",
            " pid=26480)\u001b[0m [Client 0] evaluate, config: {}\n",
            " pid=26992)\u001b[0m [Client 3] evaluate, config: {}\n",
            " pid=24688)\u001b[0m [Client 4] evaluate, config: {}\n",
            " pid=25168)\u001b[0m [Client 2] evaluate, config: {}\n"
          ]
        },
        {
          "name": "stderr",
          "output_type": "stream",
          "text": [
            "DEBUG flwr 2024-04-26 17:20:12,737 | server.py:182 | evaluate_round 10 received 5 results and 0 failures\n"
          ]
        },
        {
          "name": "stdout",
          "output_type": "stream",
          "text": [
            " pid=26480)\u001b[0m Client 0 loss 0.06004209458827972\n",
            " pid=26480)\u001b[0m Client 0 accuracy 0.578\n"
          ]
        },
        {
          "name": "stderr",
          "output_type": "stream",
          "text": [
            "INFO flwr 2024-04-26 17:20:12,739 | server.py:147 | FL finished in 354.3971630999986\n",
            "INFO flwr 2024-04-26 17:20:12,741 | app.py:218 | app_fit: losses_distributed [(1, 0.05780576496124268), (2, 0.04547640619277954), (3, 0.04203104388713837), (4, 0.04069131336212158), (5, 0.04216132199764251), (6, 0.04342163672447205), (7, 0.04793027019500733), (8, 0.05186192860603332), (9, 0.056686721897125245), (10, 0.06290451562404634)]\n",
            "INFO flwr 2024-04-26 17:20:12,742 | app.py:219 | app_fit: metrics_distributed_fit {}\n",
            "INFO flwr 2024-04-26 17:20:12,744 | app.py:220 | app_fit: metrics_distributed {}\n",
            "INFO flwr 2024-04-26 17:20:12,746 | app.py:221 | app_fit: losses_centralized []\n",
            "INFO flwr 2024-04-26 17:20:12,747 | app.py:222 | app_fit: metrics_centralized {}\n"
          ]
        },
        {
          "data": {
            "text/plain": [
              "History (loss, distributed):\n",
              "\tround 1: 0.05780576496124268\n",
              "\tround 2: 0.04547640619277954\n",
              "\tround 3: 0.04203104388713837\n",
              "\tround 4: 0.04069131336212158\n",
              "\tround 5: 0.04216132199764251\n",
              "\tround 6: 0.04342163672447205\n",
              "\tround 7: 0.04793027019500733\n",
              "\tround 8: 0.05186192860603332\n",
              "\tround 9: 0.056686721897125245\n",
              "\tround 10: 0.06290451562404634"
            ]
          },
          "execution_count": 29,
          "metadata": {},
          "output_type": "execute_result"
        },
        {
          "name": "stdout",
          "output_type": "stream",
          "text": [
            " pid=26992)\u001b[0m Client 3 loss 0.06129781699180603\n",
            " pid=26992)\u001b[0m Client 3 accuracy 0.594\n",
            " pid=24688)\u001b[0m Client 4 loss 0.0623255615234375\n",
            " pid=24688)\u001b[0m Client 4 accuracy 0.516\n",
            " pid=25168)\u001b[0m Client 2 loss 0.06739232540130616\n",
            " pid=25168)\u001b[0m Client 2 accuracy 0.534\n"
          ]
        }
      ],
      "source": [
        "fl.simulation.start_simulation(\n",
        "    client_fn=client_fn,\n",
        "    num_clients=5,\n",
        "    config=fl.server.ServerConfig(num_rounds=10),\n",
        "    strategy=FedCustom(),  # <-- pass the new strategy here\n",
        "    client_resources=client_resources,\n",
        ")"
      ]
    },
    {
      "cell_type": "code",
      "execution_count": null,
      "metadata": {},
      "outputs": [],
      "source": []
    },
    {
      "cell_type": "code",
      "execution_count": null,
      "metadata": {},
      "outputs": [],
      "source": []
    },
    {
      "cell_type": "code",
      "execution_count": null,
      "metadata": {},
      "outputs": [],
      "source": []
    },
    {
      "cell_type": "markdown",
      "metadata": {
        "id": "nVnE1vtzACCO"
      },
      "source": [
        "## Recap\n",
        "\n",
        "In this notebook, we’ve seen how to implement a custom strategy. A custom strategy enables granular control over client node configuration, result aggregation, and more. To define a custom strategy, you only have to overwrite the abstract methods of the (abstract) base class `Strategy`. To make custom strategies even more powerful, you can pass custom functions to the constructor of your new class (`__init__`) and then call these functions whenever needed."
      ]
    },
    {
      "cell_type": "markdown",
      "metadata": {
        "id": "s3Bs_avZACCP"
      },
      "source": [
        "## Next steps\n",
        "\n",
        "Before you continue, make sure to join the Flower community on Slack: [Join Slack](https://flower.ai/join-slack/)\n",
        "\n",
        "There's a dedicated `#questions` channel if you need help, but we'd also love to hear who you are in `#introductions`!\n",
        "\n",
        "The [Flower Federated Learning Tutorial - Part 4](https://flower.ai/docs/framework/tutorial-customize-the-client-pytorch.html) introduces `Client`, the flexible API underlying `NumPyClient`."
      ]
    }
  ],
  "metadata": {
    "colab": {
      "name": "Flower-3-Building-a-Strategy-PyTorch.ipynb",
      "provenance": [],
      "toc_visible": true
    },
    "kernelspec": {
      "display_name": "Python 3.7.12 64-bit ('flower-3.7.12')",
      "language": "python",
      "name": "python3"
    },
    "language_info": {
      "codemirror_mode": {
        "name": "ipython",
        "version": 3
      },
      "file_extension": ".py",
      "mimetype": "text/x-python",
      "name": "python",
      "nbconvert_exporter": "python",
      "pygments_lexer": "ipython3",
      "version": "3.8.18"
    }
  },
  "nbformat": 4,
  "nbformat_minor": 0
}
