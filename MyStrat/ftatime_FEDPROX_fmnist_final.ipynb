{
 "cells": [
  {
   "cell_type": "code",
   "execution_count": 1,
   "metadata": {
    "colab": {
     "base_uri": "https://localhost:8080/"
    },
    "id": "OZdR1WXDEGxY",
    "outputId": "34c4f998-2ca0-4252-e4f7-424c286a9224"
   },
   "outputs": [],
   "source": [
    "#!pip install -U flwr[\"simulation\"]==1.9.0 torch torchvision GPUtil"
   ]
  },
  {
   "cell_type": "code",
   "execution_count": 1,
   "metadata": {
    "colab": {
     "base_uri": "https://localhost:8080/"
    },
    "id": "obhFyleoEM9F",
    "outputId": "99c58edc-bb25-469f-b692-769941f695ce"
   },
   "outputs": [
    {
     "name": "stdout",
     "output_type": "stream",
     "text": [
      "Training on cuda using PyTorch 2.3.1 and Flower 1.9.0\n"
     ]
    }
   ],
   "source": [
    "from collections import OrderedDict\n",
    "from typing import Dict, List, Optional, Tuple, NamedTuple\n",
    "\n",
    "import numpy as np\n",
    "import torch\n",
    "import torch.nn as nn\n",
    "import torch.nn.functional as F\n",
    "import torchvision.transforms as transforms\n",
    "from torch.utils.data import DataLoader, random_split\n",
    "from torchvision.datasets import FashionMNIST\n",
    "import time\n",
    "import flwr as fl\n",
    "from scipy import stats as st\n",
    "import json\n",
    "\n",
    "DEVICE = torch.device(\"cuda\")  # Try \"cuda\" to train on GPU\n",
    "print(\n",
    "    f\"Training on {DEVICE} using PyTorch {torch.__version__} and Flower {fl.__version__}\"\n",
    ")"
   ]
  },
  {
   "cell_type": "code",
   "execution_count": 2,
   "metadata": {},
   "outputs": [],
   "source": [
    "from logging import INFO, DEBUG\n",
    "from flwr.common.logger import log"
   ]
  },
  {
   "cell_type": "code",
   "execution_count": 3,
   "metadata": {},
   "outputs": [
    {
     "name": "stdout",
     "output_type": "stream",
     "text": [
      "Gen RAM Free: 43.9 GB  | Proc size: 511.3 MB\n",
      "GPU RAM Free: 13375MB | Used: 2795MB | Util  17% | Total 16376MB\n"
     ]
    }
   ],
   "source": [
    "import psutil\n",
    "import humanize\n",
    "import os\n",
    "import GPUtil as GPU\n",
    "GPUs = GPU.getGPUs()\n",
    "# XXX: only one GPU on Colab and isn’t guaranteed\n",
    "gpu = GPUs[0]\n",
    "def printm():\n",
    "   process = psutil.Process(os.getpid())\n",
    "   print(\"Gen RAM Free: \" + humanize.naturalsize( psutil.virtual_memory().available ), \" | Proc size: \" + humanize.naturalsize( process.memory_info().rss))\n",
    "   print(\"GPU RAM Free: {0:.0f}MB | Used: {1:.0f}MB | Util {2:3.0f}% | Total {3:.0f}MB\".format(gpu.memoryFree, gpu.memoryUsed, gpu.memoryUtil*100, gpu.memoryTotal))\n",
    "printm()"
   ]
  },
  {
   "cell_type": "code",
   "execution_count": 4,
   "metadata": {
    "colab": {
     "base_uri": "https://localhost:8080/"
    },
    "id": "T2L0M1hDEQ54",
    "outputId": "d7c63f7f-13e7-4f97-ff2d-97443878fa29"
   },
   "outputs": [],
   "source": [
    "NUM_CLIENTS = 10\n",
    "\n",
    "\n",
    "def load_datasets(num_clients: int):\n",
    "    # Download and transform CIFAR-10 (train and test)\n",
    "    transform = transforms.Compose(\n",
    "        [transforms.ToTensor(), transforms.Normalize((0.5,), (0.5, ))]\n",
    "    )\n",
    "    trainset = FashionMNIST(\"./dataset\", train=True, download=True, transform=transform)\n",
    "    testset = FashionMNIST(\"./dataset\", train=False, download=True, transform=transform)\n",
    "\n",
    "    # Split training set into `num_clients` partitions to simulate different local datasets\n",
    "    partition_size = len(trainset) // num_clients\n",
    "    lengths = [partition_size] * num_clients\n",
    "    datasets = random_split(trainset, lengths, torch.Generator().manual_seed(42))\n",
    "\n",
    "    # Split each partition into train/val and create DataLoader\n",
    "    trainloaders = []\n",
    "    valloaders = []\n",
    "    for ds in datasets:\n",
    "        len_val = len(ds) // 10  # 10 % validation set\n",
    "        len_train = len(ds) - len_val\n",
    "        lengths = [len_train, len_val]\n",
    "        ds_train, ds_val = random_split(ds, lengths, torch.Generator().manual_seed(42))\n",
    "        trainloaders.append(DataLoader(ds_train, batch_size=32, shuffle=True))\n",
    "        valloaders.append(DataLoader(ds_val, batch_size=32))\n",
    "    testloader = DataLoader(testset, batch_size=32)\n",
    "    return trainloaders, valloaders, testloader\n",
    "\n",
    "\n",
    "trainloaders, valloaders, testloader = load_datasets(NUM_CLIENTS)"
   ]
  },
  {
   "cell_type": "code",
   "execution_count": 5,
   "metadata": {
    "id": "4q9gZPKEEVZ0"
   },
   "outputs": [],
   "source": [
    "class Net(nn.Module):\n",
    "    def __init__(self) -> None:\n",
    "        super(Net, self).__init__()\n",
    "        self.conv1 = nn.Conv2d(1, 6, 5)\n",
    "        self.pool = nn.MaxPool2d(2, 2)\n",
    "        self.conv2 = nn.Conv2d(6, 16, 5)\n",
    "        self.fc1 = nn.Linear(16 * 4 * 4, 120)\n",
    "        self.fc2 = nn.Linear(120, 84)\n",
    "        self.fc3 = nn.Linear(84, 10)\n",
    "\n",
    "    def forward(self, x: torch.Tensor) -> torch.Tensor:\n",
    "        x = self.pool(F.relu(self.conv1(x)))\n",
    "        x = self.pool(F.relu(self.conv2(x)))\n",
    "        x = x.view(-1, 16 * 4 * 4)\n",
    "        x = F.relu(self.fc1(x))\n",
    "        x = F.relu(self.fc2(x))\n",
    "        x = self.fc3(x)\n",
    "        return x\n",
    "\n",
    "\n",
    "def get_parameters(net) -> List[np.ndarray]:\n",
    "    return [val.cpu().numpy() for _, val in net.state_dict().items()]\n",
    "\n",
    "\n",
    "def set_parameters(net, parameters: List[np.ndarray]):\n",
    "    params_dict = zip(net.state_dict().keys(), parameters)\n",
    "    state_dict = OrderedDict({k: torch.Tensor(v) for k, v in params_dict})\n",
    "    net.load_state_dict(state_dict, strict=True)\n",
    "\n",
    "\n",
    "class ClientMetrics(NamedTuple):\n",
    "    epoch: int\n",
    "    loss: float\n",
    "    accuracy: float\n",
    "    round: int = 0\n",
    "    cid: int = 0\n",
    "\n",
    "def train(net, trainloader, epochs: int):\n",
    "    \"\"\"Train the network on the training set.\"\"\"\n",
    "    criterion = torch.nn.CrossEntropyLoss()\n",
    "    optimizer = torch.optim.Adam(net.parameters())\n",
    "    net.train()\n",
    "    metrics = []\n",
    "    for epoch in range(epochs):  # Use the passed 'epochs' variable here\n",
    "        correct, total, epoch_loss = 0, 0, 0.0\n",
    "        for images, labels in trainloader:\n",
    "            images, labels = images.to(DEVICE), labels.to(DEVICE)\n",
    "            optimizer.zero_grad()\n",
    "            outputs = net(images)\n",
    "            loss = criterion(outputs, labels)\n",
    "            loss.backward()\n",
    "            optimizer.step()\n",
    "            # Metrics\n",
    "            epoch_loss += loss.item()  # Make sure to call .item() to get the scalar value\n",
    "            total += labels.size(0)\n",
    "            correct += (torch.max(outputs.data, 1)[1] == labels).sum().item()\n",
    "        epoch_loss /= len(trainloader.dataset)\n",
    "        epoch_acc = correct / total\n",
    "        metrics.append(ClientMetrics(epoch, epoch_loss, epoch_acc))\n",
    "        print(f\"Epoch {epoch}: train loss {epoch_loss:.6f}, accuracy {epoch_acc:.6f}\")\n",
    "    return metrics\n",
    "\n",
    "\n",
    "def test(net, testloader):\n",
    "    \"\"\"Evaluate the network on the entire test set.\"\"\"\n",
    "    criterion = torch.nn.CrossEntropyLoss()\n",
    "    correct, total, loss = 0, 0, 0.0\n",
    "    net.eval()\n",
    "    with torch.no_grad():\n",
    "        for images, labels in testloader:\n",
    "            images, labels = images.to(DEVICE), labels.to(DEVICE)\n",
    "            outputs = net(images)\n",
    "            loss += criterion(outputs, labels).item()\n",
    "            _, predicted = torch.max(outputs.data, 1)\n",
    "            total += labels.size(0)\n",
    "            correct += (predicted == labels).sum().item()\n",
    "    loss /= len(testloader.dataset)\n",
    "    accuracy = correct / total\n",
    "    return loss, accuracy"
   ]
  },
  {
   "cell_type": "code",
   "execution_count": 6,
   "metadata": {
    "id": "DpDR8IdSEX0E"
   },
   "outputs": [],
   "source": [
    "class FlowerClient(fl.client.NumPyClient):\n",
    "    def __init__(self, cid, net, trainloader, valloader):\n",
    "        self.cid = cid\n",
    "        self.net = net\n",
    "        self.trainloader = trainloader\n",
    "        self.valloader = valloader\n",
    "\n",
    "    def get_parameters(self):\n",
    "        print(f\"[Client {self.cid}] get_parameters\")\n",
    "        return get_parameters(self.net)\n",
    "\n",
    "    def fit(self, parameters, config):\n",
    "        print(f\"[Client {self.cid}] fit, config: {config}\")\n",
    "        set_parameters(self.net, parameters)\n",
    "        epochs = config.get(\"epochs\", 1)\n",
    "        start_time = time.time()  # Start time measurement\n",
    "        metrics = train(self.net, self.trainloader, epochs)\n",
    "        training_time = time.time() - start_time  # Calculate duration\n",
    "        print(f\"Training time for Client {self.cid}: {training_time:.2f} seconds\")\n",
    "        \n",
    "        return get_parameters(self.net), len(self.trainloader), {\"training_time\": training_time, \"metrics\": json.dumps(metrics)}\n",
    "\n",
    "\n",
    "\n",
    "    def evaluate(self, parameters, config):\n",
    "        print(f\"[Client {self.cid}] evaluate, config: {config}\")\n",
    "        set_parameters(self.net, parameters)\n",
    "        loss, accuracy = test(self.net, self.valloader)\n",
    "        return float(loss), len(self.valloader), {\"accuracy\": float(accuracy)}\n",
    "\n",
    "\n",
    "def client_fn(cid) -> FlowerClient:\n",
    "    net = Net().to(DEVICE)\n",
    "    trainloader = trainloaders[int(cid)]\n",
    "    valloader = valloaders[int(cid)]\n",
    "    return FlowerClient(cid, net, trainloader, valloader).to_client()"
   ]
  },
  {
   "cell_type": "code",
   "execution_count": 7,
   "metadata": {
    "id": "mSYL7mrZE21l"
   },
   "outputs": [],
   "source": [
    "from typing import Callable, Union\n",
    "\n",
    "from flwr.common import (\n",
    "    EvaluateIns,\n",
    "    EvaluateRes,\n",
    "    FitIns,\n",
    "    FitRes,\n",
    "    MetricsAggregationFn,\n",
    "    NDArrays,\n",
    "    Parameters,\n",
    "    Scalar,\n",
    "    ndarrays_to_parameters,\n",
    "    parameters_to_ndarrays,\n",
    ")\n",
    "from flwr.server.client_manager import ClientManager\n",
    "from flwr.server.client_proxy import ClientProxy\n",
    "from flwr.server.strategy.aggregate import aggregate, weighted_loss_avg\n",
    "\n",
    "\n",
    "class FedCustom(fl.server.strategy.Strategy):\n",
    "    def __init__(\n",
    "        self,\n",
    "        fraction_fit: float = 1.0,\n",
    "        fraction_evaluate: float = 1.0,\n",
    "        min_fit_clients: int = 2,\n",
    "        min_evaluate_clients: int = 2,\n",
    "        min_available_clients: int = 2,\n",
    "    ) -> None:\n",
    "        super().__init__()\n",
    "        self.fraction_fit = fraction_fit\n",
    "        self.fraction_evaluate = fraction_evaluate\n",
    "        self.min_fit_clients = min_fit_clients\n",
    "        self.min_evaluate_clients = min_evaluate_clients\n",
    "        self.min_available_clients = min_available_clients\n",
    "        self.client_training_times: Dict[int, List[float]] = {}\n",
    "        self.client_metrics: Dict[int, List[ClientMetrics]] = {}\n",
    "        self.loss_extreme: Dict[int, Tuple[int, float, float]] = {}\n",
    "        self.accuracy_extreme: Dict[int, Tuple[int, float, float]] = {}\n",
    "    def __repr__(self) -> str:\n",
    "        return \"FedCustom\"\n",
    "\n",
    "    def initialize_parameters(\n",
    "        self, client_manager: ClientManager\n",
    "    ) -> Optional[Parameters]:\n",
    "        \"\"\"Initialize global model parameters.\"\"\"\n",
    "        net = Net()\n",
    "        ndarrays = get_parameters(net)\n",
    "        return fl.common.ndarrays_to_parameters(ndarrays)\n",
    "\n",
    "    def configure_fit(self, server_round: int, parameters: Parameters, client_manager: ClientManager):\n",
    "        sample_size, min_num_clients = self.num_fit_clients(client_manager.num_available())\n",
    "        clients = client_manager.sample(num_clients=sample_size, min_num_clients=min_num_clients)\n",
    "        epochs_sc = 10\n",
    "        \n",
    "\n",
    "        standard_config = {\"lr\": 0.001, \"epochs\": epochs_sc}\n",
    "        \n",
    "        fit_configurations = []\n",
    "        mode_time = []\n",
    "        \n",
    "        for client in clients:\n",
    "            last_time = self.client_training_times.get(client.cid, [0,])[-1] # Default to 0 if no time recorded # Yash has changed this as we now save last time of all epochs as key: value - cid: list of times\n",
    "            print(f\"This is ths last time not a fantasy {last_time}and {client.cid}habhhahah\")\n",
    "            \n",
    "            \n",
    "            mode_time.append(round(last_time,2))\n",
    "            print(f\"this is tehb mode time {mode_time}\")\n",
    "           \n",
    "\n",
    "        modest_value = st.mode(np.array(mode_time))\n",
    "        print(f\"Yeh h modest valueueueueu{modest_value}\")\n",
    "        print(f\"yeh h server round {server_round}\")\n",
    "        min_value, max_value= np.min(modest_value),np.max(modest_value)\n",
    "        print(f\"this is the min value {min_value} and this is the max value {max_value}\")\n",
    "      \n",
    "        \n",
    "        if min_value == max_value:\n",
    "            epochs_hl = epochs_sc   \n",
    "        else:\n",
    "            epochs_hl = int(np.floor((max_value-min_value)/max_value * epochs_sc)) \n",
    "\n",
    "        higher_lr_config = {\"lr\": 0.0001, \"epochs\": epochs_hl}\n",
    "        print(f\"The epochs for the higher lr is {epochs_hl} and the epochs for the standard lr is {epochs_sc}\")\n",
    "\n",
    "\n",
    "\n",
    "\n",
    "        for client in clients:\n",
    "            # Choose config based on the previous training time\n",
    "            last_time = self.client_training_times.get(client.cid, [0,])[-1]  # Default to 0 if no time recorded # Yash has changed this as we now save last time of all epochs as key: value - cid: list of times\n",
    "            print(f\"This is the last time {last_time}\")\n",
    "            \n",
    "\n",
    "\n",
    "            config_to_use = standard_config if last_time < modest_value.mode else higher_lr_config\n",
    "            fit_configurations.append((client, FitIns(parameters, config_to_use)))\n",
    "\n",
    "        return fit_configurations\n",
    "    \n",
    "    def parse_metrics(self, cid: int, server_round: int, metrics: str): # this function has been added to parse the metrics from the client\n",
    "        client_data: List[ClientMetrics] = json.loads(metrics)\n",
    "        data_store: List[ClientMetrics] = self.client_metrics.setdefault(cid, [])\n",
    "        last_epoch: int = len(data_store)\n",
    "        for data in client_data:\n",
    "            data_store.append(ClientMetrics(last_epoch, data[1], data[2], round=server_round, cid=cid))\n",
    "            last_epoch += 1\n",
    "\n",
    "    def aggregate_fit(\n",
    "        self,\n",
    "        server_round: int,\n",
    "        results: List[Tuple[ClientProxy, FitRes]],\n",
    "        failures: List[Union[Tuple[ClientProxy, FitRes], BaseException]],\n",
    "    ) -> Tuple[Optional[Parameters], Dict[str, Scalar]]:\n",
    "        \"\"\"Aggregate fit results using weighted average.\"\"\"\n",
    "        for client, fit_res in results:\n",
    "            # Update training times for each client\n",
    "            self.client_training_times.setdefault(client.cid, []).append(fit_res.metrics.get(\"training_time\", 0)) # Yash has changed this as we now save last time of all epochs as key: value - cid: list of times\n",
    "            self.parse_metrics(client.cid,server_round, fit_res.metrics.get(\"metrics\", None))\n",
    "        weights_results = [\n",
    "            (parameters_to_ndarrays(fit_res.parameters), fit_res.num_examples)\n",
    "            for _, fit_res in results\n",
    "        ]\n",
    "        parameters_aggregated = ndarrays_to_parameters(aggregate(weights_results))\n",
    "        metrics_aggregated = {}\n",
    "        return parameters_aggregated, metrics_aggregated\n",
    "\n",
    "\n",
    "    def configure_evaluate(\n",
    "        self, server_round: int, parameters: Parameters, client_manager: ClientManager\n",
    "    ) -> List[Tuple[ClientProxy, EvaluateIns]]:\n",
    "        \"\"\"Configure the next round of evaluation.\"\"\"\n",
    "        if self.fraction_evaluate == 0.0:\n",
    "            return []\n",
    "        config = {}\n",
    "        evaluate_ins = EvaluateIns(parameters, config)\n",
    "\n",
    "        # Sample clients\n",
    "        sample_size, min_num_clients = self.num_evaluation_clients(\n",
    "            client_manager.num_available()\n",
    "        )\n",
    "        clients = client_manager.sample(\n",
    "            num_clients=sample_size, min_num_clients=min_num_clients\n",
    "        )\n",
    "\n",
    "        # Return client/config pairs\n",
    "        return [(client, evaluate_ins) for client in clients]\n",
    "\n",
    "    def aggregate_evaluate(\n",
    "        self,\n",
    "        server_round: int,\n",
    "        results: List[Tuple[ClientProxy, EvaluateRes]],\n",
    "        failures: List[Union[Tuple[ClientProxy, EvaluateRes], BaseException]],\n",
    "    ) -> Tuple[Optional[float], Dict[str, Scalar]]:\n",
    "        \"\"\"Aggregate evaluation losses using weighted average.\"\"\"\n",
    "\n",
    "        if not results:\n",
    "            return None, {}\n",
    "\n",
    "        loss_aggregated = weighted_loss_avg(\n",
    "            [\n",
    "                (evaluate_res.num_examples, evaluate_res.loss)\n",
    "                for _, evaluate_res in results\n",
    "            ]\n",
    "        )\n",
    "        metrics_aggregated = {}\n",
    "        return loss_aggregated, metrics_aggregated\n",
    "\n",
    "    def evaluate(\n",
    "        self, server_round: int, parameters: Parameters\n",
    "    ) -> Optional[Tuple[float, Dict[str, Scalar]]]:\n",
    "        \"\"\"Evaluate global model parameters using an evalua\n",
    "        tion function.\"\"\"\n",
    "\n",
    "        # Let's assume we won't perform the global model evaluation on the server side.\n",
    "        \n",
    "        return None\n",
    "\n",
    "    def num_fit_clients(self, num_available_clients: int) -> Tuple[int, int]:\n",
    "        \"\"\"Return sample size and required number of clients.\"\"\"\n",
    "        num_clients = int(num_available_clients * self.fraction_fit)\n",
    "        return max(num_clients, self.min_fit_clients), self.min_available_clients\n",
    "\n",
    "    def num_evaluation_clients(self, num_available_clients: int) -> Tuple[int, int]:\n",
    "        \"\"\"Use a fraction of available clients for evaluation.\"\"\"\n",
    "        num_clients = int(num_available_clients * self.fraction_evaluate)\n",
    "        return max(num_clients, self.min_evaluate_clients), self.min_available_clients"
   ]
  },
  {
   "cell_type": "code",
   "execution_count": 8,
   "metadata": {},
   "outputs": [],
   "source": [
    "if DEVICE.type == \"cuda\":\n",
    "    # Use a single client to train the global model\n",
    "    client_resources = {\"num_gpus\": .125, \"num_cpus\": 1} "
   ]
  },
  {
   "cell_type": "code",
   "execution_count": 9,
   "metadata": {},
   "outputs": [],
   "source": [
    "strategy = FedCustom()"
   ]
  },
  {
   "cell_type": "code",
   "execution_count": null,
   "metadata": {
    "colab": {
     "base_uri": "https://localhost:8080/"
    },
    "id": "FvJM3bH4HDth",
    "outputId": "a273cb4a-ef0a-40e3-f789-e8f1f37366ce"
   },
   "outputs": [
    {
     "name": "stderr",
     "output_type": "stream",
     "text": [
      "\u001b[92mINFO \u001b[0m:      Starting Flower simulation, config: num_rounds=10, no round_timeout\n",
      "2024-07-29 17:01:50,019\tINFO worker.py:1771 -- Started a local Ray instance.\n",
      "\u001b[92mINFO \u001b[0m:      Flower VCE: Ray initialized with resources: {'node:__internal_head__': 1.0, 'CPU': 32.0, 'object_store_memory': 35824167321.0, 'node:127.0.0.1': 1.0, 'memory': 73589723751.0, 'GPU': 1.0, 'accelerator_type:RTX': 1.0}\n",
      "\u001b[92mINFO \u001b[0m:      Optimize your simulation with Flower VCE: https://flower.ai/docs/framework/how-to-run-simulations.html\n",
      "\u001b[92mINFO \u001b[0m:      Flower VCE: Resources for each Virtual Client: {'num_gpus': 0.125, 'num_cpus': 1}\n",
      "\u001b[92mINFO \u001b[0m:      Flower VCE: Creating VirtualClientEngineActorPool with 8 actors\n",
      "\u001b[92mINFO \u001b[0m:      [INIT]\n",
      "\u001b[92mINFO \u001b[0m:      Using initial global parameters provided by strategy\n",
      "\u001b[92mINFO \u001b[0m:      Evaluating initial global parameters\n",
      "\u001b[92mINFO \u001b[0m:      \n",
      "\u001b[92mINFO \u001b[0m:      [ROUND 1]\n",
      "\u001b[92mINFO \u001b[0m:      configure_fit: strategy sampled 10 clients (out of 10)\n"
     ]
    },
    {
     "name": "stdout",
     "output_type": "stream",
     "text": [
      "This is ths last time not a fantasy 0and 7habhhahah\n",
      "this is tehb mode time [0]\n",
      "This is ths last time not a fantasy 0and 2habhhahah\n",
      "this is tehb mode time [0, 0]\n",
      "This is ths last time not a fantasy 0and 1habhhahah\n",
      "this is tehb mode time [0, 0, 0]\n",
      "This is ths last time not a fantasy 0and 5habhhahah\n",
      "this is tehb mode time [0, 0, 0, 0]\n",
      "This is ths last time not a fantasy 0and 9habhhahah\n",
      "this is tehb mode time [0, 0, 0, 0, 0]\n",
      "This is ths last time not a fantasy 0and 0habhhahah\n",
      "this is tehb mode time [0, 0, 0, 0, 0, 0]\n",
      "This is ths last time not a fantasy 0and 3habhhahah\n",
      "this is tehb mode time [0, 0, 0, 0, 0, 0, 0]\n",
      "This is ths last time not a fantasy 0and 8habhhahah\n",
      "this is tehb mode time [0, 0, 0, 0, 0, 0, 0, 0]\n",
      "This is ths last time not a fantasy 0and 4habhhahah\n",
      "this is tehb mode time [0, 0, 0, 0, 0, 0, 0, 0, 0]\n",
      "This is ths last time not a fantasy 0and 6habhhahah\n",
      "this is tehb mode time [0, 0, 0, 0, 0, 0, 0, 0, 0, 0]\n",
      "Yeh h modest valueueueueuModeResult(mode=0, count=10)\n",
      "yeh h server round 1\n",
      "this is the min value 0 and this is the max value 10\n",
      "The epochs for the higher lr is 10 and the epochs for the standard lr is 10\n",
      "This is the last time 0\n",
      "This is the last time 0\n",
      "This is the last time 0\n",
      "This is the last time 0\n",
      "This is the last time 0\n",
      "This is the last time 0\n",
      "This is the last time 0\n",
      "This is the last time 0\n",
      "This is the last time 0\n",
      "This is the last time 0\n",
      "\u001b[36m(ClientAppActor pid=26464)\u001b[0m [Client 2] fit, config: {'lr': 0.0001, 'epochs': 10}\n",
      "\u001b[36m(ClientAppActor pid=26464)\u001b[0m Epoch 0: train loss 0.034687, accuracy 0.600556\n",
      "\u001b[36m(ClientAppActor pid=25436)\u001b[0m [Client 5] fit, config: {'lr': 0.0001, 'epochs': 10}\u001b[32m [repeated 7x across cluster] (Ray deduplicates logs by default. Set RAY_DEDUP_LOGS=0 to disable log deduplication, or see https://docs.ray.io/en/master/ray-observability/user-guides/configure-logging.html#log-deduplication for more options.)\u001b[0m\n",
      "\u001b[36m(ClientAppActor pid=26464)\u001b[0m Epoch 2: train loss 0.018093, accuracy 0.776667\u001b[32m [repeated 16x across cluster]\u001b[0m\n",
      "\u001b[36m(ClientAppActor pid=26464)\u001b[0m Epoch 4: train loss 0.014910, accuracy 0.820926\u001b[32m [repeated 16x across cluster]\u001b[0m\n",
      "\u001b[36m(ClientAppActor pid=12560)\u001b[0m Epoch 6: train loss 0.013811, accuracy 0.836852\u001b[32m [repeated 17x across cluster]\u001b[0m\n",
      "\u001b[36m(ClientAppActor pid=12560)\u001b[0m Epoch 8: train loss 0.012211, accuracy 0.853148\u001b[32m [repeated 16x across cluster]\u001b[0m\n",
      "\u001b[36m(ClientAppActor pid=26464)\u001b[0m Training time for Client 2: 25.60 seconds\n",
      "\u001b[36m(ClientAppActor pid=26464)\u001b[0m [Client 4] fit, config: {'lr': 0.0001, 'epochs': 10}\n",
      "\u001b[36m(ClientAppActor pid=26464)\u001b[0m Epoch 0: train loss 0.033925, accuracy 0.601111\u001b[32m [repeated 15x across cluster]\u001b[0m\n",
      "\u001b[36m(ClientAppActor pid=24492)\u001b[0m Training time for Client 3: 26.00 seconds\u001b[32m [repeated 7x across cluster]\u001b[0m\n",
      "\u001b[36m(ClientAppActor pid=12560)\u001b[0m [Client 6] fit, config: {'lr': 0.0001, 'epochs': 10}\n",
      "\u001b[36m(ClientAppActor pid=26464)\u001b[0m Epoch 2: train loss 0.017853, accuracy 0.778889\u001b[32m [repeated 4x across cluster]\u001b[0m\n",
      "\u001b[36m(ClientAppActor pid=26464)\u001b[0m Epoch 4: train loss 0.015108, accuracy 0.817037\u001b[32m [repeated 4x across cluster]\u001b[0m\n",
      "\u001b[36m(ClientAppActor pid=26464)\u001b[0m Epoch 6: train loss 0.012928, accuracy 0.845926\u001b[32m [repeated 4x across cluster]\u001b[0m\n",
      "\u001b[36m(ClientAppActor pid=26464)\u001b[0m Epoch 8: train loss 0.011126, accuracy 0.871667\u001b[32m [repeated 4x across cluster]\u001b[0m\n",
      "\u001b[36m(ClientAppActor pid=26464)\u001b[0m Training time for Client 4: 27.77 seconds\n"
     ]
    },
    {
     "name": "stderr",
     "output_type": "stream",
     "text": [
      "\u001b[92mINFO \u001b[0m:      aggregate_fit: received 10 results and 0 failures\n",
      "\u001b[92mINFO \u001b[0m:      configure_evaluate: strategy sampled 10 clients (out of 10)\n"
     ]
    },
    {
     "name": "stdout",
     "output_type": "stream",
     "text": [
      "\u001b[36m(ClientAppActor pid=12560)\u001b[0m [Client 0] evaluate, config: {}\n"
     ]
    },
    {
     "name": "stderr",
     "output_type": "stream",
     "text": [
      "\u001b[92mINFO \u001b[0m:      aggregate_evaluate: received 10 results and 0 failures\n",
      "\u001b[92mINFO \u001b[0m:      \n",
      "\u001b[92mINFO \u001b[0m:      [ROUND 2]\n",
      "\u001b[92mINFO \u001b[0m:      configure_fit: strategy sampled 10 clients (out of 10)\n"
     ]
    },
    {
     "name": "stdout",
     "output_type": "stream",
     "text": [
      "This is ths last time not a fantasy 25.384629726409912and 9habhhahah\n",
      "this is tehb mode time [25.38]\n",
      "This is ths last time not a fantasy 25.6176278591156and 7habhhahah\n",
      "this is tehb mode time [25.38, 25.62]\n",
      "This is ths last time not a fantasy 25.738622903823853and 5habhhahah\n",
      "this is tehb mode time [25.38, 25.62, 25.74]\n",
      "This is ths last time not a fantasy 25.74562931060791and 8habhhahah\n",
      "this is tehb mode time [25.38, 25.62, 25.74, 25.75]\n",
      "This is ths last time not a fantasy 28.126070261001587and 6habhhahah\n",
      "this is tehb mode time [25.38, 25.62, 25.74, 25.75, 28.13]\n",
      "This is ths last time not a fantasy 25.919621467590332and 1habhhahah\n",
      "this is tehb mode time [25.38, 25.62, 25.74, 25.75, 28.13, 25.92]\n",
      "This is ths last time not a fantasy 25.549630641937256and 0habhhahah\n",
      "this is tehb mode time [25.38, 25.62, 25.74, 25.75, 28.13, 25.92, 25.55]\n",
      "This is ths last time not a fantasy 27.767389059066772and 4habhhahah\n",
      "this is tehb mode time [25.38, 25.62, 25.74, 25.75, 28.13, 25.92, 25.55, 27.77]\n",
      "This is ths last time not a fantasy 25.997624158859253and 3habhhahah\n",
      "this is tehb mode time [25.38, 25.62, 25.74, 25.75, 28.13, 25.92, 25.55, 27.77, 26.0]\n",
      "This is ths last time not a fantasy 25.598628997802734and 2habhhahah\n",
      "this is tehb mode time [25.38, 25.62, 25.74, 25.75, 28.13, 25.92, 25.55, 27.77, 26.0, 25.6]\n",
      "Yeh h modest valueueueueuModeResult(mode=25.38, count=1)\n",
      "yeh h server round 2\n",
      "this is the min value 1.0 and this is the max value 25.38\n",
      "The epochs for the higher lr is 9 and the epochs for the standard lr is 10\n",
      "This is the last time 25.384629726409912\n",
      "This is the last time 25.6176278591156\n",
      "This is the last time 25.738622903823853\n",
      "This is the last time 25.74562931060791\n",
      "This is the last time 28.126070261001587\n",
      "This is the last time 25.919621467590332\n",
      "This is the last time 25.549630641937256\n",
      "This is the last time 27.767389059066772\n",
      "This is the last time 25.997624158859253\n",
      "This is the last time 25.598628997802734\n",
      "\u001b[36m(ClientAppActor pid=29136)\u001b[0m [Client 9] fit, config: {'lr': 0.0001, 'epochs': 9}\n",
      "\u001b[36m(ClientAppActor pid=12560)\u001b[0m Epoch 9: train loss 0.010724, accuracy 0.877593\u001b[32m [repeated 3x across cluster]\u001b[0m\n",
      "\u001b[36m(ClientAppActor pid=12560)\u001b[0m Training time for Client 6: 28.13 seconds\n",
      "\u001b[36m(ClientAppActor pid=29136)\u001b[0m [Client 6] evaluate, config: {}\u001b[32m [repeated 9x across cluster]\u001b[0m\n",
      "\u001b[36m(ClientAppActor pid=25436)\u001b[0m [Client 0] fit, config: {'lr': 0.0001, 'epochs': 9}\u001b[32m [repeated 7x across cluster]\u001b[0m\n",
      "\u001b[36m(ClientAppActor pid=35564)\u001b[0m Epoch 1: train loss 0.012592, accuracy 0.849630\u001b[32m [repeated 9x across cluster]\u001b[0m\n",
      "\u001b[36m(ClientAppActor pid=40256)\u001b[0m Epoch 3: train loss 0.010856, accuracy 0.869815\u001b[32m [repeated 17x across cluster]\u001b[0m\n",
      "\u001b[36m(ClientAppActor pid=40256)\u001b[0m Epoch 5: train loss 0.009475, accuracy 0.886111\u001b[32m [repeated 16x across cluster]\u001b[0m\n",
      "\u001b[36m(ClientAppActor pid=40256)\u001b[0m Epoch 7: train loss 0.008327, accuracy 0.897778\u001b[32m [repeated 17x across cluster]\u001b[0m\n",
      "\u001b[36m(ClientAppActor pid=25436)\u001b[0m Training time for Client 0: 22.29 seconds\n",
      "\u001b[36m(ClientAppActor pid=25436)\u001b[0m [Client 3] fit, config: {'lr': 0.0001, 'epochs': 9}\n",
      "\u001b[36m(ClientAppActor pid=24492)\u001b[0m Epoch 0: train loss 0.014140, accuracy 0.834815\u001b[32m [repeated 14x across cluster]\u001b[0m\n",
      "\u001b[36m(ClientAppActor pid=29136)\u001b[0m Training time for Client 9: 23.43 seconds\u001b[32m [repeated 7x across cluster]\u001b[0m\n",
      "\u001b[36m(ClientAppActor pid=24492)\u001b[0m [Client 2] fit, config: {'lr': 0.0001, 'epochs': 9}\n",
      "\u001b[36m(ClientAppActor pid=24492)\u001b[0m Epoch 2: train loss 0.011388, accuracy 0.865370\u001b[32m [repeated 4x across cluster]\u001b[0m\n",
      "\u001b[36m(ClientAppActor pid=24492)\u001b[0m Epoch 4: train loss 0.009840, accuracy 0.884815\u001b[32m [repeated 4x across cluster]\u001b[0m\n",
      "\u001b[36m(ClientAppActor pid=24492)\u001b[0m Epoch 6: train loss 0.008788, accuracy 0.893519\u001b[32m [repeated 4x across cluster]\u001b[0m\n"
     ]
    },
    {
     "name": "stderr",
     "output_type": "stream",
     "text": [
      "\u001b[92mINFO \u001b[0m:      aggregate_fit: received 10 results and 0 failures\n",
      "\u001b[92mINFO \u001b[0m:      configure_evaluate: strategy sampled 10 clients (out of 10)\n"
     ]
    },
    {
     "name": "stdout",
     "output_type": "stream",
     "text": [
      "\u001b[36m(ClientAppActor pid=24492)\u001b[0m Training time for Client 2: 25.54 seconds\n",
      "\u001b[36m(ClientAppActor pid=24492)\u001b[0m Epoch 8: train loss 0.007704, accuracy 0.905556\u001b[32m [repeated 4x across cluster]\u001b[0m\n",
      "\u001b[36m(ClientAppActor pid=25436)\u001b[0m [Client 0] evaluate, config: {}\n"
     ]
    },
    {
     "name": "stderr",
     "output_type": "stream",
     "text": [
      "\u001b[92mINFO \u001b[0m:      aggregate_evaluate: received 10 results and 0 failures\n",
      "\u001b[92mINFO \u001b[0m:      \n",
      "\u001b[92mINFO \u001b[0m:      [ROUND 3]\n",
      "\u001b[92mINFO \u001b[0m:      configure_fit: strategy sampled 10 clients (out of 10)\n"
     ]
    },
    {
     "name": "stdout",
     "output_type": "stream",
     "text": [
      "This is ths last time not a fantasy 22.28591012954712and 0habhhahah\n",
      "this is tehb mode time [22.29]\n",
      "This is ths last time not a fantasy 23.08171582221985and 8habhhahah\n",
      "this is tehb mode time [22.29, 23.08]\n",
      "This is ths last time not a fantasy 23.27272057533264and 7habhhahah\n",
      "this is tehb mode time [22.29, 23.08, 23.27]\n",
      "This is ths last time not a fantasy 22.736727237701416and 4habhhahah\n",
      "this is tehb mode time [22.29, 23.08, 23.27, 22.74]\n",
      "This is ths last time not a fantasy 25.79308819770813and 3habhhahah\n",
      "this is tehb mode time [22.29, 23.08, 23.27, 22.74, 25.79]\n",
      "This is ths last time not a fantasy 22.698734045028687and 6habhhahah\n",
      "this is tehb mode time [22.29, 23.08, 23.27, 22.74, 25.79, 22.7]\n",
      "This is ths last time not a fantasy 22.811726570129395and 5habhhahah\n",
      "this is tehb mode time [22.29, 23.08, 23.27, 22.74, 25.79, 22.7, 22.81]\n",
      "This is ths last time not a fantasy 22.42004632949829and 1habhhahah\n",
      "this is tehb mode time [22.29, 23.08, 23.27, 22.74, 25.79, 22.7, 22.81, 22.42]\n",
      "This is ths last time not a fantasy 23.428720712661743and 9habhhahah\n",
      "this is tehb mode time [22.29, 23.08, 23.27, 22.74, 25.79, 22.7, 22.81, 22.42, 23.43]\n",
      "This is ths last time not a fantasy 25.537282705307007and 2habhhahah\n",
      "this is tehb mode time [22.29, 23.08, 23.27, 22.74, 25.79, 22.7, 22.81, 22.42, 23.43, 25.54]\n",
      "Yeh h modest valueueueueuModeResult(mode=22.29, count=1)\n",
      "yeh h server round 3\n",
      "this is the min value 1.0 and this is the max value 22.29\n",
      "The epochs for the higher lr is 9 and the epochs for the standard lr is 10\n",
      "This is the last time 22.28591012954712\n",
      "This is the last time 23.08171582221985\n",
      "This is the last time 23.27272057533264\n",
      "This is the last time 22.736727237701416\n",
      "This is the last time 25.79308819770813\n",
      "This is the last time 22.698734045028687\n",
      "This is the last time 22.811726570129395\n",
      "This is the last time 22.42004632949829\n",
      "This is the last time 23.428720712661743\n",
      "This is the last time 25.537282705307007\n",
      "\u001b[36m(ClientAppActor pid=29136)\u001b[0m [Client 8] fit, config: {'lr': 0.0001, 'epochs': 9}\n",
      "\u001b[36m(ClientAppActor pid=25436)\u001b[0m Training time for Client 3: 25.79 seconds\n",
      "\u001b[36m(ClientAppActor pid=24492)\u001b[0m Epoch 1: train loss 0.010041, accuracy 0.880000\u001b[32m [repeated 10x across cluster]\u001b[0m\n",
      "\u001b[36m(ClientAppActor pid=24492)\u001b[0m [Client 8] evaluate, config: {}\u001b[32m [repeated 9x across cluster]\u001b[0m\n",
      "\u001b[36m(ClientAppActor pid=12560)\u001b[0m [Client 1] fit, config: {'lr': 0.0001, 'epochs': 9}\u001b[32m [repeated 7x across cluster]\u001b[0m\n",
      "\u001b[36m(ClientAppActor pid=24492)\u001b[0m Epoch 3: train loss 0.008626, accuracy 0.894630\u001b[32m [repeated 17x across cluster]\u001b[0m\n",
      "\u001b[36m(ClientAppActor pid=26464)\u001b[0m Epoch 5: train loss 0.006682, accuracy 0.918333\u001b[32m [repeated 16x across cluster]\u001b[0m\n",
      "\u001b[36m(ClientAppActor pid=26464)\u001b[0m Epoch 7: train loss 0.005831, accuracy 0.929630\u001b[32m [repeated 17x across cluster]\u001b[0m\n",
      "\u001b[36m(ClientAppActor pid=29136)\u001b[0m Training time for Client 8: 22.59 seconds\n",
      "\u001b[36m(ClientAppActor pid=29136)\u001b[0m [Client 9] fit, config: {'lr': 0.0001, 'epochs': 9}\n",
      "\u001b[36m(ClientAppActor pid=29136)\u001b[0m Epoch 0: train loss 0.011539, accuracy 0.863519\u001b[32m [repeated 14x across cluster]\u001b[0m\n",
      "\u001b[36m(ClientAppActor pid=24492)\u001b[0m Training time for Client 0: 26.28 seconds\u001b[32m [repeated 7x across cluster]\u001b[0m\n",
      "\u001b[36m(ClientAppActor pid=41448)\u001b[0m [Client 2] fit, config: {'lr': 0.0001, 'epochs': 9}\n",
      "\u001b[36m(ClientAppActor pid=29136)\u001b[0m Epoch 2: train loss 0.009255, accuracy 0.892222\u001b[32m [repeated 5x across cluster]\u001b[0m\n",
      "\u001b[36m(ClientAppActor pid=29136)\u001b[0m Epoch 4: train loss 0.007936, accuracy 0.904630\u001b[32m [repeated 4x across cluster]\u001b[0m\n",
      "\u001b[36m(ClientAppActor pid=29136)\u001b[0m Epoch 6: train loss 0.006756, accuracy 0.917037\u001b[32m [repeated 4x across cluster]\u001b[0m\n"
     ]
    },
    {
     "name": "stderr",
     "output_type": "stream",
     "text": [
      "\u001b[92mINFO \u001b[0m:      aggregate_fit: received 10 results and 0 failures\n",
      "\u001b[92mINFO \u001b[0m:      configure_evaluate: strategy sampled 10 clients (out of 10)\n"
     ]
    },
    {
     "name": "stdout",
     "output_type": "stream",
     "text": [
      "\u001b[36m(ClientAppActor pid=29136)\u001b[0m Training time for Client 9: 25.22 seconds\n",
      "\u001b[36m(ClientAppActor pid=29136)\u001b[0m Epoch 8: train loss 0.005176, accuracy 0.935926\u001b[32m [repeated 4x across cluster]\u001b[0m\n",
      "\u001b[36m(ClientAppActor pid=41448)\u001b[0m [Client 7] evaluate, config: {}\n"
     ]
    },
    {
     "name": "stderr",
     "output_type": "stream",
     "text": [
      "\u001b[92mINFO \u001b[0m:      aggregate_evaluate: received 10 results and 0 failures\n",
      "\u001b[92mINFO \u001b[0m:      \n",
      "\u001b[92mINFO \u001b[0m:      [ROUND 4]\n",
      "\u001b[92mINFO \u001b[0m:      configure_fit: strategy sampled 10 clients (out of 10)\n"
     ]
    },
    {
     "name": "stdout",
     "output_type": "stream",
     "text": [
      "This is ths last time not a fantasy 22.434581995010376and 5habhhahah\n",
      "this is tehb mode time [22.43]\n",
      "This is ths last time not a fantasy 22.593589067459106and 4habhhahah\n",
      "this is tehb mode time [22.43, 22.59]\n",
      "This is ths last time not a fantasy 22.931577920913696and 7habhhahah\n",
      "this is tehb mode time [22.43, 22.59, 22.93]\n",
      "This is ths last time not a fantasy 22.46957540512085and 1habhhahah\n",
      "this is tehb mode time [22.43, 22.59, 22.93, 22.47]\n",
      "This is ths last time not a fantasy 23.27058506011963and 3habhhahah\n",
      "this is tehb mode time [22.43, 22.59, 22.93, 22.47, 23.27]\n",
      "This is ths last time not a fantasy 25.190853357315063and 2habhhahah\n",
      "this is tehb mode time [22.43, 22.59, 22.93, 22.47, 23.27, 25.19]\n",
      "This is ths last time not a fantasy 26.283373832702637and 0habhhahah\n",
      "this is tehb mode time [22.43, 22.59, 22.93, 22.47, 23.27, 25.19, 26.28]\n",
      "This is ths last time not a fantasy 22.5985848903656and 6habhhahah\n",
      "this is tehb mode time [22.43, 22.59, 22.93, 22.47, 23.27, 25.19, 26.28, 22.6]\n",
      "This is ths last time not a fantasy 22.585578203201294and 8habhhahah\n",
      "this is tehb mode time [22.43, 22.59, 22.93, 22.47, 23.27, 25.19, 26.28, 22.6, 22.59]\n",
      "This is ths last time not a fantasy 25.21684956550598and 9habhhahah\n",
      "this is tehb mode time [22.43, 22.59, 22.93, 22.47, 23.27, 25.19, 26.28, 22.6, 22.59, 25.22]\n",
      "Yeh h modest valueueueueuModeResult(mode=22.59, count=2)\n",
      "yeh h server round 4\n",
      "this is the min value 2.0 and this is the max value 22.59\n",
      "The epochs for the higher lr is 9 and the epochs for the standard lr is 10\n",
      "This is the last time 22.434581995010376\n",
      "This is the last time 22.593589067459106\n",
      "This is the last time 22.931577920913696\n",
      "This is the last time 22.46957540512085\n",
      "This is the last time 23.27058506011963\n",
      "This is the last time 25.190853357315063\n",
      "This is the last time 26.283373832702637\n",
      "This is the last time 22.5985848903656\n",
      "This is the last time 22.585578203201294\n",
      "This is the last time 25.21684956550598\n",
      "\u001b[36m(ClientAppActor pid=35564)\u001b[0m [Client 5] fit, config: {'lr': 0.001, 'epochs': 10}\n",
      "\u001b[36m(ClientAppActor pid=41448)\u001b[0m Training time for Client 2: 25.19 seconds\n",
      "\u001b[36m(ClientAppActor pid=40256)\u001b[0m Epoch 0: train loss 0.009792, accuracy 0.888519\u001b[32m [repeated 9x across cluster]\u001b[0m\n",
      "\u001b[36m(ClientAppActor pid=35564)\u001b[0m [Client 0] evaluate, config: {}\u001b[32m [repeated 9x across cluster]\u001b[0m\n",
      "\u001b[36m(ClientAppActor pid=24492)\u001b[0m [Client 0] fit, config: {'lr': 0.0001, 'epochs': 9}\u001b[32m [repeated 7x across cluster]\u001b[0m\n",
      "\u001b[36m(ClientAppActor pid=40256)\u001b[0m Epoch 2: train loss 0.007088, accuracy 0.914074\u001b[32m [repeated 16x across cluster]\u001b[0m\n",
      "\u001b[36m(ClientAppActor pid=40256)\u001b[0m Epoch 4: train loss 0.005466, accuracy 0.934630\u001b[32m [repeated 16x across cluster]\u001b[0m\n",
      "\u001b[36m(ClientAppActor pid=40256)\u001b[0m Epoch 6: train loss 0.004659, accuracy 0.943704\u001b[32m [repeated 16x across cluster]\u001b[0m\n",
      "\u001b[36m(ClientAppActor pid=12560)\u001b[0m Training time for Client 3: 22.41 seconds\n",
      "\u001b[36m(ClientAppActor pid=12560)\u001b[0m [Client 8] fit, config: {'lr': 0.001, 'epochs': 10}\n",
      "\u001b[36m(ClientAppActor pid=40256)\u001b[0m Epoch 8: train loss 0.003777, accuracy 0.957222\u001b[32m [repeated 16x across cluster]\u001b[0m\n",
      "\u001b[36m(ClientAppActor pid=26464)\u001b[0m Training time for Client 1: 25.35 seconds\u001b[32m [repeated 7x across cluster]\u001b[0m\n",
      "\u001b[36m(ClientAppActor pid=25436)\u001b[0m [Client 9] fit, config: {'lr': 0.0001, 'epochs': 9}\n",
      "\u001b[36m(ClientAppActor pid=12560)\u001b[0m Epoch 2: train loss 0.007195, accuracy 0.919259\u001b[32m [repeated 7x across cluster]\u001b[0m\n",
      "\u001b[36m(ClientAppActor pid=12560)\u001b[0m Epoch 4: train loss 0.005719, accuracy 0.935556\u001b[32m [repeated 4x across cluster]\u001b[0m\n",
      "\u001b[36m(ClientAppActor pid=12560)\u001b[0m Epoch 6: train loss 0.004586, accuracy 0.946111\u001b[32m [repeated 4x across cluster]\u001b[0m\n",
      "\u001b[36m(ClientAppActor pid=12560)\u001b[0m Epoch 8: train loss 0.003318, accuracy 0.962963\u001b[32m [repeated 4x across cluster]\u001b[0m\n",
      "\u001b[36m(ClientAppActor pid=25436)\u001b[0m Training time for Client 9: 25.03 seconds\n"
     ]
    },
    {
     "name": "stderr",
     "output_type": "stream",
     "text": [
      "\u001b[92mINFO \u001b[0m:      aggregate_fit: received 10 results and 0 failures\n",
      "\u001b[92mINFO \u001b[0m:      configure_evaluate: strategy sampled 10 clients (out of 10)\n"
     ]
    },
    {
     "name": "stdout",
     "output_type": "stream",
     "text": [
      "\u001b[36m(ClientAppActor pid=12560)\u001b[0m [Client 4] evaluate, config: {}\n"
     ]
    },
    {
     "name": "stderr",
     "output_type": "stream",
     "text": [
      "\u001b[92mINFO \u001b[0m:      aggregate_evaluate: received 10 results and 0 failures\n",
      "\u001b[92mINFO \u001b[0m:      \n",
      "\u001b[92mINFO \u001b[0m:      [ROUND 5]\n",
      "\u001b[92mINFO \u001b[0m:      configure_fit: strategy sampled 10 clients (out of 10)\n"
     ]
    },
    {
     "name": "stdout",
     "output_type": "stream",
     "text": [
      "This is ths last time not a fantasy 22.698169708251953and 6habhhahah\n",
      "this is tehb mode time [22.7]\n",
      "This is ths last time not a fantasy 25.034072875976562and 9habhhahah\n",
      "this is tehb mode time [22.7, 25.03]\n",
      "This is ths last time not a fantasy 23.26017427444458and 2habhhahah\n",
      "this is tehb mode time [22.7, 25.03, 23.26]\n",
      "This is ths last time not a fantasy 22.637166738510132and 0habhhahah\n",
      "this is tehb mode time [22.7, 25.03, 23.26, 22.64]\n",
      "This is ths last time not a fantasy 22.4063823223114and 3habhhahah\n",
      "this is tehb mode time [22.7, 25.03, 23.26, 22.64, 22.41]\n",
      "This is ths last time not a fantasy 27.474125862121582and 8habhhahah\n",
      "this is tehb mode time [22.7, 25.03, 23.26, 22.64, 22.41, 27.47]\n",
      "This is ths last time not a fantasy 22.782519817352295and 7habhhahah\n",
      "this is tehb mode time [22.7, 25.03, 23.26, 22.64, 22.41, 27.47, 22.78]\n",
      "This is ths last time not a fantasy 25.353822231292725and 1habhhahah\n",
      "this is tehb mode time [22.7, 25.03, 23.26, 22.64, 22.41, 27.47, 22.78, 25.35]\n",
      "This is ths last time not a fantasy 22.92222285270691and 4habhhahah\n",
      "this is tehb mode time [22.7, 25.03, 23.26, 22.64, 22.41, 27.47, 22.78, 25.35, 22.92]\n",
      "This is ths last time not a fantasy 25.591817378997803and 5habhhahah\n",
      "this is tehb mode time [22.7, 25.03, 23.26, 22.64, 22.41, 27.47, 22.78, 25.35, 22.92, 25.59]\n",
      "Yeh h modest valueueueueuModeResult(mode=22.41, count=1)\n",
      "yeh h server round 5\n",
      "this is the min value 1.0 and this is the max value 22.41\n",
      "The epochs for the higher lr is 9 and the epochs for the standard lr is 10\n",
      "This is the last time 22.698169708251953\n",
      "This is the last time 25.034072875976562\n",
      "This is the last time 23.26017427444458\n",
      "This is the last time 22.637166738510132\n",
      "This is the last time 22.4063823223114\n",
      "This is the last time 27.474125862121582\n",
      "This is the last time 22.782519817352295\n",
      "This is the last time 25.353822231292725\n",
      "This is the last time 22.92222285270691\n",
      "This is the last time 25.591817378997803\n",
      "\u001b[36m(ClientAppActor pid=25436)\u001b[0m [Client 6] fit, config: {'lr': 0.0001, 'epochs': 9}\n",
      "\u001b[36m(ClientAppActor pid=12560)\u001b[0m Epoch 9: train loss 0.003269, accuracy 0.961296\u001b[32m [repeated 2x across cluster]\u001b[0m\n",
      "\u001b[36m(ClientAppActor pid=12560)\u001b[0m Training time for Client 8: 27.47 seconds\n",
      "\u001b[36m(ClientAppActor pid=25436)\u001b[0m [Client 1] evaluate, config: {}\u001b[32m [repeated 9x across cluster]\u001b[0m\n",
      "\u001b[36m(ClientAppActor pid=35564)\u001b[0m [Client 1] fit, config: {'lr': 0.0001, 'epochs': 9}\u001b[32m [repeated 7x across cluster]\u001b[0m\n",
      "\u001b[36m(ClientAppActor pid=40256)\u001b[0m Epoch 1: train loss 0.006899, accuracy 0.917037\u001b[32m [repeated 16x across cluster]\u001b[0m\n",
      "\u001b[36m(ClientAppActor pid=25436)\u001b[0m Epoch 4: train loss 0.004645, accuracy 0.943519\u001b[32m [repeated 17x across cluster]\u001b[0m\n",
      "\u001b[36m(ClientAppActor pid=12560)\u001b[0m Epoch 6: train loss 0.003661, accuracy 0.954815\u001b[32m [repeated 17x across cluster]\u001b[0m\n",
      "\u001b[36m(ClientAppActor pid=12560)\u001b[0m Training time for Client 9: 22.28 seconds\n",
      "\u001b[36m(ClientAppActor pid=12560)\u001b[0m [Client 4] fit, config: {'lr': 0.0001, 'epochs': 9}\n",
      "\u001b[36m(ClientAppActor pid=25436)\u001b[0m Epoch 8: train loss 0.002952, accuracy 0.966111\u001b[32m [repeated 16x across cluster]\u001b[0m\n",
      "\u001b[36m(ClientAppActor pid=29136)\u001b[0m Training time for Client 3: 25.09 seconds\u001b[32m [repeated 7x across cluster]\u001b[0m\n",
      "\u001b[36m(ClientAppActor pid=25436)\u001b[0m [Client 5] fit, config: {'lr': 0.0001, 'epochs': 9}\n",
      "\u001b[36m(ClientAppActor pid=12560)\u001b[0m Epoch 1: train loss 0.006998, accuracy 0.917963\u001b[32m [repeated 10x across cluster]\u001b[0m\n",
      "\u001b[36m(ClientAppActor pid=12560)\u001b[0m Epoch 3: train loss 0.005045, accuracy 0.940370\u001b[32m [repeated 4x across cluster]\u001b[0m\n",
      "\u001b[36m(ClientAppActor pid=12560)\u001b[0m Epoch 5: train loss 0.004010, accuracy 0.953333\u001b[32m [repeated 4x across cluster]\u001b[0m\n",
      "\u001b[36m(ClientAppActor pid=12560)\u001b[0m Epoch 7: train loss 0.003045, accuracy 0.966481\u001b[32m [repeated 4x across cluster]\u001b[0m\n"
     ]
    },
    {
     "name": "stderr",
     "output_type": "stream",
     "text": [
      "\u001b[92mINFO \u001b[0m:      aggregate_fit: received 10 results and 0 failures\n"
     ]
    },
    {
     "name": "stdout",
     "output_type": "stream",
     "text": [
      "\u001b[36m(ClientAppActor pid=12560)\u001b[0m Training time for Client 4: 24.95 seconds\n"
     ]
    },
    {
     "name": "stderr",
     "output_type": "stream",
     "text": [
      "\u001b[92mINFO \u001b[0m:      configure_evaluate: strategy sampled 10 clients (out of 10)\n"
     ]
    },
    {
     "name": "stdout",
     "output_type": "stream",
     "text": [
      "\u001b[36m(ClientAppActor pid=25436)\u001b[0m [Client 2] evaluate, config: {}\n"
     ]
    },
    {
     "name": "stderr",
     "output_type": "stream",
     "text": [
      "\u001b[92mINFO \u001b[0m:      aggregate_evaluate: received 10 results and 0 failures\n",
      "\u001b[92mINFO \u001b[0m:      \n",
      "\u001b[92mINFO \u001b[0m:      [ROUND 6]\n",
      "\u001b[92mINFO \u001b[0m:      configure_fit: strategy sampled 10 clients (out of 10)\n"
     ]
    },
    {
     "name": "stdout",
     "output_type": "stream",
     "text": [
      "This is ths last time not a fantasy 25.09351396560669and 3habhhahah\n",
      "this is tehb mode time [25.09]\n",
      "This is ths last time not a fantasy 22.846073150634766and 1habhhahah\n",
      "this is tehb mode time [25.09, 22.85]\n",
      "This is ths last time not a fantasy 23.06607699394226and 0habhhahah\n",
      "this is tehb mode time [25.09, 22.85, 23.07]\n",
      "This is ths last time not a fantasy 24.948782205581665and 4habhhahah\n",
      "this is tehb mode time [25.09, 22.85, 23.07, 24.95]\n",
      "This is ths last time not a fantasy 22.531083822250366and 8habhhahah\n",
      "this is tehb mode time [25.09, 22.85, 23.07, 24.95, 22.53]\n",
      "This is ths last time not a fantasy 22.483906984329224and 6habhhahah\n",
      "this is tehb mode time [25.09, 22.85, 23.07, 24.95, 22.53, 22.48]\n",
      "This is ths last time not a fantasy 22.40508008003235and 7habhhahah\n",
      "this is tehb mode time [25.09, 22.85, 23.07, 24.95, 22.53, 22.48, 22.41]\n",
      "This is ths last time not a fantasy 24.99178123474121and 5habhhahah\n",
      "this is tehb mode time [25.09, 22.85, 23.07, 24.95, 22.53, 22.48, 22.41, 24.99]\n",
      "This is ths last time not a fantasy 22.27927255630493and 9habhhahah\n",
      "this is tehb mode time [25.09, 22.85, 23.07, 24.95, 22.53, 22.48, 22.41, 24.99, 22.28]\n",
      "This is ths last time not a fantasy 22.529085636138916and 2habhhahah\n",
      "this is tehb mode time [25.09, 22.85, 23.07, 24.95, 22.53, 22.48, 22.41, 24.99, 22.28, 22.53]\n",
      "Yeh h modest valueueueueuModeResult(mode=22.53, count=2)\n",
      "yeh h server round 6\n",
      "this is the min value 2.0 and this is the max value 22.53\n",
      "The epochs for the higher lr is 9 and the epochs for the standard lr is 10\n",
      "This is the last time 25.09351396560669\n",
      "This is the last time 22.846073150634766\n",
      "This is the last time 23.06607699394226\n",
      "This is the last time 24.948782205581665\n",
      "This is the last time 22.531083822250366\n",
      "This is the last time 22.483906984329224\n",
      "This is the last time 22.40508008003235\n",
      "This is the last time 24.99178123474121\n",
      "This is the last time 22.27927255630493\n",
      "This is the last time 22.529085636138916\n",
      "\u001b[36m(ClientAppActor pid=12560)\u001b[0m [Client 3] fit, config: {'lr': 0.0001, 'epochs': 9}\n",
      "\u001b[36m(ClientAppActor pid=25436)\u001b[0m Epoch 8: train loss 0.002738, accuracy 0.965000\u001b[32m [repeated 3x across cluster]\u001b[0m\n",
      "\u001b[36m(ClientAppActor pid=25436)\u001b[0m Training time for Client 5: 24.99 seconds\n",
      "\u001b[36m(ClientAppActor pid=12560)\u001b[0m [Client 0] evaluate, config: {}\u001b[32m [repeated 9x across cluster]\u001b[0m\n",
      "\u001b[36m(ClientAppActor pid=29136)\u001b[0m [Client 7] fit, config: {'lr': 0.001, 'epochs': 10}\u001b[32m [repeated 7x across cluster]\u001b[0m\n",
      "\u001b[36m(ClientAppActor pid=26464)\u001b[0m Epoch 1: train loss 0.006250, accuracy 0.924074\u001b[32m [repeated 14x across cluster]\u001b[0m\n",
      "\u001b[36m(ClientAppActor pid=35564)\u001b[0m Epoch 3: train loss 0.003907, accuracy 0.953333\u001b[32m [repeated 17x across cluster]\u001b[0m\n",
      "\u001b[36m(ClientAppActor pid=29136)\u001b[0m Epoch 5: train loss 0.003444, accuracy 0.958889\u001b[32m [repeated 16x across cluster]\u001b[0m\n",
      "\u001b[36m(ClientAppActor pid=29136)\u001b[0m Epoch 7: train loss 0.002638, accuracy 0.967222\u001b[32m [repeated 16x across cluster]\u001b[0m\n",
      "\u001b[36m(ClientAppActor pid=41448)\u001b[0m Training time for Client 0: 22.51 seconds\n",
      "\u001b[36m(ClientAppActor pid=41448)\u001b[0m [Client 9] fit, config: {'lr': 0.001, 'epochs': 10}\n",
      "\u001b[36m(ClientAppActor pid=41448)\u001b[0m Epoch 1: train loss 0.006322, accuracy 0.924630\u001b[32m [repeated 14x across cluster]\u001b[0m\n",
      "\u001b[36m(ClientAppActor pid=29136)\u001b[0m Training time for Client 7: 25.08 seconds\u001b[32m [repeated 7x across cluster]\u001b[0m\n",
      "\u001b[36m(ClientAppActor pid=25436)\u001b[0m [Client 2] fit, config: {'lr': 0.001, 'epochs': 10}\n",
      "\u001b[36m(ClientAppActor pid=41448)\u001b[0m Epoch 3: train loss 0.004369, accuracy 0.948704\u001b[32m [repeated 4x across cluster]\u001b[0m\n",
      "\u001b[36m(ClientAppActor pid=41448)\u001b[0m Epoch 5: train loss 0.003454, accuracy 0.963148\u001b[32m [repeated 4x across cluster]\u001b[0m\n",
      "\u001b[36m(ClientAppActor pid=41448)\u001b[0m Epoch 7: train loss 0.002787, accuracy 0.967963\u001b[32m [repeated 4x across cluster]\u001b[0m\n"
     ]
    },
    {
     "name": "stderr",
     "output_type": "stream",
     "text": [
      "\u001b[92mINFO \u001b[0m:      aggregate_fit: received 10 results and 0 failures\n",
      "\u001b[92mINFO \u001b[0m:      configure_evaluate: strategy sampled 10 clients (out of 10)\n"
     ]
    },
    {
     "name": "stdout",
     "output_type": "stream",
     "text": [
      "\u001b[36m(ClientAppActor pid=41448)\u001b[0m Training time for Client 9: 27.54 seconds\n",
      "\u001b[36m(ClientAppActor pid=41448)\u001b[0m Epoch 9: train loss 0.002215, accuracy 0.975556\u001b[32m [repeated 4x across cluster]\u001b[0m\n",
      "\u001b[36m(ClientAppActor pid=25436)\u001b[0m [Client 1] evaluate, config: {}\n"
     ]
    },
    {
     "name": "stderr",
     "output_type": "stream",
     "text": [
      "\u001b[92mINFO \u001b[0m:      aggregate_evaluate: received 10 results and 0 failures\n",
      "\u001b[92mINFO \u001b[0m:      \n",
      "\u001b[92mINFO \u001b[0m:      [ROUND 7]\n",
      "\u001b[92mINFO \u001b[0m:      configure_fit: strategy sampled 10 clients (out of 10)\n"
     ]
    },
    {
     "name": "stdout",
     "output_type": "stream",
     "text": [
      "This is ths last time not a fantasy 24.945369482040405and 6habhhahah\n",
      "this is tehb mode time [24.95]\n",
      "This is ths last time not a fantasy 22.770739316940308and 1habhhahah\n",
      "this is tehb mode time [24.95, 22.77]\n",
      "This is ths last time not a fantasy 22.640594959259033and 5habhhahah\n",
      "this is tehb mode time [24.95, 22.77, 22.64]\n",
      "This is ths last time not a fantasy 22.509286403656006and 0habhhahah\n",
      "this is tehb mode time [24.95, 22.77, 22.64, 22.51]\n",
      "This is ths last time not a fantasy 22.58959150314331and 4habhhahah\n",
      "this is tehb mode time [24.95, 22.77, 22.64, 22.51, 22.59]\n",
      "This is ths last time not a fantasy 22.738591194152832and 8habhhahah\n",
      "this is tehb mode time [24.95, 22.77, 22.64, 22.51, 22.59, 22.74]\n",
      "This is ths last time not a fantasy 22.995887756347656and 3habhhahah\n",
      "this is tehb mode time [24.95, 22.77, 22.64, 22.51, 22.59, 22.74, 23.0]\n",
      "This is ths last time not a fantasy 25.07837700843811and 7habhhahah\n",
      "this is tehb mode time [24.95, 22.77, 22.64, 22.51, 22.59, 22.74, 23.0, 25.08]\n",
      "This is ths last time not a fantasy 27.41697883605957and 2habhhahah\n",
      "this is tehb mode time [24.95, 22.77, 22.64, 22.51, 22.59, 22.74, 23.0, 25.08, 27.42]\n",
      "This is ths last time not a fantasy 27.53898334503174and 9habhhahah\n",
      "this is tehb mode time [24.95, 22.77, 22.64, 22.51, 22.59, 22.74, 23.0, 25.08, 27.42, 27.54]\n",
      "Yeh h modest valueueueueuModeResult(mode=22.51, count=1)\n",
      "yeh h server round 7\n",
      "this is the min value 1.0 and this is the max value 22.51\n",
      "The epochs for the higher lr is 9 and the epochs for the standard lr is 10\n",
      "This is the last time 24.945369482040405\n",
      "This is the last time 22.770739316940308\n",
      "This is the last time 22.640594959259033\n",
      "This is the last time 22.509286403656006\n",
      "This is the last time 22.58959150314331\n",
      "This is the last time 22.738591194152832\n",
      "This is the last time 22.995887756347656\n",
      "This is the last time 25.07837700843811\n",
      "This is the last time 27.41697883605957\n",
      "This is the last time 27.53898334503174\n",
      "\u001b[36m(ClientAppActor pid=40256)\u001b[0m [Client 6] fit, config: {'lr': 0.0001, 'epochs': 9}\n",
      "\u001b[36m(ClientAppActor pid=25436)\u001b[0m Training time for Client 2: 27.42 seconds\n",
      "\u001b[36m(ClientAppActor pid=40256)\u001b[0m Epoch 1: train loss 0.005637, accuracy 0.931852\u001b[32m [repeated 10x across cluster]\u001b[0m\n",
      "\u001b[36m(ClientAppActor pid=40256)\u001b[0m [Client 0] evaluate, config: {}\u001b[32m [repeated 9x across cluster]\u001b[0m\n",
      "\u001b[36m(ClientAppActor pid=24492)\u001b[0m [Client 7] fit, config: {'lr': 0.0001, 'epochs': 9}\u001b[32m [repeated 7x across cluster]\u001b[0m\n",
      "\u001b[36m(ClientAppActor pid=26464)\u001b[0m Epoch 3: train loss 0.003394, accuracy 0.959444\u001b[32m [repeated 17x across cluster]\u001b[0m\n",
      "\u001b[36m(ClientAppActor pid=29136)\u001b[0m Epoch 5: train loss 0.002451, accuracy 0.974444\u001b[32m [repeated 17x across cluster]\u001b[0m\n",
      "\u001b[36m(ClientAppActor pid=24492)\u001b[0m Epoch 7: train loss 0.001788, accuracy 0.982407\u001b[32m [repeated 17x across cluster]\u001b[0m\n",
      "\u001b[36m(ClientAppActor pid=26464)\u001b[0m Training time for Client 4: 22.08 seconds\n",
      "\u001b[36m(ClientAppActor pid=26464)\u001b[0m [Client 2] fit, config: {'lr': 0.0001, 'epochs': 9}\n",
      "\u001b[36m(ClientAppActor pid=40256)\u001b[0m Epoch 0: train loss 0.008606, accuracy 0.905000\u001b[32m [repeated 14x across cluster]\u001b[0m\n",
      "\u001b[36m(ClientAppActor pid=41448)\u001b[0m Training time for Client 0: 25.50 seconds\u001b[32m [repeated 7x across cluster]\u001b[0m\n",
      "\u001b[36m(ClientAppActor pid=40256)\u001b[0m [Client 9] fit, config: {'lr': 0.0001, 'epochs': 9}\n",
      "\u001b[36m(ClientAppActor pid=26464)\u001b[0m Epoch 2: train loss 0.003963, accuracy 0.954630\u001b[32m [repeated 4x across cluster]\u001b[0m\n",
      "\u001b[36m(ClientAppActor pid=26464)\u001b[0m Epoch 4: train loss 0.002807, accuracy 0.965556\u001b[32m [repeated 4x across cluster]\u001b[0m\n",
      "\u001b[36m(ClientAppActor pid=26464)\u001b[0m Epoch 6: train loss 0.002392, accuracy 0.972778\u001b[32m [repeated 4x across cluster]\u001b[0m\n",
      "\u001b[36m(ClientAppActor pid=26464)\u001b[0m Training time for Client 2: 24.78 seconds\n",
      "\u001b[36m(ClientAppActor pid=26464)\u001b[0m Epoch 8: train loss 0.001979, accuracy 0.977407\u001b[32m [repeated 4x across cluster]\u001b[0m\n"
     ]
    },
    {
     "name": "stderr",
     "output_type": "stream",
     "text": [
      "\u001b[92mINFO \u001b[0m:      aggregate_fit: received 10 results and 0 failures\n",
      "\u001b[92mINFO \u001b[0m:      configure_evaluate: strategy sampled 10 clients (out of 10)\n"
     ]
    },
    {
     "name": "stdout",
     "output_type": "stream",
     "text": [
      "\u001b[36m(ClientAppActor pid=40256)\u001b[0m [Client 3] evaluate, config: {}\n"
     ]
    },
    {
     "name": "stderr",
     "output_type": "stream",
     "text": [
      "\u001b[92mINFO \u001b[0m:      aggregate_evaluate: received 10 results and 0 failures\n",
      "\u001b[92mINFO \u001b[0m:      \n",
      "\u001b[92mINFO \u001b[0m:      [ROUND 8]\n",
      "\u001b[92mINFO \u001b[0m:      configure_fit: strategy sampled 10 clients (out of 10)\n"
     ]
    },
    {
     "name": "stdout",
     "output_type": "stream",
     "text": [
      "This is ths last time not a fantasy 24.77507972717285and 2habhhahah\n",
      "this is tehb mode time [24.78]\n",
      "This is ths last time not a fantasy 25.311084032058716and 9habhhahah\n",
      "this is tehb mode time [24.78, 25.31]\n",
      "This is ths last time not a fantasy 22.580626964569092and 6habhhahah\n",
      "this is tehb mode time [24.78, 25.31, 22.58]\n",
      "This is ths last time not a fantasy 22.546082735061646and 8habhhahah\n",
      "this is tehb mode time [24.78, 25.31, 22.58, 22.55]\n",
      "This is ths last time not a fantasy 22.882079124450684and 1habhhahah\n",
      "this is tehb mode time [24.78, 25.31, 22.58, 22.55, 22.88]\n",
      "This is ths last time not a fantasy 22.745094776153564and 3habhhahah\n",
      "this is tehb mode time [24.78, 25.31, 22.58, 22.55, 22.88, 22.75]\n",
      "This is ths last time not a fantasy 22.221090078353882and 7habhhahah\n",
      "this is tehb mode time [24.78, 25.31, 22.58, 22.55, 22.88, 22.75, 22.22]\n",
      "This is ths last time not a fantasy 22.865083694458008and 5habhhahah\n",
      "this is tehb mode time [24.78, 25.31, 22.58, 22.55, 22.88, 22.75, 22.22, 22.87]\n",
      "This is ths last time not a fantasy 22.08309531211853and 4habhhahah\n",
      "this is tehb mode time [24.78, 25.31, 22.58, 22.55, 22.88, 22.75, 22.22, 22.87, 22.08]\n",
      "This is ths last time not a fantasy 25.496511697769165and 0habhhahah\n",
      "this is tehb mode time [24.78, 25.31, 22.58, 22.55, 22.88, 22.75, 22.22, 22.87, 22.08, 25.5]\n",
      "Yeh h modest valueueueueuModeResult(mode=22.08, count=1)\n",
      "yeh h server round 8\n",
      "this is the min value 1.0 and this is the max value 22.08\n",
      "The epochs for the higher lr is 9 and the epochs for the standard lr is 10\n",
      "This is the last time 24.77507972717285\n",
      "This is the last time 25.311084032058716\n",
      "This is the last time 22.580626964569092\n",
      "This is the last time 22.546082735061646\n",
      "This is the last time 22.882079124450684\n",
      "This is the last time 22.745094776153564\n",
      "This is the last time 22.221090078353882\n",
      "This is the last time 22.865083694458008\n",
      "This is the last time 22.08309531211853\n",
      "This is the last time 25.496511697769165\n",
      "\u001b[36m(ClientAppActor pid=26464)\u001b[0m [Client 2] fit, config: {'lr': 0.0001, 'epochs': 9}\n",
      "\u001b[36m(ClientAppActor pid=40256)\u001b[0m Training time for Client 9: 25.31 seconds\n",
      "\u001b[36m(ClientAppActor pid=40256)\u001b[0m Epoch 0: train loss 0.008745, accuracy 0.909259\u001b[32m [repeated 5x across cluster]\u001b[0m\n",
      "\u001b[36m(ClientAppActor pid=24492)\u001b[0m [Client 6] evaluate, config: {}\u001b[32m [repeated 9x across cluster]\u001b[0m\n",
      "\u001b[36m(ClientAppActor pid=41448)\u001b[0m [Client 5] fit, config: {'lr': 0.0001, 'epochs': 9}\u001b[32m [repeated 7x across cluster]\u001b[0m\n",
      "\u001b[36m(ClientAppActor pid=35564)\u001b[0m Epoch 2: train loss 0.003807, accuracy 0.955185\u001b[32m [repeated 18x across cluster]\u001b[0m\n",
      "\u001b[36m(ClientAppActor pid=35564)\u001b[0m Epoch 4: train loss 0.002673, accuracy 0.970185\u001b[32m [repeated 16x across cluster]\u001b[0m\n",
      "\u001b[36m(ClientAppActor pid=41448)\u001b[0m Epoch 6: train loss 0.001538, accuracy 0.984074\u001b[32m [repeated 17x across cluster]\u001b[0m\n",
      "\u001b[36m(ClientAppActor pid=25436)\u001b[0m Training time for Client 6: 22.48 seconds\n",
      "\u001b[36m(ClientAppActor pid=25436)\u001b[0m [Client 4] fit, config: {'lr': 0.0001, 'epochs': 9}\n",
      "\u001b[36m(ClientAppActor pid=25436)\u001b[0m Epoch 0: train loss 0.008055, accuracy 0.913889\u001b[32m [repeated 18x across cluster]\u001b[0m\n",
      "\u001b[36m(ClientAppActor pid=35564)\u001b[0m Training time for Client 3: 22.81 seconds\u001b[32m [repeated 7x across cluster]\u001b[0m\n",
      "\u001b[36m(ClientAppActor pid=12560)\u001b[0m [Client 0] fit, config: {'lr': 0.0001, 'epochs': 9}\n",
      "\u001b[36m(ClientAppActor pid=25436)\u001b[0m Epoch 2: train loss 0.003878, accuracy 0.955000\u001b[32m [repeated 4x across cluster]\u001b[0m\n",
      "\u001b[36m(ClientAppActor pid=25436)\u001b[0m Epoch 4: train loss 0.002402, accuracy 0.973148\u001b[32m [repeated 4x across cluster]\u001b[0m\n",
      "\u001b[36m(ClientAppActor pid=25436)\u001b[0m Epoch 6: train loss 0.001715, accuracy 0.977963\u001b[32m [repeated 4x across cluster]\u001b[0m\n"
     ]
    },
    {
     "name": "stderr",
     "output_type": "stream",
     "text": [
      "\u001b[92mINFO \u001b[0m:      aggregate_fit: received 10 results and 0 failures\n",
      "\u001b[92mINFO \u001b[0m:      configure_evaluate: strategy sampled 10 clients (out of 10)\n"
     ]
    },
    {
     "name": "stdout",
     "output_type": "stream",
     "text": [
      "\u001b[36m(ClientAppActor pid=25436)\u001b[0m Training time for Client 4: 25.01 seconds\n",
      "\u001b[36m(ClientAppActor pid=25436)\u001b[0m Epoch 8: train loss 0.002672, accuracy 0.968148\u001b[32m [repeated 4x across cluster]\u001b[0m\n",
      "\u001b[36m(ClientAppActor pid=12560)\u001b[0m [Client 1] evaluate, config: {}\n"
     ]
    },
    {
     "name": "stderr",
     "output_type": "stream",
     "text": [
      "\u001b[92mINFO \u001b[0m:      aggregate_evaluate: received 10 results and 0 failures\n",
      "\u001b[92mINFO \u001b[0m:      \n",
      "\u001b[92mINFO \u001b[0m:      [ROUND 9]\n",
      "\u001b[92mINFO \u001b[0m:      configure_fit: strategy sampled 10 clients (out of 10)\n"
     ]
    },
    {
     "name": "stdout",
     "output_type": "stream",
     "text": [
      "This is ths last time not a fantasy 22.700533151626587and 1habhhahah\n",
      "this is tehb mode time [22.7]\n",
      "This is ths last time not a fantasy 23.118509769439697and 9habhhahah\n",
      "this is tehb mode time [22.7, 23.12]\n",
      "This is ths last time not a fantasy 22.962525844573975and 2habhhahah\n",
      "this is tehb mode time [22.7, 23.12, 22.96]\n",
      "This is ths last time not a fantasy 22.80853009223938and 3habhhahah\n",
      "this is tehb mode time [22.7, 23.12, 22.96, 22.81]\n",
      "This is ths last time not a fantasy 25.014737129211426and 4habhhahah\n",
      "this is tehb mode time [22.7, 23.12, 22.96, 22.81, 25.01]\n",
      "This is ths last time not a fantasy 22.37852668762207and 7habhhahah\n",
      "this is tehb mode time [22.7, 23.12, 22.96, 22.81, 25.01, 22.38]\n",
      "This is ths last time not a fantasy 22.48352861404419and 6habhhahah\n",
      "this is tehb mode time [22.7, 23.12, 22.96, 22.81, 25.01, 22.38, 22.48]\n",
      "This is ths last time not a fantasy 22.621532201766968and 5habhhahah\n",
      "this is tehb mode time [22.7, 23.12, 22.96, 22.81, 25.01, 22.38, 22.48, 22.62]\n",
      "This is ths last time not a fantasy 22.526535749435425and 8habhhahah\n",
      "this is tehb mode time [22.7, 23.12, 22.96, 22.81, 25.01, 22.38, 22.48, 22.62, 22.53]\n",
      "This is ths last time not a fantasy 25.016741037368774and 0habhhahah\n",
      "this is tehb mode time [22.7, 23.12, 22.96, 22.81, 25.01, 22.38, 22.48, 22.62, 22.53, 25.02]\n",
      "Yeh h modest valueueueueuModeResult(mode=22.38, count=1)\n",
      "yeh h server round 9\n",
      "this is the min value 1.0 and this is the max value 22.38\n",
      "The epochs for the higher lr is 9 and the epochs for the standard lr is 10\n",
      "This is the last time 22.700533151626587\n",
      "This is the last time 23.118509769439697\n",
      "This is the last time 22.962525844573975\n",
      "This is the last time 22.80853009223938\n",
      "This is the last time 25.014737129211426\n",
      "This is the last time 22.37852668762207\n",
      "This is the last time 22.48352861404419\n",
      "This is the last time 22.621532201766968\n",
      "This is the last time 22.526535749435425\n",
      "This is the last time 25.016741037368774\n",
      "\u001b[36m(ClientAppActor pid=25436)\u001b[0m [Client 1] fit, config: {'lr': 0.0001, 'epochs': 9}\n",
      "\u001b[36m(ClientAppActor pid=12560)\u001b[0m Training time for Client 0: 25.02 seconds\n",
      "\u001b[36m(ClientAppActor pid=40256)\u001b[0m Epoch 0: train loss 0.008169, accuracy 0.910926\u001b[32m [repeated 6x across cluster]\u001b[0m\n",
      "\u001b[36m(ClientAppActor pid=25436)\u001b[0m [Client 3] evaluate, config: {}\u001b[32m [repeated 9x across cluster]\u001b[0m\n",
      "\u001b[36m(ClientAppActor pid=29136)\u001b[0m [Client 6] fit, config: {'lr': 0.0001, 'epochs': 9}\u001b[32m [repeated 7x across cluster]\u001b[0m\n",
      "\u001b[36m(ClientAppActor pid=41448)\u001b[0m Epoch 2: train loss 0.003639, accuracy 0.956852\u001b[32m [repeated 16x across cluster]\u001b[0m\n",
      "\u001b[36m(ClientAppActor pid=41448)\u001b[0m Epoch 4: train loss 0.002119, accuracy 0.975926\u001b[32m [repeated 16x across cluster]\u001b[0m\n",
      "\u001b[36m(ClientAppActor pid=26464)\u001b[0m Epoch 6: train loss 0.001316, accuracy 0.985000\u001b[32m [repeated 18x across cluster]\u001b[0m\n",
      "\u001b[36m(ClientAppActor pid=12560)\u001b[0m Training time for Client 9: 22.19 seconds\n",
      "\u001b[36m(ClientAppActor pid=12560)\u001b[0m [Client 8] fit, config: {'lr': 0.0001, 'epochs': 9}\n",
      "\u001b[36m(ClientAppActor pid=35564)\u001b[0m Epoch 8: train loss 0.001398, accuracy 0.984444\u001b[32m [repeated 14x across cluster]\u001b[0m\n",
      "\u001b[36m(ClientAppActor pid=40256)\u001b[0m Training time for Client 7: 25.28 seconds\u001b[32m [repeated 7x across cluster]\u001b[0m\n",
      "\u001b[36m(ClientAppActor pid=25436)\u001b[0m [Client 0] fit, config: {'lr': 0.0001, 'epochs': 9}\n",
      "\u001b[36m(ClientAppActor pid=25436)\u001b[0m Epoch 2: train loss 0.003274, accuracy 0.963148\u001b[32m [repeated 9x across cluster]\u001b[0m\n",
      "\u001b[36m(ClientAppActor pid=25436)\u001b[0m Epoch 4: train loss 0.002061, accuracy 0.977778\u001b[32m [repeated 4x across cluster]\u001b[0m\n",
      "\u001b[36m(ClientAppActor pid=12560)\u001b[0m Epoch 6: train loss 0.001695, accuracy 0.981481\u001b[32m [repeated 4x across cluster]\u001b[0m\n"
     ]
    },
    {
     "name": "stderr",
     "output_type": "stream",
     "text": [
      "\u001b[92mINFO \u001b[0m:      aggregate_fit: received 10 results and 0 failures\n",
      "\u001b[92mINFO \u001b[0m:      configure_evaluate: strategy sampled 10 clients (out of 10)\n"
     ]
    },
    {
     "name": "stdout",
     "output_type": "stream",
     "text": [
      "\u001b[36m(ClientAppActor pid=12560)\u001b[0m Training time for Client 8: 25.40 seconds\n",
      "\u001b[36m(ClientAppActor pid=12560)\u001b[0m Epoch 8: train loss 0.000939, accuracy 0.989815\u001b[32m [repeated 4x across cluster]\u001b[0m\n",
      "\u001b[36m(ClientAppActor pid=25436)\u001b[0m [Client 5] evaluate, config: {}\n"
     ]
    },
    {
     "name": "stderr",
     "output_type": "stream",
     "text": [
      "\u001b[92mINFO \u001b[0m:      aggregate_evaluate: received 10 results and 0 failures\n",
      "\u001b[92mINFO \u001b[0m:      \n",
      "\u001b[92mINFO \u001b[0m:      [ROUND 10]\n",
      "\u001b[92mINFO \u001b[0m:      configure_fit: strategy sampled 10 clients (out of 10)\n"
     ]
    },
    {
     "name": "stdout",
     "output_type": "stream",
     "text": [
      "This is ths last time not a fantasy 25.400926113128662and 8habhhahah\n",
      "this is tehb mode time [25.4]\n",
      "This is ths last time not a fantasy 22.49091148376465and 4habhhahah\n",
      "this is tehb mode time [25.4, 22.49]\n",
      "This is ths last time not a fantasy 23.200090408325195and 2habhhahah\n",
      "this is tehb mode time [25.4, 22.49, 23.2]\n",
      "This is ths last time not a fantasy 23.162092447280884and 6habhhahah\n",
      "this is tehb mode time [25.4, 22.49, 23.2, 23.16]\n",
      "This is ths last time not a fantasy 22.938091278076172and 3habhhahah\n",
      "this is tehb mode time [25.4, 22.49, 23.2, 23.16, 22.94]\n",
      "This is ths last time not a fantasy 25.275447368621826and 7habhhahah\n",
      "this is tehb mode time [25.4, 22.49, 23.2, 23.16, 22.94, 25.28]\n",
      "This is ths last time not a fantasy 22.18823766708374and 9habhhahah\n",
      "this is tehb mode time [25.4, 22.49, 23.2, 23.16, 22.94, 25.28, 22.19]\n",
      "This is ths last time not a fantasy 22.537227392196655and 1habhhahah\n",
      "this is tehb mode time [25.4, 22.49, 23.2, 23.16, 22.94, 25.28, 22.19, 22.54]\n",
      "This is ths last time not a fantasy 25.27895426750183and 0habhhahah\n",
      "this is tehb mode time [25.4, 22.49, 23.2, 23.16, 22.94, 25.28, 22.19, 22.54, 25.28]\n",
      "This is ths last time not a fantasy 22.772091388702393and 5habhhahah\n",
      "this is tehb mode time [25.4, 22.49, 23.2, 23.16, 22.94, 25.28, 22.19, 22.54, 25.28, 22.77]\n",
      "Yeh h modest valueueueueuModeResult(mode=25.28, count=2)\n",
      "yeh h server round 10\n",
      "this is the min value 2.0 and this is the max value 25.28\n",
      "The epochs for the higher lr is 9 and the epochs for the standard lr is 10\n",
      "This is the last time 25.400926113128662\n",
      "This is the last time 22.49091148376465\n",
      "This is the last time 23.200090408325195\n",
      "This is the last time 23.162092447280884\n",
      "This is the last time 22.938091278076172\n",
      "This is the last time 25.275447368621826\n",
      "This is the last time 22.18823766708374\n",
      "This is the last time 22.537227392196655\n",
      "This is the last time 25.27895426750183\n",
      "This is the last time 22.772091388702393\n",
      "\u001b[36m(ClientAppActor pid=40256)\u001b[0m [Client 8] fit, config: {'lr': 0.0001, 'epochs': 9}\n",
      "\u001b[36m(ClientAppActor pid=25436)\u001b[0m Training time for Client 0: 25.28 seconds\n",
      "\u001b[36m(ClientAppActor pid=29136)\u001b[0m Epoch 0: train loss 0.007350, accuracy 0.918148\u001b[32m [repeated 8x across cluster]\u001b[0m\n",
      "\u001b[36m(ClientAppActor pid=40256)\u001b[0m [Client 4] evaluate, config: {}\u001b[32m [repeated 9x across cluster]\u001b[0m\n",
      "\u001b[36m(ClientAppActor pid=12560)\u001b[0m [Client 1] fit, config: {'lr': 0.001, 'epochs': 10}\u001b[32m [repeated 7x across cluster]\u001b[0m\n",
      "\u001b[36m(ClientAppActor pid=12560)\u001b[0m Epoch 2: train loss 0.002643, accuracy 0.968148\u001b[32m [repeated 17x across cluster]\u001b[0m\n",
      "\u001b[36m(ClientAppActor pid=29136)\u001b[0m Epoch 4: train loss 0.001753, accuracy 0.979630\u001b[32m [repeated 15x across cluster]\u001b[0m\n",
      "\u001b[36m(ClientAppActor pid=12560)\u001b[0m Epoch 6: train loss 0.001891, accuracy 0.979259\u001b[32m [repeated 17x across cluster]\u001b[0m\n",
      "\u001b[36m(ClientAppActor pid=40256)\u001b[0m Training time for Client 8: 23.29 seconds\n",
      "\u001b[36m(ClientAppActor pid=40256)\u001b[0m [Client 0] fit, config: {'lr': 0.001, 'epochs': 10}\n",
      "\u001b[36m(ClientAppActor pid=40256)\u001b[0m Epoch 8: train loss 0.001256, accuracy 0.986296\u001b[32m [repeated 15x across cluster]\u001b[0m\n",
      "\u001b[36m(ClientAppActor pid=12560)\u001b[0m Training time for Client 1: 25.50 seconds\u001b[32m [repeated 7x across cluster]\u001b[0m\n",
      "\u001b[36m(ClientAppActor pid=24492)\u001b[0m [Client 5] fit, config: {'lr': 0.001, 'epochs': 10}\n",
      "\u001b[36m(ClientAppActor pid=40256)\u001b[0m Epoch 1: train loss 0.004239, accuracy 0.952593\u001b[32m [repeated 11x across cluster]\u001b[0m\n",
      "\u001b[36m(ClientAppActor pid=40256)\u001b[0m Epoch 3: train loss 0.002318, accuracy 0.971111\u001b[32m [repeated 4x across cluster]\u001b[0m\n",
      "\u001b[36m(ClientAppActor pid=40256)\u001b[0m Epoch 5: train loss 0.001904, accuracy 0.978333\u001b[32m [repeated 4x across cluster]\u001b[0m\n",
      "\u001b[36m(ClientAppActor pid=40256)\u001b[0m Epoch 7: train loss 0.001431, accuracy 0.984259\u001b[32m [repeated 4x across cluster]\u001b[0m\n",
      "\u001b[36m(ClientAppActor pid=40256)\u001b[0m Training time for Client 0: 28.58 seconds\n",
      "\u001b[36m(ClientAppActor pid=40256)\u001b[0m Epoch 9: train loss 0.002014, accuracy 0.976296\u001b[32m [repeated 4x across cluster]\u001b[0m\n"
     ]
    },
    {
     "name": "stderr",
     "output_type": "stream",
     "text": [
      "\u001b[92mINFO \u001b[0m:      aggregate_fit: received 10 results and 0 failures\n",
      "\u001b[92mINFO \u001b[0m:      configure_evaluate: strategy sampled 10 clients (out of 10)\n"
     ]
    },
    {
     "name": "stdout",
     "output_type": "stream",
     "text": [
      "\u001b[36m(ClientAppActor pid=24492)\u001b[0m [Client 1] evaluate, config: {}\n"
     ]
    },
    {
     "name": "stderr",
     "output_type": "stream",
     "text": [
      "\u001b[92mINFO \u001b[0m:      aggregate_evaluate: received 10 results and 0 failures\n",
      "\u001b[92mINFO \u001b[0m:      \n",
      "\u001b[92mINFO \u001b[0m:      [SUMMARY]\n",
      "\u001b[92mINFO \u001b[0m:      Run finished 10 round(s) in 519.84s\n",
      "\u001b[92mINFO \u001b[0m:      \tHistory (loss, distributed):\n",
      "\u001b[92mINFO \u001b[0m:      \t\tround 1: 0.015028410298128922\n",
      "\u001b[92mINFO \u001b[0m:      \t\tround 2: 0.011054708508153755\n",
      "\u001b[92mINFO \u001b[0m:      \t\tround 3: 0.01093500293729206\n",
      "\u001b[92mINFO \u001b[0m:      \t\tround 4: 0.011316529477325577\n",
      "\u001b[92mINFO \u001b[0m:      \t\tround 5: 0.012107266007922592\n",
      "\u001b[92mINFO \u001b[0m:      \t\tround 6: 0.013001571838899207\n",
      "\u001b[92mINFO \u001b[0m:      \t\tround 7: 0.013694924408104272\n",
      "\u001b[92mINFO \u001b[0m:      \t\tround 8: 0.014267826772605378\n",
      "\u001b[92mINFO \u001b[0m:      \t\tround 9: 0.014810654656806341\n",
      "\u001b[92mINFO \u001b[0m:      \t\tround 10: 0.015768754522626598\n",
      "\u001b[92mINFO \u001b[0m:      \n"
     ]
    },
    {
     "data": {
      "text/plain": [
       "History (loss, distributed):\n",
       "\tround 1: 0.015028410298128922\n",
       "\tround 2: 0.011054708508153755\n",
       "\tround 3: 0.01093500293729206\n",
       "\tround 4: 0.011316529477325577\n",
       "\tround 5: 0.012107266007922592\n",
       "\tround 6: 0.013001571838899207\n",
       "\tround 7: 0.013694924408104272\n",
       "\tround 8: 0.014267826772605378\n",
       "\tround 9: 0.014810654656806341\n",
       "\tround 10: 0.015768754522626598"
      ]
     },
     "execution_count": 10,
     "metadata": {},
     "output_type": "execute_result"
    }
   ],
   "source": [
    "\n",
    "#fl.common.logger.configure(identifier=\"myflExpMY\", filename=\"FLLOG_my.txt\")\n",
    "history = fl.simulation.start_simulation(client_fn=client_fn,\n",
    "                                         num_clients=10,\n",
    "                                         config=fl.server.ServerConfig(num_rounds=10),\n",
    "                                         strategy=strategy,  # <-- pass the new strategy here\n",
    "                                         client_resources=client_resources,\n",
    "\n",
    ")\n",
    "history\n"
   ]
  },
  {
   "cell_type": "code",
   "execution_count": null,
   "metadata": {},
   "outputs": [],
   "source": []
  },
  {
   "cell_type": "code",
   "execution_count": 10,
   "metadata": {},
   "outputs": [
    {
     "name": "stderr",
     "output_type": "stream",
     "text": [
      "C:\\Users\\Admin\\AppData\\Local\\Temp\\ipykernel_46964\\1782018156.py:43: UserWarning: No artists with labels found to put in legend.  Note that artists whose label start with an underscore are ignored when legend() is called with no argument.\n",
      "  axs[0].legend(loc='upper right', fontsize='x-small', shadow=True,)\n",
      "C:\\Users\\Admin\\AppData\\Local\\Temp\\ipykernel_46964\\1782018156.py:63: UserWarning: No artists with labels found to put in legend.  Note that artists whose label start with an underscore are ignored when legend() is called with no argument.\n",
      "  axs[1].legend(loc='lower right',fontsize='x-small', shadow=True,)\n"
     ]
    },
    {
     "data": {
      "image/png": "[encoded data removed]",
      "text/plain": [
       "<Figure size 1500x500 with 2 Axes>"
      ]
     },
     "metadata": {},
     "output_type": "display_data"
    }
   ],
   "source": [
    "import matplotlib.pyplot as plt\n",
    "\n",
    "\n",
    "def plot_metrics(client_metrics, rounds: int = 10):\n",
    "    # client_metrics = strategy.client_metrics\n",
    "    client_ids = list(client_metrics.keys())\n",
    "    client_ids.sort()\n",
    "\n",
    "    fig, axs = plt.subplots(1, 2, figsize=(15, 5))\n",
    "\n",
    "    round_max_losses: List[Tuple[int, float]] = []\n",
    "    round_max_accuracy: List[Tuple[int, float]] = []\n",
    "    round_min_losses: List[Tuple[int, float]] = []\n",
    "    round_min_accuracy: List[Tuple[int, float]] = []\n",
    "\n",
    "    for round in range(1, rounds+1):\n",
    "        metrics_round = [(metrics.epoch, metrics.loss, metrics.accuracy) for metrics_list in client_metrics.values()\n",
    "                       for metrics in metrics_list if metrics.round == round]\n",
    "        if metrics_round:\n",
    "            min_loss = min(metrics_round, key=lambda x: x[1])\n",
    "            max_loss = max(metrics_round, key=lambda x: x[1])\n",
    "            round_max_losses.append(max_loss)\n",
    "            round_min_losses.append(min_loss)\n",
    "            min_accuracy = min(metrics_round, key=lambda x: x[2])\n",
    "            max_accuracy = max(metrics_round, key=lambda x: x[2])\n",
    "            round_max_accuracy.append(max_accuracy)\n",
    "            round_min_accuracy.append(min_accuracy)\n",
    "\n",
    "    for cid in client_ids:\n",
    "        epochs = [metric.epoch for metric in client_metrics[cid]]\n",
    "        losses = [metric.loss for metric in client_metrics[cid]]\n",
    "        axs[0].plot(epochs, losses,label=f\"Client {cid}: {len(strategy.client_metrics[cid])}\")\n",
    "\n",
    "    max_epochs = [round_max[0] for round_max in round_max_losses]\n",
    "    max_losses = [round_max[1] for round_max in round_max_losses]\n",
    "    min_epochs = [round_min[0] for round_min in round_min_losses]\n",
    "    min_losses = [round_min[1] for round_min in round_min_losses]\n",
    "    axs[0].plot(max_epochs, max_losses, linestyle='dashed')\n",
    "    axs[0].plot(min_epochs, min_losses, linestyle='dashed')\n",
    "    axs[0].set_title(\"Individual Clients Losses\")\n",
    "    axs[0].set_xlabel(\"Epochs\")\n",
    "    axs[0].set_ylabel(\"Loss\")\n",
    "    axs[0].legend(loc='upper right', fontsize='x-small', shadow=True,)\n",
    "    axs[0].grid()\n",
    "    \n",
    "\n",
    "\n",
    "    for cid in client_ids:\n",
    "        epochs = [metric.epoch for metric in client_metrics[cid]]\n",
    "        accuracies = [metric.accuracy for metric in client_metrics[cid]]\n",
    "        axs[1].plot(epochs, accuracies, label=f\"Client {cid}: {len(client_metrics[cid])}\")\n",
    "\n",
    "    max_epochs = [round_max[0] for round_max in round_max_accuracy]\n",
    "    max_accuracies = [round_max[2] for round_max in round_max_accuracy]\n",
    "    min_epochs = [round_min[0] for round_min in round_min_accuracy]\n",
    "    min_accuracies = [round_min[2] for round_min in round_min_accuracy]\n",
    "    axs[1].plot(max_epochs, max_accuracies, linestyle='dashed')\n",
    "    axs[1].plot(min_epochs, min_accuracies, linestyle='dashed')\n",
    "    axs[1].set_title(\"Individual Clients Accuracies\")\n",
    "\n",
    "    axs[1].set_xlabel(\"Epochs\")\n",
    "    axs[1].set_ylabel(\"Accuracy\")\n",
    "    axs[1].legend(loc='lower right',fontsize='x-small', shadow=True,)\n",
    "    axs[1].grid()\n",
    "\n",
    "    plt.show()\n",
    "\n",
    "plot_metrics(strategy.client_metrics)"
   ]
  },
  {
   "cell_type": "code",
   "execution_count": 11,
   "metadata": {},
   "outputs": [],
   "source": [
    "def plot_times(client_training_times):\n",
    "    client_ids = list(client_training_times.keys())\n",
    "    client_ids.sort()\n",
    "    num_rounds = len(client_training_times[client_ids[0]])\n",
    "\n",
    "    x = np.arange(num_rounds)  # Positions of the bars\n",
    "    bar_width = 0.05 # Width of bars\n",
    "    fig, ax = plt.subplots(figsize=(14, 8))\n",
    "\n",
    "    for i, client_id in enumerate(client_ids):\n",
    "        times = client_training_times[client_id]\n",
    "        ax.bar(x + i * bar_width, times, bar_width, label=client_id)\n",
    "\n",
    "    ax.set_xlabel(\"Rounds\")\n",
    "    ax.set_ylabel(\"Time (seconds)\")\n",
    "    ax.set_title(\"Individual Client Training Times\")\n",
    "    ax.set_xticks(x + bar_width * round(len(client_ids) / 2))\n",
    "    ax.set_xticklabels(np.arange(1, num_rounds + 1))\n",
    "    ax.legend(loc='upper right', fontsize='x-small', shadow=True, ncol=len(client_ids))\n",
    "\n",
    "    plt.show()\n",
    "\n",
    "#plot_times(strategy.client_training_times)"
   ]
  },
  {
   "cell_type": "code",
   "execution_count": 12,
   "metadata": {},
   "outputs": [],
   "source": [
    "for a in strategy.client_metrics:\n",
    "    print(f\"Client {a} metrics: {len(strategy.client_metrics[a])}\")"
   ]
  },
  {
   "cell_type": "code",
   "execution_count": 13,
   "metadata": {},
   "outputs": [],
   "source": [
    "class FlowerClient(fl.client.NumPyClient):\n",
    "    def __init__(self, cid, net, trainloader, valloader):\n",
    "        self.cid = cid\n",
    "        self.net = net\n",
    "        self.trainloader = trainloader\n",
    "        self.valloader = valloader\n",
    "\n",
    "    def get_parameters(self, config):\n",
    "        print(f\"[Client {self.cid}] get_parameters\")\n",
    "        return get_parameters(self.net)\n",
    "\n",
    "    def fit(self, parameters, config):\n",
    "        print(f\"[Client {self.cid}] fit, config: {config}\")\n",
    "        set_parameters(self.net, parameters)\n",
    "        start_time = time.time()  # Start time measurement\n",
    "        metrics = train(self.net, self.trainloader, epochs=10)\n",
    "        training_time = time.time() - start_time  # Calculate duration\n",
    "        return get_parameters(self.net), len(self.trainloader), {\"training_time\": training_time, \"metrics\": json.dumps(metrics)}\n",
    "\n",
    "    def evaluate(self, parameters, config):\n",
    "        print(f\"[Client {self.cid}] evaluate, config: {config}\")\n",
    "        set_parameters(self.net, parameters)\n",
    "        loss, accuracy = test(self.net, self.valloader)\n",
    "        print(f\"Client {self.cid} loss {loss}\")\n",
    "        print(f\"Client {self.cid} accuracy {accuracy}\")\n",
    "        return float(loss), len(self.valloader), {\"accuracy\": float(accuracy)}\n",
    "\n",
    "\n",
    "def client_fn(cid) -> FlowerClient:\n",
    "    net = Net().to(DEVICE) #Load Model from here\n",
    "    trainloader = trainloaders[int(cid)]\n",
    "    valloader = valloaders[int(cid)]\n",
    "    return FlowerClient(cid, net, trainloader, valloader).to_client()"
   ]
  },
  {
   "cell_type": "code",
   "execution_count": 14,
   "metadata": {},
   "outputs": [],
   "source": [
    "class FedAvgCustom(fl.server.strategy.FedAvg):\n",
    "    def __init__(\n",
    "        self,\n",
    "        fraction_fit = 1.0,\n",
    "        fraction_evaluate = 1.0,\n",
    "        min_fit_clients = 2,\n",
    "        min_evaluate_clients = 2,\n",
    "        min_available_clients = 2,\n",
    "    ):\n",
    "        super().__init__(fraction_fit = fraction_fit, fraction_evaluate = fraction_evaluate, min_fit_clients = min_fit_clients, min_evaluate_clients = min_evaluate_clients, min_available_clients = min_available_clients)\n",
    "        self.client_training_times: Dict[int, List[float]] = {}\n",
    "        self.client_metrics: Dict[int, List[ClientMetrics]] = {}\n",
    "        self.loss_extreme: Dict[int, Tuple[int, float, float]] = {}\n",
    "        self.accuracy_extreme: Dict[int, Tuple[int, float, float]] = {}\n",
    "\n",
    "    def parse_metrics(self, cid: int, server_round: int, metrics: str):\n",
    "        client_data: List[ClientMetrics] = json.loads(metrics)\n",
    "        data_store: List[ClientMetrics] = self.client_metrics.setdefault(cid, [])\n",
    "        last_epoch: int = len(data_store)\n",
    "        for data in client_data:\n",
    "            data_store.append(ClientMetrics(last_epoch, data[1], data[2], round=server_round, cid=cid))\n",
    "            last_epoch += 1\n",
    "\n",
    "    def aggregate_fit(\n",
    "        self,\n",
    "        server_round: int,\n",
    "        results: List[Tuple[ClientProxy, FitRes]],\n",
    "        failures: List[Union[Tuple[ClientProxy, FitRes], BaseException]],\n",
    "    ) -> Tuple[Optional[Parameters], Dict[str, Scalar]]:\n",
    "        \"\"\"Aggregate fit results using weighted average.\"\"\"\n",
    "        for client, fit_res in results:\n",
    "            self.client_training_times.setdefault(client.cid, []).append(fit_res.metrics.get(\"training_time\", 0))\n",
    "            self.parse_metrics(client.cid, server_round, fit_res.metrics.get(\"metrics\", None))\n",
    "        weights_results = [\n",
    "            (parameters_to_ndarrays(fit_res.parameters), fit_res.num_examples)\n",
    "            for _, fit_res in results\n",
    "        ]\n",
    "        parameters_aggregated = ndarrays_to_parameters(aggregate(weights_results))\n",
    "        metrics_aggregated = {}\n",
    "        return parameters_aggregated, metrics_aggregated\n",
    "\n"
   ]
  },
  {
   "cell_type": "code",
   "execution_count": 16,
   "metadata": {},
   "outputs": [
    {
     "name": "stderr",
     "output_type": "stream",
     "text": [
      "\u001b[92mINFO \u001b[0m:      Starting Flower simulation, config: num_rounds=10, no round_timeout\n",
      "2024-07-29 17:10:41,544\tINFO worker.py:1771 -- Started a local Ray instance.\n",
      "\u001b[92mINFO \u001b[0m:      Flower VCE: Ray initialized with resources: {'node:__internal_head__': 1.0, 'CPU': 32.0, 'memory': 73429258036.0, 'node:127.0.0.1': 1.0, 'object_store_memory': 35755396300.0, 'GPU': 1.0, 'accelerator_type:RTX': 1.0}\n",
      "\u001b[92mINFO \u001b[0m:      Optimize your simulation with Flower VCE: https://flower.ai/docs/framework/how-to-run-simulations.html\n",
      "\u001b[92mINFO \u001b[0m:      Flower VCE: Resources for each Virtual Client: {'num_gpus': 0.125, 'num_cpus': 1}\n",
      "\u001b[92mINFO \u001b[0m:      Flower VCE: Creating VirtualClientEngineActorPool with 8 actors\n",
      "\u001b[92mINFO \u001b[0m:      [INIT]\n",
      "\u001b[92mINFO \u001b[0m:      Requesting initial parameters from one random client\n",
      "\u001b[92mINFO \u001b[0m:      Received initial parameters from one random client\n",
      "\u001b[92mINFO \u001b[0m:      Evaluating initial global parameters\n",
      "\u001b[92mINFO \u001b[0m:      \n",
      "\u001b[92mINFO \u001b[0m:      [ROUND 1]\n",
      "\u001b[92mINFO \u001b[0m:      configure_fit: strategy sampled 10 clients (out of 10)\n"
     ]
    },
    {
     "name": "stdout",
     "output_type": "stream",
     "text": [
      "\u001b[36m(ClientAppActor pid=5400)\u001b[0m [Client 2] get_parameters\n",
      "\u001b[36m(ClientAppActor pid=5400)\u001b[0m [Client 0] fit, config: {}\n",
      "\u001b[36m(ClientAppActor pid=5400)\u001b[0m Epoch 0: train loss 0.036681, accuracy 0.576481\n",
      "\u001b[36m(ClientAppActor pid=34872)\u001b[0m [Client 1] fit, config: {}\u001b[32m [repeated 3x across cluster]\u001b[0m\n",
      "\u001b[36m(ClientAppActor pid=5400)\u001b[0m Epoch 1: train loss 0.021167, accuracy 0.731852\n",
      "\u001b[36m(ClientAppActor pid=34872)\u001b[0m Epoch 0: train loss 0.036066, accuracy 0.583333\u001b[32m [repeated 4x across cluster]\u001b[0m\n",
      "\u001b[36m(ClientAppActor pid=41260)\u001b[0m [Client 7] fit, config: {}\u001b[32m [repeated 4x across cluster]\u001b[0m\n",
      "\u001b[36m(ClientAppActor pid=34872)\u001b[0m Epoch 2: train loss 0.018076, accuracy 0.776296\u001b[32m [repeated 15x across cluster]\u001b[0m\n",
      "\u001b[36m(ClientAppActor pid=20276)\u001b[0m Epoch 4: train loss 0.015135, accuracy 0.814444\u001b[32m [repeated 16x across cluster]\u001b[0m\n",
      "\u001b[36m(ClientAppActor pid=41260)\u001b[0m Epoch 6: train loss 0.013672, accuracy 0.833519\u001b[32m [repeated 17x across cluster]\u001b[0m\n",
      "\u001b[36m(ClientAppActor pid=5400)\u001b[0m [Client 4] fit, config: {}\n",
      "\u001b[36m(ClientAppActor pid=41260)\u001b[0m Epoch 8: train loss 0.012339, accuracy 0.848704\u001b[32m [repeated 15x across cluster]\u001b[0m\n",
      "\u001b[36m(ClientAppActor pid=34872)\u001b[0m [Client 5] fit, config: {}\n",
      "\u001b[36m(ClientAppActor pid=5400)\u001b[0m Epoch 2: train loss 0.018210, accuracy 0.775370\u001b[32m [repeated 15x across cluster]\u001b[0m\n",
      "\u001b[36m(ClientAppActor pid=34872)\u001b[0m Epoch 2: train loss 0.018289, accuracy 0.773148\u001b[32m [repeated 3x across cluster]\u001b[0m\n",
      "\u001b[36m(ClientAppActor pid=34872)\u001b[0m Epoch 4: train loss 0.015684, accuracy 0.805000\u001b[32m [repeated 4x across cluster]\u001b[0m\n",
      "\u001b[36m(ClientAppActor pid=34872)\u001b[0m Epoch 6: train loss 0.013760, accuracy 0.834074\u001b[32m [repeated 4x across cluster]\u001b[0m\n",
      "\u001b[36m(ClientAppActor pid=34872)\u001b[0m Epoch 8: train loss 0.011738, accuracy 0.859815\u001b[32m [repeated 4x across cluster]\u001b[0m\n"
     ]
    },
    {
     "name": "stderr",
     "output_type": "stream",
     "text": [
      "\u001b[92mINFO \u001b[0m:      aggregate_fit: received 10 results and 0 failures\n",
      "\u001b[92mINFO \u001b[0m:      configure_evaluate: strategy sampled 10 clients (out of 10)\n"
     ]
    },
    {
     "name": "stdout",
     "output_type": "stream",
     "text": [
      "\u001b[36m(ClientAppActor pid=34872)\u001b[0m [Client 7] evaluate, config: {}\n",
      "\u001b[36m(ClientAppActor pid=34872)\u001b[0m Client 7 loss 0.015852100501457852\n",
      "\u001b[36m(ClientAppActor pid=34872)\u001b[0m Client 7 accuracy 0.8083333333333333\n"
     ]
    },
    {
     "name": "stderr",
     "output_type": "stream",
     "text": [
      "\u001b[92mINFO \u001b[0m:      aggregate_evaluate: received 10 results and 0 failures\n",
      "\u001b[93mWARNING \u001b[0m:   No evaluate_metrics_aggregation_fn provided\n",
      "\u001b[92mINFO \u001b[0m:      \n",
      "\u001b[92mINFO \u001b[0m:      [ROUND 2]\n",
      "\u001b[92mINFO \u001b[0m:      configure_fit: strategy sampled 10 clients (out of 10)\n"
     ]
    },
    {
     "name": "stdout",
     "output_type": "stream",
     "text": [
      "\u001b[36m(ClientAppActor pid=5400)\u001b[0m [Client 7] fit, config: {}\n",
      "\u001b[36m(ClientAppActor pid=34872)\u001b[0m Epoch 9: train loss 0.010901, accuracy 0.868889\n",
      "\u001b[36m(ClientAppActor pid=34872)\u001b[0m Epoch 0: train loss 0.013753, accuracy 0.842407\n",
      "\u001b[36m(ClientAppActor pid=5400)\u001b[0m [Client 9] evaluate, config: {}\u001b[32m [repeated 9x across cluster]\u001b[0m\n",
      "\u001b[36m(ClientAppActor pid=5400)\u001b[0m Client 9 loss 0.0185778746008873\u001b[32m [repeated 9x across cluster]\u001b[0m\n",
      "\u001b[36m(ClientAppActor pid=5400)\u001b[0m Client 9 accuracy 0.7683333333333333\u001b[32m [repeated 9x across cluster]\u001b[0m\n",
      "\u001b[36m(ClientAppActor pid=42392)\u001b[0m [Client 2] fit, config: {}\u001b[32m [repeated 7x across cluster]\u001b[0m\n",
      "\u001b[36m(ClientAppActor pid=34872)\u001b[0m Epoch 2: train loss 0.011334, accuracy 0.867222\u001b[32m [repeated 16x across cluster]\u001b[0m\n",
      "\u001b[36m(ClientAppActor pid=34872)\u001b[0m Epoch 4: train loss 0.009928, accuracy 0.881852\u001b[32m [repeated 16x across cluster]\u001b[0m\n",
      "\u001b[36m(ClientAppActor pid=13092)\u001b[0m Epoch 6: train loss 0.008341, accuracy 0.897037\u001b[32m [repeated 16x across cluster]\u001b[0m\n",
      "\u001b[36m(ClientAppActor pid=31596)\u001b[0m Epoch 8: train loss 0.007904, accuracy 0.902593\u001b[32m [repeated 16x across cluster]\u001b[0m\n",
      "\u001b[36m(ClientAppActor pid=31596)\u001b[0m [Client 6] fit, config: {}\n",
      "\u001b[36m(ClientAppActor pid=31596)\u001b[0m Epoch 0: train loss 0.014414, accuracy 0.837222\u001b[32m [repeated 16x across cluster]\u001b[0m\n",
      "\u001b[36m(ClientAppActor pid=42392)\u001b[0m [Client 5] fit, config: {}\n",
      "\u001b[36m(ClientAppActor pid=31596)\u001b[0m Epoch 2: train loss 0.011409, accuracy 0.872593\u001b[32m [repeated 4x across cluster]\u001b[0m\n",
      "\u001b[36m(ClientAppActor pid=31596)\u001b[0m Epoch 4: train loss 0.010043, accuracy 0.882407\u001b[32m [repeated 4x across cluster]\u001b[0m\n",
      "\u001b[36m(ClientAppActor pid=31596)\u001b[0m Epoch 6: train loss 0.008614, accuracy 0.902407\u001b[32m [repeated 4x across cluster]\u001b[0m\n",
      "\u001b[36m(ClientAppActor pid=31596)\u001b[0m Epoch 8: train loss 0.007502, accuracy 0.913889\u001b[32m [repeated 4x across cluster]\u001b[0m\n"
     ]
    },
    {
     "name": "stderr",
     "output_type": "stream",
     "text": [
      "\u001b[92mINFO \u001b[0m:      aggregate_fit: received 10 results and 0 failures\n",
      "\u001b[92mINFO \u001b[0m:      configure_evaluate: strategy sampled 10 clients (out of 10)\n"
     ]
    },
    {
     "name": "stdout",
     "output_type": "stream",
     "text": [
      "\u001b[36m(ClientAppActor pid=42392)\u001b[0m [Client 8] evaluate, config: {}\n",
      "\u001b[36m(ClientAppActor pid=42392)\u001b[0m Client 8 loss 0.010265426846841971\n",
      "\u001b[36m(ClientAppActor pid=42392)\u001b[0m Client 8 accuracy 0.8983333333333333\n"
     ]
    },
    {
     "name": "stderr",
     "output_type": "stream",
     "text": [
      "\u001b[92mINFO \u001b[0m:      aggregate_evaluate: received 10 results and 0 failures\n",
      "\u001b[92mINFO \u001b[0m:      \n",
      "\u001b[92mINFO \u001b[0m:      [ROUND 3]\n",
      "\u001b[92mINFO \u001b[0m:      configure_fit: strategy sampled 10 clients (out of 10)\n"
     ]
    },
    {
     "name": "stdout",
     "output_type": "stream",
     "text": [
      "\u001b[36m(ClientAppActor pid=31596)\u001b[0m [Client 6] fit, config: {}\n",
      "\u001b[36m(ClientAppActor pid=42392)\u001b[0m Epoch 9: train loss 0.007659, accuracy 0.911852\u001b[32m [repeated 3x across cluster]\u001b[0m\n",
      "\u001b[36m(ClientAppActor pid=31596)\u001b[0m [Client 0] evaluate, config: {}\u001b[32m [repeated 9x across cluster]\u001b[0m\n",
      "\u001b[36m(ClientAppActor pid=31596)\u001b[0m Client 0 loss 0.012795847405989965\u001b[32m [repeated 9x across cluster]\u001b[0m\n",
      "\u001b[36m(ClientAppActor pid=31596)\u001b[0m Client 0 accuracy 0.8533333333333334\u001b[32m [repeated 9x across cluster]\u001b[0m\n",
      "\u001b[36m(ClientAppActor pid=20276)\u001b[0m [Client 2] fit, config: {}\u001b[32m [repeated 7x across cluster]\u001b[0m\n",
      "\u001b[36m(ClientAppActor pid=13092)\u001b[0m Epoch 1: train loss 0.009546, accuracy 0.885741\u001b[32m [repeated 13x across cluster]\u001b[0m\n",
      "\u001b[36m(ClientAppActor pid=20276)\u001b[0m Epoch 3: train loss 0.008052, accuracy 0.901111\u001b[32m [repeated 16x across cluster]\u001b[0m\n",
      "\u001b[36m(ClientAppActor pid=20276)\u001b[0m Epoch 5: train loss 0.006740, accuracy 0.917037\u001b[32m [repeated 16x across cluster]\u001b[0m\n",
      "\u001b[36m(ClientAppActor pid=20276)\u001b[0m \n",
      "\u001b[36m(ClientAppActor pid=20276)\u001b[0m Epoch 7: train loss 0.005669, accuracy 0.928889\u001b[32m [repeated 17x across cluster]\u001b[0m\n",
      "\u001b[36m(ClientAppActor pid=21216)\u001b[0m [Client 0] fit, config: {}\n",
      "\u001b[36m(ClientAppActor pid=34872)\u001b[0m Epoch 9: train loss 0.004366, accuracy 0.949815\u001b[32m [repeated 15x across cluster]\u001b[0m\n",
      "\u001b[36m(ClientAppActor pid=31596)\u001b[0m [Client 4] fit, config: {}\n",
      "\u001b[36m(ClientAppActor pid=31596)\u001b[0m Epoch 1: train loss 0.009535, accuracy 0.890000\u001b[32m [repeated 6x across cluster]\u001b[0m\n",
      "\u001b[36m(ClientAppActor pid=21216)\u001b[0m Epoch 3: train loss 0.008461, accuracy 0.898148\u001b[32m [repeated 4x across cluster]\u001b[0m\n",
      "\u001b[36m(ClientAppActor pid=21216)\u001b[0m Epoch 5: train loss 0.007310, accuracy 0.911667\u001b[32m [repeated 4x across cluster]\u001b[0m\n",
      "\u001b[36m(ClientAppActor pid=31596)\u001b[0m Epoch 7: train loss 0.005489, accuracy 0.933148\u001b[32m [repeated 4x across cluster]\u001b[0m\n",
      "\u001b[36m(ClientAppActor pid=31596)\u001b[0m Epoch 9: train loss 0.004809, accuracy 0.943704\u001b[32m [repeated 4x across cluster]\u001b[0m\n"
     ]
    },
    {
     "name": "stderr",
     "output_type": "stream",
     "text": [
      "\u001b[92mINFO \u001b[0m:      aggregate_fit: received 10 results and 0 failures\n",
      "\u001b[92mINFO \u001b[0m:      configure_evaluate: strategy sampled 10 clients (out of 10)\n"
     ]
    },
    {
     "name": "stdout",
     "output_type": "stream",
     "text": [
      "\u001b[36m(ClientAppActor pid=21216)\u001b[0m [Client 5] evaluate, config: {}\n",
      "\u001b[36m(ClientAppActor pid=21216)\u001b[0m Client 5 loss 0.014350224435329437\n",
      "\u001b[36m(ClientAppActor pid=21216)\u001b[0m Client 5 accuracy 0.85\n"
     ]
    },
    {
     "name": "stderr",
     "output_type": "stream",
     "text": [
      "\u001b[92mINFO \u001b[0m:      aggregate_evaluate: received 10 results and 0 failures\n",
      "\u001b[92mINFO \u001b[0m:      \n",
      "\u001b[92mINFO \u001b[0m:      [ROUND 4]\n",
      "\u001b[92mINFO \u001b[0m:      configure_fit: strategy sampled 10 clients (out of 10)\n"
     ]
    },
    {
     "name": "stdout",
     "output_type": "stream",
     "text": [
      "\u001b[36m(ClientAppActor pid=41260)\u001b[0m [Client 3] fit, config: {}\n",
      "\u001b[36m(ClientAppActor pid=31596)\u001b[0m Epoch 0: train loss 0.010121, accuracy 0.887037\u001b[32m [repeated 9x across cluster]\u001b[0m\n",
      "\u001b[36m(ClientAppActor pid=41260)\u001b[0m [Client 4] evaluate, config: {}\u001b[32m [repeated 9x across cluster]\u001b[0m\n",
      "\u001b[36m(ClientAppActor pid=41260)\u001b[0m Client 4 loss 0.01117881233493487\u001b[32m [repeated 9x across cluster]\u001b[0m\n",
      "\u001b[36m(ClientAppActor pid=41260)\u001b[0m Client 4 accuracy 0.8766666666666667\u001b[32m [repeated 9x across cluster]\u001b[0m\n",
      "\u001b[36m(ClientAppActor pid=31596)\u001b[0m [Client 5] fit, config: {}\u001b[32m [repeated 7x across cluster]\u001b[0m\n",
      "\u001b[36m(ClientAppActor pid=21216)\u001b[0m Epoch 3: train loss 0.006134, accuracy 0.926852\u001b[32m [repeated 17x across cluster]\u001b[0m\n",
      "\u001b[36m(ClientAppActor pid=21216)\u001b[0m Epoch 5: train loss 0.005094, accuracy 0.938148\u001b[32m [repeated 16x across cluster]\u001b[0m\n",
      "\u001b[36m(ClientAppActor pid=41260)\u001b[0m Epoch 7: train loss 0.004092, accuracy 0.948519\u001b[32m [repeated 17x across cluster]\u001b[0m\n",
      "\u001b[36m(ClientAppActor pid=21216)\u001b[0m [Client 9] fit, config: {}\n",
      "\u001b[36m(ClientAppActor pid=41260)\u001b[0m Epoch 9: train loss 0.003132, accuracy 0.963148\u001b[32m [repeated 16x across cluster]\u001b[0m\n",
      "\u001b[36m(ClientAppActor pid=41260)\u001b[0m [Client 4] fit, config: {}\n",
      "\u001b[36m(ClientAppActor pid=41260)\u001b[0m Epoch 1: train loss 0.007843, accuracy 0.906481\u001b[32m [repeated 10x across cluster]\u001b[0m\n",
      "\u001b[36m(ClientAppActor pid=21216)\u001b[0m Epoch 3: train loss 0.006738, accuracy 0.915926\u001b[32m [repeated 3x across cluster]\u001b[0m\n",
      "\u001b[36m(ClientAppActor pid=21216)\u001b[0m Epoch 5: train loss 0.005393, accuracy 0.935370\u001b[32m [repeated 4x across cluster]\u001b[0m\n",
      "\u001b[36m(ClientAppActor pid=21216)\u001b[0m Epoch 7: train loss 0.004683, accuracy 0.940556\u001b[32m [repeated 4x across cluster]\u001b[0m\n",
      "\u001b[36m(ClientAppActor pid=21216)\u001b[0m Epoch 9: train loss 0.003497, accuracy 0.959630\u001b[32m [repeated 4x across cluster]\u001b[0m\n"
     ]
    },
    {
     "name": "stderr",
     "output_type": "stream",
     "text": [
      "\u001b[92mINFO \u001b[0m:      aggregate_fit: received 10 results and 0 failures\n",
      "\u001b[92mINFO \u001b[0m:      configure_evaluate: strategy sampled 10 clients (out of 10)\n"
     ]
    },
    {
     "name": "stdout",
     "output_type": "stream",
     "text": [
      "\u001b[36m(ClientAppActor pid=41260)\u001b[0m [Client 3] evaluate, config: {}\n",
      "\u001b[36m(ClientAppActor pid=41260)\u001b[0m Client 3 loss 0.009410808968047302\n",
      "\u001b[36m(ClientAppActor pid=41260)\u001b[0m Client 3 accuracy 0.915\n"
     ]
    },
    {
     "name": "stderr",
     "output_type": "stream",
     "text": [
      "\u001b[92mINFO \u001b[0m:      aggregate_evaluate: received 10 results and 0 failures\n",
      "\u001b[92mINFO \u001b[0m:      \n",
      "\u001b[92mINFO \u001b[0m:      [ROUND 5]\n",
      "\u001b[92mINFO \u001b[0m:      configure_fit: strategy sampled 10 clients (out of 10)\n"
     ]
    },
    {
     "name": "stdout",
     "output_type": "stream",
     "text": [
      "\u001b[36m(ClientAppActor pid=20276)\u001b[0m [Client 1] fit, config: {}\n",
      "\u001b[36m(ClientAppActor pid=20276)\u001b[0m Epoch 0: train loss 0.008885, accuracy 0.898889\u001b[32m [repeated 2x across cluster]\u001b[0m\n",
      "\u001b[36m(ClientAppActor pid=20276)\u001b[0m [Client 1] evaluate, config: {}\u001b[32m [repeated 9x across cluster]\u001b[0m\n",
      "\u001b[36m(ClientAppActor pid=20276)\u001b[0m Client 1 loss 0.010345530820389588\u001b[32m [repeated 9x across cluster]\u001b[0m\n",
      "\u001b[36m(ClientAppActor pid=20276)\u001b[0m Client 1 accuracy 0.8966666666666666\u001b[32m [repeated 9x across cluster]\u001b[0m\n",
      "\u001b[36m(ClientAppActor pid=31596)\u001b[0m [Client 2] fit, config: {}\u001b[32m [repeated 7x across cluster]\u001b[0m\n",
      "\u001b[36m(ClientAppActor pid=42392)\u001b[0m Epoch 2: train loss 0.005890, accuracy 0.932222\u001b[32m [repeated 16x across cluster]\u001b[0m\n",
      "\u001b[36m(ClientAppActor pid=20276)\u001b[0m Epoch 4: train loss 0.004054, accuracy 0.949815\u001b[32m [repeated 17x across cluster]\u001b[0m\n",
      "\u001b[36m(ClientAppActor pid=21216)\u001b[0m Epoch 6: train loss 0.003653, accuracy 0.955185\u001b[32m [repeated 17x across cluster]\u001b[0m\n",
      "\u001b[36m(ClientAppActor pid=13092)\u001b[0m Epoch 8: train loss 0.002487, accuracy 0.972407\u001b[32m [repeated 17x across cluster]\u001b[0m\n",
      "\u001b[36m(ClientAppActor pid=5400)\u001b[0m [Client 7] fit, config: {}\n",
      "\u001b[36m(ClientAppActor pid=5400)\u001b[0m Epoch 0: train loss 0.009525, accuracy 0.889259\u001b[32m [repeated 13x across cluster]\u001b[0m\n",
      "\u001b[36m(ClientAppActor pid=21216)\u001b[0m [Client 0] fit, config: {}\n",
      "\u001b[36m(ClientAppActor pid=21216)\u001b[0m Epoch 2: train loss 0.006504, accuracy 0.922407\u001b[32m [repeated 4x across cluster]\u001b[0m\n",
      "\u001b[36m(ClientAppActor pid=21216)\u001b[0m Epoch 4: train loss 0.004624, accuracy 0.945926\u001b[32m [repeated 4x across cluster]\u001b[0m\n",
      "\u001b[36m(ClientAppActor pid=5400)\u001b[0m Epoch 6: train loss 0.003604, accuracy 0.957778\u001b[32m [repeated 4x across cluster]\u001b[0m\n",
      "\u001b[36m(ClientAppActor pid=5400)\u001b[0m Epoch 8: train loss 0.003050, accuracy 0.963519\u001b[32m [repeated 4x across cluster]\u001b[0m\n"
     ]
    },
    {
     "name": "stderr",
     "output_type": "stream",
     "text": [
      "\u001b[92mINFO \u001b[0m:      aggregate_fit: received 10 results and 0 failures\n",
      "\u001b[92mINFO \u001b[0m:      configure_evaluate: strategy sampled 10 clients (out of 10)\n"
     ]
    },
    {
     "name": "stdout",
     "output_type": "stream",
     "text": [
      "\u001b[36m(ClientAppActor pid=21216)\u001b[0m [Client 1] evaluate, config: {}\n",
      "\u001b[36m(ClientAppActor pid=21216)\u001b[0m Client 1 loss 0.010921851309637229\n",
      "\u001b[36m(ClientAppActor pid=21216)\u001b[0m Client 1 accuracy 0.9033333333333333\n"
     ]
    },
    {
     "name": "stderr",
     "output_type": "stream",
     "text": [
      "\u001b[92mINFO \u001b[0m:      aggregate_evaluate: received 10 results and 0 failures\n",
      "\u001b[92mINFO \u001b[0m:      \n",
      "\u001b[92mINFO \u001b[0m:      [ROUND 6]\n",
      "\u001b[92mINFO \u001b[0m:      configure_fit: strategy sampled 10 clients (out of 10)\n"
     ]
    },
    {
     "name": "stdout",
     "output_type": "stream",
     "text": [
      "\u001b[36m(ClientAppActor pid=5400)\u001b[0m [Client 2] fit, config: {}\n",
      "\u001b[36m(ClientAppActor pid=21216)\u001b[0m Epoch 9: train loss 0.002765, accuracy 0.969259\u001b[32m [repeated 3x across cluster]\u001b[0m\n",
      "\u001b[36m(ClientAppActor pid=5400)\u001b[0m [Client 0] evaluate, config: {}\u001b[32m [repeated 9x across cluster]\u001b[0m\n",
      "\u001b[36m(ClientAppActor pid=5400)\u001b[0m Client 0 loss 0.015078971510132154\u001b[32m [repeated 9x across cluster]\u001b[0m\n",
      "\u001b[36m(ClientAppActor pid=5400)\u001b[0m Client 0 accuracy 0.8683333333333333\u001b[32m [repeated 9x across cluster]\u001b[0m\n",
      "\u001b[36m(ClientAppActor pid=31596)\u001b[0m [Client 0] fit, config: {}\u001b[32m [repeated 7x across cluster]\u001b[0m\n",
      "\u001b[36m(ClientAppActor pid=41260)\u001b[0m Epoch 1: train loss 0.006065, accuracy 0.932037\u001b[32m [repeated 12x across cluster]\u001b[0m\n",
      "\u001b[36m(ClientAppActor pid=41260)\u001b[0m Epoch 3: train loss 0.004241, accuracy 0.948704\u001b[32m [repeated 17x across cluster]\u001b[0m\n",
      "\u001b[36m(ClientAppActor pid=41260)\u001b[0m Epoch 5: train loss 0.003005, accuracy 0.962593\u001b[32m [repeated 16x across cluster]\u001b[0m\n",
      "\u001b[36m(ClientAppActor pid=20276)\u001b[0m Epoch 7: train loss 0.002824, accuracy 0.967593\u001b[32m [repeated 17x across cluster]\u001b[0m\n",
      "\u001b[36m(ClientAppActor pid=21216)\u001b[0m [Client 5] fit, config: {}\n",
      "\u001b[36m(ClientAppActor pid=20276)\u001b[0m Epoch 9: train loss 0.001574, accuracy 0.982593\u001b[32m [repeated 16x across cluster]\u001b[0m\n",
      "\u001b[36m(ClientAppActor pid=5400)\u001b[0m [Client 8] fit, config: {}\n",
      "\u001b[36m(ClientAppActor pid=21216)\u001b[0m Epoch 1: train loss 0.006066, accuracy 0.924074\u001b[32m [repeated 5x across cluster]\u001b[0m\n",
      "\u001b[36m(ClientAppActor pid=21216)\u001b[0m Epoch 3: train loss 0.003757, accuracy 0.955185\u001b[32m [repeated 4x across cluster]\u001b[0m\n",
      "\u001b[36m(ClientAppActor pid=21216)\u001b[0m Epoch 5: train loss 0.002743, accuracy 0.968148\u001b[32m [repeated 4x across cluster]\u001b[0m\n",
      "\u001b[36m(ClientAppActor pid=21216)\u001b[0m Epoch 7: train loss 0.001863, accuracy 0.978704\u001b[32m [repeated 4x across cluster]\u001b[0m\n"
     ]
    },
    {
     "name": "stderr",
     "output_type": "stream",
     "text": [
      "\u001b[92mINFO \u001b[0m:      aggregate_fit: received 10 results and 0 failures\n",
      "\u001b[92mINFO \u001b[0m:      configure_evaluate: strategy sampled 10 clients (out of 10)\n"
     ]
    },
    {
     "name": "stdout",
     "output_type": "stream",
     "text": [
      "\u001b[36m(ClientAppActor pid=21216)\u001b[0m Epoch 9: train loss 0.002331, accuracy 0.973889\u001b[32m [repeated 4x across cluster]\u001b[0m\n",
      "\u001b[36m(ClientAppActor pid=21216)\u001b[0m [Client 4] evaluate, config: {}\n",
      "\u001b[36m(ClientAppActor pid=21216)\u001b[0m Client 4 loss 0.014012247286736966\n",
      "\u001b[36m(ClientAppActor pid=21216)\u001b[0m Client 4 accuracy 0.8783333333333333\n"
     ]
    },
    {
     "name": "stderr",
     "output_type": "stream",
     "text": [
      "\u001b[92mINFO \u001b[0m:      aggregate_evaluate: received 10 results and 0 failures\n",
      "\u001b[92mINFO \u001b[0m:      \n",
      "\u001b[92mINFO \u001b[0m:      [ROUND 7]\n",
      "\u001b[92mINFO \u001b[0m:      configure_fit: strategy sampled 10 clients (out of 10)\n"
     ]
    },
    {
     "name": "stdout",
     "output_type": "stream",
     "text": [
      "\u001b[36m(ClientAppActor pid=34872)\u001b[0m [Client 4] fit, config: {}\n",
      "\u001b[36m(ClientAppActor pid=34872)\u001b[0m Epoch 1: train loss 0.005194, accuracy 0.936852\u001b[32m [repeated 10x across cluster]\u001b[0m\n",
      "\u001b[36m(ClientAppActor pid=34872)\u001b[0m [Client 6] evaluate, config: {}\u001b[32m [repeated 9x across cluster]\u001b[0m\n",
      "\u001b[36m(ClientAppActor pid=34872)\u001b[0m Client 6 loss 0.012217114977538586\u001b[32m [repeated 9x across cluster]\u001b[0m\n",
      "\u001b[36m(ClientAppActor pid=34872)\u001b[0m Client 6 accuracy 0.8866666666666667\u001b[32m [repeated 9x across cluster]\u001b[0m\n",
      "\u001b[36m(ClientAppActor pid=31596)\u001b[0m [Client 7] fit, config: {}\u001b[32m [repeated 7x across cluster]\u001b[0m\n",
      "\u001b[36m(ClientAppActor pid=34872)\u001b[0m Epoch 3: train loss 0.003486, accuracy 0.960926\u001b[32m [repeated 16x across cluster]\u001b[0m\n",
      "\u001b[36m(ClientAppActor pid=41260)\u001b[0m Epoch 5: train loss 0.002304, accuracy 0.974444\u001b[32m [repeated 17x across cluster]\u001b[0m\n",
      "\u001b[36m(ClientAppActor pid=41260)\u001b[0m Epoch 7: train loss 0.001804, accuracy 0.979630\u001b[32m [repeated 17x across cluster]\u001b[0m\n",
      "\u001b[36m(ClientAppActor pid=34872)\u001b[0m [Client 5] fit, config: {}\n",
      "\u001b[36m(ClientAppActor pid=41260)\u001b[0m Epoch 9: train loss 0.001924, accuracy 0.974630\u001b[32m [repeated 16x across cluster]\u001b[0m\n",
      "\u001b[36m(ClientAppActor pid=21216)\u001b[0m [Client 9] fit, config: {}\n",
      "\u001b[36m(ClientAppActor pid=34872)\u001b[0m Epoch 1: train loss 0.005284, accuracy 0.935556\u001b[32m [repeated 8x across cluster]\u001b[0m\n",
      "\u001b[36m(ClientAppActor pid=34872)\u001b[0m Epoch 3: train loss 0.003050, accuracy 0.964815\u001b[32m [repeated 4x across cluster]\u001b[0m\n",
      "\u001b[36m(ClientAppActor pid=34872)\u001b[0m Epoch 5: train loss 0.002186, accuracy 0.975741\u001b[32m [repeated 4x across cluster]\u001b[0m\n",
      "\u001b[36m(ClientAppActor pid=34872)\u001b[0m Epoch 7: train loss 0.001529, accuracy 0.983704\u001b[32m [repeated 4x across cluster]\u001b[0m\n",
      "\u001b[36m(ClientAppActor pid=34872)\u001b[0m Epoch 9: train loss 0.001369, accuracy 0.985370\u001b[32m [repeated 4x across cluster]\u001b[0m\n"
     ]
    },
    {
     "name": "stderr",
     "output_type": "stream",
     "text": [
      "\u001b[92mINFO \u001b[0m:      aggregate_fit: received 10 results and 0 failures\n",
      "\u001b[92mINFO \u001b[0m:      configure_evaluate: strategy sampled 10 clients (out of 10)\n"
     ]
    },
    {
     "name": "stdout",
     "output_type": "stream",
     "text": [
      "\u001b[36m(ClientAppActor pid=21216)\u001b[0m [Client 5] evaluate, config: {}\n",
      "\u001b[36m(ClientAppActor pid=21216)\u001b[0m Client 5 loss 0.018876909092068673\n",
      "\u001b[36m(ClientAppActor pid=21216)\u001b[0m Client 5 accuracy 0.8683333333333333\n"
     ]
    },
    {
     "name": "stderr",
     "output_type": "stream",
     "text": [
      "\u001b[92mINFO \u001b[0m:      aggregate_evaluate: received 10 results and 0 failures\n",
      "\u001b[92mINFO \u001b[0m:      \n",
      "\u001b[92mINFO \u001b[0m:      [ROUND 8]\n",
      "\u001b[92mINFO \u001b[0m:      configure_fit: strategy sampled 10 clients (out of 10)\n"
     ]
    },
    {
     "name": "stdout",
     "output_type": "stream",
     "text": [
      "\u001b[36m(ClientAppActor pid=34872)\u001b[0m [Client 0] fit, config: {}\n",
      "\u001b[36m(ClientAppActor pid=13092)\u001b[0m Epoch 0: train loss 0.008272, accuracy 0.910000\u001b[32m [repeated 8x across cluster]\u001b[0m\n",
      "\u001b[36m(ClientAppActor pid=34872)\u001b[0m [Client 7] evaluate, config: {}\u001b[32m [repeated 9x across cluster]\u001b[0m\n",
      "\u001b[36m(ClientAppActor pid=34872)\u001b[0m Client 7 loss 0.01337586559355259\u001b[32m [repeated 9x across cluster]\u001b[0m\n",
      "\u001b[36m(ClientAppActor pid=34872)\u001b[0m Client 7 accuracy 0.89\u001b[32m [repeated 9x across cluster]\u001b[0m\n",
      "\u001b[36m(ClientAppActor pid=13092)\u001b[0m [Client 8] fit, config: {}\u001b[32m [repeated 7x across cluster]\u001b[0m\n",
      "\u001b[36m(ClientAppActor pid=42392)\u001b[0m Epoch 2: train loss 0.003491, accuracy 0.959630\u001b[32m [repeated 16x across cluster]\u001b[0m\n",
      "\u001b[36m(ClientAppActor pid=42392)\u001b[0m Epoch 4: train loss 0.002526, accuracy 0.973333\u001b[32m [repeated 16x across cluster]\u001b[0m\n",
      "\u001b[36m(ClientAppActor pid=20276)\u001b[0m Epoch 6: train loss 0.001702, accuracy 0.981481\u001b[32m [repeated 16x across cluster]\u001b[0m\n",
      "\u001b[36m(ClientAppActor pid=20276)\u001b[0m Epoch 8: train loss 0.001239, accuracy 0.985370\u001b[32m [repeated 16x across cluster]\u001b[0m\n",
      "\u001b[36m(ClientAppActor pid=34872)\u001b[0m [Client 3] fit, config: {}\n",
      "\u001b[36m(ClientAppActor pid=34872)\u001b[0m Epoch 1: train loss 0.005196, accuracy 0.940000\u001b[32m [repeated 12x across cluster]\u001b[0m\n",
      "\u001b[36m(ClientAppActor pid=21216)\u001b[0m [Client 7] fit, config: {}\n",
      "\u001b[36m(ClientAppActor pid=34872)\u001b[0m Epoch 3: train loss 0.002782, accuracy 0.967593\u001b[32m [repeated 4x across cluster]\u001b[0m\n",
      "\u001b[36m(ClientAppActor pid=34872)\u001b[0m Epoch 5: train loss 0.001912, accuracy 0.977407\u001b[32m [repeated 4x across cluster]\u001b[0m\n",
      "\u001b[36m(ClientAppActor pid=34872)\u001b[0m Epoch 7: train loss 0.001299, accuracy 0.986852\u001b[32m [repeated 4x across cluster]\u001b[0m\n"
     ]
    },
    {
     "name": "stderr",
     "output_type": "stream",
     "text": [
      "\u001b[92mINFO \u001b[0m:      aggregate_fit: received 10 results and 0 failures\n",
      "\u001b[92mINFO \u001b[0m:      configure_evaluate: strategy sampled 10 clients (out of 10)\n"
     ]
    },
    {
     "name": "stdout",
     "output_type": "stream",
     "text": [
      "\u001b[36m(ClientAppActor pid=34872)\u001b[0m Epoch 9: train loss 0.001217, accuracy 0.985741\u001b[32m [repeated 4x across cluster]\u001b[0m\n",
      "\u001b[36m(ClientAppActor pid=21216)\u001b[0m [Client 5] evaluate, config: {}\n",
      "\u001b[36m(ClientAppActor pid=21216)\u001b[0m Client 5 loss 0.019436673372983933\n",
      "\u001b[36m(ClientAppActor pid=21216)\u001b[0m Client 5 accuracy 0.8716666666666667\n"
     ]
    },
    {
     "name": "stderr",
     "output_type": "stream",
     "text": [
      "\u001b[92mINFO \u001b[0m:      aggregate_evaluate: received 10 results and 0 failures\n",
      "\u001b[92mINFO \u001b[0m:      \n",
      "\u001b[92mINFO \u001b[0m:      [ROUND 9]\n",
      "\u001b[92mINFO \u001b[0m:      configure_fit: strategy sampled 10 clients (out of 10)\n"
     ]
    },
    {
     "name": "stdout",
     "output_type": "stream",
     "text": [
      "\u001b[36m(ClientAppActor pid=21216)\u001b[0m [Client 1] fit, config: {}\n",
      "\u001b[36m(ClientAppActor pid=13092)\u001b[0m Epoch 1: train loss 0.003992, accuracy 0.951111\u001b[32m [repeated 10x across cluster]\u001b[0m\n",
      "\u001b[36m(ClientAppActor pid=21216)\u001b[0m [Client 3] evaluate, config: {}\u001b[32m [repeated 9x across cluster]\u001b[0m\n",
      "\u001b[36m(ClientAppActor pid=21216)\u001b[0m Client 3 loss 0.012264926557739576\u001b[32m [repeated 9x across cluster]\u001b[0m\n",
      "\u001b[36m(ClientAppActor pid=21216)\u001b[0m Client 3 accuracy 0.925\u001b[32m [repeated 9x across cluster]\u001b[0m\n",
      "\u001b[36m(ClientAppActor pid=20276)\u001b[0m [Client 4] fit, config: {}\u001b[32m [repeated 7x across cluster]\u001b[0m\n",
      "\u001b[36m(ClientAppActor pid=21216)\u001b[0m Epoch 3: train loss 0.002132, accuracy 0.976667\u001b[32m [repeated 16x across cluster]\u001b[0m\n",
      "\u001b[36m(ClientAppActor pid=34872)\u001b[0m Epoch 5: train loss 0.001526, accuracy 0.983704\u001b[32m [repeated 16x across cluster]\u001b[0m\n",
      "\u001b[36m(ClientAppActor pid=21216)\u001b[0m Epoch 7: train loss 0.001346, accuracy 0.985556\u001b[32m [repeated 16x across cluster]\u001b[0m\n",
      "\u001b[36m(ClientAppActor pid=34872)\u001b[0m Epoch 9: train loss 0.000936, accuracy 0.991111\u001b[32m [repeated 17x across cluster]\u001b[0m\n",
      "\u001b[36m(ClientAppActor pid=21216)\u001b[0m [Client 9] fit, config: {}\n",
      "\u001b[36m(ClientAppActor pid=21216)\u001b[0m Epoch 1: train loss 0.004475, accuracy 0.946481\u001b[32m [repeated 9x across cluster]\u001b[0m\n",
      "\u001b[36m(ClientAppActor pid=34872)\u001b[0m [Client 2] fit, config: {}\n",
      "\u001b[36m(ClientAppActor pid=21216)\u001b[0m Epoch 3: train loss 0.002605, accuracy 0.969630\u001b[32m [repeated 4x across cluster]\u001b[0m\n",
      "\u001b[36m(ClientAppActor pid=21216)\u001b[0m Epoch 5: train loss 0.001690, accuracy 0.979259\u001b[32m [repeated 4x across cluster]\u001b[0m\n",
      "\u001b[36m(ClientAppActor pid=21216)\u001b[0m Epoch 7: train loss 0.001151, accuracy 0.987593\u001b[32m [repeated 4x across cluster]\u001b[0m\n",
      "\u001b[36m(ClientAppActor pid=21216)\u001b[0m Epoch 9: train loss 0.002327, accuracy 0.973704\u001b[32m [repeated 4x across cluster]\u001b[0m\n"
     ]
    },
    {
     "name": "stderr",
     "output_type": "stream",
     "text": [
      "\u001b[92mINFO \u001b[0m:      aggregate_fit: received 10 results and 0 failures\n",
      "\u001b[92mINFO \u001b[0m:      configure_evaluate: strategy sampled 10 clients (out of 10)\n"
     ]
    },
    {
     "name": "stdout",
     "output_type": "stream",
     "text": [
      "\u001b[36m(ClientAppActor pid=34872)\u001b[0m [Client 4] evaluate, config: {}\n",
      "\u001b[36m(ClientAppActor pid=34872)\u001b[0m Client 4 loss 0.015091343745589257\n",
      "\u001b[36m(ClientAppActor pid=34872)\u001b[0m Client 4 accuracy 0.895\n",
      "\u001b[36m(ClientAppActor pid=41260)\u001b[0m \n",
      "\u001b[36m(ClientAppActor pid=41260)\u001b[0m \n"
     ]
    },
    {
     "name": "stderr",
     "output_type": "stream",
     "text": [
      "\u001b[92mINFO \u001b[0m:      aggregate_evaluate: received 10 results and 0 failures\n",
      "\u001b[92mINFO \u001b[0m:      \n",
      "\u001b[92mINFO \u001b[0m:      [ROUND 10]\n",
      "\u001b[92mINFO \u001b[0m:      configure_fit: strategy sampled 10 clients (out of 10)\n"
     ]
    },
    {
     "name": "stdout",
     "output_type": "stream",
     "text": [
      "\u001b[36m(ClientAppActor pid=34872)\u001b[0m [Client 6] fit, config: {}\n",
      "\u001b[36m(ClientAppActor pid=20276)\u001b[0m Epoch 0: train loss 0.007792, accuracy 0.916852\u001b[32m [repeated 9x across cluster]\u001b[0m\n",
      "\u001b[36m(ClientAppActor pid=34872)\u001b[0m [Client 8] evaluate, config: {}\u001b[32m [repeated 9x across cluster]\u001b[0m\n",
      "\u001b[36m(ClientAppActor pid=34872)\u001b[0m Client 8 loss 0.014103969301407535\u001b[32m [repeated 9x across cluster]\u001b[0m\n",
      "\u001b[36m(ClientAppActor pid=34872)\u001b[0m Client 8 accuracy 0.915\u001b[32m [repeated 9x across cluster]\u001b[0m\n",
      "\u001b[36m(ClientAppActor pid=20276)\u001b[0m [Client 3] fit, config: {}\u001b[32m [repeated 7x across cluster]\u001b[0m\n",
      "\u001b[36m(ClientAppActor pid=42392)\u001b[0m Epoch 2: train loss 0.002486, accuracy 0.970926\u001b[32m [repeated 15x across cluster]\u001b[0m\n",
      "\u001b[36m(ClientAppActor pid=20276)\u001b[0m Epoch 4: train loss 0.001724, accuracy 0.980370\u001b[32m [repeated 16x across cluster]\u001b[0m\n",
      "\u001b[36m(ClientAppActor pid=42392)\u001b[0m Epoch 6: train loss 0.001210, accuracy 0.987037\u001b[32m [repeated 17x across cluster]\u001b[0m\n",
      "\u001b[36m(ClientAppActor pid=20276)\u001b[0m Epoch 8: train loss 0.001412, accuracy 0.985000\u001b[32m [repeated 15x across cluster]\u001b[0m\n",
      "\u001b[36m(ClientAppActor pid=34872)\u001b[0m [Client 9] fit, config: {}\n",
      "\u001b[36m(ClientAppActor pid=34872)\u001b[0m Epoch 1: train loss 0.004174, accuracy 0.949074\u001b[32m [repeated 12x across cluster]\u001b[0m\n",
      "\u001b[36m(ClientAppActor pid=21216)\u001b[0m [Client 1] fit, config: {}\n",
      "\u001b[36m(ClientAppActor pid=34872)\u001b[0m Epoch 3: train loss 0.002110, accuracy 0.976667\u001b[32m [repeated 4x across cluster]\u001b[0m\n",
      "\u001b[36m(ClientAppActor pid=34872)\u001b[0m Epoch 5: train loss 0.001172, accuracy 0.988333\u001b[32m [repeated 4x across cluster]\u001b[0m\n",
      "\u001b[36m(ClientAppActor pid=34872)\u001b[0m Epoch 7: train loss 0.002021, accuracy 0.976481\u001b[32m [repeated 4x across cluster]\u001b[0m\n",
      "\u001b[36m(ClientAppActor pid=34872)\u001b[0m Epoch 9: train loss 0.001355, accuracy 0.985741\u001b[32m [repeated 4x across cluster]\u001b[0m\n"
     ]
    },
    {
     "name": "stderr",
     "output_type": "stream",
     "text": [
      "\u001b[92mINFO \u001b[0m:      aggregate_fit: received 10 results and 0 failures\n",
      "\u001b[92mINFO \u001b[0m:      configure_evaluate: strategy sampled 10 clients (out of 10)\n"
     ]
    },
    {
     "name": "stdout",
     "output_type": "stream",
     "text": [
      "\u001b[36m(ClientAppActor pid=21216)\u001b[0m [Client 2] evaluate, config: {}\n",
      "\u001b[36m(ClientAppActor pid=21216)\u001b[0m Client 2 loss 0.016941490508615972\n",
      "\u001b[36m(ClientAppActor pid=21216)\u001b[0m Client 2 accuracy 0.8916666666666667\n"
     ]
    },
    {
     "name": "stderr",
     "output_type": "stream",
     "text": [
      "\u001b[92mINFO \u001b[0m:      aggregate_evaluate: received 10 results and 0 failures\n",
      "\u001b[92mINFO \u001b[0m:      \n",
      "\u001b[92mINFO \u001b[0m:      [SUMMARY]\n",
      "\u001b[92mINFO \u001b[0m:      Run finished 10 round(s) in 557.56s\n",
      "\u001b[92mINFO \u001b[0m:      \tHistory (loss, distributed):\n",
      "\u001b[92mINFO \u001b[0m:      \t\tround 1: 0.01663897537936767\n",
      "\u001b[92mINFO \u001b[0m:      \t\tround 2: 0.01158891000971198\n",
      "\u001b[92mINFO \u001b[0m:      \t\tround 3: 0.011264053328583637\n",
      "\u001b[92mINFO \u001b[0m:      \t\tround 4: 0.012023001336182157\n",
      "\u001b[92mINFO \u001b[0m:      \t\tround 5: 0.0126646833413591\n",
      "\u001b[92mINFO \u001b[0m:      \t\tround 6: 0.013493886560201646\n",
      "\u001b[92mINFO \u001b[0m:      \t\tround 7: 0.01456951198199143\n",
      "\u001b[92mINFO \u001b[0m:      \t\tround 8: 0.014800454552906255\n",
      "\u001b[92mINFO \u001b[0m:      \t\tround 9: 0.01528045388807853\n",
      "\u001b[92mINFO \u001b[0m:      \t\tround 10: 0.01529828293217967\n",
      "\u001b[92mINFO \u001b[0m:      \n"
     ]
    },
    {
     "data": {
      "text/plain": [
       "History (loss, distributed):\n",
       "\tround 1: 0.01663897537936767\n",
       "\tround 2: 0.01158891000971198\n",
       "\tround 3: 0.011264053328583637\n",
       "\tround 4: 0.012023001336182157\n",
       "\tround 5: 0.0126646833413591\n",
       "\tround 6: 0.013493886560201646\n",
       "\tround 7: 0.01456951198199143\n",
       "\tround 8: 0.014800454552906255\n",
       "\tround 9: 0.01528045388807853\n",
       "\tround 10: 0.01529828293217967"
      ]
     },
     "execution_count": 16,
     "metadata": {},
     "output_type": "execute_result"
    }
   ],
   "source": [
    "strategy_fed_avg = FedAvgCustom()\n",
    "\n",
    "fl.simulation.start_simulation(\n",
    "    client_fn=client_fn,\n",
    "    num_clients=10,\n",
    "    config=fl.server.ServerConfig(num_rounds=10),\n",
    "    client_resources=client_resources,\n",
    "    strategy=strategy_fed_avg,\n",
    ")"
   ]
  },
  {
   "cell_type": "code",
   "execution_count": 15,
   "metadata": {},
   "outputs": [],
   "source": [
    "import matplotlib.pyplot as plt\n",
    "\n",
    "\n",
    "def plot_metricss(client_metrics, rounds: int = 10):\n",
    "    # client_metrics = strategy.client_metrics\n",
    "    client_ids = list(client_metrics.keys())\n",
    "    client_ids.sort()\n",
    "\n",
    "    fig, axs = plt.subplots(1, 2, figsize=(15, 5))\n",
    "\n",
    "    round_max_losses: List[Tuple[int, float]] = []\n",
    "    round_max_accuracy: List[Tuple[int, float]] = []\n",
    "    round_min_losses: List[Tuple[int, float]] = []\n",
    "    round_min_accuracy: List[Tuple[int, float]] = []\n",
    "\n",
    "    for round in range(1, rounds+1):\n",
    "        metrics_round = [(metrics.epoch, metrics.loss, metrics.accuracy) for metrics_list in client_metrics.values()\n",
    "                       for metrics in metrics_list if metrics.round == round]\n",
    "        if metrics_round:\n",
    "            min_loss = min(metrics_round, key=lambda x: x[1])\n",
    "            max_loss = max(metrics_round, key=lambda x: x[1])\n",
    "            round_max_losses.append(max_loss)\n",
    "            round_min_losses.append(min_loss)\n",
    "            min_accuracy = min(metrics_round, key=lambda x: x[2])\n",
    "            max_accuracy = max(metrics_round, key=lambda x: x[2])\n",
    "            round_max_accuracy.append(max_accuracy)\n",
    "            round_min_accuracy.append(min_accuracy)\n",
    "\n",
    "    for cid in client_ids:\n",
    "        epochs = [metric.epoch for metric in client_metrics[cid]]\n",
    "        losses = [metric.loss for metric in client_metrics[cid]]\n",
    "        axs[0].plot(epochs, losses,label=f\"Client {cid}: {len(strategy_fed_avg.client_metrics[cid])}\")\n",
    "\n",
    "    max_epochs = [round_max[0] for round_max in round_max_losses]\n",
    "    max_losses = [round_max[1] for round_max in round_max_losses]\n",
    "    min_epochs = [round_min[0] for round_min in round_min_losses]\n",
    "    min_losses = [round_min[1] for round_min in round_min_losses]\n",
    "    axs[0].plot(max_epochs, max_losses, linestyle='dashed')\n",
    "    axs[0].plot(min_epochs, min_losses, linestyle='dashed')\n",
    "    axs[0].set_title(\"Individual Clients Losses\")\n",
    "    axs[0].set_xlabel(\"Epochs\")\n",
    "    axs[0].set_ylabel(\"Loss\")\n",
    "    axs[0].legend(loc='upper right', fontsize='x-small', shadow=True,)\n",
    "    axs[0].grid()\n",
    "    \n",
    "\n",
    "\n",
    "    for cid in client_ids:\n",
    "        epochs = [metric.epoch for metric in client_metrics[cid]]\n",
    "        accuracies = [metric.accuracy for metric in client_metrics[cid]]\n",
    "        axs[1].plot(epochs, accuracies, label=f\"Client {cid}: {len(client_metrics[cid])}\")\n",
    "\n",
    "    max_epochs = [round_max[0] for round_max in round_max_accuracy]\n",
    "    max_accuracies = [round_max[2] for round_max in round_max_accuracy]\n",
    "    min_epochs = [round_min[0] for round_min in round_min_accuracy]\n",
    "    min_accuracies = [round_min[2] for round_min in round_min_accuracy]\n",
    "    axs[1].plot(max_epochs, max_accuracies, linestyle='dashed')\n",
    "    axs[1].plot(min_epochs, min_accuracies, linestyle='dashed')\n",
    "    axs[1].set_title(\"Individual Clients Accuracies\")\n",
    "\n",
    "    axs[1].set_xlabel(\"Epochs\")\n",
    "    axs[1].set_ylabel(\"Accuracy\")\n",
    "    axs[1].legend(loc='lower right',fontsize='x-small', shadow=True,)\n",
    "    axs[1].grid()\n",
    "\n",
    "    plt.show()\n",
    "\n",
    "#plot_metrics(strategy.client_metrics)"
   ]
  },
  {
   "cell_type": "code",
   "execution_count": 18,
   "metadata": {},
   "outputs": [
    {
     "name": "stdout",
     "output_type": "stream",
     "text": [
      "\u001b[36m(ClientAppActor pid=34872)\u001b[0m Client 3 loss 0.013411152126888435\n",
      "\u001b[36m(ClientAppActor pid=34872)\u001b[0m Client 3 accuracy 0.915\n"
     ]
    },
    {
     "data": {
      "image/png": "[encoded data removed]",
      "text/plain": [
       "<Figure size 1500x500 with 2 Axes>"
      ]
     },
     "metadata": {},
     "output_type": "display_data"
    }
   ],
   "source": [
    "plot_metricss(strategy_fed_avg.client_metrics)"
   ]
  },
  {
   "cell_type": "code",
   "execution_count": 19,
   "metadata": {},
   "outputs": [
    {
     "data": {
      "image/png": "[encoded data removed]",
      "text/plain": [
       "<Figure size 1400x800 with 1 Axes>"
      ]
     },
     "metadata": {},
     "output_type": "display_data"
    }
   ],
   "source": [
    "plot_times(strategy_fed_avg.client_training_times)"
   ]
  },
  {
   "cell_type": "code",
   "execution_count": 16,
   "metadata": {},
   "outputs": [],
   "source": [
    "class FedProxCustom(fl.server.strategy.FedProx):\n",
    "    def __init__(\n",
    "        self,\n",
    "        fraction_fit = 1.0,\n",
    "        fraction_evaluate = 1.0,\n",
    "        min_fit_clients = 2,\n",
    "        min_evaluate_clients = 2,\n",
    "        min_available_clients = 2,\n",
    "        proximal_mu=1.0,\n",
    "    ):\n",
    "        super().__init__(fraction_fit = fraction_fit, fraction_evaluate = fraction_evaluate, min_fit_clients = min_fit_clients, min_evaluate_clients = min_evaluate_clients, min_available_clients = min_available_clients,proximal_mu=proximal_mu)\n",
    "        self.client_training_times: Dict[int, List[float]] = {}\n",
    "        self.client_metrics: Dict[int, List[ClientMetrics]] = {}\n",
    "        self.loss_extreme: Dict[int, Tuple[int, float, float]] = {}\n",
    "        self.accuracy_extreme: Dict[int, Tuple[int, float, float]] = {}\n",
    "\n",
    "    def parse_metrics(self, cid: int, server_round: int, metrics: str):\n",
    "        client_data: List[ClientMetrics] = json.loads(metrics)\n",
    "        data_store: List[ClientMetrics] = self.client_metrics.setdefault(cid, [])\n",
    "        last_epoch: int = len(data_store)\n",
    "        for data in client_data:\n",
    "            data_store.append(ClientMetrics(last_epoch, data[1], data[2], round=server_round, cid=cid))\n",
    "            last_epoch += 1\n",
    "\n",
    "    def aggregate_fit(\n",
    "        self,\n",
    "        server_round: int,\n",
    "        results: List[Tuple[ClientProxy, FitRes]],\n",
    "        failures: List[Union[Tuple[ClientProxy, FitRes], BaseException]],\n",
    "    ) -> Tuple[Optional[Parameters], Dict[str, Scalar]]:\n",
    "        \"\"\"Aggregate fit results using weighted average.\"\"\"\n",
    "        for client, fit_res in results:\n",
    "            self.client_training_times.setdefault(client.cid, []).append(fit_res.metrics.get(\"training_time\", 0))\n",
    "            self.parse_metrics(client.cid, server_round, fit_res.metrics.get(\"metrics\", None))\n",
    "        weights_results = [\n",
    "            (parameters_to_ndarrays(fit_res.parameters), fit_res.num_examples)\n",
    "            for _, fit_res in results\n",
    "        ]\n",
    "        parameters_aggregated = ndarrays_to_parameters(aggregate(weights_results))\n",
    "        metrics_aggregated = {}\n",
    "        return parameters_aggregated, metrics_aggregated\n",
    "\n"
   ]
  },
  {
   "cell_type": "code",
   "execution_count": 17,
   "metadata": {},
   "outputs": [
    {
     "name": "stderr",
     "output_type": "stream",
     "text": [
      "\u001b[92mINFO \u001b[0m:      Starting Flower simulation, config: num_rounds=10, no round_timeout\n",
      "2024-12-06 15:16:02,685\tINFO worker.py:1771 -- Started a local Ray instance.\n",
      "\u001b[92mINFO \u001b[0m:      Flower VCE: Ray initialized with resources: {'node:__internal_head__': 1.0, 'CPU': 32.0, 'memory': 26120390247.0, 'accelerator_type:RTX': 1.0, 'node:127.0.0.1': 1.0, 'GPU': 1.0, 'object_store_memory': 13060195123.0}\n",
      "\u001b[92mINFO \u001b[0m:      Optimize your simulation with Flower VCE: https://flower.ai/docs/framework/how-to-run-simulations.html\n",
      "\u001b[92mINFO \u001b[0m:      Flower VCE: Resources for each Virtual Client: {'num_gpus': 0.125, 'num_cpus': 1}\n",
      "\u001b[92mINFO \u001b[0m:      Flower VCE: Creating VirtualClientEngineActorPool with 8 actors\n",
      "\u001b[92mINFO \u001b[0m:      [INIT]\n",
      "\u001b[92mINFO \u001b[0m:      Requesting initial parameters from one random client\n",
      "\u001b[92mINFO \u001b[0m:      Received initial parameters from one random client\n",
      "\u001b[92mINFO \u001b[0m:      Evaluating initial global parameters\n",
      "\u001b[92mINFO \u001b[0m:      \n",
      "\u001b[92mINFO \u001b[0m:      [ROUND 1]\n",
      "\u001b[92mINFO \u001b[0m:      configure_fit: strategy sampled 10 clients (out of 10)\n"
     ]
    },
    {
     "name": "stdout",
     "output_type": "stream",
     "text": [
      "\u001b[36m(ClientAppActor pid=55340)\u001b[0m [Client 3] get_parameters\n",
      "\u001b[36m(ClientAppActor pid=55340)\u001b[0m [Client 2] fit, config: {'proximal_mu': 1.0}\n",
      "\u001b[36m(ClientAppActor pid=55340)\u001b[0m Epoch 0: train loss 0.036446, accuracy 0.569074\n",
      "\u001b[36m(ClientAppActor pid=55152)\u001b[0m [Client 1] fit, config: {'proximal_mu': 1.0}\u001b[32m [repeated 4x across cluster] (Ray deduplicates logs by default. Set RAY_DEDUP_LOGS=0 to disable log deduplication, or see https://docs.ray.io/en/master/ray-observability/user-guides/configure-logging.html#log-deduplication for more options.)\u001b[0m\n",
      "\u001b[36m(ClientAppActor pid=55340)\u001b[0m Epoch 1: train loss 0.021194, accuracy 0.739815\n",
      "\u001b[36m(ClientAppActor pid=53776)\u001b[0m Epoch 0: train loss 0.035518, accuracy 0.587778\u001b[32m [repeated 4x across cluster]\u001b[0m\n",
      "\u001b[36m(ClientAppActor pid=52600)\u001b[0m [Client 0] fit, config: {'proximal_mu': 1.0}\u001b[32m [repeated 3x across cluster]\u001b[0m\n",
      "\u001b[36m(ClientAppActor pid=55152)\u001b[0m Epoch 2: train loss 0.018697, accuracy 0.768889\u001b[32m [repeated 16x across cluster]\u001b[0m\n",
      "\u001b[36m(ClientAppActor pid=53444)\u001b[0m Epoch 4: train loss 0.015333, accuracy 0.812963\u001b[32m [repeated 20x across cluster]\u001b[0m\n",
      "\u001b[36m(ClientAppActor pid=54980)\u001b[0m Epoch 7: train loss 0.012734, accuracy 0.850185\u001b[32m [repeated 17x across cluster]\u001b[0m\n",
      "\u001b[36m(ClientAppActor pid=55340)\u001b[0m [Client 8] fit, config: {'proximal_mu': 1.0}\n",
      "\u001b[36m(ClientAppActor pid=52600)\u001b[0m Epoch 9: train loss 0.011039, accuracy 0.865926\u001b[32m [repeated 18x across cluster]\u001b[0m\n",
      "\u001b[36m(ClientAppActor pid=55152)\u001b[0m [Client 9] fit, config: {'proximal_mu': 1.0}\n",
      "\u001b[36m(ClientAppActor pid=55152)\u001b[0m Epoch 1: train loss 0.021123, accuracy 0.744074\u001b[32m [repeated 8x across cluster]\u001b[0m\n",
      "\u001b[36m(ClientAppActor pid=55152)\u001b[0m Epoch 3: train loss 0.016894, accuracy 0.793519\u001b[32m [repeated 4x across cluster]\u001b[0m\n",
      "\u001b[36m(ClientAppActor pid=55152)\u001b[0m Epoch 5: train loss 0.014260, accuracy 0.829074\u001b[32m [repeated 4x across cluster]\u001b[0m\n",
      "\u001b[36m(ClientAppActor pid=55152)\u001b[0m Epoch 7: train loss 0.012442, accuracy 0.851852\u001b[32m [repeated 4x across cluster]\u001b[0m\n"
     ]
    },
    {
     "name": "stderr",
     "output_type": "stream",
     "text": [
      "\u001b[92mINFO \u001b[0m:      aggregate_fit: received 10 results and 0 failures\n",
      "\u001b[92mINFO \u001b[0m:      configure_evaluate: strategy sampled 10 clients (out of 10)\n"
     ]
    },
    {
     "name": "stdout",
     "output_type": "stream",
     "text": [
      "\u001b[36m(ClientAppActor pid=55152)\u001b[0m Epoch 9: train loss 0.011025, accuracy 0.868889\u001b[32m [repeated 3x across cluster]\u001b[0m\n",
      "\u001b[36m(ClientAppActor pid=55152)\u001b[0m [Client 1] evaluate, config: {}\n",
      "\u001b[36m(ClientAppActor pid=55152)\u001b[0m Client 1 loss 0.01703271021445592\n",
      "\u001b[36m(ClientAppActor pid=55152)\u001b[0m Client 1 accuracy 0.785\n"
     ]
    },
    {
     "name": "stderr",
     "output_type": "stream",
     "text": [
      "\u001b[92mINFO \u001b[0m:      aggregate_evaluate: received 10 results and 0 failures\n",
      "\u001b[93mWARNING \u001b[0m:   No evaluate_metrics_aggregation_fn provided\n",
      "\u001b[92mINFO \u001b[0m:      \n",
      "\u001b[92mINFO \u001b[0m:      [ROUND 2]\n",
      "\u001b[92mINFO \u001b[0m:      configure_fit: strategy sampled 10 clients (out of 10)\n"
     ]
    },
    {
     "name": "stdout",
     "output_type": "stream",
     "text": [
      "\u001b[36m(ClientAppActor pid=27268)\u001b[0m [Client 6] fit, config: {'proximal_mu': 1.0}\n",
      "\u001b[36m(ClientAppActor pid=55152)\u001b[0m Epoch 1: train loss 0.013271, accuracy 0.843333\u001b[32m [repeated 9x across cluster]\u001b[0m\n",
      "\u001b[36m(ClientAppActor pid=27268)\u001b[0m [Client 3] evaluate, config: {}\u001b[32m [repeated 9x across cluster]\u001b[0m\n",
      "\u001b[36m(ClientAppActor pid=27268)\u001b[0m Client 3 loss 0.016428921222686767\u001b[32m [repeated 9x across cluster]\u001b[0m\n",
      "\u001b[36m(ClientAppActor pid=27268)\u001b[0m Client 3 accuracy 0.835\u001b[32m [repeated 9x across cluster]\u001b[0m\n",
      "\u001b[36m(ClientAppActor pid=53776)\u001b[0m [Client 4] fit, config: {'proximal_mu': 1.0}\u001b[32m [repeated 7x across cluster]\u001b[0m\n",
      "\u001b[36m(ClientAppActor pid=54980)\u001b[0m Epoch 3: train loss 0.010690, accuracy 0.868519\u001b[32m [repeated 18x across cluster]\u001b[0m\n",
      "\u001b[36m(ClientAppActor pid=52600)\u001b[0m Epoch 5: train loss 0.009685, accuracy 0.886111\u001b[32m [repeated 18x across cluster]\u001b[0m\n",
      "\u001b[36m(ClientAppActor pid=53776)\u001b[0m Epoch 7: train loss 0.007921, accuracy 0.906481\u001b[32m [repeated 19x across cluster]\u001b[0m\n",
      "\u001b[36m(ClientAppActor pid=55152)\u001b[0m [Client 5] fit, config: {'proximal_mu': 1.0}\n",
      "\u001b[36m(ClientAppActor pid=55152)\u001b[0m Epoch 0: train loss 0.014709, accuracy 0.832963\u001b[32m [repeated 17x across cluster]\u001b[0m\n",
      "\u001b[36m(ClientAppActor pid=51232)\u001b[0m [Client 1] fit, config: {'proximal_mu': 1.0}\n",
      "\u001b[36m(ClientAppActor pid=55152)\u001b[0m Epoch 2: train loss 0.011695, accuracy 0.864259\u001b[32m [repeated 4x across cluster]\u001b[0m\n",
      "\u001b[36m(ClientAppActor pid=51232)\u001b[0m Epoch 4: train loss 0.010244, accuracy 0.876852\u001b[32m [repeated 4x across cluster]\u001b[0m\n",
      "\u001b[36m(ClientAppActor pid=51232)\u001b[0m Epoch 6: train loss 0.008938, accuracy 0.892778\u001b[32m [repeated 4x across cluster]\u001b[0m\n",
      "\u001b[36m(ClientAppActor pid=51232)\u001b[0m Epoch 8: train loss 0.007541, accuracy 0.910556\u001b[32m [repeated 4x across cluster]\u001b[0m\n"
     ]
    },
    {
     "name": "stderr",
     "output_type": "stream",
     "text": [
      "\u001b[92mINFO \u001b[0m:      aggregate_fit: received 10 results and 0 failures\n",
      "\u001b[92mINFO \u001b[0m:      configure_evaluate: strategy sampled 10 clients (out of 10)\n"
     ]
    },
    {
     "name": "stdout",
     "output_type": "stream",
     "text": [
      "\u001b[36m(ClientAppActor pid=55152)\u001b[0m [Client 5] evaluate, config: {}\n",
      "\u001b[36m(ClientAppActor pid=51232)\u001b[0m Client 9 loss 0.013291065916419029\n",
      "\u001b[36m(ClientAppActor pid=51232)\u001b[0m Client 9 accuracy 0.8566666666666667\n"
     ]
    },
    {
     "name": "stderr",
     "output_type": "stream",
     "text": [
      "\u001b[92mINFO \u001b[0m:      aggregate_evaluate: received 10 results and 0 failures\n",
      "\u001b[92mINFO \u001b[0m:      \n",
      "\u001b[92mINFO \u001b[0m:      [ROUND 3]\n",
      "\u001b[92mINFO \u001b[0m:      configure_fit: strategy sampled 10 clients (out of 10)\n"
     ]
    },
    {
     "name": "stdout",
     "output_type": "stream",
     "text": [
      "\u001b[36m(ClientAppActor pid=51232)\u001b[0m [Client 1] fit, config: {'proximal_mu': 1.0}\n",
      "\u001b[36m(ClientAppActor pid=55152)\u001b[0m Epoch 9: train loss 0.006617, accuracy 0.922593\u001b[32m [repeated 3x across cluster]\u001b[0m\n",
      "\u001b[36m(ClientAppActor pid=51232)\u001b[0m [Client 4] evaluate, config: {}\u001b[32m [repeated 9x across cluster]\u001b[0m\n",
      "\u001b[36m(ClientAppActor pid=51232)\u001b[0m Client 4 loss 0.011997554451227188\u001b[32m [repeated 9x across cluster]\u001b[0m\n",
      "\u001b[36m(ClientAppActor pid=51232)\u001b[0m Client 4 accuracy 0.8733333333333333\u001b[32m [repeated 9x across cluster]\u001b[0m\n",
      "\u001b[36m(ClientAppActor pid=53444)\u001b[0m [Client 5] fit, config: {'proximal_mu': 1.0}\u001b[32m [repeated 7x across cluster]\u001b[0m\n",
      "\u001b[36m(ClientAppActor pid=53444)\u001b[0m Epoch 1: train loss 0.009622, accuracy 0.884444\u001b[32m [repeated 16x across cluster]\u001b[0m\n",
      "\u001b[36m(ClientAppActor pid=51232)\u001b[0m Epoch 4: train loss 0.007412, accuracy 0.913333\u001b[32m [repeated 17x across cluster]\u001b[0m\n",
      "\u001b[36m(ClientAppActor pid=27268)\u001b[0m Epoch 6: train loss 0.006192, accuracy 0.928333\u001b[32m [repeated 18x across cluster]\u001b[0m\n",
      "\u001b[36m(ClientAppActor pid=55152)\u001b[0m Epoch 8: train loss 0.005378, accuracy 0.937963\u001b[32m [repeated 18x across cluster]\u001b[0m\n",
      "\u001b[36m(ClientAppActor pid=51232)\u001b[0m [Client 0] fit, config: {'proximal_mu': 1.0}\n",
      "\u001b[36m(ClientAppActor pid=53776)\u001b[0m Epoch 0: train loss 0.011104, accuracy 0.872407\u001b[32m [repeated 13x across cluster]\u001b[0m\n",
      "\u001b[36m(ClientAppActor pid=53776)\u001b[0m [Client 9] fit, config: {'proximal_mu': 1.0}\n",
      "\u001b[36m(ClientAppActor pid=51232)\u001b[0m Epoch 2: train loss 0.009095, accuracy 0.889074\u001b[32m [repeated 3x across cluster]\u001b[0m\n",
      "\u001b[36m(ClientAppActor pid=51232)\u001b[0m Epoch 4: train loss 0.007669, accuracy 0.907407\u001b[32m [repeated 4x across cluster]\u001b[0m\n",
      "\u001b[36m(ClientAppActor pid=51232)\u001b[0m Epoch 6: train loss 0.006406, accuracy 0.923148\u001b[32m [repeated 4x across cluster]\u001b[0m\n",
      "\u001b[36m(ClientAppActor pid=51232)\u001b[0m Epoch 8: train loss 0.005272, accuracy 0.937222\u001b[32m [repeated 4x across cluster]\u001b[0m\n"
     ]
    },
    {
     "name": "stderr",
     "output_type": "stream",
     "text": [
      "\u001b[92mINFO \u001b[0m:      aggregate_fit: received 10 results and 0 failures\n",
      "\u001b[92mINFO \u001b[0m:      configure_evaluate: strategy sampled 10 clients (out of 10)\n"
     ]
    },
    {
     "name": "stdout",
     "output_type": "stream",
     "text": [
      "\u001b[36m(ClientAppActor pid=53776)\u001b[0m [Client 6] evaluate, config: {}\n",
      "\u001b[36m(ClientAppActor pid=53776)\u001b[0m Client 6 loss 0.010218978164096674\n",
      "\u001b[36m(ClientAppActor pid=53776)\u001b[0m Client 6 accuracy 0.875\n"
     ]
    },
    {
     "name": "stderr",
     "output_type": "stream",
     "text": [
      "\u001b[92mINFO \u001b[0m:      aggregate_evaluate: received 10 results and 0 failures\n",
      "\u001b[92mINFO \u001b[0m:      \n",
      "\u001b[92mINFO \u001b[0m:      [ROUND 4]\n",
      "\u001b[92mINFO \u001b[0m:      configure_fit: strategy sampled 10 clients (out of 10)\n"
     ]
    },
    {
     "name": "stdout",
     "output_type": "stream",
     "text": [
      "\u001b[36m(ClientAppActor pid=51232)\u001b[0m [Client 9] fit, config: {'proximal_mu': 1.0}\n",
      "\u001b[36m(ClientAppActor pid=53776)\u001b[0m Epoch 9: train loss 0.005129, accuracy 0.936481\u001b[32m [repeated 3x across cluster]\u001b[0m\n",
      "\u001b[36m(ClientAppActor pid=51232)\u001b[0m [Client 4] evaluate, config: {}\u001b[32m [repeated 9x across cluster]\u001b[0m\n",
      "\u001b[36m(ClientAppActor pid=51232)\u001b[0m Client 4 loss 0.012185708954930305\u001b[32m [repeated 9x across cluster]\u001b[0m\n",
      "\u001b[36m(ClientAppActor pid=51232)\u001b[0m Client 4 accuracy 0.8816666666666667\u001b[32m [repeated 9x across cluster]\u001b[0m\n",
      "\u001b[36m(ClientAppActor pid=52600)\u001b[0m [Client 5] fit, config: {'proximal_mu': 1.0}\u001b[32m [repeated 7x across cluster]\u001b[0m\n",
      "\u001b[36m(ClientAppActor pid=51232)\u001b[0m Epoch 2: train loss 0.007237, accuracy 0.906667\u001b[32m [repeated 17x across cluster]\u001b[0m\n",
      "\u001b[36m(ClientAppActor pid=53776)\u001b[0m Epoch 4: train loss 0.005752, accuracy 0.932593\u001b[32m [repeated 17x across cluster]\u001b[0m\n",
      "\u001b[36m(ClientAppActor pid=27268)\u001b[0m Epoch 6: train loss 0.004345, accuracy 0.944815\u001b[32m [repeated 19x across cluster]\u001b[0m\n",
      "\u001b[36m(ClientAppActor pid=27268)\u001b[0m Epoch 8: train loss 0.003739, accuracy 0.955370\u001b[32m [repeated 17x across cluster]\u001b[0m\n",
      "\u001b[36m(ClientAppActor pid=55340)\u001b[0m [Client 4] fit, config: {'proximal_mu': 1.0}\n",
      "\u001b[36m(ClientAppActor pid=51232)\u001b[0m Epoch 0: train loss 0.010076, accuracy 0.890185\u001b[32m [repeated 12x across cluster]\u001b[0m\n",
      "\u001b[36m(ClientAppActor pid=51232)\u001b[0m [Client 6] fit, config: {'proximal_mu': 1.0}\n",
      "\u001b[36m(ClientAppActor pid=55340)\u001b[0m Epoch 2: train loss 0.007151, accuracy 0.914815\u001b[32m [repeated 3x across cluster]\u001b[0m\n",
      "\u001b[36m(ClientAppActor pid=55340)\u001b[0m Epoch 4: train loss 0.005609, accuracy 0.932593\u001b[32m [repeated 4x across cluster]\u001b[0m\n",
      "\u001b[36m(ClientAppActor pid=55340)\u001b[0m Epoch 6: train loss 0.004566, accuracy 0.947037\u001b[32m [repeated 4x across cluster]\u001b[0m\n",
      "\u001b[36m(ClientAppActor pid=51232)\u001b[0m Epoch 8: train loss 0.003578, accuracy 0.957963\u001b[32m [repeated 4x across cluster]\u001b[0m\n"
     ]
    },
    {
     "name": "stderr",
     "output_type": "stream",
     "text": [
      "\u001b[92mINFO \u001b[0m:      aggregate_fit: received 10 results and 0 failures\n",
      "\u001b[92mINFO \u001b[0m:      configure_evaluate: strategy sampled 10 clients (out of 10)\n"
     ]
    },
    {
     "name": "stdout",
     "output_type": "stream",
     "text": [
      "\u001b[36m(ClientAppActor pid=55340)\u001b[0m [Client 3] evaluate, config: {}\n",
      "\u001b[36m(ClientAppActor pid=55340)\u001b[0m Client 3 loss 0.010401944282154242\n",
      "\u001b[36m(ClientAppActor pid=55340)\u001b[0m Client 3 accuracy 0.91\n"
     ]
    },
    {
     "name": "stderr",
     "output_type": "stream",
     "text": [
      "\u001b[92mINFO \u001b[0m:      aggregate_evaluate: received 10 results and 0 failures\n",
      "\u001b[92mINFO \u001b[0m:      \n",
      "\u001b[92mINFO \u001b[0m:      [ROUND 5]\n",
      "\u001b[92mINFO \u001b[0m:      configure_fit: strategy sampled 10 clients (out of 10)\n"
     ]
    },
    {
     "name": "stdout",
     "output_type": "stream",
     "text": [
      "\u001b[36m(ClientAppActor pid=51232)\u001b[0m [Client 9] fit, config: {'proximal_mu': 1.0}\n",
      "\u001b[36m(ClientAppActor pid=55340)\u001b[0m Epoch 0: train loss 0.009816, accuracy 0.889074\u001b[32m [repeated 4x across cluster]\u001b[0m\n",
      "\u001b[36m(ClientAppActor pid=51232)\u001b[0m [Client 5] evaluate, config: {}\u001b[32m [repeated 9x across cluster]\u001b[0m\n",
      "\u001b[36m(ClientAppActor pid=51232)\u001b[0m Client 5 loss 0.016246056109666826\u001b[32m [repeated 9x across cluster]\u001b[0m\n",
      "\u001b[36m(ClientAppActor pid=51232)\u001b[0m Client 5 accuracy 0.8683333333333333\u001b[32m [repeated 9x across cluster]\u001b[0m\n",
      "\u001b[36m(ClientAppActor pid=54980)\u001b[0m [Client 6] fit, config: {'proximal_mu': 1.0}\u001b[32m [repeated 7x across cluster]\u001b[0m\n",
      "\u001b[36m(ClientAppActor pid=53444)\u001b[0m Epoch 2: train loss 0.006328, accuracy 0.926111\u001b[32m [repeated 17x across cluster]\u001b[0m\n",
      "\u001b[36m(ClientAppActor pid=53776)\u001b[0m Epoch 4: train loss 0.004342, accuracy 0.950000\u001b[32m [repeated 18x across cluster]\u001b[0m\n",
      "\u001b[36m(ClientAppActor pid=52600)\u001b[0m Epoch 6: train loss 0.003442, accuracy 0.958889\u001b[32m [repeated 18x across cluster]\u001b[0m\n",
      "\u001b[36m(ClientAppActor pid=55152)\u001b[0m Epoch 8: train loss 0.002816, accuracy 0.965556\u001b[32m [repeated 18x across cluster]\u001b[0m\n",
      "\u001b[36m(ClientAppActor pid=55340)\u001b[0m [Client 2] fit, config: {'proximal_mu': 1.0}\n",
      "\u001b[36m(ClientAppActor pid=55340)\u001b[0m Epoch 1: train loss 0.007183, accuracy 0.912407\u001b[32m [repeated 11x across cluster]\u001b[0m\n",
      "\u001b[36m(ClientAppActor pid=53444)\u001b[0m [Client 5] fit, config: {'proximal_mu': 1.0}\n",
      "\u001b[36m(ClientAppActor pid=55340)\u001b[0m Epoch 3: train loss 0.005140, accuracy 0.938333\u001b[32m [repeated 4x across cluster]\u001b[0m\n",
      "\u001b[36m(ClientAppActor pid=55340)\u001b[0m Epoch 5: train loss 0.003850, accuracy 0.956481\u001b[32m [repeated 4x across cluster]\u001b[0m\n",
      "\u001b[36m(ClientAppActor pid=55340)\u001b[0m Epoch 7: train loss 0.003297, accuracy 0.961296\u001b[32m [repeated 4x across cluster]\u001b[0m\n",
      "\u001b[36m(ClientAppActor pid=55340)\u001b[0m Epoch 9: train loss 0.002552, accuracy 0.969444\u001b[32m [repeated 4x across cluster]\u001b[0m\n"
     ]
    },
    {
     "name": "stderr",
     "output_type": "stream",
     "text": [
      "\u001b[92mINFO \u001b[0m:      aggregate_fit: received 10 results and 0 failures\n",
      "\u001b[92mINFO \u001b[0m:      configure_evaluate: strategy sampled 10 clients (out of 10)\n"
     ]
    },
    {
     "name": "stdout",
     "output_type": "stream",
     "text": [
      "\u001b[36m(ClientAppActor pid=53444)\u001b[0m [Client 4] evaluate, config: {}\n",
      "\u001b[36m(ClientAppActor pid=53444)\u001b[0m Client 4 loss 0.015309791242082914\n",
      "\u001b[36m(ClientAppActor pid=53444)\u001b[0m Client 4 accuracy 0.88\n"
     ]
    },
    {
     "name": "stderr",
     "output_type": "stream",
     "text": [
      "\u001b[92mINFO \u001b[0m:      aggregate_evaluate: received 10 results and 0 failures\n",
      "\u001b[92mINFO \u001b[0m:      \n",
      "\u001b[92mINFO \u001b[0m:      [ROUND 6]\n",
      "\u001b[92mINFO \u001b[0m:      configure_fit: strategy sampled 10 clients (out of 10)\n"
     ]
    },
    {
     "name": "stdout",
     "output_type": "stream",
     "text": [
      "\u001b[36m(ClientAppActor pid=55340)\u001b[0m [Client 9] fit, config: {'proximal_mu': 1.0}\n",
      "\u001b[36m(ClientAppActor pid=51232)\u001b[0m Epoch 1: train loss 0.006371, accuracy 0.930185\u001b[32m [repeated 10x across cluster]\u001b[0m\n",
      "\u001b[36m(ClientAppActor pid=55340)\u001b[0m [Client 2] evaluate, config: {}\u001b[32m [repeated 9x across cluster]\u001b[0m\n",
      "\u001b[36m(ClientAppActor pid=55340)\u001b[0m Client 2 loss 0.014878734443336726\u001b[32m [repeated 9x across cluster]\u001b[0m\n",
      "\u001b[36m(ClientAppActor pid=55340)\u001b[0m Client 2 accuracy 0.895\u001b[32m [repeated 9x across cluster]\u001b[0m\n",
      "\u001b[36m(ClientAppActor pid=55152)\u001b[0m [Client 5] fit, config: {'proximal_mu': 1.0}\u001b[32m [repeated 7x across cluster]\u001b[0m\n",
      "\u001b[36m(ClientAppActor pid=54980)\u001b[0m Epoch 3: train loss 0.004616, accuracy 0.946296\u001b[32m [repeated 18x across cluster]\u001b[0m\n",
      "\u001b[36m(ClientAppActor pid=52600)\u001b[0m Epoch 5: train loss 0.003271, accuracy 0.961852\u001b[32m [repeated 18x across cluster]\u001b[0m\n",
      "\u001b[36m(ClientAppActor pid=27268)\u001b[0m Epoch 7: train loss 0.002063, accuracy 0.978148\u001b[32m [repeated 19x across cluster]\u001b[0m\n",
      "\u001b[36m(ClientAppActor pid=51232)\u001b[0m [Client 1] fit, config: {'proximal_mu': 1.0}\n",
      "\u001b[36m(ClientAppActor pid=27268)\u001b[0m Epoch 9: train loss 0.002436, accuracy 0.972593\u001b[32m [repeated 16x across cluster]\u001b[0m\n",
      "\u001b[36m(ClientAppActor pid=55340)\u001b[0m [Client 4] fit, config: {'proximal_mu': 1.0}\n",
      "\u001b[36m(ClientAppActor pid=51232)\u001b[0m Epoch 2: train loss 0.005011, accuracy 0.937593\u001b[32m [repeated 5x across cluster]\u001b[0m\n",
      "\u001b[36m(ClientAppActor pid=51232)\u001b[0m Epoch 4: train loss 0.003278, accuracy 0.962037\u001b[32m [repeated 4x across cluster]\u001b[0m\n",
      "\u001b[36m(ClientAppActor pid=51232)\u001b[0m Epoch 6: train loss 0.002641, accuracy 0.970185\u001b[32m [repeated 4x across cluster]\u001b[0m\n",
      "\u001b[36m(ClientAppActor pid=51232)\u001b[0m Epoch 8: train loss 0.001783, accuracy 0.981296\u001b[32m [repeated 4x across cluster]\u001b[0m\n"
     ]
    },
    {
     "name": "stderr",
     "output_type": "stream",
     "text": [
      "\u001b[92mINFO \u001b[0m:      aggregate_fit: received 10 results and 0 failures\n",
      "\u001b[92mINFO \u001b[0m:      configure_evaluate: strategy sampled 10 clients (out of 10)\n"
     ]
    },
    {
     "name": "stdout",
     "output_type": "stream",
     "text": [
      "\u001b[36m(ClientAppActor pid=55340)\u001b[0m [Client 0] evaluate, config: {}\n",
      "\u001b[36m(ClientAppActor pid=55340)\u001b[0m Client 0 loss 0.014019971502323945\n",
      "\u001b[36m(ClientAppActor pid=55340)\u001b[0m Client 0 accuracy 0.87\n"
     ]
    },
    {
     "name": "stderr",
     "output_type": "stream",
     "text": [
      "\u001b[92mINFO \u001b[0m:      aggregate_evaluate: received 10 results and 0 failures\n",
      "\u001b[92mINFO \u001b[0m:      \n",
      "\u001b[92mINFO \u001b[0m:      [ROUND 7]\n",
      "\u001b[92mINFO \u001b[0m:      configure_fit: strategy sampled 10 clients (out of 10)\n"
     ]
    },
    {
     "name": "stdout",
     "output_type": "stream",
     "text": [
      "\u001b[36m(ClientAppActor pid=51232)\u001b[0m [Client 8] fit, config: {'proximal_mu': 1.0}\n",
      "\u001b[36m(ClientAppActor pid=55340)\u001b[0m Epoch 9: train loss 0.001227, accuracy 0.986667\u001b[32m [repeated 3x across cluster]\u001b[0m\n",
      "\u001b[36m(ClientAppActor pid=51232)\u001b[0m [Client 6] evaluate, config: {}\u001b[32m [repeated 9x across cluster]\u001b[0m\n",
      "\u001b[36m(ClientAppActor pid=51232)\u001b[0m Client 6 loss 0.011567604367931684\u001b[32m [repeated 9x across cluster]\u001b[0m\n",
      "\u001b[36m(ClientAppActor pid=51232)\u001b[0m Client 6 accuracy 0.8783333333333333\u001b[32m [repeated 9x across cluster]\u001b[0m\n",
      "\u001b[36m(ClientAppActor pid=27268)\u001b[0m [Client 1] fit, config: {'proximal_mu': 1.0}\u001b[32m [repeated 7x across cluster]\u001b[0m\n",
      "\u001b[36m(ClientAppActor pid=51232)\u001b[0m Epoch 2: train loss 0.004088, accuracy 0.950741\u001b[32m [repeated 17x across cluster]\u001b[0m\n",
      "\u001b[36m(ClientAppActor pid=54980)\u001b[0m Epoch 4: train loss 0.003047, accuracy 0.965185\u001b[32m [repeated 19x across cluster]\u001b[0m\n",
      "\u001b[36m(ClientAppActor pid=27268)\u001b[0m Epoch 6: train loss 0.001859, accuracy 0.978519\u001b[32m [repeated 19x across cluster]\u001b[0m\n",
      "\u001b[36m(ClientAppActor pid=51232)\u001b[0m Epoch 9: train loss 0.001463, accuracy 0.984444\u001b[32m [repeated 18x across cluster]\u001b[0m\n",
      "\u001b[36m(ClientAppActor pid=55152)\u001b[0m [Client 4] fit, config: {'proximal_mu': 1.0}\n",
      "\u001b[36m(ClientAppActor pid=51232)\u001b[0m Epoch 1: train loss 0.005279, accuracy 0.935370\u001b[32m [repeated 10x across cluster]\u001b[0m\n",
      "\u001b[36m(ClientAppActor pid=51232)\u001b[0m [Client 5] fit, config: {'proximal_mu': 1.0}\n",
      "\u001b[36m(ClientAppActor pid=51232)\u001b[0m Epoch 3: train loss 0.003358, accuracy 0.962407\u001b[32m [repeated 4x across cluster]\u001b[0m\n",
      "\u001b[36m(ClientAppActor pid=51232)\u001b[0m Epoch 5: train loss 0.002154, accuracy 0.975000\u001b[32m [repeated 4x across cluster]\u001b[0m\n",
      "\u001b[36m(ClientAppActor pid=51232)\u001b[0m Epoch 7: train loss 0.001959, accuracy 0.977407\u001b[32m [repeated 4x across cluster]\u001b[0m\n",
      "\u001b[36m(ClientAppActor pid=51232)\u001b[0m Epoch 9: train loss 0.001027, accuracy 0.988889\u001b[32m [repeated 4x across cluster]\u001b[0m\n"
     ]
    },
    {
     "name": "stderr",
     "output_type": "stream",
     "text": [
      "\u001b[92mINFO \u001b[0m:      aggregate_fit: received 10 results and 0 failures\n",
      "\u001b[92mINFO \u001b[0m:      configure_evaluate: strategy sampled 10 clients (out of 10)\n"
     ]
    },
    {
     "name": "stdout",
     "output_type": "stream",
     "text": [
      "\u001b[36m(ClientAppActor pid=55152)\u001b[0m [Client 4] evaluate, config: {}\n",
      "\u001b[36m(ClientAppActor pid=55152)\u001b[0m Client 4 loss 0.018300889333089192\n",
      "\u001b[36m(ClientAppActor pid=55152)\u001b[0m Client 4 accuracy 0.8783333333333333\n"
     ]
    },
    {
     "name": "stderr",
     "output_type": "stream",
     "text": [
      "\u001b[92mINFO \u001b[0m:      aggregate_evaluate: received 10 results and 0 failures\n",
      "\u001b[92mINFO \u001b[0m:      \n",
      "\u001b[92mINFO \u001b[0m:      [ROUND 8]\n",
      "\u001b[92mINFO \u001b[0m:      configure_fit: strategy sampled 10 clients (out of 10)\n"
     ]
    },
    {
     "name": "stdout",
     "output_type": "stream",
     "text": [
      "\u001b[36m(ClientAppActor pid=51232)\u001b[0m [Client 1] fit, config: {'proximal_mu': 1.0}\n",
      "\u001b[36m(ClientAppActor pid=52600)\u001b[0m Epoch 0: train loss 0.007948, accuracy 0.911481\u001b[32m [repeated 4x across cluster]\u001b[0m\n",
      "\u001b[36m(ClientAppActor pid=51232)\u001b[0m [Client 9] evaluate, config: {}\u001b[32m [repeated 9x across cluster]\u001b[0m\n",
      "\u001b[36m(ClientAppActor pid=51232)\u001b[0m Client 9 loss 0.01549257575844725\u001b[32m [repeated 9x across cluster]\u001b[0m\n",
      "\u001b[36m(ClientAppActor pid=51232)\u001b[0m Client 9 accuracy 0.8783333333333333\u001b[32m [repeated 9x across cluster]\u001b[0m\n",
      "\u001b[36m(ClientAppActor pid=54980)\u001b[0m [Client 4] fit, config: {'proximal_mu': 1.0}\u001b[32m [repeated 7x across cluster]\u001b[0m\n",
      "\u001b[36m(ClientAppActor pid=27268)\u001b[0m Epoch 2: train loss 0.003788, accuracy 0.953519\u001b[32m [repeated 19x across cluster]\u001b[0m\n",
      "\u001b[36m(ClientAppActor pid=54980)\u001b[0m Epoch 4: train loss 0.002171, accuracy 0.974074\u001b[32m [repeated 17x across cluster]\u001b[0m\n",
      "\u001b[36m(ClientAppActor pid=51232)\u001b[0m Epoch 7: train loss 0.001047, accuracy 0.988333\u001b[32m [repeated 18x across cluster]\u001b[0m\n",
      "\u001b[36m(ClientAppActor pid=51232)\u001b[0m Epoch 9: train loss 0.000861, accuracy 0.990370\u001b[32m [repeated 16x across cluster]\u001b[0m\n",
      "\u001b[36m(ClientAppActor pid=51232)\u001b[0m [Client 3] fit, config: {'proximal_mu': 1.0}\n",
      "\u001b[36m(ClientAppActor pid=51232)\u001b[0m Epoch 1: train loss 0.004747, accuracy 0.943519\u001b[32m [repeated 10x across cluster]\u001b[0m\n",
      "\u001b[36m(ClientAppActor pid=53444)\u001b[0m [Client 6] fit, config: {'proximal_mu': 1.0}\n",
      "\u001b[36m(ClientAppActor pid=51232)\u001b[0m Epoch 3: train loss 0.002751, accuracy 0.968889\u001b[32m [repeated 4x across cluster]\u001b[0m\n",
      "\u001b[36m(ClientAppActor pid=51232)\u001b[0m Epoch 5: train loss 0.001912, accuracy 0.979630\u001b[32m [repeated 4x across cluster]\u001b[0m\n",
      "\u001b[36m(ClientAppActor pid=51232)\u001b[0m Epoch 7: train loss 0.001585, accuracy 0.982778\u001b[32m [repeated 4x across cluster]\u001b[0m\n"
     ]
    },
    {
     "name": "stderr",
     "output_type": "stream",
     "text": [
      "\u001b[92mINFO \u001b[0m:      aggregate_fit: received 10 results and 0 failures\n",
      "\u001b[92mINFO \u001b[0m:      configure_evaluate: strategy sampled 10 clients (out of 10)\n"
     ]
    },
    {
     "name": "stdout",
     "output_type": "stream",
     "text": [
      "\u001b[36m(ClientAppActor pid=51232)\u001b[0m Epoch 9: train loss 0.001223, accuracy 0.986852\u001b[32m [repeated 4x across cluster]\u001b[0m\n",
      "\u001b[36m(ClientAppActor pid=53444)\u001b[0m [Client 8] evaluate, config: {}\n",
      "\u001b[36m(ClientAppActor pid=53444)\u001b[0m Client 8 loss 0.015696083307266236\n",
      "\u001b[36m(ClientAppActor pid=53444)\u001b[0m Client 8 accuracy 0.8983333333333333\n"
     ]
    },
    {
     "name": "stderr",
     "output_type": "stream",
     "text": [
      "\u001b[92mINFO \u001b[0m:      aggregate_evaluate: received 10 results and 0 failures\n",
      "\u001b[92mINFO \u001b[0m:      \n",
      "\u001b[92mINFO \u001b[0m:      [ROUND 9]\n",
      "\u001b[92mINFO \u001b[0m:      configure_fit: strategy sampled 10 clients (out of 10)\n"
     ]
    },
    {
     "name": "stdout",
     "output_type": "stream",
     "text": [
      "\u001b[36m(ClientAppActor pid=55340)\u001b[0m [Client 3] fit, config: {'proximal_mu': 1.0}\n",
      "\u001b[36m(ClientAppActor pid=52600)\u001b[0m Epoch 1: train loss 0.004182, accuracy 0.946481\u001b[32m [repeated 10x across cluster]\u001b[0m\n",
      "\u001b[36m(ClientAppActor pid=55340)\u001b[0m [Client 4] evaluate, config: {}\u001b[32m [repeated 9x across cluster]\u001b[0m\n",
      "\u001b[36m(ClientAppActor pid=55340)\u001b[0m Client 4 loss 0.019701233121256035\u001b[32m [repeated 9x across cluster]\u001b[0m\n",
      "\u001b[36m(ClientAppActor pid=55340)\u001b[0m Client 4 accuracy 0.8783333333333333\u001b[32m [repeated 9x across cluster]\u001b[0m\n",
      "\u001b[36m(ClientAppActor pid=55152)\u001b[0m [Client 7] fit, config: {'proximal_mu': 1.0}\u001b[32m [repeated 7x across cluster]\u001b[0m\n",
      "\u001b[36m(ClientAppActor pid=27268)\u001b[0m Epoch 3: train loss 0.002624, accuracy 0.969444\u001b[32m [repeated 18x across cluster]\u001b[0m\n",
      "\u001b[36m(ClientAppActor pid=51232)\u001b[0m Epoch 5: train loss 0.001725, accuracy 0.980000\u001b[32m [repeated 19x across cluster]\u001b[0m\n",
      "\u001b[36m(ClientAppActor pid=51232)\u001b[0m Epoch 7: train loss 0.001063, accuracy 0.988519\u001b[32m [repeated 18x across cluster]\u001b[0m\n",
      "\u001b[36m(ClientAppActor pid=55340)\u001b[0m [Client 8] fit, config: {'proximal_mu': 1.0}\n",
      "\u001b[36m(ClientAppActor pid=55340)\u001b[0m Epoch 0: train loss 0.008615, accuracy 0.909630\u001b[32m [repeated 17x across cluster]\u001b[0m\n",
      "\u001b[36m(ClientAppActor pid=52600)\u001b[0m [Client 1] fit, config: {'proximal_mu': 1.0}\n",
      "\u001b[36m(ClientAppActor pid=55340)\u001b[0m Epoch 2: train loss 0.003045, accuracy 0.964630\u001b[32m [repeated 4x across cluster]\u001b[0m\n",
      "\u001b[36m(ClientAppActor pid=55340)\u001b[0m Epoch 4: train loss 0.001957, accuracy 0.978704\u001b[32m [repeated 4x across cluster]\u001b[0m\n",
      "\u001b[36m(ClientAppActor pid=55340)\u001b[0m Epoch 6: train loss 0.001041, accuracy 0.990741\u001b[32m [repeated 4x across cluster]\u001b[0m\n",
      "\u001b[36m(ClientAppActor pid=55340)\u001b[0m Epoch 8: train loss 0.001454, accuracy 0.983704\u001b[32m [repeated 4x across cluster]\u001b[0m\n"
     ]
    },
    {
     "name": "stderr",
     "output_type": "stream",
     "text": [
      "\u001b[92mINFO \u001b[0m:      aggregate_fit: received 10 results and 0 failures\n",
      "\u001b[92mINFO \u001b[0m:      configure_evaluate: strategy sampled 10 clients (out of 10)\n"
     ]
    },
    {
     "name": "stdout",
     "output_type": "stream",
     "text": [
      "\u001b[36m(ClientAppActor pid=52600)\u001b[0m [Client 1] evaluate, config: {}\n",
      "\u001b[36m(ClientAppActor pid=52600)\u001b[0m Client 1 loss 0.011922904973228772\n",
      "\u001b[36m(ClientAppActor pid=52600)\u001b[0m Client 1 accuracy 0.9066666666666666\n"
     ]
    },
    {
     "name": "stderr",
     "output_type": "stream",
     "text": [
      "\u001b[92mINFO \u001b[0m:      aggregate_evaluate: received 10 results and 0 failures\n",
      "\u001b[92mINFO \u001b[0m:      \n",
      "\u001b[92mINFO \u001b[0m:      [ROUND 10]\n",
      "\u001b[92mINFO \u001b[0m:      configure_fit: strategy sampled 10 clients (out of 10)\n"
     ]
    },
    {
     "name": "stdout",
     "output_type": "stream",
     "text": [
      "\u001b[36m(ClientAppActor pid=55340)\u001b[0m [Client 1] fit, config: {'proximal_mu': 1.0}\n",
      "\u001b[36m(ClientAppActor pid=52600)\u001b[0m Epoch 9: train loss 0.001745, accuracy 0.978333\u001b[32m [repeated 3x across cluster]\u001b[0m\n",
      "\u001b[36m(ClientAppActor pid=55340)\u001b[0m [Client 9] evaluate, config: {}\u001b[32m [repeated 9x across cluster]\u001b[0m\n",
      "\u001b[36m(ClientAppActor pid=55340)\u001b[0m Client 9 loss 0.01605554251621167\u001b[32m [repeated 9x across cluster]\u001b[0m\n",
      "\u001b[36m(ClientAppActor pid=55340)\u001b[0m Client 9 accuracy 0.8816666666666667\u001b[32m [repeated 9x across cluster]\u001b[0m\n",
      "\u001b[36m(ClientAppActor pid=53776)\u001b[0m [Client 5] fit, config: {'proximal_mu': 1.0}\u001b[32m [repeated 7x across cluster]\u001b[0m\n",
      "\u001b[36m(ClientAppActor pid=53776)\u001b[0m Epoch 1: train loss 0.003469, accuracy 0.958519\u001b[32m [repeated 16x across cluster]\u001b[0m\n",
      "\u001b[36m(ClientAppActor pid=53776)\u001b[0m Epoch 3: train loss 0.001838, accuracy 0.979259\u001b[32m [repeated 16x across cluster]\u001b[0m\n",
      "\u001b[36m(ClientAppActor pid=52600)\u001b[0m Epoch 6: train loss 0.001484, accuracy 0.984444\u001b[32m [repeated 17x across cluster]\u001b[0m\n",
      "\u001b[36m(ClientAppActor pid=27268)\u001b[0m Epoch 8: train loss 0.001324, accuracy 0.985370\u001b[32m [repeated 19x across cluster]\u001b[0m\n",
      "\u001b[36m(ClientAppActor pid=52600)\u001b[0m [Client 3] fit, config: {'proximal_mu': 1.0}\n",
      "\u001b[36m(ClientAppActor pid=52600)\u001b[0m Epoch 0: train loss 0.007659, accuracy 0.921667\u001b[32m [repeated 13x across cluster]\u001b[0m\n",
      "\u001b[36m(ClientAppActor pid=53444)\u001b[0m [Client 6] fit, config: {'proximal_mu': 1.0}\n",
      "\u001b[36m(ClientAppActor pid=52600)\u001b[0m Epoch 2: train loss 0.002348, accuracy 0.971667\u001b[32m [repeated 4x across cluster]\u001b[0m\n",
      "\u001b[36m(ClientAppActor pid=53444)\u001b[0m Epoch 4: train loss 0.001653, accuracy 0.981852\u001b[32m [repeated 4x across cluster]\u001b[0m\n",
      "\u001b[36m(ClientAppActor pid=52600)\u001b[0m Epoch 6: train loss 0.001961, accuracy 0.975000\u001b[32m [repeated 4x across cluster]\u001b[0m\n",
      "\u001b[36m(ClientAppActor pid=53444)\u001b[0m Epoch 8: train loss 0.000809, accuracy 0.992222\u001b[32m [repeated 4x across cluster]\u001b[0m\n"
     ]
    },
    {
     "name": "stderr",
     "output_type": "stream",
     "text": [
      "\u001b[92mINFO \u001b[0m:      aggregate_fit: received 10 results and 0 failures\n",
      "\u001b[92mINFO \u001b[0m:      configure_evaluate: strategy sampled 10 clients (out of 10)\n"
     ]
    },
    {
     "name": "stdout",
     "output_type": "stream",
     "text": [
      "\u001b[36m(ClientAppActor pid=52600)\u001b[0m [Client 3] evaluate, config: {}\n",
      "\u001b[36m(ClientAppActor pid=52600)\u001b[0m Client 3 loss 0.014496358525939286\n",
      "\u001b[36m(ClientAppActor pid=52600)\u001b[0m Client 3 accuracy 0.9133333333333333\n"
     ]
    },
    {
     "name": "stderr",
     "output_type": "stream",
     "text": [
      "\u001b[92mINFO \u001b[0m:      aggregate_evaluate: received 10 results and 0 failures\n",
      "\u001b[92mINFO \u001b[0m:      \n",
      "\u001b[92mINFO \u001b[0m:      [SUMMARY]\n",
      "\u001b[92mINFO \u001b[0m:      Run finished 10 round(s) in 537.23s\n",
      "\u001b[92mINFO \u001b[0m:      \tHistory (loss, distributed):\n",
      "\u001b[92mINFO \u001b[0m:      \t\tround 1: 0.017741431723038353\n",
      "\u001b[92mINFO \u001b[0m:      \t\tround 2: 0.0116412945240736\n",
      "\u001b[92mINFO \u001b[0m:      \t\tround 3: 0.011660145744681358\n",
      "\u001b[92mINFO \u001b[0m:      \t\tround 4: 0.012247130823632081\n",
      "\u001b[92mINFO \u001b[0m:      \t\tround 5: 0.013334795873922606\n",
      "\u001b[92mINFO \u001b[0m:      \t\tround 6: 0.01435040913351501\n",
      "\u001b[92mINFO \u001b[0m:      \t\tround 7: 0.015437558490394925\n",
      "\u001b[92mINFO \u001b[0m:      \t\tround 8: 0.016105129582807423\n",
      "\u001b[92mINFO \u001b[0m:      \t\tround 9: 0.016821324969952305\n",
      "\u001b[92mINFO \u001b[0m:      \t\tround 10: 0.017561817697094133\n",
      "\u001b[92mINFO \u001b[0m:      \n"
     ]
    },
    {
     "data": {
      "text/plain": [
       "History (loss, distributed):\n",
       "\tround 1: 0.017741431723038353\n",
       "\tround 2: 0.0116412945240736\n",
       "\tround 3: 0.011660145744681358\n",
       "\tround 4: 0.012247130823632081\n",
       "\tround 5: 0.013334795873922606\n",
       "\tround 6: 0.01435040913351501\n",
       "\tround 7: 0.015437558490394925\n",
       "\tround 8: 0.016105129582807423\n",
       "\tround 9: 0.016821324969952305\n",
       "\tround 10: 0.017561817697094133"
      ]
     },
     "execution_count": 17,
     "metadata": {},
     "output_type": "execute_result"
    }
   ],
   "source": [
    "#strategy_fed_avg = FedAvgCustom()\n",
    "#strategy_fed_prox = fl.server.strategy.FedProx(proximal_mu=1.0)\n",
    "strategy_fed_prox = FedProxCustom()\n",
    "\n",
    "fl.simulation.start_simulation(\n",
    "    client_fn=client_fn,\n",
    "    num_clients=10,\n",
    "    config=fl.server.ServerConfig(num_rounds=10),\n",
    "    client_resources=client_resources,\n",
    "    strategy= strategy_fed_prox,\n",
    ")"
   ]
  },
  {
   "cell_type": "code",
   "execution_count": 18,
   "metadata": {},
   "outputs": [],
   "source": [
    "import matplotlib.pyplot as plt\n",
    "\n",
    "\n",
    "def plot_metricss(client_metrics, rounds: int = 10):\n",
    "    # client_metrics = strategy.client_metrics\n",
    "    client_ids = list(client_metrics.keys())\n",
    "    client_ids.sort()\n",
    "\n",
    "    fig, axs = plt.subplots(1, 2, figsize=(15, 5))\n",
    "\n",
    "    round_max_losses: List[Tuple[int, float]] = []\n",
    "    round_max_accuracy: List[Tuple[int, float]] = []\n",
    "    round_min_losses: List[Tuple[int, float]] = []\n",
    "    round_min_accuracy: List[Tuple[int, float]] = []\n",
    "\n",
    "    for round in range(1, rounds+1):\n",
    "        metrics_round = [(metrics.epoch, metrics.loss, metrics.accuracy) for metrics_list in client_metrics.values()\n",
    "                       for metrics in metrics_list if metrics.round == round]\n",
    "        if metrics_round:\n",
    "            min_loss = min(metrics_round, key=lambda x: x[1])\n",
    "            max_loss = max(metrics_round, key=lambda x: x[1])\n",
    "            round_max_losses.append(max_loss)\n",
    "            round_min_losses.append(min_loss)\n",
    "            min_accuracy = min(metrics_round, key=lambda x: x[2])\n",
    "            max_accuracy = max(metrics_round, key=lambda x: x[2])\n",
    "            round_max_accuracy.append(max_accuracy)\n",
    "            round_min_accuracy.append(min_accuracy)\n",
    "\n",
    "    for cid in client_ids:\n",
    "        epochs = [metric.epoch for metric in client_metrics[cid]]\n",
    "        losses = [metric.loss for metric in client_metrics[cid]]\n",
    "        axs[0].plot(epochs, losses,label=f\"Client {cid}: {len(strategy_fed_prox.client_metrics[cid])}\")\n",
    "\n",
    "    max_epochs = [round_max[0] for round_max in round_max_losses]\n",
    "    max_losses = [round_max[1] for round_max in round_max_losses]\n",
    "    min_epochs = [round_min[0] for round_min in round_min_losses]\n",
    "    min_losses = [round_min[1] for round_min in round_min_losses]\n",
    "    axs[0].plot(max_epochs, max_losses, linestyle='dashed')\n",
    "    axs[0].plot(min_epochs, min_losses, linestyle='dashed')\n",
    "    axs[0].set_title(\"Individual Clients Losses\")\n",
    "    axs[0].set_xlabel(\"Epochs\")\n",
    "    axs[0].set_ylabel(\"Loss\")\n",
    "    axs[0].legend(loc='upper right', fontsize='x-small', shadow=True,)\n",
    "    axs[0].grid()\n",
    "    \n",
    "\n",
    "\n",
    "    for cid in client_ids:\n",
    "        epochs = [metric.epoch for metric in client_metrics[cid]]\n",
    "        accuracies = [metric.accuracy for metric in client_metrics[cid]]\n",
    "        axs[1].plot(epochs, accuracies, label=f\"Client {cid}: {len(client_metrics[cid])}\")\n",
    "\n",
    "    max_epochs = [round_max[0] for round_max in round_max_accuracy]\n",
    "    max_accuracies = [round_max[2] for round_max in round_max_accuracy]\n",
    "    min_epochs = [round_min[0] for round_min in round_min_accuracy]\n",
    "    min_accuracies = [round_min[2] for round_min in round_min_accuracy]\n",
    "    axs[1].plot(max_epochs, max_accuracies, linestyle='dashed')\n",
    "    axs[1].plot(min_epochs, min_accuracies, linestyle='dashed')\n",
    "    axs[1].set_title(\"Individual Clients Accuracies\")\n",
    "\n",
    "    axs[1].set_xlabel(\"Epochs\")\n",
    "    axs[1].set_ylabel(\"Accuracy\")\n",
    "    axs[1].legend(loc='lower right',fontsize='x-small', shadow=True,)\n",
    "    axs[1].grid()\n",
    "\n",
    "    plt.show()\n",
    "\n",
    "#plot_metrics(strategy.client_metrics)"
   ]
  },
  {
   "cell_type": "code",
   "execution_count": 19,
   "metadata": {},
   "outputs": [
    {
     "name": "stdout",
     "output_type": "stream",
     "text": [
      "\u001b[36m(ClientAppActor pid=52600)\u001b[0m Client 7 loss 0.01766388079772393\n",
      "\u001b[36m(ClientAppActor pid=52600)\u001b[0m Client 7 accuracy 0.885\n"
     ]
    },
    {
     "data": {
      "image/png": "[encoded data removed]",
      "text/plain": [
       "<Figure size 1500x500 with 2 Axes>"
      ]
     },
     "metadata": {},
     "output_type": "display_data"
    }
   ],
   "source": [
    "plot_metricss(strategy_fed_prox.client_metrics)\n"
   ]
  },
  {
   "cell_type": "code",
   "execution_count": 20,
   "metadata": {},
   "outputs": [
    {
     "data": {
      "image/png": "[encoded data removed]",
      "text/plain": [
       "<Figure size 1400x800 with 1 Axes>"
      ]
     },
     "metadata": {},
     "output_type": "display_data"
    }
   ],
   "source": [
    "plot_times(strategy_fed_prox.client_training_times)"
   ]
  },
  {
   "cell_type": "code",
   "execution_count": null,
   "metadata": {},
   "outputs": [],
   "source": []
  }
 ],
 "metadata": {
  "colab": {
   "provenance": []
  },
  "kernelspec": {
   "display_name": "newflwr",
   "language": "python",
   "name": "python3"
  },
  "language_info": {
   "codemirror_mode": {
    "name": "ipython",
    "version": 3
   },
   "file_extension": ".py",
   "mimetype": "text/x-python",
   "name": "python",
   "nbconvert_exporter": "python",
   "pygments_lexer": "ipython3",
   "version": "3.12.4"
  }
 },
 "nbformat": 4,
 "nbformat_minor": 0
}
