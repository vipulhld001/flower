{
  "cells": [
    {
      "cell_type": "code",
      "execution_count": 1,
      "metadata": {
        "colab": {
          "base_uri": "https://localhost:8080/"
        },
        "id": "OZdR1WXDEGxY",
        "outputId": "34c4f998-2ca0-4252-e4f7-424c286a9224"
      },
      "outputs": [
        {
          "name": "stdout",
          "output_type": "stream",
          "text": [
            "\u001b[2K     \u001b[90m━━━━━━━━━━━━━━━━━━━━━━━━━━━━━━━━━━━━━━━━\u001b[0m \u001b[32m330.1/330.1 kB\u001b[0m \u001b[31m4.8 MB/s\u001b[0m eta \u001b[36m0:00:00\u001b[0m\n",
            "\u001b[2K     \u001b[90m━━━━━━━━━━━━━━━━━━━━━━━━━━━━━━━━━━━━━━━━\u001b[0m \u001b[32m294.6/294.6 kB\u001b[0m \u001b[31m11.2 MB/s\u001b[0m eta \u001b[36m0:00:00\u001b[0m\n",
            "\u001b[2K     \u001b[90m━━━━━━━━━━━━━━━━━━━━━━━━━━━━━━━━━━━━━━━━\u001b[0m \u001b[32m2.1/2.1 MB\u001b[0m \u001b[31m31.7 MB/s\u001b[0m eta \u001b[36m0:00:00\u001b[0m\n",
            "\u001b[2K     \u001b[90m━━━━━━━━━━━━━━━━━━━━━━━━━━━━━━━━━━━━━━━━\u001b[0m \u001b[32m3.1/3.1 MB\u001b[0m \u001b[31m49.0 MB/s\u001b[0m eta \u001b[36m0:00:00\u001b[0m\n",
            "\u001b[2K     \u001b[90m━━━━━━━━━━━━━━━━━━━━━━━━━━━━━━━━━━━━━━━━\u001b[0m \u001b[32m56.9/56.9 MB\u001b[0m \u001b[31m9.9 MB/s\u001b[0m eta \u001b[36m0:00:00\u001b[0m\n",
            "\u001b[?25h\u001b[31mERROR: pip's dependency resolver does not currently take into account all the packages that are installed. This behaviour is the source of the following dependency conflicts.\n",
            "tensorflow-metadata 1.15.0 requires protobuf<4.21,>=3.20.3; python_version < \"3.11\", but you have protobuf 4.25.3 which is incompatible.\u001b[0m\u001b[31m\n",
            "\u001b[0m"
          ]
        }
      ],
      "source": [
        "!pip install -q flwr[simulation] torch torchvision"
      ]
    },
    {
      "cell_type": "code",
      "execution_count": 1,
      "metadata": {
        "colab": {
          "base_uri": "https://localhost:8080/"
        },
        "id": "obhFyleoEM9F",
        "outputId": "99c58edc-bb25-469f-b692-769941f695ce"
      },
      "outputs": [
        {
          "name": "stdout",
          "output_type": "stream",
          "text": [
            "Training on cuda using PyTorch 2.3.1 and Flower 1.9.0\n"
          ]
        }
      ],
      "source": [
        "from collections import OrderedDict\n",
        "from typing import Dict, List, Optional, Tuple\n",
        "\n",
        "import numpy as np\n",
        "import torch\n",
        "import torch.nn as nn\n",
        "import torch.nn.functional as F\n",
        "import torchvision.transforms as transforms\n",
        "from torch.utils.data import DataLoader, random_split\n",
        "from torchvision.datasets import CIFAR10\n",
        "import time\n",
        "import flwr as fl\n",
        "from scipy import stats as st\n",
        "\n",
        "DEVICE = torch.device(\"cuda\")  # Try \"cuda\" to train on GPU\n",
        "print(\n",
        "    f\"Training on {DEVICE} using PyTorch {torch.__version__} and Flower {fl.__version__}\"\n",
        ")"
      ]
    },
    {
      "cell_type": "code",
      "execution_count": 2,
      "metadata": {},
      "outputs": [
        {
          "name": "stdout",
          "output_type": "stream",
          "text": [
            "Gen RAM Free: 117.9 GB  | Proc size: 505.2 MB\n",
            "GPU RAM Free: 14793MB | Used: 1375MB | Util   8% | Total 16376MB\n"
          ]
        }
      ],
      "source": [
        "import psutil\n",
        "import humanize\n",
        "import os\n",
        "import GPUtil as GPU\n",
        "GPUs = GPU.getGPUs()\n",
        "# XXX: only one GPU on Colab and isn’t guaranteed\n",
        "gpu = GPUs[0]\n",
        "def printm():\n",
        "   process = psutil.Process(os.getpid())\n",
        "   print(\"Gen RAM Free: \" + humanize.naturalsize( psutil.virtual_memory().available ), \" | Proc size: \" + humanize.naturalsize( process.memory_info().rss))\n",
        "   print(\"GPU RAM Free: {0:.0f}MB | Used: {1:.0f}MB | Util {2:3.0f}% | Total {3:.0f}MB\".format(gpu.memoryFree, gpu.memoryUsed, gpu.memoryUtil*100, gpu.memoryTotal))\n",
        "printm()"
      ]
    },
    {
      "cell_type": "code",
      "execution_count": 3,
      "metadata": {
        "colab": {
          "base_uri": "https://localhost:8080/"
        },
        "id": "T2L0M1hDEQ54",
        "outputId": "d7c63f7f-13e7-4f97-ff2d-97443878fa29"
      },
      "outputs": [
        {
          "name": "stdout",
          "output_type": "stream",
          "text": [
            "Files already downloaded and verified\n",
            "Files already downloaded and verified\n"
          ]
        }
      ],
      "source": [
        "NUM_CLIENTS = 10\n",
        "\n",
        "\n",
        "def load_datasets(num_clients: int):\n",
        "    # Download and transform CIFAR-10 (train and test)\n",
        "    transform = transforms.Compose(\n",
        "        [transforms.ToTensor(), transforms.Normalize((0.5, 0.5, 0.5), (0.5, 0.5, 0.5))]\n",
        "    )\n",
        "    trainset = CIFAR10(\"./dataset\", train=True, download=True, transform=transform)\n",
        "    testset = CIFAR10(\"./dataset\", train=False, download=True, transform=transform)\n",
        "\n",
        "    # Split training set into `num_clients` partitions to simulate different local datasets\n",
        "    partition_size = len(trainset) // num_clients\n",
        "    lengths = [partition_size] * num_clients\n",
        "    datasets = random_split(trainset, lengths, torch.Generator().manual_seed(42))\n",
        "\n",
        "    # Split each partition into train/val and create DataLoader\n",
        "    trainloaders = []\n",
        "    valloaders = []\n",
        "    for ds in datasets:\n",
        "        len_val = len(ds) // 10  # 10 % validation set\n",
        "        len_train = len(ds) - len_val\n",
        "        lengths = [len_train, len_val]\n",
        "        ds_train, ds_val = random_split(ds, lengths, torch.Generator().manual_seed(42))\n",
        "        trainloaders.append(DataLoader(ds_train, batch_size=32, shuffle=True))\n",
        "        valloaders.append(DataLoader(ds_val, batch_size=32))\n",
        "    testloader = DataLoader(testset, batch_size=32)\n",
        "    return trainloaders, valloaders, testloader\n",
        "\n",
        "\n",
        "trainloaders, valloaders, testloader = load_datasets(NUM_CLIENTS)"
      ]
    },
    {
      "cell_type": "code",
      "execution_count": 4,
      "metadata": {
        "id": "4q9gZPKEEVZ0"
      },
      "outputs": [],
      "source": [
        "class Net(nn.Module):\n",
        "    def __init__(self) -> None:\n",
        "        super(Net, self).__init__()\n",
        "        self.conv1 = nn.Conv2d(3, 6, 5)\n",
        "        self.pool = nn.MaxPool2d(2, 2)\n",
        "        self.conv2 = nn.Conv2d(6, 16, 5)\n",
        "        self.fc1 = nn.Linear(16 * 5 * 5, 120)\n",
        "        self.fc2 = nn.Linear(120, 84)\n",
        "        self.fc3 = nn.Linear(84, 10)\n",
        "\n",
        "    def forward(self, x: torch.Tensor) -> torch.Tensor:\n",
        "        x = self.pool(F.relu(self.conv1(x)))\n",
        "        x = self.pool(F.relu(self.conv2(x)))\n",
        "        x = x.view(-1, 16 * 5 * 5)\n",
        "        x = F.relu(self.fc1(x))\n",
        "        x = F.relu(self.fc2(x))\n",
        "        x = self.fc3(x)\n",
        "        return x\n",
        "\n",
        "\n",
        "def get_parameters(net) -> List[np.ndarray]:\n",
        "    return [val.cpu().numpy() for _, val in net.state_dict().items()]\n",
        "\n",
        "\n",
        "def set_parameters(net, parameters: List[np.ndarray]):\n",
        "    params_dict = zip(net.state_dict().keys(), parameters)\n",
        "    state_dict = OrderedDict({k: torch.Tensor(v) for k, v in params_dict})\n",
        "    net.load_state_dict(state_dict, strict=True)\n",
        "\n",
        "\n",
        "def train(net, trainloader, epochs: int):\n",
        "    \"\"\"Train the network on the training set.\"\"\"\n",
        "    criterion = torch.nn.CrossEntropyLoss()\n",
        "    optimizer = torch.optim.Adam(net.parameters())\n",
        "    net.train()\n",
        "    for epoch in range(epochs):  # Use the passed 'epochs' variable here\n",
        "        correct, total, epoch_loss = 0, 0, 0.0\n",
        "        for images, labels in trainloader:\n",
        "            images, labels = images.to(DEVICE), labels.to(DEVICE)\n",
        "            optimizer.zero_grad()\n",
        "            outputs = net(images)\n",
        "            loss = criterion(outputs, labels)\n",
        "            loss.backward()\n",
        "            optimizer.step()\n",
        "            # Metrics\n",
        "            epoch_loss += loss.item()  # Make sure to call .item() to get the scalar value\n",
        "            total += labels.size(0)\n",
        "            correct += (torch.max(outputs.data, 1)[1] == labels).sum().item()\n",
        "        epoch_loss /= len(trainloader.dataset)\n",
        "        epoch_acc = correct / total\n",
        "        print(f\"Epoch {epoch}: train loss {epoch_loss:.6f}, accuracy {epoch_acc:.6f}\")\n",
        "\n",
        "\n",
        "\n",
        "def test(net, testloader):\n",
        "    \"\"\"Evaluate the network on the entire test set.\"\"\"\n",
        "    criterion = torch.nn.CrossEntropyLoss()\n",
        "    correct, total, loss = 0, 0, 0.0\n",
        "    net.eval()\n",
        "    with torch.no_grad():\n",
        "        for images, labels in testloader:\n",
        "            images, labels = images.to(DEVICE), labels.to(DEVICE)\n",
        "            outputs = net(images)\n",
        "            loss += criterion(outputs, labels).item()\n",
        "            _, predicted = torch.max(outputs.data, 1)\n",
        "            total += labels.size(0)\n",
        "            correct += (predicted == labels).sum().item()\n",
        "    loss /= len(testloader.dataset)\n",
        "    accuracy = correct / total\n",
        "    return loss, accuracy"
      ]
    },
    {
      "cell_type": "code",
      "execution_count": 5,
      "metadata": {
        "id": "DpDR8IdSEX0E"
      },
      "outputs": [],
      "source": [
        "class FlowerClient(fl.client.NumPyClient):\n",
        "    def __init__(self, cid, net, trainloader, valloader):\n",
        "        self.cid = cid\n",
        "        self.net = net\n",
        "        self.trainloader = trainloader\n",
        "        self.valloader = valloader\n",
        "\n",
        "    def get_parameters(self):\n",
        "        print(f\"[Client {self.cid}] get_parameters\")\n",
        "        return get_parameters(self.net)\n",
        "\n",
        "    def fit(self, parameters, config):\n",
        "        print(f\"[Client {self.cid}] fit, config: {config}\")\n",
        "        set_parameters(self.net, parameters)\n",
        "        epochs = config.get(\"epochs\", 1)\n",
        "        start_time = time.time()  # Start time measurement\n",
        "        train(self.net, self.trainloader, epochs)\n",
        "        training_time = time.time() - start_time  # Calculate duration\n",
        "        print(f\"Training time for Client {self.cid}: {training_time:.2f} seconds\")\n",
        "        return get_parameters(self.net), len(self.trainloader), {\"training_time\": training_time}\n",
        "\n",
        "\n",
        "\n",
        "    def evaluate(self, parameters, config):\n",
        "        print(f\"[Client {self.cid}] evaluate, config: {config}\")\n",
        "        set_parameters(self.net, parameters)\n",
        "        loss, accuracy = test(self.net, self.valloader)\n",
        "        return float(loss), len(self.valloader), {\"accuracy\": float(accuracy)}\n",
        "\n",
        "\n",
        "def client_fn(cid) -> FlowerClient:\n",
        "    net = Net().to(DEVICE)\n",
        "    trainloader = trainloaders[int(cid)]\n",
        "    valloader = valloaders[int(cid)]\n",
        "    return FlowerClient(cid, net, trainloader, valloader).to_client()"
      ]
    },
    {
      "cell_type": "code",
      "execution_count": 12,
      "metadata": {
        "id": "mSYL7mrZE21l"
      },
      "outputs": [],
      "source": [
        "from typing import Callable, Union\n",
        "\n",
        "from flwr.common import (\n",
        "    EvaluateIns,\n",
        "    EvaluateRes,\n",
        "    FitIns,\n",
        "    FitRes,\n",
        "    MetricsAggregationFn,\n",
        "    NDArrays,\n",
        "    Parameters,\n",
        "    Scalar,\n",
        "    ndarrays_to_parameters,\n",
        "    parameters_to_ndarrays,\n",
        ")\n",
        "from flwr.server.client_manager import ClientManager\n",
        "from flwr.server.client_proxy import ClientProxy\n",
        "from flwr.server.strategy.aggregate import aggregate, weighted_loss_avg\n",
        "\n",
        "\n",
        "class FedCustom(fl.server.strategy.Strategy):\n",
        "    def __init__(\n",
        "        self,\n",
        "        fraction_fit: float = 1.0,\n",
        "        fraction_evaluate: float = 1.0,\n",
        "        min_fit_clients: int = 2,\n",
        "        min_evaluate_clients: int = 2,\n",
        "        min_available_clients: int = 2,\n",
        "    ) -> None:\n",
        "        super().__init__()\n",
        "        self.fraction_fit = fraction_fit\n",
        "        self.fraction_evaluate = fraction_evaluate\n",
        "        self.min_fit_clients = min_fit_clients\n",
        "        self.min_evaluate_clients = min_evaluate_clients\n",
        "        self.min_available_clients = min_available_clients\n",
        "        self.client_training_times = {}\n",
        "    def __repr__(self) -> str:\n",
        "        return \"FedCustom\"\n",
        "\n",
        "    def initialize_parameters(\n",
        "        self, client_manager: ClientManager\n",
        "    ) -> Optional[Parameters]:\n",
        "        \"\"\"Initialize global model parameters.\"\"\"\n",
        "        net = Net()\n",
        "        ndarrays = get_parameters(net)\n",
        "        return fl.common.ndarrays_to_parameters(ndarrays)\n",
        "\n",
        "    def configure_fit(self, server_round: int, parameters: Parameters, client_manager: ClientManager):\n",
        "        sample_size, min_num_clients = self.num_fit_clients(client_manager.num_available())\n",
        "        clients = client_manager.sample(num_clients=sample_size, min_num_clients=min_num_clients)\n",
        "        epochs_sc = 10\n",
        "        \n",
        "\n",
        "        standard_config = {\"lr\": 0.001, \"epochs\": epochs_sc}\n",
        "        \n",
        "        fit_configurations = []\n",
        "        mode_time = []\n",
        "        \n",
        "        for client in clients:\n",
        "            last_time = self.client_training_times.get(client.cid, 0)\n",
        "            print(f\"This is ths last time not a fantasy {last_time}and {client.cid}habhhahah\")\n",
        "            \n",
        "            mode_time.append(round(last_time,2))\n",
        "            print(f\"this is tehb mode time {mode_time}\")\n",
        "\n",
        "        modest_value = st.mode(np.array(mode_time))\n",
        "        print(f\"Yeh h modest valueueueueu{modest_value}\")\n",
        "        print(f\"yeh h server round {server_round}\")\n",
        "        min_value, max_value= np.min(modest_value),np.max(modest_value)\n",
        "        print(f\"this is the min value {min_value} and this is the max value {max_value}\")\n",
        "        \n",
        "        if min_value == max_value:\n",
        "            epochs_hl = epochs_sc   \n",
        "        else:\n",
        "            epochs_hl = int((max_value-min_value)/max_value * epochs_sc) \n",
        "\n",
        "        higher_lr_config = {\"lr\": 0.0001, \"epochs\": epochs_hl}\n",
        "        print(f\"The epochs for the higher lr is {epochs_hl} and the epochs for the standard lr is {epochs_sc}\")\n",
        "\n",
        "\n",
        "\n",
        "\n",
        "        for client in clients:\n",
        "            # Choose config based on the previous training time\n",
        "            last_time = self.client_training_times.get(client.cid, 0)  # Default to 0 if no time recorded\n",
        "            print(f\"This is the last time {last_time}\")\n",
        "            \n",
        "\n",
        "\n",
        "            config_to_use = standard_config if last_time < modest_value.mode else higher_lr_config\n",
        "            fit_configurations.append((client, FitIns(parameters, config_to_use)))\n",
        "\n",
        "        return fit_configurations\n",
        "\n",
        "    def aggregate_fit(\n",
        "        self,\n",
        "        server_round: int,\n",
        "        results: List[Tuple[ClientProxy, FitRes]],\n",
        "        failures: List[Union[Tuple[ClientProxy, FitRes], BaseException]],\n",
        "    ) -> Tuple[Optional[Parameters], Dict[str, Scalar]]:\n",
        "        \"\"\"Aggregate fit results using weighted average.\"\"\"\n",
        "        for client, fit_res in results:\n",
        "            # Update training times for each client\n",
        "            self.client_training_times[client.cid] = fit_res.metrics.get(\"training_time\", 0)\n",
        "        weights_results = [\n",
        "            (parameters_to_ndarrays(fit_res.parameters), fit_res.num_examples)\n",
        "            for _, fit_res in results\n",
        "        ]\n",
        "        parameters_aggregated = ndarrays_to_parameters(aggregate(weights_results))\n",
        "        metrics_aggregated = {}\n",
        "        return parameters_aggregated, metrics_aggregated\n",
        "\n",
        "\n",
        "    def configure_evaluate(\n",
        "        self, server_round: int, parameters: Parameters, client_manager: ClientManager\n",
        "    ) -> List[Tuple[ClientProxy, EvaluateIns]]:\n",
        "        \"\"\"Configure the next round of evaluation.\"\"\"\n",
        "        if self.fraction_evaluate == 0.0:\n",
        "            return []\n",
        "        config = {}\n",
        "        evaluate_ins = EvaluateIns(parameters, config)\n",
        "\n",
        "        # Sample clients\n",
        "        sample_size, min_num_clients = self.num_evaluation_clients(\n",
        "            client_manager.num_available()\n",
        "        )\n",
        "        clients = client_manager.sample(\n",
        "            num_clients=sample_size, min_num_clients=min_num_clients\n",
        "        )\n",
        "\n",
        "        # Return client/config pairs\n",
        "        return [(client, evaluate_ins) for client in clients]\n",
        "\n",
        "    def aggregate_evaluate(\n",
        "        self,\n",
        "        server_round: int,\n",
        "        results: List[Tuple[ClientProxy, EvaluateRes]],\n",
        "        failures: List[Union[Tuple[ClientProxy, EvaluateRes], BaseException]],\n",
        "    ) -> Tuple[Optional[float], Dict[str, Scalar]]:\n",
        "        \"\"\"Aggregate evaluation losses using weighted average.\"\"\"\n",
        "\n",
        "        if not results:\n",
        "            return None, {}\n",
        "\n",
        "        loss_aggregated = weighted_loss_avg(\n",
        "            [\n",
        "                (evaluate_res.num_examples, evaluate_res.loss)\n",
        "                for _, evaluate_res in results\n",
        "            ]\n",
        "        )\n",
        "        metrics_aggregated = {}\n",
        "        return loss_aggregated, metrics_aggregated\n",
        "\n",
        "    def evaluate(\n",
        "        self, server_round: int, parameters: Parameters\n",
        "    ) -> Optional[Tuple[float, Dict[str, Scalar]]]:\n",
        "        \"\"\"Evaluate global model parameters using an evalua\n",
        "        tion function.\"\"\"\n",
        "\n",
        "        # Let's assume we won't perform the global model evaluation on the server side.\n",
        "        return None\n",
        "\n",
        "    def num_fit_clients(self, num_available_clients: int) -> Tuple[int, int]:\n",
        "        \"\"\"Return sample size and required number of clients.\"\"\"\n",
        "        num_clients = int(num_available_clients * self.fraction_fit)\n",
        "        return max(num_clients, self.min_fit_clients), self.min_available_clients\n",
        "\n",
        "    def num_evaluation_clients(self, num_available_clients: int) -> Tuple[int, int]:\n",
        "        \"\"\"Use a fraction of available clients for evaluation.\"\"\"\n",
        "        num_clients = int(num_available_clients * self.fraction_evaluate)\n",
        "        return max(num_clients, self.min_evaluate_clients), self.min_available_clients"
      ]
    },
    {
      "cell_type": "code",
      "execution_count": 13,
      "metadata": {},
      "outputs": [],
      "source": [
        "if DEVICE.type == \"cuda\":\n",
        "    # Use a single client to train the global model\n",
        "    client_resources = {\"num_gpus\": .25, \"num_cpus\": 2} "
      ]
    },
    {
      "cell_type": "code",
      "execution_count": 14,
      "metadata": {
        "colab": {
          "base_uri": "https://localhost:8080/"
        },
        "id": "FvJM3bH4HDth",
        "outputId": "a273cb4a-ef0a-40e3-f789-e8f1f37366ce"
      },
      "outputs": [
        {
          "name": "stderr",
          "output_type": "stream",
          "text": [
            "\u001b[92mINFO \u001b[0m:      Starting Flower simulation, config: num_rounds=3, no round_timeout\n",
            "2024-07-08 11:48:19,304\tINFO worker.py:1771 -- Started a local Ray instance.\n",
            "\u001b[92mINFO \u001b[0m:      Flower VCE: Ray initialized with resources: {'node:__internal_head__': 1.0, 'CPU': 32.0, 'object_store_memory': 35173612339.0, 'accelerator_type:RTX': 1.0, 'node:127.0.0.1': 1.0, 'GPU': 1.0, 'memory': 72071762125.0}\n",
            "\u001b[92mINFO \u001b[0m:      Optimize your simulation with Flower VCE: https://flower.ai/docs/framework/how-to-run-simulations.html\n",
            "\u001b[92mINFO \u001b[0m:      Flower VCE: Resources for each Virtual Client: {'num_gpus': 0.25, 'num_cpus': 2}\n",
            "\u001b[92mINFO \u001b[0m:      Flower VCE: Creating VirtualClientEngineActorPool with 4 actors\n",
            "\u001b[92mINFO \u001b[0m:      [INIT]\n",
            "\u001b[92mINFO \u001b[0m:      Using initial global parameters provided by strategy\n",
            "\u001b[92mINFO \u001b[0m:      Evaluating initial global parameters\n",
            "\u001b[92mINFO \u001b[0m:      \n",
            "\u001b[92mINFO \u001b[0m:      [ROUND 1]\n",
            "\u001b[92mINFO \u001b[0m:      configure_fit: strategy sampled 10 clients (out of 10)\n"
          ]
        },
        {
          "name": "stdout",
          "output_type": "stream",
          "text": [
            "This is ths last time not a fantasy 0and 8habhhahah\n",
            "this is tehb mode time [0]\n",
            "This is ths last time not a fantasy 0and 3habhhahah\n",
            "this is tehb mode time [0, 0]\n",
            "This is ths last time not a fantasy 0and 2habhhahah\n",
            "this is tehb mode time [0, 0, 0]\n",
            "This is ths last time not a fantasy 0and 9habhhahah\n",
            "this is tehb mode time [0, 0, 0, 0]\n",
            "This is ths last time not a fantasy 0and 5habhhahah\n",
            "this is tehb mode time [0, 0, 0, 0, 0]\n",
            "This is ths last time not a fantasy 0and 4habhhahah\n",
            "this is tehb mode time [0, 0, 0, 0, 0, 0]\n",
            "This is ths last time not a fantasy 0and 0habhhahah\n",
            "this is tehb mode time [0, 0, 0, 0, 0, 0, 0]\n",
            "This is ths last time not a fantasy 0and 1habhhahah\n",
            "this is tehb mode time [0, 0, 0, 0, 0, 0, 0, 0]\n",
            "This is ths last time not a fantasy 0and 7habhhahah\n",
            "this is tehb mode time [0, 0, 0, 0, 0, 0, 0, 0, 0]\n",
            "This is ths last time not a fantasy 0and 6habhhahah\n",
            "this is tehb mode time [0, 0, 0, 0, 0, 0, 0, 0, 0, 0]\n",
            "Yeh h modest valueueueueuModeResult(mode=0, count=10)\n",
            "yeh h server round 1\n",
            "this is the min value 0 and this is the max value 10\n",
            "The epochs for the higher lr is 10 and the epochs for the standard lr is 10\n",
            "This is the last time 0\n",
            "This is the last time 0\n",
            "This is the last time 0\n",
            "This is the last time 0\n",
            "This is the last time 0\n",
            "This is the last time 0\n",
            "This is the last time 0\n",
            "This is the last time 0\n",
            "This is the last time 0\n",
            "This is the last time 0\n",
            "\u001b[36m(ClientAppActor pid=15364)\u001b[0m [Client 8] fit, config: {'lr': 0.0001, 'epochs': 10}\n",
            "\u001b[36m(ClientAppActor pid=15364)\u001b[0m Epoch 0: train loss 0.063680, accuracy 0.242000\n",
            "\u001b[36m(ClientAppActor pid=15064)\u001b[0m [Client 9] fit, config: {'lr': 0.0001, 'epochs': 10}\u001b[32m [repeated 3x across cluster]\u001b[0m\n",
            "\u001b[36m(ClientAppActor pid=15064)\u001b[0m Epoch 1: train loss 0.056804, accuracy 0.337556\u001b[32m [repeated 9x across cluster]\u001b[0m\n",
            "\u001b[36m(ClientAppActor pid=16844)\u001b[0m Epoch 4: train loss 0.046450, accuracy 0.461111\u001b[32m [repeated 9x across cluster]\u001b[0m\n",
            "\u001b[36m(ClientAppActor pid=15064)\u001b[0m Epoch 6: train loss 0.043170, accuracy 0.494667\u001b[32m [repeated 11x across cluster]\u001b[0m\n",
            "\u001b[36m(ClientAppActor pid=15364)\u001b[0m Training time for Client 8: 22.21 seconds\n",
            "\u001b[36m(ClientAppActor pid=15364)\u001b[0m [Client 5] fit, config: {'lr': 0.0001, 'epochs': 10}\n",
            "\u001b[36m(ClientAppActor pid=15064)\u001b[0m Epoch 8: train loss 0.038717, accuracy 0.546222\u001b[32m [repeated 8x across cluster]\u001b[0m\n",
            "\u001b[36m(ClientAppActor pid=15064)\u001b[0m Training time for Client 9: 22.69 seconds\u001b[32m [repeated 3x across cluster]\u001b[0m\n",
            "\u001b[36m(ClientAppActor pid=15064)\u001b[0m [Client 1] fit, config: {'lr': 0.0001, 'epochs': 10}\u001b[32m [repeated 3x across cluster]\u001b[0m\n",
            "\u001b[36m(ClientAppActor pid=15364)\u001b[0m Epoch 2: train loss 0.052554, accuracy 0.393556\u001b[32m [repeated 9x across cluster]\u001b[0m\n",
            "\u001b[36m(ClientAppActor pid=20224)\u001b[0m Epoch 4: train loss 0.047329, accuracy 0.447111\u001b[32m [repeated 10x across cluster]\u001b[0m\n",
            "\u001b[36m(ClientAppActor pid=15364)\u001b[0m Epoch 7: train loss 0.041669, accuracy 0.515111\u001b[32m [repeated 10x across cluster]\u001b[0m\n",
            "\u001b[36m(ClientAppActor pid=15364)\u001b[0m Training time for Client 5: 21.78 seconds\n",
            "\u001b[36m(ClientAppActor pid=15364)\u001b[0m Epoch 9: train loss 0.037419, accuracy 0.569333\u001b[32m [repeated 8x across cluster]\u001b[0m\n",
            "\u001b[36m(ClientAppActor pid=15364)\u001b[0m [Client 7] fit, config: {'lr': 0.0001, 'epochs': 10}\n",
            "\u001b[36m(ClientAppActor pid=15064)\u001b[0m Training time for Client 1: 21.80 seconds\u001b[32m [repeated 3x across cluster]\u001b[0m\n",
            "\u001b[36m(ClientAppActor pid=20224)\u001b[0m Epoch 1: train loss 0.057171, accuracy 0.314000\u001b[32m [repeated 9x across cluster]\u001b[0m\n",
            "\u001b[36m(ClientAppActor pid=20224)\u001b[0m [Client 6] fit, config: {'lr': 0.0001, 'epochs': 10}\n",
            "\u001b[36m(ClientAppActor pid=15364)\u001b[0m Epoch 4: train loss 0.046001, accuracy 0.470000\u001b[32m [repeated 5x across cluster]\u001b[0m\n",
            "\u001b[36m(ClientAppActor pid=20224)\u001b[0m Epoch 6: train loss 0.043004, accuracy 0.507333\u001b[32m [repeated 5x across cluster]\u001b[0m\n",
            "\u001b[36m(ClientAppActor pid=15364)\u001b[0m Training time for Client 7: 23.09 seconds\n",
            "\u001b[36m(ClientAppActor pid=15364)\u001b[0m Epoch 9: train loss 0.036924, accuracy 0.577111\u001b[32m [repeated 5x across cluster]\u001b[0m\n"
          ]
        },
        {
          "name": "stderr",
          "output_type": "stream",
          "text": [
            "\u001b[92mINFO \u001b[0m:      aggregate_fit: received 10 results and 0 failures\n",
            "\u001b[92mINFO \u001b[0m:      configure_evaluate: strategy sampled 10 clients (out of 10)\n"
          ]
        },
        {
          "name": "stdout",
          "output_type": "stream",
          "text": [
            "\u001b[36m(ClientAppActor pid=20224)\u001b[0m [Client 0] evaluate, config: {}\n",
            "\u001b[36m(ClientAppActor pid=20224)\u001b[0m Training time for Client 6: 22.88 seconds\n",
            "\u001b[36m(ClientAppActor pid=20224)\u001b[0m Epoch 9: train loss 0.036861, accuracy 0.578889\n",
            "\u001b[36m(ClientAppActor pid=15364)\u001b[0m [Client 5] evaluate, config: {}\u001b[32m [repeated 5x across cluster]\u001b[0m\n"
          ]
        },
        {
          "name": "stderr",
          "output_type": "stream",
          "text": [
            "\u001b[92mINFO \u001b[0m:      aggregate_evaluate: received 10 results and 0 failures\n",
            "\u001b[92mINFO \u001b[0m:      \n",
            "\u001b[92mINFO \u001b[0m:      [ROUND 2]\n",
            "\u001b[92mINFO \u001b[0m:      configure_fit: strategy sampled 10 clients (out of 10)\n"
          ]
        },
        {
          "name": "stdout",
          "output_type": "stream",
          "text": [
            "This is ths last time not a fantasy 21.69144582748413and 0habhhahah\n",
            "this is tehb mode time [21.69]\n",
            "This is ths last time not a fantasy 22.05930471420288and 3habhhahah\n",
            "this is tehb mode time [21.69, 22.06]\n",
            "This is ths last time not a fantasy 22.69257879257202and 9habhhahah\n",
            "this is tehb mode time [21.69, 22.06, 22.69]\n",
            "This is ths last time not a fantasy 21.804447174072266and 1habhhahah\n",
            "this is tehb mode time [21.69, 22.06, 22.69, 21.8]\n",
            "This is ths last time not a fantasy 22.21130347251892and 8habhhahah\n",
            "this is tehb mode time [21.69, 22.06, 22.69, 21.8, 22.21]\n",
            "This is ths last time not a fantasy 21.77931547164917and 5habhhahah\n",
            "this is tehb mode time [21.69, 22.06, 22.69, 21.8, 22.21, 21.78]\n",
            "This is ths last time not a fantasy 22.87588620185852and 6habhhahah\n",
            "this is tehb mode time [21.69, 22.06, 22.69, 21.8, 22.21, 21.78, 22.88]\n",
            "This is ths last time not a fantasy 22.10231590270996and 2habhhahah\n",
            "this is tehb mode time [21.69, 22.06, 22.69, 21.8, 22.21, 21.78, 22.88, 22.1]\n",
            "This is ths last time not a fantasy 21.75131583213806and 4habhhahah\n",
            "this is tehb mode time [21.69, 22.06, 22.69, 21.8, 22.21, 21.78, 22.88, 22.1, 21.75]\n",
            "This is ths last time not a fantasy 23.093683004379272and 7habhhahah\n",
            "this is tehb mode time [21.69, 22.06, 22.69, 21.8, 22.21, 21.78, 22.88, 22.1, 21.75, 23.09]\n",
            "Yeh h modest valueueueueuModeResult(mode=21.69, count=1)\n",
            "yeh h server round 2\n",
            "this is the min value 1.0 and this is the max value 21.69\n",
            "The epochs for the higher lr is 9 and the epochs for the standard lr is 10\n",
            "This is the last time 21.69144582748413\n",
            "This is the last time 22.05930471420288\n",
            "This is the last time 22.69257879257202\n",
            "This is the last time 21.804447174072266\n",
            "This is the last time 22.21130347251892\n",
            "This is the last time 21.77931547164917\n",
            "This is the last time 22.87588620185852\n",
            "This is the last time 22.10231590270996\n",
            "This is the last time 21.75131583213806\n",
            "This is the last time 23.093683004379272\n",
            "\u001b[36m(ClientAppActor pid=16844)\u001b[0m [Client 0] fit, config: {'lr': 0.0001, 'epochs': 9}\n",
            "\u001b[36m(ClientAppActor pid=16844)\u001b[0m [Client 8] evaluate, config: {}\u001b[32m [repeated 4x across cluster]\u001b[0m\n",
            "\u001b[36m(ClientAppActor pid=16844)\u001b[0m Epoch 0: train loss 0.046503, accuracy 0.458000\n",
            "\u001b[36m(ClientAppActor pid=20224)\u001b[0m [Client 1] fit, config: {'lr': 0.0001, 'epochs': 9}\u001b[32m [repeated 3x across cluster]\u001b[0m\n",
            "\u001b[36m(ClientAppActor pid=16844)\u001b[0m Epoch 3: train loss 0.037863, accuracy 0.565111\u001b[32m [repeated 10x across cluster]\u001b[0m\n",
            "\u001b[36m(ClientAppActor pid=15064)\u001b[0m Epoch 5: train loss 0.033402, accuracy 0.620222\u001b[32m [repeated 10x across cluster]\u001b[0m\n",
            "\u001b[36m(ClientAppActor pid=16844)\u001b[0m Training time for Client 0: 19.29 seconds\n",
            "\u001b[36m(ClientAppActor pid=16844)\u001b[0m Epoch 8: train loss 0.025411, accuracy 0.710667\u001b[32m [repeated 10x across cluster]\u001b[0m\n",
            "\u001b[36m(ClientAppActor pid=16844)\u001b[0m [Client 8] fit, config: {'lr': 0.0001, 'epochs': 9}\n",
            "\u001b[36m(ClientAppActor pid=20224)\u001b[0m Training time for Client 1: 19.47 seconds\u001b[32m [repeated 3x across cluster]\u001b[0m\n",
            "\u001b[36m(ClientAppActor pid=15364)\u001b[0m Epoch 0: train loss 0.047419, accuracy 0.448889\u001b[32m [repeated 9x across cluster]\u001b[0m\n",
            "\u001b[36m(ClientAppActor pid=20224)\u001b[0m [Client 2] fit, config: {'lr': 0.0001, 'epochs': 9}\u001b[32m [repeated 3x across cluster]\u001b[0m\n",
            "\u001b[36m(ClientAppActor pid=15064)\u001b[0m Epoch 3: train loss 0.039150, accuracy 0.543111\u001b[32m [repeated 9x across cluster]\u001b[0m\n",
            "\u001b[36m(ClientAppActor pid=16844)\u001b[0m Epoch 6: train loss 0.030483, accuracy 0.655556\u001b[32m [repeated 10x across cluster]\u001b[0m\n",
            "\u001b[36m(ClientAppActor pid=16844)\u001b[0m Training time for Client 8: 19.61 seconds\n",
            "\u001b[36m(ClientAppActor pid=15364)\u001b[0m Epoch 7: train loss 0.028574, accuracy 0.670000\u001b[32m [repeated 9x across cluster]\u001b[0m\n",
            "\u001b[36m(ClientAppActor pid=16844)\u001b[0m [Client 4] fit, config: {'lr': 0.0001, 'epochs': 9}\n",
            "\u001b[36m(ClientAppActor pid=20224)\u001b[0m Training time for Client 2: 19.67 seconds\u001b[32m [repeated 3x across cluster]\u001b[0m\n",
            "\u001b[36m(ClientAppActor pid=15064)\u001b[0m Epoch 1: train loss 0.041603, accuracy 0.520889\u001b[32m [repeated 8x across cluster]\u001b[0m\n",
            "\u001b[36m(ClientAppActor pid=15064)\u001b[0m [Client 7] fit, config: {'lr': 0.0001, 'epochs': 9}\n",
            "\u001b[36m(ClientAppActor pid=16844)\u001b[0m Epoch 4: train loss 0.035714, accuracy 0.590000\u001b[32m [repeated 5x across cluster]\u001b[0m\n",
            "\u001b[36m(ClientAppActor pid=15064)\u001b[0m Epoch 6: train loss 0.030165, accuracy 0.658667\u001b[32m [repeated 5x across cluster]\u001b[0m\n",
            "\u001b[36m(ClientAppActor pid=16844)\u001b[0m Training time for Client 4: 20.74 seconds\n"
          ]
        },
        {
          "name": "stderr",
          "output_type": "stream",
          "text": [
            "\u001b[92mINFO \u001b[0m:      aggregate_fit: received 10 results and 0 failures\n",
            "\u001b[92mINFO \u001b[0m:      configure_evaluate: strategy sampled 10 clients (out of 10)\n"
          ]
        },
        {
          "name": "stdout",
          "output_type": "stream",
          "text": [
            "\u001b[36m(ClientAppActor pid=15064)\u001b[0m Epoch 8: train loss 0.024990, accuracy 0.710444\u001b[32m [repeated 4x across cluster]\u001b[0m\n",
            "\u001b[36m(ClientAppActor pid=15064)\u001b[0m [Client 2] evaluate, config: {}\n",
            "\u001b[36m(ClientAppActor pid=15064)\u001b[0m Training time for Client 7: 20.75 seconds\n",
            "\u001b[36m(ClientAppActor pid=16844)\u001b[0m [Client 3] evaluate, config: {}\u001b[32m [repeated 5x across cluster]\u001b[0m\n"
          ]
        },
        {
          "name": "stderr",
          "output_type": "stream",
          "text": [
            "\u001b[92mINFO \u001b[0m:      aggregate_evaluate: received 10 results and 0 failures\n",
            "\u001b[92mINFO \u001b[0m:      \n",
            "\u001b[92mINFO \u001b[0m:      [ROUND 3]\n",
            "\u001b[92mINFO \u001b[0m:      configure_fit: strategy sampled 10 clients (out of 10)\n"
          ]
        },
        {
          "name": "stdout",
          "output_type": "stream",
          "text": [
            "This is ths last time not a fantasy 19.672728061676025and 6habhhahah\n",
            "this is tehb mode time [19.67]\n",
            "This is ths last time not a fantasy 19.47026824951172and 1habhhahah\n",
            "this is tehb mode time [19.67, 19.47]\n",
            "This is ths last time not a fantasy 19.28969693183899and 0habhhahah\n",
            "this is tehb mode time [19.67, 19.47, 19.29]\n",
            "This is ths last time not a fantasy 20.750965356826782and 7habhhahah\n",
            "this is tehb mode time [19.67, 19.47, 19.29, 20.75]\n",
            "This is ths last time not a fantasy 19.750115394592285and 5habhhahah\n",
            "this is tehb mode time [19.67, 19.47, 19.29, 20.75, 19.75]\n",
            "This is ths last time not a fantasy 19.611775636672974and 8habhhahah\n",
            "this is tehb mode time [19.67, 19.47, 19.29, 20.75, 19.75, 19.61]\n",
            "This is ths last time not a fantasy 19.49014639854431and 3habhhahah\n",
            "this is tehb mode time [19.67, 19.47, 19.29, 20.75, 19.75, 19.61, 19.49]\n",
            "This is ths last time not a fantasy 19.67001175880432and 2habhhahah\n",
            "this is tehb mode time [19.67, 19.47, 19.29, 20.75, 19.75, 19.61, 19.49, 19.67]\n",
            "This is ths last time not a fantasy 19.420175552368164and 9habhhahah\n",
            "this is tehb mode time [19.67, 19.47, 19.29, 20.75, 19.75, 19.61, 19.49, 19.67, 19.42]\n",
            "This is ths last time not a fantasy 20.740784406661987and 4habhhahah\n",
            "this is tehb mode time [19.67, 19.47, 19.29, 20.75, 19.75, 19.61, 19.49, 19.67, 19.42, 20.74]\n",
            "Yeh h modest valueueueueuModeResult(mode=19.67, count=2)\n",
            "yeh h server round 3\n",
            "this is the min value 2.0 and this is the max value 19.67\n",
            "The epochs for the higher lr is 8 and the epochs for the standard lr is 10\n",
            "This is the last time 19.672728061676025\n",
            "This is the last time 19.47026824951172\n",
            "This is the last time 19.28969693183899\n",
            "This is the last time 20.750965356826782\n",
            "This is the last time 19.750115394592285\n",
            "This is the last time 19.611775636672974\n",
            "This is the last time 19.49014639854431\n",
            "This is the last time 19.67001175880432\n",
            "This is the last time 19.420175552368164\n",
            "This is the last time 20.740784406661987\n",
            "\u001b[36m(ClientAppActor pid=15364)\u001b[0m [Client 6] fit, config: {'lr': 0.0001, 'epochs': 8}\n",
            "\u001b[36m(ClientAppActor pid=15364)\u001b[0m [Client 5] evaluate, config: {}\u001b[32m [repeated 4x across cluster]\u001b[0m\n",
            "\u001b[36m(ClientAppActor pid=15364)\u001b[0m Epoch 0: train loss 0.040694, accuracy 0.540222\n",
            "\u001b[36m(ClientAppActor pid=15064)\u001b[0m [Client 7] fit, config: {'lr': 0.0001, 'epochs': 8}\u001b[32m [repeated 3x across cluster]\u001b[0m\n",
            "\u001b[36m(ClientAppActor pid=16844)\u001b[0m Epoch 2: train loss 0.032041, accuracy 0.636444\u001b[32m [repeated 10x across cluster]\u001b[0m\n",
            "\u001b[36m(ClientAppActor pid=20224)\u001b[0m Epoch 5: train loss 0.020972, accuracy 0.760889\u001b[32m [repeated 10x across cluster]\u001b[0m\n",
            "\u001b[36m(ClientAppActor pid=15364)\u001b[0m Training time for Client 6: 17.56 seconds\n",
            "\u001b[36m(ClientAppActor pid=15364)\u001b[0m [Client 5] fit, config: {'lr': 0.0001, 'epochs': 8}\n",
            "\u001b[36m(ClientAppActor pid=16844)\u001b[0m Epoch 7: train loss 0.016139, accuracy 0.826000\u001b[32m [repeated 10x across cluster]\u001b[0m\n",
            "\u001b[36m(ClientAppActor pid=15064)\u001b[0m Training time for Client 7: 17.60 seconds\n",
            "\u001b[36m(ClientAppActor pid=20224)\u001b[0m Training time for Client 1: 21.82 seconds\n",
            "\u001b[36m(ClientAppActor pid=15064)\u001b[0m [Client 8] fit, config: {'lr': 0.001, 'epochs': 10}\n",
            "\u001b[36m(ClientAppActor pid=20224)\u001b[0m [Client 3] fit, config: {'lr': 0.001, 'epochs': 10}\n",
            "\u001b[36m(ClientAppActor pid=16844)\u001b[0m Epoch 9: train loss 0.011262, accuracy 0.883333\u001b[32m [repeated 7x across cluster]\u001b[0m\n",
            "\u001b[36m(ClientAppActor pid=16844)\u001b[0m Training time for Client 0: 21.70 seconds\n",
            "\u001b[36m(ClientAppActor pid=16844)\u001b[0m [Client 2] fit, config: {'lr': 0.0001, 'epochs': 8}\n",
            "\u001b[36m(ClientAppActor pid=20224)\u001b[0m Epoch 2: train loss 0.032305, accuracy 0.629778\u001b[32m [repeated 11x across cluster]\u001b[0m\n",
            "\u001b[36m(ClientAppActor pid=15364)\u001b[0m Training time for Client 5: 17.29 seconds\n",
            "\u001b[36m(ClientAppActor pid=16844)\u001b[0m Epoch 4: train loss 0.025232, accuracy 0.715556\u001b[32m [repeated 11x across cluster]\u001b[0m\n",
            "\u001b[36m(ClientAppActor pid=15364)\u001b[0m [Client 9] fit, config: {'lr': 0.001, 'epochs': 10}\n",
            "\u001b[36m(ClientAppActor pid=15064)\u001b[0m Epoch 8: train loss 0.014202, accuracy 0.847778\u001b[32m [repeated 10x across cluster]\u001b[0m\n",
            "\u001b[36m(ClientAppActor pid=16844)\u001b[0m Training time for Client 2: 17.27 seconds\n",
            "\u001b[36m(ClientAppActor pid=16844)\u001b[0m [Client 4] fit, config: {'lr': 0.0001, 'epochs': 8}\n",
            "\u001b[36m(ClientAppActor pid=15364)\u001b[0m Epoch 4: train loss 0.025661, accuracy 0.710889\u001b[32m [repeated 8x across cluster]\u001b[0m\n",
            "\u001b[36m(ClientAppActor pid=20224)\u001b[0m Training time for Client 3: 21.50 seconds\u001b[32m [repeated 2x across cluster]\u001b[0m\n",
            "\u001b[36m(ClientAppActor pid=16844)\u001b[0m Epoch 3: train loss 0.028878, accuracy 0.678667\u001b[32m [repeated 5x across cluster]\u001b[0m\n",
            "\u001b[36m(ClientAppActor pid=15364)\u001b[0m Training time for Client 9: 22.19 seconds\n",
            "\u001b[36m(ClientAppActor pid=15364)\u001b[0m Epoch 9: train loss 0.011159, accuracy 0.879111\u001b[32m [repeated 5x across cluster]\u001b[0m\n"
          ]
        },
        {
          "name": "stderr",
          "output_type": "stream",
          "text": [
            "\u001b[92mINFO \u001b[0m:      aggregate_fit: received 10 results and 0 failures\n",
            "\u001b[92mINFO \u001b[0m:      configure_evaluate: strategy sampled 10 clients (out of 10)\n"
          ]
        },
        {
          "name": "stdout",
          "output_type": "stream",
          "text": [
            "\u001b[36m(ClientAppActor pid=16844)\u001b[0m [Client 6] evaluate, config: {}\n",
            "\u001b[36m(ClientAppActor pid=16844)\u001b[0m Training time for Client 4: 18.07 seconds\n",
            "\u001b[36m(ClientAppActor pid=16844)\u001b[0m Epoch 7: train loss 0.016870, accuracy 0.814444\u001b[32m [repeated 2x across cluster]\u001b[0m\n",
            "\u001b[36m(ClientAppActor pid=15364)\u001b[0m [Client 0] evaluate, config: {}\u001b[32m [repeated 5x across cluster]\u001b[0m\n"
          ]
        },
        {
          "name": "stderr",
          "output_type": "stream",
          "text": [
            "\u001b[92mINFO \u001b[0m:      aggregate_evaluate: received 10 results and 0 failures\n",
            "\u001b[92mINFO \u001b[0m:      \n",
            "\u001b[92mINFO \u001b[0m:      [SUMMARY]\n",
            "\u001b[92mINFO \u001b[0m:      Run finished 3 round(s) in 243.53s\n",
            "\u001b[92mINFO \u001b[0m:      \tHistory (loss, distributed):\n",
            "\u001b[92mINFO \u001b[0m:      \t\tround 1: 0.05227116529941559\n",
            "\u001b[92mINFO \u001b[0m:      \t\tround 2: 0.04223860228061676\n",
            "\u001b[92mINFO \u001b[0m:      \t\tround 3: 0.04577925435304642\n",
            "\u001b[92mINFO \u001b[0m:      \n"
          ]
        },
        {
          "data": {
            "text/plain": [
              "History (loss, distributed):\n",
              "\tround 1: 0.05227116529941559\n",
              "\tround 2: 0.04223860228061676\n",
              "\tround 3: 0.04577925435304642"
            ]
          },
          "execution_count": 14,
          "metadata": {},
          "output_type": "execute_result"
        }
      ],
      "source": [
        "\n",
        "fl.simulation.start_simulation(\n",
        "    client_fn=client_fn,\n",
        "    num_clients=10,\n",
        "    config=fl.server.ServerConfig(num_rounds=3),\n",
        "    strategy=FedCustom(),  # <-- pass the new strategy here\n",
        "    client_resources=client_resources,\n",
        "\n",
        ")"
      ]
    },
    {
      "cell_type": "code",
      "execution_count": 10,
      "metadata": {},
      "outputs": [],
      "source": [
        "class FlowerClient(fl.client.NumPyClient):\n",
        "    def __init__(self, cid, net, trainloader, valloader):\n",
        "        self.cid = cid\n",
        "        self.net = net\n",
        "        self.trainloader = trainloader\n",
        "        self.valloader = valloader\n",
        "\n",
        "    def get_parameters(self, config):\n",
        "        print(f\"[Client {self.cid}] get_parameters\")\n",
        "        return get_parameters(self.net)\n",
        "\n",
        "    def fit(self, parameters, config):\n",
        "        print(f\"[Client {self.cid}] fit, config: {config}\")\n",
        "        set_parameters(self.net, parameters)\n",
        "        train(self.net, self.trainloader, epochs=10)\n",
        "        return get_parameters(self.net), len(self.trainloader), {}\n",
        "\n",
        "    def evaluate(self, parameters, config):\n",
        "        print(f\"[Client {self.cid}] evaluate, config: {config}\")\n",
        "        set_parameters(self.net, parameters)\n",
        "        loss, accuracy = test(self.net, self.valloader)\n",
        "        print(f\"Client {self.cid} loss {loss}\")\n",
        "        print(f\"Client {self.cid} accuracy {accuracy}\")\n",
        "        \n",
        "        return float(loss), len(self.valloader), {\"accuracy\": float(accuracy)}\n",
        "\n",
        "\n",
        "def client_fn(cid) -> FlowerClient:\n",
        "    net = Net().to(DEVICE) #Load Model from here\n",
        "    trainloader = trainloaders[int(cid)]\n",
        "    valloader = valloaders[int(cid)]\n",
        "    return FlowerClient(cid, net, trainloader, valloader).to_client()"
      ]
    },
    {
      "cell_type": "code",
      "execution_count": 11,
      "metadata": {},
      "outputs": [
        {
          "name": "stderr",
          "output_type": "stream",
          "text": [
            "\u001b[92mINFO \u001b[0m:      Starting Flower simulation, config: num_rounds=5, no round_timeout\n",
            "2024-07-08 09:26:16,950\tINFO worker.py:1771 -- Started a local Ray instance.\n",
            "\u001b[92mINFO \u001b[0m:      Flower VCE: Ray initialized with resources: {'node:__internal_head__': 1.0, 'CPU': 32.0, 'object_store_memory': 35408276275.0, 'accelerator_type:RTX': 1.0, 'memory': 72619311309.0, 'GPU': 1.0, 'node:127.0.0.1': 1.0}\n",
            "\u001b[92mINFO \u001b[0m:      Optimize your simulation with Flower VCE: https://flower.ai/docs/framework/how-to-run-simulations.html\n",
            "\u001b[92mINFO \u001b[0m:      Flower VCE: Resources for each Virtual Client: {'num_gpus': 0.25, 'num_cpus': 2}\n",
            "\u001b[92mINFO \u001b[0m:      Flower VCE: Creating VirtualClientEngineActorPool with 4 actors\n",
            "\u001b[92mINFO \u001b[0m:      [INIT]\n",
            "\u001b[92mINFO \u001b[0m:      Requesting initial parameters from one random client\n",
            "\u001b[92mINFO \u001b[0m:      Received initial parameters from one random client\n",
            "\u001b[92mINFO \u001b[0m:      Evaluating initial global parameters\n",
            "\u001b[92mINFO \u001b[0m:      \n",
            "\u001b[92mINFO \u001b[0m:      [ROUND 1]\n",
            "\u001b[92mINFO \u001b[0m:      configure_fit: strategy sampled 10 clients (out of 10)\n"
          ]
        },
        {
          "name": "stdout",
          "output_type": "stream",
          "text": [
            "\u001b[36m(ClientAppActor pid=19964)\u001b[0m [Client 7] get_parameters\n",
            "\u001b[36m(ClientAppActor pid=19964)\u001b[0m [Client 7] fit, config: {}\n",
            "\u001b[36m(ClientAppActor pid=19964)\u001b[0m Epoch 0: train loss 0.064648, accuracy 0.229556\n",
            "\u001b[36m(ClientAppActor pid=19964)\u001b[0m Epoch 1: train loss 0.055030, accuracy 0.349111\n",
            "\u001b[36m(ClientAppActor pid=41600)\u001b[0m [Client 2] fit, config: {}\n",
            "\u001b[36m(ClientAppActor pid=19964)\u001b[0m Epoch 2: train loss 0.050622, accuracy 0.406889\n",
            "\u001b[36m(ClientAppActor pid=26684)\u001b[0m [Client 8] fit, config: {}\n",
            "\u001b[36m(ClientAppActor pid=41600)\u001b[0m Epoch 0: train loss 0.064739, accuracy 0.224444\n",
            "\u001b[36m(ClientAppActor pid=19964)\u001b[0m Epoch 3: train loss 0.047633, accuracy 0.452667\n",
            "\u001b[36m(ClientAppActor pid=6060)\u001b[0m [Client 1] fit, config: {}\n",
            "\u001b[36m(ClientAppActor pid=41600)\u001b[0m Epoch 3: train loss 0.048334, accuracy 0.442000\u001b[32m [repeated 10x across cluster]\u001b[0m\n",
            "\u001b[36m(ClientAppActor pid=19964)\u001b[0m Epoch 8: train loss 0.036260, accuracy 0.585556\u001b[32m [repeated 10x across cluster]\u001b[0m\n",
            "\u001b[36m(ClientAppActor pid=19964)\u001b[0m [Client 5] fit, config: {}\n",
            "\u001b[36m(ClientAppActor pid=41600)\u001b[0m Epoch 8: train loss 0.038253, accuracy 0.556667\u001b[32m [repeated 9x across cluster]\u001b[0m\n",
            "\u001b[36m(ClientAppActor pid=41600)\u001b[0m [Client 3] fit, config: {}\n",
            "\u001b[36m(ClientAppActor pid=19964)\u001b[0m Epoch 2: train loss 0.052520, accuracy 0.391111\u001b[32m [repeated 8x across cluster]\u001b[0m\n",
            "\u001b[36m(ClientAppActor pid=6060)\u001b[0m [Client 6] fit, config: {}\u001b[32m [repeated 2x across cluster]\u001b[0m\n",
            "\u001b[36m(ClientAppActor pid=41600)\u001b[0m Epoch 2: train loss 0.052960, accuracy 0.379556\u001b[32m [repeated 9x across cluster]\u001b[0m\n",
            "\u001b[36m(ClientAppActor pid=6060)\u001b[0m Epoch 3: train loss 0.048938, accuracy 0.420889\u001b[32m [repeated 9x across cluster]\u001b[0m\n",
            "\u001b[36m(ClientAppActor pid=19964)\u001b[0m Epoch 9: train loss 0.036489, accuracy 0.576444\u001b[32m [repeated 9x across cluster]\u001b[0m\n",
            "\u001b[36m(ClientAppActor pid=19964)\u001b[0m [Client 9] fit, config: {}\n",
            "\u001b[36m(ClientAppActor pid=41600)\u001b[0m Epoch 9: train loss 0.036622, accuracy 0.583111\u001b[32m [repeated 9x across cluster]\u001b[0m\n",
            "\u001b[36m(ClientAppActor pid=41600)\u001b[0m [Client 4] fit, config: {}\n",
            "\u001b[36m(ClientAppActor pid=19964)\u001b[0m Epoch 4: train loss 0.047086, accuracy 0.451111\u001b[32m [repeated 9x across cluster]\u001b[0m\n",
            "\u001b[36m(ClientAppActor pid=41600)\u001b[0m Epoch 4: train loss 0.045820, accuracy 0.469556\u001b[32m [repeated 5x across cluster]\u001b[0m\n",
            "\u001b[36m(ClientAppActor pid=19964)\u001b[0m Epoch 9: train loss 0.036063, accuracy 0.580889\u001b[32m [repeated 5x across cluster]\u001b[0m\n"
          ]
        },
        {
          "name": "stderr",
          "output_type": "stream",
          "text": [
            "\u001b[92mINFO \u001b[0m:      aggregate_fit: received 10 results and 0 failures\n",
            "\u001b[93mWARNING \u001b[0m:   No fit_metrics_aggregation_fn provided\n",
            "\u001b[92mINFO \u001b[0m:      configure_evaluate: strategy sampled 10 clients (out of 10)\n"
          ]
        },
        {
          "name": "stdout",
          "output_type": "stream",
          "text": [
            "\u001b[36m(ClientAppActor pid=41600)\u001b[0m Epoch 9: train loss 0.035851, accuracy 0.589556\u001b[32m [repeated 3x across cluster]\u001b[0m\n",
            "\u001b[36m(ClientAppActor pid=41600)\u001b[0m [Client 9] evaluate, config: {}\n",
            "\u001b[36m(ClientAppActor pid=41600)\u001b[0m Client 9 loss 0.057500277519226074\n",
            "\u001b[36m(ClientAppActor pid=41600)\u001b[0m Client 9 accuracy 0.364\n",
            "\u001b[36m(ClientAppActor pid=41600)\u001b[0m [Client 4] evaluate, config: {}\u001b[32m [repeated 4x across cluster]\u001b[0m\n",
            "\u001b[36m(ClientAppActor pid=41600)\u001b[0m Client 4 loss 0.05731414937973022\u001b[32m [repeated 4x across cluster]\u001b[0m\n",
            "\u001b[36m(ClientAppActor pid=41600)\u001b[0m Client 4 accuracy 0.37\u001b[32m [repeated 4x across cluster]\u001b[0m\n"
          ]
        },
        {
          "name": "stderr",
          "output_type": "stream",
          "text": [
            "\u001b[92mINFO \u001b[0m:      aggregate_evaluate: received 10 results and 0 failures\n",
            "\u001b[93mWARNING \u001b[0m:   No evaluate_metrics_aggregation_fn provided\n",
            "\u001b[92mINFO \u001b[0m:      \n",
            "\u001b[92mINFO \u001b[0m:      [ROUND 2]\n",
            "\u001b[92mINFO \u001b[0m:      configure_fit: strategy sampled 10 clients (out of 10)\n"
          ]
        },
        {
          "name": "stdout",
          "output_type": "stream",
          "text": [
            "\u001b[36m(ClientAppActor pid=19964)\u001b[0m [Client 0] evaluate, config: {}\u001b[32m [repeated 5x across cluster]\u001b[0m\n",
            "\u001b[36m(ClientAppActor pid=19964)\u001b[0m [Client 9] fit, config: {}\n",
            "\u001b[36m(ClientAppActor pid=19964)\u001b[0m Client 0 loss 0.05686443638801575\u001b[32m [repeated 5x across cluster]\u001b[0m\n",
            "\u001b[36m(ClientAppActor pid=19964)\u001b[0m Client 0 accuracy 0.392\u001b[32m [repeated 5x across cluster]\u001b[0m\n",
            "\u001b[36m(ClientAppActor pid=19964)\u001b[0m Epoch 0: train loss 0.047629, accuracy 0.445556\n",
            "\u001b[36m(ClientAppActor pid=6060)\u001b[0m [Client 8] fit, config: {}\u001b[32m [repeated 3x across cluster]\u001b[0m\n",
            "\u001b[36m(ClientAppActor pid=26684)\u001b[0m Epoch 2: train loss 0.040916, accuracy 0.534000\u001b[32m [repeated 10x across cluster]\u001b[0m\n",
            "\u001b[36m(ClientAppActor pid=41600)\u001b[0m Epoch 5: train loss 0.032276, accuracy 0.636889\u001b[32m [repeated 10x across cluster]\u001b[0m\n",
            "\u001b[36m(ClientAppActor pid=26684)\u001b[0m Epoch 7: train loss 0.027755, accuracy 0.687556\u001b[32m [repeated 10x across cluster]\u001b[0m\n",
            "\u001b[36m(ClientAppActor pid=19964)\u001b[0m [Client 3] fit, config: {}\n",
            "\u001b[36m(ClientAppActor pid=6060)\u001b[0m Epoch 8: train loss 0.023503, accuracy 0.741333\u001b[32m [repeated 7x across cluster]\u001b[0m\n",
            "\u001b[36m(ClientAppActor pid=6060)\u001b[0m [Client 7] fit, config: {}\u001b[32m [repeated 3x across cluster]\u001b[0m\n",
            "\u001b[36m(ClientAppActor pid=26684)\u001b[0m Epoch 1: train loss 0.043023, accuracy 0.502444\u001b[32m [repeated 9x across cluster]\u001b[0m\n",
            "\u001b[36m(ClientAppActor pid=6060)\u001b[0m Epoch 3: train loss 0.036763, accuracy 0.582889\u001b[32m [repeated 10x across cluster]\u001b[0m\n",
            "\u001b[36m(ClientAppActor pid=19964)\u001b[0m Epoch 7: train loss 0.028015, accuracy 0.685556\u001b[32m [repeated 10x across cluster]\u001b[0m\n",
            "\u001b[36m(ClientAppActor pid=19964)\u001b[0m Epoch 9: train loss 0.022263, accuracy 0.752222\u001b[32m [repeated 8x across cluster]\u001b[0m\n",
            "\u001b[36m(ClientAppActor pid=19964)\u001b[0m [Client 1] fit, config: {}\n",
            "\u001b[36m(ClientAppActor pid=41600)\u001b[0m Epoch 1: train loss 0.042691, accuracy 0.518000\u001b[32m [repeated 9x across cluster]\u001b[0m\n",
            "\u001b[36m(ClientAppActor pid=41600)\u001b[0m [Client 0] fit, config: {}\n",
            "\u001b[36m(ClientAppActor pid=19964)\u001b[0m Epoch 4: train loss 0.034243, accuracy 0.612000\u001b[32m [repeated 5x across cluster]\u001b[0m\n",
            "\u001b[36m(ClientAppActor pid=41600)\u001b[0m Epoch 6: train loss 0.029144, accuracy 0.674000\u001b[32m [repeated 5x across cluster]\u001b[0m\n",
            "\u001b[36m(ClientAppActor pid=19964)\u001b[0m Epoch 9: train loss 0.021597, accuracy 0.761333\u001b[32m [repeated 5x across cluster]\u001b[0m\n"
          ]
        },
        {
          "name": "stderr",
          "output_type": "stream",
          "text": [
            "\u001b[92mINFO \u001b[0m:      aggregate_fit: received 10 results and 0 failures\n",
            "\u001b[92mINFO \u001b[0m:      configure_evaluate: strategy sampled 10 clients (out of 10)\n"
          ]
        },
        {
          "name": "stdout",
          "output_type": "stream",
          "text": [
            "\u001b[36m(ClientAppActor pid=41600)\u001b[0m [Client 0] evaluate, config: {}\n",
            "\u001b[36m(ClientAppActor pid=41600)\u001b[0m Client 0 loss 0.04507693290710449\n",
            "\u001b[36m(ClientAppActor pid=41600)\u001b[0m Client 0 accuracy 0.53\n",
            "\u001b[36m(ClientAppActor pid=41600)\u001b[0m Epoch 9: train loss 0.020674, accuracy 0.773778\n",
            "\u001b[36m(ClientAppActor pid=19964)\u001b[0m [Client 9] evaluate, config: {}\u001b[32m [repeated 5x across cluster]\u001b[0m\n",
            "\u001b[36m(ClientAppActor pid=26684)\u001b[0m Client 4 loss 0.04356968665122986\u001b[32m [repeated 4x across cluster]\u001b[0m\n",
            "\u001b[36m(ClientAppActor pid=26684)\u001b[0m Client 4 accuracy 0.512\u001b[32m [repeated 4x across cluster]\u001b[0m\n"
          ]
        },
        {
          "name": "stderr",
          "output_type": "stream",
          "text": [
            "\u001b[92mINFO \u001b[0m:      aggregate_evaluate: received 10 results and 0 failures\n",
            "\u001b[92mINFO \u001b[0m:      \n",
            "\u001b[92mINFO \u001b[0m:      [ROUND 3]\n",
            "\u001b[92mINFO \u001b[0m:      configure_fit: strategy sampled 10 clients (out of 10)\n"
          ]
        },
        {
          "name": "stdout",
          "output_type": "stream",
          "text": [
            "\u001b[36m(ClientAppActor pid=6060)\u001b[0m [Client 1] evaluate, config: {}\u001b[32m [repeated 4x across cluster]\u001b[0m\n",
            "\u001b[36m(ClientAppActor pid=6060)\u001b[0m Client 1 loss 0.04232794487476349\u001b[32m [repeated 5x across cluster]\u001b[0m\n",
            "\u001b[36m(ClientAppActor pid=6060)\u001b[0m Client 1 accuracy 0.554\u001b[32m [repeated 5x across cluster]\u001b[0m\n",
            "\u001b[36m(ClientAppActor pid=6060)\u001b[0m [Client 1] fit, config: {}\n",
            "\u001b[36m(ClientAppActor pid=6060)\u001b[0m Epoch 0: train loss 0.038298, accuracy 0.572222\n",
            "\u001b[36m(ClientAppActor pid=19964)\u001b[0m [Client 2] fit, config: {}\u001b[32m [repeated 3x across cluster]\u001b[0m\n",
            "\u001b[36m(ClientAppActor pid=6060)\u001b[0m Epoch 3: train loss 0.025758, accuracy 0.713111\u001b[32m [repeated 10x across cluster]\u001b[0m\n",
            "\u001b[36m(ClientAppActor pid=19964)\u001b[0m Epoch 4: train loss 0.022894, accuracy 0.742667\u001b[32m [repeated 10x across cluster]\u001b[0m\n",
            "\u001b[36m(ClientAppActor pid=41600)\u001b[0m Epoch 7: train loss 0.014191, accuracy 0.852667\u001b[32m [repeated 10x across cluster]\u001b[0m\n",
            "\u001b[36m(ClientAppActor pid=6060)\u001b[0m [Client 3] fit, config: {}\n",
            "\u001b[36m(ClientAppActor pid=26684)\u001b[0m Epoch 9: train loss 0.009536, accuracy 0.898222\u001b[32m [repeated 7x across cluster]\u001b[0m\n",
            "\u001b[36m(ClientAppActor pid=19964)\u001b[0m [Client 4] fit, config: {}\u001b[32m [repeated 3x across cluster]\u001b[0m\n",
            "\u001b[36m(ClientAppActor pid=41600)\u001b[0m Epoch 1: train loss 0.033337, accuracy 0.625111\u001b[32m [repeated 10x across cluster]\u001b[0m\n",
            "\u001b[36m(ClientAppActor pid=19964)\u001b[0m Epoch 3: train loss 0.026698, accuracy 0.701333\u001b[32m [repeated 10x across cluster]\u001b[0m\n",
            "\u001b[36m(ClientAppActor pid=41600)\u001b[0m Epoch 6: train loss 0.015803, accuracy 0.829556\u001b[32m [repeated 10x across cluster]\u001b[0m\n",
            "\u001b[36m(ClientAppActor pid=6060)\u001b[0m [Client 9] fit, config: {}\n",
            "\u001b[36m(ClientAppActor pid=26684)\u001b[0m Epoch 9: train loss 0.009486, accuracy 0.897111\u001b[32m [repeated 10x across cluster]\u001b[0m\n",
            "\u001b[36m(ClientAppActor pid=26684)\u001b[0m [Client 0] fit, config: {}\n",
            "\u001b[36m(ClientAppActor pid=6060)\u001b[0m Epoch 3: train loss 0.026949, accuracy 0.700444\u001b[32m [repeated 8x across cluster]\u001b[0m\n",
            "\u001b[36m(ClientAppActor pid=26684)\u001b[0m Epoch 5: train loss 0.019762, accuracy 0.780000\u001b[32m [repeated 6x across cluster]\u001b[0m\n",
            "\u001b[36m(ClientAppActor pid=26684)\u001b[0m Epoch 8: train loss 0.010678, accuracy 0.891333\u001b[32m [repeated 6x across cluster]\u001b[0m\n"
          ]
        },
        {
          "name": "stderr",
          "output_type": "stream",
          "text": [
            "\u001b[92mINFO \u001b[0m:      aggregate_fit: received 10 results and 0 failures\n",
            "\u001b[92mINFO \u001b[0m:      configure_evaluate: strategy sampled 10 clients (out of 10)\n"
          ]
        },
        {
          "name": "stdout",
          "output_type": "stream",
          "text": [
            "\u001b[36m(ClientAppActor pid=26684)\u001b[0m [Client 8] evaluate, config: {}\n",
            "\u001b[36m(ClientAppActor pid=26684)\u001b[0m Client 8 loss 0.04840809690952301\n",
            "\u001b[36m(ClientAppActor pid=26684)\u001b[0m Client 8 accuracy 0.576\n",
            "\u001b[36m(ClientAppActor pid=26684)\u001b[0m Epoch 9: train loss 0.008401, accuracy 0.914667\u001b[32m [repeated 2x across cluster]\u001b[0m\n",
            "\u001b[36m(ClientAppActor pid=6060)\u001b[0m [Client 5] evaluate, config: {}\u001b[32m [repeated 5x across cluster]\u001b[0m\n",
            "\u001b[36m(ClientAppActor pid=41600)\u001b[0m Client 1 loss 0.04936164724826813\u001b[32m [repeated 4x across cluster]\u001b[0m\n",
            "\u001b[36m(ClientAppActor pid=41600)\u001b[0m Client 1 accuracy 0.582\u001b[32m [repeated 4x across cluster]\u001b[0m\n"
          ]
        },
        {
          "name": "stderr",
          "output_type": "stream",
          "text": [
            "\u001b[92mINFO \u001b[0m:      aggregate_evaluate: received 10 results and 0 failures\n",
            "\u001b[92mINFO \u001b[0m:      \n",
            "\u001b[92mINFO \u001b[0m:      [ROUND 4]\n",
            "\u001b[92mINFO \u001b[0m:      configure_fit: strategy sampled 10 clients (out of 10)\n"
          ]
        },
        {
          "name": "stdout",
          "output_type": "stream",
          "text": [
            "\u001b[36m(ClientAppActor pid=19964)\u001b[0m [Client 3] fit, config: {}\n",
            "\u001b[36m(ClientAppActor pid=19964)\u001b[0m [Client 3] evaluate, config: {}\u001b[32m [repeated 4x across cluster]\u001b[0m\n",
            "\u001b[36m(ClientAppActor pid=19964)\u001b[0m Client 3 loss 0.052413262724876404\u001b[32m [repeated 5x across cluster]\u001b[0m\n",
            "\u001b[36m(ClientAppActor pid=19964)\u001b[0m Client 3 accuracy 0.55\u001b[32m [repeated 5x across cluster]\u001b[0m\n",
            "\u001b[36m(ClientAppActor pid=19964)\u001b[0m Epoch 0: train loss 0.037992, accuracy 0.581333\n",
            "\u001b[36m(ClientAppActor pid=6060)\u001b[0m [Client 8] fit, config: {}\u001b[32m [repeated 3x across cluster]\u001b[0m\n",
            "\u001b[36m(ClientAppActor pid=41600)\u001b[0m Epoch 2: train loss 0.023345, accuracy 0.732667\u001b[32m [repeated 10x across cluster]\u001b[0m\n",
            "\u001b[36m(ClientAppActor pid=6060)\u001b[0m Epoch 4: train loss 0.014548, accuracy 0.847111\u001b[32m [repeated 10x across cluster]\u001b[0m\n",
            "\u001b[36m(ClientAppActor pid=41600)\u001b[0m Epoch 7: train loss 0.006639, accuracy 0.935111\u001b[32m [repeated 10x across cluster]\u001b[0m\n",
            "\u001b[36m(ClientAppActor pid=19964)\u001b[0m [Client 6] fit, config: {}\n",
            "\u001b[36m(ClientAppActor pid=41600)\u001b[0m Epoch 9: train loss 0.004798, accuracy 0.955333\u001b[32m [repeated 8x across cluster]\u001b[0m\n",
            "\u001b[36m(ClientAppActor pid=6060)\u001b[0m [Client 9] fit, config: {}\u001b[32m [repeated 3x across cluster]\u001b[0m\n",
            "\u001b[36m(ClientAppActor pid=19964)\u001b[0m Epoch 2: train loss 0.023967, accuracy 0.735778\u001b[32m [repeated 8x across cluster]\u001b[0m\n",
            "\u001b[36m(ClientAppActor pid=26684)\u001b[0m Epoch 4: train loss 0.015266, accuracy 0.830444\u001b[32m [repeated 10x across cluster]\u001b[0m\n",
            "\u001b[36m(ClientAppActor pid=41600)\u001b[0m Epoch 6: train loss 0.009020, accuracy 0.908000\u001b[32m [repeated 10x across cluster]\u001b[0m\n",
            "\u001b[36m(ClientAppActor pid=41600)\u001b[0m Epoch 8: train loss 0.004930, accuracy 0.956222\u001b[32m [repeated 8x across cluster]\u001b[0m\n",
            "\u001b[36m(ClientAppActor pid=19964)\u001b[0m [Client 5] fit, config: {}\n",
            "\u001b[36m(ClientAppActor pid=26684)\u001b[0m Epoch 1: train loss 0.028400, accuracy 0.680444\u001b[32m [repeated 9x across cluster]\u001b[0m\n",
            "\u001b[36m(ClientAppActor pid=26684)\u001b[0m [Client 0] fit, config: {}\n",
            "\u001b[36m(ClientAppActor pid=19964)\u001b[0m Epoch 4: train loss 0.015651, accuracy 0.825778\u001b[32m [repeated 5x across cluster]\u001b[0m\n",
            "\u001b[36m(ClientAppActor pid=26684)\u001b[0m Epoch 6: train loss 0.008711, accuracy 0.911556\u001b[32m [repeated 5x across cluster]\u001b[0m\n",
            "\u001b[36m(ClientAppActor pid=19964)\u001b[0m Epoch 9: train loss 0.004979, accuracy 0.953333\u001b[32m [repeated 5x across cluster]\u001b[0m\n"
          ]
        },
        {
          "name": "stderr",
          "output_type": "stream",
          "text": [
            "\u001b[92mINFO \u001b[0m:      aggregate_fit: received 10 results and 0 failures\n",
            "\u001b[92mINFO \u001b[0m:      configure_evaluate: strategy sampled 10 clients (out of 10)\n"
          ]
        },
        {
          "name": "stdout",
          "output_type": "stream",
          "text": [
            "\u001b[36m(ClientAppActor pid=26684)\u001b[0m [Client 1] evaluate, config: {}\n",
            "\u001b[36m(ClientAppActor pid=26684)\u001b[0m Client 1 loss 0.0581095654964447\n",
            "\u001b[36m(ClientAppActor pid=26684)\u001b[0m Client 1 accuracy 0.56\n",
            "\u001b[36m(ClientAppActor pid=26684)\u001b[0m Epoch 9: train loss 0.003613, accuracy 0.967778\n",
            "\u001b[36m(ClientAppActor pid=26684)\u001b[0m [Client 5] evaluate, config: {}\u001b[32m [repeated 4x across cluster]\u001b[0m\n",
            "\u001b[36m(ClientAppActor pid=26684)\u001b[0m Client 5 loss 0.05704634261131287\u001b[32m [repeated 4x across cluster]\u001b[0m\n",
            "\u001b[36m(ClientAppActor pid=26684)\u001b[0m Client 5 accuracy 0.582\u001b[32m [repeated 4x across cluster]\u001b[0m\n"
          ]
        },
        {
          "name": "stderr",
          "output_type": "stream",
          "text": [
            "\u001b[92mINFO \u001b[0m:      aggregate_evaluate: received 10 results and 0 failures\n",
            "\u001b[92mINFO \u001b[0m:      \n",
            "\u001b[92mINFO \u001b[0m:      [ROUND 5]\n",
            "\u001b[92mINFO \u001b[0m:      configure_fit: strategy sampled 10 clients (out of 10)\n"
          ]
        },
        {
          "name": "stdout",
          "output_type": "stream",
          "text": [
            "\u001b[36m(ClientAppActor pid=19964)\u001b[0m [Client 9] evaluate, config: {}\u001b[32m [repeated 5x across cluster]\u001b[0m\n",
            "\u001b[36m(ClientAppActor pid=19964)\u001b[0m Client 9 loss 0.060975185751914976\u001b[32m [repeated 5x across cluster]\u001b[0m\n",
            "\u001b[36m(ClientAppActor pid=19964)\u001b[0m Client 9 accuracy 0.598\u001b[32m [repeated 5x across cluster]\u001b[0m\n",
            "\u001b[36m(ClientAppActor pid=19964)\u001b[0m [Client 1] fit, config: {}\n",
            "\u001b[36m(ClientAppActor pid=19964)\u001b[0m Epoch 0: train loss 0.037400, accuracy 0.608444\n",
            "\u001b[36m(ClientAppActor pid=6060)\u001b[0m [Client 0] fit, config: {}\u001b[32m [repeated 3x across cluster]\u001b[0m\n",
            "\u001b[36m(ClientAppActor pid=41600)\u001b[0m Epoch 2: train loss 0.018713, accuracy 0.790667\u001b[32m [repeated 10x across cluster]\u001b[0m\n",
            "\u001b[36m(ClientAppActor pid=6060)\u001b[0m Epoch 4: train loss 0.010170, accuracy 0.892667\u001b[32m [repeated 10x across cluster]\u001b[0m\n",
            "\u001b[36m(ClientAppActor pid=41600)\u001b[0m Epoch 7: train loss 0.004600, accuracy 0.954000\u001b[32m [repeated 10x across cluster]\u001b[0m\n",
            "\u001b[36m(ClientAppActor pid=19964)\u001b[0m [Client 2] fit, config: {}\n",
            "\u001b[36m(ClientAppActor pid=41600)\u001b[0m Epoch 9: train loss 0.003374, accuracy 0.970667\u001b[32m [repeated 8x across cluster]\u001b[0m\n",
            "\u001b[36m(ClientAppActor pid=6060)\u001b[0m [Client 8] fit, config: {}\u001b[32m [repeated 3x across cluster]\u001b[0m\n",
            "\u001b[36m(ClientAppActor pid=41600)\u001b[0m Epoch 1: train loss 0.025359, accuracy 0.712667\u001b[32m [repeated 8x across cluster]\u001b[0m\n",
            "\u001b[36m(ClientAppActor pid=6060)\u001b[0m Epoch 3: train loss 0.014078, accuracy 0.853556\u001b[32m [repeated 10x across cluster]\u001b[0m\n",
            "\u001b[36m(ClientAppActor pid=19964)\u001b[0m Epoch 7: train loss 0.004068, accuracy 0.966222\u001b[32m [repeated 11x across cluster]\u001b[0m\n",
            "\u001b[36m(ClientAppActor pid=19964)\u001b[0m Epoch 9: train loss 0.003320, accuracy 0.967778\u001b[32m [repeated 8x across cluster]\u001b[0m\n",
            "\u001b[36m(ClientAppActor pid=19964)\u001b[0m [Client 4] fit, config: {}\n",
            "\u001b[36m(ClientAppActor pid=26684)\u001b[0m Epoch 1: train loss 0.025770, accuracy 0.721333\u001b[32m [repeated 8x across cluster]\u001b[0m\n",
            "\u001b[36m(ClientAppActor pid=26684)\u001b[0m [Client 6] fit, config: {}\n",
            "\u001b[36m(ClientAppActor pid=19964)\u001b[0m Epoch 4: train loss 0.010618, accuracy 0.888000\u001b[32m [repeated 5x across cluster]\u001b[0m\n",
            "\u001b[36m(ClientAppActor pid=26684)\u001b[0m Epoch 6: train loss 0.004846, accuracy 0.959111\u001b[32m [repeated 5x across cluster]\u001b[0m\n",
            "\u001b[36m(ClientAppActor pid=19964)\u001b[0m Epoch 9: train loss 0.004615, accuracy 0.950444\u001b[32m [repeated 5x across cluster]\u001b[0m\n"
          ]
        },
        {
          "name": "stderr",
          "output_type": "stream",
          "text": [
            "\u001b[92mINFO \u001b[0m:      aggregate_fit: received 10 results and 0 failures\n",
            "\u001b[92mINFO \u001b[0m:      configure_evaluate: strategy sampled 10 clients (out of 10)\n"
          ]
        },
        {
          "name": "stdout",
          "output_type": "stream",
          "text": [
            "\u001b[36m(ClientAppActor pid=26684)\u001b[0m [Client 2] evaluate, config: {}\n",
            "\u001b[36m(ClientAppActor pid=26684)\u001b[0m Client 2 loss 0.06846692860126495\n",
            "\u001b[36m(ClientAppActor pid=26684)\u001b[0m Client 2 accuracy 0.574\n",
            "\u001b[36m(ClientAppActor pid=26684)\u001b[0m Epoch 9: train loss 0.002917, accuracy 0.977333\n",
            "\u001b[36m(ClientAppActor pid=6060)\u001b[0m [Client 3] evaluate, config: {}\u001b[32m [repeated 5x across cluster]\u001b[0m\n",
            "\u001b[36m(ClientAppActor pid=26684)\u001b[0m Client 8 loss 0.06027585017681122\u001b[32m [repeated 4x across cluster]\u001b[0m\n",
            "\u001b[36m(ClientAppActor pid=26684)\u001b[0m Client 8 accuracy 0.596\u001b[32m [repeated 4x across cluster]\u001b[0m\n"
          ]
        },
        {
          "name": "stderr",
          "output_type": "stream",
          "text": [
            "\u001b[92mINFO \u001b[0m:      aggregate_evaluate: received 10 results and 0 failures\n",
            "\u001b[92mINFO \u001b[0m:      \n",
            "\u001b[92mINFO \u001b[0m:      [SUMMARY]\n",
            "\u001b[92mINFO \u001b[0m:      Run finished 5 round(s) in 427.10s\n",
            "\u001b[92mINFO \u001b[0m:      \tHistory (loss, distributed):\n",
            "\u001b[92mINFO \u001b[0m:      \t\tround 1: 0.056809848380088804\n",
            "\u001b[92mINFO \u001b[0m:      \t\tround 2: 0.04263280247449875\n",
            "\u001b[92mINFO \u001b[0m:      \t\tround 3: 0.05024093134403229\n",
            "\u001b[92mINFO \u001b[0m:      \t\tround 4: 0.058976636826992036\n",
            "\u001b[92mINFO \u001b[0m:      \t\tround 5: 0.0638621232509613\n",
            "\u001b[92mINFO \u001b[0m:      \n"
          ]
        },
        {
          "data": {
            "text/plain": [
              "History (loss, distributed):\n",
              "\tround 1: 0.056809848380088804\n",
              "\tround 2: 0.04263280247449875\n",
              "\tround 3: 0.05024093134403229\n",
              "\tround 4: 0.058976636826992036\n",
              "\tround 5: 0.0638621232509613"
            ]
          },
          "execution_count": 11,
          "metadata": {},
          "output_type": "execute_result"
        },
        {
          "name": "stdout",
          "output_type": "stream",
          "text": [
            "\u001b[36m(ClientAppActor pid=41600)\u001b[0m Client 1 loss 0.06372216534614562\n",
            "\u001b[36m(ClientAppActor pid=41600)\u001b[0m Client 1 accuracy 0.546\n"
          ]
        }
      ],
      "source": [
        "fl.simulation.start_simulation(\n",
        "    client_fn=client_fn,\n",
        "    num_clients=10,\n",
        "    config=fl.server.ServerConfig(num_rounds=10),\n",
        "    client_resources=client_resources,\n",
        ")"
      ]
    },
    {
      "cell_type": "code",
      "execution_count": 2,
      "metadata": {},
      "outputs": [
        {
          "name": "stdout",
          "output_type": "stream",
          "text": [
            "MOOWMMWO\n"
          ]
        }
      ],
      "source": []
    },
    {
      "cell_type": "code",
      "execution_count": null,
      "metadata": {},
      "outputs": [],
      "source": []
    }
  ],
  "metadata": {
    "colab": {
      "provenance": []
    },
    "kernelspec": {
      "display_name": "Python 3",
      "name": "python3"
    },
    "language_info": {
      "codemirror_mode": {
        "name": "ipython",
        "version": 3
      },
      "file_extension": ".py",
      "mimetype": "text/x-python",
      "name": "python",
      "nbconvert_exporter": "python",
      "pygments_lexer": "ipython3",
      "version": "3.12.4"
    }
  },
  "nbformat": 4,
  "nbformat_minor": 0
}
