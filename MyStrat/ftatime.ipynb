{
  "cells": [
    {
      "cell_type": "code",
      "execution_count": 1,
      "metadata": {
        "colab": {
          "base_uri": "https://localhost:8080/"
        },
        "id": "OZdR1WXDEGxY",
        "outputId": "34c4f998-2ca0-4252-e4f7-424c286a9224"
      },
      "outputs": [
        {
          "name": "stdout",
          "output_type": "stream",
          "text": [
            "\u001b[2K     \u001b[90m━━━━━━━━━━━━━━━━━━━━━━━━━━━━━━━━━━━━━━━━\u001b[0m \u001b[32m330.1/330.1 kB\u001b[0m \u001b[31m4.8 MB/s\u001b[0m eta \u001b[36m0:00:00\u001b[0m\n",
            "\u001b[2K     \u001b[90m━━━━━━━━━━━━━━━━━━━━━━━━━━━━━━━━━━━━━━━━\u001b[0m \u001b[32m294.6/294.6 kB\u001b[0m \u001b[31m11.2 MB/s\u001b[0m eta \u001b[36m0:00:00\u001b[0m\n",
            "\u001b[2K     \u001b[90m━━━━━━━━━━━━━━━━━━━━━━━━━━━━━━━━━━━━━━━━\u001b[0m \u001b[32m2.1/2.1 MB\u001b[0m \u001b[31m31.7 MB/s\u001b[0m eta \u001b[36m0:00:00\u001b[0m\n",
            "\u001b[2K     \u001b[90m━━━━━━━━━━━━━━━━━━━━━━━━━━━━━━━━━━━━━━━━\u001b[0m \u001b[32m3.1/3.1 MB\u001b[0m \u001b[31m49.0 MB/s\u001b[0m eta \u001b[36m0:00:00\u001b[0m\n",
            "\u001b[2K     \u001b[90m━━━━━━━━━━━━━━━━━━━━━━━━━━━━━━━━━━━━━━━━\u001b[0m \u001b[32m56.9/56.9 MB\u001b[0m \u001b[31m9.9 MB/s\u001b[0m eta \u001b[36m0:00:00\u001b[0m\n",
            "\u001b[?25h\u001b[31mERROR: pip's dependency resolver does not currently take into account all the packages that are installed. This behaviour is the source of the following dependency conflicts.\n",
            "tensorflow-metadata 1.15.0 requires protobuf<4.21,>=3.20.3; python_version < \"3.11\", but you have protobuf 4.25.3 which is incompatible.\u001b[0m\u001b[31m\n",
            "\u001b[0m"
          ]
        }
      ],
      "source": [
        "!pip install -q flwr[simulation] torch torchvision"
      ]
    },
    {
      "cell_type": "code",
      "execution_count": 1,
      "metadata": {
        "colab": {
          "base_uri": "https://localhost:8080/"
        },
        "id": "obhFyleoEM9F",
        "outputId": "99c58edc-bb25-469f-b692-769941f695ce"
      },
      "outputs": [
        {
          "name": "stdout",
          "output_type": "stream",
          "text": [
            "Training on cuda using PyTorch 2.3.1 and Flower 1.9.0\n"
          ]
        }
      ],
      "source": [
        "from collections import OrderedDict\n",
        "from typing import Dict, List, Optional, Tuple\n",
        "\n",
        "import numpy as np\n",
        "import torch\n",
        "import torch.nn as nn\n",
        "import torch.nn.functional as F\n",
        "import torchvision.transforms as transforms\n",
        "from torch.utils.data import DataLoader, random_split\n",
        "from torchvision.datasets import CIFAR10\n",
        "import time\n",
        "import flwr as fl\n",
        "from scipy import stats as st\n",
        "\n",
        "DEVICE = torch.device(\"cuda\")  # Try \"cuda\" to train on GPU\n",
        "print(\n",
        "    f\"Training on {DEVICE} using PyTorch {torch.__version__} and Flower {fl.__version__}\"\n",
        ")"
      ]
    },
    {
      "cell_type": "code",
      "execution_count": 2,
      "metadata": {},
      "outputs": [
        {
          "name": "stdout",
          "output_type": "stream",
          "text": [
            "Gen RAM Free: 117.2 GB  | Proc size: 506.4 MB\n",
            "GPU RAM Free: 14767MB | Used: 1401MB | Util   9% | Total 16376MB\n"
          ]
        }
      ],
      "source": [
        "import psutil\n",
        "import humanize\n",
        "import os\n",
        "import GPUtil as GPU\n",
        "GPUs = GPU.getGPUs()\n",
        "# XXX: only one GPU on Colab and isn’t guaranteed\n",
        "gpu = GPUs[0]\n",
        "def printm():\n",
        "   process = psutil.Process(os.getpid())\n",
        "   print(\"Gen RAM Free: \" + humanize.naturalsize( psutil.virtual_memory().available ), \" | Proc size: \" + humanize.naturalsize( process.memory_info().rss))\n",
        "   print(\"GPU RAM Free: {0:.0f}MB | Used: {1:.0f}MB | Util {2:3.0f}% | Total {3:.0f}MB\".format(gpu.memoryFree, gpu.memoryUsed, gpu.memoryUtil*100, gpu.memoryTotal))\n",
        "printm()"
      ]
    },
    {
      "cell_type": "code",
      "execution_count": 3,
      "metadata": {
        "colab": {
          "base_uri": "https://localhost:8080/"
        },
        "id": "T2L0M1hDEQ54",
        "outputId": "d7c63f7f-13e7-4f97-ff2d-97443878fa29"
      },
      "outputs": [
        {
          "name": "stdout",
          "output_type": "stream",
          "text": [
            "Files already downloaded and verified\n",
            "Files already downloaded and verified\n"
          ]
        }
      ],
      "source": [
        "NUM_CLIENTS = 10\n",
        "\n",
        "\n",
        "def load_datasets(num_clients: int):\n",
        "    # Download and transform CIFAR-10 (train and test)\n",
        "    transform = transforms.Compose(\n",
        "        [transforms.ToTensor(), transforms.Normalize((0.5, 0.5, 0.5), (0.5, 0.5, 0.5))]\n",
        "    )\n",
        "    trainset = CIFAR10(\"./dataset\", train=True, download=True, transform=transform)\n",
        "    testset = CIFAR10(\"./dataset\", train=False, download=True, transform=transform)\n",
        "\n",
        "    # Split training set into `num_clients` partitions to simulate different local datasets\n",
        "    partition_size = len(trainset) // num_clients\n",
        "    lengths = [partition_size] * num_clients\n",
        "    datasets = random_split(trainset, lengths, torch.Generator().manual_seed(42))\n",
        "\n",
        "    # Split each partition into train/val and create DataLoader\n",
        "    trainloaders = []\n",
        "    valloaders = []\n",
        "    for ds in datasets:\n",
        "        len_val = len(ds) // 10  # 10 % validation set\n",
        "        len_train = len(ds) - len_val\n",
        "        lengths = [len_train, len_val]\n",
        "        ds_train, ds_val = random_split(ds, lengths, torch.Generator().manual_seed(42))\n",
        "        trainloaders.append(DataLoader(ds_train, batch_size=32, shuffle=True))\n",
        "        valloaders.append(DataLoader(ds_val, batch_size=32))\n",
        "    testloader = DataLoader(testset, batch_size=32)\n",
        "    return trainloaders, valloaders, testloader\n",
        "\n",
        "\n",
        "trainloaders, valloaders, testloader = load_datasets(NUM_CLIENTS)"
      ]
    },
    {
      "cell_type": "code",
      "execution_count": 4,
      "metadata": {
        "id": "4q9gZPKEEVZ0"
      },
      "outputs": [],
      "source": [
        "class Net(nn.Module):\n",
        "    def __init__(self) -> None:\n",
        "        super(Net, self).__init__()\n",
        "        self.conv1 = nn.Conv2d(3, 6, 5)\n",
        "        self.pool = nn.MaxPool2d(2, 2)\n",
        "        self.conv2 = nn.Conv2d(6, 16, 5)\n",
        "        self.fc1 = nn.Linear(16 * 5 * 5, 120)\n",
        "        self.fc2 = nn.Linear(120, 84)\n",
        "        self.fc3 = nn.Linear(84, 10)\n",
        "\n",
        "    def forward(self, x: torch.Tensor) -> torch.Tensor:\n",
        "        x = self.pool(F.relu(self.conv1(x)))\n",
        "        x = self.pool(F.relu(self.conv2(x)))\n",
        "        x = x.view(-1, 16 * 5 * 5)\n",
        "        x = F.relu(self.fc1(x))\n",
        "        x = F.relu(self.fc2(x))\n",
        "        x = self.fc3(x)\n",
        "        return x\n",
        "\n",
        "\n",
        "def get_parameters(net) -> List[np.ndarray]:\n",
        "    return [val.cpu().numpy() for _, val in net.state_dict().items()]\n",
        "\n",
        "\n",
        "def set_parameters(net, parameters: List[np.ndarray]):\n",
        "    params_dict = zip(net.state_dict().keys(), parameters)\n",
        "    state_dict = OrderedDict({k: torch.Tensor(v) for k, v in params_dict})\n",
        "    net.load_state_dict(state_dict, strict=True)\n",
        "\n",
        "\n",
        "def train(net, trainloader, epochs: int):\n",
        "    \"\"\"Train the network on the training set.\"\"\"\n",
        "    criterion = torch.nn.CrossEntropyLoss()\n",
        "    optimizer = torch.optim.Adam(net.parameters())\n",
        "    net.train()\n",
        "    for epoch in range(epochs):  # Use the passed 'epochs' variable here\n",
        "        correct, total, epoch_loss = 0, 0, 0.0\n",
        "        for images, labels in trainloader:\n",
        "            images, labels = images.to(DEVICE), labels.to(DEVICE)\n",
        "            optimizer.zero_grad()\n",
        "            outputs = net(images)\n",
        "            loss = criterion(outputs, labels)\n",
        "            loss.backward()\n",
        "            optimizer.step()\n",
        "            # Metrics\n",
        "            epoch_loss += loss.item()  # Make sure to call .item() to get the scalar value\n",
        "            total += labels.size(0)\n",
        "            correct += (torch.max(outputs.data, 1)[1] == labels).sum().item()\n",
        "        epoch_loss /= len(trainloader.dataset)\n",
        "        epoch_acc = correct / total\n",
        "        print(f\"Epoch {epoch}: train loss {epoch_loss:.6f}, accuracy {epoch_acc:.6f}\")\n",
        "\n",
        "\n",
        "\n",
        "def test(net, testloader):\n",
        "    \"\"\"Evaluate the network on the entire test set.\"\"\"\n",
        "    criterion = torch.nn.CrossEntropyLoss()\n",
        "    correct, total, loss = 0, 0, 0.0\n",
        "    net.eval()\n",
        "    with torch.no_grad():\n",
        "        for images, labels in testloader:\n",
        "            images, labels = images.to(DEVICE), labels.to(DEVICE)\n",
        "            outputs = net(images)\n",
        "            loss += criterion(outputs, labels).item()\n",
        "            _, predicted = torch.max(outputs.data, 1)\n",
        "            total += labels.size(0)\n",
        "            correct += (predicted == labels).sum().item()\n",
        "    loss /= len(testloader.dataset)\n",
        "    accuracy = correct / total\n",
        "    return loss, accuracy"
      ]
    },
    {
      "cell_type": "code",
      "execution_count": 5,
      "metadata": {
        "id": "DpDR8IdSEX0E"
      },
      "outputs": [],
      "source": [
        "class FlowerClient(fl.client.NumPyClient):\n",
        "    def __init__(self, cid, net, trainloader, valloader):\n",
        "        self.cid = cid\n",
        "        self.net = net\n",
        "        self.trainloader = trainloader\n",
        "        self.valloader = valloader\n",
        "\n",
        "    def get_parameters(self):\n",
        "        print(f\"[Client {self.cid}] get_parameters\")\n",
        "        return get_parameters(self.net)\n",
        "\n",
        "    def fit(self, parameters, config):\n",
        "        print(f\"[Client {self.cid}] fit, config: {config}\")\n",
        "        set_parameters(self.net, parameters)\n",
        "        epochs = config.get(\"epochs\", 1)\n",
        "        start_time = time.time()  # Start time measurement\n",
        "        train(self.net, self.trainloader, epochs)\n",
        "        training_time = time.time() - start_time  # Calculate duration\n",
        "        print(f\"Training time for Client {self.cid}: {training_time:.2f} seconds\")\n",
        "        return get_parameters(self.net), len(self.trainloader), {\"training_time\": training_time}\n",
        "\n",
        "\n",
        "\n",
        "    def evaluate(self, parameters, config):\n",
        "        print(f\"[Client {self.cid}] evaluate, config: {config}\")\n",
        "        set_parameters(self.net, parameters)\n",
        "        loss, accuracy = test(self.net, self.valloader)\n",
        "        return float(loss), len(self.valloader), {\"accuracy\": float(accuracy)}\n",
        "\n",
        "\n",
        "def client_fn(cid) -> FlowerClient:\n",
        "    net = Net().to(DEVICE)\n",
        "    trainloader = trainloaders[int(cid)]\n",
        "    valloader = valloaders[int(cid)]\n",
        "    return FlowerClient(cid, net, trainloader, valloader).to_client()"
      ]
    },
    {
      "cell_type": "code",
      "execution_count": 9,
      "metadata": {
        "id": "mSYL7mrZE21l"
      },
      "outputs": [],
      "source": [
        "from typing import Callable, Union\n",
        "\n",
        "from flwr.common import (\n",
        "    EvaluateIns,\n",
        "    EvaluateRes,\n",
        "    FitIns,\n",
        "    FitRes,\n",
        "    MetricsAggregationFn,\n",
        "    NDArrays,\n",
        "    Parameters,\n",
        "    Scalar,\n",
        "    ndarrays_to_parameters,\n",
        "    parameters_to_ndarrays,\n",
        ")\n",
        "from flwr.server.client_manager import ClientManager\n",
        "from flwr.server.client_proxy import ClientProxy\n",
        "from flwr.server.strategy.aggregate import aggregate, weighted_loss_avg\n",
        "\n",
        "\n",
        "class FedCustom(fl.server.strategy.Strategy):\n",
        "    def __init__(\n",
        "        self,\n",
        "        fraction_fit: float = 1.0,\n",
        "        fraction_evaluate: float = 1.0,\n",
        "        min_fit_clients: int = 2,\n",
        "        min_evaluate_clients: int = 2,\n",
        "        min_available_clients: int = 2,\n",
        "    ) -> None:\n",
        "        super().__init__()\n",
        "        self.fraction_fit = fraction_fit\n",
        "        self.fraction_evaluate = fraction_evaluate\n",
        "        self.min_fit_clients = min_fit_clients\n",
        "        self.min_evaluate_clients = min_evaluate_clients\n",
        "        self.min_available_clients = min_available_clients\n",
        "        self.client_training_times = {}\n",
        "    def __repr__(self) -> str:\n",
        "        return \"FedCustom\"\n",
        "\n",
        "    def initialize_parameters(\n",
        "        self, client_manager: ClientManager\n",
        "    ) -> Optional[Parameters]:\n",
        "        \"\"\"Initialize global model parameters.\"\"\"\n",
        "        net = Net()\n",
        "        ndarrays = get_parameters(net)\n",
        "        return fl.common.ndarrays_to_parameters(ndarrays)\n",
        "\n",
        "    def configure_fit(self, server_round: int, parameters: Parameters, client_manager: ClientManager):\n",
        "        sample_size, min_num_clients = self.num_fit_clients(client_manager.num_available())\n",
        "        clients = client_manager.sample(num_clients=sample_size, min_num_clients=min_num_clients)\n",
        "        epochs_sc = 10\n",
        "        \n",
        "\n",
        "        standard_config = {\"lr\": 0.001, \"epochs\": epochs_sc}\n",
        "        \n",
        "        fit_configurations = []\n",
        "        mode_time = []\n",
        "        \n",
        "        for client in clients:\n",
        "            last_time = self.client_training_times.get(client.cid, 0)\n",
        "            print(f\"This is ths last time not a fantasy {last_time}and {client.cid}habhhahah\")\n",
        "            \n",
        "            mode_time.append(round(last_time,2))\n",
        "            print(f\"this is tehb mode time {mode_time}\")\n",
        "\n",
        "        modest_value = st.mode(np.array(mode_time))\n",
        "        print(f\"Yeh h modest valueueueueu{modest_value}\")\n",
        "        print(f\"yeh h server round {server_round}\")\n",
        "        min_value, max_value= np.min(modest_value),np.max(modest_value)\n",
        "        print(f\"this is the min value {min_value} and this is the max value {max_value}\")\n",
        "        \n",
        "        if min_value == max_value:\n",
        "            epochs_hl = epochs_sc   \n",
        "        else:\n",
        "            epochs_hl = int(np.floor((max_value-min_value)/max_value * epochs_sc)) \n",
        "\n",
        "        higher_lr_config = {\"lr\": 0.0001, \"epochs\": epochs_hl}\n",
        "        print(f\"The epochs for the higher lr is {epochs_hl} and the epochs for the standard lr is {epochs_sc}\")\n",
        "\n",
        "\n",
        "\n",
        "\n",
        "        for client in clients:\n",
        "            # Choose config based on the previous training time\n",
        "            last_time = self.client_training_times.get(client.cid, 0)  # Default to 0 if no time recorded\n",
        "            print(f\"This is the last time {last_time}\")\n",
        "            \n",
        "\n",
        "\n",
        "            config_to_use = standard_config if last_time < modest_value.mode else higher_lr_config\n",
        "            fit_configurations.append((client, FitIns(parameters, config_to_use)))\n",
        "\n",
        "        return fit_configurations\n",
        "\n",
        "    def aggregate_fit(\n",
        "        self,\n",
        "        server_round: int,\n",
        "        results: List[Tuple[ClientProxy, FitRes]],\n",
        "        failures: List[Union[Tuple[ClientProxy, FitRes], BaseException]],\n",
        "    ) -> Tuple[Optional[Parameters], Dict[str, Scalar]]:\n",
        "        \"\"\"Aggregate fit results using weighted average.\"\"\"\n",
        "        for client, fit_res in results:\n",
        "            # Update training times for each client\n",
        "            self.client_training_times[client.cid] = fit_res.metrics.get(\"training_time\", 0)\n",
        "        weights_results = [\n",
        "            (parameters_to_ndarrays(fit_res.parameters), fit_res.num_examples)\n",
        "            for _, fit_res in results\n",
        "        ]\n",
        "        parameters_aggregated = ndarrays_to_parameters(aggregate(weights_results))\n",
        "        metrics_aggregated = {}\n",
        "        return parameters_aggregated, metrics_aggregated\n",
        "\n",
        "\n",
        "    def configure_evaluate(\n",
        "        self, server_round: int, parameters: Parameters, client_manager: ClientManager\n",
        "    ) -> List[Tuple[ClientProxy, EvaluateIns]]:\n",
        "        \"\"\"Configure the next round of evaluation.\"\"\"\n",
        "        if self.fraction_evaluate == 0.0:\n",
        "            return []\n",
        "        config = {}\n",
        "        evaluate_ins = EvaluateIns(parameters, config)\n",
        "\n",
        "        # Sample clients\n",
        "        sample_size, min_num_clients = self.num_evaluation_clients(\n",
        "            client_manager.num_available()\n",
        "        )\n",
        "        clients = client_manager.sample(\n",
        "            num_clients=sample_size, min_num_clients=min_num_clients\n",
        "        )\n",
        "\n",
        "        # Return client/config pairs\n",
        "        return [(client, evaluate_ins) for client in clients]\n",
        "\n",
        "    def aggregate_evaluate(\n",
        "        self,\n",
        "        server_round: int,\n",
        "        results: List[Tuple[ClientProxy, EvaluateRes]],\n",
        "        failures: List[Union[Tuple[ClientProxy, EvaluateRes], BaseException]],\n",
        "    ) -> Tuple[Optional[float], Dict[str, Scalar]]:\n",
        "        \"\"\"Aggregate evaluation losses using weighted average.\"\"\"\n",
        "\n",
        "        if not results:\n",
        "            return None, {}\n",
        "\n",
        "        loss_aggregated = weighted_loss_avg(\n",
        "            [\n",
        "                (evaluate_res.num_examples, evaluate_res.loss)\n",
        "                for _, evaluate_res in results\n",
        "            ]\n",
        "        )\n",
        "        metrics_aggregated = {}\n",
        "        return loss_aggregated, metrics_aggregated\n",
        "\n",
        "    def evaluate(\n",
        "        self, server_round: int, parameters: Parameters\n",
        "    ) -> Optional[Tuple[float, Dict[str, Scalar]]]:\n",
        "        \"\"\"Evaluate global model parameters using an evalua\n",
        "        tion function.\"\"\"\n",
        "\n",
        "        # Let's assume we won't perform the global model evaluation on the server side.\n",
        "        return None\n",
        "\n",
        "    def num_fit_clients(self, num_available_clients: int) -> Tuple[int, int]:\n",
        "        \"\"\"Return sample size and required number of clients.\"\"\"\n",
        "        num_clients = int(num_available_clients * self.fraction_fit)\n",
        "        return max(num_clients, self.min_fit_clients), self.min_available_clients\n",
        "\n",
        "    def num_evaluation_clients(self, num_available_clients: int) -> Tuple[int, int]:\n",
        "        \"\"\"Use a fraction of available clients for evaluation.\"\"\"\n",
        "        num_clients = int(num_available_clients * self.fraction_evaluate)\n",
        "        return max(num_clients, self.min_evaluate_clients), self.min_available_clients"
      ]
    },
    {
      "cell_type": "code",
      "execution_count": 10,
      "metadata": {},
      "outputs": [],
      "source": [
        "if DEVICE.type == \"cuda\":\n",
        "    # Use a single client to train the global model\n",
        "    client_resources = {\"num_gpus\": .125, \"num_cpus\": 1} "
      ]
    },
    {
      "cell_type": "code",
      "execution_count": 11,
      "metadata": {
        "colab": {
          "base_uri": "https://localhost:8080/"
        },
        "id": "FvJM3bH4HDth",
        "outputId": "a273cb4a-ef0a-40e3-f789-e8f1f37366ce"
      },
      "outputs": [
        {
          "name": "stderr",
          "output_type": "stream",
          "text": [
            "\u001b[92mINFO \u001b[0m:      Starting Flower simulation, config: num_rounds=10, no round_timeout\n",
            "2024-07-08 12:29:59,625\tINFO worker.py:1771 -- Started a local Ray instance.\n",
            "\u001b[92mINFO \u001b[0m:      Flower VCE: Ray initialized with resources: {'node:__internal_head__': 1.0, 'CPU': 32.0, 'object_store_memory': 34982750208.0, 'accelerator_type:RTX': 1.0, 'memory': 71626417152.0, 'GPU': 1.0, 'node:127.0.0.1': 1.0}\n",
            "\u001b[92mINFO \u001b[0m:      Optimize your simulation with Flower VCE: https://flower.ai/docs/framework/how-to-run-simulations.html\n",
            "\u001b[92mINFO \u001b[0m:      Flower VCE: Resources for each Virtual Client: {'num_gpus': 0.125, 'num_cpus': 1}\n",
            "\u001b[92mINFO \u001b[0m:      Flower VCE: Creating VirtualClientEngineActorPool with 8 actors\n",
            "\u001b[92mINFO \u001b[0m:      [INIT]\n",
            "\u001b[92mINFO \u001b[0m:      Using initial global parameters provided by strategy\n",
            "\u001b[92mINFO \u001b[0m:      Evaluating initial global parameters\n",
            "\u001b[92mINFO \u001b[0m:      \n",
            "\u001b[92mINFO \u001b[0m:      [ROUND 1]\n",
            "\u001b[92mINFO \u001b[0m:      configure_fit: strategy sampled 10 clients (out of 10)\n"
          ]
        },
        {
          "name": "stdout",
          "output_type": "stream",
          "text": [
            "This is ths last time not a fantasy 0and 5habhhahah\n",
            "this is tehb mode time [0]\n",
            "This is ths last time not a fantasy 0and 6habhhahah\n",
            "this is tehb mode time [0, 0]\n",
            "This is ths last time not a fantasy 0and 8habhhahah\n",
            "this is tehb mode time [0, 0, 0]\n",
            "This is ths last time not a fantasy 0and 7habhhahah\n",
            "this is tehb mode time [0, 0, 0, 0]\n",
            "This is ths last time not a fantasy 0and 1habhhahah\n",
            "this is tehb mode time [0, 0, 0, 0, 0]\n",
            "This is ths last time not a fantasy 0and 9habhhahah\n",
            "this is tehb mode time [0, 0, 0, 0, 0, 0]\n",
            "This is ths last time not a fantasy 0and 4habhhahah\n",
            "this is tehb mode time [0, 0, 0, 0, 0, 0, 0]\n",
            "This is ths last time not a fantasy 0and 3habhhahah\n",
            "this is tehb mode time [0, 0, 0, 0, 0, 0, 0, 0]\n",
            "This is ths last time not a fantasy 0and 0habhhahah\n",
            "this is tehb mode time [0, 0, 0, 0, 0, 0, 0, 0, 0]\n",
            "This is ths last time not a fantasy 0and 2habhhahah\n",
            "this is tehb mode time [0, 0, 0, 0, 0, 0, 0, 0, 0, 0]\n",
            "Yeh h modest valueueueueuModeResult(mode=0, count=10)\n",
            "yeh h server round 1\n",
            "this is the min value 0 and this is the max value 10\n",
            "The epochs for the higher lr is 10 and the epochs for the standard lr is 10\n",
            "This is the last time 0\n",
            "This is the last time 0\n",
            "This is the last time 0\n",
            "This is the last time 0\n",
            "This is the last time 0\n",
            "This is the last time 0\n",
            "This is the last time 0\n",
            "This is the last time 0\n",
            "This is the last time 0\n",
            "This is the last time 0\n",
            "\u001b[36m(ClientAppActor pid=26848)\u001b[0m [Client 5] fit, config: {'lr': 0.0001, 'epochs': 10}\n",
            "\u001b[36m(ClientAppActor pid=26848)\u001b[0m Epoch 0: train loss 0.065363, accuracy 0.219333\n",
            "\u001b[36m(ClientAppActor pid=22216)\u001b[0m [Client 9] fit, config: {'lr': 0.0001, 'epochs': 10}\u001b[32m [repeated 5x across cluster]\u001b[0m\n",
            "\u001b[36m(ClientAppActor pid=22216)\u001b[0m Epoch 0: train loss 0.064790, accuracy 0.221111\u001b[32m [repeated 11x across cluster]\u001b[0m\n",
            "\u001b[36m(ClientAppActor pid=38256)\u001b[0m [Client 3] fit, config: {'lr': 0.0001, 'epochs': 10}\u001b[32m [repeated 2x across cluster]\u001b[0m\n",
            "\u001b[36m(ClientAppActor pid=26848)\u001b[0m Epoch 5: train loss 0.044728, accuracy 0.482444\u001b[32m [repeated 18x across cluster]\u001b[0m\n",
            "\u001b[36m(ClientAppActor pid=22216)\u001b[0m Epoch 5: train loss 0.044041, accuracy 0.483111\u001b[32m [repeated 20x across cluster]\u001b[0m\n",
            "\u001b[36m(ClientAppActor pid=26848)\u001b[0m Training time for Client 5: 21.59 seconds\n",
            "\u001b[36m(ClientAppActor pid=26848)\u001b[0m [Client 0] fit, config: {'lr': 0.0001, 'epochs': 10}\n",
            "\u001b[36m(ClientAppActor pid=12980)\u001b[0m Epoch 6: train loss 0.042923, accuracy 0.507111\u001b[32m [repeated 15x across cluster]\u001b[0m\n",
            "\u001b[36m(ClientAppActor pid=22216)\u001b[0m Training time for Client 9: 22.18 seconds\u001b[32m [repeated 5x across cluster]\u001b[0m\n",
            "\u001b[36m(ClientAppActor pid=24908)\u001b[0m [Client 2] fit, config: {'lr': 0.0001, 'epochs': 10}\n",
            "\u001b[36m(ClientAppActor pid=26848)\u001b[0m Epoch 2: train loss 0.051725, accuracy 0.394667\u001b[32m [repeated 19x across cluster]\u001b[0m\n",
            "\u001b[36m(ClientAppActor pid=38256)\u001b[0m Training time for Client 3: 21.93 seconds\u001b[32m [repeated 2x across cluster]\u001b[0m\n",
            "\u001b[36m(ClientAppActor pid=24908)\u001b[0m Epoch 4: train loss 0.047159, accuracy 0.446222\u001b[32m [repeated 6x across cluster]\u001b[0m\n",
            "\u001b[36m(ClientAppActor pid=26848)\u001b[0m Epoch 7: train loss 0.038957, accuracy 0.552889\u001b[32m [repeated 5x across cluster]\u001b[0m\n",
            "\u001b[36m(ClientAppActor pid=26848)\u001b[0m Training time for Client 0: 22.33 seconds\n"
          ]
        },
        {
          "name": "stderr",
          "output_type": "stream",
          "text": [
            "\u001b[92mINFO \u001b[0m:      aggregate_fit: received 10 results and 0 failures\n",
            "\u001b[92mINFO \u001b[0m:      configure_evaluate: strategy sampled 10 clients (out of 10)\n"
          ]
        },
        {
          "name": "stdout",
          "output_type": "stream",
          "text": [
            "\u001b[36m(ClientAppActor pid=24908)\u001b[0m Epoch 9: train loss 0.037780, accuracy 0.558222\u001b[32m [repeated 5x across cluster]\u001b[0m\n",
            "\u001b[36m(ClientAppActor pid=24908)\u001b[0m [Client 1] evaluate, config: {}\n",
            "\u001b[36m(ClientAppActor pid=24908)\u001b[0m Training time for Client 2: 22.29 seconds\n",
            "\u001b[36m(ClientAppActor pid=22216)\u001b[0m [Client 2] evaluate, config: {}\u001b[32m [repeated 5x across cluster]\u001b[0m\n"
          ]
        },
        {
          "name": "stderr",
          "output_type": "stream",
          "text": [
            "\u001b[92mINFO \u001b[0m:      aggregate_evaluate: received 10 results and 0 failures\n",
            "\u001b[92mINFO \u001b[0m:      \n",
            "\u001b[92mINFO \u001b[0m:      [ROUND 2]\n",
            "\u001b[92mINFO \u001b[0m:      configure_fit: strategy sampled 10 clients (out of 10)\n"
          ]
        },
        {
          "name": "stdout",
          "output_type": "stream",
          "text": [
            "This is ths last time not a fantasy 22.240552186965942and 4habhhahah\n",
            "this is tehb mode time [22.24]\n",
            "This is ths last time not a fantasy 21.584091901779175and 6habhhahah\n",
            "this is tehb mode time [22.24, 21.58]\n",
            "This is ths last time not a fantasy 22.695000410079956and 7habhhahah\n",
            "this is tehb mode time [22.24, 21.58, 22.7]\n",
            "This is ths last time not a fantasy 22.290004014968872and 2habhhahah\n",
            "this is tehb mode time [22.24, 21.58, 22.7, 22.29]\n",
            "This is ths last time not a fantasy 22.18403172492981and 9habhhahah\n",
            "this is tehb mode time [22.24, 21.58, 22.7, 22.29, 22.18]\n",
            "This is ths last time not a fantasy 21.888082027435303and 8habhhahah\n",
            "this is tehb mode time [22.24, 21.58, 22.7, 22.29, 22.18, 21.89]\n",
            "This is ths last time not a fantasy 22.332510471343994and 0habhhahah\n",
            "this is tehb mode time [22.24, 21.58, 22.7, 22.29, 22.18, 21.89, 22.33]\n",
            "This is ths last time not a fantasy 21.326329469680786and 1habhhahah\n",
            "this is tehb mode time [22.24, 21.58, 22.7, 22.29, 22.18, 21.89, 22.33, 21.33]\n",
            "This is ths last time not a fantasy 21.589778423309326and 5habhhahah\n",
            "this is tehb mode time [22.24, 21.58, 22.7, 22.29, 22.18, 21.89, 22.33, 21.33, 21.59]\n",
            "This is ths last time not a fantasy 21.929553985595703and 3habhhahah\n",
            "this is tehb mode time [22.24, 21.58, 22.7, 22.29, 22.18, 21.89, 22.33, 21.33, 21.59, 21.93]\n",
            "Yeh h modest valueueueueuModeResult(mode=21.33, count=1)\n",
            "yeh h server round 2\n",
            "this is the min value 1.0 and this is the max value 21.33\n",
            "The epochs for the higher lr is 9 and the epochs for the standard lr is 10\n",
            "This is the last time 22.240552186965942\n",
            "This is the last time 21.584091901779175\n",
            "This is the last time 22.695000410079956\n",
            "This is the last time 22.290004014968872\n",
            "This is the last time 22.18403172492981\n",
            "This is the last time 21.888082027435303\n",
            "This is the last time 22.332510471343994\n",
            "This is the last time 21.326329469680786\n",
            "This is the last time 21.589778423309326\n",
            "This is the last time 21.929553985595703\n",
            "\u001b[36m(ClientAppActor pid=26848)\u001b[0m [Client 4] fit, config: {'lr': 0.0001, 'epochs': 9}\n",
            "\u001b[36m(ClientAppActor pid=26848)\u001b[0m [Client 9] evaluate, config: {}\u001b[32m [repeated 4x across cluster]\u001b[0m\n",
            "\u001b[36m(ClientAppActor pid=26848)\u001b[0m Epoch 0: train loss 0.047164, accuracy 0.461778\n",
            "\u001b[36m(ClientAppActor pid=11016)\u001b[0m [Client 9] fit, config: {'lr': 0.0001, 'epochs': 9}\u001b[32m [repeated 4x across cluster]\u001b[0m\n",
            "\u001b[36m(ClientAppActor pid=11016)\u001b[0m Epoch 0: train loss 0.047337, accuracy 0.456444\u001b[32m [repeated 8x across cluster]\u001b[0m\n",
            "\u001b[36m(ClientAppActor pid=12980)\u001b[0m [Client 1] fit, config: {'lr': 0.001, 'epochs': 10}\u001b[32m [repeated 3x across cluster]\u001b[0m\n",
            "\u001b[36m(ClientAppActor pid=11016)\u001b[0m Epoch 3: train loss 0.038922, accuracy 0.553333\u001b[32m [repeated 22x across cluster]\u001b[0m\n",
            "\u001b[36m(ClientAppActor pid=11300)\u001b[0m Epoch 7: train loss 0.030282, accuracy 0.655333\u001b[32m [repeated 19x across cluster]\u001b[0m\n",
            "\u001b[36m(ClientAppActor pid=26848)\u001b[0m Training time for Client 4: 19.57 seconds\n",
            "\u001b[36m(ClientAppActor pid=26848)\u001b[0m [Client 5] fit, config: {'lr': 0.0001, 'epochs': 9}\n",
            "\u001b[36m(ClientAppActor pid=12980)\u001b[0m Epoch 6: train loss 0.030031, accuracy 0.657556\u001b[32m [repeated 16x across cluster]\u001b[0m\n",
            "\u001b[36m(ClientAppActor pid=11016)\u001b[0m Training time for Client 9: 19.33 seconds\u001b[32m [repeated 4x across cluster]\u001b[0m\n",
            "\u001b[36m(ClientAppActor pid=11300)\u001b[0m [Client 3] fit, config: {'lr': 0.0001, 'epochs': 9}\n",
            "\u001b[36m(ClientAppActor pid=26848)\u001b[0m Epoch 3: train loss 0.039245, accuracy 0.547111\u001b[32m [repeated 13x across cluster]\u001b[0m\n",
            "\u001b[36m(ClientAppActor pid=12980)\u001b[0m Training time for Client 1: 21.47 seconds\u001b[32m [repeated 3x across cluster]\u001b[0m\n",
            "\u001b[36m(ClientAppActor pid=11300)\u001b[0m Epoch 5: train loss 0.034771, accuracy 0.601333\u001b[32m [repeated 6x across cluster]\u001b[0m\n",
            "\u001b[36m(ClientAppActor pid=26848)\u001b[0m Training time for Client 5: 20.04 seconds\n",
            "\u001b[36m(ClientAppActor pid=26848)\u001b[0m Epoch 8: train loss 0.027186, accuracy 0.695778\u001b[32m [repeated 5x across cluster]\u001b[0m\n"
          ]
        },
        {
          "name": "stderr",
          "output_type": "stream",
          "text": [
            "\u001b[92mINFO \u001b[0m:      aggregate_fit: received 10 results and 0 failures\n",
            "\u001b[92mINFO \u001b[0m:      configure_evaluate: strategy sampled 10 clients (out of 10)\n"
          ]
        },
        {
          "name": "stdout",
          "output_type": "stream",
          "text": [
            "\u001b[36m(ClientAppActor pid=11300)\u001b[0m [Client 7] evaluate, config: {}\n",
            "\u001b[36m(ClientAppActor pid=11300)\u001b[0m Training time for Client 3: 20.32 seconds\n",
            "\u001b[36m(ClientAppActor pid=11300)\u001b[0m Epoch 8: train loss 0.028156, accuracy 0.680667\n",
            "\u001b[36m(ClientAppActor pid=12980)\u001b[0m [Client 4] evaluate, config: {}\u001b[32m [repeated 5x across cluster]\u001b[0m\n"
          ]
        },
        {
          "name": "stderr",
          "output_type": "stream",
          "text": [
            "\u001b[92mINFO \u001b[0m:      aggregate_evaluate: received 10 results and 0 failures\n",
            "\u001b[92mINFO \u001b[0m:      \n",
            "\u001b[92mINFO \u001b[0m:      [ROUND 3]\n",
            "\u001b[92mINFO \u001b[0m:      configure_fit: strategy sampled 10 clients (out of 10)\n"
          ]
        },
        {
          "name": "stdout",
          "output_type": "stream",
          "text": [
            "This is ths last time not a fantasy 19.767863035202026and 8habhhahah\n",
            "this is tehb mode time [19.77]\n",
            "This is ths last time not a fantasy 19.19486665725708and 0habhhahah\n",
            "this is tehb mode time [19.77, 19.19]\n",
            "This is ths last time not a fantasy 20.044375896453857and 5habhhahah\n",
            "this is tehb mode time [19.77, 19.19, 20.04]\n",
            "This is ths last time not a fantasy 19.330932140350342and 9habhhahah\n",
            "this is tehb mode time [19.77, 19.19, 20.04, 19.33]\n",
            "This is ths last time not a fantasy 20.315326690673828and 3habhhahah\n",
            "this is tehb mode time [19.77, 19.19, 20.04, 19.33, 20.32]\n",
            "This is ths last time not a fantasy 19.868510723114014and 6habhhahah\n",
            "this is tehb mode time [19.77, 19.19, 20.04, 19.33, 20.32, 19.87]\n",
            "This is ths last time not a fantasy 19.574504613876343and 4habhhahah\n",
            "this is tehb mode time [19.77, 19.19, 20.04, 19.33, 20.32, 19.87, 19.57]\n",
            "This is ths last time not a fantasy 21.46993589401245and 1habhhahah\n",
            "this is tehb mode time [19.77, 19.19, 20.04, 19.33, 20.32, 19.87, 19.57, 21.47]\n",
            "This is ths last time not a fantasy 19.06772017478943and 7habhhahah\n",
            "this is tehb mode time [19.77, 19.19, 20.04, 19.33, 20.32, 19.87, 19.57, 21.47, 19.07]\n",
            "This is ths last time not a fantasy 19.295812129974365and 2habhhahah\n",
            "this is tehb mode time [19.77, 19.19, 20.04, 19.33, 20.32, 19.87, 19.57, 21.47, 19.07, 19.3]\n",
            "Yeh h modest valueueueueuModeResult(mode=19.07, count=1)\n",
            "yeh h server round 3\n",
            "this is the min value 1.0 and this is the max value 19.07\n",
            "The epochs for the higher lr is 9 and the epochs for the standard lr is 10\n",
            "This is the last time 19.767863035202026\n",
            "This is the last time 19.19486665725708\n",
            "This is the last time 20.044375896453857\n",
            "This is the last time 19.330932140350342\n",
            "This is the last time 20.315326690673828\n",
            "This is the last time 19.868510723114014\n",
            "This is the last time 19.574504613876343\n",
            "This is the last time 21.46993589401245\n",
            "This is the last time 19.06772017478943\n",
            "This is the last time 19.295812129974365\n",
            "\u001b[36m(ClientAppActor pid=38256)\u001b[0m [Client 8] fit, config: {'lr': 0.0001, 'epochs': 9}\n",
            "\u001b[36m(ClientAppActor pid=38256)\u001b[0m [Client 8] evaluate, config: {}\u001b[32m [repeated 4x across cluster]\u001b[0m\n",
            "\u001b[36m(ClientAppActor pid=38256)\u001b[0m Epoch 0: train loss 0.038424, accuracy 0.573111\n",
            "\u001b[36m(ClientAppActor pid=12980)\u001b[0m [Client 3] fit, config: {'lr': 0.0001, 'epochs': 9}\u001b[32m [repeated 4x across cluster]\u001b[0m\n",
            "\u001b[36m(ClientAppActor pid=11016)\u001b[0m Epoch 0: train loss 0.039638, accuracy 0.552000\u001b[32m [repeated 11x across cluster]\u001b[0m\n",
            "\u001b[36m(ClientAppActor pid=22216)\u001b[0m [Client 1] fit, config: {'lr': 0.0001, 'epochs': 9}\u001b[32m [repeated 3x across cluster]\u001b[0m\n",
            "\u001b[36m(ClientAppActor pid=12980)\u001b[0m Epoch 3: train loss 0.029677, accuracy 0.674444\u001b[32m [repeated 19x across cluster]\u001b[0m\n",
            "\u001b[36m(ClientAppActor pid=24908)\u001b[0m Epoch 6: train loss 0.021061, accuracy 0.760000\u001b[32m [repeated 18x across cluster]\u001b[0m\n",
            "\u001b[36m(ClientAppActor pid=38256)\u001b[0m Training time for Client 8: 19.84 seconds\n",
            "\u001b[36m(ClientAppActor pid=38256)\u001b[0m [Client 7] fit, config: {'lr': 0.001, 'epochs': 10}\n",
            "\u001b[36m(ClientAppActor pid=18160)\u001b[0m Epoch 7: train loss 0.019709, accuracy 0.784444\u001b[32m [repeated 19x across cluster]\u001b[0m\n",
            "\u001b[36m(ClientAppActor pid=18160)\u001b[0m Training time for Client 4: 18.98 seconds\u001b[32m [repeated 6x across cluster]\u001b[0m\n",
            "\u001b[36m(ClientAppActor pid=26848)\u001b[0m [Client 2] fit, config: {'lr': 0.0001, 'epochs': 9}\n",
            "\u001b[36m(ClientAppActor pid=26848)\u001b[0m Epoch 2: train loss 0.032019, accuracy 0.643556\u001b[32m [repeated 10x across cluster]\u001b[0m\n",
            "\u001b[36m(ClientAppActor pid=22216)\u001b[0m Training time for Client 1: 19.26 seconds\n",
            "\u001b[36m(ClientAppActor pid=26848)\u001b[0m Epoch 5: train loss 0.023326, accuracy 0.738889\u001b[32m [repeated 6x across cluster]\u001b[0m\n"
          ]
        },
        {
          "name": "stderr",
          "output_type": "stream",
          "text": [
            "\u001b[92mINFO \u001b[0m:      aggregate_fit: received 10 results and 0 failures\n",
            "\u001b[92mINFO \u001b[0m:      configure_evaluate: strategy sampled 10 clients (out of 10)\n"
          ]
        },
        {
          "name": "stdout",
          "output_type": "stream",
          "text": [
            "\u001b[36m(ClientAppActor pid=38256)\u001b[0m Training time for Client 7: 22.48 seconds\n",
            "\u001b[36m(ClientAppActor pid=38256)\u001b[0m Epoch 9: train loss 0.013280, accuracy 0.863111\u001b[32m [repeated 6x across cluster]\u001b[0m\n",
            "\u001b[36m(ClientAppActor pid=26848)\u001b[0m [Client 8] evaluate, config: {}\n",
            "\u001b[36m(ClientAppActor pid=26848)\u001b[0m Training time for Client 2: 20.59 seconds\n",
            "\u001b[36m(ClientAppActor pid=26848)\u001b[0m Epoch 8: train loss 0.015497, accuracy 0.831778\n",
            "\u001b[36m(ClientAppActor pid=12980)\u001b[0m [Client 4] evaluate, config: {}\u001b[32m [repeated 5x across cluster]\u001b[0m\n"
          ]
        },
        {
          "name": "stderr",
          "output_type": "stream",
          "text": [
            "\u001b[92mINFO \u001b[0m:      aggregate_evaluate: received 10 results and 0 failures\n",
            "\u001b[92mINFO \u001b[0m:      \n",
            "\u001b[92mINFO \u001b[0m:      [ROUND 4]\n",
            "\u001b[92mINFO \u001b[0m:      configure_fit: strategy sampled 10 clients (out of 10)\n"
          ]
        },
        {
          "name": "stdout",
          "output_type": "stream",
          "text": [
            "This is ths last time not a fantasy 19.382705211639404and 3habhhahah\n",
            "this is tehb mode time [19.38]\n",
            "This is ths last time not a fantasy 19.261063814163208and 1habhhahah\n",
            "this is tehb mode time [19.38, 19.26]\n",
            "This is ths last time not a fantasy 19.84085512161255and 8habhhahah\n",
            "this is tehb mode time [19.38, 19.26, 19.84]\n",
            "This is ths last time not a fantasy 19.331087350845337and 5habhhahah\n",
            "this is tehb mode time [19.38, 19.26, 19.84, 19.33]\n",
            "This is ths last time not a fantasy 18.975648164749146and 4habhhahah\n",
            "this is tehb mode time [19.38, 19.26, 19.84, 19.33, 18.98]\n",
            "This is ths last time not a fantasy 20.585976123809814and 2habhhahah\n",
            "this is tehb mode time [19.38, 19.26, 19.84, 19.33, 18.98, 20.59]\n",
            "This is ths last time not a fantasy 18.809659481048584and 6habhhahah\n",
            "this is tehb mode time [19.38, 19.26, 19.84, 19.33, 18.98, 20.59, 18.81]\n",
            "This is ths last time not a fantasy 19.07798957824707and 9habhhahah\n",
            "this is tehb mode time [19.38, 19.26, 19.84, 19.33, 18.98, 20.59, 18.81, 19.08]\n",
            "This is ths last time not a fantasy 20.729432582855225and 0habhhahah\n",
            "this is tehb mode time [19.38, 19.26, 19.84, 19.33, 18.98, 20.59, 18.81, 19.08, 20.73]\n",
            "This is ths last time not a fantasy 22.475757837295532and 7habhhahah\n",
            "this is tehb mode time [19.38, 19.26, 19.84, 19.33, 18.98, 20.59, 18.81, 19.08, 20.73, 22.48]\n",
            "Yeh h modest valueueueueuModeResult(mode=18.81, count=1)\n",
            "yeh h server round 4\n",
            "this is the min value 1.0 and this is the max value 18.81\n",
            "The epochs for the higher lr is 9 and the epochs for the standard lr is 10\n",
            "This is the last time 19.382705211639404\n",
            "This is the last time 19.261063814163208\n",
            "This is the last time 19.84085512161255\n",
            "This is the last time 19.331087350845337\n",
            "This is the last time 18.975648164749146\n",
            "This is the last time 20.585976123809814\n",
            "This is the last time 18.809659481048584\n",
            "This is the last time 19.07798957824707\n",
            "This is the last time 20.729432582855225\n",
            "This is the last time 22.475757837295532\n",
            "\u001b[36m(ClientAppActor pid=38256)\u001b[0m [Client 3] fit, config: {'lr': 0.0001, 'epochs': 9}\n",
            "\u001b[36m(ClientAppActor pid=38256)\u001b[0m [Client 2] evaluate, config: {}\u001b[32m [repeated 4x across cluster]\u001b[0m\n",
            "\u001b[36m(ClientAppActor pid=38256)\u001b[0m Epoch 0: train loss 0.036912, accuracy 0.592222\n",
            "\u001b[36m(ClientAppActor pid=18160)\u001b[0m [Client 4] fit, config: {'lr': 0.0001, 'epochs': 9}\u001b[32m [repeated 4x across cluster]\u001b[0m\n",
            "\u001b[36m(ClientAppActor pid=24908)\u001b[0m Epoch 1: train loss 0.030734, accuracy 0.657556\u001b[32m [repeated 11x across cluster]\u001b[0m\n",
            "\u001b[36m(ClientAppActor pid=12980)\u001b[0m [Client 9] fit, config: {'lr': 0.0001, 'epochs': 9}\u001b[32m [repeated 3x across cluster]\u001b[0m\n",
            "\u001b[36m(ClientAppActor pid=38256)\u001b[0m Epoch 5: train loss 0.016245, accuracy 0.826444\u001b[32m [repeated 19x across cluster]\u001b[0m\n",
            "\u001b[36m(ClientAppActor pid=11300)\u001b[0m Epoch 7: train loss 0.010008, accuracy 0.895111\u001b[32m [repeated 18x across cluster]\u001b[0m\n",
            "\u001b[36m(ClientAppActor pid=38256)\u001b[0m Training time for Client 3: 19.66 seconds\n",
            "\u001b[36m(ClientAppActor pid=38256)\u001b[0m [Client 0] fit, config: {'lr': 0.0001, 'epochs': 9}\n",
            "\u001b[36m(ClientAppActor pid=11300)\u001b[0m Epoch 0: train loss 0.035357, accuracy 0.611111\u001b[32m [repeated 20x across cluster]\u001b[0m\n",
            "\u001b[36m(ClientAppActor pid=11016)\u001b[0m Training time for Client 2: 19.64 seconds\u001b[32m [repeated 5x across cluster]\u001b[0m\n",
            "\u001b[36m(ClientAppActor pid=11300)\u001b[0m [Client 7] fit, config: {'lr': 0.0001, 'epochs': 9}\n",
            "\u001b[36m(ClientAppActor pid=38256)\u001b[0m Epoch 3: train loss 0.021511, accuracy 0.763111\u001b[32m [repeated 11x across cluster]\u001b[0m\n",
            "\u001b[36m(ClientAppActor pid=22216)\u001b[0m Training time for Client 6: 21.89 seconds\u001b[32m [repeated 2x across cluster]\u001b[0m\n",
            "\u001b[36m(ClientAppActor pid=11300)\u001b[0m Epoch 5: train loss 0.015326, accuracy 0.835778\u001b[32m [repeated 5x across cluster]\u001b[0m\n",
            "\u001b[36m(ClientAppActor pid=38256)\u001b[0m Training time for Client 0: 20.54 seconds\n",
            "\u001b[36m(ClientAppActor pid=38256)\u001b[0m Epoch 8: train loss 0.008331, accuracy 0.916222\u001b[32m [repeated 5x across cluster]\u001b[0m\n"
          ]
        },
        {
          "name": "stderr",
          "output_type": "stream",
          "text": [
            "\u001b[92mINFO \u001b[0m:      aggregate_fit: received 10 results and 0 failures\n",
            "\u001b[92mINFO \u001b[0m:      configure_evaluate: strategy sampled 10 clients (out of 10)\n"
          ]
        },
        {
          "name": "stdout",
          "output_type": "stream",
          "text": [
            "\u001b[36m(ClientAppActor pid=11300)\u001b[0m [Client 5] evaluate, config: {}\n",
            "\u001b[36m(ClientAppActor pid=11300)\u001b[0m Training time for Client 7: 19.96 seconds\n",
            "\u001b[36m(ClientAppActor pid=11300)\u001b[0m Epoch 8: train loss 0.008324, accuracy 0.912000\n",
            "\u001b[36m(ClientAppActor pid=11016)\u001b[0m [Client 0] evaluate, config: {}\u001b[32m [repeated 5x across cluster]\u001b[0m\n"
          ]
        },
        {
          "name": "stderr",
          "output_type": "stream",
          "text": [
            "\u001b[92mINFO \u001b[0m:      aggregate_evaluate: received 10 results and 0 failures\n",
            "\u001b[92mINFO \u001b[0m:      \n",
            "\u001b[92mINFO \u001b[0m:      [ROUND 5]\n",
            "\u001b[92mINFO \u001b[0m:      configure_fit: strategy sampled 10 clients (out of 10)\n"
          ]
        },
        {
          "name": "stdout",
          "output_type": "stream",
          "text": [
            "This is ths last time not a fantasy 19.635547161102295and 2habhhahah\n",
            "this is tehb mode time [19.64]\n",
            "This is ths last time not a fantasy 19.510844469070435and 1habhhahah\n",
            "this is tehb mode time [19.64, 19.51]\n",
            "This is ths last time not a fantasy 19.23623538017273and 9habhhahah\n",
            "this is tehb mode time [19.64, 19.51, 19.24]\n",
            "This is ths last time not a fantasy 19.576558113098145and 5habhhahah\n",
            "this is tehb mode time [19.64, 19.51, 19.24, 19.58]\n",
            "This is ths last time not a fantasy 19.660849809646606and 3habhhahah\n",
            "this is tehb mode time [19.64, 19.51, 19.24, 19.58, 19.66]\n",
            "This is ths last time not a fantasy 19.960779666900635and 7habhhahah\n",
            "this is tehb mode time [19.64, 19.51, 19.24, 19.58, 19.66, 19.96]\n",
            "This is ths last time not a fantasy 20.53966760635376and 0habhhahah\n",
            "this is tehb mode time [19.64, 19.51, 19.24, 19.58, 19.66, 19.96, 20.54]\n",
            "This is ths last time not a fantasy 19.026532888412476and 8habhhahah\n",
            "this is tehb mode time [19.64, 19.51, 19.24, 19.58, 19.66, 19.96, 20.54, 19.03]\n",
            "This is ths last time not a fantasy 18.54466986656189and 4habhhahah\n",
            "this is tehb mode time [19.64, 19.51, 19.24, 19.58, 19.66, 19.96, 20.54, 19.03, 18.54]\n",
            "This is ths last time not a fantasy 21.887892961502075and 6habhhahah\n",
            "this is tehb mode time [19.64, 19.51, 19.24, 19.58, 19.66, 19.96, 20.54, 19.03, 18.54, 21.89]\n",
            "Yeh h modest valueueueueuModeResult(mode=18.54, count=1)\n",
            "yeh h server round 5\n",
            "this is the min value 1.0 and this is the max value 18.54\n",
            "The epochs for the higher lr is 9 and the epochs for the standard lr is 10\n",
            "This is the last time 19.635547161102295\n",
            "This is the last time 19.510844469070435\n",
            "This is the last time 19.23623538017273\n",
            "This is the last time 19.576558113098145\n",
            "This is the last time 19.660849809646606\n",
            "This is the last time 19.960779666900635\n",
            "This is the last time 20.53966760635376\n",
            "This is the last time 19.026532888412476\n",
            "This is the last time 18.54466986656189\n",
            "This is the last time 21.887892961502075\n",
            "\u001b[36m(ClientAppActor pid=11300)\u001b[0m [Client 2] fit, config: {'lr': 0.0001, 'epochs': 9}\n",
            "\u001b[36m(ClientAppActor pid=11300)\u001b[0m [Client 1] evaluate, config: {}\u001b[32m [repeated 4x across cluster]\u001b[0m\n",
            "\u001b[36m(ClientAppActor pid=11300)\u001b[0m Epoch 0: train loss 0.035509, accuracy 0.619556\n",
            "\u001b[36m(ClientAppActor pid=24908)\u001b[0m [Client 3] fit, config: {'lr': 0.0001, 'epochs': 9}\u001b[32m [repeated 4x across cluster]\u001b[0m\n",
            "\u001b[36m(ClientAppActor pid=38256)\u001b[0m Epoch 0: train loss 0.034981, accuracy 0.617556\u001b[32m [repeated 11x across cluster]\u001b[0m\n",
            "\u001b[36m(ClientAppActor pid=11016)\u001b[0m [Client 8] fit, config: {'lr': 0.0001, 'epochs': 9}\u001b[32m [repeated 3x across cluster]\u001b[0m\n",
            "\u001b[36m(ClientAppActor pid=12980)\u001b[0m Epoch 2: train loss 0.020953, accuracy 0.766444\u001b[32m [repeated 20x across cluster]\u001b[0m\n",
            "\u001b[36m(ClientAppActor pid=11016)\u001b[0m Epoch 4: train loss 0.012462, accuracy 0.871333\u001b[32m [repeated 18x across cluster]\u001b[0m\n",
            "\u001b[36m(ClientAppActor pid=11300)\u001b[0m Training time for Client 2: 19.66 seconds\n",
            "\u001b[36m(ClientAppActor pid=11300)\u001b[0m [Client 4] fit, config: {'lr': 0.0001, 'epochs': 9}\n",
            "\u001b[36m(ClientAppActor pid=26848)\u001b[0m Epoch 8: train loss 0.004915, accuracy 0.956667\u001b[32m [repeated 17x across cluster]\u001b[0m\n",
            "\u001b[36m(ClientAppActor pid=12980)\u001b[0m Training time for Client 0: 19.12 seconds\u001b[32m [repeated 5x across cluster]\u001b[0m\n",
            "\u001b[36m(ClientAppActor pid=22216)\u001b[0m [Client 6] fit, config: {'lr': 0.0001, 'epochs': 9}\n",
            "\u001b[36m(ClientAppActor pid=11300)\u001b[0m Epoch 3: train loss 0.017812, accuracy 0.809333\u001b[32m [repeated 12x across cluster]\u001b[0m\n",
            "\u001b[36m(ClientAppActor pid=11016)\u001b[0m Training time for Client 8: 18.92 seconds\u001b[32m [repeated 2x across cluster]\u001b[0m\n",
            "\u001b[36m(ClientAppActor pid=22216)\u001b[0m Epoch 5: train loss 0.009299, accuracy 0.905778\u001b[32m [repeated 5x across cluster]\u001b[0m\n",
            "\u001b[36m(ClientAppActor pid=11300)\u001b[0m Training time for Client 4: 20.30 seconds\n",
            "\u001b[36m(ClientAppActor pid=11300)\u001b[0m Epoch 8: train loss 0.005746, accuracy 0.945333\u001b[32m [repeated 5x across cluster]\u001b[0m\n"
          ]
        },
        {
          "name": "stderr",
          "output_type": "stream",
          "text": [
            "\u001b[92mINFO \u001b[0m:      aggregate_fit: received 10 results and 0 failures\n",
            "\u001b[92mINFO \u001b[0m:      configure_evaluate: strategy sampled 10 clients (out of 10)\n"
          ]
        },
        {
          "name": "stdout",
          "output_type": "stream",
          "text": [
            "\u001b[36m(ClientAppActor pid=22216)\u001b[0m [Client 9] evaluate, config: {}\n",
            "\u001b[36m(ClientAppActor pid=22216)\u001b[0m Training time for Client 6: 20.49 seconds\n",
            "\u001b[36m(ClientAppActor pid=22216)\u001b[0m Epoch 8: train loss 0.004679, accuracy 0.957333\n",
            "\u001b[36m(ClientAppActor pid=38256)\u001b[0m [Client 6] evaluate, config: {}\u001b[32m [repeated 5x across cluster]\u001b[0m\n"
          ]
        },
        {
          "name": "stderr",
          "output_type": "stream",
          "text": [
            "\u001b[92mINFO \u001b[0m:      aggregate_evaluate: received 10 results and 0 failures\n",
            "\u001b[92mINFO \u001b[0m:      \n",
            "\u001b[92mINFO \u001b[0m:      [ROUND 6]\n",
            "\u001b[92mINFO \u001b[0m:      configure_fit: strategy sampled 10 clients (out of 10)\n"
          ]
        },
        {
          "name": "stdout",
          "output_type": "stream",
          "text": [
            "This is ths last time not a fantasy 20.275988817214966and 5habhhahah\n",
            "this is tehb mode time [20.28]\n",
            "This is ths last time not a fantasy 19.119113206863403and 0habhhahah\n",
            "this is tehb mode time [20.28, 19.12]\n",
            "This is ths last time not a fantasy 18.96348810195923and 9habhhahah\n",
            "this is tehb mode time [20.28, 19.12, 18.96]\n",
            "This is ths last time not a fantasy 20.492990732192993and 6habhhahah\n",
            "this is tehb mode time [20.28, 19.12, 18.96, 20.49]\n",
            "This is ths last time not a fantasy 19.655427932739258and 2habhhahah\n",
            "this is tehb mode time [20.28, 19.12, 18.96, 20.49, 19.66]\n",
            "This is ths last time not a fantasy 20.297672510147095and 7habhhahah\n",
            "this is tehb mode time [20.28, 19.12, 18.96, 20.49, 19.66, 20.3]\n",
            "This is ths last time not a fantasy 20.296998977661133and 4habhhahah\n",
            "this is tehb mode time [20.28, 19.12, 18.96, 20.49, 19.66, 20.3, 20.3]\n",
            "This is ths last time not a fantasy 18.855089902877808and 3habhhahah\n",
            "this is tehb mode time [20.28, 19.12, 18.96, 20.49, 19.66, 20.3, 20.3, 18.86]\n",
            "This is ths last time not a fantasy 19.557424545288086and 1habhhahah\n",
            "this is tehb mode time [20.28, 19.12, 18.96, 20.49, 19.66, 20.3, 20.3, 18.86, 19.56]\n",
            "This is ths last time not a fantasy 18.918938636779785and 8habhhahah\n",
            "this is tehb mode time [20.28, 19.12, 18.96, 20.49, 19.66, 20.3, 20.3, 18.86, 19.56, 18.92]\n",
            "Yeh h modest valueueueueuModeResult(mode=20.3, count=2)\n",
            "yeh h server round 6\n",
            "this is the min value 2.0 and this is the max value 20.3\n",
            "The epochs for the higher lr is 9 and the epochs for the standard lr is 10\n",
            "This is the last time 20.275988817214966\n",
            "This is the last time 19.119113206863403\n",
            "This is the last time 18.96348810195923\n",
            "This is the last time 20.492990732192993\n",
            "This is the last time 19.655427932739258\n",
            "This is the last time 20.297672510147095\n",
            "This is the last time 20.296998977661133\n",
            "This is the last time 18.855089902877808\n",
            "This is the last time 19.557424545288086\n",
            "This is the last time 18.918938636779785\n",
            "\u001b[36m(ClientAppActor pid=11300)\u001b[0m [Client 5] fit, config: {'lr': 0.001, 'epochs': 10}\n",
            "\u001b[36m(ClientAppActor pid=11300)\u001b[0m [Client 5] evaluate, config: {}\u001b[32m [repeated 4x across cluster]\u001b[0m\n",
            "\u001b[36m(ClientAppActor pid=11300)\u001b[0m Epoch 0: train loss 0.036708, accuracy 0.614444\n",
            "\u001b[36m(ClientAppActor pid=26848)\u001b[0m [Client 7] fit, config: {'lr': 0.001, 'epochs': 10}\u001b[32m [repeated 5x across cluster]\u001b[0m\n",
            "\u001b[36m(ClientAppActor pid=26848)\u001b[0m Epoch 0: train loss 0.034694, accuracy 0.636444\u001b[32m [repeated 11x across cluster]\u001b[0m\n",
            "\u001b[36m(ClientAppActor pid=18160)\u001b[0m [Client 3] fit, config: {'lr': 0.001, 'epochs': 10}\u001b[32m [repeated 2x across cluster]\u001b[0m\n",
            "\u001b[36m(ClientAppActor pid=24908)\u001b[0m Epoch 2: train loss 0.018124, accuracy 0.795556\u001b[32m [repeated 19x across cluster]\u001b[0m\n",
            "\u001b[36m(ClientAppActor pid=26848)\u001b[0m Epoch 5: train loss 0.006415, accuracy 0.938667\u001b[32m [repeated 19x across cluster]\u001b[0m\n",
            "\u001b[36m(ClientAppActor pid=11300)\u001b[0m Training time for Client 5: 21.87 seconds\n",
            "\u001b[36m(ClientAppActor pid=26848)\u001b[0m Epoch 7: train loss 0.003575, accuracy 0.971333\u001b[32m [repeated 16x across cluster]\u001b[0m\n",
            "\u001b[36m(ClientAppActor pid=11300)\u001b[0m [Client 1] fit, config: {'lr': 0.001, 'epochs': 10}\n",
            "\u001b[36m(ClientAppActor pid=24908)\u001b[0m Training time for Client 4: 21.25 seconds\u001b[32m [repeated 6x across cluster]\u001b[0m\n",
            "\u001b[36m(ClientAppActor pid=18160)\u001b[0m Epoch 9: train loss 0.003637, accuracy 0.966222\u001b[32m [repeated 17x across cluster]\u001b[0m\n",
            "\u001b[36m(ClientAppActor pid=12980)\u001b[0m [Client 8] fit, config: {'lr': 0.001, 'epochs': 10}\n",
            "\u001b[36m(ClientAppActor pid=18160)\u001b[0m Training time for Client 3: 21.23 seconds\n",
            "\u001b[36m(ClientAppActor pid=12980)\u001b[0m Epoch 4: train loss 0.008966, accuracy 0.909778\u001b[32m [repeated 6x across cluster]\u001b[0m\n",
            "\u001b[36m(ClientAppActor pid=11300)\u001b[0m Epoch 7: train loss 0.003940, accuracy 0.966000\u001b[32m [repeated 5x across cluster]\u001b[0m\n",
            "\u001b[36m(ClientAppActor pid=11300)\u001b[0m Training time for Client 1: 22.60 seconds\n"
          ]
        },
        {
          "name": "stderr",
          "output_type": "stream",
          "text": [
            "\u001b[92mINFO \u001b[0m:      aggregate_fit: received 10 results and 0 failures\n",
            "\u001b[92mINFO \u001b[0m:      configure_evaluate: strategy sampled 10 clients (out of 10)\n"
          ]
        },
        {
          "name": "stdout",
          "output_type": "stream",
          "text": [
            "\u001b[36m(ClientAppActor pid=12980)\u001b[0m Epoch 9: train loss 0.001542, accuracy 0.989778\u001b[32m [repeated 5x across cluster]\u001b[0m\n",
            "\u001b[36m(ClientAppActor pid=12980)\u001b[0m [Client 5] evaluate, config: {}\n",
            "\u001b[36m(ClientAppActor pid=12980)\u001b[0m Training time for Client 8: 22.30 seconds\n",
            "\u001b[36m(ClientAppActor pid=11016)\u001b[0m [Client 1] evaluate, config: {}\u001b[32m [repeated 5x across cluster]\u001b[0m\n"
          ]
        },
        {
          "name": "stderr",
          "output_type": "stream",
          "text": [
            "\u001b[92mINFO \u001b[0m:      aggregate_evaluate: received 10 results and 0 failures\n",
            "\u001b[92mINFO \u001b[0m:      \n",
            "\u001b[92mINFO \u001b[0m:      [ROUND 7]\n",
            "\u001b[92mINFO \u001b[0m:      configure_fit: strategy sampled 10 clients (out of 10)\n"
          ]
        },
        {
          "name": "stdout",
          "output_type": "stream",
          "text": [
            "This is ths last time not a fantasy 21.866206884384155and 5habhhahah\n",
            "this is tehb mode time [21.87]\n",
            "This is ths last time not a fantasy 21.50134587287903and 2habhhahah\n",
            "this is tehb mode time [21.87, 21.5]\n",
            "This is ths last time not a fantasy 21.60929775238037and 0habhhahah\n",
            "this is tehb mode time [21.87, 21.5, 21.61]\n",
            "This is ths last time not a fantasy 22.29843235015869and 8habhhahah\n",
            "this is tehb mode time [21.87, 21.5, 21.61, 22.3]\n",
            "This is ths last time not a fantasy 21.35641050338745and 7habhhahah\n",
            "this is tehb mode time [21.87, 21.5, 21.61, 22.3, 21.36]\n",
            "This is ths last time not a fantasy 21.342787742614746and 9habhhahah\n",
            "this is tehb mode time [21.87, 21.5, 21.61, 22.3, 21.36, 21.34]\n",
            "This is ths last time not a fantasy 19.633217573165894and 6habhhahah\n",
            "this is tehb mode time [21.87, 21.5, 21.61, 22.3, 21.36, 21.34, 19.63]\n",
            "This is ths last time not a fantasy 21.254626274108887and 4habhhahah\n",
            "this is tehb mode time [21.87, 21.5, 21.61, 22.3, 21.36, 21.34, 19.63, 21.25]\n",
            "This is ths last time not a fantasy 22.598427295684814and 1habhhahah\n",
            "this is tehb mode time [21.87, 21.5, 21.61, 22.3, 21.36, 21.34, 19.63, 21.25, 22.6]\n",
            "This is ths last time not a fantasy 21.234880924224854and 3habhhahah\n",
            "this is tehb mode time [21.87, 21.5, 21.61, 22.3, 21.36, 21.34, 19.63, 21.25, 22.6, 21.23]\n",
            "Yeh h modest valueueueueuModeResult(mode=19.63, count=1)\n",
            "yeh h server round 7\n",
            "this is the min value 1.0 and this is the max value 19.63\n",
            "The epochs for the higher lr is 9 and the epochs for the standard lr is 10\n",
            "This is the last time 21.866206884384155\n",
            "This is the last time 21.50134587287903\n",
            "This is the last time 21.60929775238037\n",
            "This is the last time 22.29843235015869\n",
            "This is the last time 21.35641050338745\n",
            "This is the last time 21.342787742614746\n",
            "This is the last time 19.633217573165894\n",
            "This is the last time 21.254626274108887\n",
            "This is the last time 22.598427295684814\n",
            "This is the last time 21.234880924224854\n",
            "\u001b[36m(ClientAppActor pid=11300)\u001b[0m [Client 5] fit, config: {'lr': 0.0001, 'epochs': 9}\n",
            "\u001b[36m(ClientAppActor pid=11300)\u001b[0m [Client 3] evaluate, config: {}\u001b[32m [repeated 4x across cluster]\u001b[0m\n",
            "\u001b[36m(ClientAppActor pid=11300)\u001b[0m Epoch 0: train loss 0.037190, accuracy 0.628000\n",
            "\u001b[36m(ClientAppActor pid=26848)\u001b[0m [Client 7] fit, config: {'lr': 0.0001, 'epochs': 9}\u001b[32m [repeated 4x across cluster]\u001b[0m\n",
            "\u001b[36m(ClientAppActor pid=24908)\u001b[0m Epoch 0: train loss 0.034958, accuracy 0.648000\u001b[32m [repeated 11x across cluster]\u001b[0m\n",
            "\u001b[36m(ClientAppActor pid=12980)\u001b[0m [Client 4] fit, config: {'lr': 0.0001, 'epochs': 9}\u001b[32m [repeated 3x across cluster]\u001b[0m\n",
            "\u001b[36m(ClientAppActor pid=18160)\u001b[0m Epoch 2: train loss 0.014542, accuracy 0.839111\u001b[32m [repeated 20x across cluster]\u001b[0m\n",
            "\u001b[36m(ClientAppActor pid=24908)\u001b[0m Epoch 5: train loss 0.004335, accuracy 0.960000\u001b[32m [repeated 17x across cluster]\u001b[0m\n",
            "\u001b[36m(ClientAppActor pid=11300)\u001b[0m Training time for Client 5: 19.56 seconds\n",
            "\u001b[36m(ClientAppActor pid=11300)\u001b[0m [Client 1] fit, config: {'lr': 0.0001, 'epochs': 9}\n",
            "\u001b[36m(ClientAppActor pid=26848)\u001b[0m Epoch 8: train loss 0.003650, accuracy 0.964444\u001b[32m [repeated 19x across cluster]\u001b[0m\n",
            "\u001b[36m(ClientAppActor pid=18160)\u001b[0m Training time for Client 6: 18.92 seconds\u001b[32m [repeated 6x across cluster]\u001b[0m\n",
            "\u001b[36m(ClientAppActor pid=38256)\u001b[0m [Client 3] fit, config: {'lr': 0.0001, 'epochs': 9}\n",
            "\u001b[36m(ClientAppActor pid=38256)\u001b[0m Epoch 2: train loss 0.014858, accuracy 0.834444\u001b[32m [repeated 10x across cluster]\u001b[0m\n",
            "\u001b[36m(ClientAppActor pid=12980)\u001b[0m Training time for Client 4: 18.94 seconds\n",
            "\u001b[36m(ClientAppActor pid=11300)\u001b[0m Epoch 5: train loss 0.003826, accuracy 0.968222\u001b[32m [repeated 5x across cluster]\u001b[0m\n",
            "\u001b[36m(ClientAppActor pid=38256)\u001b[0m Epoch 7: train loss 0.002311, accuracy 0.984000\u001b[32m [repeated 5x across cluster]\u001b[0m\n",
            "\u001b[36m(ClientAppActor pid=11300)\u001b[0m Training time for Client 1: 20.69 seconds\n"
          ]
        },
        {
          "name": "stderr",
          "output_type": "stream",
          "text": [
            "\u001b[92mINFO \u001b[0m:      aggregate_fit: received 10 results and 0 failures\n",
            "\u001b[92mINFO \u001b[0m:      configure_evaluate: strategy sampled 10 clients (out of 10)\n"
          ]
        },
        {
          "name": "stdout",
          "output_type": "stream",
          "text": [
            "\u001b[36m(ClientAppActor pid=38256)\u001b[0m [Client 1] evaluate, config: {}\n",
            "\u001b[36m(ClientAppActor pid=38256)\u001b[0m Epoch 8: train loss 0.001541, accuracy 0.990889\u001b[32m [repeated 2x across cluster]\u001b[0m\n",
            "\u001b[36m(ClientAppActor pid=38256)\u001b[0m Training time for Client 3: 20.66 seconds\n",
            "\u001b[36m(ClientAppActor pid=24908)\u001b[0m [Client 5] evaluate, config: {}\u001b[32m [repeated 4x across cluster]\u001b[0m\n"
          ]
        },
        {
          "name": "stderr",
          "output_type": "stream",
          "text": [
            "\u001b[92mINFO \u001b[0m:      aggregate_evaluate: received 10 results and 0 failures\n",
            "\u001b[92mINFO \u001b[0m:      \n",
            "\u001b[92mINFO \u001b[0m:      [ROUND 8]\n",
            "\u001b[92mINFO \u001b[0m:      configure_fit: strategy sampled 10 clients (out of 10)\n"
          ]
        },
        {
          "name": "stdout",
          "output_type": "stream",
          "text": [
            "\u001b[36m(ClientAppActor pid=38256)\u001b[0m [Client 8] evaluate, config: {}\u001b[32m [repeated 5x across cluster]\u001b[0m\n",
            "This is ths last time not a fantasy 18.91233801841736and 7habhhahah\n",
            "this is tehb mode time [18.91]\n",
            "This is ths last time not a fantasy 20.68673610687256and 1habhhahah\n",
            "this is tehb mode time [18.91, 20.69]\n",
            "This is ths last time not a fantasy 19.38487458229065and 0habhhahah\n",
            "this is tehb mode time [18.91, 20.69, 19.38]\n",
            "This is ths last time not a fantasy 19.560503721237183and 5habhhahah\n",
            "this is tehb mode time [18.91, 20.69, 19.38, 19.56]\n",
            "This is ths last time not a fantasy 19.83351182937622and 2habhhahah\n",
            "this is tehb mode time [18.91, 20.69, 19.38, 19.56, 19.83]\n",
            "This is ths last time not a fantasy 18.935753345489502and 4habhhahah\n",
            "this is tehb mode time [18.91, 20.69, 19.38, 19.56, 19.83, 18.94]\n",
            "This is ths last time not a fantasy 20.659806728363037and 3habhhahah\n",
            "this is tehb mode time [18.91, 20.69, 19.38, 19.56, 19.83, 18.94, 20.66]\n",
            "This is ths last time not a fantasy 18.851578950881958and 9habhhahah\n",
            "this is tehb mode time [18.91, 20.69, 19.38, 19.56, 19.83, 18.94, 20.66, 18.85]\n",
            "This is ths last time not a fantasy 18.9210262298584and 6habhhahah\n",
            "this is tehb mode time [18.91, 20.69, 19.38, 19.56, 19.83, 18.94, 20.66, 18.85, 18.92]\n",
            "This is ths last time not a fantasy 19.353724718093872and 8habhhahah\n",
            "this is tehb mode time [18.91, 20.69, 19.38, 19.56, 19.83, 18.94, 20.66, 18.85, 18.92, 19.35]\n",
            "Yeh h modest valueueueueuModeResult(mode=18.85, count=1)\n",
            "yeh h server round 8\n",
            "this is the min value 1.0 and this is the max value 18.85\n",
            "The epochs for the higher lr is 9 and the epochs for the standard lr is 10\n",
            "This is the last time 18.91233801841736\n",
            "This is the last time 20.68673610687256\n",
            "This is the last time 19.38487458229065\n",
            "This is the last time 19.560503721237183\n",
            "This is the last time 19.83351182937622\n",
            "This is the last time 18.935753345489502\n",
            "This is the last time 20.659806728363037\n",
            "This is the last time 18.851578950881958\n",
            "This is the last time 18.9210262298584\n",
            "This is the last time 19.353724718093872\n",
            "\u001b[36m(ClientAppActor pid=38256)\u001b[0m [Client 7] fit, config: {'lr': 0.0001, 'epochs': 9}\n",
            "\u001b[36m(ClientAppActor pid=38256)\u001b[0m Epoch 0: train loss 0.034973, accuracy 0.655333\n",
            "\u001b[36m(ClientAppActor pid=11016)\u001b[0m [Client 2] fit, config: {'lr': 0.0001, 'epochs': 9}\u001b[32m [repeated 4x across cluster]\u001b[0m\n",
            "\u001b[36m(ClientAppActor pid=11016)\u001b[0m Epoch 0: train loss 0.035314, accuracy 0.661778\u001b[32m [repeated 8x across cluster]\u001b[0m\n",
            "\u001b[36m(ClientAppActor pid=22216)\u001b[0m [Client 9] fit, config: {'lr': 0.0001, 'epochs': 9}\u001b[32m [repeated 3x across cluster]\u001b[0m\n",
            "\u001b[36m(ClientAppActor pid=38256)\u001b[0m Epoch 5: train loss 0.003598, accuracy 0.971778\u001b[32m [repeated 21x across cluster]\u001b[0m\n",
            "\u001b[36m(ClientAppActor pid=18160)\u001b[0m Epoch 6: train loss 0.003574, accuracy 0.968222\u001b[32m [repeated 20x across cluster]\u001b[0m\n",
            "\u001b[36m(ClientAppActor pid=38256)\u001b[0m Training time for Client 7: 19.60 seconds\n",
            "\u001b[36m(ClientAppActor pid=38256)\u001b[0m [Client 6] fit, config: {'lr': 0.0001, 'epochs': 9}\n",
            "\u001b[36m(ClientAppActor pid=11300)\u001b[0m Epoch 7: train loss 0.005031, accuracy 0.946444\u001b[32m [repeated 18x across cluster]\u001b[0m\n",
            "\u001b[36m(ClientAppActor pid=11300)\u001b[0m Training time for Client 3: 18.52 seconds\u001b[32m [repeated 6x across cluster]\u001b[0m\n",
            "\u001b[36m(ClientAppActor pid=24908)\u001b[0m [Client 8] fit, config: {'lr': 0.0001, 'epochs': 9}\n",
            "\u001b[36m(ClientAppActor pid=38256)\u001b[0m Epoch 3: train loss 0.008209, accuracy 0.916889\u001b[32m [repeated 11x across cluster]\u001b[0m\n",
            "\u001b[36m(ClientAppActor pid=22216)\u001b[0m Training time for Client 9: 19.05 seconds\n",
            "\u001b[36m(ClientAppActor pid=24908)\u001b[0m Epoch 5: train loss 0.003313, accuracy 0.973778\u001b[32m [repeated 5x across cluster]\u001b[0m\n",
            "\u001b[36m(ClientAppActor pid=38256)\u001b[0m Training time for Client 6: 20.70 seconds\n",
            "\u001b[36m(ClientAppActor pid=38256)\u001b[0m Epoch 8: train loss 0.000987, accuracy 0.996667\u001b[32m [repeated 5x across cluster]\u001b[0m\n"
          ]
        },
        {
          "name": "stderr",
          "output_type": "stream",
          "text": [
            "\u001b[92mINFO \u001b[0m:      aggregate_fit: received 10 results and 0 failures\n",
            "\u001b[92mINFO \u001b[0m:      configure_evaluate: strategy sampled 10 clients (out of 10)\n"
          ]
        },
        {
          "name": "stdout",
          "output_type": "stream",
          "text": [
            "\u001b[36m(ClientAppActor pid=24908)\u001b[0m [Client 2] evaluate, config: {}\n",
            "\u001b[36m(ClientAppActor pid=24908)\u001b[0m Training time for Client 8: 20.47 seconds\n",
            "\u001b[36m(ClientAppActor pid=24908)\u001b[0m Epoch 8: train loss 0.000370, accuracy 1.000000\n",
            "\u001b[36m(ClientAppActor pid=11300)\u001b[0m [Client 6] evaluate, config: {}\u001b[32m [repeated 5x across cluster]\u001b[0m\n"
          ]
        },
        {
          "name": "stderr",
          "output_type": "stream",
          "text": [
            "\u001b[92mINFO \u001b[0m:      aggregate_evaluate: received 10 results and 0 failures\n",
            "\u001b[92mINFO \u001b[0m:      \n",
            "\u001b[92mINFO \u001b[0m:      [ROUND 9]\n",
            "\u001b[92mINFO \u001b[0m:      configure_fit: strategy sampled 10 clients (out of 10)\n"
          ]
        },
        {
          "name": "stdout",
          "output_type": "stream",
          "text": [
            "This is ths last time not a fantasy 19.054367065429688and 9habhhahah\n",
            "this is tehb mode time [19.05]\n",
            "This is ths last time not a fantasy 19.326433897018433and 1habhhahah\n",
            "this is tehb mode time [19.05, 19.33]\n",
            "This is ths last time not a fantasy 20.70274019241333and 6habhhahah\n",
            "this is tehb mode time [19.05, 19.33, 20.7]\n",
            "This is ths last time not a fantasy 19.046550512313843and 4habhhahah\n",
            "this is tehb mode time [19.05, 19.33, 20.7, 19.05]\n",
            "This is ths last time not a fantasy 18.524093866348267and 3habhhahah\n",
            "this is tehb mode time [19.05, 19.33, 20.7, 19.05, 18.52]\n",
            "This is ths last time not a fantasy 19.601041555404663and 7habhhahah\n",
            "this is tehb mode time [19.05, 19.33, 20.7, 19.05, 18.52, 19.6]\n",
            "This is ths last time not a fantasy 19.178133010864258and 5habhhahah\n",
            "this is tehb mode time [19.05, 19.33, 20.7, 19.05, 18.52, 19.6, 19.18]\n",
            "This is ths last time not a fantasy 19.3284912109375and 2habhhahah\n",
            "this is tehb mode time [19.05, 19.33, 20.7, 19.05, 18.52, 19.6, 19.18, 19.33]\n",
            "This is ths last time not a fantasy 20.46533179283142and 8habhhahah\n",
            "this is tehb mode time [19.05, 19.33, 20.7, 19.05, 18.52, 19.6, 19.18, 19.33, 20.47]\n",
            "This is ths last time not a fantasy 19.65341591835022and 0habhhahah\n",
            "this is tehb mode time [19.05, 19.33, 20.7, 19.05, 18.52, 19.6, 19.18, 19.33, 20.47, 19.65]\n",
            "Yeh h modest valueueueueuModeResult(mode=19.05, count=2)\n",
            "yeh h server round 9\n",
            "this is the min value 2.0 and this is the max value 19.05\n",
            "The epochs for the higher lr is 8 and the epochs for the standard lr is 10\n",
            "This is the last time 19.054367065429688\n",
            "This is the last time 19.326433897018433\n",
            "This is the last time 20.70274019241333\n",
            "This is the last time 19.046550512313843\n",
            "This is the last time 18.524093866348267\n",
            "This is the last time 19.601041555404663\n",
            "This is the last time 19.178133010864258\n",
            "This is the last time 19.3284912109375\n",
            "This is the last time 20.46533179283142\n",
            "This is the last time 19.65341591835022\n",
            "\u001b[36m(ClientAppActor pid=22216)\u001b[0m [Client 9] fit, config: {'lr': 0.0001, 'epochs': 8}\n",
            "\u001b[36m(ClientAppActor pid=22216)\u001b[0m [Client 4] evaluate, config: {}\u001b[32m [repeated 4x across cluster]\u001b[0m\n",
            "\u001b[36m(ClientAppActor pid=22216)\u001b[0m Epoch 0: train loss 0.034696, accuracy 0.658444\n",
            "\u001b[36m(ClientAppActor pid=12980)\u001b[0m [Client 3] fit, config: {'lr': 0.001, 'epochs': 10}\u001b[32m [repeated 4x across cluster]\u001b[0m\n",
            "\u001b[36m(ClientAppActor pid=12980)\u001b[0m Epoch 1: train loss 0.017869, accuracy 0.792000\u001b[32m [repeated 12x across cluster]\u001b[0m\n",
            "\u001b[36m(ClientAppActor pid=26848)\u001b[0m [Client 2] fit, config: {'lr': 0.0001, 'epochs': 8}\u001b[32m [repeated 3x across cluster]\u001b[0m\n",
            "\u001b[36m(ClientAppActor pid=24908)\u001b[0m Epoch 4: train loss 0.004464, accuracy 0.959333\u001b[32m [repeated 20x across cluster]\u001b[0m\n",
            "\u001b[36m(ClientAppActor pid=22216)\u001b[0m Training time for Client 9: 17.69 seconds\n",
            "\u001b[36m(ClientAppActor pid=11300)\u001b[0m Epoch 7: train loss 0.000971, accuracy 0.995556\u001b[32m [repeated 18x across cluster]\u001b[0m\n",
            "\u001b[36m(ClientAppActor pid=22216)\u001b[0m [Client 8] fit, config: {'lr': 0.0001, 'epochs': 8}\n",
            "\u001b[36m(ClientAppActor pid=18160)\u001b[0m Training time for Client 5: 16.72 seconds\u001b[32m [repeated 4x across cluster]\u001b[0m\n",
            "\u001b[36m(ClientAppActor pid=26848)\u001b[0m Epoch 7: train loss 0.002752, accuracy 0.979556\u001b[32m [repeated 20x across cluster]\u001b[0m\n",
            "\u001b[36m(ClientAppActor pid=11300)\u001b[0m [Client 0] fit, config: {'lr': 0.0001, 'epochs': 8}\n",
            "\u001b[36m(ClientAppActor pid=12980)\u001b[0m Training time for Client 3: 21.14 seconds\u001b[32m [repeated 3x across cluster]\u001b[0m\n",
            "\u001b[36m(ClientAppActor pid=11300)\u001b[0m Epoch 4: train loss 0.003971, accuracy 0.967556\u001b[32m [repeated 7x across cluster]\u001b[0m\n",
            "\u001b[36m(ClientAppActor pid=22216)\u001b[0m Training time for Client 8: 18.29 seconds\n",
            "\u001b[36m(ClientAppActor pid=22216)\u001b[0m Epoch 7: train loss 0.001780, accuracy 0.987333\u001b[32m [repeated 5x across cluster]\u001b[0m\n"
          ]
        },
        {
          "name": "stderr",
          "output_type": "stream",
          "text": [
            "\u001b[92mINFO \u001b[0m:      aggregate_fit: received 10 results and 0 failures\n",
            "\u001b[92mINFO \u001b[0m:      configure_evaluate: strategy sampled 10 clients (out of 10)\n"
          ]
        },
        {
          "name": "stdout",
          "output_type": "stream",
          "text": [
            "\u001b[36m(ClientAppActor pid=11300)\u001b[0m [Client 3] evaluate, config: {}\n",
            "\u001b[36m(ClientAppActor pid=11300)\u001b[0m Training time for Client 0: 17.78 seconds\n",
            "\u001b[36m(ClientAppActor pid=11300)\u001b[0m Epoch 7: train loss 0.001724, accuracy 0.988000\n",
            "\u001b[36m(ClientAppActor pid=24908)\u001b[0m [Client 1] evaluate, config: {}\u001b[32m [repeated 5x across cluster]\u001b[0m\n"
          ]
        },
        {
          "name": "stderr",
          "output_type": "stream",
          "text": [
            "\u001b[92mINFO \u001b[0m:      aggregate_evaluate: received 10 results and 0 failures\n",
            "\u001b[92mINFO \u001b[0m:      \n",
            "\u001b[92mINFO \u001b[0m:      [ROUND 10]\n",
            "\u001b[92mINFO \u001b[0m:      configure_fit: strategy sampled 10 clients (out of 10)\n"
          ]
        },
        {
          "name": "stdout",
          "output_type": "stream",
          "text": [
            "This is ths last time not a fantasy 17.39970898628235and 2habhhahah\n",
            "this is tehb mode time [17.4]\n",
            "This is ths last time not a fantasy 16.717057466506958and 5habhhahah\n",
            "this is tehb mode time [17.4, 16.72]\n",
            "This is ths last time not a fantasy 17.781962394714355and 0habhhahah\n",
            "this is tehb mode time [17.4, 16.72, 17.78]\n",
            "This is ths last time not a fantasy 17.685267686843872and 9habhhahah\n",
            "this is tehb mode time [17.4, 16.72, 17.78, 17.69]\n",
            "This is ths last time not a fantasy 21.13903045654297and 3habhhahah\n",
            "this is tehb mode time [17.4, 16.72, 17.78, 17.69, 21.14]\n",
            "This is ths last time not a fantasy 17.047367811203003and 7habhhahah\n",
            "this is tehb mode time [17.4, 16.72, 17.78, 17.69, 21.14, 17.05]\n",
            "This is ths last time not a fantasy 17.472994565963745and 6habhhahah\n",
            "this is tehb mode time [17.4, 16.72, 17.78, 17.69, 21.14, 17.05, 17.47]\n",
            "This is ths last time not a fantasy 21.13694190979004and 4habhhahah\n",
            "this is tehb mode time [17.4, 16.72, 17.78, 17.69, 21.14, 17.05, 17.47, 21.14]\n",
            "This is ths last time not a fantasy 17.77842426300049and 1habhhahah\n",
            "this is tehb mode time [17.4, 16.72, 17.78, 17.69, 21.14, 17.05, 17.47, 21.14, 17.78]\n",
            "This is ths last time not a fantasy 18.285886526107788and 8habhhahah\n",
            "this is tehb mode time [17.4, 16.72, 17.78, 17.69, 21.14, 17.05, 17.47, 21.14, 17.78, 18.29]\n",
            "Yeh h modest valueueueueuModeResult(mode=17.78, count=2)\n",
            "yeh h server round 10\n",
            "this is the min value 2.0 and this is the max value 17.78\n",
            "The epochs for the higher lr is 8 and the epochs for the standard lr is 10\n",
            "This is the last time 17.39970898628235\n",
            "This is the last time 16.717057466506958\n",
            "This is the last time 17.781962394714355\n",
            "This is the last time 17.685267686843872\n",
            "This is the last time 21.13903045654297\n",
            "This is the last time 17.047367811203003\n",
            "This is the last time 17.472994565963745\n",
            "This is the last time 21.13694190979004\n",
            "This is the last time 17.77842426300049\n",
            "This is the last time 18.285886526107788\n",
            "\u001b[36m(ClientAppActor pid=11016)\u001b[0m [Client 2] fit, config: {'lr': 0.001, 'epochs': 10}\n",
            "\u001b[36m(ClientAppActor pid=11016)\u001b[0m [Client 4] evaluate, config: {}\u001b[32m [repeated 4x across cluster]\u001b[0m\n",
            "\u001b[36m(ClientAppActor pid=11016)\u001b[0m Epoch 0: train loss 0.033513, accuracy 0.675778\n",
            "\u001b[36m(ClientAppActor pid=26848)\u001b[0m [Client 3] fit, config: {'lr': 0.0001, 'epochs': 8}\u001b[32m [repeated 4x across cluster]\u001b[0m\n",
            "\u001b[36m(ClientAppActor pid=11300)\u001b[0m Epoch 0: train loss 0.033666, accuracy 0.678889\u001b[32m [repeated 11x across cluster]\u001b[0m\n",
            "\u001b[36m(ClientAppActor pid=22216)\u001b[0m [Client 4] fit, config: {'lr': 0.0001, 'epochs': 8}\u001b[32m [repeated 3x across cluster]\u001b[0m\n",
            "\u001b[36m(ClientAppActor pid=12980)\u001b[0m Epoch 2: train loss 0.009669, accuracy 0.892444\u001b[32m [repeated 20x across cluster]\u001b[0m\n",
            "\u001b[36m(ClientAppActor pid=22216)\u001b[0m Epoch 4: train loss 0.003500, accuracy 0.974000\u001b[32m [repeated 20x across cluster]\u001b[0m\n",
            "\u001b[36m(ClientAppActor pid=38256)\u001b[0m Training time for Client 0: 17.40 seconds\n",
            "\u001b[36m(ClientAppActor pid=38256)\u001b[0m [Client 1] fit, config: {'lr': 0.001, 'epochs': 10}\n",
            "\u001b[36m(ClientAppActor pid=11300)\u001b[0m Epoch 8: train loss 0.002015, accuracy 0.979778\u001b[32m [repeated 18x across cluster]\u001b[0m\n",
            "\u001b[36m(ClientAppActor pid=22216)\u001b[0m Training time for Client 4: 17.02 seconds\u001b[32m [repeated 5x across cluster]\u001b[0m\n",
            "\u001b[36m(ClientAppActor pid=11016)\u001b[0m [Client 8] fit, config: {'lr': 0.0001, 'epochs': 8}\n",
            "\u001b[36m(ClientAppActor pid=11016)\u001b[0m Epoch 3: train loss 0.005284, accuracy 0.950222\u001b[32m [repeated 12x across cluster]\u001b[0m\n",
            "\u001b[36m(ClientAppActor pid=12980)\u001b[0m Training time for Client 6: 21.10 seconds\u001b[32m [repeated 2x across cluster]\u001b[0m\n",
            "\u001b[36m(ClientAppActor pid=38256)\u001b[0m Epoch 6: train loss 0.000852, accuracy 0.996222\u001b[32m [repeated 5x across cluster]\u001b[0m\n",
            "\u001b[36m(ClientAppActor pid=11016)\u001b[0m Training time for Client 8: 18.47 seconds\n"
          ]
        },
        {
          "name": "stderr",
          "output_type": "stream",
          "text": [
            "\u001b[92mINFO \u001b[0m:      aggregate_fit: received 10 results and 0 failures\n",
            "\u001b[92mINFO \u001b[0m:      configure_evaluate: strategy sampled 10 clients (out of 10)\n"
          ]
        },
        {
          "name": "stdout",
          "output_type": "stream",
          "text": [
            "\u001b[36m(ClientAppActor pid=38256)\u001b[0m Epoch 9: train loss 0.006128, accuracy 0.936667\u001b[32m [repeated 5x across cluster]\u001b[0m\n",
            "\u001b[36m(ClientAppActor pid=38256)\u001b[0m [Client 1] evaluate, config: {}\n",
            "\u001b[36m(ClientAppActor pid=38256)\u001b[0m Training time for Client 1: 22.63 seconds\n",
            "\u001b[36m(ClientAppActor pid=22216)\u001b[0m [Client 9] evaluate, config: {}\u001b[32m [repeated 5x across cluster]\u001b[0m\n"
          ]
        },
        {
          "name": "stderr",
          "output_type": "stream",
          "text": [
            "\u001b[92mINFO \u001b[0m:      aggregate_evaluate: received 10 results and 0 failures\n",
            "\u001b[92mINFO \u001b[0m:      \n",
            "\u001b[92mINFO \u001b[0m:      [SUMMARY]\n",
            "\u001b[92mINFO \u001b[0m:      Run finished 10 round(s) in 575.17s\n",
            "\u001b[92mINFO \u001b[0m:      \tHistory (loss, distributed):\n",
            "\u001b[92mINFO \u001b[0m:      \t\tround 1: 0.057629314661026\n",
            "\u001b[92mINFO \u001b[0m:      \t\tround 2: 0.04019819930791855\n",
            "\u001b[92mINFO \u001b[0m:      \t\tround 3: 0.043002884876728056\n",
            "\u001b[92mINFO \u001b[0m:      \t\tround 4: 0.04883043965101242\n",
            "\u001b[92mINFO \u001b[0m:      \t\tround 5: 0.055653549015522\n",
            "\u001b[92mINFO \u001b[0m:      \t\tround 6: 0.06247710437774658\n",
            "\u001b[92mINFO \u001b[0m:      \t\tround 7: 0.06655211619138718\n",
            "\u001b[92mINFO \u001b[0m:      \t\tround 8: 0.06992249450683594\n",
            "\u001b[92mINFO \u001b[0m:      \t\tround 9: 0.07076726517677308\n",
            "\u001b[92mINFO \u001b[0m:      \t\tround 10: 0.07316197737455368\n",
            "\u001b[92mINFO \u001b[0m:      \n"
          ]
        },
        {
          "data": {
            "text/plain": [
              "History (loss, distributed):\n",
              "\tround 1: 0.057629314661026\n",
              "\tround 2: 0.04019819930791855\n",
              "\tround 3: 0.043002884876728056\n",
              "\tround 4: 0.04883043965101242\n",
              "\tround 5: 0.055653549015522\n",
              "\tround 6: 0.06247710437774658\n",
              "\tround 7: 0.06655211619138718\n",
              "\tround 8: 0.06992249450683594\n",
              "\tround 9: 0.07076726517677308\n",
              "\tround 10: 0.07316197737455368"
            ]
          },
          "execution_count": 11,
          "metadata": {},
          "output_type": "execute_result"
        }
      ],
      "source": [
        "\n",
        "fl.simulation.start_simulation(\n",
        "    client_fn=client_fn,\n",
        "    num_clients=10,\n",
        "    config=fl.server.ServerConfig(num_rounds=10),\n",
        "    strategy=FedCustom(),  # <-- pass the new strategy here\n",
        "    client_resources=client_resources,\n",
        "\n",
        ")"
      ]
    },
    {
      "cell_type": "code",
      "execution_count": 12,
      "metadata": {},
      "outputs": [],
      "source": [
        "class FlowerClient(fl.client.NumPyClient):\n",
        "    def __init__(self, cid, net, trainloader, valloader):\n",
        "        self.cid = cid\n",
        "        self.net = net\n",
        "        self.trainloader = trainloader\n",
        "        self.valloader = valloader\n",
        "\n",
        "    def get_parameters(self, config):\n",
        "        print(f\"[Client {self.cid}] get_parameters\")\n",
        "        return get_parameters(self.net)\n",
        "\n",
        "    def fit(self, parameters, config):\n",
        "        print(f\"[Client {self.cid}] fit, config: {config}\")\n",
        "        set_parameters(self.net, parameters)\n",
        "        train(self.net, self.trainloader, epochs=10)\n",
        "        return get_parameters(self.net), len(self.trainloader), {}\n",
        "\n",
        "    def evaluate(self, parameters, config):\n",
        "        print(f\"[Client {self.cid}] evaluate, config: {config}\")\n",
        "        set_parameters(self.net, parameters)\n",
        "        loss, accuracy = test(self.net, self.valloader)\n",
        "        print(f\"Client {self.cid} loss {loss}\")\n",
        "        print(f\"Client {self.cid} accuracy {accuracy}\")\n",
        "        \n",
        "        return float(loss), len(self.valloader), {\"accuracy\": float(accuracy)}\n",
        "\n",
        "\n",
        "def client_fn(cid) -> FlowerClient:\n",
        "    net = Net().to(DEVICE) #Load Model from here\n",
        "    trainloader = trainloaders[int(cid)]\n",
        "    valloader = valloaders[int(cid)]\n",
        "    return FlowerClient(cid, net, trainloader, valloader).to_client()"
      ]
    },
    {
      "cell_type": "code",
      "execution_count": 13,
      "metadata": {},
      "outputs": [
        {
          "name": "stderr",
          "output_type": "stream",
          "text": [
            "\u001b[92mINFO \u001b[0m:      Starting Flower simulation, config: num_rounds=10, no round_timeout\n",
            "2024-07-08 12:39:44,629\tINFO worker.py:1771 -- Started a local Ray instance.\n",
            "\u001b[92mINFO \u001b[0m:      Flower VCE: Ray initialized with resources: {'node:__internal_head__': 1.0, 'CPU': 32.0, 'object_store_memory': 34959642624.0, 'accelerator_type:RTX': 1.0, 'node:127.0.0.1': 1.0, 'GPU': 1.0, 'memory': 71572499456.0}\n",
            "\u001b[92mINFO \u001b[0m:      Optimize your simulation with Flower VCE: https://flower.ai/docs/framework/how-to-run-simulations.html\n",
            "\u001b[92mINFO \u001b[0m:      Flower VCE: Resources for each Virtual Client: {'num_gpus': 0.125, 'num_cpus': 1}\n",
            "\u001b[92mINFO \u001b[0m:      Flower VCE: Creating VirtualClientEngineActorPool with 8 actors\n",
            "\u001b[92mINFO \u001b[0m:      [INIT]\n",
            "\u001b[92mINFO \u001b[0m:      Requesting initial parameters from one random client\n",
            "\u001b[92mINFO \u001b[0m:      Received initial parameters from one random client\n",
            "\u001b[92mINFO \u001b[0m:      Evaluating initial global parameters\n",
            "\u001b[92mINFO \u001b[0m:      \n",
            "\u001b[92mINFO \u001b[0m:      [ROUND 1]\n",
            "\u001b[92mINFO \u001b[0m:      configure_fit: strategy sampled 10 clients (out of 10)\n"
          ]
        },
        {
          "name": "stdout",
          "output_type": "stream",
          "text": [
            "\u001b[36m(ClientAppActor pid=20224)\u001b[0m [Client 8] get_parameters\n",
            "\u001b[36m(ClientAppActor pid=20224)\u001b[0m [Client 0] fit, config: {}\n",
            "\u001b[36m(ClientAppActor pid=20224)\u001b[0m Epoch 0: train loss 0.063413, accuracy 0.258222\n",
            "\u001b[36m(ClientAppActor pid=20224)\u001b[0m Epoch 1: train loss 0.054894, accuracy 0.363333\n",
            "\u001b[36m(ClientAppActor pid=37272)\u001b[0m [Client 9] fit, config: {}\n",
            "\u001b[36m(ClientAppActor pid=20224)\u001b[0m Epoch 2: train loss 0.051278, accuracy 0.401556\n",
            "\u001b[36m(ClientAppActor pid=37272)\u001b[0m Epoch 0: train loss 0.063639, accuracy 0.250444\n",
            "\u001b[36m(ClientAppActor pid=19480)\u001b[0m [Client 3] fit, config: {}\u001b[32m [repeated 4x across cluster]\u001b[0m\n",
            "\u001b[36m(ClientAppActor pid=10812)\u001b[0m Epoch 2: train loss 0.050604, accuracy 0.411778\u001b[32m [repeated 12x across cluster]\u001b[0m\n",
            "\u001b[36m(ClientAppActor pid=4792)\u001b[0m [Client 8] fit, config: {}\u001b[32m [repeated 2x across cluster]\u001b[0m\n",
            "\u001b[36m(ClientAppActor pid=37272)\u001b[0m Epoch 5: train loss 0.044425, accuracy 0.475556\u001b[32m [repeated 19x across cluster]\u001b[0m\n",
            "\u001b[36m(ClientAppActor pid=20224)\u001b[0m [Client 4] fit, config: {}\n",
            "\u001b[36m(ClientAppActor pid=4792)\u001b[0m Epoch 4: train loss 0.045316, accuracy 0.471111\u001b[32m [repeated 19x across cluster]\u001b[0m\n",
            "\u001b[36m(ClientAppActor pid=37272)\u001b[0m [Client 5] fit, config: {}\n",
            "\u001b[36m(ClientAppActor pid=4664)\u001b[0m Epoch 7: train loss 0.039512, accuracy 0.542889\u001b[32m [repeated 18x across cluster]\u001b[0m\n",
            "\u001b[36m(ClientAppActor pid=4792)\u001b[0m Epoch 9: train loss 0.036250, accuracy 0.592889\u001b[32m [repeated 15x across cluster]\u001b[0m\n",
            "\u001b[36m(ClientAppActor pid=37272)\u001b[0m Epoch 5: train loss 0.044565, accuracy 0.481556\u001b[32m [repeated 7x across cluster]\u001b[0m\n",
            "\u001b[36m(ClientAppActor pid=37272)\u001b[0m Epoch 8: train loss 0.039003, accuracy 0.547556\u001b[32m [repeated 5x across cluster]\u001b[0m\n"
          ]
        },
        {
          "name": "stderr",
          "output_type": "stream",
          "text": [
            "\u001b[92mINFO \u001b[0m:      aggregate_fit: received 10 results and 0 failures\n",
            "\u001b[93mWARNING \u001b[0m:   No fit_metrics_aggregation_fn provided\n",
            "\u001b[92mINFO \u001b[0m:      configure_evaluate: strategy sampled 10 clients (out of 10)\n"
          ]
        },
        {
          "name": "stdout",
          "output_type": "stream",
          "text": [
            "\u001b[36m(ClientAppActor pid=37272)\u001b[0m [Client 2] evaluate, config: {}\n",
            "\u001b[36m(ClientAppActor pid=37272)\u001b[0m Client 2 loss 0.054054104328155515\n",
            "\u001b[36m(ClientAppActor pid=37272)\u001b[0m Client 2 accuracy 0.406\n",
            "\u001b[36m(ClientAppActor pid=37272)\u001b[0m Epoch 9: train loss 0.037362, accuracy 0.572444\n",
            "\u001b[36m(ClientAppActor pid=19480)\u001b[0m [Client 3] evaluate, config: {}\u001b[32m [repeated 5x across cluster]\u001b[0m\n",
            "\u001b[36m(ClientAppActor pid=20224)\u001b[0m Client 7 loss 0.0518928861618042\u001b[32m [repeated 4x across cluster]\u001b[0m\n",
            "\u001b[36m(ClientAppActor pid=20224)\u001b[0m Client 7 accuracy 0.434\u001b[32m [repeated 4x across cluster]\u001b[0m\n"
          ]
        },
        {
          "name": "stderr",
          "output_type": "stream",
          "text": [
            "\u001b[92mINFO \u001b[0m:      aggregate_evaluate: received 10 results and 0 failures\n",
            "\u001b[93mWARNING \u001b[0m:   No evaluate_metrics_aggregation_fn provided\n",
            "\u001b[92mINFO \u001b[0m:      \n",
            "\u001b[92mINFO \u001b[0m:      [ROUND 2]\n",
            "\u001b[92mINFO \u001b[0m:      configure_fit: strategy sampled 10 clients (out of 10)\n"
          ]
        },
        {
          "name": "stdout",
          "output_type": "stream",
          "text": [
            "\u001b[36m(ClientAppActor pid=37272)\u001b[0m [Client 6] evaluate, config: {}\u001b[32m [repeated 4x across cluster]\u001b[0m\n",
            "\u001b[36m(ClientAppActor pid=37272)\u001b[0m Client 6 loss 0.052409964799880984\u001b[32m [repeated 5x across cluster]\u001b[0m\n",
            "\u001b[36m(ClientAppActor pid=37272)\u001b[0m Client 6 accuracy 0.444\u001b[32m [repeated 5x across cluster]\u001b[0m\n",
            "\u001b[36m(ClientAppActor pid=37272)\u001b[0m [Client 6] fit, config: {}\n",
            "\u001b[36m(ClientAppActor pid=37272)\u001b[0m Epoch 0: train loss 0.047523, accuracy 0.444889\n",
            "\u001b[36m(ClientAppActor pid=10812)\u001b[0m [Client 2] fit, config: {}\u001b[32m [repeated 4x across cluster]\u001b[0m\n",
            "\u001b[36m(ClientAppActor pid=10812)\u001b[0m Epoch 0: train loss 0.046676, accuracy 0.463111\u001b[32m [repeated 8x across cluster]\u001b[0m\n",
            "\u001b[36m(ClientAppActor pid=4664)\u001b[0m [Client 0] fit, config: {}\u001b[32m [repeated 3x across cluster]\u001b[0m\n",
            "\u001b[36m(ClientAppActor pid=10812)\u001b[0m Epoch 3: train loss 0.037986, accuracy 0.566444\u001b[32m [repeated 22x across cluster]\u001b[0m\n",
            "\u001b[36m(ClientAppActor pid=20224)\u001b[0m Epoch 5: train loss 0.033440, accuracy 0.614000\u001b[32m [repeated 19x across cluster]\u001b[0m\n",
            "\u001b[36m(ClientAppActor pid=9332)\u001b[0m Epoch 8: train loss 0.026489, accuracy 0.708667\u001b[32m [repeated 17x across cluster]\u001b[0m\n",
            "\u001b[36m(ClientAppActor pid=37272)\u001b[0m [Client 5] fit, config: {}\n",
            "\u001b[36m(ClientAppActor pid=37272)\u001b[0m Epoch 2: train loss 0.040943, accuracy 0.530000\u001b[32m [repeated 17x across cluster]\u001b[0m\n",
            "\u001b[36m(ClientAppActor pid=4792)\u001b[0m [Client 4] fit, config: {}\n",
            "\u001b[36m(ClientAppActor pid=4792)\u001b[0m Epoch 4: train loss 0.035449, accuracy 0.602667\u001b[32m [repeated 6x across cluster]\u001b[0m\n",
            "\u001b[36m(ClientAppActor pid=37272)\u001b[0m Epoch 7: train loss 0.028352, accuracy 0.672222\u001b[32m [repeated 5x across cluster]\u001b[0m\n"
          ]
        },
        {
          "name": "stderr",
          "output_type": "stream",
          "text": [
            "\u001b[92mINFO \u001b[0m:      aggregate_fit: received 10 results and 0 failures\n",
            "\u001b[92mINFO \u001b[0m:      configure_evaluate: strategy sampled 10 clients (out of 10)\n"
          ]
        },
        {
          "name": "stdout",
          "output_type": "stream",
          "text": [
            "\u001b[36m(ClientAppActor pid=4792)\u001b[0m Epoch 9: train loss 0.023021, accuracy 0.741556\u001b[32m [repeated 5x across cluster]\u001b[0m\n",
            "\u001b[36m(ClientAppActor pid=4792)\u001b[0m [Client 0] evaluate, config: {}\n",
            "\u001b[36m(ClientAppActor pid=4792)\u001b[0m Client 0 loss 0.044197489500045775\n",
            "\u001b[36m(ClientAppActor pid=4792)\u001b[0m Client 0 accuracy 0.532\n",
            "\u001b[36m(ClientAppActor pid=20224)\u001b[0m [Client 2] evaluate, config: {}\u001b[32m [repeated 5x across cluster]\u001b[0m\n",
            "\u001b[36m(ClientAppActor pid=8560)\u001b[0m Client 9 loss 0.04423472559452057\u001b[32m [repeated 4x across cluster]\u001b[0m\n",
            "\u001b[36m(ClientAppActor pid=8560)\u001b[0m Client 9 accuracy 0.546\u001b[32m [repeated 4x across cluster]\u001b[0m\n"
          ]
        },
        {
          "name": "stderr",
          "output_type": "stream",
          "text": [
            "\u001b[92mINFO \u001b[0m:      aggregate_evaluate: received 10 results and 0 failures\n",
            "\u001b[92mINFO \u001b[0m:      \n",
            "\u001b[92mINFO \u001b[0m:      [ROUND 3]\n",
            "\u001b[92mINFO \u001b[0m:      configure_fit: strategy sampled 10 clients (out of 10)\n"
          ]
        },
        {
          "name": "stdout",
          "output_type": "stream",
          "text": [
            "\u001b[36m(ClientAppActor pid=37272)\u001b[0m [Client 1] evaluate, config: {}\u001b[32m [repeated 4x across cluster]\u001b[0m\n",
            "\u001b[36m(ClientAppActor pid=37272)\u001b[0m Client 1 loss 0.041295961022377016\u001b[32m [repeated 5x across cluster]\u001b[0m\n",
            "\u001b[36m(ClientAppActor pid=37272)\u001b[0m Client 1 accuracy 0.548\u001b[32m [repeated 5x across cluster]\u001b[0m\n",
            "\u001b[36m(ClientAppActor pid=37272)\u001b[0m [Client 0] fit, config: {}\n",
            "\u001b[36m(ClientAppActor pid=37272)\u001b[0m Epoch 0: train loss 0.038931, accuracy 0.560667\n",
            "\u001b[36m(ClientAppActor pid=9332)\u001b[0m [Client 7] fit, config: {}\u001b[32m [repeated 4x across cluster]\u001b[0m\n",
            "\u001b[36m(ClientAppActor pid=8560)\u001b[0m Epoch 0: train loss 0.039505, accuracy 0.551778\u001b[32m [repeated 11x across cluster]\u001b[0m\n",
            "\u001b[36m(ClientAppActor pid=4792)\u001b[0m [Client 4] fit, config: {}\u001b[32m [repeated 3x across cluster]\u001b[0m\n",
            "\u001b[36m(ClientAppActor pid=4664)\u001b[0m Epoch 2: train loss 0.030323, accuracy 0.652889\u001b[32m [repeated 20x across cluster]\u001b[0m\n",
            "\u001b[36m(ClientAppActor pid=10812)\u001b[0m Epoch 7: train loss 0.016517, accuracy 0.822667\u001b[32m [repeated 18x across cluster]\u001b[0m\n",
            "\u001b[36m(ClientAppActor pid=37272)\u001b[0m [Client 6] fit, config: {}\n",
            "\u001b[36m(ClientAppActor pid=10812)\u001b[0m Epoch 9: train loss 0.011146, accuracy 0.884667\u001b[32m [repeated 16x across cluster]\u001b[0m\n",
            "\u001b[36m(ClientAppActor pid=10812)\u001b[0m [Client 5] fit, config: {}\n",
            "\u001b[36m(ClientAppActor pid=37272)\u001b[0m Epoch 2: train loss 0.031442, accuracy 0.646444\u001b[32m [repeated 18x across cluster]\u001b[0m\n",
            "\u001b[36m(ClientAppActor pid=10812)\u001b[0m Epoch 4: train loss 0.025359, accuracy 0.716222\u001b[32m [repeated 6x across cluster]\u001b[0m\n",
            "\u001b[36m(ClientAppActor pid=37272)\u001b[0m Epoch 7: train loss 0.016025, accuracy 0.823778\u001b[32m [repeated 5x across cluster]\u001b[0m\n"
          ]
        },
        {
          "name": "stderr",
          "output_type": "stream",
          "text": [
            "\u001b[92mINFO \u001b[0m:      aggregate_fit: received 10 results and 0 failures\n",
            "\u001b[92mINFO \u001b[0m:      configure_evaluate: strategy sampled 10 clients (out of 10)\n"
          ]
        },
        {
          "name": "stdout",
          "output_type": "stream",
          "text": [
            "\u001b[36m(ClientAppActor pid=10812)\u001b[0m Epoch 9: train loss 0.011506, accuracy 0.877556\u001b[32m [repeated 5x across cluster]\u001b[0m\n",
            "\u001b[36m(ClientAppActor pid=10812)\u001b[0m [Client 3] evaluate, config: {}\n",
            "\u001b[36m(ClientAppActor pid=10812)\u001b[0m Client 3 loss 0.04496319794654846\n",
            "\u001b[36m(ClientAppActor pid=10812)\u001b[0m Client 3 accuracy 0.608\n",
            "\u001b[36m(ClientAppActor pid=37272)\u001b[0m [Client 5] evaluate, config: {}\u001b[32m [repeated 5x across cluster]\u001b[0m\n",
            "\u001b[36m(ClientAppActor pid=8560)\u001b[0m Client 8 loss 0.0435131402015686\u001b[32m [repeated 4x across cluster]\u001b[0m\n",
            "\u001b[36m(ClientAppActor pid=8560)\u001b[0m Client 8 accuracy 0.584\u001b[32m [repeated 4x across cluster]\u001b[0m\n"
          ]
        },
        {
          "name": "stderr",
          "output_type": "stream",
          "text": [
            "\u001b[92mINFO \u001b[0m:      aggregate_evaluate: received 10 results and 0 failures\n",
            "\u001b[92mINFO \u001b[0m:      \n",
            "\u001b[92mINFO \u001b[0m:      [ROUND 4]\n",
            "\u001b[92mINFO \u001b[0m:      configure_fit: strategy sampled 10 clients (out of 10)\n"
          ]
        },
        {
          "name": "stdout",
          "output_type": "stream",
          "text": [
            "\u001b[36m(ClientAppActor pid=19480)\u001b[0m [Client 1] evaluate, config: {}\u001b[32m [repeated 4x across cluster]\u001b[0m\n",
            "\u001b[36m(ClientAppActor pid=19480)\u001b[0m Client 1 loss 0.04833201611042023\u001b[32m [repeated 5x across cluster]\u001b[0m\n",
            "\u001b[36m(ClientAppActor pid=19480)\u001b[0m Client 1 accuracy 0.568\u001b[32m [repeated 5x across cluster]\u001b[0m\n",
            "\u001b[36m(ClientAppActor pid=19480)\u001b[0m [Client 4] fit, config: {}\n",
            "\u001b[36m(ClientAppActor pid=19480)\u001b[0m Epoch 0: train loss 0.037135, accuracy 0.599333\n",
            "\u001b[36m(ClientAppActor pid=8560)\u001b[0m [Client 8] fit, config: {}\u001b[32m [repeated 5x across cluster]\u001b[0m\n",
            "\u001b[36m(ClientAppActor pid=8560)\u001b[0m Epoch 0: train loss 0.036843, accuracy 0.592667\u001b[32m [repeated 11x across cluster]\u001b[0m\n",
            "\u001b[36m(ClientAppActor pid=20224)\u001b[0m [Client 5] fit, config: {}\u001b[32m [repeated 2x across cluster]\u001b[0m\n",
            "\u001b[36m(ClientAppActor pid=4664)\u001b[0m Epoch 2: train loss 0.025158, accuracy 0.719778\u001b[32m [repeated 20x across cluster]\u001b[0m\n",
            "\u001b[36m(ClientAppActor pid=37272)\u001b[0m Epoch 6: train loss 0.010391, accuracy 0.886667\u001b[32m [repeated 21x across cluster]\u001b[0m\n",
            "\u001b[36m(ClientAppActor pid=19480)\u001b[0m [Client 9] fit, config: {}\n",
            "\u001b[36m(ClientAppActor pid=9332)\u001b[0m Epoch 9: train loss 0.004795, accuracy 0.955778\u001b[32m [repeated 17x across cluster]\u001b[0m\n",
            "\u001b[36m(ClientAppActor pid=10812)\u001b[0m [Client 3] fit, config: {}\n",
            "\u001b[36m(ClientAppActor pid=10812)\u001b[0m Epoch 2: train loss 0.025151, accuracy 0.722889\u001b[32m [repeated 16x across cluster]\u001b[0m\n",
            "\u001b[36m(ClientAppActor pid=19480)\u001b[0m Epoch 5: train loss 0.012680, accuracy 0.860889\u001b[32m [repeated 5x across cluster]\u001b[0m\n",
            "\u001b[36m(ClientAppActor pid=10812)\u001b[0m Epoch 7: train loss 0.008563, accuracy 0.909778\u001b[32m [repeated 5x across cluster]\u001b[0m\n"
          ]
        },
        {
          "name": "stderr",
          "output_type": "stream",
          "text": [
            "\u001b[92mINFO \u001b[0m:      aggregate_fit: received 10 results and 0 failures\n",
            "\u001b[92mINFO \u001b[0m:      configure_evaluate: strategy sampled 10 clients (out of 10)\n"
          ]
        },
        {
          "name": "stdout",
          "output_type": "stream",
          "text": [
            "\u001b[36m(ClientAppActor pid=10812)\u001b[0m Epoch 9: train loss 0.005304, accuracy 0.945556\u001b[32m [repeated 4x across cluster]\u001b[0m\n",
            "\u001b[36m(ClientAppActor pid=10812)\u001b[0m [Client 0] evaluate, config: {}\n",
            "\u001b[36m(ClientAppActor pid=10812)\u001b[0m Client 0 loss 0.05967462277412414\n",
            "\u001b[36m(ClientAppActor pid=10812)\u001b[0m Client 0 accuracy 0.568\n",
            "\u001b[36m(ClientAppActor pid=8560)\u001b[0m [Client 8] evaluate, config: {}\u001b[32m [repeated 5x across cluster]\u001b[0m\n",
            "\u001b[36m(ClientAppActor pid=4664)\u001b[0m Client 5 loss 0.05306266808509827\u001b[32m [repeated 4x across cluster]\u001b[0m\n",
            "\u001b[36m(ClientAppActor pid=4664)\u001b[0m Client 5 accuracy 0.598\u001b[32m [repeated 4x across cluster]\u001b[0m\n"
          ]
        },
        {
          "name": "stderr",
          "output_type": "stream",
          "text": [
            "\u001b[92mINFO \u001b[0m:      aggregate_evaluate: received 10 results and 0 failures\n",
            "\u001b[92mINFO \u001b[0m:      \n",
            "\u001b[92mINFO \u001b[0m:      [ROUND 5]\n",
            "\u001b[92mINFO \u001b[0m:      configure_fit: strategy sampled 10 clients (out of 10)\n"
          ]
        },
        {
          "name": "stdout",
          "output_type": "stream",
          "text": [
            "\u001b[36m(ClientAppActor pid=19480)\u001b[0m [Client 7] evaluate, config: {}\u001b[32m [repeated 4x across cluster]\u001b[0m\n",
            "\u001b[36m(ClientAppActor pid=19480)\u001b[0m Client 7 loss 0.05358150386810303\u001b[32m [repeated 5x across cluster]\u001b[0m\n",
            "\u001b[36m(ClientAppActor pid=19480)\u001b[0m Client 7 accuracy 0.582\u001b[32m [repeated 5x across cluster]\u001b[0m\n",
            "\u001b[36m(ClientAppActor pid=19480)\u001b[0m [Client 1] fit, config: {}\n",
            "\u001b[36m(ClientAppActor pid=19480)\u001b[0m Epoch 0: train loss 0.035275, accuracy 0.629556\n",
            "\u001b[36m(ClientAppActor pid=4664)\u001b[0m [Client 9] fit, config: {}\u001b[32m [repeated 5x across cluster]\u001b[0m\n",
            "\u001b[36m(ClientAppActor pid=37272)\u001b[0m Epoch 2: train loss 0.020245, accuracy 0.776222\u001b[32m [repeated 11x across cluster]\u001b[0m\n",
            "\u001b[36m(ClientAppActor pid=9332)\u001b[0m [Client 0] fit, config: {}\u001b[32m [repeated 2x across cluster]\u001b[0m\n",
            "\u001b[36m(ClientAppActor pid=8560)\u001b[0m Epoch 4: train loss 0.011927, accuracy 0.876667\u001b[32m [repeated 20x across cluster]\u001b[0m\n",
            "\u001b[36m(ClientAppActor pid=4664)\u001b[0m Epoch 5: train loss 0.008008, accuracy 0.923111\u001b[32m [repeated 17x across cluster]\u001b[0m\n",
            "\u001b[36m(ClientAppActor pid=19480)\u001b[0m [Client 3] fit, config: {}\n",
            "\u001b[36m(ClientAppActor pid=37272)\u001b[0m Epoch 9: train loss 0.004072, accuracy 0.962000\u001b[32m [repeated 18x across cluster]\u001b[0m\n",
            "\u001b[36m(ClientAppActor pid=37272)\u001b[0m [Client 6] fit, config: {}\n",
            "\u001b[36m(ClientAppActor pid=9332)\u001b[0m Epoch 9: train loss 0.003262, accuracy 0.970000\u001b[32m [repeated 18x across cluster]\u001b[0m\n",
            "\u001b[36m(ClientAppActor pid=19480)\u001b[0m Epoch 5: train loss 0.008918, accuracy 0.905333\u001b[32m [repeated 5x across cluster]\u001b[0m\n",
            "\u001b[36m(ClientAppActor pid=19480)\u001b[0m Epoch 8: train loss 0.002847, accuracy 0.979333\u001b[32m [repeated 6x across cluster]\u001b[0m\n"
          ]
        },
        {
          "name": "stderr",
          "output_type": "stream",
          "text": [
            "\u001b[92mINFO \u001b[0m:      aggregate_fit: received 10 results and 0 failures\n",
            "\u001b[92mINFO \u001b[0m:      configure_evaluate: strategy sampled 10 clients (out of 10)\n"
          ]
        },
        {
          "name": "stdout",
          "output_type": "stream",
          "text": [
            "\u001b[36m(ClientAppActor pid=37272)\u001b[0m [Client 2] evaluate, config: {}\n",
            "\u001b[36m(ClientAppActor pid=37272)\u001b[0m Epoch 9: train loss 0.002709, accuracy 0.977778\u001b[32m [repeated 4x across cluster]\u001b[0m\n",
            "\u001b[36m(ClientAppActor pid=37272)\u001b[0m Client 2 loss 0.07111302721500397\n",
            "\u001b[36m(ClientAppActor pid=37272)\u001b[0m Client 2 accuracy 0.554\n",
            "\u001b[36m(ClientAppActor pid=9332)\u001b[0m [Client 9] evaluate, config: {}\u001b[32m [repeated 5x across cluster]\u001b[0m\n",
            "\u001b[36m(ClientAppActor pid=19480)\u001b[0m Client 7 loss 0.059169429302215575\u001b[32m [repeated 4x across cluster]\u001b[0m\n",
            "\u001b[36m(ClientAppActor pid=19480)\u001b[0m Client 7 accuracy 0.576\u001b[32m [repeated 4x across cluster]\u001b[0m\n"
          ]
        },
        {
          "name": "stderr",
          "output_type": "stream",
          "text": [
            "\u001b[92mINFO \u001b[0m:      aggregate_evaluate: received 10 results and 0 failures\n",
            "\u001b[92mINFO \u001b[0m:      \n",
            "\u001b[92mINFO \u001b[0m:      [ROUND 6]\n",
            "\u001b[92mINFO \u001b[0m:      configure_fit: strategy sampled 10 clients (out of 10)\n"
          ]
        },
        {
          "name": "stdout",
          "output_type": "stream",
          "text": [
            "\u001b[36m(ClientAppActor pid=4792)\u001b[0m [Client 2] fit, config: {}\n",
            "\u001b[36m(ClientAppActor pid=4792)\u001b[0m [Client 8] evaluate, config: {}\u001b[32m [repeated 4x across cluster]\u001b[0m\n",
            "\u001b[36m(ClientAppActor pid=4792)\u001b[0m Client 8 loss 0.05552427852153778\u001b[32m [repeated 5x across cluster]\u001b[0m\n",
            "\u001b[36m(ClientAppActor pid=4792)\u001b[0m Client 8 accuracy 0.622\u001b[32m [repeated 5x across cluster]\u001b[0m\n",
            "\u001b[36m(ClientAppActor pid=4792)\u001b[0m Epoch 0: train loss 0.036783, accuracy 0.619556\n",
            "\u001b[36m(ClientAppActor pid=10812)\u001b[0m [Client 0] fit, config: {}\u001b[32m [repeated 3x across cluster]\u001b[0m\n",
            "\u001b[36m(ClientAppActor pid=37272)\u001b[0m Epoch 2: train loss 0.015999, accuracy 0.820667\u001b[32m [repeated 12x across cluster]\u001b[0m\n",
            "\u001b[36m(ClientAppActor pid=8560)\u001b[0m [Client 5] fit, config: {}\u001b[32m [repeated 4x across cluster]\u001b[0m\n",
            "\u001b[36m(ClientAppActor pid=20224)\u001b[0m Epoch 2: train loss 0.016350, accuracy 0.816000\u001b[32m [repeated 19x across cluster]\u001b[0m\n",
            "\u001b[36m(ClientAppActor pid=19480)\u001b[0m Epoch 5: train loss 0.006278, accuracy 0.942000\u001b[32m [repeated 19x across cluster]\u001b[0m\n",
            "\u001b[36m(ClientAppActor pid=4792)\u001b[0m [Client 6] fit, config: {}\n",
            "\u001b[36m(ClientAppActor pid=4664)\u001b[0m Epoch 9: train loss 0.003119, accuracy 0.969556\u001b[32m [repeated 15x across cluster]\u001b[0m\n",
            "\u001b[36m(ClientAppActor pid=4664)\u001b[0m [Client 8] fit, config: {}\n",
            "\u001b[36m(ClientAppActor pid=4792)\u001b[0m Epoch 2: train loss 0.016345, accuracy 0.816444\u001b[32m [repeated 18x across cluster]\u001b[0m\n",
            "\u001b[36m(ClientAppActor pid=4664)\u001b[0m Epoch 4: train loss 0.008258, accuracy 0.919556\u001b[32m [repeated 6x across cluster]\u001b[0m\n",
            "\u001b[36m(ClientAppActor pid=4792)\u001b[0m Epoch 7: train loss 0.002724, accuracy 0.978667\u001b[32m [repeated 5x across cluster]\u001b[0m\n"
          ]
        },
        {
          "name": "stderr",
          "output_type": "stream",
          "text": [
            "\u001b[92mINFO \u001b[0m:      aggregate_fit: received 10 results and 0 failures\n",
            "\u001b[92mINFO \u001b[0m:      configure_evaluate: strategy sampled 10 clients (out of 10)\n"
          ]
        },
        {
          "name": "stdout",
          "output_type": "stream",
          "text": [
            "\u001b[36m(ClientAppActor pid=4664)\u001b[0m Epoch 9: train loss 0.004399, accuracy 0.955333\u001b[32m [repeated 5x across cluster]\u001b[0m\n",
            "\u001b[36m(ClientAppActor pid=4664)\u001b[0m [Client 5] evaluate, config: {}\n",
            "\u001b[36m(ClientAppActor pid=4664)\u001b[0m Client 5 loss 0.06536543202400208\n",
            "\u001b[36m(ClientAppActor pid=4664)\u001b[0m Client 5 accuracy 0.604\n",
            "\u001b[36m(ClientAppActor pid=9332)\u001b[0m [Client 1] evaluate, config: {}\u001b[32m [repeated 5x across cluster]\u001b[0m\n",
            "\u001b[36m(ClientAppActor pid=19480)\u001b[0m Client 0 loss 0.0693050103187561\u001b[32m [repeated 4x across cluster]\u001b[0m\n",
            "\u001b[36m(ClientAppActor pid=19480)\u001b[0m Client 0 accuracy 0.57\u001b[32m [repeated 4x across cluster]\u001b[0m\n"
          ]
        },
        {
          "name": "stderr",
          "output_type": "stream",
          "text": [
            "\u001b[92mINFO \u001b[0m:      aggregate_evaluate: received 10 results and 0 failures\n",
            "\u001b[92mINFO \u001b[0m:      \n",
            "\u001b[92mINFO \u001b[0m:      [ROUND 7]\n",
            "\u001b[92mINFO \u001b[0m:      configure_fit: strategy sampled 10 clients (out of 10)\n"
          ]
        },
        {
          "name": "stdout",
          "output_type": "stream",
          "text": [
            "\u001b[36m(ClientAppActor pid=9332)\u001b[0m [Client 0] fit, config: {}\n",
            "\u001b[36m(ClientAppActor pid=9332)\u001b[0m [Client 2] evaluate, config: {}\u001b[32m [repeated 4x across cluster]\u001b[0m\n",
            "\u001b[36m(ClientAppActor pid=9332)\u001b[0m Client 2 loss 0.0761944396495819\u001b[32m [repeated 5x across cluster]\u001b[0m\n",
            "\u001b[36m(ClientAppActor pid=9332)\u001b[0m Client 2 accuracy 0.552\u001b[32m [repeated 5x across cluster]\u001b[0m\n",
            "\u001b[36m(ClientAppActor pid=9332)\u001b[0m Epoch 0: train loss 0.035379, accuracy 0.654000\n",
            "\u001b[36m(ClientAppActor pid=20224)\u001b[0m [Client 2] fit, config: {}\u001b[32m [repeated 5x across cluster]\u001b[0m\n",
            "\u001b[36m(ClientAppActor pid=20224)\u001b[0m Epoch 0: train loss 0.037056, accuracy 0.624667\u001b[32m [repeated 11x across cluster]\u001b[0m\n",
            "\u001b[36m(ClientAppActor pid=37272)\u001b[0m [Client 6] fit, config: {}\u001b[32m [repeated 2x across cluster]\u001b[0m\n",
            "\u001b[36m(ClientAppActor pid=9332)\u001b[0m Epoch 5: train loss 0.003831, accuracy 0.971111\u001b[32m [repeated 19x across cluster]\u001b[0m\n",
            "\u001b[36m(ClientAppActor pid=20224)\u001b[0m Epoch 5: train loss 0.004055, accuracy 0.963333\u001b[32m [repeated 20x across cluster]\u001b[0m\n",
            "\u001b[36m(ClientAppActor pid=9332)\u001b[0m [Client 3] fit, config: {}\n",
            "\u001b[36m(ClientAppActor pid=4664)\u001b[0m Epoch 9: train loss 0.005718, accuracy 0.938000\u001b[32m [repeated 16x across cluster]\u001b[0m\n",
            "\u001b[36m(ClientAppActor pid=4664)\u001b[0m [Client 5] fit, config: {}\n",
            "\u001b[36m(ClientAppActor pid=9332)\u001b[0m Epoch 2: train loss 0.014004, accuracy 0.854000\u001b[32m [repeated 17x across cluster]\u001b[0m\n",
            "\u001b[36m(ClientAppActor pid=4664)\u001b[0m Epoch 4: train loss 0.006380, accuracy 0.940222\u001b[32m [repeated 6x across cluster]\u001b[0m\n",
            "\u001b[36m(ClientAppActor pid=9332)\u001b[0m Epoch 7: train loss 0.002910, accuracy 0.972889\u001b[32m [repeated 5x across cluster]\u001b[0m\n"
          ]
        },
        {
          "name": "stderr",
          "output_type": "stream",
          "text": [
            "\u001b[92mINFO \u001b[0m:      aggregate_fit: received 10 results and 0 failures\n",
            "\u001b[92mINFO \u001b[0m:      configure_evaluate: strategy sampled 10 clients (out of 10)\n"
          ]
        },
        {
          "name": "stdout",
          "output_type": "stream",
          "text": [
            "\u001b[36m(ClientAppActor pid=4664)\u001b[0m Epoch 9: train loss 0.004653, accuracy 0.949333\u001b[32m [repeated 5x across cluster]\u001b[0m\n",
            "\u001b[36m(ClientAppActor pid=4664)\u001b[0m [Client 2] evaluate, config: {}\n",
            "\u001b[36m(ClientAppActor pid=4664)\u001b[0m Client 2 loss 0.07729597854614258\n",
            "\u001b[36m(ClientAppActor pid=4664)\u001b[0m Client 2 accuracy 0.554\n",
            "\u001b[36m(ClientAppActor pid=4664)\u001b[0m [Client 9] evaluate, config: {}\u001b[32m [repeated 5x across cluster]\u001b[0m\n",
            "\u001b[36m(ClientAppActor pid=37272)\u001b[0m Client 0 loss 0.06962862133979797\u001b[32m [repeated 4x across cluster]\u001b[0m\n",
            "\u001b[36m(ClientAppActor pid=37272)\u001b[0m Client 0 accuracy 0.55\u001b[32m [repeated 4x across cluster]\u001b[0m\n"
          ]
        },
        {
          "name": "stderr",
          "output_type": "stream",
          "text": [
            "\u001b[92mINFO \u001b[0m:      aggregate_evaluate: received 10 results and 0 failures\n",
            "\u001b[92mINFO \u001b[0m:      \n",
            "\u001b[92mINFO \u001b[0m:      [ROUND 8]\n",
            "\u001b[92mINFO \u001b[0m:      configure_fit: strategy sampled 10 clients (out of 10)\n"
          ]
        },
        {
          "name": "stdout",
          "output_type": "stream",
          "text": [
            "\u001b[36m(ClientAppActor pid=8560)\u001b[0m [Client 4] evaluate, config: {}\u001b[32m [repeated 4x across cluster]\u001b[0m\n",
            "\u001b[36m(ClientAppActor pid=8560)\u001b[0m Client 4 loss 0.06128369760513306\u001b[32m [repeated 5x across cluster]\u001b[0m\n",
            "\u001b[36m(ClientAppActor pid=8560)\u001b[0m Client 4 accuracy 0.596\u001b[32m [repeated 5x across cluster]\u001b[0m\n",
            "\u001b[36m(ClientAppActor pid=8560)\u001b[0m [Client 5] fit, config: {}\n",
            "\u001b[36m(ClientAppActor pid=8560)\u001b[0m Epoch 0: train loss 0.036200, accuracy 0.646444\n",
            "\u001b[36m(ClientAppActor pid=37272)\u001b[0m [Client 7] fit, config: {}\u001b[32m [repeated 4x across cluster]\u001b[0m\n",
            "\u001b[36m(ClientAppActor pid=9332)\u001b[0m Epoch 0: train loss 0.035549, accuracy 0.650667\u001b[32m [repeated 11x across cluster]\u001b[0m\n",
            "\u001b[36m(ClientAppActor pid=19480)\u001b[0m [Client 6] fit, config: {}\u001b[32m [repeated 3x across cluster]\u001b[0m\n",
            "\u001b[36m(ClientAppActor pid=10812)\u001b[0m Epoch 2: train loss 0.011811, accuracy 0.868222\u001b[32m [repeated 20x across cluster]\u001b[0m\n",
            "\u001b[36m(ClientAppActor pid=4792)\u001b[0m Epoch 7: train loss 0.002379, accuracy 0.979333\u001b[32m [repeated 17x across cluster]\u001b[0m\n",
            "\u001b[36m(ClientAppActor pid=8560)\u001b[0m [Client 9] fit, config: {}\n",
            "\u001b[36m(ClientAppActor pid=9332)\u001b[0m Epoch 7: train loss 0.003144, accuracy 0.968889\u001b[32m [repeated 18x across cluster]\u001b[0m\n",
            "\u001b[36m(ClientAppActor pid=4792)\u001b[0m [Client 0] fit, config: {}\n",
            "\u001b[36m(ClientAppActor pid=8560)\u001b[0m Epoch 2: train loss 0.011379, accuracy 0.878000\u001b[32m [repeated 17x across cluster]\u001b[0m\n",
            "\u001b[36m(ClientAppActor pid=4792)\u001b[0m Epoch 4: train loss 0.004665, accuracy 0.957333\u001b[32m [repeated 6x across cluster]\u001b[0m\n",
            "\u001b[36m(ClientAppActor pid=8560)\u001b[0m Epoch 7: train loss 0.003173, accuracy 0.970667\u001b[32m [repeated 5x across cluster]\u001b[0m\n"
          ]
        },
        {
          "name": "stderr",
          "output_type": "stream",
          "text": [
            "\u001b[92mINFO \u001b[0m:      aggregate_fit: received 10 results and 0 failures\n",
            "\u001b[92mINFO \u001b[0m:      configure_evaluate: strategy sampled 10 clients (out of 10)\n"
          ]
        },
        {
          "name": "stdout",
          "output_type": "stream",
          "text": [
            "\u001b[36m(ClientAppActor pid=4792)\u001b[0m Epoch 9: train loss 0.007102, accuracy 0.921111\u001b[32m [repeated 5x across cluster]\u001b[0m\n",
            "\u001b[36m(ClientAppActor pid=4792)\u001b[0m [Client 3] evaluate, config: {}\n",
            "\u001b[36m(ClientAppActor pid=4792)\u001b[0m Client 3 loss 0.062258791923522946\n",
            "\u001b[36m(ClientAppActor pid=4792)\u001b[0m Client 3 accuracy 0.592\n",
            "\u001b[36m(ClientAppActor pid=4792)\u001b[0m [Client 6] evaluate, config: {}\u001b[32m [repeated 5x across cluster]\u001b[0m\n",
            "\u001b[36m(ClientAppActor pid=9332)\u001b[0m Client 8 loss 0.06127790689468384\u001b[32m [repeated 4x across cluster]\u001b[0m\n",
            "\u001b[36m(ClientAppActor pid=9332)\u001b[0m Client 8 accuracy 0.602\u001b[32m [repeated 4x across cluster]\u001b[0m\n"
          ]
        },
        {
          "name": "stderr",
          "output_type": "stream",
          "text": [
            "\u001b[92mINFO \u001b[0m:      aggregate_evaluate: received 10 results and 0 failures\n",
            "\u001b[92mINFO \u001b[0m:      \n",
            "\u001b[92mINFO \u001b[0m:      [ROUND 9]\n",
            "\u001b[92mINFO \u001b[0m:      configure_fit: strategy sampled 10 clients (out of 10)\n"
          ]
        },
        {
          "name": "stdout",
          "output_type": "stream",
          "text": [
            "\u001b[36m(ClientAppActor pid=9332)\u001b[0m [Client 7] evaluate, config: {}\u001b[32m [repeated 4x across cluster]\u001b[0m\n",
            "\u001b[36m(ClientAppActor pid=9332)\u001b[0m Client 7 loss 0.06411924290657044\u001b[32m [repeated 5x across cluster]\u001b[0m\n",
            "\u001b[36m(ClientAppActor pid=9332)\u001b[0m Client 7 accuracy 0.594\u001b[32m [repeated 5x across cluster]\u001b[0m\n",
            "\u001b[36m(ClientAppActor pid=9332)\u001b[0m [Client 4] fit, config: {}\n",
            "\u001b[36m(ClientAppActor pid=9332)\u001b[0m Epoch 0: train loss 0.034808, accuracy 0.662444\n",
            "\u001b[36m(ClientAppActor pid=10812)\u001b[0m [Client 9] fit, config: {}\u001b[32m [repeated 4x across cluster]\u001b[0m\n",
            "\u001b[36m(ClientAppActor pid=9332)\u001b[0m Epoch 3: train loss 0.007226, accuracy 0.925333\u001b[32m [repeated 12x across cluster]\u001b[0m\n",
            "\u001b[36m(ClientAppActor pid=20224)\u001b[0m [Client 3] fit, config: {}\u001b[32m [repeated 3x across cluster]\u001b[0m\n",
            "\u001b[36m(ClientAppActor pid=19480)\u001b[0m Epoch 2: train loss 0.009070, accuracy 0.900222\u001b[32m [repeated 19x across cluster]\u001b[0m\n",
            "\u001b[36m(ClientAppActor pid=37272)\u001b[0m Epoch 7: train loss 0.001418, accuracy 0.990667\u001b[32m [repeated 19x across cluster]\u001b[0m\n",
            "\u001b[36m(ClientAppActor pid=9332)\u001b[0m [Client 2] fit, config: {}\n",
            "\u001b[36m(ClientAppActor pid=37272)\u001b[0m Epoch 9: train loss 0.000250, accuracy 0.999111\u001b[32m [repeated 18x across cluster]\u001b[0m\n",
            "\u001b[36m(ClientAppActor pid=37272)\u001b[0m [Client 5] fit, config: {}\n",
            "\u001b[36m(ClientAppActor pid=9332)\u001b[0m Epoch 2: train loss 0.009739, accuracy 0.891556\u001b[32m [repeated 16x across cluster]\u001b[0m\n",
            "\u001b[36m(ClientAppActor pid=37272)\u001b[0m Epoch 4: train loss 0.002895, accuracy 0.980889\u001b[32m [repeated 5x across cluster]\u001b[0m\n",
            "\u001b[36m(ClientAppActor pid=37272)\u001b[0m Epoch 7: train loss 0.004999, accuracy 0.949556\u001b[32m [repeated 6x across cluster]\u001b[0m\n"
          ]
        },
        {
          "name": "stderr",
          "output_type": "stream",
          "text": [
            "\u001b[92mINFO \u001b[0m:      aggregate_fit: received 10 results and 0 failures\n",
            "\u001b[92mINFO \u001b[0m:      configure_evaluate: strategy sampled 10 clients (out of 10)\n"
          ]
        },
        {
          "name": "stdout",
          "output_type": "stream",
          "text": [
            "\u001b[36m(ClientAppActor pid=37272)\u001b[0m Epoch 9: train loss 0.003149, accuracy 0.967333\u001b[32m [repeated 4x across cluster]\u001b[0m\n",
            "\u001b[36m(ClientAppActor pid=37272)\u001b[0m [Client 0] evaluate, config: {}\n",
            "\u001b[36m(ClientAppActor pid=37272)\u001b[0m Client 0 loss 0.07799651002883912\n",
            "\u001b[36m(ClientAppActor pid=37272)\u001b[0m Client 0 accuracy 0.568\n",
            "\u001b[36m(ClientAppActor pid=10812)\u001b[0m [Client 3] evaluate, config: {}\u001b[32m [repeated 5x across cluster]\u001b[0m\n",
            "\u001b[36m(ClientAppActor pid=4792)\u001b[0m Client 9 loss 0.07542450714111328\u001b[32m [repeated 4x across cluster]\u001b[0m\n",
            "\u001b[36m(ClientAppActor pid=4792)\u001b[0m Client 9 accuracy 0.562\u001b[32m [repeated 4x across cluster]\u001b[0m\n"
          ]
        },
        {
          "name": "stderr",
          "output_type": "stream",
          "text": [
            "\u001b[92mINFO \u001b[0m:      aggregate_evaluate: received 10 results and 0 failures\n",
            "\u001b[92mINFO \u001b[0m:      \n",
            "\u001b[92mINFO \u001b[0m:      [ROUND 10]\n",
            "\u001b[92mINFO \u001b[0m:      configure_fit: strategy sampled 10 clients (out of 10)\n"
          ]
        },
        {
          "name": "stdout",
          "output_type": "stream",
          "text": [
            "\u001b[36m(ClientAppActor pid=20224)\u001b[0m [Client 6] evaluate, config: {}\u001b[32m [repeated 4x across cluster]\u001b[0m\n",
            "\u001b[36m(ClientAppActor pid=20224)\u001b[0m Client 6 loss 0.06816174221038819\u001b[32m [repeated 5x across cluster]\u001b[0m\n",
            "\u001b[36m(ClientAppActor pid=20224)\u001b[0m Client 6 accuracy 0.598\u001b[32m [repeated 5x across cluster]\u001b[0m\n",
            "\u001b[36m(ClientAppActor pid=20224)\u001b[0m [Client 9] fit, config: {}\n",
            "\u001b[36m(ClientAppActor pid=20224)\u001b[0m Epoch 0: train loss 0.033467, accuracy 0.672000\n",
            "\u001b[36m(ClientAppActor pid=19480)\u001b[0m [Client 1] fit, config: {}\u001b[32m [repeated 4x across cluster]\u001b[0m\n",
            "\u001b[36m(ClientAppActor pid=20224)\u001b[0m Epoch 3: train loss 0.004639, accuracy 0.960222\u001b[32m [repeated 12x across cluster]\u001b[0m\n",
            "\u001b[36m(ClientAppActor pid=9332)\u001b[0m [Client 8] fit, config: {}\u001b[32m [repeated 3x across cluster]\u001b[0m\n",
            "\u001b[36m(ClientAppActor pid=19480)\u001b[0m Epoch 3: train loss 0.004413, accuracy 0.963778\u001b[32m [repeated 18x across cluster]\u001b[0m\n",
            "\u001b[36m(ClientAppActor pid=4792)\u001b[0m Epoch 5: train loss 0.001855, accuracy 0.988000\u001b[32m [repeated 20x across cluster]\u001b[0m\n",
            "\u001b[36m(ClientAppActor pid=20224)\u001b[0m [Client 4] fit, config: {}\n",
            "\u001b[36m(ClientAppActor pid=37272)\u001b[0m Epoch 9: train loss 0.007976, accuracy 0.920222\u001b[32m [repeated 16x across cluster]\u001b[0m\n",
            "\u001b[36m(ClientAppActor pid=37272)\u001b[0m [Client 3] fit, config: {}\n",
            "\u001b[36m(ClientAppActor pid=20224)\u001b[0m Epoch 2: train loss 0.008798, accuracy 0.908889\u001b[32m [repeated 17x across cluster]\u001b[0m\n",
            "\u001b[36m(ClientAppActor pid=37272)\u001b[0m Epoch 4: train loss 0.002632, accuracy 0.983111\u001b[32m [repeated 6x across cluster]\u001b[0m\n",
            "\u001b[36m(ClientAppActor pid=20224)\u001b[0m Epoch 7: train loss 0.003308, accuracy 0.966889\u001b[32m [repeated 5x across cluster]\u001b[0m\n"
          ]
        },
        {
          "name": "stderr",
          "output_type": "stream",
          "text": [
            "\u001b[92mINFO \u001b[0m:      aggregate_fit: received 10 results and 0 failures\n",
            "\u001b[92mINFO \u001b[0m:      configure_evaluate: strategy sampled 10 clients (out of 10)\n"
          ]
        },
        {
          "name": "stdout",
          "output_type": "stream",
          "text": [
            "\u001b[36m(ClientAppActor pid=37272)\u001b[0m Epoch 9: train loss 0.007443, accuracy 0.920222\u001b[32m [repeated 5x across cluster]\u001b[0m\n",
            "\u001b[36m(ClientAppActor pid=37272)\u001b[0m [Client 1] evaluate, config: {}\n",
            "\u001b[36m(ClientAppActor pid=37272)\u001b[0m Client 1 loss 0.06864355707168579\n",
            "\u001b[36m(ClientAppActor pid=37272)\u001b[0m Client 1 accuracy 0.578\n",
            "\u001b[36m(ClientAppActor pid=4792)\u001b[0m [Client 6] evaluate, config: {}\u001b[32m [repeated 5x across cluster]\u001b[0m\n",
            "\u001b[36m(ClientAppActor pid=10812)\u001b[0m Client 2 loss 0.08352172780036926\u001b[32m [repeated 4x across cluster]\u001b[0m\n",
            "\u001b[36m(ClientAppActor pid=10812)\u001b[0m Client 2 accuracy 0.554\u001b[32m [repeated 4x across cluster]\u001b[0m\n"
          ]
        },
        {
          "name": "stderr",
          "output_type": "stream",
          "text": [
            "\u001b[92mINFO \u001b[0m:      aggregate_evaluate: received 10 results and 0 failures\n",
            "\u001b[92mINFO \u001b[0m:      \n",
            "\u001b[92mINFO \u001b[0m:      [SUMMARY]\n",
            "\u001b[92mINFO \u001b[0m:      Run finished 10 round(s) in 607.77s\n",
            "\u001b[92mINFO \u001b[0m:      \tHistory (loss, distributed):\n",
            "\u001b[92mINFO \u001b[0m:      \t\tround 1: 0.052690201830863946\n",
            "\u001b[92mINFO \u001b[0m:      \t\tround 2: 0.04209618947505951\n",
            "\u001b[92mINFO \u001b[0m:      \t\tround 3: 0.04714507932662963\n",
            "\u001b[92mINFO \u001b[0m:      \t\tround 4: 0.055393397188186644\n",
            "\u001b[92mINFO \u001b[0m:      \t\tround 5: 0.06200065534114838\n",
            "\u001b[92mINFO \u001b[0m:      \t\tround 6: 0.06476092817783355\n",
            "\u001b[92mINFO \u001b[0m:      \t\tround 7: 0.06447640590667725\n",
            "\u001b[92mINFO \u001b[0m:      \t\tround 8: 0.06781414259672165\n",
            "\u001b[92mINFO \u001b[0m:      \t\tround 9: 0.07215367721319199\n",
            "\u001b[92mINFO \u001b[0m:      \t\tround 10: 0.06837325968742371\n",
            "\u001b[92mINFO \u001b[0m:      \n"
          ]
        },
        {
          "data": {
            "text/plain": [
              "History (loss, distributed):\n",
              "\tround 1: 0.052690201830863946\n",
              "\tround 2: 0.04209618947505951\n",
              "\tround 3: 0.04714507932662963\n",
              "\tround 4: 0.055393397188186644\n",
              "\tround 5: 0.06200065534114838\n",
              "\tround 6: 0.06476092817783355\n",
              "\tround 7: 0.06447640590667725\n",
              "\tround 8: 0.06781414259672165\n",
              "\tround 9: 0.07215367721319199\n",
              "\tround 10: 0.06837325968742371"
            ]
          },
          "execution_count": 13,
          "metadata": {},
          "output_type": "execute_result"
        }
      ],
      "source": [
        "fl.simulation.start_simulation(\n",
        "    client_fn=client_fn,\n",
        "    num_clients=10,\n",
        "    config=fl.server.ServerConfig(num_rounds=10),\n",
        "    client_resources=client_resources,\n",
        ")"
      ]
    },
    {
      "cell_type": "code",
      "execution_count": 2,
      "metadata": {},
      "outputs": [
        {
          "name": "stdout",
          "output_type": "stream",
          "text": [
            "MOOWMMWO\n"
          ]
        }
      ],
      "source": []
    },
    {
      "cell_type": "code",
      "execution_count": null,
      "metadata": {},
      "outputs": [],
      "source": []
    }
  ],
  "metadata": {
    "colab": {
      "provenance": []
    },
    "kernelspec": {
      "display_name": "Python 3",
      "name": "python3"
    },
    "language_info": {
      "codemirror_mode": {
        "name": "ipython",
        "version": 3
      },
      "file_extension": ".py",
      "mimetype": "text/x-python",
      "name": "python",
      "nbconvert_exporter": "python",
      "pygments_lexer": "ipython3",
      "version": "3.12.4"
    }
  },
  "nbformat": 4,
  "nbformat_minor": 0
}
